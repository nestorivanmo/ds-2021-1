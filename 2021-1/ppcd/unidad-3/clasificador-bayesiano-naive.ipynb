{
 "metadata": {
  "language_info": {
   "codemirror_mode": {
    "name": "ipython",
    "version": 3
   },
   "file_extension": ".py",
   "mimetype": "text/x-python",
   "name": "python",
   "nbconvert_exporter": "python",
   "pygments_lexer": "ipython3",
   "version": "3.8.5-final"
  },
  "orig_nbformat": 2,
  "kernelspec": {
   "name": "python3",
   "display_name": "Python 3",
   "language": "python"
  }
 },
 "nbformat": 4,
 "nbformat_minor": 2,
 "cells": [
  {
   "source": [
    "# Clasificador Bayesiano Inocente (Naive)\n",
    "\n",
    "Algoritmo conceptual y se dice que es inocente porque se presupone que las características son indepndientes una de la otra. Se comporta bien cuando se tienen variables categóricas y es bastante bueno cuando se tienen variables categóricas con gran cantidad de categorías. No es tan bueno cuando se trata de variables predictoras cuantitativas. \n",
    "\n",
    "$$P(A|B) = \\frac{P(B|A)\\cdot P(A)}{P(B)}$$\n",
    "\n",
    "**Ejemplos.**\n",
    "\n",
    "- Reconocimiento de autoría de textos\n",
    "- Detección automático de plagio\n",
    "- Compra en línea de clientes (hábitos de compra)\n",
    "\n",
    "## Función de predicción\n",
    "Queremos obtener a que clase pertenece una observación basado en un vector de características para predicción (vector de contadores/frecuencias).\n",
    "$$z_0 = (y_0, x_0)$$\n",
    "donde $y_0$ es la clase de la observación y $x_0$ el vector predictor. La función predictora: $$f(\\cdot|D)$$ donde $D$ es el conjunto de observaciones de entrenamiento. La predicción de $y_0$ es $$\\hat{y_0} = f(x_0|D)$$ Recordemos que $x_0$ es un vector de contadores: cada elemento $x_0$ almacena el número de veces en que un tipo particular (categoría) o nivel de una variable cualitativa fue observada. Sea $x_{0_j}$ el número de veces que en un tipo $t_j$ aparece en el documento $F_0$. Entonces $x_0 = [x_{0,1}, \\ldots, x_{0,n}]^T$ contiene las frecuencias de los tipos para el documento $F_0$ y existen $n$ tipos diferentes dentro del conjunto de tipos $T$. El propietario (clase) de $F_0$ se denota como $y_0$ y pertenece al conjnuto de propietarios: $y_0 \\in {P1, \\ldots, P_m}$; la propabilidad de que el tipo $t_j$ se encuentre en $F_0$ está dada por: $$\\pi_{k,j} = Pr(t_j \\in F_0|y_0 = P_k)$$ y esta última probabilidad es específica para cada clase pero no varía entre documentos del mismo propietario. La sumatoria de $\\pi_{k,j}$ es igual a $1$. \n",
    "\n",
    "Finalmente, la función de predicción se define como: $$\\hat{y_0} = f(x_0|D) = \\text{arg máx}\\{Pr(x_0|y_0 = P_1), \\ldots, Pr(x_0|y_0 = P_m)\\}$$"
   ],
   "cell_type": "markdown",
   "metadata": {}
  },
  {
   "source": [
    "## Probabilidad posterior\n",
    "\n",
    "La función de Bayes se puede mejorar al considerar información previa. $$Pr(y_0 = P_k | x_0) = \\frac{P_r(x_0|y_0 = P_k) \\times P_r(y_0 = P_k)}{P_r(x_0)}$$ y finalmente $$\\hat{y_0} = \\text{arg máx}\\{P_r(x_0|y_0 = P_k) \\times \\ldots\\} = \\ldots = \\text{arg máx}\\left\\{\\log (\\hat{\\pi}_k) + \\sum_{j=1}^nx_{0,j}\\log (\\hat{\\pi}_{k,j})\\right\\}$$"
   ],
   "cell_type": "markdown",
   "metadata": {}
  },
  {
   "source": [
    "## Detector de spam\n",
    "\n",
    "URL dataset: https://archive.ics.uci.edu/ml/datasets/SMS+Spam+Collection\n",
    "\n",
    "Utilizaremos *Bag of Words* (BoW) que es un término usado para ..."
   ],
   "cell_type": "markdown",
   "metadata": {}
  },
  {
   "source": [
    "### Ejemplo sencillo de CountVectorizer"
   ],
   "cell_type": "markdown",
   "metadata": {}
  },
  {
   "cell_type": "code",
   "execution_count": 6,
   "metadata": {},
   "outputs": [],
   "source": [
    "import matplotlib.pyplot as plt\n",
    "import numpy as np\n",
    "import pandas as pd"
   ]
  },
  {
   "cell_type": "code",
   "execution_count": 7,
   "metadata": {},
   "outputs": [
    {
     "output_type": "stream",
     "name": "stdout",
     "text": [
      "CountVectorizer()\n"
     ]
    }
   ],
   "source": [
    "documents = [   'Hello, how are you', \n",
    "                'Win money, win from home', \n",
    "                'Call me now', \n",
    "                'Hello, can I call you?'\n",
    "            ]\n",
    "from sklearn.feature_extraction.text import CountVectorizer\n",
    "count_ = CountVectorizer()\n",
    "print(count_)"
   ]
  },
  {
   "cell_type": "code",
   "execution_count": 8,
   "metadata": {},
   "outputs": [
    {
     "output_type": "execute_result",
     "data": {
      "text/plain": [
       "['are',\n",
       " 'call',\n",
       " 'can',\n",
       " 'from',\n",
       " 'hello',\n",
       " 'home',\n",
       " 'how',\n",
       " 'me',\n",
       " 'money',\n",
       " 'now',\n",
       " 'win',\n",
       " 'you']"
      ]
     },
     "metadata": {},
     "execution_count": 8
    }
   ],
   "source": [
    "count_.fit(documents) #aplica el conteo de las observaciones\n",
    "names = count_.get_feature_names()\n",
    "names"
   ]
  },
  {
   "cell_type": "code",
   "execution_count": 9,
   "metadata": {},
   "outputs": [
    {
     "output_type": "execute_result",
     "data": {
      "text/plain": [
       "array([[1, 0, 0, 0, 1, 0, 1, 0, 0, 0, 0, 1],\n",
       "       [0, 0, 0, 1, 0, 1, 0, 0, 1, 0, 2, 0],\n",
       "       [0, 1, 0, 0, 0, 0, 0, 1, 0, 1, 0, 0],\n",
       "       [0, 1, 1, 0, 1, 0, 0, 0, 0, 0, 0, 1]])"
      ]
     },
     "metadata": {},
     "execution_count": 9
    }
   ],
   "source": [
    "doc_array = count_.transform(documents).toarray()\n",
    "doc_array"
   ]
  },
  {
   "cell_type": "code",
   "execution_count": 10,
   "metadata": {},
   "outputs": [
    {
     "output_type": "execute_result",
     "data": {
      "text/plain": [
       "   are  call  can  from  hello  home  how  me  money  now  win  you\n",
       "0    1     0    0     0      1     0    1   0      0    0    0    1\n",
       "1    0     0    0     1      0     1    0   0      1    0    2    0\n",
       "2    0     1    0     0      0     0    0   1      0    1    0    0\n",
       "3    0     1    1     0      1     0    0   0      0    0    0    1"
      ],
      "text/html": "<div>\n<style scoped>\n    .dataframe tbody tr th:only-of-type {\n        vertical-align: middle;\n    }\n\n    .dataframe tbody tr th {\n        vertical-align: top;\n    }\n\n    .dataframe thead th {\n        text-align: right;\n    }\n</style>\n<table border=\"1\" class=\"dataframe\">\n  <thead>\n    <tr style=\"text-align: right;\">\n      <th></th>\n      <th>are</th>\n      <th>call</th>\n      <th>can</th>\n      <th>from</th>\n      <th>hello</th>\n      <th>home</th>\n      <th>how</th>\n      <th>me</th>\n      <th>money</th>\n      <th>now</th>\n      <th>win</th>\n      <th>you</th>\n    </tr>\n  </thead>\n  <tbody>\n    <tr>\n      <th>0</th>\n      <td>1</td>\n      <td>0</td>\n      <td>0</td>\n      <td>0</td>\n      <td>1</td>\n      <td>0</td>\n      <td>1</td>\n      <td>0</td>\n      <td>0</td>\n      <td>0</td>\n      <td>0</td>\n      <td>1</td>\n    </tr>\n    <tr>\n      <th>1</th>\n      <td>0</td>\n      <td>0</td>\n      <td>0</td>\n      <td>1</td>\n      <td>0</td>\n      <td>1</td>\n      <td>0</td>\n      <td>0</td>\n      <td>1</td>\n      <td>0</td>\n      <td>2</td>\n      <td>0</td>\n    </tr>\n    <tr>\n      <th>2</th>\n      <td>0</td>\n      <td>1</td>\n      <td>0</td>\n      <td>0</td>\n      <td>0</td>\n      <td>0</td>\n      <td>0</td>\n      <td>1</td>\n      <td>0</td>\n      <td>1</td>\n      <td>0</td>\n      <td>0</td>\n    </tr>\n    <tr>\n      <th>3</th>\n      <td>0</td>\n      <td>1</td>\n      <td>1</td>\n      <td>0</td>\n      <td>1</td>\n      <td>0</td>\n      <td>0</td>\n      <td>0</td>\n      <td>0</td>\n      <td>0</td>\n      <td>0</td>\n      <td>1</td>\n    </tr>\n  </tbody>\n</table>\n</div>"
     },
     "metadata": {},
     "execution_count": 10
    }
   ],
   "source": [
    "frequency_matrix = pd.DataFrame(data=doc_array, columns=names) #nos va a indicar la frecuencia de cada palabra en cada documento\n",
    "frequency_matrix #los renglones son el número de documento"
   ]
  },
  {
   "source": [
    "### Inicio del ejemplo con el dataset de SMS"
   ],
   "cell_type": "markdown",
   "metadata": {}
  },
  {
   "cell_type": "code",
   "execution_count": 11,
   "metadata": {},
   "outputs": [
    {
     "output_type": "execute_result",
     "data": {
      "text/plain": [
       "  label                                        sms_message\n",
       "0   ham  Go until jurong point, crazy.. Available only ...\n",
       "1   ham                      Ok lar... Joking wif u oni...\n",
       "2  spam  Free entry in 2 a wkly comp to win FA Cup fina...\n",
       "3   ham  U dun say so early hor... U c already then say...\n",
       "4   ham  Nah I don't think he goes to usf, he lives aro..."
      ],
      "text/html": "<div>\n<style scoped>\n    .dataframe tbody tr th:only-of-type {\n        vertical-align: middle;\n    }\n\n    .dataframe tbody tr th {\n        vertical-align: top;\n    }\n\n    .dataframe thead th {\n        text-align: right;\n    }\n</style>\n<table border=\"1\" class=\"dataframe\">\n  <thead>\n    <tr style=\"text-align: right;\">\n      <th></th>\n      <th>label</th>\n      <th>sms_message</th>\n    </tr>\n  </thead>\n  <tbody>\n    <tr>\n      <th>0</th>\n      <td>ham</td>\n      <td>Go until jurong point, crazy.. Available only ...</td>\n    </tr>\n    <tr>\n      <th>1</th>\n      <td>ham</td>\n      <td>Ok lar... Joking wif u oni...</td>\n    </tr>\n    <tr>\n      <th>2</th>\n      <td>spam</td>\n      <td>Free entry in 2 a wkly comp to win FA Cup fina...</td>\n    </tr>\n    <tr>\n      <th>3</th>\n      <td>ham</td>\n      <td>U dun say so early hor... U c already then say...</td>\n    </tr>\n    <tr>\n      <th>4</th>\n      <td>ham</td>\n      <td>Nah I don't think he goes to usf, he lives aro...</td>\n    </tr>\n  </tbody>\n</table>\n</div>"
     },
     "metadata": {},
     "execution_count": 11
    }
   ],
   "source": [
    "df = pd.read_csv('https://bit.ly/2kCy3CN', \n",
    "                   sep='\\t', \n",
    "                   names=['label','sms_message'])\n",
    "df.head()"
   ]
  },
  {
   "cell_type": "code",
   "execution_count": 12,
   "metadata": {},
   "outputs": [
    {
     "output_type": "execute_result",
     "data": {
      "text/plain": [
       "(5572, 2)"
      ]
     },
     "metadata": {},
     "execution_count": 12
    }
   ],
   "source": [
    "df.shape"
   ]
  },
  {
   "source": [
    "### Preprocesamiento\n",
    "\n",
    "Etiquetas de texto -> Etiquetas numéricas"
   ],
   "cell_type": "markdown",
   "metadata": {}
  },
  {
   "cell_type": "code",
   "execution_count": 13,
   "metadata": {},
   "outputs": [
    {
     "output_type": "execute_result",
     "data": {
      "text/plain": [
       "   label                                        sms_message\n",
       "0      0  Go until jurong point, crazy.. Available only ...\n",
       "1      0                      Ok lar... Joking wif u oni...\n",
       "2      1  Free entry in 2 a wkly comp to win FA Cup fina...\n",
       "3      0  U dun say so early hor... U c already then say...\n",
       "4      0  Nah I don't think he goes to usf, he lives aro..."
      ],
      "text/html": "<div>\n<style scoped>\n    .dataframe tbody tr th:only-of-type {\n        vertical-align: middle;\n    }\n\n    .dataframe tbody tr th {\n        vertical-align: top;\n    }\n\n    .dataframe thead th {\n        text-align: right;\n    }\n</style>\n<table border=\"1\" class=\"dataframe\">\n  <thead>\n    <tr style=\"text-align: right;\">\n      <th></th>\n      <th>label</th>\n      <th>sms_message</th>\n    </tr>\n  </thead>\n  <tbody>\n    <tr>\n      <th>0</th>\n      <td>0</td>\n      <td>Go until jurong point, crazy.. Available only ...</td>\n    </tr>\n    <tr>\n      <th>1</th>\n      <td>0</td>\n      <td>Ok lar... Joking wif u oni...</td>\n    </tr>\n    <tr>\n      <th>2</th>\n      <td>1</td>\n      <td>Free entry in 2 a wkly comp to win FA Cup fina...</td>\n    </tr>\n    <tr>\n      <th>3</th>\n      <td>0</td>\n      <td>U dun say so early hor... U c already then say...</td>\n    </tr>\n    <tr>\n      <th>4</th>\n      <td>0</td>\n      <td>Nah I don't think he goes to usf, he lives aro...</td>\n    </tr>\n  </tbody>\n</table>\n</div>"
     },
     "metadata": {},
     "execution_count": 13
    }
   ],
   "source": [
    "df.label = df.label.map({'ham':0, 'spam':1})\n",
    "df.head()"
   ]
  },
  {
   "source": [
    "### Conjuntos de entrenamiento y prueba"
   ],
   "cell_type": "markdown",
   "metadata": {}
  },
  {
   "cell_type": "code",
   "execution_count": 14,
   "metadata": {},
   "outputs": [
    {
     "output_type": "stream",
     "name": "stdout",
     "text": [
      "Completo      : 5572\nEntrenamiento : 4179\nPruebas       : 1393\n"
     ]
    }
   ],
   "source": [
    "from sklearn.model_selection import train_test_split\n",
    "X_train, X_test, y_train, y_test = train_test_split(df.sms_message, df.label, random_state=1)\n",
    "print(f'Completo      : {df.shape[0]}')\n",
    "print(f'Entrenamiento : {X_train.shape[0]}')\n",
    "print(f'Pruebas       : {X_test.shape[0]}')"
   ]
  },
  {
   "cell_type": "code",
   "execution_count": 16,
   "metadata": {},
   "outputs": [],
   "source": [
    "from sklearn.feature_extraction.text import CountVectorizer\n",
    "count_vector = CountVectorizer()\n",
    "training_ = count_vector.fit_transform(X_train)\n",
    "testing_ = count_vector.transform(X_test)"
   ]
  },
  {
   "source": [
    "### Predictor Bayesiano"
   ],
   "cell_type": "markdown",
   "metadata": {}
  },
  {
   "cell_type": "code",
   "execution_count": 24,
   "metadata": {},
   "outputs": [
    {
     "output_type": "execute_result",
     "data": {
      "text/plain": [
       "MultinomialNB()"
      ]
     },
     "metadata": {},
     "execution_count": 24
    }
   ],
   "source": [
    "from sklearn.naive_bayes import MultinomialNB\n",
    "naive_ = MultinomialNB()\n",
    "naive_.fit(training_, y_train)"
   ]
  },
  {
   "cell_type": "code",
   "execution_count": 25,
   "metadata": {},
   "outputs": [
    {
     "output_type": "execute_result",
     "data": {
      "text/plain": [
       "array([0, 0, 0, ..., 0, 1, 0])"
      ]
     },
     "metadata": {},
     "execution_count": 25
    }
   ],
   "source": [
    "predictions_ = naive_.predict(testing_)\n",
    "predictions_"
   ]
  },
  {
   "source": [
    "### Evaluación del modelo"
   ],
   "cell_type": "markdown",
   "metadata": {}
  },
  {
   "cell_type": "code",
   "execution_count": 41,
   "metadata": {},
   "outputs": [
    {
     "output_type": "stream",
     "name": "stdout",
     "text": [
      "Accuracy  : 0.9885139985642498\nPrecision : 0.9720670391061452\nRecall    : 0.9405405405405406\nF1        : 0.9560439560439562\n"
     ]
    }
   ],
   "source": [
    "from sklearn.metrics import accuracy_score, precision_score, recall_score, f1_score\n",
    "print('Accuracy  :', format(accuracy_score(y_test, predictions_)))\n",
    "print(f'Precision : {precision_score(y_test, predictions_)}')\n",
    "print('Recall    :', format(recall_score(y_test, predictions_)))\n",
    "print(f'F1        : {f1_score(y_test, predictions_)}')"
   ]
  },
  {
   "cell_type": "code",
   "execution_count": null,
   "metadata": {},
   "outputs": [],
   "source": []
  },
  {
   "cell_type": "code",
   "execution_count": null,
   "metadata": {},
   "outputs": [],
   "source": []
  },
  {
   "cell_type": "code",
   "execution_count": null,
   "metadata": {},
   "outputs": [],
   "source": []
  },
  {
   "cell_type": "code",
   "execution_count": null,
   "metadata": {},
   "outputs": [],
   "source": []
  }
 ]
}