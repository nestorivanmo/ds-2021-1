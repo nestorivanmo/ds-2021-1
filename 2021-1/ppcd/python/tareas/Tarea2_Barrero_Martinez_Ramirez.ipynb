{
  "nbformat": 4,
  "nbformat_minor": 0,
  "metadata": {
    "kernelspec": {
      "display_name": "Python 3",
      "language": "python",
      "name": "python3"
    },
    "language_info": {
      "codemirror_mode": {
        "name": "ipython",
        "version": 2
      },
      "file_extension": ".py",
      "mimetype": "text/x-python",
      "name": "python",
      "nbconvert_exporter": "python",
      "pygments_lexer": "ipython2",
      "version": "2.7.6"
    },
    "colab": {
      "name": "criptografía_equipo.ipynb",
      "provenance": [],
      "collapsed_sections": []
    }
  },
  "cells": [
    {
      "cell_type": "markdown",
      "metadata": {
        "collapsed": false,
        "pycharm": {
          "name": "#%% md\n"
        },
        "id": "DYLXKQsBpOo-"
      },
      "source": [
        "# Programa Criptografía 2\n",
        "\n",
        "## Autores\n",
        "- Adolfo Patricio Barrero Olguín\n",
        "- Néstor I. Martínez Ostoa\n",
        "- J. Alejandro Ramírez Bondi"
      ]
    },
    {
      "cell_type": "code",
      "metadata": {
        "pycharm": {
          "name": "#%%\n"
        },
        "id": "t9UBGts_pOo_"
      },
      "source": [
        "from itertools import zip_longest\n",
        "from operator import itemgetter"
      ],
      "execution_count": null,
      "outputs": []
    },
    {
      "cell_type": "code",
      "metadata": {
        "pycharm": {
          "name": "#%%\n"
        },
        "id": "rVW8K5dupOpH"
      },
      "source": [
        "def agrupador(n, col, c = 'Ç'):\n",
        "    \"\"\"\n",
        "    Recibe un iterable col y permite agruparlo de n en n.\n",
        "\n",
        "    Parametros\n",
        "    ----\n",
        "    n - int: número de agrupaciones que deseas hacer\n",
        "    col - iter: iterador sobre el cual deseas hacer las agrupaciones\n",
        "    c - string: define el caracter plantilla a utilizar en caso de que los\n",
        "                caracteres no llenen todos los espacios de la matriz (default Ç)\n",
        "    \n",
        "    Returns\n",
        "    list - Posee dimension (len(col)//n, n) contiene las agrupaciones (len(col)\n",
        "    //n) de col.\n",
        "    \"\"\"\n",
        "    args = [iter(col)] * n\n",
        "    agrupacion = list(zip_longest(*args))\n",
        "\n",
        "    reemplazar_none_con_c = lambda e : c if e == None else e\n",
        "    agrupacion = list(map(lambda lista : list(map(reemplazar_none_con_c, lista)),\n",
        "                          agrupacion))\n",
        "    return agrupacion"
      ],
      "execution_count": null,
      "outputs": []
    },
    {
      "cell_type": "code",
      "metadata": {
        "pycharm": {
          "name": "#%%\n"
        },
        "id": "ylTTgvOGpOpM"
      },
      "source": [
        "def transpuesta(m):\n",
        "    \"\"\"\n",
        "    Permite invertir filas por columnas de una matrix dada.\n",
        "\n",
        "    Recibe\n",
        "    ----\n",
        "    m - list of list: matriz nxm que deseamos hallar transpuesta\n",
        "\n",
        "    Regresa\n",
        "    ----\n",
        "    list of list - matriz mxn que es la traspuesta de m\n",
        "    \"\"\"\n",
        "    return list(zip(*m))"
      ],
      "execution_count": null,
      "outputs": []
    },
    {
      "cell_type": "code",
      "metadata": {
        "pycharm": {
          "name": "#%%\n"
        },
        "id": "_w2OUDwspOpQ"
      },
      "source": [
        "def agrupar_clave(clave, matriz):\n",
        "    \"\"\"\n",
        "    Permite asignar a cada columna de la matriz una clave\n",
        "\n",
        "    Parametros\n",
        "    ----\n",
        "    clave - string: cadena de longitud n\n",
        "    matriz - list of list: de mxn\n",
        "\n",
        "    Regresa\n",
        "    ----\n",
        "    dict - donde la clave ci esta asignada a la columna i de la matriz\n",
        "    \"\"\"\n",
        "    return dict(zip(clave, matriz))"
      ],
      "execution_count": null,
      "outputs": []
    },
    {
      "cell_type": "code",
      "metadata": {
        "pycharm": {
          "name": "#%%\n"
        },
        "id": "JdvDsH8TpOpT"
      },
      "source": [
        "def orden_definido(clave, agrupacion):\n",
        "    \"\"\"\n",
        "    Establece un orden a la agrupacion en base a la clave\n",
        "\n",
        "    Parametros\n",
        "    ----\n",
        "    clave - string: clave por la cual se desea agrupar\n",
        "    agrupacion - dict <string, list of string>: diccionario con clave caracter \n",
        "    (string de longitud 1)\n",
        "                y valores listas de caracter (string longitud 1)\n",
        "\n",
        "    Regresa\n",
        "    ----\n",
        "    List of tuples of string - Lista de tuplas de caracter (string longitud 1) \n",
        "    donde que contiene el orden\n",
        "                                dado por la clave de la agrupacion\n",
        "    \"\"\"\n",
        "    return itemgetter(*clave)(agrupacion)"
      ],
      "execution_count": null,
      "outputs": []
    },
    {
      "cell_type": "code",
      "metadata": {
        "pycharm": {
          "name": "#%%\n"
        },
        "id": "PWEzdhO9pOpW"
      },
      "source": [
        "def unir_listas_de_listas_cadenas(ordenaciones):\n",
        "    \"\"\"\n",
        "    Recibe una tupla regresa un string con todos los caracteres de las tupla\n",
        "\n",
        "    Parametros\n",
        "    ----\n",
        "    ordenaciones - tuple:\n",
        "\n",
        "    Regresa\n",
        "    ----\n",
        "    String con los caracteres de la tupla\n",
        "    \"\"\"\n",
        "    return \"\".join(map(\"\".join, ordenaciones))"
      ],
      "execution_count": null,
      "outputs": []
    },
    {
      "cell_type": "code",
      "metadata": {
        "pycharm": {
          "name": "#%%\n"
        },
        "id": "Nxd04P8VpOpY"
      },
      "source": [
        "def format_string(mensaje):\n",
        "    \"\"\"\n",
        "    Permite dar formato a una cadena de caracteres dada que posteriormente se \n",
        "    busque codificar.\n",
        "\n",
        "    Parámetros:\n",
        "    ----\n",
        "    mensaje - string:\n",
        "\n",
        "    Returns\n",
        "    ----\n",
        "    string sin espacios y con todos los caracteres en mayúsculas\n",
        "    \"\"\"\n",
        "    return list(mensaje.replace(\" \", \"\").upper())"
      ],
      "execution_count": null,
      "outputs": []
    },
    {
      "cell_type": "markdown",
      "metadata": {
        "collapsed": false,
        "pycharm": {
          "name": "#%% md\n"
        },
        "id": "timYEyTzpOpa"
      },
      "source": [
        "## Codificación"
      ]
    },
    {
      "cell_type": "code",
      "metadata": {
        "pycharm": {
          "name": "#%%\n"
        },
        "id": "FIPQqTlopOpa"
      },
      "source": [
        "def codificar(clave, mensaje):\n",
        "    \"\"\"\n",
        "    Permite codificar un mensaje con la clave y mensaje dada.\n",
        "\n",
        "    Parametros\n",
        "    ----\n",
        "    clave - string: clave con la que se desea codificar\n",
        "    mensaje - string: mensaje que se desea codificar\n",
        "\n",
        "    Returns\n",
        "    ----\n",
        "    mensaje codificado con base en la clave\n",
        "    \"\"\"\n",
        "    agrupacion_por_clave = agrupar_clave(clave, transpuesta(agrupador(len(clave),\n",
        "                                                                      mensaje)))\n",
        "    clave_ordenada = sorted(clave)\n",
        "    orden = orden_definido(clave_ordenada, agrupacion_por_clave)\n",
        "    mensaje_cifrado = unir_listas_de_listas_cadenas(orden)\n",
        "    return mensaje_cifrado"
      ],
      "execution_count": null,
      "outputs": []
    },
    {
      "cell_type": "markdown",
      "metadata": {
        "collapsed": false,
        "pycharm": {
          "name": "#%% md\n"
        },
        "id": "ePj3i4a9pOpc"
      },
      "source": [
        "## Decodificación"
      ]
    },
    {
      "cell_type": "code",
      "metadata": {
        "pycharm": {
          "name": "#%%\n"
        },
        "id": "6qQIaiYIpOpd"
      },
      "source": [
        "def decodificar(clave, mensaje):\n",
        "    \"\"\"\n",
        "    Permite decodificar un mensaje con la clave y mensaje codificado dado.\n",
        "\n",
        "    Parametros\n",
        "    ----\n",
        "    clave - string: clave con la que se desea decodificar\n",
        "    mensaje - string: mensaje que se desea decodificar\n",
        "\n",
        "    Returns\n",
        "    ----\n",
        "    mensaje decodificado con base en la clave\n",
        "    \"\"\"\n",
        "    agrupaciones = agrupador(len(mensaje) // len(clave), mensaje)\n",
        "    clave_ordenada = sorted(clave)\n",
        "    agrupacion_por_clave_ordenada = agrupar_clave(clave_ordenada, agrupaciones)\n",
        "    agrupacion_por_clave_original = orden_definido(clave, \n",
        "                                                   agrupacion_por_clave_ordenada)\n",
        "    mensaje_decifrado = unir_listas_de_listas_cadenas(transpuesta(agrupacion_por_clave_original))\n",
        "    return mensaje_decifrado"
      ],
      "execution_count": null,
      "outputs": []
    },
    {
      "cell_type": "markdown",
      "metadata": {
        "collapsed": false,
        "pycharm": {
          "name": "#%% md\n"
        },
        "id": "43cTk7odpOpf"
      },
      "source": [
        "## Ejecución del ejemplo"
      ]
    },
    {
      "cell_type": "code",
      "metadata": {
        "pycharm": {
          "name": "#%%\n"
        },
        "id": "csbVAg33pOpf",
        "outputId": "dd23a274-9413-48a9-b426-18e34f062ab4",
        "colab": {
          "base_uri": "https://localhost:8080/",
          "height": 51
        }
      },
      "source": [
        "clave = \"HOLA\"\n",
        "msg = \"La criptografia es romantica\"\n",
        "mensaje_original = format_string(msg)\n",
        "\n",
        "mensaje_codificado = codificar(clave, mensaje_original)\n",
        "print(\"Mensaje codificado: \", mensaje_codificado)\n",
        "\n",
        "mensaje_decodificado = decodificar(clave, mensaje_codificado)\n",
        "print(\"Mensaje decodificado\", mensaje_decodificado)\n"
      ],
      "execution_count": null,
      "outputs": [
        {
          "output_type": "stream",
          "text": [
            "Mensaje codificado:  ROFSACÇLIGIRNACTAEMIÇAPRAOTÇ\n",
            "Mensaje decodificado LACRIPTOGRAFIAESROMANTICAÇÇÇ\n"
          ],
          "name": "stdout"
        }
      ]
    },
    {
      "cell_type": "code",
      "metadata": {
        "id": "0tW2DeyTrCKz"
      },
      "source": [
        ""
      ],
      "execution_count": null,
      "outputs": []
    }
  ]
}