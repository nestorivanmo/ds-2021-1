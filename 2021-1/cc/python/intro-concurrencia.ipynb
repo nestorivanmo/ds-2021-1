{
 "metadata": {
  "language_info": {
   "codemirror_mode": {
    "name": "ipython",
    "version": 3
   },
   "file_extension": ".py",
   "mimetype": "text/x-python",
   "name": "python",
   "nbconvert_exporter": "python",
   "pygments_lexer": "ipython3",
   "version": "3.8.5-final"
  },
  "orig_nbformat": 2,
  "kernelspec": {
   "name": "Python 3.8.5 64-bit",
   "display_name": "Python 3.8.5 64-bit",
   "metadata": {
    "interpreter": {
     "hash": "1ee38ef4a5a9feb55287fd749643f13d043cb0a7addaab2a9c224cbe137c0062"
    }
   }
  }
 },
 "nbformat": 4,
 "nbformat_minor": 2,
 "cells": [
  {
   "source": [
    "# Cómputo Concurrente\n",
    "## Multiprocessing\n",
    "El módulo `multiprocessing` de Python permite la creación, manipulación y sincronización de procesos, también ofrece concurrencia local como remota. \n",
    "\n",
    "Ejemplo de motivación...   "
   ],
   "cell_type": "markdown",
   "metadata": {}
  },
  {
   "cell_type": "code",
   "execution_count": 1,
   "metadata": {},
   "outputs": [
    {
     "output_type": "stream",
     "name": "stdout",
     "text": [
      "Calcula el cuadrado: \n",
      "Cuadrado:  0\n",
      "Cuadrado:  1\n",
      "Cuadrado:  4\n",
      "Cuadrado:  9\n",
      "Cuadrado:  16\n",
      "Cuadrado:  25\n",
      "Cuadrado:  36\n",
      "Cuadrado:  49\n",
      "Cuadrado:  64\n",
      "Cuadrado:  81\n",
      "Calcula el cubo: \n",
      "Cubo:  0\n",
      "Cubo:  1\n",
      "Cubo:  8\n",
      "Cubo:  27\n",
      "Cubo:  64\n",
      "Cubo:  125\n",
      "Cubo:  216\n",
      "Cubo:  343\n",
      "Cubo:  512\n",
      "Cubo:  729\n",
      "Tiempo de ejecución:  4.031062126159668\n",
      "Fin de la ejecución\n"
     ]
    }
   ],
   "source": [
    "import time\n",
    "\n",
    "def calc_cuad(numeros):\n",
    "    print(\"Calcula el cuadrado: \")\n",
    "    for n in numeros:\n",
    "        time.sleep(0.2)\n",
    "        print(\"Cuadrado: \", n ** 2)\n",
    "\n",
    "def calc_cubo(numeros):\n",
    "    print(\"Calcula el cubo: \")\n",
    "    for n in numeros:\n",
    "        time.sleep(0.2)\n",
    "        print(\"Cubo: \", n ** 3)\n",
    "\n",
    "nums = range(10)\n",
    "t = time.time()\n",
    "calc_cuad(nums)\n",
    "calc_cubo(nums)\n",
    "print(\"Tiempo de ejecución: \", time.time() - t)\n",
    "print(\"Fin de la ejecución\")"
   ]
  },
  {
   "source": [
    "Una manera sencilla de generar procesos en Python es por medio de la creación del objeto `Process` y llamarlo por el medio del método `start()`"
   ],
   "cell_type": "markdown",
   "metadata": {}
  },
  {
   "cell_type": "code",
   "execution_count": 2,
   "metadata": {},
   "outputs": [
    {
     "output_type": "stream",
     "name": "stdout",
     "text": [
      "Hola  Néstor\n"
     ]
    }
   ],
   "source": [
    "import multiprocessing as mp\n",
    "\n",
    "def tarea(nombre):\n",
    "    print(\"Hola \", nombre)\n",
    "\n",
    "if __name__ == '__main__':\n",
    "    p = mp.Process(target=tarea, args=('Néstor', ))\n",
    "    p.start() #crea la bifurcación\n",
    "    p.join() #regresa a la ejecución del programa principal"
   ]
  },
  {
   "cell_type": "code",
   "execution_count": 3,
   "metadata": {},
   "outputs": [
    {
     "output_type": "stream",
     "name": "stdout",
     "text": [
      "Calcula el cuadrado: \n",
      "Calcula el cubo: \n",
      "Cuadrado: Cubo:   00\n",
      "\n",
      "Cuadrado: Cubo:   11\n",
      "\n",
      "Cubo: Cuadrado:   84\n",
      "\n",
      "Cubo: Cuadrado:   927\n",
      "\n",
      "Cuadrado: Cubo:   6416\n",
      "\n",
      "Cuadrado: Cubo:   25125\n",
      "\n",
      "Cubo: Cuadrado:   21636\n",
      "\n",
      "Cubo: Cuadrado:   34349\n",
      "\n",
      "Cubo: Cuadrado:  512 \n",
      "64\n",
      "Cubo: Cuadrado:  729 \n",
      "81\n",
      "Tiempo de ejecución:  2.1741583347320557\n",
      "Fin de la ejecución\n"
     ]
    }
   ],
   "source": [
    "import multiprocessing as mp \n",
    "import time\n",
    "\n",
    "def calc_cuad(numeros):\n",
    "    print(\"Calcula el cuadrado: \")\n",
    "    for n in numeros:\n",
    "        time.sleep(0.2)\n",
    "        print(\"Cuadrado: \", n ** 2)\n",
    "\n",
    "def calc_cubo(numeros):\n",
    "    print(\"Calcula el cubo: \")\n",
    "    for n in numeros:\n",
    "        time.sleep(0.2)\n",
    "        print(\"Cubo: \", n ** 3)\n",
    "\n",
    "nums = range(10)\n",
    "t = time.time()\n",
    "p1 = mp.Process(target=calc_cuad, args=(nums,))\n",
    "p2 = mp.Process(target=calc_cubo, args=(nums,))\n",
    "\n",
    "p1.start()\n",
    "p2.start()\n",
    "\n",
    "p1.join()\n",
    "p2.join()\n",
    "\n",
    "print(\"Tiempo de ejecución: \", time.time() - t)\n",
    "print(\"Fin de la ejecución\")"
   ]
  },
  {
   "cell_type": "code",
   "execution_count": null,
   "metadata": {},
   "outputs": [],
   "source": []
  }
 ]
}