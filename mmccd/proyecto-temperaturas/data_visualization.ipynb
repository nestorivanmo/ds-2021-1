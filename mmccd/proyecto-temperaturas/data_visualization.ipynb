{
 "metadata": {
  "language_info": {
   "codemirror_mode": {
    "name": "ipython",
    "version": 3
   },
   "file_extension": ".py",
   "mimetype": "text/x-python",
   "name": "python",
   "nbconvert_exporter": "python",
   "pygments_lexer": "ipython3",
   "version": "3.8.5-final"
  },
  "orig_nbformat": 2,
  "kernelspec": {
   "name": "Python 3.8.5 64-bit",
   "display_name": "Python 3.8.5 64-bit",
   "metadata": {
    "interpreter": {
     "hash": "1ee38ef4a5a9feb55287fd749643f13d043cb0a7addaab2a9c224cbe137c0062"
    }
   }
  }
 },
 "nbformat": 4,
 "nbformat_minor": 2,
 "cells": [
  {
   "cell_type": "code",
   "execution_count": 1,
   "metadata": {},
   "outputs": [],
   "source": [
    "import pandas as pd\n",
    "import numpy as np\n",
    "import matplotlib.pyplot as plt"
   ]
  },
  {
   "cell_type": "code",
   "execution_count": 15,
   "metadata": {},
   "outputs": [],
   "source": [
    "data_2016 = pd.read_csv('datos/2016Tmed.csv')\n",
    "data_2017 = pd.read_csv('datos/2017Tmed.csv')\n",
    "data_2018 = pd.read_csv('datos/2018Tmed.csv')\n",
    "data_2019 = pd.read_csv('datos/2019Tmed.csv')"
   ]
  },
  {
   "cell_type": "code",
   "execution_count": 39,
   "metadata": {},
   "outputs": [],
   "source": [
    "def df_info(df, name=None):\n",
    "    if name is not None:\n",
    "        print(\"Dataframe name:\", name)\n",
    "    print(\"Dataframe size:\", df.size)\n",
    "    print(\"Dataframe dimension: \", df.shape)\n",
    "    print(\"Dataframe columns: \", df.columns)\n",
    "    print(\"Dataframe indexes:\")\n",
    "    print(df['ENTIDAD'])"
   ]
  },
  {
   "cell_type": "code",
   "execution_count": 40,
   "metadata": {},
   "outputs": [
    {
     "output_type": "stream",
     "name": "stdout",
     "text": [
      "Dataframe name: Temperaturas Mexico 2016\nDataframe size: 462\nDataframe dimension:  (33, 14)\nDataframe columns:  Index(['ENTIDAD', 'ENE', 'FEB', 'MAR', 'ABR', 'MAY', 'JUN', 'JUL', 'AGO',\n       'SEP', 'OCT', 'NOV', 'DIC', 'ANUAL'],\n      dtype='object')\nDataframe indexes:\n0          AGUASCALIENTES\n1         BAJA CALIFORNIA\n2     BAJA CALIFORNIA SUR\n3                CAMPECHE\n4                COAHUILA\n5                  COLIMA\n6                 CHIAPAS\n7               CHIHUAHUA\n8        DISTRITO FEDERAL\n9                 DURANGO\n10             GUANAJUATO\n11               GUERRERO\n12                HIDALGO\n13                JALISCO\n14       ESTADO DE MÉXICO\n15              MICHOACÁN\n16                MORELOS\n17                NAYARIT\n18             NUEVO LEÓN\n19                 OAXACA\n20                 PUEBLA\n21              QUERÉTARO\n22           QUINTANA ROO\n23        SAN LUIS POTOSÍ\n24                SINALOA\n25                 SONORA\n26                TABASCO\n27             TAMAULIPAS\n28               TLAXCALA\n29               VERACRUZ\n30                YUCATÁN\n31              ZACATECAS\n32               NACIONAL\nName: ENTIDAD, dtype: object\n"
     ]
    }
   ],
   "source": [
    "df_info(data_2016, 'Temperaturas Mexico 2016')"
   ]
  },
  {
   "cell_type": "code",
   "execution_count": null,
   "metadata": {},
   "outputs": [],
   "source": []
  }
 ]
}