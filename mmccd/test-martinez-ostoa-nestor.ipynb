{
 "metadata": {
  "language_info": {
   "codemirror_mode": {
    "name": "ipython",
    "version": 3
   },
   "file_extension": ".py",
   "mimetype": "text/x-python",
   "name": "python",
   "nbconvert_exporter": "python",
   "pygments_lexer": "ipython3",
   "version": "3.8.5-final"
  },
  "orig_nbformat": 2,
  "kernelspec": {
   "name": "python3",
   "display_name": "Python 3",
   "language": "python"
  }
 },
 "nbformat": 4,
 "nbformat_minor": 2,
 "cells": [
  {
   "source": [
    "# Ejercicio 1"
   ],
   "cell_type": "markdown",
   "metadata": {}
  },
  {
   "cell_type": "code",
   "execution_count": 6,
   "metadata": {},
   "outputs": [],
   "source": [
    "import numpy as np\n",
    "from math import sqrt\n",
    "\n",
    "def equal_matrixes(A, B):\n",
    "    if len(A) == len(B) and len(A[0]) == len(B[0]):\n",
    "        equal = True\n",
    "        for i in range(len(A)):\n",
    "            for j in range(len(A[i])):\n",
    "                if A[i][j] == B[i][j]: \n",
    "                    pass\n",
    "                else:\n",
    "                    equal = False\n",
    "                    break\n",
    "        return equal\n",
    "    else:\n",
    "        return False\n",
    "\n",
    "def zeros_in_diag(A):\n",
    "    no_zeros = True\n",
    "    for i in range(0, len(A)):\n",
    "        for j in range(0, len(A[0])):\n",
    "            if i == j: \n",
    "                if A[i][j] == 0: \n",
    "                    no_zeros = False\n",
    "                    break\n",
    "    return no_zeros\n",
    "\n",
    "def validate_matrix(A):\n",
    "    eq_transpose = True if equal_matrixes(A, A.transpose()) else False\n",
    "    diag_zero = True if zeros_in_diag(A) else False\n",
    "    msg_diag = 'Matrix cannot have zeros on the main diagonal'\n",
    "    msg_transpose = 'Matrix must be equal to its transpose'\n",
    "    if diag_zero == False: return (False, msg_diag)\n",
    "    if eq_transpose == False: return (False, msg_transpose)\n",
    "    return (True, '')\n",
    "\n",
    "def symmetric_matrix(n):\n",
    "    numbers = np.random.randint(low = -100, high = 100, size = 100)\n",
    "    A = np.random.choice(numbers, size=(n, n))\n",
    "    return np.tril(A) + np.tril(A, -1).T\n",
    "\n",
    "def random_squared_matrix_cholesky(n):\n",
    "    A = np.random.rand(n, n)\n",
    "    B = np.dot(A,A.transpose())\n",
    "    return B\n",
    "\n",
    "def cholesky(A):\n",
    "    L = np.zeros((len(A), len(A)))\n",
    "    L[:,0] = A[:,0] / sqrt(A[0][0])\n",
    "    for i in range(0, len(L)):\n",
    "        for j in range(0, len(L[0])):\n",
    "            if j < i or j == i:\n",
    "                if j == i:\n",
    "                    s = 0\n",
    "                    for k in range(0, i):\n",
    "                        s += L[j][k] ** 2\n",
    "                    L[i][j] = sqrt(A[i][j] - s)\n",
    "                else:\n",
    "                    s = 0\n",
    "                    for k in range(0, j):\n",
    "                            s += L[i][k] * L[j][k]\n",
    "                    L[i][j] = (1 / L[j][j]) * (A[i][j] - s)\n",
    "    return L"
   ]
  },
  {
   "cell_type": "code",
   "execution_count": 8,
   "metadata": {},
   "outputs": [
    {
     "output_type": "stream",
     "name": "stdout",
     "text": [
      "A: \n [[ 1 -1  1]\n [-1  5 -5]\n [ 1 -5  6]]\nL: \n [[ 1.  0.  0.]\n [-1.  2.  0.]\n [ 1. -2.  1.]]\nLT: \n [[ 1. -1.  1.]\n [ 0.  2. -2.]\n [ 0.  0.  1.]]\nL*LT: \n [[ 1. -1.  1.]\n [-1.  5. -5.]\n [ 1. -5.  6.]]\n"
     ]
    }
   ],
   "source": [
    "A = np.array([[1,-1,1], [-1,5,-5], [1,-5,6]])\n",
    "(case, msg) = validate_matrix(A)\n",
    "if case :\n",
    "    L = cholesky(A)\n",
    "    LT = L.T\n",
    "    print(\"A: \\n\", A)\n",
    "    print(\"L: \\n\", L)\n",
    "    print(\"LT: \\n\", LT)\n",
    "    print(\"L*LT: \\n\", L.dot(LT))\n",
    "else:\n",
    "    print(msg)"
   ]
  },
  {
   "source": [
    "# Ejercicio 2\n"
   ],
   "cell_type": "markdown",
   "metadata": {}
  },
  {
   "source": [
    "## c)"
   ],
   "cell_type": "markdown",
   "metadata": {}
  },
  {
   "cell_type": "code",
   "execution_count": 7,
   "metadata": {},
   "outputs": [],
   "source": [
    "def X(y,z):\n",
    "    return (7-2*y-z)/10\n",
    "def Y(x,z):\n",
    "    return (-8-x-z)/5\n",
    "def Z(x,y):\n",
    "    return (6-2*x-3*y)/10\n",
    "\n",
    "def jacobi(n_iter, seed):\n",
    "    for i in range(-1, n_iter):\n",
    "        x,y,z = seed\n",
    "        n_x, n_y, n_z = X(y,z), Y(x, z), Z(x, y)\n",
    "        Di = max(abs(n_x - x), abs(n_y - y), abs(n_z - z))\n",
    "        seed = (n_x, n_y, n_z)\n",
    "        print(f'Iteración #{i+1}: \\tx: {x} \\ty: {y} \\tz: {z} \\t\\t D{i+1}: {Di}')\n",
    "    final = (round(n_x), round(n_y), round(n_z))\n",
    "    return final"
   ]
  },
  {
   "cell_type": "code",
   "execution_count": 10,
   "metadata": {},
   "outputs": [
    {
     "output_type": "stream",
     "name": "stdout",
     "text": [
      "Iteración #0: \tx: 0.7 \ty: -1.6 \tz: 0.6 \t\t D0: 0.3400000000000001\nIteración #1: \tx: 0.96 \ty: -1.8599999999999999 \tz: 0.9400000000000001 \t\t D1: 0.1200000000000001\nIteración #2: \tx: 0.978 \ty: -1.98 \tz: 0.966 \t\t D2: 0.032399999999999984\nIteración #3: \tx: 0.9994000000000002 \ty: -1.9888 \tz: 0.9984 \t\t D3: 0.010760000000000103\nIteración #4: \tx: 0.9979199999999999 \ty: -1.99956 \tz: 0.9967600000000001 \t\t D4: 0.0035240000000000826\nIteración #5: \tx: 1.000236 \ty: -1.998936 \tz: 1.0002840000000002 \t\t D5: 0.0011679999999998358\nIteración #6: \tx: 0.9997588000000001 \ty: -2.000104 \tz: 0.9996335999999999 \t\t D6: 0.00044584000000003066\nIteración #7: \tx: 1.0000574400000002 \ty: -1.99987848 \tz: 1.00007944 \t\t D7: 0.0001488960000002315\n(1, -2, 1)\n"
     ]
    }
   ],
   "source": [
    "f = jacobi(7, (0.7,-1.6,0.6))\n",
    "print(f)"
   ]
  },
  {
   "source": [
    "## d)"
   ],
   "cell_type": "markdown",
   "metadata": {}
  },
  {
   "cell_type": "code",
   "execution_count": 12,
   "metadata": {},
   "outputs": [
    {
     "output_type": "stream",
     "name": "stdout",
     "text": [
      "Iteración #0: \tx: -5 \ty: 3 \tz: 5 \t\t D0: 4.6\nIteración #1: \tx: -0.4 \ty: -1.6 \tz: 0.7 \t\t D1: 1.35\nIteración #2: \tx: 0.95 \ty: -1.6599999999999997 \tz: 1.1600000000000001 \t\t D2: 0.3620000000000001\nIteración #3: \tx: 0.916 \ty: -2.022 \tz: 0.9079999999999998 \t\t D3: 0.11540000000000006\nIteración #4: \tx: 1.0136 \ty: -1.9647999999999999 \tz: 1.0233999999999999 \t\t D4: 0.04260000000000019\nIteración #5: \tx: 0.9906200000000001 \ty: -2.0074 \tz: 0.9867199999999998 \t\t D5: 0.01737600000000028\nIteración #6: \tx: 1.0028080000000001 \ty: -1.995468 \tz: 1.004096 \t\t D6: 0.006017200000000056\nIteración #7: \tx: 0.9986839999999999 \ty: -2.0013808 \tz: 0.9980788 \t\t D7: 0.0025986399999999854\nIteración #8: \tx: 1.00046828 \ty: -1.9993525600000002 \tz: 1.00067744 \t\t D8: 0.000965327999999932\nIteración #9: \tx: 0.999802768 \ty: -2.000229144 \tz: 0.9997121120000001 \t\t D9: 0.0003960775999998223\nIteración #10: \tx: 1.0000746176 \ty: -1.999902976 \tz: 1.0001081896 \t\t D10: 0.00015222031999995167\nIteración #11: \tx: 0.9999697762399998 \ty: -2.00003656144 \tz: 0.99995596928 \t\t D11: 6.104390400007986e-05\nIteración #12: \tx: 1.0000117153599999 \ty: -1.9999851491040002 \tz: 1.000017013184 \t\t D12: 2.3811524799910444e-05\nIteración #13: \tx: 0.9999953285024 \ty: -2.0000057457088 \tz: 0.9999932016592001 \t\t D13: 9.456352959791303e-06\nIteración #14: \tx: 1.00000182897584 \ty: -1.99999770603232 \tz: 1.00000265801216 \t\t D14: 3.711997631938857e-06\nIteración #15: \tx: 0.999999275405248 \ty: -2.0000008973976002 \tz: 0.999998946014528 \t\t D15: 1.4681237026081817e-06\nIteración #16: \tx: 1.0000002848780671 \ty: -1.9999996442839554 \tz: 1.0000004141382306 \t\t D16: 5.778286573665525e-07\nIteración #17: \tx: 0.9999998874429679 \ty: -2.0000001398032596 \tz: 0.9999998363095732 \t\t D17: 2.2814281108729517e-07\nIteración #18: \tx: 1.0000000443296946 \ty: -1.9999999447505084 \tz: 1.0000000644523843 \t\t D18: 8.989317068497371e-08\nIteración #19: \tx: 0.9999999825048631 \ty: -2.0000000217564162 \tz: 0.9999999745592136 \t\t D19: 3.5466738657063956e-08\nIteración #20: \tx: 1.0000000068953618 \ty: -1.9999999914128153 \tz: 1.0000000100259523 \t\t D20: 1.3981180102540236e-08\n"
     ]
    },
    {
     "output_type": "execute_result",
     "data": {
      "text/plain": [
       "(1, -2, 1)"
      ]
     },
     "metadata": {},
     "execution_count": 12
    }
   ],
   "source": [
    "jacobi(20, (-5,3,5))"
   ]
  },
  {
   "cell_type": "code",
   "execution_count": 13,
   "metadata": {},
   "outputs": [
    {
     "output_type": "stream",
     "name": "stdout",
     "text": [
      "Iteración #0: \tx: 100 \ty: -500 \tz: -350 \t\t D0: 548.4\nIteración #1: \tx: 135.7 \ty: 48.4 \tz: 130.6 \t\t D1: 171.66\nIteración #2: \tx: -22.04 \ty: -54.85999999999999 \tz: -41.059999999999995 \t\t D2: 65.88\nIteración #3: \tx: 15.777999999999997 \ty: 11.02 \tz: 21.465999999999998 \t\t D3: 27.327599999999997\nIteración #4: \tx: -3.6506 \ty: -9.0488 \tz: -5.8616 \t\t D4: 9.90636\nIteración #5: \tx: 3.09592 \ty: 0.30244 \tz: 4.04476 \t\t D5: 4.154676\nIteración #6: \tx: 0.23503600000000002 \ty: -3.028136 \tz: -0.10991599999999999 \t\t D6: 1.5713495999999998\nIteración #7: \tx: 1.3166188 \ty: -1.6250240000000002 \tz: 1.4614335999999999 \t\t D7: 0.6372501599999997\nIteración #8: \tx: 0.87886144 \ty: -2.15561048 \tz: 0.8241834400000002 \t\t D8: 0.2467274159999998\nIteración #9: \tx: 1.048703752 \ty: -1.940608976 \tz: 1.070910856 \t\t D9: 0.09846891359999999\nIteración #10: \tx: 0.9810307096 \ty: -2.0239229215999996 \tz: 0.9724419424 \t\t D10: 0.038528792159999825\nIteración #11: \tx: 1.00754039008 \ty: -1.9906945304 \tz: 1.0109707345599999 \t\t D11: 0.015270453455999755\nIteración #12: \tx: 0.997041832624 \ty: -2.003702224928 \tz: 0.9957002811040001 \t\t D12: 0.0060020198495998045\nIteración #13: \tx: 1.0011704168752 \ty: -1.9985484227455999 \tz: 1.0017023009536 \t\t D13: 0.002371857504960051\nIteración #14: \tx: 0.99953945445376 \ty: -2.00057454356576 \tz: 0.9993304434486399 \t\t D14: 0.0009340287303361006\nIteración #15: \tx: 1.000181864368288 \ty: -1.99977397958048 \tz: 1.000264472178976 \t\t D15: 0.0003686511784894986\nIteración #16: \tx: 0.9999283486981984 \ty: -2.000089267309453 \tz: 0.9998958210004865 \t\t D16: 0.00014528945270964044\nIteración #17: \tx: 1.000028271361842 \ty: -1.9999648339397367 \tz: 1.000041110453196 \t\t D17: 5.73145436435496e-05\nIteración #18: \tx: 0.9999888557426277 \ty: -2.0000138763630075 \tz: 0.9999837959095526 \t\t D18: 2.2595850823980967e-05\nIteración #19: \tx: 1.0000043956816465 \ty: -1.9999945303304358 \tz: 1.0000063917603765 \t\t D19: 8.911797575006375e-06\nIteración #20: \tx: 0.9999982668900496 \ty: -2.0000021574884044 \tz: 0.9999974799628015 \t\t D20: 3.5139057099620175e-06\n"
     ]
    },
    {
     "output_type": "execute_result",
     "data": {
      "text/plain": [
       "(1, -2, 1)"
      ]
     },
     "metadata": {},
     "execution_count": 13
    }
   ],
   "source": [
    "jacobi(20, (100,-500,-350))"
   ]
  },
  {
   "source": [
    "## f)"
   ],
   "cell_type": "markdown",
   "metadata": {}
  },
  {
   "cell_type": "code",
   "execution_count": 17,
   "metadata": {},
   "outputs": [],
   "source": [
    "import numpy as np \n",
    "\n",
    "def f_x(y, z):\n",
    "    return (7-2*y-z)/10\n",
    "def f_y(x, z):\n",
    "    return (-8-x-z)/5\n",
    "def f_z(x, y):\n",
    "    return (6-2*x-3*y)/10\n",
    "\n",
    "def gaus_siedel(seed, n_iter, verbose=False):\n",
    "    for i in range(-1, n_iter):\n",
    "        x,y,z = seed\n",
    "        n_x = f_x(y,z)\n",
    "        n_y = f_y(n_x, z)\n",
    "        n_z = f_z(n_x, n_y)\n",
    "        seed = (n_x, n_y, n_z)\n",
    "        Di = max(abs(n_x - x), abs(n_y - y), abs(n_z - z))\n",
    "        if verbose:\n",
    "            print(f'Iteración #{i+1}: \\tx: {x} \\ty: {y} \\tz: {z} \\t\\t {Di}')\n",
    "    final = (round(n_x, 4), round(n_y, 4), round(n_z, 4))\n",
    "    return final"
   ]
  },
  {
   "cell_type": "code",
   "execution_count": 19,
   "metadata": {},
   "outputs": [
    {
     "output_type": "stream",
     "name": "stdout",
     "text": [
      "Iteración #0: \tx: 0.7 \ty: -1.6 \tz: 0.6 \t\t 0.38160000000000005\nIteración #1: \tx: 0.96 \ty: -1.9120000000000001 \tz: 0.9816 \t\t 0.0811679999999999\nIteración #2: \tx: 0.98424 \ty: -1.993168 \tz: 1.0011024000000002 \t\t 0.014283359999999856\nIteración #3: \tx: 0.9985233599999999 \ty: -1.999925152 \tz: 1.0002728736 \t\t 0.0014343830400002089\nIteración #4: \tx: 0.9999577430400001 \ty: -2.000046123328 \tz: 1.0000222883904002 \t\t 4.92527865597614e-05\nIteración #5: \tx: 1.0000069958265598 \ty: -2.000005856843392 \tz: 1.0000003578877057 \t\t 5.860246651945289e-06\nIteración #6: \tx: 1.0000011355799079 \ty: -2.0000002986935224 \tz: 0.9999998624920752 \t\t 1.0620904109526208e-06\nIteración #7: \tx: 1.000000073489497 \ty: -1.9999999871963143 \tz: 0.9999999814609948 \t\t 7.419633352157007e-08\nIteración #8: \tx: 0.9999999992931634 \ty: -1.9999999961508315 \tz: 0.9999999989866166 \t\t 3.5127929454148443e-09\nIteración #9: \tx: 0.9999999993315047 \ty: -1.9999999996636244 \tz: 1.0000000000327864 \t\t 5.979415851342651e-10\nIteración #10: \tx: 0.9999999999294463 \ty: -1.9999999999924465 \tz: 1.0000000000118447 \t\t 6.785860762192897e-11\n"
     ]
    },
    {
     "output_type": "execute_result",
     "data": {
      "text/plain": [
       "(1.0, -2.0, 1.0)"
      ]
     },
     "metadata": {},
     "execution_count": 19
    }
   ],
   "source": [
    "gaus_siedel((0.7, -1.6, 0.6), 10, verbose=True)"
   ]
  },
  {
   "cell_type": "code",
   "execution_count": 20,
   "metadata": {},
   "outputs": [
    {
     "output_type": "stream",
     "name": "stdout",
     "text": [
      "Iteración #0: \tx: 100 \ty: -500 \tz: -350 \t\t 541.26\nIteración #1: \tx: 135.7 \ty: 41.260000000000005 \tz: -38.918 \t\t 139.3602\nIteración #2: \tx: -3.660200000000001 \ty: 6.915640000000001 \tz: -0.742652 \t\t 8.24533704\nIteración #3: \tx: -0.6088628000000001 \ty: -1.32969704 \tz: 1.1206816720000001 \t\t 1.4627340408\nIteración #4: \tx: 0.8538712408 \ty: -1.99491058256 \tz: 1.0276989266079999 \t\t 0.14234098305120002\nIteración #5: \tx: 0.9962122238512 \ty: -2.0047822300918403 \tz: 1.002192224257312 \t\t 0.00452499974143683\nIteración #6: \tx: 1.0007372235926368 \ty: -2.0005858895699897 \tz: 1.0000283221524695 \t\t 0.0006228778938859314\nIteración #7: \tx: 1.000114345698751 \ty: -2.0000285335702443 \tz: 0.9999856909313231 \t\t 0.00010720807783437536\nIteración #8: \tx: 1.0000071376209165 \ty: -1.9999985657104478 \tz: 0.999998142188951 \t\t 7.238697722122822e-06\nIteración #9: \tx: 0.9999998989231944 \ty: -1.9999996082224292 \tz: 0.9999999026820898 \t\t 3.585892440760574e-07\nIteración #10: \tx: 0.999999931376277 \ty: -1.9999999668116732 \tz: 1.0000000037682466 \t\t 6.160923304854293e-08\nIteración #11: \tx: 0.99999999298551 \ty: -1.9999999993507511 \tz: 1.0000000012081234 \t\t 6.763827942180001e-09\nIteración #12: \tx: 0.999999999749338 \ty: -2.000000000191492 \tz: 1.0000000001075802 \t\t 2.782024610681333e-10\nIteración #13: \tx: 1.0000000000275404 \ty: -2.000000000027024 \tz: 1.0000000000025993 \t\t 2.5475621612258692e-11\nIteración #14: \tx: 1.0000000000051448 \ty: -2.0000000000015485 \tz: 0.9999999999994355 \t\t 4.778399897986674e-12\nIteración #15: \tx: 1.0000000000003664 \ty: -1.9999999999999603 \tz: 0.9999999999999147 \t\t 3.659295089164516e-13\nIteración #16: \tx: 1.0000000000000004 \ty: -1.999999999999983 \tz: 0.9999999999999947 \t\t 1.532107773982716e-14\nIteración #17: \tx: 0.9999999999999971 \ty: -1.9999999999999982 \tz: 1.0 \t\t 2.55351295663786e-15\nIteración #18: \tx: 0.9999999999999997 \ty: -2.0 \tz: 1.0 \t\t 3.3306690738754696e-16\nIteración #19: \tx: 1.0 \ty: -2.0 \tz: 1.0 \t\t 0.0\nIteración #20: \tx: 1.0 \ty: -2.0 \tz: 1.0 \t\t 0.0\n"
     ]
    },
    {
     "output_type": "execute_result",
     "data": {
      "text/plain": [
       "(1.0, -2.0, 1.0)"
      ]
     },
     "metadata": {},
     "execution_count": 20
    }
   ],
   "source": [
    "gaus_siedel((100, -500, -350), 20, verbose=True)"
   ]
  },
  {
   "cell_type": "code",
   "execution_count": null,
   "metadata": {},
   "outputs": [],
   "source": []
  }
 ]
}