{
 "metadata": {
  "language_info": {
   "codemirror_mode": {
    "name": "ipython",
    "version": 3
   },
   "file_extension": ".py",
   "mimetype": "text/x-python",
   "name": "python",
   "nbconvert_exporter": "python",
   "pygments_lexer": "ipython3",
   "version": "3.8.5-final"
  },
  "orig_nbformat": 2,
  "kernelspec": {
   "name": "python3",
   "display_name": "Python 3"
  }
 },
 "nbformat": 4,
 "nbformat_minor": 2,
 "cells": [
  {
   "source": [
    "# Método Gauss-Siedel\n",
    "\n",
    "**Ejercicio**\n",
    "Partiendo de $(x=1, y=2, z=0)$ aplique dos iteraciones del método de Gauss-Siedel para resolver el siguiente sistema de ecuaciones:\n",
    "\n",
    "$$\\begin{bmatrix} 10x & + & 0y & - & z & = & -1 \\\\ 4x & + & 12y & - & 4z & = & 8 \\\\ 4x & + & 4y & + & 10z & = & 4 \\end{bmatrix}$$"
   ],
   "cell_type": "markdown",
   "metadata": {}
  },
  {
   "cell_type": "code",
   "execution_count": 27,
   "metadata": {},
   "outputs": [],
   "source": [
    "import numpy as np \n",
    "\n",
    "def f_x(z):\n",
    "    return -0.1 + 0.1*z\n",
    "def f_y(x, z):\n",
    "    return 0.66 -0.33*x + 0.33*z\n",
    "def f_z(x, y):\n",
    "    return 0.4 -0.4*x -0.4*y\n",
    "\n",
    "def gaus_siedel(seed, n_iter, verbose=False):\n",
    "    for i in range(-1, n_iter):\n",
    "        x,y,z = seed\n",
    "        n_x = f_x(z)\n",
    "        n_y = f_y(n_x, z)\n",
    "        n_z = f_z(n_x, n_y)\n",
    "        seed = (n_x, n_y, n_z)\n",
    "        Di = max(abs(n_x - x), abs(n_y - y), abs(n_z - z))\n",
    "        if verbose:\n",
    "            print(f'Iteración #{i+1}: \\tx: {x} \\ty: {y} \\tz: {z} \\t\\t {Di}')\n",
    "    final = (round(n_x, 4), round(n_y, 4), round(n_z, 4))\n",
    "    return final"
   ]
  },
  {
   "cell_type": "code",
   "execution_count": 30,
   "metadata": {},
   "outputs": [
    {
     "output_type": "stream",
     "name": "stdout",
     "text": [
      "Iteración #0: \tx: 1 \ty: 2 \tz: 0 \t\t 1.307\nIteración #1: \tx: -0.1 \ty: 0.6930000000000001 \tz: 0.1628 \t\t 0.04835159999999994\nIteración #2: \tx: -0.08372 \ty: 0.7413516 \tz: 0.13694736000000002 \t\t 0.007678234080000013\n"
     ]
    },
    {
     "output_type": "execute_result",
     "data": {
      "text/plain": [
       "(-0.0863, 0.7337, 0.1411)"
      ]
     },
     "metadata": {},
     "execution_count": 30
    }
   ],
   "source": [
    "gaus_siedel((1,2,0), 2, verbose=True)"
   ]
  },
  {
   "cell_type": "code",
   "execution_count": null,
   "metadata": {},
   "outputs": [],
   "source": []
  },
  {
   "cell_type": "code",
   "execution_count": null,
   "metadata": {},
   "outputs": [],
   "source": []
  },
  {
   "cell_type": "code",
   "execution_count": null,
   "metadata": {},
   "outputs": [],
   "source": []
  },
  {
   "cell_type": "code",
   "execution_count": null,
   "metadata": {},
   "outputs": [],
   "source": []
  }
 ]
}