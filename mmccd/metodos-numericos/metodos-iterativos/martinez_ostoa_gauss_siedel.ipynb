{
 "metadata": {
  "language_info": {
   "codemirror_mode": {
    "name": "ipython",
    "version": 3
   },
   "file_extension": ".py",
   "mimetype": "text/x-python",
   "name": "python",
   "nbconvert_exporter": "python",
   "pygments_lexer": "ipython3",
   "version": "3.8.5-final"
  },
  "orig_nbformat": 2,
  "kernelspec": {
   "name": "python3",
   "display_name": "Python 3",
   "language": "python"
  }
 },
 "nbformat": 4,
 "nbformat_minor": 2,
 "cells": [
  {
   "source": [
    "# Método Gauss-Seidel\n",
    "\n",
    "**Ejercicio**\n",
    "Partiendo de $(x=1, y=2, z=0)$ aplique dos iteraciones del método de Gauss-Siedel para resolver el siguiente sistema de ecuaciones:\n",
    "\n",
    "$$\\begin{bmatrix} 10x & + & 0y & - & z & = & -1 \\\\ 4x & + & 12y & - & 4z & = & 8 \\\\ 4x & + & 4y & + & 10z & = & 4 \\end{bmatrix}$$"
   ],
   "cell_type": "markdown",
   "metadata": {}
  },
  {
   "cell_type": "code",
   "execution_count": 15,
   "metadata": {},
   "outputs": [
    {
     "output_type": "stream",
     "name": "stdout",
     "text": [
      "-6.5\t1.0\t0.0\t2.25\t0.0\t0.0\t0.0\t0.0\t0.0\t-725.0\t\n1.0\t-6.5\t1.0\t0.0\t2.25\t0.0\t0.0\t0.0\t0.0\t-750.0\t\n0.0\t1.0\t-6.5\t0.0\t0.0\t2.25\t0.0\t0.0\t0.0\t-1625.0\t\n2.25\t0.0\t0.0\t-6.5\t1.0\t0.0\t2.25\t0.0\t0.0\t-133.33\t\n0.0\t2.25\t0.0\t1.0\t-6.5\t1.0\t0.0\t2.25\t0.0\t0.0\t\n0.0\t0.0\t2.25\t0.0\t1.0\t-6.5\t0.0\t0.0\t2.25\t-333.33\t\n0.0\t0.0\t0.0\t2.25\t0.0\t0.0\t-6.5\t1.0\t0.0\t-66.67\t\n0.0\t0.0\t0.0\t0.0\t2.25\t0.0\t1.0\t-6.5\t1.0\t0.0\t\n0.0\t0.0\t0.0\t0.0\t0.0\t2.25\t0.0\t1.0\t-6.5\t-166.67\t\n"
     ]
    }
   ],
   "source": [
    "A = np.array([\n",
    "    [-6.5,\t1.0\t,    0.0,\t2.25,\t0.0\t ,   0.0,   0.0\t ,   0.0,   0.0\t],\n",
    "    [1.0,\t-6.5,\t 1.0,   0.0,    2.25 ,\t 0.0,   0.0\t ,   0.0,   0.0\t],\n",
    "    [0.0,\t1.0\t,    -6.5,\t0.0,    0.0\t ,   2.25,\t0.0\t ,   0.0,   0.0\t],\n",
    "    [2.25,\t0.0\t,    0.0,\t-6.5,\t1.0\t ,   0.0,   2.25 ,\t 0.0,   0.0\t],\n",
    "    [0.0,\t2.25,\t 0.0,   1.0,   -6.5 ,\t 1.0,   0.0\t ,   2.25,\t0.0\t],\n",
    "    [0.0,\t0.0\t,    2.25,\t0.0,    1.0\t ,   -6.5,\t0.0\t ,   0.0,   2.25],\n",
    "    [0.0,\t0.0\t,    0.0,\t2.25,\t0.0\t ,   0.0,   -6.5 ,\t 1.0,   0.0\t],\n",
    "    [0.0,\t0.0\t,    0.0,\t0.0,    2.25 ,\t 0.0,   1.0\t ,   -6.5,\t1.0\t],\n",
    "    [0.0,\t0.0\t,    0.0,\t0.0,    0.0\t ,   2.25,\t0.0\t ,   1.0,   -6.5]\n",
    "])\n",
    "B = np.array([\n",
    "    [-725.0\t ],\n",
    "    [-750.0\t ],\n",
    "    [-1625.0 ],\t\n",
    "    [-133.33 ],\t\n",
    "    [0.0\t ],\n",
    "    [-333.33 ],\t\n",
    "    [-66.67\t ],\n",
    "    [0.0\t ],\n",
    "    [-166.67 ]\n",
    "])\n",
    "A = np.append(A, B, axis=1)\n",
    "for row in range(A.shape[0]):\n",
    "    for col in range(A.shape[1]):\n",
    "        print(f'{A[row][col]}', end='\\t')\n",
    "    print()"
   ]
  },
  {
   "cell_type": "code",
   "execution_count": 69,
   "metadata": {},
   "outputs": [],
   "source": [
    "def solve_for_row(A, seed):\n",
    "    for row in range(A.shape[0]):\n",
    "        sum_ = A[row][-1]\n",
    "        div_number = 0\n",
    "        for col in range(A.shape[1]-1):\n",
    "            if row == col:\n",
    "                div_number = A[row][col]\n",
    "                continue\n",
    "            sum_ -= A[row][col] * seed[col]\n",
    "        sum_ /= div_number\n",
    "        seed[row] = sum_\n",
    "    return seed\n",
    "\n",
    "def get_error(old_seed, new_seed):\n",
    "    abs_vector = []\n",
    "    for i in range(len(old_seed)):\n",
    "        abs_vector.append(abs(old_seed[i]-new_seed[i]))\n",
    "    return max(abs_vector)"
   ]
  },
  {
   "cell_type": "code",
   "execution_count": 88,
   "metadata": {},
   "outputs": [],
   "source": [
    "import numpy as np \n",
    "import copy\n",
    "\n",
    "def gauss_seidel(A, B, min_error=10e-4, verbose=False):\n",
    "    A = np.append(A, B, axis=1)\n",
    "    old_seed = list(np.ones(A.shape[1]-1))\n",
    "    new_seed = []\n",
    "    error = 10e10\n",
    "    i = 1\n",
    "    while error >= min_error:\n",
    "        new_seed = solve_for_row(A, old_seed.copy())\n",
    "        error = get_error(old_seed, new_seed)\n",
    "        old_seed = new_seed\n",
    "        if verbose:\n",
    "            print(f'Iteración #{i}, error: {np.round(error, 4)}')\n",
    "        i += 1\n",
    "    return new_seed"
   ]
  },
  {
   "cell_type": "code",
   "execution_count": 89,
   "metadata": {},
   "outputs": [
    {
     "output_type": "stream",
     "name": "stdout",
     "text": [
      "Iteración #1, error: 269.8264\nIteración #2, error: 66.7322\nIteración #3, error: 36.4792\nIteración #4, error: 18.7283\nIteración #5, error: 9.4003\nIteración #6, error: 4.7028\nIteración #7, error: 2.3516\nIteración #8, error: 1.1758\nIteración #9, error: 0.5879\nIteración #10, error: 0.294\nIteración #11, error: 0.147\nIteración #12, error: 0.0735\nIteración #13, error: 0.0367\nIteración #14, error: 0.0184\nIteración #15, error: 0.0092\nIteración #16, error: 0.0046\nIteración #17, error: 0.0023\nIteración #18, error: 0.0011\nIteración #19, error: 0.0006\n"
     ]
    },
    {
     "output_type": "execute_result",
     "data": {
      "text/plain": [
       "[203.95301693606768,\n",
       " 270.93521560852844,\n",
       " 380.666862814682,\n",
       " 146.5605601752572,\n",
       " 189.53804469498579,\n",
       " 257.0666838154057,\n",
       " 75.94779038362161,\n",
       " 97.22966416435087,\n",
       " 129.58456965369442]"
      ]
     },
     "metadata": {},
     "execution_count": 89
    }
   ],
   "source": [
    "A = np.array([\n",
    "    [-6.5,\t1.0\t,    0.0,\t2.25,\t0.0\t ,   0.0,   0.0\t ,   0.0,   0.0\t],\n",
    "    [1.0,\t-6.5,\t 1.0,   0.0,    2.25 ,\t 0.0,   0.0\t ,   0.0,   0.0\t],\n",
    "    [0.0,\t1.0\t,    -6.5,\t0.0,    0.0\t ,   2.25,\t0.0\t ,   0.0,   0.0\t],\n",
    "    [2.25,\t0.0\t,    0.0,\t-6.5,\t1.0\t ,   0.0,   2.25 ,\t 0.0,   0.0\t],\n",
    "    [0.0,\t2.25,\t 0.0,   1.0,   -6.5 ,\t 1.0,   0.0\t ,   2.25,\t0.0\t],\n",
    "    [0.0,\t0.0\t,    2.25,\t0.0,    1.0\t ,   -6.5,\t0.0\t ,   0.0,   2.25],\n",
    "    [0.0,\t0.0\t,    0.0,\t2.25,\t0.0\t ,   0.0,   -6.5 ,\t 1.0,   0.0\t],\n",
    "    [0.0,\t0.0\t,    0.0,\t0.0,    2.25 ,\t 0.0,   1.0\t ,   -6.5,\t1.0\t],\n",
    "    [0.0,\t0.0\t,    0.0,\t0.0,    0.0\t ,   2.25,\t0.0\t ,   1.0,   -6.5]\n",
    "])\n",
    "B = np.array([\n",
    "    [-725.0\t ],\n",
    "    [-750.0\t ],\n",
    "    [-1625.0 ],\t\n",
    "    [-133.33 ],\t\n",
    "    [0.0\t ],\n",
    "    [-333.33 ],\t\n",
    "    [-66.67\t ],\n",
    "    [0.0\t ],\n",
    "    [-166.67 ]\n",
    "])\n",
    "S = gauss_seidel(A, B, verbose=True)\n",
    "S"
   ]
  },
  {
   "cell_type": "code",
   "execution_count": 49,
   "metadata": {},
   "outputs": [
    {
     "output_type": "execute_result",
     "data": {
      "text/plain": [
       "0.001"
      ]
     },
     "metadata": {},
     "execution_count": 49
    }
   ],
   "source": [
    "10e-4"
   ]
  },
  {
   "cell_type": "code",
   "execution_count": null,
   "metadata": {},
   "outputs": [],
   "source": []
  },
  {
   "cell_type": "code",
   "execution_count": null,
   "metadata": {},
   "outputs": [],
   "source": []
  }
 ]
}