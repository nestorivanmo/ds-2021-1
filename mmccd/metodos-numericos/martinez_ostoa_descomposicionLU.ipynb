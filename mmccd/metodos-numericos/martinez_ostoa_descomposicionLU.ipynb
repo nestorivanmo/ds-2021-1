{
 "metadata": {
  "language_info": {
   "codemirror_mode": {
    "name": "ipython",
    "version": 3
   },
   "file_extension": ".py",
   "mimetype": "text/x-python",
   "name": "python",
   "nbconvert_exporter": "python",
   "pygments_lexer": "ipython3",
   "version": "3.8.5-final"
  },
  "orig_nbformat": 2,
  "kernelspec": {
   "name": "python3",
   "display_name": "Python 3.8.5 64-bit",
   "metadata": {
    "interpreter": {
     "hash": "916dbcbb3f70747c44a77c7bcd40155683ae19c65e1c03b4aa3499c5328201f1"
    }
   }
  }
 },
 "nbformat": 4,
 "nbformat_minor": 2,
 "cells": [
  {
   "source": [
    "# Descomposición LU\n",
    "### Métodos Matemáticos Computacionales para Ciencia de Datos\n",
    "*Martínez Ostoa Néstor Iván*\n",
    "\n",
    "Descomposición LU por los métodos de *Doolittle-Crout* y *Cholesky*"
   ],
   "cell_type": "markdown",
   "metadata": {}
  },
  {
   "cell_type": "code",
   "execution_count": 2,
   "metadata": {},
   "outputs": [],
   "source": [
    "import numpy as np\n",
    "from math import sqrt\n",
    "from scipy import random, linalg"
   ]
  },
  {
   "cell_type": "code",
   "execution_count": 3,
   "metadata": {},
   "outputs": [],
   "source": [
    "def initLU(n):\n",
    "    L = np.eye(n)\n",
    "    U = np.zeros((n, n))\n",
    "    return (L, U)\n",
    "\n",
    "def doolittle(A, n):\n",
    "    (L, U) = initLU(n)\n",
    "    U[0] = A[0] / L[0][0]\n",
    "    L[:, 0] = A[:, 0] / U[0][0]\n",
    "    for i in range(1, len(A)):\n",
    "        for j in range(0, len(A[0])):\n",
    "            if j >= i: # obtain U matrix\n",
    "                s = 0\n",
    "                for k in range(0, i):\n",
    "                    s += L[i][k] * U[k][j]\n",
    "                U[i][j] = A[i][j] - s\n",
    "            else: # obtain L matri\n",
    "                if i > 1 and j > 0:\n",
    "                    s = 0\n",
    "                    for k in range(0, j):\n",
    "                        s += L[i][k] * U[k][j]\n",
    "                    L[i][j] = (1 / U[j][j]) * (A[i][j] - s)\n",
    "    return (L, U)"
   ]
  },
  {
   "cell_type": "code",
   "execution_count": 4,
   "metadata": {},
   "outputs": [],
   "source": [
    "def random_squared_matrix(n):\n",
    "    return np.random.rand(n, n)"
   ]
  },
  {
   "cell_type": "code",
   "execution_count": 8,
   "metadata": {},
   "outputs": [
    {
     "output_type": "stream",
     "name": "stdout",
     "text": [
      "A matrix: \n [[ 2  5]\n [-4  3]]\nL matrix: \n [[ 1.  0.]\n [-2.  1.]]\nU matrix: \n [[ 2.  5.]\n [ 0. 13.]]\nLU matrix: \n [[ 2.  5.]\n [-4.  3.]]\n"
     ]
    }
   ],
   "source": [
    "#A =  np.array([[6, 2, 1, -1], [2, 4, 1, 0], [1, 1, 4, -1], [-1, 0, -1, 3]])\n",
    "#n = 4\n",
    "#A = random_squared_matrix(n)\n",
    "A = np.array([[-4, -3, 1], [8, 11, -1], [4, 18, 5]]) #LU\n",
    "A = np.array([[6, 15, 55], [15, 55, 225], [55, 225, 979]]) #Cholesky\n",
    "A = np.array([[-1, -1, 1], [1, 3, 3], [-1, -1, 5], [1, 3, 7]]) #QR\n",
    "\n",
    "\n",
    "A = np.array([\n",
    "  [2,5],\n",
    "  [-4,3]\n",
    "])\n",
    "\n",
    "(L, U) = doolittle(A, 2)\n",
    "print(\"A matrix: \\n\", A)\n",
    "print(\"L matrix: \\n\", L)\n",
    "print(\"U matrix: \\n\", U)\n",
    "print(\"LU matrix: \\n\", L.dot(U))"
   ]
  },
  {
   "source": [
    "## Choleski\n",
    "Supongamos la misma matriz $A$ de dimensiones $nxn$, para este método la podemos descomponer de la siguiente manera: $A = LL^T$\n",
    "\n",
    "$l_{11} = \\sqrt a_{11}$\n",
    "\n",
    "$l_{j1} = \\frac{a_{j1}}{l_{11}}$\n",
    "\n",
    "$l_{ii} = \\sqrt{a_{ii} - \\sum^{i-1}_{k = 1}l_{ik}^2}$\n",
    "\n",
    "$l_{ji} = \\frac{1}{l_{ii}}(a_{ji} - \\sum^{i-1}_{k=1}l_{jk}l_{ik})$\n"
   ],
   "cell_type": "markdown",
   "metadata": {}
  },
  {
   "cell_type": "code",
   "execution_count": 7,
   "metadata": {},
   "outputs": [],
   "source": [
    "def equal_matrixes(A, B):\n",
    "    if len(A) == len(B) and len(A[0]) == len(B[0]):\n",
    "        equal = True\n",
    "        for i in range(len(A)):\n",
    "            for j in range(len(A[i])):\n",
    "                if A[i][j] == B[i][j]: \n",
    "                    pass\n",
    "                else:\n",
    "                    equal = False\n",
    "                    break\n",
    "        return equal\n",
    "    else:\n",
    "        return False\n",
    "\n",
    "def zeros_in_diag(A):\n",
    "    no_zeros = True\n",
    "    for i in range(0, len(A)):\n",
    "        for j in range(0, len(A[0])):\n",
    "            if i == j: \n",
    "                if A[i][j] == 0: \n",
    "                    no_zeros = False\n",
    "                    break\n",
    "    return no_zeros\n",
    "\n",
    "def validate_matrix(A):\n",
    "    eq_transpose = True if equal_matrixes(A, A.transpose()) else False\n",
    "    diag_zero = True if zeros_in_diag(A) else False\n",
    "    msg_diag = 'Matrix cannot have zeros on the main diagonal'\n",
    "    msg_transpose = 'Matrix must be equal to its transpose'\n",
    "    if diag_zero == False: return (False, msg_diag)\n",
    "    if eq_transpose == False: return (False, msg_transpose)\n",
    "    return (True, '')\n",
    "\n",
    "def symmetric_matrix(n):\n",
    "    numbers = np.random.randint(low = -100, high = 100, size = 100)\n",
    "    A = np.random.choice(numbers, size=(n, n))\n",
    "    return np.tril(A) + np.tril(A, -1).T\n",
    "\n",
    "def random_squared_matrix_cholesky(n):\n",
    "    A = np.random.rand(n, n)\n",
    "    B = np.dot(A,A.transpose())\n",
    "    return B"
   ]
  },
  {
   "cell_type": "code",
   "execution_count": 9,
   "metadata": {},
   "outputs": [],
   "source": [
    "def cholesky(A):\n",
    "    L = np.zeros((len(A), len(A)))\n",
    "    L[:,0] = A[:,0] / sqrt(A[0][0])\n",
    "    for i in range(0, len(L)):\n",
    "        for j in range(0, len(L[0])):\n",
    "            if j < i or j == i:\n",
    "                if j == i:\n",
    "                    s = 0\n",
    "                    for k in range(0, i):\n",
    "                        s += L[j][k] ** 2\n",
    "                    L[i][j] = sqrt(A[i][j] - s)\n",
    "                else:\n",
    "                    s = 0\n",
    "                    for k in range(0, j):\n",
    "                            s += L[i][k] * L[j][k]\n",
    "                    L[i][j] = (1 / L[j][j]) * (A[i][j] - s)\n",
    "    return L"
   ]
  },
  {
   "cell_type": "code",
   "execution_count": 21,
   "metadata": {},
   "outputs": [
    {
     "output_type": "stream",
     "name": "stdout",
     "text": [
      "A: \n [[  6  15  55]\n [ 15  55 225]\n [ 55 225 979]]\nL: \n [[ 2.44948974  0.          0.        ]\n [ 6.12372436  4.18330013  0.        ]\n [22.45365598 20.91650066  6.11010093]]\nLT: \n [[ 2.44948974  6.12372436 22.45365598]\n [ 0.          4.18330013 20.91650066]\n [ 0.          0.          6.11010093]]\nL*LT: \n [[  6.  15.  55.]\n [ 15.  55. 225.]\n [ 55. 225. 979.]]\n"
     ]
    }
   ],
   "source": [
    "#A = np.array([[25, 15, -5, -10], [15, 10, 1, -7], [-5, 1, 21, 4], [-10, -7, 4, 18]])\n",
    "n = 3\n",
    "#A = random_squared_matrix_cholesky(n)\n",
    "#A = np.array([[-4, -3, 1], [8, 11, -1], [4, 18, 5]]) #LU\n",
    "A = np.array([[6, 15, 55], [15, 55, 225], [55, 225, 979]]) #Cholesky\n",
    "#A = np.array([[-1, -1, 1], [1, 3, 3], [-1, -1, 5], [1, 3, 7]]) #QR\n",
    "\n",
    "(case, msg) = validate_matrix(A)\n",
    "if case :\n",
    "    L = cholesky(A)\n",
    "    LT = L.T\n",
    "    print(\"A: \\n\", A)\n",
    "    print(\"L: \\n\", L)\n",
    "    print(\"LT: \\n\", LT)\n",
    "    print(\"L*LT: \\n\", L.dot(LT))\n",
    "else:\n",
    "    print(msg)"
   ]
  }
 ]
}