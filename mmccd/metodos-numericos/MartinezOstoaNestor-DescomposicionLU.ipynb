{
 "metadata": {
  "language_info": {
   "codemirror_mode": {
    "name": "ipython",
    "version": 3
   },
   "file_extension": ".py",
   "mimetype": "text/x-python",
   "name": "python",
   "nbconvert_exporter": "python",
   "pygments_lexer": "ipython3",
   "version": "3.8.5-final"
  },
  "orig_nbformat": 2,
  "kernelspec": {
   "name": "Python 3.8.5 64-bit",
   "display_name": "Python 3.8.5 64-bit",
   "metadata": {
    "interpreter": {
     "hash": "1ee38ef4a5a9feb55287fd749643f13d043cb0a7addaab2a9c224cbe137c0062"
    }
   }
  }
 },
 "nbformat": 4,
 "nbformat_minor": 2,
 "cells": [
  {
   "source": [
    "# Descomposición LU\n",
    "### Métodos Matemáticos Computacionales para Ciencia de Datos\n",
    "*Martínez Ostoa Néstor Iván*\n",
    "\n",
    "Descomposición LU por los métodos de *Doolittle-Crout* y *Cholesky*"
   ],
   "cell_type": "markdown",
   "metadata": {}
  },
  {
   "cell_type": "code",
   "execution_count": 1,
   "metadata": {},
   "outputs": [],
   "source": [
    "import numpy as np\n",
    "from math import sqrt\n",
    "from scipy import random, linalg"
   ]
  },
  {
   "cell_type": "code",
   "execution_count": 3,
   "metadata": {},
   "outputs": [],
   "source": [
    "def initLU(n):\n",
    "    L = np.eye(n)\n",
    "    U = np.zeros((n, n))\n",
    "    return (L, U)\n",
    "\n",
    "def doolittle(A, n):\n",
    "    (L, U) = initLU(n)\n",
    "    U[0] = A[0] / L[0][0]\n",
    "    L[:, 0] = A[:, 0] / U[0][0]\n",
    "    for i in range(1, len(A)):\n",
    "        for j in range(0, len(A[0])):\n",
    "            if j >= i: # obtain U matrix\n",
    "                s = 0\n",
    "                for k in range(0, i):\n",
    "                    s += L[i][k] * U[k][j]\n",
    "                U[i][j] = A[i][j] - s\n",
    "            else: # obtain L matri\n",
    "                if i > 1 and j > 0:\n",
    "                    s = 0\n",
    "                    for k in range(0, j):\n",
    "                        s += L[i][k] * U[k][j]\n",
    "                    L[i][j] = (1 / U[j][j]) * (A[i][j] - s)\n",
    "    return (L, U)"
   ]
  },
  {
   "cell_type": "code",
   "execution_count": 4,
   "metadata": {},
   "outputs": [],
   "source": [
    "def random_squared_matrix(n):\n",
    "    return np.random.rand(n, n)"
   ]
  },
  {
   "cell_type": "code",
   "execution_count": 17,
   "metadata": {},
   "outputs": [
    {
     "output_type": "error",
     "ename": "ValueError",
     "evalue": "could not broadcast input array from shape (4) into shape (3)",
     "traceback": [
      "\u001b[0;31m---------------------------------------------------------------------------\u001b[0m",
      "\u001b[0;31mValueError\u001b[0m                                Traceback (most recent call last)",
      "\u001b[0;32m<ipython-input-17-40a28bf8f7d7>\u001b[0m in \u001b[0;36m<module>\u001b[0;34m\u001b[0m\n\u001b[1;32m      6\u001b[0m \u001b[0mA\u001b[0m \u001b[0;34m=\u001b[0m \u001b[0mnp\u001b[0m\u001b[0;34m.\u001b[0m\u001b[0marray\u001b[0m\u001b[0;34m(\u001b[0m\u001b[0;34m[\u001b[0m\u001b[0;34m[\u001b[0m\u001b[0;34m-\u001b[0m\u001b[0;36m1\u001b[0m\u001b[0;34m,\u001b[0m \u001b[0;34m-\u001b[0m\u001b[0;36m1\u001b[0m\u001b[0;34m,\u001b[0m \u001b[0;36m1\u001b[0m\u001b[0;34m]\u001b[0m\u001b[0;34m,\u001b[0m \u001b[0;34m[\u001b[0m\u001b[0;36m1\u001b[0m\u001b[0;34m,\u001b[0m \u001b[0;36m3\u001b[0m\u001b[0;34m,\u001b[0m \u001b[0;36m3\u001b[0m\u001b[0;34m]\u001b[0m\u001b[0;34m,\u001b[0m \u001b[0;34m[\u001b[0m\u001b[0;34m-\u001b[0m\u001b[0;36m1\u001b[0m\u001b[0;34m,\u001b[0m \u001b[0;34m-\u001b[0m\u001b[0;36m1\u001b[0m\u001b[0;34m,\u001b[0m \u001b[0;36m5\u001b[0m\u001b[0;34m]\u001b[0m\u001b[0;34m,\u001b[0m \u001b[0;34m[\u001b[0m\u001b[0;36m1\u001b[0m\u001b[0;34m,\u001b[0m \u001b[0;36m3\u001b[0m\u001b[0;34m,\u001b[0m \u001b[0;36m7\u001b[0m\u001b[0;34m]\u001b[0m\u001b[0;34m]\u001b[0m\u001b[0;34m)\u001b[0m \u001b[0;31m#QR\u001b[0m\u001b[0;34m\u001b[0m\u001b[0;34m\u001b[0m\u001b[0m\n\u001b[1;32m      7\u001b[0m \u001b[0;34m\u001b[0m\u001b[0m\n\u001b[0;32m----> 8\u001b[0;31m \u001b[0;34m(\u001b[0m\u001b[0mL\u001b[0m\u001b[0;34m,\u001b[0m \u001b[0mU\u001b[0m\u001b[0;34m)\u001b[0m \u001b[0;34m=\u001b[0m \u001b[0mdoolittle\u001b[0m\u001b[0;34m(\u001b[0m\u001b[0mA\u001b[0m\u001b[0;34m,\u001b[0m \u001b[0;36m3\u001b[0m\u001b[0;34m)\u001b[0m\u001b[0;34m\u001b[0m\u001b[0;34m\u001b[0m\u001b[0m\n\u001b[0m\u001b[1;32m      9\u001b[0m \u001b[0mprint\u001b[0m\u001b[0;34m(\u001b[0m\u001b[0;34m\"A matrix: \\n\"\u001b[0m\u001b[0;34m,\u001b[0m \u001b[0mA\u001b[0m\u001b[0;34m)\u001b[0m\u001b[0;34m\u001b[0m\u001b[0;34m\u001b[0m\u001b[0m\n\u001b[1;32m     10\u001b[0m \u001b[0mprint\u001b[0m\u001b[0;34m(\u001b[0m\u001b[0;34m\"L matrix: \\n\"\u001b[0m\u001b[0;34m,\u001b[0m \u001b[0mL\u001b[0m\u001b[0;34m)\u001b[0m\u001b[0;34m\u001b[0m\u001b[0;34m\u001b[0m\u001b[0m\n",
      "\u001b[0;32m<ipython-input-3-85fc5b60ecb2>\u001b[0m in \u001b[0;36mdoolittle\u001b[0;34m(A, n)\u001b[0m\n\u001b[1;32m      7\u001b[0m     \u001b[0;34m(\u001b[0m\u001b[0mL\u001b[0m\u001b[0;34m,\u001b[0m \u001b[0mU\u001b[0m\u001b[0;34m)\u001b[0m \u001b[0;34m=\u001b[0m \u001b[0minitLU\u001b[0m\u001b[0;34m(\u001b[0m\u001b[0mn\u001b[0m\u001b[0;34m)\u001b[0m\u001b[0;34m\u001b[0m\u001b[0;34m\u001b[0m\u001b[0m\n\u001b[1;32m      8\u001b[0m     \u001b[0mU\u001b[0m\u001b[0;34m[\u001b[0m\u001b[0;36m0\u001b[0m\u001b[0;34m]\u001b[0m \u001b[0;34m=\u001b[0m \u001b[0mA\u001b[0m\u001b[0;34m[\u001b[0m\u001b[0;36m0\u001b[0m\u001b[0;34m]\u001b[0m \u001b[0;34m/\u001b[0m \u001b[0mL\u001b[0m\u001b[0;34m[\u001b[0m\u001b[0;36m0\u001b[0m\u001b[0;34m]\u001b[0m\u001b[0;34m[\u001b[0m\u001b[0;36m0\u001b[0m\u001b[0;34m]\u001b[0m\u001b[0;34m\u001b[0m\u001b[0;34m\u001b[0m\u001b[0m\n\u001b[0;32m----> 9\u001b[0;31m     \u001b[0mL\u001b[0m\u001b[0;34m[\u001b[0m\u001b[0;34m:\u001b[0m\u001b[0;34m,\u001b[0m \u001b[0;36m0\u001b[0m\u001b[0;34m]\u001b[0m \u001b[0;34m=\u001b[0m \u001b[0mA\u001b[0m\u001b[0;34m[\u001b[0m\u001b[0;34m:\u001b[0m\u001b[0;34m,\u001b[0m \u001b[0;36m0\u001b[0m\u001b[0;34m]\u001b[0m \u001b[0;34m/\u001b[0m \u001b[0mU\u001b[0m\u001b[0;34m[\u001b[0m\u001b[0;36m0\u001b[0m\u001b[0;34m]\u001b[0m\u001b[0;34m[\u001b[0m\u001b[0;36m0\u001b[0m\u001b[0;34m]\u001b[0m\u001b[0;34m\u001b[0m\u001b[0;34m\u001b[0m\u001b[0m\n\u001b[0m\u001b[1;32m     10\u001b[0m     \u001b[0;32mfor\u001b[0m \u001b[0mi\u001b[0m \u001b[0;32min\u001b[0m \u001b[0mrange\u001b[0m\u001b[0;34m(\u001b[0m\u001b[0;36m1\u001b[0m\u001b[0;34m,\u001b[0m \u001b[0mlen\u001b[0m\u001b[0;34m(\u001b[0m\u001b[0mA\u001b[0m\u001b[0;34m)\u001b[0m\u001b[0;34m)\u001b[0m\u001b[0;34m:\u001b[0m\u001b[0;34m\u001b[0m\u001b[0;34m\u001b[0m\u001b[0m\n\u001b[1;32m     11\u001b[0m         \u001b[0;32mfor\u001b[0m \u001b[0mj\u001b[0m \u001b[0;32min\u001b[0m \u001b[0mrange\u001b[0m\u001b[0;34m(\u001b[0m\u001b[0;36m0\u001b[0m\u001b[0;34m,\u001b[0m \u001b[0mlen\u001b[0m\u001b[0;34m(\u001b[0m\u001b[0mA\u001b[0m\u001b[0;34m[\u001b[0m\u001b[0;36m0\u001b[0m\u001b[0;34m]\u001b[0m\u001b[0;34m)\u001b[0m\u001b[0;34m)\u001b[0m\u001b[0;34m:\u001b[0m\u001b[0;34m\u001b[0m\u001b[0;34m\u001b[0m\u001b[0m\n",
      "\u001b[0;31mValueError\u001b[0m: could not broadcast input array from shape (4) into shape (3)"
     ]
    }
   ],
   "source": [
    "#A =  np.array([[6, 2, 1, -1], [2, 4, 1, 0], [1, 1, 4, -1], [-1, 0, -1, 3]])\n",
    "#n = 4\n",
    "#A = random_squared_matrix(n)\n",
    "A = np.array([[-4, -3, 1], [8, 11, -1], [4, 18, 5]]) #LU\n",
    "A = np.array([[6, 15, 55], [15, 55, 225], [55, 225, 979]]) #Cholesky\n",
    "A = np.array([[-1, -1, 1], [1, 3, 3], [-1, -1, 5], [1, 3, 7]]) #QR\n",
    "\n",
    "(L, U) = doolittle(A, 3)\n",
    "print(\"A matrix: \\n\", A)\n",
    "print(\"L matrix: \\n\", L)\n",
    "print(\"U matrix: \\n\", U)\n",
    "print(\"LU matrix: \\n\", L.dot(U))"
   ]
  },
  {
   "source": [
    "## Choleski\n",
    "Supongamos la misma matriz $A$ de dimensiones $nxn$, para este método la podemos descomponer de la siguiente manera: $A = LL^T$\n",
    "\n",
    "$l_{11} = \\sqrt a_{11}$\n",
    "\n",
    "$l_{j1} = \\frac{a_{j1}}{l_{11}}$\n",
    "\n",
    "$l_{ii} = \\sqrt{a_{ii} - \\sum^{i-1}_{k = 1}l_{ik}^2}$\n",
    "\n",
    "$l_{ji} = \\frac{1}{l_{ii}}(a_{ji} - \\sum^{i-1}_{k=1}l_{jk}l_{ik})$\n"
   ],
   "cell_type": "markdown",
   "metadata": {}
  },
  {
   "cell_type": "code",
   "execution_count": 7,
   "metadata": {},
   "outputs": [],
   "source": [
    "def equal_matrixes(A, B):\n",
    "    if len(A) == len(B) and len(A[0]) == len(B[0]):\n",
    "        equal = True\n",
    "        for i in range(len(A)):\n",
    "            for j in range(len(A[i])):\n",
    "                if A[i][j] == B[i][j]: \n",
    "                    pass\n",
    "                else:\n",
    "                    equal = False\n",
    "                    break\n",
    "        return equal\n",
    "    else:\n",
    "        return False\n",
    "\n",
    "def zeros_in_diag(A):\n",
    "    no_zeros = True\n",
    "    for i in range(0, len(A)):\n",
    "        for j in range(0, len(A[0])):\n",
    "            if i == j: \n",
    "                if A[i][j] == 0: \n",
    "                    no_zeros = False\n",
    "                    break\n",
    "    return no_zeros\n",
    "\n",
    "def validate_matrix(A):\n",
    "    eq_transpose = True if equal_matrixes(A, A.transpose()) else False\n",
    "    diag_zero = True if zeros_in_diag(A) else False\n",
    "    msg_diag = 'Matrix cannot have zeros on the main diagonal'\n",
    "    msg_transpose = 'Matrix must be equal to its transpose'\n",
    "    if diag_zero == False: return (False, msg_diag)\n",
    "    if eq_transpose == False: return (False, msg_transpose)\n",
    "    return (True, '')\n",
    "\n",
    "def symmetric_matrix(n):\n",
    "    numbers = np.random.randint(low = -100, high = 100, size = 100)\n",
    "    A = np.random.choice(numbers, size=(n, n))\n",
    "    return np.tril(A) + np.tril(A, -1).T\n",
    "\n",
    "def random_squared_matrix_cholesky(n):\n",
    "    A = np.random.rand(n, n)\n",
    "    B = np.dot(A,A.transpose())\n",
    "    return B"
   ]
  },
  {
   "cell_type": "code",
   "execution_count": 9,
   "metadata": {},
   "outputs": [],
   "source": [
    "def cholesky(A):\n",
    "    L = np.zeros((len(A), len(A)))\n",
    "    L[:,0] = A[:,0] / sqrt(A[0][0])\n",
    "    for i in range(0, len(L)):\n",
    "        for j in range(0, len(L[0])):\n",
    "            if j < i or j == i:\n",
    "                if j == i:\n",
    "                    s = 0\n",
    "                    for k in range(0, i):\n",
    "                        s += L[j][k] ** 2\n",
    "                    L[i][j] = sqrt(A[i][j] - s)\n",
    "                else:\n",
    "                    s = 0\n",
    "                    for k in range(0, j):\n",
    "                            s += L[i][k] * L[j][k]\n",
    "                    L[i][j] = (1 / L[j][j]) * (A[i][j] - s)\n",
    "    return L"
   ]
  },
  {
   "cell_type": "code",
   "execution_count": 21,
   "metadata": {},
   "outputs": [
    {
     "output_type": "stream",
     "name": "stdout",
     "text": [
      "A: \n [[  6  15  55]\n [ 15  55 225]\n [ 55 225 979]]\nL: \n [[ 2.44948974  0.          0.        ]\n [ 6.12372436  4.18330013  0.        ]\n [22.45365598 20.91650066  6.11010093]]\nLT: \n [[ 2.44948974  6.12372436 22.45365598]\n [ 0.          4.18330013 20.91650066]\n [ 0.          0.          6.11010093]]\nL*LT: \n [[  6.  15.  55.]\n [ 15.  55. 225.]\n [ 55. 225. 979.]]\n"
     ]
    }
   ],
   "source": [
    "#A = np.array([[25, 15, -5, -10], [15, 10, 1, -7], [-5, 1, 21, 4], [-10, -7, 4, 18]])\n",
    "n = 3\n",
    "#A = random_squared_matrix_cholesky(n)\n",
    "#A = np.array([[-4, -3, 1], [8, 11, -1], [4, 18, 5]]) #LU\n",
    "A = np.array([[6, 15, 55], [15, 55, 225], [55, 225, 979]]) #Cholesky\n",
    "#A = np.array([[-1, -1, 1], [1, 3, 3], [-1, -1, 5], [1, 3, 7]]) #QR\n",
    "\n",
    "(case, msg) = validate_matrix(A)\n",
    "if case :\n",
    "    L = cholesky(A)\n",
    "    LT = L.T\n",
    "    print(\"A: \\n\", A)\n",
    "    print(\"L: \\n\", L)\n",
    "    print(\"LT: \\n\", LT)\n",
    "    print(\"L*LT: \\n\", L.dot(LT))\n",
    "else:\n",
    "    print(msg)"
   ]
  }
 ]
}