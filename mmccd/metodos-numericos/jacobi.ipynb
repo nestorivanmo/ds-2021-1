{
 "metadata": {
  "language_info": {
   "codemirror_mode": {
    "name": "ipython",
    "version": 3
   },
   "file_extension": ".py",
   "mimetype": "text/x-python",
   "name": "python",
   "nbconvert_exporter": "python",
   "pygments_lexer": "ipython3",
   "version": "3.8.5-final"
  },
  "orig_nbformat": 2,
  "kernelspec": {
   "name": "python3",
   "display_name": "Python 3"
  }
 },
 "nbformat": 4,
 "nbformat_minor": 2,
 "cells": [
  {
   "source": [
    "# Método de Jacobi"
   ],
   "cell_type": "markdown",
   "metadata": {}
  },
  {
   "source": [
    "### Ejercicio:\n",
    "$$2x -y = 9$$ $$x + 6y -2x = 15 $$ $$4x-3y+8z=1$$\n",
    "Semilla: $(0,0,0)$\n",
    "\n",
    "No más de $10$ iteraciones"
   ],
   "cell_type": "markdown",
   "metadata": {}
  },
  {
   "cell_type": "code",
   "execution_count": 33,
   "metadata": {},
   "outputs": [],
   "source": [
    "def X(y):\n",
    "    return 4.5 + 0.5*y\n",
    "def Y(x, z):\n",
    "    return 2.5 - (x/6) + (z/3)\n",
    "def Z(x, y):\n",
    "    return 0.125 - (x/2) + (0.375*y)\n",
    "\n",
    "def jacobi(n_iter, seed):\n",
    "    for i in range(-1, n_iter):\n",
    "        x,y,z = seed\n",
    "        n_x, n_y, n_z = X(y), Y(x, z), Z(x, y)\n",
    "        Di = max(abs(n_x - x), abs(n_y - y), abs(n_z - z))\n",
    "        seed = (n_x, n_y, n_z)\n",
    "        print(f'Iteración #{i+1}: \\tx: {x} \\ty: {y} \\tz: {z} \\t\\t D{i+1}: {Di}')\n",
    "    final = (round(n_x), round(n_y), round(n_z))\n",
    "    return final"
   ]
  },
  {
   "cell_type": "code",
   "execution_count": 34,
   "metadata": {},
   "outputs": [
    {
     "output_type": "stream",
     "name": "stdout",
     "text": [
      "Iteración #0: \tx: 0 \ty: 0 \tz: 0 \t\t D0: 4.5\nIteración #1: \tx: 4.5 \ty: 2.5 \tz: 0.125 \t\t D1: 1.3125\nIteración #2: \tx: 5.75 \ty: 1.7916666666666667 \tz: -1.1875 \t\t D2: 0.890625\nIteración #3: \tx: 5.395833333333333 \ty: 1.1458333333333333 \tz: -2.078125 \t\t D3: 0.3229166666666661\nIteración #4: \tx: 5.072916666666667 \ty: 0.9079861111111113 \tz: -2.1432291666666665 \t\t D4: 0.1189236111111116\nIteración #5: \tx: 4.953993055555555 \ty: 0.9401041666666666 \tz: -2.070963541666667 \t\t D5: 0.07150607638888928\nIteración #6: \tx: 4.970052083333333 \ty: 0.9840133101851852 \tz: -1.9994574652777777 \t\t D6: 0.021954571759259522\nIteración #7: \tx: 4.992006655092593 \ty: 1.005172164351852 \tz: -1.991021050347222 \t\t D7: 0.010579427083333037\nIteración #8: \tx: 5.002586082175926 \ty: 1.0043252073688271 \tz: -1.9940637659143516 \t\t D8: 0.005607322410301041\nIteración #9: \tx: 5.002162603684414 \ty: 1.0015477309992287 \tz: -1.9996710883246527 \t\t D9: 0.0017985277215152307\nIteración #10: \tx: 5.000773865499614 \ty: 0.9997492032777134 \tz: -2.000500902717496 \t\t D10: 0.0008992638607567827\n(5, 1, -2)\n"
     ]
    }
   ],
   "source": [
    "f = jacobi(10, (0,0,0))\n",
    "print(f)"
   ]
  },
  {
   "cell_type": "code",
   "execution_count": null,
   "metadata": {},
   "outputs": [],
   "source": []
  },
  {
   "cell_type": "code",
   "execution_count": null,
   "metadata": {},
   "outputs": [],
   "source": []
  },
  {
   "cell_type": "code",
   "execution_count": null,
   "metadata": {},
   "outputs": [],
   "source": []
  },
  {
   "cell_type": "code",
   "execution_count": null,
   "metadata": {},
   "outputs": [],
   "source": []
  }
 ]
}