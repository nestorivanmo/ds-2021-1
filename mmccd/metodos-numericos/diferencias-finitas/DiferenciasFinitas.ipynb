{
 "metadata": {
  "language_info": {
   "codemirror_mode": {
    "name": "ipython",
    "version": 3
   },
   "file_extension": ".py",
   "mimetype": "text/x-python",
   "name": "python",
   "nbconvert_exporter": "python",
   "pygments_lexer": "ipython3",
   "version": "3.8.5-final"
  },
  "orig_nbformat": 2,
  "kernelspec": {
   "name": "python3",
   "display_name": "Python 3",
   "language": "python"
  }
 },
 "nbformat": 4,
 "nbformat_minor": 2,
 "cells": [
  {
   "source": [
    "# Método de Diferencias Finitas\n",
    "Martínez Ostoa Néstor\n",
    "\n",
    "#315618648\n",
    "\n",
    "Métodos Matemáticos Computacionales para Ciencia de Datos\n",
    "\n",
    "Licenciatura en Ciencia de Datos \n",
    "\n",
    "IIMAS, UNAM\n",
    "\n",
    "Enero del 2021"
   ],
   "cell_type": "markdown",
   "metadata": {}
  },
  {
   "source": [
    "Este método se basa en el ejemplo de las ecuaciones diferenciales parciales (PDEs) elípticas (capítulo 9 del libro *Numerical Methods for Engineers and Scientists* de Joe Hoffman). Concretamente en el siguiente ejemplo: \n",
    "\n",
    "## Ejemplo: Sistemas térmicos\n",
    "\n",
    "Tenemos dos sistemas térmicos para los cuales queremos conocer su temperatura $T(x,y)$ dado las coordenadas $(x,y)$. La distribución de la temperatura sobre estos sistemas térmicos está gobernada por la ecuación de dos dimensiones de Laplace: $$T_{xx} + T_{yy} = 0$$ más condiciones de frontera especificadas por los bordes del sistema. Para este caso en particular sí se conoce la solución analítica, es decir, la ecuación que dadas dos coordenadas $x,y$, se puede obtener la temperatura del sistema. Sin embargo, el **método de Diferencias Finitas** se aplica cuando no conocemos esta ecuación. Dicha ecuación es la siguiente: $$T(x,y) = 100 \\frac{\\sinh(\\pi y / w)\\sin(\\pi x/w)}{\\sinh (\\pi h / w)}$$ En la siguiente celda tenemos los valores al sustituir valores de $x,y$. El ejemplo indica que tenemos una placa con $w=10\\; \\text{cm}$ de ancho y $h=15\\; \\text{cm}$ de alto.\n",
    "\n"
   ],
   "cell_type": "markdown",
   "metadata": {}
  },
  {
   "cell_type": "code",
   "execution_count": 189,
   "metadata": {},
   "outputs": [
    {
     "output_type": "stream",
     "name": "stdout",
     "text": [
      "x=0\ty=15.0\t\tT(x,y)=0.0\nx=0\ty=13.75\t\tT(x,y)=0.0\nx=0\ty=12.5\t\tT(x,y)=0.0\nx=0\ty=11.25\t\tT(x,y)=0.0\nx=0\ty=10.0\t\tT(x,y)=0.0\nx=0\ty=8.75\t\tT(x,y)=0.0\nx=0\ty=7.5\t\tT(x,y)=0.0\nx=0\ty=6.25\t\tT(x,y)=0.0\nx=0\ty=5.0\t\tT(x,y)=0.0\nx=0\ty=3.75\t\tT(x,y)=0.0\nx=0\ty=2.5\t\tT(x,y)=0.0\nx=0\ty=1.25\t\tT(x,y)=0.0\nx=0\ty=0.0\t\tT(x,y)=0.0\n\nx=1.25\ty=15.0\t\tT(x,y)=38.268343236508976\nx=1.25\ty=13.75\t\tT(x,y)=25.837517849015125\nx=1.25\ty=12.5\t\tT(x,y)=17.442631011620794\nx=1.25\ty=11.25\t\tT(x,y)=11.772362975704958\nx=1.25\ty=10.0\t\tT(x,y)=7.940991920414657\nx=1.25\ty=8.75\t\tT(x,y)=5.350040150170044\nx=1.25\ty=7.5\t\tT(x,y)=3.5947891392951923\nx=1.25\ty=6.25\t\tT(x,y)=2.4010606458518557\nx=1.25\ty=5.0\t\tT(x,y)=1.5823888152949586\nx=1.25\ty=3.75\t\tT(x,y)=1.0108933605112747\nx=1.25\ty=2.5\t\tT(x,y)=0.5973040756456376\nx=1.25\ty=1.25\t\tT(x,y)=0.27701642134362275\nx=1.25\ty=0.0\t\tT(x,y)=0.0\n\nx=2.5\ty=15.0\t\tT(x,y)=70.71067811865476\nx=2.5\ty=13.75\t\tT(x,y)=47.74150782320024\nx=2.5\ty=12.5\t\tT(x,y)=32.22977956956618\nx=2.5\ty=11.25\t\tT(x,y)=21.752490405094953\nx=2.5\ty=10.0\t\tT(x,y)=14.673039806217195\nx=2.5\ty=8.75\t\tT(x,y)=9.88558518571143\nx=2.5\ty=7.5\t\tT(x,y)=6.642304218977387\nx=2.5\ty=6.25\t\tT(x,y)=4.43658157404172\nx=2.5\ty=5.0\t\tT(x,y)=2.9238732778515892\nx=2.5\ty=3.75\t\tT(x,y)=1.86788737065584\nx=2.5\ty=2.5\t\tT(x,y)=1.1036740203491555\nx=2.5\ty=1.25\t\tT(x,y)=0.5118596036977915\nx=2.5\ty=0.0\t\tT(x,y)=0.0\n\nx=3.75\ty=15.0\t\tT(x,y)=92.38795325112868\nx=3.75\ty=13.75\t\tT(x,y)=62.37728600914922\nx=3.75\ty=12.5\t\tT(x,y)=42.11023635172445\nx=3.75\ty=11.25\t\tT(x,y)=28.4209983571258\nx=3.75\ty=10.0\t\tT(x,y)=19.171250392960232\nx=3.75\ty=8.75\t\tT(x,y)=12.916139489781111\nx=3.75\ty=7.5\t\tT(x,y)=8.67858869395796\nx=3.75\ty=6.25\t\tT(x,y)=5.796673175295853\nx=3.75\ty=5.0\t\tT(x,y)=3.8202245388325826\nx=3.75\ty=3.75\t\tT(x,y)=2.440512461059234\nx=3.75\ty=2.5\t\tT(x,y)=1.4420196002844232\nx=3.75\ty=1.25\t\tT(x,y)=0.6687768014078337\nx=3.75\ty=0.0\t\tT(x,y)=0.0\n\nx=5\ty=15.0\t\tT(x,y)=100.0\nx=5\ty=13.75\t\tT(x,y)=67.51668785171098\nx=5\ty=12.5\t\tT(x,y)=45.57979137957579\nx=5\ty=11.25\t\tT(x,y)=30.762666946275907\nx=5\ty=10.0\t\tT(x,y)=20.75081189519265\nx=5\ty=8.75\t\tT(x,y)=13.980328641627656\nx=5\ty=7.5\t\tT(x,y)=9.393636711885849\nx=5\ty=6.25\t\tT(x,y)=6.274273832584376\nx=5\ty=5.0\t\tT(x,y)=4.134981244197995\nx=5\ty=3.75\t\tT(x,y)=2.6415916525669094\nx=5\ty=2.5\t\tT(x,y)=1.5608307680166154\nx=5\ty=1.25\t\tT(x,y)=0.7238787935803346\nx=5\ty=0.0\t\tT(x,y)=0.0\n\n"
     ]
    }
   ],
   "source": [
    "import numpy as np \n",
    "def analytical_solution(x,y):\n",
    "    w = 10\n",
    "    h = 15\n",
    "    return 100 * ((np.sinh((np.pi*y)/w)*np.sin((np.pi*x)/w))/(np.sinh((np.pi*h)/w)))\n",
    "\n",
    "for x in [0,1.25,2.5,3.75,5]:\n",
    "    for y in np.linspace(15,0,13):\n",
    "        print(f'x={x}\\ty={y}\\t\\tT(x,y)={analytical_solution(x,y)}')\n",
    "    print()\n"
   ]
  },
  {
   "source": [
    "## Método de diferencias finitias\n",
    "Es un método numérico utilizado para resolver ecuaciones diferenciales parciales (PDEs) al **discretizar** el dominio continuo en una malla de pasos discreta. Concretamente, se aproximan las PDEs por medio de aproximaciones en diferencia finitas (FDAs), sustityuendo las FDAs en PDEs y resolviendo la ecuaciones en diferencias finita (FDEs) para la variable dependiente.\n",
    "\n",
    "### Malla diferencias finitas\n",
    "Esta malla abarca todo el dominio $D(x,y)$ del problema físico a resolver. La intersección de esta malla son los puntos en los cuales se obtiene la solución en diferencias finitas para la ecuacione diferencial parcial. \n",
    "\n",
    "Estas mallas tienen un espaciamiento en $x$ y en $y$, $\\Delta x$, $\\Delta y$ respectivamente pero **no** necesariamente se cumple que $\\Delta x$ sea igual a $ \\Delta y$. La función $f(x,y)$ en el punto de la malla $(i,j)$ se denota por $$f(x_i, y_i) = f_{ij}$$ y de manera análoga, las derivadas están denotadas por $\\frac{\\partial f(x_i, y_i)}{\\partial x} = \\frac{\\partial f}{\\partial x}\\big |_{ij} = f_x|_{ij}$ y $\\frac{\\partial² f(x_i, y_i)}{\\partial x^2} = \\frac{\\partial^2 f}{\\partial x^2}\\big |_{ij} = f_{xx}|_{ij}$\n",
    "\n",
    "### Aproximaciones de Diferencias Finitas (FDAs)\n",
    "Ahora, debemos desarrollar aproximaciones de diferencias finitas de las derivadas parciales de las ecuaciones diferenciales parciales. Para logar esto, empleamos la serie de Taylor para la variable dependiente. Antes, debemos dejar en claro la diferencia entre la solución exacta y la solución aproximada: $$\\widehat{f}(x,y): \\text{solución exacta}$$ $$f(x,y): \\text{solución aproximada}$$\n",
    "\n",
    "Concretamente, la aproximación, por medio del método de malla de diferencias finitas, de las derivadas parciales exactas en el punto de la malla $(i,j)$ se obtiene en términos de los valores de $\\widehat{f}$ en el punto $(i,j)$ y puntos adyacentes a él dentro de la malla. \n",
    "\n",
    "### Solución de la ecuación de Laplace por medio de diferencias finitas\n",
    "\n",
    "Para obtener esta solución emplearemos la serie de Taylor. Recordemos que la serie de Taylor de una función $f$ es la siguiente: $$f(x) = f(a) + f'(a)(x-a) + \\frac{f''(x)}{2!}(x-a)^2 + \\cdots + \\frac{f^n(a)}{n!}(x-a)^n$$ y la ecuación de Laplace es la siguiente: $$\\widehat{f}_{xx} + \\widehat{f}_{yy} = 0$$\n",
    "\n",
    "### Desarrollo de serie de Taylor para las segundas derivadas\n",
    "$$ f(x_0 + \\Delta x) = f(x_0) + \\frac{\\partial f(x_0)}{\\partial x}\\Delta x + \\frac{\\partial^2 f(x_0)}{\\partial x^2}\\frac{\\Delta x^2}{2!} + \\cdots $$\n",
    "$$ f(x_0 - \\Delta x) = f(x_0) - \\frac{\\partial f(x_0)}{\\partial x}\\Delta x + \\frac{\\partial^2 f(x_0)}{\\partial x^2}\\frac{\\Delta x^2}{2!} + \\cdots $$\n",
    "$$ f(x_0 + \\Delta x) + f(x_0 - \\Delta x) = 2f(x_0) + \\frac{2\\partial^2f(x_0)}{\\partial x^2}\\frac{\\Delta x^2}{2!} $$\n",
    "$$ \\frac{\\partial^2f(x_0)}{\\partial x^2} = \\frac{f(x_0 + \\Delta x) -2f(x_0) +f(x_0 - \\Delta x)}{\\Delta x^2} $$\n",
    "$$ \\frac{\\partial^2f(y_0)}{\\partial y^2} = \\frac{f(y_0 + \\Delta y) -2f(y_0) +f(y_0 - \\Delta y)}{\\Delta y^2} $$\n",
    "$$ f_{xx}|_{ij} = \\frac{f_{i+1j}-2f_{ij}+f_{i-1j}}{\\Delta x^2} $$\n",
    "$$ f_{yy}|_{ij} = \\frac{f_{i+1j}-2f_{ij}+f_{i-1j}}{\\Delta y^2} $$\n",
    "\n",
    "\n",
    "### Discretización\n",
    "Reemplazando $\\widehat{f}_{xx}$ y $\\widehat{f}_{yy}$ por la segunda derivada respectivamente de $x$ y de $y$, obtenemos: $$\\frac{f_{i+1j}-2f_{ij}+f_{i-1j}}{\\Delta x^2} + \\frac{f_{ij+1}-2f_{ij}+f_{ij-1}}{\\Delta y^2} = 0$$ que, al considerar $\\beta = \\frac{\\Delta x}{\\Delta y}$, se puede rescribir como: $$f_{i+1j}+\\beta^2f_{ij+1}+f_{i-1j}+\\beta^2f_{ij-1}-2(1+\\beta^2)f_{ij} = 0$$ y al resolver para $f_{ij}$ obtenemos: $$f_{ij} = \\frac{f_{i+1j}+\\beta^2f_{ij+1}+f_{i-1j}+\\beta^2f_{ij-1}}{2(1+\\beta^2)}$$ \n",
    "que al observar la solución podemos apreciar que la solución para cada punto de la malla depende de los cuatro puntos vecinos a él dentro de la malla. En el caso cuando tengamos $\\Delta x = \\Delta y$, $\\beta = 1$ por lo que tenemos las siguiente ecuaciones: $$f_{ij} = \\frac{1}{4}(f_{i+1j}+f_{ij+1}+f_{i-1j}+f_{ij-1})$$ $$f_{i+1j}+f_{ij+1}+f_{i-1j}+f_{ij-1}-4f_{ij}=0$$\n",
    "\n",
    "No existe una ventaja matemáticamente formal para usar $\\beta = 1$, sin embargo, valores de $\\beta$ más grandes que la unidad tienden a producir resultados menos certeros que cuando se utiliza un $\\beta$ cerca de la vecindad de la unidad. \n"
   ],
   "cell_type": "markdown",
   "metadata": {}
  },
  {
   "cell_type": "code",
   "execution_count": 190,
   "metadata": {},
   "outputs": [],
   "source": [
    "def process_T(T, deltaX, deltaY, d0, d1):\n",
    "    \"\"\"Prints out nicely the matrix T containing the temperatures\"\"\"\n",
    "    T_mod = []\n",
    "    d1 -= 2\n",
    "    d0 -= 2\n",
    "    for i in range(d1):\n",
    "        a = i\n",
    "        for j in range(d0):\n",
    "            T_mod.append(T[a][0])\n",
    "            a += d1\n",
    "    d0 += 2\n",
    "    d1 += 2\n",
    "    n_T = 0\n",
    "    for col in range(1,d1-1):\n",
    "        print(f'x={deltaX*col}[cm]:', end='')\n",
    "        for row in range(d0-1,1,-1):\n",
    "            if row == d0-1:\n",
    "                print(f'\\ty={deltaY*row-deltaY}[cm]  T(x,y)={np.round(T_mod[n_T],4)}')\n",
    "            else:\n",
    "                print(f'\\t\\ty={deltaY*row-deltaY}[cm]  T(x,y)={np.round(T_mod[n_T],4)}')\n",
    "            n_T += 1\n",
    "        print()"
   ]
  },
  {
   "cell_type": "code",
   "execution_count": 191,
   "metadata": {},
   "outputs": [],
   "source": [
    "def build_grid_matrix(boundaries):\n",
    "    \"\"\"Builds the grid matrix with boundaries and a given height h and width w\n",
    "\n",
    "    Parameters\n",
    "    ----------\n",
    "    h : int\n",
    "        Thermal system's height.\n",
    "    w : int\n",
    "        Thermal system's width.\n",
    "    deltaX : float\n",
    "        Grid's width of X axis.\n",
    "    deltaY : float\n",
    "        Grid's height of Y axis.\n",
    "    boundaries : numpy.ndarray\n",
    "        Must containt 4 numpy.ndarrays each representing one side of the thermal plate\n",
    "        (top, right, bottom, left).\n",
    "\n",
    "    Returns\n",
    "    -------\n",
    "    Matrix G\n",
    "    \"\"\"\n",
    "    rows = len(boundaries[1]) + 2 #boundaries[1] contains the right boundary\n",
    "    cols = len(boundaries[0]) + 2 #boundaires[0] contains the top boundary\n",
    "    init_G = np.full((rows, cols), np.inf)\n",
    "    G = add_boundaries(init_G, boundaries)\n",
    "    return G"
   ]
  },
  {
   "cell_type": "code",
   "execution_count": 192,
   "metadata": {},
   "outputs": [],
   "source": [
    "import numpy as np\n",
    "\n",
    "def add_boundaries(G, boundaries):\n",
    "    \"\"\"Adds the given boundaries to the matrix G\n",
    "    \n",
    "    Parameters\n",
    "    ----------\n",
    "    G : numpy.ndarray\n",
    "        Matrix that will be used to model the thermal system, the center will allocate\n",
    "        the temperature grid points interested in solving. While the first and last\n",
    "        column and row will be allocate the thermal boundaries of the system. \n",
    "    boundaries : numpy.ndarray\n",
    "        Must containt 4 numpy.ndarrays each representing one side of the thermal plate\n",
    "        (top, right, bottom, left).\n",
    "\n",
    "    Returns\n",
    "    -------\n",
    "    G\n",
    "    \"\"\"\n",
    "    boundaries_rows = len(boundaries[1])\n",
    "    boundaries_cols = len(boundaries[0])\n",
    "    grid_rows = G.shape[0]\n",
    "    grid_cols = G.shape[1]\n",
    "    G[0][1:boundaries_cols+1] = boundaries[0] #top\n",
    "    G[grid_rows-1][1:boundaries_cols+1] = boundaries[2] #bottom\n",
    "    G[1:boundaries_rows+1, grid_cols-1] = boundaries[1] #right\n",
    "    G[1:boundaries_rows+1, 0] = boundaries[3] #left\n",
    "    return G"
   ]
  },
  {
   "cell_type": "code",
   "execution_count": 193,
   "metadata": {},
   "outputs": [],
   "source": [
    "def get_boundaries(h, w, deltaX, deltaY, **kwargs):\n",
    "    \"\"\"Generates the temperatature boundaries given a top, bottom, right\n",
    "    and left functions.\n",
    "    \"\"\"\n",
    "    nsX = np.linspace(deltaX, w, int(w/deltaX))\n",
    "    nsY = np.linspace(deltaY, h, int(h/deltaY))\n",
    "\n",
    "    top = [kwargs['top'](x) for x in nsX]\n",
    "    bottom = [kwargs['bottom'](x) for x in nsX]\n",
    "    right = [kwargs['right'](y) for y in nsY]\n",
    "    left = [kwargs['left'](y) for y in nsY]\n",
    "\n",
    "    boundaries = np.array([\n",
    "        top,\n",
    "        right[::-1],\n",
    "        bottom,\n",
    "        left[::-1]\n",
    "    ])\n",
    "    return boundaries"
   ]
  },
  {
   "cell_type": "code",
   "execution_count": 194,
   "metadata": {},
   "outputs": [],
   "source": [
    "def print_grid(G):\n",
    "    for i in range(len(G)):\n",
    "        for j in range(len(G[i])):\n",
    "            print(f'{np.round(G[i][j],2)}\\t', end='')\n",
    "        print()\n",
    "    print()"
   ]
  },
  {
   "cell_type": "code",
   "execution_count": 195,
   "metadata": {},
   "outputs": [],
   "source": [
    "def show_verbose(boundaries, G, A, B, T):\n",
    "    print(\"Boundaries\")\n",
    "    print_grid(boundaries)\n",
    "    print(f\"Grid ({len(boundaries[1])}x{len(boundaries[0])})\")\n",
    "    print_grid(G)\n",
    "    print(\"A\")\n",
    "    print_grid(A)\n",
    "    print(\"B\")\n",
    "    print_grid(B)\n",
    "    print(\"T\")\n",
    "    print_grid(T.reshape(len(boundaries[1]), len(boundaries[0])))"
   ]
  },
  {
   "cell_type": "code",
   "execution_count": 196,
   "metadata": {},
   "outputs": [],
   "source": [
    "def build_A_B(G, deltaX, deltaY):\n",
    "    \"\"\"Builds the matrices A and B that satisfy the equation: AX=B where X\n",
    "    is the temperature vector of the thermal system. \n",
    "\n",
    "    Parameters\n",
    "    ----------\n",
    "    G : numpy.ndarray\n",
    "        Matrix  that already contains the boundaries to the thermal system.\n",
    "    Returns\n",
    "    -------\n",
    "    A : numpy.ndarray\n",
    "    B : numpy.ndarray\n",
    "    \"\"\"\n",
    "    dimA = (G.shape[0] - 2) * (G.shape[1] - 2)\n",
    "    A = np.zeros((dimA, dimA))\n",
    "    B = np.zeros((dimA, 1))\n",
    "    n_row = n_T = 0\n",
    "    d0 = G.shape[0]\n",
    "    d1 = G.shape[1]\n",
    "    beta = deltaX/deltaY\n",
    "    for row in range(1, G.shape[0]-1):\n",
    "        for col in range(1, G.shape[1]-1):\n",
    "            #Building matrix A\n",
    "            A[n_row][n_T] = -2*(1+beta**2) #Main diagonal\n",
    "\n",
    "            top_idx, right_idx, bottom_idx, left_idx = n_T-(d1-2), n_T+1, n_T+(d1-2), n_T-1\n",
    "            if row > 1: \n",
    "                A[n_T][top_idx] = beta ** 2\n",
    "            if col < d1-2: \n",
    "                A[n_T][right_idx] = 1\n",
    "            if row < d0-2: \n",
    "                A[n_T][bottom_idx] = beta ** 2\n",
    "            if col > 1: \n",
    "                A[n_T][left_idx] = 1\n",
    "            \n",
    "            #Building vector B\n",
    "            top, right, bottom, left = G[row-1][col], G[row][col+1], G[row+1][col], G[row][col-1]\n",
    "            #Check vertical position\n",
    "            if row == 1: #T_i is adjacent to upper boundary\n",
    "                B[n_T][0] -= top * (beta ** 2)\n",
    "            elif row == d0-2: #T_i is adjacent to lower boundary\n",
    "                B[n_T][0] -= bottom * (beta ** 2)\n",
    "\n",
    "            #Check horizontal position\n",
    "            if col == 1: #T_i is adjacent to left boundary\n",
    "                B[n_T][0] -= left\n",
    "            elif col == d1-2: #T_i is adjacent to right boundary\n",
    "                B[n_T][0] -= right\n",
    "\n",
    "            n_row += 1\n",
    "            n_T += 1\n",
    "    return A, B"
   ]
  },
  {
   "cell_type": "code",
   "execution_count": 197,
   "metadata": {},
   "outputs": [],
   "source": [
    "import matplotlib.pyplot as plt\n",
    "from mpl_toolkits.mplot3d import axes3d\n",
    "import plotly.graph_objects as go\n",
    "\n",
    "def plot_system(h, w, deltaX, deltaY, T, plot='3d'):\n",
    "    if plot is 'heat':\n",
    "        plt.imshow(T, cmap='hot', interpolation=\"spline16\")\n",
    "        plt.show()\n",
    "    elif plot is '3d':\n",
    "        plot_3d(h, w, deltaX, deltaY, T)\n",
    "\n",
    "def plot_3d(h, w, deltaX, deltaY, T):\n",
    "    num_squares_X = int(w/deltaX)\n",
    "    num_squares_Y = int(h/deltaY)\n",
    "    X = np.full((num_squares_Y, num_squares_X), np.linspace(deltaX, w, num_squares_X))\n",
    "    Y = np.full((num_squares_X, num_squares_Y), np.linspace(deltaY, h, num_squares_Y)).T[::-1]\n",
    "    trace = go.Surface(x=X, y=Y, z=T)\n",
    "    data = [trace]\n",
    "    layout = go.Layout(\n",
    "        title=go.layout.Title(\n",
    "                text=f\"Dx={np.round(deltaX,2)}, Dy={np.round(deltaY,2)}, Malla({num_squares_Y}x{num_squares_X})\"\n",
    "            )\n",
    "        )\n",
    "    fig = go.Figure(data = data, layout=layout)\n",
    "    fig.update_scenes(\n",
    "        camera=dict(\n",
    "            up=dict(x=0, y=0, z=1),\n",
    "            center=dict(x=0, y=0, z=0),\n",
    "            eye=dict(x=-2, y=-1, z=0.3)\n",
    "        )\n",
    "    )\n",
    "    fig.show()\n",
    "\n",
    "def find_temperatures(h, w, deltaX, deltaY, boundaries, method='gauss', plot='3d',verbose=False):\n",
    "    G = build_grid_matrix(boundaries)\n",
    "    A, B = build_A_B(G, deltaX, deltaY)\n",
    "    if method is 'gauss':\n",
    "        T = gauss(A, B)\n",
    "    elif method is 'numpy':\n",
    "        T = np.linalg.solve(A, B)\n",
    "    else:\n",
    "        raise Exception(f'unrecognized method \\'{method}\\'')\n",
    "    T = T.reshape(len(boundaries[1]), len(boundaries[0]))\n",
    "    if verbose:\n",
    "        show_verbose(boundaries, G, A, B, T)\n",
    "    plot_system(h, w, deltaX, deltaY, T, plot)\n",
    "    return T"
   ]
  },
  {
   "source": [
    "## Gauss Elimination"
   ],
   "cell_type": "markdown",
   "metadata": {}
  },
  {
   "cell_type": "code",
   "execution_count": 198,
   "metadata": {},
   "outputs": [],
   "source": [
    "def swap(row, A):\n",
    "  pr = -1\n",
    "  if row < len(A) - 1:\n",
    "    for i in range(row + 1, len(A)):\n",
    "      if A[i][row] != 0:\n",
    "        pr = i\n",
    "        break\n",
    "  else:\n",
    "    return A\n",
    "  x = A.pop(row)\n",
    "  y = A.pop(pr - 1)\n",
    "  A.insert(row, y)\n",
    "  A.insert(pr, x)\n",
    "  return A\n",
    "\n",
    "def norm(row, A):\n",
    "  r = A[row]\n",
    "  e = r[row]\n",
    "  for i in range(0, len(r)):\n",
    "    r[i] /= e \n",
    "  return A\n",
    "\n",
    "def operate(row, A):\n",
    "  for i in range(row + 1, len(A)):\n",
    "    e = A[i][row] * (-1)\n",
    "    for j in range(0, len(A[row])):\n",
    "      A[i][j] += A[row][j] * e\n",
    "  return A\n",
    "\n",
    "def solve(A):\n",
    "    X = [A[A.shape[0]-1][-1]]\n",
    "    sol_index = -2\n",
    "    for row in range(A.shape[0]-2,-1,-1):\n",
    "        stored_sol_idx = sum_ = 0\n",
    "        for sol_col in range(-1, sol_index-1, -1):\n",
    "            if sol_col == -1:\n",
    "                sum_ += A[row][sol_col]\n",
    "                continue\n",
    "            sum_ -= A[row][sol_col]*X[stored_sol_idx]\n",
    "            stored_sol_idx += 1\n",
    "        X.append(sum_)\n",
    "        sol_index -= 1\n",
    "    return np.array(X)[::-1]\n",
    "\n",
    "def gauss(A, B=None):\n",
    "    if B is not None:\n",
    "        A = np.append(A, B, axis=1)\n",
    "    for i in range(len(A)):\n",
    "        element = A[i][i]\n",
    "        if element == 0:\n",
    "            A = swap(i, A)\n",
    "            element = A[i][i]\n",
    "        A = norm(i, A)\n",
    "        A = operate(i, A)\n",
    "    return solve(A)"
   ]
  },
  {
   "cell_type": "code",
   "execution_count": 200,
   "metadata": {},
   "outputs": [],
   "source": [
    "def solve_(h, w, deltaX, deltaY, method='gauss', plot='3d', verbose=False):\n",
    "    boundaries = get_boundaries(h, w, deltaX, deltaY, top=top, right=right, bottom=bottom, left=left)\n",
    "    find_temperatures(h, w, deltaX, deltaY, boundaries, method=method, plot=plot, verbose=verbose)"
   ]
  },
  {
   "source": [
    "## Datos para examen\n",
    "- $h=2$\n",
    "- $w=3$\n",
    "- $\\Delta x = 1$\n",
    "- $\\Delta y = 1$"
   ],
   "cell_type": "markdown",
   "metadata": {}
  },
  {
   "source": [
    "## Condiciones de frontera"
   ],
   "cell_type": "markdown",
   "metadata": {}
  },
  {
   "cell_type": "code",
   "execution_count": 199,
   "metadata": {},
   "outputs": [],
   "source": [
    "def top(x): return 200 + (100/3)*x**2\n",
    "def right(y): return 250*y\n",
    "def bottom(x): return 0*x\n",
    "def left(y): return 100*y"
   ]
  },
  {
   "source": [
    "## $\\Delta x = \\Delta y$"
   ],
   "cell_type": "markdown",
   "metadata": {}
  },
  {
   "cell_type": "code",
   "execution_count": 201,
   "metadata": {},
   "outputs": [
    {
     "output_type": "display_data",
     "data": {
      "application/vnd.plotly.v1+json": {
       "config": {
        "plotlyServerURL": "https://plot.ly"
       },
       "data": [
        {
         "type": "surface",
         "x": [
          [
           1,
           2,
           3
          ],
          [
           1,
           2,
           3
          ]
         ],
         "y": [
          [
           2,
           2,
           2
          ],
          [
           1,
           1,
           1
          ]
         ],
         "z": [
          [
           200.44858523119393,
           258.592132505176,
           361.559696342305
          ],
          [
           109.86887508626639,
           139.02691511387164,
           187.64665286404417
          ]
         ]
        }
       ],
       "layout": {
        "scene": {
         "camera": {
          "center": {
           "x": 0,
           "y": 0,
           "z": 0
          },
          "eye": {
           "x": -2,
           "y": -1,
           "z": 0.3
          },
          "up": {
           "x": 0,
           "y": 0,
           "z": 1
          }
         }
        },
        "template": {
         "data": {
          "bar": [
           {
            "error_x": {
             "color": "#2a3f5f"
            },
            "error_y": {
             "color": "#2a3f5f"
            },
            "marker": {
             "line": {
              "color": "#E5ECF6",
              "width": 0.5
             }
            },
            "type": "bar"
           }
          ],
          "barpolar": [
           {
            "marker": {
             "line": {
              "color": "#E5ECF6",
              "width": 0.5
             }
            },
            "type": "barpolar"
           }
          ],
          "carpet": [
           {
            "aaxis": {
             "endlinecolor": "#2a3f5f",
             "gridcolor": "white",
             "linecolor": "white",
             "minorgridcolor": "white",
             "startlinecolor": "#2a3f5f"
            },
            "baxis": {
             "endlinecolor": "#2a3f5f",
             "gridcolor": "white",
             "linecolor": "white",
             "minorgridcolor": "white",
             "startlinecolor": "#2a3f5f"
            },
            "type": "carpet"
           }
          ],
          "choropleth": [
           {
            "colorbar": {
             "outlinewidth": 0,
             "ticks": ""
            },
            "type": "choropleth"
           }
          ],
          "contour": [
           {
            "colorbar": {
             "outlinewidth": 0,
             "ticks": ""
            },
            "colorscale": [
             [
              0,
              "#0d0887"
             ],
             [
              0.1111111111111111,
              "#46039f"
             ],
             [
              0.2222222222222222,
              "#7201a8"
             ],
             [
              0.3333333333333333,
              "#9c179e"
             ],
             [
              0.4444444444444444,
              "#bd3786"
             ],
             [
              0.5555555555555556,
              "#d8576b"
             ],
             [
              0.6666666666666666,
              "#ed7953"
             ],
             [
              0.7777777777777778,
              "#fb9f3a"
             ],
             [
              0.8888888888888888,
              "#fdca26"
             ],
             [
              1,
              "#f0f921"
             ]
            ],
            "type": "contour"
           }
          ],
          "contourcarpet": [
           {
            "colorbar": {
             "outlinewidth": 0,
             "ticks": ""
            },
            "type": "contourcarpet"
           }
          ],
          "heatmap": [
           {
            "colorbar": {
             "outlinewidth": 0,
             "ticks": ""
            },
            "colorscale": [
             [
              0,
              "#0d0887"
             ],
             [
              0.1111111111111111,
              "#46039f"
             ],
             [
              0.2222222222222222,
              "#7201a8"
             ],
             [
              0.3333333333333333,
              "#9c179e"
             ],
             [
              0.4444444444444444,
              "#bd3786"
             ],
             [
              0.5555555555555556,
              "#d8576b"
             ],
             [
              0.6666666666666666,
              "#ed7953"
             ],
             [
              0.7777777777777778,
              "#fb9f3a"
             ],
             [
              0.8888888888888888,
              "#fdca26"
             ],
             [
              1,
              "#f0f921"
             ]
            ],
            "type": "heatmap"
           }
          ],
          "heatmapgl": [
           {
            "colorbar": {
             "outlinewidth": 0,
             "ticks": ""
            },
            "colorscale": [
             [
              0,
              "#0d0887"
             ],
             [
              0.1111111111111111,
              "#46039f"
             ],
             [
              0.2222222222222222,
              "#7201a8"
             ],
             [
              0.3333333333333333,
              "#9c179e"
             ],
             [
              0.4444444444444444,
              "#bd3786"
             ],
             [
              0.5555555555555556,
              "#d8576b"
             ],
             [
              0.6666666666666666,
              "#ed7953"
             ],
             [
              0.7777777777777778,
              "#fb9f3a"
             ],
             [
              0.8888888888888888,
              "#fdca26"
             ],
             [
              1,
              "#f0f921"
             ]
            ],
            "type": "heatmapgl"
           }
          ],
          "histogram": [
           {
            "marker": {
             "colorbar": {
              "outlinewidth": 0,
              "ticks": ""
             }
            },
            "type": "histogram"
           }
          ],
          "histogram2d": [
           {
            "colorbar": {
             "outlinewidth": 0,
             "ticks": ""
            },
            "colorscale": [
             [
              0,
              "#0d0887"
             ],
             [
              0.1111111111111111,
              "#46039f"
             ],
             [
              0.2222222222222222,
              "#7201a8"
             ],
             [
              0.3333333333333333,
              "#9c179e"
             ],
             [
              0.4444444444444444,
              "#bd3786"
             ],
             [
              0.5555555555555556,
              "#d8576b"
             ],
             [
              0.6666666666666666,
              "#ed7953"
             ],
             [
              0.7777777777777778,
              "#fb9f3a"
             ],
             [
              0.8888888888888888,
              "#fdca26"
             ],
             [
              1,
              "#f0f921"
             ]
            ],
            "type": "histogram2d"
           }
          ],
          "histogram2dcontour": [
           {
            "colorbar": {
             "outlinewidth": 0,
             "ticks": ""
            },
            "colorscale": [
             [
              0,
              "#0d0887"
             ],
             [
              0.1111111111111111,
              "#46039f"
             ],
             [
              0.2222222222222222,
              "#7201a8"
             ],
             [
              0.3333333333333333,
              "#9c179e"
             ],
             [
              0.4444444444444444,
              "#bd3786"
             ],
             [
              0.5555555555555556,
              "#d8576b"
             ],
             [
              0.6666666666666666,
              "#ed7953"
             ],
             [
              0.7777777777777778,
              "#fb9f3a"
             ],
             [
              0.8888888888888888,
              "#fdca26"
             ],
             [
              1,
              "#f0f921"
             ]
            ],
            "type": "histogram2dcontour"
           }
          ],
          "mesh3d": [
           {
            "colorbar": {
             "outlinewidth": 0,
             "ticks": ""
            },
            "type": "mesh3d"
           }
          ],
          "parcoords": [
           {
            "line": {
             "colorbar": {
              "outlinewidth": 0,
              "ticks": ""
             }
            },
            "type": "parcoords"
           }
          ],
          "pie": [
           {
            "automargin": true,
            "type": "pie"
           }
          ],
          "scatter": [
           {
            "marker": {
             "colorbar": {
              "outlinewidth": 0,
              "ticks": ""
             }
            },
            "type": "scatter"
           }
          ],
          "scatter3d": [
           {
            "line": {
             "colorbar": {
              "outlinewidth": 0,
              "ticks": ""
             }
            },
            "marker": {
             "colorbar": {
              "outlinewidth": 0,
              "ticks": ""
             }
            },
            "type": "scatter3d"
           }
          ],
          "scattercarpet": [
           {
            "marker": {
             "colorbar": {
              "outlinewidth": 0,
              "ticks": ""
             }
            },
            "type": "scattercarpet"
           }
          ],
          "scattergeo": [
           {
            "marker": {
             "colorbar": {
              "outlinewidth": 0,
              "ticks": ""
             }
            },
            "type": "scattergeo"
           }
          ],
          "scattergl": [
           {
            "marker": {
             "colorbar": {
              "outlinewidth": 0,
              "ticks": ""
             }
            },
            "type": "scattergl"
           }
          ],
          "scattermapbox": [
           {
            "marker": {
             "colorbar": {
              "outlinewidth": 0,
              "ticks": ""
             }
            },
            "type": "scattermapbox"
           }
          ],
          "scatterpolar": [
           {
            "marker": {
             "colorbar": {
              "outlinewidth": 0,
              "ticks": ""
             }
            },
            "type": "scatterpolar"
           }
          ],
          "scatterpolargl": [
           {
            "marker": {
             "colorbar": {
              "outlinewidth": 0,
              "ticks": ""
             }
            },
            "type": "scatterpolargl"
           }
          ],
          "scatterternary": [
           {
            "marker": {
             "colorbar": {
              "outlinewidth": 0,
              "ticks": ""
             }
            },
            "type": "scatterternary"
           }
          ],
          "surface": [
           {
            "colorbar": {
             "outlinewidth": 0,
             "ticks": ""
            },
            "colorscale": [
             [
              0,
              "#0d0887"
             ],
             [
              0.1111111111111111,
              "#46039f"
             ],
             [
              0.2222222222222222,
              "#7201a8"
             ],
             [
              0.3333333333333333,
              "#9c179e"
             ],
             [
              0.4444444444444444,
              "#bd3786"
             ],
             [
              0.5555555555555556,
              "#d8576b"
             ],
             [
              0.6666666666666666,
              "#ed7953"
             ],
             [
              0.7777777777777778,
              "#fb9f3a"
             ],
             [
              0.8888888888888888,
              "#fdca26"
             ],
             [
              1,
              "#f0f921"
             ]
            ],
            "type": "surface"
           }
          ],
          "table": [
           {
            "cells": {
             "fill": {
              "color": "#EBF0F8"
             },
             "line": {
              "color": "white"
             }
            },
            "header": {
             "fill": {
              "color": "#C8D4E3"
             },
             "line": {
              "color": "white"
             }
            },
            "type": "table"
           }
          ]
         },
         "layout": {
          "annotationdefaults": {
           "arrowcolor": "#2a3f5f",
           "arrowhead": 0,
           "arrowwidth": 1
          },
          "autotypenumbers": "strict",
          "coloraxis": {
           "colorbar": {
            "outlinewidth": 0,
            "ticks": ""
           }
          },
          "colorscale": {
           "diverging": [
            [
             0,
             "#8e0152"
            ],
            [
             0.1,
             "#c51b7d"
            ],
            [
             0.2,
             "#de77ae"
            ],
            [
             0.3,
             "#f1b6da"
            ],
            [
             0.4,
             "#fde0ef"
            ],
            [
             0.5,
             "#f7f7f7"
            ],
            [
             0.6,
             "#e6f5d0"
            ],
            [
             0.7,
             "#b8e186"
            ],
            [
             0.8,
             "#7fbc41"
            ],
            [
             0.9,
             "#4d9221"
            ],
            [
             1,
             "#276419"
            ]
           ],
           "sequential": [
            [
             0,
             "#0d0887"
            ],
            [
             0.1111111111111111,
             "#46039f"
            ],
            [
             0.2222222222222222,
             "#7201a8"
            ],
            [
             0.3333333333333333,
             "#9c179e"
            ],
            [
             0.4444444444444444,
             "#bd3786"
            ],
            [
             0.5555555555555556,
             "#d8576b"
            ],
            [
             0.6666666666666666,
             "#ed7953"
            ],
            [
             0.7777777777777778,
             "#fb9f3a"
            ],
            [
             0.8888888888888888,
             "#fdca26"
            ],
            [
             1,
             "#f0f921"
            ]
           ],
           "sequentialminus": [
            [
             0,
             "#0d0887"
            ],
            [
             0.1111111111111111,
             "#46039f"
            ],
            [
             0.2222222222222222,
             "#7201a8"
            ],
            [
             0.3333333333333333,
             "#9c179e"
            ],
            [
             0.4444444444444444,
             "#bd3786"
            ],
            [
             0.5555555555555556,
             "#d8576b"
            ],
            [
             0.6666666666666666,
             "#ed7953"
            ],
            [
             0.7777777777777778,
             "#fb9f3a"
            ],
            [
             0.8888888888888888,
             "#fdca26"
            ],
            [
             1,
             "#f0f921"
            ]
           ]
          },
          "colorway": [
           "#636efa",
           "#EF553B",
           "#00cc96",
           "#ab63fa",
           "#FFA15A",
           "#19d3f3",
           "#FF6692",
           "#B6E880",
           "#FF97FF",
           "#FECB52"
          ],
          "font": {
           "color": "#2a3f5f"
          },
          "geo": {
           "bgcolor": "white",
           "lakecolor": "white",
           "landcolor": "#E5ECF6",
           "showlakes": true,
           "showland": true,
           "subunitcolor": "white"
          },
          "hoverlabel": {
           "align": "left"
          },
          "hovermode": "closest",
          "mapbox": {
           "style": "light"
          },
          "paper_bgcolor": "white",
          "plot_bgcolor": "#E5ECF6",
          "polar": {
           "angularaxis": {
            "gridcolor": "white",
            "linecolor": "white",
            "ticks": ""
           },
           "bgcolor": "#E5ECF6",
           "radialaxis": {
            "gridcolor": "white",
            "linecolor": "white",
            "ticks": ""
           }
          },
          "scene": {
           "xaxis": {
            "backgroundcolor": "#E5ECF6",
            "gridcolor": "white",
            "gridwidth": 2,
            "linecolor": "white",
            "showbackground": true,
            "ticks": "",
            "zerolinecolor": "white"
           },
           "yaxis": {
            "backgroundcolor": "#E5ECF6",
            "gridcolor": "white",
            "gridwidth": 2,
            "linecolor": "white",
            "showbackground": true,
            "ticks": "",
            "zerolinecolor": "white"
           },
           "zaxis": {
            "backgroundcolor": "#E5ECF6",
            "gridcolor": "white",
            "gridwidth": 2,
            "linecolor": "white",
            "showbackground": true,
            "ticks": "",
            "zerolinecolor": "white"
           }
          },
          "shapedefaults": {
           "line": {
            "color": "#2a3f5f"
           }
          },
          "ternary": {
           "aaxis": {
            "gridcolor": "white",
            "linecolor": "white",
            "ticks": ""
           },
           "baxis": {
            "gridcolor": "white",
            "linecolor": "white",
            "ticks": ""
           },
           "bgcolor": "#E5ECF6",
           "caxis": {
            "gridcolor": "white",
            "linecolor": "white",
            "ticks": ""
           }
          },
          "title": {
           "x": 0.05
          },
          "xaxis": {
           "automargin": true,
           "gridcolor": "white",
           "linecolor": "white",
           "ticks": "",
           "title": {
            "standoff": 15
           },
           "zerolinecolor": "white",
           "zerolinewidth": 2
          },
          "yaxis": {
           "automargin": true,
           "gridcolor": "white",
           "linecolor": "white",
           "ticks": "",
           "title": {
            "standoff": 15
           },
           "zerolinecolor": "white",
           "zerolinewidth": 2
          }
         }
        },
        "title": {
         "text": "Dx=1, Dy=1, Malla(2x3)"
        }
       }
      }
     },
     "metadata": {}
    }
   ],
   "source": [
    "solve_(h=2, w=3, deltaX=1, deltaY=1, method='gauss')"
   ]
  },
  {
   "cell_type": "code",
   "execution_count": 202,
   "metadata": {},
   "outputs": [
    {
     "output_type": "display_data",
     "data": {
      "application/vnd.plotly.v1+json": {
       "config": {
        "plotlyServerURL": "https://plot.ly"
       },
       "data": [
        {
         "type": "surface",
         "x": [
          [
           0.6666666666666666,
           1.4444444444444444,
           2.2222222222222223,
           3
          ],
          [
           0.6666666666666666,
           1.4444444444444444,
           2.2222222222222223,
           3
          ],
          [
           0.6666666666666666,
           1.4444444444444444,
           2.2222222222222223,
           3
          ]
         ],
         "y": [
          [
           2,
           2,
           2,
           2
          ],
          [
           1.3333333333333335,
           1.3333333333333335,
           1.3333333333333335,
           1.3333333333333335
          ],
          [
           0.6666666666666666,
           0.6666666666666666,
           0.6666666666666666,
           0.6666666666666666
          ]
         ],
         "z": [
          [
           198.39421821296088,
           234.67416682409333,
           300.9307082174014,
           392.3478398217419
          ],
          [
           144.08789121293538,
           169.82441576313045,
           212.09177272582787,
           268.46065106956615
          ],
          [
           74.79959754231683,
           88.44383228966524,
           109.15131585321367,
           136.06965839736162
          ]
         ]
        }
       ],
       "layout": {
        "scene": {
         "camera": {
          "center": {
           "x": 0,
           "y": 0,
           "z": 0
          },
          "eye": {
           "x": -2,
           "y": -1,
           "z": 0.3
          },
          "up": {
           "x": 0,
           "y": 0,
           "z": 1
          }
         }
        },
        "template": {
         "data": {
          "bar": [
           {
            "error_x": {
             "color": "#2a3f5f"
            },
            "error_y": {
             "color": "#2a3f5f"
            },
            "marker": {
             "line": {
              "color": "#E5ECF6",
              "width": 0.5
             }
            },
            "type": "bar"
           }
          ],
          "barpolar": [
           {
            "marker": {
             "line": {
              "color": "#E5ECF6",
              "width": 0.5
             }
            },
            "type": "barpolar"
           }
          ],
          "carpet": [
           {
            "aaxis": {
             "endlinecolor": "#2a3f5f",
             "gridcolor": "white",
             "linecolor": "white",
             "minorgridcolor": "white",
             "startlinecolor": "#2a3f5f"
            },
            "baxis": {
             "endlinecolor": "#2a3f5f",
             "gridcolor": "white",
             "linecolor": "white",
             "minorgridcolor": "white",
             "startlinecolor": "#2a3f5f"
            },
            "type": "carpet"
           }
          ],
          "choropleth": [
           {
            "colorbar": {
             "outlinewidth": 0,
             "ticks": ""
            },
            "type": "choropleth"
           }
          ],
          "contour": [
           {
            "colorbar": {
             "outlinewidth": 0,
             "ticks": ""
            },
            "colorscale": [
             [
              0,
              "#0d0887"
             ],
             [
              0.1111111111111111,
              "#46039f"
             ],
             [
              0.2222222222222222,
              "#7201a8"
             ],
             [
              0.3333333333333333,
              "#9c179e"
             ],
             [
              0.4444444444444444,
              "#bd3786"
             ],
             [
              0.5555555555555556,
              "#d8576b"
             ],
             [
              0.6666666666666666,
              "#ed7953"
             ],
             [
              0.7777777777777778,
              "#fb9f3a"
             ],
             [
              0.8888888888888888,
              "#fdca26"
             ],
             [
              1,
              "#f0f921"
             ]
            ],
            "type": "contour"
           }
          ],
          "contourcarpet": [
           {
            "colorbar": {
             "outlinewidth": 0,
             "ticks": ""
            },
            "type": "contourcarpet"
           }
          ],
          "heatmap": [
           {
            "colorbar": {
             "outlinewidth": 0,
             "ticks": ""
            },
            "colorscale": [
             [
              0,
              "#0d0887"
             ],
             [
              0.1111111111111111,
              "#46039f"
             ],
             [
              0.2222222222222222,
              "#7201a8"
             ],
             [
              0.3333333333333333,
              "#9c179e"
             ],
             [
              0.4444444444444444,
              "#bd3786"
             ],
             [
              0.5555555555555556,
              "#d8576b"
             ],
             [
              0.6666666666666666,
              "#ed7953"
             ],
             [
              0.7777777777777778,
              "#fb9f3a"
             ],
             [
              0.8888888888888888,
              "#fdca26"
             ],
             [
              1,
              "#f0f921"
             ]
            ],
            "type": "heatmap"
           }
          ],
          "heatmapgl": [
           {
            "colorbar": {
             "outlinewidth": 0,
             "ticks": ""
            },
            "colorscale": [
             [
              0,
              "#0d0887"
             ],
             [
              0.1111111111111111,
              "#46039f"
             ],
             [
              0.2222222222222222,
              "#7201a8"
             ],
             [
              0.3333333333333333,
              "#9c179e"
             ],
             [
              0.4444444444444444,
              "#bd3786"
             ],
             [
              0.5555555555555556,
              "#d8576b"
             ],
             [
              0.6666666666666666,
              "#ed7953"
             ],
             [
              0.7777777777777778,
              "#fb9f3a"
             ],
             [
              0.8888888888888888,
              "#fdca26"
             ],
             [
              1,
              "#f0f921"
             ]
            ],
            "type": "heatmapgl"
           }
          ],
          "histogram": [
           {
            "marker": {
             "colorbar": {
              "outlinewidth": 0,
              "ticks": ""
             }
            },
            "type": "histogram"
           }
          ],
          "histogram2d": [
           {
            "colorbar": {
             "outlinewidth": 0,
             "ticks": ""
            },
            "colorscale": [
             [
              0,
              "#0d0887"
             ],
             [
              0.1111111111111111,
              "#46039f"
             ],
             [
              0.2222222222222222,
              "#7201a8"
             ],
             [
              0.3333333333333333,
              "#9c179e"
             ],
             [
              0.4444444444444444,
              "#bd3786"
             ],
             [
              0.5555555555555556,
              "#d8576b"
             ],
             [
              0.6666666666666666,
              "#ed7953"
             ],
             [
              0.7777777777777778,
              "#fb9f3a"
             ],
             [
              0.8888888888888888,
              "#fdca26"
             ],
             [
              1,
              "#f0f921"
             ]
            ],
            "type": "histogram2d"
           }
          ],
          "histogram2dcontour": [
           {
            "colorbar": {
             "outlinewidth": 0,
             "ticks": ""
            },
            "colorscale": [
             [
              0,
              "#0d0887"
             ],
             [
              0.1111111111111111,
              "#46039f"
             ],
             [
              0.2222222222222222,
              "#7201a8"
             ],
             [
              0.3333333333333333,
              "#9c179e"
             ],
             [
              0.4444444444444444,
              "#bd3786"
             ],
             [
              0.5555555555555556,
              "#d8576b"
             ],
             [
              0.6666666666666666,
              "#ed7953"
             ],
             [
              0.7777777777777778,
              "#fb9f3a"
             ],
             [
              0.8888888888888888,
              "#fdca26"
             ],
             [
              1,
              "#f0f921"
             ]
            ],
            "type": "histogram2dcontour"
           }
          ],
          "mesh3d": [
           {
            "colorbar": {
             "outlinewidth": 0,
             "ticks": ""
            },
            "type": "mesh3d"
           }
          ],
          "parcoords": [
           {
            "line": {
             "colorbar": {
              "outlinewidth": 0,
              "ticks": ""
             }
            },
            "type": "parcoords"
           }
          ],
          "pie": [
           {
            "automargin": true,
            "type": "pie"
           }
          ],
          "scatter": [
           {
            "marker": {
             "colorbar": {
              "outlinewidth": 0,
              "ticks": ""
             }
            },
            "type": "scatter"
           }
          ],
          "scatter3d": [
           {
            "line": {
             "colorbar": {
              "outlinewidth": 0,
              "ticks": ""
             }
            },
            "marker": {
             "colorbar": {
              "outlinewidth": 0,
              "ticks": ""
             }
            },
            "type": "scatter3d"
           }
          ],
          "scattercarpet": [
           {
            "marker": {
             "colorbar": {
              "outlinewidth": 0,
              "ticks": ""
             }
            },
            "type": "scattercarpet"
           }
          ],
          "scattergeo": [
           {
            "marker": {
             "colorbar": {
              "outlinewidth": 0,
              "ticks": ""
             }
            },
            "type": "scattergeo"
           }
          ],
          "scattergl": [
           {
            "marker": {
             "colorbar": {
              "outlinewidth": 0,
              "ticks": ""
             }
            },
            "type": "scattergl"
           }
          ],
          "scattermapbox": [
           {
            "marker": {
             "colorbar": {
              "outlinewidth": 0,
              "ticks": ""
             }
            },
            "type": "scattermapbox"
           }
          ],
          "scatterpolar": [
           {
            "marker": {
             "colorbar": {
              "outlinewidth": 0,
              "ticks": ""
             }
            },
            "type": "scatterpolar"
           }
          ],
          "scatterpolargl": [
           {
            "marker": {
             "colorbar": {
              "outlinewidth": 0,
              "ticks": ""
             }
            },
            "type": "scatterpolargl"
           }
          ],
          "scatterternary": [
           {
            "marker": {
             "colorbar": {
              "outlinewidth": 0,
              "ticks": ""
             }
            },
            "type": "scatterternary"
           }
          ],
          "surface": [
           {
            "colorbar": {
             "outlinewidth": 0,
             "ticks": ""
            },
            "colorscale": [
             [
              0,
              "#0d0887"
             ],
             [
              0.1111111111111111,
              "#46039f"
             ],
             [
              0.2222222222222222,
              "#7201a8"
             ],
             [
              0.3333333333333333,
              "#9c179e"
             ],
             [
              0.4444444444444444,
              "#bd3786"
             ],
             [
              0.5555555555555556,
              "#d8576b"
             ],
             [
              0.6666666666666666,
              "#ed7953"
             ],
             [
              0.7777777777777778,
              "#fb9f3a"
             ],
             [
              0.8888888888888888,
              "#fdca26"
             ],
             [
              1,
              "#f0f921"
             ]
            ],
            "type": "surface"
           }
          ],
          "table": [
           {
            "cells": {
             "fill": {
              "color": "#EBF0F8"
             },
             "line": {
              "color": "white"
             }
            },
            "header": {
             "fill": {
              "color": "#C8D4E3"
             },
             "line": {
              "color": "white"
             }
            },
            "type": "table"
           }
          ]
         },
         "layout": {
          "annotationdefaults": {
           "arrowcolor": "#2a3f5f",
           "arrowhead": 0,
           "arrowwidth": 1
          },
          "autotypenumbers": "strict",
          "coloraxis": {
           "colorbar": {
            "outlinewidth": 0,
            "ticks": ""
           }
          },
          "colorscale": {
           "diverging": [
            [
             0,
             "#8e0152"
            ],
            [
             0.1,
             "#c51b7d"
            ],
            [
             0.2,
             "#de77ae"
            ],
            [
             0.3,
             "#f1b6da"
            ],
            [
             0.4,
             "#fde0ef"
            ],
            [
             0.5,
             "#f7f7f7"
            ],
            [
             0.6,
             "#e6f5d0"
            ],
            [
             0.7,
             "#b8e186"
            ],
            [
             0.8,
             "#7fbc41"
            ],
            [
             0.9,
             "#4d9221"
            ],
            [
             1,
             "#276419"
            ]
           ],
           "sequential": [
            [
             0,
             "#0d0887"
            ],
            [
             0.1111111111111111,
             "#46039f"
            ],
            [
             0.2222222222222222,
             "#7201a8"
            ],
            [
             0.3333333333333333,
             "#9c179e"
            ],
            [
             0.4444444444444444,
             "#bd3786"
            ],
            [
             0.5555555555555556,
             "#d8576b"
            ],
            [
             0.6666666666666666,
             "#ed7953"
            ],
            [
             0.7777777777777778,
             "#fb9f3a"
            ],
            [
             0.8888888888888888,
             "#fdca26"
            ],
            [
             1,
             "#f0f921"
            ]
           ],
           "sequentialminus": [
            [
             0,
             "#0d0887"
            ],
            [
             0.1111111111111111,
             "#46039f"
            ],
            [
             0.2222222222222222,
             "#7201a8"
            ],
            [
             0.3333333333333333,
             "#9c179e"
            ],
            [
             0.4444444444444444,
             "#bd3786"
            ],
            [
             0.5555555555555556,
             "#d8576b"
            ],
            [
             0.6666666666666666,
             "#ed7953"
            ],
            [
             0.7777777777777778,
             "#fb9f3a"
            ],
            [
             0.8888888888888888,
             "#fdca26"
            ],
            [
             1,
             "#f0f921"
            ]
           ]
          },
          "colorway": [
           "#636efa",
           "#EF553B",
           "#00cc96",
           "#ab63fa",
           "#FFA15A",
           "#19d3f3",
           "#FF6692",
           "#B6E880",
           "#FF97FF",
           "#FECB52"
          ],
          "font": {
           "color": "#2a3f5f"
          },
          "geo": {
           "bgcolor": "white",
           "lakecolor": "white",
           "landcolor": "#E5ECF6",
           "showlakes": true,
           "showland": true,
           "subunitcolor": "white"
          },
          "hoverlabel": {
           "align": "left"
          },
          "hovermode": "closest",
          "mapbox": {
           "style": "light"
          },
          "paper_bgcolor": "white",
          "plot_bgcolor": "#E5ECF6",
          "polar": {
           "angularaxis": {
            "gridcolor": "white",
            "linecolor": "white",
            "ticks": ""
           },
           "bgcolor": "#E5ECF6",
           "radialaxis": {
            "gridcolor": "white",
            "linecolor": "white",
            "ticks": ""
           }
          },
          "scene": {
           "xaxis": {
            "backgroundcolor": "#E5ECF6",
            "gridcolor": "white",
            "gridwidth": 2,
            "linecolor": "white",
            "showbackground": true,
            "ticks": "",
            "zerolinecolor": "white"
           },
           "yaxis": {
            "backgroundcolor": "#E5ECF6",
            "gridcolor": "white",
            "gridwidth": 2,
            "linecolor": "white",
            "showbackground": true,
            "ticks": "",
            "zerolinecolor": "white"
           },
           "zaxis": {
            "backgroundcolor": "#E5ECF6",
            "gridcolor": "white",
            "gridwidth": 2,
            "linecolor": "white",
            "showbackground": true,
            "ticks": "",
            "zerolinecolor": "white"
           }
          },
          "shapedefaults": {
           "line": {
            "color": "#2a3f5f"
           }
          },
          "ternary": {
           "aaxis": {
            "gridcolor": "white",
            "linecolor": "white",
            "ticks": ""
           },
           "baxis": {
            "gridcolor": "white",
            "linecolor": "white",
            "ticks": ""
           },
           "bgcolor": "#E5ECF6",
           "caxis": {
            "gridcolor": "white",
            "linecolor": "white",
            "ticks": ""
           }
          },
          "title": {
           "x": 0.05
          },
          "xaxis": {
           "automargin": true,
           "gridcolor": "white",
           "linecolor": "white",
           "ticks": "",
           "title": {
            "standoff": 15
           },
           "zerolinecolor": "white",
           "zerolinewidth": 2
          },
          "yaxis": {
           "automargin": true,
           "gridcolor": "white",
           "linecolor": "white",
           "ticks": "",
           "title": {
            "standoff": 15
           },
           "zerolinecolor": "white",
           "zerolinewidth": 2
          }
         }
        },
        "title": {
         "text": "Dx=0.67, Dy=0.67, Malla(3x4)"
        }
       }
      }
     },
     "metadata": {}
    }
   ],
   "source": [
    "solve_(h=2, w=3, deltaX=2/3, deltaY=2/3)"
   ]
  },
  {
   "cell_type": "code",
   "execution_count": 203,
   "metadata": {},
   "outputs": [
    {
     "output_type": "display_data",
     "data": {
      "application/vnd.plotly.v1+json": {
       "config": {
        "plotlyServerURL": "https://plot.ly"
       },
       "data": [
        {
         "type": "surface",
         "x": [
          [
           0.5,
           1,
           1.5,
           2,
           2.5,
           3
          ],
          [
           0.5,
           1,
           1.5,
           2,
           2.5,
           3
          ],
          [
           0.5,
           1,
           1.5,
           2,
           2.5,
           3
          ],
          [
           0.5,
           1,
           1.5,
           2,
           2.5,
           3
          ]
         ],
         "y": [
          [
           2,
           2,
           2,
           2,
           2,
           2
          ],
          [
           1.5,
           1.5,
           1.5,
           1.5,
           1.5,
           1.5
          ],
          [
           1,
           1,
           1,
           1,
           1,
           1
          ],
          [
           0.5,
           0.5,
           0.5,
           0.5,
           0.5,
           0.5
          ]
         ],
         "z": [
          [
           192.6869239747865,
           208.3640919680768,
           239.983809822231,
           285.4975626297072,
           344.1439837116475,
           415.551389975693
          ],
          [
           154.0502705977359,
           167.45230074195635,
           191.07358469113996,
           224.52912365161689,
           267.19364890785647,
           318.06157619112446
          ],
          [
           106.06185767420084,
           116.32125571087272,
           132.32910454875548,
           154.35169837776408,
           182.03991207703697,
           214.50126588094835
          ],
          [
           53.87590438819475,
           59.441759878578154,
           67.56987941524517,
           78.50865323364707,
           92.11303514157899,
           107.90357525563185
          ]
         ]
        }
       ],
       "layout": {
        "scene": {
         "camera": {
          "center": {
           "x": 0,
           "y": 0,
           "z": 0
          },
          "eye": {
           "x": -2,
           "y": -1,
           "z": 0.3
          },
          "up": {
           "x": 0,
           "y": 0,
           "z": 1
          }
         }
        },
        "template": {
         "data": {
          "bar": [
           {
            "error_x": {
             "color": "#2a3f5f"
            },
            "error_y": {
             "color": "#2a3f5f"
            },
            "marker": {
             "line": {
              "color": "#E5ECF6",
              "width": 0.5
             }
            },
            "type": "bar"
           }
          ],
          "barpolar": [
           {
            "marker": {
             "line": {
              "color": "#E5ECF6",
              "width": 0.5
             }
            },
            "type": "barpolar"
           }
          ],
          "carpet": [
           {
            "aaxis": {
             "endlinecolor": "#2a3f5f",
             "gridcolor": "white",
             "linecolor": "white",
             "minorgridcolor": "white",
             "startlinecolor": "#2a3f5f"
            },
            "baxis": {
             "endlinecolor": "#2a3f5f",
             "gridcolor": "white",
             "linecolor": "white",
             "minorgridcolor": "white",
             "startlinecolor": "#2a3f5f"
            },
            "type": "carpet"
           }
          ],
          "choropleth": [
           {
            "colorbar": {
             "outlinewidth": 0,
             "ticks": ""
            },
            "type": "choropleth"
           }
          ],
          "contour": [
           {
            "colorbar": {
             "outlinewidth": 0,
             "ticks": ""
            },
            "colorscale": [
             [
              0,
              "#0d0887"
             ],
             [
              0.1111111111111111,
              "#46039f"
             ],
             [
              0.2222222222222222,
              "#7201a8"
             ],
             [
              0.3333333333333333,
              "#9c179e"
             ],
             [
              0.4444444444444444,
              "#bd3786"
             ],
             [
              0.5555555555555556,
              "#d8576b"
             ],
             [
              0.6666666666666666,
              "#ed7953"
             ],
             [
              0.7777777777777778,
              "#fb9f3a"
             ],
             [
              0.8888888888888888,
              "#fdca26"
             ],
             [
              1,
              "#f0f921"
             ]
            ],
            "type": "contour"
           }
          ],
          "contourcarpet": [
           {
            "colorbar": {
             "outlinewidth": 0,
             "ticks": ""
            },
            "type": "contourcarpet"
           }
          ],
          "heatmap": [
           {
            "colorbar": {
             "outlinewidth": 0,
             "ticks": ""
            },
            "colorscale": [
             [
              0,
              "#0d0887"
             ],
             [
              0.1111111111111111,
              "#46039f"
             ],
             [
              0.2222222222222222,
              "#7201a8"
             ],
             [
              0.3333333333333333,
              "#9c179e"
             ],
             [
              0.4444444444444444,
              "#bd3786"
             ],
             [
              0.5555555555555556,
              "#d8576b"
             ],
             [
              0.6666666666666666,
              "#ed7953"
             ],
             [
              0.7777777777777778,
              "#fb9f3a"
             ],
             [
              0.8888888888888888,
              "#fdca26"
             ],
             [
              1,
              "#f0f921"
             ]
            ],
            "type": "heatmap"
           }
          ],
          "heatmapgl": [
           {
            "colorbar": {
             "outlinewidth": 0,
             "ticks": ""
            },
            "colorscale": [
             [
              0,
              "#0d0887"
             ],
             [
              0.1111111111111111,
              "#46039f"
             ],
             [
              0.2222222222222222,
              "#7201a8"
             ],
             [
              0.3333333333333333,
              "#9c179e"
             ],
             [
              0.4444444444444444,
              "#bd3786"
             ],
             [
              0.5555555555555556,
              "#d8576b"
             ],
             [
              0.6666666666666666,
              "#ed7953"
             ],
             [
              0.7777777777777778,
              "#fb9f3a"
             ],
             [
              0.8888888888888888,
              "#fdca26"
             ],
             [
              1,
              "#f0f921"
             ]
            ],
            "type": "heatmapgl"
           }
          ],
          "histogram": [
           {
            "marker": {
             "colorbar": {
              "outlinewidth": 0,
              "ticks": ""
             }
            },
            "type": "histogram"
           }
          ],
          "histogram2d": [
           {
            "colorbar": {
             "outlinewidth": 0,
             "ticks": ""
            },
            "colorscale": [
             [
              0,
              "#0d0887"
             ],
             [
              0.1111111111111111,
              "#46039f"
             ],
             [
              0.2222222222222222,
              "#7201a8"
             ],
             [
              0.3333333333333333,
              "#9c179e"
             ],
             [
              0.4444444444444444,
              "#bd3786"
             ],
             [
              0.5555555555555556,
              "#d8576b"
             ],
             [
              0.6666666666666666,
              "#ed7953"
             ],
             [
              0.7777777777777778,
              "#fb9f3a"
             ],
             [
              0.8888888888888888,
              "#fdca26"
             ],
             [
              1,
              "#f0f921"
             ]
            ],
            "type": "histogram2d"
           }
          ],
          "histogram2dcontour": [
           {
            "colorbar": {
             "outlinewidth": 0,
             "ticks": ""
            },
            "colorscale": [
             [
              0,
              "#0d0887"
             ],
             [
              0.1111111111111111,
              "#46039f"
             ],
             [
              0.2222222222222222,
              "#7201a8"
             ],
             [
              0.3333333333333333,
              "#9c179e"
             ],
             [
              0.4444444444444444,
              "#bd3786"
             ],
             [
              0.5555555555555556,
              "#d8576b"
             ],
             [
              0.6666666666666666,
              "#ed7953"
             ],
             [
              0.7777777777777778,
              "#fb9f3a"
             ],
             [
              0.8888888888888888,
              "#fdca26"
             ],
             [
              1,
              "#f0f921"
             ]
            ],
            "type": "histogram2dcontour"
           }
          ],
          "mesh3d": [
           {
            "colorbar": {
             "outlinewidth": 0,
             "ticks": ""
            },
            "type": "mesh3d"
           }
          ],
          "parcoords": [
           {
            "line": {
             "colorbar": {
              "outlinewidth": 0,
              "ticks": ""
             }
            },
            "type": "parcoords"
           }
          ],
          "pie": [
           {
            "automargin": true,
            "type": "pie"
           }
          ],
          "scatter": [
           {
            "marker": {
             "colorbar": {
              "outlinewidth": 0,
              "ticks": ""
             }
            },
            "type": "scatter"
           }
          ],
          "scatter3d": [
           {
            "line": {
             "colorbar": {
              "outlinewidth": 0,
              "ticks": ""
             }
            },
            "marker": {
             "colorbar": {
              "outlinewidth": 0,
              "ticks": ""
             }
            },
            "type": "scatter3d"
           }
          ],
          "scattercarpet": [
           {
            "marker": {
             "colorbar": {
              "outlinewidth": 0,
              "ticks": ""
             }
            },
            "type": "scattercarpet"
           }
          ],
          "scattergeo": [
           {
            "marker": {
             "colorbar": {
              "outlinewidth": 0,
              "ticks": ""
             }
            },
            "type": "scattergeo"
           }
          ],
          "scattergl": [
           {
            "marker": {
             "colorbar": {
              "outlinewidth": 0,
              "ticks": ""
             }
            },
            "type": "scattergl"
           }
          ],
          "scattermapbox": [
           {
            "marker": {
             "colorbar": {
              "outlinewidth": 0,
              "ticks": ""
             }
            },
            "type": "scattermapbox"
           }
          ],
          "scatterpolar": [
           {
            "marker": {
             "colorbar": {
              "outlinewidth": 0,
              "ticks": ""
             }
            },
            "type": "scatterpolar"
           }
          ],
          "scatterpolargl": [
           {
            "marker": {
             "colorbar": {
              "outlinewidth": 0,
              "ticks": ""
             }
            },
            "type": "scatterpolargl"
           }
          ],
          "scatterternary": [
           {
            "marker": {
             "colorbar": {
              "outlinewidth": 0,
              "ticks": ""
             }
            },
            "type": "scatterternary"
           }
          ],
          "surface": [
           {
            "colorbar": {
             "outlinewidth": 0,
             "ticks": ""
            },
            "colorscale": [
             [
              0,
              "#0d0887"
             ],
             [
              0.1111111111111111,
              "#46039f"
             ],
             [
              0.2222222222222222,
              "#7201a8"
             ],
             [
              0.3333333333333333,
              "#9c179e"
             ],
             [
              0.4444444444444444,
              "#bd3786"
             ],
             [
              0.5555555555555556,
              "#d8576b"
             ],
             [
              0.6666666666666666,
              "#ed7953"
             ],
             [
              0.7777777777777778,
              "#fb9f3a"
             ],
             [
              0.8888888888888888,
              "#fdca26"
             ],
             [
              1,
              "#f0f921"
             ]
            ],
            "type": "surface"
           }
          ],
          "table": [
           {
            "cells": {
             "fill": {
              "color": "#EBF0F8"
             },
             "line": {
              "color": "white"
             }
            },
            "header": {
             "fill": {
              "color": "#C8D4E3"
             },
             "line": {
              "color": "white"
             }
            },
            "type": "table"
           }
          ]
         },
         "layout": {
          "annotationdefaults": {
           "arrowcolor": "#2a3f5f",
           "arrowhead": 0,
           "arrowwidth": 1
          },
          "autotypenumbers": "strict",
          "coloraxis": {
           "colorbar": {
            "outlinewidth": 0,
            "ticks": ""
           }
          },
          "colorscale": {
           "diverging": [
            [
             0,
             "#8e0152"
            ],
            [
             0.1,
             "#c51b7d"
            ],
            [
             0.2,
             "#de77ae"
            ],
            [
             0.3,
             "#f1b6da"
            ],
            [
             0.4,
             "#fde0ef"
            ],
            [
             0.5,
             "#f7f7f7"
            ],
            [
             0.6,
             "#e6f5d0"
            ],
            [
             0.7,
             "#b8e186"
            ],
            [
             0.8,
             "#7fbc41"
            ],
            [
             0.9,
             "#4d9221"
            ],
            [
             1,
             "#276419"
            ]
           ],
           "sequential": [
            [
             0,
             "#0d0887"
            ],
            [
             0.1111111111111111,
             "#46039f"
            ],
            [
             0.2222222222222222,
             "#7201a8"
            ],
            [
             0.3333333333333333,
             "#9c179e"
            ],
            [
             0.4444444444444444,
             "#bd3786"
            ],
            [
             0.5555555555555556,
             "#d8576b"
            ],
            [
             0.6666666666666666,
             "#ed7953"
            ],
            [
             0.7777777777777778,
             "#fb9f3a"
            ],
            [
             0.8888888888888888,
             "#fdca26"
            ],
            [
             1,
             "#f0f921"
            ]
           ],
           "sequentialminus": [
            [
             0,
             "#0d0887"
            ],
            [
             0.1111111111111111,
             "#46039f"
            ],
            [
             0.2222222222222222,
             "#7201a8"
            ],
            [
             0.3333333333333333,
             "#9c179e"
            ],
            [
             0.4444444444444444,
             "#bd3786"
            ],
            [
             0.5555555555555556,
             "#d8576b"
            ],
            [
             0.6666666666666666,
             "#ed7953"
            ],
            [
             0.7777777777777778,
             "#fb9f3a"
            ],
            [
             0.8888888888888888,
             "#fdca26"
            ],
            [
             1,
             "#f0f921"
            ]
           ]
          },
          "colorway": [
           "#636efa",
           "#EF553B",
           "#00cc96",
           "#ab63fa",
           "#FFA15A",
           "#19d3f3",
           "#FF6692",
           "#B6E880",
           "#FF97FF",
           "#FECB52"
          ],
          "font": {
           "color": "#2a3f5f"
          },
          "geo": {
           "bgcolor": "white",
           "lakecolor": "white",
           "landcolor": "#E5ECF6",
           "showlakes": true,
           "showland": true,
           "subunitcolor": "white"
          },
          "hoverlabel": {
           "align": "left"
          },
          "hovermode": "closest",
          "mapbox": {
           "style": "light"
          },
          "paper_bgcolor": "white",
          "plot_bgcolor": "#E5ECF6",
          "polar": {
           "angularaxis": {
            "gridcolor": "white",
            "linecolor": "white",
            "ticks": ""
           },
           "bgcolor": "#E5ECF6",
           "radialaxis": {
            "gridcolor": "white",
            "linecolor": "white",
            "ticks": ""
           }
          },
          "scene": {
           "xaxis": {
            "backgroundcolor": "#E5ECF6",
            "gridcolor": "white",
            "gridwidth": 2,
            "linecolor": "white",
            "showbackground": true,
            "ticks": "",
            "zerolinecolor": "white"
           },
           "yaxis": {
            "backgroundcolor": "#E5ECF6",
            "gridcolor": "white",
            "gridwidth": 2,
            "linecolor": "white",
            "showbackground": true,
            "ticks": "",
            "zerolinecolor": "white"
           },
           "zaxis": {
            "backgroundcolor": "#E5ECF6",
            "gridcolor": "white",
            "gridwidth": 2,
            "linecolor": "white",
            "showbackground": true,
            "ticks": "",
            "zerolinecolor": "white"
           }
          },
          "shapedefaults": {
           "line": {
            "color": "#2a3f5f"
           }
          },
          "ternary": {
           "aaxis": {
            "gridcolor": "white",
            "linecolor": "white",
            "ticks": ""
           },
           "baxis": {
            "gridcolor": "white",
            "linecolor": "white",
            "ticks": ""
           },
           "bgcolor": "#E5ECF6",
           "caxis": {
            "gridcolor": "white",
            "linecolor": "white",
            "ticks": ""
           }
          },
          "title": {
           "x": 0.05
          },
          "xaxis": {
           "automargin": true,
           "gridcolor": "white",
           "linecolor": "white",
           "ticks": "",
           "title": {
            "standoff": 15
           },
           "zerolinecolor": "white",
           "zerolinewidth": 2
          },
          "yaxis": {
           "automargin": true,
           "gridcolor": "white",
           "linecolor": "white",
           "ticks": "",
           "title": {
            "standoff": 15
           },
           "zerolinecolor": "white",
           "zerolinewidth": 2
          }
         }
        },
        "title": {
         "text": "Dx=0.5, Dy=0.5, Malla(4x6)"
        }
       }
      }
     },
     "metadata": {}
    }
   ],
   "source": [
    "solve_(h=2, w=3, deltaX=1/2, deltaY=1/2)"
   ]
  },
  {
   "cell_type": "code",
   "execution_count": 204,
   "metadata": {},
   "outputs": [
    {
     "output_type": "display_data",
     "data": {
      "application/vnd.plotly.v1+json": {
       "config": {
        "plotlyServerURL": "https://plot.ly"
       },
       "data": [
        {
         "type": "surface",
         "x": [
          [
           0.3333333333333333,
           0.6666666666666666,
           1,
           1.3333333333333333,
           1.6666666666666665,
           1.9999999999999998,
           2.3333333333333335,
           2.6666666666666665,
           3
          ],
          [
           0.3333333333333333,
           0.6666666666666666,
           1,
           1.3333333333333333,
           1.6666666666666665,
           1.9999999999999998,
           2.3333333333333335,
           2.6666666666666665,
           3
          ],
          [
           0.3333333333333333,
           0.6666666666666666,
           1,
           1.3333333333333333,
           1.6666666666666665,
           1.9999999999999998,
           2.3333333333333335,
           2.6666666666666665,
           3
          ],
          [
           0.3333333333333333,
           0.6666666666666666,
           1,
           1.3333333333333333,
           1.6666666666666665,
           1.9999999999999998,
           2.3333333333333335,
           2.6666666666666665,
           3
          ],
          [
           0.3333333333333333,
           0.6666666666666666,
           1,
           1.3333333333333333,
           1.6666666666666665,
           1.9999999999999998,
           2.3333333333333335,
           2.6666666666666665,
           3
          ],
          [
           0.3333333333333333,
           0.6666666666666666,
           1,
           1.3333333333333333,
           1.6666666666666665,
           1.9999999999999998,
           2.3333333333333335,
           2.6666666666666665,
           3
          ]
         ],
         "y": [
          [
           2,
           2,
           2,
           2,
           2,
           2,
           2,
           2,
           2
          ],
          [
           1.6666666666666667,
           1.6666666666666667,
           1.6666666666666667,
           1.6666666666666667,
           1.6666666666666667,
           1.6666666666666667,
           1.6666666666666667,
           1.6666666666666667,
           1.6666666666666667
          ],
          [
           1.3333333333333333,
           1.3333333333333333,
           1.3333333333333333,
           1.3333333333333333,
           1.3333333333333333,
           1.3333333333333333,
           1.3333333333333333,
           1.3333333333333333,
           1.3333333333333333
          ],
          [
           1,
           1,
           1,
           1,
           1,
           1,
           1,
           1,
           1
          ],
          [
           0.6666666666666667,
           0.6666666666666667,
           0.6666666666666667,
           0.6666666666666667,
           0.6666666666666667,
           0.6666666666666667,
           0.6666666666666667,
           0.6666666666666667,
           0.6666666666666667
          ],
          [
           0.3333333333333333,
           0.3333333333333333,
           0.3333333333333333,
           0.3333333333333333,
           0.3333333333333333,
           0.3333333333333333,
           0.3333333333333333,
           0.3333333333333333,
           0.3333333333333333
          ]
         ],
         "z": [
          [
           192.66975885419316,
           199.02051138277258,
           213.8267437146464,
           235.5871119378785,
           263.82231982922934,
           298.347489291286,
           339.06858703669434,
           385.9570498628644,
           439.20832096367764
          ],
          [
           167.9548203302963,
           174.7707281474359,
           187.36601820460123,
           205.4401249483789,
           228.76208549516014,
           257.16571696588716,
           290.48832751114554,
           328.5142544140485,
           370.87623399184633
          ],
          [
           137.71212765288942,
           144.74156267207348,
           155.4264760079438,
           170.0452841558759,
           188.62018023714532,
           211.06496556595698,
           237.20475162795196,
           266.7354062903378,
           299.1156939229925
          ],
          [
           104.81879427585466,
           111.05691888002472,
           119.5530389992245,
           130.69435543003536,
           144.60838573158816,
           161.26921343284363,
           180.53030714436764,
           202.10692519635836,
           225.51780207645237
          ],
          [
           70.50613057050442,
           75.11427957294636,
           81.03440567889407,
           88.57071283345289,
           97.84979382632821,
           108.87319528946165,
           121.54033832031652,
           135.6441852742758,
           150.84858918645884
          ],
          [
           35.42478176655,
           37.859663162362224,
           40.89959130995255,
           44.704296398553886,
           49.34688145081007,
           54.83343557835819,
           61.113665573161,
           68.08088839396929,
           75.56570272844036
          ]
         ]
        }
       ],
       "layout": {
        "scene": {
         "camera": {
          "center": {
           "x": 0,
           "y": 0,
           "z": 0
          },
          "eye": {
           "x": -2,
           "y": -1,
           "z": 0.3
          },
          "up": {
           "x": 0,
           "y": 0,
           "z": 1
          }
         }
        },
        "template": {
         "data": {
          "bar": [
           {
            "error_x": {
             "color": "#2a3f5f"
            },
            "error_y": {
             "color": "#2a3f5f"
            },
            "marker": {
             "line": {
              "color": "#E5ECF6",
              "width": 0.5
             }
            },
            "type": "bar"
           }
          ],
          "barpolar": [
           {
            "marker": {
             "line": {
              "color": "#E5ECF6",
              "width": 0.5
             }
            },
            "type": "barpolar"
           }
          ],
          "carpet": [
           {
            "aaxis": {
             "endlinecolor": "#2a3f5f",
             "gridcolor": "white",
             "linecolor": "white",
             "minorgridcolor": "white",
             "startlinecolor": "#2a3f5f"
            },
            "baxis": {
             "endlinecolor": "#2a3f5f",
             "gridcolor": "white",
             "linecolor": "white",
             "minorgridcolor": "white",
             "startlinecolor": "#2a3f5f"
            },
            "type": "carpet"
           }
          ],
          "choropleth": [
           {
            "colorbar": {
             "outlinewidth": 0,
             "ticks": ""
            },
            "type": "choropleth"
           }
          ],
          "contour": [
           {
            "colorbar": {
             "outlinewidth": 0,
             "ticks": ""
            },
            "colorscale": [
             [
              0,
              "#0d0887"
             ],
             [
              0.1111111111111111,
              "#46039f"
             ],
             [
              0.2222222222222222,
              "#7201a8"
             ],
             [
              0.3333333333333333,
              "#9c179e"
             ],
             [
              0.4444444444444444,
              "#bd3786"
             ],
             [
              0.5555555555555556,
              "#d8576b"
             ],
             [
              0.6666666666666666,
              "#ed7953"
             ],
             [
              0.7777777777777778,
              "#fb9f3a"
             ],
             [
              0.8888888888888888,
              "#fdca26"
             ],
             [
              1,
              "#f0f921"
             ]
            ],
            "type": "contour"
           }
          ],
          "contourcarpet": [
           {
            "colorbar": {
             "outlinewidth": 0,
             "ticks": ""
            },
            "type": "contourcarpet"
           }
          ],
          "heatmap": [
           {
            "colorbar": {
             "outlinewidth": 0,
             "ticks": ""
            },
            "colorscale": [
             [
              0,
              "#0d0887"
             ],
             [
              0.1111111111111111,
              "#46039f"
             ],
             [
              0.2222222222222222,
              "#7201a8"
             ],
             [
              0.3333333333333333,
              "#9c179e"
             ],
             [
              0.4444444444444444,
              "#bd3786"
             ],
             [
              0.5555555555555556,
              "#d8576b"
             ],
             [
              0.6666666666666666,
              "#ed7953"
             ],
             [
              0.7777777777777778,
              "#fb9f3a"
             ],
             [
              0.8888888888888888,
              "#fdca26"
             ],
             [
              1,
              "#f0f921"
             ]
            ],
            "type": "heatmap"
           }
          ],
          "heatmapgl": [
           {
            "colorbar": {
             "outlinewidth": 0,
             "ticks": ""
            },
            "colorscale": [
             [
              0,
              "#0d0887"
             ],
             [
              0.1111111111111111,
              "#46039f"
             ],
             [
              0.2222222222222222,
              "#7201a8"
             ],
             [
              0.3333333333333333,
              "#9c179e"
             ],
             [
              0.4444444444444444,
              "#bd3786"
             ],
             [
              0.5555555555555556,
              "#d8576b"
             ],
             [
              0.6666666666666666,
              "#ed7953"
             ],
             [
              0.7777777777777778,
              "#fb9f3a"
             ],
             [
              0.8888888888888888,
              "#fdca26"
             ],
             [
              1,
              "#f0f921"
             ]
            ],
            "type": "heatmapgl"
           }
          ],
          "histogram": [
           {
            "marker": {
             "colorbar": {
              "outlinewidth": 0,
              "ticks": ""
             }
            },
            "type": "histogram"
           }
          ],
          "histogram2d": [
           {
            "colorbar": {
             "outlinewidth": 0,
             "ticks": ""
            },
            "colorscale": [
             [
              0,
              "#0d0887"
             ],
             [
              0.1111111111111111,
              "#46039f"
             ],
             [
              0.2222222222222222,
              "#7201a8"
             ],
             [
              0.3333333333333333,
              "#9c179e"
             ],
             [
              0.4444444444444444,
              "#bd3786"
             ],
             [
              0.5555555555555556,
              "#d8576b"
             ],
             [
              0.6666666666666666,
              "#ed7953"
             ],
             [
              0.7777777777777778,
              "#fb9f3a"
             ],
             [
              0.8888888888888888,
              "#fdca26"
             ],
             [
              1,
              "#f0f921"
             ]
            ],
            "type": "histogram2d"
           }
          ],
          "histogram2dcontour": [
           {
            "colorbar": {
             "outlinewidth": 0,
             "ticks": ""
            },
            "colorscale": [
             [
              0,
              "#0d0887"
             ],
             [
              0.1111111111111111,
              "#46039f"
             ],
             [
              0.2222222222222222,
              "#7201a8"
             ],
             [
              0.3333333333333333,
              "#9c179e"
             ],
             [
              0.4444444444444444,
              "#bd3786"
             ],
             [
              0.5555555555555556,
              "#d8576b"
             ],
             [
              0.6666666666666666,
              "#ed7953"
             ],
             [
              0.7777777777777778,
              "#fb9f3a"
             ],
             [
              0.8888888888888888,
              "#fdca26"
             ],
             [
              1,
              "#f0f921"
             ]
            ],
            "type": "histogram2dcontour"
           }
          ],
          "mesh3d": [
           {
            "colorbar": {
             "outlinewidth": 0,
             "ticks": ""
            },
            "type": "mesh3d"
           }
          ],
          "parcoords": [
           {
            "line": {
             "colorbar": {
              "outlinewidth": 0,
              "ticks": ""
             }
            },
            "type": "parcoords"
           }
          ],
          "pie": [
           {
            "automargin": true,
            "type": "pie"
           }
          ],
          "scatter": [
           {
            "marker": {
             "colorbar": {
              "outlinewidth": 0,
              "ticks": ""
             }
            },
            "type": "scatter"
           }
          ],
          "scatter3d": [
           {
            "line": {
             "colorbar": {
              "outlinewidth": 0,
              "ticks": ""
             }
            },
            "marker": {
             "colorbar": {
              "outlinewidth": 0,
              "ticks": ""
             }
            },
            "type": "scatter3d"
           }
          ],
          "scattercarpet": [
           {
            "marker": {
             "colorbar": {
              "outlinewidth": 0,
              "ticks": ""
             }
            },
            "type": "scattercarpet"
           }
          ],
          "scattergeo": [
           {
            "marker": {
             "colorbar": {
              "outlinewidth": 0,
              "ticks": ""
             }
            },
            "type": "scattergeo"
           }
          ],
          "scattergl": [
           {
            "marker": {
             "colorbar": {
              "outlinewidth": 0,
              "ticks": ""
             }
            },
            "type": "scattergl"
           }
          ],
          "scattermapbox": [
           {
            "marker": {
             "colorbar": {
              "outlinewidth": 0,
              "ticks": ""
             }
            },
            "type": "scattermapbox"
           }
          ],
          "scatterpolar": [
           {
            "marker": {
             "colorbar": {
              "outlinewidth": 0,
              "ticks": ""
             }
            },
            "type": "scatterpolar"
           }
          ],
          "scatterpolargl": [
           {
            "marker": {
             "colorbar": {
              "outlinewidth": 0,
              "ticks": ""
             }
            },
            "type": "scatterpolargl"
           }
          ],
          "scatterternary": [
           {
            "marker": {
             "colorbar": {
              "outlinewidth": 0,
              "ticks": ""
             }
            },
            "type": "scatterternary"
           }
          ],
          "surface": [
           {
            "colorbar": {
             "outlinewidth": 0,
             "ticks": ""
            },
            "colorscale": [
             [
              0,
              "#0d0887"
             ],
             [
              0.1111111111111111,
              "#46039f"
             ],
             [
              0.2222222222222222,
              "#7201a8"
             ],
             [
              0.3333333333333333,
              "#9c179e"
             ],
             [
              0.4444444444444444,
              "#bd3786"
             ],
             [
              0.5555555555555556,
              "#d8576b"
             ],
             [
              0.6666666666666666,
              "#ed7953"
             ],
             [
              0.7777777777777778,
              "#fb9f3a"
             ],
             [
              0.8888888888888888,
              "#fdca26"
             ],
             [
              1,
              "#f0f921"
             ]
            ],
            "type": "surface"
           }
          ],
          "table": [
           {
            "cells": {
             "fill": {
              "color": "#EBF0F8"
             },
             "line": {
              "color": "white"
             }
            },
            "header": {
             "fill": {
              "color": "#C8D4E3"
             },
             "line": {
              "color": "white"
             }
            },
            "type": "table"
           }
          ]
         },
         "layout": {
          "annotationdefaults": {
           "arrowcolor": "#2a3f5f",
           "arrowhead": 0,
           "arrowwidth": 1
          },
          "autotypenumbers": "strict",
          "coloraxis": {
           "colorbar": {
            "outlinewidth": 0,
            "ticks": ""
           }
          },
          "colorscale": {
           "diverging": [
            [
             0,
             "#8e0152"
            ],
            [
             0.1,
             "#c51b7d"
            ],
            [
             0.2,
             "#de77ae"
            ],
            [
             0.3,
             "#f1b6da"
            ],
            [
             0.4,
             "#fde0ef"
            ],
            [
             0.5,
             "#f7f7f7"
            ],
            [
             0.6,
             "#e6f5d0"
            ],
            [
             0.7,
             "#b8e186"
            ],
            [
             0.8,
             "#7fbc41"
            ],
            [
             0.9,
             "#4d9221"
            ],
            [
             1,
             "#276419"
            ]
           ],
           "sequential": [
            [
             0,
             "#0d0887"
            ],
            [
             0.1111111111111111,
             "#46039f"
            ],
            [
             0.2222222222222222,
             "#7201a8"
            ],
            [
             0.3333333333333333,
             "#9c179e"
            ],
            [
             0.4444444444444444,
             "#bd3786"
            ],
            [
             0.5555555555555556,
             "#d8576b"
            ],
            [
             0.6666666666666666,
             "#ed7953"
            ],
            [
             0.7777777777777778,
             "#fb9f3a"
            ],
            [
             0.8888888888888888,
             "#fdca26"
            ],
            [
             1,
             "#f0f921"
            ]
           ],
           "sequentialminus": [
            [
             0,
             "#0d0887"
            ],
            [
             0.1111111111111111,
             "#46039f"
            ],
            [
             0.2222222222222222,
             "#7201a8"
            ],
            [
             0.3333333333333333,
             "#9c179e"
            ],
            [
             0.4444444444444444,
             "#bd3786"
            ],
            [
             0.5555555555555556,
             "#d8576b"
            ],
            [
             0.6666666666666666,
             "#ed7953"
            ],
            [
             0.7777777777777778,
             "#fb9f3a"
            ],
            [
             0.8888888888888888,
             "#fdca26"
            ],
            [
             1,
             "#f0f921"
            ]
           ]
          },
          "colorway": [
           "#636efa",
           "#EF553B",
           "#00cc96",
           "#ab63fa",
           "#FFA15A",
           "#19d3f3",
           "#FF6692",
           "#B6E880",
           "#FF97FF",
           "#FECB52"
          ],
          "font": {
           "color": "#2a3f5f"
          },
          "geo": {
           "bgcolor": "white",
           "lakecolor": "white",
           "landcolor": "#E5ECF6",
           "showlakes": true,
           "showland": true,
           "subunitcolor": "white"
          },
          "hoverlabel": {
           "align": "left"
          },
          "hovermode": "closest",
          "mapbox": {
           "style": "light"
          },
          "paper_bgcolor": "white",
          "plot_bgcolor": "#E5ECF6",
          "polar": {
           "angularaxis": {
            "gridcolor": "white",
            "linecolor": "white",
            "ticks": ""
           },
           "bgcolor": "#E5ECF6",
           "radialaxis": {
            "gridcolor": "white",
            "linecolor": "white",
            "ticks": ""
           }
          },
          "scene": {
           "xaxis": {
            "backgroundcolor": "#E5ECF6",
            "gridcolor": "white",
            "gridwidth": 2,
            "linecolor": "white",
            "showbackground": true,
            "ticks": "",
            "zerolinecolor": "white"
           },
           "yaxis": {
            "backgroundcolor": "#E5ECF6",
            "gridcolor": "white",
            "gridwidth": 2,
            "linecolor": "white",
            "showbackground": true,
            "ticks": "",
            "zerolinecolor": "white"
           },
           "zaxis": {
            "backgroundcolor": "#E5ECF6",
            "gridcolor": "white",
            "gridwidth": 2,
            "linecolor": "white",
            "showbackground": true,
            "ticks": "",
            "zerolinecolor": "white"
           }
          },
          "shapedefaults": {
           "line": {
            "color": "#2a3f5f"
           }
          },
          "ternary": {
           "aaxis": {
            "gridcolor": "white",
            "linecolor": "white",
            "ticks": ""
           },
           "baxis": {
            "gridcolor": "white",
            "linecolor": "white",
            "ticks": ""
           },
           "bgcolor": "#E5ECF6",
           "caxis": {
            "gridcolor": "white",
            "linecolor": "white",
            "ticks": ""
           }
          },
          "title": {
           "x": 0.05
          },
          "xaxis": {
           "automargin": true,
           "gridcolor": "white",
           "linecolor": "white",
           "ticks": "",
           "title": {
            "standoff": 15
           },
           "zerolinecolor": "white",
           "zerolinewidth": 2
          },
          "yaxis": {
           "automargin": true,
           "gridcolor": "white",
           "linecolor": "white",
           "ticks": "",
           "title": {
            "standoff": 15
           },
           "zerolinecolor": "white",
           "zerolinewidth": 2
          }
         }
        },
        "title": {
         "text": "Dx=0.33, Dy=0.33, Malla(6x9)"
        }
       }
      }
     },
     "metadata": {}
    }
   ],
   "source": [
    "solve_(h=2, w=3, deltaX=1/3, deltaY=1/3)"
   ]
  },
  {
   "cell_type": "code",
   "execution_count": 205,
   "metadata": {},
   "outputs": [
    {
     "output_type": "display_data",
     "data": {
      "application/vnd.plotly.v1+json": {
       "config": {
        "plotlyServerURL": "https://plot.ly"
       },
       "data": [
        {
         "type": "surface",
         "x": [
          [
           0.2,
           0.4,
           0.6,
           0.8,
           1,
           1.2,
           1.4,
           1.5999999999999999,
           1.7999999999999998,
           1.9999999999999998,
           2.1999999999999997,
           2.4,
           2.6,
           2.8,
           3
          ],
          [
           0.2,
           0.4,
           0.6,
           0.8,
           1,
           1.2,
           1.4,
           1.5999999999999999,
           1.7999999999999998,
           1.9999999999999998,
           2.1999999999999997,
           2.4,
           2.6,
           2.8,
           3
          ],
          [
           0.2,
           0.4,
           0.6,
           0.8,
           1,
           1.2,
           1.4,
           1.5999999999999999,
           1.7999999999999998,
           1.9999999999999998,
           2.1999999999999997,
           2.4,
           2.6,
           2.8,
           3
          ],
          [
           0.2,
           0.4,
           0.6,
           0.8,
           1,
           1.2,
           1.4,
           1.5999999999999999,
           1.7999999999999998,
           1.9999999999999998,
           2.1999999999999997,
           2.4,
           2.6,
           2.8,
           3
          ],
          [
           0.2,
           0.4,
           0.6,
           0.8,
           1,
           1.2,
           1.4,
           1.5999999999999999,
           1.7999999999999998,
           1.9999999999999998,
           2.1999999999999997,
           2.4,
           2.6,
           2.8,
           3
          ],
          [
           0.2,
           0.4,
           0.6,
           0.8,
           1,
           1.2,
           1.4,
           1.5999999999999999,
           1.7999999999999998,
           1.9999999999999998,
           2.1999999999999997,
           2.4,
           2.6,
           2.8,
           3
          ],
          [
           0.2,
           0.4,
           0.6,
           0.8,
           1,
           1.2,
           1.4,
           1.5999999999999999,
           1.7999999999999998,
           1.9999999999999998,
           2.1999999999999997,
           2.4,
           2.6,
           2.8,
           3
          ],
          [
           0.2,
           0.4,
           0.6,
           0.8,
           1,
           1.2,
           1.4,
           1.5999999999999999,
           1.7999999999999998,
           1.9999999999999998,
           2.1999999999999997,
           2.4,
           2.6,
           2.8,
           3
          ],
          [
           0.2,
           0.4,
           0.6,
           0.8,
           1,
           1.2,
           1.4,
           1.5999999999999999,
           1.7999999999999998,
           1.9999999999999998,
           2.1999999999999997,
           2.4,
           2.6,
           2.8,
           3
          ],
          [
           0.2,
           0.4,
           0.6,
           0.8,
           1,
           1.2,
           1.4,
           1.5999999999999999,
           1.7999999999999998,
           1.9999999999999998,
           2.1999999999999997,
           2.4,
           2.6,
           2.8,
           3
          ]
         ],
         "y": [
          [
           2,
           2,
           2,
           2,
           2,
           2,
           2,
           2,
           2,
           2,
           2,
           2,
           2,
           2,
           2
          ],
          [
           1.8,
           1.8,
           1.8,
           1.8,
           1.8,
           1.8,
           1.8,
           1.8,
           1.8,
           1.8,
           1.8,
           1.8,
           1.8,
           1.8,
           1.8
          ],
          [
           1.6,
           1.6,
           1.6,
           1.6,
           1.6,
           1.6,
           1.6,
           1.6,
           1.6,
           1.6,
           1.6,
           1.6,
           1.6,
           1.6,
           1.6
          ],
          [
           1.4000000000000001,
           1.4000000000000001,
           1.4000000000000001,
           1.4000000000000001,
           1.4000000000000001,
           1.4000000000000001,
           1.4000000000000001,
           1.4000000000000001,
           1.4000000000000001,
           1.4000000000000001,
           1.4000000000000001,
           1.4000000000000001,
           1.4000000000000001,
           1.4000000000000001,
           1.4000000000000001
          ],
          [
           1.2,
           1.2,
           1.2,
           1.2,
           1.2,
           1.2,
           1.2,
           1.2,
           1.2,
           1.2,
           1.2,
           1.2,
           1.2,
           1.2,
           1.2
          ],
          [
           1,
           1,
           1,
           1,
           1,
           1,
           1,
           1,
           1,
           1,
           1,
           1,
           1,
           1,
           1
          ],
          [
           0.8,
           0.8,
           0.8,
           0.8,
           0.8,
           0.8,
           0.8,
           0.8,
           0.8,
           0.8,
           0.8,
           0.8,
           0.8,
           0.8,
           0.8
          ],
          [
           0.6000000000000001,
           0.6000000000000001,
           0.6000000000000001,
           0.6000000000000001,
           0.6000000000000001,
           0.6000000000000001,
           0.6000000000000001,
           0.6000000000000001,
           0.6000000000000001,
           0.6000000000000001,
           0.6000000000000001,
           0.6000000000000001,
           0.6000000000000001,
           0.6000000000000001,
           0.6000000000000001
          ],
          [
           0.4,
           0.4,
           0.4,
           0.4,
           0.4,
           0.4,
           0.4,
           0.4,
           0.4,
           0.4,
           0.4,
           0.4,
           0.4,
           0.4,
           0.4
          ],
          [
           0.2,
           0.2,
           0.2,
           0.2,
           0.2,
           0.2,
           0.2,
           0.2,
           0.2,
           0.2,
           0.2,
           0.2,
           0.2,
           0.2,
           0.2
          ]
         ],
         "z": [
          [
           194.08484763360912,
           195.5355726980613,
           200.91174564967184,
           209.1940885737617,
           220.05273882469726,
           233.37117219305875,
           249.10402958701604,
           267.23069668665687,
           287.7387434666829,
           310.61768977937516,
           335.8573306191902,
           363.45042572771143,
           393.405773083559,
           425.7955480575921,
           460.9273759097747
          ],
          [
           179.47048450304175,
           181.81236417563093,
           186.91732132686445,
           194.4785364873444,
           204.3123611986352,
           216.32792036052183,
           230.48091613501504,
           246.74668035959562,
           265.10658740069937,
           285.5413516982943,
           308.0278736363411,
           332.5385992080965,
           359.04378521559914,
           387.5157099037017,
           417.9139555815065
          ],
          [
           161.98472620292694,
           165.32607817455622,
           170.4666389948108,
           177.4903748501166,
           186.39024912197743,
           197.1472319153782,
           209.74503423292649,
           224.16852121601113,
           240.39957407822493,
           258.4132559767618,
           278.1742130197835,
           299.6323122527345,
           322.71505866703944,
           347.3095507601089,
           373.2127365125497
          ],
          [
           143.14234213410978,
           147.04058332485624,
           152.1327816277061,
           158.6260747963337,
           166.61102852377988,
           176.12572394608708,
           187.18346766530166,
           199.7827961932973,
           213.9099317194272,
           229.53788511074424,
           246.62341021329684,
           265.1013781160184,
           284.87458643971564,
           305.794697957145,
           327.6274397085833
          ],
          [
           123.54405900865589,
           127.56113136305264,
           132.39782939482367,
           138.27011418373218,
           145.302066230721,
           153.56116767988848,
           163.08031628889586,
           173.8692641724491,
           185.9194714954424,
           199.20494253349142,
           213.6801646066413,
           229.27520355832647,
           245.8872110186595,
           263.3672149201723,
           281.50232436463887
          ],
          [
           103.47276253746134,
           107.26205372387473,
           111.62729040480376,
           116.75448631305031,
           122.76595453548359,
           129.7365642538501,
           137.7073656379443,
           146.69447271216092,
           156.69374755640158,
           167.68224892113767,
           179.61710212145067,
           192.43206049198645,
           206.03183915642364,
           220.28462634024555,
           235.0146428297995
          ],
          [
           83.08493741731466,
           86.38703059018121,
           90.09479218746617,
           94.35458612818152,
           99.27070134431303,
           104.91176916208403,
           111.31810929687036,
           118.50751348184875,
           126.47879709686552,
           135.2132034732068,
           144.67393446603728,
           154.80409713174515,
           165.52345877480298,
           176.72480845458654,
           188.27162061431358
          ],
          [
           62.4799565416161,
           65.10633903206926,
           68.01026162669815,
           71.29836466789665,
           75.05049555150296,
           79.32170175330262,
           84.14578890560429,
           89.53867482149823,
           95.50072387600483,
           102.01783340878677,
           109.06133513774654,
           116.58693479415382,
           124.5330903564564,
           132.81952808898407,
           141.34703117286824
          ],
          [
           41.72854971708046,
           43.54810736978161,
           45.54155061936062,
           47.778115365203874,
           50.3112144404995,
           53.17875339401931,
           56.40466975074601,
           60.00067302253497,
           63.96759017686885,
           68.29607114818886,
           72.96663788200829,
           77.94921655066729,
           83.20243976788484,
           88.673182372025,
           94.29697598817526
          ],
          [
           20.88613495692416,
           21.815990110616156,
           22.82971811575885,
           23.96133173305864,
           25.23749345127183,
           26.67742763152916,
           28.293463680825486,
           30.091757341026813,
           32.0728926607468,
           34.23222312509155,
           36.5599286914305,
           39.04085375862215,
           41.65426979239073,
           44.37378564305588,
           47.16769040780778
          ]
         ]
        }
       ],
       "layout": {
        "scene": {
         "camera": {
          "center": {
           "x": 0,
           "y": 0,
           "z": 0
          },
          "eye": {
           "x": -2,
           "y": -1,
           "z": 0.3
          },
          "up": {
           "x": 0,
           "y": 0,
           "z": 1
          }
         }
        },
        "template": {
         "data": {
          "bar": [
           {
            "error_x": {
             "color": "#2a3f5f"
            },
            "error_y": {
             "color": "#2a3f5f"
            },
            "marker": {
             "line": {
              "color": "#E5ECF6",
              "width": 0.5
             }
            },
            "type": "bar"
           }
          ],
          "barpolar": [
           {
            "marker": {
             "line": {
              "color": "#E5ECF6",
              "width": 0.5
             }
            },
            "type": "barpolar"
           }
          ],
          "carpet": [
           {
            "aaxis": {
             "endlinecolor": "#2a3f5f",
             "gridcolor": "white",
             "linecolor": "white",
             "minorgridcolor": "white",
             "startlinecolor": "#2a3f5f"
            },
            "baxis": {
             "endlinecolor": "#2a3f5f",
             "gridcolor": "white",
             "linecolor": "white",
             "minorgridcolor": "white",
             "startlinecolor": "#2a3f5f"
            },
            "type": "carpet"
           }
          ],
          "choropleth": [
           {
            "colorbar": {
             "outlinewidth": 0,
             "ticks": ""
            },
            "type": "choropleth"
           }
          ],
          "contour": [
           {
            "colorbar": {
             "outlinewidth": 0,
             "ticks": ""
            },
            "colorscale": [
             [
              0,
              "#0d0887"
             ],
             [
              0.1111111111111111,
              "#46039f"
             ],
             [
              0.2222222222222222,
              "#7201a8"
             ],
             [
              0.3333333333333333,
              "#9c179e"
             ],
             [
              0.4444444444444444,
              "#bd3786"
             ],
             [
              0.5555555555555556,
              "#d8576b"
             ],
             [
              0.6666666666666666,
              "#ed7953"
             ],
             [
              0.7777777777777778,
              "#fb9f3a"
             ],
             [
              0.8888888888888888,
              "#fdca26"
             ],
             [
              1,
              "#f0f921"
             ]
            ],
            "type": "contour"
           }
          ],
          "contourcarpet": [
           {
            "colorbar": {
             "outlinewidth": 0,
             "ticks": ""
            },
            "type": "contourcarpet"
           }
          ],
          "heatmap": [
           {
            "colorbar": {
             "outlinewidth": 0,
             "ticks": ""
            },
            "colorscale": [
             [
              0,
              "#0d0887"
             ],
             [
              0.1111111111111111,
              "#46039f"
             ],
             [
              0.2222222222222222,
              "#7201a8"
             ],
             [
              0.3333333333333333,
              "#9c179e"
             ],
             [
              0.4444444444444444,
              "#bd3786"
             ],
             [
              0.5555555555555556,
              "#d8576b"
             ],
             [
              0.6666666666666666,
              "#ed7953"
             ],
             [
              0.7777777777777778,
              "#fb9f3a"
             ],
             [
              0.8888888888888888,
              "#fdca26"
             ],
             [
              1,
              "#f0f921"
             ]
            ],
            "type": "heatmap"
           }
          ],
          "heatmapgl": [
           {
            "colorbar": {
             "outlinewidth": 0,
             "ticks": ""
            },
            "colorscale": [
             [
              0,
              "#0d0887"
             ],
             [
              0.1111111111111111,
              "#46039f"
             ],
             [
              0.2222222222222222,
              "#7201a8"
             ],
             [
              0.3333333333333333,
              "#9c179e"
             ],
             [
              0.4444444444444444,
              "#bd3786"
             ],
             [
              0.5555555555555556,
              "#d8576b"
             ],
             [
              0.6666666666666666,
              "#ed7953"
             ],
             [
              0.7777777777777778,
              "#fb9f3a"
             ],
             [
              0.8888888888888888,
              "#fdca26"
             ],
             [
              1,
              "#f0f921"
             ]
            ],
            "type": "heatmapgl"
           }
          ],
          "histogram": [
           {
            "marker": {
             "colorbar": {
              "outlinewidth": 0,
              "ticks": ""
             }
            },
            "type": "histogram"
           }
          ],
          "histogram2d": [
           {
            "colorbar": {
             "outlinewidth": 0,
             "ticks": ""
            },
            "colorscale": [
             [
              0,
              "#0d0887"
             ],
             [
              0.1111111111111111,
              "#46039f"
             ],
             [
              0.2222222222222222,
              "#7201a8"
             ],
             [
              0.3333333333333333,
              "#9c179e"
             ],
             [
              0.4444444444444444,
              "#bd3786"
             ],
             [
              0.5555555555555556,
              "#d8576b"
             ],
             [
              0.6666666666666666,
              "#ed7953"
             ],
             [
              0.7777777777777778,
              "#fb9f3a"
             ],
             [
              0.8888888888888888,
              "#fdca26"
             ],
             [
              1,
              "#f0f921"
             ]
            ],
            "type": "histogram2d"
           }
          ],
          "histogram2dcontour": [
           {
            "colorbar": {
             "outlinewidth": 0,
             "ticks": ""
            },
            "colorscale": [
             [
              0,
              "#0d0887"
             ],
             [
              0.1111111111111111,
              "#46039f"
             ],
             [
              0.2222222222222222,
              "#7201a8"
             ],
             [
              0.3333333333333333,
              "#9c179e"
             ],
             [
              0.4444444444444444,
              "#bd3786"
             ],
             [
              0.5555555555555556,
              "#d8576b"
             ],
             [
              0.6666666666666666,
              "#ed7953"
             ],
             [
              0.7777777777777778,
              "#fb9f3a"
             ],
             [
              0.8888888888888888,
              "#fdca26"
             ],
             [
              1,
              "#f0f921"
             ]
            ],
            "type": "histogram2dcontour"
           }
          ],
          "mesh3d": [
           {
            "colorbar": {
             "outlinewidth": 0,
             "ticks": ""
            },
            "type": "mesh3d"
           }
          ],
          "parcoords": [
           {
            "line": {
             "colorbar": {
              "outlinewidth": 0,
              "ticks": ""
             }
            },
            "type": "parcoords"
           }
          ],
          "pie": [
           {
            "automargin": true,
            "type": "pie"
           }
          ],
          "scatter": [
           {
            "marker": {
             "colorbar": {
              "outlinewidth": 0,
              "ticks": ""
             }
            },
            "type": "scatter"
           }
          ],
          "scatter3d": [
           {
            "line": {
             "colorbar": {
              "outlinewidth": 0,
              "ticks": ""
             }
            },
            "marker": {
             "colorbar": {
              "outlinewidth": 0,
              "ticks": ""
             }
            },
            "type": "scatter3d"
           }
          ],
          "scattercarpet": [
           {
            "marker": {
             "colorbar": {
              "outlinewidth": 0,
              "ticks": ""
             }
            },
            "type": "scattercarpet"
           }
          ],
          "scattergeo": [
           {
            "marker": {
             "colorbar": {
              "outlinewidth": 0,
              "ticks": ""
             }
            },
            "type": "scattergeo"
           }
          ],
          "scattergl": [
           {
            "marker": {
             "colorbar": {
              "outlinewidth": 0,
              "ticks": ""
             }
            },
            "type": "scattergl"
           }
          ],
          "scattermapbox": [
           {
            "marker": {
             "colorbar": {
              "outlinewidth": 0,
              "ticks": ""
             }
            },
            "type": "scattermapbox"
           }
          ],
          "scatterpolar": [
           {
            "marker": {
             "colorbar": {
              "outlinewidth": 0,
              "ticks": ""
             }
            },
            "type": "scatterpolar"
           }
          ],
          "scatterpolargl": [
           {
            "marker": {
             "colorbar": {
              "outlinewidth": 0,
              "ticks": ""
             }
            },
            "type": "scatterpolargl"
           }
          ],
          "scatterternary": [
           {
            "marker": {
             "colorbar": {
              "outlinewidth": 0,
              "ticks": ""
             }
            },
            "type": "scatterternary"
           }
          ],
          "surface": [
           {
            "colorbar": {
             "outlinewidth": 0,
             "ticks": ""
            },
            "colorscale": [
             [
              0,
              "#0d0887"
             ],
             [
              0.1111111111111111,
              "#46039f"
             ],
             [
              0.2222222222222222,
              "#7201a8"
             ],
             [
              0.3333333333333333,
              "#9c179e"
             ],
             [
              0.4444444444444444,
              "#bd3786"
             ],
             [
              0.5555555555555556,
              "#d8576b"
             ],
             [
              0.6666666666666666,
              "#ed7953"
             ],
             [
              0.7777777777777778,
              "#fb9f3a"
             ],
             [
              0.8888888888888888,
              "#fdca26"
             ],
             [
              1,
              "#f0f921"
             ]
            ],
            "type": "surface"
           }
          ],
          "table": [
           {
            "cells": {
             "fill": {
              "color": "#EBF0F8"
             },
             "line": {
              "color": "white"
             }
            },
            "header": {
             "fill": {
              "color": "#C8D4E3"
             },
             "line": {
              "color": "white"
             }
            },
            "type": "table"
           }
          ]
         },
         "layout": {
          "annotationdefaults": {
           "arrowcolor": "#2a3f5f",
           "arrowhead": 0,
           "arrowwidth": 1
          },
          "autotypenumbers": "strict",
          "coloraxis": {
           "colorbar": {
            "outlinewidth": 0,
            "ticks": ""
           }
          },
          "colorscale": {
           "diverging": [
            [
             0,
             "#8e0152"
            ],
            [
             0.1,
             "#c51b7d"
            ],
            [
             0.2,
             "#de77ae"
            ],
            [
             0.3,
             "#f1b6da"
            ],
            [
             0.4,
             "#fde0ef"
            ],
            [
             0.5,
             "#f7f7f7"
            ],
            [
             0.6,
             "#e6f5d0"
            ],
            [
             0.7,
             "#b8e186"
            ],
            [
             0.8,
             "#7fbc41"
            ],
            [
             0.9,
             "#4d9221"
            ],
            [
             1,
             "#276419"
            ]
           ],
           "sequential": [
            [
             0,
             "#0d0887"
            ],
            [
             0.1111111111111111,
             "#46039f"
            ],
            [
             0.2222222222222222,
             "#7201a8"
            ],
            [
             0.3333333333333333,
             "#9c179e"
            ],
            [
             0.4444444444444444,
             "#bd3786"
            ],
            [
             0.5555555555555556,
             "#d8576b"
            ],
            [
             0.6666666666666666,
             "#ed7953"
            ],
            [
             0.7777777777777778,
             "#fb9f3a"
            ],
            [
             0.8888888888888888,
             "#fdca26"
            ],
            [
             1,
             "#f0f921"
            ]
           ],
           "sequentialminus": [
            [
             0,
             "#0d0887"
            ],
            [
             0.1111111111111111,
             "#46039f"
            ],
            [
             0.2222222222222222,
             "#7201a8"
            ],
            [
             0.3333333333333333,
             "#9c179e"
            ],
            [
             0.4444444444444444,
             "#bd3786"
            ],
            [
             0.5555555555555556,
             "#d8576b"
            ],
            [
             0.6666666666666666,
             "#ed7953"
            ],
            [
             0.7777777777777778,
             "#fb9f3a"
            ],
            [
             0.8888888888888888,
             "#fdca26"
            ],
            [
             1,
             "#f0f921"
            ]
           ]
          },
          "colorway": [
           "#636efa",
           "#EF553B",
           "#00cc96",
           "#ab63fa",
           "#FFA15A",
           "#19d3f3",
           "#FF6692",
           "#B6E880",
           "#FF97FF",
           "#FECB52"
          ],
          "font": {
           "color": "#2a3f5f"
          },
          "geo": {
           "bgcolor": "white",
           "lakecolor": "white",
           "landcolor": "#E5ECF6",
           "showlakes": true,
           "showland": true,
           "subunitcolor": "white"
          },
          "hoverlabel": {
           "align": "left"
          },
          "hovermode": "closest",
          "mapbox": {
           "style": "light"
          },
          "paper_bgcolor": "white",
          "plot_bgcolor": "#E5ECF6",
          "polar": {
           "angularaxis": {
            "gridcolor": "white",
            "linecolor": "white",
            "ticks": ""
           },
           "bgcolor": "#E5ECF6",
           "radialaxis": {
            "gridcolor": "white",
            "linecolor": "white",
            "ticks": ""
           }
          },
          "scene": {
           "xaxis": {
            "backgroundcolor": "#E5ECF6",
            "gridcolor": "white",
            "gridwidth": 2,
            "linecolor": "white",
            "showbackground": true,
            "ticks": "",
            "zerolinecolor": "white"
           },
           "yaxis": {
            "backgroundcolor": "#E5ECF6",
            "gridcolor": "white",
            "gridwidth": 2,
            "linecolor": "white",
            "showbackground": true,
            "ticks": "",
            "zerolinecolor": "white"
           },
           "zaxis": {
            "backgroundcolor": "#E5ECF6",
            "gridcolor": "white",
            "gridwidth": 2,
            "linecolor": "white",
            "showbackground": true,
            "ticks": "",
            "zerolinecolor": "white"
           }
          },
          "shapedefaults": {
           "line": {
            "color": "#2a3f5f"
           }
          },
          "ternary": {
           "aaxis": {
            "gridcolor": "white",
            "linecolor": "white",
            "ticks": ""
           },
           "baxis": {
            "gridcolor": "white",
            "linecolor": "white",
            "ticks": ""
           },
           "bgcolor": "#E5ECF6",
           "caxis": {
            "gridcolor": "white",
            "linecolor": "white",
            "ticks": ""
           }
          },
          "title": {
           "x": 0.05
          },
          "xaxis": {
           "automargin": true,
           "gridcolor": "white",
           "linecolor": "white",
           "ticks": "",
           "title": {
            "standoff": 15
           },
           "zerolinecolor": "white",
           "zerolinewidth": 2
          },
          "yaxis": {
           "automargin": true,
           "gridcolor": "white",
           "linecolor": "white",
           "ticks": "",
           "title": {
            "standoff": 15
           },
           "zerolinecolor": "white",
           "zerolinewidth": 2
          }
         }
        },
        "title": {
         "text": "Dx=0.2, Dy=0.2, Malla(10x15)"
        }
       }
      }
     },
     "metadata": {}
    }
   ],
   "source": [
    "solve_(h=2, w=3, deltaX=1/5, deltaY=1/5)"
   ]
  },
  {
   "cell_type": "code",
   "execution_count": 209,
   "metadata": {},
   "outputs": [
    {
     "output_type": "display_data",
     "data": {
      "application/vnd.plotly.v1+json": {
       "config": {
        "plotlyServerURL": "https://plot.ly"
       },
       "data": [
        {
         "type": "surface",
         "x": [
          [
           0.125,
           0.25,
           0.375,
           0.5,
           0.625,
           0.75,
           0.875,
           1,
           1.125,
           1.25,
           1.375,
           1.5,
           1.625,
           1.75,
           1.875,
           2,
           2.125,
           2.25,
           2.375,
           2.5,
           2.625,
           2.75,
           2.875,
           3
          ],
          [
           0.125,
           0.25,
           0.375,
           0.5,
           0.625,
           0.75,
           0.875,
           1,
           1.125,
           1.25,
           1.375,
           1.5,
           1.625,
           1.75,
           1.875,
           2,
           2.125,
           2.25,
           2.375,
           2.5,
           2.625,
           2.75,
           2.875,
           3
          ],
          [
           0.125,
           0.25,
           0.375,
           0.5,
           0.625,
           0.75,
           0.875,
           1,
           1.125,
           1.25,
           1.375,
           1.5,
           1.625,
           1.75,
           1.875,
           2,
           2.125,
           2.25,
           2.375,
           2.5,
           2.625,
           2.75,
           2.875,
           3
          ],
          [
           0.125,
           0.25,
           0.375,
           0.5,
           0.625,
           0.75,
           0.875,
           1,
           1.125,
           1.25,
           1.375,
           1.5,
           1.625,
           1.75,
           1.875,
           2,
           2.125,
           2.25,
           2.375,
           2.5,
           2.625,
           2.75,
           2.875,
           3
          ],
          [
           0.125,
           0.25,
           0.375,
           0.5,
           0.625,
           0.75,
           0.875,
           1,
           1.125,
           1.25,
           1.375,
           1.5,
           1.625,
           1.75,
           1.875,
           2,
           2.125,
           2.25,
           2.375,
           2.5,
           2.625,
           2.75,
           2.875,
           3
          ],
          [
           0.125,
           0.25,
           0.375,
           0.5,
           0.625,
           0.75,
           0.875,
           1,
           1.125,
           1.25,
           1.375,
           1.5,
           1.625,
           1.75,
           1.875,
           2,
           2.125,
           2.25,
           2.375,
           2.5,
           2.625,
           2.75,
           2.875,
           3
          ],
          [
           0.125,
           0.25,
           0.375,
           0.5,
           0.625,
           0.75,
           0.875,
           1,
           1.125,
           1.25,
           1.375,
           1.5,
           1.625,
           1.75,
           1.875,
           2,
           2.125,
           2.25,
           2.375,
           2.5,
           2.625,
           2.75,
           2.875,
           3
          ],
          [
           0.125,
           0.25,
           0.375,
           0.5,
           0.625,
           0.75,
           0.875,
           1,
           1.125,
           1.25,
           1.375,
           1.5,
           1.625,
           1.75,
           1.875,
           2,
           2.125,
           2.25,
           2.375,
           2.5,
           2.625,
           2.75,
           2.875,
           3
          ],
          [
           0.125,
           0.25,
           0.375,
           0.5,
           0.625,
           0.75,
           0.875,
           1,
           1.125,
           1.25,
           1.375,
           1.5,
           1.625,
           1.75,
           1.875,
           2,
           2.125,
           2.25,
           2.375,
           2.5,
           2.625,
           2.75,
           2.875,
           3
          ],
          [
           0.125,
           0.25,
           0.375,
           0.5,
           0.625,
           0.75,
           0.875,
           1,
           1.125,
           1.25,
           1.375,
           1.5,
           1.625,
           1.75,
           1.875,
           2,
           2.125,
           2.25,
           2.375,
           2.5,
           2.625,
           2.75,
           2.875,
           3
          ],
          [
           0.125,
           0.25,
           0.375,
           0.5,
           0.625,
           0.75,
           0.875,
           1,
           1.125,
           1.25,
           1.375,
           1.5,
           1.625,
           1.75,
           1.875,
           2,
           2.125,
           2.25,
           2.375,
           2.5,
           2.625,
           2.75,
           2.875,
           3
          ],
          [
           0.125,
           0.25,
           0.375,
           0.5,
           0.625,
           0.75,
           0.875,
           1,
           1.125,
           1.25,
           1.375,
           1.5,
           1.625,
           1.75,
           1.875,
           2,
           2.125,
           2.25,
           2.375,
           2.5,
           2.625,
           2.75,
           2.875,
           3
          ],
          [
           0.125,
           0.25,
           0.375,
           0.5,
           0.625,
           0.75,
           0.875,
           1,
           1.125,
           1.25,
           1.375,
           1.5,
           1.625,
           1.75,
           1.875,
           2,
           2.125,
           2.25,
           2.375,
           2.5,
           2.625,
           2.75,
           2.875,
           3
          ],
          [
           0.125,
           0.25,
           0.375,
           0.5,
           0.625,
           0.75,
           0.875,
           1,
           1.125,
           1.25,
           1.375,
           1.5,
           1.625,
           1.75,
           1.875,
           2,
           2.125,
           2.25,
           2.375,
           2.5,
           2.625,
           2.75,
           2.875,
           3
          ],
          [
           0.125,
           0.25,
           0.375,
           0.5,
           0.625,
           0.75,
           0.875,
           1,
           1.125,
           1.25,
           1.375,
           1.5,
           1.625,
           1.75,
           1.875,
           2,
           2.125,
           2.25,
           2.375,
           2.5,
           2.625,
           2.75,
           2.875,
           3
          ],
          [
           0.125,
           0.25,
           0.375,
           0.5,
           0.625,
           0.75,
           0.875,
           1,
           1.125,
           1.25,
           1.375,
           1.5,
           1.625,
           1.75,
           1.875,
           2,
           2.125,
           2.25,
           2.375,
           2.5,
           2.625,
           2.75,
           2.875,
           3
          ]
         ],
         "y": [
          [
           2,
           2,
           2,
           2,
           2,
           2,
           2,
           2,
           2,
           2,
           2,
           2,
           2,
           2,
           2,
           2,
           2,
           2,
           2,
           2,
           2,
           2,
           2,
           2
          ],
          [
           1.875,
           1.875,
           1.875,
           1.875,
           1.875,
           1.875,
           1.875,
           1.875,
           1.875,
           1.875,
           1.875,
           1.875,
           1.875,
           1.875,
           1.875,
           1.875,
           1.875,
           1.875,
           1.875,
           1.875,
           1.875,
           1.875,
           1.875,
           1.875
          ],
          [
           1.75,
           1.75,
           1.75,
           1.75,
           1.75,
           1.75,
           1.75,
           1.75,
           1.75,
           1.75,
           1.75,
           1.75,
           1.75,
           1.75,
           1.75,
           1.75,
           1.75,
           1.75,
           1.75,
           1.75,
           1.75,
           1.75,
           1.75,
           1.75
          ],
          [
           1.625,
           1.625,
           1.625,
           1.625,
           1.625,
           1.625,
           1.625,
           1.625,
           1.625,
           1.625,
           1.625,
           1.625,
           1.625,
           1.625,
           1.625,
           1.625,
           1.625,
           1.625,
           1.625,
           1.625,
           1.625,
           1.625,
           1.625,
           1.625
          ],
          [
           1.5,
           1.5,
           1.5,
           1.5,
           1.5,
           1.5,
           1.5,
           1.5,
           1.5,
           1.5,
           1.5,
           1.5,
           1.5,
           1.5,
           1.5,
           1.5,
           1.5,
           1.5,
           1.5,
           1.5,
           1.5,
           1.5,
           1.5,
           1.5
          ],
          [
           1.375,
           1.375,
           1.375,
           1.375,
           1.375,
           1.375,
           1.375,
           1.375,
           1.375,
           1.375,
           1.375,
           1.375,
           1.375,
           1.375,
           1.375,
           1.375,
           1.375,
           1.375,
           1.375,
           1.375,
           1.375,
           1.375,
           1.375,
           1.375
          ],
          [
           1.25,
           1.25,
           1.25,
           1.25,
           1.25,
           1.25,
           1.25,
           1.25,
           1.25,
           1.25,
           1.25,
           1.25,
           1.25,
           1.25,
           1.25,
           1.25,
           1.25,
           1.25,
           1.25,
           1.25,
           1.25,
           1.25,
           1.25,
           1.25
          ],
          [
           1.125,
           1.125,
           1.125,
           1.125,
           1.125,
           1.125,
           1.125,
           1.125,
           1.125,
           1.125,
           1.125,
           1.125,
           1.125,
           1.125,
           1.125,
           1.125,
           1.125,
           1.125,
           1.125,
           1.125,
           1.125,
           1.125,
           1.125,
           1.125
          ],
          [
           1,
           1,
           1,
           1,
           1,
           1,
           1,
           1,
           1,
           1,
           1,
           1,
           1,
           1,
           1,
           1,
           1,
           1,
           1,
           1,
           1,
           1,
           1,
           1
          ],
          [
           0.875,
           0.875,
           0.875,
           0.875,
           0.875,
           0.875,
           0.875,
           0.875,
           0.875,
           0.875,
           0.875,
           0.875,
           0.875,
           0.875,
           0.875,
           0.875,
           0.875,
           0.875,
           0.875,
           0.875,
           0.875,
           0.875,
           0.875,
           0.875
          ],
          [
           0.75,
           0.75,
           0.75,
           0.75,
           0.75,
           0.75,
           0.75,
           0.75,
           0.75,
           0.75,
           0.75,
           0.75,
           0.75,
           0.75,
           0.75,
           0.75,
           0.75,
           0.75,
           0.75,
           0.75,
           0.75,
           0.75,
           0.75,
           0.75
          ],
          [
           0.625,
           0.625,
           0.625,
           0.625,
           0.625,
           0.625,
           0.625,
           0.625,
           0.625,
           0.625,
           0.625,
           0.625,
           0.625,
           0.625,
           0.625,
           0.625,
           0.625,
           0.625,
           0.625,
           0.625,
           0.625,
           0.625,
           0.625,
           0.625
          ],
          [
           0.5,
           0.5,
           0.5,
           0.5,
           0.5,
           0.5,
           0.5,
           0.5,
           0.5,
           0.5,
           0.5,
           0.5,
           0.5,
           0.5,
           0.5,
           0.5,
           0.5,
           0.5,
           0.5,
           0.5,
           0.5,
           0.5,
           0.5,
           0.5
          ],
          [
           0.375,
           0.375,
           0.375,
           0.375,
           0.375,
           0.375,
           0.375,
           0.375,
           0.375,
           0.375,
           0.375,
           0.375,
           0.375,
           0.375,
           0.375,
           0.375,
           0.375,
           0.375,
           0.375,
           0.375,
           0.375,
           0.375,
           0.375,
           0.375
          ],
          [
           0.25,
           0.25,
           0.25,
           0.25,
           0.25,
           0.25,
           0.25,
           0.25,
           0.25,
           0.25,
           0.25,
           0.25,
           0.25,
           0.25,
           0.25,
           0.25,
           0.25,
           0.25,
           0.25,
           0.25,
           0.25,
           0.25,
           0.25,
           0.25
          ],
          [
           0.125,
           0.125,
           0.125,
           0.125,
           0.125,
           0.125,
           0.125,
           0.125,
           0.125,
           0.125,
           0.125,
           0.125,
           0.125,
           0.125,
           0.125,
           0.125,
           0.125,
           0.125,
           0.125,
           0.125,
           0.125,
           0.125,
           0.125,
           0.125
          ]
         ],
         "z": [
          [
           195.62254869046976,
           195.54294057335585,
           197.49406886152445,
           200.78754143125408,
           205.1922595428174,
           210.62287136930226,
           217.04525770305764,
           224.44499402150788,
           232.81577072607627,
           242.15474393174625,
           252.4605144209856,
           263.7321847545107,
           275.96888861206537,
           289.1695386671064,
           303.33268334290165,
           318.4564312283703,
           334.53844910521457,
           351.57610240117,
           369.56694511715847,
           388.51014035737523,
           408.41051368095606,
           429.29058293789046,
           451.2286557091873,
           474.4889021113031
          ],
          [
           186.42642085518978,
           186.97181140809587,
           188.95829344148785,
           192.13050398734114,
           196.33779203737998,
           201.50396823133394,
           207.592332088087,
           214.5856143235644,
           222.475844951051,
           231.25935724658996,
           240.93429566435213,
           251.4993359849919,
           262.95299769331086,
           275.293249380125,
           288.51726347612987,
           302.6212591320317,
           317.6004294579847,
           333.4490153823069,
           350.1607043767553,
           367.7297692980535,
           386.1538314285583,
           405.4398290280854,
           425.61430445422207,
           446.7269527360255
          ],
          [
           175.61132332219353,
           176.95959076235,
           179.23678950899009,
           182.438389039243,
           186.52443638802754,
           191.4628774305662,
           197.23448809439168,
           203.82928623361175,
           211.24263750797337,
           219.47254443921062,
           228.51797500484116,
           238.37786582779432,
           249.0505167960617,
           260.5331976839535,
           272.8218620494614,
           285.9109123656425,
           299.79299421238613,
           314.458825293318,
           329.8970877095022,
           346.0944010295254,
           363.03521370713815,
           380.70059729167076,
           399.06178034358976,
           418.05460437857687
          ],
          [
           164.05928167123457,
           166.01843881012047,
           168.59088479287954,
           171.86182627261343,
           175.85868704492117,
           180.588617008512,
           186.05345662530172,
           192.25440500851732,
           199.19287440802003,
           206.87020799743803,
           215.2871940880073,
           224.44363552528267,
           234.338005979188,
           244.96716251016596,
           256.3260746721197,
           268.4075340686907,
           281.2018097325995,
           294.69620386907616,
           308.8744201384101,
           323.715533403408,
           339.19202507879874,
           355.2655660878696,
           371.87761524989,
           388.9296844346915
          ],
          [
           152.10736455262438,
           154.4639980140179,
           157.2464845797942,
           160.5593442134102,
           164.45986851053152,
           168.97944693325886,
           174.1363163897861,
           179.94200276713588,
           186.40424711815126,
           193.5282190545139,
           201.31695782446724,
           209.77147620614113,
           218.8907090852415,
           228.67137170540255,
           239.10774006016038,
           250.19133950440116,
           261.910506780244,
           274.2497603119772,
           287.18885557165436,
           300.70128736689804,
           314.7517871167796,
           329.2920267311191,
           344.2534301334088,
           359.5365181102993
          ],
          [
           139.90617852524502,
           142.4837041135325,
           145.37171129886923,
           148.66919749070172,
           152.44199585053562,
           156.7329858242058,
           161.5703592334482,
           166.973042552089,
           172.95389224293513,
           179.52146327799892,
           186.68094194920667,
           194.4346023895729,
           202.78198245023486,
           211.71987516604236,
           221.24217435871782,
           231.33957710850936,
           241.99911757199845,
           253.20347502693448,
           264.9299544693319,
           277.1489733757499,
           289.82180929030267,
           302.8973235864185,
           316.307560442327,
           329.9629578730969
          ],
          [
           127.53364543482314,
           130.19292861599791,
           133.08745901144854,
           136.30373859999196,
           139.90593157670338,
           143.9401412795808,
           148.43909216771175,
           153.42591596483672,
           158.91681602350133,
           164.92279986533958,
           171.45074430478746,
           178.5040089527089,
           186.08274316008274,
           194.18397214981442,
           202.8015051001595,
           211.92567699891998,
           221.54291137230592,
           231.63506775443042,
           242.17851390298898,
           253.14284237646723,
           264.48915308226225,
           276.1678978819252,
           288.11653017638343,
           300.25775293976125
          ],
          [
           115.03547459804969,
           117.66690590418742,
           120.48145753093513,
           123.55236632111391,
           126.93785057670515,
           130.68255554970224,
           134.8199521929812,
           139.37471311604452,
           144.36465602089396,
           149.80217585507074,
           155.69522645189488,
           162.04794595639274,
           168.86100908757308,
           176.13176517297308,
           183.85419689318564,
           192.01871441470476,
           200.61178316387472,
           209.6153707154923,
           219.00619101172657,
           228.75472914486767,
           238.82406278035415,
           249.1685846826369,
           259.7329094415204,
           270.4515237095644
          ],
          [
           102.44134705318822,
           104.95776287176716,
           107.6190988869904,
           110.48641857682333,
           113.6105488593011,
           117.03227814954164,
           120.78344793846627,
           124.88832828546606,
           129.36491908895928,
           134.22602108215472,
           139.48003969132844,
           145.13153933339422,
           151.18158206084388,
           157.62788256131938,
           164.46480288490545,
           171.68320060283867,
           179.27013615299575,
           187.20844093193756,
           195.47615028355693,
           204.04582041092317,
           212.88378421165007,
           221.94946862674817,
           231.19499919749677,
           240.5654324569762
          ],
          [
           89.77215074293615,
           92.10369964270252,
           94.55075656843604,
           97.16366023988792,
           99.98564813413438,
           103.05256025069696,
           106.39323312587626,
           110.03023299839421,
           113.98067096732248,
           118.25694969326025,
           122.86737189787007,
           127.81658962501169,
           133.10589726108884,
           138.73338012655515,
           144.6939314822784,
           150.97914895874897,
           157.57711991333198,
           164.4721065757054,
           171.64414877964043,
           179.06861800361798,
           186.71578502857494,
           194.55050641520884,
           202.53218626474225,
           210.6152069208437
          ],
          [
           77.04355627585385,
           79.13412838767088,
           81.31656750416327,
           83.6318176801581,
           86.11582318665154,
           88.79908159323568,
           91.70669131594778,
           94.85869961491207,
           98.27058208867619,
           101.95373482569367,
           105.91590858187988,
           110.16155000769365,
           114.69203723194484,
           119.5058092015341,
           124.59839395890417,
           129.9623438365469,
           135.58708796587786,
           141.45871667791153,
           147.55972025568155,
           153.86871779533348,
           160.36023148382344,
           167.00458574077015,
           173.76803252541998,
           180.61320896165637
          ],
          [
           64.26794597280828,
           66.0726901279639,
           67.94956738038795,
           69.93121978992951,
           72.046745339078,
           74.32125161964656,
           76.77575092976714,
           79.42729205663014,
           82.28922294677655,
           85.37149893895841,
           88.68097759626221,
           92.22166459193816,
           95.99489245746277,
           99.99942548873211,
           104.23149131525741,
           108.68474446265658,
           113.350171435721,
           118.21595191438115,
           123.26729776984064,
           128.486301438211,
           133.85183737061496,
           139.33957253862826,
           144.92214913451124,
           150.56959640036186
          ],
          [
           51.45553748741531,
           52.939118770988415,
           54.47779209949503,
           56.096748760093995,
           57.81868676008436,
           59.66342861650539,
           61.647768726843935,
           63.78549473506487,
           66.08751870284138,
           68.56206038710125,
           71.2148382722723,
           74.0492383063341,
           77.06644251723598,
           80.26550898067404,
           83.64340135073672,
           87.19497126310094,
           90.91290139996839,
           94.78762177405156,
           98.80721747108888,
           102.95735281705495,
           107.22124402179739,
           111.5797179086166,
           116.0113950736347,
           120.49302750527981
          ],
          [
           38.615085205864595,
           39.750455369079376,
           40.925733486509834,
           42.15929639086714,
           43.467824324660114,
           44.86600735944684,
           46.366400626038384,
           47.9793994539441,
           49.713296742422955,
           51.57438563433281,
           53.567076799391586,
           55.69400784389004,
           57.95613032447304,
           60.3527665659912,
           62.881633843914344,
           65.5388378390422,
           68.31884112699994,
           71.21441631076776,
           74.21659752340835,
           77.31464833712263,
           80.49606799090297,
           83.74666000040628,
           87.05068574613128,
           90.39111854712272
          ],
          [
           25.754347966963678,
           26.52188401295471,
           27.315390086597773,
           28.146878992204655,
           29.027306788242093,
           29.966375870583526,
           30.972426963918647,
           32.05240571225022,
           33.21188317857357,
           34.4551086084155,
           35.78507544707122,
           37.203585945361446,
           38.711304370774826,
           40.3077931149035,
           41.99152961988729,
           43.75990512215354,
           45.60920895822152,
           47.53460481861114,
           49.53010797465403,
           51.58857501712416,
           53.701719604285564,
           55.86016835597421,
           58.053569363361326,
           60.270760937079764
          ],
          [
           12.880422649035417,
           13.267342629177993,
           13.66706385472186,
           14.085522703111652,
           14.528147965520063,
           14.9997623707265,
           15.504525646802431,
           16.045913252564574,
           16.626721651205624,
           17.249090173684362,
           17.914530435116333,
           18.62395611970977,
           19.377708098361307,
           20.175571902960648,
           21.016786398577793,
           21.90004407146322,
           22.8234847651215,
           23.78468603080127,
           24.780654539472426,
           25.80782415243438,
           26.862067053140926,
           27.938724455843797,
           29.032662414260017,
           30.138355837834943
          ]
         ]
        }
       ],
       "layout": {
        "scene": {
         "camera": {
          "center": {
           "x": 0,
           "y": 0,
           "z": 0
          },
          "eye": {
           "x": -2,
           "y": -1,
           "z": 0.3
          },
          "up": {
           "x": 0,
           "y": 0,
           "z": 1
          }
         }
        },
        "template": {
         "data": {
          "bar": [
           {
            "error_x": {
             "color": "#2a3f5f"
            },
            "error_y": {
             "color": "#2a3f5f"
            },
            "marker": {
             "line": {
              "color": "#E5ECF6",
              "width": 0.5
             }
            },
            "type": "bar"
           }
          ],
          "barpolar": [
           {
            "marker": {
             "line": {
              "color": "#E5ECF6",
              "width": 0.5
             }
            },
            "type": "barpolar"
           }
          ],
          "carpet": [
           {
            "aaxis": {
             "endlinecolor": "#2a3f5f",
             "gridcolor": "white",
             "linecolor": "white",
             "minorgridcolor": "white",
             "startlinecolor": "#2a3f5f"
            },
            "baxis": {
             "endlinecolor": "#2a3f5f",
             "gridcolor": "white",
             "linecolor": "white",
             "minorgridcolor": "white",
             "startlinecolor": "#2a3f5f"
            },
            "type": "carpet"
           }
          ],
          "choropleth": [
           {
            "colorbar": {
             "outlinewidth": 0,
             "ticks": ""
            },
            "type": "choropleth"
           }
          ],
          "contour": [
           {
            "colorbar": {
             "outlinewidth": 0,
             "ticks": ""
            },
            "colorscale": [
             [
              0,
              "#0d0887"
             ],
             [
              0.1111111111111111,
              "#46039f"
             ],
             [
              0.2222222222222222,
              "#7201a8"
             ],
             [
              0.3333333333333333,
              "#9c179e"
             ],
             [
              0.4444444444444444,
              "#bd3786"
             ],
             [
              0.5555555555555556,
              "#d8576b"
             ],
             [
              0.6666666666666666,
              "#ed7953"
             ],
             [
              0.7777777777777778,
              "#fb9f3a"
             ],
             [
              0.8888888888888888,
              "#fdca26"
             ],
             [
              1,
              "#f0f921"
             ]
            ],
            "type": "contour"
           }
          ],
          "contourcarpet": [
           {
            "colorbar": {
             "outlinewidth": 0,
             "ticks": ""
            },
            "type": "contourcarpet"
           }
          ],
          "heatmap": [
           {
            "colorbar": {
             "outlinewidth": 0,
             "ticks": ""
            },
            "colorscale": [
             [
              0,
              "#0d0887"
             ],
             [
              0.1111111111111111,
              "#46039f"
             ],
             [
              0.2222222222222222,
              "#7201a8"
             ],
             [
              0.3333333333333333,
              "#9c179e"
             ],
             [
              0.4444444444444444,
              "#bd3786"
             ],
             [
              0.5555555555555556,
              "#d8576b"
             ],
             [
              0.6666666666666666,
              "#ed7953"
             ],
             [
              0.7777777777777778,
              "#fb9f3a"
             ],
             [
              0.8888888888888888,
              "#fdca26"
             ],
             [
              1,
              "#f0f921"
             ]
            ],
            "type": "heatmap"
           }
          ],
          "heatmapgl": [
           {
            "colorbar": {
             "outlinewidth": 0,
             "ticks": ""
            },
            "colorscale": [
             [
              0,
              "#0d0887"
             ],
             [
              0.1111111111111111,
              "#46039f"
             ],
             [
              0.2222222222222222,
              "#7201a8"
             ],
             [
              0.3333333333333333,
              "#9c179e"
             ],
             [
              0.4444444444444444,
              "#bd3786"
             ],
             [
              0.5555555555555556,
              "#d8576b"
             ],
             [
              0.6666666666666666,
              "#ed7953"
             ],
             [
              0.7777777777777778,
              "#fb9f3a"
             ],
             [
              0.8888888888888888,
              "#fdca26"
             ],
             [
              1,
              "#f0f921"
             ]
            ],
            "type": "heatmapgl"
           }
          ],
          "histogram": [
           {
            "marker": {
             "colorbar": {
              "outlinewidth": 0,
              "ticks": ""
             }
            },
            "type": "histogram"
           }
          ],
          "histogram2d": [
           {
            "colorbar": {
             "outlinewidth": 0,
             "ticks": ""
            },
            "colorscale": [
             [
              0,
              "#0d0887"
             ],
             [
              0.1111111111111111,
              "#46039f"
             ],
             [
              0.2222222222222222,
              "#7201a8"
             ],
             [
              0.3333333333333333,
              "#9c179e"
             ],
             [
              0.4444444444444444,
              "#bd3786"
             ],
             [
              0.5555555555555556,
              "#d8576b"
             ],
             [
              0.6666666666666666,
              "#ed7953"
             ],
             [
              0.7777777777777778,
              "#fb9f3a"
             ],
             [
              0.8888888888888888,
              "#fdca26"
             ],
             [
              1,
              "#f0f921"
             ]
            ],
            "type": "histogram2d"
           }
          ],
          "histogram2dcontour": [
           {
            "colorbar": {
             "outlinewidth": 0,
             "ticks": ""
            },
            "colorscale": [
             [
              0,
              "#0d0887"
             ],
             [
              0.1111111111111111,
              "#46039f"
             ],
             [
              0.2222222222222222,
              "#7201a8"
             ],
             [
              0.3333333333333333,
              "#9c179e"
             ],
             [
              0.4444444444444444,
              "#bd3786"
             ],
             [
              0.5555555555555556,
              "#d8576b"
             ],
             [
              0.6666666666666666,
              "#ed7953"
             ],
             [
              0.7777777777777778,
              "#fb9f3a"
             ],
             [
              0.8888888888888888,
              "#fdca26"
             ],
             [
              1,
              "#f0f921"
             ]
            ],
            "type": "histogram2dcontour"
           }
          ],
          "mesh3d": [
           {
            "colorbar": {
             "outlinewidth": 0,
             "ticks": ""
            },
            "type": "mesh3d"
           }
          ],
          "parcoords": [
           {
            "line": {
             "colorbar": {
              "outlinewidth": 0,
              "ticks": ""
             }
            },
            "type": "parcoords"
           }
          ],
          "pie": [
           {
            "automargin": true,
            "type": "pie"
           }
          ],
          "scatter": [
           {
            "marker": {
             "colorbar": {
              "outlinewidth": 0,
              "ticks": ""
             }
            },
            "type": "scatter"
           }
          ],
          "scatter3d": [
           {
            "line": {
             "colorbar": {
              "outlinewidth": 0,
              "ticks": ""
             }
            },
            "marker": {
             "colorbar": {
              "outlinewidth": 0,
              "ticks": ""
             }
            },
            "type": "scatter3d"
           }
          ],
          "scattercarpet": [
           {
            "marker": {
             "colorbar": {
              "outlinewidth": 0,
              "ticks": ""
             }
            },
            "type": "scattercarpet"
           }
          ],
          "scattergeo": [
           {
            "marker": {
             "colorbar": {
              "outlinewidth": 0,
              "ticks": ""
             }
            },
            "type": "scattergeo"
           }
          ],
          "scattergl": [
           {
            "marker": {
             "colorbar": {
              "outlinewidth": 0,
              "ticks": ""
             }
            },
            "type": "scattergl"
           }
          ],
          "scattermapbox": [
           {
            "marker": {
             "colorbar": {
              "outlinewidth": 0,
              "ticks": ""
             }
            },
            "type": "scattermapbox"
           }
          ],
          "scatterpolar": [
           {
            "marker": {
             "colorbar": {
              "outlinewidth": 0,
              "ticks": ""
             }
            },
            "type": "scatterpolar"
           }
          ],
          "scatterpolargl": [
           {
            "marker": {
             "colorbar": {
              "outlinewidth": 0,
              "ticks": ""
             }
            },
            "type": "scatterpolargl"
           }
          ],
          "scatterternary": [
           {
            "marker": {
             "colorbar": {
              "outlinewidth": 0,
              "ticks": ""
             }
            },
            "type": "scatterternary"
           }
          ],
          "surface": [
           {
            "colorbar": {
             "outlinewidth": 0,
             "ticks": ""
            },
            "colorscale": [
             [
              0,
              "#0d0887"
             ],
             [
              0.1111111111111111,
              "#46039f"
             ],
             [
              0.2222222222222222,
              "#7201a8"
             ],
             [
              0.3333333333333333,
              "#9c179e"
             ],
             [
              0.4444444444444444,
              "#bd3786"
             ],
             [
              0.5555555555555556,
              "#d8576b"
             ],
             [
              0.6666666666666666,
              "#ed7953"
             ],
             [
              0.7777777777777778,
              "#fb9f3a"
             ],
             [
              0.8888888888888888,
              "#fdca26"
             ],
             [
              1,
              "#f0f921"
             ]
            ],
            "type": "surface"
           }
          ],
          "table": [
           {
            "cells": {
             "fill": {
              "color": "#EBF0F8"
             },
             "line": {
              "color": "white"
             }
            },
            "header": {
             "fill": {
              "color": "#C8D4E3"
             },
             "line": {
              "color": "white"
             }
            },
            "type": "table"
           }
          ]
         },
         "layout": {
          "annotationdefaults": {
           "arrowcolor": "#2a3f5f",
           "arrowhead": 0,
           "arrowwidth": 1
          },
          "autotypenumbers": "strict",
          "coloraxis": {
           "colorbar": {
            "outlinewidth": 0,
            "ticks": ""
           }
          },
          "colorscale": {
           "diverging": [
            [
             0,
             "#8e0152"
            ],
            [
             0.1,
             "#c51b7d"
            ],
            [
             0.2,
             "#de77ae"
            ],
            [
             0.3,
             "#f1b6da"
            ],
            [
             0.4,
             "#fde0ef"
            ],
            [
             0.5,
             "#f7f7f7"
            ],
            [
             0.6,
             "#e6f5d0"
            ],
            [
             0.7,
             "#b8e186"
            ],
            [
             0.8,
             "#7fbc41"
            ],
            [
             0.9,
             "#4d9221"
            ],
            [
             1,
             "#276419"
            ]
           ],
           "sequential": [
            [
             0,
             "#0d0887"
            ],
            [
             0.1111111111111111,
             "#46039f"
            ],
            [
             0.2222222222222222,
             "#7201a8"
            ],
            [
             0.3333333333333333,
             "#9c179e"
            ],
            [
             0.4444444444444444,
             "#bd3786"
            ],
            [
             0.5555555555555556,
             "#d8576b"
            ],
            [
             0.6666666666666666,
             "#ed7953"
            ],
            [
             0.7777777777777778,
             "#fb9f3a"
            ],
            [
             0.8888888888888888,
             "#fdca26"
            ],
            [
             1,
             "#f0f921"
            ]
           ],
           "sequentialminus": [
            [
             0,
             "#0d0887"
            ],
            [
             0.1111111111111111,
             "#46039f"
            ],
            [
             0.2222222222222222,
             "#7201a8"
            ],
            [
             0.3333333333333333,
             "#9c179e"
            ],
            [
             0.4444444444444444,
             "#bd3786"
            ],
            [
             0.5555555555555556,
             "#d8576b"
            ],
            [
             0.6666666666666666,
             "#ed7953"
            ],
            [
             0.7777777777777778,
             "#fb9f3a"
            ],
            [
             0.8888888888888888,
             "#fdca26"
            ],
            [
             1,
             "#f0f921"
            ]
           ]
          },
          "colorway": [
           "#636efa",
           "#EF553B",
           "#00cc96",
           "#ab63fa",
           "#FFA15A",
           "#19d3f3",
           "#FF6692",
           "#B6E880",
           "#FF97FF",
           "#FECB52"
          ],
          "font": {
           "color": "#2a3f5f"
          },
          "geo": {
           "bgcolor": "white",
           "lakecolor": "white",
           "landcolor": "#E5ECF6",
           "showlakes": true,
           "showland": true,
           "subunitcolor": "white"
          },
          "hoverlabel": {
           "align": "left"
          },
          "hovermode": "closest",
          "mapbox": {
           "style": "light"
          },
          "paper_bgcolor": "white",
          "plot_bgcolor": "#E5ECF6",
          "polar": {
           "angularaxis": {
            "gridcolor": "white",
            "linecolor": "white",
            "ticks": ""
           },
           "bgcolor": "#E5ECF6",
           "radialaxis": {
            "gridcolor": "white",
            "linecolor": "white",
            "ticks": ""
           }
          },
          "scene": {
           "xaxis": {
            "backgroundcolor": "#E5ECF6",
            "gridcolor": "white",
            "gridwidth": 2,
            "linecolor": "white",
            "showbackground": true,
            "ticks": "",
            "zerolinecolor": "white"
           },
           "yaxis": {
            "backgroundcolor": "#E5ECF6",
            "gridcolor": "white",
            "gridwidth": 2,
            "linecolor": "white",
            "showbackground": true,
            "ticks": "",
            "zerolinecolor": "white"
           },
           "zaxis": {
            "backgroundcolor": "#E5ECF6",
            "gridcolor": "white",
            "gridwidth": 2,
            "linecolor": "white",
            "showbackground": true,
            "ticks": "",
            "zerolinecolor": "white"
           }
          },
          "shapedefaults": {
           "line": {
            "color": "#2a3f5f"
           }
          },
          "ternary": {
           "aaxis": {
            "gridcolor": "white",
            "linecolor": "white",
            "ticks": ""
           },
           "baxis": {
            "gridcolor": "white",
            "linecolor": "white",
            "ticks": ""
           },
           "bgcolor": "#E5ECF6",
           "caxis": {
            "gridcolor": "white",
            "linecolor": "white",
            "ticks": ""
           }
          },
          "title": {
           "x": 0.05
          },
          "xaxis": {
           "automargin": true,
           "gridcolor": "white",
           "linecolor": "white",
           "ticks": "",
           "title": {
            "standoff": 15
           },
           "zerolinecolor": "white",
           "zerolinewidth": 2
          },
          "yaxis": {
           "automargin": true,
           "gridcolor": "white",
           "linecolor": "white",
           "ticks": "",
           "title": {
            "standoff": 15
           },
           "zerolinecolor": "white",
           "zerolinewidth": 2
          }
         }
        },
        "title": {
         "text": "Dx=0.12, Dy=0.12, Malla(16x24)"
        }
       }
      }
     },
     "metadata": {}
    }
   ],
   "source": [
    "solve_(h=2, w=3, deltaX=1/8, deltaY=1/8)"
   ]
  },
  {
   "source": [
    "## $\\Delta x \\neq \\Delta y$"
   ],
   "cell_type": "markdown",
   "metadata": {}
  },
  {
   "cell_type": "code",
   "execution_count": 210,
   "metadata": {},
   "outputs": [
    {
     "output_type": "display_data",
     "data": {
      "application/vnd.plotly.v1+json": {
       "config": {
        "plotlyServerURL": "https://plot.ly"
       },
       "data": [
        {
         "type": "surface",
         "x": [
          [
           1,
           2,
           3
          ],
          [
           1,
           2,
           3
          ],
          [
           1,
           2,
           3
          ]
         ],
         "y": [
          [
           2,
           2,
           2
          ],
          [
           1.3333333333333335,
           1.3333333333333335,
           1.3333333333333335
          ],
          [
           0.6666666666666666,
           0.6666666666666666,
           0.6666666666666666
          ]
         ],
         "z": [
          [
           203.9537750194575,
           270.93590532262573,
           380.6673338341836
          ],
          [
           146.56161435726582,
           189.53878921930044,
           257.06745093314134
          ],
          [
           75.94772310036211,
           97.22990118183898,
           129.5843588381652
          ]
         ]
        }
       ],
       "layout": {
        "scene": {
         "camera": {
          "center": {
           "x": 0,
           "y": 0,
           "z": 0
          },
          "eye": {
           "x": -2,
           "y": -1,
           "z": 0.3
          },
          "up": {
           "x": 0,
           "y": 0,
           "z": 1
          }
         }
        },
        "template": {
         "data": {
          "bar": [
           {
            "error_x": {
             "color": "#2a3f5f"
            },
            "error_y": {
             "color": "#2a3f5f"
            },
            "marker": {
             "line": {
              "color": "#E5ECF6",
              "width": 0.5
             }
            },
            "type": "bar"
           }
          ],
          "barpolar": [
           {
            "marker": {
             "line": {
              "color": "#E5ECF6",
              "width": 0.5
             }
            },
            "type": "barpolar"
           }
          ],
          "carpet": [
           {
            "aaxis": {
             "endlinecolor": "#2a3f5f",
             "gridcolor": "white",
             "linecolor": "white",
             "minorgridcolor": "white",
             "startlinecolor": "#2a3f5f"
            },
            "baxis": {
             "endlinecolor": "#2a3f5f",
             "gridcolor": "white",
             "linecolor": "white",
             "minorgridcolor": "white",
             "startlinecolor": "#2a3f5f"
            },
            "type": "carpet"
           }
          ],
          "choropleth": [
           {
            "colorbar": {
             "outlinewidth": 0,
             "ticks": ""
            },
            "type": "choropleth"
           }
          ],
          "contour": [
           {
            "colorbar": {
             "outlinewidth": 0,
             "ticks": ""
            },
            "colorscale": [
             [
              0,
              "#0d0887"
             ],
             [
              0.1111111111111111,
              "#46039f"
             ],
             [
              0.2222222222222222,
              "#7201a8"
             ],
             [
              0.3333333333333333,
              "#9c179e"
             ],
             [
              0.4444444444444444,
              "#bd3786"
             ],
             [
              0.5555555555555556,
              "#d8576b"
             ],
             [
              0.6666666666666666,
              "#ed7953"
             ],
             [
              0.7777777777777778,
              "#fb9f3a"
             ],
             [
              0.8888888888888888,
              "#fdca26"
             ],
             [
              1,
              "#f0f921"
             ]
            ],
            "type": "contour"
           }
          ],
          "contourcarpet": [
           {
            "colorbar": {
             "outlinewidth": 0,
             "ticks": ""
            },
            "type": "contourcarpet"
           }
          ],
          "heatmap": [
           {
            "colorbar": {
             "outlinewidth": 0,
             "ticks": ""
            },
            "colorscale": [
             [
              0,
              "#0d0887"
             ],
             [
              0.1111111111111111,
              "#46039f"
             ],
             [
              0.2222222222222222,
              "#7201a8"
             ],
             [
              0.3333333333333333,
              "#9c179e"
             ],
             [
              0.4444444444444444,
              "#bd3786"
             ],
             [
              0.5555555555555556,
              "#d8576b"
             ],
             [
              0.6666666666666666,
              "#ed7953"
             ],
             [
              0.7777777777777778,
              "#fb9f3a"
             ],
             [
              0.8888888888888888,
              "#fdca26"
             ],
             [
              1,
              "#f0f921"
             ]
            ],
            "type": "heatmap"
           }
          ],
          "heatmapgl": [
           {
            "colorbar": {
             "outlinewidth": 0,
             "ticks": ""
            },
            "colorscale": [
             [
              0,
              "#0d0887"
             ],
             [
              0.1111111111111111,
              "#46039f"
             ],
             [
              0.2222222222222222,
              "#7201a8"
             ],
             [
              0.3333333333333333,
              "#9c179e"
             ],
             [
              0.4444444444444444,
              "#bd3786"
             ],
             [
              0.5555555555555556,
              "#d8576b"
             ],
             [
              0.6666666666666666,
              "#ed7953"
             ],
             [
              0.7777777777777778,
              "#fb9f3a"
             ],
             [
              0.8888888888888888,
              "#fdca26"
             ],
             [
              1,
              "#f0f921"
             ]
            ],
            "type": "heatmapgl"
           }
          ],
          "histogram": [
           {
            "marker": {
             "colorbar": {
              "outlinewidth": 0,
              "ticks": ""
             }
            },
            "type": "histogram"
           }
          ],
          "histogram2d": [
           {
            "colorbar": {
             "outlinewidth": 0,
             "ticks": ""
            },
            "colorscale": [
             [
              0,
              "#0d0887"
             ],
             [
              0.1111111111111111,
              "#46039f"
             ],
             [
              0.2222222222222222,
              "#7201a8"
             ],
             [
              0.3333333333333333,
              "#9c179e"
             ],
             [
              0.4444444444444444,
              "#bd3786"
             ],
             [
              0.5555555555555556,
              "#d8576b"
             ],
             [
              0.6666666666666666,
              "#ed7953"
             ],
             [
              0.7777777777777778,
              "#fb9f3a"
             ],
             [
              0.8888888888888888,
              "#fdca26"
             ],
             [
              1,
              "#f0f921"
             ]
            ],
            "type": "histogram2d"
           }
          ],
          "histogram2dcontour": [
           {
            "colorbar": {
             "outlinewidth": 0,
             "ticks": ""
            },
            "colorscale": [
             [
              0,
              "#0d0887"
             ],
             [
              0.1111111111111111,
              "#46039f"
             ],
             [
              0.2222222222222222,
              "#7201a8"
             ],
             [
              0.3333333333333333,
              "#9c179e"
             ],
             [
              0.4444444444444444,
              "#bd3786"
             ],
             [
              0.5555555555555556,
              "#d8576b"
             ],
             [
              0.6666666666666666,
              "#ed7953"
             ],
             [
              0.7777777777777778,
              "#fb9f3a"
             ],
             [
              0.8888888888888888,
              "#fdca26"
             ],
             [
              1,
              "#f0f921"
             ]
            ],
            "type": "histogram2dcontour"
           }
          ],
          "mesh3d": [
           {
            "colorbar": {
             "outlinewidth": 0,
             "ticks": ""
            },
            "type": "mesh3d"
           }
          ],
          "parcoords": [
           {
            "line": {
             "colorbar": {
              "outlinewidth": 0,
              "ticks": ""
             }
            },
            "type": "parcoords"
           }
          ],
          "pie": [
           {
            "automargin": true,
            "type": "pie"
           }
          ],
          "scatter": [
           {
            "marker": {
             "colorbar": {
              "outlinewidth": 0,
              "ticks": ""
             }
            },
            "type": "scatter"
           }
          ],
          "scatter3d": [
           {
            "line": {
             "colorbar": {
              "outlinewidth": 0,
              "ticks": ""
             }
            },
            "marker": {
             "colorbar": {
              "outlinewidth": 0,
              "ticks": ""
             }
            },
            "type": "scatter3d"
           }
          ],
          "scattercarpet": [
           {
            "marker": {
             "colorbar": {
              "outlinewidth": 0,
              "ticks": ""
             }
            },
            "type": "scattercarpet"
           }
          ],
          "scattergeo": [
           {
            "marker": {
             "colorbar": {
              "outlinewidth": 0,
              "ticks": ""
             }
            },
            "type": "scattergeo"
           }
          ],
          "scattergl": [
           {
            "marker": {
             "colorbar": {
              "outlinewidth": 0,
              "ticks": ""
             }
            },
            "type": "scattergl"
           }
          ],
          "scattermapbox": [
           {
            "marker": {
             "colorbar": {
              "outlinewidth": 0,
              "ticks": ""
             }
            },
            "type": "scattermapbox"
           }
          ],
          "scatterpolar": [
           {
            "marker": {
             "colorbar": {
              "outlinewidth": 0,
              "ticks": ""
             }
            },
            "type": "scatterpolar"
           }
          ],
          "scatterpolargl": [
           {
            "marker": {
             "colorbar": {
              "outlinewidth": 0,
              "ticks": ""
             }
            },
            "type": "scatterpolargl"
           }
          ],
          "scatterternary": [
           {
            "marker": {
             "colorbar": {
              "outlinewidth": 0,
              "ticks": ""
             }
            },
            "type": "scatterternary"
           }
          ],
          "surface": [
           {
            "colorbar": {
             "outlinewidth": 0,
             "ticks": ""
            },
            "colorscale": [
             [
              0,
              "#0d0887"
             ],
             [
              0.1111111111111111,
              "#46039f"
             ],
             [
              0.2222222222222222,
              "#7201a8"
             ],
             [
              0.3333333333333333,
              "#9c179e"
             ],
             [
              0.4444444444444444,
              "#bd3786"
             ],
             [
              0.5555555555555556,
              "#d8576b"
             ],
             [
              0.6666666666666666,
              "#ed7953"
             ],
             [
              0.7777777777777778,
              "#fb9f3a"
             ],
             [
              0.8888888888888888,
              "#fdca26"
             ],
             [
              1,
              "#f0f921"
             ]
            ],
            "type": "surface"
           }
          ],
          "table": [
           {
            "cells": {
             "fill": {
              "color": "#EBF0F8"
             },
             "line": {
              "color": "white"
             }
            },
            "header": {
             "fill": {
              "color": "#C8D4E3"
             },
             "line": {
              "color": "white"
             }
            },
            "type": "table"
           }
          ]
         },
         "layout": {
          "annotationdefaults": {
           "arrowcolor": "#2a3f5f",
           "arrowhead": 0,
           "arrowwidth": 1
          },
          "autotypenumbers": "strict",
          "coloraxis": {
           "colorbar": {
            "outlinewidth": 0,
            "ticks": ""
           }
          },
          "colorscale": {
           "diverging": [
            [
             0,
             "#8e0152"
            ],
            [
             0.1,
             "#c51b7d"
            ],
            [
             0.2,
             "#de77ae"
            ],
            [
             0.3,
             "#f1b6da"
            ],
            [
             0.4,
             "#fde0ef"
            ],
            [
             0.5,
             "#f7f7f7"
            ],
            [
             0.6,
             "#e6f5d0"
            ],
            [
             0.7,
             "#b8e186"
            ],
            [
             0.8,
             "#7fbc41"
            ],
            [
             0.9,
             "#4d9221"
            ],
            [
             1,
             "#276419"
            ]
           ],
           "sequential": [
            [
             0,
             "#0d0887"
            ],
            [
             0.1111111111111111,
             "#46039f"
            ],
            [
             0.2222222222222222,
             "#7201a8"
            ],
            [
             0.3333333333333333,
             "#9c179e"
            ],
            [
             0.4444444444444444,
             "#bd3786"
            ],
            [
             0.5555555555555556,
             "#d8576b"
            ],
            [
             0.6666666666666666,
             "#ed7953"
            ],
            [
             0.7777777777777778,
             "#fb9f3a"
            ],
            [
             0.8888888888888888,
             "#fdca26"
            ],
            [
             1,
             "#f0f921"
            ]
           ],
           "sequentialminus": [
            [
             0,
             "#0d0887"
            ],
            [
             0.1111111111111111,
             "#46039f"
            ],
            [
             0.2222222222222222,
             "#7201a8"
            ],
            [
             0.3333333333333333,
             "#9c179e"
            ],
            [
             0.4444444444444444,
             "#bd3786"
            ],
            [
             0.5555555555555556,
             "#d8576b"
            ],
            [
             0.6666666666666666,
             "#ed7953"
            ],
            [
             0.7777777777777778,
             "#fb9f3a"
            ],
            [
             0.8888888888888888,
             "#fdca26"
            ],
            [
             1,
             "#f0f921"
            ]
           ]
          },
          "colorway": [
           "#636efa",
           "#EF553B",
           "#00cc96",
           "#ab63fa",
           "#FFA15A",
           "#19d3f3",
           "#FF6692",
           "#B6E880",
           "#FF97FF",
           "#FECB52"
          ],
          "font": {
           "color": "#2a3f5f"
          },
          "geo": {
           "bgcolor": "white",
           "lakecolor": "white",
           "landcolor": "#E5ECF6",
           "showlakes": true,
           "showland": true,
           "subunitcolor": "white"
          },
          "hoverlabel": {
           "align": "left"
          },
          "hovermode": "closest",
          "mapbox": {
           "style": "light"
          },
          "paper_bgcolor": "white",
          "plot_bgcolor": "#E5ECF6",
          "polar": {
           "angularaxis": {
            "gridcolor": "white",
            "linecolor": "white",
            "ticks": ""
           },
           "bgcolor": "#E5ECF6",
           "radialaxis": {
            "gridcolor": "white",
            "linecolor": "white",
            "ticks": ""
           }
          },
          "scene": {
           "xaxis": {
            "backgroundcolor": "#E5ECF6",
            "gridcolor": "white",
            "gridwidth": 2,
            "linecolor": "white",
            "showbackground": true,
            "ticks": "",
            "zerolinecolor": "white"
           },
           "yaxis": {
            "backgroundcolor": "#E5ECF6",
            "gridcolor": "white",
            "gridwidth": 2,
            "linecolor": "white",
            "showbackground": true,
            "ticks": "",
            "zerolinecolor": "white"
           },
           "zaxis": {
            "backgroundcolor": "#E5ECF6",
            "gridcolor": "white",
            "gridwidth": 2,
            "linecolor": "white",
            "showbackground": true,
            "ticks": "",
            "zerolinecolor": "white"
           }
          },
          "shapedefaults": {
           "line": {
            "color": "#2a3f5f"
           }
          },
          "ternary": {
           "aaxis": {
            "gridcolor": "white",
            "linecolor": "white",
            "ticks": ""
           },
           "baxis": {
            "gridcolor": "white",
            "linecolor": "white",
            "ticks": ""
           },
           "bgcolor": "#E5ECF6",
           "caxis": {
            "gridcolor": "white",
            "linecolor": "white",
            "ticks": ""
           }
          },
          "title": {
           "x": 0.05
          },
          "xaxis": {
           "automargin": true,
           "gridcolor": "white",
           "linecolor": "white",
           "ticks": "",
           "title": {
            "standoff": 15
           },
           "zerolinecolor": "white",
           "zerolinewidth": 2
          },
          "yaxis": {
           "automargin": true,
           "gridcolor": "white",
           "linecolor": "white",
           "ticks": "",
           "title": {
            "standoff": 15
           },
           "zerolinecolor": "white",
           "zerolinewidth": 2
          }
         }
        },
        "title": {
         "text": "Dx=1, Dy=0.67, Malla(3x3)"
        }
       }
      }
     },
     "metadata": {}
    }
   ],
   "source": [
    "solve_(h=2, w=3, deltaX=1, deltaY=2/3)"
   ]
  },
  {
   "cell_type": "code",
   "execution_count": 211,
   "metadata": {},
   "outputs": [
    {
     "output_type": "display_data",
     "data": {
      "application/vnd.plotly.v1+json": {
       "config": {
        "plotlyServerURL": "https://plot.ly"
       },
       "data": [
        {
         "type": "surface",
         "x": [
          [
           0.5,
           1,
           1.5,
           2,
           2.5,
           3
          ],
          [
           0.5,
           1,
           1.5,
           2,
           2.5,
           3
          ],
          [
           0.5,
           1,
           1.5,
           2,
           2.5,
           3
          ],
          [
           0.5,
           1,
           1.5,
           2,
           2.5,
           3
          ],
          [
           0.5,
           1,
           1.5,
           2,
           2.5,
           3
          ],
          [
           0.5,
           1,
           1.5,
           2,
           2.5,
           3
          ]
         ],
         "y": [
          [
           2,
           2,
           2,
           2,
           2,
           2
          ],
          [
           1.6666666666666667,
           1.6666666666666667,
           1.6666666666666667,
           1.6666666666666667,
           1.6666666666666667,
           1.6666666666666667
          ],
          [
           1.3333333333333333,
           1.3333333333333333,
           1.3333333333333333,
           1.3333333333333333,
           1.3333333333333333,
           1.3333333333333333
          ],
          [
           1,
           1,
           1,
           1,
           1,
           1
          ],
          [
           0.6666666666666667,
           0.6666666666666667,
           0.6666666666666667,
           0.6666666666666667,
           0.6666666666666667,
           0.6666666666666667
          ],
          [
           0.3333333333333333,
           0.3333333333333333,
           0.3333333333333333,
           0.3333333333333333,
           0.3333333333333333,
           0.3333333333333333
          ]
         ],
         "z": [
          [
           194.7312151690695,
           213.582452886258,
           248.22587657987242,
           296.83305394088904,
           358.2104981200037,
           429.5487592189438
          ],
          [
           170.40908698341937,
           186.81282311632668,
           215.24564041867728,
           254.6571004070678,
           303.6606331645291,
           359.4917496902805
          ],
          [
           140.45970732392283,
           154.6969350488649,
           177.3860075081311,
           208.2180034203261,
           246.076286534259,
           288.8374955168903
          ],
          [
           107.34994822693623,
           118.82467154392577,
           135.90729750739433,
           158.656112121701,
           186.31286174012297,
           217.41229519513948
          ],
          [
           72.40695575659265,
           80.46000686277371,
           91.91028143961839,
           106.91291637680239,
           125.01935524083379,
           145.32564094012463
          ],
          [
           36.43606905680241,
           40.585465083548954,
           46.33443854502491,
           53.79025221997154,
           62.748139036984796,
           72.77910222855363
          ]
         ]
        }
       ],
       "layout": {
        "scene": {
         "camera": {
          "center": {
           "x": 0,
           "y": 0,
           "z": 0
          },
          "eye": {
           "x": -2,
           "y": -1,
           "z": 0.3
          },
          "up": {
           "x": 0,
           "y": 0,
           "z": 1
          }
         }
        },
        "template": {
         "data": {
          "bar": [
           {
            "error_x": {
             "color": "#2a3f5f"
            },
            "error_y": {
             "color": "#2a3f5f"
            },
            "marker": {
             "line": {
              "color": "#E5ECF6",
              "width": 0.5
             }
            },
            "type": "bar"
           }
          ],
          "barpolar": [
           {
            "marker": {
             "line": {
              "color": "#E5ECF6",
              "width": 0.5
             }
            },
            "type": "barpolar"
           }
          ],
          "carpet": [
           {
            "aaxis": {
             "endlinecolor": "#2a3f5f",
             "gridcolor": "white",
             "linecolor": "white",
             "minorgridcolor": "white",
             "startlinecolor": "#2a3f5f"
            },
            "baxis": {
             "endlinecolor": "#2a3f5f",
             "gridcolor": "white",
             "linecolor": "white",
             "minorgridcolor": "white",
             "startlinecolor": "#2a3f5f"
            },
            "type": "carpet"
           }
          ],
          "choropleth": [
           {
            "colorbar": {
             "outlinewidth": 0,
             "ticks": ""
            },
            "type": "choropleth"
           }
          ],
          "contour": [
           {
            "colorbar": {
             "outlinewidth": 0,
             "ticks": ""
            },
            "colorscale": [
             [
              0,
              "#0d0887"
             ],
             [
              0.1111111111111111,
              "#46039f"
             ],
             [
              0.2222222222222222,
              "#7201a8"
             ],
             [
              0.3333333333333333,
              "#9c179e"
             ],
             [
              0.4444444444444444,
              "#bd3786"
             ],
             [
              0.5555555555555556,
              "#d8576b"
             ],
             [
              0.6666666666666666,
              "#ed7953"
             ],
             [
              0.7777777777777778,
              "#fb9f3a"
             ],
             [
              0.8888888888888888,
              "#fdca26"
             ],
             [
              1,
              "#f0f921"
             ]
            ],
            "type": "contour"
           }
          ],
          "contourcarpet": [
           {
            "colorbar": {
             "outlinewidth": 0,
             "ticks": ""
            },
            "type": "contourcarpet"
           }
          ],
          "heatmap": [
           {
            "colorbar": {
             "outlinewidth": 0,
             "ticks": ""
            },
            "colorscale": [
             [
              0,
              "#0d0887"
             ],
             [
              0.1111111111111111,
              "#46039f"
             ],
             [
              0.2222222222222222,
              "#7201a8"
             ],
             [
              0.3333333333333333,
              "#9c179e"
             ],
             [
              0.4444444444444444,
              "#bd3786"
             ],
             [
              0.5555555555555556,
              "#d8576b"
             ],
             [
              0.6666666666666666,
              "#ed7953"
             ],
             [
              0.7777777777777778,
              "#fb9f3a"
             ],
             [
              0.8888888888888888,
              "#fdca26"
             ],
             [
              1,
              "#f0f921"
             ]
            ],
            "type": "heatmap"
           }
          ],
          "heatmapgl": [
           {
            "colorbar": {
             "outlinewidth": 0,
             "ticks": ""
            },
            "colorscale": [
             [
              0,
              "#0d0887"
             ],
             [
              0.1111111111111111,
              "#46039f"
             ],
             [
              0.2222222222222222,
              "#7201a8"
             ],
             [
              0.3333333333333333,
              "#9c179e"
             ],
             [
              0.4444444444444444,
              "#bd3786"
             ],
             [
              0.5555555555555556,
              "#d8576b"
             ],
             [
              0.6666666666666666,
              "#ed7953"
             ],
             [
              0.7777777777777778,
              "#fb9f3a"
             ],
             [
              0.8888888888888888,
              "#fdca26"
             ],
             [
              1,
              "#f0f921"
             ]
            ],
            "type": "heatmapgl"
           }
          ],
          "histogram": [
           {
            "marker": {
             "colorbar": {
              "outlinewidth": 0,
              "ticks": ""
             }
            },
            "type": "histogram"
           }
          ],
          "histogram2d": [
           {
            "colorbar": {
             "outlinewidth": 0,
             "ticks": ""
            },
            "colorscale": [
             [
              0,
              "#0d0887"
             ],
             [
              0.1111111111111111,
              "#46039f"
             ],
             [
              0.2222222222222222,
              "#7201a8"
             ],
             [
              0.3333333333333333,
              "#9c179e"
             ],
             [
              0.4444444444444444,
              "#bd3786"
             ],
             [
              0.5555555555555556,
              "#d8576b"
             ],
             [
              0.6666666666666666,
              "#ed7953"
             ],
             [
              0.7777777777777778,
              "#fb9f3a"
             ],
             [
              0.8888888888888888,
              "#fdca26"
             ],
             [
              1,
              "#f0f921"
             ]
            ],
            "type": "histogram2d"
           }
          ],
          "histogram2dcontour": [
           {
            "colorbar": {
             "outlinewidth": 0,
             "ticks": ""
            },
            "colorscale": [
             [
              0,
              "#0d0887"
             ],
             [
              0.1111111111111111,
              "#46039f"
             ],
             [
              0.2222222222222222,
              "#7201a8"
             ],
             [
              0.3333333333333333,
              "#9c179e"
             ],
             [
              0.4444444444444444,
              "#bd3786"
             ],
             [
              0.5555555555555556,
              "#d8576b"
             ],
             [
              0.6666666666666666,
              "#ed7953"
             ],
             [
              0.7777777777777778,
              "#fb9f3a"
             ],
             [
              0.8888888888888888,
              "#fdca26"
             ],
             [
              1,
              "#f0f921"
             ]
            ],
            "type": "histogram2dcontour"
           }
          ],
          "mesh3d": [
           {
            "colorbar": {
             "outlinewidth": 0,
             "ticks": ""
            },
            "type": "mesh3d"
           }
          ],
          "parcoords": [
           {
            "line": {
             "colorbar": {
              "outlinewidth": 0,
              "ticks": ""
             }
            },
            "type": "parcoords"
           }
          ],
          "pie": [
           {
            "automargin": true,
            "type": "pie"
           }
          ],
          "scatter": [
           {
            "marker": {
             "colorbar": {
              "outlinewidth": 0,
              "ticks": ""
             }
            },
            "type": "scatter"
           }
          ],
          "scatter3d": [
           {
            "line": {
             "colorbar": {
              "outlinewidth": 0,
              "ticks": ""
             }
            },
            "marker": {
             "colorbar": {
              "outlinewidth": 0,
              "ticks": ""
             }
            },
            "type": "scatter3d"
           }
          ],
          "scattercarpet": [
           {
            "marker": {
             "colorbar": {
              "outlinewidth": 0,
              "ticks": ""
             }
            },
            "type": "scattercarpet"
           }
          ],
          "scattergeo": [
           {
            "marker": {
             "colorbar": {
              "outlinewidth": 0,
              "ticks": ""
             }
            },
            "type": "scattergeo"
           }
          ],
          "scattergl": [
           {
            "marker": {
             "colorbar": {
              "outlinewidth": 0,
              "ticks": ""
             }
            },
            "type": "scattergl"
           }
          ],
          "scattermapbox": [
           {
            "marker": {
             "colorbar": {
              "outlinewidth": 0,
              "ticks": ""
             }
            },
            "type": "scattermapbox"
           }
          ],
          "scatterpolar": [
           {
            "marker": {
             "colorbar": {
              "outlinewidth": 0,
              "ticks": ""
             }
            },
            "type": "scatterpolar"
           }
          ],
          "scatterpolargl": [
           {
            "marker": {
             "colorbar": {
              "outlinewidth": 0,
              "ticks": ""
             }
            },
            "type": "scatterpolargl"
           }
          ],
          "scatterternary": [
           {
            "marker": {
             "colorbar": {
              "outlinewidth": 0,
              "ticks": ""
             }
            },
            "type": "scatterternary"
           }
          ],
          "surface": [
           {
            "colorbar": {
             "outlinewidth": 0,
             "ticks": ""
            },
            "colorscale": [
             [
              0,
              "#0d0887"
             ],
             [
              0.1111111111111111,
              "#46039f"
             ],
             [
              0.2222222222222222,
              "#7201a8"
             ],
             [
              0.3333333333333333,
              "#9c179e"
             ],
             [
              0.4444444444444444,
              "#bd3786"
             ],
             [
              0.5555555555555556,
              "#d8576b"
             ],
             [
              0.6666666666666666,
              "#ed7953"
             ],
             [
              0.7777777777777778,
              "#fb9f3a"
             ],
             [
              0.8888888888888888,
              "#fdca26"
             ],
             [
              1,
              "#f0f921"
             ]
            ],
            "type": "surface"
           }
          ],
          "table": [
           {
            "cells": {
             "fill": {
              "color": "#EBF0F8"
             },
             "line": {
              "color": "white"
             }
            },
            "header": {
             "fill": {
              "color": "#C8D4E3"
             },
             "line": {
              "color": "white"
             }
            },
            "type": "table"
           }
          ]
         },
         "layout": {
          "annotationdefaults": {
           "arrowcolor": "#2a3f5f",
           "arrowhead": 0,
           "arrowwidth": 1
          },
          "autotypenumbers": "strict",
          "coloraxis": {
           "colorbar": {
            "outlinewidth": 0,
            "ticks": ""
           }
          },
          "colorscale": {
           "diverging": [
            [
             0,
             "#8e0152"
            ],
            [
             0.1,
             "#c51b7d"
            ],
            [
             0.2,
             "#de77ae"
            ],
            [
             0.3,
             "#f1b6da"
            ],
            [
             0.4,
             "#fde0ef"
            ],
            [
             0.5,
             "#f7f7f7"
            ],
            [
             0.6,
             "#e6f5d0"
            ],
            [
             0.7,
             "#b8e186"
            ],
            [
             0.8,
             "#7fbc41"
            ],
            [
             0.9,
             "#4d9221"
            ],
            [
             1,
             "#276419"
            ]
           ],
           "sequential": [
            [
             0,
             "#0d0887"
            ],
            [
             0.1111111111111111,
             "#46039f"
            ],
            [
             0.2222222222222222,
             "#7201a8"
            ],
            [
             0.3333333333333333,
             "#9c179e"
            ],
            [
             0.4444444444444444,
             "#bd3786"
            ],
            [
             0.5555555555555556,
             "#d8576b"
            ],
            [
             0.6666666666666666,
             "#ed7953"
            ],
            [
             0.7777777777777778,
             "#fb9f3a"
            ],
            [
             0.8888888888888888,
             "#fdca26"
            ],
            [
             1,
             "#f0f921"
            ]
           ],
           "sequentialminus": [
            [
             0,
             "#0d0887"
            ],
            [
             0.1111111111111111,
             "#46039f"
            ],
            [
             0.2222222222222222,
             "#7201a8"
            ],
            [
             0.3333333333333333,
             "#9c179e"
            ],
            [
             0.4444444444444444,
             "#bd3786"
            ],
            [
             0.5555555555555556,
             "#d8576b"
            ],
            [
             0.6666666666666666,
             "#ed7953"
            ],
            [
             0.7777777777777778,
             "#fb9f3a"
            ],
            [
             0.8888888888888888,
             "#fdca26"
            ],
            [
             1,
             "#f0f921"
            ]
           ]
          },
          "colorway": [
           "#636efa",
           "#EF553B",
           "#00cc96",
           "#ab63fa",
           "#FFA15A",
           "#19d3f3",
           "#FF6692",
           "#B6E880",
           "#FF97FF",
           "#FECB52"
          ],
          "font": {
           "color": "#2a3f5f"
          },
          "geo": {
           "bgcolor": "white",
           "lakecolor": "white",
           "landcolor": "#E5ECF6",
           "showlakes": true,
           "showland": true,
           "subunitcolor": "white"
          },
          "hoverlabel": {
           "align": "left"
          },
          "hovermode": "closest",
          "mapbox": {
           "style": "light"
          },
          "paper_bgcolor": "white",
          "plot_bgcolor": "#E5ECF6",
          "polar": {
           "angularaxis": {
            "gridcolor": "white",
            "linecolor": "white",
            "ticks": ""
           },
           "bgcolor": "#E5ECF6",
           "radialaxis": {
            "gridcolor": "white",
            "linecolor": "white",
            "ticks": ""
           }
          },
          "scene": {
           "xaxis": {
            "backgroundcolor": "#E5ECF6",
            "gridcolor": "white",
            "gridwidth": 2,
            "linecolor": "white",
            "showbackground": true,
            "ticks": "",
            "zerolinecolor": "white"
           },
           "yaxis": {
            "backgroundcolor": "#E5ECF6",
            "gridcolor": "white",
            "gridwidth": 2,
            "linecolor": "white",
            "showbackground": true,
            "ticks": "",
            "zerolinecolor": "white"
           },
           "zaxis": {
            "backgroundcolor": "#E5ECF6",
            "gridcolor": "white",
            "gridwidth": 2,
            "linecolor": "white",
            "showbackground": true,
            "ticks": "",
            "zerolinecolor": "white"
           }
          },
          "shapedefaults": {
           "line": {
            "color": "#2a3f5f"
           }
          },
          "ternary": {
           "aaxis": {
            "gridcolor": "white",
            "linecolor": "white",
            "ticks": ""
           },
           "baxis": {
            "gridcolor": "white",
            "linecolor": "white",
            "ticks": ""
           },
           "bgcolor": "#E5ECF6",
           "caxis": {
            "gridcolor": "white",
            "linecolor": "white",
            "ticks": ""
           }
          },
          "title": {
           "x": 0.05
          },
          "xaxis": {
           "automargin": true,
           "gridcolor": "white",
           "linecolor": "white",
           "ticks": "",
           "title": {
            "standoff": 15
           },
           "zerolinecolor": "white",
           "zerolinewidth": 2
          },
          "yaxis": {
           "automargin": true,
           "gridcolor": "white",
           "linecolor": "white",
           "ticks": "",
           "title": {
            "standoff": 15
           },
           "zerolinecolor": "white",
           "zerolinewidth": 2
          }
         }
        },
        "title": {
         "text": "Dx=0.5, Dy=0.33, Malla(6x6)"
        }
       }
      }
     },
     "metadata": {}
    }
   ],
   "source": [
    "solve_(h=2, w=3, deltaX=1/2, deltaY=1/3)"
   ]
  },
  {
   "cell_type": "code",
   "execution_count": 208,
   "metadata": {},
   "outputs": [
    {
     "output_type": "display_data",
     "data": {
      "application/vnd.plotly.v1+json": {
       "config": {
        "plotlyServerURL": "https://plot.ly"
       },
       "data": [
        {
         "type": "surface",
         "x": [
          [
           0.25,
           0.5,
           0.75,
           1,
           1.25,
           1.5,
           1.75,
           2,
           2.25,
           2.5,
           2.75,
           3
          ],
          [
           0.25,
           0.5,
           0.75,
           1,
           1.25,
           1.5,
           1.75,
           2,
           2.25,
           2.5,
           2.75,
           3
          ],
          [
           0.25,
           0.5,
           0.75,
           1,
           1.25,
           1.5,
           1.75,
           2,
           2.25,
           2.5,
           2.75,
           3
          ],
          [
           0.25,
           0.5,
           0.75,
           1,
           1.25,
           1.5,
           1.75,
           2,
           2.25,
           2.5,
           2.75,
           3
          ],
          [
           0.25,
           0.5,
           0.75,
           1,
           1.25,
           1.5,
           1.75,
           2,
           2.25,
           2.5,
           2.75,
           3
          ],
          [
           0.25,
           0.5,
           0.75,
           1,
           1.25,
           1.5,
           1.75,
           2,
           2.25,
           2.5,
           2.75,
           3
          ],
          [
           0.25,
           0.5,
           0.75,
           1,
           1.25,
           1.5,
           1.75,
           2,
           2.25,
           2.5,
           2.75,
           3
          ],
          [
           0.25,
           0.5,
           0.75,
           1,
           1.25,
           1.5,
           1.75,
           2,
           2.25,
           2.5,
           2.75,
           3
          ],
          [
           0.25,
           0.5,
           0.75,
           1,
           1.25,
           1.5,
           1.75,
           2,
           2.25,
           2.5,
           2.75,
           3
          ],
          [
           0.25,
           0.5,
           0.75,
           1,
           1.25,
           1.5,
           1.75,
           2,
           2.25,
           2.5,
           2.75,
           3
          ],
          [
           0.25,
           0.5,
           0.75,
           1,
           1.25,
           1.5,
           1.75,
           2,
           2.25,
           2.5,
           2.75,
           3
          ],
          [
           0.25,
           0.5,
           0.75,
           1,
           1.25,
           1.5,
           1.75,
           2,
           2.25,
           2.5,
           2.75,
           3
          ]
         ],
         "y": [
          [
           2,
           2,
           2,
           2,
           2,
           2,
           2,
           2,
           2,
           2,
           2,
           2
          ],
          [
           1.8333333333333333,
           1.8333333333333333,
           1.8333333333333333,
           1.8333333333333333,
           1.8333333333333333,
           1.8333333333333333,
           1.8333333333333333,
           1.8333333333333333,
           1.8333333333333333,
           1.8333333333333333,
           1.8333333333333333,
           1.8333333333333333
          ],
          [
           1.6666666666666667,
           1.6666666666666667,
           1.6666666666666667,
           1.6666666666666667,
           1.6666666666666667,
           1.6666666666666667,
           1.6666666666666667,
           1.6666666666666667,
           1.6666666666666667,
           1.6666666666666667,
           1.6666666666666667,
           1.6666666666666667
          ],
          [
           1.5,
           1.5,
           1.5,
           1.5,
           1.5,
           1.5,
           1.5,
           1.5,
           1.5,
           1.5,
           1.5,
           1.5
          ],
          [
           1.3333333333333333,
           1.3333333333333333,
           1.3333333333333333,
           1.3333333333333333,
           1.3333333333333333,
           1.3333333333333333,
           1.3333333333333333,
           1.3333333333333333,
           1.3333333333333333,
           1.3333333333333333,
           1.3333333333333333,
           1.3333333333333333
          ],
          [
           1.1666666666666667,
           1.1666666666666667,
           1.1666666666666667,
           1.1666666666666667,
           1.1666666666666667,
           1.1666666666666667,
           1.1666666666666667,
           1.1666666666666667,
           1.1666666666666667,
           1.1666666666666667,
           1.1666666666666667,
           1.1666666666666667
          ],
          [
           0.9999999999999999,
           0.9999999999999999,
           0.9999999999999999,
           0.9999999999999999,
           0.9999999999999999,
           0.9999999999999999,
           0.9999999999999999,
           0.9999999999999999,
           0.9999999999999999,
           0.9999999999999999,
           0.9999999999999999,
           0.9999999999999999
          ],
          [
           0.8333333333333333,
           0.8333333333333333,
           0.8333333333333333,
           0.8333333333333333,
           0.8333333333333333,
           0.8333333333333333,
           0.8333333333333333,
           0.8333333333333333,
           0.8333333333333333,
           0.8333333333333333,
           0.8333333333333333,
           0.8333333333333333
          ],
          [
           0.6666666666666666,
           0.6666666666666666,
           0.6666666666666666,
           0.6666666666666666,
           0.6666666666666666,
           0.6666666666666666,
           0.6666666666666666,
           0.6666666666666666,
           0.6666666666666666,
           0.6666666666666666,
           0.6666666666666666,
           0.6666666666666666
          ],
          [
           0.5,
           0.5,
           0.5,
           0.5,
           0.5,
           0.5,
           0.5,
           0.5,
           0.5,
           0.5,
           0.5,
           0.5
          ],
          [
           0.3333333333333333,
           0.3333333333333333,
           0.3333333333333333,
           0.3333333333333333,
           0.3333333333333333,
           0.3333333333333333,
           0.3333333333333333,
           0.3333333333333333,
           0.3333333333333333,
           0.3333333333333333,
           0.3333333333333333,
           0.3333333333333333
          ],
          [
           0.16666666666666666,
           0.16666666666666666,
           0.16666666666666666,
           0.16666666666666666,
           0.16666666666666666,
           0.16666666666666666,
           0.16666666666666666,
           0.16666666666666666,
           0.16666666666666666,
           0.16666666666666666,
           0.16666666666666666,
           0.16666666666666666
          ]
         ],
         "z": [
          [
           194.6669094416198,
           199.03483909555374,
           208.40180480078303,
           221.83789246060158,
           239.12459687205174,
           260.19584669562687,
           285.0156035024166,
           313.5412807050464,
           345.7000343491301,
           381.3468794586852,
           420.14083526619834,
           461.0593694998962
          ],
          [
           182.93892101109992,
           187.51455105719833,
           196.24511095508197,
           208.6310663649225,
           224.48384022760348,
           243.72569028760307,
           266.30079794001523,
           292.134527436113,
           321.09980582471746,
           352.9617097182777,
           387.25408012075866,
           422.99780732583434
          ],
          [
           169.00202486132156,
           174.14762752916067,
           182.46379688184467,
           193.88343206798075,
           208.336827495458,
           225.77408606072896,
           246.13771600264232,
           269.33597465939863,
           295.2121881869915,
           323.49633264057223,
           353.7222775074993,
           385.1176679062509
          ],
          [
           153.81613116790587,
           159.37156325230285,
           167.3031646604064,
           177.78745988599843,
           190.8636533687377,
           206.52187233312483,
           224.71479908089486,
           245.3472197178681,
           268.2543790266039,
           293.16793315693485,
           319.67072132454,
           347.16925810370554
          ],
          [
           137.85721484493865,
           143.53942372046447,
           151.00800185341774,
           160.53953292306176,
           172.24291236128505,
           186.14312181290595,
           202.20766265283476,
           220.34746981110985,
           240.40483883439634,
           262.13320743450896,
           285.17661020310925,
           309.0732015824364
          ],
          [
           121.38348636022887,
           126.91334229643614,
           133.7959710745665,
           142.32634001853435,
           152.6458024589891,
           164.80244623121683,
           178.77818563884293,
           194.49547018656892,
           211.81263216359963,
           230.51402208164413,
           250.30330414357786,
           270.8155715626918
          ],
          [
           104.54840843434346,
           109.68602849821971,
           115.85161133312079,
           123.31799444890177,
           132.23216752034952,
           142.65328370046183,
           154.5746885625846,
           167.9324139267814,
           182.6052130745746,
           198.4113291092729,
           215.108671258633,
           232.40735146078669
          ],
          [
           87.45145867311015,
           92.00184235732556,
           97.32911813350626,
           103.66618667675061,
           111.14878008897031,
           119.8373261999244,
           129.73282681873786,
           140.7848804298401,
           152.89409759136947,
           165.9125356414966,
           179.64677701689092,
           193.8684787646329
          ],
          [
           70.16239409212635,
           73.97237084222472,
           78.35782814853023,
           83.50525674061042,
           89.52941368037585,
           96.4849444736717,
           104.37694152276265,
           113.16749646604217,
           122.7788839354543,
           133.09560736249043,
           143.9682337207722,
           155.22153814805316
          ],
          [
           52.73366314463647,
           55.68713019103183,
           59.04788425876541,
           62.9546697610546,
           67.49610333687903,
           72.71635552262117,
           78.62169716270364,
           85.1852980461854,
           92.35018763170618,
           100.03161111404177,
           108.12050017176487,
           116.48934237977018
          ],
          [
           35.2072415741427,
           37.2208730859109,
           39.495259731420305,
           42.12201697103869,
           45.16109583341875,
           48.643282369641575,
           52.573893138911615,
           56.935860203200214,
           61.69192070715148,
           66.78651905430968,
           72.14834300040988,
           77.69411753938734
          ],
          [
           17.6187207721117,
           18.63872481023831,
           19.786026051137846,
           21.106110126462035,
           22.629151586028335,
           24.370909557529902,
           26.334375206222457,
           28.51126972036496,
           30.88319251894928,
           33.422660061714495,
           36.09443000999822,
           38.85736325235176
          ]
         ]
        }
       ],
       "layout": {
        "scene": {
         "camera": {
          "center": {
           "x": 0,
           "y": 0,
           "z": 0
          },
          "eye": {
           "x": -2,
           "y": -1,
           "z": 0.3
          },
          "up": {
           "x": 0,
           "y": 0,
           "z": 1
          }
         }
        },
        "template": {
         "data": {
          "bar": [
           {
            "error_x": {
             "color": "#2a3f5f"
            },
            "error_y": {
             "color": "#2a3f5f"
            },
            "marker": {
             "line": {
              "color": "#E5ECF6",
              "width": 0.5
             }
            },
            "type": "bar"
           }
          ],
          "barpolar": [
           {
            "marker": {
             "line": {
              "color": "#E5ECF6",
              "width": 0.5
             }
            },
            "type": "barpolar"
           }
          ],
          "carpet": [
           {
            "aaxis": {
             "endlinecolor": "#2a3f5f",
             "gridcolor": "white",
             "linecolor": "white",
             "minorgridcolor": "white",
             "startlinecolor": "#2a3f5f"
            },
            "baxis": {
             "endlinecolor": "#2a3f5f",
             "gridcolor": "white",
             "linecolor": "white",
             "minorgridcolor": "white",
             "startlinecolor": "#2a3f5f"
            },
            "type": "carpet"
           }
          ],
          "choropleth": [
           {
            "colorbar": {
             "outlinewidth": 0,
             "ticks": ""
            },
            "type": "choropleth"
           }
          ],
          "contour": [
           {
            "colorbar": {
             "outlinewidth": 0,
             "ticks": ""
            },
            "colorscale": [
             [
              0,
              "#0d0887"
             ],
             [
              0.1111111111111111,
              "#46039f"
             ],
             [
              0.2222222222222222,
              "#7201a8"
             ],
             [
              0.3333333333333333,
              "#9c179e"
             ],
             [
              0.4444444444444444,
              "#bd3786"
             ],
             [
              0.5555555555555556,
              "#d8576b"
             ],
             [
              0.6666666666666666,
              "#ed7953"
             ],
             [
              0.7777777777777778,
              "#fb9f3a"
             ],
             [
              0.8888888888888888,
              "#fdca26"
             ],
             [
              1,
              "#f0f921"
             ]
            ],
            "type": "contour"
           }
          ],
          "contourcarpet": [
           {
            "colorbar": {
             "outlinewidth": 0,
             "ticks": ""
            },
            "type": "contourcarpet"
           }
          ],
          "heatmap": [
           {
            "colorbar": {
             "outlinewidth": 0,
             "ticks": ""
            },
            "colorscale": [
             [
              0,
              "#0d0887"
             ],
             [
              0.1111111111111111,
              "#46039f"
             ],
             [
              0.2222222222222222,
              "#7201a8"
             ],
             [
              0.3333333333333333,
              "#9c179e"
             ],
             [
              0.4444444444444444,
              "#bd3786"
             ],
             [
              0.5555555555555556,
              "#d8576b"
             ],
             [
              0.6666666666666666,
              "#ed7953"
             ],
             [
              0.7777777777777778,
              "#fb9f3a"
             ],
             [
              0.8888888888888888,
              "#fdca26"
             ],
             [
              1,
              "#f0f921"
             ]
            ],
            "type": "heatmap"
           }
          ],
          "heatmapgl": [
           {
            "colorbar": {
             "outlinewidth": 0,
             "ticks": ""
            },
            "colorscale": [
             [
              0,
              "#0d0887"
             ],
             [
              0.1111111111111111,
              "#46039f"
             ],
             [
              0.2222222222222222,
              "#7201a8"
             ],
             [
              0.3333333333333333,
              "#9c179e"
             ],
             [
              0.4444444444444444,
              "#bd3786"
             ],
             [
              0.5555555555555556,
              "#d8576b"
             ],
             [
              0.6666666666666666,
              "#ed7953"
             ],
             [
              0.7777777777777778,
              "#fb9f3a"
             ],
             [
              0.8888888888888888,
              "#fdca26"
             ],
             [
              1,
              "#f0f921"
             ]
            ],
            "type": "heatmapgl"
           }
          ],
          "histogram": [
           {
            "marker": {
             "colorbar": {
              "outlinewidth": 0,
              "ticks": ""
             }
            },
            "type": "histogram"
           }
          ],
          "histogram2d": [
           {
            "colorbar": {
             "outlinewidth": 0,
             "ticks": ""
            },
            "colorscale": [
             [
              0,
              "#0d0887"
             ],
             [
              0.1111111111111111,
              "#46039f"
             ],
             [
              0.2222222222222222,
              "#7201a8"
             ],
             [
              0.3333333333333333,
              "#9c179e"
             ],
             [
              0.4444444444444444,
              "#bd3786"
             ],
             [
              0.5555555555555556,
              "#d8576b"
             ],
             [
              0.6666666666666666,
              "#ed7953"
             ],
             [
              0.7777777777777778,
              "#fb9f3a"
             ],
             [
              0.8888888888888888,
              "#fdca26"
             ],
             [
              1,
              "#f0f921"
             ]
            ],
            "type": "histogram2d"
           }
          ],
          "histogram2dcontour": [
           {
            "colorbar": {
             "outlinewidth": 0,
             "ticks": ""
            },
            "colorscale": [
             [
              0,
              "#0d0887"
             ],
             [
              0.1111111111111111,
              "#46039f"
             ],
             [
              0.2222222222222222,
              "#7201a8"
             ],
             [
              0.3333333333333333,
              "#9c179e"
             ],
             [
              0.4444444444444444,
              "#bd3786"
             ],
             [
              0.5555555555555556,
              "#d8576b"
             ],
             [
              0.6666666666666666,
              "#ed7953"
             ],
             [
              0.7777777777777778,
              "#fb9f3a"
             ],
             [
              0.8888888888888888,
              "#fdca26"
             ],
             [
              1,
              "#f0f921"
             ]
            ],
            "type": "histogram2dcontour"
           }
          ],
          "mesh3d": [
           {
            "colorbar": {
             "outlinewidth": 0,
             "ticks": ""
            },
            "type": "mesh3d"
           }
          ],
          "parcoords": [
           {
            "line": {
             "colorbar": {
              "outlinewidth": 0,
              "ticks": ""
             }
            },
            "type": "parcoords"
           }
          ],
          "pie": [
           {
            "automargin": true,
            "type": "pie"
           }
          ],
          "scatter": [
           {
            "marker": {
             "colorbar": {
              "outlinewidth": 0,
              "ticks": ""
             }
            },
            "type": "scatter"
           }
          ],
          "scatter3d": [
           {
            "line": {
             "colorbar": {
              "outlinewidth": 0,
              "ticks": ""
             }
            },
            "marker": {
             "colorbar": {
              "outlinewidth": 0,
              "ticks": ""
             }
            },
            "type": "scatter3d"
           }
          ],
          "scattercarpet": [
           {
            "marker": {
             "colorbar": {
              "outlinewidth": 0,
              "ticks": ""
             }
            },
            "type": "scattercarpet"
           }
          ],
          "scattergeo": [
           {
            "marker": {
             "colorbar": {
              "outlinewidth": 0,
              "ticks": ""
             }
            },
            "type": "scattergeo"
           }
          ],
          "scattergl": [
           {
            "marker": {
             "colorbar": {
              "outlinewidth": 0,
              "ticks": ""
             }
            },
            "type": "scattergl"
           }
          ],
          "scattermapbox": [
           {
            "marker": {
             "colorbar": {
              "outlinewidth": 0,
              "ticks": ""
             }
            },
            "type": "scattermapbox"
           }
          ],
          "scatterpolar": [
           {
            "marker": {
             "colorbar": {
              "outlinewidth": 0,
              "ticks": ""
             }
            },
            "type": "scatterpolar"
           }
          ],
          "scatterpolargl": [
           {
            "marker": {
             "colorbar": {
              "outlinewidth": 0,
              "ticks": ""
             }
            },
            "type": "scatterpolargl"
           }
          ],
          "scatterternary": [
           {
            "marker": {
             "colorbar": {
              "outlinewidth": 0,
              "ticks": ""
             }
            },
            "type": "scatterternary"
           }
          ],
          "surface": [
           {
            "colorbar": {
             "outlinewidth": 0,
             "ticks": ""
            },
            "colorscale": [
             [
              0,
              "#0d0887"
             ],
             [
              0.1111111111111111,
              "#46039f"
             ],
             [
              0.2222222222222222,
              "#7201a8"
             ],
             [
              0.3333333333333333,
              "#9c179e"
             ],
             [
              0.4444444444444444,
              "#bd3786"
             ],
             [
              0.5555555555555556,
              "#d8576b"
             ],
             [
              0.6666666666666666,
              "#ed7953"
             ],
             [
              0.7777777777777778,
              "#fb9f3a"
             ],
             [
              0.8888888888888888,
              "#fdca26"
             ],
             [
              1,
              "#f0f921"
             ]
            ],
            "type": "surface"
           }
          ],
          "table": [
           {
            "cells": {
             "fill": {
              "color": "#EBF0F8"
             },
             "line": {
              "color": "white"
             }
            },
            "header": {
             "fill": {
              "color": "#C8D4E3"
             },
             "line": {
              "color": "white"
             }
            },
            "type": "table"
           }
          ]
         },
         "layout": {
          "annotationdefaults": {
           "arrowcolor": "#2a3f5f",
           "arrowhead": 0,
           "arrowwidth": 1
          },
          "autotypenumbers": "strict",
          "coloraxis": {
           "colorbar": {
            "outlinewidth": 0,
            "ticks": ""
           }
          },
          "colorscale": {
           "diverging": [
            [
             0,
             "#8e0152"
            ],
            [
             0.1,
             "#c51b7d"
            ],
            [
             0.2,
             "#de77ae"
            ],
            [
             0.3,
             "#f1b6da"
            ],
            [
             0.4,
             "#fde0ef"
            ],
            [
             0.5,
             "#f7f7f7"
            ],
            [
             0.6,
             "#e6f5d0"
            ],
            [
             0.7,
             "#b8e186"
            ],
            [
             0.8,
             "#7fbc41"
            ],
            [
             0.9,
             "#4d9221"
            ],
            [
             1,
             "#276419"
            ]
           ],
           "sequential": [
            [
             0,
             "#0d0887"
            ],
            [
             0.1111111111111111,
             "#46039f"
            ],
            [
             0.2222222222222222,
             "#7201a8"
            ],
            [
             0.3333333333333333,
             "#9c179e"
            ],
            [
             0.4444444444444444,
             "#bd3786"
            ],
            [
             0.5555555555555556,
             "#d8576b"
            ],
            [
             0.6666666666666666,
             "#ed7953"
            ],
            [
             0.7777777777777778,
             "#fb9f3a"
            ],
            [
             0.8888888888888888,
             "#fdca26"
            ],
            [
             1,
             "#f0f921"
            ]
           ],
           "sequentialminus": [
            [
             0,
             "#0d0887"
            ],
            [
             0.1111111111111111,
             "#46039f"
            ],
            [
             0.2222222222222222,
             "#7201a8"
            ],
            [
             0.3333333333333333,
             "#9c179e"
            ],
            [
             0.4444444444444444,
             "#bd3786"
            ],
            [
             0.5555555555555556,
             "#d8576b"
            ],
            [
             0.6666666666666666,
             "#ed7953"
            ],
            [
             0.7777777777777778,
             "#fb9f3a"
            ],
            [
             0.8888888888888888,
             "#fdca26"
            ],
            [
             1,
             "#f0f921"
            ]
           ]
          },
          "colorway": [
           "#636efa",
           "#EF553B",
           "#00cc96",
           "#ab63fa",
           "#FFA15A",
           "#19d3f3",
           "#FF6692",
           "#B6E880",
           "#FF97FF",
           "#FECB52"
          ],
          "font": {
           "color": "#2a3f5f"
          },
          "geo": {
           "bgcolor": "white",
           "lakecolor": "white",
           "landcolor": "#E5ECF6",
           "showlakes": true,
           "showland": true,
           "subunitcolor": "white"
          },
          "hoverlabel": {
           "align": "left"
          },
          "hovermode": "closest",
          "mapbox": {
           "style": "light"
          },
          "paper_bgcolor": "white",
          "plot_bgcolor": "#E5ECF6",
          "polar": {
           "angularaxis": {
            "gridcolor": "white",
            "linecolor": "white",
            "ticks": ""
           },
           "bgcolor": "#E5ECF6",
           "radialaxis": {
            "gridcolor": "white",
            "linecolor": "white",
            "ticks": ""
           }
          },
          "scene": {
           "xaxis": {
            "backgroundcolor": "#E5ECF6",
            "gridcolor": "white",
            "gridwidth": 2,
            "linecolor": "white",
            "showbackground": true,
            "ticks": "",
            "zerolinecolor": "white"
           },
           "yaxis": {
            "backgroundcolor": "#E5ECF6",
            "gridcolor": "white",
            "gridwidth": 2,
            "linecolor": "white",
            "showbackground": true,
            "ticks": "",
            "zerolinecolor": "white"
           },
           "zaxis": {
            "backgroundcolor": "#E5ECF6",
            "gridcolor": "white",
            "gridwidth": 2,
            "linecolor": "white",
            "showbackground": true,
            "ticks": "",
            "zerolinecolor": "white"
           }
          },
          "shapedefaults": {
           "line": {
            "color": "#2a3f5f"
           }
          },
          "ternary": {
           "aaxis": {
            "gridcolor": "white",
            "linecolor": "white",
            "ticks": ""
           },
           "baxis": {
            "gridcolor": "white",
            "linecolor": "white",
            "ticks": ""
           },
           "bgcolor": "#E5ECF6",
           "caxis": {
            "gridcolor": "white",
            "linecolor": "white",
            "ticks": ""
           }
          },
          "title": {
           "x": 0.05
          },
          "xaxis": {
           "automargin": true,
           "gridcolor": "white",
           "linecolor": "white",
           "ticks": "",
           "title": {
            "standoff": 15
           },
           "zerolinecolor": "white",
           "zerolinewidth": 2
          },
          "yaxis": {
           "automargin": true,
           "gridcolor": "white",
           "linecolor": "white",
           "ticks": "",
           "title": {
            "standoff": 15
           },
           "zerolinecolor": "white",
           "zerolinewidth": 2
          }
         }
        },
        "title": {
         "text": "Dx=0.25, Dy=0.17, Malla(12x12)"
        }
       }
      }
     },
     "metadata": {}
    }
   ],
   "source": [
    "solve_(h=2, w=3, deltaX=1/4, deltaY=1/6)"
   ]
  },
  {
   "cell_type": "code",
   "execution_count": 212,
   "metadata": {},
   "outputs": [
    {
     "output_type": "display_data",
     "data": {
      "application/vnd.plotly.v1+json": {
       "config": {
        "plotlyServerURL": "https://plot.ly"
       },
       "data": [
        {
         "type": "surface",
         "x": [
          [
           0.16666666666666666,
           0.33333333333333337,
           0.5,
           0.6666666666666666,
           0.8333333333333334,
           1.0000000000000002,
           1.1666666666666667,
           1.3333333333333335,
           1.5000000000000002,
           1.666666666666667,
           1.8333333333333337,
           2,
           2.1666666666666665,
           2.3333333333333335,
           2.5,
           2.666666666666667,
           2.8333333333333335,
           3
          ],
          [
           0.16666666666666666,
           0.33333333333333337,
           0.5,
           0.6666666666666666,
           0.8333333333333334,
           1.0000000000000002,
           1.1666666666666667,
           1.3333333333333335,
           1.5000000000000002,
           1.666666666666667,
           1.8333333333333337,
           2,
           2.1666666666666665,
           2.3333333333333335,
           2.5,
           2.666666666666667,
           2.8333333333333335,
           3
          ],
          [
           0.16666666666666666,
           0.33333333333333337,
           0.5,
           0.6666666666666666,
           0.8333333333333334,
           1.0000000000000002,
           1.1666666666666667,
           1.3333333333333335,
           1.5000000000000002,
           1.666666666666667,
           1.8333333333333337,
           2,
           2.1666666666666665,
           2.3333333333333335,
           2.5,
           2.666666666666667,
           2.8333333333333335,
           3
          ],
          [
           0.16666666666666666,
           0.33333333333333337,
           0.5,
           0.6666666666666666,
           0.8333333333333334,
           1.0000000000000002,
           1.1666666666666667,
           1.3333333333333335,
           1.5000000000000002,
           1.666666666666667,
           1.8333333333333337,
           2,
           2.1666666666666665,
           2.3333333333333335,
           2.5,
           2.666666666666667,
           2.8333333333333335,
           3
          ],
          [
           0.16666666666666666,
           0.33333333333333337,
           0.5,
           0.6666666666666666,
           0.8333333333333334,
           1.0000000000000002,
           1.1666666666666667,
           1.3333333333333335,
           1.5000000000000002,
           1.666666666666667,
           1.8333333333333337,
           2,
           2.1666666666666665,
           2.3333333333333335,
           2.5,
           2.666666666666667,
           2.8333333333333335,
           3
          ],
          [
           0.16666666666666666,
           0.33333333333333337,
           0.5,
           0.6666666666666666,
           0.8333333333333334,
           1.0000000000000002,
           1.1666666666666667,
           1.3333333333333335,
           1.5000000000000002,
           1.666666666666667,
           1.8333333333333337,
           2,
           2.1666666666666665,
           2.3333333333333335,
           2.5,
           2.666666666666667,
           2.8333333333333335,
           3
          ],
          [
           0.16666666666666666,
           0.33333333333333337,
           0.5,
           0.6666666666666666,
           0.8333333333333334,
           1.0000000000000002,
           1.1666666666666667,
           1.3333333333333335,
           1.5000000000000002,
           1.666666666666667,
           1.8333333333333337,
           2,
           2.1666666666666665,
           2.3333333333333335,
           2.5,
           2.666666666666667,
           2.8333333333333335,
           3
          ],
          [
           0.16666666666666666,
           0.33333333333333337,
           0.5,
           0.6666666666666666,
           0.8333333333333334,
           1.0000000000000002,
           1.1666666666666667,
           1.3333333333333335,
           1.5000000000000002,
           1.666666666666667,
           1.8333333333333337,
           2,
           2.1666666666666665,
           2.3333333333333335,
           2.5,
           2.666666666666667,
           2.8333333333333335,
           3
          ],
          [
           0.16666666666666666,
           0.33333333333333337,
           0.5,
           0.6666666666666666,
           0.8333333333333334,
           1.0000000000000002,
           1.1666666666666667,
           1.3333333333333335,
           1.5000000000000002,
           1.666666666666667,
           1.8333333333333337,
           2,
           2.1666666666666665,
           2.3333333333333335,
           2.5,
           2.666666666666667,
           2.8333333333333335,
           3
          ],
          [
           0.16666666666666666,
           0.33333333333333337,
           0.5,
           0.6666666666666666,
           0.8333333333333334,
           1.0000000000000002,
           1.1666666666666667,
           1.3333333333333335,
           1.5000000000000002,
           1.666666666666667,
           1.8333333333333337,
           2,
           2.1666666666666665,
           2.3333333333333335,
           2.5,
           2.666666666666667,
           2.8333333333333335,
           3
          ],
          [
           0.16666666666666666,
           0.33333333333333337,
           0.5,
           0.6666666666666666,
           0.8333333333333334,
           1.0000000000000002,
           1.1666666666666667,
           1.3333333333333335,
           1.5000000000000002,
           1.666666666666667,
           1.8333333333333337,
           2,
           2.1666666666666665,
           2.3333333333333335,
           2.5,
           2.666666666666667,
           2.8333333333333335,
           3
          ],
          [
           0.16666666666666666,
           0.33333333333333337,
           0.5,
           0.6666666666666666,
           0.8333333333333334,
           1.0000000000000002,
           1.1666666666666667,
           1.3333333333333335,
           1.5000000000000002,
           1.666666666666667,
           1.8333333333333337,
           2,
           2.1666666666666665,
           2.3333333333333335,
           2.5,
           2.666666666666667,
           2.8333333333333335,
           3
          ],
          [
           0.16666666666666666,
           0.33333333333333337,
           0.5,
           0.6666666666666666,
           0.8333333333333334,
           1.0000000000000002,
           1.1666666666666667,
           1.3333333333333335,
           1.5000000000000002,
           1.666666666666667,
           1.8333333333333337,
           2,
           2.1666666666666665,
           2.3333333333333335,
           2.5,
           2.666666666666667,
           2.8333333333333335,
           3
          ],
          [
           0.16666666666666666,
           0.33333333333333337,
           0.5,
           0.6666666666666666,
           0.8333333333333334,
           1.0000000000000002,
           1.1666666666666667,
           1.3333333333333335,
           1.5000000000000002,
           1.666666666666667,
           1.8333333333333337,
           2,
           2.1666666666666665,
           2.3333333333333335,
           2.5,
           2.666666666666667,
           2.8333333333333335,
           3
          ],
          [
           0.16666666666666666,
           0.33333333333333337,
           0.5,
           0.6666666666666666,
           0.8333333333333334,
           1.0000000000000002,
           1.1666666666666667,
           1.3333333333333335,
           1.5000000000000002,
           1.666666666666667,
           1.8333333333333337,
           2,
           2.1666666666666665,
           2.3333333333333335,
           2.5,
           2.666666666666667,
           2.8333333333333335,
           3
          ],
          [
           0.16666666666666666,
           0.33333333333333337,
           0.5,
           0.6666666666666666,
           0.8333333333333334,
           1.0000000000000002,
           1.1666666666666667,
           1.3333333333333335,
           1.5000000000000002,
           1.666666666666667,
           1.8333333333333337,
           2,
           2.1666666666666665,
           2.3333333333333335,
           2.5,
           2.666666666666667,
           2.8333333333333335,
           3
          ]
         ],
         "y": [
          [
           2,
           2,
           2,
           2,
           2,
           2,
           2,
           2,
           2,
           2,
           2,
           2,
           2,
           2,
           2,
           2,
           2,
           2
          ],
          [
           1.875,
           1.875,
           1.875,
           1.875,
           1.875,
           1.875,
           1.875,
           1.875,
           1.875,
           1.875,
           1.875,
           1.875,
           1.875,
           1.875,
           1.875,
           1.875,
           1.875,
           1.875
          ],
          [
           1.75,
           1.75,
           1.75,
           1.75,
           1.75,
           1.75,
           1.75,
           1.75,
           1.75,
           1.75,
           1.75,
           1.75,
           1.75,
           1.75,
           1.75,
           1.75,
           1.75,
           1.75
          ],
          [
           1.625,
           1.625,
           1.625,
           1.625,
           1.625,
           1.625,
           1.625,
           1.625,
           1.625,
           1.625,
           1.625,
           1.625,
           1.625,
           1.625,
           1.625,
           1.625,
           1.625,
           1.625
          ],
          [
           1.5,
           1.5,
           1.5,
           1.5,
           1.5,
           1.5,
           1.5,
           1.5,
           1.5,
           1.5,
           1.5,
           1.5,
           1.5,
           1.5,
           1.5,
           1.5,
           1.5,
           1.5
          ],
          [
           1.375,
           1.375,
           1.375,
           1.375,
           1.375,
           1.375,
           1.375,
           1.375,
           1.375,
           1.375,
           1.375,
           1.375,
           1.375,
           1.375,
           1.375,
           1.375,
           1.375,
           1.375
          ],
          [
           1.25,
           1.25,
           1.25,
           1.25,
           1.25,
           1.25,
           1.25,
           1.25,
           1.25,
           1.25,
           1.25,
           1.25,
           1.25,
           1.25,
           1.25,
           1.25,
           1.25,
           1.25
          ],
          [
           1.125,
           1.125,
           1.125,
           1.125,
           1.125,
           1.125,
           1.125,
           1.125,
           1.125,
           1.125,
           1.125,
           1.125,
           1.125,
           1.125,
           1.125,
           1.125,
           1.125,
           1.125
          ],
          [
           1,
           1,
           1,
           1,
           1,
           1,
           1,
           1,
           1,
           1,
           1,
           1,
           1,
           1,
           1,
           1,
           1,
           1
          ],
          [
           0.875,
           0.875,
           0.875,
           0.875,
           0.875,
           0.875,
           0.875,
           0.875,
           0.875,
           0.875,
           0.875,
           0.875,
           0.875,
           0.875,
           0.875,
           0.875,
           0.875,
           0.875
          ],
          [
           0.75,
           0.75,
           0.75,
           0.75,
           0.75,
           0.75,
           0.75,
           0.75,
           0.75,
           0.75,
           0.75,
           0.75,
           0.75,
           0.75,
           0.75,
           0.75,
           0.75,
           0.75
          ],
          [
           0.625,
           0.625,
           0.625,
           0.625,
           0.625,
           0.625,
           0.625,
           0.625,
           0.625,
           0.625,
           0.625,
           0.625,
           0.625,
           0.625,
           0.625,
           0.625,
           0.625,
           0.625
          ],
          [
           0.5,
           0.5,
           0.5,
           0.5,
           0.5,
           0.5,
           0.5,
           0.5,
           0.5,
           0.5,
           0.5,
           0.5,
           0.5,
           0.5,
           0.5,
           0.5,
           0.5,
           0.5
          ],
          [
           0.375,
           0.375,
           0.375,
           0.375,
           0.375,
           0.375,
           0.375,
           0.375,
           0.375,
           0.375,
           0.375,
           0.375,
           0.375,
           0.375,
           0.375,
           0.375,
           0.375,
           0.375
          ],
          [
           0.25,
           0.25,
           0.25,
           0.25,
           0.25,
           0.25,
           0.25,
           0.25,
           0.25,
           0.25,
           0.25,
           0.25,
           0.25,
           0.25,
           0.25,
           0.25,
           0.25,
           0.25
          ],
          [
           0.125,
           0.125,
           0.125,
           0.125,
           0.125,
           0.125,
           0.125,
           0.125,
           0.125,
           0.125,
           0.125,
           0.125,
           0.125,
           0.125,
           0.125,
           0.125,
           0.125,
           0.125
          ]
         ],
         "z": [
          [
           195.36249974734267,
           196.70268556928735,
           200.78840793478093,
           206.87731968203013,
           214.77147135920882,
           224.41080209929808,
           235.77515496339325,
           248.85682158171323,
           263.6516141739658,
           280.1554354639711,
           298.3625552906794,
           318.2642450624517,
           339.84703488555374,
           363.08973376313435,
           387.95736415377513,
           414.3866730465318,
           442.2445053592708,
           471.18107711370754
          ],
          [
           186.43662515179577,
           188.15730312912478,
           192.11668850899102,
           197.9243770886602,
           205.41313134738226,
           214.51794592050962,
           225.2139505696648,
           237.4907505438302,
           251.3418997054457,
           266.76017290845385,
           283.7348779502232,
           302.24953801269714,
           322.27888944648146,
           343.78396206869104,
           366.7029508167769,
           390.93276463228653,
           416.28962718999395,
           442.4283317157463
          ],
          [
           175.9447208418864,
           178.35264777503528,
           182.4052985333118,
           188.02583505082305,
           195.1457574087027,
           203.73004532395538,
           213.76354880561806,
           225.2391080880064,
           238.15067796364247,
           252.48941744363316,
           268.24097591062093,
           285.3828170665806,
           303.88065083892036,
           323.68286255344253,
           344.7111983793534,
           366.8448913005552,
           389.89496291369187,
           413.5726692036286
          ],
          [
           164.629763105642,
           167.62283526931128,
           171.8119728180629,
           177.28388847777865,
           184.05467784400076,
           192.1269609712955,
           201.50199065366297,
           212.1797096734807,
           224.15667331939,
           237.4239512986266,
           251.96503985847153,
           267.75335027375013,
           284.7486996388814,
           302.8920682255382,
           322.09768257582846,
           342.2415549546106,
           363.1472541316899,
           384.5765929066415
          ],
          [
           152.8291940242573,
           156.22023598447845,
           160.49708441539676,
           165.81132544482435,
           172.23150803869532,
           179.79108168140698,
           188.50766974939202,
           198.38948615677887,
           209.4368668626409,
           221.64196670202796,
           234.98754151264095,
           249.44492407162744,
           264.9709876267347,
           281.50376065559027,
           298.95639663127713,
           317.20969103462414,
           336.10499807588525,
           355.4432281805504
          ],
          [
           140.712585478893,
           144.31937055987865,
           148.59866267606893,
           153.71667028187053,
           159.76743076841706,
           166.80438177730224,
           174.8579079042076,
           183.94363272218476,
           194.06584339328393,
           205.21846493411476,
           217.3846513083501,
           230.53536480918694,
           244.6270015356048,
           259.5980301780499,
           275.36474032116655,
           291.8166950058107,
           308.8135977969156,
           326.1869337398941
          ],
          [
           128.37423965735152,
           132.04021992797632,
           136.2284634738346,
           141.09734162349756,
           146.7486213293232,
           153.2458583693112,
           160.62753429529536,
           168.91475599520936,
           178.1152138097028,
           188.22483294741141,
           199.2279645953461,
           211.0965362323571,
           223.78835749170963,
           237.24472885638184,
           251.38763395644673,
           266.11716566711334,
           281.3104538700171,
           296.8239159958528
          ],
          [
           115.87178974084405,
           119.46729620375532,
           123.47540730696016,
           128.03791208978322,
           133.2539608897631,
           139.18983808794704,
           145.88779118854757,
           153.3721839537831,
           161.65318098181316,
           170.72860017370573,
           180.58446788848653,
           191.19462974296036,
           202.51965401357205,
           214.5052523085552,
           227.08055012326366,
           240.15677330153233,
           253.62721211146925,
           267.3694234452612
          ],
          [
           103.24349916817353,
           106.66228236936917,
           110.41050469530038,
           114.61086404641833,
           119.35439697621314,
           124.70515011147344,
           130.7056757704426,
           137.38152201453494,
           144.74428568675074,
           152.79336510587544,
           161.51668072804944,
           170.8906131444861,
           180.87937764672557,
           191.43406978088296,
           202.49169577307794,
           213.974634643138,
           225.79109830825323,
           237.83710045788723
          ],
          [
           90.51661132692807,
           93.6719590273192,
           97.09127500697309,
           100.87828086504771,
           105.11327169708882,
           109.85496509041371,
           115.14369252320584,
           121.00446902196724,
           127.44933778405215,
           134.4788721738298,
           142.08292162083964,
           150.24075349774793,
           158.92076698692514,
           168.0799869580646,
           177.66360292909306,
           187.60488828752509,
           197.8258691074954,
           208.23902268724387
          ],
          [
           77.7116842756096,
           80.53315352818395,
           83.56521976203425,
           86.89370613582103,
           90.58712622724241,
           94.69707342215366,
           99.25993167636148,
           104.29886413128017,
           109.82551546577636,
           115.84121452209115,
           122.337659896812,
           129.29716669410834,
           136.6926026810209,
           144.48718138530893,
           152.63432105469374,
           161.077813234797,
           169.75254272936218,
           178.58591906678353
          ],
          [
           64.84500317474848,
           67.27588722708099,
           69.87242818838116,
           72.70385619042486,
           75.82668426168301,
           79.28441928303933,
           83.10837909161721,
           87.3189173708307,
           91.92660380397761,
           96.9331370662491,
           102.33192612258563,
           108.1083697213096,
           114.23992059659292,
           120.69606026968638,
           127.43834089301531,
           134.42066719268405,
           141.5899775021223,
           148.8874191111885
          ],
          [
           51.930014080246394,
           53.92543891468367,
           56.04751265430986,
           58.35009370609562,
           60.877857136693414,
           63.66576370111284,
           66.73937611714041,
           70.11557477379375,
           73.80334080079633,
           77.80441572624548,
           82.11376166826625,
           86.71982490544623,
           91.60465731339664,
           96.74398486955644,
           102.10733503839575,
           107.65834264507575,
           113.3553384188418,
           119.152278310737
          ],
          [
           38.97823143651205,
           40.50375059311754,
           42.1210617571488,
           43.86966613368465,
           45.78269949892915,
           47.88639857765685,
           50.20016838231158,
           52.73697553093534,
           55.503841542238845,
           58.50229193942028,
           61.728693735419945,
           65.17447243102451,
           68.8262405093327,
           72.66589674979429,
           76.67077187499075,
           80.81389975348151,
           85.06448076911366,
           89.38857274926623
          ],
          [
           25.999849450225128,
           27.03042926737442,
           28.120758427953888,
           29.29674725512507,
           30.580292397330506,
           31.98886867086697,
           33.53550214150019,
           35.22896817781955,
           37.074076066624954,
           39.07194549075989,
           41.220226296545874,
           43.513250928831994,
           45.942136614057446,
           48.49487300736875,
           51.156441537857674,
           53.90901447224525,
           56.732273201842716,
           59.60386609809342
          ],
          [
           13.004181632543368,
           13.523498935951828,
           14.072271536301134,
           14.663327949358692,
           15.307555284358148,
           16.013681590710156,
           16.788242582490362,
           17.635662282680393,
           18.5583822273882,
           19.556992639920836,
           20.63034045526544,
           21.77560758436113,
           22.988366695483933,
           24.26263118778079,
           25.590921223531623,
           26.964368431203454,
           28.37287766582933,
           29.80535513123916
          ]
         ]
        }
       ],
       "layout": {
        "scene": {
         "camera": {
          "center": {
           "x": 0,
           "y": 0,
           "z": 0
          },
          "eye": {
           "x": -2,
           "y": -1,
           "z": 0.3
          },
          "up": {
           "x": 0,
           "y": 0,
           "z": 1
          }
         }
        },
        "template": {
         "data": {
          "bar": [
           {
            "error_x": {
             "color": "#2a3f5f"
            },
            "error_y": {
             "color": "#2a3f5f"
            },
            "marker": {
             "line": {
              "color": "#E5ECF6",
              "width": 0.5
             }
            },
            "type": "bar"
           }
          ],
          "barpolar": [
           {
            "marker": {
             "line": {
              "color": "#E5ECF6",
              "width": 0.5
             }
            },
            "type": "barpolar"
           }
          ],
          "carpet": [
           {
            "aaxis": {
             "endlinecolor": "#2a3f5f",
             "gridcolor": "white",
             "linecolor": "white",
             "minorgridcolor": "white",
             "startlinecolor": "#2a3f5f"
            },
            "baxis": {
             "endlinecolor": "#2a3f5f",
             "gridcolor": "white",
             "linecolor": "white",
             "minorgridcolor": "white",
             "startlinecolor": "#2a3f5f"
            },
            "type": "carpet"
           }
          ],
          "choropleth": [
           {
            "colorbar": {
             "outlinewidth": 0,
             "ticks": ""
            },
            "type": "choropleth"
           }
          ],
          "contour": [
           {
            "colorbar": {
             "outlinewidth": 0,
             "ticks": ""
            },
            "colorscale": [
             [
              0,
              "#0d0887"
             ],
             [
              0.1111111111111111,
              "#46039f"
             ],
             [
              0.2222222222222222,
              "#7201a8"
             ],
             [
              0.3333333333333333,
              "#9c179e"
             ],
             [
              0.4444444444444444,
              "#bd3786"
             ],
             [
              0.5555555555555556,
              "#d8576b"
             ],
             [
              0.6666666666666666,
              "#ed7953"
             ],
             [
              0.7777777777777778,
              "#fb9f3a"
             ],
             [
              0.8888888888888888,
              "#fdca26"
             ],
             [
              1,
              "#f0f921"
             ]
            ],
            "type": "contour"
           }
          ],
          "contourcarpet": [
           {
            "colorbar": {
             "outlinewidth": 0,
             "ticks": ""
            },
            "type": "contourcarpet"
           }
          ],
          "heatmap": [
           {
            "colorbar": {
             "outlinewidth": 0,
             "ticks": ""
            },
            "colorscale": [
             [
              0,
              "#0d0887"
             ],
             [
              0.1111111111111111,
              "#46039f"
             ],
             [
              0.2222222222222222,
              "#7201a8"
             ],
             [
              0.3333333333333333,
              "#9c179e"
             ],
             [
              0.4444444444444444,
              "#bd3786"
             ],
             [
              0.5555555555555556,
              "#d8576b"
             ],
             [
              0.6666666666666666,
              "#ed7953"
             ],
             [
              0.7777777777777778,
              "#fb9f3a"
             ],
             [
              0.8888888888888888,
              "#fdca26"
             ],
             [
              1,
              "#f0f921"
             ]
            ],
            "type": "heatmap"
           }
          ],
          "heatmapgl": [
           {
            "colorbar": {
             "outlinewidth": 0,
             "ticks": ""
            },
            "colorscale": [
             [
              0,
              "#0d0887"
             ],
             [
              0.1111111111111111,
              "#46039f"
             ],
             [
              0.2222222222222222,
              "#7201a8"
             ],
             [
              0.3333333333333333,
              "#9c179e"
             ],
             [
              0.4444444444444444,
              "#bd3786"
             ],
             [
              0.5555555555555556,
              "#d8576b"
             ],
             [
              0.6666666666666666,
              "#ed7953"
             ],
             [
              0.7777777777777778,
              "#fb9f3a"
             ],
             [
              0.8888888888888888,
              "#fdca26"
             ],
             [
              1,
              "#f0f921"
             ]
            ],
            "type": "heatmapgl"
           }
          ],
          "histogram": [
           {
            "marker": {
             "colorbar": {
              "outlinewidth": 0,
              "ticks": ""
             }
            },
            "type": "histogram"
           }
          ],
          "histogram2d": [
           {
            "colorbar": {
             "outlinewidth": 0,
             "ticks": ""
            },
            "colorscale": [
             [
              0,
              "#0d0887"
             ],
             [
              0.1111111111111111,
              "#46039f"
             ],
             [
              0.2222222222222222,
              "#7201a8"
             ],
             [
              0.3333333333333333,
              "#9c179e"
             ],
             [
              0.4444444444444444,
              "#bd3786"
             ],
             [
              0.5555555555555556,
              "#d8576b"
             ],
             [
              0.6666666666666666,
              "#ed7953"
             ],
             [
              0.7777777777777778,
              "#fb9f3a"
             ],
             [
              0.8888888888888888,
              "#fdca26"
             ],
             [
              1,
              "#f0f921"
             ]
            ],
            "type": "histogram2d"
           }
          ],
          "histogram2dcontour": [
           {
            "colorbar": {
             "outlinewidth": 0,
             "ticks": ""
            },
            "colorscale": [
             [
              0,
              "#0d0887"
             ],
             [
              0.1111111111111111,
              "#46039f"
             ],
             [
              0.2222222222222222,
              "#7201a8"
             ],
             [
              0.3333333333333333,
              "#9c179e"
             ],
             [
              0.4444444444444444,
              "#bd3786"
             ],
             [
              0.5555555555555556,
              "#d8576b"
             ],
             [
              0.6666666666666666,
              "#ed7953"
             ],
             [
              0.7777777777777778,
              "#fb9f3a"
             ],
             [
              0.8888888888888888,
              "#fdca26"
             ],
             [
              1,
              "#f0f921"
             ]
            ],
            "type": "histogram2dcontour"
           }
          ],
          "mesh3d": [
           {
            "colorbar": {
             "outlinewidth": 0,
             "ticks": ""
            },
            "type": "mesh3d"
           }
          ],
          "parcoords": [
           {
            "line": {
             "colorbar": {
              "outlinewidth": 0,
              "ticks": ""
             }
            },
            "type": "parcoords"
           }
          ],
          "pie": [
           {
            "automargin": true,
            "type": "pie"
           }
          ],
          "scatter": [
           {
            "marker": {
             "colorbar": {
              "outlinewidth": 0,
              "ticks": ""
             }
            },
            "type": "scatter"
           }
          ],
          "scatter3d": [
           {
            "line": {
             "colorbar": {
              "outlinewidth": 0,
              "ticks": ""
             }
            },
            "marker": {
             "colorbar": {
              "outlinewidth": 0,
              "ticks": ""
             }
            },
            "type": "scatter3d"
           }
          ],
          "scattercarpet": [
           {
            "marker": {
             "colorbar": {
              "outlinewidth": 0,
              "ticks": ""
             }
            },
            "type": "scattercarpet"
           }
          ],
          "scattergeo": [
           {
            "marker": {
             "colorbar": {
              "outlinewidth": 0,
              "ticks": ""
             }
            },
            "type": "scattergeo"
           }
          ],
          "scattergl": [
           {
            "marker": {
             "colorbar": {
              "outlinewidth": 0,
              "ticks": ""
             }
            },
            "type": "scattergl"
           }
          ],
          "scattermapbox": [
           {
            "marker": {
             "colorbar": {
              "outlinewidth": 0,
              "ticks": ""
             }
            },
            "type": "scattermapbox"
           }
          ],
          "scatterpolar": [
           {
            "marker": {
             "colorbar": {
              "outlinewidth": 0,
              "ticks": ""
             }
            },
            "type": "scatterpolar"
           }
          ],
          "scatterpolargl": [
           {
            "marker": {
             "colorbar": {
              "outlinewidth": 0,
              "ticks": ""
             }
            },
            "type": "scatterpolargl"
           }
          ],
          "scatterternary": [
           {
            "marker": {
             "colorbar": {
              "outlinewidth": 0,
              "ticks": ""
             }
            },
            "type": "scatterternary"
           }
          ],
          "surface": [
           {
            "colorbar": {
             "outlinewidth": 0,
             "ticks": ""
            },
            "colorscale": [
             [
              0,
              "#0d0887"
             ],
             [
              0.1111111111111111,
              "#46039f"
             ],
             [
              0.2222222222222222,
              "#7201a8"
             ],
             [
              0.3333333333333333,
              "#9c179e"
             ],
             [
              0.4444444444444444,
              "#bd3786"
             ],
             [
              0.5555555555555556,
              "#d8576b"
             ],
             [
              0.6666666666666666,
              "#ed7953"
             ],
             [
              0.7777777777777778,
              "#fb9f3a"
             ],
             [
              0.8888888888888888,
              "#fdca26"
             ],
             [
              1,
              "#f0f921"
             ]
            ],
            "type": "surface"
           }
          ],
          "table": [
           {
            "cells": {
             "fill": {
              "color": "#EBF0F8"
             },
             "line": {
              "color": "white"
             }
            },
            "header": {
             "fill": {
              "color": "#C8D4E3"
             },
             "line": {
              "color": "white"
             }
            },
            "type": "table"
           }
          ]
         },
         "layout": {
          "annotationdefaults": {
           "arrowcolor": "#2a3f5f",
           "arrowhead": 0,
           "arrowwidth": 1
          },
          "autotypenumbers": "strict",
          "coloraxis": {
           "colorbar": {
            "outlinewidth": 0,
            "ticks": ""
           }
          },
          "colorscale": {
           "diverging": [
            [
             0,
             "#8e0152"
            ],
            [
             0.1,
             "#c51b7d"
            ],
            [
             0.2,
             "#de77ae"
            ],
            [
             0.3,
             "#f1b6da"
            ],
            [
             0.4,
             "#fde0ef"
            ],
            [
             0.5,
             "#f7f7f7"
            ],
            [
             0.6,
             "#e6f5d0"
            ],
            [
             0.7,
             "#b8e186"
            ],
            [
             0.8,
             "#7fbc41"
            ],
            [
             0.9,
             "#4d9221"
            ],
            [
             1,
             "#276419"
            ]
           ],
           "sequential": [
            [
             0,
             "#0d0887"
            ],
            [
             0.1111111111111111,
             "#46039f"
            ],
            [
             0.2222222222222222,
             "#7201a8"
            ],
            [
             0.3333333333333333,
             "#9c179e"
            ],
            [
             0.4444444444444444,
             "#bd3786"
            ],
            [
             0.5555555555555556,
             "#d8576b"
            ],
            [
             0.6666666666666666,
             "#ed7953"
            ],
            [
             0.7777777777777778,
             "#fb9f3a"
            ],
            [
             0.8888888888888888,
             "#fdca26"
            ],
            [
             1,
             "#f0f921"
            ]
           ],
           "sequentialminus": [
            [
             0,
             "#0d0887"
            ],
            [
             0.1111111111111111,
             "#46039f"
            ],
            [
             0.2222222222222222,
             "#7201a8"
            ],
            [
             0.3333333333333333,
             "#9c179e"
            ],
            [
             0.4444444444444444,
             "#bd3786"
            ],
            [
             0.5555555555555556,
             "#d8576b"
            ],
            [
             0.6666666666666666,
             "#ed7953"
            ],
            [
             0.7777777777777778,
             "#fb9f3a"
            ],
            [
             0.8888888888888888,
             "#fdca26"
            ],
            [
             1,
             "#f0f921"
            ]
           ]
          },
          "colorway": [
           "#636efa",
           "#EF553B",
           "#00cc96",
           "#ab63fa",
           "#FFA15A",
           "#19d3f3",
           "#FF6692",
           "#B6E880",
           "#FF97FF",
           "#FECB52"
          ],
          "font": {
           "color": "#2a3f5f"
          },
          "geo": {
           "bgcolor": "white",
           "lakecolor": "white",
           "landcolor": "#E5ECF6",
           "showlakes": true,
           "showland": true,
           "subunitcolor": "white"
          },
          "hoverlabel": {
           "align": "left"
          },
          "hovermode": "closest",
          "mapbox": {
           "style": "light"
          },
          "paper_bgcolor": "white",
          "plot_bgcolor": "#E5ECF6",
          "polar": {
           "angularaxis": {
            "gridcolor": "white",
            "linecolor": "white",
            "ticks": ""
           },
           "bgcolor": "#E5ECF6",
           "radialaxis": {
            "gridcolor": "white",
            "linecolor": "white",
            "ticks": ""
           }
          },
          "scene": {
           "xaxis": {
            "backgroundcolor": "#E5ECF6",
            "gridcolor": "white",
            "gridwidth": 2,
            "linecolor": "white",
            "showbackground": true,
            "ticks": "",
            "zerolinecolor": "white"
           },
           "yaxis": {
            "backgroundcolor": "#E5ECF6",
            "gridcolor": "white",
            "gridwidth": 2,
            "linecolor": "white",
            "showbackground": true,
            "ticks": "",
            "zerolinecolor": "white"
           },
           "zaxis": {
            "backgroundcolor": "#E5ECF6",
            "gridcolor": "white",
            "gridwidth": 2,
            "linecolor": "white",
            "showbackground": true,
            "ticks": "",
            "zerolinecolor": "white"
           }
          },
          "shapedefaults": {
           "line": {
            "color": "#2a3f5f"
           }
          },
          "ternary": {
           "aaxis": {
            "gridcolor": "white",
            "linecolor": "white",
            "ticks": ""
           },
           "baxis": {
            "gridcolor": "white",
            "linecolor": "white",
            "ticks": ""
           },
           "bgcolor": "#E5ECF6",
           "caxis": {
            "gridcolor": "white",
            "linecolor": "white",
            "ticks": ""
           }
          },
          "title": {
           "x": 0.05
          },
          "xaxis": {
           "automargin": true,
           "gridcolor": "white",
           "linecolor": "white",
           "ticks": "",
           "title": {
            "standoff": 15
           },
           "zerolinecolor": "white",
           "zerolinewidth": 2
          },
          "yaxis": {
           "automargin": true,
           "gridcolor": "white",
           "linecolor": "white",
           "ticks": "",
           "title": {
            "standoff": 15
           },
           "zerolinecolor": "white",
           "zerolinewidth": 2
          }
         }
        },
        "title": {
         "text": "Dx=0.17, Dy=0.12, Malla(16x18)"
        }
       }
      }
     },
     "metadata": {}
    }
   ],
   "source": [
    "solve_(h=2, w=3, deltaX=1/6, deltaY=1/8)"
   ]
  },
  {
   "cell_type": "code",
   "execution_count": null,
   "metadata": {},
   "outputs": [],
   "source": []
  }
 ]
}