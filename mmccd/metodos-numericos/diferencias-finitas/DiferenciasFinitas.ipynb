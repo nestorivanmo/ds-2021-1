{
 "metadata": {
  "language_info": {
   "codemirror_mode": {
    "name": "ipython",
    "version": 3
   },
   "file_extension": ".py",
   "mimetype": "text/x-python",
   "name": "python",
   "nbconvert_exporter": "python",
   "pygments_lexer": "ipython3",
   "version": "3.8.5-final"
  },
  "orig_nbformat": 2,
  "kernelspec": {
   "name": "python3",
   "display_name": "Python 3",
   "language": "python"
  }
 },
 "nbformat": 4,
 "nbformat_minor": 2,
 "cells": [
  {
   "source": [
    "# Método de Diferencias Finitas\n",
    "Martínez Ostoa Néstor\n",
    "\n",
    "Este método se basa en el ejemplo de las ecuaciones diferenciales parciales (PDEs) elípticas (capítulo 9 del libro *Numerical Methods for Engineers and Scientists* de Joe Hoffman). Concretamente en el siguiente ejemplo: \n",
    "\n",
    "## Ejemplo: Sistemas térmicos\n",
    "\n",
    "Tenemos dos sistemas térmicos para los cuales queremos conocer su temperatura $T(x,y)$ dado las coordenadas $(x,y)$. La distribución de la temperatura sobre estos sistemas térmicos está gobernada por la ecuación de dos dimensiones de Laplace: $$T_{xx} + T_{yy} = 0$$ más condiciones de frontera especificadas por los bordes del sistema. Para este caso en particular sí se conoce la solución analítica, es decir, la ecuación que dadas dos coordenadas $x,y$, se puede obtener la temperatura del sistema. Sin embargo, el **método de Diferencias Finitas** se aplica cuando no conocemos esta ecuación. Dicha ecuación es la siguiente: $$T(x,y) = 100 \\frac{\\sinh(\\pi y / w)\\sin(\\pi x/w)}{\\sinh (\\pi h / w)}$$ En la siguiente celda tenemos los valores al sustituir valores de $x,y$. El ejemplo indica que tenemos una placa con $w=10\\; \\text{cm}$ de ancho y $h=15\\; \\text{cm}$ de alto.\n",
    "\n"
   ],
   "cell_type": "markdown",
   "metadata": {}
  },
  {
   "cell_type": "code",
   "execution_count": 24,
   "metadata": {},
   "outputs": [
    {
     "output_type": "stream",
     "name": "stdout",
     "text": [
      "x=0\ty=15.0\t\tT(x,y)=0.0\nx=0\ty=13.75\t\tT(x,y)=0.0\nx=0\ty=12.5\t\tT(x,y)=0.0\nx=0\ty=11.25\t\tT(x,y)=0.0\nx=0\ty=10.0\t\tT(x,y)=0.0\nx=0\ty=8.75\t\tT(x,y)=0.0\nx=0\ty=7.5\t\tT(x,y)=0.0\nx=0\ty=6.25\t\tT(x,y)=0.0\nx=0\ty=5.0\t\tT(x,y)=0.0\nx=0\ty=3.75\t\tT(x,y)=0.0\nx=0\ty=2.5\t\tT(x,y)=0.0\nx=0\ty=1.25\t\tT(x,y)=0.0\nx=0\ty=0.0\t\tT(x,y)=0.0\n\nx=1.25\ty=15.0\t\tT(x,y)=38.268343236508976\nx=1.25\ty=13.75\t\tT(x,y)=25.837517849015125\nx=1.25\ty=12.5\t\tT(x,y)=17.442631011620794\nx=1.25\ty=11.25\t\tT(x,y)=11.772362975704958\nx=1.25\ty=10.0\t\tT(x,y)=7.940991920414657\nx=1.25\ty=8.75\t\tT(x,y)=5.350040150170044\nx=1.25\ty=7.5\t\tT(x,y)=3.5947891392951923\nx=1.25\ty=6.25\t\tT(x,y)=2.4010606458518557\nx=1.25\ty=5.0\t\tT(x,y)=1.5823888152949586\nx=1.25\ty=3.75\t\tT(x,y)=1.0108933605112747\nx=1.25\ty=2.5\t\tT(x,y)=0.5973040756456376\nx=1.25\ty=1.25\t\tT(x,y)=0.27701642134362275\nx=1.25\ty=0.0\t\tT(x,y)=0.0\n\nx=2.5\ty=15.0\t\tT(x,y)=70.71067811865476\nx=2.5\ty=13.75\t\tT(x,y)=47.74150782320024\nx=2.5\ty=12.5\t\tT(x,y)=32.22977956956618\nx=2.5\ty=11.25\t\tT(x,y)=21.752490405094953\nx=2.5\ty=10.0\t\tT(x,y)=14.673039806217195\nx=2.5\ty=8.75\t\tT(x,y)=9.88558518571143\nx=2.5\ty=7.5\t\tT(x,y)=6.642304218977387\nx=2.5\ty=6.25\t\tT(x,y)=4.43658157404172\nx=2.5\ty=5.0\t\tT(x,y)=2.9238732778515892\nx=2.5\ty=3.75\t\tT(x,y)=1.86788737065584\nx=2.5\ty=2.5\t\tT(x,y)=1.1036740203491555\nx=2.5\ty=1.25\t\tT(x,y)=0.5118596036977915\nx=2.5\ty=0.0\t\tT(x,y)=0.0\n\nx=3.75\ty=15.0\t\tT(x,y)=92.38795325112868\nx=3.75\ty=13.75\t\tT(x,y)=62.37728600914922\nx=3.75\ty=12.5\t\tT(x,y)=42.11023635172445\nx=3.75\ty=11.25\t\tT(x,y)=28.4209983571258\nx=3.75\ty=10.0\t\tT(x,y)=19.171250392960232\nx=3.75\ty=8.75\t\tT(x,y)=12.916139489781111\nx=3.75\ty=7.5\t\tT(x,y)=8.67858869395796\nx=3.75\ty=6.25\t\tT(x,y)=5.796673175295853\nx=3.75\ty=5.0\t\tT(x,y)=3.8202245388325826\nx=3.75\ty=3.75\t\tT(x,y)=2.440512461059234\nx=3.75\ty=2.5\t\tT(x,y)=1.4420196002844232\nx=3.75\ty=1.25\t\tT(x,y)=0.6687768014078337\nx=3.75\ty=0.0\t\tT(x,y)=0.0\n\nx=5\ty=15.0\t\tT(x,y)=100.0\nx=5\ty=13.75\t\tT(x,y)=67.51668785171098\nx=5\ty=12.5\t\tT(x,y)=45.57979137957579\nx=5\ty=11.25\t\tT(x,y)=30.762666946275907\nx=5\ty=10.0\t\tT(x,y)=20.75081189519265\nx=5\ty=8.75\t\tT(x,y)=13.980328641627656\nx=5\ty=7.5\t\tT(x,y)=9.393636711885849\nx=5\ty=6.25\t\tT(x,y)=6.274273832584376\nx=5\ty=5.0\t\tT(x,y)=4.134981244197995\nx=5\ty=3.75\t\tT(x,y)=2.6415916525669094\nx=5\ty=2.5\t\tT(x,y)=1.5608307680166154\nx=5\ty=1.25\t\tT(x,y)=0.7238787935803346\nx=5\ty=0.0\t\tT(x,y)=0.0\n\n"
     ]
    }
   ],
   "source": [
    "import numpy as np \n",
    "def analytical_solution(x,y):\n",
    "    w = 10\n",
    "    h = 15\n",
    "    return 100 * ((np.sinh((np.pi*y)/w)*np.sin((np.pi*x)/w))/(np.sinh((np.pi*h)/w)))\n",
    "\n",
    "for x in [0,1.25,2.5,3.75,5]:\n",
    "    for y in np.linspace(15,0,13):\n",
    "        print(f'x={x}\\ty={y}\\t\\tT(x,y)={analytical_solution(x,y)}')\n",
    "    print()\n"
   ]
  },
  {
   "source": [
    "## Método de diferencias finitias\n",
    "Es un método numérico utilizado para resolver ecuaciones diferenciales parciales (PDEs) al **discretizar** el dominio continuo en una malla de pasos discreta. Concretamente, se aproximan las PDEs por medio de aproximaciones en diferencia finitas (FDAs), sustityuendo las FDAs en PDEs y resolviendo la ecuaciones en diferencias finita (FDEs) para la variable dependiente.\n",
    "\n",
    "### Malla diferencias finitas\n",
    "Esta malla abarca todo el dominio $D(x,y)$ del problema físico a resolver. La intersección de esta malla son los puntos en los cuales se obtiene la solución en diferencias finitas para la ecuacione diferencial parcial. \n",
    "\n",
    "Estas mallas tienen un espaciamiento en $x$ y en $y$, $\\Delta x$, $\\Delta y$ respectivamente pero **no** necesariamente se cumple que $\\Delta x$ sea igual a $ \\Delta y$. La función $f(x,y)$ en el punto de la malla $(i,j)$ se denota por $$f(x_i, y_i) = f_{ij}$$ y de manera análoga, las derivadas están denotadas por $\\frac{\\partial f(x_i, y_i)}{\\partial x} = \\frac{\\partial f}{\\partial x}\\big |_{ij} = f_x|_{ij}$ y $\\frac{\\partial² f(x_i, y_i)}{\\partial x^2} = \\frac{\\partial^2 f}{\\partial x^2}\\big |_{ij} = f_{xx}|_{ij}$\n",
    "\n",
    "### Aproximaciones de Diferencias Finitas (FDAs)\n",
    "Ahora, debemos desarrollar aproximaciones de diferencias finitas de las derivadas parciales de las ecuaciones diferenciales parciales. Para logar esto, empleamos la serie de Taylor para la variable dependiente. Antes, debemos dejar en claro la diferencia entre la solución exacta y la solución aproximada: $$\\widehat{f}(x,y): \\text{solución exacta}$$ $$f(x,y): \\text{solución aproximada}$$\n",
    "\n",
    "Concretamente, la aproximación, por medio del método de malla de diferencias finitas, de las derivadas parciales exactas en el punto de la malla $(i,j)$ se obtiene en términos de los valores de $\\widehat{f}$ en el punto $(i,j)$ y puntos adyacentes a él dentro de la malla. \n",
    "\n",
    "### Solución de la ecuación de Laplace por medio de diferencias finitas\n",
    "\n",
    "Para obtener esta solución emplearemos la serie de Taylor. Recordemos que la serie de Taylor de una función $f$ es la siguiente: $$f(x) = f(a) + f'(a)(x-a) + \\frac{f''(x)}{2!}(x-a)^2 + \\cdots + \\frac{f^n(a)}{n!}(x-a)^n$$ y la ecuación de Laplace es la siguiente: $$\\widehat{f}_{xx} + \\widehat{f}_{yy} = 0$$\n",
    "\n",
    "### Desarrollo de serie de Taylor para las segundas derivadas\n",
    "$$ f(x_0 + \\Delta x) = f(x_0) + \\frac{\\partial f(x_0)}{\\partial x}\\Delta x + \\frac{\\partial^2 f(x_0)}{\\partial x^2}\\frac{\\Delta x^2}{2!} + \\cdots $$\n",
    "$$ f(x_0 - \\Delta x) = f(x_0) - \\frac{\\partial f(x_0)}{\\partial x}\\Delta x + \\frac{\\partial^2 f(x_0)}{\\partial x^2}\\frac{\\Delta x^2}{2!} + \\cdots $$\n",
    "$$ f(x_0 + \\Delta x) + f(x_0 - \\Delta x) = 2f(x_0) + \\frac{2\\partial^2f(x_0)}{\\partial x^2}\\frac{\\Delta x^2}{2!} $$\n",
    "$$ \\frac{\\partial^2f(x_0)}{\\partial x^2} = \\frac{f(x_0 + \\Delta x) -2f(x_0) +f(x_0 - \\Delta x)}{\\Delta x^2} $$\n",
    "$$ \\frac{\\partial^2f(y_0)}{\\partial y^2} = \\frac{f(y_0 + \\Delta y) -2f(y_0) +f(y_0 - \\Delta y)}{\\Delta y^2} $$\n",
    "$$ f_{xx}|_{ij} = \\frac{f_{i+1j}-2f_{ij}+f_{i-1j}}{\\Delta x^2} $$\n",
    "$$ f_{yy}|_{ij} = \\frac{f_{i+1j}-2f_{ij}+f_{i-1j}}{\\Delta y^2} $$\n",
    "\n",
    "\n",
    "### Discretización\n",
    "Reemplazando $\\widehat{f}_{xx}$ y $\\widehat{f}_{yy}$ por la segunda derivada respectivamente de $x$ y de $y$, obtenemos: $$\\frac{f_{i+1j}-2f_{ij}+f_{i-1j}}{\\Delta x^2} + \\frac{f_{ij+1}-2f_{ij}+f_{ij-1}}{\\Delta y^2} = 0$$ que, al considerar $\\beta = \\frac{\\Delta x}{\\Delta y}$, se puede rescribir como: $$f_{i+1j}+\\beta^2f_{ij+1}+f_{i-1j}+\\beta^2f_{ij-1}-2(1+\\beta^2)f_{ij} = 0$$ y al resolver para $f_{ij}$ obtenemos: $$f_{ij} = \\frac{f_{i+1j}+\\beta^2f_{ij+1}+f_{i-1j}+\\beta^2f_{ij-1}}{2(1+\\beta^2)}$$ que al observar la solución podemos apreciar que la solución para cada punto de la malla depende de los cuatro puntos vecinos a él dentro de la malla. En el caso cuando tengamos $\\Delta x = \\Delta y$, $\\beta = 1$ por lo que tenemos las siguiente ecuaciones: $$f_{ij} = \\frac{1}{4}(f_{i+1j}+f_{ij+1}+f_{i-1j}+f_{ij-1})$$ $$f_{i+1j}+f_{ij+1}+f_{i-1j}+f_{ij-1}-4f_{ij}=0$$\n",
    "\n",
    "No existe una ventaja matemáticamente formal para usar $\\beta = 1$, sin embargo, valores de $\\beta$ más grandes que la unidad tienden a producir resultados menos certeros que cuando se utiliza un $\\beta$ cerca de la vecindad de la unidad. \n"
   ],
   "cell_type": "markdown",
   "metadata": {}
  },
  {
   "cell_type": "code",
   "execution_count": 171,
   "metadata": {},
   "outputs": [
    {
     "output_type": "stream",
     "name": "stdout",
     "text": [
      "Test #1: \nG:\n[[1. 1. 1. 1. 1.]\n [1. 1. 1. 1. 1.]\n [1. 1. 1. 1. 1.]\n [1. 1. 1. 1. 1.]\n [1. 1. 1. 1. 1.]\n [1. 1. 1. 1. 1.]\n [1. 1. 1. 1. 1.]]\nBoundaries:\n[array([0.55483516, 0.97590158, 0.71433358, 0.43997228, 0.71130734])\n array([0.71130734, 0.51368807, 0.26844317, 0.53597997, 0.64229286,\n       0.09902127, 0.19102555])\n array([0.20305361, 0.96583063, 0.14673295, 0.99655726, 0.19102555])\n array([0.55483516, 0.13991227, 0.41050021, 0.26909499, 0.81463617,\n       0.92934011, 0.20305361])]\nG':\n[[0.55483516 0.97590158 0.71433358 0.43997228 0.71130734]\n [0.13991227 1.         1.         1.         0.51368807]\n [0.41050021 1.         1.         1.         0.26844317]\n [0.26909499 1.         1.         1.         0.53597997]\n [0.81463617 1.         1.         1.         0.64229286]\n [0.92934011 1.         1.         1.         0.09902127]\n [0.20305361 0.96583063 0.14673295 0.99655726 0.19102555]]\n"
     ]
    }
   ],
   "source": [
    "import numpy as np\n",
    "\n",
    "def add_boundaries(G, boundaries):\n",
    "    \"\"\"Adds the given boundaries to the matrix G\n",
    "    \n",
    "    Parameters\n",
    "    ----------\n",
    "    G : numpy.ndarray\n",
    "        Matrix that will be used to model the thermal system, the center will allocate\n",
    "        the temperature grid points interested in solving. While the first and last\n",
    "        column and row will be allocate the thermal boundaries of the system. \n",
    "    boundaries : numpy.ndarray\n",
    "        Must containt 4 numpy.ndarrays each representing one side of the thermal plate\n",
    "        (top, right, bottom, left).\n",
    "\n",
    "    Returns\n",
    "    -------\n",
    "    G\n",
    "    \"\"\"\n",
    "    G[0] = boundaries[0]\n",
    "    G[:,G.shape[1]-1] = boundaries[1]\n",
    "    G[G.shape[0]-1] = boundaries[2]\n",
    "    G[:,0] = boundaries[3]\n",
    "    return G\n",
    "\n",
    "def add_boundaries_test(d0=3, d1=3, i=1):\n",
    "    \"\"\"Generates random matrices to test\"\"\"\n",
    "    G_raw = np.ones((d0,d1))\n",
    "    B = np.random.rand(d0,d1)\n",
    "    boundaries = np.array([B[0],B[:,d1-1],B[d0-1],B[:,0]])\n",
    "    G_b = add_boundaries(G_raw.copy(), boundaries)\n",
    "    print(f'Test #{i}: \\nG:\\n{G_raw}\\nBoundaries:\\n{boundaries}\\nG\\':\\n{G_b}')\n",
    "\n",
    "if __name__ == '__main__': \n",
    "    \"\"\"Raw tests for add_boundaries(G, boundaries)\"\"\"\n",
    "    add_boundaries_test(d0=7,d1=5)"
   ]
  },
  {
   "cell_type": "code",
   "execution_count": 122,
   "metadata": {},
   "outputs": [
    {
     "output_type": "stream",
     "name": "stdout",
     "text": [
      "Test #1: \nG:\n[[0.91449239 0.68626234 0.53358516 0.00394333 0.64594516]\n [0.21282297 1.         1.         1.         0.47338987]\n [0.00825154 1.         1.         1.         0.60530188]\n [0.06434657 1.         1.         1.         0.89030797]\n [0.46262034 1.         1.         1.         0.36635174]\n [0.94809639 1.         1.         1.         0.05515341]\n [0.7415118  0.81961804 0.01016537 0.73331798 0.06244468]]\n"
     ]
    }
   ],
   "source": [
    "def build_grid_matrix(h, w, deltaX, deltaY, boundaries):\n",
    "    \"\"\"Builds the grid matrix with boundaries and a given height h and width w\n",
    "\n",
    "    Parameters\n",
    "    ----------\n",
    "    h : int\n",
    "        Thermal system's height.\n",
    "    w : int\n",
    "        Thermal system's width.\n",
    "    deltaX : float\n",
    "        Grid's width of X axis.\n",
    "    deltaY : float\n",
    "        Grid's height of Y axis.\n",
    "    boundaries : numpy.ndarray\n",
    "        Must containt 4 numpy.ndarrays each representing one side of the thermal plate\n",
    "        (top, right, bottom, left).\n",
    "\n",
    "    Returns\n",
    "    -------\n",
    "    Matrix G\n",
    "    \"\"\"\n",
    "    d0 = int(h//deltaY + 1)\n",
    "    d1 = int(w//deltaX + 1)\n",
    "    init_G = np.ones((d0, d1))\n",
    "    G = add_boundaries(init_G, boundaries)\n",
    "    return G\n",
    "\n",
    "def build_grid_matrix_test(h, w, deltaX, deltaY, i=1):\n",
    "    \"\"\"Generates random tests for build_grid_matrix()\"\"\"\n",
    "    d0 = int(h//deltaY + 1)\n",
    "    d1 = int(w//deltaX + 1)\n",
    "    B = np.random.rand(d0,d1)\n",
    "    boundaries = np.array([B[0],B[:,d1-1],B[d0-1],B[:,0]])\n",
    "    G = build_grid_matrix(h, w, deltaX, deltaY, boundaries)\n",
    "    print(f'Test #{i}: \\nG:\\n{G}')\n",
    "\n",
    "if __name__ == '__main__':\n",
    "    \"\"\"Tests for build_grid_matrix(h, w, deltaX, deltaY, boundaries)\"\"\"\n",
    "    build_grid_matrix_test(15, 10, 2.5, 2.5, i=1)"
   ]
  },
  {
   "cell_type": "code",
   "execution_count": 1,
   "metadata": {},
   "outputs": [],
   "source": [
    "def get_d0_d1(h, w, deltaX, deltaY):\n",
    "    \"\"\"Returns the appropiate dimensions for the grid matrix G\"\"\"\n",
    "    return int(h//deltaY + 1), int(w//deltaX + 1)\n",
    "\n",
    "def build_A_B(G):\n",
    "    \"\"\"Builds the matrices A and B that satisfy the equation: AX=B where X\n",
    "    is the temperature vector of the thermal system. \n",
    "\n",
    "    Parameters\n",
    "    ----------\n",
    "    G : numpy.ndarray\n",
    "        Matrix  that already contains the boundaries to the thermal system.\n",
    "    Returns\n",
    "    -------\n",
    "    A : numpy.ndarray\n",
    "    B : numpy.ndarray\n",
    "    \"\"\"\n",
    "    d0, d1 = G.shape[0], G.shape[1]\n",
    "    dimA = (d0-2)*(d1-2)\n",
    "    A = np.zeros((dimA, dimA))\n",
    "    B = np.zeros((dimA, 1))\n",
    "    n_row, n_T = 0, 0\n",
    "    for row in range(1, d0-1):\n",
    "        for col in range(1, d1-1):\n",
    "            #Fill A matrix\n",
    "            if (deltaX / deltaY) == 1:\n",
    "                A[n_row][n_T] = -4\n",
    "            else:\n",
    "                A[n_row][n_T] = 2*(1+(deltaX/deltaY)**2)\n",
    "            top_idx, right_idx, bottom_idx, left_idx = n_T-(d1-2), n_T+1, n_T+(d1-2), n_T-1\n",
    "            if top_idx >= 0: A[n_T][top_idx] = 1\n",
    "            if right_idx < (d1-2): A[n_T][right_idx] = 1\n",
    "            if bottom_idx < (d0-2): A[n_T][bottom_idx] = 1\n",
    "            if left_idx >= 0: A[n_T][left_idx] = 1\n",
    "            top, right, bottom, left = G[row-1][col], G[row][col+1], G[row+1][col], G[row][col-1]\n",
    "            #Check vertical position\n",
    "            if row == 1: #T_i is adjacent to upper boundary\n",
    "                B[n_T][0] -= top\n",
    "            elif row == d0-2: #T_i is adjacent to lower boundary\n",
    "                B[n_T][0] -= bottom\n",
    "            #Check horizontal position\n",
    "            if col == 1: #T_i is adjacent to left boundary\n",
    "                B[n_T][0] -= left\n",
    "            elif col == d1-2: #T_i is adjacent to right boundary\n",
    "                B[n_T][0] -= right\n",
    "            n_row += 1\n",
    "            n_T += 1\n",
    "    return A,B"
   ]
  },
  {
   "cell_type": "code",
   "execution_count": 273,
   "metadata": {},
   "outputs": [],
   "source": [
    "def process_T(T, deltaX, deltaY, d0, d1):\n",
    "    \"\"\"Prints out nicely the matrix T containing the temperatures\"\"\"\n",
    "    T_mod = []\n",
    "    d1 -= 2\n",
    "    d0 -= 2\n",
    "    for i in range(d1):\n",
    "        a = i\n",
    "        for j in range(d0):\n",
    "            T_mod.append(T[a][0])\n",
    "            a += d1\n",
    "    d0 += 2\n",
    "    d1 += 2\n",
    "    n_T = 0\n",
    "    for col in range(1,d1-1):\n",
    "        print(f'x={deltaX*col}[cm]:', end='')\n",
    "        for row in range(d0-1,1,-1):\n",
    "            if row == d0-1:\n",
    "                print(f'\\ty={deltaY*row-deltaY}[cm]  T(x,y)={np.round(T_mod[n_T],4)}')\n",
    "            else:\n",
    "                print(f'\\t\\ty={deltaY*row-deltaY}[cm]  T(x,y)={np.round(T_mod[n_T],4)}')\n",
    "            n_T += 1\n",
    "        print()"
   ]
  },
  {
   "cell_type": "code",
   "execution_count": 274,
   "metadata": {},
   "outputs": [],
   "source": [
    "def find_temperatures(h, w, deltaX, deltaY, boundaries, verbose=False):\n",
    "    G = build_grid_matrix(h, w, deltaX, deltaY, init_boundaries)\n",
    "    A, B = build_A_B(G)\n",
    "    T = np.linalg.solve(A, B)\n",
    "    if verbose:\n",
    "        print(f'Grid: \\n {G}\\n')\n",
    "    process_T(T, deltaX, deltaY, d0, d1)"
   ]
  },
  {
   "source": [
    "## Ejemplo del libro:\n",
    "- $h=15$\n",
    "- $w=10$\n",
    "- $\\Delta x = 2.5$\n",
    "- $\\Delta y = 2.5$"
   ],
   "cell_type": "markdown",
   "metadata": {}
  },
  {
   "cell_type": "code",
   "execution_count": 275,
   "metadata": {},
   "outputs": [
    {
     "output_type": "stream",
     "name": "stdout",
     "text": [
      "x=2.5[cm]:\ty=12.5[cm]  T(x,y)=32.5016\n\t\ty=10.0[cm]  T(x,y)=15.2949\n\t\ty=7.5[cm]  T(x,y)=6.5426\n\t\ty=5.0[cm]  T(x,y)=2.6492\n\t\ty=2.5[cm]  T(x,y)=1.0406\n\nx=5.0[cm]:\ty=12.5[cm]  T(x,y)=44.0009\n\t\ty=10.0[cm]  T(x,y)=14.8239\n\t\ty=7.5[cm]  T(x,y)=5.3416\n\t\ty=5.0[cm]  T(x,y)=1.9977\n\t\ty=2.5[cm]  T(x,y)=0.7596\n\nx=7.5[cm]:\ty=12.5[cm]  T(x,y)=28.6779\n\t\ty=10.0[cm]  T(x,y)=10.8755\n\t\ty=7.5[cm]  T(x,y)=4.0543\n\t\ty=5.0[cm]  T(x,y)=1.513\n\t\ty=2.5[cm]  T(x,y)=0.5681\n\n"
     ]
    }
   ],
   "source": [
    "h, w = 15, 10\n",
    "deltaX, deltaY = 2.5, 2.5\n",
    "d0, d1 = get_d0_d1(h, w, deltaX, deltaY)\n",
    "init_boundaries = np.array([\n",
    "    [0,70.710678,100,70.710678,0], #top\n",
    "    np.zeros(d0), #right\n",
    "    np.zeros(d1), #bottom\n",
    "    np.zeros(d0)  #left\n",
    "])\n",
    "find_temperatures(h, w, deltaX, deltaY, boundaries)"
   ]
  },
  {
   "source": [
    "## Haciendo la malla más fina"
   ],
   "cell_type": "markdown",
   "metadata": {}
  },
  {
   "cell_type": "code",
   "execution_count": 276,
   "metadata": {},
   "outputs": [
    {
     "output_type": "stream",
     "name": "stdout",
     "text": [
      "x=1[cm]:\ty=14[cm]  T(x,y)=9.2615\n\t\ty=13[cm]  T(x,y)=4.1076\n\t\ty=12[cm]  T(x,y)=2.1311\n\t\ty=11[cm]  T(x,y)=1.0465\n\t\ty=10[cm]  T(x,y)=0.4751\n\t\ty=9[cm]  T(x,y)=0.2022\n\t\ty=8[cm]  T(x,y)=0.0819\n\t\ty=7[cm]  T(x,y)=0.0319\n\t\ty=6[cm]  T(x,y)=0.0121\n\t\ty=5[cm]  T(x,y)=0.0045\n\t\ty=4[cm]  T(x,y)=0.0016\n\t\ty=3[cm]  T(x,y)=0.0006\n\t\ty=2[cm]  T(x,y)=0.0002\n\t\ty=1[cm]  T(x,y)=0.0001\n\nx=2[cm]:\ty=14[cm]  T(x,y)=32.9384\n\t\ty=13[cm]  T(x,y)=9.2615\n\t\ty=12[cm]  T(x,y)=2.8481\n\t\ty=11[cm]  T(x,y)=0.9737\n\t\ty=10[cm]  T(x,y)=0.3622\n\t\ty=9[cm]  T(x,y)=0.1411\n\t\ty=8[cm]  T(x,y)=0.0557\n\t\ty=7[cm]  T(x,y)=0.0219\n\t\ty=6[cm]  T(x,y)=0.0085\n\t\ty=5[cm]  T(x,y)=0.0032\n\t\ty=4[cm]  T(x,y)=0.0012\n\t\ty=3[cm]  T(x,y)=0.0004\n\t\ty=2[cm]  T(x,y)=0.0002\n\t\ty=1[cm]  T(x,y)=0.0001\n\nx=3[cm]:\ty=14[cm]  T(x,y)=42.5198\n\t\ty=13[cm]  T(x,y)=12.9453\n\t\ty=12[cm]  T(x,y)=3.9484\n\t\ty=11[cm]  T(x,y)=1.2305\n\t\ty=10[cm]  T(x,y)=0.3982\n\t\ty=9[cm]  T(x,y)=0.1348\n\t\ty=8[cm]  T(x,y)=0.0476\n\t\ty=7[cm]  T(x,y)=0.0174\n\t\ty=6[cm]  T(x,y)=0.0065\n\t\ty=5[cm]  T(x,y)=0.0024\n\t\ty=4[cm]  T(x,y)=0.0009\n\t\ty=3[cm]  T(x,y)=0.0003\n\t\ty=2[cm]  T(x,y)=0.0001\n\t\ty=1[cm]  T(x,y)=0.0\n\nx=4[cm]:\ty=14[cm]  T(x,y)=53.4849\n\t\ty=13[cm]  T(x,y)=16.6076\n\t\ty=12[cm]  T(x,y)=5.139\n\t\ty=11[cm]  T(x,y)=1.5924\n\t\ty=10[cm]  T(x,y)=0.4976\n\t\ty=9[cm]  T(x,y)=0.1581\n\t\ty=8[cm]  T(x,y)=0.0514\n\t\ty=7[cm]  T(x,y)=0.0172\n\t\ty=6[cm]  T(x,y)=0.0059\n\t\ty=5[cm]  T(x,y)=0.0021\n\t\ty=4[cm]  T(x,y)=0.0007\n\t\ty=3[cm]  T(x,y)=0.0003\n\t\ty=2[cm]  T(x,y)=0.0001\n\t\ty=1[cm]  T(x,y)=0.0\n\nx=5[cm]:\ty=14[cm]  T(x,y)=54.8122\n\t\ty=13[cm]  T(x,y)=17.8549\n\t\ty=12[cm]  T(x,y)=5.7485\n\t\ty=11[cm]  T(x,y)=1.8352\n\t\ty=10[cm]  T(x,y)=0.5832\n\t\ty=9[cm]  T(x,y)=0.1853\n\t\ty=8[cm]  T(x,y)=0.0592\n\t\ty=7[cm]  T(x,y)=0.0191\n\t\ty=6[cm]  T(x,y)=0.0063\n\t\ty=5[cm]  T(x,y)=0.0021\n\t\ty=4[cm]  T(x,y)=0.0007\n\t\ty=3[cm]  T(x,y)=0.0002\n\t\ty=2[cm]  T(x,y)=0.0001\n\t\ty=1[cm]  T(x,y)=0.0\n\nx=6[cm]:\ty=14[cm]  T(x,y)=47.909\n\t\ty=13[cm]  T(x,y)=16.441\n\t\ty=12[cm]  T(x,y)=5.5474\n\t\ty=11[cm]  T(x,y)=1.8456\n\t\ty=10[cm]  T(x,y)=0.6072\n\t\ty=9[cm]  T(x,y)=0.1981\n\t\ty=8[cm]  T(x,y)=0.0643\n\t\ty=7[cm]  T(x,y)=0.0209\n\t\ty=6[cm]  T(x,y)=0.0068\n\t\ty=5[cm]  T(x,y)=0.0022\n\t\ty=4[cm]  T(x,y)=0.0007\n\t\ty=3[cm]  T(x,y)=0.0002\n\t\ty=2[cm]  T(x,y)=0.0001\n\t\ty=1[cm]  T(x,y)=0.0\n\nx=7[cm]:\ty=14[cm]  T(x,y)=36.8239\n\t\ty=13[cm]  T(x,y)=13.3162\n\t\ty=12[cm]  T(x,y)=4.7159\n\t\ty=11[cm]  T(x,y)=1.6404\n\t\ty=10[cm]  T(x,y)=0.5619\n\t\ty=9[cm]  T(x,y)=0.19\n\t\ty=8[cm]  T(x,y)=0.0636\n\t\ty=7[cm]  T(x,y)=0.0211\n\t\ty=6[cm]  T(x,y)=0.007\n\t\ty=5[cm]  T(x,y)=0.0023\n\t\ty=4[cm]  T(x,y)=0.0008\n\t\ty=3[cm]  T(x,y)=0.0003\n\t\ty=2[cm]  T(x,y)=0.0001\n\t\ty=1[cm]  T(x,y)=0.0\n\nx=8[cm]:\ty=14[cm]  T(x,y)=28.6759\n\t\ty=13[cm]  T(x,y)=10.498\n\t\ty=12[cm]  T(x,y)=3.8035\n\t\ty=11[cm]  T(x,y)=1.361\n\t\ty=10[cm]  T(x,y)=0.4807\n\t\ty=9[cm]  T(x,y)=0.1677\n\t\ty=8[cm]  T(x,y)=0.0578\n\t\ty=7[cm]  T(x,y)=0.0197\n\t\ty=6[cm]  T(x,y)=0.0067\n\t\ty=5[cm]  T(x,y)=0.0022\n\t\ty=4[cm]  T(x,y)=0.0008\n\t\ty=3[cm]  T(x,y)=0.0003\n\t\ty=2[cm]  T(x,y)=0.0001\n\t\ty=1[cm]  T(x,y)=0.0\n\nx=9[cm]:\ty=14[cm]  T(x,y)=7.169\n\t\ty=13[cm]  T(x,y)=4.4167\n\t\ty=12[cm]  T(x,y)=2.0551\n\t\ty=11[cm]  T(x,y)=0.854\n\t\ty=10[cm]  T(x,y)=0.3337\n\t\ty=9[cm]  T(x,y)=0.1253\n\t\ty=8[cm]  T(x,y)=0.0458\n\t\ty=7[cm]  T(x,y)=0.0164\n\t\ty=6[cm]  T(x,y)=0.0058\n\t\ty=5[cm]  T(x,y)=0.002\n\t\ty=4[cm]  T(x,y)=0.0007\n\t\ty=3[cm]  T(x,y)=0.0002\n\t\ty=2[cm]  T(x,y)=0.0001\n\t\ty=1[cm]  T(x,y)=0.0\n\n"
     ]
    }
   ],
   "source": [
    "h, w = 15, 10\n",
    "deltaX, deltaY = 1, 1\n",
    "d0, d1 = get_d0_d1(h, w, deltaX, deltaY)\n",
    "init_boundaries = np.array([\n",
    "    [0,0,70.710678,70.710678,100,100,100,70.710678,70.710678,0,0], #top\n",
    "    np.zeros(d0), #right\n",
    "    np.zeros(d1), #bottom\n",
    "    np.zeros(d0)  #left\n",
    "])\n",
    "find_temperatures(h, w, deltaX, deltaY, boundaries)"
   ]
  },
  {
   "source": [
    "## $\\Delta x \\neq \\Delta y$\n",
    "- $\\Delta x = 2$\n",
    "- $\\Delta y = 1$"
   ],
   "cell_type": "markdown",
   "metadata": {}
  },
  {
   "cell_type": "code",
   "execution_count": 279,
   "metadata": {},
   "outputs": [
    {
     "output_type": "stream",
     "name": "stdout",
     "text": [
      "x=2[cm]:\ty=14[cm]  T(x,y)=35.5686\n\t\ty=13[cm]  T(x,y)=19.8478\n\t\ty=12[cm]  T(x,y)=9.6017\n\t\ty=11[cm]  T(x,y)=3.758\n\t\ty=10[cm]  T(x,y)=1.4334\n\t\ty=9[cm]  T(x,y)=0.5377\n\t\ty=8[cm]  T(x,y)=0.1996\n\t\ty=7[cm]  T(x,y)=0.0737\n\t\ty=6[cm]  T(x,y)=0.0271\n\t\ty=5[cm]  T(x,y)=0.01\n\t\ty=4[cm]  T(x,y)=0.0037\n\t\ty=3[cm]  T(x,y)=0.0013\n\t\ty=2[cm]  T(x,y)=0.0005\n\t\ty=1[cm]  T(x,y)=0.0002\n\nx=4[cm]:\ty=14[cm]  T(x,y)=51.7157\n\t\ty=13[cm]  T(x,y)=19.9218\n\t\ty=12[cm]  T(x,y)=8.1235\n\t\ty=11[cm]  T(x,y)=2.9704\n\t\ty=10[cm]  T(x,y)=1.1009\n\t\ty=9[cm]  T(x,y)=0.4096\n\t\ty=8[cm]  T(x,y)=0.1523\n\t\ty=7[cm]  T(x,y)=0.0565\n\t\ty=6[cm]  T(x,y)=0.0209\n\t\ty=5[cm]  T(x,y)=0.0077\n\t\ty=4[cm]  T(x,y)=0.0028\n\t\ty=3[cm]  T(x,y)=0.001\n\t\ty=2[cm]  T(x,y)=0.0004\n\t\ty=1[cm]  T(x,y)=0.0001\n\nx=6[cm]:\ty=14[cm]  T(x,y)=51.3725\n\t\ty=13[cm]  T(x,y)=19.5534\n\t\ty=12[cm]  T(x,y)=6.9192\n\t\ty=11[cm]  T(x,y)=2.4724\n\t\ty=10[cm]  T(x,y)=0.8933\n\t\ty=9[cm]  T(x,y)=0.3257\n\t\ty=8[cm]  T(x,y)=0.1195\n\t\ty=7[cm]  T(x,y)=0.044\n\t\ty=6[cm]  T(x,y)=0.0162\n\t\ty=5[cm]  T(x,y)=0.006\n\t\ty=4[cm]  T(x,y)=0.0022\n\t\ty=3[cm]  T(x,y)=0.0008\n\t\ty=2[cm]  T(x,y)=0.0003\n\t\ty=1[cm]  T(x,y)=0.0001\n\nx=8[cm]:\ty=14[cm]  T(x,y)=34.2211\n\t\ty=13[cm]  T(x,y)=14.8011\n\t\ty=12[cm]  T(x,y)=5.4301\n\t\ty=11[cm]  T(x,y)=1.9756\n\t\ty=10[cm]  T(x,y)=0.7172\n\t\ty=9[cm]  T(x,y)=0.2607\n\t\ty=8[cm]  T(x,y)=0.0951\n\t\ty=7[cm]  T(x,y)=0.0348\n\t\ty=6[cm]  T(x,y)=0.0127\n\t\ty=5[cm]  T(x,y)=0.0047\n\t\ty=4[cm]  T(x,y)=0.0017\n\t\ty=3[cm]  T(x,y)=0.0006\n\t\ty=2[cm]  T(x,y)=0.0002\n\t\ty=1[cm]  T(x,y)=0.0001\n\n"
     ]
    }
   ],
   "source": [
    "h, w = 15, 10\n",
    "deltaX, deltaY = 2, 1\n",
    "d0, d1 = get_d0_d1(h, w, deltaX, deltaY)\n",
    "init_boundaries = np.array([\n",
    "    [0,70.710678,100,100,70.710678,0], #top\n",
    "    np.zeros(d0), #right\n",
    "    np.zeros(d1), #bottom\n",
    "    np.zeros(d0)  #left\n",
    "])\n",
    "find_temperatures(h, w, deltaX, deltaY, boundaries)"
   ]
  },
  {
   "source": [
    "## Cambiando condiciones de frontera"
   ],
   "cell_type": "markdown",
   "metadata": {}
  },
  {
   "cell_type": "code",
   "execution_count": 281,
   "metadata": {},
   "outputs": [
    {
     "output_type": "stream",
     "name": "stdout",
     "text": [
      "x=2.5[cm]:\ty=12.5[cm]  T(x,y)=55.0801\n\t\ty=10.0[cm]  T(x,y)=43.5671\n\t\ty=7.5[cm]  T(x,y)=44.8975\n\t\ty=5.0[cm]  T(x,y)=39.5664\n\t\ty=2.5[cm]  T(x,y)=30.368\n\nx=5.0[cm]:\ty=12.5[cm]  T(x,y)=56.0427\n\t\ty=10.0[cm]  T(x,y)=24.9025\n\t\ty=7.5[cm]  T(x,y)=17.45\n\t\ty=5.0[cm]  T(x,y)=14.2541\n\t\ty=2.5[cm]  T(x,y)=11.1555\n\nx=7.5[cm]:\ty=12.5[cm]  T(x,y)=44.1884\n\t\ty=10.0[cm]  T(x,y)=36.0227\n\t\ty=7.5[cm]  T(x,y)=38.3682\n\t\ty=5.0[cm]  T(x,y)=31.9056\n\t\ty=2.5[cm]  T(x,y)=23.2653\n\n"
     ]
    }
   ],
   "source": [
    "h, w = 15, 10\n",
    "deltaX, deltaY = 2.5, 2.5\n",
    "d0, d1 = get_d0_d1(h, w, deltaX, deltaY)\n",
    "init_boundaries = np.array([\n",
    "    [0,70.710678,100,70.710678,0], #top\n",
    "    [0,50,75,100,75,50,0], #right\n",
    "    np.zeros(d1), #bottom\n",
    "    [0,50,75,100,75,50,0], #left\n",
    "])\n",
    "find_temperatures(h, w, deltaX, deltaY, boundaries)"
   ]
  },
  {
   "source": [
    "## $\\Delta x = \\Delta y = 1.25$"
   ],
   "cell_type": "markdown",
   "metadata": {}
  },
  {
   "cell_type": "code",
   "execution_count": 285,
   "metadata": {},
   "outputs": [
    {
     "output_type": "stream",
     "name": "stdout",
     "text": [
      "x=1.25[cm]:\ty=13.75[cm]  T(x,y)=32.02\n\t\ty=12.5[cm]  T(x,y)=14.694\n\t\ty=11.25[cm]  T(x,y)=6.17\n\t\ty=10.0[cm]  T(x,y)=2.4598\n\t\ty=8.75[cm]  T(x,y)=0.9469\n\t\ty=7.5[cm]  T(x,y)=0.3552\n\t\ty=6.25[cm]  T(x,y)=0.1306\n\t\ty=5.0[cm]  T(x,y)=0.0473\n\t\ty=3.75[cm]  T(x,y)=0.0169\n\t\ty=2.5[cm]  T(x,y)=0.006\n\t\ty=1.25[cm]  T(x,y)=0.0021\n\nx=2.5[cm]:\ty=13.75[cm]  T(x,y)=42.6753\n\t\ty=12.5[cm]  T(x,y)=14.3423\n\t\ty=11.25[cm]  T(x,y)=5.1281\n\t\ty=10.0[cm]  T(x,y)=1.897\n\t\ty=8.75[cm]  T(x,y)=0.711\n\t\ty=7.5[cm]  T(x,y)=0.2666\n\t\ty=6.25[cm]  T(x,y)=0.0993\n\t\ty=5.0[cm]  T(x,y)=0.0366\n\t\ty=3.75[cm]  T(x,y)=0.0134\n\t\ty=2.5[cm]  T(x,y)=0.0048\n\t\ty=1.25[cm]  T(x,y)=0.0017\n\nx=3.75[cm]:\ty=13.75[cm]  T(x,y)=53.628\n\t\ty=12.5[cm]  T(x,y)=16.9926\n\t\ty=11.25[cm]  T(x,y)=5.5302\n\t\ty=10.0[cm]  T(x,y)=1.8568\n\t\ty=8.75[cm]  T(x,y)=0.6419\n\t\ty=7.5[cm]  T(x,y)=0.2271\n\t\ty=6.25[cm]  T(x,y)=0.0816\n\t\ty=5.0[cm]  T(x,y)=0.0296\n\t\ty=3.75[cm]  T(x,y)=0.0107\n\t\ty=2.5[cm]  T(x,y)=0.0039\n\t\ty=1.25[cm]  T(x,y)=0.0014\n\nx=5.0[cm]:\ty=13.75[cm]  T(x,y)=54.8442\n\t\ty=12.5[cm]  T(x,y)=17.9592\n\t\ty=11.25[cm]  T(x,y)=5.8723\n\t\ty=10.0[cm]  T(x,y)=1.9323\n\t\ty=8.75[cm]  T(x,y)=0.6436\n\t\ty=7.5[cm]  T(x,y)=0.2177\n\t\ty=6.25[cm]  T(x,y)=0.0748\n\t\ty=5.0[cm]  T(x,y)=0.0261\n\t\ty=3.75[cm]  T(x,y)=0.0092\n\t\ty=2.5[cm]  T(x,y)=0.0033\n\t\ty=1.25[cm]  T(x,y)=0.0012\n\nx=6.25[cm]:\ty=13.75[cm]  T(x,y)=47.7896\n\t\ty=12.5[cm]  T(x,y)=16.4372\n\t\ty=11.25[cm]  T(x,y)=5.5774\n\t\ty=10.0[cm]  T(x,y)=1.8774\n\t\ty=8.75[cm]  T(x,y)=0.6302\n\t\ty=7.5[cm]  T(x,y)=0.212\n\t\ty=6.25[cm]  T(x,y)=0.0717\n\t\ty=5.0[cm]  T(x,y)=0.0244\n\t\ty=3.75[cm]  T(x,y)=0.0084\n\t\ty=2.5[cm]  T(x,y)=0.0029\n\t\ty=1.25[cm]  T(x,y)=0.001\n\nx=7.5[cm]:\ty=13.75[cm]  T(x,y)=36.3141\n\t\ty=12.5[cm]  T(x,y)=13.1878\n\t\ty=11.25[cm]  T(x,y)=4.6913\n\t\ty=10.0[cm]  T(x,y)=1.6422\n\t\ty=8.75[cm]  T(x,y)=0.5681\n\t\ty=7.5[cm]  T(x,y)=0.195\n\t\ty=6.25[cm]  T(x,y)=0.0667\n\t\ty=5.0[cm]  T(x,y)=0.0228\n\t\ty=3.75[cm]  T(x,y)=0.0078\n\t\ty=2.5[cm]  T(x,y)=0.0027\n\t\ty=1.25[cm]  T(x,y)=0.0009\n\nx=8.75[cm]:\ty=13.75[cm]  T(x,y)=26.7562\n\t\ty=12.5[cm]  T(x,y)=9.986\n\t\ty=11.25[cm]  T(x,y)=3.6693\n\t\ty=10.0[cm]  T(x,y)=1.3279\n\t\ty=8.75[cm]  T(x,y)=0.474\n\t\ty=7.5[cm]  T(x,y)=0.1673\n\t\ty=6.25[cm]  T(x,y)=0.0585\n\t\ty=5.0[cm]  T(x,y)=0.0203\n\t\ty=3.75[cm]  T(x,y)=0.007\n\t\ty=2.5[cm]  T(x,y)=0.0024\n\t\ty=1.25[cm]  T(x,y)=0.0008\n\n"
     ]
    }
   ],
   "source": [
    "h, w = 15, 10\n",
    "deltaX, deltaY = 1.25, 1.25\n",
    "d0, d1 = get_d0_d1(h, w, deltaX, deltaY)\n",
    "init_boundaries = np.array([\n",
    "    [0,70.710678,70.710678,100,100,100,70.710678,70.710678,0], #top\n",
    "    np.zeros(d0), #right\n",
    "    np.zeros(d1), #bottom\n",
    "    np.zeros(d0)  #left\n",
    "])\n",
    "find_temperatures(h, w, deltaX, deltaY, boundaries)"
   ]
  },
  {
   "cell_type": "code",
   "execution_count": null,
   "metadata": {},
   "outputs": [],
   "source": []
  }
 ]
}