{
 "metadata": {
  "language_info": {
   "codemirror_mode": {
    "name": "ipython",
    "version": 3
   },
   "file_extension": ".py",
   "mimetype": "text/x-python",
   "name": "python",
   "nbconvert_exporter": "python",
   "pygments_lexer": "ipython3",
   "version": "3.8.5-final"
  },
  "orig_nbformat": 2,
  "kernelspec": {
   "name": "Python 3.8.5 64-bit",
   "display_name": "Python 3.8.5 64-bit",
   "metadata": {
    "interpreter": {
     "hash": "1ee38ef4a5a9feb55287fd749643f13d043cb0a7addaab2a9c224cbe137c0062"
    }
   }
  }
 },
 "nbformat": 4,
 "nbformat_minor": 2,
 "cells": [
  {
   "source": [
    "# Descomposición LU\n",
    "### Métodos Matemáticos Computacionales para Ciencia de Datos\n",
    "*Martínez Ostoa Néstor Iván*\n",
    "\n",
    "Descomposición LU por los métodos de *Doolittle-Crout* y *Cholesky*"
   ],
   "cell_type": "markdown",
   "metadata": {}
  },
  {
   "cell_type": "code",
   "execution_count": 177,
   "metadata": {},
   "outputs": [],
   "source": [
    "import numpy as np\n",
    "from math import sqrt\n",
    "from scipy import random, linalg"
   ]
  },
  {
   "cell_type": "code",
   "execution_count": 51,
   "metadata": {},
   "outputs": [],
   "source": [
    "def initLU(n):\n",
    "    L = np.eye(n)\n",
    "    U = np.zeros((n, n))\n",
    "    return (L, U)\n",
    "\n",
    "def doolittle(A, n):\n",
    "    (L, U) = initLU(n)\n",
    "    U[0] = A[0] / L[0][0]\n",
    "    L[:, 0] = A[:, 0] / U[0][0]\n",
    "    for i in range(1, len(A)):\n",
    "        for j in range(0, len(A[0])):\n",
    "            if j >= i: # obtain U matrix\n",
    "                s = 0\n",
    "                for k in range(0, i):\n",
    "                    s += L[i][k] * U[k][j]\n",
    "                U[i][j] = A[i][j] - s\n",
    "            else: # obtain L matri\n",
    "                if i > 1 and j > 0:\n",
    "                    s = 0\n",
    "                    for k in range(0, j):\n",
    "                        s += L[i][k] * U[k][j]\n",
    "                    L[i][j] = (1 / U[j][j]) * (A[i][j] - s)\n",
    "    return (L, U)"
   ]
  },
  {
   "cell_type": "code",
   "execution_count": 53,
   "metadata": {},
   "outputs": [],
   "source": [
    "def random_squared_matrix(n):\n",
    "    return np.random.rand(n, n)"
   ]
  },
  {
   "cell_type": "code",
   "execution_count": 55,
   "metadata": {},
   "outputs": [
    {
     "output_type": "stream",
     "name": "stdout",
     "text": [
      "A matrix: \n [[0.52616034 0.28769252 0.51883323 0.10216392]\n [0.60081993 0.10991621 0.00414064 0.22329023]\n [0.32638708 0.8281348  0.93333048 0.5815038 ]\n [0.5932058  0.2084529  0.99598565 0.65329757]]\nL matrix: \n [[ 1.          0.          0.          0.        ]\n [ 1.14189512  1.          0.          0.        ]\n [ 0.62031866 -2.97199575  1.          0.        ]\n [ 1.12742401  0.5301892  -0.63586129  1.        ]]\nU matrix: \n [[ 0.52616034  0.28769252  0.51883323  0.10216392]\n [ 0.         -0.21859848 -0.58831249  0.10662975]\n [ 0.          0.         -1.13697367  0.83503277]\n [ 0.          0.          0.          1.0125466 ]]\nLU matrix: \n [[0.52616034 0.28769252 0.51883323 0.10216392]\n [0.60081993 0.10991621 0.00414064 0.22329023]\n [0.32638708 0.8281348  0.93333048 0.5815038 ]\n [0.5932058  0.2084529  0.99598565 0.65329757]]\n"
     ]
    }
   ],
   "source": [
    "#A =  np.array([[6, 2, 1, -1], [2, 4, 1, 0], [1, 1, 4, -1], [-1, 0, -1, 3]])\n",
    "n = 4\n",
    "A = random_squared_matrix(n)\n",
    "(L, U) = doolittle(A, n)\n",
    "print(\"A matrix: \\n\", A)\n",
    "print(\"L matrix: \\n\", L)\n",
    "print(\"U matrix: \\n\", U)\n",
    "print(\"LU matrix: \\n\", L.dot(U))"
   ]
  },
  {
   "source": [
    "## Choleski\n",
    "Supongamos la misma matriz $A$ de dimensiones $nxn$, para este método la podemos descomponer de la siguiente manera: $A = LL^T$\n",
    "\n",
    "$l_{11} = \\sqrt a_{11}$\n",
    "\n",
    "$l_{j1} = \\frac{a_{j1}}{l_{11}}$\n",
    "\n",
    "$l_{ii} = \\sqrt{a_{ii} - \\sum^{i-1}_{k = 1}l_{ik}^2}$\n",
    "\n",
    "$l_{ji} = \\frac{1}{l_{ii}}(a_{ji} - \\sum^{i-1}_{k=1}l_{jk}l_{ik})$\n"
   ],
   "cell_type": "markdown",
   "metadata": {}
  },
  {
   "cell_type": "code",
   "execution_count": 178,
   "metadata": {},
   "outputs": [],
   "source": [
    "def equal_matrixes(A, B):\n",
    "    if len(A) == len(B) and len(A[0]) == len(B[0]):\n",
    "        equal = True\n",
    "        for i in range(len(A)):\n",
    "            for j in range(len(A[i])):\n",
    "                if A[i][j] == B[i][j]: \n",
    "                    pass\n",
    "                else:\n",
    "                    equal = False\n",
    "                    break\n",
    "        return equal\n",
    "    else:\n",
    "        return False\n",
    "\n",
    "def zeros_in_diag(A):\n",
    "    no_zeros = True\n",
    "    for i in range(0, len(A)):\n",
    "        for j in range(0, len(A[0])):\n",
    "            if i == j: \n",
    "                if A[i][j] == 0: \n",
    "                    no_zeros = False\n",
    "                    break\n",
    "    return no_zeros\n",
    "\n",
    "def validate_matrix(A):\n",
    "    eq_transpose = True if equal_matrixes(A, A.transpose()) else False\n",
    "    diag_zero = True if zeros_in_diag(A) else False\n",
    "    msg_diag = 'Matrix cannot have zeros on the main diagonal'\n",
    "    msg_transpose = 'Matrix must be equal to its transpose'\n",
    "    if diag_zero == False: return (False, msg_diag)\n",
    "    if eq_transpose == False: return (False, msg_transpose)\n",
    "    return (True, '')\n",
    "\n",
    "def symmetric_matrix(n):\n",
    "    numbers = np.random.randint(low = -100, high = 100, size = 100)\n",
    "    A = np.random.choice(numbers, size=(n, n))\n",
    "    return np.tril(A) + np.tril(A, -1).T\n",
    "\n",
    "def random_squared_matrix_cholesky(n):\n",
    "    A = np.random.rand(n, n)\n",
    "    B = np.dot(A,A.transpose())\n",
    "    return B"
   ]
  },
  {
   "cell_type": "code",
   "execution_count": 183,
   "metadata": {},
   "outputs": [
    {
     "output_type": "stream",
     "name": "stdout",
     "text": [
      "A: \n [[2.96806241 2.41700191 2.58313704 2.06430036 2.67839275 2.17346423\n  2.56001202 2.54172617 1.60855515 2.3324565 ]\n [2.41700191 3.43171453 2.97363    1.70225364 2.0756622  2.08745955\n  2.51857198 2.77677332 1.65303873 2.21920618]\n [2.58313704 2.97363    5.08373263 2.06335305 3.72778734 3.42321865\n  3.84972187 3.3899894  2.6232076  2.85874757]\n [2.06430036 1.70225364 2.06335305 1.9160063  2.12691914 1.91244321\n  1.96168306 1.97602232 1.13059712 2.2500124 ]\n [2.67839275 2.0756622  3.72778734 2.12691914 3.77125306 2.63133661\n  3.12737861 3.07740286 2.09410624 2.99143114]\n [2.17346423 2.08745955 3.42321865 1.91244321 2.63133661 3.01768094\n  2.75682163 2.57947366 1.71678436 2.41519464]\n [2.56001202 2.51857198 3.84972187 1.96168306 3.12737861 2.75682163\n  3.89256098 2.9114376  2.34674107 2.43181536]\n [2.54172617 2.77677332 3.3899894  1.97602232 3.07740286 2.57947366\n  2.9114376  3.31514728 1.72222338 2.90779324]\n [1.60855515 1.65303873 2.6232076  1.13059712 2.09410624 1.71678436\n  2.34674107 1.72222338 1.95402195 1.54814589]\n [2.3324565  2.21920618 2.85874757 2.2500124  2.99143114 2.41519464\n  2.43181536 2.90779324 1.54814589 3.22281272]]\nL: \n [[ 1.72280655  0.          0.          0.          0.          0.\n   0.          0.          0.          0.        ]\n [ 1.40294446  1.20973607  0.          0.          0.          0.\n   0.          0.          0.          0.        ]\n [ 1.4993773   0.71923698  1.52259597  0.          0.          0.\n   0.          0.          0.          0.        ]\n [ 1.19821948  0.01753958  0.16692205  0.67238811  0.          0.\n   0.          0.          0.          0.        ]\n [ 1.55466831 -0.08716868  0.95852605  0.15707455  0.63499333  0.\n   0.          0.          0.          0.        ]\n [ 1.26158345  0.26247712  0.88194494  0.37027656 -0.33174464  0.57637471\n   0.          0.          0.          0.        ]\n [ 1.48595442  0.35864058  0.89568604  0.03775106 -0.02518696 -0.04207084\n   0.86590669  0.          0.          0.        ]\n [ 1.47534044  0.58438584  0.49756176  0.17093813  0.52111106  0.4087272\n   0.10136538  0.2670841   0.          0.        ]\n [ 0.93368298  0.28364317  0.66942111 -0.15597558  0.07890781 -0.07294852\n   0.30352036 -0.63470728  0.15108188  0.        ]\n [ 1.35387023  0.26435637  0.41944837  0.8226303   0.59589464  0.27922918\n  -0.06325861 -0.04371787  0.14165118  0.09093383]]\nLT: \n [[ 1.72280655  1.40294446  1.4993773   1.19821948  1.55466831  1.26158345\n   1.48595442  1.47534044  0.93368298  1.35387023]\n [ 0.          1.20973607  0.71923698  0.01753958 -0.08716868  0.26247712\n   0.35864058  0.58438584  0.28364317  0.26435637]\n [ 0.          0.          1.52259597  0.16692205  0.95852605  0.88194494\n   0.89568604  0.49756176  0.66942111  0.41944837]\n [ 0.          0.          0.          0.67238811  0.15707455  0.37027656\n   0.03775106  0.17093813 -0.15597558  0.8226303 ]\n [ 0.          0.          0.          0.          0.63499333 -0.33174464\n  -0.02518696  0.52111106  0.07890781  0.59589464]\n [ 0.          0.          0.          0.          0.          0.57637471\n  -0.04207084  0.4087272  -0.07294852  0.27922918]\n [ 0.          0.          0.          0.          0.          0.\n   0.86590669  0.10136538  0.30352036 -0.06325861]\n [ 0.          0.          0.          0.          0.          0.\n   0.          0.2670841  -0.63470728 -0.04371787]\n [ 0.          0.          0.          0.          0.          0.\n   0.          0.          0.15108188  0.14165118]\n [ 0.          0.          0.          0.          0.          0.\n   0.          0.          0.          0.09093383]]\nL*LT: \n [[2.96806241 2.41700191 2.58313704 2.06430036 2.67839275 2.17346423\n  2.56001202 2.54172617 1.60855515 2.3324565 ]\n [2.41700191 3.43171453 2.97363    1.70225364 2.0756622  2.08745955\n  2.51857198 2.77677332 1.65303873 2.21920618]\n [2.58313704 2.97363    5.08373263 2.06335305 3.72778734 3.42321865\n  3.84972187 3.3899894  2.6232076  2.85874757]\n [2.06430036 1.70225364 2.06335305 1.9160063  2.12691914 1.91244321\n  1.96168306 1.97602232 1.13059712 2.2500124 ]\n [2.67839275 2.0756622  3.72778734 2.12691914 3.77125306 2.63133661\n  3.12737861 3.07740286 2.09410624 2.99143114]\n [2.17346423 2.08745955 3.42321865 1.91244321 2.63133661 3.01768094\n  2.75682163 2.57947366 1.71678436 2.41519464]\n [2.56001202 2.51857198 3.84972187 1.96168306 3.12737861 2.75682163\n  3.89256098 2.9114376  2.34674107 2.43181536]\n [2.54172617 2.77677332 3.3899894  1.97602232 3.07740286 2.57947366\n  2.9114376  3.31514728 1.72222338 2.90779324]\n [1.60855515 1.65303873 2.6232076  1.13059712 2.09410624 1.71678436\n  2.34674107 1.72222338 1.95402195 1.54814589]\n [2.3324565  2.21920618 2.85874757 2.2500124  2.99143114 2.41519464\n  2.43181536 2.90779324 1.54814589 3.22281272]]\n"
     ]
    }
   ],
   "source": [
    "#A = np.array([[25, 15, -5, -10], [15, 10, 1, -7], [-5, 1, 21, 4], [-10, -7, 4, 18]])\n",
    "n = 10\n",
    "A = random_squared_matrix_cholesky(n)\n",
    "(case, msg) = validate_matrix(A)\n",
    "if case :\n",
    "    L = cholesky(A)\n",
    "    LT = L.T\n",
    "    print(\"A: \\n\", A)\n",
    "    print(\"L: \\n\", L)\n",
    "    print(\"LT: \\n\", LT)\n",
    "    print(\"L*LT: \\n\", L.dot(LT))\n",
    "else:\n",
    "    print(msg)"
   ]
  },
  {
   "cell_type": "code",
   "execution_count": 129,
   "metadata": {},
   "outputs": [],
   "source": [
    "def cholesky(A):\n",
    "    L = np.zeros((len(A), len(A)))\n",
    "    L[:,0] = A[:,0] / sqrt(A[0][0])\n",
    "    for i in range(0, len(L)):\n",
    "        for j in range(0, len(L[0])):\n",
    "            if j < i or j == i:\n",
    "                if j == i:\n",
    "                    s = 0\n",
    "                    for k in range(0, i):\n",
    "                        s += L[j][k] ** 2\n",
    "                    L[i][j] = sqrt(A[i][j] - s)\n",
    "                else:\n",
    "                    s = 0\n",
    "                    for k in range(0, j):\n",
    "                            s += L[i][k] * L[j][k]\n",
    "                    L[i][j] = (1 / L[j][j]) * (A[i][j] - s)\n",
    "    return L"
   ]
  },
  {
   "cell_type": "code",
   "execution_count": null,
   "metadata": {},
   "outputs": [],
   "source": []
  }
 ]
}