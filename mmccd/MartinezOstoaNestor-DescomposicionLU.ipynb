{
 "metadata": {
  "language_info": {
   "codemirror_mode": {
    "name": "ipython",
    "version": 3
   },
   "file_extension": ".py",
   "mimetype": "text/x-python",
   "name": "python",
   "nbconvert_exporter": "python",
   "pygments_lexer": "ipython3",
   "version": "3.8.5-final"
  },
  "orig_nbformat": 2,
  "kernelspec": {
   "name": "Python 3.8.5 64-bit",
   "display_name": "Python 3.8.5 64-bit",
   "metadata": {
    "interpreter": {
     "hash": "1ee38ef4a5a9feb55287fd749643f13d043cb0a7addaab2a9c224cbe137c0062"
    }
   }
  }
 },
 "nbformat": 4,
 "nbformat_minor": 2,
 "cells": [
  {
   "source": [
    "# Descomposición LU\n",
    "### Métodos Matemáticos Computacionales para Ciencia de Datos\n",
    "*Martínez Ostoa Néstor Iván*\n",
    "\n",
    "Descomposición LU por los métodos de *Doolittle-Crout* y *Cholesky*"
   ],
   "cell_type": "markdown",
   "metadata": {}
  },
  {
   "cell_type": "code",
   "execution_count": 5,
   "metadata": {},
   "outputs": [],
   "source": [
    "import numpy as np"
   ]
  },
  {
   "source": [
    "## Doolittle - Crout\n",
    "Supongamos una matriz $A$ de dimensiones $nxn$ a la podemos descomponer en dos matrices $LU$: $A = LU$\n",
    "\n",
    "$u_{ij} = \\frac{a_{ij}}{l_{11}}$\n",
    "\n",
    "$l_{i1} = \\frac{a_{i1}}{u_{11}}$\n",
    "\n",
    "$u_{ij} = \\frac{1}{l_{ii}}(a_{ij} - \\sum^{i-1}_{k=1}l_{ik}u_{kj})$\n",
    "\n",
    "$l_{ji} = \\frac{1}{u_{ii}}(a_{ji} - \\sum^{i-1}_{k=1}l_{jk}u_{ki})$"
   ],
   "cell_type": "markdown",
   "metadata": {}
  },
  {
   "cell_type": "code",
   "execution_count": null,
   "metadata": {},
   "outputs": [],
   "source": []
  },
  {
   "source": [
    "## Choleski\n",
    "Supongamos la misma matriz $A$ de dimensiones $nxn$, para este método la podemos descomponer de la siguiente manera: $A = LL^T$\n",
    "\n",
    "$l_{11} = \\sqrt a_{11}$\n",
    "\n",
    "$l_{j1} = \\frac{a_{j1}}{l_{11}}$\n",
    "\n",
    "$l_{ii} = \\sqrt{a_{ii} - \\sum^{i-1}_{k = 1}l_{ik}^2}$\n",
    "\n",
    "$l_{ji} = \\frac{1}{l_{ii}}(a_{ji} - \\sum^{i-1}_{k=1}l_{jk}l_{ik})$\n"
   ],
   "cell_type": "markdown",
   "metadata": {}
  },
  {
   "cell_type": "code",
   "execution_count": null,
   "metadata": {},
   "outputs": [],
   "source": []
  }
 ]
}