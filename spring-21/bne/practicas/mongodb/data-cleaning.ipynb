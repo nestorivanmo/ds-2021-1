{
 "metadata": {
  "language_info": {
   "codemirror_mode": {
    "name": "ipython",
    "version": 3
   },
   "file_extension": ".py",
   "mimetype": "text/x-python",
   "name": "python",
   "nbconvert_exporter": "python",
   "pygments_lexer": "ipython3",
   "version": "3.9.2"
  },
  "orig_nbformat": 2,
  "kernelspec": {
   "name": "python392jvsc74a57bd0aee8b7b246df8f9039afb4144a1f6fd8d2ca17a180786b69acc140d282b71a49",
   "display_name": "Python 3.9.2 64-bit"
  },
  "metadata": {
   "interpreter": {
    "hash": "aee8b7b246df8f9039afb4144a1f6fd8d2ca17a180786b69acc140d282b71a49"
   }
  }
 },
 "nbformat": 4,
 "nbformat_minor": 2,
 "cells": [
  {
   "source": [
    "# Práctica 3: MongoDB - Limpieza de datos\n",
    "- Martínez Ostoa Néstor Iván\n",
    "- Bases de Datos No Estructuradas, 0600\n",
    "- LCD, IIMAS, UNAM"
   ],
   "cell_type": "markdown",
   "metadata": {}
  },
  {
   "cell_type": "code",
   "execution_count": 11,
   "metadata": {},
   "outputs": [],
   "source": [
    "import pandas as pd\n",
    "import numpy as np\n",
    "import json\n",
    "from mongo_client import MongoDBClient"
   ]
  },
  {
   "source": [
    "## Lectura de datos"
   ],
   "cell_type": "markdown",
   "metadata": {}
  },
  {
   "cell_type": "code",
   "execution_count": 2,
   "metadata": {},
   "outputs": [
    {
     "output_type": "execute_result",
     "data": {
      "text/plain": [
       "   tripduration            starttime             stoptime  start station id  \\\n",
       "0           634  2013-07-01 00:00:00  2013-07-01 00:10:34               164   \n",
       "1          1547  2013-07-01 00:00:02  2013-07-01 00:25:49               388   \n",
       "2           178  2013-07-01 00:01:04  2013-07-01 00:04:02               293   \n",
       "3          1580  2013-07-01 00:01:06  2013-07-01 00:27:26               531   \n",
       "4           757  2013-07-01 00:01:10  2013-07-01 00:13:47               382   \n",
       "\n",
       "        start station name  start station latitude  start station longitude  \\\n",
       "0          E 47 St & 2 Ave               40.753231               -73.970325   \n",
       "1         W 26 St & 10 Ave               40.749718               -74.002950   \n",
       "2    Lafayette St & E 8 St               40.730287               -73.990765   \n",
       "3   Forsyth St & Broome St               40.718939               -73.992663   \n",
       "4  University Pl & E 14 St               40.734927               -73.992005   \n",
       "\n",
       "   end station id         end station name  end station latitude  \\\n",
       "0             504          1 Ave & E 15 St             40.732219   \n",
       "1             459         W 20 St & 11 Ave             40.746745   \n",
       "2             237          E 11 St & 2 Ave             40.730473   \n",
       "3             499       Broadway & W 60 St             40.769155   \n",
       "4             410  Suffolk St & Stanton St             40.720664   \n",
       "\n",
       "   end station longitude  bikeid    usertype birth year  gender  \n",
       "0             -73.981656   16950    Customer         \\N       0  \n",
       "1             -74.007756   19816    Customer         \\N       0  \n",
       "2             -73.986724   14548  Subscriber       1980       2  \n",
       "3             -73.981918   16063    Customer         \\N       0  \n",
       "4             -73.985180   19213  Subscriber       1986       1  "
      ],
      "text/html": "<div>\n<style scoped>\n    .dataframe tbody tr th:only-of-type {\n        vertical-align: middle;\n    }\n\n    .dataframe tbody tr th {\n        vertical-align: top;\n    }\n\n    .dataframe thead th {\n        text-align: right;\n    }\n</style>\n<table border=\"1\" class=\"dataframe\">\n  <thead>\n    <tr style=\"text-align: right;\">\n      <th></th>\n      <th>tripduration</th>\n      <th>starttime</th>\n      <th>stoptime</th>\n      <th>start station id</th>\n      <th>start station name</th>\n      <th>start station latitude</th>\n      <th>start station longitude</th>\n      <th>end station id</th>\n      <th>end station name</th>\n      <th>end station latitude</th>\n      <th>end station longitude</th>\n      <th>bikeid</th>\n      <th>usertype</th>\n      <th>birth year</th>\n      <th>gender</th>\n    </tr>\n  </thead>\n  <tbody>\n    <tr>\n      <th>0</th>\n      <td>634</td>\n      <td>2013-07-01 00:00:00</td>\n      <td>2013-07-01 00:10:34</td>\n      <td>164</td>\n      <td>E 47 St &amp; 2 Ave</td>\n      <td>40.753231</td>\n      <td>-73.970325</td>\n      <td>504</td>\n      <td>1 Ave &amp; E 15 St</td>\n      <td>40.732219</td>\n      <td>-73.981656</td>\n      <td>16950</td>\n      <td>Customer</td>\n      <td>\\N</td>\n      <td>0</td>\n    </tr>\n    <tr>\n      <th>1</th>\n      <td>1547</td>\n      <td>2013-07-01 00:00:02</td>\n      <td>2013-07-01 00:25:49</td>\n      <td>388</td>\n      <td>W 26 St &amp; 10 Ave</td>\n      <td>40.749718</td>\n      <td>-74.002950</td>\n      <td>459</td>\n      <td>W 20 St &amp; 11 Ave</td>\n      <td>40.746745</td>\n      <td>-74.007756</td>\n      <td>19816</td>\n      <td>Customer</td>\n      <td>\\N</td>\n      <td>0</td>\n    </tr>\n    <tr>\n      <th>2</th>\n      <td>178</td>\n      <td>2013-07-01 00:01:04</td>\n      <td>2013-07-01 00:04:02</td>\n      <td>293</td>\n      <td>Lafayette St &amp; E 8 St</td>\n      <td>40.730287</td>\n      <td>-73.990765</td>\n      <td>237</td>\n      <td>E 11 St &amp; 2 Ave</td>\n      <td>40.730473</td>\n      <td>-73.986724</td>\n      <td>14548</td>\n      <td>Subscriber</td>\n      <td>1980</td>\n      <td>2</td>\n    </tr>\n    <tr>\n      <th>3</th>\n      <td>1580</td>\n      <td>2013-07-01 00:01:06</td>\n      <td>2013-07-01 00:27:26</td>\n      <td>531</td>\n      <td>Forsyth St &amp; Broome St</td>\n      <td>40.718939</td>\n      <td>-73.992663</td>\n      <td>499</td>\n      <td>Broadway &amp; W 60 St</td>\n      <td>40.769155</td>\n      <td>-73.981918</td>\n      <td>16063</td>\n      <td>Customer</td>\n      <td>\\N</td>\n      <td>0</td>\n    </tr>\n    <tr>\n      <th>4</th>\n      <td>757</td>\n      <td>2013-07-01 00:01:10</td>\n      <td>2013-07-01 00:13:47</td>\n      <td>382</td>\n      <td>University Pl &amp; E 14 St</td>\n      <td>40.734927</td>\n      <td>-73.992005</td>\n      <td>410</td>\n      <td>Suffolk St &amp; Stanton St</td>\n      <td>40.720664</td>\n      <td>-73.985180</td>\n      <td>19213</td>\n      <td>Subscriber</td>\n      <td>1986</td>\n      <td>1</td>\n    </tr>\n  </tbody>\n</table>\n</div>"
     },
     "metadata": {},
     "execution_count": 2
    }
   ],
   "source": [
    "base_path = 'citybike-data/'\n",
    "df = pd.read_csv(base_path + '1.csv')\n",
    "df.head()"
   ]
  },
  {
   "source": [
    "## Verificación de estaciones\n",
    "\n",
    "Verificamos que las estaciones de origen y destino sean las mismas"
   ],
   "cell_type": "markdown",
   "metadata": {}
  },
  {
   "cell_type": "code",
   "execution_count": 3,
   "metadata": {},
   "outputs": [
    {
     "output_type": "stream",
     "name": "stdout",
     "text": [
      "True\n",
      "True\n",
      "True\n",
      "True\n",
      "True\n",
      "True\n",
      "True\n",
      "True\n"
     ]
    }
   ],
   "source": [
    "for i in range(1,9):\n",
    "    df = pd.read_csv(base_path + str(i) + '.csv')\n",
    "    start_ids = sorted(df['start station id'].unique())\n",
    "    end_ids = sorted(df['end station id'].unique())\n",
    "    print(start_ids == end_ids)"
   ]
  },
  {
   "source": [
    "## Escritura de estaciones de bicicletas"
   ],
   "cell_type": "markdown",
   "metadata": {}
  },
  {
   "cell_type": "code",
   "execution_count": 4,
   "metadata": {
    "tags": []
   },
   "outputs": [],
   "source": [
    "bike_ids = df['start station id'].unique()\n",
    "ids = []\n",
    "names = []\n",
    "lats = []\n",
    "lons = []\n",
    "for id in bike_ids:\n",
    "    row = df[df['start station id'] == id].iloc[0, [3,4,5,6]]\n",
    "    ids.append(row[0])\n",
    "    names.append(row[1])\n",
    "    lats.append(row[2])\n",
    "    lons.append(row[3])\n",
    "bike_stations = pd.DataFrame(\n",
    "    {'id': ids, 'bs_name': names, 'latitude':lats, 'longitude':lons}\n",
    ")"
   ]
  },
  {
   "cell_type": "code",
   "execution_count": 5,
   "metadata": {},
   "outputs": [
    {
     "output_type": "execute_result",
     "data": {
      "text/plain": [
       "       id                  bs_name   latitude  longitude\n",
       "0     294      Washington Square E  40.730494 -73.995721\n",
       "1     285       Broadway & E 14 St  40.734546 -73.990741\n",
       "2     247   Perry St & Bleecker St  40.735354 -74.004831\n",
       "3     357       E 11 St & Broadway  40.732618 -73.991580\n",
       "4     401  Allen St & Rivington St  40.720196 -73.989978\n",
       "..    ...                      ...        ...        ...\n",
       "324  2001      7 Ave & Farragut St  40.698921 -73.973330\n",
       "325   533       Broadway & W 39 St  40.752996 -73.987216\n",
       "326   362       Broadway & W 37 St  40.751726 -73.987535\n",
       "327   267       Broadway & W 36 St  40.750977 -73.987654\n",
       "328   320   Church St & Leonard St  40.717440 -74.005835\n",
       "\n",
       "[329 rows x 4 columns]"
      ],
      "text/html": "<div>\n<style scoped>\n    .dataframe tbody tr th:only-of-type {\n        vertical-align: middle;\n    }\n\n    .dataframe tbody tr th {\n        vertical-align: top;\n    }\n\n    .dataframe thead th {\n        text-align: right;\n    }\n</style>\n<table border=\"1\" class=\"dataframe\">\n  <thead>\n    <tr style=\"text-align: right;\">\n      <th></th>\n      <th>id</th>\n      <th>bs_name</th>\n      <th>latitude</th>\n      <th>longitude</th>\n    </tr>\n  </thead>\n  <tbody>\n    <tr>\n      <th>0</th>\n      <td>294</td>\n      <td>Washington Square E</td>\n      <td>40.730494</td>\n      <td>-73.995721</td>\n    </tr>\n    <tr>\n      <th>1</th>\n      <td>285</td>\n      <td>Broadway &amp; E 14 St</td>\n      <td>40.734546</td>\n      <td>-73.990741</td>\n    </tr>\n    <tr>\n      <th>2</th>\n      <td>247</td>\n      <td>Perry St &amp; Bleecker St</td>\n      <td>40.735354</td>\n      <td>-74.004831</td>\n    </tr>\n    <tr>\n      <th>3</th>\n      <td>357</td>\n      <td>E 11 St &amp; Broadway</td>\n      <td>40.732618</td>\n      <td>-73.991580</td>\n    </tr>\n    <tr>\n      <th>4</th>\n      <td>401</td>\n      <td>Allen St &amp; Rivington St</td>\n      <td>40.720196</td>\n      <td>-73.989978</td>\n    </tr>\n    <tr>\n      <th>...</th>\n      <td>...</td>\n      <td>...</td>\n      <td>...</td>\n      <td>...</td>\n    </tr>\n    <tr>\n      <th>324</th>\n      <td>2001</td>\n      <td>7 Ave &amp; Farragut St</td>\n      <td>40.698921</td>\n      <td>-73.973330</td>\n    </tr>\n    <tr>\n      <th>325</th>\n      <td>533</td>\n      <td>Broadway &amp; W 39 St</td>\n      <td>40.752996</td>\n      <td>-73.987216</td>\n    </tr>\n    <tr>\n      <th>326</th>\n      <td>362</td>\n      <td>Broadway &amp; W 37 St</td>\n      <td>40.751726</td>\n      <td>-73.987535</td>\n    </tr>\n    <tr>\n      <th>327</th>\n      <td>267</td>\n      <td>Broadway &amp; W 36 St</td>\n      <td>40.750977</td>\n      <td>-73.987654</td>\n    </tr>\n    <tr>\n      <th>328</th>\n      <td>320</td>\n      <td>Church St &amp; Leonard St</td>\n      <td>40.717440</td>\n      <td>-74.005835</td>\n    </tr>\n  </tbody>\n</table>\n<p>329 rows × 4 columns</p>\n</div>"
     },
     "metadata": {},
     "execution_count": 5
    }
   ],
   "source": [
    "bike_stations"
   ]
  },
  {
   "cell_type": "code",
   "execution_count": 6,
   "metadata": {
    "tags": []
   },
   "outputs": [],
   "source": [
    "f = open(base_path + \"bike_stations.json\", \"w\")\n",
    "for _, row in bike_stations.iterrows():\n",
    "    bd = {\n",
    "        'loc': {\n",
    "            'coordinates': [row.longitude, row.latitude],\n",
    "            'type':'Point'\n",
    "        },\n",
    "        'name': row.bs_name,\n",
    "        'id': row.id\n",
    "    }\n",
    "    f.write(json.dumps(bd) + '\\n')\n",
    "f.close()"
   ]
  },
  {
   "source": [
    "## Escritura y limpieza de datos de viajes"
   ],
   "cell_type": "markdown",
   "metadata": {}
  },
  {
   "cell_type": "code",
   "execution_count": 4,
   "metadata": {},
   "outputs": [],
   "source": [
    "def transform_df(df):\n",
    "    df = df.rename(columns={\n",
    "        'tripduration':'trip_duration',\n",
    "        'starttime':'start_time',\n",
    "        'stoptime':'stop_time',\n",
    "        'start station id': 'start_station_id',\n",
    "        'end station id': 'end_station_id'\n",
    "    })\n",
    "    return df.loc[:, ['trip_duration', 'start_time', 'stop_time', 'start_station_id', 'end_station_id']]"
   ]
  },
  {
   "cell_type": "code",
   "execution_count": 3,
   "metadata": {},
   "outputs": [],
   "source": [
    "# Escritura\n",
    "base_path = 'citybike-data/'\n",
    "for i in range(1, 9):\n",
    "    df = pd.read_csv(base_path + f\"{i}.csv\")\n",
    "    df = transform_df(df)    \n",
    "    df.to_json(base_path + f\"{i}.json\", orient='records', lines=True)"
   ]
  },
  {
   "source": [
    "## Simulación de viajes"
   ],
   "cell_type": "markdown",
   "metadata": {}
  },
  {
   "cell_type": "code",
   "execution_count": 12,
   "metadata": {},
   "outputs": [
    {
     "output_type": "stream",
     "name": "stdout",
     "text": [
      "5562321 registros\n"
     ]
    }
   ],
   "source": [
    "base_path = 'citybike-data/'\n",
    "df = transform_df(pd.read_csv(base_path + '1.csv'))\n",
    "for i in range(2, 9):\n",
    "    temp = pd.read_csv(base_path + f\"{i}.csv\")\n",
    "    temp = transform_df(temp)\n",
    "    df = pd.concat([df, temp])\n",
    "print(str(df.shape[0]) + ' registros')"
   ]
  },
  {
   "cell_type": "code",
   "execution_count": 9,
   "metadata": {},
   "outputs": [],
   "source": [
    "client = MongoDBClient(db_name='citi-bike')"
   ]
  },
  {
   "cell_type": "code",
   "execution_count": 14,
   "metadata": {},
   "outputs": [],
   "source": [
    "# Empezando desde la biblioteca Stephen A. Schwarzman de NY\n",
    "time = 30\n",
    "latitude = 40.75350713285891\n",
    "longitude = -73.98233520342376\n",
    "#round_trip = False\n",
    "#time_of_query ="
   ]
  },
  {
   "cell_type": "code",
   "execution_count": null,
   "metadata": {},
   "outputs": [],
   "source": [
    "class BikeStation:\n",
    "    def __init__(self, bike_station_id, name, latitude, longitude):\n",
    "        self.bike_station_id = bike_station_id\n",
    "        self.name = name\n",
    "        self.latitude = latitude\n",
    "        self.longitude = longitude"
   ]
  },
  {
   "cell_type": "code",
   "execution_count": 30,
   "metadata": {},
   "outputs": [],
   "source": [
    "def find_nearest_station(lat, lon):\n",
    "    stations = client.db['stations']\n",
    "    result = stations.aggregate([\n",
    "        {\n",
    "            \"$geoNear\": {\n",
    "                \"near\": {\"type\":\"Point\", \"coordinates\": [lon, lat]},\n",
    "                \"key\": \"loc\",\n",
    "                \"distanceField\":\"dist\",\n",
    "                \"spherical\":True\n",
    "            }\n",
    "        },\n",
    "        {\"$limit\":10}\n",
    "    ])\n",
    "    return result"
   ]
  },
  {
   "cell_type": "code",
   "execution_count": 32,
   "metadata": {},
   "outputs": [
    {
     "output_type": "stream",
     "name": "stdout",
     "text": [
      "{'_id': ObjectId('60b3e3a8d16447115b91e01e'), 'loc': {'coordinates': [-73.9816324043, 40.752062306999996], 'type': 'Point'}, 'name': 'E 40 St & 5 Ave', 'id': 153, 'dist': 0.0}\n{'_id': ObjectId('60b3e3a8d16447115b91df4c'), 'loc': {'coordinates': [-73.98338988, 40.75038009], 'type': 'Point'}, 'name': 'W 37 St & 5 Ave', 'id': 485, 'dist': 238.81512690970024}\n{'_id': ObjectId('60b3e3a8d16447115b91df8c'), 'loc': {'coordinates': [-73.97798848, 40.75149263], 'type': 'Point'}, 'name': 'Pershing Square S', 'id': 517, 'dist': 313.76390823537673}\n{'_id': ObjectId('60b3e3a8d16447115b91df52'), 'loc': {'coordinates': [-73.97770164, 40.75188406], 'type': 'Point'}, 'name': 'Pershing Square N', 'id': 519, 'dist': 332.06981536259127}\n{'_id': ObjectId('60b3e3a8d16447115b91dfea'), 'loc': {'coordinates': [-73.9779874, 40.75320159], 'type': 'Point'}, 'name': 'E 43 St & Vanderbilt Ave', 'id': 318, 'dist': 332.5116894421663}\n{'_id': ObjectId('60b3e3a8d16447115b91dff8'), 'loc': {'coordinates': [-73.98014437, 40.75500254], 'type': 'Point'}, 'name': 'W 44 St & 5 Ave', 'id': 484, 'dist': 350.5324433309204}\n{'_id': ObjectId('60b3e3a8d16447115b91dfbb'), 'loc': {'coordinates': [-73.98316936, 40.75527307], 'type': 'Point'}, 'name': 'W 43 St & 6 Ave', 'id': 524, 'dist': 380.1916830345946}\n{'_id': ObjectId('60b3e3a8d16447115b91e037'), 'loc': {'coordinates': [-73.98721619, 40.75299641], 'type': 'Point'}, 'name': 'Broadway & W 39 St', 'id': 533, 'dist': 482.2145337897064}\n{'_id': ObjectId('60b3e3a8d16447115b91e038'), 'loc': {'coordinates': [-73.98753523, 40.75172632], 'type': 'Point'}, 'name': 'Broadway & W 37 St', 'id': 362, 'dist': 499.18169323474956}\n{'_id': ObjectId('60b3e3a8d16447115b91dfb8'), 'loc': {'coordinates': [-73.978311, 40.748238], 'type': 'Point'}, 'name': 'E 37 St & Lexington Ave', 'id': 160, 'dist': 509.5978690348879}\n"
     ]
    }
   ],
   "source": [
    "for s in find_nearest_station(40.752062306999996,-73.9816324043):\n",
    "    print(s)"
   ]
  }
 ]
}