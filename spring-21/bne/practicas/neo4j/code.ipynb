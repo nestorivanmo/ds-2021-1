{
 "metadata": {
  "language_info": {
   "codemirror_mode": {
    "name": "ipython",
    "version": 3
   },
   "file_extension": ".py",
   "mimetype": "text/x-python",
   "name": "python",
   "nbconvert_exporter": "python",
   "pygments_lexer": "ipython3",
   "version": "3.8.8"
  },
  "orig_nbformat": 4,
  "kernelspec": {
   "name": "python3",
   "display_name": "Python 3.8.8 64-bit ('python@3.8')"
  },
  "interpreter": {
   "hash": "1ee38ef4a5a9feb55287fd749643f13d043cb0a7addaab2a9c224cbe137c0062"
  }
 },
 "nbformat": 4,
 "nbformat_minor": 2,
 "cells": [
  {
   "source": [
    "# Práctica Neo4j\n",
    "- Martínez Ostoa Néstor Iván \n",
    "- Bases de Datos No Estructuradas\n",
    "- LCD \n",
    "- IIMAS, UNAM"
   ],
   "cell_type": "markdown",
   "metadata": {}
  },
  {
   "cell_type": "code",
   "execution_count": 3,
   "metadata": {},
   "outputs": [],
   "source": [
    "import pandas as pd\n",
    "import numpy as np\n",
    "import re"
   ]
  },
  {
   "cell_type": "code",
   "execution_count": 4,
   "metadata": {},
   "outputs": [
    {
     "output_type": "stream",
     "name": "stdout",
     "text": [
      "(31214, 13)\nIndex(['ANIO', 'UNIDAD_ADMINISTRATIVA', 'NUMERO_EXPEDIENTE', 'FECHA_VISITA',\n       'NOM_VERIFICADA', 'TIPO_PRODUCTO', 'DESCRIPCION_PRODUCTO',\n       'RAZON_SOCIAL', 'GIRO_COMERCIAL', 'MUNICIPIO', 'ENTIDAD',\n       'INCUMPLIMIENTO', 'RESULTADO'],\n      dtype='object')\n"
     ]
    },
    {
     "output_type": "execute_result",
     "data": {
      "text/plain": [
       "   ANIO UNIDAD_ADMINISTRATIVA NUMERO_EXPEDIENTE FECHA_VISITA  \\\n",
       "0  2015        AGUASCALIENTES   702/000009/2015   2015-01-05   \n",
       "1  2015        AGUASCALIENTES   702/000012/2015   2015-01-06   \n",
       "2  2015        AGUASCALIENTES   702/000132/2015   2015-02-12   \n",
       "3  2015        AGUASCALIENTES   702/000133/2015   2015-02-12   \n",
       "4  2015        AGUASCALIENTES   702/000134/2015   2015-02-12   \n",
       "\n",
       "      NOM_VERIFICADA   TIPO_PRODUCTO  \\\n",
       "0  NOM-015-SCFI-2007         MU�ECOS   \n",
       "1  NOM-004-SCFI-2006  ROPA CABALLERO   \n",
       "2  NOM-142-SSA1-1995          BRANDY   \n",
       "3  NOM-142-SSA1-1995          BRANDY   \n",
       "4  NOM-142-SSA1-1995          BRANDY   \n",
       "\n",
       "                                DESCRIPCION_PRODUCTO  \\\n",
       "0  EN EMPAQUE DE CARTON ESTAMPADO Y PLASTICO RIGI...   \n",
       "1  CAMISA PARA CABALLERO EN COLOR AZUL MARINO DE ...   \n",
       "2  UNA BOTELLA BRANDY DE LA MARCA TORRES 10 CON L...   \n",
       "3  ENVASE DE VIDRIO CONTENIDO BRANDY DE LA MARCA ...   \n",
       "4  BOTELLA DE VIDRIO CONTENIDO BRANDY 100% UVA GR...   \n",
       "\n",
       "                                        RAZON_SOCIAL        GIRO_COMERCIAL  \\\n",
       "0              JULIO CEPEDA JUGUETERIAS S.A. DE C.V.            JUGUETERIA   \n",
       "1                           C&A DE MEXICO S. DE R.L.  TIENDA DEPARTAMENTAL   \n",
       "2                             ASFEIXAS  S.A. DE C.V.                 MOTEL   \n",
       "3     MOTEL VILLA MIRO- MIRO HOTELERIA  S.A. DE C.V.                 MOTEL   \n",
       "4  MOTEL LUA- COMPA�IA HOTELERA PESCADORES  S.A. ...                 MOTEL   \n",
       "\n",
       "        MUNICIPIO         ENTIDAD                INCUMPLIMIENTO  \\\n",
       "0  AGUASCALIENTES  AGUASCALIENTES  NO SE DETECTO INCUMPLIMIENTO   \n",
       "1  AGUASCALIENTES  AGUASCALIENTES  NO SE DETECTO INCUMPLIMIENTO   \n",
       "2  AGUASCALIENTES  AGUASCALIENTES  NO SE DETECTO INCUMPLIMIENTO   \n",
       "3  AGUASCALIENTES  AGUASCALIENTES  NO SE DETECTO INCUMPLIMIENTO   \n",
       "4  AGUASCALIENTES  AGUASCALIENTES  NO SE DETECTO INCUMPLIMIENTO   \n",
       "\n",
       "         RESULTADO  \n",
       "0  VISITA CORRECTA  \n",
       "1  VISITA CORRECTA  \n",
       "2  VISITA CORRECTA  \n",
       "3  VISITA CORRECTA  \n",
       "4  VISITA CORRECTA  "
      ],
      "text/html": "<div>\n<style scoped>\n    .dataframe tbody tr th:only-of-type {\n        vertical-align: middle;\n    }\n\n    .dataframe tbody tr th {\n        vertical-align: top;\n    }\n\n    .dataframe thead th {\n        text-align: right;\n    }\n</style>\n<table border=\"1\" class=\"dataframe\">\n  <thead>\n    <tr style=\"text-align: right;\">\n      <th></th>\n      <th>ANIO</th>\n      <th>UNIDAD_ADMINISTRATIVA</th>\n      <th>NUMERO_EXPEDIENTE</th>\n      <th>FECHA_VISITA</th>\n      <th>NOM_VERIFICADA</th>\n      <th>TIPO_PRODUCTO</th>\n      <th>DESCRIPCION_PRODUCTO</th>\n      <th>RAZON_SOCIAL</th>\n      <th>GIRO_COMERCIAL</th>\n      <th>MUNICIPIO</th>\n      <th>ENTIDAD</th>\n      <th>INCUMPLIMIENTO</th>\n      <th>RESULTADO</th>\n    </tr>\n  </thead>\n  <tbody>\n    <tr>\n      <th>0</th>\n      <td>2015</td>\n      <td>AGUASCALIENTES</td>\n      <td>702/000009/2015</td>\n      <td>2015-01-05</td>\n      <td>NOM-015-SCFI-2007</td>\n      <td>MU�ECOS</td>\n      <td>EN EMPAQUE DE CARTON ESTAMPADO Y PLASTICO RIGI...</td>\n      <td>JULIO CEPEDA JUGUETERIAS S.A. DE C.V.</td>\n      <td>JUGUETERIA</td>\n      <td>AGUASCALIENTES</td>\n      <td>AGUASCALIENTES</td>\n      <td>NO SE DETECTO INCUMPLIMIENTO</td>\n      <td>VISITA CORRECTA</td>\n    </tr>\n    <tr>\n      <th>1</th>\n      <td>2015</td>\n      <td>AGUASCALIENTES</td>\n      <td>702/000012/2015</td>\n      <td>2015-01-06</td>\n      <td>NOM-004-SCFI-2006</td>\n      <td>ROPA CABALLERO</td>\n      <td>CAMISA PARA CABALLERO EN COLOR AZUL MARINO DE ...</td>\n      <td>C&amp;A DE MEXICO S. DE R.L.</td>\n      <td>TIENDA DEPARTAMENTAL</td>\n      <td>AGUASCALIENTES</td>\n      <td>AGUASCALIENTES</td>\n      <td>NO SE DETECTO INCUMPLIMIENTO</td>\n      <td>VISITA CORRECTA</td>\n    </tr>\n    <tr>\n      <th>2</th>\n      <td>2015</td>\n      <td>AGUASCALIENTES</td>\n      <td>702/000132/2015</td>\n      <td>2015-02-12</td>\n      <td>NOM-142-SSA1-1995</td>\n      <td>BRANDY</td>\n      <td>UNA BOTELLA BRANDY DE LA MARCA TORRES 10 CON L...</td>\n      <td>ASFEIXAS  S.A. DE C.V.</td>\n      <td>MOTEL</td>\n      <td>AGUASCALIENTES</td>\n      <td>AGUASCALIENTES</td>\n      <td>NO SE DETECTO INCUMPLIMIENTO</td>\n      <td>VISITA CORRECTA</td>\n    </tr>\n    <tr>\n      <th>3</th>\n      <td>2015</td>\n      <td>AGUASCALIENTES</td>\n      <td>702/000133/2015</td>\n      <td>2015-02-12</td>\n      <td>NOM-142-SSA1-1995</td>\n      <td>BRANDY</td>\n      <td>ENVASE DE VIDRIO CONTENIDO BRANDY DE LA MARCA ...</td>\n      <td>MOTEL VILLA MIRO- MIRO HOTELERIA  S.A. DE C.V.</td>\n      <td>MOTEL</td>\n      <td>AGUASCALIENTES</td>\n      <td>AGUASCALIENTES</td>\n      <td>NO SE DETECTO INCUMPLIMIENTO</td>\n      <td>VISITA CORRECTA</td>\n    </tr>\n    <tr>\n      <th>4</th>\n      <td>2015</td>\n      <td>AGUASCALIENTES</td>\n      <td>702/000134/2015</td>\n      <td>2015-02-12</td>\n      <td>NOM-142-SSA1-1995</td>\n      <td>BRANDY</td>\n      <td>BOTELLA DE VIDRIO CONTENIDO BRANDY 100% UVA GR...</td>\n      <td>MOTEL LUA- COMPA�IA HOTELERA PESCADORES  S.A. ...</td>\n      <td>MOTEL</td>\n      <td>AGUASCALIENTES</td>\n      <td>AGUASCALIENTES</td>\n      <td>NO SE DETECTO INCUMPLIMIENTO</td>\n      <td>VISITA CORRECTA</td>\n    </tr>\n  </tbody>\n</table>\n</div>"
     },
     "metadata": {},
     "execution_count": 4
    }
   ],
   "source": [
    "products_df = pd.read_csv('data/visitas_profeco.csv')\n",
    "print(products_df.shape)\n",
    "print(products_df.columns)\n",
    "products_df.head()"
   ]
  },
  {
   "cell_type": "code",
   "execution_count": 5,
   "metadata": {},
   "outputs": [
    {
     "output_type": "stream",
     "name": "stdout",
     "text": [
      "<class 'pandas.core.frame.DataFrame'>\nRangeIndex: 31214 entries, 0 to 31213\nData columns (total 13 columns):\n #   Column                 Non-Null Count  Dtype \n---  ------                 --------------  ----- \n 0   ANIO                   31214 non-null  int64 \n 1   UNIDAD_ADMINISTRATIVA  31214 non-null  object\n 2   NUMERO_EXPEDIENTE      31214 non-null  object\n 3   FECHA_VISITA           31214 non-null  object\n 4   NOM_VERIFICADA         31214 non-null  object\n 5   TIPO_PRODUCTO          31214 non-null  object\n 6   DESCRIPCION_PRODUCTO   31214 non-null  object\n 7   RAZON_SOCIAL           31214 non-null  object\n 8   GIRO_COMERCIAL         31214 non-null  object\n 9   MUNICIPIO              31214 non-null  object\n 10  ENTIDAD                31214 non-null  object\n 11  INCUMPLIMIENTO         31214 non-null  object\n 12  RESULTADO              31214 non-null  object\ndtypes: int64(1), object(12)\nmemory usage: 3.1+ MB\n"
     ]
    }
   ],
   "source": [
    "products_df.info()"
   ]
  },
  {
   "cell_type": "code",
   "execution_count": 6,
   "metadata": {},
   "outputs": [],
   "source": [
    "def analyze_column(col, all=False):\n",
    "    l = products_df[col].unique()\n",
    "    print(f\"Shape: {l.shape}\")\n",
    "    print(\"--------------\")\n",
    "    if l.shape[0] <= 100:\n",
    "        print(l)\n",
    "    else:\n",
    "        if all:\n",
    "            print(l)\n",
    "        else:\n",
    "            print(l[:50])"
   ]
  },
  {
   "cell_type": "code",
   "execution_count": 7,
   "metadata": {},
   "outputs": [
    {
     "output_type": "stream",
     "name": "stdout",
     "text": [
      "Shape: (49,)\n--------------\n['AGUASCALIENTES' 'BAJA CALIFORNIA' 'BAJA CALIFORNIA SUR' 'CAMPECHE'\n 'CENTRO' 'CHIAPAS' 'CHIHUAHUA' 'CHIHUAHUA SUBDELEGACION' 'CIUDAD OBREGON'\n 'COAHUILA' 'COLIMA' 'DIRECCION GENERAL DE VERIFICACION Y VIGILANCIA'\n 'DURANGO' 'ECATEPEC' 'GUANAJUATO' 'GUERRERO' 'HIDALGO' 'IGUALA' 'JALISCO'\n 'MANZANILLO' 'MEXICALI' 'MICHOACAN' 'MORELOS' 'NAUCALPAN' 'NAYARIT'\n 'NEZAHUALCOYOTL' 'NUEVO LEON' 'OAXACA' 'ORIENTE' 'PLAYA DEL CARMEN'\n 'PONIENTE' 'PUEBLA' 'QUERETARO' 'QUINTANA ROO' 'REYNOSA'\n 'SAN LUIS POTOSI' 'SINALOA' 'SONORA' 'SUR' 'TABASCO' 'TAMAULIPAS'\n 'TAPACHULA' 'TLALNEPANTLA' 'TLAXCALA' 'TOLUCA' 'TORREON' 'VERACRUZ'\n 'YUCATAN' 'ZACATECAS']\n"
     ]
    }
   ],
   "source": [
    "analyze_column('UNIDAD_ADMINISTRATIVA')"
   ]
  },
  {
   "source": [
    "## Preprocesamiento\n",
    "- Conversión a catálogos\n",
    "    - Estados\n",
    "    - Tiendas\n",
    "    - Productos\n",
    "    - Relación Productos Tiendas"
   ],
   "cell_type": "markdown",
   "metadata": {}
  },
  {
   "cell_type": "code",
   "execution_count": 8,
   "metadata": {},
   "outputs": [],
   "source": [
    "def clean_string(series):\n",
    "    s = series.astype(str)\n",
    "    s = s.str.strip()\n",
    "    s = s.str.lower()\n",
    "    s = s.replace(' +', ' ', regex=True)\n",
    "    return s"
   ]
  },
  {
   "cell_type": "code",
   "execution_count": 9,
   "metadata": {},
   "outputs": [
    {
     "output_type": "execute_result",
     "data": {
      "text/plain": [
       "   ANIO UNIDAD_ADMINISTRATIVA NUMERO_EXPEDIENTE FECHA_VISITA  \\\n",
       "0  2015        aguascalientes   702/000009/2015   2015-01-05   \n",
       "1  2015        aguascalientes   702/000012/2015   2015-01-06   \n",
       "2  2015        aguascalientes   702/000132/2015   2015-02-12   \n",
       "3  2015        aguascalientes   702/000133/2015   2015-02-12   \n",
       "4  2015        aguascalientes   702/000134/2015   2015-02-12   \n",
       "\n",
       "      NOM_VERIFICADA   TIPO_PRODUCTO  \\\n",
       "0  nom-015-scfi-2007         mu�ecos   \n",
       "1  nom-004-scfi-2006  ropa caballero   \n",
       "2  nom-142-ssa1-1995          brandy   \n",
       "3  nom-142-ssa1-1995          brandy   \n",
       "4  nom-142-ssa1-1995          brandy   \n",
       "\n",
       "                                DESCRIPCION_PRODUCTO  \\\n",
       "0  en empaque de carton estampado y plastico rigi...   \n",
       "1  camisa para caballero en color azul marino de ...   \n",
       "2  una botella brandy de la marca torres 10 con l...   \n",
       "3  envase de vidrio contenido brandy de la marca ...   \n",
       "4  botella de vidrio contenido brandy 100% uva gr...   \n",
       "\n",
       "                                        RAZON_SOCIAL        GIRO_COMERCIAL  \\\n",
       "0              julio cepeda jugueterias s.a. de c.v.            jugueteria   \n",
       "1                           c&a de mexico s. de r.l.  tienda departamental   \n",
       "2                              asfeixas s.a. de c.v.                 motel   \n",
       "3      motel villa miro- miro hoteleria s.a. de c.v.                 motel   \n",
       "4  motel lua- compa�ia hotelera pescadores s.a. d...                 motel   \n",
       "\n",
       "        MUNICIPIO         ENTIDAD                INCUMPLIMIENTO  \\\n",
       "0  aguascalientes  aguascalientes  no se detecto incumplimiento   \n",
       "1  aguascalientes  aguascalientes  no se detecto incumplimiento   \n",
       "2  aguascalientes  aguascalientes  no se detecto incumplimiento   \n",
       "3  aguascalientes  aguascalientes  no se detecto incumplimiento   \n",
       "4  aguascalientes  aguascalientes  no se detecto incumplimiento   \n",
       "\n",
       "         RESULTADO  \n",
       "0  visita correcta  \n",
       "1  visita correcta  \n",
       "2  visita correcta  \n",
       "3  visita correcta  \n",
       "4  visita correcta  "
      ],
      "text/html": "<div>\n<style scoped>\n    .dataframe tbody tr th:only-of-type {\n        vertical-align: middle;\n    }\n\n    .dataframe tbody tr th {\n        vertical-align: top;\n    }\n\n    .dataframe thead th {\n        text-align: right;\n    }\n</style>\n<table border=\"1\" class=\"dataframe\">\n  <thead>\n    <tr style=\"text-align: right;\">\n      <th></th>\n      <th>ANIO</th>\n      <th>UNIDAD_ADMINISTRATIVA</th>\n      <th>NUMERO_EXPEDIENTE</th>\n      <th>FECHA_VISITA</th>\n      <th>NOM_VERIFICADA</th>\n      <th>TIPO_PRODUCTO</th>\n      <th>DESCRIPCION_PRODUCTO</th>\n      <th>RAZON_SOCIAL</th>\n      <th>GIRO_COMERCIAL</th>\n      <th>MUNICIPIO</th>\n      <th>ENTIDAD</th>\n      <th>INCUMPLIMIENTO</th>\n      <th>RESULTADO</th>\n    </tr>\n  </thead>\n  <tbody>\n    <tr>\n      <th>0</th>\n      <td>2015</td>\n      <td>aguascalientes</td>\n      <td>702/000009/2015</td>\n      <td>2015-01-05</td>\n      <td>nom-015-scfi-2007</td>\n      <td>mu�ecos</td>\n      <td>en empaque de carton estampado y plastico rigi...</td>\n      <td>julio cepeda jugueterias s.a. de c.v.</td>\n      <td>jugueteria</td>\n      <td>aguascalientes</td>\n      <td>aguascalientes</td>\n      <td>no se detecto incumplimiento</td>\n      <td>visita correcta</td>\n    </tr>\n    <tr>\n      <th>1</th>\n      <td>2015</td>\n      <td>aguascalientes</td>\n      <td>702/000012/2015</td>\n      <td>2015-01-06</td>\n      <td>nom-004-scfi-2006</td>\n      <td>ropa caballero</td>\n      <td>camisa para caballero en color azul marino de ...</td>\n      <td>c&amp;a de mexico s. de r.l.</td>\n      <td>tienda departamental</td>\n      <td>aguascalientes</td>\n      <td>aguascalientes</td>\n      <td>no se detecto incumplimiento</td>\n      <td>visita correcta</td>\n    </tr>\n    <tr>\n      <th>2</th>\n      <td>2015</td>\n      <td>aguascalientes</td>\n      <td>702/000132/2015</td>\n      <td>2015-02-12</td>\n      <td>nom-142-ssa1-1995</td>\n      <td>brandy</td>\n      <td>una botella brandy de la marca torres 10 con l...</td>\n      <td>asfeixas s.a. de c.v.</td>\n      <td>motel</td>\n      <td>aguascalientes</td>\n      <td>aguascalientes</td>\n      <td>no se detecto incumplimiento</td>\n      <td>visita correcta</td>\n    </tr>\n    <tr>\n      <th>3</th>\n      <td>2015</td>\n      <td>aguascalientes</td>\n      <td>702/000133/2015</td>\n      <td>2015-02-12</td>\n      <td>nom-142-ssa1-1995</td>\n      <td>brandy</td>\n      <td>envase de vidrio contenido brandy de la marca ...</td>\n      <td>motel villa miro- miro hoteleria s.a. de c.v.</td>\n      <td>motel</td>\n      <td>aguascalientes</td>\n      <td>aguascalientes</td>\n      <td>no se detecto incumplimiento</td>\n      <td>visita correcta</td>\n    </tr>\n    <tr>\n      <th>4</th>\n      <td>2015</td>\n      <td>aguascalientes</td>\n      <td>702/000134/2015</td>\n      <td>2015-02-12</td>\n      <td>nom-142-ssa1-1995</td>\n      <td>brandy</td>\n      <td>botella de vidrio contenido brandy 100% uva gr...</td>\n      <td>motel lua- compa�ia hotelera pescadores s.a. d...</td>\n      <td>motel</td>\n      <td>aguascalientes</td>\n      <td>aguascalientes</td>\n      <td>no se detecto incumplimiento</td>\n      <td>visita correcta</td>\n    </tr>\n  </tbody>\n</table>\n</div>"
     },
     "metadata": {},
     "execution_count": 9
    }
   ],
   "source": [
    "products_df = products_df.apply(clean_string, axis=1)\n",
    "products_df.head()"
   ]
  },
  {
   "source": [
    "### Catálogo de estados"
   ],
   "cell_type": "markdown",
   "metadata": {}
  },
  {
   "cell_type": "code",
   "execution_count": 10,
   "metadata": {},
   "outputs": [
    {
     "output_type": "stream",
     "name": "stdout",
     "text": [
      "Número de estados: 32\n"
     ]
    },
    {
     "output_type": "execute_result",
     "data": {
      "text/plain": [
       "   state_id           state_name\n",
       "0         1       aguascalientes\n",
       "1         2      baja california\n",
       "2         3  baja california sur\n",
       "3         4             campeche\n",
       "4         5     distrito federal"
      ],
      "text/html": "<div>\n<style scoped>\n    .dataframe tbody tr th:only-of-type {\n        vertical-align: middle;\n    }\n\n    .dataframe tbody tr th {\n        vertical-align: top;\n    }\n\n    .dataframe thead th {\n        text-align: right;\n    }\n</style>\n<table border=\"1\" class=\"dataframe\">\n  <thead>\n    <tr style=\"text-align: right;\">\n      <th></th>\n      <th>state_id</th>\n      <th>state_name</th>\n    </tr>\n  </thead>\n  <tbody>\n    <tr>\n      <th>0</th>\n      <td>1</td>\n      <td>aguascalientes</td>\n    </tr>\n    <tr>\n      <th>1</th>\n      <td>2</td>\n      <td>baja california</td>\n    </tr>\n    <tr>\n      <th>2</th>\n      <td>3</td>\n      <td>baja california sur</td>\n    </tr>\n    <tr>\n      <th>3</th>\n      <td>4</td>\n      <td>campeche</td>\n    </tr>\n    <tr>\n      <th>4</th>\n      <td>5</td>\n      <td>distrito federal</td>\n    </tr>\n  </tbody>\n</table>\n</div>"
     },
     "metadata": {},
     "execution_count": 10
    }
   ],
   "source": [
    "states_df = pd.DataFrame({'state_name':products_df['ENTIDAD'].unique()})\n",
    "states_df['state_id'] = list(range(1, states_df.shape[0]+1))\n",
    "states_df = states_df[['state_id', 'state_name']]\n",
    "states_df.to_csv('data/states.csv', index=False)\n",
    "print(f'Número de estados: {states_df.shape[0]}')\n",
    "states_df.head()"
   ]
  },
  {
   "source": [
    "### Catálogo de tiendas"
   ],
   "cell_type": "markdown",
   "metadata": {}
  },
  {
   "cell_type": "code",
   "execution_count": 11,
   "metadata": {},
   "outputs": [
    {
     "output_type": "execute_result",
     "data": {
      "text/plain": [
       "                                        RAZON_SOCIAL        GIRO_COMERCIAL  \\\n",
       "0              julio cepeda jugueterias s.a. de c.v.            jugueteria   \n",
       "1                           c&a de mexico s. de r.l.  tienda departamental   \n",
       "2                              asfeixas s.a. de c.v.                 motel   \n",
       "3      motel villa miro- miro hoteleria s.a. de c.v.                 motel   \n",
       "4  motel lua- compa�ia hotelera pescadores s.a. d...                 motel   \n",
       "\n",
       "        MUNICIPIO         ENTIDAD                INCUMPLIMIENTO  \\\n",
       "0  aguascalientes  aguascalientes  no se detecto incumplimiento   \n",
       "1  aguascalientes  aguascalientes  no se detecto incumplimiento   \n",
       "2  aguascalientes  aguascalientes  no se detecto incumplimiento   \n",
       "3  aguascalientes  aguascalientes  no se detecto incumplimiento   \n",
       "4  aguascalientes  aguascalientes  no se detecto incumplimiento   \n",
       "\n",
       "         RESULTADO  \n",
       "0  visita correcta  \n",
       "1  visita correcta  \n",
       "2  visita correcta  \n",
       "3  visita correcta  \n",
       "4  visita correcta  "
      ],
      "text/html": "<div>\n<style scoped>\n    .dataframe tbody tr th:only-of-type {\n        vertical-align: middle;\n    }\n\n    .dataframe tbody tr th {\n        vertical-align: top;\n    }\n\n    .dataframe thead th {\n        text-align: right;\n    }\n</style>\n<table border=\"1\" class=\"dataframe\">\n  <thead>\n    <tr style=\"text-align: right;\">\n      <th></th>\n      <th>RAZON_SOCIAL</th>\n      <th>GIRO_COMERCIAL</th>\n      <th>MUNICIPIO</th>\n      <th>ENTIDAD</th>\n      <th>INCUMPLIMIENTO</th>\n      <th>RESULTADO</th>\n    </tr>\n  </thead>\n  <tbody>\n    <tr>\n      <th>0</th>\n      <td>julio cepeda jugueterias s.a. de c.v.</td>\n      <td>jugueteria</td>\n      <td>aguascalientes</td>\n      <td>aguascalientes</td>\n      <td>no se detecto incumplimiento</td>\n      <td>visita correcta</td>\n    </tr>\n    <tr>\n      <th>1</th>\n      <td>c&amp;a de mexico s. de r.l.</td>\n      <td>tienda departamental</td>\n      <td>aguascalientes</td>\n      <td>aguascalientes</td>\n      <td>no se detecto incumplimiento</td>\n      <td>visita correcta</td>\n    </tr>\n    <tr>\n      <th>2</th>\n      <td>asfeixas s.a. de c.v.</td>\n      <td>motel</td>\n      <td>aguascalientes</td>\n      <td>aguascalientes</td>\n      <td>no se detecto incumplimiento</td>\n      <td>visita correcta</td>\n    </tr>\n    <tr>\n      <th>3</th>\n      <td>motel villa miro- miro hoteleria s.a. de c.v.</td>\n      <td>motel</td>\n      <td>aguascalientes</td>\n      <td>aguascalientes</td>\n      <td>no se detecto incumplimiento</td>\n      <td>visita correcta</td>\n    </tr>\n    <tr>\n      <th>4</th>\n      <td>motel lua- compa�ia hotelera pescadores s.a. d...</td>\n      <td>motel</td>\n      <td>aguascalientes</td>\n      <td>aguascalientes</td>\n      <td>no se detecto incumplimiento</td>\n      <td>visita correcta</td>\n    </tr>\n  </tbody>\n</table>\n</div>"
     },
     "metadata": {},
     "execution_count": 11
    }
   ],
   "source": [
    "products_df.iloc[:, 7:].head()"
   ]
  },
  {
   "cell_type": "code",
   "execution_count": 12,
   "metadata": {},
   "outputs": [
    {
     "output_type": "stream",
     "name": "stdout",
     "text": [
      "Tiendas originales: 31214\nTiendas únicas: 12133\n"
     ]
    },
    {
     "output_type": "execute_result",
     "data": {
      "text/plain": [
       "                                   store_unique_name\n",
       "0  julio cepeda jugueterias s.a. de c.v.-*+*+-jug...\n",
       "1  c&a de mexico s. de r.l.-*+*+-tienda departame...\n",
       "2  asfeixas s.a. de c.v.-*+*+-motel-*+*+-aguascal...\n",
       "3  motel villa miro- miro hoteleria s.a. de c.v.-...\n",
       "4  motel lua- compa�ia hotelera pescadores s.a. d..."
      ],
      "text/html": "<div>\n<style scoped>\n    .dataframe tbody tr th:only-of-type {\n        vertical-align: middle;\n    }\n\n    .dataframe tbody tr th {\n        vertical-align: top;\n    }\n\n    .dataframe thead th {\n        text-align: right;\n    }\n</style>\n<table border=\"1\" class=\"dataframe\">\n  <thead>\n    <tr style=\"text-align: right;\">\n      <th></th>\n      <th>store_unique_name</th>\n    </tr>\n  </thead>\n  <tbody>\n    <tr>\n      <th>0</th>\n      <td>julio cepeda jugueterias s.a. de c.v.-*+*+-jug...</td>\n    </tr>\n    <tr>\n      <th>1</th>\n      <td>c&amp;a de mexico s. de r.l.-*+*+-tienda departame...</td>\n    </tr>\n    <tr>\n      <th>2</th>\n      <td>asfeixas s.a. de c.v.-*+*+-motel-*+*+-aguascal...</td>\n    </tr>\n    <tr>\n      <th>3</th>\n      <td>motel villa miro- miro hoteleria s.a. de c.v.-...</td>\n    </tr>\n    <tr>\n      <th>4</th>\n      <td>motel lua- compa�ia hotelera pescadores s.a. d...</td>\n    </tr>\n  </tbody>\n</table>\n</div>"
     },
     "metadata": {},
     "execution_count": 12
    }
   ],
   "source": [
    "separator = '-*+*+-'\n",
    "store_series = pd.unique(products_df['RAZON_SOCIAL'] + separator + products_df['GIRO_COMERCIAL'] + separator + products_df['MUNICIPIO'] + separator + products_df['ENTIDAD'])\n",
    "stores_df = pd.DataFrame(\n",
    "    {\n",
    "        'store_unique_name': store_series\n",
    "    }\n",
    ")\n",
    "print(f\"Tiendas originales: {products_df.shape[0]}\")\n",
    "print(f\"Tiendas únicas: {stores_df.shape[0]}\")\n",
    "stores_df.head()"
   ]
  },
  {
   "cell_type": "code",
   "execution_count": 13,
   "metadata": {},
   "outputs": [],
   "source": [
    "def get_state_id_from(state_name):\n",
    "    return states_df[states_df['state_name'] == state_name]['state_id'].values[0]"
   ]
  },
  {
   "cell_type": "code",
   "execution_count": 14,
   "metadata": {},
   "outputs": [
    {
     "output_type": "execute_result",
     "data": {
      "text/plain": [
       "5"
      ]
     },
     "metadata": {},
     "execution_count": 14
    }
   ],
   "source": [
    "get_state_id_from('distrito federal')"
   ]
  },
  {
   "cell_type": "code",
   "execution_count": 15,
   "metadata": {},
   "outputs": [],
   "source": [
    "stores = []\n",
    "purposes = []\n",
    "counties = []\n",
    "state_ids = []\n",
    "for idx, row in stores_df.iterrows():\n",
    "    try:\n",
    "        e = row['store_unique_name'].split(separator)\n",
    "        stores.append(e[0])\n",
    "        purposes.append(e[1])\n",
    "        counties.append(e[2])\n",
    "        state_ids.append(get_state_id_from(e[3]))\n",
    "    except Exception:\n",
    "        print(e)\n",
    "        print(row['store_unique_name'])\n",
    "        break"
   ]
  },
  {
   "cell_type": "code",
   "execution_count": 16,
   "metadata": {},
   "outputs": [
    {
     "output_type": "stream",
     "name": "stdout",
     "text": [
      "['julio cepeda jugueterias s.a. de c.v.' 'c&a de mexico s. de r.l.'\n 'asfeixas s.a. de c.v.' 'motel villa miro- miro hoteleria s.a. de c.v.'\n 'motel lua- compa�ia hotelera pescadores s.a. de c.v.'\n 'motel pedra- pedra s.a. de c.v.'\n 'candy street- claudia stephanie mora garcia'\n 'vicky boutique- rocio esparza ortiz'\n 'motel castillo-cia. hotelera fentos s. a. de c. v.'\n 'motel los arcos s.a. de c.v.']\n['jugueteria' 'tienda departamental' 'motel' 'motel' 'motel' 'motel'\n 'zapateria' 'ropa para dama' 'hotel' 'bar']\n['aguascalientes' 'aguascalientes' 'aguascalientes' 'aguascalientes'\n 'aguascalientes' 'aguascalientes' 'aguascalientes' 'aguascalientes'\n 'aguascalientes' 'jesus maria']\n[1 1 1 1 1 1 1 1 1 1]\n"
     ]
    }
   ],
   "source": [
    "print(np.array(stores[:10]))\n",
    "print(np.array(purposes[:10]))\n",
    "print(np.array(counties[:10]))\n",
    "print(np.array(state_ids[:10]))"
   ]
  },
  {
   "cell_type": "code",
   "execution_count": 17,
   "metadata": {},
   "outputs": [
    {
     "output_type": "execute_result",
     "data": {
      "text/plain": [
       "   store_id                                         store_name  \\\n",
       "0         1              julio cepeda jugueterias s.a. de c.v.   \n",
       "1         2                           c&a de mexico s. de r.l.   \n",
       "2         3                              asfeixas s.a. de c.v.   \n",
       "3         4      motel villa miro- miro hoteleria s.a. de c.v.   \n",
       "4         5  motel lua- compa�ia hotelera pescadores s.a. d...   \n",
       "\n",
       "          store_purpose    store_county  state_id  \n",
       "0            jugueteria  aguascalientes         1  \n",
       "1  tienda departamental  aguascalientes         1  \n",
       "2                 motel  aguascalientes         1  \n",
       "3                 motel  aguascalientes         1  \n",
       "4                 motel  aguascalientes         1  "
      ],
      "text/html": "<div>\n<style scoped>\n    .dataframe tbody tr th:only-of-type {\n        vertical-align: middle;\n    }\n\n    .dataframe tbody tr th {\n        vertical-align: top;\n    }\n\n    .dataframe thead th {\n        text-align: right;\n    }\n</style>\n<table border=\"1\" class=\"dataframe\">\n  <thead>\n    <tr style=\"text-align: right;\">\n      <th></th>\n      <th>store_id</th>\n      <th>store_name</th>\n      <th>store_purpose</th>\n      <th>store_county</th>\n      <th>state_id</th>\n    </tr>\n  </thead>\n  <tbody>\n    <tr>\n      <th>0</th>\n      <td>1</td>\n      <td>julio cepeda jugueterias s.a. de c.v.</td>\n      <td>jugueteria</td>\n      <td>aguascalientes</td>\n      <td>1</td>\n    </tr>\n    <tr>\n      <th>1</th>\n      <td>2</td>\n      <td>c&amp;a de mexico s. de r.l.</td>\n      <td>tienda departamental</td>\n      <td>aguascalientes</td>\n      <td>1</td>\n    </tr>\n    <tr>\n      <th>2</th>\n      <td>3</td>\n      <td>asfeixas s.a. de c.v.</td>\n      <td>motel</td>\n      <td>aguascalientes</td>\n      <td>1</td>\n    </tr>\n    <tr>\n      <th>3</th>\n      <td>4</td>\n      <td>motel villa miro- miro hoteleria s.a. de c.v.</td>\n      <td>motel</td>\n      <td>aguascalientes</td>\n      <td>1</td>\n    </tr>\n    <tr>\n      <th>4</th>\n      <td>5</td>\n      <td>motel lua- compa�ia hotelera pescadores s.a. d...</td>\n      <td>motel</td>\n      <td>aguascalientes</td>\n      <td>1</td>\n    </tr>\n  </tbody>\n</table>\n</div>"
     },
     "metadata": {},
     "execution_count": 17
    }
   ],
   "source": [
    "stores_df = pd.DataFrame(\n",
    "    {\n",
    "        'store_id':list(range(1, len(stores)+1)),\n",
    "        'store_name':stores,\n",
    "        'store_purpose':purposes,\n",
    "        'store_county':counties,\n",
    "        'state_id':state_ids\n",
    "    }\n",
    ")\n",
    "stores_df.head()"
   ]
  },
  {
   "cell_type": "code",
   "execution_count": 18,
   "metadata": {},
   "outputs": [],
   "source": [
    "stores_df.to_csv('data/stores.csv', index=False)"
   ]
  },
  {
   "source": [
    "### Catálogo de productos"
   ],
   "cell_type": "markdown",
   "metadata": {}
  },
  {
   "cell_type": "code",
   "execution_count": 36,
   "metadata": {},
   "outputs": [
    {
     "output_type": "execute_result",
     "data": {
      "text/plain": [
       "    TIPO_PRODUCTO                               DESCRIPCION_PRODUCTO\n",
       "0         mu�ecos  en empaque de carton estampado y plastico rigi...\n",
       "1  ropa caballero  camisa para caballero en color azul marino de ...\n",
       "2          brandy  una botella brandy de la marca torres 10 con l...\n",
       "3          brandy  envase de vidrio contenido brandy de la marca ...\n",
       "4          brandy  botella de vidrio contenido brandy 100% uva gr..."
      ],
      "text/html": "<div>\n<style scoped>\n    .dataframe tbody tr th:only-of-type {\n        vertical-align: middle;\n    }\n\n    .dataframe tbody tr th {\n        vertical-align: top;\n    }\n\n    .dataframe thead th {\n        text-align: right;\n    }\n</style>\n<table border=\"1\" class=\"dataframe\">\n  <thead>\n    <tr style=\"text-align: right;\">\n      <th></th>\n      <th>TIPO_PRODUCTO</th>\n      <th>DESCRIPCION_PRODUCTO</th>\n    </tr>\n  </thead>\n  <tbody>\n    <tr>\n      <th>0</th>\n      <td>mu�ecos</td>\n      <td>en empaque de carton estampado y plastico rigi...</td>\n    </tr>\n    <tr>\n      <th>1</th>\n      <td>ropa caballero</td>\n      <td>camisa para caballero en color azul marino de ...</td>\n    </tr>\n    <tr>\n      <th>2</th>\n      <td>brandy</td>\n      <td>una botella brandy de la marca torres 10 con l...</td>\n    </tr>\n    <tr>\n      <th>3</th>\n      <td>brandy</td>\n      <td>envase de vidrio contenido brandy de la marca ...</td>\n    </tr>\n    <tr>\n      <th>4</th>\n      <td>brandy</td>\n      <td>botella de vidrio contenido brandy 100% uva gr...</td>\n    </tr>\n  </tbody>\n</table>\n</div>"
     },
     "metadata": {},
     "execution_count": 36
    }
   ],
   "source": [
    "products_df.iloc[:, 5:7].head()"
   ]
  },
  {
   "cell_type": "code",
   "execution_count": 37,
   "metadata": {},
   "outputs": [
    {
     "output_type": "execute_result",
     "data": {
      "text/plain": [
       "      TIPO_PRODUCTO                               DESCRIPCION_PRODUCTO  \\\n",
       "3189         brandy  brandy penedes marca torres 5 en botella de vi...   \n",
       "3197         brandy  brandy marca torres 5 en envase de vidrio cont...   \n",
       "7218         brandy  brandy penedes 100% de uva en botella de vidri...   \n",
       "11957        brandy  botella de vidrio cont. brandy de 700ml. hecho...   \n",
       "12736        brandy  brandy penedes marca torres 5 100% uva solera ...   \n",
       "\n",
       "                             RAZON_SOCIAL             GIRO_COMERCIAL  \\\n",
       "3189   cadena comercial oxxo s.a. de c.v.    tiendas de conveniencia   \n",
       "3197   cadena comercial oxxo s.a. de c.v.    tiendas de conveniencia   \n",
       "7218   cadena comercial oxxo s.a. de c.v.    tiendas de conveniencia   \n",
       "11957  cadena comercial oxxo s.a. de c.v.    tiendas de conveniencia   \n",
       "12736  cadena comercial oxxo s.a. de c.v.  abarrotes vinos y licores   \n",
       "\n",
       "                 MUNICIPIO           ENTIDAD  \n",
       "3189        alvaro obregon  distrito federal  \n",
       "3197         benito juarez  distrito federal  \n",
       "7218            cuauhtemoc  distrito federal  \n",
       "11957  tlalnepantla de baz            mexico  \n",
       "12736              durango           durango  "
      ],
      "text/html": "<div>\n<style scoped>\n    .dataframe tbody tr th:only-of-type {\n        vertical-align: middle;\n    }\n\n    .dataframe tbody tr th {\n        vertical-align: top;\n    }\n\n    .dataframe thead th {\n        text-align: right;\n    }\n</style>\n<table border=\"1\" class=\"dataframe\">\n  <thead>\n    <tr style=\"text-align: right;\">\n      <th></th>\n      <th>TIPO_PRODUCTO</th>\n      <th>DESCRIPCION_PRODUCTO</th>\n      <th>RAZON_SOCIAL</th>\n      <th>GIRO_COMERCIAL</th>\n      <th>MUNICIPIO</th>\n      <th>ENTIDAD</th>\n    </tr>\n  </thead>\n  <tbody>\n    <tr>\n      <th>3189</th>\n      <td>brandy</td>\n      <td>brandy penedes marca torres 5 en botella de vi...</td>\n      <td>cadena comercial oxxo s.a. de c.v.</td>\n      <td>tiendas de conveniencia</td>\n      <td>alvaro obregon</td>\n      <td>distrito federal</td>\n    </tr>\n    <tr>\n      <th>3197</th>\n      <td>brandy</td>\n      <td>brandy marca torres 5 en envase de vidrio cont...</td>\n      <td>cadena comercial oxxo s.a. de c.v.</td>\n      <td>tiendas de conveniencia</td>\n      <td>benito juarez</td>\n      <td>distrito federal</td>\n    </tr>\n    <tr>\n      <th>7218</th>\n      <td>brandy</td>\n      <td>brandy penedes 100% de uva en botella de vidri...</td>\n      <td>cadena comercial oxxo s.a. de c.v.</td>\n      <td>tiendas de conveniencia</td>\n      <td>cuauhtemoc</td>\n      <td>distrito federal</td>\n    </tr>\n    <tr>\n      <th>11957</th>\n      <td>brandy</td>\n      <td>botella de vidrio cont. brandy de 700ml. hecho...</td>\n      <td>cadena comercial oxxo s.a. de c.v.</td>\n      <td>tiendas de conveniencia</td>\n      <td>tlalnepantla de baz</td>\n      <td>mexico</td>\n    </tr>\n    <tr>\n      <th>12736</th>\n      <td>brandy</td>\n      <td>brandy penedes marca torres 5 100% uva solera ...</td>\n      <td>cadena comercial oxxo s.a. de c.v.</td>\n      <td>abarrotes vinos y licores</td>\n      <td>durango</td>\n      <td>durango</td>\n    </tr>\n  </tbody>\n</table>\n</div>"
     },
     "metadata": {},
     "execution_count": 37
    }
   ],
   "source": [
    "t = products_df.iloc[:, 5:]\n",
    "t[(t[\"TIPO_PRODUCTO\"] == 'brandy') & (t['RAZON_SOCIAL'] == 'cadena comercial oxxo s.a. de c.v.')].iloc[:, :6].head()"
   ]
  },
  {
   "cell_type": "code",
   "execution_count": 41,
   "metadata": {},
   "outputs": [],
   "source": [
    "unique_products_series = pd.unique(products_df['TIPO_PRODUCTO'] + separator + products_df['DESCRIPCION_PRODUCTO'])\n",
    "categories = []\n",
    "products = []\n",
    "for p in unique_products_series:\n",
    "    e = p.split(separator)\n",
    "    categories.append(e[0])\n",
    "    products.append(e[1])"
   ]
  },
  {
   "cell_type": "code",
   "execution_count": 43,
   "metadata": {},
   "outputs": [
    {
     "output_type": "stream",
     "name": "stdout",
     "text": [
      "(27720, 3)\n"
     ]
    },
    {
     "output_type": "execute_result",
     "data": {
      "text/plain": [
       "   product_id                                       product_name  \\\n",
       "0           1  en empaque de carton estampado y plastico rigi...   \n",
       "1           2  camisa para caballero en color azul marino de ...   \n",
       "2           3  una botella brandy de la marca torres 10 con l...   \n",
       "3           4  envase de vidrio contenido brandy de la marca ...   \n",
       "4           5  botella de vidrio contenido brandy 100% uva gr...   \n",
       "\n",
       "  product_category  \n",
       "0          mu�ecos  \n",
       "1   ropa caballero  \n",
       "2           brandy  \n",
       "3           brandy  \n",
       "4           brandy  "
      ],
      "text/html": "<div>\n<style scoped>\n    .dataframe tbody tr th:only-of-type {\n        vertical-align: middle;\n    }\n\n    .dataframe tbody tr th {\n        vertical-align: top;\n    }\n\n    .dataframe thead th {\n        text-align: right;\n    }\n</style>\n<table border=\"1\" class=\"dataframe\">\n  <thead>\n    <tr style=\"text-align: right;\">\n      <th></th>\n      <th>product_id</th>\n      <th>product_name</th>\n      <th>product_category</th>\n    </tr>\n  </thead>\n  <tbody>\n    <tr>\n      <th>0</th>\n      <td>1</td>\n      <td>en empaque de carton estampado y plastico rigi...</td>\n      <td>mu�ecos</td>\n    </tr>\n    <tr>\n      <th>1</th>\n      <td>2</td>\n      <td>camisa para caballero en color azul marino de ...</td>\n      <td>ropa caballero</td>\n    </tr>\n    <tr>\n      <th>2</th>\n      <td>3</td>\n      <td>una botella brandy de la marca torres 10 con l...</td>\n      <td>brandy</td>\n    </tr>\n    <tr>\n      <th>3</th>\n      <td>4</td>\n      <td>envase de vidrio contenido brandy de la marca ...</td>\n      <td>brandy</td>\n    </tr>\n    <tr>\n      <th>4</th>\n      <td>5</td>\n      <td>botella de vidrio contenido brandy 100% uva gr...</td>\n      <td>brandy</td>\n    </tr>\n  </tbody>\n</table>\n</div>"
     },
     "metadata": {},
     "execution_count": 43
    }
   ],
   "source": [
    "unique_products_df = pd.DataFrame(\n",
    "    {\n",
    "        'product_id': list(range(1, len(products)+1)),\n",
    "        'product_name': products,\n",
    "        'product_category': categories\n",
    "    }\n",
    ")\n",
    "print(unique_products_df.shape)\n",
    "unique_products_df.head()"
   ]
  },
  {
   "cell_type": "code",
   "execution_count": 44,
   "metadata": {},
   "outputs": [],
   "source": [
    "unique_products_df.to_csv('data/products.csv', index=False)"
   ]
  },
  {
   "source": [
    "### Catálogo Productos Tiendas"
   ],
   "cell_type": "markdown",
   "metadata": {}
  },
  {
   "cell_type": "code",
   "execution_count": 45,
   "metadata": {},
   "outputs": [
    {
     "output_type": "execute_result",
     "data": {
      "text/plain": [
       "    TIPO_PRODUCTO                               DESCRIPCION_PRODUCTO  \\\n",
       "0         mu�ecos  en empaque de carton estampado y plastico rigi...   \n",
       "1  ropa caballero  camisa para caballero en color azul marino de ...   \n",
       "2          brandy  una botella brandy de la marca torres 10 con l...   \n",
       "3          brandy  envase de vidrio contenido brandy de la marca ...   \n",
       "4          brandy  botella de vidrio contenido brandy 100% uva gr...   \n",
       "\n",
       "                                        RAZON_SOCIAL        GIRO_COMERCIAL  \\\n",
       "0              julio cepeda jugueterias s.a. de c.v.            jugueteria   \n",
       "1                           c&a de mexico s. de r.l.  tienda departamental   \n",
       "2                              asfeixas s.a. de c.v.                 motel   \n",
       "3      motel villa miro- miro hoteleria s.a. de c.v.                 motel   \n",
       "4  motel lua- compa�ia hotelera pescadores s.a. d...                 motel   \n",
       "\n",
       "        MUNICIPIO         ENTIDAD                INCUMPLIMIENTO  \\\n",
       "0  aguascalientes  aguascalientes  no se detecto incumplimiento   \n",
       "1  aguascalientes  aguascalientes  no se detecto incumplimiento   \n",
       "2  aguascalientes  aguascalientes  no se detecto incumplimiento   \n",
       "3  aguascalientes  aguascalientes  no se detecto incumplimiento   \n",
       "4  aguascalientes  aguascalientes  no se detecto incumplimiento   \n",
       "\n",
       "         RESULTADO  \n",
       "0  visita correcta  \n",
       "1  visita correcta  \n",
       "2  visita correcta  \n",
       "3  visita correcta  \n",
       "4  visita correcta  "
      ],
      "text/html": "<div>\n<style scoped>\n    .dataframe tbody tr th:only-of-type {\n        vertical-align: middle;\n    }\n\n    .dataframe tbody tr th {\n        vertical-align: top;\n    }\n\n    .dataframe thead th {\n        text-align: right;\n    }\n</style>\n<table border=\"1\" class=\"dataframe\">\n  <thead>\n    <tr style=\"text-align: right;\">\n      <th></th>\n      <th>TIPO_PRODUCTO</th>\n      <th>DESCRIPCION_PRODUCTO</th>\n      <th>RAZON_SOCIAL</th>\n      <th>GIRO_COMERCIAL</th>\n      <th>MUNICIPIO</th>\n      <th>ENTIDAD</th>\n      <th>INCUMPLIMIENTO</th>\n      <th>RESULTADO</th>\n    </tr>\n  </thead>\n  <tbody>\n    <tr>\n      <th>0</th>\n      <td>mu�ecos</td>\n      <td>en empaque de carton estampado y plastico rigi...</td>\n      <td>julio cepeda jugueterias s.a. de c.v.</td>\n      <td>jugueteria</td>\n      <td>aguascalientes</td>\n      <td>aguascalientes</td>\n      <td>no se detecto incumplimiento</td>\n      <td>visita correcta</td>\n    </tr>\n    <tr>\n      <th>1</th>\n      <td>ropa caballero</td>\n      <td>camisa para caballero en color azul marino de ...</td>\n      <td>c&amp;a de mexico s. de r.l.</td>\n      <td>tienda departamental</td>\n      <td>aguascalientes</td>\n      <td>aguascalientes</td>\n      <td>no se detecto incumplimiento</td>\n      <td>visita correcta</td>\n    </tr>\n    <tr>\n      <th>2</th>\n      <td>brandy</td>\n      <td>una botella brandy de la marca torres 10 con l...</td>\n      <td>asfeixas s.a. de c.v.</td>\n      <td>motel</td>\n      <td>aguascalientes</td>\n      <td>aguascalientes</td>\n      <td>no se detecto incumplimiento</td>\n      <td>visita correcta</td>\n    </tr>\n    <tr>\n      <th>3</th>\n      <td>brandy</td>\n      <td>envase de vidrio contenido brandy de la marca ...</td>\n      <td>motel villa miro- miro hoteleria s.a. de c.v.</td>\n      <td>motel</td>\n      <td>aguascalientes</td>\n      <td>aguascalientes</td>\n      <td>no se detecto incumplimiento</td>\n      <td>visita correcta</td>\n    </tr>\n    <tr>\n      <th>4</th>\n      <td>brandy</td>\n      <td>botella de vidrio contenido brandy 100% uva gr...</td>\n      <td>motel lua- compa�ia hotelera pescadores s.a. d...</td>\n      <td>motel</td>\n      <td>aguascalientes</td>\n      <td>aguascalientes</td>\n      <td>no se detecto incumplimiento</td>\n      <td>visita correcta</td>\n    </tr>\n  </tbody>\n</table>\n</div>"
     },
     "metadata": {},
     "execution_count": 45
    }
   ],
   "source": [
    "products_df.iloc[:, 5:].head()"
   ]
  },
  {
   "cell_type": "code",
   "execution_count": 46,
   "metadata": {},
   "outputs": [
    {
     "output_type": "execute_result",
     "data": {
      "text/plain": [
       "   store_id                                         store_name  \\\n",
       "0         1              julio cepeda jugueterias s.a. de c.v.   \n",
       "1         2                           c&a de mexico s. de r.l.   \n",
       "2         3                              asfeixas s.a. de c.v.   \n",
       "3         4      motel villa miro- miro hoteleria s.a. de c.v.   \n",
       "4         5  motel lua- compa�ia hotelera pescadores s.a. d...   \n",
       "\n",
       "          store_purpose    store_county  state_id  \n",
       "0            jugueteria  aguascalientes         1  \n",
       "1  tienda departamental  aguascalientes         1  \n",
       "2                 motel  aguascalientes         1  \n",
       "3                 motel  aguascalientes         1  \n",
       "4                 motel  aguascalientes         1  "
      ],
      "text/html": "<div>\n<style scoped>\n    .dataframe tbody tr th:only-of-type {\n        vertical-align: middle;\n    }\n\n    .dataframe tbody tr th {\n        vertical-align: top;\n    }\n\n    .dataframe thead th {\n        text-align: right;\n    }\n</style>\n<table border=\"1\" class=\"dataframe\">\n  <thead>\n    <tr style=\"text-align: right;\">\n      <th></th>\n      <th>store_id</th>\n      <th>store_name</th>\n      <th>store_purpose</th>\n      <th>store_county</th>\n      <th>state_id</th>\n    </tr>\n  </thead>\n  <tbody>\n    <tr>\n      <th>0</th>\n      <td>1</td>\n      <td>julio cepeda jugueterias s.a. de c.v.</td>\n      <td>jugueteria</td>\n      <td>aguascalientes</td>\n      <td>1</td>\n    </tr>\n    <tr>\n      <th>1</th>\n      <td>2</td>\n      <td>c&amp;a de mexico s. de r.l.</td>\n      <td>tienda departamental</td>\n      <td>aguascalientes</td>\n      <td>1</td>\n    </tr>\n    <tr>\n      <th>2</th>\n      <td>3</td>\n      <td>asfeixas s.a. de c.v.</td>\n      <td>motel</td>\n      <td>aguascalientes</td>\n      <td>1</td>\n    </tr>\n    <tr>\n      <th>3</th>\n      <td>4</td>\n      <td>motel villa miro- miro hoteleria s.a. de c.v.</td>\n      <td>motel</td>\n      <td>aguascalientes</td>\n      <td>1</td>\n    </tr>\n    <tr>\n      <th>4</th>\n      <td>5</td>\n      <td>motel lua- compa�ia hotelera pescadores s.a. d...</td>\n      <td>motel</td>\n      <td>aguascalientes</td>\n      <td>1</td>\n    </tr>\n  </tbody>\n</table>\n</div>"
     },
     "metadata": {},
     "execution_count": 46
    }
   ],
   "source": [
    "stores_df.head()"
   ]
  },
  {
   "cell_type": "code",
   "execution_count": 47,
   "metadata": {},
   "outputs": [
    {
     "output_type": "execute_result",
     "data": {
      "text/plain": [
       "   product_id                                       product_name  \\\n",
       "0           1  en empaque de carton estampado y plastico rigi...   \n",
       "1           2  camisa para caballero en color azul marino de ...   \n",
       "2           3  una botella brandy de la marca torres 10 con l...   \n",
       "3           4  envase de vidrio contenido brandy de la marca ...   \n",
       "4           5  botella de vidrio contenido brandy 100% uva gr...   \n",
       "\n",
       "  product_category  \n",
       "0          mu�ecos  \n",
       "1   ropa caballero  \n",
       "2           brandy  \n",
       "3           brandy  \n",
       "4           brandy  "
      ],
      "text/html": "<div>\n<style scoped>\n    .dataframe tbody tr th:only-of-type {\n        vertical-align: middle;\n    }\n\n    .dataframe tbody tr th {\n        vertical-align: top;\n    }\n\n    .dataframe thead th {\n        text-align: right;\n    }\n</style>\n<table border=\"1\" class=\"dataframe\">\n  <thead>\n    <tr style=\"text-align: right;\">\n      <th></th>\n      <th>product_id</th>\n      <th>product_name</th>\n      <th>product_category</th>\n    </tr>\n  </thead>\n  <tbody>\n    <tr>\n      <th>0</th>\n      <td>1</td>\n      <td>en empaque de carton estampado y plastico rigi...</td>\n      <td>mu�ecos</td>\n    </tr>\n    <tr>\n      <th>1</th>\n      <td>2</td>\n      <td>camisa para caballero en color azul marino de ...</td>\n      <td>ropa caballero</td>\n    </tr>\n    <tr>\n      <th>2</th>\n      <td>3</td>\n      <td>una botella brandy de la marca torres 10 con l...</td>\n      <td>brandy</td>\n    </tr>\n    <tr>\n      <th>3</th>\n      <td>4</td>\n      <td>envase de vidrio contenido brandy de la marca ...</td>\n      <td>brandy</td>\n    </tr>\n    <tr>\n      <th>4</th>\n      <td>5</td>\n      <td>botella de vidrio contenido brandy 100% uva gr...</td>\n      <td>brandy</td>\n    </tr>\n  </tbody>\n</table>\n</div>"
     },
     "metadata": {},
     "execution_count": 47
    }
   ],
   "source": [
    "unique_products_df.head()"
   ]
  },
  {
   "cell_type": "code",
   "execution_count": 48,
   "metadata": {},
   "outputs": [],
   "source": [
    "def get_store_id_from(name, county, state):\n",
    "    state_id = get_state_id_from(state)\n",
    "    return stores_df[\n",
    "        (stores_df['store_name'] == name) &\n",
    "        (stores_df['store_county'] == county) &\n",
    "        (stores_df['state_id'] == state_id)\n",
    "    ]['store_id'].values[0]\n",
    "\n",
    "def get_product_id_from(name, category):\n",
    "    return unique_products_df[(unique_products_df['product_name'] == name) & (unique_products_df['product_category'] == category)]['product_id'].values[0]"
   ]
  },
  {
   "cell_type": "code",
   "execution_count": 49,
   "metadata": {},
   "outputs": [
    {
     "output_type": "execute_result",
     "data": {
      "text/plain": [
       "17"
      ]
     },
     "metadata": {},
     "execution_count": 49
    }
   ],
   "source": [
    "get_store_id_from('cadena comercial oxxo s. a. de c.v.', 'aguascalientes', 'aguascalientes')"
   ]
  },
  {
   "cell_type": "code",
   "execution_count": 54,
   "metadata": {},
   "outputs": [
    {
     "output_type": "execute_result",
     "data": {
      "text/plain": [
       "1"
      ]
     },
     "metadata": {},
     "execution_count": 54
    }
   ],
   "source": [
    "get_product_id_from('en empaque de carton estampado y plastico rigido mu�eca para ni�a de la marca barbie de origen china. contenido una pieza modelo barbie basica life fashion con numero de lote t7439 indica informacion importante para consulta impo', 'mu�ecos')"
   ]
  },
  {
   "cell_type": "code",
   "execution_count": 56,
   "metadata": {},
   "outputs": [],
   "source": [
    "product_ids = []\n",
    "store_ids = []\n",
    "missing_reqs = []\n",
    "for idx, row in products_df.iterrows():\n",
    "    try:\n",
    "        category = row['TIPO_PRODUCTO']\n",
    "        product = row['DESCRIPCION_PRODUCTO']\n",
    "        store_name = row['RAZON_SOCIAL']\n",
    "        store_county = row['MUNICIPIO']\n",
    "        store_state = row['ENTIDAD']\n",
    "        product_ids.append(get_product_id_from(product, category))\n",
    "        store_ids.append(get_store_id_from(store_name, store_county, store_state))\n",
    "        missing_reqs.append(row['INCUMPLIMIENTO'])\n",
    "    except Exception:\n",
    "        print(row)\n",
    "        break"
   ]
  },
  {
   "cell_type": "code",
   "execution_count": 57,
   "metadata": {},
   "outputs": [
    {
     "output_type": "stream",
     "name": "stdout",
     "text": [
      "(31214, 3)\n"
     ]
    },
    {
     "output_type": "execute_result",
     "data": {
      "text/plain": [
       "   product_id  store_id                       missing\n",
       "0           1         1  no se detecto incumplimiento\n",
       "1           2         2  no se detecto incumplimiento\n",
       "2           3         3  no se detecto incumplimiento\n",
       "3           4         4  no se detecto incumplimiento\n",
       "4           5         5  no se detecto incumplimiento"
      ],
      "text/html": "<div>\n<style scoped>\n    .dataframe tbody tr th:only-of-type {\n        vertical-align: middle;\n    }\n\n    .dataframe tbody tr th {\n        vertical-align: top;\n    }\n\n    .dataframe thead th {\n        text-align: right;\n    }\n</style>\n<table border=\"1\" class=\"dataframe\">\n  <thead>\n    <tr style=\"text-align: right;\">\n      <th></th>\n      <th>product_id</th>\n      <th>store_id</th>\n      <th>missing</th>\n    </tr>\n  </thead>\n  <tbody>\n    <tr>\n      <th>0</th>\n      <td>1</td>\n      <td>1</td>\n      <td>no se detecto incumplimiento</td>\n    </tr>\n    <tr>\n      <th>1</th>\n      <td>2</td>\n      <td>2</td>\n      <td>no se detecto incumplimiento</td>\n    </tr>\n    <tr>\n      <th>2</th>\n      <td>3</td>\n      <td>3</td>\n      <td>no se detecto incumplimiento</td>\n    </tr>\n    <tr>\n      <th>3</th>\n      <td>4</td>\n      <td>4</td>\n      <td>no se detecto incumplimiento</td>\n    </tr>\n    <tr>\n      <th>4</th>\n      <td>5</td>\n      <td>5</td>\n      <td>no se detecto incumplimiento</td>\n    </tr>\n  </tbody>\n</table>\n</div>"
     },
     "metadata": {},
     "execution_count": 57
    }
   ],
   "source": [
    "product_store_df = pd.DataFrame(\n",
    "    {\n",
    "        'product_id': product_ids,\n",
    "        'store_id': store_ids,\n",
    "        'missing':missing_reqs\n",
    "    }\n",
    ")\n",
    "print(product_store_df.shape)\n",
    "product_store_df.head()"
   ]
  },
  {
   "cell_type": "code",
   "execution_count": 58,
   "metadata": {},
   "outputs": [],
   "source": [
    "product_store_df.to_csv('data/product_store.csv', index=False)"
   ]
  },
  {
   "source": [
    "## Registro de compras de usuario"
   ],
   "cell_type": "markdown",
   "metadata": {}
  },
  {
   "source": [
    "### Catálogo de clientes"
   ],
   "cell_type": "markdown",
   "metadata": {}
  },
  {
   "cell_type": "code",
   "execution_count": 97,
   "metadata": {},
   "outputs": [
    {
     "output_type": "stream",
     "name": "stdout",
     "text": [
      "(50000, 1)\n"
     ]
    },
    {
     "output_type": "execute_result",
     "data": {
      "text/plain": [
       "   client_id\n",
       "0          1\n",
       "1          2\n",
       "2          3\n",
       "3          4\n",
       "4          5"
      ],
      "text/html": "<div>\n<style scoped>\n    .dataframe tbody tr th:only-of-type {\n        vertical-align: middle;\n    }\n\n    .dataframe tbody tr th {\n        vertical-align: top;\n    }\n\n    .dataframe thead th {\n        text-align: right;\n    }\n</style>\n<table border=\"1\" class=\"dataframe\">\n  <thead>\n    <tr style=\"text-align: right;\">\n      <th></th>\n      <th>client_id</th>\n    </tr>\n  </thead>\n  <tbody>\n    <tr>\n      <th>0</th>\n      <td>1</td>\n    </tr>\n    <tr>\n      <th>1</th>\n      <td>2</td>\n    </tr>\n    <tr>\n      <th>2</th>\n      <td>3</td>\n    </tr>\n    <tr>\n      <th>3</th>\n      <td>4</td>\n    </tr>\n    <tr>\n      <th>4</th>\n      <td>5</td>\n    </tr>\n  </tbody>\n</table>\n</div>"
     },
     "metadata": {},
     "execution_count": 97
    }
   ],
   "source": [
    "num_clients = 50000\n",
    "clients_df = pd.DataFrame(\n",
    "    {\n",
    "        'client_id': list(range(1, num_clients+1)),\n",
    "    }\n",
    ")\n",
    "print(clients_df.shape)\n",
    "clients_df.head()"
   ]
  },
  {
   "cell_type": "code",
   "execution_count": 98,
   "metadata": {},
   "outputs": [],
   "source": [
    "clients_df.to_csv('data/clients.csv', index=False)"
   ]
  },
  {
   "source": [
    "### Generación de órdenes de compra"
   ],
   "cell_type": "markdown",
   "metadata": {}
  },
  {
   "cell_type": "code",
   "execution_count": 99,
   "metadata": {},
   "outputs": [],
   "source": [
    "max_purchases_per_client = 15\n",
    "num_stores = stores_df.shape[0]\n",
    "\n",
    "client_ids = []\n",
    "store_ids = []\n",
    "product_ids = []\n",
    "\n",
    "for idx, row in clients_df.iterrows():\n",
    "    client_id = row['client_id']\n",
    "    num_purchases = np.random.randint(1, max_purchases_per_client+1)\n",
    "    store_ids_nums = np.random.randint(1, num_stores+1, num_purchases)\n",
    "    products_per_store = product_store_df[product_store_df['store_id'].isin(store_ids_nums)]['product_id']\n",
    "    for sid in store_ids_nums:\n",
    "        products_per_store = product_store_df[product_store_df['store_id'] == sid]['product_id']\n",
    "        for prod in products_per_store:\n",
    "            if np.random.randint(1, 200) < 100:\n",
    "                times = np.random.randint(1, 4)\n",
    "                for time in range(times):\n",
    "                    client_ids.append(client_id)\n",
    "                    store_ids.append(sid)\n",
    "                    product_ids.append(prod)"
   ]
  },
  {
   "cell_type": "code",
   "execution_count": 100,
   "metadata": {},
   "outputs": [
    {
     "output_type": "stream",
     "name": "stdout",
     "text": [
      "(1022928, 3)\n"
     ]
    },
    {
     "output_type": "execute_result",
     "data": {
      "text/plain": [
       "   client_id  store_id  product_id\n",
       "0          1      1325        1672\n",
       "1          1      1325        1672\n",
       "2          1       169         166\n",
       "3          1       169         166\n",
       "4          1      9081       22418"
      ],
      "text/html": "<div>\n<style scoped>\n    .dataframe tbody tr th:only-of-type {\n        vertical-align: middle;\n    }\n\n    .dataframe tbody tr th {\n        vertical-align: top;\n    }\n\n    .dataframe thead th {\n        text-align: right;\n    }\n</style>\n<table border=\"1\" class=\"dataframe\">\n  <thead>\n    <tr style=\"text-align: right;\">\n      <th></th>\n      <th>client_id</th>\n      <th>store_id</th>\n      <th>product_id</th>\n    </tr>\n  </thead>\n  <tbody>\n    <tr>\n      <th>0</th>\n      <td>1</td>\n      <td>1325</td>\n      <td>1672</td>\n    </tr>\n    <tr>\n      <th>1</th>\n      <td>1</td>\n      <td>1325</td>\n      <td>1672</td>\n    </tr>\n    <tr>\n      <th>2</th>\n      <td>1</td>\n      <td>169</td>\n      <td>166</td>\n    </tr>\n    <tr>\n      <th>3</th>\n      <td>1</td>\n      <td>169</td>\n      <td>166</td>\n    </tr>\n    <tr>\n      <th>4</th>\n      <td>1</td>\n      <td>9081</td>\n      <td>22418</td>\n    </tr>\n  </tbody>\n</table>\n</div>"
     },
     "metadata": {},
     "execution_count": 100
    }
   ],
   "source": [
    "purchases_df = pd.DataFrame(\n",
    "    {\n",
    "        'client_id':client_ids,\n",
    "        'store_id':store_ids,\n",
    "        'product_id':product_ids\n",
    "    }\n",
    ")\n",
    "print(purchases_df.shape)\n",
    "purchases_df.head()"
   ]
  },
  {
   "cell_type": "code",
   "execution_count": 101,
   "metadata": {},
   "outputs": [],
   "source": [
    "purchases_df.to_csv('data/purchases.csv', index=False)"
   ]
  },
  {
   "cell_type": "code",
   "execution_count": null,
   "metadata": {},
   "outputs": [],
   "source": []
  }
 ]
}