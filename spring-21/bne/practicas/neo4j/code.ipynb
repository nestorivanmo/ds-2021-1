{
 "metadata": {
  "language_info": {
   "codemirror_mode": {
    "name": "ipython",
    "version": 3
   },
   "file_extension": ".py",
   "mimetype": "text/x-python",
   "name": "python",
   "nbconvert_exporter": "python",
   "pygments_lexer": "ipython3",
   "version": "3.8.8"
  },
  "orig_nbformat": 4,
  "kernelspec": {
   "name": "python3",
   "display_name": "Python 3.8.8 64-bit ('python@3.8')"
  },
  "interpreter": {
   "hash": "1ee38ef4a5a9feb55287fd749643f13d043cb0a7addaab2a9c224cbe137c0062"
  }
 },
 "nbformat": 4,
 "nbformat_minor": 2,
 "cells": [
  {
   "source": [
    "# Práctica Neo4j\n",
    "- Martínez Ostoa Néstor Iván \n",
    "- Bases de Datos No Estructuradas\n",
    "- LCD \n",
    "- IIMAS, UNAM"
   ],
   "cell_type": "markdown",
   "metadata": {}
  },
  {
   "cell_type": "code",
   "execution_count": 1,
   "metadata": {},
   "outputs": [],
   "source": [
    "import pandas as pd\n",
    "import numpy as np"
   ]
  },
  {
   "cell_type": "code",
   "execution_count": 2,
   "metadata": {},
   "outputs": [
    {
     "output_type": "stream",
     "name": "stdout",
     "text": [
      "(31214, 13)\nIndex(['ANIO', 'UNIDAD_ADMINISTRATIVA', 'NUMERO_EXPEDIENTE', 'FECHA_VISITA',\n       'NOM_VERIFICADA', 'TIPO_PRODUCTO', 'DESCRIPCION_PRODUCTO',\n       'RAZON_SOCIAL', 'GIRO_COMERCIAL', 'MUNICIPIO', 'ENTIDAD',\n       'INCUMPLIMIENTO', 'RESULTADO'],\n      dtype='object')\n"
     ]
    },
    {
     "output_type": "execute_result",
     "data": {
      "text/plain": [
       "   ANIO UNIDAD_ADMINISTRATIVA NUMERO_EXPEDIENTE FECHA_VISITA  \\\n",
       "0  2015        AGUASCALIENTES   702/000009/2015   2015-01-05   \n",
       "1  2015        AGUASCALIENTES   702/000012/2015   2015-01-06   \n",
       "2  2015        AGUASCALIENTES   702/000132/2015   2015-02-12   \n",
       "3  2015        AGUASCALIENTES   702/000133/2015   2015-02-12   \n",
       "4  2015        AGUASCALIENTES   702/000134/2015   2015-02-12   \n",
       "\n",
       "      NOM_VERIFICADA   TIPO_PRODUCTO  \\\n",
       "0  NOM-015-SCFI-2007         MU�ECOS   \n",
       "1  NOM-004-SCFI-2006  ROPA CABALLERO   \n",
       "2  NOM-142-SSA1-1995          BRANDY   \n",
       "3  NOM-142-SSA1-1995          BRANDY   \n",
       "4  NOM-142-SSA1-1995          BRANDY   \n",
       "\n",
       "                                DESCRIPCION_PRODUCTO  \\\n",
       "0  EN EMPAQUE DE CARTON ESTAMPADO Y PLASTICO RIGI...   \n",
       "1  CAMISA PARA CABALLERO EN COLOR AZUL MARINO DE ...   \n",
       "2  UNA BOTELLA BRANDY DE LA MARCA TORRES 10 CON L...   \n",
       "3  ENVASE DE VIDRIO CONTENIDO BRANDY DE LA MARCA ...   \n",
       "4  BOTELLA DE VIDRIO CONTENIDO BRANDY 100% UVA GR...   \n",
       "\n",
       "                                        RAZON_SOCIAL        GIRO_COMERCIAL  \\\n",
       "0              JULIO CEPEDA JUGUETERIAS S.A. DE C.V.            JUGUETERIA   \n",
       "1                           C&A DE MEXICO S. DE R.L.  TIENDA DEPARTAMENTAL   \n",
       "2                             ASFEIXAS  S.A. DE C.V.                 MOTEL   \n",
       "3     MOTEL VILLA MIRO- MIRO HOTELERIA  S.A. DE C.V.                 MOTEL   \n",
       "4  MOTEL LUA- COMPA�IA HOTELERA PESCADORES  S.A. ...                 MOTEL   \n",
       "\n",
       "        MUNICIPIO         ENTIDAD                INCUMPLIMIENTO  \\\n",
       "0  AGUASCALIENTES  AGUASCALIENTES  NO SE DETECTO INCUMPLIMIENTO   \n",
       "1  AGUASCALIENTES  AGUASCALIENTES  NO SE DETECTO INCUMPLIMIENTO   \n",
       "2  AGUASCALIENTES  AGUASCALIENTES  NO SE DETECTO INCUMPLIMIENTO   \n",
       "3  AGUASCALIENTES  AGUASCALIENTES  NO SE DETECTO INCUMPLIMIENTO   \n",
       "4  AGUASCALIENTES  AGUASCALIENTES  NO SE DETECTO INCUMPLIMIENTO   \n",
       "\n",
       "         RESULTADO  \n",
       "0  VISITA CORRECTA  \n",
       "1  VISITA CORRECTA  \n",
       "2  VISITA CORRECTA  \n",
       "3  VISITA CORRECTA  \n",
       "4  VISITA CORRECTA  "
      ],
      "text/html": "<div>\n<style scoped>\n    .dataframe tbody tr th:only-of-type {\n        vertical-align: middle;\n    }\n\n    .dataframe tbody tr th {\n        vertical-align: top;\n    }\n\n    .dataframe thead th {\n        text-align: right;\n    }\n</style>\n<table border=\"1\" class=\"dataframe\">\n  <thead>\n    <tr style=\"text-align: right;\">\n      <th></th>\n      <th>ANIO</th>\n      <th>UNIDAD_ADMINISTRATIVA</th>\n      <th>NUMERO_EXPEDIENTE</th>\n      <th>FECHA_VISITA</th>\n      <th>NOM_VERIFICADA</th>\n      <th>TIPO_PRODUCTO</th>\n      <th>DESCRIPCION_PRODUCTO</th>\n      <th>RAZON_SOCIAL</th>\n      <th>GIRO_COMERCIAL</th>\n      <th>MUNICIPIO</th>\n      <th>ENTIDAD</th>\n      <th>INCUMPLIMIENTO</th>\n      <th>RESULTADO</th>\n    </tr>\n  </thead>\n  <tbody>\n    <tr>\n      <th>0</th>\n      <td>2015</td>\n      <td>AGUASCALIENTES</td>\n      <td>702/000009/2015</td>\n      <td>2015-01-05</td>\n      <td>NOM-015-SCFI-2007</td>\n      <td>MU�ECOS</td>\n      <td>EN EMPAQUE DE CARTON ESTAMPADO Y PLASTICO RIGI...</td>\n      <td>JULIO CEPEDA JUGUETERIAS S.A. DE C.V.</td>\n      <td>JUGUETERIA</td>\n      <td>AGUASCALIENTES</td>\n      <td>AGUASCALIENTES</td>\n      <td>NO SE DETECTO INCUMPLIMIENTO</td>\n      <td>VISITA CORRECTA</td>\n    </tr>\n    <tr>\n      <th>1</th>\n      <td>2015</td>\n      <td>AGUASCALIENTES</td>\n      <td>702/000012/2015</td>\n      <td>2015-01-06</td>\n      <td>NOM-004-SCFI-2006</td>\n      <td>ROPA CABALLERO</td>\n      <td>CAMISA PARA CABALLERO EN COLOR AZUL MARINO DE ...</td>\n      <td>C&amp;A DE MEXICO S. DE R.L.</td>\n      <td>TIENDA DEPARTAMENTAL</td>\n      <td>AGUASCALIENTES</td>\n      <td>AGUASCALIENTES</td>\n      <td>NO SE DETECTO INCUMPLIMIENTO</td>\n      <td>VISITA CORRECTA</td>\n    </tr>\n    <tr>\n      <th>2</th>\n      <td>2015</td>\n      <td>AGUASCALIENTES</td>\n      <td>702/000132/2015</td>\n      <td>2015-02-12</td>\n      <td>NOM-142-SSA1-1995</td>\n      <td>BRANDY</td>\n      <td>UNA BOTELLA BRANDY DE LA MARCA TORRES 10 CON L...</td>\n      <td>ASFEIXAS  S.A. DE C.V.</td>\n      <td>MOTEL</td>\n      <td>AGUASCALIENTES</td>\n      <td>AGUASCALIENTES</td>\n      <td>NO SE DETECTO INCUMPLIMIENTO</td>\n      <td>VISITA CORRECTA</td>\n    </tr>\n    <tr>\n      <th>3</th>\n      <td>2015</td>\n      <td>AGUASCALIENTES</td>\n      <td>702/000133/2015</td>\n      <td>2015-02-12</td>\n      <td>NOM-142-SSA1-1995</td>\n      <td>BRANDY</td>\n      <td>ENVASE DE VIDRIO CONTENIDO BRANDY DE LA MARCA ...</td>\n      <td>MOTEL VILLA MIRO- MIRO HOTELERIA  S.A. DE C.V.</td>\n      <td>MOTEL</td>\n      <td>AGUASCALIENTES</td>\n      <td>AGUASCALIENTES</td>\n      <td>NO SE DETECTO INCUMPLIMIENTO</td>\n      <td>VISITA CORRECTA</td>\n    </tr>\n    <tr>\n      <th>4</th>\n      <td>2015</td>\n      <td>AGUASCALIENTES</td>\n      <td>702/000134/2015</td>\n      <td>2015-02-12</td>\n      <td>NOM-142-SSA1-1995</td>\n      <td>BRANDY</td>\n      <td>BOTELLA DE VIDRIO CONTENIDO BRANDY 100% UVA GR...</td>\n      <td>MOTEL LUA- COMPA�IA HOTELERA PESCADORES  S.A. ...</td>\n      <td>MOTEL</td>\n      <td>AGUASCALIENTES</td>\n      <td>AGUASCALIENTES</td>\n      <td>NO SE DETECTO INCUMPLIMIENTO</td>\n      <td>VISITA CORRECTA</td>\n    </tr>\n  </tbody>\n</table>\n</div>"
     },
     "metadata": {},
     "execution_count": 2
    }
   ],
   "source": [
    "products_df = pd.read_csv('data/visitas_profeco.csv')\n",
    "print(products_df.shape)\n",
    "print(products_df.columns)\n",
    "products_df.head()"
   ]
  },
  {
   "cell_type": "code",
   "execution_count": 3,
   "metadata": {},
   "outputs": [
    {
     "output_type": "stream",
     "name": "stdout",
     "text": [
      "<class 'pandas.core.frame.DataFrame'>\nRangeIndex: 31214 entries, 0 to 31213\nData columns (total 13 columns):\n #   Column                 Non-Null Count  Dtype \n---  ------                 --------------  ----- \n 0   ANIO                   31214 non-null  int64 \n 1   UNIDAD_ADMINISTRATIVA  31214 non-null  object\n 2   NUMERO_EXPEDIENTE      31214 non-null  object\n 3   FECHA_VISITA           31214 non-null  object\n 4   NOM_VERIFICADA         31214 non-null  object\n 5   TIPO_PRODUCTO          31214 non-null  object\n 6   DESCRIPCION_PRODUCTO   31214 non-null  object\n 7   RAZON_SOCIAL           31214 non-null  object\n 8   GIRO_COMERCIAL         31214 non-null  object\n 9   MUNICIPIO              31214 non-null  object\n 10  ENTIDAD                31214 non-null  object\n 11  INCUMPLIMIENTO         31214 non-null  object\n 12  RESULTADO              31214 non-null  object\ndtypes: int64(1), object(12)\nmemory usage: 3.1+ MB\n"
     ]
    }
   ],
   "source": [
    "products_df.info()"
   ]
  },
  {
   "cell_type": "code",
   "execution_count": 4,
   "metadata": {},
   "outputs": [],
   "source": [
    "def analyze_column(col, all=False):\n",
    "    l = products_df[col].unique()\n",
    "    print(f\"Shape: {l.shape}\")\n",
    "    print(\"--------------\")\n",
    "    if l.shape[0] <= 100:\n",
    "        print(l)\n",
    "    else:\n",
    "        if all:\n",
    "            print(l)\n",
    "        else:\n",
    "            print(l[:50])"
   ]
  },
  {
   "cell_type": "code",
   "execution_count": 5,
   "metadata": {},
   "outputs": [
    {
     "output_type": "stream",
     "name": "stdout",
     "text": [
      "Shape: (49,)\n--------------\n['AGUASCALIENTES' 'BAJA CALIFORNIA' 'BAJA CALIFORNIA SUR' 'CAMPECHE'\n 'CENTRO' 'CHIAPAS' 'CHIHUAHUA' 'CHIHUAHUA SUBDELEGACION' 'CIUDAD OBREGON'\n 'COAHUILA' 'COLIMA' 'DIRECCION GENERAL DE VERIFICACION Y VIGILANCIA'\n 'DURANGO' 'ECATEPEC' 'GUANAJUATO' 'GUERRERO' 'HIDALGO' 'IGUALA' 'JALISCO'\n 'MANZANILLO' 'MEXICALI' 'MICHOACAN' 'MORELOS' 'NAUCALPAN' 'NAYARIT'\n 'NEZAHUALCOYOTL' 'NUEVO LEON' 'OAXACA' 'ORIENTE' 'PLAYA DEL CARMEN'\n 'PONIENTE' 'PUEBLA' 'QUERETARO' 'QUINTANA ROO' 'REYNOSA'\n 'SAN LUIS POTOSI' 'SINALOA' 'SONORA' 'SUR' 'TABASCO' 'TAMAULIPAS'\n 'TAPACHULA' 'TLALNEPANTLA' 'TLAXCALA' 'TOLUCA' 'TORREON' 'VERACRUZ'\n 'YUCATAN' 'ZACATECAS']\n"
     ]
    }
   ],
   "source": [
    "analyze_column('UNIDAD_ADMINISTRATIVA')"
   ]
  },
  {
   "source": [
    "## Preprocesamiento\n",
    "- Conversión a catálogos\n",
    "    - Estados\n",
    "    - Tiendas\n",
    "    - Productos\n",
    "    - Relación Productos Tiendas"
   ],
   "cell_type": "markdown",
   "metadata": {}
  },
  {
   "source": [
    "### Catálogo de estados"
   ],
   "cell_type": "markdown",
   "metadata": {}
  },
  {
   "cell_type": "code",
   "execution_count": 6,
   "metadata": {},
   "outputs": [
    {
     "output_type": "stream",
     "name": "stdout",
     "text": [
      "Número de estados: 32\n"
     ]
    },
    {
     "output_type": "execute_result",
     "data": {
      "text/plain": [
       "   state_id           state_name\n",
       "0         1       AGUASCALIENTES\n",
       "1         2      BAJA CALIFORNIA\n",
       "2         3  BAJA CALIFORNIA SUR\n",
       "3         4             CAMPECHE\n",
       "4         5     DISTRITO FEDERAL"
      ],
      "text/html": "<div>\n<style scoped>\n    .dataframe tbody tr th:only-of-type {\n        vertical-align: middle;\n    }\n\n    .dataframe tbody tr th {\n        vertical-align: top;\n    }\n\n    .dataframe thead th {\n        text-align: right;\n    }\n</style>\n<table border=\"1\" class=\"dataframe\">\n  <thead>\n    <tr style=\"text-align: right;\">\n      <th></th>\n      <th>state_id</th>\n      <th>state_name</th>\n    </tr>\n  </thead>\n  <tbody>\n    <tr>\n      <th>0</th>\n      <td>1</td>\n      <td>AGUASCALIENTES</td>\n    </tr>\n    <tr>\n      <th>1</th>\n      <td>2</td>\n      <td>BAJA CALIFORNIA</td>\n    </tr>\n    <tr>\n      <th>2</th>\n      <td>3</td>\n      <td>BAJA CALIFORNIA SUR</td>\n    </tr>\n    <tr>\n      <th>3</th>\n      <td>4</td>\n      <td>CAMPECHE</td>\n    </tr>\n    <tr>\n      <th>4</th>\n      <td>5</td>\n      <td>DISTRITO FEDERAL</td>\n    </tr>\n  </tbody>\n</table>\n</div>"
     },
     "metadata": {},
     "execution_count": 6
    }
   ],
   "source": [
    "states_df = pd.DataFrame({'state_name':products_df['ENTIDAD'].unique()})\n",
    "states_df['state_id'] = list(range(1, states_df.shape[0]+1))\n",
    "states_df = states_df[['state_id', 'state_name']]\n",
    "states_df.to_csv('data/states.csv', index=False)\n",
    "print(f'Número de estados: {states_df.shape[0]}')\n",
    "states_df.head()"
   ]
  },
  {
   "source": [
    "### Catálogo de tiendas"
   ],
   "cell_type": "markdown",
   "metadata": {}
  },
  {
   "cell_type": "code",
   "execution_count": 7,
   "metadata": {},
   "outputs": [
    {
     "output_type": "execute_result",
     "data": {
      "text/plain": [
       "                                        RAZON_SOCIAL        GIRO_COMERCIAL  \\\n",
       "0              JULIO CEPEDA JUGUETERIAS S.A. DE C.V.            JUGUETERIA   \n",
       "1                           C&A DE MEXICO S. DE R.L.  TIENDA DEPARTAMENTAL   \n",
       "2                             ASFEIXAS  S.A. DE C.V.                 MOTEL   \n",
       "3     MOTEL VILLA MIRO- MIRO HOTELERIA  S.A. DE C.V.                 MOTEL   \n",
       "4  MOTEL LUA- COMPA�IA HOTELERA PESCADORES  S.A. ...                 MOTEL   \n",
       "\n",
       "        MUNICIPIO         ENTIDAD                INCUMPLIMIENTO  \\\n",
       "0  AGUASCALIENTES  AGUASCALIENTES  NO SE DETECTO INCUMPLIMIENTO   \n",
       "1  AGUASCALIENTES  AGUASCALIENTES  NO SE DETECTO INCUMPLIMIENTO   \n",
       "2  AGUASCALIENTES  AGUASCALIENTES  NO SE DETECTO INCUMPLIMIENTO   \n",
       "3  AGUASCALIENTES  AGUASCALIENTES  NO SE DETECTO INCUMPLIMIENTO   \n",
       "4  AGUASCALIENTES  AGUASCALIENTES  NO SE DETECTO INCUMPLIMIENTO   \n",
       "\n",
       "         RESULTADO  \n",
       "0  VISITA CORRECTA  \n",
       "1  VISITA CORRECTA  \n",
       "2  VISITA CORRECTA  \n",
       "3  VISITA CORRECTA  \n",
       "4  VISITA CORRECTA  "
      ],
      "text/html": "<div>\n<style scoped>\n    .dataframe tbody tr th:only-of-type {\n        vertical-align: middle;\n    }\n\n    .dataframe tbody tr th {\n        vertical-align: top;\n    }\n\n    .dataframe thead th {\n        text-align: right;\n    }\n</style>\n<table border=\"1\" class=\"dataframe\">\n  <thead>\n    <tr style=\"text-align: right;\">\n      <th></th>\n      <th>RAZON_SOCIAL</th>\n      <th>GIRO_COMERCIAL</th>\n      <th>MUNICIPIO</th>\n      <th>ENTIDAD</th>\n      <th>INCUMPLIMIENTO</th>\n      <th>RESULTADO</th>\n    </tr>\n  </thead>\n  <tbody>\n    <tr>\n      <th>0</th>\n      <td>JULIO CEPEDA JUGUETERIAS S.A. DE C.V.</td>\n      <td>JUGUETERIA</td>\n      <td>AGUASCALIENTES</td>\n      <td>AGUASCALIENTES</td>\n      <td>NO SE DETECTO INCUMPLIMIENTO</td>\n      <td>VISITA CORRECTA</td>\n    </tr>\n    <tr>\n      <th>1</th>\n      <td>C&amp;A DE MEXICO S. DE R.L.</td>\n      <td>TIENDA DEPARTAMENTAL</td>\n      <td>AGUASCALIENTES</td>\n      <td>AGUASCALIENTES</td>\n      <td>NO SE DETECTO INCUMPLIMIENTO</td>\n      <td>VISITA CORRECTA</td>\n    </tr>\n    <tr>\n      <th>2</th>\n      <td>ASFEIXAS  S.A. DE C.V.</td>\n      <td>MOTEL</td>\n      <td>AGUASCALIENTES</td>\n      <td>AGUASCALIENTES</td>\n      <td>NO SE DETECTO INCUMPLIMIENTO</td>\n      <td>VISITA CORRECTA</td>\n    </tr>\n    <tr>\n      <th>3</th>\n      <td>MOTEL VILLA MIRO- MIRO HOTELERIA  S.A. DE C.V.</td>\n      <td>MOTEL</td>\n      <td>AGUASCALIENTES</td>\n      <td>AGUASCALIENTES</td>\n      <td>NO SE DETECTO INCUMPLIMIENTO</td>\n      <td>VISITA CORRECTA</td>\n    </tr>\n    <tr>\n      <th>4</th>\n      <td>MOTEL LUA- COMPA�IA HOTELERA PESCADORES  S.A. ...</td>\n      <td>MOTEL</td>\n      <td>AGUASCALIENTES</td>\n      <td>AGUASCALIENTES</td>\n      <td>NO SE DETECTO INCUMPLIMIENTO</td>\n      <td>VISITA CORRECTA</td>\n    </tr>\n  </tbody>\n</table>\n</div>"
     },
     "metadata": {},
     "execution_count": 7
    }
   ],
   "source": [
    "products_df.iloc[:, 7:].head()"
   ]
  },
  {
   "cell_type": "code",
   "execution_count": 19,
   "metadata": {},
   "outputs": [],
   "source": [
    "def get_state_id_from(state_name):\n",
    "    return states_df[states_df['state_name'] == state_name]['state_id'].values[0]\n",
    "\n",
    "def get_additional_elements_from(stores):\n",
    "    purposes = []\n",
    "    state_ids = []\n",
    "    for store in stores:\n",
    "        e = products_df[products_df['RAZON_SOCIAL'] == store][['GIRO_COMERCIAL', 'ENTIDAD']].values\n",
    "        purposes.append(e[0][0])\n",
    "        state_ids.append(get_state_id_from(e[0][1]))\n",
    "    return purposes, state_ids"
   ]
  },
  {
   "cell_type": "code",
   "execution_count": 21,
   "metadata": {},
   "outputs": [
    {
     "output_type": "execute_result",
     "data": {
      "text/plain": [
       "   store_id                                         store_name  \\\n",
       "0         1              JULIO CEPEDA JUGUETERIAS S.A. DE C.V.   \n",
       "1         2                           C&A DE MEXICO S. DE R.L.   \n",
       "2         3                             ASFEIXAS  S.A. DE C.V.   \n",
       "3         4     MOTEL VILLA MIRO- MIRO HOTELERIA  S.A. DE C.V.   \n",
       "4         5  MOTEL LUA- COMPA�IA HOTELERA PESCADORES  S.A. ...   \n",
       "\n",
       "          store_purpose  state_id  \n",
       "0            JUGUETERIA         1  \n",
       "1  TIENDA DEPARTAMENTAL         1  \n",
       "2                 MOTEL         1  \n",
       "3                 MOTEL         1  \n",
       "4                 MOTEL         1  "
      ],
      "text/html": "<div>\n<style scoped>\n    .dataframe tbody tr th:only-of-type {\n        vertical-align: middle;\n    }\n\n    .dataframe tbody tr th {\n        vertical-align: top;\n    }\n\n    .dataframe thead th {\n        text-align: right;\n    }\n</style>\n<table border=\"1\" class=\"dataframe\">\n  <thead>\n    <tr style=\"text-align: right;\">\n      <th></th>\n      <th>store_id</th>\n      <th>store_name</th>\n      <th>store_purpose</th>\n      <th>state_id</th>\n    </tr>\n  </thead>\n  <tbody>\n    <tr>\n      <th>0</th>\n      <td>1</td>\n      <td>JULIO CEPEDA JUGUETERIAS S.A. DE C.V.</td>\n      <td>JUGUETERIA</td>\n      <td>1</td>\n    </tr>\n    <tr>\n      <th>1</th>\n      <td>2</td>\n      <td>C&amp;A DE MEXICO S. DE R.L.</td>\n      <td>TIENDA DEPARTAMENTAL</td>\n      <td>1</td>\n    </tr>\n    <tr>\n      <th>2</th>\n      <td>3</td>\n      <td>ASFEIXAS  S.A. DE C.V.</td>\n      <td>MOTEL</td>\n      <td>1</td>\n    </tr>\n    <tr>\n      <th>3</th>\n      <td>4</td>\n      <td>MOTEL VILLA MIRO- MIRO HOTELERIA  S.A. DE C.V.</td>\n      <td>MOTEL</td>\n      <td>1</td>\n    </tr>\n    <tr>\n      <th>4</th>\n      <td>5</td>\n      <td>MOTEL LUA- COMPA�IA HOTELERA PESCADORES  S.A. ...</td>\n      <td>MOTEL</td>\n      <td>1</td>\n    </tr>\n  </tbody>\n</table>\n</div>"
     },
     "metadata": {},
     "execution_count": 21
    }
   ],
   "source": [
    "store_series = products_df['RAZON_SOCIAL'].unique()\n",
    "purposes, state_ids = get_additional_elements_from(store_series)\n",
    "stores_df = pd.DataFrame(\n",
    "    {\n",
    "        'store_id': list(range(1, store_series.shape[0]+1)),\n",
    "        'store_name': store_series,\n",
    "        'store_purpose': purposes,\n",
    "        'state_id': state_ids,\n",
    "    }\n",
    ")\n",
    "stores_df.to_csv('data/stores.csv', index=False)\n",
    "stores_df.head()"
   ]
  },
  {
   "source": [
    "### Catálogo de productos"
   ],
   "cell_type": "markdown",
   "metadata": {}
  },
  {
   "cell_type": "code",
   "execution_count": 127,
   "metadata": {},
   "outputs": [
    {
     "output_type": "execute_result",
     "data": {
      "text/plain": [
       "    TIPO_PRODUCTO                               DESCRIPCION_PRODUCTO\n",
       "0         MU�ECOS  EN EMPAQUE DE CARTON ESTAMPADO Y PLASTICO RIGI...\n",
       "1  ROPA CABALLERO  CAMISA PARA CABALLERO EN COLOR AZUL MARINO DE ...\n",
       "2          BRANDY  UNA BOTELLA BRANDY DE LA MARCA TORRES 10 CON L...\n",
       "3          BRANDY  ENVASE DE VIDRIO CONTENIDO BRANDY DE LA MARCA ...\n",
       "4          BRANDY  BOTELLA DE VIDRIO CONTENIDO BRANDY 100% UVA GR..."
      ],
      "text/html": "<div>\n<style scoped>\n    .dataframe tbody tr th:only-of-type {\n        vertical-align: middle;\n    }\n\n    .dataframe tbody tr th {\n        vertical-align: top;\n    }\n\n    .dataframe thead th {\n        text-align: right;\n    }\n</style>\n<table border=\"1\" class=\"dataframe\">\n  <thead>\n    <tr style=\"text-align: right;\">\n      <th></th>\n      <th>TIPO_PRODUCTO</th>\n      <th>DESCRIPCION_PRODUCTO</th>\n    </tr>\n  </thead>\n  <tbody>\n    <tr>\n      <th>0</th>\n      <td>MU�ECOS</td>\n      <td>EN EMPAQUE DE CARTON ESTAMPADO Y PLASTICO RIGI...</td>\n    </tr>\n    <tr>\n      <th>1</th>\n      <td>ROPA CABALLERO</td>\n      <td>CAMISA PARA CABALLERO EN COLOR AZUL MARINO DE ...</td>\n    </tr>\n    <tr>\n      <th>2</th>\n      <td>BRANDY</td>\n      <td>UNA BOTELLA BRANDY DE LA MARCA TORRES 10 CON L...</td>\n    </tr>\n    <tr>\n      <th>3</th>\n      <td>BRANDY</td>\n      <td>ENVASE DE VIDRIO CONTENIDO BRANDY DE LA MARCA ...</td>\n    </tr>\n    <tr>\n      <th>4</th>\n      <td>BRANDY</td>\n      <td>BOTELLA DE VIDRIO CONTENIDO BRANDY 100% UVA GR...</td>\n    </tr>\n  </tbody>\n</table>\n</div>"
     },
     "metadata": {},
     "execution_count": 127
    }
   ],
   "source": [
    "products_df.iloc[:, 5:7].head()"
   ]
  },
  {
   "cell_type": "code",
   "execution_count": 130,
   "metadata": {},
   "outputs": [],
   "source": [
    "def clean_entity(series):\n",
    "    s = series.str.strip()\n",
    "    return s"
   ]
  },
  {
   "cell_type": "code",
   "execution_count": 138,
   "metadata": {},
   "outputs": [],
   "source": [
    "unique_prod_description = pd.unique(pd.Series(\n",
    "    clean_entity(products_df['TIPO_PRODUCTO']) + '+++' + clean_entity(products_df['DESCRIPCION_PRODUCTO'])\n",
    "))"
   ]
  },
  {
   "cell_type": "code",
   "execution_count": 142,
   "metadata": {},
   "outputs": [
    {
     "output_type": "stream",
     "name": "stdout",
     "text": [
      "27983\n"
     ]
    },
    {
     "output_type": "execute_result",
     "data": {
      "text/plain": [
       "   product_id    product_name  \\\n",
       "0           1         MU�ECOS   \n",
       "1           2  ROPA CABALLERO   \n",
       "2           3          BRANDY   \n",
       "3           4          BRANDY   \n",
       "4           5          BRANDY   \n",
       "\n",
       "                                 product_description  \n",
       "0  EN EMPAQUE DE CARTON ESTAMPADO Y PLASTICO RIGI...  \n",
       "1  CAMISA PARA CABALLERO EN COLOR AZUL MARINO DE ...  \n",
       "2  UNA BOTELLA BRANDY DE LA MARCA TORRES 10 CON L...  \n",
       "3  ENVASE DE VIDRIO CONTENIDO BRANDY DE LA MARCA ...  \n",
       "4  BOTELLA DE VIDRIO CONTENIDO BRANDY 100% UVA GR...  "
      ],
      "text/html": "<div>\n<style scoped>\n    .dataframe tbody tr th:only-of-type {\n        vertical-align: middle;\n    }\n\n    .dataframe tbody tr th {\n        vertical-align: top;\n    }\n\n    .dataframe thead th {\n        text-align: right;\n    }\n</style>\n<table border=\"1\" class=\"dataframe\">\n  <thead>\n    <tr style=\"text-align: right;\">\n      <th></th>\n      <th>product_id</th>\n      <th>product_name</th>\n      <th>product_description</th>\n    </tr>\n  </thead>\n  <tbody>\n    <tr>\n      <th>0</th>\n      <td>1</td>\n      <td>MU�ECOS</td>\n      <td>EN EMPAQUE DE CARTON ESTAMPADO Y PLASTICO RIGI...</td>\n    </tr>\n    <tr>\n      <th>1</th>\n      <td>2</td>\n      <td>ROPA CABALLERO</td>\n      <td>CAMISA PARA CABALLERO EN COLOR AZUL MARINO DE ...</td>\n    </tr>\n    <tr>\n      <th>2</th>\n      <td>3</td>\n      <td>BRANDY</td>\n      <td>UNA BOTELLA BRANDY DE LA MARCA TORRES 10 CON L...</td>\n    </tr>\n    <tr>\n      <th>3</th>\n      <td>4</td>\n      <td>BRANDY</td>\n      <td>ENVASE DE VIDRIO CONTENIDO BRANDY DE LA MARCA ...</td>\n    </tr>\n    <tr>\n      <th>4</th>\n      <td>5</td>\n      <td>BRANDY</td>\n      <td>BOTELLA DE VIDRIO CONTENIDO BRANDY 100% UVA GR...</td>\n    </tr>\n  </tbody>\n</table>\n</div>"
     },
     "metadata": {},
     "execution_count": 142
    }
   ],
   "source": [
    "products = []\n",
    "descriptions = []\n",
    "for prod_descr in unique_prod_description:\n",
    "    d = prod_descr.split('+++')\n",
    "    products.append(d[0].strip())\n",
    "    descriptions.append(d[1].strip())\n",
    "\n",
    "unique_products = pd.DataFrame(\n",
    "    {\n",
    "        'product_id':list(range(1, unique_prod_description.shape[0]+1)),\n",
    "        'product_name':products,\n",
    "        'product_description':descriptions\n",
    "    }\n",
    ")\n",
    "unique_products.to_csv('data/products.csv', index=False)\n",
    "print(unique_products.shape[0])\n",
    "unique_products.head()"
   ]
  },
  {
   "source": [
    "### Catálogo Productos Tiendas"
   ],
   "cell_type": "markdown",
   "metadata": {}
  },
  {
   "cell_type": "code",
   "execution_count": 91,
   "metadata": {},
   "outputs": [
    {
     "output_type": "execute_result",
     "data": {
      "text/plain": [
       "    TIPO_PRODUCTO                               DESCRIPCION_PRODUCTO  \\\n",
       "0         MU�ECOS  EN EMPAQUE DE CARTON ESTAMPADO Y PLASTICO RIGI...   \n",
       "1  ROPA CABALLERO  CAMISA PARA CABALLERO EN COLOR AZUL MARINO DE ...   \n",
       "2          BRANDY  UNA BOTELLA BRANDY DE LA MARCA TORRES 10 CON L...   \n",
       "3          BRANDY  ENVASE DE VIDRIO CONTENIDO BRANDY DE LA MARCA ...   \n",
       "4          BRANDY  BOTELLA DE VIDRIO CONTENIDO BRANDY 100% UVA GR...   \n",
       "\n",
       "                                        RAZON_SOCIAL        GIRO_COMERCIAL  \\\n",
       "0              JULIO CEPEDA JUGUETERIAS S.A. DE C.V.            JUGUETERIA   \n",
       "1                           C&A DE MEXICO S. DE R.L.  TIENDA DEPARTAMENTAL   \n",
       "2                             ASFEIXAS  S.A. DE C.V.                 MOTEL   \n",
       "3     MOTEL VILLA MIRO- MIRO HOTELERIA  S.A. DE C.V.                 MOTEL   \n",
       "4  MOTEL LUA- COMPA�IA HOTELERA PESCADORES  S.A. ...                 MOTEL   \n",
       "\n",
       "        MUNICIPIO         ENTIDAD                INCUMPLIMIENTO  \\\n",
       "0  AGUASCALIENTES  AGUASCALIENTES  NO SE DETECTO INCUMPLIMIENTO   \n",
       "1  AGUASCALIENTES  AGUASCALIENTES  NO SE DETECTO INCUMPLIMIENTO   \n",
       "2  AGUASCALIENTES  AGUASCALIENTES  NO SE DETECTO INCUMPLIMIENTO   \n",
       "3  AGUASCALIENTES  AGUASCALIENTES  NO SE DETECTO INCUMPLIMIENTO   \n",
       "4  AGUASCALIENTES  AGUASCALIENTES  NO SE DETECTO INCUMPLIMIENTO   \n",
       "\n",
       "         RESULTADO  \n",
       "0  VISITA CORRECTA  \n",
       "1  VISITA CORRECTA  \n",
       "2  VISITA CORRECTA  \n",
       "3  VISITA CORRECTA  \n",
       "4  VISITA CORRECTA  "
      ],
      "text/html": "<div>\n<style scoped>\n    .dataframe tbody tr th:only-of-type {\n        vertical-align: middle;\n    }\n\n    .dataframe tbody tr th {\n        vertical-align: top;\n    }\n\n    .dataframe thead th {\n        text-align: right;\n    }\n</style>\n<table border=\"1\" class=\"dataframe\">\n  <thead>\n    <tr style=\"text-align: right;\">\n      <th></th>\n      <th>TIPO_PRODUCTO</th>\n      <th>DESCRIPCION_PRODUCTO</th>\n      <th>RAZON_SOCIAL</th>\n      <th>GIRO_COMERCIAL</th>\n      <th>MUNICIPIO</th>\n      <th>ENTIDAD</th>\n      <th>INCUMPLIMIENTO</th>\n      <th>RESULTADO</th>\n    </tr>\n  </thead>\n  <tbody>\n    <tr>\n      <th>0</th>\n      <td>MU�ECOS</td>\n      <td>EN EMPAQUE DE CARTON ESTAMPADO Y PLASTICO RIGI...</td>\n      <td>JULIO CEPEDA JUGUETERIAS S.A. DE C.V.</td>\n      <td>JUGUETERIA</td>\n      <td>AGUASCALIENTES</td>\n      <td>AGUASCALIENTES</td>\n      <td>NO SE DETECTO INCUMPLIMIENTO</td>\n      <td>VISITA CORRECTA</td>\n    </tr>\n    <tr>\n      <th>1</th>\n      <td>ROPA CABALLERO</td>\n      <td>CAMISA PARA CABALLERO EN COLOR AZUL MARINO DE ...</td>\n      <td>C&amp;A DE MEXICO S. DE R.L.</td>\n      <td>TIENDA DEPARTAMENTAL</td>\n      <td>AGUASCALIENTES</td>\n      <td>AGUASCALIENTES</td>\n      <td>NO SE DETECTO INCUMPLIMIENTO</td>\n      <td>VISITA CORRECTA</td>\n    </tr>\n    <tr>\n      <th>2</th>\n      <td>BRANDY</td>\n      <td>UNA BOTELLA BRANDY DE LA MARCA TORRES 10 CON L...</td>\n      <td>ASFEIXAS  S.A. DE C.V.</td>\n      <td>MOTEL</td>\n      <td>AGUASCALIENTES</td>\n      <td>AGUASCALIENTES</td>\n      <td>NO SE DETECTO INCUMPLIMIENTO</td>\n      <td>VISITA CORRECTA</td>\n    </tr>\n    <tr>\n      <th>3</th>\n      <td>BRANDY</td>\n      <td>ENVASE DE VIDRIO CONTENIDO BRANDY DE LA MARCA ...</td>\n      <td>MOTEL VILLA MIRO- MIRO HOTELERIA  S.A. DE C.V.</td>\n      <td>MOTEL</td>\n      <td>AGUASCALIENTES</td>\n      <td>AGUASCALIENTES</td>\n      <td>NO SE DETECTO INCUMPLIMIENTO</td>\n      <td>VISITA CORRECTA</td>\n    </tr>\n    <tr>\n      <th>4</th>\n      <td>BRANDY</td>\n      <td>BOTELLA DE VIDRIO CONTENIDO BRANDY 100% UVA GR...</td>\n      <td>MOTEL LUA- COMPA�IA HOTELERA PESCADORES  S.A. ...</td>\n      <td>MOTEL</td>\n      <td>AGUASCALIENTES</td>\n      <td>AGUASCALIENTES</td>\n      <td>NO SE DETECTO INCUMPLIMIENTO</td>\n      <td>VISITA CORRECTA</td>\n    </tr>\n  </tbody>\n</table>\n</div>"
     },
     "metadata": {},
     "execution_count": 91
    }
   ],
   "source": [
    "products_df.iloc[:, 5:].head()"
   ]
  },
  {
   "cell_type": "code",
   "execution_count": 170,
   "metadata": {},
   "outputs": [],
   "source": [
    "def get_product_id_from(name, description):\n",
    "    name = name.strip()\n",
    "    description = description.strip()\n",
    "    return unique_products[\n",
    "        (unique_products['product_name'] == name) &\n",
    "        (unique_products['product_description'] == description)\n",
    "    ]['product_id'].values[0]\n",
    "\n",
    "def get_store_id_from(name):\n",
    "    return stores_df[stores_df['store_name'] == name]['store_id'].values[0]"
   ]
  },
  {
   "cell_type": "code",
   "execution_count": 171,
   "metadata": {
    "tags": []
   },
   "outputs": [],
   "source": [
    "for idx, row in products_df.iterrows():\n",
    "    try:\n",
    "        get_product_id_from(row['TIPO_PRODUCTO'], row['DESCRIPCION_PRODUCTO'])\n",
    "    except:\n",
    "        print(row['TIPO_PRODUCTO'], row['DESCRIPCION_PRODUCTO'])\n",
    "        break"
   ]
  },
  {
   "cell_type": "code",
   "execution_count": 172,
   "metadata": {},
   "outputs": [],
   "source": [
    "p = []\n",
    "s = []\n",
    "m = []\n",
    "for idx, row in products_df.iterrows():\n",
    "    product_name = row['TIPO_PRODUCTO']\n",
    "    product_description = row['DESCRIPCION_PRODUCTO']\n",
    "    store_name = row['RAZON_SOCIAL']\n",
    "    p.append(get_product_id_from(product_name, product_description))\n",
    "    s.append(get_store_id_from(store_name))\n",
    "    m.append(row['INCUMPLIMIENTO'])"
   ]
  },
  {
   "cell_type": "code",
   "execution_count": 173,
   "metadata": {},
   "outputs": [
    {
     "output_type": "execute_result",
     "data": {
      "text/plain": [
       "   product_id  store_id           missing_requirement\n",
       "0           1         1  NO SE DETECTO INCUMPLIMIENTO\n",
       "1           2         2  NO SE DETECTO INCUMPLIMIENTO\n",
       "2           3         3  NO SE DETECTO INCUMPLIMIENTO\n",
       "3           4         4  NO SE DETECTO INCUMPLIMIENTO\n",
       "4           5         5  NO SE DETECTO INCUMPLIMIENTO"
      ],
      "text/html": "<div>\n<style scoped>\n    .dataframe tbody tr th:only-of-type {\n        vertical-align: middle;\n    }\n\n    .dataframe tbody tr th {\n        vertical-align: top;\n    }\n\n    .dataframe thead th {\n        text-align: right;\n    }\n</style>\n<table border=\"1\" class=\"dataframe\">\n  <thead>\n    <tr style=\"text-align: right;\">\n      <th></th>\n      <th>product_id</th>\n      <th>store_id</th>\n      <th>missing_requirement</th>\n    </tr>\n  </thead>\n  <tbody>\n    <tr>\n      <th>0</th>\n      <td>1</td>\n      <td>1</td>\n      <td>NO SE DETECTO INCUMPLIMIENTO</td>\n    </tr>\n    <tr>\n      <th>1</th>\n      <td>2</td>\n      <td>2</td>\n      <td>NO SE DETECTO INCUMPLIMIENTO</td>\n    </tr>\n    <tr>\n      <th>2</th>\n      <td>3</td>\n      <td>3</td>\n      <td>NO SE DETECTO INCUMPLIMIENTO</td>\n    </tr>\n    <tr>\n      <th>3</th>\n      <td>4</td>\n      <td>4</td>\n      <td>NO SE DETECTO INCUMPLIMIENTO</td>\n    </tr>\n    <tr>\n      <th>4</th>\n      <td>5</td>\n      <td>5</td>\n      <td>NO SE DETECTO INCUMPLIMIENTO</td>\n    </tr>\n  </tbody>\n</table>\n</div>"
     },
     "metadata": {},
     "execution_count": 173
    }
   ],
   "source": [
    "product_store_df = pd.DataFrame(\n",
    "    {\n",
    "        'product_id':p,\n",
    "        'store_id':s,\n",
    "        'missing_requirement':m\n",
    "    }\n",
    ")\n",
    "product_store_df.to_csv('data/product_store.csv', index=False)\n",
    "product_store_df.head()"
   ]
  },
  {
   "cell_type": "code",
   "execution_count": null,
   "metadata": {},
   "outputs": [],
   "source": []
  }
 ]
}