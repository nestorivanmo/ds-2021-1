{
 "metadata": {
  "language_info": {
   "codemirror_mode": {
    "name": "ipython",
    "version": 3
   },
   "file_extension": ".py",
   "mimetype": "text/x-python",
   "name": "python",
   "nbconvert_exporter": "python",
   "pygments_lexer": "ipython3",
   "version": "3.8.2"
  },
  "orig_nbformat": 2,
  "kernelspec": {
   "name": "python382jvsc74a57bd03db2a761c894a3ccb5a274e949cf2d895d30bc283add142b3fb2c1d4f862436a",
   "display_name": "Python 3.8.2 64-bit ('base': conda)"
  }
 },
 "nbformat": 4,
 "nbformat_minor": 2,
 "cells": [
  {
   "cell_type": "code",
   "execution_count": 27,
   "metadata": {},
   "outputs": [],
   "source": [
    "import pandas as pd"
   ]
  },
  {
   "cell_type": "code",
   "execution_count": 32,
   "metadata": {},
   "outputs": [
    {
     "output_type": "execute_result",
     "data": {
      "text/plain": [
       "   CLIENTE                 PRODUCTO                      AUTOR  CALIFICACION  \\\n",
       "0  Alfonso           Un mundo feliz              Aldous Huxley            10   \n",
       "1  Alfonso  La dama de las camelias            Alexandre Dumas            10   \n",
       "2  Alfonso   El lazarillo de Tormes                    Anónimo             9   \n",
       "3  Alfonso            El Principito  Antoine de Sainte-Exupéry            10   \n",
       "4  Alfonso      Nacidos para correr      Christopher McDougall            10   \n",
       "\n",
       "  CATEGORIA  \n",
       "0   ficcion  \n",
       "1    novela  \n",
       "2    novela  \n",
       "3  fantasia  \n",
       "4  deportes  "
      ],
      "text/html": "<div>\n<style scoped>\n    .dataframe tbody tr th:only-of-type {\n        vertical-align: middle;\n    }\n\n    .dataframe tbody tr th {\n        vertical-align: top;\n    }\n\n    .dataframe thead th {\n        text-align: right;\n    }\n</style>\n<table border=\"1\" class=\"dataframe\">\n  <thead>\n    <tr style=\"text-align: right;\">\n      <th></th>\n      <th>CLIENTE</th>\n      <th>PRODUCTO</th>\n      <th>AUTOR</th>\n      <th>CALIFICACION</th>\n      <th>CATEGORIA</th>\n    </tr>\n  </thead>\n  <tbody>\n    <tr>\n      <th>0</th>\n      <td>Alfonso</td>\n      <td>Un mundo feliz</td>\n      <td>Aldous Huxley</td>\n      <td>10</td>\n      <td>ficcion</td>\n    </tr>\n    <tr>\n      <th>1</th>\n      <td>Alfonso</td>\n      <td>La dama de las camelias</td>\n      <td>Alexandre Dumas</td>\n      <td>10</td>\n      <td>novela</td>\n    </tr>\n    <tr>\n      <th>2</th>\n      <td>Alfonso</td>\n      <td>El lazarillo de Tormes</td>\n      <td>Anónimo</td>\n      <td>9</td>\n      <td>novela</td>\n    </tr>\n    <tr>\n      <th>3</th>\n      <td>Alfonso</td>\n      <td>El Principito</td>\n      <td>Antoine de Sainte-Exupéry</td>\n      <td>10</td>\n      <td>fantasia</td>\n    </tr>\n    <tr>\n      <th>4</th>\n      <td>Alfonso</td>\n      <td>Nacidos para correr</td>\n      <td>Christopher McDougall</td>\n      <td>10</td>\n      <td>deportes</td>\n    </tr>\n  </tbody>\n</table>\n</div>"
     },
     "metadata": {},
     "execution_count": 32
    }
   ],
   "source": [
    "df = pd.read_csv('raw_books.csv')\n",
    "df.head()"
   ]
  },
  {
   "source": [
    "# books_keyspace"
   ],
   "cell_type": "markdown",
   "metadata": {}
  },
  {
   "source": [
    "## s-04-insert-books-by-title.cql"
   ],
   "cell_type": "markdown",
   "metadata": {}
  },
  {
   "cell_type": "code",
   "execution_count": 14,
   "metadata": {},
   "outputs": [
    {
     "output_type": "execute_result",
     "data": {
      "text/plain": [
       "                book_title                    authors book_category\n",
       "0           Un mundo feliz              Aldous Huxley       ficcion\n",
       "1  La dama de las camelias            Alexandre Dumas        novela\n",
       "2   El lazarillo de Tormes                    Anónimo        novela\n",
       "3            El Principito  Antoine de Sainte-Exupéry      fantasia\n",
       "4      Nacidos para correr      Christopher McDougall      deportes"
      ],
      "text/html": "<div>\n<style scoped>\n    .dataframe tbody tr th:only-of-type {\n        vertical-align: middle;\n    }\n\n    .dataframe tbody tr th {\n        vertical-align: top;\n    }\n\n    .dataframe thead th {\n        text-align: right;\n    }\n</style>\n<table border=\"1\" class=\"dataframe\">\n  <thead>\n    <tr style=\"text-align: right;\">\n      <th></th>\n      <th>book_title</th>\n      <th>authors</th>\n      <th>book_category</th>\n    </tr>\n  </thead>\n  <tbody>\n    <tr>\n      <th>0</th>\n      <td>Un mundo feliz</td>\n      <td>Aldous Huxley</td>\n      <td>ficcion</td>\n    </tr>\n    <tr>\n      <th>1</th>\n      <td>La dama de las camelias</td>\n      <td>Alexandre Dumas</td>\n      <td>novela</td>\n    </tr>\n    <tr>\n      <th>2</th>\n      <td>El lazarillo de Tormes</td>\n      <td>Anónimo</td>\n      <td>novela</td>\n    </tr>\n    <tr>\n      <th>3</th>\n      <td>El Principito</td>\n      <td>Antoine de Sainte-Exupéry</td>\n      <td>fantasia</td>\n    </tr>\n    <tr>\n      <th>4</th>\n      <td>Nacidos para correr</td>\n      <td>Christopher McDougall</td>\n      <td>deportes</td>\n    </tr>\n  </tbody>\n</table>\n</div>"
     },
     "metadata": {},
     "execution_count": 14
    }
   ],
   "source": [
    "new_df = df.loc[:, [\"PRODUCTO\", \"AUTOR\", \"CATEGORIA\"]]\n",
    "new_df = new_df.rename(columns={'PRODUCTO':'book_title', 'AUTOR':'authors', 'CATEGORIA':'book_category'})\n",
    "new_df.head()"
   ]
  },
  {
   "cell_type": "code",
   "execution_count": 15,
   "metadata": {},
   "outputs": [
    {
     "output_type": "stream",
     "name": "stdout",
     "text": [
      "<class 'pandas.core.frame.DataFrame'>\nRangeIndex: 193 entries, 0 to 192\nData columns (total 3 columns):\n #   Column         Non-Null Count  Dtype \n---  ------         --------------  ----- \n 0   book_title     193 non-null    object\n 1   authors        193 non-null    object\n 2   book_category  193 non-null    object\ndtypes: object(3)\nmemory usage: 4.6+ KB\n"
     ]
    }
   ],
   "source": [
    "new_df.info()"
   ]
  },
  {
   "cell_type": "code",
   "execution_count": 30,
   "metadata": {},
   "outputs": [
    {
     "output_type": "execute_result",
     "data": {
      "text/plain": [
       "                                           statement\n",
       "0  INSERT INTO books_by_title(book_title, book_ca...\n",
       "1  INSERT INTO books_by_title(book_title, book_ca...\n",
       "2  INSERT INTO books_by_title(book_title, book_ca...\n",
       "3  INSERT INTO books_by_title(book_title, book_ca...\n",
       "4  INSERT INTO books_by_title(book_title, book_ca..."
      ],
      "text/html": "<div>\n<style scoped>\n    .dataframe tbody tr th:only-of-type {\n        vertical-align: middle;\n    }\n\n    .dataframe tbody tr th {\n        vertical-align: top;\n    }\n\n    .dataframe thead th {\n        text-align: right;\n    }\n</style>\n<table border=\"1\" class=\"dataframe\">\n  <thead>\n    <tr style=\"text-align: right;\">\n      <th></th>\n      <th>statement</th>\n    </tr>\n  </thead>\n  <tbody>\n    <tr>\n      <th>0</th>\n      <td>INSERT INTO books_by_title(book_title, book_ca...</td>\n    </tr>\n    <tr>\n      <th>1</th>\n      <td>INSERT INTO books_by_title(book_title, book_ca...</td>\n    </tr>\n    <tr>\n      <th>2</th>\n      <td>INSERT INTO books_by_title(book_title, book_ca...</td>\n    </tr>\n    <tr>\n      <th>3</th>\n      <td>INSERT INTO books_by_title(book_title, book_ca...</td>\n    </tr>\n    <tr>\n      <th>4</th>\n      <td>INSERT INTO books_by_title(book_title, book_ca...</td>\n    </tr>\n  </tbody>\n</table>\n</div>"
     },
     "metadata": {},
     "execution_count": 30
    }
   ],
   "source": [
    "new_rows = []\n",
    "base = \"INSERT INTO books_by_title(book_title, book_category, authors) VALUES (\"\n",
    "for idx, row in new_df.iterrows():\n",
    "    values = \"\\'\" + row[\"book_title\"] + \"\\', \\'\" + row[\"book_category\"] + \"\\', {\\'\" + row[\"authors\"] + \"\\'}\"\n",
    "    new_rows.append(base + values + \");\")\n",
    "final_df = pd.DataFrame(data = {'statement': new_rows})\n",
    "final_df.head()"
   ]
  },
  {
   "cell_type": "code",
   "execution_count": 25,
   "metadata": {},
   "outputs": [],
   "source": [
    "final_df.to_csv('s-04-insert-books-by-title.cql', index=False)"
   ]
  },
  {
   "source": [
    "## s-04-insert-books-by-username.cql"
   ],
   "cell_type": "markdown",
   "metadata": {}
  },
  {
   "cell_type": "code",
   "execution_count": 29,
   "metadata": {},
   "outputs": [
    {
     "output_type": "execute_result",
     "data": {
      "text/plain": [
       "   CLIENTE                 PRODUCTO                      AUTOR  CALIFICACION  \\\n",
       "0  Alfonso           Un mundo feliz              Aldous Huxley            10   \n",
       "1  Alfonso  La dama de las camelias            Alexandre Dumas            10   \n",
       "2  Alfonso   El lazarillo de Tormes                    Anónimo             9   \n",
       "3  Alfonso            El Principito  Antoine de Sainte-Exupéry            10   \n",
       "4  Alfonso      Nacidos para correr      Christopher McDougall            10   \n",
       "\n",
       "  CATEGORIA  \n",
       "0   ficcion  \n",
       "1    novela  \n",
       "2    novela  \n",
       "3  fantasia  \n",
       "4  deportes  "
      ],
      "text/html": "<div>\n<style scoped>\n    .dataframe tbody tr th:only-of-type {\n        vertical-align: middle;\n    }\n\n    .dataframe tbody tr th {\n        vertical-align: top;\n    }\n\n    .dataframe thead th {\n        text-align: right;\n    }\n</style>\n<table border=\"1\" class=\"dataframe\">\n  <thead>\n    <tr style=\"text-align: right;\">\n      <th></th>\n      <th>CLIENTE</th>\n      <th>PRODUCTO</th>\n      <th>AUTOR</th>\n      <th>CALIFICACION</th>\n      <th>CATEGORIA</th>\n    </tr>\n  </thead>\n  <tbody>\n    <tr>\n      <th>0</th>\n      <td>Alfonso</td>\n      <td>Un mundo feliz</td>\n      <td>Aldous Huxley</td>\n      <td>10</td>\n      <td>ficcion</td>\n    </tr>\n    <tr>\n      <th>1</th>\n      <td>Alfonso</td>\n      <td>La dama de las camelias</td>\n      <td>Alexandre Dumas</td>\n      <td>10</td>\n      <td>novela</td>\n    </tr>\n    <tr>\n      <th>2</th>\n      <td>Alfonso</td>\n      <td>El lazarillo de Tormes</td>\n      <td>Anónimo</td>\n      <td>9</td>\n      <td>novela</td>\n    </tr>\n    <tr>\n      <th>3</th>\n      <td>Alfonso</td>\n      <td>El Principito</td>\n      <td>Antoine de Sainte-Exupéry</td>\n      <td>10</td>\n      <td>fantasia</td>\n    </tr>\n    <tr>\n      <th>4</th>\n      <td>Alfonso</td>\n      <td>Nacidos para correr</td>\n      <td>Christopher McDougall</td>\n      <td>10</td>\n      <td>deportes</td>\n    </tr>\n  </tbody>\n</table>\n</div>"
     },
     "metadata": {},
     "execution_count": 29
    }
   ],
   "source": [
    "df.head()"
   ]
  },
  {
   "cell_type": "code",
   "execution_count": 39,
   "metadata": {},
   "outputs": [
    {
     "output_type": "execute_result",
     "data": {
      "text/plain": [
       "                                           statement\n",
       "0  INSERT INTO books_by_username(username, book_t...\n",
       "1  INSERT INTO books_by_username(username, book_t...\n",
       "2  INSERT INTO books_by_username(username, book_t...\n",
       "3  INSERT INTO books_by_username(username, book_t...\n",
       "4  INSERT INTO books_by_username(username, book_t..."
      ],
      "text/html": "<div>\n<style scoped>\n    .dataframe tbody tr th:only-of-type {\n        vertical-align: middle;\n    }\n\n    .dataframe tbody tr th {\n        vertical-align: top;\n    }\n\n    .dataframe thead th {\n        text-align: right;\n    }\n</style>\n<table border=\"1\" class=\"dataframe\">\n  <thead>\n    <tr style=\"text-align: right;\">\n      <th></th>\n      <th>statement</th>\n    </tr>\n  </thead>\n  <tbody>\n    <tr>\n      <th>0</th>\n      <td>INSERT INTO books_by_username(username, book_t...</td>\n    </tr>\n    <tr>\n      <th>1</th>\n      <td>INSERT INTO books_by_username(username, book_t...</td>\n    </tr>\n    <tr>\n      <th>2</th>\n      <td>INSERT INTO books_by_username(username, book_t...</td>\n    </tr>\n    <tr>\n      <th>3</th>\n      <td>INSERT INTO books_by_username(username, book_t...</td>\n    </tr>\n    <tr>\n      <th>4</th>\n      <td>INSERT INTO books_by_username(username, book_t...</td>\n    </tr>\n  </tbody>\n</table>\n</div>"
     },
     "metadata": {},
     "execution_count": 39
    }
   ],
   "source": [
    "new_rows = []\n",
    "base = \"INSERT INTO books_by_username(username, book_title, book_category, book_authors, score) VALUES (\"\n",
    "for idx, row in df.iterrows():\n",
    "    sep = \"\\', \\'\"\n",
    "    unique = \"\\'\"\n",
    "    dict_sep = \"\\', {\\'\"\n",
    "    values = unique + row[\"CLIENTE\"] + sep + row[\"PRODUCTO\"] + sep + row[\"CATEGORIA\"] + dict_sep + row[\"AUTOR\"] + '\\'},' + str(row[\"CALIFICACION\"])\n",
    "    new_rows.append(base + values + \");\")\n",
    "final_df = pd.DataFrame(data = {'statement': new_rows})\n",
    "final_df.head()"
   ]
  },
  {
   "cell_type": "code",
   "execution_count": 40,
   "metadata": {},
   "outputs": [],
   "source": [
    "final_df.to_csv('s-04-insert-books-by-username.cql', index=False)"
   ]
  },
  {
   "source": [
    "## s-04-insert-books-by-score.cql"
   ],
   "cell_type": "markdown",
   "metadata": {}
  },
  {
   "cell_type": "code",
   "execution_count": 42,
   "metadata": {},
   "outputs": [
    {
     "output_type": "execute_result",
     "data": {
      "text/plain": [
       "   CLIENTE                 PRODUCTO                      AUTOR  CALIFICACION  \\\n",
       "0  Alfonso           Un mundo feliz              Aldous Huxley            10   \n",
       "1  Alfonso  La dama de las camelias            Alexandre Dumas            10   \n",
       "2  Alfonso   El lazarillo de Tormes                    Anónimo             9   \n",
       "3  Alfonso            El Principito  Antoine de Sainte-Exupéry            10   \n",
       "4  Alfonso      Nacidos para correr      Christopher McDougall            10   \n",
       "\n",
       "  CATEGORIA  \n",
       "0   ficcion  \n",
       "1    novela  \n",
       "2    novela  \n",
       "3  fantasia  \n",
       "4  deportes  "
      ],
      "text/html": "<div>\n<style scoped>\n    .dataframe tbody tr th:only-of-type {\n        vertical-align: middle;\n    }\n\n    .dataframe tbody tr th {\n        vertical-align: top;\n    }\n\n    .dataframe thead th {\n        text-align: right;\n    }\n</style>\n<table border=\"1\" class=\"dataframe\">\n  <thead>\n    <tr style=\"text-align: right;\">\n      <th></th>\n      <th>CLIENTE</th>\n      <th>PRODUCTO</th>\n      <th>AUTOR</th>\n      <th>CALIFICACION</th>\n      <th>CATEGORIA</th>\n    </tr>\n  </thead>\n  <tbody>\n    <tr>\n      <th>0</th>\n      <td>Alfonso</td>\n      <td>Un mundo feliz</td>\n      <td>Aldous Huxley</td>\n      <td>10</td>\n      <td>ficcion</td>\n    </tr>\n    <tr>\n      <th>1</th>\n      <td>Alfonso</td>\n      <td>La dama de las camelias</td>\n      <td>Alexandre Dumas</td>\n      <td>10</td>\n      <td>novela</td>\n    </tr>\n    <tr>\n      <th>2</th>\n      <td>Alfonso</td>\n      <td>El lazarillo de Tormes</td>\n      <td>Anónimo</td>\n      <td>9</td>\n      <td>novela</td>\n    </tr>\n    <tr>\n      <th>3</th>\n      <td>Alfonso</td>\n      <td>El Principito</td>\n      <td>Antoine de Sainte-Exupéry</td>\n      <td>10</td>\n      <td>fantasia</td>\n    </tr>\n    <tr>\n      <th>4</th>\n      <td>Alfonso</td>\n      <td>Nacidos para correr</td>\n      <td>Christopher McDougall</td>\n      <td>10</td>\n      <td>deportes</td>\n    </tr>\n  </tbody>\n</table>\n</div>"
     },
     "metadata": {},
     "execution_count": 42
    }
   ],
   "source": [
    "df.head()"
   ]
  },
  {
   "cell_type": "code",
   "execution_count": 45,
   "metadata": {},
   "outputs": [
    {
     "output_type": "execute_result",
     "data": {
      "text/plain": [
       "                                           statement\n",
       "0  INSERT INTO books_by_score(score, book_title, ...\n",
       "1  INSERT INTO books_by_score(score, book_title, ...\n",
       "2  INSERT INTO books_by_score(score, book_title, ...\n",
       "3  INSERT INTO books_by_score(score, book_title, ...\n",
       "4  INSERT INTO books_by_score(score, book_title, ..."
      ],
      "text/html": "<div>\n<style scoped>\n    .dataframe tbody tr th:only-of-type {\n        vertical-align: middle;\n    }\n\n    .dataframe tbody tr th {\n        vertical-align: top;\n    }\n\n    .dataframe thead th {\n        text-align: right;\n    }\n</style>\n<table border=\"1\" class=\"dataframe\">\n  <thead>\n    <tr style=\"text-align: right;\">\n      <th></th>\n      <th>statement</th>\n    </tr>\n  </thead>\n  <tbody>\n    <tr>\n      <th>0</th>\n      <td>INSERT INTO books_by_score(score, book_title, ...</td>\n    </tr>\n    <tr>\n      <th>1</th>\n      <td>INSERT INTO books_by_score(score, book_title, ...</td>\n    </tr>\n    <tr>\n      <th>2</th>\n      <td>INSERT INTO books_by_score(score, book_title, ...</td>\n    </tr>\n    <tr>\n      <th>3</th>\n      <td>INSERT INTO books_by_score(score, book_title, ...</td>\n    </tr>\n    <tr>\n      <th>4</th>\n      <td>INSERT INTO books_by_score(score, book_title, ...</td>\n    </tr>\n  </tbody>\n</table>\n</div>"
     },
     "metadata": {},
     "execution_count": 45
    }
   ],
   "source": [
    "new_rows = []\n",
    "base = \"INSERT INTO books_by_score(score, book_title, book_category, authors) VALUES (\"\n",
    "sep = \"\\', \\'\"\n",
    "unique = \"\\'\"\n",
    "dict_sep = \"\\', {\\'\"\n",
    "end_dict_sep = \"\\'}\"\n",
    "for idx, row in df.iterrows():\n",
    "    values = str(row[\"CALIFICACION\"]) + ',\\'' + row[\"PRODUCTO\"] + sep + row[\"CATEGORIA\"] + dict_sep + row[\"AUTOR\"] + end_dict_sep\n",
    "    new_rows.append(base + values + \");\")\n",
    "final_df = pd.DataFrame(data = {'statement': new_rows})\n",
    "final_df.head()"
   ]
  },
  {
   "cell_type": "code",
   "execution_count": 46,
   "metadata": {},
   "outputs": [],
   "source": [
    "final_df.to_csv('s-04-insert-books-by-score.cql', index=False)"
   ]
  },
  {
   "source": [
    "# clients_keyspace"
   ],
   "cell_type": "markdown",
   "metadata": {}
  },
  {
   "source": [
    "## s-05-insert-clients-by-username.cql"
   ],
   "cell_type": "markdown",
   "metadata": {}
  },
  {
   "cell_type": "code",
   "execution_count": 7,
   "metadata": {},
   "outputs": [
    {
     "output_type": "execute_result",
     "data": {
      "text/plain": [
       "   CLIENTE   NOMBRE   APELLIDO     PAIS MEMBRESIA    TELEFONO\n",
       "0  alfonso  Alfonso    Barajas   Mexico  Estándar  5539848129\n",
       "1  antonio  Antonio    Aguilar   México  Estándar  5539299465\n",
       "2  artemio  Artemio    Padilla  Nigeria  Diamante  5539852382\n",
       "3   avilix   Avilix  Hernández   México  Estándar  5539852756\n",
       "4   benito   Benito     Franco  Nigeria  Estándar  5539448736"
      ],
      "text/html": "<div>\n<style scoped>\n    .dataframe tbody tr th:only-of-type {\n        vertical-align: middle;\n    }\n\n    .dataframe tbody tr th {\n        vertical-align: top;\n    }\n\n    .dataframe thead th {\n        text-align: right;\n    }\n</style>\n<table border=\"1\" class=\"dataframe\">\n  <thead>\n    <tr style=\"text-align: right;\">\n      <th></th>\n      <th>CLIENTE</th>\n      <th>NOMBRE</th>\n      <th>APELLIDO</th>\n      <th>PAIS</th>\n      <th>MEMBRESIA</th>\n      <th>TELEFONO</th>\n    </tr>\n  </thead>\n  <tbody>\n    <tr>\n      <th>0</th>\n      <td>alfonso</td>\n      <td>Alfonso</td>\n      <td>Barajas</td>\n      <td>Mexico</td>\n      <td>Estándar</td>\n      <td>5539848129</td>\n    </tr>\n    <tr>\n      <th>1</th>\n      <td>antonio</td>\n      <td>Antonio</td>\n      <td>Aguilar</td>\n      <td>México</td>\n      <td>Estándar</td>\n      <td>5539299465</td>\n    </tr>\n    <tr>\n      <th>2</th>\n      <td>artemio</td>\n      <td>Artemio</td>\n      <td>Padilla</td>\n      <td>Nigeria</td>\n      <td>Diamante</td>\n      <td>5539852382</td>\n    </tr>\n    <tr>\n      <th>3</th>\n      <td>avilix</td>\n      <td>Avilix</td>\n      <td>Hernández</td>\n      <td>México</td>\n      <td>Estándar</td>\n      <td>5539852756</td>\n    </tr>\n    <tr>\n      <th>4</th>\n      <td>benito</td>\n      <td>Benito</td>\n      <td>Franco</td>\n      <td>Nigeria</td>\n      <td>Estándar</td>\n      <td>5539448736</td>\n    </tr>\n  </tbody>\n</table>\n</div>"
     },
     "metadata": {},
     "execution_count": 7
    }
   ],
   "source": [
    "clients_df = pd.read_csv('raw_clients.csv')\n",
    "clients_df.columns = clients_df.columns.str.replace(' ', '')\n",
    "for col in clients_df.columns:\n",
    "    if col != \"TELEFONO\":\n",
    "        clients_df[col] = clients_df[col].str.replace(' ', '')\n",
    "    if col == \"CLIENTE\":\n",
    "        clients_df[col] = clients_df[col].str.lower()\n",
    "clients_df.head()"
   ]
  },
  {
   "cell_type": "code",
   "execution_count": 85,
   "metadata": {},
   "outputs": [
    {
     "output_type": "execute_result",
     "data": {
      "text/plain": [
       "                                           statement\n",
       "0  INSERT INTO clients_by_username(username, last...\n",
       "1  INSERT INTO clients_by_username(username, last...\n",
       "2  INSERT INTO clients_by_username(username, last...\n",
       "3  INSERT INTO clients_by_username(username, last...\n",
       "4  INSERT INTO clients_by_username(username, last..."
      ],
      "text/html": "<div>\n<style scoped>\n    .dataframe tbody tr th:only-of-type {\n        vertical-align: middle;\n    }\n\n    .dataframe tbody tr th {\n        vertical-align: top;\n    }\n\n    .dataframe thead th {\n        text-align: right;\n    }\n</style>\n<table border=\"1\" class=\"dataframe\">\n  <thead>\n    <tr style=\"text-align: right;\">\n      <th></th>\n      <th>statement</th>\n    </tr>\n  </thead>\n  <tbody>\n    <tr>\n      <th>0</th>\n      <td>INSERT INTO clients_by_username(username, last...</td>\n    </tr>\n    <tr>\n      <th>1</th>\n      <td>INSERT INTO clients_by_username(username, last...</td>\n    </tr>\n    <tr>\n      <th>2</th>\n      <td>INSERT INTO clients_by_username(username, last...</td>\n    </tr>\n    <tr>\n      <th>3</th>\n      <td>INSERT INTO clients_by_username(username, last...</td>\n    </tr>\n    <tr>\n      <th>4</th>\n      <td>INSERT INTO clients_by_username(username, last...</td>\n    </tr>\n  </tbody>\n</table>\n</div>"
     },
     "metadata": {},
     "execution_count": 85
    }
   ],
   "source": [
    "new_rows = []\n",
    "base = \"INSERT INTO clients_by_username(username, last_name, country, first_name, membership) VALUES (\"\n",
    "sep = \"\\', \\'\"\n",
    "unique = \"\\'\"\n",
    "dict_sep = \"\\', {\\'\"\n",
    "end_dict_sep = \"\\'}\"\n",
    "for idx, row in clients_df.iterrows():\n",
    "    values = unique + row[\"CLIENTE\"] + sep + row[\"APELLIDO\"] + sep + row[\"PAIS\"] + sep + row[\"NOMBRE\"] + sep + row[\"MEMBRESIA\"] + unique\n",
    "    new_rows.append(base + values + \");\")\n",
    "final_df = pd.DataFrame(data = {'statement': new_rows})\n",
    "final_df.head()"
   ]
  },
  {
   "cell_type": "code",
   "execution_count": 86,
   "metadata": {},
   "outputs": [],
   "source": [
    "final_df.to_csv('s-05-insert-clients-by-username.cql', index=False)"
   ]
  },
  {
   "source": [
    "## s-05-insert-clients-by-country.cql"
   ],
   "cell_type": "markdown",
   "metadata": {}
  },
  {
   "cell_type": "code",
   "execution_count": 88,
   "metadata": {},
   "outputs": [
    {
     "output_type": "stream",
     "name": "stdout",
     "text": [
      "[\"INSERT INTO clients_by_country(country, username, first_name, last_name, membership) VALUES ('Mexico', 'alfonso', 'Alfonso', 'Barajas', 'Estándar');\"]\n"
     ]
    },
    {
     "output_type": "execute_result",
     "data": {
      "text/plain": [
       "                                           statement\n",
       "0  INSERT INTO clients_by_country(country, userna...\n",
       "1  INSERT INTO clients_by_country(country, userna...\n",
       "2  INSERT INTO clients_by_country(country, userna...\n",
       "3  INSERT INTO clients_by_country(country, userna...\n",
       "4  INSERT INTO clients_by_country(country, userna..."
      ],
      "text/html": "<div>\n<style scoped>\n    .dataframe tbody tr th:only-of-type {\n        vertical-align: middle;\n    }\n\n    .dataframe tbody tr th {\n        vertical-align: top;\n    }\n\n    .dataframe thead th {\n        text-align: right;\n    }\n</style>\n<table border=\"1\" class=\"dataframe\">\n  <thead>\n    <tr style=\"text-align: right;\">\n      <th></th>\n      <th>statement</th>\n    </tr>\n  </thead>\n  <tbody>\n    <tr>\n      <th>0</th>\n      <td>INSERT INTO clients_by_country(country, userna...</td>\n    </tr>\n    <tr>\n      <th>1</th>\n      <td>INSERT INTO clients_by_country(country, userna...</td>\n    </tr>\n    <tr>\n      <th>2</th>\n      <td>INSERT INTO clients_by_country(country, userna...</td>\n    </tr>\n    <tr>\n      <th>3</th>\n      <td>INSERT INTO clients_by_country(country, userna...</td>\n    </tr>\n    <tr>\n      <th>4</th>\n      <td>INSERT INTO clients_by_country(country, userna...</td>\n    </tr>\n  </tbody>\n</table>\n</div>"
     },
     "metadata": {},
     "execution_count": 88
    }
   ],
   "source": [
    "new_rows = []\n",
    "base = \"INSERT INTO clients_by_country(country, username, first_name, last_name, membership) VALUES (\"\n",
    "sep = \"\\', \\'\"\n",
    "unique = \"\\'\"\n",
    "dict_sep = \"\\', {\\'\"\n",
    "end_dict_sep = \"\\'}\"\n",
    "for idx, row in clients_df.iterrows():\n",
    "    values = unique + row[\"PAIS\"] + sep + row[\"CLIENTE\"] + sep + row[\"NOMBRE\"] + sep + row[\"APELLIDO\"] + sep + row[\"MEMBRESIA\"] + unique\n",
    "    new_rows.append(base + values + \");\")\n",
    "final_df = pd.DataFrame(data = {'statement': new_rows})\n",
    "print(final_df.iloc[0, :].to_numpy())\n",
    "final_df.head()"
   ]
  },
  {
   "cell_type": "code",
   "execution_count": 89,
   "metadata": {},
   "outputs": [],
   "source": [
    "final_df.to_csv('s-05-insert-clients-by-country.cql', index=False)"
   ]
  },
  {
   "source": [
    "## s-04-insert-category-by-name.cql"
   ],
   "cell_type": "markdown",
   "metadata": {}
  },
  {
   "cell_type": "code",
   "execution_count": 18,
   "metadata": {},
   "outputs": [
    {
     "output_type": "execute_result",
     "data": {
      "text/plain": [
       "   CATEGORIA  FRECUENCIA\n",
       "0    ajedrez           2\n",
       "1  autoayuda           2\n",
       "2  biografia           2\n",
       "3    comedia           2\n",
       "4   deportes           3"
      ],
      "text/html": "<div>\n<style scoped>\n    .dataframe tbody tr th:only-of-type {\n        vertical-align: middle;\n    }\n\n    .dataframe tbody tr th {\n        vertical-align: top;\n    }\n\n    .dataframe thead th {\n        text-align: right;\n    }\n</style>\n<table border=\"1\" class=\"dataframe\">\n  <thead>\n    <tr style=\"text-align: right;\">\n      <th></th>\n      <th>CATEGORIA</th>\n      <th>FRECUENCIA</th>\n    </tr>\n  </thead>\n  <tbody>\n    <tr>\n      <th>0</th>\n      <td>ajedrez</td>\n      <td>2</td>\n    </tr>\n    <tr>\n      <th>1</th>\n      <td>autoayuda</td>\n      <td>2</td>\n    </tr>\n    <tr>\n      <th>2</th>\n      <td>biografia</td>\n      <td>2</td>\n    </tr>\n    <tr>\n      <th>3</th>\n      <td>comedia</td>\n      <td>2</td>\n    </tr>\n    <tr>\n      <th>4</th>\n      <td>deportes</td>\n      <td>3</td>\n    </tr>\n  </tbody>\n</table>\n</div>"
     },
     "metadata": {},
     "execution_count": 18
    }
   ],
   "source": [
    "categories_df = pd.read_csv('raw_categories.csv')\n",
    "categories_df.head()"
   ]
  },
  {
   "cell_type": "code",
   "execution_count": 19,
   "metadata": {},
   "outputs": [
    {
     "output_type": "stream",
     "name": "stdout",
     "text": [
      "[\"INSERT INTO category_by_name(category) VALUES ('ajedrez');\"]\n"
     ]
    },
    {
     "output_type": "execute_result",
     "data": {
      "text/plain": [
       "                                           statement\n",
       "0  INSERT INTO category_by_name(category) VALUES ...\n",
       "1  INSERT INTO category_by_name(category) VALUES ...\n",
       "2  INSERT INTO category_by_name(category) VALUES ...\n",
       "3  INSERT INTO category_by_name(category) VALUES ...\n",
       "4  INSERT INTO category_by_name(category) VALUES ..."
      ],
      "text/html": "<div>\n<style scoped>\n    .dataframe tbody tr th:only-of-type {\n        vertical-align: middle;\n    }\n\n    .dataframe tbody tr th {\n        vertical-align: top;\n    }\n\n    .dataframe thead th {\n        text-align: right;\n    }\n</style>\n<table border=\"1\" class=\"dataframe\">\n  <thead>\n    <tr style=\"text-align: right;\">\n      <th></th>\n      <th>statement</th>\n    </tr>\n  </thead>\n  <tbody>\n    <tr>\n      <th>0</th>\n      <td>INSERT INTO category_by_name(category) VALUES ...</td>\n    </tr>\n    <tr>\n      <th>1</th>\n      <td>INSERT INTO category_by_name(category) VALUES ...</td>\n    </tr>\n    <tr>\n      <th>2</th>\n      <td>INSERT INTO category_by_name(category) VALUES ...</td>\n    </tr>\n    <tr>\n      <th>3</th>\n      <td>INSERT INTO category_by_name(category) VALUES ...</td>\n    </tr>\n    <tr>\n      <th>4</th>\n      <td>INSERT INTO category_by_name(category) VALUES ...</td>\n    </tr>\n  </tbody>\n</table>\n</div>"
     },
     "metadata": {},
     "execution_count": 19
    }
   ],
   "source": [
    "new_rows = []\n",
    "base = \"INSERT INTO category_by_name(category) VALUES (\"\n",
    "sep = \"\\', \\'\"\n",
    "unique = \"\\'\"\n",
    "dict_sep = \"\\', {\\'\"\n",
    "end_dict_sep = \"\\'}\"\n",
    "for idx, row in categories_df.iterrows():\n",
    "    values = unique + row[\"CATEGORIA\"] + unique\n",
    "    new_rows.append(base + values + \");\")\n",
    "final_df = pd.DataFrame(data = {'statement': new_rows})\n",
    "print(final_df.iloc[0, :].to_numpy())\n",
    "final_df.head()"
   ]
  },
  {
   "cell_type": "code",
   "execution_count": 20,
   "metadata": {},
   "outputs": [],
   "source": [
    "final_df.to_csv('s-04-insert-category-by-name.cql', index=False)"
   ]
  },
  {
   "source": [
    "## s-05-insert-clients-by-membership.cql"
   ],
   "cell_type": "markdown",
   "metadata": {}
  },
  {
   "cell_type": "code",
   "execution_count": 92,
   "metadata": {},
   "outputs": [
    {
     "output_type": "stream",
     "name": "stdout",
     "text": [
      "[\"INSERT INTO clients_by_membership(membership, username, first_name, last_name, country) VALUES ('Estándar', 'alfonso', 'Alfonso', 'Barajas', 'Mexico');\"]\n"
     ]
    },
    {
     "output_type": "execute_result",
     "data": {
      "text/plain": [
       "                                           statement\n",
       "0  INSERT INTO clients_by_membership(membership, ...\n",
       "1  INSERT INTO clients_by_membership(membership, ...\n",
       "2  INSERT INTO clients_by_membership(membership, ...\n",
       "3  INSERT INTO clients_by_membership(membership, ...\n",
       "4  INSERT INTO clients_by_membership(membership, ..."
      ],
      "text/html": "<div>\n<style scoped>\n    .dataframe tbody tr th:only-of-type {\n        vertical-align: middle;\n    }\n\n    .dataframe tbody tr th {\n        vertical-align: top;\n    }\n\n    .dataframe thead th {\n        text-align: right;\n    }\n</style>\n<table border=\"1\" class=\"dataframe\">\n  <thead>\n    <tr style=\"text-align: right;\">\n      <th></th>\n      <th>statement</th>\n    </tr>\n  </thead>\n  <tbody>\n    <tr>\n      <th>0</th>\n      <td>INSERT INTO clients_by_membership(membership, ...</td>\n    </tr>\n    <tr>\n      <th>1</th>\n      <td>INSERT INTO clients_by_membership(membership, ...</td>\n    </tr>\n    <tr>\n      <th>2</th>\n      <td>INSERT INTO clients_by_membership(membership, ...</td>\n    </tr>\n    <tr>\n      <th>3</th>\n      <td>INSERT INTO clients_by_membership(membership, ...</td>\n    </tr>\n    <tr>\n      <th>4</th>\n      <td>INSERT INTO clients_by_membership(membership, ...</td>\n    </tr>\n  </tbody>\n</table>\n</div>"
     },
     "metadata": {},
     "execution_count": 92
    }
   ],
   "source": [
    "new_rows = []\n",
    "base = \"INSERT INTO clients_by_membership(membership, username, first_name, last_name, country) VALUES (\"\n",
    "sep = \"\\', \\'\"\n",
    "unique = \"\\'\"\n",
    "dict_sep = \"\\', {\\'\"\n",
    "end_dict_sep = \"\\'}\"\n",
    "for idx, row in clients_df.iterrows():\n",
    "    values = unique + row[\"MEMBRESIA\"] + sep + row[\"CLIENTE\"] + sep + row[\"NOMBRE\"] + sep + row[\"APELLIDO\"] + sep + row[\"PAIS\"] + unique\n",
    "    new_rows.append(base + values + \");\")\n",
    "final_df = pd.DataFrame(data = {'statement': new_rows})\n",
    "print(final_df.iloc[0, :].to_numpy())\n",
    "final_df.head()"
   ]
  },
  {
   "cell_type": "code",
   "execution_count": 93,
   "metadata": {},
   "outputs": [],
   "source": [
    "final_df.to_csv('s-05-insert-clients-by-membership.cql', index=False)"
   ]
  },
  {
   "source": [
    "# queries_keyspace"
   ],
   "cell_type": "markdown",
   "metadata": {}
  },
  {
   "source": [
    "## s-06-insert-favorite-category-by-client.cql"
   ],
   "cell_type": "markdown",
   "metadata": {}
  },
  {
   "cell_type": "code",
   "execution_count": 8,
   "metadata": {},
   "outputs": [
    {
     "output_type": "execute_result",
     "data": {
      "text/plain": [
       "   CLIENTE   NOMBRE   APELLIDO     PAIS MEMBRESIA    TELEFONO\n",
       "0  alfonso  Alfonso    Barajas   Mexico  Estándar  5539848129\n",
       "1  antonio  Antonio    Aguilar   México  Estándar  5539299465\n",
       "2  artemio  Artemio    Padilla  Nigeria  Diamante  5539852382\n",
       "3   avilix   Avilix  Hernández   México  Estándar  5539852756\n",
       "4   benito   Benito     Franco  Nigeria  Estándar  5539448736"
      ],
      "text/html": "<div>\n<style scoped>\n    .dataframe tbody tr th:only-of-type {\n        vertical-align: middle;\n    }\n\n    .dataframe tbody tr th {\n        vertical-align: top;\n    }\n\n    .dataframe thead th {\n        text-align: right;\n    }\n</style>\n<table border=\"1\" class=\"dataframe\">\n  <thead>\n    <tr style=\"text-align: right;\">\n      <th></th>\n      <th>CLIENTE</th>\n      <th>NOMBRE</th>\n      <th>APELLIDO</th>\n      <th>PAIS</th>\n      <th>MEMBRESIA</th>\n      <th>TELEFONO</th>\n    </tr>\n  </thead>\n  <tbody>\n    <tr>\n      <th>0</th>\n      <td>alfonso</td>\n      <td>Alfonso</td>\n      <td>Barajas</td>\n      <td>Mexico</td>\n      <td>Estándar</td>\n      <td>5539848129</td>\n    </tr>\n    <tr>\n      <th>1</th>\n      <td>antonio</td>\n      <td>Antonio</td>\n      <td>Aguilar</td>\n      <td>México</td>\n      <td>Estándar</td>\n      <td>5539299465</td>\n    </tr>\n    <tr>\n      <th>2</th>\n      <td>artemio</td>\n      <td>Artemio</td>\n      <td>Padilla</td>\n      <td>Nigeria</td>\n      <td>Diamante</td>\n      <td>5539852382</td>\n    </tr>\n    <tr>\n      <th>3</th>\n      <td>avilix</td>\n      <td>Avilix</td>\n      <td>Hernández</td>\n      <td>México</td>\n      <td>Estándar</td>\n      <td>5539852756</td>\n    </tr>\n    <tr>\n      <th>4</th>\n      <td>benito</td>\n      <td>Benito</td>\n      <td>Franco</td>\n      <td>Nigeria</td>\n      <td>Estándar</td>\n      <td>5539448736</td>\n    </tr>\n  </tbody>\n</table>\n</div>"
     },
     "metadata": {},
     "execution_count": 8
    }
   ],
   "source": [
    "clients_df[\"CLIENTE\"] = clients_df[\"CLIENTE\"].str.lower()\n",
    "clients_df.head()"
   ]
  },
  {
   "cell_type": "code",
   "execution_count": 104,
   "metadata": {},
   "outputs": [
    {
     "output_type": "execute_result",
     "data": {
      "text/plain": [
       "   CLIENTE                 PRODUCTO                      AUTOR  CALIFICACION  \\\n",
       "0  alfonso           Un mundo feliz              Aldous Huxley            10   \n",
       "1  alfonso  La dama de las camelias            Alexandre Dumas            10   \n",
       "2  alfonso   El lazarillo de Tormes                    Anónimo             9   \n",
       "3  alfonso            El Principito  Antoine de Sainte-Exupéry            10   \n",
       "4  alfonso      Nacidos para correr      Christopher McDougall            10   \n",
       "\n",
       "  CATEGORIA  \n",
       "0   ficcion  \n",
       "1    novela  \n",
       "2    novela  \n",
       "3  fantasia  \n",
       "4  deportes  "
      ],
      "text/html": "<div>\n<style scoped>\n    .dataframe tbody tr th:only-of-type {\n        vertical-align: middle;\n    }\n\n    .dataframe tbody tr th {\n        vertical-align: top;\n    }\n\n    .dataframe thead th {\n        text-align: right;\n    }\n</style>\n<table border=\"1\" class=\"dataframe\">\n  <thead>\n    <tr style=\"text-align: right;\">\n      <th></th>\n      <th>CLIENTE</th>\n      <th>PRODUCTO</th>\n      <th>AUTOR</th>\n      <th>CALIFICACION</th>\n      <th>CATEGORIA</th>\n    </tr>\n  </thead>\n  <tbody>\n    <tr>\n      <th>0</th>\n      <td>alfonso</td>\n      <td>Un mundo feliz</td>\n      <td>Aldous Huxley</td>\n      <td>10</td>\n      <td>ficcion</td>\n    </tr>\n    <tr>\n      <th>1</th>\n      <td>alfonso</td>\n      <td>La dama de las camelias</td>\n      <td>Alexandre Dumas</td>\n      <td>10</td>\n      <td>novela</td>\n    </tr>\n    <tr>\n      <th>2</th>\n      <td>alfonso</td>\n      <td>El lazarillo de Tormes</td>\n      <td>Anónimo</td>\n      <td>9</td>\n      <td>novela</td>\n    </tr>\n    <tr>\n      <th>3</th>\n      <td>alfonso</td>\n      <td>El Principito</td>\n      <td>Antoine de Sainte-Exupéry</td>\n      <td>10</td>\n      <td>fantasia</td>\n    </tr>\n    <tr>\n      <th>4</th>\n      <td>alfonso</td>\n      <td>Nacidos para correr</td>\n      <td>Christopher McDougall</td>\n      <td>10</td>\n      <td>deportes</td>\n    </tr>\n  </tbody>\n</table>\n</div>"
     },
     "metadata": {},
     "execution_count": 104
    }
   ],
   "source": [
    "df[\"CLIENTE\"] = df[\"CLIENTE\"].str.lower()\n",
    "df.head()"
   ]
  },
  {
   "cell_type": "code",
   "execution_count": 159,
   "metadata": {},
   "outputs": [
    {
     "output_type": "stream",
     "name": "stdout",
     "text": [
      "[[\"INSERT INTO favorite_category_by_client(username, category_frequency, category) VALUES ('alfonso', 2, 'ajedrez');\"]\n [\"INSERT INTO favorite_category_by_client(username, category_frequency, category) VALUES ('alfonso', 2, 'autoayuda');\"]\n [\"INSERT INTO favorite_category_by_client(username, category_frequency, category) VALUES ('alfonso', 2, 'deportes');\"]\n [\"INSERT INTO favorite_category_by_client(username, category_frequency, category) VALUES ('alfonso', 4, 'fantasia');\"]\n [\"INSERT INTO favorite_category_by_client(username, category_frequency, category) VALUES ('alfonso', 2, 'ficcion');\"]\n [\"INSERT INTO favorite_category_by_client(username, category_frequency, category) VALUES ('alfonso', 1, 'finanzas');\"]\n [\"INSERT INTO favorite_category_by_client(username, category_frequency, category) VALUES ('alfonso', 15, 'novela');\"]\n [\"INSERT INTO favorite_category_by_client(username, category_frequency, category) VALUES ('alfonso', 1, 'poesia');\"]\n [\"INSERT INTO favorite_category_by_client(username, category_frequency, category) VALUES ('alfonso', 2, 'salud');\"]\n [\"INSERT INTO favorite_category_by_client(username, category_frequency, category) VALUES ('alfonso', 1, 'terror');\"]]\n"
     ]
    },
    {
     "output_type": "execute_result",
     "data": {
      "text/plain": [
       "                                           statement\n",
       "0  INSERT INTO favorite_category_by_client(userna...\n",
       "1  INSERT INTO favorite_category_by_client(userna...\n",
       "2  INSERT INTO favorite_category_by_client(userna...\n",
       "3  INSERT INTO favorite_category_by_client(userna...\n",
       "4  INSERT INTO favorite_category_by_client(userna..."
      ],
      "text/html": "<div>\n<style scoped>\n    .dataframe tbody tr th:only-of-type {\n        vertical-align: middle;\n    }\n\n    .dataframe tbody tr th {\n        vertical-align: top;\n    }\n\n    .dataframe thead th {\n        text-align: right;\n    }\n</style>\n<table border=\"1\" class=\"dataframe\">\n  <thead>\n    <tr style=\"text-align: right;\">\n      <th></th>\n      <th>statement</th>\n    </tr>\n  </thead>\n  <tbody>\n    <tr>\n      <th>0</th>\n      <td>INSERT INTO favorite_category_by_client(userna...</td>\n    </tr>\n    <tr>\n      <th>1</th>\n      <td>INSERT INTO favorite_category_by_client(userna...</td>\n    </tr>\n    <tr>\n      <th>2</th>\n      <td>INSERT INTO favorite_category_by_client(userna...</td>\n    </tr>\n    <tr>\n      <th>3</th>\n      <td>INSERT INTO favorite_category_by_client(userna...</td>\n    </tr>\n    <tr>\n      <th>4</th>\n      <td>INSERT INTO favorite_category_by_client(userna...</td>\n    </tr>\n  </tbody>\n</table>\n</div>"
     },
     "metadata": {},
     "execution_count": 159
    }
   ],
   "source": [
    "new_rows = []\n",
    "base = \"INSERT INTO favorite_category_by_client(username, category_frequency, category) VALUES (\"\n",
    "sep = \"\\', \\'\"\n",
    "unique = \"\\'\"\n",
    "dict_sep = \"\\', {\\'\"\n",
    "end_dict_sep = \"\\'}\"\n",
    "#--------------------------------------------------------\n",
    "for idx, row in clients_df.iterrows():\n",
    "    temp_df = df[df[\"CLIENTE\"] == row[\"CLIENTE\"]].groupby(\"CATEGORIA\").count().reset_index().loc[:, [\"CATEGORIA\", \"CLIENTE\"]]\n",
    "    temp_df = temp_df.rename(columns={'CLIENTE':'FRECUENCIA'})\n",
    "    for cat, freq in zip(temp_df[\"CATEGORIA\"], temp_df[\"FRECUENCIA\"]):\n",
    "        values = unique + row[\"CLIENTE\"] + unique + \", \" + str(freq) + \", \" + unique + cat +unique\n",
    "        new_rows.append(base + values + \");\")\n",
    "#--------------------------------------------------------\n",
    "final_df = pd.DataFrame(data = {'statement': new_rows})\n",
    "print(final_df.iloc[:, :].to_numpy()[:10])\n",
    "final_df.head()"
   ]
  },
  {
   "cell_type": "code",
   "execution_count": 160,
   "metadata": {},
   "outputs": [],
   "source": [
    "final_df.to_csv('s-06-insert-favorite-category-by-client.cql', index=False)"
   ]
  },
  {
   "source": [
    "## s-06-best-books-by-category.cql"
   ],
   "cell_type": "markdown",
   "metadata": {}
  },
  {
   "cell_type": "code",
   "execution_count": 16,
   "metadata": {},
   "outputs": [
    {
     "output_type": "execute_result",
     "data": {
      "text/plain": [
       "   CATEGORIA  FRECUENCIA\n",
       "0    ajedrez           2\n",
       "1  autoayuda           2\n",
       "2  biografia           2\n",
       "3    comedia           2\n",
       "4   deportes           3"
      ],
      "text/html": "<div>\n<style scoped>\n    .dataframe tbody tr th:only-of-type {\n        vertical-align: middle;\n    }\n\n    .dataframe tbody tr th {\n        vertical-align: top;\n    }\n\n    .dataframe thead th {\n        text-align: right;\n    }\n</style>\n<table border=\"1\" class=\"dataframe\">\n  <thead>\n    <tr style=\"text-align: right;\">\n      <th></th>\n      <th>CATEGORIA</th>\n      <th>FRECUENCIA</th>\n    </tr>\n  </thead>\n  <tbody>\n    <tr>\n      <th>0</th>\n      <td>ajedrez</td>\n      <td>2</td>\n    </tr>\n    <tr>\n      <th>1</th>\n      <td>autoayuda</td>\n      <td>2</td>\n    </tr>\n    <tr>\n      <th>2</th>\n      <td>biografia</td>\n      <td>2</td>\n    </tr>\n    <tr>\n      <th>3</th>\n      <td>comedia</td>\n      <td>2</td>\n    </tr>\n    <tr>\n      <th>4</th>\n      <td>deportes</td>\n      <td>3</td>\n    </tr>\n  </tbody>\n</table>\n</div>"
     },
     "metadata": {},
     "execution_count": 16
    }
   ],
   "source": [
    "categories_df = pd.read_csv('raw_categories.csv')\n",
    "categories_df.head()"
   ]
  },
  {
   "cell_type": "code",
   "execution_count": 162,
   "metadata": {},
   "outputs": [
    {
     "output_type": "execute_result",
     "data": {
      "text/plain": [
       "   CLIENTE                 PRODUCTO                      AUTOR  CALIFICACION  \\\n",
       "0  alfonso           Un mundo feliz              Aldous Huxley            10   \n",
       "1  alfonso  La dama de las camelias            Alexandre Dumas            10   \n",
       "2  alfonso   El lazarillo de Tormes                    Anónimo             9   \n",
       "3  alfonso            El Principito  Antoine de Sainte-Exupéry            10   \n",
       "4  alfonso      Nacidos para correr      Christopher McDougall            10   \n",
       "\n",
       "  CATEGORIA  \n",
       "0   ficcion  \n",
       "1    novela  \n",
       "2    novela  \n",
       "3  fantasia  \n",
       "4  deportes  "
      ],
      "text/html": "<div>\n<style scoped>\n    .dataframe tbody tr th:only-of-type {\n        vertical-align: middle;\n    }\n\n    .dataframe tbody tr th {\n        vertical-align: top;\n    }\n\n    .dataframe thead th {\n        text-align: right;\n    }\n</style>\n<table border=\"1\" class=\"dataframe\">\n  <thead>\n    <tr style=\"text-align: right;\">\n      <th></th>\n      <th>CLIENTE</th>\n      <th>PRODUCTO</th>\n      <th>AUTOR</th>\n      <th>CALIFICACION</th>\n      <th>CATEGORIA</th>\n    </tr>\n  </thead>\n  <tbody>\n    <tr>\n      <th>0</th>\n      <td>alfonso</td>\n      <td>Un mundo feliz</td>\n      <td>Aldous Huxley</td>\n      <td>10</td>\n      <td>ficcion</td>\n    </tr>\n    <tr>\n      <th>1</th>\n      <td>alfonso</td>\n      <td>La dama de las camelias</td>\n      <td>Alexandre Dumas</td>\n      <td>10</td>\n      <td>novela</td>\n    </tr>\n    <tr>\n      <th>2</th>\n      <td>alfonso</td>\n      <td>El lazarillo de Tormes</td>\n      <td>Anónimo</td>\n      <td>9</td>\n      <td>novela</td>\n    </tr>\n    <tr>\n      <th>3</th>\n      <td>alfonso</td>\n      <td>El Principito</td>\n      <td>Antoine de Sainte-Exupéry</td>\n      <td>10</td>\n      <td>fantasia</td>\n    </tr>\n    <tr>\n      <th>4</th>\n      <td>alfonso</td>\n      <td>Nacidos para correr</td>\n      <td>Christopher McDougall</td>\n      <td>10</td>\n      <td>deportes</td>\n    </tr>\n  </tbody>\n</table>\n</div>"
     },
     "metadata": {},
     "execution_count": 162
    }
   ],
   "source": [
    "df.head()"
   ]
  },
  {
   "cell_type": "code",
   "execution_count": 165,
   "metadata": {},
   "outputs": [
    {
     "output_type": "stream",
     "name": "stdout",
     "text": [
      "[[\"INSERT INTO best_books_by_category(book_category, score, book_title, authors) VALUES ('ajedrez',10,'El ajedrez de Bobby Fischer', {'Elie Agur'});\"]\n [\"INSERT INTO best_books_by_category(book_category, score, book_title, authors) VALUES ('ajedrez',9,'Ajedrez genial', {'Manuel López Michelone'});\"]\n [\"INSERT INTO best_books_by_category(book_category, score, book_title, authors) VALUES ('autoayuda',10,'Hábitos atómicos', {'James Clear'});\"]\n [\"INSERT INTO best_books_by_category(book_category, score, book_title, authors) VALUES ('autoayuda',10,'Los 7 hábitos de la gente altamente efectiva', {'Stephen R. Covey'});\"]\n [\"INSERT INTO best_books_by_category(book_category, score, book_title, authors) VALUES ('biografia',9,'Benjamin Franklin', {'Walter Isaacson'});\"]\n [\"INSERT INTO best_books_by_category(book_category, score, book_title, authors) VALUES ('biografia',9,'Suite francesa', {'Irene Nemirovsky'});\"]\n [\"INSERT INTO best_books_by_category(book_category, score, book_title, authors) VALUES ('comedia',10,'El marciano', {'Andy Weir'});\"]\n [\"INSERT INTO best_books_by_category(book_category, score, book_title, authors) VALUES ('comedia',10,'Maldito karma', {'David Safier'});\"]\n [\"INSERT INTO best_books_by_category(book_category, score, book_title, authors) VALUES ('deportes',10,'Nacidos para correr', {'Christopher McDougall'});\"]\n [\"INSERT INTO best_books_by_category(book_category, score, book_title, authors) VALUES ('deportes',10,'Finding Ultra', {'Rich Roll'});\"]]\n"
     ]
    },
    {
     "output_type": "execute_result",
     "data": {
      "text/plain": [
       "                                           statement\n",
       "0  INSERT INTO best_books_by_category(book_catego...\n",
       "1  INSERT INTO best_books_by_category(book_catego...\n",
       "2  INSERT INTO best_books_by_category(book_catego...\n",
       "3  INSERT INTO best_books_by_category(book_catego...\n",
       "4  INSERT INTO best_books_by_category(book_catego..."
      ],
      "text/html": "<div>\n<style scoped>\n    .dataframe tbody tr th:only-of-type {\n        vertical-align: middle;\n    }\n\n    .dataframe tbody tr th {\n        vertical-align: top;\n    }\n\n    .dataframe thead th {\n        text-align: right;\n    }\n</style>\n<table border=\"1\" class=\"dataframe\">\n  <thead>\n    <tr style=\"text-align: right;\">\n      <th></th>\n      <th>statement</th>\n    </tr>\n  </thead>\n  <tbody>\n    <tr>\n      <th>0</th>\n      <td>INSERT INTO best_books_by_category(book_catego...</td>\n    </tr>\n    <tr>\n      <th>1</th>\n      <td>INSERT INTO best_books_by_category(book_catego...</td>\n    </tr>\n    <tr>\n      <th>2</th>\n      <td>INSERT INTO best_books_by_category(book_catego...</td>\n    </tr>\n    <tr>\n      <th>3</th>\n      <td>INSERT INTO best_books_by_category(book_catego...</td>\n    </tr>\n    <tr>\n      <th>4</th>\n      <td>INSERT INTO best_books_by_category(book_catego...</td>\n    </tr>\n  </tbody>\n</table>\n</div>"
     },
     "metadata": {},
     "execution_count": 165
    }
   ],
   "source": [
    "new_rows = []\n",
    "base = \"INSERT INTO best_books_by_category(book_category, score, book_title, authors) VALUES (\"\n",
    "sep = \"\\', \\'\"\n",
    "unique = \"\\'\"\n",
    "dict_sep = \"\\', {\\'\"\n",
    "end_dict_sep = \"\\'}\"\n",
    "#--------------------------------------------------------\n",
    "for idx, row in categories_df.iterrows():\n",
    "    category = row[\"CATEGORIA\"]\n",
    "    temp_df = df[df[\"CATEGORIA\"] == category]\n",
    "    for t_idx, t_row in temp_df.iterrows():\n",
    "        values = unique + category + unique + \",\" + str(t_row[\"CALIFICACION\"]) + \",\" + unique + t_row[\"PRODUCTO\"] + dict_sep + t_row[\"AUTOR\"] + end_dict_sep\n",
    "        new_rows.append(base + values + \");\")\n",
    "#--------------------------------------------------------\n",
    "final_df = pd.DataFrame(data = {'statement': new_rows})\n",
    "print(final_df.iloc[:, :].to_numpy()[:10])\n",
    "final_df.head()"
   ]
  },
  {
   "cell_type": "code",
   "execution_count": 166,
   "metadata": {},
   "outputs": [],
   "source": [
    "final_df.to_csv('s-06-insert-best_books_by_category.cql', index=False)"
   ]
  },
  {
   "source": [
    "## s-06-most-satisfied-clients-by-book.cql"
   ],
   "cell_type": "markdown",
   "metadata": {}
  },
  {
   "cell_type": "code",
   "execution_count": 167,
   "metadata": {},
   "outputs": [
    {
     "output_type": "execute_result",
     "data": {
      "text/plain": [
       "   CLIENTE                 PRODUCTO                      AUTOR  CALIFICACION  \\\n",
       "0  alfonso           Un mundo feliz              Aldous Huxley            10   \n",
       "1  alfonso  La dama de las camelias            Alexandre Dumas            10   \n",
       "2  alfonso   El lazarillo de Tormes                    Anónimo             9   \n",
       "3  alfonso            El Principito  Antoine de Sainte-Exupéry            10   \n",
       "4  alfonso      Nacidos para correr      Christopher McDougall            10   \n",
       "\n",
       "  CATEGORIA  \n",
       "0   ficcion  \n",
       "1    novela  \n",
       "2    novela  \n",
       "3  fantasia  \n",
       "4  deportes  "
      ],
      "text/html": "<div>\n<style scoped>\n    .dataframe tbody tr th:only-of-type {\n        vertical-align: middle;\n    }\n\n    .dataframe tbody tr th {\n        vertical-align: top;\n    }\n\n    .dataframe thead th {\n        text-align: right;\n    }\n</style>\n<table border=\"1\" class=\"dataframe\">\n  <thead>\n    <tr style=\"text-align: right;\">\n      <th></th>\n      <th>CLIENTE</th>\n      <th>PRODUCTO</th>\n      <th>AUTOR</th>\n      <th>CALIFICACION</th>\n      <th>CATEGORIA</th>\n    </tr>\n  </thead>\n  <tbody>\n    <tr>\n      <th>0</th>\n      <td>alfonso</td>\n      <td>Un mundo feliz</td>\n      <td>Aldous Huxley</td>\n      <td>10</td>\n      <td>ficcion</td>\n    </tr>\n    <tr>\n      <th>1</th>\n      <td>alfonso</td>\n      <td>La dama de las camelias</td>\n      <td>Alexandre Dumas</td>\n      <td>10</td>\n      <td>novela</td>\n    </tr>\n    <tr>\n      <th>2</th>\n      <td>alfonso</td>\n      <td>El lazarillo de Tormes</td>\n      <td>Anónimo</td>\n      <td>9</td>\n      <td>novela</td>\n    </tr>\n    <tr>\n      <th>3</th>\n      <td>alfonso</td>\n      <td>El Principito</td>\n      <td>Antoine de Sainte-Exupéry</td>\n      <td>10</td>\n      <td>fantasia</td>\n    </tr>\n    <tr>\n      <th>4</th>\n      <td>alfonso</td>\n      <td>Nacidos para correr</td>\n      <td>Christopher McDougall</td>\n      <td>10</td>\n      <td>deportes</td>\n    </tr>\n  </tbody>\n</table>\n</div>"
     },
     "metadata": {},
     "execution_count": 167
    }
   ],
   "source": [
    "df.head()"
   ]
  },
  {
   "cell_type": "code",
   "execution_count": 12,
   "metadata": {},
   "outputs": [
    {
     "output_type": "stream",
     "name": "stdout",
     "text": [
      "[[\"INSERT INTO most_satisfied_clients_by_book(book_title, score, username, country, membership, authors, category) VALUES ('Un mundo feliz',10,'alfonso', 'Mexico', 'Estándar', {'Aldous Huxley'},'ficcion');\"]\n [\"INSERT INTO most_satisfied_clients_by_book(book_title, score, username, country, membership, authors, category) VALUES ('La dama de las camelias',10,'alfonso', 'Mexico', 'Estándar', {'Alexandre Dumas'},'novela');\"]]\n"
     ]
    },
    {
     "output_type": "execute_result",
     "data": {
      "text/plain": [
       "                                           statement\n",
       "0  INSERT INTO most_satisfied_clients_by_book(boo...\n",
       "1  INSERT INTO most_satisfied_clients_by_book(boo...\n",
       "2  INSERT INTO most_satisfied_clients_by_book(boo...\n",
       "3  INSERT INTO most_satisfied_clients_by_book(boo...\n",
       "4  INSERT INTO most_satisfied_clients_by_book(boo..."
      ],
      "text/html": "<div>\n<style scoped>\n    .dataframe tbody tr th:only-of-type {\n        vertical-align: middle;\n    }\n\n    .dataframe tbody tr th {\n        vertical-align: top;\n    }\n\n    .dataframe thead th {\n        text-align: right;\n    }\n</style>\n<table border=\"1\" class=\"dataframe\">\n  <thead>\n    <tr style=\"text-align: right;\">\n      <th></th>\n      <th>statement</th>\n    </tr>\n  </thead>\n  <tbody>\n    <tr>\n      <th>0</th>\n      <td>INSERT INTO most_satisfied_clients_by_book(boo...</td>\n    </tr>\n    <tr>\n      <th>1</th>\n      <td>INSERT INTO most_satisfied_clients_by_book(boo...</td>\n    </tr>\n    <tr>\n      <th>2</th>\n      <td>INSERT INTO most_satisfied_clients_by_book(boo...</td>\n    </tr>\n    <tr>\n      <th>3</th>\n      <td>INSERT INTO most_satisfied_clients_by_book(boo...</td>\n    </tr>\n    <tr>\n      <th>4</th>\n      <td>INSERT INTO most_satisfied_clients_by_book(boo...</td>\n    </tr>\n  </tbody>\n</table>\n</div>"
     },
     "metadata": {},
     "execution_count": 12
    }
   ],
   "source": [
    "new_rows = []\n",
    "base = \"INSERT INTO most_satisfied_clients_by_book(book_title, score, username, country, membership, authors, book_category) VALUES (\"\n",
    "sep = \"\\', \\'\"\n",
    "unique = \"\\'\"\n",
    "dict_sep = \"\\', {\\'\"\n",
    "end_dict_sep = \"\\'}\"\n",
    "#--------------------------------------------------------\n",
    "for idx, row in df.iterrows():\n",
    "    temp_df = clients_df[clients_df[\"CLIENTE\"] == row[\"CLIENTE\"].replace(' ', '')].loc[:, [\"PAIS\", \"MEMBRESIA\"]]\n",
    "    country = temp_df[\"PAIS\"].values[0]\n",
    "    membership = temp_df[\"MEMBRESIA\"].values[0]\n",
    "    values = unique + row[\"PRODUCTO\"] + unique + \",\" + str(row[\"CALIFICACION\"]) + \",\" + unique + row[\"CLIENTE\"] + sep + country + sep + membership + dict_sep + row[\"AUTOR\"] + end_dict_sep + \",\" + unique + row[\"CATEGORIA\"] + unique\n",
    "    new_rows.append(base + values + \");\")\n",
    "#--------------------------------------------------------\n",
    "final_df = pd.DataFrame(data = {'statement': new_rows})\n",
    "print(final_df.iloc[:, :].to_numpy()[:2])\n",
    "final_df.head()"
   ]
  },
  {
   "cell_type": "code",
   "execution_count": 13,
   "metadata": {},
   "outputs": [],
   "source": [
    "final_df.to_csv('s-06-insert-most-satisfied-clients-by-book.cql', index=False)"
   ]
  }
 ]
}