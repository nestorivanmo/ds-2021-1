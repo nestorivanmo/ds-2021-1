{
 "metadata": {
  "language_info": {
   "codemirror_mode": {
    "name": "ipython",
    "version": 3
   },
   "file_extension": ".py",
   "mimetype": "text/x-python",
   "name": "python",
   "nbconvert_exporter": "python",
   "pygments_lexer": "ipython3",
   "version": "3.9.2-final"
  },
  "orig_nbformat": 2,
  "kernelspec": {
   "name": "python3",
   "display_name": "Python 3.9.2 64-bit",
   "metadata": {
    "interpreter": {
     "hash": "ac2eaa0ea0ebeafcc7822e65e46aa9d4f966f30b695406963e145ea4a91cd4fc"
    }
   }
  }
 },
 "nbformat": 4,
 "nbformat_minor": 2,
 "cells": [
  {
   "cell_type": "code",
   "execution_count": 1,
   "metadata": {},
   "outputs": [],
   "source": [
    "import recordlinkage as rl\n",
    "import pandas as pd"
   ]
  },
  {
   "cell_type": "code",
   "execution_count": 2,
   "metadata": {},
   "outputs": [
    {
     "output_type": "execute_result",
     "data": {
      "text/plain": [
       "         rec_id given_name      surname street_number           address_1  \\\n",
       "0   rec-223-org                  waller             6    tullaroop street   \n",
       "1   rec-122-org    lachlan        berry            69       giblin street   \n",
       "2   rec-373-org     deakin   sondergeld            48   goldfinch circuit   \n",
       "3  rec-10-dup-0      kayla   harrington                    maltby circuit   \n",
       "4   rec-227-org       luke       purdon            23        ramsay place   \n",
       "5   rec-6-dup-0               trevorrow            16        dumas street   \n",
       "\n",
       "                  address_2          suburb  postcode state date_of_birth  \\\n",
       "0                  willaroo        st james      4011    wa      19081209   \n",
       "1                 killarney         bittern      4814   qld      19990219   \n",
       "2                   kooltuo      canterbury      2776   vic      19600210   \n",
       "3                   coaling        coolaroo      3465   nsw      19150612   \n",
       "4                    mirani         garbutt      2260   vic      19831024   \n",
       "5   2/98-latchford barracks   mount immaney      2281    wa      19530313   \n",
       "\n",
       "   soc_sec_id  \n",
       "0     6988048  \n",
       "1     7364009  \n",
       "2     2635962  \n",
       "3     9004242  \n",
       "4     8099933  \n",
       "5     4811642  "
      ],
      "text/html": "<div>\n<style scoped>\n    .dataframe tbody tr th:only-of-type {\n        vertical-align: middle;\n    }\n\n    .dataframe tbody tr th {\n        vertical-align: top;\n    }\n\n    .dataframe thead th {\n        text-align: right;\n    }\n</style>\n<table border=\"1\" class=\"dataframe\">\n  <thead>\n    <tr style=\"text-align: right;\">\n      <th></th>\n      <th>rec_id</th>\n      <th>given_name</th>\n      <th>surname</th>\n      <th>street_number</th>\n      <th>address_1</th>\n      <th>address_2</th>\n      <th>suburb</th>\n      <th>postcode</th>\n      <th>state</th>\n      <th>date_of_birth</th>\n      <th>soc_sec_id</th>\n    </tr>\n  </thead>\n  <tbody>\n    <tr>\n      <th>0</th>\n      <td>rec-223-org</td>\n      <td></td>\n      <td>waller</td>\n      <td>6</td>\n      <td>tullaroop street</td>\n      <td>willaroo</td>\n      <td>st james</td>\n      <td>4011</td>\n      <td>wa</td>\n      <td>19081209</td>\n      <td>6988048</td>\n    </tr>\n    <tr>\n      <th>1</th>\n      <td>rec-122-org</td>\n      <td>lachlan</td>\n      <td>berry</td>\n      <td>69</td>\n      <td>giblin street</td>\n      <td>killarney</td>\n      <td>bittern</td>\n      <td>4814</td>\n      <td>qld</td>\n      <td>19990219</td>\n      <td>7364009</td>\n    </tr>\n    <tr>\n      <th>2</th>\n      <td>rec-373-org</td>\n      <td>deakin</td>\n      <td>sondergeld</td>\n      <td>48</td>\n      <td>goldfinch circuit</td>\n      <td>kooltuo</td>\n      <td>canterbury</td>\n      <td>2776</td>\n      <td>vic</td>\n      <td>19600210</td>\n      <td>2635962</td>\n    </tr>\n    <tr>\n      <th>3</th>\n      <td>rec-10-dup-0</td>\n      <td>kayla</td>\n      <td>harrington</td>\n      <td></td>\n      <td>maltby circuit</td>\n      <td>coaling</td>\n      <td>coolaroo</td>\n      <td>3465</td>\n      <td>nsw</td>\n      <td>19150612</td>\n      <td>9004242</td>\n    </tr>\n    <tr>\n      <th>4</th>\n      <td>rec-227-org</td>\n      <td>luke</td>\n      <td>purdon</td>\n      <td>23</td>\n      <td>ramsay place</td>\n      <td>mirani</td>\n      <td>garbutt</td>\n      <td>2260</td>\n      <td>vic</td>\n      <td>19831024</td>\n      <td>8099933</td>\n    </tr>\n    <tr>\n      <th>5</th>\n      <td>rec-6-dup-0</td>\n      <td></td>\n      <td>trevorrow</td>\n      <td>16</td>\n      <td>dumas street</td>\n      <td>2/98-latchford barracks</td>\n      <td>mount immaney</td>\n      <td>2281</td>\n      <td>wa</td>\n      <td>19530313</td>\n      <td>4811642</td>\n    </tr>\n  </tbody>\n</table>\n</div>"
     },
     "metadata": {},
     "execution_count": 2
    }
   ],
   "source": [
    "dataset1 = pd.read_csv('dataset1.csv')\n",
    "dataset1.rename(str.strip, axis='columns', inplace=True)\n",
    "dataset1.head(6)"
   ]
  },
  {
   "cell_type": "code",
   "execution_count": 3,
   "metadata": {},
   "outputs": [
    {
     "output_type": "stream",
     "name": "stdout",
     "text": [
      "(1000, 11)\n<class 'pandas.core.frame.DataFrame'>\nRangeIndex: 1000 entries, 0 to 999\nData columns (total 11 columns):\n #   Column         Non-Null Count  Dtype \n---  ------         --------------  ----- \n 0   rec_id         1000 non-null   object\n 1   given_name     1000 non-null   object\n 2   surname        1000 non-null   object\n 3   street_number  1000 non-null   object\n 4   address_1      1000 non-null   object\n 5   address_2      1000 non-null   object\n 6   suburb         1000 non-null   object\n 7   postcode       1000 non-null   int64 \n 8   state          1000 non-null   object\n 9   date_of_birth  1000 non-null   object\n 10  soc_sec_id     1000 non-null   int64 \ndtypes: int64(2), object(9)\nmemory usage: 86.1+ KB\nNone\n"
     ]
    }
   ],
   "source": [
    "print(dataset1.shape)\n",
    "print(dataset1.info())"
   ]
  },
  {
   "source": [
    "## Combinación 1\n",
    "\n",
    "- Indexado: BlockIndex\n",
    "- Comparación: Jaro"
   ],
   "cell_type": "markdown",
   "metadata": {}
  },
  {
   "cell_type": "code",
   "execution_count": 4,
   "metadata": {},
   "outputs": [],
   "source": [
    "def block_index_():\n",
    "    indexer = rl.Index()\n",
    "    indexer.block('given_name')\n",
    "    indexer.block('surname')\n",
    "    indexer.block('suburb')\n",
    "    indexer.block('postcode')\n",
    "    indexer.block('date_of_birth')\n",
    "    indexer.block('soc_sec_id')\n",
    "    compare_indices = indexer.index(dataset1)\n",
    "    return compare_indices\n",
    "    \n",
    "def compare_(compare_indices, method):\n",
    "    comp = rl.Compare()\n",
    "    comp.string('given_name', 'given_name', label='given_name', method=method)\n",
    "    comp.string('surname', 'surname', label='surname', method=method)\n",
    "    comp.string('suburb', 'suburb', label='suburb', method=method)\n",
    "    comp.string('date_of_birth', 'date_of_birth', label='date_of_birth', method=method)\n",
    "    comp.numeric('postcode', 'postcode', label='postcode')\n",
    "    comp.numeric('soc_sec_id', 'soc_sec_id', label='soc_sec_id')\n",
    "    features = comp.compute(compare_indices, dataset1)\n",
    "    return features"
   ]
  },
  {
   "cell_type": "code",
   "execution_count": 5,
   "metadata": {},
   "outputs": [],
   "source": [
    "cp_idxs1 = block_index_()\n",
    "features_1 = compare_(compare_indices=cp_idxs1, method='jaro')"
   ]
  },
  {
   "cell_type": "code",
   "execution_count": 6,
   "metadata": {},
   "outputs": [
    {
     "output_type": "execute_result",
     "data": {
      "text/plain": [
       "     given_name   surname    suburb  date_of_birth  postcode  soc_sec_id\n",
       "5 0    1.000000  0.465079  0.587302       0.703704       0.0         0.0\n",
       "8 0    1.000000  0.588624  0.531481       0.756614       0.0         0.0\n",
       "  5    1.000000  0.433333  0.504762       0.703704       0.0         0.0\n",
       "9 0    1.000000  0.523810  0.481481       0.722222       0.0         0.0\n",
       "  3    0.722222  0.489177  1.000000       0.842593       0.0         0.0"
      ],
      "text/html": "<div>\n<style scoped>\n    .dataframe tbody tr th:only-of-type {\n        vertical-align: middle;\n    }\n\n    .dataframe tbody tr th {\n        vertical-align: top;\n    }\n\n    .dataframe thead th {\n        text-align: right;\n    }\n</style>\n<table border=\"1\" class=\"dataframe\">\n  <thead>\n    <tr style=\"text-align: right;\">\n      <th></th>\n      <th></th>\n      <th>given_name</th>\n      <th>surname</th>\n      <th>suburb</th>\n      <th>date_of_birth</th>\n      <th>postcode</th>\n      <th>soc_sec_id</th>\n    </tr>\n  </thead>\n  <tbody>\n    <tr>\n      <th>5</th>\n      <th>0</th>\n      <td>1.000000</td>\n      <td>0.465079</td>\n      <td>0.587302</td>\n      <td>0.703704</td>\n      <td>0.0</td>\n      <td>0.0</td>\n    </tr>\n    <tr>\n      <th rowspan=\"2\" valign=\"top\">8</th>\n      <th>0</th>\n      <td>1.000000</td>\n      <td>0.588624</td>\n      <td>0.531481</td>\n      <td>0.756614</td>\n      <td>0.0</td>\n      <td>0.0</td>\n    </tr>\n    <tr>\n      <th>5</th>\n      <td>1.000000</td>\n      <td>0.433333</td>\n      <td>0.504762</td>\n      <td>0.703704</td>\n      <td>0.0</td>\n      <td>0.0</td>\n    </tr>\n    <tr>\n      <th rowspan=\"2\" valign=\"top\">9</th>\n      <th>0</th>\n      <td>1.000000</td>\n      <td>0.523810</td>\n      <td>0.481481</td>\n      <td>0.722222</td>\n      <td>0.0</td>\n      <td>0.0</td>\n    </tr>\n    <tr>\n      <th>3</th>\n      <td>0.722222</td>\n      <td>0.489177</td>\n      <td>1.000000</td>\n      <td>0.842593</td>\n      <td>0.0</td>\n      <td>0.0</td>\n    </tr>\n  </tbody>\n</table>\n</div>"
     },
     "metadata": {},
     "execution_count": 6
    }
   ],
   "source": [
    "features_1.head()"
   ]
  },
  {
   "cell_type": "code",
   "execution_count": 7,
   "metadata": {},
   "outputs": [
    {
     "output_type": "execute_result",
     "data": {
      "text/plain": [
       "        given_name      surname       suburb  date_of_birth     postcode  \\\n",
       "count  6599.000000  6599.000000  6599.000000    6599.000000  6599.000000   \n",
       "mean      0.778831     0.681526     0.621084       0.772828     0.140779   \n",
       "std       0.216940     0.216482     0.176916       0.123854     0.346838   \n",
       "min       0.408333     0.400673     0.361111       0.555556     0.000000   \n",
       "25%       0.565079     0.513889     0.504389       0.703704     0.000000   \n",
       "50%       0.722222     0.587302     0.563492       0.722222     0.000000   \n",
       "75%       1.000000     1.000000     0.660185       0.804233     0.000000   \n",
       "max       1.000000     1.000000     1.000000       1.000000     1.000000   \n",
       "\n",
       "        soc_sec_id  \n",
       "count  6599.000000  \n",
       "mean      0.068192  \n",
       "std       0.252094  \n",
       "min       0.000000  \n",
       "25%       0.000000  \n",
       "50%       0.000000  \n",
       "75%       0.000000  \n",
       "max       1.000000  "
      ],
      "text/html": "<div>\n<style scoped>\n    .dataframe tbody tr th:only-of-type {\n        vertical-align: middle;\n    }\n\n    .dataframe tbody tr th {\n        vertical-align: top;\n    }\n\n    .dataframe thead th {\n        text-align: right;\n    }\n</style>\n<table border=\"1\" class=\"dataframe\">\n  <thead>\n    <tr style=\"text-align: right;\">\n      <th></th>\n      <th>given_name</th>\n      <th>surname</th>\n      <th>suburb</th>\n      <th>date_of_birth</th>\n      <th>postcode</th>\n      <th>soc_sec_id</th>\n    </tr>\n  </thead>\n  <tbody>\n    <tr>\n      <th>count</th>\n      <td>6599.000000</td>\n      <td>6599.000000</td>\n      <td>6599.000000</td>\n      <td>6599.000000</td>\n      <td>6599.000000</td>\n      <td>6599.000000</td>\n    </tr>\n    <tr>\n      <th>mean</th>\n      <td>0.778831</td>\n      <td>0.681526</td>\n      <td>0.621084</td>\n      <td>0.772828</td>\n      <td>0.140779</td>\n      <td>0.068192</td>\n    </tr>\n    <tr>\n      <th>std</th>\n      <td>0.216940</td>\n      <td>0.216482</td>\n      <td>0.176916</td>\n      <td>0.123854</td>\n      <td>0.346838</td>\n      <td>0.252094</td>\n    </tr>\n    <tr>\n      <th>min</th>\n      <td>0.408333</td>\n      <td>0.400673</td>\n      <td>0.361111</td>\n      <td>0.555556</td>\n      <td>0.000000</td>\n      <td>0.000000</td>\n    </tr>\n    <tr>\n      <th>25%</th>\n      <td>0.565079</td>\n      <td>0.513889</td>\n      <td>0.504389</td>\n      <td>0.703704</td>\n      <td>0.000000</td>\n      <td>0.000000</td>\n    </tr>\n    <tr>\n      <th>50%</th>\n      <td>0.722222</td>\n      <td>0.587302</td>\n      <td>0.563492</td>\n      <td>0.722222</td>\n      <td>0.000000</td>\n      <td>0.000000</td>\n    </tr>\n    <tr>\n      <th>75%</th>\n      <td>1.000000</td>\n      <td>1.000000</td>\n      <td>0.660185</td>\n      <td>0.804233</td>\n      <td>0.000000</td>\n      <td>0.000000</td>\n    </tr>\n    <tr>\n      <th>max</th>\n      <td>1.000000</td>\n      <td>1.000000</td>\n      <td>1.000000</td>\n      <td>1.000000</td>\n      <td>1.000000</td>\n      <td>1.000000</td>\n    </tr>\n  </tbody>\n</table>\n</div>"
     },
     "metadata": {},
     "execution_count": 7
    }
   ],
   "source": [
    "features_1.describe()"
   ]
  },
  {
   "source": [
    "## Combinación 2\n",
    "\n",
    "- Indexado: BlockIndex\n",
    "- Comparación: Levenshtein"
   ],
   "cell_type": "markdown",
   "metadata": {}
  },
  {
   "cell_type": "code",
   "execution_count": 8,
   "metadata": {},
   "outputs": [],
   "source": [
    "cp_idx2 = block_index_()\n",
    "features_2 = compare_(compare_indices=cp_idx2, method='levenshtein')"
   ]
  },
  {
   "cell_type": "code",
   "execution_count": 9,
   "metadata": {},
   "outputs": [
    {
     "output_type": "execute_result",
     "data": {
      "text/plain": [
       "     given_name   surname    suburb  date_of_birth  postcode  soc_sec_id\n",
       "5 0    1.000000  0.200000  0.357143       0.333333       0.0         0.0\n",
       "8 0    1.000000  0.222222  0.100000       0.444444       0.0         0.0\n",
       "  5    1.000000  0.200000  0.142857       0.555556       0.0         0.0\n",
       "9 0    1.000000  0.285714  0.222222       0.333333       0.0         0.0\n",
       "  3    0.166667  0.181818  1.000000       0.444444       0.0         0.0"
      ],
      "text/html": "<div>\n<style scoped>\n    .dataframe tbody tr th:only-of-type {\n        vertical-align: middle;\n    }\n\n    .dataframe tbody tr th {\n        vertical-align: top;\n    }\n\n    .dataframe thead th {\n        text-align: right;\n    }\n</style>\n<table border=\"1\" class=\"dataframe\">\n  <thead>\n    <tr style=\"text-align: right;\">\n      <th></th>\n      <th></th>\n      <th>given_name</th>\n      <th>surname</th>\n      <th>suburb</th>\n      <th>date_of_birth</th>\n      <th>postcode</th>\n      <th>soc_sec_id</th>\n    </tr>\n  </thead>\n  <tbody>\n    <tr>\n      <th>5</th>\n      <th>0</th>\n      <td>1.000000</td>\n      <td>0.200000</td>\n      <td>0.357143</td>\n      <td>0.333333</td>\n      <td>0.0</td>\n      <td>0.0</td>\n    </tr>\n    <tr>\n      <th rowspan=\"2\" valign=\"top\">8</th>\n      <th>0</th>\n      <td>1.000000</td>\n      <td>0.222222</td>\n      <td>0.100000</td>\n      <td>0.444444</td>\n      <td>0.0</td>\n      <td>0.0</td>\n    </tr>\n    <tr>\n      <th>5</th>\n      <td>1.000000</td>\n      <td>0.200000</td>\n      <td>0.142857</td>\n      <td>0.555556</td>\n      <td>0.0</td>\n      <td>0.0</td>\n    </tr>\n    <tr>\n      <th rowspan=\"2\" valign=\"top\">9</th>\n      <th>0</th>\n      <td>1.000000</td>\n      <td>0.285714</td>\n      <td>0.222222</td>\n      <td>0.333333</td>\n      <td>0.0</td>\n      <td>0.0</td>\n    </tr>\n    <tr>\n      <th>3</th>\n      <td>0.166667</td>\n      <td>0.181818</td>\n      <td>1.000000</td>\n      <td>0.444444</td>\n      <td>0.0</td>\n      <td>0.0</td>\n    </tr>\n  </tbody>\n</table>\n</div>"
     },
     "metadata": {},
     "execution_count": 9
    }
   ],
   "source": [
    "features_2.head()"
   ]
  },
  {
   "cell_type": "code",
   "execution_count": 10,
   "metadata": {},
   "outputs": [
    {
     "output_type": "execute_result",
     "data": {
      "text/plain": [
       "        given_name      surname       suburb  date_of_birth     postcode  \\\n",
       "count  6599.000000  6599.000000  6599.000000    6599.000000  6599.000000   \n",
       "mean      0.598388     0.452650     0.331774       0.570794     0.140779   \n",
       "std       0.382355     0.360652     0.294099       0.245203     0.346838   \n",
       "min       0.076923     0.083333     0.055556       0.111111     0.000000   \n",
       "25%       0.222222     0.166667     0.153846       0.444444     0.000000   \n",
       "50%       0.428571     0.272727     0.222222       0.555556     0.000000   \n",
       "75%       1.000000     1.000000     0.333333       0.666667     0.000000   \n",
       "max       1.000000     1.000000     1.000000       1.000000     1.000000   \n",
       "\n",
       "        soc_sec_id  \n",
       "count  6599.000000  \n",
       "mean      0.068192  \n",
       "std       0.252094  \n",
       "min       0.000000  \n",
       "25%       0.000000  \n",
       "50%       0.000000  \n",
       "75%       0.000000  \n",
       "max       1.000000  "
      ],
      "text/html": "<div>\n<style scoped>\n    .dataframe tbody tr th:only-of-type {\n        vertical-align: middle;\n    }\n\n    .dataframe tbody tr th {\n        vertical-align: top;\n    }\n\n    .dataframe thead th {\n        text-align: right;\n    }\n</style>\n<table border=\"1\" class=\"dataframe\">\n  <thead>\n    <tr style=\"text-align: right;\">\n      <th></th>\n      <th>given_name</th>\n      <th>surname</th>\n      <th>suburb</th>\n      <th>date_of_birth</th>\n      <th>postcode</th>\n      <th>soc_sec_id</th>\n    </tr>\n  </thead>\n  <tbody>\n    <tr>\n      <th>count</th>\n      <td>6599.000000</td>\n      <td>6599.000000</td>\n      <td>6599.000000</td>\n      <td>6599.000000</td>\n      <td>6599.000000</td>\n      <td>6599.000000</td>\n    </tr>\n    <tr>\n      <th>mean</th>\n      <td>0.598388</td>\n      <td>0.452650</td>\n      <td>0.331774</td>\n      <td>0.570794</td>\n      <td>0.140779</td>\n      <td>0.068192</td>\n    </tr>\n    <tr>\n      <th>std</th>\n      <td>0.382355</td>\n      <td>0.360652</td>\n      <td>0.294099</td>\n      <td>0.245203</td>\n      <td>0.346838</td>\n      <td>0.252094</td>\n    </tr>\n    <tr>\n      <th>min</th>\n      <td>0.076923</td>\n      <td>0.083333</td>\n      <td>0.055556</td>\n      <td>0.111111</td>\n      <td>0.000000</td>\n      <td>0.000000</td>\n    </tr>\n    <tr>\n      <th>25%</th>\n      <td>0.222222</td>\n      <td>0.166667</td>\n      <td>0.153846</td>\n      <td>0.444444</td>\n      <td>0.000000</td>\n      <td>0.000000</td>\n    </tr>\n    <tr>\n      <th>50%</th>\n      <td>0.428571</td>\n      <td>0.272727</td>\n      <td>0.222222</td>\n      <td>0.555556</td>\n      <td>0.000000</td>\n      <td>0.000000</td>\n    </tr>\n    <tr>\n      <th>75%</th>\n      <td>1.000000</td>\n      <td>1.000000</td>\n      <td>0.333333</td>\n      <td>0.666667</td>\n      <td>0.000000</td>\n      <td>0.000000</td>\n    </tr>\n    <tr>\n      <th>max</th>\n      <td>1.000000</td>\n      <td>1.000000</td>\n      <td>1.000000</td>\n      <td>1.000000</td>\n      <td>1.000000</td>\n      <td>1.000000</td>\n    </tr>\n  </tbody>\n</table>\n</div>"
     },
     "metadata": {},
     "execution_count": 10
    }
   ],
   "source": [
    "features_2.describe()"
   ]
  },
  {
   "source": [
    "## Combinación 3\n",
    "- Indexado: BlockIndex\n",
    "- Comparación: Q-gram"
   ],
   "cell_type": "markdown",
   "metadata": {}
  },
  {
   "cell_type": "code",
   "execution_count": 12,
   "metadata": {},
   "outputs": [],
   "source": [
    "cp_idx3 = block_index_()\n",
    "features_3 = compare_(compare_indices=cp_idx3, method='qgram')"
   ]
  },
  {
   "cell_type": "code",
   "execution_count": 13,
   "metadata": {},
   "outputs": [
    {
     "output_type": "execute_result",
     "data": {
      "text/plain": [
       "     given_name  surname    suburb  date_of_birth  postcode  soc_sec_id\n",
       "5 0         0.0      0.0  0.071429       0.222222       0.0         0.0\n",
       "8 0         0.0      0.0  0.000000       0.444444       0.0         0.0\n",
       "  5         0.0      0.0  0.000000       0.222222       0.0         0.0\n",
       "9 0         0.0      0.0  0.000000       0.222222       0.0         0.0\n",
       "  3         0.0      0.0  1.000000       0.222222       0.0         0.0"
      ],
      "text/html": "<div>\n<style scoped>\n    .dataframe tbody tr th:only-of-type {\n        vertical-align: middle;\n    }\n\n    .dataframe tbody tr th {\n        vertical-align: top;\n    }\n\n    .dataframe thead th {\n        text-align: right;\n    }\n</style>\n<table border=\"1\" class=\"dataframe\">\n  <thead>\n    <tr style=\"text-align: right;\">\n      <th></th>\n      <th></th>\n      <th>given_name</th>\n      <th>surname</th>\n      <th>suburb</th>\n      <th>date_of_birth</th>\n      <th>postcode</th>\n      <th>soc_sec_id</th>\n    </tr>\n  </thead>\n  <tbody>\n    <tr>\n      <th>5</th>\n      <th>0</th>\n      <td>0.0</td>\n      <td>0.0</td>\n      <td>0.071429</td>\n      <td>0.222222</td>\n      <td>0.0</td>\n      <td>0.0</td>\n    </tr>\n    <tr>\n      <th rowspan=\"2\" valign=\"top\">8</th>\n      <th>0</th>\n      <td>0.0</td>\n      <td>0.0</td>\n      <td>0.000000</td>\n      <td>0.444444</td>\n      <td>0.0</td>\n      <td>0.0</td>\n    </tr>\n    <tr>\n      <th>5</th>\n      <td>0.0</td>\n      <td>0.0</td>\n      <td>0.000000</td>\n      <td>0.222222</td>\n      <td>0.0</td>\n      <td>0.0</td>\n    </tr>\n    <tr>\n      <th rowspan=\"2\" valign=\"top\">9</th>\n      <th>0</th>\n      <td>0.0</td>\n      <td>0.0</td>\n      <td>0.000000</td>\n      <td>0.222222</td>\n      <td>0.0</td>\n      <td>0.0</td>\n    </tr>\n    <tr>\n      <th>3</th>\n      <td>0.0</td>\n      <td>0.0</td>\n      <td>1.000000</td>\n      <td>0.222222</td>\n      <td>0.0</td>\n      <td>0.0</td>\n    </tr>\n  </tbody>\n</table>\n</div>"
     },
     "metadata": {},
     "execution_count": 13
    }
   ],
   "source": [
    "features_3.head()"
   ]
  },
  {
   "cell_type": "code",
   "execution_count": 14,
   "metadata": {},
   "outputs": [
    {
     "output_type": "execute_result",
     "data": {
      "text/plain": [
       "        given_name      surname       suburb  date_of_birth     postcode  \\\n",
       "count  6599.000000  6599.000000  6599.000000    6599.000000  6599.000000   \n",
       "mean      0.346595     0.296393     0.175103       0.297301     0.140779   \n",
       "std       0.452538     0.428330     0.320718       0.240344     0.346838   \n",
       "min       0.000000     0.000000     0.000000       0.000000     0.000000   \n",
       "25%       0.000000     0.000000     0.000000       0.222222     0.000000   \n",
       "50%       0.000000     0.000000     0.055556       0.222222     0.000000   \n",
       "75%       1.000000     1.000000     0.125000       0.333333     0.000000   \n",
       "max       1.000000     1.000000     1.000000       1.000000     1.000000   \n",
       "\n",
       "        soc_sec_id  \n",
       "count  6599.000000  \n",
       "mean      0.068192  \n",
       "std       0.252094  \n",
       "min       0.000000  \n",
       "25%       0.000000  \n",
       "50%       0.000000  \n",
       "75%       0.000000  \n",
       "max       1.000000  "
      ],
      "text/html": "<div>\n<style scoped>\n    .dataframe tbody tr th:only-of-type {\n        vertical-align: middle;\n    }\n\n    .dataframe tbody tr th {\n        vertical-align: top;\n    }\n\n    .dataframe thead th {\n        text-align: right;\n    }\n</style>\n<table border=\"1\" class=\"dataframe\">\n  <thead>\n    <tr style=\"text-align: right;\">\n      <th></th>\n      <th>given_name</th>\n      <th>surname</th>\n      <th>suburb</th>\n      <th>date_of_birth</th>\n      <th>postcode</th>\n      <th>soc_sec_id</th>\n    </tr>\n  </thead>\n  <tbody>\n    <tr>\n      <th>count</th>\n      <td>6599.000000</td>\n      <td>6599.000000</td>\n      <td>6599.000000</td>\n      <td>6599.000000</td>\n      <td>6599.000000</td>\n      <td>6599.000000</td>\n    </tr>\n    <tr>\n      <th>mean</th>\n      <td>0.346595</td>\n      <td>0.296393</td>\n      <td>0.175103</td>\n      <td>0.297301</td>\n      <td>0.140779</td>\n      <td>0.068192</td>\n    </tr>\n    <tr>\n      <th>std</th>\n      <td>0.452538</td>\n      <td>0.428330</td>\n      <td>0.320718</td>\n      <td>0.240344</td>\n      <td>0.346838</td>\n      <td>0.252094</td>\n    </tr>\n    <tr>\n      <th>min</th>\n      <td>0.000000</td>\n      <td>0.000000</td>\n      <td>0.000000</td>\n      <td>0.000000</td>\n      <td>0.000000</td>\n      <td>0.000000</td>\n    </tr>\n    <tr>\n      <th>25%</th>\n      <td>0.000000</td>\n      <td>0.000000</td>\n      <td>0.000000</td>\n      <td>0.222222</td>\n      <td>0.000000</td>\n      <td>0.000000</td>\n    </tr>\n    <tr>\n      <th>50%</th>\n      <td>0.000000</td>\n      <td>0.000000</td>\n      <td>0.055556</td>\n      <td>0.222222</td>\n      <td>0.000000</td>\n      <td>0.000000</td>\n    </tr>\n    <tr>\n      <th>75%</th>\n      <td>1.000000</td>\n      <td>1.000000</td>\n      <td>0.125000</td>\n      <td>0.333333</td>\n      <td>0.000000</td>\n      <td>0.000000</td>\n    </tr>\n    <tr>\n      <th>max</th>\n      <td>1.000000</td>\n      <td>1.000000</td>\n      <td>1.000000</td>\n      <td>1.000000</td>\n      <td>1.000000</td>\n      <td>1.000000</td>\n    </tr>\n  </tbody>\n</table>\n</div>"
     },
     "metadata": {},
     "execution_count": 14
    }
   ],
   "source": [
    "features_3.describe()"
   ]
  },
  {
   "cell_type": "code",
   "execution_count": null,
   "metadata": {},
   "outputs": [],
   "source": []
  }
 ]
}