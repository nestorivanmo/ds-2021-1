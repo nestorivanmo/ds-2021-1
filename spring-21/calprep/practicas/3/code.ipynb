{
 "metadata": {
  "language_info": {
   "codemirror_mode": {
    "name": "ipython",
    "version": 3
   },
   "file_extension": ".py",
   "mimetype": "text/x-python",
   "name": "python",
   "nbconvert_exporter": "python",
   "pygments_lexer": "ipython3",
   "version": "3.9.2-final"
  },
  "orig_nbformat": 2,
  "kernelspec": {
   "name": "python3",
   "display_name": "Python 3.9.2 64-bit",
   "metadata": {
    "interpreter": {
     "hash": "ac2eaa0ea0ebeafcc7822e65e46aa9d4f966f30b695406963e145ea4a91cd4fc"
    }
   }
  }
 },
 "nbformat": 4,
 "nbformat_minor": 2,
 "cells": [
  {
   "cell_type": "code",
   "execution_count": 8,
   "metadata": {},
   "outputs": [],
   "source": [
    "import recordlinkage as rl\n",
    "import pandas as pd"
   ]
  },
  {
   "cell_type": "code",
   "execution_count": 9,
   "metadata": {},
   "outputs": [
    {
     "output_type": "execute_result",
     "data": {
      "text/plain": [
       "         rec_id  given_name      surname  street_number           address_1  \\\n",
       "0   rec-223-org                   waller              6    tullaroop street   \n",
       "1   rec-122-org     lachlan        berry             69       giblin street   \n",
       "2   rec-373-org      deakin   sondergeld             48   goldfinch circuit   \n",
       "3  rec-10-dup-0       kayla   harrington                     maltby circuit   \n",
       "4   rec-227-org        luke       purdon             23        ramsay place   \n",
       "\n",
       "    address_2       suburb   postcode  state  date_of_birth   soc_sec_id  \n",
       "0    willaroo     st james       4011     wa       19081209      6988048  \n",
       "1   killarney      bittern       4814    qld       19990219      7364009  \n",
       "2     kooltuo   canterbury       2776    vic       19600210      2635962  \n",
       "3     coaling     coolaroo       3465    nsw       19150612      9004242  \n",
       "4      mirani      garbutt       2260    vic       19831024      8099933  "
      ],
      "text/html": "<div>\n<style scoped>\n    .dataframe tbody tr th:only-of-type {\n        vertical-align: middle;\n    }\n\n    .dataframe tbody tr th {\n        vertical-align: top;\n    }\n\n    .dataframe thead th {\n        text-align: right;\n    }\n</style>\n<table border=\"1\" class=\"dataframe\">\n  <thead>\n    <tr style=\"text-align: right;\">\n      <th></th>\n      <th>rec_id</th>\n      <th>given_name</th>\n      <th>surname</th>\n      <th>street_number</th>\n      <th>address_1</th>\n      <th>address_2</th>\n      <th>suburb</th>\n      <th>postcode</th>\n      <th>state</th>\n      <th>date_of_birth</th>\n      <th>soc_sec_id</th>\n    </tr>\n  </thead>\n  <tbody>\n    <tr>\n      <th>0</th>\n      <td>rec-223-org</td>\n      <td></td>\n      <td>waller</td>\n      <td>6</td>\n      <td>tullaroop street</td>\n      <td>willaroo</td>\n      <td>st james</td>\n      <td>4011</td>\n      <td>wa</td>\n      <td>19081209</td>\n      <td>6988048</td>\n    </tr>\n    <tr>\n      <th>1</th>\n      <td>rec-122-org</td>\n      <td>lachlan</td>\n      <td>berry</td>\n      <td>69</td>\n      <td>giblin street</td>\n      <td>killarney</td>\n      <td>bittern</td>\n      <td>4814</td>\n      <td>qld</td>\n      <td>19990219</td>\n      <td>7364009</td>\n    </tr>\n    <tr>\n      <th>2</th>\n      <td>rec-373-org</td>\n      <td>deakin</td>\n      <td>sondergeld</td>\n      <td>48</td>\n      <td>goldfinch circuit</td>\n      <td>kooltuo</td>\n      <td>canterbury</td>\n      <td>2776</td>\n      <td>vic</td>\n      <td>19600210</td>\n      <td>2635962</td>\n    </tr>\n    <tr>\n      <th>3</th>\n      <td>rec-10-dup-0</td>\n      <td>kayla</td>\n      <td>harrington</td>\n      <td></td>\n      <td>maltby circuit</td>\n      <td>coaling</td>\n      <td>coolaroo</td>\n      <td>3465</td>\n      <td>nsw</td>\n      <td>19150612</td>\n      <td>9004242</td>\n    </tr>\n    <tr>\n      <th>4</th>\n      <td>rec-227-org</td>\n      <td>luke</td>\n      <td>purdon</td>\n      <td>23</td>\n      <td>ramsay place</td>\n      <td>mirani</td>\n      <td>garbutt</td>\n      <td>2260</td>\n      <td>vic</td>\n      <td>19831024</td>\n      <td>8099933</td>\n    </tr>\n  </tbody>\n</table>\n</div>"
     },
     "metadata": {},
     "execution_count": 9
    }
   ],
   "source": [
    "dataset1 = pd.read_csv('dataset1.csv')\n",
    "dataset1.head()"
   ]
  },
  {
   "cell_type": "code",
   "execution_count": null,
   "metadata": {},
   "outputs": [],
   "source": []
  }
 ]
}