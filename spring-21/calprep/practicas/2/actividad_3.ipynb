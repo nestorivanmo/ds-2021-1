{
 "metadata": {
  "language_info": {
   "codemirror_mode": {
    "name": "ipython",
    "version": 3
   },
   "file_extension": ".py",
   "mimetype": "text/x-python",
   "name": "python",
   "nbconvert_exporter": "python",
   "pygments_lexer": "ipython3",
   "version": "3.8.5-final"
  },
  "orig_nbformat": 2,
  "kernelspec": {
   "name": "python3",
   "display_name": "Python 3.8.5 64-bit",
   "metadata": {
    "interpreter": {
     "hash": "916dbcbb3f70747c44a77c7bcd40155683ae19c65e1c03b4aa3499c5328201f1"
    }
   }
  }
 },
 "nbformat": 4,
 "nbformat_minor": 2,
 "cells": [
  {
   "cell_type": "code",
   "execution_count": 1,
   "metadata": {},
   "outputs": [],
   "source": [
    "import recordlinkage\n",
    "import pandas as pd "
   ]
  },
  {
   "cell_type": "code",
   "execution_count": 2,
   "metadata": {},
   "outputs": [
    {
     "output_type": "stream",
     "name": "stdout",
     "text": [
      "(476, 17)\n"
     ]
    },
    {
     "output_type": "execute_result",
     "data": {
      "text/plain": [
       "   clave                             titulo             artista  \\\n",
       "0    758  10,000 Hours (with Justin Bieber)          Dan + Shay   \n",
       "1    777                        100 Degrees          Rich Brian   \n",
       "2    533                        105 F Remix               KEVVO   \n",
       "3    191         2000 Miles - 2007 Remaster          Pretenders   \n",
       "4    314                3 Batidas - Ao Vivo  Guilherme & Benuto   \n",
       "\n",
       "                 genero  anio    agregado    bpm  energia  baile  deciBeles  \\\n",
       "0  contemporary country  2019  31/12/1969   90.0     63.0   65.0       -5.0   \n",
       "1    indonesian hip hop  2019  31/12/1969   81.0     65.0   76.0       -5.0   \n",
       "2                perreo  2019  31/12/1969  100.0     75.0   90.0       -7.0   \n",
       "3            album rock  1984  31/12/1969   66.0     71.0   22.0       -9.0   \n",
       "4         sertanejo pop  2019  31/12/1969  118.0     71.0   55.0       -5.0   \n",
       "\n",
       "   vivo   val  duracion  acustica  palabra  pop       pais  \n",
       "0  11.0  43.0       168      15.0      3.0   93  indonesia  \n",
       "1  52.0  66.0       166      12.0      7.0   77  indonesia  \n",
       "2  29.0  74.0       464      37.0     16.0   83      chile  \n",
       "3  10.0  45.0       220       0.0      4.0   78  australia  \n",
       "4  76.0  53.0       157      61.0     13.0   82     brazil  "
      ],
      "text/html": "<div>\n<style scoped>\n    .dataframe tbody tr th:only-of-type {\n        vertical-align: middle;\n    }\n\n    .dataframe tbody tr th {\n        vertical-align: top;\n    }\n\n    .dataframe thead th {\n        text-align: right;\n    }\n</style>\n<table border=\"1\" class=\"dataframe\">\n  <thead>\n    <tr style=\"text-align: right;\">\n      <th></th>\n      <th>clave</th>\n      <th>titulo</th>\n      <th>artista</th>\n      <th>genero</th>\n      <th>anio</th>\n      <th>agregado</th>\n      <th>bpm</th>\n      <th>energia</th>\n      <th>baile</th>\n      <th>deciBeles</th>\n      <th>vivo</th>\n      <th>val</th>\n      <th>duracion</th>\n      <th>acustica</th>\n      <th>palabra</th>\n      <th>pop</th>\n      <th>pais</th>\n    </tr>\n  </thead>\n  <tbody>\n    <tr>\n      <th>0</th>\n      <td>758</td>\n      <td>10,000 Hours (with Justin Bieber)</td>\n      <td>Dan + Shay</td>\n      <td>contemporary country</td>\n      <td>2019</td>\n      <td>31/12/1969</td>\n      <td>90.0</td>\n      <td>63.0</td>\n      <td>65.0</td>\n      <td>-5.0</td>\n      <td>11.0</td>\n      <td>43.0</td>\n      <td>168</td>\n      <td>15.0</td>\n      <td>3.0</td>\n      <td>93</td>\n      <td>indonesia</td>\n    </tr>\n    <tr>\n      <th>1</th>\n      <td>777</td>\n      <td>100 Degrees</td>\n      <td>Rich Brian</td>\n      <td>indonesian hip hop</td>\n      <td>2019</td>\n      <td>31/12/1969</td>\n      <td>81.0</td>\n      <td>65.0</td>\n      <td>76.0</td>\n      <td>-5.0</td>\n      <td>52.0</td>\n      <td>66.0</td>\n      <td>166</td>\n      <td>12.0</td>\n      <td>7.0</td>\n      <td>77</td>\n      <td>indonesia</td>\n    </tr>\n    <tr>\n      <th>2</th>\n      <td>533</td>\n      <td>105 F Remix</td>\n      <td>KEVVO</td>\n      <td>perreo</td>\n      <td>2019</td>\n      <td>31/12/1969</td>\n      <td>100.0</td>\n      <td>75.0</td>\n      <td>90.0</td>\n      <td>-7.0</td>\n      <td>29.0</td>\n      <td>74.0</td>\n      <td>464</td>\n      <td>37.0</td>\n      <td>16.0</td>\n      <td>83</td>\n      <td>chile</td>\n    </tr>\n    <tr>\n      <th>3</th>\n      <td>191</td>\n      <td>2000 Miles - 2007 Remaster</td>\n      <td>Pretenders</td>\n      <td>album rock</td>\n      <td>1984</td>\n      <td>31/12/1969</td>\n      <td>66.0</td>\n      <td>71.0</td>\n      <td>22.0</td>\n      <td>-9.0</td>\n      <td>10.0</td>\n      <td>45.0</td>\n      <td>220</td>\n      <td>0.0</td>\n      <td>4.0</td>\n      <td>78</td>\n      <td>australia</td>\n    </tr>\n    <tr>\n      <th>4</th>\n      <td>314</td>\n      <td>3 Batidas - Ao Vivo</td>\n      <td>Guilherme &amp; Benuto</td>\n      <td>sertanejo pop</td>\n      <td>2019</td>\n      <td>31/12/1969</td>\n      <td>118.0</td>\n      <td>71.0</td>\n      <td>55.0</td>\n      <td>-5.0</td>\n      <td>76.0</td>\n      <td>53.0</td>\n      <td>157</td>\n      <td>61.0</td>\n      <td>13.0</td>\n      <td>82</td>\n      <td>brazil</td>\n    </tr>\n  </tbody>\n</table>\n</div>"
     },
     "metadata": {},
     "execution_count": 2
    }
   ],
   "source": [
    "country_df = pd.read_csv('./top50countryDos.csv')#, encoding='windows-1251')\n",
    "print(country_df.shape)\n",
    "country_df.head()"
   ]
  },
  {
   "cell_type": "code",
   "execution_count": 3,
   "metadata": {},
   "outputs": [
    {
     "output_type": "execute_result",
     "data": {
      "text/plain": [
       "Index(['clave', 'titulo', 'artista', 'genero', 'anio', 'agregado', 'bpm',\n",
       "       'energia', 'baile', 'deciBeles', 'vivo', 'val', 'duracion', 'acustica',\n",
       "       'palabra', 'pop', 'pais'],\n",
       "      dtype='object')"
      ]
     },
     "metadata": {},
     "execution_count": 3
    }
   ],
   "source": [
    "country_df.columns"
   ]
  },
  {
   "cell_type": "code",
   "execution_count": 4,
   "metadata": {},
   "outputs": [],
   "source": [
    "from recordlinkage.preprocessing import phonetic"
   ]
  },
  {
   "cell_type": "code",
   "execution_count": 5,
   "metadata": {},
   "outputs": [],
   "source": [
    "def compare(df, column, num=5):\n",
    "    series = df[column][:num]\n",
    "    sdx = phonetic(series, method='soundex')\n",
    "    normal = series\n",
    "    print (\"{:<20} {:<20}\".format('Normal', 'Soundex'))\n",
    "    print('----------------------------')\n",
    "    for i in range(5):\n",
    "        print (\"{:<20} {:<20}\".format(normal[i], sdx[i]))"
   ]
  },
  {
   "cell_type": "code",
   "execution_count": 6,
   "metadata": {},
   "outputs": [
    {
     "output_type": "stream",
     "name": "stdout",
     "text": [
      "Normal               Soundex             \n----------------------------\nDan + Shay           D520                \nRich Brian           R216                \nKEVVO                K100                \nPretenders           P635                \nGuilherme & Benuto   G465                \n"
     ]
    }
   ],
   "source": [
    "compare(country_df, 'artista')"
   ]
  },
  {
   "cell_type": "code",
   "execution_count": 7,
   "metadata": {},
   "outputs": [
    {
     "output_type": "stream",
     "name": "stdout",
     "text": [
      "Normal               Soundex             \n----------------------------\ncontemporary country C535                \nindonesian hip hop   I535                \nperreo               P600                \nalbum rock           A415                \nsertanejo pop        S635                \n"
     ]
    }
   ],
   "source": [
    "compare(country_df, 'genero')"
   ]
  },
  {
   "cell_type": "code",
   "execution_count": 8,
   "metadata": {},
   "outputs": [
    {
     "output_type": "stream",
     "name": "stdout",
     "text": [
      "Normal               Soundex             \n----------------------------\nindonesia            I535                \nindonesia            I535                \nchile                C400                \naustralia            A236                \nbrazil               B624                \n"
     ]
    }
   ],
   "source": [
    "compare(country_df, 'pais')"
   ]
  },
  {
   "cell_type": "code",
   "execution_count": 9,
   "metadata": {},
   "outputs": [
    {
     "output_type": "execute_result",
     "data": {
      "text/plain": [
       "Empty DataFrame\n",
       "Columns: [clave, titulo, artista, genero, anio, agregado, bpm, energia, baile, deciBeles, vivo, val, duracion, acustica, palabra, pop, pais]\n",
       "Index: []"
      ],
      "text/html": "<div>\n<style scoped>\n    .dataframe tbody tr th:only-of-type {\n        vertical-align: middle;\n    }\n\n    .dataframe tbody tr th {\n        vertical-align: top;\n    }\n\n    .dataframe thead th {\n        text-align: right;\n    }\n</style>\n<table border=\"1\" class=\"dataframe\">\n  <thead>\n    <tr style=\"text-align: right;\">\n      <th></th>\n      <th>clave</th>\n      <th>titulo</th>\n      <th>artista</th>\n      <th>genero</th>\n      <th>anio</th>\n      <th>agregado</th>\n      <th>bpm</th>\n      <th>energia</th>\n      <th>baile</th>\n      <th>deciBeles</th>\n      <th>vivo</th>\n      <th>val</th>\n      <th>duracion</th>\n      <th>acustica</th>\n      <th>palabra</th>\n      <th>pop</th>\n      <th>pais</th>\n    </tr>\n  </thead>\n  <tbody>\n  </tbody>\n</table>\n</div>"
     },
     "metadata": {},
     "execution_count": 9
    }
   ],
   "source": [
    "country_df[country_df.pais.isna()]"
   ]
  },
  {
   "source": [
    "## Indexing"
   ],
   "cell_type": "markdown",
   "metadata": {}
  },
  {
   "cell_type": "code",
   "execution_count": 10,
   "metadata": {},
   "outputs": [],
   "source": [
    "import recordlinkage as rl "
   ]
  },
  {
   "cell_type": "code",
   "execution_count": 11,
   "metadata": {},
   "outputs": [],
   "source": [
    "country_df = pd.read_csv('./top50countryDos.csv')#, encoding='windows-1251')"
   ]
  },
  {
   "cell_type": "code",
   "execution_count": 29,
   "metadata": {},
   "outputs": [],
   "source": [
    "block_indexer = rl.Index()\n",
    "block_indexer.block('titulo')\n",
    "cl = block_indexer.index(country_df)"
   ]
  },
  {
   "cell_type": "code",
   "execution_count": 30,
   "metadata": {},
   "outputs": [
    {
     "output_type": "stream",
     "name": "stdout",
     "text": [
      "29\n"
     ]
    }
   ],
   "source": [
    "print(len(cl)) #29 registros a comparar"
   ]
  },
  {
   "cell_type": "code",
   "execution_count": 31,
   "metadata": {},
   "outputs": [
    {
     "output_type": "stream",
     "name": "stdout",
     "text": [
      "MultiIndex([(447, 379),\n            (448, 380),\n            (449, 381),\n            (450, 382),\n            (451, 383),\n            (452, 384),\n            (453, 385),\n            (454, 386),\n            (455, 387),\n            (456, 388),\n            (457, 389),\n            (458, 390),\n            (459, 391),\n            (460, 392),\n            (461, 393),\n            (462, 394),\n            (463, 395),\n            (464, 396),\n            (465, 397),\n            (466, 398),\n            (467, 399),\n            (468, 400),\n            (469, 401),\n            (470, 402),\n            (471, 403),\n            (472, 404),\n            (473, 405),\n            (474, 406),\n            (475, 407)],\n           )\n"
     ]
    }
   ],
   "source": [
    "print(cl)"
   ]
  },
  {
   "cell_type": "code",
   "execution_count": 32,
   "metadata": {},
   "outputs": [],
   "source": [
    "compare_cl = rl.Compare()\n",
    "compare_cl.exact('titulo', 'titulo', label='song_title')\n",
    "compare_cl.string('artista', 'artista', label='artist')\n",
    "compare_cl.string('genero', 'genero', label='genre')\n",
    "compare_cl.numeric('anio', 'anio', label='year')\n",
    "compare_cl.exact('agregado', 'agregado', label='date_added')\n",
    "compare_cl.string('pais', 'pais', label='country')\n",
    "features = compare_cl.compute(cl, country_df)\n",
    "\n",
    "#compare_cl.numeric('bpm', 'bpm', label='bpm')\n",
    "#compare_cl.numeric('energia', 'energia', label='energy')\n",
    "#compare_cl.numeric('baile', 'baile', label='danceabilty')\n",
    "#compare_cl.numeric('deciBeles', 'deciBeles', label='dB')\n",
    "#compare_cl.numeric('vivo', 'vivo', label='live')\n",
    "#compare_cl.numeric('val', 'val', label='val')\n",
    "#compare_cl.numeric('duracion', 'duracion', label='length')\n",
    "#compare_cl.numeric('acustica', 'acustica', label='acoustics')\n",
    "#compare_cl.numeric('palabra', 'palabra', label='word')\n",
    "#compare_cl.numeric('pop', 'pop', label='pop')"
   ]
  },
  {
   "cell_type": "code",
   "execution_count": 33,
   "metadata": {},
   "outputs": [
    {
     "output_type": "execute_result",
     "data": {
      "text/plain": [
       "         song_title  artist  genre  year  date_added  country\n",
       "447 379           1     1.0    1.0   1.0           1      1.0\n",
       "448 380           1     1.0    1.0   1.0           1      1.0\n",
       "449 381           1     1.0    1.0   1.0           1      1.0\n",
       "450 382           1     1.0    1.0   1.0           1      1.0\n",
       "451 383           1     1.0    1.0   1.0           1      1.0"
      ],
      "text/html": "<div>\n<style scoped>\n    .dataframe tbody tr th:only-of-type {\n        vertical-align: middle;\n    }\n\n    .dataframe tbody tr th {\n        vertical-align: top;\n    }\n\n    .dataframe thead th {\n        text-align: right;\n    }\n</style>\n<table border=\"1\" class=\"dataframe\">\n  <thead>\n    <tr style=\"text-align: right;\">\n      <th></th>\n      <th></th>\n      <th>song_title</th>\n      <th>artist</th>\n      <th>genre</th>\n      <th>year</th>\n      <th>date_added</th>\n      <th>country</th>\n    </tr>\n  </thead>\n  <tbody>\n    <tr>\n      <th>447</th>\n      <th>379</th>\n      <td>1</td>\n      <td>1.0</td>\n      <td>1.0</td>\n      <td>1.0</td>\n      <td>1</td>\n      <td>1.0</td>\n    </tr>\n    <tr>\n      <th>448</th>\n      <th>380</th>\n      <td>1</td>\n      <td>1.0</td>\n      <td>1.0</td>\n      <td>1.0</td>\n      <td>1</td>\n      <td>1.0</td>\n    </tr>\n    <tr>\n      <th>449</th>\n      <th>381</th>\n      <td>1</td>\n      <td>1.0</td>\n      <td>1.0</td>\n      <td>1.0</td>\n      <td>1</td>\n      <td>1.0</td>\n    </tr>\n    <tr>\n      <th>450</th>\n      <th>382</th>\n      <td>1</td>\n      <td>1.0</td>\n      <td>1.0</td>\n      <td>1.0</td>\n      <td>1</td>\n      <td>1.0</td>\n    </tr>\n    <tr>\n      <th>451</th>\n      <th>383</th>\n      <td>1</td>\n      <td>1.0</td>\n      <td>1.0</td>\n      <td>1.0</td>\n      <td>1</td>\n      <td>1.0</td>\n    </tr>\n  </tbody>\n</table>\n</div>"
     },
     "metadata": {},
     "execution_count": 33
    }
   ],
   "source": [
    "features.head()"
   ]
  },
  {
   "cell_type": "code",
   "execution_count": 34,
   "metadata": {},
   "outputs": [
    {
     "output_type": "execute_result",
     "data": {
      "text/plain": [
       "       song_title  artist  genre  year  date_added  country\n",
       "count        29.0    29.0   29.0  29.0        29.0     29.0\n",
       "mean          1.0     1.0    1.0   1.0         1.0      1.0\n",
       "std           0.0     0.0    0.0   0.0         0.0      0.0\n",
       "min           1.0     1.0    1.0   1.0         1.0      1.0\n",
       "25%           1.0     1.0    1.0   1.0         1.0      1.0\n",
       "50%           1.0     1.0    1.0   1.0         1.0      1.0\n",
       "75%           1.0     1.0    1.0   1.0         1.0      1.0\n",
       "max           1.0     1.0    1.0   1.0         1.0      1.0"
      ],
      "text/html": "<div>\n<style scoped>\n    .dataframe tbody tr th:only-of-type {\n        vertical-align: middle;\n    }\n\n    .dataframe tbody tr th {\n        vertical-align: top;\n    }\n\n    .dataframe thead th {\n        text-align: right;\n    }\n</style>\n<table border=\"1\" class=\"dataframe\">\n  <thead>\n    <tr style=\"text-align: right;\">\n      <th></th>\n      <th>song_title</th>\n      <th>artist</th>\n      <th>genre</th>\n      <th>year</th>\n      <th>date_added</th>\n      <th>country</th>\n    </tr>\n  </thead>\n  <tbody>\n    <tr>\n      <th>count</th>\n      <td>29.0</td>\n      <td>29.0</td>\n      <td>29.0</td>\n      <td>29.0</td>\n      <td>29.0</td>\n      <td>29.0</td>\n    </tr>\n    <tr>\n      <th>mean</th>\n      <td>1.0</td>\n      <td>1.0</td>\n      <td>1.0</td>\n      <td>1.0</td>\n      <td>1.0</td>\n      <td>1.0</td>\n    </tr>\n    <tr>\n      <th>std</th>\n      <td>0.0</td>\n      <td>0.0</td>\n      <td>0.0</td>\n      <td>0.0</td>\n      <td>0.0</td>\n      <td>0.0</td>\n    </tr>\n    <tr>\n      <th>min</th>\n      <td>1.0</td>\n      <td>1.0</td>\n      <td>1.0</td>\n      <td>1.0</td>\n      <td>1.0</td>\n      <td>1.0</td>\n    </tr>\n    <tr>\n      <th>25%</th>\n      <td>1.0</td>\n      <td>1.0</td>\n      <td>1.0</td>\n      <td>1.0</td>\n      <td>1.0</td>\n      <td>1.0</td>\n    </tr>\n    <tr>\n      <th>50%</th>\n      <td>1.0</td>\n      <td>1.0</td>\n      <td>1.0</td>\n      <td>1.0</td>\n      <td>1.0</td>\n      <td>1.0</td>\n    </tr>\n    <tr>\n      <th>75%</th>\n      <td>1.0</td>\n      <td>1.0</td>\n      <td>1.0</td>\n      <td>1.0</td>\n      <td>1.0</td>\n      <td>1.0</td>\n    </tr>\n    <tr>\n      <th>max</th>\n      <td>1.0</td>\n      <td>1.0</td>\n      <td>1.0</td>\n      <td>1.0</td>\n      <td>1.0</td>\n      <td>1.0</td>\n    </tr>\n  </tbody>\n</table>\n</div>"
     },
     "metadata": {},
     "execution_count": 34
    }
   ],
   "source": [
    "features.describe()"
   ]
  },
  {
   "cell_type": "code",
   "execution_count": 35,
   "metadata": {},
   "outputs": [
    {
     "output_type": "stream",
     "name": "stdout",
     "text": [
      "Registros correspondienes: 29 \nNo correspondientes: 0\n"
     ]
    }
   ],
   "source": [
    "matches = features[features.sum(axis=1) > 5]\n",
    "print(f'Registros correspondienes: {len(matches)} \\nNo correspondientes: {len(features) - len(matches)}')"
   ]
  },
  {
   "cell_type": "code",
   "execution_count": 36,
   "metadata": {},
   "outputs": [
    {
     "output_type": "execute_result",
     "data": {
      "text/plain": [
       "29"
      ]
     },
     "metadata": {},
     "execution_count": 36
    }
   ],
   "source": [
    "len(matches[matches == True])"
   ]
  },
  {
   "cell_type": "code",
   "execution_count": 37,
   "metadata": {},
   "outputs": [
    {
     "output_type": "execute_result",
     "data": {
      "text/plain": [
       "   clave       titulo       artista     genero  anio    agregado    bpm  \\\n",
       "0    671          0.4  Aya Nakamura   basshall  2019  31/12/1969   92.0   \n",
       "1    125  0.958333333        Maluma      latin  2019  31/12/1969   96.0   \n",
       "2    273  0.958333333        Maluma      latin  2019  31/12/1969   96.0   \n",
       "3    472  0.958333333        Maluma      latin  2019  31/12/1969   96.0   \n",
       "4    136           22          TINI  latin pop  2019  31/12/1969  176.0   \n",
       "\n",
       "   energia  baile  deciBeles  vivo   val  duracion  acustica  palabra  pop  \\\n",
       "0     69.0   84.0       -7.0  13.0  68.0       175      40.0     21.0   78   \n",
       "1     71.0   78.0       -5.0   9.0  68.0       176      22.0     28.0   88   \n",
       "2     71.0   78.0       -5.0   9.0  68.0       176      22.0     28.0   88   \n",
       "3     71.0   78.0       -5.0   9.0  68.0       176      22.0     28.0   88   \n",
       "4     64.0   70.0       -5.0   9.0  81.0       159       1.0      9.0   76   \n",
       "\n",
       "        pais  \n",
       "0     france  \n",
       "1  argentina  \n",
       "2    bolivia  \n",
       "3   colombia  \n",
       "4  argentina  "
      ],
      "text/html": "<div>\n<style scoped>\n    .dataframe tbody tr th:only-of-type {\n        vertical-align: middle;\n    }\n\n    .dataframe tbody tr th {\n        vertical-align: top;\n    }\n\n    .dataframe thead th {\n        text-align: right;\n    }\n</style>\n<table border=\"1\" class=\"dataframe\">\n  <thead>\n    <tr style=\"text-align: right;\">\n      <th></th>\n      <th>clave</th>\n      <th>titulo</th>\n      <th>artista</th>\n      <th>genero</th>\n      <th>anio</th>\n      <th>agregado</th>\n      <th>bpm</th>\n      <th>energia</th>\n      <th>baile</th>\n      <th>deciBeles</th>\n      <th>vivo</th>\n      <th>val</th>\n      <th>duracion</th>\n      <th>acustica</th>\n      <th>palabra</th>\n      <th>pop</th>\n      <th>pais</th>\n    </tr>\n  </thead>\n  <tbody>\n    <tr>\n      <th>0</th>\n      <td>671</td>\n      <td>0.4</td>\n      <td>Aya Nakamura</td>\n      <td>basshall</td>\n      <td>2019</td>\n      <td>31/12/1969</td>\n      <td>92.0</td>\n      <td>69.0</td>\n      <td>84.0</td>\n      <td>-7.0</td>\n      <td>13.0</td>\n      <td>68.0</td>\n      <td>175</td>\n      <td>40.0</td>\n      <td>21.0</td>\n      <td>78</td>\n      <td>france</td>\n    </tr>\n    <tr>\n      <th>1</th>\n      <td>125</td>\n      <td>0.958333333</td>\n      <td>Maluma</td>\n      <td>latin</td>\n      <td>2019</td>\n      <td>31/12/1969</td>\n      <td>96.0</td>\n      <td>71.0</td>\n      <td>78.0</td>\n      <td>-5.0</td>\n      <td>9.0</td>\n      <td>68.0</td>\n      <td>176</td>\n      <td>22.0</td>\n      <td>28.0</td>\n      <td>88</td>\n      <td>argentina</td>\n    </tr>\n    <tr>\n      <th>2</th>\n      <td>273</td>\n      <td>0.958333333</td>\n      <td>Maluma</td>\n      <td>latin</td>\n      <td>2019</td>\n      <td>31/12/1969</td>\n      <td>96.0</td>\n      <td>71.0</td>\n      <td>78.0</td>\n      <td>-5.0</td>\n      <td>9.0</td>\n      <td>68.0</td>\n      <td>176</td>\n      <td>22.0</td>\n      <td>28.0</td>\n      <td>88</td>\n      <td>bolivia</td>\n    </tr>\n    <tr>\n      <th>3</th>\n      <td>472</td>\n      <td>0.958333333</td>\n      <td>Maluma</td>\n      <td>latin</td>\n      <td>2019</td>\n      <td>31/12/1969</td>\n      <td>96.0</td>\n      <td>71.0</td>\n      <td>78.0</td>\n      <td>-5.0</td>\n      <td>9.0</td>\n      <td>68.0</td>\n      <td>176</td>\n      <td>22.0</td>\n      <td>28.0</td>\n      <td>88</td>\n      <td>colombia</td>\n    </tr>\n    <tr>\n      <th>4</th>\n      <td>136</td>\n      <td>22</td>\n      <td>TINI</td>\n      <td>latin pop</td>\n      <td>2019</td>\n      <td>31/12/1969</td>\n      <td>176.0</td>\n      <td>64.0</td>\n      <td>70.0</td>\n      <td>-5.0</td>\n      <td>9.0</td>\n      <td>81.0</td>\n      <td>159</td>\n      <td>1.0</td>\n      <td>9.0</td>\n      <td>76</td>\n      <td>argentina</td>\n    </tr>\n  </tbody>\n</table>\n</div>"
     },
     "metadata": {},
     "execution_count": 37
    }
   ],
   "source": [
    "df = pd.read_csv('top50country.csv', encoding='windows-1251')\n",
    "df.head()"
   ]
  },
  {
   "source": [
    "## Data Matching"
   ],
   "cell_type": "markdown",
   "metadata": {}
  },
  {
   "cell_type": "code",
   "execution_count": 38,
   "metadata": {},
   "outputs": [],
   "source": [
    "import recordlinkage as rl\n",
    "df_one = pd.read_csv('top50countryDos.csv', encoding='windows-1251')\n",
    "df_two = pd.read_csv('top50countryTres.csv', encoding='windows-1251')"
   ]
  },
  {
   "cell_type": "code",
   "execution_count": 39,
   "metadata": {},
   "outputs": [
    {
     "output_type": "stream",
     "name": "stdout",
     "text": [
      "(476, 17)\n(515, 17)\n"
     ]
    }
   ],
   "source": [
    "print(df_one.shape)\n",
    "print(df_two.shape)"
   ]
  },
  {
   "cell_type": "code",
   "execution_count": 40,
   "metadata": {},
   "outputs": [],
   "source": [
    "indexer = rl.BlockIndex(on='titulo')\n",
    "candidate_links = indexer.index(df_one, df_two)"
   ]
  },
  {
   "cell_type": "code",
   "execution_count": 41,
   "metadata": {},
   "outputs": [
    {
     "output_type": "stream",
     "name": "stdout",
     "text": [
      "512\nMultiIndex([(  0,   0),\n            (  1,   1),\n            (  2,   2),\n            (  3,   3),\n            (  4,   4),\n            (  5,   5),\n            (  6,   6),\n            (  7,   7),\n            ( 10,  10),\n            ( 11,  11),\n            ...\n            (437, 505),\n            (438, 506),\n            (439, 507),\n            (440, 508),\n            (441, 509),\n            (442, 510),\n            (443, 511),\n            (444, 512),\n            (445, 513),\n            (446, 514)],\n           length=512)\n"
     ]
    }
   ],
   "source": [
    "print(len(candidate_links))\n",
    "print(candidate_links)"
   ]
  },
  {
   "cell_type": "code",
   "execution_count": 42,
   "metadata": {},
   "outputs": [],
   "source": [
    "compare_cl = rl.Compare()\n",
    "compare_cl.exact('titulo', 'titulo', label='song_title')\n",
    "compare_cl.string('artista', 'artista', label='artist')\n",
    "compare_cl.string('genero', 'genero', label='genre')\n",
    "compare_cl.numeric('anio', 'anio', label='year')\n",
    "compare_cl.exact('agregado', 'agregado', label='date_added')\n",
    "compare_cl.string('pais', 'pais', label='country')\n",
    "features = compare_cl.compute(candidate_links, df_one, df_two)"
   ]
  },
  {
   "cell_type": "code",
   "execution_count": 43,
   "metadata": {},
   "outputs": [
    {
     "output_type": "execute_result",
     "data": {
      "text/plain": [
       "     song_title  artist  genre  year  date_added  country\n",
       "0 0           1     1.0    1.0   1.0           1      1.0\n",
       "1 1           1     1.0    1.0   1.0           1      1.0\n",
       "2 2           1     1.0    1.0   1.0           1      1.0\n",
       "3 3           1     1.0    1.0   1.0           1      1.0\n",
       "4 4           1     1.0    1.0   1.0           1      1.0"
      ],
      "text/html": "<div>\n<style scoped>\n    .dataframe tbody tr th:only-of-type {\n        vertical-align: middle;\n    }\n\n    .dataframe tbody tr th {\n        vertical-align: top;\n    }\n\n    .dataframe thead th {\n        text-align: right;\n    }\n</style>\n<table border=\"1\" class=\"dataframe\">\n  <thead>\n    <tr style=\"text-align: right;\">\n      <th></th>\n      <th></th>\n      <th>song_title</th>\n      <th>artist</th>\n      <th>genre</th>\n      <th>year</th>\n      <th>date_added</th>\n      <th>country</th>\n    </tr>\n  </thead>\n  <tbody>\n    <tr>\n      <th>0</th>\n      <th>0</th>\n      <td>1</td>\n      <td>1.0</td>\n      <td>1.0</td>\n      <td>1.0</td>\n      <td>1</td>\n      <td>1.0</td>\n    </tr>\n    <tr>\n      <th>1</th>\n      <th>1</th>\n      <td>1</td>\n      <td>1.0</td>\n      <td>1.0</td>\n      <td>1.0</td>\n      <td>1</td>\n      <td>1.0</td>\n    </tr>\n    <tr>\n      <th>2</th>\n      <th>2</th>\n      <td>1</td>\n      <td>1.0</td>\n      <td>1.0</td>\n      <td>1.0</td>\n      <td>1</td>\n      <td>1.0</td>\n    </tr>\n    <tr>\n      <th>3</th>\n      <th>3</th>\n      <td>1</td>\n      <td>1.0</td>\n      <td>1.0</td>\n      <td>1.0</td>\n      <td>1</td>\n      <td>1.0</td>\n    </tr>\n    <tr>\n      <th>4</th>\n      <th>4</th>\n      <td>1</td>\n      <td>1.0</td>\n      <td>1.0</td>\n      <td>1.0</td>\n      <td>1</td>\n      <td>1.0</td>\n    </tr>\n  </tbody>\n</table>\n</div>"
     },
     "metadata": {},
     "execution_count": 43
    }
   ],
   "source": [
    "features.head()"
   ]
  },
  {
   "cell_type": "code",
   "execution_count": 44,
   "metadata": {},
   "outputs": [
    {
     "output_type": "execute_result",
     "data": {
      "text/plain": [
       "       song_title      artist       genre   year  date_added  country\n",
       "count       512.0  512.000000  512.000000  512.0       512.0    512.0\n",
       "mean          1.0    0.979244    0.984375    1.0         1.0      1.0\n",
       "std           0.0    0.082853    0.124141    0.0         0.0      0.0\n",
       "min           1.0    0.000000    0.000000    1.0         1.0      1.0\n",
       "25%           1.0    1.000000    1.000000    1.0         1.0      1.0\n",
       "50%           1.0    1.000000    1.000000    1.0         1.0      1.0\n",
       "75%           1.0    1.000000    1.000000    1.0         1.0      1.0\n",
       "max           1.0    1.000000    1.000000    1.0         1.0      1.0"
      ],
      "text/html": "<div>\n<style scoped>\n    .dataframe tbody tr th:only-of-type {\n        vertical-align: middle;\n    }\n\n    .dataframe tbody tr th {\n        vertical-align: top;\n    }\n\n    .dataframe thead th {\n        text-align: right;\n    }\n</style>\n<table border=\"1\" class=\"dataframe\">\n  <thead>\n    <tr style=\"text-align: right;\">\n      <th></th>\n      <th>song_title</th>\n      <th>artist</th>\n      <th>genre</th>\n      <th>year</th>\n      <th>date_added</th>\n      <th>country</th>\n    </tr>\n  </thead>\n  <tbody>\n    <tr>\n      <th>count</th>\n      <td>512.0</td>\n      <td>512.000000</td>\n      <td>512.000000</td>\n      <td>512.0</td>\n      <td>512.0</td>\n      <td>512.0</td>\n    </tr>\n    <tr>\n      <th>mean</th>\n      <td>1.0</td>\n      <td>0.979244</td>\n      <td>0.984375</td>\n      <td>1.0</td>\n      <td>1.0</td>\n      <td>1.0</td>\n    </tr>\n    <tr>\n      <th>std</th>\n      <td>0.0</td>\n      <td>0.082853</td>\n      <td>0.124141</td>\n      <td>0.0</td>\n      <td>0.0</td>\n      <td>0.0</td>\n    </tr>\n    <tr>\n      <th>min</th>\n      <td>1.0</td>\n      <td>0.000000</td>\n      <td>0.000000</td>\n      <td>1.0</td>\n      <td>1.0</td>\n      <td>1.0</td>\n    </tr>\n    <tr>\n      <th>25%</th>\n      <td>1.0</td>\n      <td>1.000000</td>\n      <td>1.000000</td>\n      <td>1.0</td>\n      <td>1.0</td>\n      <td>1.0</td>\n    </tr>\n    <tr>\n      <th>50%</th>\n      <td>1.0</td>\n      <td>1.000000</td>\n      <td>1.000000</td>\n      <td>1.0</td>\n      <td>1.0</td>\n      <td>1.0</td>\n    </tr>\n    <tr>\n      <th>75%</th>\n      <td>1.0</td>\n      <td>1.000000</td>\n      <td>1.000000</td>\n      <td>1.0</td>\n      <td>1.0</td>\n      <td>1.0</td>\n    </tr>\n    <tr>\n      <th>max</th>\n      <td>1.0</td>\n      <td>1.000000</td>\n      <td>1.000000</td>\n      <td>1.0</td>\n      <td>1.0</td>\n      <td>1.0</td>\n    </tr>\n  </tbody>\n</table>\n</div>"
     },
     "metadata": {},
     "execution_count": 44
    }
   ],
   "source": [
    "features.describe()"
   ]
  },
  {
   "cell_type": "code",
   "execution_count": 45,
   "metadata": {},
   "outputs": [
    {
     "output_type": "stream",
     "name": "stdout",
     "text": [
      "503\n"
     ]
    },
    {
     "output_type": "execute_result",
     "data": {
      "text/plain": [
       "     song_title  artist  genre  year  date_added  country\n",
       "0 0           1     1.0    1.0   1.0           1      1.0\n",
       "1 1           1     1.0    1.0   1.0           1      1.0\n",
       "2 2           1     1.0    1.0   1.0           1      1.0\n",
       "3 3           1     1.0    1.0   1.0           1      1.0\n",
       "4 4           1     1.0    1.0   1.0           1      1.0"
      ],
      "text/html": "<div>\n<style scoped>\n    .dataframe tbody tr th:only-of-type {\n        vertical-align: middle;\n    }\n\n    .dataframe tbody tr th {\n        vertical-align: top;\n    }\n\n    .dataframe thead th {\n        text-align: right;\n    }\n</style>\n<table border=\"1\" class=\"dataframe\">\n  <thead>\n    <tr style=\"text-align: right;\">\n      <th></th>\n      <th></th>\n      <th>song_title</th>\n      <th>artist</th>\n      <th>genre</th>\n      <th>year</th>\n      <th>date_added</th>\n      <th>country</th>\n    </tr>\n  </thead>\n  <tbody>\n    <tr>\n      <th>0</th>\n      <th>0</th>\n      <td>1</td>\n      <td>1.0</td>\n      <td>1.0</td>\n      <td>1.0</td>\n      <td>1</td>\n      <td>1.0</td>\n    </tr>\n    <tr>\n      <th>1</th>\n      <th>1</th>\n      <td>1</td>\n      <td>1.0</td>\n      <td>1.0</td>\n      <td>1.0</td>\n      <td>1</td>\n      <td>1.0</td>\n    </tr>\n    <tr>\n      <th>2</th>\n      <th>2</th>\n      <td>1</td>\n      <td>1.0</td>\n      <td>1.0</td>\n      <td>1.0</td>\n      <td>1</td>\n      <td>1.0</td>\n    </tr>\n    <tr>\n      <th>3</th>\n      <th>3</th>\n      <td>1</td>\n      <td>1.0</td>\n      <td>1.0</td>\n      <td>1.0</td>\n      <td>1</td>\n      <td>1.0</td>\n    </tr>\n    <tr>\n      <th>4</th>\n      <th>4</th>\n      <td>1</td>\n      <td>1.0</td>\n      <td>1.0</td>\n      <td>1.0</td>\n      <td>1</td>\n      <td>1.0</td>\n    </tr>\n  </tbody>\n</table>\n</div>"
     },
     "metadata": {},
     "execution_count": 45
    }
   ],
   "source": [
    "matches = features[features.sum(axis=1).values > 5]\n",
    "print(len(matches))\n",
    "matches.head()"
   ]
  },
  {
   "cell_type": "code",
   "execution_count": null,
   "metadata": {},
   "outputs": [],
   "source": []
  }
 ]
}