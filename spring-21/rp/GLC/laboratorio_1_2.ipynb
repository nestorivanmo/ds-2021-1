{
 "metadata": {
  "language_info": {
   "codemirror_mode": {
    "name": "ipython",
    "version": 3
   },
   "file_extension": ".py",
   "mimetype": "text/x-python",
   "name": "python",
   "nbconvert_exporter": "python",
   "pygments_lexer": "ipython3",
   "version": "3.8.8"
  },
  "orig_nbformat": 2,
  "kernelspec": {
   "name": "python388jvsc74a57bd01ee38ef4a5a9feb55287fd749643f13d043cb0a7addaab2a9c224cbe137c0062",
   "display_name": "Python 3.8.8 64-bit ('python@3.8')"
  },
  "metadata": {
   "interpreter": {
    "hash": "1ee38ef4a5a9feb55287fd749643f13d043cb0a7addaab2a9c224cbe137c0062"
   }
  }
 },
 "nbformat": 4,
 "nbformat_minor": 2,
 "cells": [
  {
   "source": [
    "# Laboratorio 1.2 - Reconocimiento de Patrones\n",
    "- Martínez Ostoa Néstor Iván\n",
    "- Reconocimiento de Patrones\n",
    "- Dr. Carlos Hernández\n",
    "- LCD, IIMAS, UNAM"
   ],
   "cell_type": "markdown",
   "metadata": {}
  },
  {
   "source": [
    "## Descripción\n",
    "\n",
    "Generar código en python para un Autómata Finito Determinista (AFD) y que reconozca el siguiente lenguaje: \n",
    "\n",
    "$$L: L = \\{w\\;|\\;w \\; \\text{contiene la subcadena} \\; '01'\\}$$\n",
    "\n",
    "\n",
    "- Q: listas \n",
    "- Sigma: listas \n",
    "- delta: diccionario \n",
    "- q0 in Q: int \n",
    "- F: lista int\n",
    "\n",
    "'q in Q,a in Sigma':'p in Q'\n",
    "\n",
    "```\n",
    "funcion evaluar(str): \n",
    "    for i=0...len(str):\n",
    "        if str in L\n",
    "            return True\n",
    "        else\n",
    "            return False"
   ],
   "cell_type": "markdown",
   "metadata": {}
  },
  {
   "cell_type": "code",
   "execution_count": 85,
   "metadata": {},
   "outputs": [],
   "source": [
    "Q = ['q0', 'q1', 'q2']\n",
    "Sigma = [0,1]\n",
    "delta = {\n",
    "    ('q0', 0) : 'q1',\n",
    "    ('q0', 1) : 'q0',\n",
    "    ('q1', 0) : 'q1',\n",
    "    ('q1', 1) : 'q2',\n",
    "    ('q2', 0) : 'q2',\n",
    "    ('q2', 1) : 'q2',\n",
    "}"
   ]
  },
  {
   "cell_type": "code",
   "execution_count": 97,
   "metadata": {},
   "outputs": [],
   "source": [
    "def validate_string(str_):\n",
    "    for c in str_:\n",
    "        if int(c) not in Sigma:\n",
    "            return False\n",
    "    return True\n",
    "\n",
    "def AFD(str_, q0, accepted_q, verbose=False):\n",
    "    if not validate_string(str_): raise Exception(f'Invalid token. Tokens can only be: Sigma={Sigma}')\n",
    "    _q = q0\n",
    "    if verbose: print(f'\\t\\'{str_}\\'\\n')\n",
    "    for token in str_:\n",
    "        if verbose: print(f'State: {_q} \\tToken: {int(token)}', end='')\n",
    "        _q = delta[(_q, int(token))]\n",
    "        if verbose: print(f'\\tNext State: {_q}')\n",
    "    if verbose: print(\"\\n\\tVALID\") if _q == accepted_q else print(\"\\n\\tINVALID\")\n",
    "    return _q == accepted_q"
   ]
  },
  {
   "cell_type": "code",
   "execution_count": 98,
   "metadata": {},
   "outputs": [
    {
     "output_type": "stream",
     "name": "stdout",
     "text": [
      "\t'01'\n\nState: q0 \tToken: 0\tNext State: q1\nState: q1 \tToken: 1\tNext State: q2\n\n\tVALID\n"
     ]
    },
    {
     "output_type": "execute_result",
     "data": {
      "text/plain": [
       "True"
      ]
     },
     "metadata": {},
     "execution_count": 98
    }
   ],
   "source": [
    "AFD('01', q0='q0', accepted_q='q2', verbose=True)"
   ]
  },
  {
   "cell_type": "code",
   "execution_count": 99,
   "metadata": {},
   "outputs": [
    {
     "output_type": "stream",
     "name": "stdout",
     "text": [
      "\t'11001'\n\nState: q0 \tToken: 1\tNext State: q0\nState: q0 \tToken: 1\tNext State: q0\nState: q0 \tToken: 0\tNext State: q1\nState: q1 \tToken: 0\tNext State: q1\nState: q1 \tToken: 1\tNext State: q2\n\n\tVALID\n"
     ]
    },
    {
     "output_type": "execute_result",
     "data": {
      "text/plain": [
       "True"
      ]
     },
     "metadata": {},
     "execution_count": 99
    }
   ],
   "source": [
    "AFD('11001', q0='q0', accepted_q='q2', verbose=True)"
   ]
  },
  {
   "cell_type": "code",
   "execution_count": 100,
   "metadata": {},
   "outputs": [
    {
     "output_type": "stream",
     "name": "stdout",
     "text": [
      "\t'111000'\n\nState: q0 \tToken: 1\tNext State: q0\nState: q0 \tToken: 1\tNext State: q0\nState: q0 \tToken: 1\tNext State: q0\nState: q0 \tToken: 0\tNext State: q1\nState: q1 \tToken: 0\tNext State: q1\nState: q1 \tToken: 0\tNext State: q1\n\n\tINVALID\n"
     ]
    },
    {
     "output_type": "execute_result",
     "data": {
      "text/plain": [
       "False"
      ]
     },
     "metadata": {},
     "execution_count": 100
    }
   ],
   "source": [
    "AFD('111000', q0='q0', accepted_q='q2', verbose=True)"
   ]
  },
  {
   "cell_type": "code",
   "execution_count": 104,
   "metadata": {},
   "outputs": [
    {
     "output_type": "stream",
     "name": "stdout",
     "text": [
      "Test: '01' \t Result: VALID\nTest: '110001' \t Result: VALID\nTest: '0001' \t Result: VALID\nTest: '1' \t Result: INVALID\nTest: '0' \t Result: INVALID\nTest: '1110' \t Result: INVALID\nTest: '1000' \t Result: INVALID\n"
     ]
    }
   ],
   "source": [
    "test_cases = [\n",
    "    '01', '110001', '0001',\n",
    "    '1', '0', '1110', '1000'\n",
    "]\n",
    "for test in test_cases:\n",
    "    result = AFD(test, q0='q0', accepted_q='q2')\n",
    "    r_str = 'VALID' if result else 'INVALID'\n",
    "    print(f'Test: \\'{test}\\' \\t Result: {r_str}')"
   ]
  },
  {
   "cell_type": "code",
   "execution_count": null,
   "metadata": {},
   "outputs": [],
   "source": []
  }
 ]
}