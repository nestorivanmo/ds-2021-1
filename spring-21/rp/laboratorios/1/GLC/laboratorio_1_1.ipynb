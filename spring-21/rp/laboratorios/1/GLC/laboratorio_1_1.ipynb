{
 "metadata": {
  "language_info": {
   "codemirror_mode": {
    "name": "ipython",
    "version": 3
   },
   "file_extension": ".py",
   "mimetype": "text/x-python",
   "name": "python",
   "nbconvert_exporter": "python",
   "pygments_lexer": "ipython3",
   "version": "3.9.2"
  },
  "orig_nbformat": 2,
  "kernelspec": {
   "name": "python392jvsc74a57bd0aee8b7b246df8f9039afb4144a1f6fd8d2ca17a180786b69acc140d282b71a49",
   "display_name": "Python 3.9.2 64-bit"
  },
  "metadata": {
   "interpreter": {
    "hash": "aee8b7b246df8f9039afb4144a1f6fd8d2ca17a180786b69acc140d282b71a49"
   }
  }
 },
 "nbformat": 4,
 "nbformat_minor": 2,
 "cells": [
  {
   "source": [
    "# Laboratorio 1.1 - Reconocimiento de Patrones\n",
    "- Martínez Ostoa Néstor Iván\n",
    "- Reconocimiento de Patrones\n",
    "- Dr. Carlos Hernández\n",
    "- LCD, IIMAS, UNAM"
   ],
   "cell_type": "markdown",
   "metadata": {}
  },
  {
   "source": [
    "## Descripción\n",
    "\n",
    "Generar el código en Python para la gramática que reconoce **palíndromos pares**. Formalmente el lenguaje es el siguiente: \n",
    "$$L = \\{ww^R \\;|\\; w \\in(0,1)^*\\}$$\n",
    "\n",
    "## Definición de una gramática\n",
    "$$G = (V, T, P, S)$$\n",
    "- $G$: gramática\n",
    "- $V$: conjunto finito de variables o símbolos no terminales\n",
    "- $T$: conjunto finito de símbolos terminales (alfabeto)\n",
    "- $P$: conjunto de reglas de producción $V \\rightarrow (V \\cup T)^*$\n",
    "- $S$: símbolo inicial\n",
    "\n",
    "## Esbozo de solución\n",
    "### Cadenas válidas\n",
    "- '00'\n",
    "- '001100'\n",
    "- '0110'\n",
    "\n",
    "### Caso base y caso inductivo\n",
    "- **Caso Base**:\n",
    "    - $\\epsilon$\n",
    "- **Caso Inductivo**: (suponiendo que $S$ es una palíndromo par)\n",
    "    - $0S0$\n",
    "    - $1S1$\n",
    "\n",
    "### Gramática Libre de Contexto\n",
    "- $V = \\{S\\}$\n",
    "- $T = \\{0,1\\}$\n",
    "- $P = \\{ S \\rightarrow \\epsilon; \\quad S \\rightarrow 0S0; \\quad S \\rightarrow 1S1 \\}$\n",
    "- $S'=S$"
   ],
   "cell_type": "markdown",
   "metadata": {}
  },
  {
   "cell_type": "code",
   "execution_count": null,
   "metadata": {},
   "outputs": [],
   "source": [
    "tokens = (\n",
    "    'ZERO','ONE',   #Alfabeto\n",
    "    )\n",
    " \n",
    "# Each literal must be a single character\n",
    "literals = []\n",
    " \n",
    "t_ZERO = '0'\n",
    "t_ONE = '1'\n",
    " \n",
    "def t_error(t):\n",
    "    print(\"Illegal character '%s'\" % t.value[0])\n",
    "    t.lexer.skip(1)\n",
    " \n",
    "# Build the lexer, and enable debugging\n",
    "import ply.lex as lex\n",
    "lex.lex(debug=1) \n",
    " \n",
    "# dictionary of names\n",
    "names = { }\n",
    "\n",
    "def p_statement_assign(p):\n",
    "    'statement : ZERO statement ZERO'    \n",
    "\n",
    "def p_statement_assign2(p):\n",
    "    'statement : ONE statement ONE'    \n",
    "  \n",
    "def p_statement_assign3(p):\n",
    "    'statement :'\n",
    "\n",
    "def p_error(p):\n",
    "    if p:\n",
    "        print(\"Syntax error at '%s'\" % p.value)\n",
    "    else:\n",
    "        print(\"Syntax error at EOF\")\n",
    " \n",
    "import ply.yacc as yacc\n",
    "yacc.yacc()\n",
    "\n",
    "while 1:\n",
    "    try:\n",
    "        s = input('calc > ')\n",
    "    except EOFError:\n",
    "        break\n",
    "    if not s: \n",
    "        continue\n",
    "    yacc.parse(s)"
   ]
  }
 ]
}