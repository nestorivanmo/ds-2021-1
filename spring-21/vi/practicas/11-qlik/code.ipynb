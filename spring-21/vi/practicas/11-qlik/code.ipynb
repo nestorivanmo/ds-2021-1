{
 "metadata": {
  "language_info": {
   "codemirror_mode": {
    "name": "ipython",
    "version": 3
   },
   "file_extension": ".py",
   "mimetype": "text/x-python",
   "name": "python",
   "nbconvert_exporter": "python",
   "pygments_lexer": "ipython3",
   "version": "3.8.8"
  },
  "orig_nbformat": 2,
  "kernelspec": {
   "name": "python388jvsc74a57bd01ee38ef4a5a9feb55287fd749643f13d043cb0a7addaab2a9c224cbe137c0062",
   "display_name": "Python 3.8.8 64-bit ('python@3.8')"
  },
  "metadata": {
   "interpreter": {
    "hash": "1ee38ef4a5a9feb55287fd749643f13d043cb0a7addaab2a9c224cbe137c0062"
   }
  }
 },
 "nbformat": 4,
 "nbformat_minor": 2,
 "cells": [
  {
   "source": [
    "# Práctica 11: Qlik\n",
    "\n",
    "- Martínez Ostoa Néstor Iván\n",
    "- Visualización de la Información\n",
    "- LCD, IIMAS, UNAM"
   ],
   "cell_type": "markdown",
   "metadata": {}
  },
  {
   "source": [
    "## Datos PIB"
   ],
   "cell_type": "markdown",
   "metadata": {}
  },
  {
   "cell_type": "code",
   "execution_count": 3,
   "metadata": {},
   "outputs": [],
   "source": [
    "import pandas as pd\n",
    "import numpy as np"
   ]
  },
  {
   "cell_type": "code",
   "execution_count": 4,
   "metadata": {},
   "outputs": [
    {
     "output_type": "stream",
     "name": "stdout",
     "text": [
      "(4316, 6)\n"
     ]
    },
    {
     "output_type": "execute_result",
     "data": {
      "text/plain": [
       "      country  year    gdpcap   lifexp       pop continent\n",
       "0     Algeria  1960  7.154916  51.1232  11124892    Africa\n",
       "1   Argentina  1960  8.566341  64.7428  20619075  Americas\n",
       "2   Australia  1960  9.149282  71.0420  10292328   Oceania\n",
       "3     Austria  1960  8.913844  68.9320   7065525    Europe\n",
       "4  Bangladesh  1960  5.540577  44.7330  48200702      Asia"
      ],
      "text/html": "<div>\n<style scoped>\n    .dataframe tbody tr th:only-of-type {\n        vertical-align: middle;\n    }\n\n    .dataframe tbody tr th {\n        vertical-align: top;\n    }\n\n    .dataframe thead th {\n        text-align: right;\n    }\n</style>\n<table border=\"1\" class=\"dataframe\">\n  <thead>\n    <tr style=\"text-align: right;\">\n      <th></th>\n      <th>country</th>\n      <th>year</th>\n      <th>gdpcap</th>\n      <th>lifexp</th>\n      <th>pop</th>\n      <th>continent</th>\n    </tr>\n  </thead>\n  <tbody>\n    <tr>\n      <th>0</th>\n      <td>Algeria</td>\n      <td>1960</td>\n      <td>7.154916</td>\n      <td>51.1232</td>\n      <td>11124892</td>\n      <td>Africa</td>\n    </tr>\n    <tr>\n      <th>1</th>\n      <td>Argentina</td>\n      <td>1960</td>\n      <td>8.566341</td>\n      <td>64.7428</td>\n      <td>20619075</td>\n      <td>Americas</td>\n    </tr>\n    <tr>\n      <th>2</th>\n      <td>Australia</td>\n      <td>1960</td>\n      <td>9.149282</td>\n      <td>71.0420</td>\n      <td>10292328</td>\n      <td>Oceania</td>\n    </tr>\n    <tr>\n      <th>3</th>\n      <td>Austria</td>\n      <td>1960</td>\n      <td>8.913844</td>\n      <td>68.9320</td>\n      <td>7065525</td>\n      <td>Europe</td>\n    </tr>\n    <tr>\n      <th>4</th>\n      <td>Bangladesh</td>\n      <td>1960</td>\n      <td>5.540577</td>\n      <td>44.7330</td>\n      <td>48200702</td>\n      <td>Asia</td>\n    </tr>\n  </tbody>\n</table>\n</div>"
     },
     "metadata": {},
     "execution_count": 4
    }
   ],
   "source": [
    "df = pd.read_csv('data/PIB/data.csv')\n",
    "print(df.shape)\n",
    "df.head()"
   ]
  },
  {
   "cell_type": "code",
   "execution_count": 5,
   "metadata": {},
   "outputs": [
    {
     "output_type": "execute_result",
     "data": {
      "text/plain": [
       "array([1960, 1961, 1962, 1963, 1964, 1965, 1966, 1967, 1968, 1969, 1970,\n",
       "       1971, 1972, 1973, 1974, 1975, 1976, 1977, 1978, 1979, 1980, 1981,\n",
       "       1982, 1983, 1984, 1985, 1986, 1987, 1988, 1989, 1990, 1991, 1992,\n",
       "       1993, 1994, 1995, 1996, 1997, 1998, 1999, 2000, 2001, 2002, 2003,\n",
       "       2004, 2005, 2006, 2007, 2008, 2009, 2010, 2011])"
      ]
     },
     "metadata": {},
     "execution_count": 5
    }
   ],
   "source": [
    "df.year.unique()"
   ]
  },
  {
   "cell_type": "code",
   "execution_count": 6,
   "metadata": {},
   "outputs": [
    {
     "output_type": "execute_result",
     "data": {
      "text/plain": [
       "array(['Africa', 'Americas', 'Oceania', 'Europe', 'Asia'], dtype=object)"
      ]
     },
     "metadata": {},
     "execution_count": 6
    }
   ],
   "source": [
    "df.continent.unique()"
   ]
  },
  {
   "cell_type": "code",
   "execution_count": 7,
   "metadata": {},
   "outputs": [
    {
     "output_type": "execute_result",
     "data": {
      "text/plain": [
       "array(['Argentina', 'Bolivia', 'Brazil', 'Canada', 'Chile', 'Colombia',\n",
       "       'Costa Rica', 'Dominican Republic', 'Ecuador', 'El Salvador',\n",
       "       'Guatemala', 'Honduras', 'Mexico', 'Nicaragua', 'Panama',\n",
       "       'Paraguay', 'Peru', 'Trinidad and Tobago', 'United States',\n",
       "       'Uruguay', 'Venezuela'], dtype=object)"
      ]
     },
     "metadata": {},
     "execution_count": 7
    }
   ],
   "source": [
    "df[df.continent == \"Americas\"].country.unique()"
   ]
  },
  {
   "cell_type": "code",
   "execution_count": 8,
   "metadata": {},
   "outputs": [
    {
     "output_type": "stream",
     "name": "stdout",
     "text": [
      "['Argentina' 'Bolivia' 'Brazil' 'Chile' 'Colombia' 'Costa Rica'\n 'Dominican Republic' 'Ecuador' 'El Salvador' 'Guatemala' 'Honduras'\n 'Mexico' 'Nicaragua' 'Panama' 'Paraguay' 'Peru' 'Trinidad and Tobago'\n 'Uruguay' 'Venezuela']\n"
     ]
    }
   ],
   "source": [
    "non_latin_american = [\n",
    "    \"Canada\", \"United States\"\n",
    "]\n",
    "american_df = df[df.continent == \"Americas\"]\n",
    "latin_american_df = american_df[~american_df.country.isin(non_latin_american)]\n",
    "print(latin_american_df.country.unique())"
   ]
  },
  {
   "cell_type": "code",
   "execution_count": 9,
   "metadata": {},
   "outputs": [],
   "source": [
    "latin_american_df.to_csv('latin_america.csv', index=False)"
   ]
  },
  {
   "source": [
    "## Datos NASA"
   ],
   "cell_type": "markdown",
   "metadata": {}
  },
  {
   "cell_type": "code",
   "execution_count": 14,
   "metadata": {},
   "outputs": [
    {
     "output_type": "execute_result",
     "data": {
      "text/plain": [
       "      year     day  greenland_mass_GT  greenland_sigma_deviation\n",
       "0  2002.29    0.00             134.28                        NaN\n",
       "1  2002.35   70.88              70.59                        NaN\n",
       "2  2002.62 -217.33              53.36                        NaN\n",
       "3  2002.71 -238.82              64.95                        NaN\n",
       "4  2002.79 -206.42              39.05                        NaN"
      ],
      "text/html": "<div>\n<style scoped>\n    .dataframe tbody tr th:only-of-type {\n        vertical-align: middle;\n    }\n\n    .dataframe tbody tr th {\n        vertical-align: top;\n    }\n\n    .dataframe thead th {\n        text-align: right;\n    }\n</style>\n<table border=\"1\" class=\"dataframe\">\n  <thead>\n    <tr style=\"text-align: right;\">\n      <th></th>\n      <th>year</th>\n      <th>day</th>\n      <th>greenland_mass_GT</th>\n      <th>greenland_sigma_deviation</th>\n    </tr>\n  </thead>\n  <tbody>\n    <tr>\n      <th>0</th>\n      <td>2002.29</td>\n      <td>0.00</td>\n      <td>134.28</td>\n      <td>NaN</td>\n    </tr>\n    <tr>\n      <th>1</th>\n      <td>2002.35</td>\n      <td>70.88</td>\n      <td>70.59</td>\n      <td>NaN</td>\n    </tr>\n    <tr>\n      <th>2</th>\n      <td>2002.62</td>\n      <td>-217.33</td>\n      <td>53.36</td>\n      <td>NaN</td>\n    </tr>\n    <tr>\n      <th>3</th>\n      <td>2002.71</td>\n      <td>-238.82</td>\n      <td>64.95</td>\n      <td>NaN</td>\n    </tr>\n    <tr>\n      <th>4</th>\n      <td>2002.79</td>\n      <td>-206.42</td>\n      <td>39.05</td>\n      <td>NaN</td>\n    </tr>\n  </tbody>\n</table>\n</div>"
     },
     "metadata": {},
     "execution_count": 14
    }
   ],
   "source": [
    "antartica_df = pd.read_csv(\"data/NASA/0_antartica_mass.csv\")\n",
    "greenland_df = pd.read_csv(\"data/NASA/0_greenland_mass.csv\")\n",
    "greenland_df.head()"
   ]
  },
  {
   "cell_type": "code",
   "execution_count": 25,
   "metadata": {},
   "outputs": [
    {
     "output_type": "stream",
     "name": "stdout",
     "text": [
      "(758, 8)\n",
      "<ipython-input-25-92a537dad6bd>:1: ParserWarning: Falling back to the 'python' engine because the 'c' engine does not support regex separators (separators > 1 char and different from '\\s+' are interpreted as regex); you can avoid this warning by specifying engine='python'.\n",
      "  co2_df = pd.read_csv(\"data/NASA/1_co2_monthly_mean.txt\", sep=\"    \")\n"
     ]
    },
    {
     "output_type": "execute_result",
     "data": {
      "text/plain": [
       "   year  month  decimal_date   co2_avg         a                    b     c  \\\n",
       "0  1958      3     1958.2027    315.70    314.43   -1   -9.99   -0.99  None   \n",
       "1  1958      4     1958.2877    317.45    315.16   -1   -9.99   -0.99  None   \n",
       "2  1958      5     1958.3699    317.51    314.71   -1   -9.99   -0.99  None   \n",
       "3  1958      6     1958.4548    317.24    315.14   -1   -9.99   -0.99  None   \n",
       "4  1958      7     1958.5370    315.86    315.18   -1   -9.99   -0.99  None   \n",
       "\n",
       "      d  \n",
       "0  None  \n",
       "1  None  \n",
       "2  None  \n",
       "3  None  \n",
       "4  None  "
      ],
      "text/html": "<div>\n<style scoped>\n    .dataframe tbody tr th:only-of-type {\n        vertical-align: middle;\n    }\n\n    .dataframe tbody tr th {\n        vertical-align: top;\n    }\n\n    .dataframe thead th {\n        text-align: right;\n    }\n</style>\n<table border=\"1\" class=\"dataframe\">\n  <thead>\n    <tr style=\"text-align: right;\">\n      <th></th>\n      <th>year</th>\n      <th>month</th>\n      <th>decimal_date</th>\n      <th>co2_avg</th>\n      <th>a</th>\n      <th>b</th>\n      <th>c</th>\n      <th>d</th>\n    </tr>\n  </thead>\n  <tbody>\n    <tr>\n      <th>0</th>\n      <td>1958</td>\n      <td>3</td>\n      <td>1958.2027</td>\n      <td>315.70</td>\n      <td>314.43</td>\n      <td>-1   -9.99   -0.99</td>\n      <td>None</td>\n      <td>None</td>\n    </tr>\n    <tr>\n      <th>1</th>\n      <td>1958</td>\n      <td>4</td>\n      <td>1958.2877</td>\n      <td>317.45</td>\n      <td>315.16</td>\n      <td>-1   -9.99   -0.99</td>\n      <td>None</td>\n      <td>None</td>\n    </tr>\n    <tr>\n      <th>2</th>\n      <td>1958</td>\n      <td>5</td>\n      <td>1958.3699</td>\n      <td>317.51</td>\n      <td>314.71</td>\n      <td>-1   -9.99   -0.99</td>\n      <td>None</td>\n      <td>None</td>\n    </tr>\n    <tr>\n      <th>3</th>\n      <td>1958</td>\n      <td>6</td>\n      <td>1958.4548</td>\n      <td>317.24</td>\n      <td>315.14</td>\n      <td>-1   -9.99   -0.99</td>\n      <td>None</td>\n      <td>None</td>\n    </tr>\n    <tr>\n      <th>4</th>\n      <td>1958</td>\n      <td>7</td>\n      <td>1958.5370</td>\n      <td>315.86</td>\n      <td>315.18</td>\n      <td>-1   -9.99   -0.99</td>\n      <td>None</td>\n      <td>None</td>\n    </tr>\n  </tbody>\n</table>\n</div>"
     },
     "metadata": {},
     "execution_count": 25
    }
   ],
   "source": [
    "co2_df = pd.read_csv(\"data/NASA/1_co2_monthly_mean.txt\", sep=\"    \")\n",
    "print(co2_df.shape)\n",
    "co2_df.head()"
   ]
  },
  {
   "cell_type": "code",
   "execution_count": 26,
   "metadata": {},
   "outputs": [
    {
     "output_type": "execute_result",
     "data": {
      "text/plain": [
       "   year  month   co2_avg\n",
       "0  1958      3    315.70\n",
       "1  1958      4    317.45\n",
       "2  1958      5    317.51\n",
       "3  1958      6    317.24\n",
       "4  1958      7    315.86"
      ],
      "text/html": "<div>\n<style scoped>\n    .dataframe tbody tr th:only-of-type {\n        vertical-align: middle;\n    }\n\n    .dataframe tbody tr th {\n        vertical-align: top;\n    }\n\n    .dataframe thead th {\n        text-align: right;\n    }\n</style>\n<table border=\"1\" class=\"dataframe\">\n  <thead>\n    <tr style=\"text-align: right;\">\n      <th></th>\n      <th>year</th>\n      <th>month</th>\n      <th>co2_avg</th>\n    </tr>\n  </thead>\n  <tbody>\n    <tr>\n      <th>0</th>\n      <td>1958</td>\n      <td>3</td>\n      <td>315.70</td>\n    </tr>\n    <tr>\n      <th>1</th>\n      <td>1958</td>\n      <td>4</td>\n      <td>317.45</td>\n    </tr>\n    <tr>\n      <th>2</th>\n      <td>1958</td>\n      <td>5</td>\n      <td>317.51</td>\n    </tr>\n    <tr>\n      <th>3</th>\n      <td>1958</td>\n      <td>6</td>\n      <td>317.24</td>\n    </tr>\n    <tr>\n      <th>4</th>\n      <td>1958</td>\n      <td>7</td>\n      <td>315.86</td>\n    </tr>\n  </tbody>\n</table>\n</div>"
     },
     "metadata": {},
     "execution_count": 26
    }
   ],
   "source": [
    "co2_df = co2_df.loc[:, ['year', 'month', 'co2_avg']]\n",
    "co2_df.head()"
   ]
  },
  {
   "cell_type": "code",
   "execution_count": 34,
   "metadata": {},
   "outputs": [],
   "source": [
    "co2_df.to_csv('data/NASA/co2_mm.csv', index=False)"
   ]
  },
  {
   "cell_type": "code",
   "execution_count": 20,
   "metadata": {},
   "outputs": [
    {
     "output_type": "stream",
     "name": "stdout",
     "text": [
      "(141, 3)\n",
      "<ipython-input-20-5e82776d83db>:1: ParserWarning: Falling back to the 'python' engine because the 'c' engine does not support regex separators (separators > 1 char and different from '\\s+' are interpreted as regex); you can avoid this warning by specifying engine='python'.\n",
      "  land_ocean_temp_idx_df = pd.read_csv(\"data/NASA/1_land_ocean_temperature_index.txt\", sep=\"    \")\n"
     ]
    },
    {
     "output_type": "execute_result",
     "data": {
      "text/plain": [
       "   Year   No_Smoothing   Lowess\n",
       "0  1880          -0.17    -0.09\n",
       "1  1881          -0.08    -0.13\n",
       "2  1882          -0.10    -0.16\n",
       "3  1883          -0.17    -0.20\n",
       "4  1884          -0.28    -0.23"
      ],
      "text/html": "<div>\n<style scoped>\n    .dataframe tbody tr th:only-of-type {\n        vertical-align: middle;\n    }\n\n    .dataframe tbody tr th {\n        vertical-align: top;\n    }\n\n    .dataframe thead th {\n        text-align: right;\n    }\n</style>\n<table border=\"1\" class=\"dataframe\">\n  <thead>\n    <tr style=\"text-align: right;\">\n      <th></th>\n      <th>Year</th>\n      <th>No_Smoothing</th>\n      <th>Lowess</th>\n    </tr>\n  </thead>\n  <tbody>\n    <tr>\n      <th>0</th>\n      <td>1880</td>\n      <td>-0.17</td>\n      <td>-0.09</td>\n    </tr>\n    <tr>\n      <th>1</th>\n      <td>1881</td>\n      <td>-0.08</td>\n      <td>-0.13</td>\n    </tr>\n    <tr>\n      <th>2</th>\n      <td>1882</td>\n      <td>-0.10</td>\n      <td>-0.16</td>\n    </tr>\n    <tr>\n      <th>3</th>\n      <td>1883</td>\n      <td>-0.17</td>\n      <td>-0.20</td>\n    </tr>\n    <tr>\n      <th>4</th>\n      <td>1884</td>\n      <td>-0.28</td>\n      <td>-0.23</td>\n    </tr>\n  </tbody>\n</table>\n</div>"
     },
     "metadata": {},
     "execution_count": 20
    }
   ],
   "source": [
    "land_ocean_temp_idx_df = pd.read_csv(\"data/NASA/1_land_ocean_temperature_index.txt\", sep=\"    \")\n",
    "print(land_ocean_temp_idx_df.shape)\n",
    "land_ocean_temp_idx_df.head()"
   ]
  },
  {
   "cell_type": "code",
   "execution_count": 33,
   "metadata": {},
   "outputs": [],
   "source": [
    "land_ocean_temp_idx_df.to_csv('data/NASA/loti.csv', index=False)"
   ]
  },
  {
   "cell_type": "code",
   "execution_count": 30,
   "metadata": {},
   "outputs": [
    {
     "output_type": "stream",
     "name": "stdout",
     "text": [
      "(1035, 12)\n"
     ]
    },
    {
     "output_type": "execute_result",
     "data": {
      "text/plain": [
       "   altimeter  merged_file_cycle  year_fraction_of_year  \\\n",
       "0          0                 11            1993.011526   \n",
       "1          0                 12            1993.038692   \n",
       "2          0                 13            1993.065858   \n",
       "3          0                 14            1993.093025   \n",
       "4          0                 15            1993.120191   \n",
       "\n",
       "   number_of_observations number_of_weighted_observations    GMSL std_GMSL  \\\n",
       "0                  452600                       327401.31  -38.59    89.86   \n",
       "1                  447591                       324498.41  -41.97    90.86   \n",
       "2                  459462                       333018.19  -41.93    87.27   \n",
       "3                  410064                       297483.19  -42.67    90.75   \n",
       "4                  446813                       321635.81  -37.86    90.26   \n",
       "\n",
       "  smoother_GMSL GMSL_variation std_of_GMSL       a      b  \n",
       "0        -38.76         -38.59       89.86  -38.75 -38.57  \n",
       "1        -39.78         -41.97       90.86  -39.77 -39.11  \n",
       "2        -39.62         -41.91       87.27  -39.61 -38.58  \n",
       "3        -39.67         -42.65       90.74  -39.64 -38.34  \n",
       "4        -38.75         -37.83       90.25  -38.72 -37.21  "
      ],
      "text/html": "<div>\n<style scoped>\n    .dataframe tbody tr th:only-of-type {\n        vertical-align: middle;\n    }\n\n    .dataframe tbody tr th {\n        vertical-align: top;\n    }\n\n    .dataframe thead th {\n        text-align: right;\n    }\n</style>\n<table border=\"1\" class=\"dataframe\">\n  <thead>\n    <tr style=\"text-align: right;\">\n      <th></th>\n      <th>altimeter</th>\n      <th>merged_file_cycle</th>\n      <th>year_fraction_of_year</th>\n      <th>number_of_observations</th>\n      <th>number_of_weighted_observations</th>\n      <th>GMSL</th>\n      <th>std_GMSL</th>\n      <th>smoother_GMSL</th>\n      <th>GMSL_variation</th>\n      <th>std_of_GMSL</th>\n      <th>a</th>\n      <th>b</th>\n    </tr>\n  </thead>\n  <tbody>\n    <tr>\n      <th>0</th>\n      <td>0</td>\n      <td>11</td>\n      <td>1993.011526</td>\n      <td>452600</td>\n      <td>327401.31</td>\n      <td>-38.59</td>\n      <td>89.86</td>\n      <td>-38.76</td>\n      <td>-38.59</td>\n      <td>89.86</td>\n      <td>-38.75</td>\n      <td>-38.57</td>\n    </tr>\n    <tr>\n      <th>1</th>\n      <td>0</td>\n      <td>12</td>\n      <td>1993.038692</td>\n      <td>447591</td>\n      <td>324498.41</td>\n      <td>-41.97</td>\n      <td>90.86</td>\n      <td>-39.78</td>\n      <td>-41.97</td>\n      <td>90.86</td>\n      <td>-39.77</td>\n      <td>-39.11</td>\n    </tr>\n    <tr>\n      <th>2</th>\n      <td>0</td>\n      <td>13</td>\n      <td>1993.065858</td>\n      <td>459462</td>\n      <td>333018.19</td>\n      <td>-41.93</td>\n      <td>87.27</td>\n      <td>-39.62</td>\n      <td>-41.91</td>\n      <td>87.27</td>\n      <td>-39.61</td>\n      <td>-38.58</td>\n    </tr>\n    <tr>\n      <th>3</th>\n      <td>0</td>\n      <td>14</td>\n      <td>1993.093025</td>\n      <td>410064</td>\n      <td>297483.19</td>\n      <td>-42.67</td>\n      <td>90.75</td>\n      <td>-39.67</td>\n      <td>-42.65</td>\n      <td>90.74</td>\n      <td>-39.64</td>\n      <td>-38.34</td>\n    </tr>\n    <tr>\n      <th>4</th>\n      <td>0</td>\n      <td>15</td>\n      <td>1993.120191</td>\n      <td>446813</td>\n      <td>321635.81</td>\n      <td>-37.86</td>\n      <td>90.26</td>\n      <td>-38.75</td>\n      <td>-37.83</td>\n      <td>90.25</td>\n      <td>-38.72</td>\n      <td>-37.21</td>\n    </tr>\n  </tbody>\n</table>\n</div>"
     },
     "metadata": {},
     "execution_count": 30
    }
   ],
   "source": [
    "gmsl_df = pd.read_csv('data/NASA/1_global_mean_sea_level.txt', sep=' ')\n",
    "print(gmsl_df.shape)\n",
    "gmsl_df.head()"
   ]
  },
  {
   "cell_type": "code",
   "execution_count": 31,
   "metadata": {},
   "outputs": [
    {
     "output_type": "execute_result",
     "data": {
      "text/plain": [
       "   year_fraction_of_year    GMSL\n",
       "0            1993.011526  -38.59\n",
       "1            1993.038692  -41.97\n",
       "2            1993.065858  -41.93\n",
       "3            1993.093025  -42.67\n",
       "4            1993.120191  -37.86"
      ],
      "text/html": "<div>\n<style scoped>\n    .dataframe tbody tr th:only-of-type {\n        vertical-align: middle;\n    }\n\n    .dataframe tbody tr th {\n        vertical-align: top;\n    }\n\n    .dataframe thead th {\n        text-align: right;\n    }\n</style>\n<table border=\"1\" class=\"dataframe\">\n  <thead>\n    <tr style=\"text-align: right;\">\n      <th></th>\n      <th>year_fraction_of_year</th>\n      <th>GMSL</th>\n    </tr>\n  </thead>\n  <tbody>\n    <tr>\n      <th>0</th>\n      <td>1993.011526</td>\n      <td>-38.59</td>\n    </tr>\n    <tr>\n      <th>1</th>\n      <td>1993.038692</td>\n      <td>-41.97</td>\n    </tr>\n    <tr>\n      <th>2</th>\n      <td>1993.065858</td>\n      <td>-41.93</td>\n    </tr>\n    <tr>\n      <th>3</th>\n      <td>1993.093025</td>\n      <td>-42.67</td>\n    </tr>\n    <tr>\n      <th>4</th>\n      <td>1993.120191</td>\n      <td>-37.86</td>\n    </tr>\n  </tbody>\n</table>\n</div>"
     },
     "metadata": {},
     "execution_count": 31
    }
   ],
   "source": [
    "gmsl_df = gmsl_df.loc[:, ['year_fraction_of_year', 'GMSL']]\n",
    "gmsl_df.head()"
   ]
  },
  {
   "cell_type": "code",
   "execution_count": 32,
   "metadata": {},
   "outputs": [],
   "source": [
    "gmsl_df.to_csv('data/NASA/gmsl.csv', index=False)"
   ]
  },
  {
   "cell_type": "code",
   "execution_count": null,
   "metadata": {},
   "outputs": [],
   "source": []
  }
 ]
}