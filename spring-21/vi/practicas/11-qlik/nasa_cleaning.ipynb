{
 "metadata": {
  "language_info": {
   "codemirror_mode": {
    "name": "ipython",
    "version": 3
   },
   "file_extension": ".py",
   "mimetype": "text/x-python",
   "name": "python",
   "nbconvert_exporter": "python",
   "pygments_lexer": "ipython3",
   "version": "3.8.8"
  },
  "orig_nbformat": 2,
  "kernelspec": {
   "name": "python388jvsc74a57bd01ee38ef4a5a9feb55287fd749643f13d043cb0a7addaab2a9c224cbe137c0062",
   "display_name": "Python 3.8.8 64-bit ('python@3.8')"
  },
  "metadata": {
   "interpreter": {
    "hash": "1ee38ef4a5a9feb55287fd749643f13d043cb0a7addaab2a9c224cbe137c0062"
   }
  }
 },
 "nbformat": 4,
 "nbformat_minor": 2,
 "cells": [
  {
   "cell_type": "code",
   "execution_count": 14,
   "metadata": {},
   "outputs": [],
   "source": [
    "import pandas as pd\n",
    "import numpy as np"
   ]
  },
  {
   "cell_type": "code",
   "execution_count": 4,
   "metadata": {},
   "outputs": [
    {
     "output_type": "stream",
     "name": "stdout",
     "text": [
      "(195, 4)\n"
     ]
    },
    {
     "output_type": "execute_result",
     "data": {
      "text/plain": [
       "   year  day  antartica_mass_GT  antartica_sigmadeviation\n",
       "0  2002   29               0.00                    178.90\n",
       "1  2002   35              18.36                    102.47\n",
       "2  2002   62             -59.82                     83.09\n",
       "3  2002   71              45.54                     97.19\n",
       "4  2002   79              62.69                     61.82"
      ],
      "text/html": "<div>\n<style scoped>\n    .dataframe tbody tr th:only-of-type {\n        vertical-align: middle;\n    }\n\n    .dataframe tbody tr th {\n        vertical-align: top;\n    }\n\n    .dataframe thead th {\n        text-align: right;\n    }\n</style>\n<table border=\"1\" class=\"dataframe\">\n  <thead>\n    <tr style=\"text-align: right;\">\n      <th></th>\n      <th>year</th>\n      <th>day</th>\n      <th>antartica_mass_GT</th>\n      <th>antartica_sigmadeviation</th>\n    </tr>\n  </thead>\n  <tbody>\n    <tr>\n      <th>0</th>\n      <td>2002</td>\n      <td>29</td>\n      <td>0.00</td>\n      <td>178.90</td>\n    </tr>\n    <tr>\n      <th>1</th>\n      <td>2002</td>\n      <td>35</td>\n      <td>18.36</td>\n      <td>102.47</td>\n    </tr>\n    <tr>\n      <th>2</th>\n      <td>2002</td>\n      <td>62</td>\n      <td>-59.82</td>\n      <td>83.09</td>\n    </tr>\n    <tr>\n      <th>3</th>\n      <td>2002</td>\n      <td>71</td>\n      <td>45.54</td>\n      <td>97.19</td>\n    </tr>\n    <tr>\n      <th>4</th>\n      <td>2002</td>\n      <td>79</td>\n      <td>62.69</td>\n      <td>61.82</td>\n    </tr>\n  </tbody>\n</table>\n</div>"
     },
     "metadata": {},
     "execution_count": 4
    }
   ],
   "source": [
    "base = 'data/NASA/'\n",
    "an_df = pd.read_csv(base+'antartica_mass.csv')\n",
    "print(an_df.shape)\n",
    "an_df.head()"
   ]
  },
  {
   "cell_type": "code",
   "execution_count": 5,
   "metadata": {},
   "outputs": [
    {
     "output_type": "stream",
     "name": "stdout",
     "text": [
      "(195, 4)\n"
     ]
    },
    {
     "output_type": "execute_result",
     "data": {
      "text/plain": [
       "   year  day  greenland_mass_GT  greenland_sigma_deviation\n",
       "0  2002   29               0.00                     134.28\n",
       "1  2002   35              70.88                      70.59\n",
       "2  2002   62            -217.33                      53.36\n",
       "3  2002   71            -238.82                      64.95\n",
       "4  2002   79            -206.42                      39.05"
      ],
      "text/html": "<div>\n<style scoped>\n    .dataframe tbody tr th:only-of-type {\n        vertical-align: middle;\n    }\n\n    .dataframe tbody tr th {\n        vertical-align: top;\n    }\n\n    .dataframe thead th {\n        text-align: right;\n    }\n</style>\n<table border=\"1\" class=\"dataframe\">\n  <thead>\n    <tr style=\"text-align: right;\">\n      <th></th>\n      <th>year</th>\n      <th>day</th>\n      <th>greenland_mass_GT</th>\n      <th>greenland_sigma_deviation</th>\n    </tr>\n  </thead>\n  <tbody>\n    <tr>\n      <th>0</th>\n      <td>2002</td>\n      <td>29</td>\n      <td>0.00</td>\n      <td>134.28</td>\n    </tr>\n    <tr>\n      <th>1</th>\n      <td>2002</td>\n      <td>35</td>\n      <td>70.88</td>\n      <td>70.59</td>\n    </tr>\n    <tr>\n      <th>2</th>\n      <td>2002</td>\n      <td>62</td>\n      <td>-217.33</td>\n      <td>53.36</td>\n    </tr>\n    <tr>\n      <th>3</th>\n      <td>2002</td>\n      <td>71</td>\n      <td>-238.82</td>\n      <td>64.95</td>\n    </tr>\n    <tr>\n      <th>4</th>\n      <td>2002</td>\n      <td>79</td>\n      <td>-206.42</td>\n      <td>39.05</td>\n    </tr>\n  </tbody>\n</table>\n</div>"
     },
     "metadata": {},
     "execution_count": 5
    }
   ],
   "source": [
    "gn_df = pd.read_csv(base+'greenland_mass.csv')\n",
    "print(gn_df.shape)\n",
    "gn_df.head()"
   ]
  },
  {
   "cell_type": "code",
   "execution_count": 17,
   "metadata": {},
   "outputs": [
    {
     "output_type": "execute_result",
     "data": {
      "text/plain": [
       "   year  antartica_mass  greenland_mass\n",
       "0  2002            0.00            0.00\n",
       "1  2002           18.36           70.88\n",
       "2  2002          -59.82         -217.33\n",
       "3  2002           45.54         -238.82\n",
       "4  2002           62.69         -206.42"
      ],
      "text/html": "<div>\n<style scoped>\n    .dataframe tbody tr th:only-of-type {\n        vertical-align: middle;\n    }\n\n    .dataframe tbody tr th {\n        vertical-align: top;\n    }\n\n    .dataframe thead th {\n        text-align: right;\n    }\n</style>\n<table border=\"1\" class=\"dataframe\">\n  <thead>\n    <tr style=\"text-align: right;\">\n      <th></th>\n      <th>year</th>\n      <th>antartica_mass</th>\n      <th>greenland_mass</th>\n    </tr>\n  </thead>\n  <tbody>\n    <tr>\n      <th>0</th>\n      <td>2002</td>\n      <td>0.00</td>\n      <td>0.00</td>\n    </tr>\n    <tr>\n      <th>1</th>\n      <td>2002</td>\n      <td>18.36</td>\n      <td>70.88</td>\n    </tr>\n    <tr>\n      <th>2</th>\n      <td>2002</td>\n      <td>-59.82</td>\n      <td>-217.33</td>\n    </tr>\n    <tr>\n      <th>3</th>\n      <td>2002</td>\n      <td>45.54</td>\n      <td>-238.82</td>\n    </tr>\n    <tr>\n      <th>4</th>\n      <td>2002</td>\n      <td>62.69</td>\n      <td>-206.42</td>\n    </tr>\n  </tbody>\n</table>\n</div>"
     },
     "metadata": {},
     "execution_count": 17
    }
   ],
   "source": [
    "an_gn_df = pd.DataFrame()\n",
    "an_gn_df[\"year\"] = an_df[\"year\"]\n",
    "an_gn_df[\"antartica_mass\"] = an_df[\"antartica_mass_GT\"]\n",
    "an_gn_df[\"greenland_mass\"] = gn_df[\"greenland_mass_GT\"]\n",
    "an_gn_df.head()"
   ]
  },
  {
   "cell_type": "code",
   "execution_count": 33,
   "metadata": {},
   "outputs": [
    {
     "output_type": "execute_result",
     "data": {
      "text/plain": [
       "     year     mass       land\n",
       "385  2020 -4922.87  greenland\n",
       "386  2020 -4900.20  greenland\n",
       "387  2021 -4839.46  greenland\n",
       "388  2021 -4901.41  greenland\n",
       "389  2021 -4894.67  greenland"
      ],
      "text/html": "<div>\n<style scoped>\n    .dataframe tbody tr th:only-of-type {\n        vertical-align: middle;\n    }\n\n    .dataframe tbody tr th {\n        vertical-align: top;\n    }\n\n    .dataframe thead th {\n        text-align: right;\n    }\n</style>\n<table border=\"1\" class=\"dataframe\">\n  <thead>\n    <tr style=\"text-align: right;\">\n      <th></th>\n      <th>year</th>\n      <th>mass</th>\n      <th>land</th>\n    </tr>\n  </thead>\n  <tbody>\n    <tr>\n      <th>385</th>\n      <td>2020</td>\n      <td>-4922.87</td>\n      <td>greenland</td>\n    </tr>\n    <tr>\n      <th>386</th>\n      <td>2020</td>\n      <td>-4900.20</td>\n      <td>greenland</td>\n    </tr>\n    <tr>\n      <th>387</th>\n      <td>2021</td>\n      <td>-4839.46</td>\n      <td>greenland</td>\n    </tr>\n    <tr>\n      <th>388</th>\n      <td>2021</td>\n      <td>-4901.41</td>\n      <td>greenland</td>\n    </tr>\n    <tr>\n      <th>389</th>\n      <td>2021</td>\n      <td>-4894.67</td>\n      <td>greenland</td>\n    </tr>\n  </tbody>\n</table>\n</div>"
     },
     "metadata": {},
     "execution_count": 33
    }
   ],
   "source": [
    "years = np.concatenate((an_gn_df[\"year\"].to_numpy(), an_gn_df[\"year\"].to_numpy()))\n",
    "mass = np.concatenate((an_gn_df[\"antartica_mass\"].to_numpy(), an_gn_df[\"greenland_mass\"].to_numpy()))\n",
    "land = np.concatenate((np.array([\"antartica\"]*195), np.array([\"greenland\"]*195)))\n",
    "an_gn_df_2 = pd.DataFrame()\n",
    "an_gn_df_2[\"year\"] = years\n",
    "an_gn_df_2[\"mass\"] = mass\n",
    "an_gn_df_2[\"land\"] = land\n",
    "an_gn_df_2.tail()"
   ]
  },
  {
   "cell_type": "code",
   "execution_count": 34,
   "metadata": {},
   "outputs": [],
   "source": [
    "an_gn_df_2.to_csv(base + \"antartica_greenland_mass.csv\", index=False)"
   ]
  },
  {
   "cell_type": "code",
   "execution_count": 12,
   "metadata": {},
   "outputs": [
    {
     "output_type": "stream",
     "name": "stdout",
     "text": [
      "(703, 2)\n"
     ]
    },
    {
     "output_type": "execute_result",
     "data": {
      "text/plain": [
       "   year_fraction_of_year    GMSL\n",
       "0            1993.011526  -38.59\n",
       "1            1993.038692  -41.97\n",
       "2            1993.065858  -41.93\n",
       "3            1993.093025  -42.67\n",
       "4            1993.120191  -37.86"
      ],
      "text/html": "<div>\n<style scoped>\n    .dataframe tbody tr th:only-of-type {\n        vertical-align: middle;\n    }\n\n    .dataframe tbody tr th {\n        vertical-align: top;\n    }\n\n    .dataframe thead th {\n        text-align: right;\n    }\n</style>\n<table border=\"1\" class=\"dataframe\">\n  <thead>\n    <tr style=\"text-align: right;\">\n      <th></th>\n      <th>year_fraction_of_year</th>\n      <th>GMSL</th>\n    </tr>\n  </thead>\n  <tbody>\n    <tr>\n      <th>0</th>\n      <td>1993.011526</td>\n      <td>-38.59</td>\n    </tr>\n    <tr>\n      <th>1</th>\n      <td>1993.038692</td>\n      <td>-41.97</td>\n    </tr>\n    <tr>\n      <th>2</th>\n      <td>1993.065858</td>\n      <td>-41.93</td>\n    </tr>\n    <tr>\n      <th>3</th>\n      <td>1993.093025</td>\n      <td>-42.67</td>\n    </tr>\n    <tr>\n      <th>4</th>\n      <td>1993.120191</td>\n      <td>-37.86</td>\n    </tr>\n  </tbody>\n</table>\n</div>"
     },
     "metadata": {},
     "execution_count": 12
    }
   ],
   "source": [
    "gmsl_df = pd.read_csv(base + 'gmsl.csv')\n",
    "print(gmsl_df[gmsl_df.year_fraction_of_year >= 2002].shape)\n",
    "gmsl_df.head()"
   ]
  },
  {
   "cell_type": "code",
   "execution_count": 35,
   "metadata": {},
   "outputs": [
    {
     "output_type": "execute_result",
     "data": {
      "text/plain": [
       "   year  month   co2_avg\n",
       "0  1958      3    315.70\n",
       "1  1958      4    317.45\n",
       "2  1958      5    317.51\n",
       "3  1958      6    317.24\n",
       "4  1958      7    315.86"
      ],
      "text/html": "<div>\n<style scoped>\n    .dataframe tbody tr th:only-of-type {\n        vertical-align: middle;\n    }\n\n    .dataframe tbody tr th {\n        vertical-align: top;\n    }\n\n    .dataframe thead th {\n        text-align: right;\n    }\n</style>\n<table border=\"1\" class=\"dataframe\">\n  <thead>\n    <tr style=\"text-align: right;\">\n      <th></th>\n      <th>year</th>\n      <th>month</th>\n      <th>co2_avg</th>\n    </tr>\n  </thead>\n  <tbody>\n    <tr>\n      <th>0</th>\n      <td>1958</td>\n      <td>3</td>\n      <td>315.70</td>\n    </tr>\n    <tr>\n      <th>1</th>\n      <td>1958</td>\n      <td>4</td>\n      <td>317.45</td>\n    </tr>\n    <tr>\n      <th>2</th>\n      <td>1958</td>\n      <td>5</td>\n      <td>317.51</td>\n    </tr>\n    <tr>\n      <th>3</th>\n      <td>1958</td>\n      <td>6</td>\n      <td>317.24</td>\n    </tr>\n    <tr>\n      <th>4</th>\n      <td>1958</td>\n      <td>7</td>\n      <td>315.86</td>\n    </tr>\n  </tbody>\n</table>\n</div>"
     },
     "metadata": {},
     "execution_count": 35
    }
   ],
   "source": [
    "co2_df = pd.read_csv(base + 'co2_mm.csv')\n",
    "co2_df.head()"
   ]
  },
  {
   "cell_type": "code",
   "execution_count": 37,
   "metadata": {},
   "outputs": [
    {
     "output_type": "execute_result",
     "data": {
      "text/plain": [
       "   year label       co2\n",
       "0  1958   CO2    315.70\n",
       "1  1958   CO2    317.45\n",
       "2  1958   CO2    317.51\n",
       "3  1958   CO2    317.24\n",
       "4  1958   CO2    315.86"
      ],
      "text/html": "<div>\n<style scoped>\n    .dataframe tbody tr th:only-of-type {\n        vertical-align: middle;\n    }\n\n    .dataframe tbody tr th {\n        vertical-align: top;\n    }\n\n    .dataframe thead th {\n        text-align: right;\n    }\n</style>\n<table border=\"1\" class=\"dataframe\">\n  <thead>\n    <tr style=\"text-align: right;\">\n      <th></th>\n      <th>year</th>\n      <th>label</th>\n      <th>co2</th>\n    </tr>\n  </thead>\n  <tbody>\n    <tr>\n      <th>0</th>\n      <td>1958</td>\n      <td>CO2</td>\n      <td>315.70</td>\n    </tr>\n    <tr>\n      <th>1</th>\n      <td>1958</td>\n      <td>CO2</td>\n      <td>317.45</td>\n    </tr>\n    <tr>\n      <th>2</th>\n      <td>1958</td>\n      <td>CO2</td>\n      <td>317.51</td>\n    </tr>\n    <tr>\n      <th>3</th>\n      <td>1958</td>\n      <td>CO2</td>\n      <td>317.24</td>\n    </tr>\n    <tr>\n      <th>4</th>\n      <td>1958</td>\n      <td>CO2</td>\n      <td>315.86</td>\n    </tr>\n  </tbody>\n</table>\n</div>"
     },
     "metadata": {},
     "execution_count": 37
    }
   ],
   "source": [
    "co2_df_2 = pd.DataFrame()\n",
    "co2_df_2[\"year\"] = co2_df.year\n",
    "co2_df_2[\"label\"] = np.array([\"CO2\"]*co2_df.shape[0])\n",
    "co2_df_2[\"co2\"] = co2_df.co2_avg\n",
    "co2_df_2.head()"
   ]
  },
  {
   "cell_type": "code",
   "execution_count": 38,
   "metadata": {},
   "outputs": [],
   "source": [
    "co2_df_2.to_csv(base + 'co2_modified.csv', index=False)"
   ]
  },
  {
   "cell_type": "code",
   "execution_count": 73,
   "metadata": {},
   "outputs": [],
   "source": [
    "co2_an_gn_df = an_gn_df_2\n",
    "co2_levels = []\n",
    "for idx, row in co2_an_gn_df.iterrows():\n",
    "    year = row[\"year\"]\n",
    "    levels = co2_df[co2_df[\"year\"] == year]\n",
    "    L = []\n",
    "    for l in levels[\"co2_avg\"]:\n",
    "        S = ''\n",
    "        for c in l:\n",
    "            if c != ' ': S+= c\n",
    "        L.append(float(S))\n",
    "    co2_levels.append(round(np.mean(L),2))"
   ]
  },
  {
   "cell_type": "code",
   "execution_count": 75,
   "metadata": {},
   "outputs": [
    {
     "output_type": "execute_result",
     "data": {
      "text/plain": [
       "   year   mass       land     co2\n",
       "0  2002   0.00  antartica  373.45\n",
       "1  2002  18.36  antartica  373.45\n",
       "2  2002 -59.82  antartica  373.45\n",
       "3  2002  45.54  antartica  373.45\n",
       "4  2002  62.69  antartica  373.45"
      ],
      "text/html": "<div>\n<style scoped>\n    .dataframe tbody tr th:only-of-type {\n        vertical-align: middle;\n    }\n\n    .dataframe tbody tr th {\n        vertical-align: top;\n    }\n\n    .dataframe thead th {\n        text-align: right;\n    }\n</style>\n<table border=\"1\" class=\"dataframe\">\n  <thead>\n    <tr style=\"text-align: right;\">\n      <th></th>\n      <th>year</th>\n      <th>mass</th>\n      <th>land</th>\n      <th>co2</th>\n    </tr>\n  </thead>\n  <tbody>\n    <tr>\n      <th>0</th>\n      <td>2002</td>\n      <td>0.00</td>\n      <td>antartica</td>\n      <td>373.45</td>\n    </tr>\n    <tr>\n      <th>1</th>\n      <td>2002</td>\n      <td>18.36</td>\n      <td>antartica</td>\n      <td>373.45</td>\n    </tr>\n    <tr>\n      <th>2</th>\n      <td>2002</td>\n      <td>-59.82</td>\n      <td>antartica</td>\n      <td>373.45</td>\n    </tr>\n    <tr>\n      <th>3</th>\n      <td>2002</td>\n      <td>45.54</td>\n      <td>antartica</td>\n      <td>373.45</td>\n    </tr>\n    <tr>\n      <th>4</th>\n      <td>2002</td>\n      <td>62.69</td>\n      <td>antartica</td>\n      <td>373.45</td>\n    </tr>\n  </tbody>\n</table>\n</div>"
     },
     "metadata": {},
     "execution_count": 75
    }
   ],
   "source": [
    "co2_an_gn_df[\"co2\"] = co2_levels\n",
    "co2_an_gn_df.head()"
   ]
  },
  {
   "cell_type": "code",
   "execution_count": 77,
   "metadata": {},
   "outputs": [],
   "source": [
    "co2_an_gn_df.to_csv(base + 'co2_an_gn.csv', index=False)"
   ]
  },
  {
   "cell_type": "code",
   "execution_count": 78,
   "metadata": {},
   "outputs": [
    {
     "output_type": "execute_result",
     "data": {
      "text/plain": [
       "   year   mass     co2\n",
       "0  2002   0.00  373.45\n",
       "1  2002  18.36  373.45\n",
       "2  2002 -59.82  373.45\n",
       "3  2002  45.54  373.45\n",
       "4  2002  62.69  373.45"
      ],
      "text/html": "<div>\n<style scoped>\n    .dataframe tbody tr th:only-of-type {\n        vertical-align: middle;\n    }\n\n    .dataframe tbody tr th {\n        vertical-align: top;\n    }\n\n    .dataframe thead th {\n        text-align: right;\n    }\n</style>\n<table border=\"1\" class=\"dataframe\">\n  <thead>\n    <tr style=\"text-align: right;\">\n      <th></th>\n      <th>year</th>\n      <th>mass</th>\n      <th>co2</th>\n    </tr>\n  </thead>\n  <tbody>\n    <tr>\n      <th>0</th>\n      <td>2002</td>\n      <td>0.00</td>\n      <td>373.45</td>\n    </tr>\n    <tr>\n      <th>1</th>\n      <td>2002</td>\n      <td>18.36</td>\n      <td>373.45</td>\n    </tr>\n    <tr>\n      <th>2</th>\n      <td>2002</td>\n      <td>-59.82</td>\n      <td>373.45</td>\n    </tr>\n    <tr>\n      <th>3</th>\n      <td>2002</td>\n      <td>45.54</td>\n      <td>373.45</td>\n    </tr>\n    <tr>\n      <th>4</th>\n      <td>2002</td>\n      <td>62.69</td>\n      <td>373.45</td>\n    </tr>\n  </tbody>\n</table>\n</div>"
     },
     "metadata": {},
     "execution_count": 78
    }
   ],
   "source": [
    "co2_antartica_df = co2_an_gn_df[co2_an_gn_df[\"land\"] == 'antartica'].loc[:, ['year', 'mass', 'co2']]\n",
    "co2_antartica_df.head()"
   ]
  },
  {
   "cell_type": "code",
   "execution_count": 79,
   "metadata": {},
   "outputs": [],
   "source": [
    "co2_antartica_df.to_csv(base + 'co2_antartica.csv', index=False)"
   ]
  },
  {
   "cell_type": "code",
   "execution_count": 80,
   "metadata": {},
   "outputs": [
    {
     "output_type": "execute_result",
     "data": {
      "text/plain": [
       "     year    mass     co2\n",
       "195  2002    0.00  373.45\n",
       "196  2002   70.88  373.45\n",
       "197  2002 -217.33  373.45\n",
       "198  2002 -238.82  373.45\n",
       "199  2002 -206.42  373.45"
      ],
      "text/html": "<div>\n<style scoped>\n    .dataframe tbody tr th:only-of-type {\n        vertical-align: middle;\n    }\n\n    .dataframe tbody tr th {\n        vertical-align: top;\n    }\n\n    .dataframe thead th {\n        text-align: right;\n    }\n</style>\n<table border=\"1\" class=\"dataframe\">\n  <thead>\n    <tr style=\"text-align: right;\">\n      <th></th>\n      <th>year</th>\n      <th>mass</th>\n      <th>co2</th>\n    </tr>\n  </thead>\n  <tbody>\n    <tr>\n      <th>195</th>\n      <td>2002</td>\n      <td>0.00</td>\n      <td>373.45</td>\n    </tr>\n    <tr>\n      <th>196</th>\n      <td>2002</td>\n      <td>70.88</td>\n      <td>373.45</td>\n    </tr>\n    <tr>\n      <th>197</th>\n      <td>2002</td>\n      <td>-217.33</td>\n      <td>373.45</td>\n    </tr>\n    <tr>\n      <th>198</th>\n      <td>2002</td>\n      <td>-238.82</td>\n      <td>373.45</td>\n    </tr>\n    <tr>\n      <th>199</th>\n      <td>2002</td>\n      <td>-206.42</td>\n      <td>373.45</td>\n    </tr>\n  </tbody>\n</table>\n</div>"
     },
     "metadata": {},
     "execution_count": 80
    }
   ],
   "source": [
    "co2_greenland_df = co2_an_gn_df[co2_an_gn_df[\"land\"] == 'greenland'].loc[:, ['year', 'mass', 'co2']]\n",
    "co2_greenland_df.head()"
   ]
  },
  {
   "cell_type": "code",
   "execution_count": 81,
   "metadata": {},
   "outputs": [],
   "source": [
    "co2_greenland_df.to_csv(base + 'co2_greenland.csv', index=False)"
   ]
  },
  {
   "cell_type": "code",
   "execution_count": null,
   "metadata": {},
   "outputs": [],
   "source": []
  }
 ]
}