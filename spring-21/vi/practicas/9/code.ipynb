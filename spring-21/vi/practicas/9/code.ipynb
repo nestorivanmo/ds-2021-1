{
 "metadata": {
  "language_info": {
   "codemirror_mode": {
    "name": "ipython",
    "version": 3
   },
   "file_extension": ".py",
   "mimetype": "text/x-python",
   "name": "python",
   "nbconvert_exporter": "python",
   "pygments_lexer": "ipython3",
   "version": "3.8.5"
  },
  "orig_nbformat": 2,
  "kernelspec": {
   "name": "python385jvsc74a57bd03db2a761c894a3ccb5a274e949cf2d895d30bc283add142b3fb2c1d4f862436a",
   "display_name": "Python 3.8.5 64-bit ('base': conda)"
  }
 },
 "nbformat": 4,
 "nbformat_minor": 2,
 "cells": [
  {
   "source": [
    "# Práctica 9"
   ],
   "cell_type": "markdown",
   "metadata": {}
  },
  {
   "cell_type": "code",
   "execution_count": 198,
   "metadata": {},
   "outputs": [],
   "source": [
    "import pandas as pd\n",
    "import numpy as np"
   ]
  },
  {
   "cell_type": "code",
   "execution_count": 199,
   "metadata": {},
   "outputs": [
    {
     "output_type": "stream",
     "name": "stdout",
     "text": [
      "(3375, 67)\n"
     ]
    },
    {
     "output_type": "execute_result",
     "data": {
      "text/plain": [
       "                  Name of Satellite, Alternate Names  \\\n",
       "0  1HOPSAT-TD (1st-generation High Optical Perfor...   \n",
       "1                                             3Cat-1   \n",
       "2                                           Aalto-1    \n",
       "3                                           AAUSat-4   \n",
       "4                           ABS-2 (Koreasat-8, ST-3)   \n",
       "\n",
       "  Current Official Name of Satellite Country/Org of UN Registry  \\\n",
       "0                            1HOPSAT                 NR (12/20)   \n",
       "1                             3Cat-1                         NR   \n",
       "2                            Aalto-1                    Finland   \n",
       "3                           AAUSat-4                    Denmark   \n",
       "4                              ABS-2                         NR   \n",
       "\n",
       "  Country of Operator/Owner                        Operator/Owner       Users  \\\n",
       "0                       USA                          Hera Systems  Commercial   \n",
       "1                     Spain  Universitat Politècnica de Catalunya       Civil   \n",
       "2                   Finland                      Aalto University       Civil   \n",
       "3                   Denmark                 University of Aalborg       Civil   \n",
       "4             Multinational         Asia Broadcast Satellite Ltd.  Commercial   \n",
       "\n",
       "                  Purpose                       Detailed Purpose  \\\n",
       "0       Earth Observation                 Technology Development   \n",
       "1  Technology Development                                    NaN   \n",
       "2  Technology Development                                    NaN   \n",
       "3       Earth Observation  Automatic Identification System (AIS)   \n",
       "4          Communications                                    NaN   \n",
       "\n",
       "  Class of Orbit       Type of Orbit  ...  Unnamed: 57  Unnamed: 58  \\\n",
       "0            LEO  Non-Polar Inclined  ...          NaN          NaN   \n",
       "1            LEO                 NaN  ...          NaN          NaN   \n",
       "2            LEO                 NaN  ...          NaN          NaN   \n",
       "3            LEO     Sun-Synchronous  ...          NaN          NaN   \n",
       "4            GEO                 NaN  ...          NaN          NaN   \n",
       "\n",
       "   Unnamed: 59  Unnamed: 60  Unnamed: 61  Unnamed: 62  Unnamed: 63  \\\n",
       "0          NaN          NaN          NaN          NaN          NaN   \n",
       "1          NaN          NaN          NaN          NaN          NaN   \n",
       "2          NaN          NaN          NaN          NaN          NaN   \n",
       "3          NaN          NaN          NaN          NaN          NaN   \n",
       "4          NaN          NaN          NaN          NaN          NaN   \n",
       "\n",
       "  Unnamed: 64 Unnamed: 65 Unnamed: 66  \n",
       "0         NaN         NaN         NaN  \n",
       "1         NaN         NaN         NaN  \n",
       "2         NaN         NaN         NaN  \n",
       "3         NaN         NaN         NaN  \n",
       "4         NaN         NaN         NaN  \n",
       "\n",
       "[5 rows x 67 columns]"
      ],
      "text/html": "<div>\n<style scoped>\n    .dataframe tbody tr th:only-of-type {\n        vertical-align: middle;\n    }\n\n    .dataframe tbody tr th {\n        vertical-align: top;\n    }\n\n    .dataframe thead th {\n        text-align: right;\n    }\n</style>\n<table border=\"1\" class=\"dataframe\">\n  <thead>\n    <tr style=\"text-align: right;\">\n      <th></th>\n      <th>Name of Satellite, Alternate Names</th>\n      <th>Current Official Name of Satellite</th>\n      <th>Country/Org of UN Registry</th>\n      <th>Country of Operator/Owner</th>\n      <th>Operator/Owner</th>\n      <th>Users</th>\n      <th>Purpose</th>\n      <th>Detailed Purpose</th>\n      <th>Class of Orbit</th>\n      <th>Type of Orbit</th>\n      <th>...</th>\n      <th>Unnamed: 57</th>\n      <th>Unnamed: 58</th>\n      <th>Unnamed: 59</th>\n      <th>Unnamed: 60</th>\n      <th>Unnamed: 61</th>\n      <th>Unnamed: 62</th>\n      <th>Unnamed: 63</th>\n      <th>Unnamed: 64</th>\n      <th>Unnamed: 65</th>\n      <th>Unnamed: 66</th>\n    </tr>\n  </thead>\n  <tbody>\n    <tr>\n      <th>0</th>\n      <td>1HOPSAT-TD (1st-generation High Optical Perfor...</td>\n      <td>1HOPSAT</td>\n      <td>NR (12/20)</td>\n      <td>USA</td>\n      <td>Hera Systems</td>\n      <td>Commercial</td>\n      <td>Earth Observation</td>\n      <td>Technology Development</td>\n      <td>LEO</td>\n      <td>Non-Polar Inclined</td>\n      <td>...</td>\n      <td>NaN</td>\n      <td>NaN</td>\n      <td>NaN</td>\n      <td>NaN</td>\n      <td>NaN</td>\n      <td>NaN</td>\n      <td>NaN</td>\n      <td>NaN</td>\n      <td>NaN</td>\n      <td>NaN</td>\n    </tr>\n    <tr>\n      <th>1</th>\n      <td>3Cat-1</td>\n      <td>3Cat-1</td>\n      <td>NR</td>\n      <td>Spain</td>\n      <td>Universitat Politècnica de Catalunya</td>\n      <td>Civil</td>\n      <td>Technology Development</td>\n      <td>NaN</td>\n      <td>LEO</td>\n      <td>NaN</td>\n      <td>...</td>\n      <td>NaN</td>\n      <td>NaN</td>\n      <td>NaN</td>\n      <td>NaN</td>\n      <td>NaN</td>\n      <td>NaN</td>\n      <td>NaN</td>\n      <td>NaN</td>\n      <td>NaN</td>\n      <td>NaN</td>\n    </tr>\n    <tr>\n      <th>2</th>\n      <td>Aalto-1</td>\n      <td>Aalto-1</td>\n      <td>Finland</td>\n      <td>Finland</td>\n      <td>Aalto University</td>\n      <td>Civil</td>\n      <td>Technology Development</td>\n      <td>NaN</td>\n      <td>LEO</td>\n      <td>NaN</td>\n      <td>...</td>\n      <td>NaN</td>\n      <td>NaN</td>\n      <td>NaN</td>\n      <td>NaN</td>\n      <td>NaN</td>\n      <td>NaN</td>\n      <td>NaN</td>\n      <td>NaN</td>\n      <td>NaN</td>\n      <td>NaN</td>\n    </tr>\n    <tr>\n      <th>3</th>\n      <td>AAUSat-4</td>\n      <td>AAUSat-4</td>\n      <td>Denmark</td>\n      <td>Denmark</td>\n      <td>University of Aalborg</td>\n      <td>Civil</td>\n      <td>Earth Observation</td>\n      <td>Automatic Identification System (AIS)</td>\n      <td>LEO</td>\n      <td>Sun-Synchronous</td>\n      <td>...</td>\n      <td>NaN</td>\n      <td>NaN</td>\n      <td>NaN</td>\n      <td>NaN</td>\n      <td>NaN</td>\n      <td>NaN</td>\n      <td>NaN</td>\n      <td>NaN</td>\n      <td>NaN</td>\n      <td>NaN</td>\n    </tr>\n    <tr>\n      <th>4</th>\n      <td>ABS-2 (Koreasat-8, ST-3)</td>\n      <td>ABS-2</td>\n      <td>NR</td>\n      <td>Multinational</td>\n      <td>Asia Broadcast Satellite Ltd.</td>\n      <td>Commercial</td>\n      <td>Communications</td>\n      <td>NaN</td>\n      <td>GEO</td>\n      <td>NaN</td>\n      <td>...</td>\n      <td>NaN</td>\n      <td>NaN</td>\n      <td>NaN</td>\n      <td>NaN</td>\n      <td>NaN</td>\n      <td>NaN</td>\n      <td>NaN</td>\n      <td>NaN</td>\n      <td>NaN</td>\n      <td>NaN</td>\n    </tr>\n  </tbody>\n</table>\n<p>5 rows × 67 columns</p>\n</div>"
     },
     "metadata": {},
     "execution_count": 199
    }
   ],
   "source": [
    "satellites_df = pd.read_excel('satellites.xls')\n",
    "print(satellites_df.shape)\n",
    "satellites_df.head()"
   ]
  },
  {
   "source": [
    "## Limpieza de datos"
   ],
   "cell_type": "markdown",
   "metadata": {}
  },
  {
   "cell_type": "code",
   "execution_count": 200,
   "metadata": {},
   "outputs": [
    {
     "output_type": "stream",
     "name": "stdout",
     "text": [
      "<class 'pandas.core.frame.DataFrame'>\nRangeIndex: 3375 entries, 0 to 3374\nData columns (total 67 columns):\n #   Column                              Non-Null Count  Dtype         \n---  ------                              --------------  -----         \n 0   Name of Satellite, Alternate Names  3372 non-null   object        \n 1   Current Official Name of Satellite  3372 non-null   object        \n 2   Country/Org of UN Registry          3372 non-null   object        \n 3   Country of Operator/Owner           3372 non-null   object        \n 4   Operator/Owner                      3372 non-null   object        \n 5   Users                               3372 non-null   object        \n 6   Purpose                             3372 non-null   object        \n 7   Detailed Purpose                    916 non-null    object        \n 8   Class of Orbit                      3372 non-null   object        \n 9   Type of Orbit                       2751 non-null   object        \n 10  Longitude of GEO (degrees)          3371 non-null   float64       \n 11  Perigee (km)                        3372 non-null   float64       \n 12  Apogee (km)                         3372 non-null   float64       \n 13  Eccentricity                        3372 non-null   float64       \n 14  Inclination (degrees)               3372 non-null   float64       \n 15  Period (minutes)                    3372 non-null   float64       \n 16  Launch Mass (kg.)                   3146 non-null   float64       \n 17  Dry Mass (kg.)                      433 non-null    object        \n 18  Power (watts)                       599 non-null    object        \n 19  Date of Launch                      3372 non-null   datetime64[ns]\n 20  Expected Lifetime (yrs.)            1560 non-null   float64       \n 21  Contractor                          3372 non-null   object        \n 22  Country of Contractor               3372 non-null   object        \n 23  Launch Site                         3372 non-null   object        \n 24  Launch Vehicle                      3372 non-null   object        \n 25  COSPAR Number                       3372 non-null   object        \n 26  NORAD Number                        3372 non-null   float64       \n 27  Comments                            1450 non-null   object        \n 28  Unnamed: 28                         3 non-null      object        \n 29  Source Used for Orbital Data        3164 non-null   object        \n 30  Source                              2444 non-null   object        \n 31  Source.1                            201 non-null    object        \n 32  Source.2                            1517 non-null   object        \n 33  Source.3                            705 non-null    object        \n 34  Source.4                            271 non-null    object        \n 35  Source.5                            78 non-null     object        \n 36  Source.6                            21 non-null     object        \n 37  Unnamed: 37                         0 non-null      float64       \n 38  Unnamed: 38                         0 non-null      float64       \n 39  Unnamed: 39                         0 non-null      float64       \n 40  Unnamed: 40                         0 non-null      float64       \n 41  Unnamed: 41                         0 non-null      float64       \n 42  Unnamed: 42                         0 non-null      float64       \n 43  Unnamed: 43                         0 non-null      float64       \n 44  Unnamed: 44                         0 non-null      float64       \n 45  Unnamed: 45                         0 non-null      float64       \n 46  Unnamed: 46                         0 non-null      float64       \n 47  Unnamed: 47                         0 non-null      float64       \n 48  Unnamed: 48                         0 non-null      float64       \n 49  Unnamed: 49                         0 non-null      float64       \n 50  Unnamed: 50                         0 non-null      float64       \n 51  Unnamed: 51                         0 non-null      float64       \n 52  Unnamed: 52                         0 non-null      float64       \n 53  Unnamed: 53                         0 non-null      float64       \n 54  Unnamed: 54                         0 non-null      float64       \n 55  Unnamed: 55                         0 non-null      float64       \n 56  Unnamed: 56                         0 non-null      float64       \n 57  Unnamed: 57                         0 non-null      float64       \n 58  Unnamed: 58                         0 non-null      float64       \n 59  Unnamed: 59                         0 non-null      float64       \n 60  Unnamed: 60                         3 non-null      object        \n 61  Unnamed: 61                         3 non-null      object        \n 62  Unnamed: 62                         2 non-null      object        \n 63  Unnamed: 63                         0 non-null      float64       \n 64  Unnamed: 64                         0 non-null      float64       \n 65  Unnamed: 65                         0 non-null      float64       \n 66  Unnamed: 66                         2 non-null      object        \ndtypes: datetime64[ns](1), float64(35), object(31)\nmemory usage: 1.7+ MB\n"
     ]
    }
   ],
   "source": [
    "satellites_df.info()"
   ]
  },
  {
   "source": [
    "Podemos observar que tenemos 3375 registros, de los cuales, en la mayoría de las columnas principales (0-6), tenemos 3372 valores no nulos. Exploremos esos tres valores faltantes"
   ],
   "cell_type": "markdown",
   "metadata": {}
  },
  {
   "cell_type": "code",
   "execution_count": 201,
   "metadata": {},
   "outputs": [
    {
     "output_type": "execute_result",
     "data": {
      "text/plain": [
       "      Name of Satellite, Alternate Names  Current Official Name of Satellite  \\\n",
       "0                                  False                               False   \n",
       "1                                  False                               False   \n",
       "2                                  False                               False   \n",
       "3                                  False                               False   \n",
       "4                                  False                               False   \n",
       "...                                  ...                                 ...   \n",
       "3370                               False                               False   \n",
       "3371                               False                               False   \n",
       "3372                                True                                True   \n",
       "3373                                True                                True   \n",
       "3374                                True                                True   \n",
       "\n",
       "      Country/Org of UN Registry  Country of Operator/Owner  Operator/Owner  \\\n",
       "0                          False                      False           False   \n",
       "1                          False                      False           False   \n",
       "2                          False                      False           False   \n",
       "3                          False                      False           False   \n",
       "4                          False                      False           False   \n",
       "...                          ...                        ...             ...   \n",
       "3370                       False                      False           False   \n",
       "3371                       False                      False           False   \n",
       "3372                        True                       True            True   \n",
       "3373                        True                       True            True   \n",
       "3374                        True                       True            True   \n",
       "\n",
       "      Users  Purpose  Detailed Purpose  Class of Orbit  Type of Orbit  ...  \\\n",
       "0     False    False             False           False          False  ...   \n",
       "1     False    False              True           False           True  ...   \n",
       "2     False    False              True           False           True  ...   \n",
       "3     False    False             False           False          False  ...   \n",
       "4     False    False              True           False           True  ...   \n",
       "...     ...      ...               ...             ...            ...  ...   \n",
       "3370  False    False             False           False          False  ...   \n",
       "3371  False    False             False           False          False  ...   \n",
       "3372   True     True              True            True           True  ...   \n",
       "3373   True     True              True            True           True  ...   \n",
       "3374   True     True              True            True           True  ...   \n",
       "\n",
       "      Unnamed: 57  Unnamed: 58  Unnamed: 59  Unnamed: 60  Unnamed: 61  \\\n",
       "0            True         True         True         True         True   \n",
       "1            True         True         True         True         True   \n",
       "2            True         True         True         True         True   \n",
       "3            True         True         True         True         True   \n",
       "4            True         True         True         True         True   \n",
       "...           ...          ...          ...          ...          ...   \n",
       "3370         True         True         True         True         True   \n",
       "3371         True         True         True         True         True   \n",
       "3372         True         True         True         True         True   \n",
       "3373         True         True         True         True         True   \n",
       "3374         True         True         True         True         True   \n",
       "\n",
       "      Unnamed: 62  Unnamed: 63  Unnamed: 64  Unnamed: 65  Unnamed: 66  \n",
       "0            True         True         True         True         True  \n",
       "1            True         True         True         True         True  \n",
       "2            True         True         True         True         True  \n",
       "3            True         True         True         True         True  \n",
       "4            True         True         True         True         True  \n",
       "...           ...          ...          ...          ...          ...  \n",
       "3370         True         True         True         True         True  \n",
       "3371         True         True         True         True         True  \n",
       "3372         True         True         True         True         True  \n",
       "3373         True         True         True         True         True  \n",
       "3374         True         True         True         True         True  \n",
       "\n",
       "[3375 rows x 67 columns]"
      ],
      "text/html": "<div>\n<style scoped>\n    .dataframe tbody tr th:only-of-type {\n        vertical-align: middle;\n    }\n\n    .dataframe tbody tr th {\n        vertical-align: top;\n    }\n\n    .dataframe thead th {\n        text-align: right;\n    }\n</style>\n<table border=\"1\" class=\"dataframe\">\n  <thead>\n    <tr style=\"text-align: right;\">\n      <th></th>\n      <th>Name of Satellite, Alternate Names</th>\n      <th>Current Official Name of Satellite</th>\n      <th>Country/Org of UN Registry</th>\n      <th>Country of Operator/Owner</th>\n      <th>Operator/Owner</th>\n      <th>Users</th>\n      <th>Purpose</th>\n      <th>Detailed Purpose</th>\n      <th>Class of Orbit</th>\n      <th>Type of Orbit</th>\n      <th>...</th>\n      <th>Unnamed: 57</th>\n      <th>Unnamed: 58</th>\n      <th>Unnamed: 59</th>\n      <th>Unnamed: 60</th>\n      <th>Unnamed: 61</th>\n      <th>Unnamed: 62</th>\n      <th>Unnamed: 63</th>\n      <th>Unnamed: 64</th>\n      <th>Unnamed: 65</th>\n      <th>Unnamed: 66</th>\n    </tr>\n  </thead>\n  <tbody>\n    <tr>\n      <th>0</th>\n      <td>False</td>\n      <td>False</td>\n      <td>False</td>\n      <td>False</td>\n      <td>False</td>\n      <td>False</td>\n      <td>False</td>\n      <td>False</td>\n      <td>False</td>\n      <td>False</td>\n      <td>...</td>\n      <td>True</td>\n      <td>True</td>\n      <td>True</td>\n      <td>True</td>\n      <td>True</td>\n      <td>True</td>\n      <td>True</td>\n      <td>True</td>\n      <td>True</td>\n      <td>True</td>\n    </tr>\n    <tr>\n      <th>1</th>\n      <td>False</td>\n      <td>False</td>\n      <td>False</td>\n      <td>False</td>\n      <td>False</td>\n      <td>False</td>\n      <td>False</td>\n      <td>True</td>\n      <td>False</td>\n      <td>True</td>\n      <td>...</td>\n      <td>True</td>\n      <td>True</td>\n      <td>True</td>\n      <td>True</td>\n      <td>True</td>\n      <td>True</td>\n      <td>True</td>\n      <td>True</td>\n      <td>True</td>\n      <td>True</td>\n    </tr>\n    <tr>\n      <th>2</th>\n      <td>False</td>\n      <td>False</td>\n      <td>False</td>\n      <td>False</td>\n      <td>False</td>\n      <td>False</td>\n      <td>False</td>\n      <td>True</td>\n      <td>False</td>\n      <td>True</td>\n      <td>...</td>\n      <td>True</td>\n      <td>True</td>\n      <td>True</td>\n      <td>True</td>\n      <td>True</td>\n      <td>True</td>\n      <td>True</td>\n      <td>True</td>\n      <td>True</td>\n      <td>True</td>\n    </tr>\n    <tr>\n      <th>3</th>\n      <td>False</td>\n      <td>False</td>\n      <td>False</td>\n      <td>False</td>\n      <td>False</td>\n      <td>False</td>\n      <td>False</td>\n      <td>False</td>\n      <td>False</td>\n      <td>False</td>\n      <td>...</td>\n      <td>True</td>\n      <td>True</td>\n      <td>True</td>\n      <td>True</td>\n      <td>True</td>\n      <td>True</td>\n      <td>True</td>\n      <td>True</td>\n      <td>True</td>\n      <td>True</td>\n    </tr>\n    <tr>\n      <th>4</th>\n      <td>False</td>\n      <td>False</td>\n      <td>False</td>\n      <td>False</td>\n      <td>False</td>\n      <td>False</td>\n      <td>False</td>\n      <td>True</td>\n      <td>False</td>\n      <td>True</td>\n      <td>...</td>\n      <td>True</td>\n      <td>True</td>\n      <td>True</td>\n      <td>True</td>\n      <td>True</td>\n      <td>True</td>\n      <td>True</td>\n      <td>True</td>\n      <td>True</td>\n      <td>True</td>\n    </tr>\n    <tr>\n      <th>...</th>\n      <td>...</td>\n      <td>...</td>\n      <td>...</td>\n      <td>...</td>\n      <td>...</td>\n      <td>...</td>\n      <td>...</td>\n      <td>...</td>\n      <td>...</td>\n      <td>...</td>\n      <td>...</td>\n      <td>...</td>\n      <td>...</td>\n      <td>...</td>\n      <td>...</td>\n      <td>...</td>\n      <td>...</td>\n      <td>...</td>\n      <td>...</td>\n      <td>...</td>\n      <td>...</td>\n    </tr>\n    <tr>\n      <th>3370</th>\n      <td>False</td>\n      <td>False</td>\n      <td>False</td>\n      <td>False</td>\n      <td>False</td>\n      <td>False</td>\n      <td>False</td>\n      <td>False</td>\n      <td>False</td>\n      <td>False</td>\n      <td>...</td>\n      <td>True</td>\n      <td>True</td>\n      <td>True</td>\n      <td>True</td>\n      <td>True</td>\n      <td>True</td>\n      <td>True</td>\n      <td>True</td>\n      <td>True</td>\n      <td>True</td>\n    </tr>\n    <tr>\n      <th>3371</th>\n      <td>False</td>\n      <td>False</td>\n      <td>False</td>\n      <td>False</td>\n      <td>False</td>\n      <td>False</td>\n      <td>False</td>\n      <td>False</td>\n      <td>False</td>\n      <td>False</td>\n      <td>...</td>\n      <td>True</td>\n      <td>True</td>\n      <td>True</td>\n      <td>True</td>\n      <td>True</td>\n      <td>True</td>\n      <td>True</td>\n      <td>True</td>\n      <td>True</td>\n      <td>True</td>\n    </tr>\n    <tr>\n      <th>3372</th>\n      <td>True</td>\n      <td>True</td>\n      <td>True</td>\n      <td>True</td>\n      <td>True</td>\n      <td>True</td>\n      <td>True</td>\n      <td>True</td>\n      <td>True</td>\n      <td>True</td>\n      <td>...</td>\n      <td>True</td>\n      <td>True</td>\n      <td>True</td>\n      <td>True</td>\n      <td>True</td>\n      <td>True</td>\n      <td>True</td>\n      <td>True</td>\n      <td>True</td>\n      <td>True</td>\n    </tr>\n    <tr>\n      <th>3373</th>\n      <td>True</td>\n      <td>True</td>\n      <td>True</td>\n      <td>True</td>\n      <td>True</td>\n      <td>True</td>\n      <td>True</td>\n      <td>True</td>\n      <td>True</td>\n      <td>True</td>\n      <td>...</td>\n      <td>True</td>\n      <td>True</td>\n      <td>True</td>\n      <td>True</td>\n      <td>True</td>\n      <td>True</td>\n      <td>True</td>\n      <td>True</td>\n      <td>True</td>\n      <td>True</td>\n    </tr>\n    <tr>\n      <th>3374</th>\n      <td>True</td>\n      <td>True</td>\n      <td>True</td>\n      <td>True</td>\n      <td>True</td>\n      <td>True</td>\n      <td>True</td>\n      <td>True</td>\n      <td>True</td>\n      <td>True</td>\n      <td>...</td>\n      <td>True</td>\n      <td>True</td>\n      <td>True</td>\n      <td>True</td>\n      <td>True</td>\n      <td>True</td>\n      <td>True</td>\n      <td>True</td>\n      <td>True</td>\n      <td>True</td>\n    </tr>\n  </tbody>\n</table>\n<p>3375 rows × 67 columns</p>\n</div>"
     },
     "metadata": {},
     "execution_count": 201
    }
   ],
   "source": [
    "satellites_df.isna()"
   ]
  },
  {
   "source": [
    "Podemos observar que los últimos tres registros son completamente nulos, por lo que los quitamos con la siguiente línea"
   ],
   "cell_type": "markdown",
   "metadata": {}
  },
  {
   "cell_type": "code",
   "execution_count": 202,
   "metadata": {},
   "outputs": [],
   "source": [
    "satellites_df = satellites_df.iloc[:3372, :]"
   ]
  },
  {
   "cell_type": "code",
   "execution_count": 203,
   "metadata": {},
   "outputs": [
    {
     "output_type": "stream",
     "name": "stdout",
     "text": [
      "<class 'pandas.core.frame.DataFrame'>\nRangeIndex: 3372 entries, 0 to 3371\nData columns (total 67 columns):\n #   Column                              Non-Null Count  Dtype         \n---  ------                              --------------  -----         \n 0   Name of Satellite, Alternate Names  3372 non-null   object        \n 1   Current Official Name of Satellite  3372 non-null   object        \n 2   Country/Org of UN Registry          3372 non-null   object        \n 3   Country of Operator/Owner           3372 non-null   object        \n 4   Operator/Owner                      3372 non-null   object        \n 5   Users                               3372 non-null   object        \n 6   Purpose                             3372 non-null   object        \n 7   Detailed Purpose                    916 non-null    object        \n 8   Class of Orbit                      3372 non-null   object        \n 9   Type of Orbit                       2751 non-null   object        \n 10  Longitude of GEO (degrees)          3371 non-null   float64       \n 11  Perigee (km)                        3372 non-null   float64       \n 12  Apogee (km)                         3372 non-null   float64       \n 13  Eccentricity                        3372 non-null   float64       \n 14  Inclination (degrees)               3372 non-null   float64       \n 15  Period (minutes)                    3372 non-null   float64       \n 16  Launch Mass (kg.)                   3146 non-null   float64       \n 17  Dry Mass (kg.)                      433 non-null    object        \n 18  Power (watts)                       599 non-null    object        \n 19  Date of Launch                      3372 non-null   datetime64[ns]\n 20  Expected Lifetime (yrs.)            1560 non-null   float64       \n 21  Contractor                          3372 non-null   object        \n 22  Country of Contractor               3372 non-null   object        \n 23  Launch Site                         3372 non-null   object        \n 24  Launch Vehicle                      3372 non-null   object        \n 25  COSPAR Number                       3372 non-null   object        \n 26  NORAD Number                        3372 non-null   float64       \n 27  Comments                            1450 non-null   object        \n 28  Unnamed: 28                         3 non-null      object        \n 29  Source Used for Orbital Data        3164 non-null   object        \n 30  Source                              2444 non-null   object        \n 31  Source.1                            201 non-null    object        \n 32  Source.2                            1514 non-null   object        \n 33  Source.3                            705 non-null    object        \n 34  Source.4                            271 non-null    object        \n 35  Source.5                            78 non-null     object        \n 36  Source.6                            21 non-null     object        \n 37  Unnamed: 37                         0 non-null      float64       \n 38  Unnamed: 38                         0 non-null      float64       \n 39  Unnamed: 39                         0 non-null      float64       \n 40  Unnamed: 40                         0 non-null      float64       \n 41  Unnamed: 41                         0 non-null      float64       \n 42  Unnamed: 42                         0 non-null      float64       \n 43  Unnamed: 43                         0 non-null      float64       \n 44  Unnamed: 44                         0 non-null      float64       \n 45  Unnamed: 45                         0 non-null      float64       \n 46  Unnamed: 46                         0 non-null      float64       \n 47  Unnamed: 47                         0 non-null      float64       \n 48  Unnamed: 48                         0 non-null      float64       \n 49  Unnamed: 49                         0 non-null      float64       \n 50  Unnamed: 50                         0 non-null      float64       \n 51  Unnamed: 51                         0 non-null      float64       \n 52  Unnamed: 52                         0 non-null      float64       \n 53  Unnamed: 53                         0 non-null      float64       \n 54  Unnamed: 54                         0 non-null      float64       \n 55  Unnamed: 55                         0 non-null      float64       \n 56  Unnamed: 56                         0 non-null      float64       \n 57  Unnamed: 57                         0 non-null      float64       \n 58  Unnamed: 58                         0 non-null      float64       \n 59  Unnamed: 59                         0 non-null      float64       \n 60  Unnamed: 60                         3 non-null      object        \n 61  Unnamed: 61                         3 non-null      object        \n 62  Unnamed: 62                         2 non-null      object        \n 63  Unnamed: 63                         0 non-null      float64       \n 64  Unnamed: 64                         0 non-null      float64       \n 65  Unnamed: 65                         0 non-null      float64       \n 66  Unnamed: 66                         2 non-null      object        \ndtypes: datetime64[ns](1), float64(35), object(31)\nmemory usage: 1.7+ MB\n"
     ]
    }
   ],
   "source": [
    "satellites_df.info()"
   ]
  },
  {
   "cell_type": "code",
   "execution_count": 204,
   "metadata": {},
   "outputs": [
    {
     "output_type": "execute_result",
     "data": {
      "text/plain": [
       "  Source Used for Orbital Data\n",
       "0                JMSatcat/3_20\n",
       "1                    Estimated\n",
       "2               JMSatcat/10_17\n",
       "3                      Space50\n",
       "4                        ZARYA"
      ],
      "text/html": "<div>\n<style scoped>\n    .dataframe tbody tr th:only-of-type {\n        vertical-align: middle;\n    }\n\n    .dataframe tbody tr th {\n        vertical-align: top;\n    }\n\n    .dataframe thead th {\n        text-align: right;\n    }\n</style>\n<table border=\"1\" class=\"dataframe\">\n  <thead>\n    <tr style=\"text-align: right;\">\n      <th></th>\n      <th>Source Used for Orbital Data</th>\n    </tr>\n  </thead>\n  <tbody>\n    <tr>\n      <th>0</th>\n      <td>JMSatcat/3_20</td>\n    </tr>\n    <tr>\n      <th>1</th>\n      <td>Estimated</td>\n    </tr>\n    <tr>\n      <th>2</th>\n      <td>JMSatcat/10_17</td>\n    </tr>\n    <tr>\n      <th>3</th>\n      <td>Space50</td>\n    </tr>\n    <tr>\n      <th>4</th>\n      <td>ZARYA</td>\n    </tr>\n  </tbody>\n</table>\n</div>"
     },
     "metadata": {},
     "execution_count": 204
    }
   ],
   "source": [
    "satellites_df[\"Source Used for Orbital Data\"].to_frame().head()"
   ]
  },
  {
   "cell_type": "code",
   "execution_count": 205,
   "metadata": {},
   "outputs": [
    {
     "output_type": "execute_result",
     "data": {
      "text/plain": [
       "                                           Unnamed: 28\n",
       "107  Imaging system that is to be tested in space f...\n",
       "259     http://www.planet4589.org/space/log/satcat.txt\n",
       "984                                                   "
      ],
      "text/html": "<div>\n<style scoped>\n    .dataframe tbody tr th:only-of-type {\n        vertical-align: middle;\n    }\n\n    .dataframe tbody tr th {\n        vertical-align: top;\n    }\n\n    .dataframe thead th {\n        text-align: right;\n    }\n</style>\n<table border=\"1\" class=\"dataframe\">\n  <thead>\n    <tr style=\"text-align: right;\">\n      <th></th>\n      <th>Unnamed: 28</th>\n    </tr>\n  </thead>\n  <tbody>\n    <tr>\n      <th>107</th>\n      <td>Imaging system that is to be tested in space f...</td>\n    </tr>\n    <tr>\n      <th>259</th>\n      <td>http://www.planet4589.org/space/log/satcat.txt</td>\n    </tr>\n    <tr>\n      <th>984</th>\n      <td></td>\n    </tr>\n  </tbody>\n</table>\n</div>"
     },
     "metadata": {},
     "execution_count": 205
    }
   ],
   "source": [
    "l = [idx for idx, val in enumerate(satellites_df[\"Unnamed: 28\"].notna()) if val]\n",
    "satellites_df.loc[l, \"Unnamed: 28\"].to_frame().head()"
   ]
  },
  {
   "cell_type": "code",
   "execution_count": 206,
   "metadata": {},
   "outputs": [
    {
     "output_type": "execute_result",
     "data": {
      "text/plain": [
       "                                         Unnamed: 60  \\\n",
       "75                            http://www.orbcomm.com   \n",
       "1323  http://perso.wanadoo.fr/eurospace/espdatabase/   \n",
       "3080                          http://www.orbcomm.com   \n",
       "\n",
       "                                           Unnamed: 61  \\\n",
       "75    http://nssdc.gsfc.nasa.gov/spacewarn/spx554.html   \n",
       "1323  http://nssdc.gsfc.nasa.gov/spacewarn/spx540.html   \n",
       "3080  http://nssdc.gsfc.nasa.gov/spacewarn/spx554.html   \n",
       "\n",
       "                                            Unnamed: 62  Unnamed: 63  \\\n",
       "75    http://perso.wanadoo.fr/eurospace/espdatabase/...          NaN   \n",
       "1323                                                NaN          NaN   \n",
       "3080  http://perso.wanadoo.fr/eurospace/espdatabase/...          NaN   \n",
       "\n",
       "      Unnamed: 64  Unnamed: 65  Unnamed: 66  \n",
       "75            NaN          NaN  JMSatcat803  \n",
       "1323          NaN          NaN          NaN  \n",
       "3080          NaN          NaN  JMSatcat803  "
      ],
      "text/html": "<div>\n<style scoped>\n    .dataframe tbody tr th:only-of-type {\n        vertical-align: middle;\n    }\n\n    .dataframe tbody tr th {\n        vertical-align: top;\n    }\n\n    .dataframe thead th {\n        text-align: right;\n    }\n</style>\n<table border=\"1\" class=\"dataframe\">\n  <thead>\n    <tr style=\"text-align: right;\">\n      <th></th>\n      <th>Unnamed: 60</th>\n      <th>Unnamed: 61</th>\n      <th>Unnamed: 62</th>\n      <th>Unnamed: 63</th>\n      <th>Unnamed: 64</th>\n      <th>Unnamed: 65</th>\n      <th>Unnamed: 66</th>\n    </tr>\n  </thead>\n  <tbody>\n    <tr>\n      <th>75</th>\n      <td>http://www.orbcomm.com</td>\n      <td>http://nssdc.gsfc.nasa.gov/spacewarn/spx554.html</td>\n      <td>http://perso.wanadoo.fr/eurospace/espdatabase/...</td>\n      <td>NaN</td>\n      <td>NaN</td>\n      <td>NaN</td>\n      <td>JMSatcat803</td>\n    </tr>\n    <tr>\n      <th>1323</th>\n      <td>http://perso.wanadoo.fr/eurospace/espdatabase/</td>\n      <td>http://nssdc.gsfc.nasa.gov/spacewarn/spx540.html</td>\n      <td>NaN</td>\n      <td>NaN</td>\n      <td>NaN</td>\n      <td>NaN</td>\n      <td>NaN</td>\n    </tr>\n    <tr>\n      <th>3080</th>\n      <td>http://www.orbcomm.com</td>\n      <td>http://nssdc.gsfc.nasa.gov/spacewarn/spx554.html</td>\n      <td>http://perso.wanadoo.fr/eurospace/espdatabase/...</td>\n      <td>NaN</td>\n      <td>NaN</td>\n      <td>NaN</td>\n      <td>JMSatcat803</td>\n    </tr>\n  </tbody>\n</table>\n</div>"
     },
     "metadata": {},
     "execution_count": 206
    }
   ],
   "source": [
    "l = [idx for idx, val in enumerate(satellites_df[\"Unnamed: 60\"].notna()) if val]\n",
    "satellites_df.iloc[l, 60:]"
   ]
  },
  {
   "cell_type": "code",
   "execution_count": 207,
   "metadata": {},
   "outputs": [
    {
     "output_type": "execute_result",
     "data": {
      "text/plain": [
       "                                           Source.6\n",
       "10  http://www.astronautix.com/a/advancedorion.html\n",
       "11  http://www.astronautix.com/a/advancedorion.html\n",
       "12  http://www.astronautix.com/a/advancedorion.html\n",
       "13  http://www.astronautix.com/a/advancedorion.html\n",
       "14  http://www.astronautix.com/a/advancedorion.html"
      ],
      "text/html": "<div>\n<style scoped>\n    .dataframe tbody tr th:only-of-type {\n        vertical-align: middle;\n    }\n\n    .dataframe tbody tr th {\n        vertical-align: top;\n    }\n\n    .dataframe thead th {\n        text-align: right;\n    }\n</style>\n<table border=\"1\" class=\"dataframe\">\n  <thead>\n    <tr style=\"text-align: right;\">\n      <th></th>\n      <th>Source.6</th>\n    </tr>\n  </thead>\n  <tbody>\n    <tr>\n      <th>10</th>\n      <td>http://www.astronautix.com/a/advancedorion.html</td>\n    </tr>\n    <tr>\n      <th>11</th>\n      <td>http://www.astronautix.com/a/advancedorion.html</td>\n    </tr>\n    <tr>\n      <th>12</th>\n      <td>http://www.astronautix.com/a/advancedorion.html</td>\n    </tr>\n    <tr>\n      <th>13</th>\n      <td>http://www.astronautix.com/a/advancedorion.html</td>\n    </tr>\n    <tr>\n      <th>14</th>\n      <td>http://www.astronautix.com/a/advancedorion.html</td>\n    </tr>\n  </tbody>\n</table>\n</div>"
     },
     "metadata": {},
     "execution_count": 207
    }
   ],
   "source": [
    "indices = [idx for idx, res in enumerate(satellites_df[\"Source.6\"].notna()) if res]\n",
    "satellites_df.loc[indices, \"Source.6\"].to_frame().head()"
   ]
  },
  {
   "source": [
    "Después de analizar los valores faltantes, las columnas que tienen el mayor número de valores faltantes se refieres a columnas con fuentes sobre un satélite por lo que es seguro eliminar todas las columnas que involucren las fuente pues no será de relevancia para nuestro análisis. En este primer análisis nos quedamos con las columnas hasta el número NORAD."
   ],
   "cell_type": "markdown",
   "metadata": {}
  },
  {
   "cell_type": "code",
   "execution_count": 208,
   "metadata": {},
   "outputs": [
    {
     "output_type": "stream",
     "name": "stdout",
     "text": [
      "(3372, 27)\n"
     ]
    },
    {
     "output_type": "execute_result",
     "data": {
      "text/plain": [
       "                  Name of Satellite, Alternate Names  \\\n",
       "0  1HOPSAT-TD (1st-generation High Optical Perfor...   \n",
       "1                                             3Cat-1   \n",
       "2                                           Aalto-1    \n",
       "3                                           AAUSat-4   \n",
       "4                           ABS-2 (Koreasat-8, ST-3)   \n",
       "\n",
       "  Current Official Name of Satellite Country/Org of UN Registry  \\\n",
       "0                            1HOPSAT                 NR (12/20)   \n",
       "1                             3Cat-1                         NR   \n",
       "2                            Aalto-1                    Finland   \n",
       "3                           AAUSat-4                    Denmark   \n",
       "4                              ABS-2                         NR   \n",
       "\n",
       "  Country of Operator/Owner                        Operator/Owner       Users  \\\n",
       "0                       USA                          Hera Systems  Commercial   \n",
       "1                     Spain  Universitat Politècnica de Catalunya       Civil   \n",
       "2                   Finland                      Aalto University       Civil   \n",
       "3                   Denmark                 University of Aalborg       Civil   \n",
       "4             Multinational         Asia Broadcast Satellite Ltd.  Commercial   \n",
       "\n",
       "                  Purpose                       Detailed Purpose  \\\n",
       "0       Earth Observation                 Technology Development   \n",
       "1  Technology Development                                    NaN   \n",
       "2  Technology Development                                    NaN   \n",
       "3       Earth Observation  Automatic Identification System (AIS)   \n",
       "4          Communications                                    NaN   \n",
       "\n",
       "  Class of Orbit       Type of Orbit  ...  Dry Mass (kg.)  Power (watts)  \\\n",
       "0            LEO  Non-Polar Inclined  ...             NaN            NaN   \n",
       "1            LEO                 NaN  ...             NaN            NaN   \n",
       "2            LEO                 NaN  ...             NaN            4.5   \n",
       "3            LEO     Sun-Synchronous  ...             NaN            NaN   \n",
       "4            GEO                 NaN  ...             NaN          16000   \n",
       "\n",
       "   Date of Launch  Expected Lifetime (yrs.)  \\\n",
       "0      2019-12-11                       0.5   \n",
       "1      2018-11-29                       NaN   \n",
       "2      2017-06-23                       2.0   \n",
       "3      2016-04-25                       NaN   \n",
       "4      2014-02-06                      15.0   \n",
       "\n",
       "                             Contractor  Country of Contractor  \\\n",
       "0                          Hera Systems                    USA   \n",
       "1  Universitat Politècnica de Catalunya                  Spain   \n",
       "2                      Aalto University                Finland   \n",
       "3                 University of Aalborg                Denmark   \n",
       "4                   Space Systems/Loral                    USA   \n",
       "\n",
       "                  Launch Site Launch Vehicle COSPAR Number NORAD Number  \n",
       "0  Satish Dhawan Space Centre           PSLV     2019-089H      44859.0  \n",
       "1  Satish Dhawan Space Centre           PSLV     2018-096K      43728.0  \n",
       "2  Satish Dhawan Space Centre           PSLV     2017-036L      42775.0  \n",
       "3         Guiana Space Center     Soyuz 2.1a     2016-025E      41460.0  \n",
       "4         Guiana Space Center   Ariane 5 ECA     2014-006A      39508.0  \n",
       "\n",
       "[5 rows x 27 columns]"
      ],
      "text/html": "<div>\n<style scoped>\n    .dataframe tbody tr th:only-of-type {\n        vertical-align: middle;\n    }\n\n    .dataframe tbody tr th {\n        vertical-align: top;\n    }\n\n    .dataframe thead th {\n        text-align: right;\n    }\n</style>\n<table border=\"1\" class=\"dataframe\">\n  <thead>\n    <tr style=\"text-align: right;\">\n      <th></th>\n      <th>Name of Satellite, Alternate Names</th>\n      <th>Current Official Name of Satellite</th>\n      <th>Country/Org of UN Registry</th>\n      <th>Country of Operator/Owner</th>\n      <th>Operator/Owner</th>\n      <th>Users</th>\n      <th>Purpose</th>\n      <th>Detailed Purpose</th>\n      <th>Class of Orbit</th>\n      <th>Type of Orbit</th>\n      <th>...</th>\n      <th>Dry Mass (kg.)</th>\n      <th>Power (watts)</th>\n      <th>Date of Launch</th>\n      <th>Expected Lifetime (yrs.)</th>\n      <th>Contractor</th>\n      <th>Country of Contractor</th>\n      <th>Launch Site</th>\n      <th>Launch Vehicle</th>\n      <th>COSPAR Number</th>\n      <th>NORAD Number</th>\n    </tr>\n  </thead>\n  <tbody>\n    <tr>\n      <th>0</th>\n      <td>1HOPSAT-TD (1st-generation High Optical Perfor...</td>\n      <td>1HOPSAT</td>\n      <td>NR (12/20)</td>\n      <td>USA</td>\n      <td>Hera Systems</td>\n      <td>Commercial</td>\n      <td>Earth Observation</td>\n      <td>Technology Development</td>\n      <td>LEO</td>\n      <td>Non-Polar Inclined</td>\n      <td>...</td>\n      <td>NaN</td>\n      <td>NaN</td>\n      <td>2019-12-11</td>\n      <td>0.5</td>\n      <td>Hera Systems</td>\n      <td>USA</td>\n      <td>Satish Dhawan Space Centre</td>\n      <td>PSLV</td>\n      <td>2019-089H</td>\n      <td>44859.0</td>\n    </tr>\n    <tr>\n      <th>1</th>\n      <td>3Cat-1</td>\n      <td>3Cat-1</td>\n      <td>NR</td>\n      <td>Spain</td>\n      <td>Universitat Politècnica de Catalunya</td>\n      <td>Civil</td>\n      <td>Technology Development</td>\n      <td>NaN</td>\n      <td>LEO</td>\n      <td>NaN</td>\n      <td>...</td>\n      <td>NaN</td>\n      <td>NaN</td>\n      <td>2018-11-29</td>\n      <td>NaN</td>\n      <td>Universitat Politècnica de Catalunya</td>\n      <td>Spain</td>\n      <td>Satish Dhawan Space Centre</td>\n      <td>PSLV</td>\n      <td>2018-096K</td>\n      <td>43728.0</td>\n    </tr>\n    <tr>\n      <th>2</th>\n      <td>Aalto-1</td>\n      <td>Aalto-1</td>\n      <td>Finland</td>\n      <td>Finland</td>\n      <td>Aalto University</td>\n      <td>Civil</td>\n      <td>Technology Development</td>\n      <td>NaN</td>\n      <td>LEO</td>\n      <td>NaN</td>\n      <td>...</td>\n      <td>NaN</td>\n      <td>4.5</td>\n      <td>2017-06-23</td>\n      <td>2.0</td>\n      <td>Aalto University</td>\n      <td>Finland</td>\n      <td>Satish Dhawan Space Centre</td>\n      <td>PSLV</td>\n      <td>2017-036L</td>\n      <td>42775.0</td>\n    </tr>\n    <tr>\n      <th>3</th>\n      <td>AAUSat-4</td>\n      <td>AAUSat-4</td>\n      <td>Denmark</td>\n      <td>Denmark</td>\n      <td>University of Aalborg</td>\n      <td>Civil</td>\n      <td>Earth Observation</td>\n      <td>Automatic Identification System (AIS)</td>\n      <td>LEO</td>\n      <td>Sun-Synchronous</td>\n      <td>...</td>\n      <td>NaN</td>\n      <td>NaN</td>\n      <td>2016-04-25</td>\n      <td>NaN</td>\n      <td>University of Aalborg</td>\n      <td>Denmark</td>\n      <td>Guiana Space Center</td>\n      <td>Soyuz 2.1a</td>\n      <td>2016-025E</td>\n      <td>41460.0</td>\n    </tr>\n    <tr>\n      <th>4</th>\n      <td>ABS-2 (Koreasat-8, ST-3)</td>\n      <td>ABS-2</td>\n      <td>NR</td>\n      <td>Multinational</td>\n      <td>Asia Broadcast Satellite Ltd.</td>\n      <td>Commercial</td>\n      <td>Communications</td>\n      <td>NaN</td>\n      <td>GEO</td>\n      <td>NaN</td>\n      <td>...</td>\n      <td>NaN</td>\n      <td>16000</td>\n      <td>2014-02-06</td>\n      <td>15.0</td>\n      <td>Space Systems/Loral</td>\n      <td>USA</td>\n      <td>Guiana Space Center</td>\n      <td>Ariane 5 ECA</td>\n      <td>2014-006A</td>\n      <td>39508.0</td>\n    </tr>\n  </tbody>\n</table>\n<p>5 rows × 27 columns</p>\n</div>"
     },
     "metadata": {},
     "execution_count": 208
    }
   ],
   "source": [
    "satellites_df = satellites_df.iloc[:, :27]\n",
    "print(satellites_df.shape)\n",
    "satellites_df.head()"
   ]
  },
  {
   "cell_type": "code",
   "execution_count": 209,
   "metadata": {},
   "outputs": [
    {
     "output_type": "stream",
     "name": "stdout",
     "text": [
      "<class 'pandas.core.frame.DataFrame'>\nRangeIndex: 3372 entries, 0 to 3371\nData columns (total 27 columns):\n #   Column                              Non-Null Count  Dtype         \n---  ------                              --------------  -----         \n 0   Name of Satellite, Alternate Names  3372 non-null   object        \n 1   Current Official Name of Satellite  3372 non-null   object        \n 2   Country/Org of UN Registry          3372 non-null   object        \n 3   Country of Operator/Owner           3372 non-null   object        \n 4   Operator/Owner                      3372 non-null   object        \n 5   Users                               3372 non-null   object        \n 6   Purpose                             3372 non-null   object        \n 7   Detailed Purpose                    916 non-null    object        \n 8   Class of Orbit                      3372 non-null   object        \n 9   Type of Orbit                       2751 non-null   object        \n 10  Longitude of GEO (degrees)          3371 non-null   float64       \n 11  Perigee (km)                        3372 non-null   float64       \n 12  Apogee (km)                         3372 non-null   float64       \n 13  Eccentricity                        3372 non-null   float64       \n 14  Inclination (degrees)               3372 non-null   float64       \n 15  Period (minutes)                    3372 non-null   float64       \n 16  Launch Mass (kg.)                   3146 non-null   float64       \n 17  Dry Mass (kg.)                      433 non-null    object        \n 18  Power (watts)                       599 non-null    object        \n 19  Date of Launch                      3372 non-null   datetime64[ns]\n 20  Expected Lifetime (yrs.)            1560 non-null   float64       \n 21  Contractor                          3372 non-null   object        \n 22  Country of Contractor               3372 non-null   object        \n 23  Launch Site                         3372 non-null   object        \n 24  Launch Vehicle                      3372 non-null   object        \n 25  COSPAR Number                       3372 non-null   object        \n 26  NORAD Number                        3372 non-null   float64       \ndtypes: datetime64[ns](1), float64(9), object(17)\nmemory usage: 711.4+ KB\n"
     ]
    }
   ],
   "source": [
    "satellites_df.info()"
   ]
  },
  {
   "source": [
    "Adicionalmente, quitamos las siguiente columna que no aportan mucho a nuestro análisis\n",
    "- *Name of Satellite, Alternate Names*: no nos interesa conocer el nombre más popular de un satélite ni nombres pasados, por lo que nos podemos quedar simplemente con la columna *Current Official Name of Satellite* como el identificador oficial de cada satélite \n",
    "- *Detailed Purpose*: columna con 916 valores no nulos de 3372 \n",
    "- "
   ],
   "cell_type": "markdown",
   "metadata": {}
  },
  {
   "cell_type": "code",
   "execution_count": 210,
   "metadata": {},
   "outputs": [
    {
     "output_type": "stream",
     "name": "stdout",
     "text": [
      "<class 'pandas.core.frame.DataFrame'>\nRangeIndex: 3372 entries, 0 to 3371\nData columns (total 16 columns):\n #   Column                              Non-Null Count  Dtype         \n---  ------                              --------------  -----         \n 0   Current Official Name of Satellite  3372 non-null   object        \n 1   Country/Org of UN Registry          3372 non-null   object        \n 2   Country of Operator/Owner           3372 non-null   object        \n 3   Operator/Owner                      3372 non-null   object        \n 4   Users                               3372 non-null   object        \n 5   Purpose                             3372 non-null   object        \n 6   Class of Orbit                      3372 non-null   object        \n 7   Type of Orbit                       2751 non-null   object        \n 8   Perigee (km)                        3372 non-null   float64       \n 9   Apogee (km)                         3372 non-null   float64       \n 10  Period (minutes)                    3372 non-null   float64       \n 11  Launch Mass (kg.)                   3146 non-null   float64       \n 12  Date of Launch                      3372 non-null   datetime64[ns]\n 13  Contractor                          3372 non-null   object        \n 14  Country of Contractor               3372 non-null   object        \n 15  Launch Site                         3372 non-null   object        \ndtypes: datetime64[ns](1), float64(4), object(11)\nmemory usage: 421.6+ KB\n"
     ]
    }
   ],
   "source": [
    "cols_to_drop = [\"Name of Satellite, Alternate Names\", \"Detailed Purpose\", \"Longitude of GEO (degrees)\", \"Eccentricity\", \"Inclination (degrees)\", \"COSPAR Number\", \"NORAD Number\", \"Expected Lifetime (yrs.)\", \"Dry Mass (kg.)\", \"Power (watts)\", \"Launch Vehicle\"]\n",
    "satellites_df.drop(columns=cols_to_drop, inplace=True)\n",
    "satellites_df.info()"
   ]
  },
  {
   "cell_type": "code",
   "execution_count": 211,
   "metadata": {},
   "outputs": [],
   "source": [
    "satellites_df.rename(columns={\n",
    "    \"Current Official Name of Satellite\": \"Satellite\",\n",
    "    \"Country/Org of UN Registry\":\"UN Country\",\n",
    "    \"Country of Operator/Owner\":\"Country\",\n",
    "    \"Class of Orbit\":\"Orbit Class\",\n",
    "    \"Type of Orbit\":\"Orbit Type\",\n",
    "    \"Perigee (km)\":\"Perigee\",\n",
    "    \"Apogee (km)\":\"Apogee\",\n",
    "    \"Period (minutes)\":\"Period\",\n",
    "    \"Launch Mass (kg.)\":\"Launch Mass\",\n",
    "    \"Country of Contractor\":\"Contractor Country\",\n",
    "    \"Date of Launch\":\"Launch Date\"\n",
    "}, inplace=True)\n",
    "satellites_df = satellites_df.reindex(columns=[\n",
    "    \"Satellite\", \"Country\", \"UN Country\", \"Operator/Owner\", \"Contractor\", \"Contractor Country\", \n",
    "    \"Users\", \"Purpose\", \"Launch Date\", \"Launch Site\", \"Orbit Class\", \"Orbit Type\", \n",
    "    \"Perigee\", \"Apogee\", \"Period\", \"Launch Mass\"\n",
    "])"
   ]
  },
  {
   "cell_type": "code",
   "execution_count": 212,
   "metadata": {},
   "outputs": [
    {
     "output_type": "stream",
     "name": "stdout",
     "text": [
      "(3372, 16)\n"
     ]
    },
    {
     "output_type": "execute_result",
     "data": {
      "text/plain": [
       "  Satellite        Country  UN Country                        Operator/Owner  \\\n",
       "0   1HOPSAT            USA  NR (12/20)                          Hera Systems   \n",
       "1    3Cat-1          Spain          NR  Universitat Politècnica de Catalunya   \n",
       "2   Aalto-1        Finland     Finland                      Aalto University   \n",
       "3  AAUSat-4        Denmark     Denmark                 University of Aalborg   \n",
       "4     ABS-2  Multinational          NR         Asia Broadcast Satellite Ltd.   \n",
       "\n",
       "                             Contractor Contractor Country       Users  \\\n",
       "0                          Hera Systems                USA  Commercial   \n",
       "1  Universitat Politècnica de Catalunya              Spain       Civil   \n",
       "2                      Aalto University            Finland       Civil   \n",
       "3                 University of Aalborg            Denmark       Civil   \n",
       "4                   Space Systems/Loral                USA  Commercial   \n",
       "\n",
       "                  Purpose Launch Date                 Launch Site Orbit Class  \\\n",
       "0       Earth Observation  2019-12-11  Satish Dhawan Space Centre         LEO   \n",
       "1  Technology Development  2018-11-29  Satish Dhawan Space Centre         LEO   \n",
       "2  Technology Development  2017-06-23  Satish Dhawan Space Centre         LEO   \n",
       "3       Earth Observation  2016-04-25         Guiana Space Center         LEO   \n",
       "4          Communications  2014-02-06         Guiana Space Center         GEO   \n",
       "\n",
       "           Orbit Type  Perigee   Apogee   Period  Launch Mass  \n",
       "0  Non-Polar Inclined    566.0    576.0    96.08         22.0  \n",
       "1                 NaN    476.0    500.0    95.00          4.0  \n",
       "2                 NaN    497.0    517.0    94.70          4.5  \n",
       "3     Sun-Synchronous    442.0    687.0    95.90          1.0  \n",
       "4                 NaN  35778.0  35793.0  1436.03       6330.0  "
      ],
      "text/html": "<div>\n<style scoped>\n    .dataframe tbody tr th:only-of-type {\n        vertical-align: middle;\n    }\n\n    .dataframe tbody tr th {\n        vertical-align: top;\n    }\n\n    .dataframe thead th {\n        text-align: right;\n    }\n</style>\n<table border=\"1\" class=\"dataframe\">\n  <thead>\n    <tr style=\"text-align: right;\">\n      <th></th>\n      <th>Satellite</th>\n      <th>Country</th>\n      <th>UN Country</th>\n      <th>Operator/Owner</th>\n      <th>Contractor</th>\n      <th>Contractor Country</th>\n      <th>Users</th>\n      <th>Purpose</th>\n      <th>Launch Date</th>\n      <th>Launch Site</th>\n      <th>Orbit Class</th>\n      <th>Orbit Type</th>\n      <th>Perigee</th>\n      <th>Apogee</th>\n      <th>Period</th>\n      <th>Launch Mass</th>\n    </tr>\n  </thead>\n  <tbody>\n    <tr>\n      <th>0</th>\n      <td>1HOPSAT</td>\n      <td>USA</td>\n      <td>NR (12/20)</td>\n      <td>Hera Systems</td>\n      <td>Hera Systems</td>\n      <td>USA</td>\n      <td>Commercial</td>\n      <td>Earth Observation</td>\n      <td>2019-12-11</td>\n      <td>Satish Dhawan Space Centre</td>\n      <td>LEO</td>\n      <td>Non-Polar Inclined</td>\n      <td>566.0</td>\n      <td>576.0</td>\n      <td>96.08</td>\n      <td>22.0</td>\n    </tr>\n    <tr>\n      <th>1</th>\n      <td>3Cat-1</td>\n      <td>Spain</td>\n      <td>NR</td>\n      <td>Universitat Politècnica de Catalunya</td>\n      <td>Universitat Politècnica de Catalunya</td>\n      <td>Spain</td>\n      <td>Civil</td>\n      <td>Technology Development</td>\n      <td>2018-11-29</td>\n      <td>Satish Dhawan Space Centre</td>\n      <td>LEO</td>\n      <td>NaN</td>\n      <td>476.0</td>\n      <td>500.0</td>\n      <td>95.00</td>\n      <td>4.0</td>\n    </tr>\n    <tr>\n      <th>2</th>\n      <td>Aalto-1</td>\n      <td>Finland</td>\n      <td>Finland</td>\n      <td>Aalto University</td>\n      <td>Aalto University</td>\n      <td>Finland</td>\n      <td>Civil</td>\n      <td>Technology Development</td>\n      <td>2017-06-23</td>\n      <td>Satish Dhawan Space Centre</td>\n      <td>LEO</td>\n      <td>NaN</td>\n      <td>497.0</td>\n      <td>517.0</td>\n      <td>94.70</td>\n      <td>4.5</td>\n    </tr>\n    <tr>\n      <th>3</th>\n      <td>AAUSat-4</td>\n      <td>Denmark</td>\n      <td>Denmark</td>\n      <td>University of Aalborg</td>\n      <td>University of Aalborg</td>\n      <td>Denmark</td>\n      <td>Civil</td>\n      <td>Earth Observation</td>\n      <td>2016-04-25</td>\n      <td>Guiana Space Center</td>\n      <td>LEO</td>\n      <td>Sun-Synchronous</td>\n      <td>442.0</td>\n      <td>687.0</td>\n      <td>95.90</td>\n      <td>1.0</td>\n    </tr>\n    <tr>\n      <th>4</th>\n      <td>ABS-2</td>\n      <td>Multinational</td>\n      <td>NR</td>\n      <td>Asia Broadcast Satellite Ltd.</td>\n      <td>Space Systems/Loral</td>\n      <td>USA</td>\n      <td>Commercial</td>\n      <td>Communications</td>\n      <td>2014-02-06</td>\n      <td>Guiana Space Center</td>\n      <td>GEO</td>\n      <td>NaN</td>\n      <td>35778.0</td>\n      <td>35793.0</td>\n      <td>1436.03</td>\n      <td>6330.0</td>\n    </tr>\n  </tbody>\n</table>\n</div>"
     },
     "metadata": {},
     "execution_count": 212
    }
   ],
   "source": [
    "print(satellites_df.shape)\n",
    "satellites_df.head()"
   ]
  },
  {
   "cell_type": "code",
   "execution_count": 213,
   "metadata": {},
   "outputs": [
    {
     "output_type": "stream",
     "name": "stdout",
     "text": [
      "Algeria\nArgentina\nAustralia\nAustria\nAzerbaijan\nBangladesh\nBelarus\nBelgium\nBolivia\nBrazil\nBulgaria\nCanada\nChile\nChina\nChina/Brazil\nChina/France\nChina/Italy\nColombia\nCzech Republic\nDenmark\nESA\nESA/USA\nESA/USA/Russia\nEcuador\nEgypt\nEstonia\nEthiopia\nFinland\nFrance\nFrance/Belgium/Sweden\nFrance/Israel\nFrance/Italy\nFrance/Italy/Belgium/Spain/Greece\nFrance/USA\nGermany\nGreece\nGreece/United Kingdom\nIndia\nIndia/Canada\nIndia/France\nIndonesia\nIran\nIraq\nIsrael\nItaly\nJapan\nJapan/Singapore\nJordan\nKazakhstan\nLaos\nLithuania\nLuxembourg\nMalaysia\nMexico\nMorocco\nMorocco/Germany\nMultinational\nNepal\nNetherlands\nNigeria\nNorway\nPakistan\nPeru\nPhilippines\nPoland\nQatar\nRussia\nRussia/USA\nSaudi Arabia\nSingapore\nSingapore/Taiwan\nSlovenia\nSouth Africa\nSouth Korea\nSpain\nSri Lanka\nSudan\nSweden\nSwitzerland\nTaiwan\nTaiwan/USA\nThailand\nTurkey\nTurkmenistan/Monaco\nUSA\nUSA/Argentina\nUSA/Canada\nUSA/Canada/Japan\nUSA/France\nUSA/Germany\nUSA/Japan\nUSA/Japan/Brazil\nUSA/Mexico\nUSA/Sweden\nUSA/United Kingdom/Italy\nUkraine\nUnited Arab Emirates\nUnited Kingdom\nUnited Kingdom/ESA\nVenezuela\nVietnam\n"
     ]
    }
   ],
   "source": [
    "for c in sorted(satellites_df.Country.unique()): print(c)"
   ]
  },
  {
   "cell_type": "code",
   "execution_count": null,
   "metadata": {},
   "outputs": [],
   "source": []
  },
  {
   "cell_type": "code",
   "execution_count": null,
   "metadata": {},
   "outputs": [],
   "source": []
  }
 ]
}