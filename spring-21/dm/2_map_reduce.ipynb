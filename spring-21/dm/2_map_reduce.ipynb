{
  "nbformat": 4,
  "nbformat_minor": 0,
  "metadata": {
    "colab": {
      "name": "2b_map_reduce.ipynb",
      "provenance": [],
      "collapsed_sections": [],
      "include_colab_link": true
    },
    "kernelspec": {
      "name": "python3",
      "display_name": "Python 3"
    }
  },
  "cells": [
    {
      "cell_type": "markdown",
      "metadata": {
        "id": "view-in-github",
        "colab_type": "text"
      },
      "source": [
        "<a href=\"https://colab.research.google.com/github/gibranfp/CursoDatosMasivosI/blob/main/notebooks/2b_map_reduce.ipynb\" target=\"_parent\"><img src=\"https://colab.research.google.com/assets/colab-badge.svg\" alt=\"Open In Colab\"/></a>"
      ]
    },
    {
      "cell_type": "markdown",
      "metadata": {
        "id": "5I4qrFG9-Rvf"
      },
      "source": [
        "# 2. *MapReduce*\n",
        "\n",
        "\n",
        "En este notebook haremos una revisión aplicada de operaciones Map y Reduce.\n",
        "\n",
        "\n",
        "## 2.1 Introducción\n",
        "\n",
        "\n",
        "*MapReduce* es un modelo de programación que nos permite procesar enormes cantidades de datos de forma distribuida sobre un *cluster*. \n",
        "\n",
        "\n",
        "La idea principal detrás de este modelo de programación consiste en primero transformar los datos de tal forma que tengan un formato `(llave, valor)`  para después reducir los datos, combinando de alguna manera todos los valores correspondientes a la misma `llave`.\n",
        "\n",
        "\n",
        "Para realizar este proceso solo es necesario definir dos funciones:\n",
        "\n",
        "\n",
        "* *Map*: Transforma los datos en pares `(llave, valor)`.\n",
        "* *Reduce*: Combina todos los valores asociados a la misma `llave` de alguna forma.\n",
        "\n",
        "\n",
        "El gran atractivo que tiene este modelo de programación es que permite a herramientas como *Spark* procesar grandes cantidades de datos sobre un *cluster* si no que incluso puede evitar que fallas en los nodos del *cluster* afecten los cálculos y procesos realizados con los datos.\n",
        "\n",
        "\n",
        "En este notebook nos daremos a la tarea de mostrar varios ejemplos de como llevar a cabo este modelo de programación usando `Python` y `PySpark`.\n",
        "\n",
        "\n",
        "Antes de pasar a los ejemplos debemos instalar nuestro entorno de desarrollo con `PySpark`."
      ]
    },
    {
      "cell_type": "code",
      "metadata": {
        "id": "pSjTC8BUE3Dw",
        "colab": {
          "base_uri": "https://localhost:8080/"
        },
        "outputId": "fd71e78c-534a-4b11-da1c-05bfdc1bceb3"
      },
      "source": [
        "!pip install pyspark\n",
        "!pip install -U -q PyDrive\n",
        "!apt install openjdk-8-jdk-headless -qq\n",
        "import os\n",
        "os.environ[\"JAVA_HOME\"] = \"/usr/lib/jvm/java-8-openjdk-amd64\""
      ],
      "execution_count": null,
      "outputs": [
        {
          "output_type": "stream",
          "text": [
            "Requirement already satisfied: pyspark in /usr/local/lib/python3.7/dist-packages (3.1.1)\n",
            "Requirement already satisfied: py4j==0.10.9 in /usr/local/lib/python3.7/dist-packages (from pyspark) (0.10.9)\n",
            "openjdk-8-jdk-headless is already the newest version (8u282-b08-0ubuntu1~18.04).\n",
            "0 upgraded, 0 newly installed, 0 to remove and 29 not upgraded.\n"
          ],
          "name": "stdout"
        }
      ]
    },
    {
      "cell_type": "markdown",
      "metadata": {
        "id": "yIF2lMe4Iciv"
      },
      "source": [
        "Para empezar a hacer uso de PySpark es necesario crear una `SparkSession`, dicho objeto es el que nos permitirá crear RDDs o DataFrames, que son los objetos con los que más estaremos trabajando"
      ]
    },
    {
      "cell_type": "code",
      "metadata": {
        "id": "lMl3Yv0SLl73"
      },
      "source": [
        "import pyspark\n",
        "# Carga ufnciones extra\n",
        "from pyspark.sql.functions import * \n",
        "from pyspark.sql import SparkSession\n",
        "spark = SparkSession.builder.appName('MapReduce').getOrCreate()"
      ],
      "execution_count": null,
      "outputs": []
    },
    {
      "cell_type": "markdown",
      "metadata": {
        "id": "XyPsAj8tHXxY"
      },
      "source": [
        "Ademas de `PySpark` usaremos usaremos las siguientes bibliotecas"
      ]
    },
    {
      "cell_type": "code",
      "metadata": {
        "id": "awmMztrEHWpe"
      },
      "source": [
        "import numpy as np\n",
        "import matplotlib.pyplot as plt\n",
        "\n",
        "# Procesamiento del lenguaje natural\n",
        "!pip install nltk\n",
        "!pip install --upgrade pip\n",
        "!python -m nltk.downloader all\n",
        "\n",
        "import nltk\n",
        "import string\n",
        "\n",
        "# Experimental?\n",
        "\n",
        "!pip install sentiment-analysis-spanish\n",
        "!pip install keras tensorflow\n",
        "\n",
        "from sentiment_analysis_spanish import sentiment_analysis"
      ],
      "execution_count": null,
      "outputs": []
    },
    {
      "cell_type": "markdown",
      "metadata": {
        "id": "mfXZwq0oLUFd"
      },
      "source": [
        "## 2.2 Ejemplos\n",
        "\n",
        "\n",
        "En esta sección revisaremos con ejemplos muy sencillos algunas de las combinaciones de funciones *Map* y *Reduce* más comunes. Estos ejemplos usan datos muy sencillos.\n",
        "\n",
        "\n",
        "### 2.2.1 `reduce`\n",
        "\n",
        "\n",
        "La operación *Reduce* asume que todos los valores corresponden a la misma llave, es decir se toma la función *Map* como la función identidad.\n",
        "\n",
        "\n",
        "Creemos un RDD a partir cuyos elementos sean 500 números enteros, estos los crearemos de forma aleatoria usando numpy"
      ]
    },
    {
      "cell_type": "code",
      "metadata": {
        "colab": {
          "base_uri": "https://localhost:8080/"
        },
        "id": "ohIrOD_uGRaq",
        "outputId": "dc5b08ae-dfcc-4a74-cbcf-55d7c6c840d2"
      },
      "source": [
        "np.random.seed(182)\n",
        "dat_numeros = np.random.randint(10, size=1000)\n",
        "# Veamos una muestra\n",
        "dat_numeros[:10]"
      ],
      "execution_count": null,
      "outputs": [
        {
          "output_type": "execute_result",
          "data": {
            "text/plain": [
              "array([9, 8, 2, 2, 2, 5, 8, 8, 7, 2])"
            ]
          },
          "metadata": {
            "tags": []
          },
          "execution_count": 4
        }
      ]
    },
    {
      "cell_type": "markdown",
      "metadata": {
        "id": "mI61LVgRIApw"
      },
      "source": [
        "creemos el RDD"
      ]
    },
    {
      "cell_type": "code",
      "metadata": {
        "colab": {
          "base_uri": "https://localhost:8080/"
        },
        "id": "rHNJ2SbLH_0l",
        "outputId": "ba98cf64-f831-4cf8-f1bc-ca8b3533cd93"
      },
      "source": [
        "rdd_numeros = spark.sparkContext.parallelize(dat_numeros)\n",
        "\n",
        "# Revisemos el contenido del RDD\n",
        "for elemento in rdd_numeros.take(5):\n",
        "  print(elemento)"
      ],
      "execution_count": null,
      "outputs": [
        {
          "output_type": "stream",
          "text": [
            "9\n",
            "8\n",
            "2\n",
            "2\n",
            "2\n"
          ],
          "name": "stdout"
        }
      ]
    },
    {
      "cell_type": "markdown",
      "metadata": {
        "id": "QC873nkxImq1"
      },
      "source": [
        "Podemos usar la función *Reduce* para saber, por ejemplo, la suma de todos los elementos"
      ]
    },
    {
      "cell_type": "code",
      "metadata": {
        "colab": {
          "base_uri": "https://localhost:8080/"
        },
        "id": "-0KagHsfHo8V",
        "outputId": "54a0f3f0-1228-4a16-d1b6-b32f05aeadad"
      },
      "source": [
        "suma = rdd_numeros.reduce(lambda a, b: a + b)\n",
        "suma"
      ],
      "execution_count": null,
      "outputs": [
        {
          "output_type": "execute_result",
          "data": {
            "text/plain": [
              "4323"
            ]
          },
          "metadata": {
            "tags": []
          },
          "execution_count": 6
        }
      ]
    },
    {
      "cell_type": "markdown",
      "metadata": {
        "id": "z_Ov5ZdoJv6j"
      },
      "source": [
        "También podríamos querer saber cual es el elemento máximo"
      ]
    },
    {
      "cell_type": "code",
      "metadata": {
        "colab": {
          "base_uri": "https://localhost:8080/"
        },
        "id": "NWdOBB91JXmZ",
        "outputId": "0bef4c29-0210-4451-83b4-05d097da17a2"
      },
      "source": [
        "maximo = rdd_numeros.reduce(lambda a, b: a if a > b else b)\n",
        "maximo"
      ],
      "execution_count": null,
      "outputs": [
        {
          "output_type": "execute_result",
          "data": {
            "text/plain": [
              "9"
            ]
          },
          "metadata": {
            "tags": []
          },
          "execution_count": 7
        }
      ]
    },
    {
      "cell_type": "markdown",
      "metadata": {
        "id": "T2JtOxY7RBwC"
      },
      "source": [
        "### 2.2.2 `map`\n",
        "\n",
        "\n",
        "Supongamos ahora que queremos saber la distribución de números en los datos, para esto tendremos que contar cuantas veces aparece cada numero, para esto podemos mapear los elemento de tal forma que cada elemento `numero` al par cuya llave sea el numero y el valor el numero de apariciones de dicho numero en cada renglón, es decir `(numero, 1)`. Esto lo podemos lograr con la función `map` de la siguiente forma"
      ]
    },
    {
      "cell_type": "code",
      "metadata": {
        "id": "2XOLEFPaJ6cQ",
        "colab": {
          "base_uri": "https://localhost:8080/"
        },
        "outputId": "aa3508f5-dca4-44ab-b929-554e4771c970"
      },
      "source": [
        "rdd_conteo = rdd_numeros.map(lambda x: (x, 1))\n",
        "\n",
        "for elemento in rdd_conteo.take(5):\n",
        "  print(elemento)"
      ],
      "execution_count": null,
      "outputs": [
        {
          "output_type": "stream",
          "text": [
            "(9, 1)\n",
            "(8, 1)\n",
            "(2, 1)\n",
            "(2, 1)\n",
            "(2, 1)\n"
          ],
          "name": "stdout"
        }
      ]
    },
    {
      "cell_type": "markdown",
      "metadata": {
        "id": "iU8xVw3FSq24"
      },
      "source": [
        "La función *map* también la podemos usar para transformar a los elementos del RDD de la forma en que queramos. Por ejemplo, podríamos querer obtener las 3 primeras potencias de cada elemento"
      ]
    },
    {
      "cell_type": "code",
      "metadata": {
        "colab": {
          "base_uri": "https://localhost:8080/"
        },
        "id": "lu1LJa3JSjKD",
        "outputId": "f50b9d26-84d2-447a-db1a-7267c7cae2ee"
      },
      "source": [
        "# Podemos pasar una funcion \n",
        "def potencias(x):\n",
        "  return (x**1, x**2, x**3)\n",
        "\n",
        "# Aplicamos la funcion\n",
        "rdd_potencias = rdd_numeros.map(potencias)\n",
        "\n",
        "# Imprimimos \n",
        "for elemento in rdd_potencias.take(5):\n",
        "  print(elemento)"
      ],
      "execution_count": null,
      "outputs": [
        {
          "output_type": "stream",
          "text": [
            "(9, 81, 729)\n",
            "(8, 64, 512)\n",
            "(2, 4, 8)\n",
            "(2, 4, 8)\n",
            "(2, 4, 8)\n"
          ],
          "name": "stdout"
        }
      ]
    },
    {
      "cell_type": "markdown",
      "metadata": {
        "id": "gQLtCKbXTtWB"
      },
      "source": [
        "### 2.2.3 `reduceByKey`\n",
        "\n",
        "Habiendo transformado nuestros datos en pares `(llave, etiqueta)` podemos aplicar una función de *Reduce*, para saber cuantas veces aparece cada numero solo debemos sumar los valores para cada llave. Esto lo logramos de la siguiente manera"
      ]
    },
    {
      "cell_type": "code",
      "metadata": {
        "colab": {
          "base_uri": "https://localhost:8080/",
          "height": 279
        },
        "id": "rv5YSFZZTsX0",
        "outputId": "e5a3662e-5c46-4c03-e0d6-db43acad3dac"
      },
      "source": [
        "# Calculamos la suma para cada llave\n",
        "rdd_histograma = rdd_conteo.reduceByKey(lambda a, b: a + b)\n",
        "\n",
        "# Imprimimos el histograma\n",
        "\n",
        "histograma = rdd_histograma.collect()\n",
        "\n",
        "numeros = [ numero for (numero, _) in histograma ]\n",
        "frecuencias = [ frecuencia for (_, frecuencia) in histograma ]\n",
        "plt.bar(numeros, frecuencias)\n",
        "plt.xlabel('Numero')\n",
        "plt.ylabel('Frecuencia')\n",
        "plt.show()"
      ],
      "execution_count": null,
      "outputs": [
        {
          "output_type": "display_data",
          "data": {
            "image/png": "[encoded data removed]",
            "text/plain": [
              "<Figure size 432x288 with 1 Axes>"
            ]
          },
          "metadata": {
            "tags": [],
            "needs_background": "light"
          }
        }
      ]
    },
    {
      "cell_type": "markdown",
      "metadata": {
        "id": "ExQWJb9SWZ6Q"
      },
      "source": [
        "### 2.2.4 `flatMap`\n",
        "\n",
        "Supongamos ahora que tenemos un texto separado por renglones de la siguiente manera"
      ]
    },
    {
      "cell_type": "code",
      "metadata": {
        "id": "QnPWSBKXTsbB"
      },
      "source": [
        "texto = ['esto se supone que es un parrafo del texto', 'este es el segundo parrafo del texto', 'agreguemos otro parrafo']"
      ],
      "execution_count": null,
      "outputs": []
    },
    {
      "cell_type": "markdown",
      "metadata": {
        "id": "Rk6k_f_paBKd"
      },
      "source": [
        "Carguemos este texto a un RDD"
      ]
    },
    {
      "cell_type": "code",
      "metadata": {
        "colab": {
          "base_uri": "https://localhost:8080/"
        },
        "id": "R881ffsJTsil",
        "outputId": "99626201-5657-4aba-aa55-1f3fc5818f54"
      },
      "source": [
        "rdd_texto = spark.sparkContext.parallelize(texto)\n",
        "\n",
        "for parrafo in rdd_texto.collect():\n",
        "  print(parrafo)"
      ],
      "execution_count": null,
      "outputs": [
        {
          "output_type": "stream",
          "text": [
            "esto se supone que es un parrafo del texto\n",
            "este es el segundo parrafo del texto\n",
            "agreguemos otro parrafo\n"
          ],
          "name": "stdout"
        }
      ]
    },
    {
      "cell_type": "markdown",
      "metadata": {
        "id": "vcXQok2oaVRS"
      },
      "source": [
        "Pensemos que queremos contar cuantas veces aparece cada palabra en todo el texto. Una forma de hacerlo es creando pares `(palabra, 1)` (parecido al ejemplo pasado), sin embargo los elementos del RDD deberían ser las palabras no los párrafos. \n",
        "\n",
        "\n",
        "Para esto existe la función `flatMap`, nos ayuda a *aplanar* los elementos del RDD. Veamos como funciona"
      ]
    },
    {
      "cell_type": "code",
      "metadata": {
        "colab": {
          "base_uri": "https://localhost:8080/"
        },
        "id": "Z-pKW9niTskv",
        "outputId": "6f46c399-14bb-48d1-8d9f-e9c2914ef39d"
      },
      "source": [
        "rdd_palabras = rdd_texto.flatMap(lambda parrafo: parrafo.split(' '))\n",
        "\n",
        "for palabra in rdd_palabras.take(10):\n",
        "  print(palabra)"
      ],
      "execution_count": null,
      "outputs": [
        {
          "output_type": "stream",
          "text": [
            "esto\n",
            "se\n",
            "supone\n",
            "que\n",
            "es\n",
            "un\n",
            "parrafo\n",
            "del\n",
            "texto\n",
            "este\n"
          ],
          "name": "stdout"
        }
      ]
    },
    {
      "cell_type": "markdown",
      "metadata": {
        "id": "iYWzi67mfmxr"
      },
      "source": [
        "Hagamos el conteo de palabras"
      ]
    },
    {
      "cell_type": "code",
      "metadata": {
        "colab": {
          "base_uri": "https://localhost:8080/"
        },
        "id": "RsgpqO6ATsnD",
        "outputId": "b540ebf0-3339-4ea1-de9d-756888377f32"
      },
      "source": [
        "histograma_palabras = rdd_palabras.map(lambda palabra: (palabra, 1)) \\\n",
        "                                  .reduceByKey(lambda a, b: a + b) \\\n",
        "                                  .sortBy(lambda x: x[1], ascending = False) \\\n",
        "                                  .collect()\n",
        "\n",
        "\n",
        "print (\"{:<10} {:<10}\".format('PALABRA', 'FRECUENCIA'))\n",
        "\n",
        "for palabra, frecuencia in histograma_palabras:\n",
        "  print (\"{:<10} {:<10}\".format(palabra, frecuencia))"
      ],
      "execution_count": null,
      "outputs": [
        {
          "output_type": "stream",
          "text": [
            "PALABRA    FRECUENCIA\n",
            "parrafo    3         \n",
            "del        2         \n",
            "es         2         \n",
            "texto      2         \n",
            "esto       1         \n",
            "supone     1         \n",
            "que        1         \n",
            "este       1         \n",
            "el         1         \n",
            "segundo    1         \n",
            "se         1         \n",
            "un         1         \n",
            "agreguemos 1         \n",
            "otro       1         \n"
          ],
          "name": "stdout"
        }
      ]
    },
    {
      "cell_type": "markdown",
      "metadata": {
        "id": "P6lFz10IoVcq"
      },
      "source": [
        "En este ejemplo podemos separar la parte de *Map* y *Reduce* de la siguiente forma"
      ]
    },
    {
      "cell_type": "code",
      "metadata": {
        "colab": {
          "base_uri": "https://localhost:8080/"
        },
        "id": "IHc7Zgywoc_d",
        "outputId": "a95fdba5-6da0-4c62-b40c-9006462b161e"
      },
      "source": [
        "# Map\n",
        "rdd_par_palabras = rdd_texto.flatMap(lambda parrafo: parrafo.split(' ')) \\\n",
        "                            .map(lambda palabra: (palabra, 1))\n",
        "\n",
        "print('Resultado del Map')\n",
        "for par in rdd_par_palabras.take(5):\n",
        "  print(par)\n",
        "\n",
        "# Reduce\n",
        "rdd_histograma_palabras = rdd_par_palabras.reduceByKey(lambda a, b: a + b) \\\n",
        "                                      .sortBy(lambda x: x[1], ascending = False)\n",
        "\n",
        "print('Resultado del Reduce')\n",
        "for par in rdd_histograma_palabras.take(5):\n",
        "  print(par)                                  "
      ],
      "execution_count": null,
      "outputs": [
        {
          "output_type": "stream",
          "text": [
            "Resultado del Map\n",
            "('esto', 1)\n",
            "('se', 1)\n",
            "('supone', 1)\n",
            "('que', 1)\n",
            "('es', 1)\n",
            "Resultado del Reduce\n",
            "('parrafo', 3)\n",
            "('del', 2)\n",
            "('es', 2)\n",
            "('texto', 2)\n",
            "('esto', 1)\n"
          ],
          "name": "stdout"
        }
      ]
    },
    {
      "cell_type": "markdown",
      "metadata": {
        "id": "FKdxbC-sh_Ht"
      },
      "source": [
        "### 2.2.5 `mapValues`\n",
        "\n",
        "\n",
        "Otra función que puede resultar útil al momento de crear funciones Map es la de `mapValues`. Imaginemos que ahora tenemos tres textos diferentes"
      ]
    },
    {
      "cell_type": "code",
      "metadata": {
        "colab": {
          "base_uri": "https://localhost:8080/"
        },
        "id": "H8jozwfxTspp",
        "outputId": "7347f50d-771b-4627-dd42-4108a149d2cf"
      },
      "source": [
        "# Definicion de los texto\n",
        "texto_1 = ['esto es un parrafo', 'otro_parrafo']\n",
        "texto_2 = ['este texto solo tiene un parrafo']\n",
        "texto_3 = ['parrafo 1', 'parrafo 2', 'parrafo 3']\n",
        "\n",
        "textos = [('texto_1', texto_1), ('texto_2', texto_2), ('texto_3', texto_3)]\n",
        "\n",
        "# Creamos un RDD con los textos\n",
        "rdd_textos = spark.sparkContext.parallelize(textos)\n",
        "\n",
        "for texto in rdd_textos.take(1):\n",
        "  print(texto)"
      ],
      "execution_count": null,
      "outputs": [
        {
          "output_type": "stream",
          "text": [
            "('texto_1', ['esto es un parrafo', 'otro_parrafo'])\n"
          ],
          "name": "stdout"
        }
      ]
    },
    {
      "cell_type": "markdown",
      "metadata": {
        "id": "B_f-B1g_kmMs"
      },
      "source": [
        "Notemos que este RDD ya está formateado en pares `(texto_id, texto)`. Si quisiéramos saber cuantos párrafos tiene cada texto deberíamos encontrar una forma de calcular `len(texto)` para cada par sin alterar la llave. Podemos hacer esto usando la función `mapValues`, que dado un par `(llave, valor)` aplica una transformación solo al valor"
      ]
    },
    {
      "cell_type": "code",
      "metadata": {
        "colab": {
          "base_uri": "https://localhost:8080/"
        },
        "id": "j4lU1pnfTssF",
        "outputId": "2c3abb0f-97e2-4f58-bb1b-7de2756c86f2"
      },
      "source": [
        "rdd_num_parrafos = rdd_textos.mapValues(lambda valor: len(valor))\n",
        "\n",
        "print (\"{:<10} {:<10}\".format('TEXTO', 'NUM_PARRAFOS'))\n",
        "\n",
        "for texto, num_parrafos in rdd_num_parrafos.collect():\n",
        "  print (\"{:<10} {:<10}\".format(texto, num_parrafos))"
      ],
      "execution_count": null,
      "outputs": [
        {
          "output_type": "stream",
          "text": [
            "TEXTO      NUM_PARRAFOS\n",
            "texto_1    2         \n",
            "texto_2    1         \n",
            "texto_3    3         \n"
          ],
          "name": "stdout"
        }
      ]
    },
    {
      "cell_type": "markdown",
      "metadata": {
        "id": "d4qPo_Ddp-xQ"
      },
      "source": [
        "En esta sección hemos revisado algunas de las funciones más importantes para la creación de funciones *Map* y *Reduce*, sin embargo, las hemos aplicado a datos bastante sintéticos. Hagamos un ejemplo con datos más reales.\n",
        "\n",
        "\n",
        "## 2.3 Caso de uso\n",
        "\n",
        "\n",
        "\n",
        "\n",
        "### 2.3.1 Datos\n",
        "\n",
        "\n",
        "En nuestro caso de uso emplearemos una base de datos que contiene las letras del top 10 de canciones en México según spotify (esto es para el día 4 de marzo de 2021). Por simplicidad se han omitido las canciones que estén en ingles.\n",
        "\n",
        "\n",
        "La base de datos cuenta con los siguientes campos **canción**, **artista** y **letra** separados por el caracter '*'. Carguemos los datos"
      ]
    },
    {
      "cell_type": "code",
      "metadata": {
        "colab": {
          "base_uri": "https://localhost:8080/"
        },
        "id": "aV7aBYKDpxKG",
        "outputId": "712889ba-00c1-446f-f5fb-e7439baf93c2"
      },
      "source": [
        "rdd_letras = spark.sparkContext.textFile('/content/drive/MyDrive/datos/top_10_mexico.csv').map(lambda x: x.split('*'))\n",
        "\n",
        "for cancion in rdd_letras.take(1):\n",
        "  print(cancion)"
      ],
      "execution_count": null,
      "outputs": [
        {
          "output_type": "stream",
          "text": [
            "['Bad Bunny, Jhay Cortez', 'DÁKITI', \"Baby, ya yo me enteré, se nota cuando me ve' Ahí donde no has llegao' sabes que yo te llevaré Y dime qué quieres beber, es que tú eres mi bebé ¿Y de nosotros quién va a hablar? Si no nos dejamos ver Y a veces es Dolce, a veces Bulgari Cuando te lo quito después de los parties Las copas de vino, las libras de mari Tú estás bien suelta, yo de safari Tú mueve' el culo fenomenal Pa' yo devorarte como animal Si no te has vení'o, yo te vo' a esperar En mi cama y lo vo' a celebrar Baby, a ti no me opongo Y siempre te lo pongo Y si tú me tiras, vamo' a nadar en lo hondo Si es por mí te lo pongo De septiembre hasta agosto A mí sin cojone' lo que digan tus amigas Ya yo me enteré, se nota cuando me ve' Ahí donde no has llegao' sabes que yo te llevaré Y dime qué quieres beber, es que tú eres mi bebé ¿Y de nosotros quién va a hablar? Si no nos dejamos ver (¿me sigues?) Mami, me tienes juqueao', sí Si fueras la Uru, me tuvieses parqueao' Dando vueltas por Condado, contigo siempre arrebatao' Tú no eres mi señora, pero Toma cinco mil, gástalo en Sephora Louis Vuitton, ya no compra en Pandora Como piercing a los hombres perfora, eh-eh-eh Hace tiempo le rompieron el cora (el cora) Estudiosa, puesta pa' ser doctora (doctora) Pero (pero), le gustan los títeres wheeleando motoras (motoras) Yo estoy pa' ti las veinticuatro hora' Baby, a ti no me opongo Y siempre te lo pongo (-pre te lo pongo) Y si tú me tiras, vamo' a nadar en lo hondo (nadar en lo hondo) Si es por mí te lo pongo De septiembre hasta agosto Y a mí sin cojone' lo que digan tus amigas Ya yo me enteré, se nota cuando me ve' Ahí donde no has llegao' sabes que yo te llevaré Y dime qué quieres beber, es que tú eres mi bebé ¿Y de nosotros quién va a hablar? Si no nos dejamos ver Y a veces es Dolce, a veces Bulgari Cuando te lo quito después de los parties Las copas de vino, las libras de mari Tú estás bien suelta, yo de safari Tú mueve' el culo fenomenal Pa' yo devorarte como animal Si no te has vení'o, yo te vo' a esperar En mi cama y lo vo' a celebrar\"]\n"
          ],
          "name": "stdout"
        }
      ]
    },
    {
      "cell_type": "markdown",
      "metadata": {
        "id": "bBpVh-ZKAA4R"
      },
      "source": [
        "### 2.3.2 Limpieza de datos\n",
        "\n",
        "\n",
        "Notemos que las letras de canciones, como el texto en general, deben ser preprocesados para poder analizados de una forma más eficiente. En nuestro caso nos enfocaremos en los siguientes puntos:\n",
        "\n",
        "\n",
        "* Transformar todo el texto a minúsculas.\n",
        "* Eliminar signos de puntuación.\n",
        "* Eliminar las *palabras vacías*, que son palabras que aportan poco contexto al problema.\n",
        "\n",
        "\n",
        "\n",
        "\n",
        "Empecemos transformando las letras a minúsculas"
      ]
    },
    {
      "cell_type": "code",
      "metadata": {
        "colab": {
          "base_uri": "https://localhost:8080/"
        },
        "id": "pFuzc-YVTsu8",
        "outputId": "a51f92e0-c618-4710-ac43-6777c8c433b5"
      },
      "source": [
        "rdd_letras = rdd_letras.map(lambda x: (x[0], x[1], x[2].lower()))\n",
        "\n",
        "for letra in rdd_letras.take(1):\n",
        "  print(letra[2])"
      ],
      "execution_count": null,
      "outputs": [
        {
          "output_type": "stream",
          "text": [
            "baby, ya yo me enteré, se nota cuando me ve' ahí donde no has llegao' sabes que yo te llevaré y dime qué quieres beber, es que tú eres mi bebé ¿y de nosotros quién va a hablar? si no nos dejamos ver y a veces es dolce, a veces bulgari cuando te lo quito después de los parties las copas de vino, las libras de mari tú estás bien suelta, yo de safari tú mueve' el culo fenomenal pa' yo devorarte como animal si no te has vení'o, yo te vo' a esperar en mi cama y lo vo' a celebrar baby, a ti no me opongo y siempre te lo pongo y si tú me tiras, vamo' a nadar en lo hondo si es por mí te lo pongo de septiembre hasta agosto a mí sin cojone' lo que digan tus amigas ya yo me enteré, se nota cuando me ve' ahí donde no has llegao' sabes que yo te llevaré y dime qué quieres beber, es que tú eres mi bebé ¿y de nosotros quién va a hablar? si no nos dejamos ver (¿me sigues?) mami, me tienes juqueao', sí si fueras la uru, me tuvieses parqueao' dando vueltas por condado, contigo siempre arrebatao' tú no eres mi señora, pero toma cinco mil, gástalo en sephora louis vuitton, ya no compra en pandora como piercing a los hombres perfora, eh-eh-eh hace tiempo le rompieron el cora (el cora) estudiosa, puesta pa' ser doctora (doctora) pero (pero), le gustan los títeres wheeleando motoras (motoras) yo estoy pa' ti las veinticuatro hora' baby, a ti no me opongo y siempre te lo pongo (-pre te lo pongo) y si tú me tiras, vamo' a nadar en lo hondo (nadar en lo hondo) si es por mí te lo pongo de septiembre hasta agosto y a mí sin cojone' lo que digan tus amigas ya yo me enteré, se nota cuando me ve' ahí donde no has llegao' sabes que yo te llevaré y dime qué quieres beber, es que tú eres mi bebé ¿y de nosotros quién va a hablar? si no nos dejamos ver y a veces es dolce, a veces bulgari cuando te lo quito después de los parties las copas de vino, las libras de mari tú estás bien suelta, yo de safari tú mueve' el culo fenomenal pa' yo devorarte como animal si no te has vení'o, yo te vo' a esperar en mi cama y lo vo' a celebrar\n"
          ],
          "name": "stdout"
        }
      ]
    },
    {
      "cell_type": "markdown",
      "metadata": {
        "id": "UmPew3p2Ntrl"
      },
      "source": [
        "Para poder tratar con el texto a nivel de palabras debemos hacer lo siguiente"
      ]
    },
    {
      "cell_type": "code",
      "metadata": {
        "colab": {
          "base_uri": "https://localhost:8080/"
        },
        "id": "OrUmB62MTcWW",
        "outputId": "e180b61b-74c9-4c7b-81cd-45569ddae133"
      },
      "source": [
        "rdd_letras = rdd_letras.map(lambda x: (x[0], x[1], x[2].split(' ')))\n",
        "\n",
        "for letra in rdd_letras.take(1):\n",
        "  l = letra[2]\n",
        "  print(letra[2])"
      ],
      "execution_count": null,
      "outputs": [
        {
          "output_type": "stream",
          "text": [
            "['baby,', 'ya', 'yo', 'me', 'enteré,', 'se', 'nota', 'cuando', 'me', \"ve'\", 'ahí', 'donde', 'no', 'has', \"llegao'\", 'sabes', 'que', 'yo', 'te', 'llevaré', 'y', 'dime', 'qué', 'quieres', 'beber,', 'es', 'que', 'tú', 'eres', 'mi', 'bebé', '¿y', 'de', 'nosotros', 'quién', 'va', 'a', 'hablar?', 'si', 'no', 'nos', 'dejamos', 'ver', 'y', 'a', 'veces', 'es', 'dolce,', 'a', 'veces', 'bulgari', 'cuando', 'te', 'lo', 'quito', 'después', 'de', 'los', 'parties', 'las', 'copas', 'de', 'vino,', 'las', 'libras', 'de', 'mari', 'tú', 'estás', 'bien', 'suelta,', 'yo', 'de', 'safari', 'tú', \"mueve'\", 'el', 'culo', 'fenomenal', \"pa'\", 'yo', 'devorarte', 'como', 'animal', 'si', 'no', 'te', 'has', \"vení'o,\", 'yo', 'te', \"vo'\", 'a', 'esperar', 'en', 'mi', 'cama', 'y', 'lo', \"vo'\", 'a', 'celebrar', 'baby,', 'a', 'ti', 'no', 'me', 'opongo', 'y', 'siempre', 'te', 'lo', 'pongo', 'y', 'si', 'tú', 'me', 'tiras,', \"vamo'\", 'a', 'nadar', 'en', 'lo', 'hondo', 'si', 'es', 'por', 'mí', 'te', 'lo', 'pongo', 'de', 'septiembre', 'hasta', 'agosto', 'a', 'mí', 'sin', \"cojone'\", 'lo', 'que', 'digan', 'tus', 'amigas', 'ya', 'yo', 'me', 'enteré,', 'se', 'nota', 'cuando', 'me', \"ve'\", 'ahí', 'donde', 'no', 'has', \"llegao'\", 'sabes', 'que', 'yo', 'te', 'llevaré', 'y', 'dime', 'qué', 'quieres', 'beber,', 'es', 'que', 'tú', 'eres', 'mi', 'bebé', '¿y', 'de', 'nosotros', 'quién', 'va', 'a', 'hablar?', 'si', 'no', 'nos', 'dejamos', 'ver', '(¿me', 'sigues?)', 'mami,', 'me', 'tienes', \"juqueao',\", 'sí', 'si', 'fueras', 'la', 'uru,', 'me', 'tuvieses', \"parqueao'\", 'dando', 'vueltas', 'por', 'condado,', 'contigo', 'siempre', \"arrebatao'\", 'tú', 'no', 'eres', 'mi', 'señora,', 'pero', 'toma', 'cinco', 'mil,', 'gástalo', 'en', 'sephora', 'louis', 'vuitton,', 'ya', 'no', 'compra', 'en', 'pandora', 'como', 'piercing', 'a', 'los', 'hombres', 'perfora,', 'eh-eh-eh', 'hace', 'tiempo', 'le', 'rompieron', 'el', 'cora', '(el', 'cora)', 'estudiosa,', 'puesta', \"pa'\", 'ser', 'doctora', '(doctora)', 'pero', '(pero),', 'le', 'gustan', 'los', 'títeres', 'wheeleando', 'motoras', '(motoras)', 'yo', 'estoy', \"pa'\", 'ti', 'las', 'veinticuatro', \"hora'\", 'baby,', 'a', 'ti', 'no', 'me', 'opongo', 'y', 'siempre', 'te', 'lo', 'pongo', '(-pre', 'te', 'lo', 'pongo)', 'y', 'si', 'tú', 'me', 'tiras,', \"vamo'\", 'a', 'nadar', 'en', 'lo', 'hondo', '(nadar', 'en', 'lo', 'hondo)', 'si', 'es', 'por', 'mí', 'te', 'lo', 'pongo', 'de', 'septiembre', 'hasta', 'agosto', 'y', 'a', 'mí', 'sin', \"cojone'\", 'lo', 'que', 'digan', 'tus', 'amigas', 'ya', 'yo', 'me', 'enteré,', 'se', 'nota', 'cuando', 'me', \"ve'\", 'ahí', 'donde', 'no', 'has', \"llegao'\", 'sabes', 'que', 'yo', 'te', 'llevaré', 'y', 'dime', 'qué', 'quieres', 'beber,', 'es', 'que', 'tú', 'eres', 'mi', 'bebé', '¿y', 'de', 'nosotros', 'quién', 'va', 'a', 'hablar?', 'si', 'no', 'nos', 'dejamos', 'ver', 'y', 'a', 'veces', 'es', 'dolce,', 'a', 'veces', 'bulgari', 'cuando', 'te', 'lo', 'quito', 'después', 'de', 'los', 'parties', 'las', 'copas', 'de', 'vino,', 'las', 'libras', 'de', 'mari', 'tú', 'estás', 'bien', 'suelta,', 'yo', 'de', 'safari', 'tú', \"mueve'\", 'el', 'culo', 'fenomenal', \"pa'\", 'yo', 'devorarte', 'como', 'animal', 'si', 'no', 'te', 'has', \"vení'o,\", 'yo', 'te', \"vo'\", 'a', 'esperar', 'en', 'mi', 'cama', 'y', 'lo', \"vo'\", 'a', 'celebrar']\n"
          ],
          "name": "stdout"
        }
      ]
    },
    {
      "cell_type": "markdown",
      "metadata": {
        "id": "6Wrmqj-TT-lk"
      },
      "source": [
        "Ahora eliminemos los signos de puntuación"
      ]
    },
    {
      "cell_type": "code",
      "metadata": {
        "colab": {
          "base_uri": "https://localhost:8080/"
        },
        "id": "XDJ5MUCPSqxq",
        "outputId": "34e083ab-aafe-4bcf-cee0-0301c992bf80"
      },
      "source": [
        "# Agregamos los simbolos usado en espanol\n",
        "signos_puntuacion = list(string.punctuation) + ['¡', '¿']\n",
        "\n",
        "def elimina_puntuacion(letra):\n",
        "  letra_limpia = [''.join(caracter for caracter in palabra if caracter not in signos_puntuacion) for palabra in letra] \n",
        "  return letra_limpia\n",
        "\n",
        "rdd_letras = rdd_letras.map(lambda x: (x[0], x[1], elimina_puntuacion(x[2])))\n",
        "\n",
        "for letra in rdd_letras.take(1):\n",
        "  print(letra[2])"
      ],
      "execution_count": null,
      "outputs": [
        {
          "output_type": "stream",
          "text": [
            "['baby', 'ya', 'yo', 'me', 'enteré', 'se', 'nota', 'cuando', 'me', 've', 'ahí', 'donde', 'no', 'has', 'llegao', 'sabes', 'que', 'yo', 'te', 'llevaré', 'y', 'dime', 'qué', 'quieres', 'beber', 'es', 'que', 'tú', 'eres', 'mi', 'bebé', 'y', 'de', 'nosotros', 'quién', 'va', 'a', 'hablar', 'si', 'no', 'nos', 'dejamos', 'ver', 'y', 'a', 'veces', 'es', 'dolce', 'a', 'veces', 'bulgari', 'cuando', 'te', 'lo', 'quito', 'después', 'de', 'los', 'parties', 'las', 'copas', 'de', 'vino', 'las', 'libras', 'de', 'mari', 'tú', 'estás', 'bien', 'suelta', 'yo', 'de', 'safari', 'tú', 'mueve', 'el', 'culo', 'fenomenal', 'pa', 'yo', 'devorarte', 'como', 'animal', 'si', 'no', 'te', 'has', 'venío', 'yo', 'te', 'vo', 'a', 'esperar', 'en', 'mi', 'cama', 'y', 'lo', 'vo', 'a', 'celebrar', 'baby', 'a', 'ti', 'no', 'me', 'opongo', 'y', 'siempre', 'te', 'lo', 'pongo', 'y', 'si', 'tú', 'me', 'tiras', 'vamo', 'a', 'nadar', 'en', 'lo', 'hondo', 'si', 'es', 'por', 'mí', 'te', 'lo', 'pongo', 'de', 'septiembre', 'hasta', 'agosto', 'a', 'mí', 'sin', 'cojone', 'lo', 'que', 'digan', 'tus', 'amigas', 'ya', 'yo', 'me', 'enteré', 'se', 'nota', 'cuando', 'me', 've', 'ahí', 'donde', 'no', 'has', 'llegao', 'sabes', 'que', 'yo', 'te', 'llevaré', 'y', 'dime', 'qué', 'quieres', 'beber', 'es', 'que', 'tú', 'eres', 'mi', 'bebé', 'y', 'de', 'nosotros', 'quién', 'va', 'a', 'hablar', 'si', 'no', 'nos', 'dejamos', 'ver', 'me', 'sigues', 'mami', 'me', 'tienes', 'juqueao', 'sí', 'si', 'fueras', 'la', 'uru', 'me', 'tuvieses', 'parqueao', 'dando', 'vueltas', 'por', 'condado', 'contigo', 'siempre', 'arrebatao', 'tú', 'no', 'eres', 'mi', 'señora', 'pero', 'toma', 'cinco', 'mil', 'gástalo', 'en', 'sephora', 'louis', 'vuitton', 'ya', 'no', 'compra', 'en', 'pandora', 'como', 'piercing', 'a', 'los', 'hombres', 'perfora', 'eheheh', 'hace', 'tiempo', 'le', 'rompieron', 'el', 'cora', 'el', 'cora', 'estudiosa', 'puesta', 'pa', 'ser', 'doctora', 'doctora', 'pero', 'pero', 'le', 'gustan', 'los', 'títeres', 'wheeleando', 'motoras', 'motoras', 'yo', 'estoy', 'pa', 'ti', 'las', 'veinticuatro', 'hora', 'baby', 'a', 'ti', 'no', 'me', 'opongo', 'y', 'siempre', 'te', 'lo', 'pongo', 'pre', 'te', 'lo', 'pongo', 'y', 'si', 'tú', 'me', 'tiras', 'vamo', 'a', 'nadar', 'en', 'lo', 'hondo', 'nadar', 'en', 'lo', 'hondo', 'si', 'es', 'por', 'mí', 'te', 'lo', 'pongo', 'de', 'septiembre', 'hasta', 'agosto', 'y', 'a', 'mí', 'sin', 'cojone', 'lo', 'que', 'digan', 'tus', 'amigas', 'ya', 'yo', 'me', 'enteré', 'se', 'nota', 'cuando', 'me', 've', 'ahí', 'donde', 'no', 'has', 'llegao', 'sabes', 'que', 'yo', 'te', 'llevaré', 'y', 'dime', 'qué', 'quieres', 'beber', 'es', 'que', 'tú', 'eres', 'mi', 'bebé', 'y', 'de', 'nosotros', 'quién', 'va', 'a', 'hablar', 'si', 'no', 'nos', 'dejamos', 'ver', 'y', 'a', 'veces', 'es', 'dolce', 'a', 'veces', 'bulgari', 'cuando', 'te', 'lo', 'quito', 'después', 'de', 'los', 'parties', 'las', 'copas', 'de', 'vino', 'las', 'libras', 'de', 'mari', 'tú', 'estás', 'bien', 'suelta', 'yo', 'de', 'safari', 'tú', 'mueve', 'el', 'culo', 'fenomenal', 'pa', 'yo', 'devorarte', 'como', 'animal', 'si', 'no', 'te', 'has', 'venío', 'yo', 'te', 'vo', 'a', 'esperar', 'en', 'mi', 'cama', 'y', 'lo', 'vo', 'a', 'celebrar']\n"
          ],
          "name": "stdout"
        }
      ]
    },
    {
      "cell_type": "markdown",
      "metadata": {
        "id": "1nih_d-HabTt"
      },
      "source": [
        "Eliminamos las *palabras vacías*"
      ]
    },
    {
      "cell_type": "code",
      "metadata": {
        "colab": {
          "base_uri": "https://localhost:8080/"
        },
        "id": "iIw7jYPgaaic",
        "outputId": "ed8024ab-3ae2-44fd-88ba-5d840342143b"
      },
      "source": [
        "palabras_vacias = nltk.corpus.stopwords.words('spanish') + ['']\n",
        "\n",
        "def quita_palabras_vacias(letra):\n",
        "  letra_limpia = [palabra for palabra in letra if palabra not in palabras_vacias]\n",
        "  return letra_limpia\n",
        "\n",
        "rdd_letras = rdd_letras.map(lambda x: (x[0], x[1], quita_palabras_vacias(x[2])))\n",
        "\n",
        "for letra in rdd_letras.take(1):\n",
        "  print(letra[2])"
      ],
      "execution_count": null,
      "outputs": [
        {
          "output_type": "stream",
          "text": [
            "['baby', 'enteré', 'nota', 've', 'ahí', 'llegao', 'sabes', 'llevaré', 'dime', 'quieres', 'beber', 'bebé', 'quién', 'va', 'hablar', 'si', 'dejamos', 'ver', 'veces', 'dolce', 'veces', 'bulgari', 'quito', 'después', 'parties', 'copas', 'vino', 'libras', 'mari', 'bien', 'suelta', 'safari', 'mueve', 'culo', 'fenomenal', 'pa', 'devorarte', 'animal', 'si', 'venío', 'vo', 'esperar', 'cama', 'vo', 'celebrar', 'baby', 'opongo', 'siempre', 'pongo', 'si', 'tiras', 'vamo', 'nadar', 'hondo', 'si', 'pongo', 'septiembre', 'agosto', 'cojone', 'digan', 'amigas', 'enteré', 'nota', 've', 'ahí', 'llegao', 'sabes', 'llevaré', 'dime', 'quieres', 'beber', 'bebé', 'quién', 'va', 'hablar', 'si', 'dejamos', 'ver', 'sigues', 'mami', 'juqueao', 'si', 'uru', 'parqueao', 'dando', 'vueltas', 'condado', 'contigo', 'siempre', 'arrebatao', 'señora', 'toma', 'cinco', 'mil', 'gástalo', 'sephora', 'louis', 'vuitton', 'compra', 'pandora', 'piercing', 'hombres', 'perfora', 'eheheh', 'hace', 'tiempo', 'rompieron', 'cora', 'cora', 'estudiosa', 'puesta', 'pa', 'ser', 'doctora', 'doctora', 'gustan', 'títeres', 'wheeleando', 'motoras', 'motoras', 'pa', 'veinticuatro', 'hora', 'baby', 'opongo', 'siempre', 'pongo', 'pre', 'pongo', 'si', 'tiras', 'vamo', 'nadar', 'hondo', 'nadar', 'hondo', 'si', 'pongo', 'septiembre', 'agosto', 'cojone', 'digan', 'amigas', 'enteré', 'nota', 've', 'ahí', 'llegao', 'sabes', 'llevaré', 'dime', 'quieres', 'beber', 'bebé', 'quién', 'va', 'hablar', 'si', 'dejamos', 'ver', 'veces', 'dolce', 'veces', 'bulgari', 'quito', 'después', 'parties', 'copas', 'vino', 'libras', 'mari', 'bien', 'suelta', 'safari', 'mueve', 'culo', 'fenomenal', 'pa', 'devorarte', 'animal', 'si', 'venío', 'vo', 'esperar', 'cama', 'vo', 'celebrar']\n"
          ],
          "name": "stdout"
        }
      ]
    },
    {
      "cell_type": "markdown",
      "metadata": {
        "id": "qiIV9ZUFZNH3"
      },
      "source": [
        "### 2.3.3 Palabras más usadas\n",
        "\n",
        "\n",
        "Ya con los datos limpios podemos hacer algunos análisis. Veamos cuales son las palabras más empleadas en las letras de las canciones\n"
      ]
    },
    {
      "cell_type": "code",
      "metadata": {
        "colab": {
          "base_uri": "https://localhost:8080/"
        },
        "id": "ucj0yI_0ZNXq",
        "outputId": "2ffa6a0f-c404-45f2-c352-e20b598e384c"
      },
      "source": [
        "rdd_palabras_histograma = rdd_letras.map(lambda x: [(palabra, 1) for palabra in x[2]]) \\\n",
        "                         .flatMap(lambda x: x) \\\n",
        "                         .reduceByKey(lambda a, b: a + b) \\\n",
        "                         .sortBy(lambda x: x[1], ascending = False)\n",
        "\n",
        "print (\"{:<10} {:<10}\".format('PALABRA', 'FRECUENCIA'))                     \n",
        "\n",
        "for palabra, frecuencia in rdd_palabras_histograma.take(30):\n",
        "  print (\"{:<10} {:<10}\".format(palabra, frecuencia))"
      ],
      "execution_count": null,
      "outputs": [
        {
          "output_type": "stream",
          "text": [
            "PALABRA    FRECUENCIA\n",
            "baila      60        \n",
            "si         52        \n",
            "pa         46        \n",
            "eh         46        \n",
            "baby       33        \n",
            "pumpum     20        \n",
            "ahora      19        \n",
            "ey         15        \n",
            "solo       15        \n",
            "prada      15        \n",
            "gucci      15        \n",
            "sigo       14        \n",
            "conmigo    14        \n",
            "yeah       14        \n",
            "oh         13        \n",
            "ver        12        \n",
            "noche      12        \n",
            "bien       11        \n",
            "encima     11        \n",
            "corazón    11        \n",
            "vez        11        \n",
            "tiempo     11        \n",
            "na         11        \n",
            "va         10        \n",
            "wuh        10        \n",
            "amor       10        \n",
            "pégate     10        \n",
            "ven        10        \n",
            "así        10        \n",
            "balenciaga 10        \n"
          ],
          "name": "stdout"
        }
      ]
    },
    {
      "cell_type": "markdown",
      "metadata": {
        "id": "w41G-2IZjMuZ"
      },
      "source": [
        "### 2.3.4 Análisis de sentimientos\n",
        "\n",
        "\n",
        "Usaremos la biblioteca `sentiment_analysis` para realizar el análisis de sentimiento de las letras de canciones. En la documentación menciona que se calcula la probabilidad de que el texto sea clasificado como positivo. Aunque se menciona que existe un rango entre 0 y 1 para los cuales el texto se considera neutro, dado que no se especifica dichos umbrales, en este caso solo clasificaremos las palabras entre positivas y negativas."
      ]
    },
    {
      "cell_type": "code",
      "metadata": {
        "colab": {
          "base_uri": "https://localhost:8080/",
          "height": 367
        },
        "id": "pESE4Qt1jMQK",
        "outputId": "d4bd7a5f-6675-40e9-ff30-3c58950f432c"
      },
      "source": [
        "sentiment = sentiment_analysis.SentimentAnalysisSpanish()\n",
        "\n",
        "def sentimiento(palabra):\n",
        "\n",
        "  prob = sentiment.sentiment(palabra)\n",
        "\n",
        "  if prob >= 0.5:\n",
        "    return 'positivo'\n",
        "  else:\n",
        "    return 'negativo'\n",
        "\n",
        "histograma_sentimientos = rdd_letras.flatMap(lambda x: x[2]) \\\n",
        "                                    .map(lambda x: (sentimiento(x), 1)) \\\n",
        "                                    .reduceByKey(lambda a, b: a + b) \\\n",
        "                                    .collect()\n",
        "\n",
        "sentimientos = [ sentimiento for (sentimiento, _) in histograma_sentimientos ]\n",
        "frecuencias = [ frecuencia for (_, frecuencia) in histograma_sentimientos ]\n",
        "plt.bar(sentimientos, frecuencias)\n",
        "plt.xlabel('Sentimientos')\n",
        "plt.ylabel('Numero de palabras')\n",
        "plt.show()"
      ],
      "execution_count": null,
      "outputs": [
        {
          "output_type": "stream",
          "text": [
            "/usr/local/lib/python3.7/dist-packages/sklearn/base.py:318: UserWarning: Trying to unpickle estimator CountVectorizer from version 0.23.2 when using version 0.22.2.post1. This might lead to breaking code or invalid results. Use at your own risk.\n",
            "  UserWarning)\n",
            "/usr/local/lib/python3.7/dist-packages/sklearn/base.py:318: UserWarning: Trying to unpickle estimator MultinomialNB from version 0.23.2 when using version 0.22.2.post1. This might lead to breaking code or invalid results. Use at your own risk.\n",
            "  UserWarning)\n"
          ],
          "name": "stderr"
        },
        {
          "output_type": "display_data",
          "data": {
            "image/png": "[encoded data removed]",
            "text/plain": [
              "<Figure size 432x288 with 1 Axes>"
            ]
          },
          "metadata": {
            "tags": [],
            "needs_background": "light"
          }
        }
      ]
    },
    {
      "cell_type": "markdown",
      "metadata": {
        "id": "dNNg2VMLxhY0"
      },
      "source": [
        "## Ejercicio\n",
        "\n",
        "Encuentre en cuales canciones se encuentra cada palabra. Es decir, calcule un RDD cuyos elementos sean `(palabra, (cancion_1, cancion_3))`.\n",
        "\n",
        "\n",
        "*Hint: Investigue la función flatMapValues*"
      ]
    }
  ]
}