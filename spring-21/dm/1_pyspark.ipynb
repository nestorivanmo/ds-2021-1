{
  "nbformat": 4,
  "nbformat_minor": 0,
  "metadata": {
    "colab": {
      "name": "1_pyspark_colab.ipynb",
      "provenance": [],
      "collapsed_sections": [],
      "include_colab_link": true
    },
    "kernelspec": {
      "name": "python3",
      "display_name": "Python 3"
    }
  },
  "cells": [
    {
      "cell_type": "markdown",
      "metadata": {
        "id": "view-in-github",
        "colab_type": "text"
      },
      "source": [
        "<a href=\"https://colab.research.google.com/github/gibranfp/CursoDatosMasivosI/blob/main/notebooks/2a_pyspark_colab.ipynb\" target=\"_parent\"><img src=\"https://colab.research.google.com/assets/colab-badge.svg\" alt=\"Open In Colab\"/></a>"
      ]
    },
    {
      "cell_type": "markdown",
      "metadata": {
        "id": "5I4qrFG9-Rvf"
      },
      "source": [
        "# 1. Primeros pasos\n",
        "\n",
        "En este notebook haremos una revisión de los conceptos básicos de Spark con Python.\n",
        "\n",
        "## 1.1 Introduccion\n",
        "\n",
        "### _¿Qué es Apache Spark?_\n",
        "\n",
        "Apache spark es un _framework_ de programación para el procesamiento de datos distribuidos (computacion en cluster) _open source_. Spark fue originalmente desarrolado por la Universidad de California Berkeley quien posteriomente donó el codigo del proyecto a la _Apache Software Foundation_, quien desde entonces se encarga de su mantenimiento.\n",
        "\n",
        "Spark proporciona APIs para ser empleado en conjunto con lenguajes de programación como Java, Python, Scala y R. Además, cuenta con herramientas para la realización de tareas de alto nivel como Spark SQL (para el procesamiento de datos estructurados basado en SQL), MLlib (para la implementación de modelos de aprendizaje máquina), GraphX (para el procesamiento de grafos), etc.\n",
        "\n",
        "### _¿Qué es PySpark?_\n",
        "\n",
        "PySpark es una herramienta que nos deja usar Spark encima de Python. Permitiendonos combinar el proceso de datos distribuidos de Spark con la simplicidad de Python para el análisis de conjuntos masivos de datos (_big data_).\n",
        "\n",
        "###¿Cómo usar PySpark en Google Colab?\n",
        "\n",
        "Instalar PySpark y usarlo dentro de un Jupyter notebooks requiere de un poco más que solo correr `pip install pyspark` en la terminal. Para tratar de darle la vuelta al problema de la instalación de nuestro entorno de programación usaremos Colab, que nos proprociona un entorno _más controlado_ en el cual podemos instalar las bibliotecas necesarias de una forma más facil.\n",
        "\n",
        "Sin embargo, si el lector requiere hacer una instalación de PySpark de forma local, los siguientes links pueden ser de ayuda:\n",
        "\n",
        "* [macOS](https://medium.com/@yajieli/installing-spark-pyspark-on-mac-and-fix-of-some-common-errors-355a9050f735)\n",
        "* [Windows](https://changhsinlee.com/install-pyspark-windows-jupyter/)\n",
        "* [Linux](https://py.plainenglish.io/apache-spark-using-jupyter-in-linux-installation-and-setup-b2cacc6c7701)\n",
        "\n",
        "\n",
        "En Colab podemos configurar nuestro ambiente de desarrollo simplemente ejecutando el contenido de la siguiente celda"
      ]
    },
    {
      "cell_type": "markdown",
      "metadata": {
        "id": "Yjwc-WFt-RKB"
      },
      "source": [
        ""
      ]
    },
    {
      "cell_type": "code",
      "metadata": {
        "id": "pSjTC8BUE3Dw"
      },
      "source": [
        "!pip install pyspark\n",
        "!pip install -U -q PyDrive\n",
        "!apt install openjdk-8-jdk-headless -qq\n",
        "import os\n",
        "os.environ[\"JAVA_HOME\"] = \"/usr/lib/jvm/java-8-openjdk-amd64\""
      ],
      "execution_count": null,
      "outputs": []
    },
    {
      "cell_type": "markdown",
      "metadata": {
        "id": "yIF2lMe4Iciv"
      },
      "source": [
        "Para empezar a hacer uso de PySpark es necesario crear una `SparkSession`, dicho objeto es el que nos permitira crear RDDs o DataFrames, que son los objetos con los que más estaremos trabajando"
      ]
    },
    {
      "cell_type": "code",
      "metadata": {
        "id": "lMl3Yv0SLl73"
      },
      "source": [
        "import pyspark\n",
        "# Carga ufnciones extra\n",
        "from pyspark.sql.functions import * \n",
        "from pyspark.sql import SparkSession\n",
        "spark = SparkSession.builder.appName('primeros_pasos').getOrCreate()"
      ],
      "execution_count": null,
      "outputs": []
    },
    {
      "cell_type": "markdown",
      "metadata": {
        "id": "mfXZwq0oLUFd"
      },
      "source": [
        "## 1.2 RDDs\n",
        "\n",
        "La forma más elemental de trabajar con datos en PySpark es haciendo uso de un RDD (_Resilient Distributed Dataset_), el cual nos da la capacidad de manejar los datos y realizar cálculos con ellos de forma distribuida en varios nodos de un cluster.\n",
        "\n",
        "Para realizar los ejemplos de este notebook haremos uso de una base de datos que cuenta con datos de los jugadores del juego FIFA20, dichos datos fueron tomados este [concurso de kaggle](https://www.kaggle.com/stefanoleone992/fifa-20-complete-player-dataset?select=players_20.csv) donde podrán encontrar una descripción detalalda de cada campo de la base datos.\n",
        "\n",
        "Podemos crear un RDD a partir de un archivo CSV de la siguiente manera"
      ]
    },
    {
      "cell_type": "code",
      "metadata": {
        "id": "rRSrQMP9LrVI"
      },
      "source": [
        "datos_crudos = spark.sparkContext.textFile('/content/drive/MyDrive/datos/players_20.csv')"
      ],
      "execution_count": null,
      "outputs": []
    },
    {
      "cell_type": "markdown",
      "metadata": {
        "id": "Tp3p6dp8Plw-"
      },
      "source": [
        "Una de las desventajas de los RDDs es que solo proveen a los datos de la estructura minima para poder trabajar con ellos. Imprimamos los primeros dos elementos del RDD para ver en que condicion se encuentran nuestros datos"
      ]
    },
    {
      "cell_type": "code",
      "metadata": {
        "colab": {
          "base_uri": "https://localhost:8080/"
        },
        "id": "jWknjfwxO_91",
        "outputId": "3b102eed-d919-45ba-9968-56e9adb169eb"
      },
      "source": [
        "for renglon in datos_crudos.take(2):\n",
        "  print(renglon)"
      ],
      "execution_count": null,
      "outputs": [
        {
          "output_type": "stream",
          "text": [
            "sofifa_id,player_url,short_name,long_name,age,dob,height_cm,weight_kg,nationality,club,overall,potential,value_eur,wage_eur,player_positions,preferred_foot,international_reputation,weak_foot,skill_moves,work_rate,body_type,real_face,release_clause_eur,player_tags,team_position,team_jersey_number,loaned_from,joined,contract_valid_until,nation_position,nation_jersey_number,pace,shooting,passing,dribbling,defending,physic,gk_diving,gk_handling,gk_kicking,gk_reflexes,gk_speed,gk_positioning,player_traits,attacking_crossing,attacking_finishing,attacking_heading_accuracy,attacking_short_passing,attacking_volleys,skill_dribbling,skill_curve,skill_fk_accuracy,skill_long_passing,skill_ball_control,movement_acceleration,movement_sprint_speed,movement_agility,movement_reactions,movement_balance,power_shot_power,power_jumping,power_stamina,power_strength,power_long_shots,mentality_aggression,mentality_interceptions,mentality_positioning,mentality_vision,mentality_penalties,mentality_composure,defending_marking,defending_standing_tackle,defending_sliding_tackle,goalkeeping_diving,goalkeeping_handling,goalkeeping_kicking,goalkeeping_positioning,goalkeeping_reflexes,ls,st,rs,lw,lf,cf,rf,rw,lam,cam,ram,lm,lcm,cm,rcm,rm,lwb,ldm,cdm,rdm,rwb,lb,lcb,cb,rcb,rb\n",
            "158023,https://sofifa.com/player/158023/lionel-messi/20/159586,L. Messi,Lionel Andrés Messi Cuccittini,32,1987-06-24,170,72,Argentina,FC Barcelona,94,94,95500000,565000,\"RW, CF, ST\",Left,5,4,4,Medium/Low,Messi,Yes,195800000,\"#Dribbler, #Distance Shooter, #Crosser, #FK Specialist, #Acrobat, #Clinical Finisher, #Complete Forward\",RW,10,,2004-07-01,2021,,,87,92,92,96,39,66,,,,,,,\"Beat Offside Trap, Argues with Officials, Early Crosser, Finesse Shot, Speed Dribbler (CPU AI Only), 1-on-1 Rush, Giant Throw-in, Outside Foot Shot\",88,95,70,92,88,97,93,94,92,96,91,84,93,95,95,86,68,75,68,94,48,40,94,94,75,96,33,37,26,6,11,15,14,8,89+2,89+2,89+2,93+2,93+2,93+2,93+2,93+2,93+2,93+2,93+2,92+2,87+2,87+2,87+2,92+2,68+2,66+2,66+2,66+2,68+2,63+2,52+2,52+2,52+2,63+2\n"
          ],
          "name": "stdout"
        }
      ]
    },
    {
      "cell_type": "markdown",
      "metadata": {
        "id": "lwCX1zSRSMai"
      },
      "source": [
        "Como podemos ver, los elementos del RDD son solo los renglones del archivo CSV sin formato. Siendo el primer elemento los nombres de los campos de la base de datos, el mantener a los nombres de los campos como valores dentro del RDD puede derivar en problemas más adelante, así que por el momento los removeremos para quedarnos solamente con los valores "
      ]
    },
    {
      "cell_type": "code",
      "metadata": {
        "id": "O5yQp5WJPlHF"
      },
      "source": [
        "# Guarda el primer elemento \n",
        "columnas = datos_crudos.take(1)[0]\n",
        "# Guarda en todos los elementos de datos_crudos menos el primero correspondiente a las columnas\n",
        "datos_crudos = datos_crudos.filter(lambda renglon : renglon != columnas)"
      ],
      "execution_count": null,
      "outputs": []
    },
    {
      "cell_type": "markdown",
      "metadata": {
        "id": "8P_QkkkIVbb4"
      },
      "source": [
        "Ahora podemos darle un poco más de estructura a nuestros datos. Primero separemos los campos de cada renglon, sabiendo que estan separados por comas, y quedandonos con solo un subconjunto de dichos campos, digamos... su nombre, edad, estatura, peso, nacionalidad, equipo y su ranking. Para esto definamos la siguiente función "
      ]
    },
    {
      "cell_type": "code",
      "metadata": {
        "id": "2Asjjc04WQ2Z"
      },
      "source": [
        "def separar_campos(renglon):\n",
        "    renglon_separado = renglon.split(',')\n",
        "    # Extrae los campos que queremos\n",
        "    nombre = str(renglon_separado[2])\n",
        "    edad = int(renglon_separado[4])\n",
        "    estatura = int(renglon_separado[6])\n",
        "    peso = int(renglon_separado[7])\n",
        "    nacionalidad = str(renglon_separado[8])\n",
        "    equipo = str(renglon_separado[9])\n",
        "    rank = int(renglon_separado[10])\n",
        "\n",
        "    return (nombre, edad, estatura, peso, nacionalidad, equipo, rank)"
      ],
      "execution_count": null,
      "outputs": []
    },
    {
      "cell_type": "markdown",
      "metadata": {
        "id": "ehISG4EqYFMM"
      },
      "source": [
        "aplicamos dicha función a cada renglon"
      ]
    },
    {
      "cell_type": "code",
      "metadata": {
        "colab": {
          "base_uri": "https://localhost:8080/"
        },
        "id": "T55MB0DOYBez",
        "outputId": "0aaf4718-ba6a-430c-df9d-28f012e45809"
      },
      "source": [
        "rdd_fifa = datos_crudos.map(separar_campos)\n",
        "\n",
        "# Imprimimos una muestra de los datos\n",
        "for renglon in rdd_fifa.take(5):\n",
        "  print(renglon)"
      ],
      "execution_count": null,
      "outputs": [
        {
          "output_type": "stream",
          "text": [
            "('L. Messi', 32, 170, 72, 'Argentina', 'FC Barcelona', 94)\n",
            "('Cristiano Ronaldo', 34, 187, 83, 'Portugal', 'Juventus', 93)\n",
            "('Neymar Jr', 27, 175, 68, 'Brazil', 'Paris Saint-Germain', 92)\n",
            "('J. Oblak', 26, 188, 87, 'Slovenia', 'Atlético Madrid', 91)\n",
            "('E. Hazard', 28, 175, 74, 'Belgium', 'Real Madrid', 91)\n"
          ],
          "name": "stdout"
        }
      ]
    },
    {
      "cell_type": "markdown",
      "metadata": {
        "id": "NPZzyVn-gIiA"
      },
      "source": [
        "Hasta ahora, hemos realizado diferentes operaciones sobre nuestro RDD para poder darle un formato más tratable a los datos que contiene. Sin embargo, no hemos detallado nada sobre la naturaleza de dichas operaciones. Enfoquemonos ahora en hacer más explícitos estos detalles.\n",
        "\n",
        "Existen dos operaciones básicas que pueden ser aplicadas a los RDD:\n",
        "\n",
        "* Acciones: Son operaciones que accionan la realización de cálculos y regresan valores explícitos del RDD.\n",
        "\n",
        "* Transformaciones: Son operaciones que devuelven otro RDD. Este tipo de operaciones no se ejecutan como tal sino hasta que es llamada una acción. Por esta razón se dice que las transformaciones son de evaluacion peresoza (_lazy evaluation_).\n",
        "\n",
        "En el caso de la celda anterior, `map()` es una transformación que aplica la función dada a los elementos del RDD y `take()` es la acción que nos devuelve los $n$ primeros elementos.\n",
        "\n",
        "Veamos más ejemplos. Podríamos querer saber cuantos jugadores existen por país en la base de datos. Para lograr esto primero necesitamos convertir nuestros datos en pares `(key, value)`, donde la `key`será el pais y el `value` nos indicará que ese registro pertenece a un jugador de dicho país \n",
        "\n"
      ]
    },
    {
      "cell_type": "code",
      "metadata": {
        "id": "srCZYt27gH1U"
      },
      "source": [
        "# Nos quedamos solo con la entrada corresponiente al país\n",
        "rdd_nacionalidades = rdd_fifa.map(lambda renglon: (renglon[4], 1))"
      ],
      "execution_count": null,
      "outputs": []
    },
    {
      "cell_type": "markdown",
      "metadata": {
        "id": "Bf-dyGRn7djA"
      },
      "source": [
        "Usando los países como llaves y la transfromación llamada reduceByKey, sumaremos todos los valores para cada país."
      ]
    },
    {
      "cell_type": "code",
      "metadata": {
        "id": "xAUonweh7c83"
      },
      "source": [
        "rdd_nacionalidades = rdd_nacionalidades.reduceByKey(lambda val_1 , val_2: val_1 + val_2)"
      ],
      "execution_count": null,
      "outputs": []
    },
    {
      "cell_type": "markdown",
      "metadata": {
        "id": "NA7wsJTC8__2"
      },
      "source": [
        "Hasta el momento hemos usado las transformaciones `map()` y `reduceByKey()`, para obtener resultados necesitamos efectuar una acción, en este caso usaremos la acción `collect()`, que nos devuelve todo el contenido del RDD. Esta acción debe usarse con cuidado, en casos donde el RDD contenga una gran cantidad de registros, cargar todo el contenido del RDD puede dejar al sistema sin memoria."
      ]
    },
    {
      "cell_type": "code",
      "metadata": {
        "id": "ZYcUOpWcYWcF",
        "colab": {
          "base_uri": "https://localhost:8080/"
        },
        "outputId": "69bc8593-2f85-4a71-e172-bd35c9c4c305"
      },
      "source": [
        "resultados = rdd_nacionalidades.collect()\n",
        "\n",
        "for renglon in resultados[:10]:\n",
        "  print(renglon)"
      ],
      "execution_count": null,
      "outputs": [
        {
          "output_type": "stream",
          "text": [
            "('Argentina', 886)\n",
            "('Portugal', 344)\n",
            "('Brazil', 824)\n",
            "('Slovenia', 61)\n",
            "('Belgium', 268)\n",
            "('Netherlands', 416)\n",
            "('France', 984)\n",
            "('Uruguay', 164)\n",
            "('Poland', 324)\n",
            "('Denmark', 345)\n"
          ],
          "name": "stdout"
        }
      ]
    },
    {
      "cell_type": "markdown",
      "metadata": {
        "id": "Uu_hQGTF-hXA"
      },
      "source": [
        "Aunque los resultados obtenidos son buenos, sería interesante poder ordenar a los paises por la cantidad de jugadores. En la siguiente celda imprimimos los 10 países con más jugadores registrados en el juego de FIFA20"
      ]
    },
    {
      "cell_type": "code",
      "metadata": {
        "colab": {
          "base_uri": "https://localhost:8080/"
        },
        "id": "47srtRiu-fkd",
        "outputId": "8fb96884-14ec-4e51-ceed-f92e1919f340"
      },
      "source": [
        "# Pedimos que ordene por total de jugadores\n",
        "rdd_nacionalidades = rdd_nacionalidades.sortBy(lambda renglon: renglon[1], ascending = False)\n",
        "\n",
        "print (\"{:<12} {:<15}\".format('PAIS', 'TOTAL JUGADORES'))\n",
        "\n",
        "for renglon in rdd_nacionalidades.take(10):\n",
        "  pais = renglon[0]\n",
        "  total_jugadores = renglon[1]\n",
        "  \n",
        "  print (\"{:<12} {:<15}\".format(pais, total_jugadores))"
      ],
      "execution_count": null,
      "outputs": [
        {
          "output_type": "stream",
          "text": [
            "PAIS         TOTAL JUGADORES\n",
            "England      1667           \n",
            "Germany      1216           \n",
            "Spain        1035           \n",
            "France       984            \n",
            "Argentina    886            \n",
            "Brazil       824            \n",
            "Italy        732            \n",
            "Colombia     591            \n",
            "Japan        453            \n",
            "Netherlands  416            \n"
          ],
          "name": "stdout"
        }
      ]
    },
    {
      "cell_type": "markdown",
      "metadata": {
        "id": "IEDQwFaNBOuo"
      },
      "source": [
        "Además de las transformaciones y acciones empleadas aquí existen muchas más, sin embargo, los ejemplos expuestos aqui pueden ayudar al lector a familiarizarse con su uso.\n",
        "\n",
        "Como el lector habrá notado, aunque los RDDs nos proveen de la capacidad de manipular y hacer calculos con datos distribuidos, éstos carecen de las funcionalidades y la estructura que tienen herramientas de un poco más alto nivel, como los DataFrame de Pandas, para el manejo de datos. \n",
        "\n",
        "En PySpark existe un tipo de objetos, igual llamados DataFrames, los cuales nos ayudan a dotar a nuestros datos con más funcionalidades y estructura, en comparación a los RDDs, al mismo tiempo que seguir trabajando de forma distribuida con ellos. Por esta razon, procederemos a dar una introducción a los DataFrames de PySpark que son los entes con los cuales más trabajaremos a lo largo del curso.\n",
        "\n",
        "## 1.3 DataFrames\n",
        "\n",
        "A diferencia de los RDDs, los DataFrames nos permiten estructurar a una collección de datos distribuidos en forma de tabla (con columnas y filas).\n",
        "\n",
        "Podemos crear un DataFrame a partir de un archivo CSV de la siguiente manera"
      ]
    },
    {
      "cell_type": "code",
      "metadata": {
        "id": "wgePY_jV7OoP"
      },
      "source": [
        "df_fifa = spark.read.csv('/content/drive/MyDrive/datos/players_20.csv', header = True, inferSchema = True)"
      ],
      "execution_count": null,
      "outputs": []
    },
    {
      "cell_type": "markdown",
      "metadata": {
        "id": "JjENB1WFLXzF"
      },
      "source": [
        "Para efectos de este tutorial no haremos uso de todos los campos de la base de datos, seleccionemos solo un subconjunto. Para esto usaremos la función `select()`, la cual devuelve un DataFrame con solo las columnas seleccionadas."
      ]
    },
    {
      "cell_type": "code",
      "metadata": {
        "id": "07rvHkzWLUa1"
      },
      "source": [
        "df_fifa = df_fifa.select('short_name','age', 'height_cm', 'weight_kg', 'nationality', 'club', 'value_eur', 'preferred_foot')"
      ],
      "execution_count": null,
      "outputs": []
    },
    {
      "cell_type": "markdown",
      "metadata": {
        "id": "OT5i4WJ0kT8V"
      },
      "source": [
        "Notece que, dada la estructrua que el DataFrame da a los datos, podemos hacer referencia a las columnas por su nombre en el archivo CSV.\n",
        "\n",
        "### 1.3.1 Visualizar datos\n",
        "\n",
        "Algo que es de vital importancia a la hora de manejar datos es poder visualizar, al menos, una pequeña muestra de éstos. Aquí algunas opciones.\n"
      ]
    },
    {
      "cell_type": "code",
      "metadata": {
        "colab": {
          "base_uri": "https://localhost:8080/"
        },
        "id": "j9BnB9UNkYgR",
        "outputId": "15cdb328-095e-4136-b5c6-424a05c028bc"
      },
      "source": [
        "df_fifa.show(5)"
      ],
      "execution_count": null,
      "outputs": [
        {
          "output_type": "stream",
          "text": [
            "+-----------------+---+---------+---------+-----------+-------------------+---------+--------------+\n",
            "|       short_name|age|height_cm|weight_kg|nationality|               club|value_eur|preferred_foot|\n",
            "+-----------------+---+---------+---------+-----------+-------------------+---------+--------------+\n",
            "|         L. Messi| 32|      170|       72|  Argentina|       FC Barcelona| 95500000|          Left|\n",
            "|Cristiano Ronaldo| 34|      187|       83|   Portugal|           Juventus| 58500000|         Right|\n",
            "|        Neymar Jr| 27|      175|       68|     Brazil|Paris Saint-Germain|105500000|         Right|\n",
            "|         J. Oblak| 26|      188|       87|   Slovenia|    Atlético Madrid| 77500000|         Right|\n",
            "|        E. Hazard| 28|      175|       74|    Belgium|        Real Madrid| 90000000|         Right|\n",
            "+-----------------+---+---------+---------+-----------+-------------------+---------+--------------+\n",
            "only showing top 5 rows\n",
            "\n"
          ],
          "name": "stdout"
        }
      ]
    },
    {
      "cell_type": "markdown",
      "metadata": {
        "id": "eOHx2IiXk-_O"
      },
      "source": [
        "Si el contenido del DataFrame es lo suficientemente pequeño podemos transformar su contenido a un DataFrame de Pandas."
      ]
    },
    {
      "cell_type": "code",
      "metadata": {
        "colab": {
          "base_uri": "https://localhost:8080/",
          "height": 204
        },
        "id": "wGn4cOiwkYdq",
        "outputId": "d41f6f90-9ecd-47dd-d02f-b130433928fa"
      },
      "source": [
        "df_pequeño = df_fifa.limit(10)\n",
        "df_pandas = df_pequeño.toPandas()\n",
        "df_pandas.head(5)"
      ],
      "execution_count": null,
      "outputs": [
        {
          "output_type": "execute_result",
          "data": {
            "text/html": [
              "<div>\n",
              "<style scoped>\n",
              "    .dataframe tbody tr th:only-of-type {\n",
              "        vertical-align: middle;\n",
              "    }\n",
              "\n",
              "    .dataframe tbody tr th {\n",
              "        vertical-align: top;\n",
              "    }\n",
              "\n",
              "    .dataframe thead th {\n",
              "        text-align: right;\n",
              "    }\n",
              "</style>\n",
              "<table border=\"1\" class=\"dataframe\">\n",
              "  <thead>\n",
              "    <tr style=\"text-align: right;\">\n",
              "      <th></th>\n",
              "      <th>short_name</th>\n",
              "      <th>age</th>\n",
              "      <th>height_cm</th>\n",
              "      <th>weight_kg</th>\n",
              "      <th>nationality</th>\n",
              "      <th>club</th>\n",
              "      <th>value_eur</th>\n",
              "      <th>preferred_foot</th>\n",
              "    </tr>\n",
              "  </thead>\n",
              "  <tbody>\n",
              "    <tr>\n",
              "      <th>0</th>\n",
              "      <td>L. Messi</td>\n",
              "      <td>32</td>\n",
              "      <td>170</td>\n",
              "      <td>72</td>\n",
              "      <td>Argentina</td>\n",
              "      <td>FC Barcelona</td>\n",
              "      <td>95500000</td>\n",
              "      <td>Left</td>\n",
              "    </tr>\n",
              "    <tr>\n",
              "      <th>1</th>\n",
              "      <td>Cristiano Ronaldo</td>\n",
              "      <td>34</td>\n",
              "      <td>187</td>\n",
              "      <td>83</td>\n",
              "      <td>Portugal</td>\n",
              "      <td>Juventus</td>\n",
              "      <td>58500000</td>\n",
              "      <td>Right</td>\n",
              "    </tr>\n",
              "    <tr>\n",
              "      <th>2</th>\n",
              "      <td>Neymar Jr</td>\n",
              "      <td>27</td>\n",
              "      <td>175</td>\n",
              "      <td>68</td>\n",
              "      <td>Brazil</td>\n",
              "      <td>Paris Saint-Germain</td>\n",
              "      <td>105500000</td>\n",
              "      <td>Right</td>\n",
              "    </tr>\n",
              "    <tr>\n",
              "      <th>3</th>\n",
              "      <td>J. Oblak</td>\n",
              "      <td>26</td>\n",
              "      <td>188</td>\n",
              "      <td>87</td>\n",
              "      <td>Slovenia</td>\n",
              "      <td>Atlético Madrid</td>\n",
              "      <td>77500000</td>\n",
              "      <td>Right</td>\n",
              "    </tr>\n",
              "    <tr>\n",
              "      <th>4</th>\n",
              "      <td>E. Hazard</td>\n",
              "      <td>28</td>\n",
              "      <td>175</td>\n",
              "      <td>74</td>\n",
              "      <td>Belgium</td>\n",
              "      <td>Real Madrid</td>\n",
              "      <td>90000000</td>\n",
              "      <td>Right</td>\n",
              "    </tr>\n",
              "  </tbody>\n",
              "</table>\n",
              "</div>"
            ],
            "text/plain": [
              "          short_name  age  ...  value_eur  preferred_foot\n",
              "0           L. Messi   32  ...   95500000            Left\n",
              "1  Cristiano Ronaldo   34  ...   58500000           Right\n",
              "2          Neymar Jr   27  ...  105500000           Right\n",
              "3           J. Oblak   26  ...   77500000           Right\n",
              "4          E. Hazard   28  ...   90000000           Right\n",
              "\n",
              "[5 rows x 8 columns]"
            ]
          },
          "metadata": {
            "tags": []
          },
          "execution_count": 15
        }
      ]
    },
    {
      "cell_type": "markdown",
      "metadata": {
        "id": "kN3QyOrGl--I"
      },
      "source": [
        "Con Spark podemos concatenar las operaciones de la celda pasada de la siguiente forma."
      ]
    },
    {
      "cell_type": "code",
      "metadata": {
        "colab": {
          "base_uri": "https://localhost:8080/",
          "height": 204
        },
        "id": "r6xFxR8rHpcj",
        "outputId": "a8b4087c-cbff-4075-f741-a1ea9e794c7c"
      },
      "source": [
        "df_fifa.limit(10).toPandas().head(5)"
      ],
      "execution_count": null,
      "outputs": [
        {
          "output_type": "execute_result",
          "data": {
            "text/html": [
              "<div>\n",
              "<style scoped>\n",
              "    .dataframe tbody tr th:only-of-type {\n",
              "        vertical-align: middle;\n",
              "    }\n",
              "\n",
              "    .dataframe tbody tr th {\n",
              "        vertical-align: top;\n",
              "    }\n",
              "\n",
              "    .dataframe thead th {\n",
              "        text-align: right;\n",
              "    }\n",
              "</style>\n",
              "<table border=\"1\" class=\"dataframe\">\n",
              "  <thead>\n",
              "    <tr style=\"text-align: right;\">\n",
              "      <th></th>\n",
              "      <th>short_name</th>\n",
              "      <th>age</th>\n",
              "      <th>height_cm</th>\n",
              "      <th>weight_kg</th>\n",
              "      <th>nationality</th>\n",
              "      <th>club</th>\n",
              "      <th>value_eur</th>\n",
              "      <th>preferred_foot</th>\n",
              "    </tr>\n",
              "  </thead>\n",
              "  <tbody>\n",
              "    <tr>\n",
              "      <th>0</th>\n",
              "      <td>L. Messi</td>\n",
              "      <td>32</td>\n",
              "      <td>170</td>\n",
              "      <td>72</td>\n",
              "      <td>Argentina</td>\n",
              "      <td>FC Barcelona</td>\n",
              "      <td>95500000</td>\n",
              "      <td>Left</td>\n",
              "    </tr>\n",
              "    <tr>\n",
              "      <th>1</th>\n",
              "      <td>Cristiano Ronaldo</td>\n",
              "      <td>34</td>\n",
              "      <td>187</td>\n",
              "      <td>83</td>\n",
              "      <td>Portugal</td>\n",
              "      <td>Juventus</td>\n",
              "      <td>58500000</td>\n",
              "      <td>Right</td>\n",
              "    </tr>\n",
              "    <tr>\n",
              "      <th>2</th>\n",
              "      <td>Neymar Jr</td>\n",
              "      <td>27</td>\n",
              "      <td>175</td>\n",
              "      <td>68</td>\n",
              "      <td>Brazil</td>\n",
              "      <td>Paris Saint-Germain</td>\n",
              "      <td>105500000</td>\n",
              "      <td>Right</td>\n",
              "    </tr>\n",
              "    <tr>\n",
              "      <th>3</th>\n",
              "      <td>J. Oblak</td>\n",
              "      <td>26</td>\n",
              "      <td>188</td>\n",
              "      <td>87</td>\n",
              "      <td>Slovenia</td>\n",
              "      <td>Atlético Madrid</td>\n",
              "      <td>77500000</td>\n",
              "      <td>Right</td>\n",
              "    </tr>\n",
              "    <tr>\n",
              "      <th>4</th>\n",
              "      <td>E. Hazard</td>\n",
              "      <td>28</td>\n",
              "      <td>175</td>\n",
              "      <td>74</td>\n",
              "      <td>Belgium</td>\n",
              "      <td>Real Madrid</td>\n",
              "      <td>90000000</td>\n",
              "      <td>Right</td>\n",
              "    </tr>\n",
              "  </tbody>\n",
              "</table>\n",
              "</div>"
            ],
            "text/plain": [
              "          short_name  age  ...  value_eur  preferred_foot\n",
              "0           L. Messi   32  ...   95500000            Left\n",
              "1  Cristiano Ronaldo   34  ...   58500000           Right\n",
              "2          Neymar Jr   27  ...  105500000           Right\n",
              "3           J. Oblak   26  ...   77500000           Right\n",
              "4          E. Hazard   28  ...   90000000           Right\n",
              "\n",
              "[5 rows x 8 columns]"
            ]
          },
          "metadata": {
            "tags": []
          },
          "execution_count": 16
        }
      ]
    },
    {
      "cell_type": "markdown",
      "metadata": {
        "id": "vCirceeqoMMM"
      },
      "source": [
        "Aunque para ayudar a la legibilidad del codigo es comun separar las lineas largas asi"
      ]
    },
    {
      "cell_type": "code",
      "metadata": {
        "colab": {
          "base_uri": "https://localhost:8080/",
          "height": 204
        },
        "id": "7-k3y5ZFoTgh",
        "outputId": "26d2b48b-afa6-4955-88dd-b88e951bd999"
      },
      "source": [
        "df_fifa.limit(10) \\\n",
        "  .toPandas() \\\n",
        "  .head(5)"
      ],
      "execution_count": null,
      "outputs": [
        {
          "output_type": "execute_result",
          "data": {
            "text/html": [
              "<div>\n",
              "<style scoped>\n",
              "    .dataframe tbody tr th:only-of-type {\n",
              "        vertical-align: middle;\n",
              "    }\n",
              "\n",
              "    .dataframe tbody tr th {\n",
              "        vertical-align: top;\n",
              "    }\n",
              "\n",
              "    .dataframe thead th {\n",
              "        text-align: right;\n",
              "    }\n",
              "</style>\n",
              "<table border=\"1\" class=\"dataframe\">\n",
              "  <thead>\n",
              "    <tr style=\"text-align: right;\">\n",
              "      <th></th>\n",
              "      <th>short_name</th>\n",
              "      <th>age</th>\n",
              "      <th>height_cm</th>\n",
              "      <th>weight_kg</th>\n",
              "      <th>nationality</th>\n",
              "      <th>club</th>\n",
              "      <th>value_eur</th>\n",
              "      <th>preferred_foot</th>\n",
              "    </tr>\n",
              "  </thead>\n",
              "  <tbody>\n",
              "    <tr>\n",
              "      <th>0</th>\n",
              "      <td>L. Messi</td>\n",
              "      <td>32</td>\n",
              "      <td>170</td>\n",
              "      <td>72</td>\n",
              "      <td>Argentina</td>\n",
              "      <td>FC Barcelona</td>\n",
              "      <td>95500000</td>\n",
              "      <td>Left</td>\n",
              "    </tr>\n",
              "    <tr>\n",
              "      <th>1</th>\n",
              "      <td>Cristiano Ronaldo</td>\n",
              "      <td>34</td>\n",
              "      <td>187</td>\n",
              "      <td>83</td>\n",
              "      <td>Portugal</td>\n",
              "      <td>Juventus</td>\n",
              "      <td>58500000</td>\n",
              "      <td>Right</td>\n",
              "    </tr>\n",
              "    <tr>\n",
              "      <th>2</th>\n",
              "      <td>Neymar Jr</td>\n",
              "      <td>27</td>\n",
              "      <td>175</td>\n",
              "      <td>68</td>\n",
              "      <td>Brazil</td>\n",
              "      <td>Paris Saint-Germain</td>\n",
              "      <td>105500000</td>\n",
              "      <td>Right</td>\n",
              "    </tr>\n",
              "    <tr>\n",
              "      <th>3</th>\n",
              "      <td>J. Oblak</td>\n",
              "      <td>26</td>\n",
              "      <td>188</td>\n",
              "      <td>87</td>\n",
              "      <td>Slovenia</td>\n",
              "      <td>Atlético Madrid</td>\n",
              "      <td>77500000</td>\n",
              "      <td>Right</td>\n",
              "    </tr>\n",
              "    <tr>\n",
              "      <th>4</th>\n",
              "      <td>E. Hazard</td>\n",
              "      <td>28</td>\n",
              "      <td>175</td>\n",
              "      <td>74</td>\n",
              "      <td>Belgium</td>\n",
              "      <td>Real Madrid</td>\n",
              "      <td>90000000</td>\n",
              "      <td>Right</td>\n",
              "    </tr>\n",
              "  </tbody>\n",
              "</table>\n",
              "</div>"
            ],
            "text/plain": [
              "          short_name  age  ...  value_eur  preferred_foot\n",
              "0           L. Messi   32  ...   95500000            Left\n",
              "1  Cristiano Ronaldo   34  ...   58500000           Right\n",
              "2          Neymar Jr   27  ...  105500000           Right\n",
              "3           J. Oblak   26  ...   77500000           Right\n",
              "4          E. Hazard   28  ...   90000000           Right\n",
              "\n",
              "[5 rows x 8 columns]"
            ]
          },
          "metadata": {
            "tags": []
          },
          "execution_count": 17
        }
      ]
    },
    {
      "cell_type": "markdown",
      "metadata": {
        "id": "G2jnkfmWm8ZF"
      },
      "source": [
        "Para poder revisar la organización de nuestro DataFrame y el `data tpye` de cada campo podemos usar lo siguiente"
      ]
    },
    {
      "cell_type": "code",
      "metadata": {
        "colab": {
          "base_uri": "https://localhost:8080/"
        },
        "id": "LAzRBEivHsCB",
        "outputId": "237d7ae1-40fa-4a88-e2ab-7ef6a1a5b7b3"
      },
      "source": [
        "df_fifa.printSchema()"
      ],
      "execution_count": null,
      "outputs": [
        {
          "output_type": "stream",
          "text": [
            "root\n",
            " |-- short_name: string (nullable = true)\n",
            " |-- age: integer (nullable = true)\n",
            " |-- height_cm: integer (nullable = true)\n",
            " |-- weight_kg: integer (nullable = true)\n",
            " |-- nationality: string (nullable = true)\n",
            " |-- club: string (nullable = true)\n",
            " |-- value_eur: integer (nullable = true)\n",
            " |-- preferred_foot: string (nullable = true)\n",
            "\n"
          ],
          "name": "stdout"
        }
      ]
    },
    {
      "cell_type": "markdown",
      "metadata": {
        "id": "APZaMeqBo6WD"
      },
      "source": [
        "### 1.3.2 Funciones\n",
        "\n",
        "#### **Renombar columnas**\n",
        "\n",
        "Podemos cambiar el nombre de alguna columna "
      ]
    },
    {
      "cell_type": "code",
      "metadata": {
        "colab": {
          "base_uri": "https://localhost:8080/"
        },
        "id": "hABROE3UIVLL",
        "outputId": "347e1564-b9a6-476d-c320-6ebc6bae0ea8"
      },
      "source": [
        "df_fifa.withColumnRenamed('value_eur','valor_euros').show(5)"
      ],
      "execution_count": null,
      "outputs": [
        {
          "output_type": "stream",
          "text": [
            "+-----------------+---+---------+---------+-----------+-------------------+-----------+--------------+\n",
            "|       short_name|age|height_cm|weight_kg|nationality|               club|valor_euros|preferred_foot|\n",
            "+-----------------+---+---------+---------+-----------+-------------------+-----------+--------------+\n",
            "|         L. Messi| 32|      170|       72|  Argentina|       FC Barcelona|   95500000|          Left|\n",
            "|Cristiano Ronaldo| 34|      187|       83|   Portugal|           Juventus|   58500000|         Right|\n",
            "|        Neymar Jr| 27|      175|       68|     Brazil|Paris Saint-Germain|  105500000|         Right|\n",
            "|         J. Oblak| 26|      188|       87|   Slovenia|    Atlético Madrid|   77500000|         Right|\n",
            "|        E. Hazard| 28|      175|       74|    Belgium|        Real Madrid|   90000000|         Right|\n",
            "+-----------------+---+---------+---------+-----------+-------------------+-----------+--------------+\n",
            "only showing top 5 rows\n",
            "\n"
          ],
          "name": "stdout"
        }
      ]
    },
    {
      "cell_type": "markdown",
      "metadata": {
        "id": "xrOQ_s-wQKRc"
      },
      "source": [
        "Notemos que la llamada a la función no afectara al DataFrame `df_fifa`, para conservar los cambios efectuados debemos guardar la salida de la función en otro DataFrame"
      ]
    },
    {
      "cell_type": "code",
      "metadata": {
        "colab": {
          "base_uri": "https://localhost:8080/"
        },
        "id": "iHIJ26f2QJwq",
        "outputId": "2bd49c80-ed7e-4909-b295-8097cc1bf6e7"
      },
      "source": [
        "df_ejemplo = df_fifa.withColumnRenamed('value_eur','valor_euros')\n",
        "df_ejemplo.show(5)"
      ],
      "execution_count": null,
      "outputs": [
        {
          "output_type": "stream",
          "text": [
            "+-----------------+---+---------+---------+-----------+-------------------+-----------+--------------+\n",
            "|       short_name|age|height_cm|weight_kg|nationality|               club|valor_euros|preferred_foot|\n",
            "+-----------------+---+---------+---------+-----------+-------------------+-----------+--------------+\n",
            "|         L. Messi| 32|      170|       72|  Argentina|       FC Barcelona|   95500000|          Left|\n",
            "|Cristiano Ronaldo| 34|      187|       83|   Portugal|           Juventus|   58500000|         Right|\n",
            "|        Neymar Jr| 27|      175|       68|     Brazil|Paris Saint-Germain|  105500000|         Right|\n",
            "|         J. Oblak| 26|      188|       87|   Slovenia|    Atlético Madrid|   77500000|         Right|\n",
            "|        E. Hazard| 28|      175|       74|    Belgium|        Real Madrid|   90000000|         Right|\n",
            "+-----------------+---+---------+---------+-----------+-------------------+-----------+--------------+\n",
            "only showing top 5 rows\n",
            "\n"
          ],
          "name": "stdout"
        }
      ]
    },
    {
      "cell_type": "markdown",
      "metadata": {
        "id": "YqvHmHakpAPX"
      },
      "source": [
        "#### **Descartar columnas**\n",
        "\n",
        "Tambien podemos descartar columnas\n"
      ]
    },
    {
      "cell_type": "code",
      "metadata": {
        "colab": {
          "base_uri": "https://localhost:8080/"
        },
        "id": "0MZh0ORXp2XR",
        "outputId": "0f0a8d3b-9cee-4cfd-a470-721dc835e411"
      },
      "source": [
        "df_fifa.drop('weight_kg').show(5)"
      ],
      "execution_count": null,
      "outputs": [
        {
          "output_type": "stream",
          "text": [
            "+-----------------+---+---------+-----------+-------------------+---------+--------------+\n",
            "|       short_name|age|height_cm|nationality|               club|value_eur|preferred_foot|\n",
            "+-----------------+---+---------+-----------+-------------------+---------+--------------+\n",
            "|         L. Messi| 32|      170|  Argentina|       FC Barcelona| 95500000|          Left|\n",
            "|Cristiano Ronaldo| 34|      187|   Portugal|           Juventus| 58500000|         Right|\n",
            "|        Neymar Jr| 27|      175|     Brazil|Paris Saint-Germain|105500000|         Right|\n",
            "|         J. Oblak| 26|      188|   Slovenia|    Atlético Madrid| 77500000|         Right|\n",
            "|        E. Hazard| 28|      175|    Belgium|        Real Madrid| 90000000|         Right|\n",
            "+-----------------+---+---------+-----------+-------------------+---------+--------------+\n",
            "only showing top 5 rows\n",
            "\n"
          ],
          "name": "stdout"
        }
      ]
    },
    {
      "cell_type": "markdown",
      "metadata": {
        "id": "Y5u2j1LR1qSy"
      },
      "source": [
        "#### **Ordenar**\n",
        "\n",
        "Podemos ordenar a los jugadores por su valor en euros\n"
      ]
    },
    {
      "cell_type": "code",
      "metadata": {
        "colab": {
          "base_uri": "https://localhost:8080/"
        },
        "id": "FUjfcbvO1vAo",
        "outputId": "399de6dc-1417-4818-b42d-d87c03a82df6"
      },
      "source": [
        "df_fifa.orderBy('value_eur', ascending = False).show(5)"
      ],
      "execution_count": null,
      "outputs": [
        {
          "output_type": "stream",
          "text": [
            "+------------+---+---------+---------+-----------+-------------------+---------+--------------+\n",
            "|  short_name|age|height_cm|weight_kg|nationality|               club|value_eur|preferred_foot|\n",
            "+------------+---+---------+---------+-----------+-------------------+---------+--------------+\n",
            "|   Neymar Jr| 27|      175|       68|     Brazil|Paris Saint-Germain|105500000|         Right|\n",
            "|    L. Messi| 32|      170|       72|  Argentina|       FC Barcelona| 95500000|          Left|\n",
            "|   K. Mbappé| 20|      178|       73|     France|Paris Saint-Germain| 93500000|         Right|\n",
            "|K. De Bruyne| 28|      181|       70|    Belgium|    Manchester City| 90000000|         Right|\n",
            "|   E. Hazard| 28|      175|       74|    Belgium|        Real Madrid| 90000000|         Right|\n",
            "+------------+---+---------+---------+-----------+-------------------+---------+--------------+\n",
            "only showing top 5 rows\n",
            "\n"
          ],
          "name": "stdout"
        }
      ]
    },
    {
      "cell_type": "markdown",
      "metadata": {
        "id": "Zt1AiJeL6Krw"
      },
      "source": [
        "#### **Filtrado con `where()`**\n",
        "\n",
        "con la funcion `where()` podemos hacer un filtrado de nuestros datos. Por ejemplo, podemos querer tener solo la informacion de los jugadores mayores a 30 años"
      ]
    },
    {
      "cell_type": "code",
      "metadata": {
        "colab": {
          "base_uri": "https://localhost:8080/"
        },
        "id": "0wFdqVFs6J8b",
        "outputId": "f07fed80-1dd0-49e0-d06b-23fb4506281f"
      },
      "source": [
        "df_fifa.where(df_ejemplo.age > 30).show(5)"
      ],
      "execution_count": null,
      "outputs": [
        {
          "output_type": "stream",
          "text": [
            "+-----------------+---+---------+---------+-----------+---------------+---------+--------------+\n",
            "|       short_name|age|height_cm|weight_kg|nationality|           club|value_eur|preferred_foot|\n",
            "+-----------------+---+---------+---------+-----------+---------------+---------+--------------+\n",
            "|         L. Messi| 32|      170|       72|  Argentina|   FC Barcelona| 95500000|          Left|\n",
            "|Cristiano Ronaldo| 34|      187|       83|   Portugal|       Juventus| 58500000|         Right|\n",
            "|        L. Modrić| 33|      172|       66|    Croatia|    Real Madrid| 45000000|         Right|\n",
            "|     G. Chiellini| 34|      187|       85|      Italy|       Juventus| 24500000|          Left|\n",
            "|        S. Agüero| 31|      173|       70|  Argentina|Manchester City| 60000000|         Right|\n",
            "+-----------------+---+---------+---------+-----------+---------------+---------+--------------+\n",
            "only showing top 5 rows\n",
            "\n"
          ],
          "name": "stdout"
        }
      ]
    },
    {
      "cell_type": "markdown",
      "metadata": {
        "id": "jRhFkPqp7AuL"
      },
      "source": [
        "tal vez quisieramos solo ver la informacion de los jugadores del Liverpool que tuviera mas de 30 años de edad"
      ]
    },
    {
      "cell_type": "code",
      "metadata": {
        "colab": {
          "base_uri": "https://localhost:8080/"
        },
        "id": "Z2I0csFE7M9_",
        "outputId": "1fbabfb6-08e7-4023-c43c-db16c6a728cb"
      },
      "source": [
        "df_fifa.where((df_ejemplo.age > 30) & (df_ejemplo.club == 'Liverpool')).show(5)"
      ],
      "execution_count": null,
      "outputs": [
        {
          "output_type": "stream",
          "text": [
            "+-----------+---+---------+---------+-----------+---------+---------+--------------+\n",
            "| short_name|age|height_cm|weight_kg|nationality|     club|value_eur|preferred_foot|\n",
            "+-----------+---+---------+---------+-----------+---------+---------+--------------+\n",
            "|  J. Milner| 33|      175|       70|    England|Liverpool| 10500000|         Right|\n",
            "| A. Lallana| 31|      178|       73|    England|Liverpool| 11000000|         Right|\n",
            "|     Adrián| 32|      190|       80|      Spain|Liverpool|  4700000|         Right|\n",
            "|A. Lonergan| 35|      192|       87|    England|Liverpool|   150000|          Left|\n",
            "+-----------+---+---------+---------+-----------+---------+---------+--------------+\n",
            "\n"
          ],
          "name": "stdout"
        }
      ]
    },
    {
      "cell_type": "markdown",
      "metadata": {
        "id": "KnFEi8EB9kat"
      },
      "source": [
        "#### **Funciones de agregación y `groupBy()`**\n",
        "\n",
        "Supongamos que queremos saber el costo total en euros de un equipo, lograríamos dicho objetivo sumando el valor de los jugadores de cada equipo. Esto lo podemos lograr usando la funcion `groupBy()` en conjunto con algunas funciones de agregación de la siguiente manera"
      ]
    },
    {
      "cell_type": "code",
      "metadata": {
        "colab": {
          "base_uri": "https://localhost:8080/"
        },
        "id": "vG3np8fP-T3g",
        "outputId": "3031f42e-5bf3-402e-c8ad-a6ceb43b517a"
      },
      "source": [
        "df_fifa.groupBy('Club').sum('value_eur').show(5)"
      ],
      "execution_count": null,
      "outputs": [
        {
          "output_type": "stream",
          "text": [
            "+--------------------+--------------+\n",
            "|                Club|sum(value_eur)|\n",
            "+--------------------+--------------+\n",
            "|       Côte d'Ivoire|             0|\n",
            "|          Göztepe SK|      43065000|\n",
            "|CD Everton de Viñ...|      18075000|\n",
            "|     Shonan Bellmare|       1410000|\n",
            "|        Salford City|       7905000|\n",
            "+--------------------+--------------+\n",
            "only showing top 5 rows\n",
            "\n"
          ],
          "name": "stdout"
        }
      ]
    },
    {
      "cell_type": "markdown",
      "metadata": {
        "id": "D9pKUE52-wgx"
      },
      "source": [
        "si quisieramos saber cuales son los 5 equipos mas caros hariamos lo siguiente"
      ]
    },
    {
      "cell_type": "code",
      "metadata": {
        "colab": {
          "base_uri": "https://localhost:8080/"
        },
        "id": "N2pZHl4G-8Vi",
        "outputId": "fd41e0fe-7676-4793-deda-3f749bb32848"
      },
      "source": [
        "df_fifa.groupBy('club') \\\n",
        "  .sum('value_eur') \\\n",
        "  .orderBy('sum(value_eur)', ascending = False) \\\n",
        "  .show(5)"
      ],
      "execution_count": null,
      "outputs": [
        {
          "output_type": "stream",
          "text": [
            "+---------------+--------------+\n",
            "|           club|sum(value_eur)|\n",
            "+---------------+--------------+\n",
            "|    Real Madrid|     897850000|\n",
            "|   FC Barcelona|     869300000|\n",
            "|Manchester City|     845745000|\n",
            "|       Juventus|     735475000|\n",
            "|      Liverpool|     693265000|\n",
            "+---------------+--------------+\n",
            "only showing top 5 rows\n",
            "\n"
          ],
          "name": "stdout"
        }
      ]
    },
    {
      "cell_type": "markdown",
      "metadata": {
        "id": "Dg1PB0RXBagV"
      },
      "source": [
        "Si quisieramos usar más de una función de agregación tendriamos que hacer lo siguiente"
      ]
    },
    {
      "cell_type": "code",
      "metadata": {
        "colab": {
          "base_uri": "https://localhost:8080/"
        },
        "id": "kyf7fPraBiXt",
        "outputId": "a66c8c3b-3663-4975-ddd5-9f9db6d680d2"
      },
      "source": [
        "df_fifa.groupBy('club') \\\n",
        "  .agg(sum('value_eur').alias('valor_total'), \\\n",
        "       mean('age').alias('edad_promedio'))\\\n",
        "  .orderBy('valor_total', ascending = False) \\\n",
        "  .show(5)    "
      ],
      "execution_count": null,
      "outputs": [
        {
          "output_type": "stream",
          "text": [
            "+---------------+-----------+------------------+\n",
            "|           club|valor_total|     edad_promedio|\n",
            "+---------------+-----------+------------------+\n",
            "|    Real Madrid|  897850000| 24.90909090909091|\n",
            "|   FC Barcelona|  869300000|24.060606060606062|\n",
            "|Manchester City|  845745000|24.333333333333332|\n",
            "|       Juventus|  735475000|              27.0|\n",
            "|      Liverpool|  693265000|24.484848484848484|\n",
            "+---------------+-----------+------------------+\n",
            "only showing top 5 rows\n",
            "\n"
          ],
          "name": "stdout"
        }
      ]
    },
    {
      "cell_type": "markdown",
      "metadata": {
        "id": "kDFHSDKop3Ym"
      },
      "source": [
        "#### **Crear nuevas columnas**\n",
        "\n",
        "Podemos crear columnas a partir de los valores de otras, por ejemplo, podríamos querer obtener el valor de los jugadores en pesos."
      ]
    },
    {
      "cell_type": "code",
      "metadata": {
        "colab": {
          "base_uri": "https://localhost:8080/"
        },
        "id": "cnJ5k8CErlJ-",
        "outputId": "b154a55a-7f52-48db-fd94-bc1efd729342"
      },
      "source": [
        "df_fifa.withColumn('valor_pesos', df_fifa.value_eur * 25.2).show(5)"
      ],
      "execution_count": null,
      "outputs": [
        {
          "output_type": "stream",
          "text": [
            "+-----------------+---+---------+---------+-----------+-------------------+---------+--------------+-----------+\n",
            "|       short_name|age|height_cm|weight_kg|nationality|               club|value_eur|preferred_foot|valor_pesos|\n",
            "+-----------------+---+---------+---------+-----------+-------------------+---------+--------------+-----------+\n",
            "|         L. Messi| 32|      170|       72|  Argentina|       FC Barcelona| 95500000|          Left|   2.4066E9|\n",
            "|Cristiano Ronaldo| 34|      187|       83|   Portugal|           Juventus| 58500000|         Right|   1.4742E9|\n",
            "|        Neymar Jr| 27|      175|       68|     Brazil|Paris Saint-Germain|105500000|         Right|   2.6586E9|\n",
            "|         J. Oblak| 26|      188|       87|   Slovenia|    Atlético Madrid| 77500000|         Right|    1.953E9|\n",
            "|        E. Hazard| 28|      175|       74|    Belgium|        Real Madrid| 90000000|         Right|    2.268E9|\n",
            "+-----------------+---+---------+---------+-----------+-------------------+---------+--------------+-----------+\n",
            "only showing top 5 rows\n",
            "\n"
          ],
          "name": "stdout"
        }
      ]
    },
    {
      "cell_type": "markdown",
      "metadata": {
        "id": "Hw_Z2CXXSY9H"
      },
      "source": [
        "#### Muchas funciones a la vez\n",
        "\n",
        "Si quisieramos saber"
      ]
    },
    {
      "cell_type": "markdown",
      "metadata": {
        "id": "07Q23nYhzd4z"
      },
      "source": [
        "## 1.3.3 Consultas SQL\n",
        "\n",
        "El lector que esté familiarizado con SQL habrá notado que existe cierta similaridad entre las funciones de los DataFrames de PySpark con algunas sentencias de SQL. Este paralelismo llega a tal grado que podemos reemplazar la concatenación de varias funciones con una simple consulta SQL. Por ejemplo, si quisieramos consultar de nuevo cuales son los 5 equipos más caros, solo que esta vez haciendo una consulta SQL, haríamos los siguiente\n",
        "\n",
        "\n",
        "\n"
      ]
    },
    {
      "cell_type": "code",
      "metadata": {
        "colab": {
          "base_uri": "https://localhost:8080/"
        },
        "id": "nXvtExonE9JC",
        "outputId": "fb919fd1-afca-4b78-f87e-f926915005c5"
      },
      "source": [
        "# Le dice a spark que guarde este DataFrame como una tabla SQL\n",
        "df_fifa.registerTempTable('FIFA20')\n",
        "\n",
        "consulta = '''\n",
        "  SELECT club, SUM(value_eur) AS valor_total \n",
        "  FROM FIFA20\n",
        "  GROUP BY club\n",
        "  ORDER BY valor_total DESC\n",
        "  '''\n",
        "\n",
        "spark.sql(consulta).show(5)"
      ],
      "execution_count": null,
      "outputs": [
        {
          "output_type": "stream",
          "text": [
            "+---------------+-----------+\n",
            "|           club|valor_total|\n",
            "+---------------+-----------+\n",
            "|    Real Madrid|  897850000|\n",
            "|   FC Barcelona|  869300000|\n",
            "|Manchester City|  845745000|\n",
            "|       Juventus|  735475000|\n",
            "|      Liverpool|  693265000|\n",
            "+---------------+-----------+\n",
            "only showing top 5 rows\n",
            "\n"
          ],
          "name": "stdout"
        }
      ]
    },
    {
      "cell_type": "markdown",
      "metadata": {
        "id": "7zaddvyDUM6f"
      },
      "source": [
        "Si el lector no está familiarizado con SQL puede referirse a [esta](https://www.w3schools.com/sql/default.asp) y a [esta](https://sqlzoo.net/) fuente. "
      ]
    }
  ]
}