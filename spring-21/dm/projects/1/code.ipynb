{
 "metadata": {
  "language_info": {
   "codemirror_mode": {
    "name": "ipython",
    "version": 3
   },
   "file_extension": ".py",
   "mimetype": "text/x-python",
   "name": "python",
   "nbconvert_exporter": "python",
   "pygments_lexer": "ipython3",
   "version": "3.8.5-final"
  },
  "orig_nbformat": 2,
  "kernelspec": {
   "name": "python3",
   "display_name": "Python 3.8.5 64-bit",
   "metadata": {
    "interpreter": {
     "hash": "916dbcbb3f70747c44a77c7bcd40155683ae19c65e1c03b4aa3499c5328201f1"
    }
   }
  }
 },
 "nbformat": 4,
 "nbformat_minor": 2,
 "cells": [
  {
   "cell_type": "code",
   "execution_count": 1,
   "metadata": {},
   "outputs": [],
   "source": [
    "from pyspark import SparkContext, SparkConf\n",
    "from pyspark.sql.functions import *\n",
    "from pyspark.sql import SparkSession\n",
    "import re\n",
    "import numpy as np\n",
    "from pyspark.sql.functions import monotonically_increasing_id"
   ]
  },
  {
   "source": [
    "## 5. Calcular el peso tf-idf para cada palabra, bigrama y trigrama"
   ],
   "cell_type": "markdown",
   "metadata": {}
  },
  {
   "source": [
    "### Build corpus"
   ],
   "cell_type": "markdown",
   "metadata": {}
  },
  {
   "cell_type": "code",
   "execution_count": 2,
   "metadata": {},
   "outputs": [],
   "source": [
    "def build_corpus(path, sc, ngram, sample_size=None):\n",
    "    original_rdd = sc.textFile(path)\n",
    "    if sample_size is None: \n",
    "        return original_rdd.map(build_document)\n",
    "    sample_list = original_rdd.takeSample(False, sample_size)\n",
    "    corpus_rdd = sc.parallelize(sample_list)\n",
    "    if ngram == 'n':\n",
    "        corpus_rdd = corpus_rdd.map(build_document)\n",
    "    elif ngram == 'bi':\n",
    "        corpus_rdd = corpus_rdd.map(build_document).map(filter_bigram)\n",
    "    elif ngram == 'tri':\n",
    "        corpus_rdd = corpus_rdd.map(build_document).map(filter_trigram)\n",
    "    else:\n",
    "        raise Exception(f\"Incorrect option: \\'{ngram}\\'. Valid options are \\'n\\' for whole words, \\'bi\\' for bigrams and \\'tri\\' for trigram.\")\n",
    "    return (sample_list, corpus_rdd)\n",
    "\n",
    "def build_document(row):\n",
    "    document = row.strip().lower().replace(\"\\\"\", ' ').replace(r\"\\n\", ' ').replace(\"<br />\", ' ').replace(\"-\", '').replace(\"/\", ' ').replace(\"<br>\", ' ').replace(\"..\", ' ').replace(\"?\", \" \").split('\\\" , \\\"')[0]\n",
    "    document = re.sub('[^A-Za-z0-9 ]+', '', document).strip().split(' ')\n",
    "    found_empty_spaces_in = lambda word: False if word == '' or word == ' ' else True\n",
    "    document = list(word for word in document if found_empty_spaces_in(word))\n",
    "    #Ignoring Yahoo! Answer's 'category' field\n",
    "    document = document[1:]\n",
    "    return document\n",
    "\n",
    "def filter_bigram(document):\n",
    "    return list(x[:2] for x in document if len(x) >= 2)\n",
    "\n",
    "def filter_trigram(document):\n",
    "    document = list(gram for gram in document if len(gram) >= 3)\n",
    "    return list(x[:3] for x in document)"
   ]
  },
  {
   "source": [
    "### Inverse Document Frequency (IDF)\n",
    "\n",
    "$$\\text{idf}(t,D) = \\log\\frac{N}{|\\{d\\in D: t\\in d\\}|}$$\n",
    "\n",
    "- término $t$\n",
    "- corpus $D$\n",
    "- documento $d$\n",
    "- $N$: tamaño del corpus\n",
    "- $|\\{d\\in D: t\\in d\\}|$: número de documentos en los cuales aparece $t$"
   ],
   "cell_type": "markdown",
   "metadata": {}
  },
  {
   "cell_type": "code",
   "execution_count": 3,
   "metadata": {},
   "outputs": [],
   "source": [
    "def build_idf_dict(rdd, corpus_size):\n",
    "    idf_per_word_rdd = rdd.map(lambda x: [(word, 1) for word in x]) \\\n",
    "    .flatMap(lambda x: x) \\\n",
    "        .reduceByKey(lambda a, b: a + b) \\\n",
    "            .mapValues(lambda word_count : np.log(corpus_size / word_count))\n",
    "    idf_dict = dict()\n",
    "    for word, idf in idf_per_word_rdd.collect():\n",
    "        idf_dict[word] = idf\n",
    "    return (idf_dict, idf_per_word_rdd)"
   ]
  },
  {
   "source": [
    "### Term Frequency (TF)\n",
    "\n",
    "$$\\text{tf}(t,d) = \\frac{f_{t,d}}{|d|}$$\n",
    "\n",
    "- término $t$\n",
    "- documento $d$\n",
    "- $f_{t,d}$: frecuencia de $t$ en $d$, i.e., el número de veces que aparecer $t$ en $d$\n",
    "- $|d|$: cantidad de términos contenidos en $d$"
   ],
   "cell_type": "markdown",
   "metadata": {}
  },
  {
   "cell_type": "code",
   "execution_count": 4,
   "metadata": {},
   "outputs": [],
   "source": [
    "def count_words(document):\n",
    "    counted_words = dict()\n",
    "    elements = [(word, 1) for word in document]\n",
    "    for word, count in elements:\n",
    "        if word in counted_words:\n",
    "            t = counted_words[word]\n",
    "            counted_words[word] = (t[0], t[1] + 1)\n",
    "        else:\n",
    "            counted_words[word] = (word, count)\n",
    "    return list(counted_words.values())\n",
    "\n",
    "def build_tf(rdd, idf_dict):\n",
    "    word_freq_rdd = rdd.map(count_words)\n",
    "    tf_rdd = word_freq_rdd.map(lambda document: [(word, np.round(word_freq/len(document),5)) for word, word_freq in document])\n",
    "    return (tf_rdd, word_freq_rdd)"
   ]
  },
  {
   "source": [
    "### Auxiliary functions"
   ],
   "cell_type": "markdown",
   "metadata": {}
  },
  {
   "cell_type": "code",
   "execution_count": 5,
   "metadata": {},
   "outputs": [],
   "source": [
    "def verbose_corpus(rdd, original_rdd_list, sample_size):\n",
    "    print(\"-------------------------------------------\")\n",
    "    print(\"|                                         |\")\n",
    "    print(\"|                Corpus                   |\")\n",
    "    print(\"|                                         |\")\n",
    "    print(\"-------------------------------------------\")    \n",
    "    for idx, document in enumerate(rdd.take(sample_size)):\n",
    "        print(f\"Index: {idx} \\t Length: {len(document)}\")\n",
    "        print(\"-----------------------------------------\")\n",
    "        if original_rdd_list is None:\n",
    "            print(f\"Cleaned doc: \\n{document}\\n\\n\")\n",
    "            continue\n",
    "        print(f\"Original doc: \\n{original_rdd_list[idx]}\\n\\nCleaned doc: \\n{document}\\n\\n\")\n",
    "\n",
    "def verbose_idf(rdd, idf_dict, sample_size):\n",
    "    print(\"\\n\\n-------------------------------------------\")\n",
    "    print(\"|                                         |\")\n",
    "    print(\"|       Inverse Document Frequency        |\")\n",
    "    print(\"|                                         |\")\n",
    "    print(\"-------------------------------------------\")\n",
    "    rdd = rdd.sortBy(lambda x: x[1], ascending=False)\n",
    "    print(\"Término ------------ IDF\\n\")\n",
    "    for el in rdd.take(sample_size//3):\n",
    "        print(el, end=\"\\n\\n\")\n",
    "\n",
    "def verbose_tf(rdd, word_freq_rdd, original_rdd, sample_size):\n",
    "    print(\"\\n\\n-------------------------------------------\")\n",
    "    print(\"|                                         |\")\n",
    "    print(\"|              Term Frequency             |\")\n",
    "    print(\"|                                         |\")\n",
    "    print(\"-------------------------------------------\")\n",
    "    wf_rdd = word_freq_rdd.take(num_documents)\n",
    "    for idx, element in enumerate(rdd.take(sample_size)):\n",
    "        print(f\"Index: {idx} \\tWords: {len(element)}\\n--------------------------------\")\n",
    "        print(f\"Original:\\n\\n{original_rdd[idx]}\\n\")\n",
    "        print(f\"Word frequency: \\n\\n{wf_rdd[idx]}\\n\")\n",
    "        print(f\"Term Frequency:\\n\")\n",
    "        print(element)\n",
    "        print(\"\\n\\n\")\n",
    "\n",
    "def verbose_tfidf(rdd, sample_size):\n",
    "    print(\"\\n\\n-------------------------------------------\")\n",
    "    print(\"|                                         |\")\n",
    "    print(\"|                   TFIDF                 |\")\n",
    "    print(\"|        (ngram, (doc_id, tfidf, ...))    |\")\n",
    "    print(\"|                                         |\")\n",
    "    print(\"-------------------------------------------\")\n",
    "    for document in rdd:\n",
    "        print(document, end='\\n')"
   ]
  },
  {
   "source": [
    "### Term Frequency Inverse Document Frequency\n",
    "\n",
    "$$\\text{tfidf}(t, d, D) = \\text{tf}(t, d) \\cdot \\text{idf}(t, D)$$"
   ],
   "cell_type": "markdown",
   "metadata": {}
  },
  {
   "cell_type": "code",
   "execution_count": 6,
   "metadata": {},
   "outputs": [],
   "source": [
    "idf_dict = dict()\n",
    "def tfidf_weight(path, sc, ngram, sample_size=None, verbose=False):\n",
    "    \"\"\"\n",
    "    Obtains the term frequency inverse document frequency (tfidf) for each term inside a dataset\n",
    "\n",
    "    Parameters:\n",
    "    -----------\n",
    "    path: Spark's Resilient Distributed Dataset (RDD) path\n",
    "\n",
    "    sc: Spark's SparkContext object\n",
    "\n",
    "    ngram: str\n",
    "        String describing if the tfidf value should be obtained in a complete word, bigram or trigram. \n",
    "        Accepted strings: 'n'    <- whole word\n",
    "                          'bi'   <- bigram\n",
    "                          'tri'  <- trigram\n",
    "\n",
    "    sample_size: double\n",
    "        Represents either the sample percentaje (number between 0 and 1 inclusive) or a fixed number\n",
    "        of elements for the analysis to take. Default is 'None' and represents the whole RDD.\n",
    "\n",
    "    Returns:\n",
    "    --------\n",
    "    tfidf_rdd: Spark's Resilient Distributed Dataset (RDD)\n",
    "        RDD with the following format: \n",
    "            [   \n",
    "                ...,\n",
    "                (ti, [..., (dj, tfidf_ti_dj),...]),\n",
    "                ...\n",
    "            ]\n",
    "        where ti is an ith term, dj is a jth document and tfidf_ti is the tfidf value for term i and document j\n",
    "    \"\"\"\n",
    "    #0: Build Corpus\n",
    "    sample_size = sample_size if type(sample_size) is int else int(sample_size*rdd.count())\n",
    "    (original_rdd, rdd) = build_corpus(path, sc, ngram, sample_size)\n",
    "    if verbose: verbose_corpus(rdd, original_rdd, 3)\n",
    "    #1: Inverse Document Frequency IDF\n",
    "    global idf_dict\n",
    "    (idf_dict, idf_per_word_rdd) = build_idf_dict(rdd, sample_size)\n",
    "    if verbose: verbose_idf(idf_per_word_rdd, idf_dict, sample_size)\n",
    "    #2: Term Frequency TF\n",
    "    (rdd, word_freq_rdd) = build_tf(rdd, idf_dict)\n",
    "    if verbose: verbose_tf(rdd, word_freq_rdd, original_rdd, 3)\n",
    "    #3: TFIDF\n",
    "    tfidf_rdd = rdd.map(build_tfidf) \\\n",
    "    .map(add_document_id) \\\n",
    "        .map(lambda x: [(word, (x[0], tfidf)) for word, tfidf in x[1]]) \\\n",
    "            .flatMap(lambda x: x) \\\n",
    "                .reduceByKey(lambda a, b: a + b) \\\n",
    "                    .sortBy(lambda x: len(x[1])) \\\n",
    "                        .collect()\n",
    "    if verbose: verbose_tfidf(tfidf_rdd, sample_size)\n",
    "    return tfidf_rdd\n",
    "\n",
    "def build_tfidf(document):\n",
    "    # x[0] <- term\n",
    "    # x[1] <- tf for term t\n",
    "    # idf_dict[x[0]] <- idf for term t\n",
    "    global idf_dict\n",
    "    tfidf = lambda x: (x[0], np.round(x[1]*idf_dict[x[0]], 5))\n",
    "    return list(map(tfidf, document))\n",
    "\n",
    "doc_id = 0\n",
    "def add_document_id(document):\n",
    "    global doc_id\n",
    "    doc_id += 1\n",
    "    return (doc_id, document)"
   ]
  },
  {
   "source": [
    "## Palabras"
   ],
   "cell_type": "markdown",
   "metadata": {}
  },
  {
   "cell_type": "code",
   "execution_count": 7,
   "metadata": {},
   "outputs": [],
   "source": [
    "conf = SparkConf().setAppName('yahoo_answers_project').setMaster('local')\n",
    "sc = SparkContext(conf=conf)\n",
    "dataset_path = './yahoo_answers_csv/train.csv'\n",
    "num_documents = 100"
   ]
  },
  {
   "cell_type": "code",
   "execution_count": 8,
   "metadata": {},
   "outputs": [
    {
     "output_type": "stream",
     "name": "stdout",
     "text": [
      "-------------------------------------------\n",
      "|                                         |\n",
      "|                Corpus                   |\n",
      "|                                         |\n",
      "-------------------------------------------\n",
      "Index: 0 \t Length: 103\n",
      "-----------------------------------------\n",
      "Original doc: \n",
      "\"1\",\"Gay Men and Butts?\",\"So, I am just wondering, why do gay men like dudes butts do much? Do they actually look at butts? or do they just need somewhere to fuck??  Do gay men find a mans butt more attractive then straight men find a womens butt attractive?\",\"Saying gay men like butts is like saying all men like womens butts...\\n\\nEveryone of them has diffrent things they find most atractive in another man.\\n\\nTrust me.. I know enugh gay people to know they don't have a big thing over butts... most don't... most are more obessed with whats around front... lol\"\n",
      "\n",
      "Cleaned doc: \n",
      "['gay', 'men', 'and', 'butts', 'so', 'i', 'am', 'just', 'wondering', 'why', 'do', 'gay', 'men', 'like', 'dudes', 'butts', 'do', 'much', 'do', 'they', 'actually', 'look', 'at', 'butts', 'or', 'do', 'they', 'just', 'need', 'somewhere', 'to', 'fuck', 'do', 'gay', 'men', 'find', 'a', 'mans', 'butt', 'more', 'attractive', 'then', 'straight', 'men', 'find', 'a', 'womens', 'butt', 'attractive', 'saying', 'gay', 'men', 'like', 'butts', 'is', 'like', 'saying', 'all', 'men', 'like', 'womens', 'butts', 'everyone', 'of', 'them', 'has', 'diffrent', 'things', 'they', 'find', 'most', 'atractive', 'in', 'another', 'man', 'trust', 'me', 'i', 'know', 'enugh', 'gay', 'people', 'to', 'know', 'they', 'dont', 'have', 'a', 'big', 'thing', 'over', 'butts', 'most', 'dont', 'most', 'are', 'more', 'obessed', 'with', 'whats', 'around', 'front', 'lol']\n",
      "\n",
      "\n",
      "Index: 1 \t Length: 104\n",
      "-----------------------------------------\n",
      "Original doc: \n",
      "\"5\",\"I am looking for  a site with free pets in the NEPA area or the border of NY.  Know of any?\",\"I am looking for a site with free pets in the NEPA area or lower NY near the NEPA border.  Anyone know of any?\",\"You can check with the local SPCAs (many have Web sites) or actually look in your local yellow pages - but the best option may be to look for adoption sites for specific breeds (like greyhounds) where there are lots of dogs who are no longer used for their original purpose (racing) but now are looking for homes.  Good luck!\"\n",
      "\n",
      "Cleaned doc: \n",
      "['i', 'am', 'looking', 'for', 'a', 'site', 'with', 'free', 'pets', 'in', 'the', 'nepa', 'area', 'or', 'the', 'border', 'of', 'ny', 'know', 'of', 'any', 'i', 'am', 'looking', 'for', 'a', 'site', 'with', 'free', 'pets', 'in', 'the', 'nepa', 'area', 'or', 'lower', 'ny', 'near', 'the', 'nepa', 'border', 'anyone', 'know', 'of', 'any', 'you', 'can', 'check', 'with', 'the', 'local', 'spcas', 'many', 'have', 'web', 'sites', 'or', 'actually', 'look', 'in', 'your', 'local', 'yellow', 'pages', 'but', 'the', 'best', 'option', 'may', 'be', 'to', 'look', 'for', 'adoption', 'sites', 'for', 'specific', 'breeds', 'like', 'greyhounds', 'where', 'there', 'are', 'lots', 'of', 'dogs', 'who', 'are', 'no', 'longer', 'used', 'for', 'their', 'original', 'purpose', 'racing', 'but', 'now', 'are', 'looking', 'for', 'homes', 'good', 'luck']\n",
      "\n",
      "\n",
      "Index: 2 \t Length: 38\n",
      "-----------------------------------------\n",
      "Original doc: \n",
      "\"7\",\"Where can i get info on investors for foreign real state projects?\",\"We are searching for an angel investor for real state projects located in Mexico City\",\"Angel Investors DO NOT INVEST in Real State. \\nYou are confused.\"\n",
      "\n",
      "Cleaned doc: \n",
      "['where', 'can', 'i', 'get', 'info', 'on', 'investors', 'for', 'foreign', 'real', 'state', 'projects', 'we', 'are', 'searching', 'for', 'an', 'angel', 'investor', 'for', 'real', 'state', 'projects', 'located', 'in', 'mexico', 'city', 'angel', 'investors', 'do', 'not', 'invest', 'in', 'real', 'state', 'you', 'are', 'confused']\n",
      "\n",
      "\n",
      "\n",
      "\n",
      "-------------------------------------------\n",
      "|                                         |\n",
      "|       Inverse Document Frequency        |\n",
      "|                                         |\n",
      "-------------------------------------------\n",
      "Término ------------ IDF\n",
      "\n",
      "('dudes', 4.605170185988092)\n",
      "\n",
      "('fuck', 4.605170185988092)\n",
      "\n",
      "('mans', 4.605170185988092)\n",
      "\n",
      "('diffrent', 4.605170185988092)\n",
      "\n",
      "('atractive', 4.605170185988092)\n",
      "\n",
      "('enugh', 4.605170185988092)\n",
      "\n",
      "('obessed', 4.605170185988092)\n",
      "\n",
      "('spcas', 4.605170185988092)\n",
      "\n",
      "('web', 4.605170185988092)\n",
      "\n",
      "('yellow', 4.605170185988092)\n",
      "\n",
      "('pages', 4.605170185988092)\n",
      "\n",
      "('option', 4.605170185988092)\n",
      "\n",
      "('adoption', 4.605170185988092)\n",
      "\n",
      "('specific', 4.605170185988092)\n",
      "\n",
      "('breeds', 4.605170185988092)\n",
      "\n",
      "('greyhounds', 4.605170185988092)\n",
      "\n",
      "('dogs', 4.605170185988092)\n",
      "\n",
      "('longer', 4.605170185988092)\n",
      "\n",
      "('original', 4.605170185988092)\n",
      "\n",
      "('purpose', 4.605170185988092)\n",
      "\n",
      "('racing', 4.605170185988092)\n",
      "\n",
      "('homes', 4.605170185988092)\n",
      "\n",
      "('info', 4.605170185988092)\n",
      "\n",
      "('searching', 4.605170185988092)\n",
      "\n",
      "('investor', 4.605170185988092)\n",
      "\n",
      "('located', 4.605170185988092)\n",
      "\n",
      "('mexico', 4.605170185988092)\n",
      "\n",
      "('city', 4.605170185988092)\n",
      "\n",
      "('invest', 4.605170185988092)\n",
      "\n",
      "('confused', 4.605170185988092)\n",
      "\n",
      "('shemales', 4.605170185988092)\n",
      "\n",
      "('blowjobs', 4.605170185988092)\n",
      "\n",
      "('yuckkkkkkkkkkkk', 4.605170185988092)\n",
      "\n",
      "\n",
      "\n",
      "-------------------------------------------\n",
      "|                                         |\n",
      "|              Term Frequency             |\n",
      "|                                         |\n",
      "-------------------------------------------\n",
      "Index: 0 \tWords: 63\n",
      "--------------------------------\n",
      "Original:\n",
      "\n",
      "\"1\",\"Gay Men and Butts?\",\"So, I am just wondering, why do gay men like dudes butts do much? Do they actually look at butts? or do they just need somewhere to fuck??  Do gay men find a mans butt more attractive then straight men find a womens butt attractive?\",\"Saying gay men like butts is like saying all men like womens butts...\\n\\nEveryone of them has diffrent things they find most atractive in another man.\\n\\nTrust me.. I know enugh gay people to know they don't have a big thing over butts... most don't... most are more obessed with whats around front... lol\"\n",
      "\n",
      "Word frequency: \n",
      "\n",
      "[('gay', 5), ('men', 6), ('and', 1), ('butts', 6), ('so', 1), ('i', 2), ('am', 1), ('just', 2), ('wondering', 1), ('why', 1), ('do', 5), ('like', 4), ('dudes', 1), ('much', 1), ('they', 4), ('actually', 1), ('look', 1), ('at', 1), ('or', 1), ('need', 1), ('somewhere', 1), ('to', 2), ('fuck', 1), ('find', 3), ('a', 3), ('mans', 1), ('butt', 2), ('more', 2), ('attractive', 2), ('then', 1), ('straight', 1), ('womens', 2), ('saying', 2), ('is', 1), ('all', 1), ('everyone', 1), ('of', 1), ('them', 1), ('has', 1), ('diffrent', 1), ('things', 1), ('most', 3), ('atractive', 1), ('in', 1), ('another', 1), ('man', 1), ('trust', 1), ('me', 1), ('know', 2), ('enugh', 1), ('people', 1), ('dont', 2), ('have', 1), ('big', 1), ('thing', 1), ('over', 1), ('are', 1), ('obessed', 1), ('with', 1), ('whats', 1), ('around', 1), ('front', 1), ('lol', 1)]\n",
      "\n",
      "Term Frequency:\n",
      "\n",
      "[('gay', 0.07937), ('men', 0.09524), ('and', 0.01587), ('butts', 0.09524), ('so', 0.01587), ('i', 0.03175), ('am', 0.01587), ('just', 0.03175), ('wondering', 0.01587), ('why', 0.01587), ('do', 0.07937), ('like', 0.06349), ('dudes', 0.01587), ('much', 0.01587), ('they', 0.06349), ('actually', 0.01587), ('look', 0.01587), ('at', 0.01587), ('or', 0.01587), ('need', 0.01587), ('somewhere', 0.01587), ('to', 0.03175), ('fuck', 0.01587), ('find', 0.04762), ('a', 0.04762), ('mans', 0.01587), ('butt', 0.03175), ('more', 0.03175), ('attractive', 0.03175), ('then', 0.01587), ('straight', 0.01587), ('womens', 0.03175), ('saying', 0.03175), ('is', 0.01587), ('all', 0.01587), ('everyone', 0.01587), ('of', 0.01587), ('them', 0.01587), ('has', 0.01587), ('diffrent', 0.01587), ('things', 0.01587), ('most', 0.04762), ('atractive', 0.01587), ('in', 0.01587), ('another', 0.01587), ('man', 0.01587), ('trust', 0.01587), ('me', 0.01587), ('know', 0.03175), ('enugh', 0.01587), ('people', 0.01587), ('dont', 0.03175), ('have', 0.01587), ('big', 0.01587), ('thing', 0.01587), ('over', 0.01587), ('are', 0.01587), ('obessed', 0.01587), ('with', 0.01587), ('whats', 0.01587), ('around', 0.01587), ('front', 0.01587), ('lol', 0.01587)]\n",
      "\n",
      "\n",
      "\n",
      "Index: 1 \tWords: 64\n",
      "--------------------------------\n",
      "Original:\n",
      "\n",
      "\"5\",\"I am looking for  a site with free pets in the NEPA area or the border of NY.  Know of any?\",\"I am looking for a site with free pets in the NEPA area or lower NY near the NEPA border.  Anyone know of any?\",\"You can check with the local SPCAs (many have Web sites) or actually look in your local yellow pages - but the best option may be to look for adoption sites for specific breeds (like greyhounds) where there are lots of dogs who are no longer used for their original purpose (racing) but now are looking for homes.  Good luck!\"\n",
      "\n",
      "Word frequency: \n",
      "\n",
      "[('i', 2), ('am', 2), ('looking', 3), ('for', 6), ('a', 2), ('site', 2), ('with', 3), ('free', 2), ('pets', 2), ('in', 3), ('the', 6), ('nepa', 3), ('area', 2), ('or', 3), ('border', 2), ('of', 4), ('ny', 2), ('know', 2), ('any', 2), ('lower', 1), ('near', 1), ('anyone', 1), ('you', 1), ('can', 1), ('check', 1), ('local', 2), ('spcas', 1), ('many', 1), ('have', 1), ('web', 1), ('sites', 2), ('actually', 1), ('look', 2), ('your', 1), ('yellow', 1), ('pages', 1), ('but', 2), ('best', 1), ('option', 1), ('may', 1), ('be', 1), ('to', 1), ('adoption', 1), ('specific', 1), ('breeds', 1), ('like', 1), ('greyhounds', 1), ('where', 1), ('there', 1), ('are', 3), ('lots', 1), ('dogs', 1), ('who', 1), ('no', 1), ('longer', 1), ('used', 1), ('their', 1), ('original', 1), ('purpose', 1), ('racing', 1), ('now', 1), ('homes', 1), ('good', 1), ('luck', 1)]\n",
      "\n",
      "Term Frequency:\n",
      "\n",
      "[('i', 0.03125), ('am', 0.03125), ('looking', 0.04688), ('for', 0.09375), ('a', 0.03125), ('site', 0.03125), ('with', 0.04688), ('free', 0.03125), ('pets', 0.03125), ('in', 0.04688), ('the', 0.09375), ('nepa', 0.04688), ('area', 0.03125), ('or', 0.04688), ('border', 0.03125), ('of', 0.0625), ('ny', 0.03125), ('know', 0.03125), ('any', 0.03125), ('lower', 0.01562), ('near', 0.01562), ('anyone', 0.01562), ('you', 0.01562), ('can', 0.01562), ('check', 0.01562), ('local', 0.03125), ('spcas', 0.01562), ('many', 0.01562), ('have', 0.01562), ('web', 0.01562), ('sites', 0.03125), ('actually', 0.01562), ('look', 0.03125), ('your', 0.01562), ('yellow', 0.01562), ('pages', 0.01562), ('but', 0.03125), ('best', 0.01562), ('option', 0.01562), ('may', 0.01562), ('be', 0.01562), ('to', 0.01562), ('adoption', 0.01562), ('specific', 0.01562), ('breeds', 0.01562), ('like', 0.01562), ('greyhounds', 0.01562), ('where', 0.01562), ('there', 0.01562), ('are', 0.04688), ('lots', 0.01562), ('dogs', 0.01562), ('who', 0.01562), ('no', 0.01562), ('longer', 0.01562), ('used', 0.01562), ('their', 0.01562), ('original', 0.01562), ('purpose', 0.01562), ('racing', 0.01562), ('now', 0.01562), ('homes', 0.01562), ('good', 0.01562), ('luck', 0.01562)]\n",
      "\n",
      "\n",
      "\n",
      "Index: 2 \tWords: 27\n",
      "--------------------------------\n",
      "Original:\n",
      "\n",
      "\"7\",\"Where can i get info on investors for foreign real state projects?\",\"We are searching for an angel investor for real state projects located in Mexico City\",\"Angel Investors DO NOT INVEST in Real State. \\nYou are confused.\"\n",
      "\n",
      "Word frequency: \n",
      "\n",
      "[('where', 1), ('can', 1), ('i', 1), ('get', 1), ('info', 1), ('on', 1), ('investors', 2), ('for', 3), ('foreign', 1), ('real', 3), ('state', 3), ('projects', 2), ('we', 1), ('are', 2), ('searching', 1), ('an', 1), ('angel', 2), ('investor', 1), ('located', 1), ('in', 2), ('mexico', 1), ('city', 1), ('do', 1), ('not', 1), ('invest', 1), ('you', 1), ('confused', 1)]\n",
      "\n",
      "Term Frequency:\n",
      "\n",
      "[('where', 0.03704), ('can', 0.03704), ('i', 0.03704), ('get', 0.03704), ('info', 0.03704), ('on', 0.03704), ('investors', 0.07407), ('for', 0.11111), ('foreign', 0.03704), ('real', 0.11111), ('state', 0.11111), ('projects', 0.07407), ('we', 0.03704), ('are', 0.07407), ('searching', 0.03704), ('an', 0.03704), ('angel', 0.07407), ('investor', 0.03704), ('located', 0.03704), ('in', 0.07407), ('mexico', 0.03704), ('city', 0.03704), ('do', 0.03704), ('not', 0.03704), ('invest', 0.03704), ('you', 0.03704), ('confused', 0.03704)]\n",
      "\n",
      "\n",
      "\n",
      "\n",
      "\n",
      "-------------------------------------------\n",
      "|                                         |\n",
      "|                   TFIDF                 |\n",
      "|        (ngram, (doc_id, tfidf, ...))    |\n",
      "|                                         |\n",
      "-------------------------------------------\n",
      "('butts', (1, 0.26795))\n",
      "('dudes', (1, 0.07308))\n",
      "('fuck', (1, 0.07308))\n",
      "('mans', (1, 0.07308))\n",
      "('butt', (1, 0.12421))\n",
      "('womens', (1, 0.12421))\n",
      "('diffrent', (1, 0.07308))\n",
      "('atractive', (1, 0.07308))\n",
      "('enugh', (1, 0.07308))\n",
      "('obessed', (1, 0.07308))\n",
      "('pets', (2, 0.12225))\n",
      "('nepa', (2, 0.16439))\n",
      "('border', (2, 0.12225))\n",
      "('spcas', (2, 0.07193))\n",
      "('web', (2, 0.07193))\n",
      "('sites', (2, 0.12225))\n",
      "('yellow', (2, 0.07193))\n",
      "('pages', (2, 0.07193))\n",
      "('option', (2, 0.07193))\n",
      "('adoption', (2, 0.07193))\n",
      "('specific', (2, 0.07193))\n",
      "('breeds', (2, 0.07193))\n",
      "('greyhounds', (2, 0.07193))\n",
      "('dogs', (2, 0.07193))\n",
      "('longer', (2, 0.07193))\n",
      "('original', (2, 0.07193))\n",
      "('purpose', (2, 0.07193))\n",
      "('racing', (2, 0.07193))\n",
      "('homes', (2, 0.07193))\n",
      "('info', (3, 0.17058))\n",
      "('investors', (3, 0.28976))\n",
      "('state', (3, 0.38961))\n",
      "('projects', (3, 0.28976))\n",
      "('searching', (3, 0.17058))\n",
      "('angel', (3, 0.28976))\n",
      "('investor', (3, 0.17058))\n",
      "('located', (3, 0.17058))\n",
      "('mexico', (3, 0.17058))\n",
      "('city', (3, 0.17058))\n",
      "('invest', (3, 0.17058))\n",
      "('confused', (3, 0.17058))\n",
      "('shemales', (4, 0.14856))\n",
      "('blowjobs', (4, 0.14856))\n",
      "('yuckkkkkkkkkkkk', (4, 0.14856))\n",
      "('sickkkkkkkkkkkk', (4, 0.14856))\n",
      "('funnyest', (5, 0.12448))\n",
      "('bringing', (5, 0.12448))\n",
      "('tray', (5, 0.12448))\n",
      "('slipped', (5, 0.12448))\n",
      "('cat', (5, 0.12448))\n",
      "('barf', (5, 0.12448))\n",
      "('flying', (5, 0.12448))\n",
      "('cracked', (5, 0.12448))\n",
      "('peed', (5, 0.12448))\n",
      "('suns', (6, 0.12793))\n",
      "('supernova', (6, 0.12793))\n",
      "('hole', (6, 0.12793))\n",
      "('giant', (6, 0.12793))\n",
      "('pointed', (6, 0.12793))\n",
      "('wheres', (7, 0.16445))\n",
      "('bar', (7, 0.27944))\n",
      "('click', (7, 0.16445))\n",
      "('tool', (7, 0.16445))\n",
      "('mark', (7, 0.16445))\n",
      "('beside', (7, 0.16445))\n",
      "('standard', (7, 0.16445))\n",
      "('buttons', (7, 0.16445))\n",
      "('classmate', (8, 0.049))\n",
      "('adults', (8, 0.049))\n",
      "('dark', (8, 0.049))\n",
      "('secret', (8, 0.049))\n",
      "('blackmail', (8, 0.049))\n",
      "('decides', (8, 0.049))\n",
      "('homeand', (8, 0.049))\n",
      "('greeted', (8, 0.049))\n",
      "('quickly', (8, 0.049))\n",
      "('hands', (8, 0.08325))\n",
      "('pleased', (8, 0.08325))\n",
      "('waits', (8, 0.049))\n",
      "('workand', (8, 0.049))\n",
      "('greets', (8, 0.08325))\n",
      "('promptly', (8, 0.049))\n",
      "('40', (8, 0.049))\n",
      "('sees', (8, 0.049))\n",
      "('mailman', (8, 0.08325))\n",
      "('door', (8, 0.049))\n",
      "('drops', (8, 0.049))\n",
      "('mail', (8, 0.049))\n",
      "('opens', (8, 0.049))\n",
      "('arms', (8, 0.049))\n",
      "('hug', (8, 0.049))\n",
      "('brill', (8, 0.049))\n",
      "('done', (8, 0.049))\n",
      "('jeff', (8, 0.049))\n",
      "('xx', (8, 0.049))\n",
      "('join', (9, 0.13489))\n",
      "('party', (9, 0.22201))\n",
      "('cast', (9, 0.07939))\n",
      "('gerard', (9, 0.07939))\n",
      "('kennedy', (9, 0.13489))\n",
      "('leadership', (9, 0.07939))\n",
      "('election', (9, 0.07939))\n",
      "('strikes', (9, 0.07939))\n",
      "('courageous', (9, 0.07939))\n",
      "('fight', (9, 0.07939))\n",
      "('flow', (9, 0.07939))\n",
      "('knnow', (9, 0.07939))\n",
      "('separation', (9, 0.07939))\n",
      "('quebec', (9, 0.07939))\n",
      "('canada', (9, 0.07939))\n",
      "('anyones', (9, 0.07939))\n",
      "('21', (9, 0.07939))\n",
      "('north', (9, 0.07939))\n",
      "('bay', (9, 0.07939))\n",
      "('delegates', (9, 0.07939))\n",
      "('chosen', (9, 0.07939))\n",
      "('planning', (10, 0.11513))\n",
      "('microsoft', (10, 0.11513))\n",
      "('project', (10, 0.1956))\n",
      "('e', (10, 0.11513))\n",
      "('books', (10, 0.11513))\n",
      "('tks', (10, 0.11513))\n",
      "('recommend', (10, 0.11513))\n",
      "('stepbystep', (10, 0.11513))\n",
      "('ms', (10, 0.11513))\n",
      "('practice', (10, 0.11513))\n",
      "('bruise', (11, 0.08372))\n",
      "('brown', (11, 0.08372))\n",
      "('spots', (11, 0.08372))\n",
      "('knew', (11, 0.08372))\n",
      "('bleaching', (11, 0.14224))\n",
      "('cream', (11, 0.14224))\n",
      "('scars', (11, 0.08372))\n",
      "('legs', (11, 0.08372))\n",
      "('feet', (11, 0.08372))\n",
      "('rid', (11, 0.08372))\n",
      "('fastest', (11, 0.08372))\n",
      "('affordable', (11, 0.08372))\n",
      "('african', (11, 0.08372))\n",
      "('ambi', (11, 0.08372))\n",
      "('exclusively', (11, 0.08372))\n",
      "('shades', (11, 0.08372))\n",
      "('jersey', (12, 0.0397))\n",
      "('shore', (12, 0.0397))\n",
      "('venice', (12, 0.09068))\n",
      "('california', (12, 0.0397))\n",
      "('east', (12, 0.0397))\n",
      "('coast', (12, 0.06744))\n",
      "('mileages', (12, 0.0397))\n",
      "('consideration', (12, 0.0397))\n",
      "('medium', (12, 0.0397))\n",
      "('pace', (12, 0.0397))\n",
      "('hours', (12, 0.06744))\n",
      "('9', (12, 0.0397))\n",
      "('prepare', (12, 0.0397))\n",
      "('bowel', (12, 0.0397))\n",
      "('movements', (12, 0.0397))\n",
      "('stretching', (12, 0.0397))\n",
      "('figured', (12, 0.0397))\n",
      "('challenge', (12, 0.0397))\n",
      "('wildwood', (12, 0.06744))\n",
      "('282327', (12, 0.06744))\n",
      "('miles', (12, 0.06744))\n",
      "('cali', (12, 0.0397))\n",
      "('average', (12, 0.0397))\n",
      "('speed', (12, 0.0397))\n",
      "('wikipedia', (12, 0.0397))\n",
      "('3mph', (12, 0.0397))\n",
      "('3x15', (12, 0.0397))\n",
      "('45', (12, 0.06744))\n",
      "('627393333333333', (12, 0.0397))\n",
      "('052106', (12, 0.0397))\n",
      "('july', (12, 0.06744))\n",
      "('22nd', (12, 0.0397))\n",
      "('23rd', (12, 0.0397))\n",
      "('spits', (13, 0.27088))\n",
      "('hardest', (13, 0.27088))\n",
      "('remy', (13, 0.27088))\n",
      "('ma', (13, 0.27088))\n",
      "('spit', (13, 0.27088))\n",
      "('chamillioner', (13, 0.27088))\n",
      "('prank', (14, 0.10296))\n",
      "('dr', (14, 0.0606))\n",
      "('phil', (14, 0.0606))\n",
      "('ebuamsworldcom', (14, 0.0606))\n",
      "('sound', (14, 0.0606))\n",
      "('boards', (14, 0.0606))\n",
      "('awsome', (14, 0.0606))\n",
      "('soundboard', (14, 0.0606))\n",
      "('hecka', (14, 0.0606))\n",
      "('funny', (14, 0.10296))\n",
      "('coke', (14, 0.0606))\n",
      "('regular', (14, 0.0606))\n",
      "('half', (14, 0.0606))\n",
      "('diet', (14, 0.0606))\n",
      "('6', (14, 0.0606))\n",
      "('nugget', (14, 0.0606))\n",
      "('nuggets', (14, 0.0606))\n",
      "('shove', (14, 0.0606))\n",
      "('ass', (14, 0.0606))\n",
      "('speakerphone', (14, 0.0606))\n",
      "('rotflmao', (14, 0.0606))\n",
      "('write', (15, 0.07193))\n",
      "('passage', (15, 0.07193))\n",
      "('topic', (15, 0.12225))\n",
      "('star', (15, 0.12225))\n",
      "('weve', (15, 0.07193))\n",
      "('reached', (15, 0.07193))\n",
      "('low', (15, 0.07193))\n",
      "('childrens', (15, 0.07193))\n",
      "('homework', (15, 0.12225))\n",
      "('exercise', (15, 0.07193))\n",
      "('creativity', (15, 0.07193))\n",
      "('expand', (15, 0.07193))\n",
      "('paper', (15, 0.07193))\n",
      "('geeze', (15, 0.07193))\n",
      "('parenting', (15, 0.07193))\n",
      "('friendship', (16, 0.08359))\n",
      "('saving', (16, 0.02989))\n",
      "('almost', (16, 0.02989))\n",
      "('drop', (16, 0.02989))\n",
      "('borrowed', (16, 0.02989))\n",
      "('easter', (16, 0.02989))\n",
      "('afraid', (16, 0.02989))\n",
      "('blocked', (16, 0.02989))\n",
      "('hung', (16, 0.02989))\n",
      "('voicemail', (16, 0.02989))\n",
      "('hasnt', (16, 0.05082))\n",
      "('happy', (16, 0.02989))\n",
      "('mothers', (16, 0.02989))\n",
      "('sons', (16, 0.02989))\n",
      "('godmom', (16, 0.02989))\n",
      "('argued', (16, 0.02989))\n",
      "('touch', (16, 0.02989))\n",
      "('quits', (16, 0.02989))\n",
      "('opposites', (16, 0.02989))\n",
      "('raises', (16, 0.02989))\n",
      "('content', (16, 0.02989))\n",
      "('public', (16, 0.02989))\n",
      "('housing', (16, 0.02989))\n",
      "('working', (16, 0.02989))\n",
      "('security', (16, 0.02989))\n",
      "('occassionally', (16, 0.02989))\n",
      "('dif', (16, 0.02989))\n",
      "('25', (16, 0.02989))\n",
      "('aug', (16, 0.02989))\n",
      "('friends', (16, 0.02989))\n",
      "('bound', (16, 0.02989))\n",
      "('separated', (16, 0.02989))\n",
      "('seperated', (16, 0.02989))\n",
      "('levels', (16, 0.02989))\n",
      "('guilty', (16, 0.02989))\n",
      "('needs', (16, 0.02989))\n",
      "('couldnt', (16, 0.02989))\n",
      "('anlso', (16, 0.02989))\n",
      "('remembering', (16, 0.02989))\n",
      "('changes', (16, 0.02989))\n",
      "('trough', (17, 0.32895))\n",
      "('internet', (17, 0.32895))\n",
      "('skype', (17, 0.32895))\n",
      "('focus', (18, 0.02491))\n",
      "('concentration', (18, 0.02491))\n",
      "('wherefrom', (18, 0.02491))\n",
      "('slack', (18, 0.02491))\n",
      "('behavior', (18, 0.02491))\n",
      "('desires', (18, 0.02491))\n",
      "('clarity', (18, 0.02491))\n",
      "('devotion', (18, 0.02491))\n",
      "('four', (18, 0.04229))\n",
      "('don', (18, 0.02491))\n",
      "('miguel', (18, 0.02491))\n",
      "('ruiz', (18, 0.02491))\n",
      "('explains', (18, 0.02491))\n",
      "('habits', (18, 0.02491))\n",
      "('counter', (18, 0.02491))\n",
      "('human', (18, 0.02491))\n",
      "('waking', (18, 0.02491))\n",
      "('addressed', (18, 0.02491))\n",
      "('humans', (18, 0.02491))\n",
      "('act', (18, 0.02491))\n",
      "('gurdjieff', (18, 0.04229))\n",
      "('acts', (18, 0.04229))\n",
      "('machine', (18, 0.02491))\n",
      "('automatically', (18, 0.02491))\n",
      "('difficult', (18, 0.02491))\n",
      "('let', (18, 0.02491))\n",
      "('beginning', (18, 0.04229))\n",
      "('seeker', (18, 0.02491))\n",
      "('special', (18, 0.05688))\n",
      "('category', (18, 0.02491))\n",
      "('yours', (18, 0.02491))\n",
      "('spiritual', (18, 0.02491))\n",
      "('dealing', (18, 0.02491))\n",
      "('mankind', (18, 0.02491))\n",
      "('hundreds', (18, 0.02491))\n",
      "('pathssystems', (18, 0.02491))\n",
      "('toward', (18, 0.02491))\n",
      "('complete', (18, 0.02491))\n",
      "('understandings', (18, 0.02491))\n",
      "('esoteric', (18, 0.05688))\n",
      "('among', (18, 0.02491))\n",
      "('paths', (18, 0.02491))\n",
      "('fragmentary', (18, 0.02491))\n",
      "('worthwhile', (18, 0.02491))\n",
      "('buddhism', (18, 0.02491))\n",
      "('george', (18, 0.02491))\n",
      "('starters', (18, 0.02491))\n",
      "('joyce', (18, 0.02491))\n",
      "('meyers', (18, 0.02491))\n",
      "('brilliant', (18, 0.02491))\n",
      "('teaching', (18, 0.02491))\n",
      "('directly', (18, 0.02491))\n",
      "('biblethats', (18, 0.02491))\n",
      "('equally', (18, 0.02491))\n",
      "('thorough', (18, 0.02491))\n",
      "('discover', (18, 0.02491))\n",
      "('planet', (18, 0.02491))\n",
      "('glorius', (18, 0.02491))\n",
      "('painful', (18, 0.02491))\n",
      "('megaadventure', (18, 0.02491))\n",
      "('holiday', (19, 0.16445))\n",
      "('sleeping', (19, 0.16445))\n",
      "('freinds', (19, 0.16445))\n",
      "('shoot', (19, 0.16445))\n",
      "('fireworks', (19, 0.16445))\n",
      "('morality', (20, 0.28782))\n",
      "('legalit', (20, 0.28782))\n",
      "('disobedient', (20, 0.28782))\n",
      "('asked', (20, 0.28782))\n",
      "('immoral', (20, 0.28782))\n",
      "('strictly', (21, 0.17058))\n",
      "('flirt', (21, 0.17058))\n",
      "('strike', (21, 0.17058))\n",
      "('happening', (21, 0.17058))\n",
      "('offered', (22, 0.05061))\n",
      "('gogo', (22, 0.05061))\n",
      "('dancing', (22, 0.08599))\n",
      "('strip', (22, 0.05061))\n",
      "('tables', (22, 0.05061))\n",
      "('waitressing', (22, 0.05061))\n",
      "('sodas', (22, 0.05061))\n",
      "('beer', (22, 0.05061))\n",
      "('hamburgers', (22, 0.05061))\n",
      "('rollerskates', (22, 0.05061))\n",
      "('driveby', (22, 0.05061))\n",
      "('theatres', (22, 0.05061))\n",
      "('movies', (22, 0.05061))\n",
      "('dancer', (22, 0.05061))\n",
      "('nightblub', (22, 0.05061))\n",
      "('elevated', (22, 0.05061))\n",
      "('floor', (22, 0.05061))\n",
      "('danced', (22, 0.05061))\n",
      "('esp', (22, 0.05061))\n",
      "('scene', (22, 0.05061))\n",
      "('depending', (22, 0.05061))\n",
      "('blub', (22, 0.05061))\n",
      "('determines', (22, 0.05061))\n",
      "('wear', (22, 0.05061))\n",
      "('hip', (22, 0.05061))\n",
      "('hop', (22, 0.05061))\n",
      "('wore', (22, 0.05061))\n",
      "('cargo', (22, 0.05061))\n",
      "('tube', (22, 0.05061))\n",
      "('adidas', (22, 0.05061))\n",
      "('scanned', (23, 0.04651))\n",
      "('pictures', (23, 0.04651))\n",
      "('movie', (23, 0.15131))\n",
      "('maker', (23, 0.07902))\n",
      "('windows', (23, 0.10625))\n",
      "('w', (23, 0.04651))\n",
      "('dvdrw', (23, 0.04651))\n",
      "('dvdr', (23, 0.04651))\n",
      "('rw', (23, 0.04651))\n",
      "('steps', (23, 0.04651))\n",
      "('birthday', (23, 0.04651))\n",
      "('save', (23, 0.07902))\n",
      "('file', (23, 0.07902))\n",
      "('dvavi', (23, 0.04651))\n",
      "('highquality', (23, 0.04651))\n",
      "('wmv', (23, 0.04651))\n",
      "('retain', (23, 0.04651))\n",
      "('quality', (23, 0.04651))\n",
      "('separate', (23, 0.04651))\n",
      "('authoring', (23, 0.04651))\n",
      "('program', (23, 0.04651))\n",
      "('nero', (23, 0.04651))\n",
      "('mydvd', (23, 0.04651))\n",
      "('ulead', (23, 0.04651))\n",
      "('burn', (23, 0.04651))\n",
      "('video', (23, 0.07902))\n",
      "('data', (23, 0.04651))\n",
      "('included', (23, 0.04651))\n",
      "('tutorial', (23, 0.04651))\n",
      "('creating', (23, 0.04651))\n",
      "('makersnet', (23, 0.04651))\n",
      "('forum', (23, 0.04651))\n",
      "('ask', (23, 0.04651))\n",
      "('boyz', (24, 0.03049))\n",
      "('asnwer', (24, 0.03049))\n",
      "('y', (24, 0.06968))\n",
      "('sensitive', (24, 0.03049))\n",
      "('sweet', (24, 0.03049))\n",
      "('lovin', (24, 0.03049))\n",
      "('scared', (24, 0.03049))\n",
      "('feelings', (24, 0.03049))\n",
      "('rough', (24, 0.03049))\n",
      "('ones', (24, 0.03049))\n",
      "('treats', (24, 0.03049))\n",
      "('dirt', (24, 0.03049))\n",
      "('thug', (24, 0.03049))\n",
      "('wins', (24, 0.03049))\n",
      "('wellover', (24, 0.03049))\n",
      "('thirtynine', (24, 0.03049))\n",
      "('opposite', (24, 0.03049))\n",
      "('ties', (24, 0.03049))\n",
      "('grew', (24, 0.03049))\n",
      "('figure', (24, 0.03049))\n",
      "('displayed', (24, 0.03049))\n",
      "('treated', (24, 0.03049))\n",
      "('therefore', (24, 0.03049))\n",
      "('mate', (24, 0.03049))\n",
      "('tendency', (24, 0.03049))\n",
      "('certain', (24, 0.03049))\n",
      "('lady', (24, 0.05183))\n",
      "('continue', (24, 0.03049))\n",
      "('abusive', (24, 0.03049))\n",
      "('within', (24, 0.03049))\n",
      "('herself', (24, 0.05183))\n",
      "('feels', (24, 0.03049))\n",
      "('deserves', (24, 0.03049))\n",
      "('worthy', (24, 0.03049))\n",
      "('receive', (24, 0.03049))\n",
      "('sister', (24, 0.03049))\n",
      "('learned', (24, 0.03049))\n",
      "('socail', (25, 0.13954))\n",
      "('services', (25, 0.13954))\n",
      "('government', (25, 0.13954))\n",
      "('selfserving', (25, 0.13954))\n",
      "('interested', (25, 0.13954))\n",
      "('themselves', (25, 0.13954))\n",
      "('agency', (25, 0.13954))\n",
      "('justify', (25, 0.13954))\n",
      "('expense', (25, 0.13954))\n",
      "('wise', (26, 0.01589))\n",
      "('chinese', (26, 0.11301))\n",
      "('superpower', (26, 0.01589))\n",
      "('wrote', (26, 0.01589))\n",
      "('matthew', (26, 0.01589))\n",
      "('worley', (26, 0.01589))\n",
      "('westerners', (26, 0.01589))\n",
      "('resounding', (26, 0.01589))\n",
      "('following', (26, 0.01589))\n",
      "('professional', (26, 0.01589))\n",
      "('careerminded', (26, 0.01589))\n",
      "('youve', (26, 0.01589))\n",
      "('globalization', (26, 0.01589))\n",
      "('outsourcing', (26, 0.03626))\n",
      "('share', (26, 0.01589))\n",
      "('countries', (26, 0.02699))\n",
      "('primarily', (26, 0.01589))\n",
      "('chinas', (26, 0.01589))\n",
      "('admittance', (26, 0.01589))\n",
      "('wto', (26, 0.01589))\n",
      "('favor', (26, 0.01589))\n",
      "('booming', (26, 0.01589))\n",
      "('economy', (26, 0.02699))\n",
      "('interact', (26, 0.01589))\n",
      "('fastestgrowing', (26, 0.01589))\n",
      "('language', (26, 0.03626))\n",
      "('studied', (26, 0.01589))\n",
      "('enrollment', (26, 0.01589))\n",
      "('courses', (26, 0.01589))\n",
      "('recently', (26, 0.01589))\n",
      "('bipartisan', (26, 0.01589))\n",
      "('bill', (26, 0.01589))\n",
      "('introduced', (26, 0.01589))\n",
      "('congress', (26, 0.01589))\n",
      "('provide', (26, 0.02699))\n",
      "('classes', (26, 0.01589))\n",
      "('advanced', (26, 0.01589))\n",
      "('regard', (26, 0.01589))\n",
      "('competitive', (26, 0.02699))\n",
      "('short', (26, 0.01589))\n",
      "('myriads', (26, 0.01589))\n",
      "('workers', (26, 0.01589))\n",
      "('skills', (26, 0.02699))\n",
      "('apart', (26, 0.01589))\n",
      "('proactive', (26, 0.01589))\n",
      "('compete', (26, 0.01589))\n",
      "('entrants', (26, 0.01589))\n",
      "('advantage', (26, 0.01589))\n",
      "('increased', (26, 0.01589))\n",
      "('opportunities', (26, 0.01589))\n",
      "('arise', (26, 0.01589))\n",
      "('grows', (26, 0.01589))\n",
      "('global', (26, 0.03626))\n",
      "('supply', (26, 0.03626))\n",
      "('chains', (26, 0.02699))\n",
      "('factories', (26, 0.04439))\n",
      "('subcomponents', (26, 0.02699))\n",
      "('raw', (26, 0.02699))\n",
      "('materials', (26, 0.02699))\n",
      "('usbased', (26, 0.01589))\n",
      "('firms', (26, 0.01589))\n",
      "('discovering', (26, 0.01589))\n",
      "('cost', (26, 0.01589))\n",
      "('structures', (26, 0.01589))\n",
      "('sourcing', (26, 0.01589))\n",
      "('largest', (26, 0.02699))\n",
      "('provider', (26, 0.01589))\n",
      "('billion', (26, 0.01589))\n",
      "('workforce', (26, 0.01589))\n",
      "('laborintensive', (26, 0.01589))\n",
      "('costs', (26, 0.01589))\n",
      "('management', (26, 0.01589))\n",
      "('consultants', (26, 0.01589))\n",
      "('accountants', (26, 0.01589))\n",
      "('chain', (26, 0.01589))\n",
      "('companies', (26, 0.05821))\n",
      "('consumer', (26, 0.02699))\n",
      "('potentially', (26, 0.02699))\n",
      "('commerce', (26, 0.01589))\n",
      "('16000', (26, 0.01589))\n",
      "('products', (26, 0.02699))\n",
      "('yesterday', (26, 0.01589))\n",
      "('urban', (26, 0.01589))\n",
      "('teenagers', (26, 0.01589))\n",
      "('mp3', (26, 0.01589))\n",
      "('cell', (26, 0.01589))\n",
      "('goods', (26, 0.02699))\n",
      "('boot', (26, 0.01589))\n",
      "('professionals', (26, 0.02699))\n",
      "('build', (26, 0.01589))\n",
      "('partnerships', (26, 0.01589))\n",
      "('depend', (26, 0.01589))\n",
      "('pipeline', (26, 0.01589))\n",
      "('manager', (26, 0.01589))\n",
      "('unfortunate', (26, 0.01589))\n",
      "('decision', (26, 0.01589))\n",
      "('whose', (26, 0.01589))\n",
      "('cut', (26, 0.02699))\n",
      "('keys', (26, 0.01589))\n",
      "('lucrative', (26, 0.01589))\n",
      "('foresight', (26, 0.01589))\n",
      "('proactivity', (26, 0.01589))\n",
      "('begin', (26, 0.01589))\n",
      "('valuable', (26, 0.01589))\n",
      "('giv', (26, 0.01589))\n",
      "('climate', (27, 0.65202))\n",
      "('land', (27, 0.65202))\n",
      "('colonies', (27, 0.38375))\n",
      "('fertile', (27, 0.38375))\n",
      "('moderate', (27, 0.38375))\n",
      "('armenian', (28, 0.07746))\n",
      "('mexican', (28, 0.07746))\n",
      "('dating', (28, 0.07746))\n",
      "('ethnic', (28, 0.07746))\n",
      "('eastern', (28, 0.10414))\n",
      "('armenians', (28, 0.14829))\n",
      "('chances', (28, 0.04559))\n",
      "('theyre', (28, 0.12747))\n",
      "('intolerant', (28, 0.04559))\n",
      "('ethnicity', (28, 0.04559))\n",
      "('impress', (28, 0.04559))\n",
      "('metaphorically', (28, 0.04559))\n",
      "('sis', (28, 0.04559))\n",
      "('dated', (28, 0.04559))\n",
      "('salvadorean', (28, 0.04559))\n",
      "('fine', (28, 0.07746))\n",
      "('unlike', (28, 0.04559))\n",
      "('racist', (28, 0.04559))\n",
      "('stereotypically', (28, 0.04559))\n",
      "('hating', (28, 0.04559))\n",
      "('theres', (28, 0.04559))\n",
      "('caring', (28, 0.04559))\n",
      "('screw', (28, 0.04559))\n",
      "('shouldnt', (28, 0.04559))\n",
      "('r', (29, 0.07677))\n",
      "('realize', (29, 0.07677))\n",
      "('til', (29, 0.07677))\n",
      "('societys', (29, 0.07677))\n",
      "('pressures', (29, 0.07677))\n",
      "('heterosexism', (29, 0.07677))\n",
      "('choosing', (29, 0.07677))\n",
      "('blossomed', (29, 0.07677))\n",
      "('accepting', (29, 0.07677))\n",
      "('lesbian', (29, 0.07677))\n",
      "('ml', (30, 0.15879))\n",
      "('l', (30, 0.15879))\n",
      "('bottle', (30, 0.15879))\n",
      "('soda', (30, 0.26981))\n",
      "('filled', (30, 0.15879))\n",
      "('desperate', (30, 0.15879))\n",
      "('69', (30, 0.15879))\n",
      "('appointment', (31, 0.13954))\n",
      "('hongkong', (31, 0.23711))\n",
      "('consulate', (31, 0.23711))\n",
      "('appoinment', (31, 0.13954))\n",
      "('otherwise', (31, 0.13954))\n",
      "('weigh', (32, 0.05291))\n",
      "('144', (32, 0.05291))\n",
      "('al', (32, 0.05291))\n",
      "('lose', (32, 0.08994))\n",
      "('cotillion', (32, 0.05291))\n",
      "('june', (32, 0.05291))\n",
      "('excercise', (32, 0.05291))\n",
      "('daily', (32, 0.05291))\n",
      "('nutritious', (32, 0.05291))\n",
      "('exercising', (32, 0.05291))\n",
      "('remember', (32, 0.05291))\n",
      "('realistic', (32, 0.05291))\n",
      "('goals', (32, 0.05291))\n",
      "('reach', (32, 0.05291))\n",
      "('goal', (32, 0.05291))\n",
      "('track', (32, 0.05291))\n",
      "('healthy', (32, 0.05291))\n",
      "('lifestyle', (32, 0.05291))\n",
      "('seek', (32, 0.05291))\n",
      "('guidance', (32, 0.05291))\n",
      "('registered', (32, 0.05291))\n",
      "('dietician', (32, 0.05291))\n",
      "('caloric', (32, 0.05291))\n",
      "('intake', (32, 0.05291))\n",
      "('energy', (32, 0.05291))\n",
      "('expenditure', (32, 0.05291))\n",
      "('dna', (33, 0.32895))\n",
      "('convert', (33, 0.32895))\n",
      "('amino', (33, 0.32895))\n",
      "('acids', (33, 0.32895))\n",
      "('rna', (33, 0.32895))\n",
      "('sequence', (33, 0.32895))\n",
      "('ggtcccatggatcgtaattcg', (33, 0.32895))\n",
      "('pensez', (34, 0.04223))\n",
      "('vous', (34, 0.04223))\n",
      "('que', (34, 0.11813))\n",
      "('coupe', (34, 0.04223))\n",
      "('du', (34, 0.07179))\n",
      "('monde', (34, 0.04223))\n",
      "('2010', (34, 0.04223))\n",
      "('afrique', (34, 0.07179))\n",
      "('sud', (34, 0.04223))\n",
      "('sera', (34, 0.15488))\n",
      "('mieux', (34, 0.04223))\n",
      "('cette', (34, 0.04223))\n",
      "('anne', (34, 0.04223))\n",
      "('elle', (34, 0.04223))\n",
      "('differente', (34, 0.04223))\n",
      "('plus', (34, 0.07179))\n",
      "('nationale', (34, 0.04223))\n",
      "('moins', (34, 0.07179))\n",
      "('touriste', (34, 0.04223))\n",
      "('prevu', (34, 0.04223))\n",
      "('environ', (34, 0.04223))\n",
      "('400000', (34, 0.04223))\n",
      "('avec', (34, 0.04223))\n",
      "('desprix', (34, 0.04223))\n",
      "('stade', (34, 0.04223))\n",
      "('accessible', (34, 0.04223))\n",
      "('remplir', (34, 0.04223))\n",
      "('les', (34, 0.0965))\n",
      "('stades', (34, 0.11813))\n",
      "('pui', (34, 0.04223))\n",
      "('selle', (34, 0.04223))\n",
      "('premeire', (34, 0.04223))\n",
      "('donc', (34, 0.04223))\n",
      "('un', (34, 0.11813))\n",
      "('autre', (34, 0.0965))\n",
      "('fetes', (34, 0.04223))\n",
      "('spectacle', (34, 0.04223))\n",
      "('probleme', (34, 0.04223))\n",
      "('sportif', (34, 0.04223))\n",
      "('ce', (34, 0.0965))\n",
      "('lhiver', (34, 0.04223))\n",
      "('sur', (34, 0.04223))\n",
      "('prevus', (34, 0.04223))\n",
      "('ont', (34, 0.04223))\n",
      "('aura', (34, 0.04223))\n",
      "('des', (34, 0.07179))\n",
      "('satdes', (34, 0.04223))\n",
      "('niveau', (34, 0.04223))\n",
      "('dela', (34, 0.04223))\n",
      "('mer', (34, 0.04223))\n",
      "('cap', (34, 0.04223))\n",
      "('m', (34, 0.04223))\n",
      "('joburg', (34, 0.04223))\n",
      "('ela', (34, 0.04223))\n",
      "('va', (34, 0.04223))\n",
      "('etre', (34, 0.04223))\n",
      "('petit', (34, 0.04223))\n",
      "('mexique', (34, 0.04223))\n",
      "('masi', (34, 0.07179))\n",
      "('fete', (34, 0.07179))\n",
      "('dun', (34, 0.04223))\n",
      "('continent', (34, 0.04223))\n",
      "('seront', (34, 0.04223))\n",
      "('pleins', (34, 0.04223))\n",
      "('mais', (34, 0.07179))\n",
      "('supporters', (34, 0.04223))\n",
      "('internationaux', (34, 0.04223))\n",
      "('11', (34, 0.04223))\n",
      "('h', (34, 0.04223))\n",
      "('davion', (34, 0.04223))\n",
      "('ca', (34, 0.07179))\n",
      "('coute', (34, 0.04223))\n",
      "('lafrique', (34, 0.07179))\n",
      "('recoit', (34, 0.04223))\n",
      "('cadeau', (34, 0.04223))\n",
      "('foot', (34, 0.07179))\n",
      "('rend', (34, 0.04223))\n",
      "('quelle', (34, 0.04223))\n",
      "('apporte', (34, 0.04223))\n",
      "('mondial', (34, 0.04223))\n",
      "('verra', (34, 0.04223))\n",
      "('cela', (34, 0.04223))\n",
      "('sans', (34, 0.04223))\n",
      "('doute', (34, 0.04223))\n",
      "('une', (34, 0.04223))\n",
      "('belle', (34, 0.07179))\n",
      "('differentes', (34, 0.04223))\n",
      "('aussi', (34, 0.04223))\n",
      "('98', (34, 0.04223))\n",
      "('2002', (34, 0.04223))\n",
      "('website', (35, 0.16301))\n",
      "('talking', (35, 0.09593))\n",
      "('rss', (35, 0.21916))\n",
      "('feeds', (35, 0.16301))\n",
      "('reader', (35, 0.09593))\n",
      "('finding', (35, 0.09593))\n",
      "('appropriate', (35, 0.09593))\n",
      "('readers', (35, 0.09593))\n",
      "('found', (35, 0.09593))\n",
      "('trucks', (36, 0.15879))\n",
      "('date', (36, 0.15879))\n",
      "('truck', (36, 0.15879))\n",
      "('chance', (36, 0.15879))\n",
      "('event', (36, 0.15879))\n",
      "('bat', (37, 0.15969))\n",
      "('softball', (37, 0.09399))\n",
      "('keeps', (37, 0.09399))\n",
      "('wrist', (37, 0.09399))\n",
      "('roll', (37, 0.09399))\n",
      "('wrists', (37, 0.15969))\n",
      "('rolling', (37, 0.09399))\n",
      "('swing', (37, 0.15969))\n",
      "('handed', (37, 0.15969))\n",
      "('midway', (37, 0.09399))\n",
      "('joke', (38, 0.07193))\n",
      "('cop', (38, 0.16439))\n",
      "('car', (38, 0.07193))\n",
      "('stopped', (38, 0.12225))\n",
      "('speeding', (38, 0.07193))\n",
      "('rolled', (38, 0.07193))\n",
      "('window', (38, 0.07193))\n",
      "('waiting', (38, 0.07193))\n",
      "('replied', (38, 0.07193))\n",
      "('laughing', (38, 0.07193))\n",
      "('sent', (38, 0.07193))\n",
      "('ticket', (38, 0.07193))\n",
      "('comin', (38, 0.07193))\n",
      "('hurt', (38, 0.07193))\n",
      "('urself', (38, 0.07193))\n",
      "('finger', (38, 0.07193))\n",
      "('cramp', (38, 0.07193))\n",
      "('hahhahah', (38, 0.07193))\n",
      "('testosterone', (39, 0.11513))\n",
      "('hunter', (39, 0.11513))\n",
      "('gatherer', (39, 0.11513))\n",
      "('stayed', (39, 0.11513))\n",
      "('warm', (39, 0.11513))\n",
      "('safe', (39, 0.11513))\n",
      "('excess', (39, 0.11513))\n",
      "('freezing', (39, 0.11513))\n",
      "('tiresome', (39, 0.11513))\n",
      "('treks', (39, 0.11513))\n",
      "('quel', (40, 0.12037))\n",
      "('zidan', (40, 0.07083))\n",
      "('fut', (40, 0.07083))\n",
      "('selectionn', (40, 0.07083))\n",
      "('lquipe', (40, 0.12037))\n",
      "('france', (40, 0.12037))\n",
      "('tait', (40, 0.12037))\n",
      "('sont', (40, 0.07083))\n",
      "('juste', (40, 0.07083))\n",
      "('contre', (40, 0.12037))\n",
      "('lage', (40, 0.07083))\n",
      "('quil', (40, 0.07083))\n",
      "('avait', (40, 0.12037))\n",
      "('quand', (40, 0.12037))\n",
      "('t', (40, 0.07083))\n",
      "('il', (40, 0.25971))\n",
      "('slectionn', (40, 0.07083))\n",
      "('premiere', (40, 0.07083))\n",
      "('son', (40, 0.07083))\n",
      "('dernier', (40, 0.07083))\n",
      "('prcision', (40, 0.07083))\n",
      "('ans', (40, 0.07083))\n",
      "('aout', (40, 0.07083))\n",
      "('lorsquil', (40, 0.07083))\n",
      "('rentren', (40, 0.07083))\n",
      "('jeu', (40, 0.07083))\n",
      "('sa', (40, 0.12037))\n",
      "('premire', (40, 0.07083))\n",
      "('slection', (40, 0.07083))\n",
      "('marqu', (40, 0.07083))\n",
      "('buts', (40, 0.07083))\n",
      "('20minutes', (40, 0.07083))\n",
      "('permis', (40, 0.07083))\n",
      "('faire', (40, 0.07083))\n",
      "('nul', (40, 0.07083))\n",
      "('rpublique', (40, 0.07083))\n",
      "('tchque', (40, 0.07083))\n",
      "('eu', (40, 0.07083))\n",
      "('lieu', (40, 0.07083))\n",
      "('bordeaux', (40, 0.07083))\n",
      "('o', (40, 0.07083))\n",
      "('jouait', (40, 0.12037))\n",
      "('arret', (40, 0.07083))\n",
      "('carrire', (40, 0.07083))\n",
      "('madrid', (40, 0.07083))\n",
      "('utd', (41, 0.12091))\n",
      "('david', (41, 0.08994))\n",
      "('beckham', (41, 0.12091))\n",
      "('reds', (41, 0.08994))\n",
      "('refers', (41, 0.05291))\n",
      "('liverpool', (41, 0.05291))\n",
      "('devils', (41, 0.05291))\n",
      "('becks', (41, 0.08994))\n",
      "('spain', (41, 0.05291))\n",
      "('prove', (41, 0.05291))\n",
      "('moving', (41, 0.05291))\n",
      "('won', (41, 0.08994))\n",
      "('consequence', (41, 0.05291))\n",
      "('ferguson', (41, 0.05291))\n",
      "('unceremoniously', (41, 0.05291))\n",
      "('chucked', (41, 0.05291))\n",
      "('effort', (41, 0.05291))\n",
      "('league', (41, 0.05291))\n",
      "('aid', (41, 0.05291))\n",
      "('except', (41, 0.05291))\n",
      "('kicks', (41, 0.05291))\n",
      "('utterly', (41, 0.05291))\n",
      "('strippers', (42, 0.07308))\n",
      "('againstyour', (42, 0.07308))\n",
      "('fantasyor', (42, 0.07308))\n",
      "('seeing', (42, 0.07308))\n",
      "('thissweet', (42, 0.07308))\n",
      "('girlsexy', (42, 0.07308))\n",
      "('sixteengorgeous', (42, 0.07308))\n",
      "('yroldstripper', (42, 0.07308))\n",
      "('23', (42, 0.07308))\n",
      "('hooker', (42, 0.07308))\n",
      "('2223or', (42, 0.07308))\n",
      "('24', (42, 0.07308))\n",
      "('drug', (42, 0.07308))\n",
      "('addict25or26', (42, 0.07308))\n",
      "('bone', (42, 0.07308))\n",
      "('hag2728or', (42, 0.07308))\n",
      "('onbut', (42, 0.07308))\n",
      "('treatment', (42, 0.07308))\n",
      "('luckyif', (42, 0.07308))\n",
      "('dead', (42, 0.07308))\n",
      "('overdose', (42, 0.07308))\n",
      "('editsome', (42, 0.07308))\n",
      "('thier', (42, 0.07308))\n",
      "('primewhich', (42, 0.07308))\n",
      "('lasts', (42, 0.07308))\n",
      "('less', (42, 0.07308))\n",
      "('5', (42, 0.07308))\n",
      "('yrsmade', (42, 0.07308))\n",
      "('4000', (42, 0.07308))\n",
      "('tha', (43, 0.08529))\n",
      "('ya', (43, 0.08529))\n",
      "('dog', (43, 0.08529))\n",
      "('monkey', (43, 0.1449))\n",
      "('stick', (43, 0.1449))\n",
      "('repetitive', (43, 0.08529))\n",
      "('7', (43, 0.08529))\n",
      "('dirty', (43, 0.08529))\n",
      "('south', (43, 0.08529))\n",
      "('dj', (43, 0.08529))\n",
      "('jubilee', (43, 0.08529))\n",
      "('wjo', (44, 0.38375))\n",
      "('quickest', (44, 0.38375))\n",
      "('min', (44, 0.38375))\n",
      "('lambert', (45, 0.22353))\n",
      "('toughest', (45, 0.13157))\n",
      "('sore', (45, 0.13157))\n",
      "('broken', (45, 0.13157))\n",
      "('bones', (45, 0.13157))\n",
      "('beast', (45, 0.13157))\n",
      "('field', (45, 0.13157))\n",
      "('impressive', (45, 0.13157))\n",
      "('bernard', (46, 0.57565))\n",
      "('schusterrs', (46, 0.57565))\n",
      "('greatgreatgrandma', (46, 0.57565))\n",
      "('deutschland', (46, 0.57565))\n",
      "('alaska', (47, 0.51168))\n",
      "('pass', (47, 0.51168))\n",
      "('measure', (47, 0.51168))\n",
      "('marijuana', (47, 0.51168))\n",
      "('legalization', (47, 0.51168))\n",
      "('nope', (47, 0.51168))\n",
      "('liked', (48, 0.2093))\n",
      "('delete', (48, 0.2093))\n",
      "('cookies', (48, 0.2093))\n",
      "('india', (49, 0.07428))\n",
      "('developed', (49, 0.07428))\n",
      "('corruptass', (49, 0.07428))\n",
      "('politicians', (49, 0.07428))\n",
      "('defamed', (49, 0.07428))\n",
      "('ages', (49, 0.07428))\n",
      "('aim', (49, 0.07428))\n",
      "('japan', (49, 0.07428))\n",
      "('massive', (49, 0.07428))\n",
      "('latter', (49, 0.07428))\n",
      "('three', (49, 0.07428))\n",
      "('50', (49, 0.07428))\n",
      "('zicam', (50, 0.31296))\n",
      "('airborne', (50, 0.18421))\n",
      "('wonders', (50, 0.18421))\n",
      "('trick', (50, 0.18421))\n",
      "('soon', (50, 0.18421))\n",
      "('rate', (51, 0.34834))\n",
      "('buying', (51, 0.10712))\n",
      "('numerous', (51, 0.10712))\n",
      "('factors', (51, 0.10712))\n",
      "('determining', (51, 0.10712))\n",
      "('fico', (51, 0.10712))\n",
      "('score', (51, 0.10712))\n",
      "('assets', (51, 0.10712))\n",
      "('payment', (51, 0.10712))\n",
      "('sales', (51, 0.10712))\n",
      "('price', (51, 0.10712))\n",
      "('affect', (51, 0.10712))\n",
      "('rising', (51, 0.10712))\n",
      "('plan', (51, 0.10712))\n",
      "('significant', (51, 0.10712))\n",
      "('cheerleading', (52, 0.10574))\n",
      "('badly', (52, 0.06222))\n",
      "('report', (52, 0.06222))\n",
      "('tnx', (52, 0.06222))\n",
      "('generally', (52, 0.06222))\n",
      "('games', (52, 0.10574))\n",
      "('supported', (52, 0.06222))\n",
      "('corporations', (52, 0.06222))\n",
      "('cheerleaders', (52, 0.06222))\n",
      "('seem', (52, 0.06222))\n",
      "('copying', (52, 0.06222))\n",
      "('basis', (52, 0.10574))\n",
      "('wrapped', (52, 0.06222))\n",
      "('enjoyed', (52, 0.06222))\n",
      "('naturally', (52, 0.06222))\n",
      "('member', (52, 0.06222))\n",
      "('squad', (52, 0.06222))\n",
      "('miley', (53, 0.13954))\n",
      "('cyrus', (53, 0.13954))\n",
      "('pubescent', (53, 0.13954))\n",
      "('dolly', (53, 0.13954))\n",
      "('parton', (53, 0.13954))\n",
      "('photos', (53, 0.13954))\n",
      "('14', (53, 0.13954))\n",
      "('yo', (53, 0.13954))\n",
      "('aaaaaww', (53, 0.13954))\n",
      "('ridiculous', (53, 0.13954))\n",
      "('unimaginative', (53, 0.13954))\n",
      "('seemingly', (54, 0.04849))\n",
      "('reveal', (54, 0.08235))\n",
      "('himself', (54, 0.08235))\n",
      "('openly', (54, 0.04849))\n",
      "('inspired', (54, 0.04849))\n",
      "('teachings', (54, 0.11074))\n",
      "('holy', (54, 0.04849))\n",
      "('loving', (54, 0.04849))\n",
      "('acceptable', (54, 0.04849))\n",
      "('excuse', (54, 0.04849))\n",
      "('rejecting', (54, 0.04849))\n",
      "('scripture', (54, 0.08235))\n",
      "('reject', (54, 0.04849))\n",
      "('evil', (54, 0.04849))\n",
      "('itself', (54, 0.04849))\n",
      "('notion', (54, 0.04849))\n",
      "('faith', (54, 0.04849))\n",
      "('sin', (54, 0.08235))\n",
      "('blinds', (54, 0.04849))\n",
      "('deaf', (54, 0.04849))\n",
      "('voice', (54, 0.04849))\n",
      "('blood', (54, 0.04849))\n",
      "('jesus', (54, 0.04849))\n",
      "('communication', (54, 0.04849))\n",
      "('restored', (54, 0.04849))\n",
      "('result', (54, 0.04849))\n",
      "('tinyurlcom', (54, 0.04849))\n",
      "('o44bt', (54, 0.04849))\n",
      "('retrocardiac', (55, 0.17711))\n",
      "('heart', (55, 0.30091))\n",
      "('chest', (55, 0.17711))\n",
      "('xray', (55, 0.17711))\n",
      "('pneumonia', (55, 0.17711))\n",
      "('lung', (55, 0.17711))\n",
      "('infiltrate', (55, 0.17711))\n",
      "('legionnaires', (56, 0.26981))\n",
      "('disease', (56, 0.15879))\n",
      "('refrigerated', (56, 0.15879))\n",
      "('coolers', (56, 0.15879))\n",
      "('moldy', (56, 0.15879))\n",
      "('air', (56, 0.15879))\n",
      "('conditioning', (56, 0.15879))\n",
      "('paranoid', (56, 0.15879))\n",
      "('rare', (56, 0.15879))\n",
      "('grad', (57, 0.11923))\n",
      "('states', (57, 0.07245))\n",
      "('universities', (57, 0.04264))\n",
      "('disciplines', (57, 0.04264))\n",
      "('requirements', (57, 0.07245))\n",
      "('instance', (57, 0.04264))\n",
      "('gmat', (57, 0.04264))\n",
      "('law', (57, 0.07245))\n",
      "('application', (57, 0.04264))\n",
      "('fill', (57, 0.04264))\n",
      "('academic', (57, 0.04264))\n",
      "('references', (57, 0.04264))\n",
      "('essay', (57, 0.04264))\n",
      "('embassy', (57, 0.04264))\n",
      "('university', (57, 0.07245))\n",
      "('isnt', (57, 0.04264))\n",
      "('offering', (57, 0.04264))\n",
      "('eg', (57, 0.07245))\n",
      "('medecine', (57, 0.04264))\n",
      "('undergrad', (57, 0.07245))\n",
      "('degree', (57, 0.07245))\n",
      "('masters', (57, 0.04264))\n",
      "('phd', (57, 0.04264))\n",
      "('aware', (57, 0.04264))\n",
      "('applications', (57, 0.04264))\n",
      "('ucas', (57, 0.04264))\n",
      "('given', (57, 0.04264))\n",
      "('secondary', (57, 0.04264))\n",
      "('favorite', (58, 0.13314))\n",
      "('honestly', (58, 0.0583))\n",
      "('solid', (58, 0.0583))\n",
      "('especially', (58, 0.0583))\n",
      "('crunchy', (58, 0.0583))\n",
      "('mouth', (58, 0.0583))\n",
      "('extraction', (58, 0.0583))\n",
      "('equivalent', (58, 0.0583))\n",
      "('practically', (58, 0.0583))\n",
      "('crunch', (58, 0.0583))\n",
      "('seriously', (58, 0.0583))\n",
      "('dreaming', (58, 0.0583))\n",
      "('homemade', (58, 0.0583))\n",
      "('spaghetti', (58, 0.0583))\n",
      "('baked', (58, 0.0583))\n",
      "('garlic', (58, 0.0583))\n",
      "('bread', (58, 0.0583))\n",
      "('meals', (58, 0.0583))\n",
      "('gums', (58, 0.0583))\n",
      "('finish', (58, 0.0583))\n",
      "('healing', (58, 0.0583))\n",
      "('crunchwise', (58, 0.0583))\n",
      "('crackers', (58, 0.0583))\n",
      "('cheese', (58, 0.0583))\n",
      "('guyz', (59, 0.08225))\n",
      "('sweats', (59, 0.08225))\n",
      "('crying', (59, 0.08225))\n",
      "('sigh', (59, 0.08225))\n",
      "('closer', (59, 0.08225))\n",
      "('greatest', (60, 0.41866))\n",
      "('singer', (60, 0.41866))\n",
      "('hank', (60, 0.41866))\n",
      "('send', (61, 0.10468))\n",
      "('spelling', (61, 0.10468))\n",
      "('box', (61, 0.10468))\n",
      "('easier', (61, 0.10468))\n",
      "('interpret', (61, 0.10468))\n",
      "('checker', (61, 0.10468))\n",
      "('options', (61, 0.10468))\n",
      "('possess', (62, 0.2093))\n",
      "('33', (62, 0.35564))\n",
      "('teeth', (62, 0.35564))\n",
      "('32', (62, 0.35564))\n",
      "('citizen', (63, 0.13262))\n",
      "('england', (63, 0.17831))\n",
      "('easlier', (63, 0.07806))\n",
      "('ancestors', (63, 0.07806))\n",
      "('1850s', (63, 0.07806))\n",
      "('butyou', (63, 0.07806))\n",
      "('inherit', (63, 0.07806))\n",
      "('property', (63, 0.07806))\n",
      "('sinceyou', (63, 0.07806))\n",
      "('heir', (63, 0.07806))\n",
      "('count', (63, 0.07806))\n",
      "('reference', (63, 0.07806))\n",
      "('laws', (63, 0.07806))\n",
      "('wwwindhomeofficegovuk', (63, 0.07806))\n",
      "('notice', (64, 0.03288))\n",
      "('republicans', (64, 0.03288))\n",
      "('issues', (64, 0.0559))\n",
      "('defeat', (64, 0.03288))\n",
      "('terrorists', (64, 0.03288))\n",
      "('granted', (64, 0.03288))\n",
      "('defeating', (64, 0.03288))\n",
      "('terrorist', (64, 0.0559))\n",
      "('pakistan', (64, 0.03288))\n",
      "('iraq', (64, 0.0559))\n",
      "('none', (64, 0.03288))\n",
      "('osama', (64, 0.0559))\n",
      "('killed', (64, 0.03288))\n",
      "('soil', (64, 0.03288))\n",
      "('iran', (64, 0.03288))\n",
      "('immediate', (64, 0.03288))\n",
      "('threat', (64, 0.03288))\n",
      "('guess', (64, 0.03288))\n",
      "('bush', (64, 0.03288))\n",
      "('legal', (64, 0.03288))\n",
      "('hell', (64, 0.03288))\n",
      "('bushs', (64, 0.03288))\n",
      "('international', (64, 0.03288))\n",
      "('supporting', (64, 0.03288))\n",
      "('nafta', (64, 0.03288))\n",
      "('approving', (64, 0.03288))\n",
      "('cafta', (64, 0.03288))\n",
      "('mention', (64, 0.03288))\n",
      "('favoring', (64, 0.03288))\n",
      "('sending', (64, 0.03288))\n",
      "('everywhere', (64, 0.03288))\n",
      "('oh', (64, 0.0559))\n",
      "('creation', (64, 0.03288))\n",
      "('cutting', (64, 0.0559))\n",
      "('taxes', (64, 0.03288))\n",
      "('grants', (64, 0.03288))\n",
      "('oil', (64, 0.03288))\n",
      "('compaines', (64, 0.03288))\n",
      "('record', (64, 0.03288))\n",
      "('profits', (64, 0.03288))\n",
      "('funding', (64, 0.03288))\n",
      "('nclb', (64, 0.03288))\n",
      "('clintons', (64, 0.03288))\n",
      "('fault', (64, 0.03288))\n",
      "('excuses', (64, 0.03288))\n",
      "('racism', (64, 0.03288))\n",
      "('quit', (65, 0.08529))\n",
      "('ability', (65, 0.08529))\n",
      "('stamina', (65, 0.08529))\n",
      "('limit', (65, 0.08529))\n",
      "('beyond', (65, 0.08529))\n",
      "('physical', (65, 0.08529))\n",
      "('realm', (65, 0.08529))\n",
      "('starts', (65, 0.08529))\n",
      "('freak', (65, 0.08529))\n",
      "('imagine', (65, 0.08529))\n",
      "('summary', (66, 0.12448))\n",
      "('transall', (66, 0.12448))\n",
      "('saga', (66, 0.12448))\n",
      "('gary', (66, 0.12448))\n",
      "('paulsen', (66, 0.12448))\n",
      "('including', (66, 0.12448))\n",
      "('conflict', (66, 0.12448))\n",
      "('resolved', (66, 0.12448))\n",
      "('tone', (66, 0.12448))\n",
      "('nobut', (66, 0.12448))\n",
      "('recoders', (67, 0.06581))\n",
      "('hard', (67, 0.15029))\n",
      "('drive', (67, 0.15029))\n",
      "('backing', (67, 0.11177))\n",
      "('pics', (67, 0.06581))\n",
      "('decide', (67, 0.06581))\n",
      "('weither', (67, 0.06581))\n",
      "('external', (67, 0.15029))\n",
      "('suggestions', (67, 0.06581))\n",
      "('legit', (67, 0.06581))\n",
      "('copies', (67, 0.06581))\n",
      "('backup', (67, 0.11177))\n",
      "('potential', (67, 0.06581))\n",
      "('problems', (67, 0.06581))\n",
      "('internal', (67, 0.06581))\n",
      "('submerged', (67, 0.06581))\n",
      "('periods', (67, 0.06581))\n",
      "('sunlight', (67, 0.06581))\n",
      "('colonoscopy', (68, 0.19709))\n",
      "('sigmoidoscopy', (68, 0.10296))\n",
      "('doctor', (68, 0.0606))\n",
      "('interior', (68, 0.0606))\n",
      "('lining', (68, 0.10296))\n",
      "('intestine', (68, 0.10296))\n",
      "('rectum', (68, 0.1384))\n",
      "('colon', (68, 0.1384))\n",
      "('thin', (68, 0.0606))\n",
      "('flexible', (68, 0.0606))\n",
      "('viewing', (68, 0.0606))\n",
      "('instrument', (68, 0.0606))\n",
      "('colonoscope', (68, 0.0606))\n",
      "('detect', (68, 0.0606))\n",
      "('ulcers', (68, 0.0606))\n",
      "('polyps', (68, 0.10296))\n",
      "('tumors', (68, 0.10296))\n",
      "('areas', (68, 0.0606))\n",
      "('inflammation', (68, 0.10296))\n",
      "('bleeding', (68, 0.10296))\n",
      "('tissue', (68, 0.0606))\n",
      "('samples', (68, 0.0606))\n",
      "('collected', (68, 0.0606))\n",
      "('biopsy', (68, 0.0606))\n",
      "('abnormal', (68, 0.10296))\n",
      "('growths', (68, 0.1384))\n",
      "('removed', (68, 0.0606))\n",
      "('screening', (68, 0.0606))\n",
      "('identify', (68, 0.0606))\n",
      "('precancerous', (68, 0.0606))\n",
      "('cancerous', (68, 0.0606))\n",
      "('colorectal', (68, 0.0606))\n",
      "('cancer', (68, 0.0606))\n",
      "('anu', (68, 0.0606))\n",
      "('s', (68, 0.0606))\n",
      "('part', (68, 0.0606))\n",
      "('tests', (68, 0.0606))\n",
      "('hemorrhoids', (68, 0.0606))\n",
      "('conditions', (68, 0.0606))\n",
      "('diverticulosis', (68, 0.0606))\n",
      "('naked', (69, 0.18723))\n",
      "('everytime', (69, 0.05756))\n",
      "('wt', (69, 0.05756))\n",
      "('boyfriendand', (69, 0.05756))\n",
      "('sexy', (69, 0.05756))\n",
      "('normal', (69, 0.05756))\n",
      "('sorry', (69, 0.05756))\n",
      "('insulted', (69, 0.05756))\n",
      "('comfortable', (69, 0.0978))\n",
      "('whenever', (69, 0.05756))\n",
      "('sucked', (69, 0.05756))\n",
      "('snipped', (69, 0.05756))\n",
      "('psychologist', (69, 0.05756))\n",
      "('cloths', (69, 0.05756))\n",
      "('intelligent', (70, 0.65202))\n",
      "('pendulums', (71, 0.13039))\n",
      "('assist', (71, 0.07677))\n",
      "('earthquake', (71, 0.13039))\n",
      "('damage', (71, 0.07677))\n",
      "('reduction', (71, 0.07677))\n",
      "('suffice', (71, 0.07677))\n",
      "('recieve', (71, 0.07677))\n",
      "('drawn', (71, 0.07677))\n",
      "('thanks', (71, 0.07677))\n",
      "('advance', (71, 0.07677))\n",
      "('engineering', (71, 0.13039))\n",
      "('terms', (71, 0.07677))\n",
      "('dampers', (71, 0.17533))\n",
      "('active', (71, 0.07677))\n",
      "('passive', (71, 0.07677))\n",
      "('tuned', (71, 0.07677))\n",
      "('institute', (71, 0.07677))\n",
      "('latest', (72, 0.35423))\n",
      "('ocr', (72, 0.60186))\n",
      "('softwares', (72, 0.35423))\n",
      "('wwwdownloadcom', (72, 0.35423))\n",
      "('orlando', (73, 0.15349))\n",
      "('fl', (73, 0.15349))\n",
      "('smoking', (73, 0.26081))\n",
      "('phase', (73, 0.15349))\n",
      "('several', (73, 0.15349))\n",
      "('approved', (73, 0.15349))\n",
      "('kool', (74, 0.1102))\n",
      "('feeling', (74, 0.06484))\n",
      "('rejected', (74, 0.1102))\n",
      "('g', (74, 0.06484))\n",
      "('freakn', (74, 0.06484))\n",
      "('eachother', (74, 0.06484))\n",
      "('whether', (74, 0.06484))\n",
      "('bit', (74, 0.1102))\n",
      "('lotta', (74, 0.06484))\n",
      "('pulled', (74, 0.06484))\n",
      "('string', (74, 0.06484))\n",
      "('girlfriend', (74, 0.06484))\n",
      "('riding', (75, 0.23026))\n",
      "('hood', (75, 0.23026))\n",
      "('fashion', (75, 0.52598))\n",
      "('victim', (75, 0.23026))\n",
      "('wolf', (75, 0.23026))\n",
      "('dressing', (75, 0.23026))\n",
      "('grandma', (75, 0.23026))\n",
      "('intersting', (76, 0.57565))\n",
      "('sandler', (76, 0.97801))\n",
      "('omg', (76, 0.57565))\n",
      "('animal', (77, 0.24293))\n",
      "('definitely', (77, 0.0869))\n",
      "('disoriented', (77, 0.0869))\n",
      "('threatened', (77, 0.0869))\n",
      "('leaving', (77, 0.0869))\n",
      "('regret', (77, 0.0869))\n",
      "('authorities', (77, 0.0869))\n",
      "('police', (77, 0.0869))\n",
      "('embarrassed', (77, 0.0869))\n",
      "('wwwevokenorg', (78, 0.24237))\n",
      "('mantown', (78, 0.41178))\n",
      "('waaf', (78, 0.24237))\n",
      "('contestants', (78, 0.24237))\n",
      "('gone', (78, 0.24237))\n",
      "('travel', (79, 0.07548))\n",
      "('laser', (79, 0.17245))\n",
      "('proton', (79, 0.07548))\n",
      "('accelerator', (79, 0.07548))\n",
      "('experiment', (79, 0.07548))\n",
      "('button', (79, 0.12828))\n",
      "('pushed', (79, 0.12828))\n",
      "('nano', (79, 0.07548))\n",
      "('tech', (79, 0.07548))\n",
      "('crazy', (80, 0.15879))\n",
      "('kc', (80, 0.15879))\n",
      "('jojo', (80, 0.15879))\n",
      "('album', (80, 0.15879))\n",
      "('wwwamazoncom', (80, 0.15879))\n",
      "('gp', (80, 0.15879))\n",
      "('product', (80, 0.15879))\n",
      "('b000053gu4', (80, 0.15879))\n",
      "('refmartli4', (80, 0.15879))\n",
      "('00239775607124848', (80, 0.15879))\n",
      "('smusicvglancen5174', (80, 0.15879))\n",
      "('reflection', (81, 0.10574))\n",
      "('moon', (81, 0.22811))\n",
      "('covered', (81, 0.14216))\n",
      "('aluminium', (81, 0.14216))\n",
      "('foil', (81, 0.14216))\n",
      "('d', (81, 0.06222))\n",
      "('nights', (81, 0.06222))\n",
      "('reflected', (81, 0.06222))\n",
      "('light', (81, 0.10574))\n",
      "('brighter', (81, 0.06222))\n",
      "('daylight', (81, 0.06222))\n",
      "('accordance', (81, 0.06222))\n",
      "('proportion', (81, 0.06222))\n",
      "('visible', (81, 0.06222))\n",
      "('contains', (81, 0.06222))\n",
      "('shadowed', (81, 0.06222))\n",
      "('dissipates', (81, 0.06222))\n",
      "('reflecting', (81, 0.06222))\n",
      "('warmth', (81, 0.06222))\n",
      "('neda', (82, 0.14856))\n",
      "('pronounced', (82, 0.14856))\n",
      "('nayduh', (82, 0.14856))\n",
      "('iranian', (82, 0.14856))\n",
      "('sunday', (82, 0.14856))\n",
      "('czech', (82, 0.14856))\n",
      "('screen', (82, 0.14856))\n",
      "('lies', (83, 0.05116))\n",
      "('uses', (83, 0.05116))\n",
      "('account', (83, 0.05116))\n",
      "('suggestion', (83, 0.05116))\n",
      "('girlfirend', (83, 0.05116))\n",
      "('future', (83, 0.05116))\n",
      "('bring', (83, 0.05116))\n",
      "('stealing', (83, 0.05116))\n",
      "('lying', (83, 0.05116))\n",
      "('strangers', (83, 0.05116))\n",
      "('rush', (83, 0.05116))\n",
      "('dump', (83, 0.05116))\n",
      "('asap', (83, 0.05116))\n",
      "('breaking', (83, 0.05116))\n",
      "('staying', (83, 0.05116))\n",
      "('fromm', (83, 0.05116))\n",
      "('support', (83, 0.05116))\n",
      "('group', (83, 0.05116))\n",
      "('counselor', (83, 0.05116))\n",
      "('iwthout', (83, 0.05116))\n",
      "('strong', (83, 0.05116))\n",
      "('deserve', (83, 0.05116))\n",
      "('soccer', (84, 0.03311))\n",
      "('function', (84, 0.03311))\n",
      "('holding', (84, 0.09264))\n",
      "('midfielder', (84, 0.12145))\n",
      "('defensive', (84, 0.10776))\n",
      "('stationed', (84, 0.03311))\n",
      "('defenders', (84, 0.03311))\n",
      "('thus', (84, 0.03311))\n",
      "('freedom', (84, 0.05629))\n",
      "('opponents', (84, 0.03311))\n",
      "('specialist', (84, 0.03311))\n",
      "('midfielders', (84, 0.07567))\n",
      "('responsibilities', (84, 0.03311))\n",
      "('defend', (84, 0.03311))\n",
      "('tackle', (84, 0.03311))\n",
      "('opposing', (84, 0.03311))\n",
      "('recover', (84, 0.03311))\n",
      "('ball', (84, 0.03311))\n",
      "('safely', (84, 0.03311))\n",
      "('distribute', (84, 0.03311))\n",
      "('attackingminded', (84, 0.03311))\n",
      "('teams', (84, 0.05629))\n",
      "('defence', (84, 0.03311))\n",
      "('fellow', (84, 0.03311))\n",
      "('parade', (84, 0.03311))\n",
      "('attacking', (84, 0.03311))\n",
      "('flair', (84, 0.03311))\n",
      "('worry', (84, 0.03311))\n",
      "('positions', (84, 0.03311))\n",
      "('football', (84, 0.03311))\n",
      "('aggressive', (84, 0.03311))\n",
      "('spanish', (84, 0.05629))\n",
      "('brazilian', (84, 0.07567))\n",
      "('portuguese', (84, 0.05629))\n",
      "('volante', (84, 0.05629))\n",
      "('rudder', (84, 0.03311))\n",
      "('direction', (84, 0.03311))\n",
      "('portugal', (84, 0.03311))\n",
      "('trinco', (84, 0.03311))\n",
      "('meaning', (84, 0.03311))\n",
      "('lock', (84, 0.03311))\n",
      "('ric', (84, 0.03311))\n",
      "('cantona', (84, 0.05629))\n",
      "('didier', (84, 0.03311))\n",
      "('deschamps', (84, 0.07567))\n",
      "('carrier', (84, 0.03311))\n",
      "('originally', (84, 0.03311))\n",
      "('intended', (84, 0.03311))\n",
      "('derogatory', (84, 0.03311))\n",
      "('term', (84, 0.03311))\n",
      "('expressing', (84, 0.03311))\n",
      "('disdain', (84, 0.03311))\n",
      "('perceiving', (84, 0.03311))\n",
      "('technically', (84, 0.03311))\n",
      "('limited', (84, 0.03311))\n",
      "('deploy', (84, 0.03311))\n",
      "('includes', (84, 0.03311))\n",
      "('national', (84, 0.03311))\n",
      "('fielded', (84, 0.03311))\n",
      "('famous', (84, 0.03311))\n",
      "('winning', (84, 0.03311))\n",
      "('captain', (84, 0.03311))\n",
      "('dunga', (84, 0.03311))\n",
      "('overlooked', (84, 0.03311))\n",
      "('critical', (84, 0.03311))\n",
      "('modern', (84, 0.03311))\n",
      "('highly', (84, 0.03311))\n",
      "('specialized', (84, 0.03311))\n",
      "('executed', (84, 0.03311))\n",
      "('successfully', (84, 0.03311))\n",
      "('handful', (84, 0.03311))\n",
      "('whic', (85, 0.2093))\n",
      "('infamous', (85, 0.2093))\n",
      "('wanted', (85, 0.47815))\n",
      "('reathing', (85, 0.35564))\n",
      "('hitler', (85, 0.2093))\n",
      "('liebensraum', (85, 0.2093))\n",
      "('americans', (86, 0.1262))\n",
      "('unemployment', (86, 0.07428))\n",
      "('rioting', (86, 0.07428))\n",
      "('discontent', (86, 0.07428))\n",
      "('caused', (86, 0.07428))\n",
      "('bless', (86, 0.07428))\n",
      "('great', (86, 0.1262))\n",
      "('civil', (86, 0.07428))\n",
      "('unrest', (86, 0.07428))\n",
      "('nations', (86, 0.07428))\n",
      "('war', (86, 0.07428))\n",
      "('green', (86, 0.07428))\n",
      "('constitution', (86, 0.07428))\n",
      "('express', (86, 0.07428))\n",
      "('16', (87, 0.05756))\n",
      "('hasent', (87, 0.05756))\n",
      "('quick1111', (87, 0.05756))\n",
      "('alright', (87, 0.05756))\n",
      "('gurl', (87, 0.05756))\n",
      "('sudden', (87, 0.05756))\n",
      "('concerned', (87, 0.05756))\n",
      "('yalls', (87, 0.05756))\n",
      "('drain', (87, 0.05756))\n",
      "('straighten', (87, 0.05756))\n",
      "('serena', (88, 0.06189))\n",
      "('sisters', (88, 0.09929))\n",
      "('accused', (88, 0.02708))\n",
      "('breach', (88, 0.04601))\n",
      "('contract', (88, 0.06189))\n",
      "('lawsuit', (88, 0.04601))\n",
      "('brian', (88, 0.02708))\n",
      "('skoloff', (88, 0.02708))\n",
      "('associated', (88, 0.02708))\n",
      "('press', (88, 0.02708))\n",
      "('writer', (88, 0.02708))\n",
      "('november', (88, 0.02708))\n",
      "('palm', (88, 0.04601))\n",
      "('fla', (88, 0.02708))\n",
      "('ap', (88, 0.02708))\n",
      "('tennis', (88, 0.02708))\n",
      "('stars', (88, 0.04601))\n",
      "('venus', (88, 0.04601))\n",
      "('reneged', (88, 0.04601))\n",
      "('2001', (88, 0.02708))\n",
      "('battle', (88, 0.04601))\n",
      "('sexes', (88, 0.04601))\n",
      "('costing', (88, 0.02708))\n",
      "('promoters', (88, 0.07574))\n",
      "('millions', (88, 0.02708))\n",
      "('dollars', (88, 0.02708))\n",
      "('attorney', (88, 0.06189))\n",
      "('claimed', (88, 0.02708))\n",
      "('friday', (88, 0.04601))\n",
      "('statements', (88, 0.02708))\n",
      "('breachofcontract', (88, 0.02708))\n",
      "('case', (88, 0.07574))\n",
      "('sanctity', (88, 0.02708))\n",
      "('john', (88, 0.02708))\n",
      "('romano', (88, 0.04601))\n",
      "('carol', (88, 0.02708))\n",
      "('clarke', (88, 0.04601))\n",
      "('keith', (88, 0.02708))\n",
      "('rhodes', (88, 0.04601))\n",
      "('suing', (88, 0.02708))\n",
      "('richard', (88, 0.04601))\n",
      "('alleged', (88, 0.02708))\n",
      "('owners', (88, 0.02708))\n",
      "('cckr', (88, 0.02708))\n",
      "('allege', (88, 0.02708))\n",
      "('committed', (88, 0.02708))\n",
      "('daughters', (88, 0.02708))\n",
      "('secured', (88, 0.02708))\n",
      "('mens', (88, 0.02708))\n",
      "('seeking', (88, 0.02708))\n",
      "('unspecified', (88, 0.02708))\n",
      "('damages', (88, 0.02708))\n",
      "('claim', (88, 0.02708))\n",
      "('commitment', (88, 0.02708))\n",
      "('authority', (88, 0.02708))\n",
      "('enter', (88, 0.02708))\n",
      "('document', (88, 0.02708))\n",
      "('signed', (88, 0.06189))\n",
      "('agreement', (88, 0.02708))\n",
      "('note', (88, 0.02708))\n",
      "('letter', (88, 0.02708))\n",
      "('obligating', (88, 0.02708))\n",
      "('participate', (88, 0.02708))\n",
      "('malcolm', (88, 0.02708))\n",
      "('cunningham', (88, 0.04601))\n",
      "('jurors', (88, 0.02708))\n",
      "('similarly', (88, 0.02708))\n",
      "('begins', (88, 0.02708))\n",
      "('ends', (88, 0.02708))\n",
      "('ended', (88, 0.02708))\n",
      "('mistrial', (88, 0.02708))\n",
      "('december', (88, 0.02708))\n",
      "('testimony', (88, 0.02708))\n",
      "('county', (88, 0.02708))\n",
      "('circuit', (88, 0.02708))\n",
      "('judge', (88, 0.02708))\n",
      "('jeffrey', (88, 0.02708))\n",
      "('winicoff', (88, 0.02708))\n",
      "('expected', (88, 0.02708))\n",
      "('five', (88, 0.02708))\n",
      "('courtroom', (88, 0.02708))\n",
      "('sitting', (88, 0.02708))\n",
      "('table', (88, 0.02708))\n",
      "('silver', (88, 0.02708))\n",
      "('laptop', (88, 0.02708))\n",
      "('computers', (88, 0.02708))\n",
      "('edmonton', (89, 0.21144))\n",
      "('oiler', (89, 0.12448))\n",
      "('started', (89, 0.12448))\n",
      "('watching', (89, 0.12448))\n",
      "('rangers', (89, 0.12448))\n",
      "('oilers', (89, 0.12448))\n",
      "('win', (90, 0.20061))\n",
      "('fifa', (90, 0.11808))\n",
      "('till', (90, 0.11808))\n",
      "('whistle', (90, 0.11808))\n",
      "('blow', (90, 0.11808))\n",
      "('poll', (90, 0.11808))\n",
      "('wwwworldcuptourorg', (90, 0.11808))\n",
      "('brasil', (90, 0.11808))\n",
      "('far', (90, 0.11808))\n",
      "('alex', (90, 0.11808))\n",
      "('oi', (90, 0.26972))\n",
      "('confuzeled', (91, 0.06397))\n",
      "('crush', (91, 0.06397))\n",
      "('emails', (91, 0.06397))\n",
      "('blue', (91, 0.06397))\n",
      "('related', (91, 0.06397))\n",
      "('married', (91, 0.06397))\n",
      "('whom', (91, 0.06397))\n",
      "('realated', (91, 0.06397))\n",
      "('together', (91, 0.06397))\n",
      "('summer', (91, 0.06397))\n",
      "('emailing', (91, 0.06397))\n",
      "('confuzed', (91, 0.06397))\n",
      "('io', (91, 0.06397))\n",
      "('hopw', (91, 0.06397))\n",
      "('stupid', (91, 0.06397))\n",
      "('whoever', (91, 0.06397))\n",
      "('choices', (91, 0.06397))\n",
      "('lessen', (92, 0.09905))\n",
      "('fat', (92, 0.0583))\n",
      "('calorie', (92, 0.0583))\n",
      "('consumption', (92, 0.0583))\n",
      "('calories', (92, 0.0583))\n",
      "('wwwhealthandstrengthnet', (92, 0.09905))\n",
      "('qofweekhtm', (92, 0.0583))\n",
      "('54', (92, 0.0583))\n",
      "('lbs', (92, 0.0583))\n",
      "('picture', (92, 0.0583))\n",
      "('perhaps', (92, 0.0583))\n",
      "('vitamins', (92, 0.0583))\n",
      "('multi', (92, 0.0583))\n",
      "('nutrients', (92, 0.0583))\n",
      "('vegetables', (92, 0.0583))\n",
      "('processed', (92, 0.0583))\n",
      "('drinking', (92, 0.0583))\n",
      "('fiber', (92, 0.0583))\n",
      "('fuller', (92, 0.0583))\n",
      "('webmaster', (93, 0.0583))\n",
      "('exactly', (93, 0.0583))\n",
      "('creates', (93, 0.0583))\n",
      "('administers', (93, 0.0583))\n",
      "('websites', (93, 0.09905))\n",
      "('upkeep', (93, 0.0583))\n",
      "('updated', (93, 0.0583))\n",
      "('pertinent', (93, 0.0583))\n",
      "('user', (93, 0.0583))\n",
      "('entire', (93, 0.0583))\n",
      "('layout', (93, 0.0583))\n",
      "('mine', (93, 0.0583))\n",
      "('side', (93, 0.0583))\n",
      "('saturated', (93, 0.0583))\n",
      "('chiropractor', (93, 0.0583))\n",
      "('paid', (93, 0.0583))\n",
      "('5000', (93, 0.0583))\n",
      "('bucks', (93, 0.0583))\n",
      "('hundred', (93, 0.0583))\n",
      "('wwwgvchirocom', (93, 0.0583))\n",
      "('revise', (94, 0.18421))\n",
      "('french', (94, 0.42079))\n",
      "('mad', (94, 0.18421))\n",
      "('pretend', (94, 0.18421))\n",
      "('minds', (95, 0.03463))\n",
      "('coping', (95, 0.03463))\n",
      "('mechanism', (95, 0.03463))\n",
      "('convenient', (95, 0.03463))\n",
      "('explaining', (95, 0.03463))\n",
      "('stories', (95, 0.09682))\n",
      "('invented', (95, 0.05884))\n",
      "('explain', (95, 0.07911))\n",
      "('explained', (95, 0.03463))\n",
      "('thunder', (95, 0.03463))\n",
      "('tides', (95, 0.03463))\n",
      "('rain', (95, 0.03463))\n",
      "('evolved', (95, 0.03463))\n",
      "('greek', (95, 0.03463))\n",
      "('roman', (95, 0.03463))\n",
      "('heroic', (95, 0.03463))\n",
      "('deeds', (95, 0.03463))\n",
      "('along', (95, 0.03463))\n",
      "('crutch', (95, 0.03463))\n",
      "('intellectually', (95, 0.03463))\n",
      "('educationally', (95, 0.03463))\n",
      "('impaired', (95, 0.03463))\n",
      "('bible', (95, 0.03463))\n",
      "('belt', (95, 0.03463))\n",
      "('horrible', (95, 0.03463))\n",
      "('mysterious', (95, 0.03463))\n",
      "('complexities', (95, 0.03463))\n",
      "('bother', (95, 0.03463))\n",
      "('church', (95, 0.03463))\n",
      "('spoon', (95, 0.03463))\n",
      "('fed', (95, 0.03463))\n",
      "('opinions', (95, 0.03463))\n",
      "('everything', (95, 0.03463))\n",
      "('religion', (95, 0.07911))\n",
      "('magical', (95, 0.03463))\n",
      "('theories', (95, 0.03463))\n",
      "('subjugate', (95, 0.03463))\n",
      "('yall', (96, 0.13954))\n",
      "('libs', (96, 0.13954))\n",
      "('yail', (96, 0.13954))\n",
      "('harverd', (96, 0.13954))\n",
      "('collidge', (96, 0.13954))\n",
      "('afford', (96, 0.13954))\n",
      "('maroon', (96, 0.13954))\n",
      "('expensive', (96, 0.13954))\n",
      "('diddly', (96, 0.13954))\n",
      "('poop', (96, 0.13954))\n",
      "('wild', (97, 0.489))\n",
      "('willing', (97, 0.489))\n",
      "('def', (97, 0.28782))\n",
      "('leppard', (97, 0.28782))\n",
      "('translate', (98, 0.0869))\n",
      "('gold', (98, 0.0869))\n",
      "('latin', (98, 0.14764))\n",
      "('simple', (98, 0.0869))\n",
      "('translation', (98, 0.14764))\n",
      "('sense', (98, 0.0869))\n",
      "('appreciate', (98, 0.0869))\n",
      "('puella', (98, 0.0869))\n",
      "('quae', (98, 0.0869))\n",
      "('vertere', (98, 0.0869))\n",
      "('aurum', (98, 0.0869))\n",
      "('plumbum', (98, 0.0869))\n",
      "('potuit', (98, 0.0869))\n",
      "('online', (98, 0.0869))\n",
      "('tools', (98, 0.0869))\n",
      "('crap', (98, 0.0869))\n",
      "('suck', (99, 0.11232))\n",
      "('worst', (99, 0.11232))\n",
      "('sucks', (99, 0.11232))\n",
      "('thankful', (99, 0.11232))\n",
      "('agree', (99, 0.11232))\n",
      "('worried', (99, 0.11232))\n",
      "('whitetail', (100, 0.06987))\n",
      "('deer', (100, 0.09394))\n",
      "('meat', (100, 0.11495))\n",
      "('texas', (100, 0.09394))\n",
      "('pounds', (100, 0.04112))\n",
      "('frozen', (100, 0.04112))\n",
      "('prepackaged', (100, 0.04112))\n",
      "('ground', (100, 0.04112))\n",
      "('hunters', (100, 0.04112))\n",
      "('association', (100, 0.04112))\n",
      "('labeled', (100, 0.04112))\n",
      "('sale', (100, 0.04112))\n",
      "('giver', (100, 0.04112))\n",
      "('throw', (100, 0.04112))\n",
      "('took', (100, 0.04112))\n",
      "('anyway', (100, 0.04112))\n",
      "('cannot', (100, 0.04112))\n",
      "('items', (100, 0.04112))\n",
      "('posting', (100, 0.04112))\n",
      "('craigslist', (100, 0.04112))\n",
      "('chicken', (100, 0.06987))\n",
      "('milk', (100, 0.06987))\n",
      "('fails', (100, 0.04112))\n",
      "('tight', (100, 0.04112))\n",
      "('peanut', (100, 0.04112))\n",
      "('butter', (100, 0.04112))\n",
      "('winwin', (100, 0.04112))\n",
      "('situation', (100, 0.04112))\n",
      "('store', (100, 0.04112))\n",
      "('hamburger', (100, 0.04112))\n",
      "('helper', (100, 0.04112))\n",
      "('lean', (100, 0.04112))\n",
      "('protein', (100, 0.04112))\n",
      "('gay', (1, 0.20047, 29, 0.12629))\n",
      "('somewhere', (1, 0.06208, 24, 0.0259))\n",
      "('attractive', (1, 0.11133, 69, 0.04383))\n",
      "('straight', (1, 0.05565, 29, 0.11687))\n",
      "('saying', (1, 0.1022, 8, 0.0685))\n",
      "('another', (1, 0.06208, 13, 0.23011))\n",
      "('trust', (1, 0.05565, 83, 0.07792))\n",
      "('whats', (1, 0.06208, 87, 0.0489))\n",
      "('ny', (2, 0.10958, 89, 0.09478))\n",
      "('near', (2, 0.06111, 67, 0.0559))\n",
      "('lots', (2, 0.06111, 92, 0.04953))\n",
      "('foreign', (3, 0.12988, 26, 0.0242))\n",
      "('happen', (5, 0.09478, 81, 0.09478))\n",
      "('room', (5, 0.08701, 85, 0.43893))\n",
      "('went', (5, 0.09478, 96, 0.21253))\n",
      "('pants', (5, 0.10574, 22, 0.04299))\n",
      "('black', (6, 0.10868, 14, 0.05148))\n",
      "('mass', (6, 0.08942, 71, 0.16094))\n",
      "('cool', (6, 0.10868, 28, 0.03873))\n",
      "('happened', (7, 0.1397, 16, 0.02539))\n",
      "('page', (7, 0.1397, 48, 0.1778))\n",
      "('anywhere', (7, 0.1397, 43, 0.07245))\n",
      "('whole', (8, 0.14965, 49, 0.04538))\n",
      "('truth', (8, 0.14965, 29, 0.0469))\n",
      "('told', (8, 0.04162, 88, 0.023))\n",
      "('hiding', (8, 0.04162, 64, 0.02793))\n",
      "('mother', (8, 0.10271, 39, 0.08047))\n",
      "('quite', (8, 0.04162, 58, 0.04953))\n",
      "('liberal', (9, 0.12091, 64, 0.02504))\n",
      "('vote', (9, 0.16648, 90, 0.08253))\n",
      "('interest', (9, 0.05549, 51, 0.22458))\n",
      "('adam', (9, 0.06045, 76, 0.87664))\n",
      "('b', (9, 0.06744, 26, 0.0135))\n",
      "('leader', (9, 0.12091, 85, 0.15937))\n",
      "('already', (9, 0.06045, 26, 0.0242))\n",
      "('suggest', (10, 0.0978, 67, 0.0559))\n",
      "('trial', (10, 0.08766, 88, 0.04124))\n",
      "('version', (10, 0.0978, 53, 0.11853))\n",
      "('cd', (10, 0.0978, 67, 0.0559))\n",
      "('files', (10, 0.08766, 67, 0.10018))\n",
      "('amazoncom', (10, 0.0978, 80, 0.13489))\n",
      "('works', (11, 0.11704, 87, 0.08047))\n",
      "('problem', (11, 0.07112, 12, 0.03372))\n",
      "('skin', (11, 0.1275, 42, 0.05565))\n",
      "('made', (11, 0.07112, 95, 0.02942))\n",
      "('walk', (12, 0.03372, 43, 0.07245))\n",
      "('beach', (12, 0.05549, 88, 0.03785))\n",
      "('west', (12, 0.03372, 88, 0.023))\n",
      "('asking', (12, 0.03372, 15, 0.06111))\n",
      "('possible', (12, 0.03372, 79, 0.06412))\n",
      "('walking', (12, 0.10329, 26, 0.01034))\n",
      "('15', (12, 0.03372, 32, 0.04495))\n",
      "('myself', (12, 0.03372, 69, 0.0489))\n",
      "('sleep', (12, 0.06045, 18, 0.01897))\n",
      "('whos', (12, 0.03372, 70, 0.32599))\n",
      "('game', (13, 0.20626, 84, 0.05046))\n",
      "('mcdonalds', (14, 0.05148, 64, 0.02793))\n",
      "('jack', (14, 0.04615, 45, 0.20036))\n",
      "('trying', (14, 0.05148, 99, 0.09541))\n",
      "('weight', (14, 0.05148, 32, 0.04495))\n",
      "('em', (14, 0.05148, 28, 0.03873))\n",
      "('child', (15, 0.06111, 16, 0.02539))\n",
      "('catch', (15, 0.10958, 49, 0.05656))\n",
      "('alltime', (15, 0.06111, 26, 0.0135))\n",
      "('thoughts', (15, 0.06111, 82, 0.1262))\n",
      "('worth', (16, 0.02539, 41, 0.04495))\n",
      "('ex', (16, 0.02276, 74, 0.09878))\n",
      "('month', (16, 0.02539, 100, 0.03493))\n",
      "('showed', (16, 0.02539, 26, 0.0135))\n",
      "('number', (16, 0.02539, 90, 0.1003))\n",
      "('wish', (16, 0.02276, 57, 0.06494))\n",
      "('shes', (16, 0.04181, 24, 0.04265))\n",
      "('total', (16, 0.02539, 18, 0.02116))\n",
      "('mom', (16, 0.02539, 23, 0.03951))\n",
      "('drinks', (16, 0.02539, 22, 0.04299))\n",
      "('each', (16, 0.02539, 67, 0.0559))\n",
      "('force', (16, 0.02539, 26, 0.0135))\n",
      "('turn', (16, 0.02539, 98, 0.07382))\n",
      "('wait', (16, 0.02539, 64, 0.02793))\n",
      "('weak', (18, 0.02116, 83, 0.04346))\n",
      "('treat', (18, 0.02116, 24, 0.0259))\n",
      "('ourselves', (18, 0.02116, 86, 0.0631))\n",
      "('agreements', (18, 0.02116, 88, 0.023))\n",
      "('describe', (18, 0.02116, 84, 0.02813))\n",
      "('point', (18, 0.03791, 58, 0.04439))\n",
      "('young', (18, 0.01897, 26, 0.0242))\n",
      "('understanding', (18, 0.05221, 29, 0.05366))\n",
      "('system', (18, 0.02116, 57, 0.03623))\n",
      "('psychological', (18, 0.02116, 95, 0.02942))\n",
      "('thought', (18, 0.02116, 89, 0.10574))\n",
      "('inner', (18, 0.02116, 68, 0.05148))\n",
      "('wrong', (18, 0.02116, 24, 0.0259))\n",
      "('tv', (18, 0.01897, 23, 0.07083))\n",
      "('relevant', (18, 0.02116, 21, 0.1449))\n",
      "('christian', (18, 0.02116, 95, 0.02942))\n",
      "('tolerant', (18, 0.01897, 28, 0.06943))\n",
      "('changing', (18, 0.02116, 26, 0.0135))\n",
      "('night', (19, 0.12522, 81, 0.09478))\n",
      "('okay', (20, 0.21916, 74, 0.09878))\n",
      "('illegal', (20, 0.2445, 100, 0.03493))\n",
      "('tips', (21, 0.1449, 37, 0.07984))\n",
      "('conversation', (21, 0.1449, 24, 0.0259))\n",
      "('serve', (22, 0.10613, 77, 0.06074))\n",
      "('stripping', (22, 0.04299, 42, 0.06208))\n",
      "('stage', (22, 0.04299, 26, 0.0135))\n",
      "('above', (22, 0.04299, 64, 0.02793))\n",
      "('rest', (22, 0.04299, 84, 0.02813))\n",
      "('dance', (22, 0.07707, 43, 0.06494))\n",
      "('jsut', (22, 0.04299, 83, 0.04346))\n",
      "('pretty', (22, 0.04299, 56, 0.13489))\n",
      "('hit', (22, 0.03854, 79, 0.11498))\n",
      "('added', (23, 0.03951, 88, 0.023))\n",
      "('music', (23, 0.03951, 67, 0.0559))\n",
      "('media', (23, 0.03951, 64, 0.02793))\n",
      "('cds', (23, 0.03951, 67, 0.0559))\n",
      "('dvd', (23, 0.16118, 67, 0.038))\n",
      "('either', (23, 0.03951, 71, 0.06521))\n",
      "('choose', (23, 0.03026, 24, 0.07936))\n",
      "('open', (23, 0.03951, 64, 0.02793))\n",
      "('link', (23, 0.03951, 71, 0.06521))\n",
      "('place', (23, 0.03951, 77, 0.07382))\n",
      "('yet', (24, 0.04646, 88, 0.02062))\n",
      "('nice', (24, 0.04646, 52, 0.04737))\n",
      "('noticed', (24, 0.04646, 64, 0.02504))\n",
      "('known', (24, 0.0259, 41, 0.04495))\n",
      "('male', (24, 0.02321, 39, 0.17533))\n",
      "('suppose', (24, 0.0259, 26, 0.0135))\n",
      "('same', (24, 0.0259, 50, 0.15648))\n",
      "('blessed', (24, 0.0259, 65, 0.07245))\n",
      "('making', (25, 0.11853, 64, 0.02793))\n",
      "('profitable', (25, 0.11853, 26, 0.0135))\n",
      "('business', (26, 0.03328, 57, 0.02981))\n",
      "('move', (26, 0.0242, 83, 0.03896))\n",
      "('reasons', (26, 0.0242, 84, 0.02521))\n",
      "('thinking', (26, 0.0135, 53, 0.11853))\n",
      "('opening', (26, 0.0135, 88, 0.023))\n",
      "('large', (26, 0.0121, 68, 0.09229))\n",
      "('balance', (26, 0.0135, 32, 0.04495))\n",
      "('apparent', (26, 0.0135, 95, 0.02942))\n",
      "('high', (26, 0.0242, 86, 0.05656))\n",
      "('students', (26, 0.0135, 57, 0.03623))\n",
      "('fresh', (26, 0.0135, 58, 0.04953))\n",
      "('hitting', (26, 0.0135, 37, 0.07984))\n",
      "('speaking', (26, 0.0242, 28, 0.03471))\n",
      "('position', (26, 0.01111, 84, 0.06946))\n",
      "('company', (26, 0.0135, 88, 0.023))\n",
      "('manufacturing', (26, 0.03328, 49, 0.05192))\n",
      "('maintain', (26, 0.0135, 93, 0.04953))\n",
      "('13', (26, 0.0135, 87, 0.0489))\n",
      "('end', (26, 0.0135, 100, 0.03493))\n",
      "('links', (26, 0.0242, 64, 0.02504))\n",
      "('western', (26, 0.0242, 28, 0.03471))\n",
      "('department', (26, 0.0135, 77, 0.07382))\n",
      "('sell', (26, 0.02221, 100, 0.05749))\n",
      "('america', (26, 0.0135, 86, 0.0631))\n",
      "('brand', (26, 0.0135, 37, 0.07984))\n",
      "('growing', (26, 0.0135, 32, 0.04495))\n",
      "('speak', (26, 0.0121, 94, 0.28052))\n",
      "('middle', (27, 0.32599, 58, 0.04953))\n",
      "('yeah', (28, 0.03873, 38, 0.06111))\n",
      "('worked', (28, 0.03873, 50, 0.15648))\n",
      "('fairly', (28, 0.03873, 57, 0.03623))\n",
      "('hate', (28, 0.03873, 86, 0.0631))\n",
      "('care', (28, 0.03873, 64, 0.02793))\n",
      "('believe', (29, 0.06521, 79, 0.06412))\n",
      "('born', (29, 0.06521, 46, 0.489))\n",
      "('choice', (29, 0.11687, 71, 0.05845))\n",
      "('accept', (29, 0.06521, 54, 0.04119))\n",
      "('hope', (29, 0.06521, 73, 0.13039))\n",
      "('3', (30, 0.13489, 57, 0.03623))\n",
      "('apply', (31, 0.10625, 57, 0.06494))\n",
      "('visa', (31, 0.11853, 57, 0.03623))\n",
      "('information', (31, 0.11853, 93, 0.04953))\n",
      "('lost', (32, 0.04495, 92, 0.04953))\n",
      "('foods', (32, 0.03698, 92, 0.12222))\n",
      "('keeping', (32, 0.04495, 64, 0.02793))\n",
      "('once', (32, 0.04495, 84, 0.02813))\n",
      "('show', (33, 0.27944, 97, 0.2445))\n",
      "('la', (34, 0.08244, 40, 0.09218))\n",
      "('en', (34, 0.05497, 40, 0.13825))\n",
      "('et', (34, 0.15561, 40, 0.13048))\n",
      "('de', (34, 0.09759, 40, 0.12272))\n",
      "('pour', (34, 0.05497, 40, 0.13825))\n",
      "('fois', (34, 0.03587, 40, 0.06017))\n",
      "('le', (34, 0.08244, 40, 0.09218))\n",
      "('est', (34, 0.03587, 40, 0.06017))\n",
      "('8', (34, 0.03587, 43, 0.07245))\n",
      "('au', (34, 0.06435, 40, 0.05393))\n",
      "('alors', (34, 0.03587, 40, 0.06017))\n",
      "('sounds', (35, 0.08149, 95, 0.02942))\n",
      "('whatever', (35, 0.08149, 100, 0.03493))\n",
      "('monster', (36, 0.24185, 45, 0.10018))\n",
      "('jam', (36, 0.13489, 43, 0.07245))\n",
      "('face', (37, 0.07984, 59, 0.06987))\n",
      "('shot', (38, 0.05477, 73, 0.23378))\n",
      "('fast', (38, 0.06111, 59, 0.06987))\n",
      "('finally', (38, 0.06111, 58, 0.04953))\n",
      "('hair', (39, 0.17533, 59, 0.06263))\n",
      "('method', (39, 0.08766, 67, 0.10018))\n",
      "('cave', (39, 0.0978, 95, 0.02942))\n",
      "('needed', (39, 0.0978, 52, 0.05285))\n",
      "('age', (40, 0.05393, 65, 0.12988))\n",
      "('22', (40, 0.06017, 42, 0.06208))\n",
      "('1994', (40, 0.06017, 84, 0.02813))\n",
      "('match', (40, 0.09904, 88, 0.03785))\n",
      "('fact', (41, 0.04495, 71, 0.06521))\n",
      "('nothing', (41, 0.04495, 92, 0.04953))\n",
      "('3000', (42, 0.06208, 64, 0.02793))\n",
      "('name', (43, 0.05961, 82, 0.31149))\n",
      "('song', (43, 0.11923, 80, 0.22201))\n",
      "('ay', (43, 0.07245, 87, 0.0489))\n",
      "('players', (45, 0.10018, 84, 0.05046))\n",
      "('sick', (45, 0.11177, 50, 0.15648))\n",
      "('sign', (48, 0.1778, 88, 0.023))\n",
      "('nation', (49, 0.0631, 86, 0.0631))\n",
      "('europe', (49, 0.0631, 86, 0.0631))\n",
      "('usa', (49, 0.0631, 52, 0.05285))\n",
      "('power', (49, 0.0631, 95, 0.02942))\n",
      "('moment', (49, 0.0631, 58, 0.04953))\n",
      "('process', (49, 0.05656, 57, 0.06494))\n",
      "('getting', (50, 0.15648, 64, 0.02793))\n",
      "('buy', (51, 0.09099, 67, 0.0559))\n",
      "('amount', (51, 0.08156, 92, 0.08879))\n",
      "('australia', (52, 0.16192, 90, 0.07681))\n",
      "('taking', (52, 0.05285, 92, 0.04953))\n",
      "('break', (52, 0.04349, 87, 0.12071))\n",
      "('accepted', (52, 0.05285, 63, 0.06631))\n",
      "('probably', (52, 0.05285, 58, 0.04953))\n",
      "('remove', (54, 0.04119, 68, 0.05148))\n",
      "('issue', (54, 0.04119, 64, 0.02793))\n",
      "('desire', (54, 0.03692, 65, 0.12988))\n",
      "('behind', (55, 0.26972, 64, 0.02504))\n",
      "('referred', (55, 0.13486, 84, 0.05046))\n",
      "('uk', (57, 0.13026, 63, 0.04769))\n",
      "('attend', (57, 0.03623, 95, 0.02942))\n",
      "('study', (57, 0.03623, 94, 0.15648))\n",
      "('exam', (57, 0.03623, 94, 0.15648))\n",
      "('direct', (57, 0.03623, 67, 0.0559))\n",
      "('full', (58, 0.04953, 100, 0.03493))\n",
      "('adult', (58, 0.04953, 62, 0.1778))\n",
      "('baby', (58, 0.04953, 59, 0.06987))\n",
      "('running', (59, 0.06987, 93, 0.04953))\n",
      "('eyes', (59, 0.06987, 82, 0.1262))\n",
      "('williams', (60, 0.21891, 88, 0.11332))\n",
      "('spell', (61, 0.08892, 96, 0.11853))\n",
      "('wouldnt', (61, 0.08892, 81, 0.05285))\n",
      "('anyways', (61, 0.08892, 66, 0.10574))\n",
      "('immigration', (63, 0.11887, 64, 0.02504))\n",
      "('attack', (64, 0.05011, 84, 0.02521))\n",
      "('stop', (64, 0.02504, 73, 0.23378))\n",
      "('sex', (65, 0.17884, 69, 0.04024))\n",
      "('lack', (65, 0.07245, 95, 0.02942))\n",
      "('past', (66, 0.10574, 87, 0.0489))\n",
      "('test', (66, 0.09478, 68, 0.09229))\n",
      "('thank', (67, 0.0559, 69, 0.0489))\n",
      "('difference', (68, 0.05148, 79, 0.06412))\n",
      "('during', (68, 0.05148, 88, 0.023))\n",
      "('looks', (68, 0.05148, 90, 0.1003))\n",
      "('gave', (71, 0.06521, 100, 0.03493))\n",
      "('explanation', (71, 0.06521, 95, 0.02942))\n",
      "('research', (71, 0.06521, 73, 0.13039))\n",
      "('kinda', (74, 0.05508, 87, 0.0489))\n",
      "('lead', (74, 0.05508, 98, 0.07382))\n",
      "('serious', (74, 0.05508, 79, 0.06412))\n",
      "('facts', (76, 0.489, 95, 0.02942))\n",
      "('protect', (77, 0.07382, 84, 0.02813))\n",
      "('second', (79, 0.06412, 88, 0.023))\n",
      "('science', (79, 0.06412, 95, 0.02942))\n",
      "('f', (81, 0.05285, 88, 0.023))\n",
      "('earth', (81, 0.16192, 86, 0.04832))\n",
      "('bright', (81, 0.05285, 82, 0.1262))\n",
      "('extra', (81, 0.09478, 93, 0.04439))\n",
      "('boyfriend', (83, 0.04346, 87, 0.0489))\n",
      "('cup', (84, 0.02813, 90, 0.1003))\n",
      "('cause', (86, 0.11312, 87, 0.04383))\n",
      "('weeks', (87, 0.04383, 88, 0.04124))\n",
      "('18', (91, 0.05434, 99, 0.09541))\n",
      "('tough', (91, 0.05434, 93, 0.04953))\n",
      "('bad', (93, 0.04953, 99, 0.09541))\n",
      "('english', (94, 0.15648, 98, 0.07382))\n",
      "('wondering', (1, 0.05565, 11, 0.06375, 26, 0.0121))\n",
      "('find', (1, 0.13397, 24, 0.03728, 69, 0.03517))\n",
      "('around', (1, 0.05565, 22, 0.03854, 95, 0.02637))\n",
      "('looking', (2, 0.14044, 12, 0.02582, 26, 0.01034))\n",
      "('area', (2, 0.10059, 73, 0.10729, 79, 0.05276))\n",
      "('lower', (2, 0.05477, 26, 0.0121, 68, 0.04615))\n",
      "('local', (2, 0.09362, 77, 0.11306, 100, 0.02675))\n",
      "('today', (5, 0.08701, 12, 0.02775, 26, 0.02221))\n",
      "('every', (5, 0.09478, 28, 0.03471, 59, 0.06263))\n",
      "('mess', (5, 0.09478, 18, 0.01897, 59, 0.06263))\n",
      "('heat', (6, 0.07816, 67, 0.0402, 81, 0.15206))\n",
      "('sun', (6, 0.09741, 81, 0.04737, 95, 0.02637))\n",
      "('form', (6, 0.09741, 26, 0.0121, 57, 0.03247))\n",
      "('eventually', (6, 0.09741, 18, 0.01897, 42, 0.05565))\n",
      "('old', (7, 0.12522, 43, 0.06494, 48, 0.15937))\n",
      "('goes', (8, 0.03731, 42, 0.05565, 65, 0.06494))\n",
      "('20', (8, 0.03731, 10, 0.08766, 42, 0.05565))\n",
      "('father', (8, 0.10246, 24, 0.01594, 88, 0.05666))\n",
      "('10', (8, 0.06375, 26, 0.02067, 49, 0.04832))\n",
      "('against', (9, 0.06045, 84, 0.02521, 88, 0.02062))\n",
      "('learn', (10, 0.08766, 26, 0.0121, 96, 0.10625))\n",
      "('book', (10, 0.08047, 18, 0.01741, 66, 0.17398))\n",
      "('under', (10, 0.08766, 15, 0.05477, 44, 0.2922))\n",
      "('easily', (11, 0.06375, 16, 0.02276, 49, 0.05656))\n",
      "('interesting', (12, 0.03023, 24, 0.02321, 54, 0.03692))\n",
      "('eating', (12, 0.02775, 32, 0.03698, 92, 0.0815))\n",
      "('lets', (12, 0.03023, 64, 0.02504, 95, 0.02637))\n",
      "('watch', (14, 0.04615, 18, 0.01897, 23, 0.03542))\n",
      "('deal', (14, 0.03702, 26, 0.01941, 88, 0.04966))\n",
      "('house', (14, 0.04615, 16, 0.02276, 19, 0.12522))\n",
      "('heard', (14, 0.04236, 16, 0.04181, 26, 0.01111))\n",
      "('parents', (15, 0.05028, 28, 0.06373, 53, 0.09753))\n",
      "('sit', (15, 0.05477, 24, 0.02321, 87, 0.04383))\n",
      "('kid', (15, 0.04679, 38, 0.14044, 53, 0.09077))\n",
      "('havent', (16, 0.02276, 57, 0.03247, 87, 0.04383))\n",
      "('friend', (16, 0.02089, 74, 0.04532, 93, 0.0815))\n",
      "('coming', (16, 0.02276, 29, 0.05845, 57, 0.03247))\n",
      "('phone', (16, 0.02276, 26, 0.0121, 31, 0.10625))\n",
      "('bigger', (16, 0.02276, 25, 0.10625, 52, 0.04737))\n",
      "('jobs', (16, 0.02276, 26, 0.0121, 64, 0.02504))\n",
      "('often', (16, 0.02089, 26, 0.02221, 55, 0.1238))\n",
      "('both', (16, 0.02276, 41, 0.04029, 70, 0.2922))\n",
      "('might', (16, 0.02276, 26, 0.0121, 38, 0.05477))\n",
      "('forgot', (16, 0.02276, 64, 0.02504, 95, 0.02637))\n",
      "('control', (18, 0.03041, 77, 0.10618, 95, 0.04231))\n",
      "('present', (18, 0.01741, 74, 0.04532, 88, 0.03785))\n",
      "('advice', (18, 0.01897, 32, 0.04029, 87, 0.04383))\n",
      "('understand', (18, 0.0348, 33, 0.22992, 98, 0.06074))\n",
      "('mean', (18, 0.01741, 30, 0.22201, 55, 0.1238))\n",
      "('nature', (18, 0.01897, 39, 0.08766, 79, 0.05747))\n",
      "('fun', (19, 0.12522, 22, 0.03854, 36, 0.12091))\n",
      "('girls', (21, 0.12988, 24, 0.02321, 82, 0.11312))\n",
      "('job', (22, 0.03854, 26, 0.0121, 64, 0.02504))\n",
      "('maybe', (22, 0.03854, 31, 0.10625, 65, 0.06494))\n",
      "('thats', (22, 0.03854, 24, 0.02321, 91, 0.04871))\n",
      "('alot', (22, 0.03854, 87, 0.04383, 92, 0.04439))\n",
      "('usually', (22, 0.03854, 55, 0.13486, 71, 0.05845))\n",
      "('computer', (23, 0.03542, 67, 0.05011, 93, 0.04439))\n",
      "('talk', (24, 0.01983, 64, 0.04281, 87, 0.07489))\n",
      "('4', (24, 0.02321, 29, 0.05845, 100, 0.03131))\n",
      "('different', (24, 0.02131, 57, 0.05961, 70, 0.26823))\n",
      "('course', (24, 0.02321, 26, 0.0121, 28, 0.03471))\n",
      "('example', (24, 0.04265, 81, 0.04349, 93, 0.04075))\n",
      "('lives', (24, 0.02321, 58, 0.04439, 91, 0.04871))\n",
      "('ladies', (24, 0.02321, 42, 0.05565, 59, 0.06263))\n",
      "('type', (24, 0.02321, 34, 0.03216, 100, 0.03131))\n",
      "('knows', (24, 0.02321, 41, 0.04029, 54, 0.03692))\n",
      "('create', (25, 0.09753, 93, 0.0815, 95, 0.02421))\n",
      "('learning', (26, 0.06849, 54, 0.02324, 95, 0.0166))\n",
      "('couple', (26, 0.0121, 32, 0.04029, 93, 0.04439))\n",
      "('china', (26, 0.08505, 49, 0.0306, 64, 0.01355))\n",
      "('article', (26, 0.0121, 79, 0.05747, 92, 0.04439))\n",
      "('news', (26, 0.00917, 35, 0.27702, 79, 0.04359))\n",
      "('trade', (26, 0.0275, 64, 0.01899, 100, 0.07124))\n",
      "('between', (26, 0.0121, 32, 0.04029, 68, 0.04615))\n",
      "('market', (26, 0.04585, 51, 0.06185, 93, 0.03367))\n",
      "('seen', (26, 0.0121, 55, 0.13486, 87, 0.04383))\n",
      "('hand', (26, 0.01034, 37, 0.1834, 38, 0.04679))\n",
      "('hungry', (26, 0.01111, 92, 0.0815, 100, 0.02874))\n",
      "('lot', (28, 0.03471, 61, 0.0797, 95, 0.02637))\n",
      "('2000', (34, 0.03216, 57, 0.03247, 80, 0.12091))\n",
      "('allows', (35, 0.07304, 68, 0.04615, 84, 0.02521))\n",
      "('fan', (36, 0.20662, 41, 0.06887, 89, 0.08097))\n",
      "('body', (39, 0.16094, 69, 0.04024, 92, 0.04075))\n",
      "('17', (40, 0.05393, 87, 0.04383, 88, 0.02062))\n",
      "('team', (41, 0.02902, 52, 0.03412, 84, 0.10904))\n",
      "('play', (45, 0.09196, 84, 0.02314, 88, 0.03785))\n",
      "('fire', (49, 0.04832, 77, 0.16956, 95, 0.02253))\n",
      "('reason', (54, 0.06776, 84, 0.02314, 95, 0.02421))\n",
      "('god', (54, 0.07604, 86, 0.03884, 95, 0.09051))\n",
      "('gods', (54, 0.03389, 86, 0.05192, 95, 0.04841))\n",
      "('natural', (54, 0.03692, 62, 0.15937, 74, 0.04937))\n",
      "('likely', (57, 0.03247, 63, 0.05944, 71, 0.05845))\n",
      "('sure', (57, 0.05961, 79, 0.05276, 83, 0.03576))\n",
      "('central', (57, 0.03247, 66, 0.09478, 84, 0.02521))\n",
      "('eat', (58, 0.03793, 92, 0.11375, 100, 0.02675))\n",
      "('beautiful', (59, 0.06263, 82, 0.11312, 91, 0.04871))\n",
      "('gives', (61, 0.07317, 84, 0.04632, 86, 0.05192))\n",
      "('education', (64, 0.02504, 95, 0.02637, 96, 0.10625))\n",
      "('heres', (69, 0.04383, 90, 0.08991, 93, 0.04439))\n",
      "('ways', (70, 0.2922, 92, 0.04439, 95, 0.02637))\n",
      "('germany', (85, 0.15937, 90, 0.08991, 91, 0.04871))\n",
      "('men', (1, 0.22933, 25, 0.07296, 39, 0.0602, 88, 0.01416))\n",
      "('actually', (1, 0.05108, 2, 0.05028, 71, 0.05366, 98, 0.06074))\n",
      "('big', (1, 0.05108, 8, 0.03425, 43, 0.05961, 52, 0.04349))\n",
      "('free', (2, 0.09362, 17, 0.21399, 26, 0.01034, 41, 0.03442))\n",
      "('tried', (4, 0.10384, 16, 0.02089, 23, 0.03251, 50, 0.12876))\n",
      "('off', (6, 0.08942, 16, 0.02089, 83, 0.03576, 87, 0.04024))\n",
      "('never', (6, 0.08322, 16, 0.03891, 24, 0.01983, 64, 0.02139))\n",
      "('however', (6, 0.08942, 26, 0.01111, 57, 0.02981, 58, 0.04075))\n",
      "('red', (6, 0.08942, 41, 0.03698, 59, 0.05749, 75, 0.16094))\n",
      "('school', (8, 0.05375, 16, 0.01639, 26, 0.00871, 57, 0.09355))\n",
      "('boy', (8, 0.10091, 24, 0.01256, 28, 0.05634, 91, 0.15809))\n",
      "('least', (8, 0.03425, 58, 0.04075, 84, 0.02314, 99, 0.07851))\n",
      "('makes', (8, 0.03425, 16, 0.02089, 54, 0.03389, 93, 0.04075))\n",
      "('easy', (8, 0.03425, 18, 0.01741, 57, 0.02981, 63, 0.05456))\n",
      "('next', (8, 0.03425, 9, 0.05549, 12, 0.02775, 16, 0.02089))\n",
      "('week', (9, 0.05165, 21, 0.11096, 42, 0.04754, 58, 0.07585))\n",
      "('smart', (9, 0.05165, 26, 0.02067, 63, 0.05078, 96, 0.09077))\n",
      "('able', (9, 0.05165, 65, 0.11096, 77, 0.05653, 81, 0.04047))\n",
      "('helps', (10, 0.08047, 29, 0.05366, 68, 0.04236, 73, 0.10729))\n",
      "('comes', (10, 0.08047, 11, 0.05852, 18, 0.01741, 77, 0.06074))\n",
      "('american', (11, 0.05446, 26, 0.02067, 31, 0.09077, 64, 0.02139))\n",
      "('basically', (12, 0.02582, 22, 0.06585, 24, 0.01983, 93, 0.03793))\n",
      "('giving', (12, 0.02582, 64, 0.04281, 88, 0.01761, 92, 0.03793))\n",
      "('left', (12, 0.04585, 16, 0.01726, 37, 0.10855, 91, 0.07387))\n",
      "('set', (12, 0.02775, 18, 0.01741, 22, 0.03538, 26, 0.01111))\n",
      "('call', (14, 0.03942, 16, 0.01944, 17, 0.21399, 77, 0.11306))\n",
      "('didnt', (16, 0.01944, 24, 0.01983, 95, 0.02253, 96, 0.18157))\n",
      "('again', (16, 0.02089, 24, 0.02131, 64, 0.02298, 74, 0.04532))\n",
      "('later', (16, 0.02089, 29, 0.05366, 49, 0.05192, 95, 0.02421))\n",
      "('own', (16, 0.02089, 28, 0.03187, 84, 0.02314, 95, 0.02421))\n",
      "('were', (16, 0.01944, 86, 0.04832, 88, 0.01761, 95, 0.04506))\n",
      "('1', (16, 0.02089, 34, 0.02952, 44, 0.26823, 90, 0.08253))\n",
      "('read', (18, 0.01741, 66, 0.08701, 92, 0.04075, 100, 0.02874))\n",
      "('youll', (18, 0.04563, 32, 0.03233, 42, 0.04465, 57, 0.02605))\n",
      "('year', (18, 0.01741, 80, 0.11099, 89, 0.08701, 93, 0.04075))\n",
      "('instead', (22, 0.03538, 62, 0.1463, 64, 0.02298, 77, 0.06074))\n",
      "('club', (22, 0.05845, 40, 0.12272, 41, 0.03055, 43, 0.04925))\n",
      "('guys', (24, 0.02131, 28, 0.03187, 90, 0.08253, 92, 0.04075))\n",
      "('came', (24, 0.02131, 63, 0.05456, 80, 0.11099, 95, 0.02421))\n",
      "('start', (26, 0.01111, 50, 0.12876, 71, 0.05366, 77, 0.06074))\n",
      "('ago', (26, 0.01111, 29, 0.05366, 43, 0.05961, 79, 0.05276))\n",
      "('college', (26, 0.02067, 57, 0.02774, 91, 0.04161, 96, 0.09077))\n",
      "('stay', (26, 0.01111, 32, 0.03698, 41, 0.03698, 63, 0.05456))\n",
      "('yourself', (26, 0.02067, 54, 0.03155, 69, 0.03745, 83, 0.03328))\n",
      "('player', (26, 0.01111, 37, 0.0657, 45, 0.09196, 84, 0.02314))\n",
      "('career', (26, 0.02067, 41, 0.03442, 52, 0.04047, 93, 0.03793))\n",
      "('girl', (28, 0.03187, 58, 0.04075, 59, 0.05749, 98, 0.06074))\n",
      "('relationship', (28, 0.03187, 74, 0.04532, 83, 0.03576, 87, 0.04024))\n",
      "('family', (28, 0.07898, 52, 0.03593, 63, 0.09015, 100, 0.02375))\n",
      "('live', (29, 0.0421, 54, 0.0266, 83, 0.11224, 89, 0.13652))\n",
      "('awesome', (32, 0.03698, 45, 0.09196, 69, 0.04024, 82, 0.10384))\n",
      "('mind', (32, 0.03698, 65, 0.05961, 79, 0.05276, 89, 0.08701))\n",
      "('2006', (34, 0.02952, 40, 0.04951, 88, 0.01893, 90, 0.08253))\n",
      "('got', (38, 0.09362, 75, 0.14979, 91, 0.04161, 96, 0.09077))\n",
      "('keep', (38, 0.05028, 39, 0.08047, 58, 0.04075, 93, 0.04075))\n",
      "('anything', (41, 0.03698, 71, 0.05366, 88, 0.01893, 100, 0.02874))\n",
      "('country', (46, 0.40236, 49, 0.05192, 60, 0.29263, 85, 0.1463))\n",
      "('water', (56, 0.20662, 67, 0.04281, 84, 0.02154, 92, 0.03793))\n",
      "('trouble', (74, 0.04532, 83, 0.03576, 86, 0.05192, 100, 0.02874))\n",
      "('someone', (84, 0.02154, 91, 0.08322, 98, 0.05653, 100, 0.02675))\n",
      "('over', (1, 0.04465, 11, 0.1023, 24, 0.01862, 26, 0.00971, 87, 0.03517))\n",
      "('front', (1, 0.04754, 8, 0.03187, 84, 0.02154, 88, 0.01761, 93, 0.03793))\n",
      "('lol', (1, 0.04754, 12, 0.02582, 28, 0.02966, 61, 0.06809, 74, 0.04218))\n",
      "('used', (2, 0.03945, 12, 0.02177, 68, 0.06648, 78, 0.13293, 95, 0.05698))\n",
      "('true', (4, 0.17158, 24, 0.03524, 41, 0.03055, 45, 0.07598, 90, 0.06818))\n",
      "('better', (4, 0.09076, 28, 0.02785, 91, 0.07816, 99, 0.06862, 100, 0.02512))\n",
      "('doesnt', (6, 0.08322, 18, 0.01621, 74, 0.04218, 87, 0.03745, 89, 0.08097))\n",
      "('become', (6, 0.07816, 16, 0.01826, 26, 0.00971, 49, 0.04538, 63, 0.09537))\n",
      "('others', (6, 0.07816, 18, 0.03041, 28, 0.02785, 54, 0.02963, 95, 0.02116))\n",
      "('yahoo', (7, 0.10047, 35, 0.0586, 48, 0.25577, 61, 0.06395, 79, 0.04611))\n",
      "('said', (7, 0.10047, 26, 0.00971, 38, 0.04395, 49, 0.04538, 88, 0.03309))\n",
      "('says', (8, 0.10747, 41, 0.02902, 43, 0.04678, 59, 0.04511, 89, 0.06827))\n",
      "('please', (8, 0.03187, 12, 0.02582, 30, 0.10329, 81, 0.04047, 86, 0.04832))\n",
      "('word', (8, 0.02687, 54, 0.07976, 57, 0.02339, 88, 0.01485, 98, 0.09532))\n",
      "('question', (12, 0.02582, 24, 0.01983, 33, 0.21399, 53, 0.09077, 79, 0.0491))\n",
      "('after', (12, 0.02582, 41, 0.03442, 88, 0.01761, 91, 0.04161, 92, 0.03793))\n",
      "('according', (12, 0.02582, 18, 0.01621, 26, 0.01034, 54, 0.03155, 80, 0.10329))\n",
      "('days', (12, 0.02582, 16, 0.01944, 26, 0.01034, 32, 0.03442, 95, 0.02253))\n",
      "('questions', (15, 0.03761, 18, 0.05206, 23, 0.02432, 61, 0.10944, 93, 0.03048))\n",
      "('money', (16, 0.01944, 25, 0.09077, 83, 0.03328, 93, 0.03793, 100, 0.02675))\n",
      "('pick', (16, 0.03655, 18, 0.01522, 22, 0.03092, 24, 0.01862, 61, 0.06395))\n",
      "('few', (16, 0.01826, 18, 0.01522, 26, 0.01941, 64, 0.02009, 69, 0.03517))\n",
      "('since', (16, 0.03655, 26, 0.00971, 29, 0.0469, 41, 0.03233, 81, 0.03801))\n",
      "('even', (16, 0.01726, 18, 0.01439, 26, 0.0275, 86, 0.04289, 94, 0.10637))\n",
      "('wants', (16, 0.01826, 54, 0.05922, 63, 0.04769, 64, 0.02009, 92, 0.03562))\n",
      "('must', (16, 0.03454, 26, 0.01835, 35, 0.05539, 58, 0.03367, 86, 0.04289))\n",
      "('without', (18, 0.01439, 38, 0.04154, 69, 0.03324, 83, 0.08863, 84, 0.01912))\n",
      "('though', (18, 0.01621, 56, 0.10329, 64, 0.02139, 85, 0.13616, 100, 0.02675))\n",
      "('means', (18, 0.01621, 55, 0.11522, 59, 0.0535, 82, 0.09664, 95, 0.02253))\n",
      "('woman', (18, 0.01621, 24, 0.01983, 39, 0.07489, 62, 0.13616, 69, 0.03745))\n",
      "('doing', (19, 0.10698, 26, 0.01034, 32, 0.03442, 54, 0.03155, 57, 0.02774))\n",
      "('these', (23, 0.02432, 26, 0.04151, 42, 0.03821, 68, 0.03169, 95, 0.01811))\n",
      "('women', (24, 0.01983, 69, 0.03745, 70, 0.24963, 88, 0.01761, 95, 0.02253))\n",
      "('ok', (26, 0.00971, 32, 0.03233, 59, 0.05025, 79, 0.09225, 87, 0.03517))\n",
      "('than', (26, 0.01034, 28, 0.02966, 42, 0.04754, 88, 0.01761, 100, 0.02675))\n",
      "('having', (26, 0.01034, 49, 0.04832, 65, 0.05548, 69, 0.03745, 99, 0.07307))\n",
      "('too', (26, 0.01034, 28, 0.02966, 56, 0.10329, 59, 0.0535, 61, 0.06809))\n",
      "('being', (29, 0.09377, 42, 0.04465, 51, 0.06544, 73, 0.09377, 84, 0.02023))\n",
      "('use', (34, 0.02747, 61, 0.06809, 73, 0.09985, 98, 0.05653, 100, 0.02675))\n",
      "('through', (37, 0.05742, 54, 0.02963, 57, 0.0521, 68, 0.03702, 87, 0.03517))\n",
      "('feel', (69, 0.0903, 77, 0.09088, 83, 0.02675, 87, 0.0301, 92, 0.06097))\n",
      "('away', (73, 0.09377, 83, 0.03126, 92, 0.03562, 95, 0.02116, 100, 0.05025))\n",
      "('many', (2, 0.04154, 18, 0.02875, 26, 0.00917, 28, 0.02633, 30, 0.09169, 61, 0.06044))\n",
      "('may', (2, 0.04154, 26, 0.01835, 51, 0.06185, 64, 0.01899, 77, 0.05018, 84, 0.01912))\n",
      "('luck', (2, 0.04395, 69, 0.03517, 83, 0.03126, 87, 0.03517, 92, 0.03562, 99, 0.06862))\n",
      "('real', (3, 0.26755, 40, 0.03703, 65, 0.0446, 69, 0.0301, 91, 0.03345, 95, 0.03622))\n",
      "('food', (5, 0.05966, 12, 0.01903, 22, 0.02426, 58, 0.1397, 92, 0.02794, 100, 0.03942))\n",
      "('enough', (6, 0.07387, 9, 0.09169, 26, 0.00917, 63, 0.04507, 69, 0.03324, 92, 0.03367))\n",
      "('home', (7, 0.09019, 8, 0.05375, 19, 0.09019, 48, 0.11479, 51, 0.11747, 77, 0.04766))\n",
      "('top', (7, 0.09496, 22, 0.02923, 26, 0.01835, 30, 0.09169, 37, 0.05428, 61, 0.06044))\n",
      "('put', (7, 0.10047, 14, 0.03702, 15, 0.04395, 18, 0.01522, 35, 0.0586, 41, 0.03233))\n",
      "('way', (8, 0.02993, 38, 0.04395, 48, 0.12787, 57, 0.02605, 69, 0.03517, 74, 0.03961))\n",
      "('while', (9, 0.0485, 12, 0.02425, 26, 0.00971, 52, 0.03801, 64, 0.02009, 67, 0.0402))\n",
      "('new', (12, 0.02425, 26, 0.00971, 32, 0.03233, 37, 0.05742, 51, 0.06544, 83, 0.03126))\n",
      "('going', (12, 0.02076, 26, 0.0249, 28, 0.02384, 80, 0.08303, 87, 0.0602, 100, 0.0215))\n",
      "('person', (13, 0.14164, 16, 0.01563, 26, 0.03321, 28, 0.02384, 31, 0.07296, 65, 0.0446))\n",
      "('sometimes', (16, 0.01826, 18, 0.01522, 29, 0.0469, 32, 0.03233, 84, 0.02023, 91, 0.03908))\n",
      "('such', (16, 0.01726, 29, 0.04433, 68, 0.06999, 84, 0.01912, 86, 0.04289, 88, 0.01564))\n",
      "('those', (18, 0.01522, 22, 0.03092, 52, 0.03801, 56, 0.09701, 58, 0.03562, 92, 0.03562))\n",
      "('life', (18, 0.01246, 24, 0.01524, 29, 0.07675, 65, 0.04264, 67, 0.0329, 99, 0.22464))\n",
      "('ive', (22, 0.02776, 23, 0.05102, 24, 0.03347, 38, 0.03945, 64, 0.01803, 100, 0.02255))\n",
      "('always', (24, 0.03524, 26, 0.00917, 50, 0.10637, 69, 0.03324, 89, 0.07188, 92, 0.03367))\n",
      "('else', (26, 0.01835, 28, 0.02633, 41, 0.03055, 43, 0.04925, 86, 0.04289, 100, 0.02375))\n",
      "('http', (54, 0.028, 63, 0.04507, 80, 0.09169, 90, 0.06818, 92, 0.06733, 93, 0.03367))\n",
      "('much', (1, 0.0422, 18, 0.01439, 26, 0.00917, 29, 0.04433, 30, 0.09169, 36, 0.09169, 98, 0.05018))\n",
      "('look', (1, 0.03365, 2, 0.06626, 12, 0.01828, 32, 0.02436, 52, 0.02864, 68, 0.05581, 69, 0.10601))\n",
      "('site', (2, 0.07525, 14, 0.03169, 31, 0.07296, 63, 0.04081, 71, 0.04014, 78, 0.12673, 93, 0.06097))\n",
      "('check', (2, 0.04154, 7, 0.09496, 53, 0.08058, 57, 0.02462, 61, 0.06044, 63, 0.04507, 71, 0.04433))\n",
      "('here', (6, 0.07016, 35, 0.05261, 38, 0.03945, 52, 0.03412, 64, 0.01803, 92, 0.06395, 98, 0.04766))\n",
      "('2', (8, 0.04697, 24, 0.04386, 34, 0.02024, 40, 0.03395, 79, 0.03618, 81, 0.05966, 91, 0.03066))\n",
      "('day', (8, 0.02349, 12, 0.07611, 16, 0.02867, 38, 0.03448, 64, 0.01576, 93, 0.02794, 95, 0.0166))\n",
      "('come', (8, 0.02562, 18, 0.02603, 54, 0.02536, 57, 0.0223, 63, 0.04081, 80, 0.08303, 96, 0.14595))\n",
      "('help', (11, 0.04592, 15, 0.03945, 23, 0.02551, 26, 0.01743, 30, 0.08709, 77, 0.04766, 92, 0.03198))\n",
      "('cant', (11, 0.04378, 16, 0.03128, 23, 0.02432, 25, 0.07296, 67, 0.03441, 83, 0.0535, 96, 0.07296))\n",
      "('long', (12, 0.02177, 38, 0.03945, 39, 0.06314, 64, 0.01803, 65, 0.04678, 67, 0.07216, 71, 0.0421))\n",
      "('answer', (12, 0.02292, 18, 0.01439, 26, 0.00917, 44, 0.2216, 71, 0.04433, 79, 0.04359, 93, 0.03367))\n",
      "('etc', (12, 0.02292, 23, 0.02686, 24, 0.0176, 26, 0.00917, 43, 0.04925, 57, 0.02462, 95, 0.02))\n",
      "('two', (14, 0.03324, 30, 0.08709, 67, 0.03609, 87, 0.03157, 88, 0.0297, 91, 0.03508, 92, 0.03198))\n",
      "('answers', (15, 0.03945, 18, 0.01366, 52, 0.03412, 53, 0.07653, 61, 0.11479, 69, 0.03157, 83, 0.02806))\n",
      "('last', (16, 0.01726, 41, 0.03055, 58, 0.03367, 63, 0.04507, 67, 0.038, 88, 0.01564, 89, 0.07188))\n",
      "('only', (16, 0.01563, 25, 0.07296, 26, 0.01661, 49, 0.03884, 57, 0.0223, 74, 0.0339, 84, 0.03465))\n",
      "('youre', (20, 0.1505, 22, 0.02646, 28, 0.02384, 37, 0.14741, 41, 0.02767, 59, 0.04301, 98, 0.04544))\n",
      "('guy', (21, 0.09355, 24, 0.01672, 28, 0.025, 41, 0.02902, 59, 0.04511, 64, 0.01803, 74, 0.07115))\n",
      "('important', (23, 0.02686, 26, 0.00917, 32, 0.03055, 65, 0.04925, 84, 0.01912, 86, 0.04289, 95, 0.02))\n",
      "('years', (24, 0.02925, 26, 0.02282, 29, 0.0368, 43, 0.04088, 49, 0.07121, 73, 0.07357, 79, 0.03618))\n",
      "('world', (26, 0.03044, 29, 0.0368, 35, 0.04598, 84, 0.01587, 90, 0.05659, 95, 0.0332, 99, 0.05384))\n",
      "('before', (26, 0.00871, 41, 0.02902, 48, 0.11479, 79, 0.08282, 83, 0.02806, 88, 0.01485, 92, 0.03198))\n",
      "('things', (1, 0.03654, 15, 0.03597, 18, 0.02489, 52, 0.03111, 65, 0.04264, 69, 0.02878, 87, 0.02878, 95, 0.03463))\n",
      "('give', (4, 0.07768, 8, 0.02562, 14, 0.03169, 21, 0.08919, 23, 0.04864, 39, 0.0602, 71, 0.04014, 100, 0.0215))\n",
      "('u', (5, 0.05966, 10, 0.05518, 12, 0.03805, 15, 0.03448, 28, 0.02185, 29, 0.0368, 38, 0.03448, 41, 0.07611))\n",
      "('ever', (6, 0.07016, 14, 0.03324, 24, 0.01672, 36, 0.08709, 45, 0.07216, 50, 0.10103, 64, 0.01803, 79, 0.0414))\n",
      "('our', (6, 0.06397, 14, 0.0303, 18, 0.02489, 28, 0.0228, 49, 0.07428, 83, 0.02558, 86, 0.03714, 95, 0.01732))\n",
      "('down', (6, 0.06397, 15, 0.03597, 24, 0.01524, 38, 0.03597, 51, 0.10709, 59, 0.04112, 83, 0.02558, 87, 0.05756))\n",
      "('been', (9, 0.04354, 16, 0.01639, 22, 0.02776, 26, 0.00871, 36, 0.08709, 38, 0.03945, 43, 0.04678, 58, 0.03198))\n",
      "('which', (10, 0.0602, 24, 0.01594, 35, 0.05016, 41, 0.02767, 54, 0.02536, 57, 0.0446, 61, 0.05473, 91, 0.03345))\n",
      "('take', (12, 0.05954, 14, 0.0303, 23, 0.02326, 26, 0.00794, 49, 0.03714, 50, 0.0921, 57, 0.02132, 64, 0.01644))\n",
      "('see', (12, 0.01985, 16, 0.01494, 18, 0.02489, 23, 0.02326, 41, 0.05294, 69, 0.02878, 88, 0.01354, 92, 0.02915))\n",
      "('called', (14, 0.0537, 16, 0.06625, 18, 0.01104, 57, 0.01889, 68, 0.02685, 71, 0.03401, 87, 0.0255, 88, 0.012))\n",
      "('did', (14, 0.03169, 16, 0.01563, 26, 0.00831, 39, 0.0602, 47, 0.26755, 79, 0.03947, 80, 0.08303, 88, 0.02832))\n",
      "('her', (16, 0.07794, 18, 0.00928, 23, 0.03464, 24, 0.02272, 53, 0.05196, 59, 0.09186, 74, 0.02414, 88, 0.01008))\n",
      "('she', (16, 0.13361, 18, 0.00795, 24, 0.0292, 32, 0.01689, 59, 0.02625, 65, 0.02722, 74, 0.02069, 75, 0.07348))\n",
      "('had', (16, 0.04485, 22, 0.02531, 24, 0.01524, 36, 0.07939, 43, 0.04264, 58, 0.02915, 88, 0.01354, 91, 0.03198))\n",
      "('other', (16, 0.01376, 18, 0.01147, 26, 0.02924, 41, 0.02436, 55, 0.08155, 68, 0.0279, 77, 0.04001, 100, 0.03787))\n",
      "('back', (18, 0.01194, 19, 0.07882, 37, 0.04505, 41, 0.05075, 48, 0.20066, 67, 0.03154, 84, 0.03176, 95, 0.0166))\n",
      "('still', (22, 0.02531, 26, 0.00794, 32, 0.02646, 49, 0.03714, 63, 0.03903, 67, 0.0329, 73, 0.07675, 74, 0.09728))\n",
      "('yes', (26, 0.00871, 52, 0.03412, 63, 0.04281, 64, 0.01803, 72, 0.19428, 79, 0.0414, 81, 0.03412, 86, 0.04074))\n",
      "('little', (28, 0.025, 32, 0.02902, 42, 0.04008, 58, 0.03198, 74, 0.03556, 75, 0.12629, 81, 0.03412, 90, 0.06476))\n",
      "('am', (1, 0.03011, 2, 0.05928, 10, 0.04743, 28, 0.03756, 36, 0.06541, 69, 0.09486, 87, 0.02371, 91, 0.0527, 97, 0.11857))\n",
      "('everyone', (1, 0.03503, 14, 0.02905, 26, 0.01523, 28, 0.0437, 41, 0.02536, 86, 0.0356, 89, 0.05966, 94, 0.08829, 99, 0.05384))\n",
      "('best', (2, 0.03448, 9, 0.03805, 11, 0.08026, 12, 0.01903, 16, 0.02867, 35, 0.04598, 71, 0.0368, 86, 0.0356, 96, 0.06688))\n",
      "('where', (2, 0.03597, 3, 0.08529, 35, 0.04796, 39, 0.05756, 57, 0.02132, 73, 0.07675, 78, 0.12119, 88, 0.02708, 89, 0.06224))\n",
      "('tell', (4, 0.07121, 8, 0.02349, 15, 0.03448, 23, 0.02229, 71, 0.0368, 72, 0.16978, 81, 0.02982, 87, 0.08277, 91, 0.03066))\n",
      "('try', (4, 0.07428, 8, 0.0245, 11, 0.04186, 16, 0.01494, 17, 0.16447, 59, 0.04112, 74, 0.03242, 87, 0.02878, 92, 0.0583))\n",
      "('living', (5, 0.06509, 16, 0.01563, 24, 0.01594, 58, 0.03048, 63, 0.04081, 77, 0.04544, 85, 0.10944, 93, 0.03048, 95, 0.01811))\n",
      "('say', (8, 0.02256, 12, 0.01828, 16, 0.01376, 18, 0.01147, 24, 0.05617, 26, 0.00731, 52, 0.02864, 83, 0.02356, 91, 0.02945))\n",
      "('something', (16, 0.01494, 20, 0.14391, 21, 0.08529, 42, 0.07311, 52, 0.03111, 55, 0.08856, 56, 0.07939, 79, 0.03774, 83, 0.02558))\n",
      "('love', (18, 0.02386, 24, 0.02925, 28, 0.02185, 54, 0.02324, 58, 0.02794, 69, 0.02759, 76, 0.27591, 91, 0.03066, 97, 0.13795))\n",
      "('work', (18, 0.01303, 23, 0.02432, 26, 0.00831, 28, 0.02384, 32, 0.02767, 64, 0.01719, 84, 0.01731, 87, 0.0301, 93, 0.03048))\n",
      "('people', (1, 0.03365, 16, 0.01376, 18, 0.01147, 22, 0.0466, 26, 0.01463, 29, 0.03534, 54, 0.02233, 61, 0.04819, 65, 0.03927, 92, 0.02684))\n",
      "('some', (5, 0.05515, 10, 0.10201, 21, 0.07557, 32, 0.02344, 53, 0.06182, 57, 0.01889, 61, 0.04637, 81, 0.02756, 84, 0.01467, 100, 0.05466))\n",
      "('right', (7, 0.07286, 35, 0.0425, 37, 0.08328, 54, 0.06443, 75, 0.10201, 86, 0.03291, 92, 0.02583, 95, 0.01534, 98, 0.0385, 100, 0.01822))\n",
      "('well', (8, 0.0245, 15, 0.03597, 16, 0.01494, 24, 0.01524, 38, 0.03597, 64, 0.01644, 67, 0.0329, 81, 0.03111, 92, 0.02915, 100, 0.02056))\n",
      "('us', (11, 0.03332, 24, 0.01213, 26, 0.01895, 31, 0.11107, 54, 0.05787, 57, 0.01697, 64, 0.02619, 81, 0.02476, 86, 0.02956, 95, 0.01378))\n",
      "('first', (18, 0.01194, 23, 0.02229, 35, 0.04598, 41, 0.02536, 49, 0.07121, 58, 0.02794, 59, 0.03942, 64, 0.01576, 88, 0.01298, 90, 0.05659))\n",
      "('man', (1, 0.02403, 18, 0.00819, 24, 0.04011, 41, 0.10443, 45, 0.04326, 59, 0.02704, 62, 0.13765, 64, 0.01081, 70, 0.12617, 83, 0.01682, 95, 0.03416))\n",
      "('no', (2, 0.03312, 22, 0.0233, 25, 0.06424, 26, 0.00731, 53, 0.06424, 54, 0.04463, 65, 0.03927, 75, 0.10601, 81, 0.02864, 83, 0.02356, 95, 0.01594))\n",
      "('now', (2, 0.03187, 9, 0.03517, 24, 0.01351, 26, 0.01408, 41, 0.02344, 43, 0.03778, 63, 0.03458, 78, 0.10738, 88, 0.012, 91, 0.05668, 100, 0.01822))\n",
      "('him', (8, 0.0459, 15, 0.03371, 28, 0.02136, 41, 0.0124, 54, 0.01136, 59, 0.01927, 74, 0.04558, 83, 0.0959, 87, 0.12137, 91, 0.02997, 93, 0.01366))\n",
      "('really', (11, 0.04013, 18, 0.01194, 28, 0.02185, 29, 0.0368, 43, 0.04088, 59, 0.03942, 66, 0.05966, 89, 0.05966, 93, 0.02794, 95, 0.0166, 100, 0.01971))\n",
      "('into', (12, 0.01828, 24, 0.01404, 42, 0.03365, 52, 0.02864, 57, 0.01963, 67, 0.0303, 77, 0.04001, 88, 0.01247, 93, 0.02684, 95, 0.01594, 98, 0.08002))\n",
      "('does', (24, 0.01351, 37, 0.04164, 54, 0.02148, 55, 0.07847, 57, 0.01889, 66, 0.05515, 83, 0.02267, 84, 0.01467, 93, 0.05166, 95, 0.01534, 99, 0.09952))\n",
      "('need', (1, 0.02908, 18, 0.00991, 23, 0.01851, 26, 0.01264, 37, 0.0374, 52, 0.02476, 57, 0.05091, 67, 0.02619, 71, 0.03055, 83, 0.04072, 87, 0.02291, 100, 0.01636))\n",
      "('has', (1, 0.0312, 4, 0.06343, 15, 0.03071, 26, 0.01357, 29, 0.03278, 41, 0.02259, 50, 0.07864, 57, 0.01821, 67, 0.0281, 74, 0.05539, 95, 0.01479, 99, 0.04795))\n",
      "('most', (1, 0.0721, 8, 0.01611, 18, 0.02456, 23, 0.01529, 24, 0.02006, 26, 0.01566, 35, 0.03154, 52, 0.02046, 57, 0.01402, 83, 0.03364, 84, 0.03267, 96, 0.04588))\n",
      "('thing', (1, 0.03011, 5, 0.10254, 10, 0.04743, 24, 0.02514, 52, 0.05128, 54, 0.01998, 58, 0.02402, 59, 0.03388, 64, 0.01355, 69, 0.02371, 91, 0.02635, 99, 0.04627))\n",
      "('very', (8, 0.04184, 26, 0.00678, 27, 0.16384, 28, 0.03893, 32, 0.02259, 35, 0.04095, 45, 0.05617, 52, 0.02656, 58, 0.02489, 69, 0.02458, 95, 0.01479, 100, 0.01756))\n",
      "('when', (8, 0.02092, 16, 0.01276, 18, 0.01064, 20, 0.24576, 24, 0.01302, 37, 0.04013, 38, 0.03071, 58, 0.02489, 64, 0.01404, 69, 0.04915, 81, 0.02656, 95, 0.01479))\n",
      "('should', (15, 0.03071, 16, 0.02554, 26, 0.00678, 28, 0.01946, 37, 0.04013, 41, 0.02259, 62, 0.08936, 66, 0.05314, 77, 0.0371, 87, 0.04915, 89, 0.05314, 91, 0.02731))\n",
      "('why', (1, 0.02403, 16, 0.00983, 18, 0.0491, 24, 0.01002, 25, 0.04588, 26, 0.01045, 29, 0.05047, 39, 0.07571, 54, 0.01594, 61, 0.03442, 86, 0.04885, 95, 0.01139, 99, 0.03693))\n",
      "('any', (2, 0.05537, 4, 0.05716, 14, 0.02332, 18, 0.00959, 26, 0.00611, 32, 0.02036, 37, 0.03617, 41, 0.02036, 58, 0.02243, 62, 0.08054, 64, 0.01265, 67, 0.02532, 88, 0.04169))\n",
      "('anyone', (2, 0.03187, 11, 0.03709, 14, 0.02685, 23, 0.02061, 29, 0.03401, 30, 0.07035, 37, 0.04164, 50, 0.08161, 66, 0.05515, 69, 0.0255, 85, 0.09273, 98, 0.0385, 100, 0.01822))\n",
      "('their', (2, 0.02438, 15, 0.02438, 18, 0.00844, 24, 0.02068, 28, 0.01545, 31, 0.04729, 63, 0.05291, 65, 0.0289, 69, 0.01951, 80, 0.05381, 84, 0.03368, 88, 0.0459, 95, 0.01174))\n",
      "('want', (4, 0.05192, 14, 0.02118, 23, 0.01626, 24, 0.03198, 32, 0.05549, 35, 0.03352, 41, 0.01849, 59, 0.05747, 64, 0.023, 66, 0.0435, 69, 0.02012, 81, 0.02174, 100, 0.02874))\n",
      "('also', (23, 0.01851, 26, 0.01264, 32, 0.02106, 51, 0.04263, 57, 0.01697, 64, 0.01308, 68, 0.02412, 82, 0.11824, 84, 0.02637, 88, 0.01078, 91, 0.02545, 92, 0.0232, 95, 0.01378))\n",
      "('them', (1, 0.02812, 8, 0.01885, 18, 0.00959, 24, 0.02348, 28, 0.01754, 38, 0.02768, 57, 0.01641, 61, 0.04028, 64, 0.03797, 67, 0.02532, 77, 0.03344, 88, 0.01042, 89, 0.0479, 95, 0.01333))\n",
      "('we', (3, 0.03488, 5, 0.02545, 16, 0.01834, 18, 0.02036, 24, 0.04989, 26, 0.00325, 49, 0.04556, 52, 0.02545, 54, 0.00992, 64, 0.00672, 86, 0.13668, 91, 0.01308, 95, 0.00708, 100, 0.02523))\n",
      "('could', (4, 0.05716, 15, 0.05537, 38, 0.02768, 49, 0.02858, 54, 0.01866, 58, 0.02243, 69, 0.02215, 74, 0.02495, 77, 0.03344, 88, 0.01042, 95, 0.01333, 96, 0.05369, 98, 0.10029, 100, 0.01582))\n",
      "('then', (1, 0.02812, 8, 0.01885, 12, 0.01527, 23, 0.0179, 24, 0.01173, 28, 0.03508, 31, 0.05369, 48, 0.08054, 54, 0.01866, 57, 0.03282, 65, 0.03282, 71, 0.02954, 83, 0.01969, 87, 0.02215, 93, 0.02243))\n",
      "('his', (8, 0.06886, 15, 0.01685, 18, 0.01166, 28, 0.0534, 38, 0.05057, 39, 0.02697, 41, 0.0248, 54, 0.03407, 64, 0.0077, 74, 0.03039, 84, 0.02328, 85, 0.04903, 88, 0.00634, 93, 0.02732, 95, 0.00811))\n",
      "('because', (12, 0.01305, 18, 0.00819, 25, 0.04588, 26, 0.02088, 29, 0.02524, 32, 0.0174, 39, 0.03785, 49, 0.02442, 54, 0.04782, 61, 0.03442, 81, 0.02046, 86, 0.07327, 88, 0.0089, 91, 0.02103, 99, 0.03693))\n",
      "('time', (12, 0.01387, 14, 0.02118, 16, 0.03135, 24, 0.03198, 41, 0.01849, 51, 0.03744, 58, 0.02038, 60, 0.14631, 64, 0.01149, 67, 0.04598, 79, 0.02638, 81, 0.02174, 87, 0.02012, 88, 0.00946, 90, 0.04127))\n",
      "('make', (17, 0.1309, 21, 0.06788, 26, 0.00632, 31, 0.11107, 59, 0.03273, 61, 0.04165, 64, 0.01308, 67, 0.02619, 77, 0.03458, 83, 0.02036, 86, 0.02956, 88, 0.01078, 91, 0.02545, 98, 0.03458, 100, 0.01636))\n",
      "('they', (1, 0.09331, 18, 0.00795, 24, 0.03893, 26, 0.00507, 28, 0.01455, 41, 0.01689, 53, 0.04453, 61, 0.03341, 64, 0.021, 69, 0.01837, 77, 0.02773, 79, 0.02409, 88, 0.00864, 93, 0.01861, 94, 0.05879, 98, 0.02773))\n",
      "('go', (4, 0.05532, 6, 0.09527, 8, 0.01825, 14, 0.02257, 19, 0.06124, 22, 0.03769, 24, 0.01135, 31, 0.05196, 36, 0.05913, 59, 0.03063, 72, 0.1319, 73, 0.05715, 74, 0.02414, 91, 0.02382, 96, 0.05196, 98, 0.03236))\n",
      "('he', (8, 0.05267, 14, 0.01629, 15, 0.03868, 32, 0.01422, 38, 0.01934, 41, 0.02846, 45, 0.1061, 54, 0.02606, 59, 0.02211, 65, 0.02293, 74, 0.01743, 83, 0.02751, 84, 0.0089, 87, 0.06189, 88, 0.00728, 93, 0.03134))\n",
      "('im', (12, 0.0261, 14, 0.01993, 16, 0.00983, 28, 0.01499, 30, 0.05221, 32, 0.0174, 37, 0.0309, 57, 0.04206, 62, 0.06882, 69, 0.03785, 80, 0.05221, 83, 0.01682, 87, 0.01893, 91, 0.02103, 92, 0.03834, 99, 0.07386))\n",
      "('an', (3, 0.05781, 12, 0.01345, 15, 0.02438, 25, 0.04729, 26, 0.01614, 28, 0.01545, 31, 0.09459, 35, 0.03251, 36, 0.05381, 62, 0.07093, 64, 0.01114, 67, 0.04459, 79, 0.02558, 88, 0.00918, 93, 0.01976, 95, 0.01174, 96, 0.04729))\n",
      "('more', (1, 0.03823, 23, 0.01216, 25, 0.03648, 26, 0.02076, 28, 0.01192, 32, 0.01383, 39, 0.0301, 49, 0.01942, 64, 0.0086, 65, 0.0223, 69, 0.01505, 70, 0.10033, 71, 0.02007, 81, 0.01627, 84, 0.02598, 85, 0.16417, 88, 0.00708, 92, 0.06096))\n",
      "('up', (5, 0.03346, 12, 0.03201, 14, 0.01629, 16, 0.03215, 18, 0.0067, 21, 0.04585, 22, 0.0136, 23, 0.0125, 24, 0.00819, 37, 0.02527, 49, 0.01997, 59, 0.02211, 64, 0.00884, 67, 0.05306, 81, 0.03346, 87, 0.06189, 93, 0.01567, 95, 0.00931))\n",
      "('will', (6, 0.09238, 9, 0.01911, 15, 0.01732, 24, 0.00734, 26, 0.01529, 28, 0.01098, 32, 0.01274, 54, 0.01167, 57, 0.04106, 58, 0.01404, 65, 0.02053, 71, 0.01848, 81, 0.02997, 83, 0.04927, 88, 0.00652, 90, 0.08528, 99, 0.02704, 100, 0.0198))\n",
      "('by', (8, 0.05732, 12, 0.01161, 16, 0.00874, 18, 0.00729, 26, 0.01858, 31, 0.08165, 35, 0.02806, 43, 0.02495, 52, 0.0182, 54, 0.01418, 57, 0.01247, 66, 0.03641, 80, 0.04645, 81, 0.0182, 84, 0.00969, 86, 0.02173, 88, 0.00792, 95, 0.02026))\n",
      "('know', (1, 0.04042, 2, 0.03978, 4, 0.04107, 8, 0.05416, 14, 0.01675, 26, 0.00878, 37, 0.02598, 39, 0.03182, 43, 0.02358, 54, 0.0134, 61, 0.02893, 62, 0.05786, 69, 0.01591, 81, 0.0172, 85, 0.05786, 87, 0.04774, 91, 0.01768, 94, 0.05092, 100, 0.02274))\n",
      "('think', (13, 0.07701, 16, 0.0085, 18, 0.01415, 26, 0.00452, 28, 0.02592, 42, 0.02078, 45, 0.11222, 54, 0.02756, 56, 0.04515, 59, 0.07014, 65, 0.02425, 69, 0.03273, 74, 0.01844, 79, 0.02146, 82, 0.04224, 83, 0.01455, 93, 0.01658, 95, 0.00985, 99, 0.03193))\n",
      "('good', (2, 0.02165, 11, 0.0252, 16, 0.009, 18, 0.02249, 23, 0.014, 24, 0.01837, 26, 0.00478, 28, 0.02745, 32, 0.01593, 38, 0.02165, 44, 0.11552, 54, 0.02918, 64, 0.0099, 66, 0.03747, 71, 0.02311, 83, 0.0154, 87, 0.01733, 92, 0.01755, 93, 0.01755, 100, 0.01238))\n",
      "('out', (6, 0.03851, 8, 0.01475, 12, 0.01195, 24, 0.00918, 26, 0.00478, 28, 0.04117, 29, 0.02311, 38, 0.02165, 41, 0.03187, 53, 0.042, 57, 0.01284, 63, 0.0235, 71, 0.04621, 74, 0.01952, 75, 0.06931, 80, 0.09561, 83, 0.0154, 87, 0.01733, 89, 0.03747, 91, 0.01926))\n",
      "('would', (11, 0.02189, 12, 0.03113, 15, 0.01881, 19, 0.04299, 22, 0.01323, 24, 0.00797, 32, 0.01383, 41, 0.02768, 44, 0.10033, 57, 0.0223, 58, 0.01524, 61, 0.02737, 63, 0.04081, 79, 0.01973, 81, 0.06507, 83, 0.01338, 84, 0.00866, 91, 0.01672, 98, 0.04544, 100, 0.0215))\n",
      "('how', (12, 0.01097, 17, 0.09093, 18, 0.00689, 21, 0.04715, 23, 0.01286, 24, 0.03372, 26, 0.00439, 28, 0.0126, 30, 0.0878, 31, 0.07715, 37, 0.05196, 48, 0.05786, 66, 0.03441, 69, 0.01591, 71, 0.02122, 84, 0.00915, 92, 0.03223, 94, 0.05092, 96, 0.07715, 98, 0.02402))\n",
      "('about', (12, 0.0101, 18, 0.00634, 24, 0.01552, 26, 0.01615, 32, 0.01346, 35, 0.0244, 37, 0.0239, 42, 0.01859, 52, 0.01582, 54, 0.03699, 58, 0.01483, 64, 0.03346, 72, 0.09009, 76, 0.1464, 79, 0.0192, 82, 0.03778, 87, 0.01464, 88, 0.01377, 93, 0.01483, 95, 0.01761))\n",
      "('me', (1, 0.01965, 4, 0.03993, 9, 0.02134, 10, 0.06189, 11, 0.0225, 13, 0.07281, 14, 0.01629, 16, 0.01608, 18, 0.01338, 21, 0.04585, 23, 0.0125, 50, 0.04951, 64, 0.00884, 71, 0.04126, 72, 0.09522, 74, 0.03487, 81, 0.01672, 87, 0.01547, 91, 0.06878, 95, 0.00931, 98, 0.02336))\n",
      "('dont', (1, 0.04401, 8, 0.0295, 26, 0.00478, 29, 0.02311, 30, 0.0478, 32, 0.01593, 33, 0.09902, 38, 0.02165, 43, 0.02567, 49, 0.02236, 56, 0.0478, 59, 0.02476, 61, 0.03151, 64, 0.0099, 71, 0.02311, 74, 0.03905, 83, 0.0154, 85, 0.06301, 87, 0.03466, 91, 0.01926, 94, 0.05545))\n",
      "('who', (2, 0.02045, 4, 0.04224, 13, 0.15404, 18, 0.00708, 26, 0.00452, 28, 0.01296, 38, 0.02045, 44, 0.10911, 49, 0.02112, 58, 0.01658, 60, 0.11903, 64, 0.00935, 69, 0.01637, 74, 0.01844, 84, 0.02826, 85, 0.05951, 88, 0.0077, 89, 0.03539, 90, 0.06714, 91, 0.01819, 98, 0.07411))\n",
      "('as', (6, 0.02157, 8, 0.00826, 9, 0.01339, 18, 0.00839, 24, 0.00514, 26, 0.01071, 29, 0.01294, 38, 0.0364, 41, 0.02677, 43, 0.01438, 50, 0.06212, 54, 0.00818, 57, 0.00719, 65, 0.02876, 67, 0.03328, 68, 0.03065, 81, 0.03148, 84, 0.03911, 86, 0.01253, 92, 0.00983, 95, 0.02336))\n",
      "('so', (1, 0.01911, 4, 0.03884, 11, 0.02189, 14, 0.01584, 16, 0.00781, 18, 0.03254, 23, 0.01216, 24, 0.00797, 26, 0.01245, 32, 0.01383, 36, 0.04151, 41, 0.01383, 54, 0.01268, 57, 0.01115, 75, 0.1204, 87, 0.01505, 90, 0.03087, 93, 0.01524, 95, 0.01811, 96, 0.03648, 99, 0.02936, 100, 0.01075))\n",
      "('get', (3, 0.0485, 8, 0.01393, 11, 0.0238, 12, 0.01129, 16, 0.01701, 18, 0.00708, 23, 0.01322, 31, 0.03967, 35, 0.05456, 38, 0.02045, 48, 0.05951, 56, 0.0903, 57, 0.01212, 59, 0.02338, 65, 0.02425, 73, 0.04364, 74, 0.01844, 83, 0.01455, 93, 0.01658, 95, 0.00985, 99, 0.06387, 100, 0.02338))\n",
      "('from', (8, 0.01354, 9, 0.02195, 10, 0.03182, 12, 0.03292, 16, 0.01654, 18, 0.01376, 23, 0.01286, 26, 0.00439, 31, 0.03857, 32, 0.01463, 35, 0.02652, 39, 0.03182, 52, 0.0172, 56, 0.0878, 57, 0.01179, 59, 0.02274, 63, 0.02158, 73, 0.04243, 83, 0.02829, 88, 0.00749, 98, 0.02402, 100, 0.01137))\n",
      "('its', (10, 0.02697, 17, 0.07706, 18, 0.00584, 22, 0.01186, 23, 0.0109, 24, 0.00714, 25, 0.03269, 26, 0.01488, 28, 0.02136, 32, 0.0124, 37, 0.04404, 39, 0.02697, 49, 0.0174, 52, 0.01457, 56, 0.0372, 64, 0.0077, 66, 0.02916, 67, 0.03082, 74, 0.04558, 82, 0.0696, 87, 0.02697, 100, 0.0289))\n",
      "('all', (1, 0.01965, 5, 0.03346, 11, 0.04501, 12, 0.01067, 16, 0.00803, 18, 0.02008, 19, 0.0442, 24, 0.00819, 26, 0.00427, 38, 0.01934, 41, 0.01422, 51, 0.02879, 54, 0.02606, 60, 0.11254, 64, 0.01769, 67, 0.01769, 78, 0.06515, 79, 0.02029, 83, 0.01375, 86, 0.01997, 87, 0.03095, 93, 0.01567, 100, 0.01105))\n",
      "('there', (2, 0.01881, 4, 0.03884, 12, 0.01038, 18, 0.01953, 22, 0.02646, 25, 0.03648, 26, 0.00415, 30, 0.04151, 31, 0.03648, 51, 0.028, 54, 0.01268, 63, 0.04081, 65, 0.0446, 77, 0.02272, 78, 0.06337, 79, 0.01973, 81, 0.01627, 83, 0.04013, 86, 0.01942, 88, 0.00708, 89, 0.03254, 90, 0.03087, 95, 0.00905))\n",
      "('one', (8, 0.01148, 14, 0.02839, 18, 0.00584, 24, 0.01429, 26, 0.00744, 28, 0.01068, 38, 0.01685, 45, 0.03082, 52, 0.01457, 56, 0.0372, 57, 0.00999, 58, 0.02732, 61, 0.02452, 64, 0.0077, 69, 0.01349, 74, 0.01519, 83, 0.01199, 84, 0.01552, 88, 0.01269, 91, 0.07491, 93, 0.01366, 95, 0.01623, 99, 0.02631))\n",
      "('at', (1, 0.01578, 7, 0.0355, 8, 0.03173, 12, 0.00857, 18, 0.00538, 22, 0.02185, 24, 0.00658, 26, 0.01028, 31, 0.06026, 35, 0.02071, 41, 0.01142, 49, 0.01604, 50, 0.03977, 52, 0.02687, 57, 0.00921, 58, 0.03775, 64, 0.0071, 65, 0.01841, 68, 0.02617, 69, 0.02486, 79, 0.0163, 84, 0.00715, 86, 0.01604, 88, 0.00585, 99, 0.02425, 100, 0.00888))\n",
      "('just', (1, 0.03333, 8, 0.01117, 11, 0.01909, 12, 0.00905, 16, 0.00681, 18, 0.00568, 19, 0.03749, 21, 0.03889, 22, 0.01154, 26, 0.01086, 28, 0.01039, 42, 0.01666, 64, 0.0225, 65, 0.01944, 66, 0.02838, 67, 0.02999, 70, 0.08748, 71, 0.0175, 74, 0.01478, 81, 0.01418, 87, 0.02625, 89, 0.05674, 94, 0.04199, 95, 0.00789, 97, 0.06561, 99, 0.02561, 100, 0.00937))\n",
      "('was', (5, 0.03746, 8, 0.00738, 11, 0.0126, 12, 0.00597, 14, 0.02736, 16, 0.0045, 19, 0.02475, 22, 0.02285, 24, 0.00918, 26, 0.00239, 29, 0.01155, 38, 0.01083, 41, 0.00796, 43, 0.03851, 45, 0.07922, 46, 0.08664, 48, 0.0315, 57, 0.00642, 63, 0.01175, 74, 0.00976, 75, 0.06931, 78, 0.03648, 79, 0.07954, 81, 0.03746, 84, 0.00997, 88, 0.00408, 95, 0.00521, 100, 0.00619))\n",
      "('my', (5, 0.0241, 7, 0.03184, 11, 0.01621, 12, 0.00769, 14, 0.01173, 15, 0.01393, 16, 0.02895, 23, 0.00901, 24, 0.01181, 28, 0.01765, 29, 0.01486, 32, 0.01024, 35, 0.01857, 37, 0.0182, 38, 0.01393, 52, 0.01205, 58, 0.04514, 67, 0.02547, 69, 0.02229, 71, 0.01486, 74, 0.01255, 83, 0.00991, 87, 0.01114, 89, 0.0241, 92, 0.02258, 93, 0.01129, 99, 0.02175, 100, 0.01592))\n",
      "('can', (2, 0.01052, 3, 0.02494, 9, 0.02322, 10, 0.01683, 12, 0.0058, 13, 0.03961, 14, 0.00886, 16, 0.00437, 17, 0.09619, 18, 0.00364, 23, 0.0136, 24, 0.01338, 26, 0.00696, 31, 0.0204, 35, 0.02806, 44, 0.05611, 49, 0.02172, 52, 0.0182, 59, 0.01203, 67, 0.01924, 68, 0.02658, 72, 0.05179, 83, 0.02244, 86, 0.04344, 92, 0.02557, 94, 0.02693, 95, 0.00506, 98, 0.01271, 100, 0.01804))\n",
      "('your', (2, 0.00992, 8, 0.02026, 12, 0.00547, 14, 0.00835, 15, 0.00992, 16, 0.00412, 18, 0.0103, 23, 0.01282, 26, 0.00656, 29, 0.03174, 32, 0.04379, 35, 0.02646, 37, 0.06478, 42, 0.01008, 48, 0.02886, 51, 0.02953, 52, 0.00858, 53, 0.01924, 57, 0.00588, 58, 0.00804, 63, 0.01076, 68, 0.02506, 69, 0.00794, 74, 0.00894, 77, 0.01198, 82, 0.04096, 83, 0.00705, 87, 0.01587, 92, 0.00804))\n",
      "('like', (1, 0.05358, 2, 0.01318, 4, 0.02723, 14, 0.01111, 18, 0.00457, 22, 0.00928, 23, 0.00852, 24, 0.01118, 26, 0.00582, 28, 0.00836, 29, 0.01407, 35, 0.01758, 41, 0.0097, 42, 0.0268, 43, 0.01563, 49, 0.01361, 53, 0.02557, 57, 0.00782, 69, 0.0211, 74, 0.04755, 75, 0.0422, 77, 0.01593, 82, 0.05445, 87, 0.0211, 89, 0.04562, 90, 0.02164, 91, 0.01172, 92, 0.01068, 94, 0.03376, 100, 0.00754))\n",
      "('this', (8, 0.00676, 9, 0.01095, 11, 0.01154, 12, 0.01095, 15, 0.01984, 16, 0.00412, 18, 0.01373, 23, 0.00641, 24, 0.01262, 26, 0.00219, 28, 0.00629, 29, 0.01058, 38, 0.00992, 44, 0.0529, 49, 0.01024, 52, 0.01716, 53, 0.01924, 54, 0.01336, 58, 0.04018, 59, 0.02267, 63, 0.03228, 64, 0.00453, 69, 0.00794, 73, 0.02116, 84, 0.01827, 86, 0.02048, 87, 0.00794, 88, 0.00747, 95, 0.00955, 100, 0.01134))\n",
      "('but', (2, 0.02044, 9, 0.01127, 12, 0.00564, 16, 0.00424, 18, 0.00354, 19, 0.02335, 24, 0.02165, 26, 0.00902, 28, 0.01942, 32, 0.02255, 36, 0.02255, 38, 0.01021, 39, 0.01635, 41, 0.00751, 43, 0.01211, 49, 0.01055, 54, 0.00689, 64, 0.01401, 69, 0.00817, 74, 0.02763, 79, 0.02144, 81, 0.01768, 82, 0.0211, 83, 0.00727, 84, 0.0047, 87, 0.00817, 91, 0.00908, 92, 0.00828, 95, 0.00984, 98, 0.01234, 100, 0.01752))\n",
      "('with', (1, 0.00684, 2, 0.0202, 8, 0.00458, 10, 0.01077, 11, 0.00783, 12, 0.00371, 14, 0.00567, 15, 0.01346, 16, 0.0056, 18, 0.00466, 22, 0.0142, 24, 0.00285, 26, 0.0208, 32, 0.0099, 41, 0.00495, 45, 0.01231, 49, 0.0139, 57, 0.00399, 58, 0.01091, 64, 0.00308, 69, 0.00538, 74, 0.0182, 81, 0.02328, 83, 0.01436, 86, 0.00695, 87, 0.01615, 88, 0.00253, 92, 0.00545, 93, 0.00545, 95, 0.00324, 99, 0.01051, 100, 0.00769))\n",
      "('be', (2, 0.00878, 9, 0.00969, 12, 0.00969, 14, 0.0074, 15, 0.00878, 16, 0.02555, 20, 0.03513, 23, 0.00568, 24, 0.00745, 26, 0.00581, 28, 0.00556, 32, 0.00646, 35, 0.01171, 44, 0.04684, 51, 0.01307, 52, 0.01519, 54, 0.00592, 57, 0.00521, 58, 0.02134, 63, 0.01906, 65, 0.02082, 68, 0.02219, 69, 0.00703, 77, 0.01061, 79, 0.00921, 81, 0.02279, 83, 0.02498, 84, 0.00404, 86, 0.00907, 89, 0.01519, 95, 0.00845, 99, 0.01371, 100, 0.01004))\n",
      "('do', (1, 0.03542, 3, 0.01653, 12, 0.00385, 15, 0.01395, 18, 0.00724, 22, 0.0049, 23, 0.00451, 24, 0.01478, 26, 0.00154, 28, 0.00442, 37, 0.00911, 42, 0.00708, 43, 0.00827, 45, 0.0255, 48, 0.02028, 54, 0.0047, 57, 0.01653, 59, 0.03188, 62, 0.02028, 64, 0.00638, 65, 0.00827, 71, 0.00744, 73, 0.01487, 77, 0.03368, 79, 0.00731, 81, 0.00603, 82, 0.0144, 83, 0.00992, 86, 0.02879, 93, 0.0113, 94, 0.01785, 95, 0.00336, 98, 0.02526, 100, 0.00797))\n",
      "('what', (4, 0.02723, 5, 0.02281, 7, 0.03014, 11, 0.03069, 15, 0.01318, 18, 0.00912, 19, 0.03014, 21, 0.03126, 22, 0.00928, 26, 0.00582, 27, 0.07033, 42, 0.01339, 43, 0.01563, 45, 0.04822, 46, 0.1055, 51, 0.01963, 52, 0.0114, 53, 0.02557, 54, 0.01777, 55, 0.03246, 56, 0.0291, 57, 0.00782, 58, 0.01068, 59, 0.04521, 64, 0.01206, 65, 0.01563, 68, 0.01111, 77, 0.01593, 79, 0.01383, 80, 0.0291, 81, 0.02281, 82, 0.02723, 87, 0.01055, 93, 0.01068))\n",
      "('if', (4, 0.03741, 11, 0.01054, 12, 0.005, 14, 0.00763, 15, 0.01812, 16, 0.00753, 18, 0.00314, 19, 0.02071, 22, 0.00637, 23, 0.00586, 24, 0.00384, 25, 0.01757, 28, 0.0287, 31, 0.01757, 37, 0.0355, 41, 0.00666, 42, 0.0092, 43, 0.01074, 45, 0.01657, 49, 0.00935, 51, 0.01349, 52, 0.00783, 57, 0.02148, 63, 0.01966, 66, 0.01567, 69, 0.00725, 71, 0.01933, 74, 0.01633, 77, 0.02188, 81, 0.02351, 83, 0.00644, 87, 0.00725, 94, 0.02319, 96, 0.01757, 100, 0.02071))\n",
      "('or', (1, 0.01069, 2, 0.03157, 6, 0.01871, 10, 0.01683, 12, 0.01161, 14, 0.00886, 16, 0.00437, 18, 0.01092, 20, 0.04208, 22, 0.0148, 23, 0.0068, 24, 0.00446, 26, 0.00465, 31, 0.0204, 42, 0.01069, 43, 0.01247, 49, 0.01086, 53, 0.0204, 55, 0.0259, 56, 0.02322, 61, 0.01531, 67, 0.00962, 68, 0.02658, 69, 0.00842, 70, 0.05611, 71, 0.01122, 74, 0.00948, 77, 0.01271, 79, 0.01104, 83, 0.02244, 84, 0.01453, 85, 0.0306, 92, 0.00852, 95, 0.01013, 97, 0.04208, 100, 0.01203))\n",
      "('are', (1, 0.00521, 2, 0.0154, 3, 0.02433, 4, 0.0106, 8, 0.0035, 14, 0.00432, 16, 0.00213, 18, 0.01953, 19, 0.01173, 22, 0.00361, 26, 0.01133, 28, 0.01626, 29, 0.00548, 30, 0.01133, 31, 0.00995, 36, 0.01133, 51, 0.00764, 52, 0.00888, 53, 0.01991, 54, 0.00692, 63, 0.00557, 64, 0.00469, 65, 0.00608, 68, 0.00432, 69, 0.00821, 70, 0.02737, 71, 0.01095, 74, 0.00463, 77, 0.0062, 84, 0.00236, 86, 0.0106, 88, 0.00386, 91, 0.00456, 92, 0.00832, 97, 0.02053, 98, 0.0062, 100, 0.00293))\n",
      "('not', (3, 0.01321, 9, 0.0123, 12, 0.00307, 15, 0.00557, 16, 0.00463, 18, 0.00386, 22, 0.00392, 23, 0.0036, 24, 0.00709, 25, 0.01081, 26, 0.00615, 28, 0.00706, 29, 0.00595, 36, 0.0123, 41, 0.0123, 42, 0.00566, 45, 0.01019, 52, 0.01446, 54, 0.00376, 57, 0.0033, 64, 0.00764, 67, 0.01529, 69, 0.00446, 74, 0.00502, 77, 0.02019, 79, 0.00585, 81, 0.00964, 83, 0.01585, 84, 0.00256, 86, 0.00575, 88, 0.01259, 92, 0.00903, 93, 0.00452, 94, 0.01427, 95, 0.00268, 98, 0.01346, 100, 0.00956))\n",
      "('have', (1, 0.00864, 2, 0.00851, 6, 0.03027, 9, 0.00939, 11, 0.01981, 14, 0.0215, 15, 0.00851, 16, 0.01769, 19, 0.01945, 22, 0.00599, 23, 0.0055, 24, 0.01082, 26, 0.00751, 28, 0.00539, 32, 0.00626, 35, 0.01135, 36, 0.01878, 37, 0.01112, 43, 0.01009, 49, 0.03515, 52, 0.01472, 57, 0.01009, 58, 0.0069, 62, 0.04952, 63, 0.00923, 64, 0.00778, 66, 0.01472, 69, 0.00681, 74, 0.00767, 77, 0.01028, 78, 0.02867, 83, 0.00605, 84, 0.00392, 88, 0.0032, 89, 0.01472, 91, 0.00757, 92, 0.0069, 99, 0.01329))\n",
      "('on', (3, 0.01954, 5, 0.01426, 7, 0.01884, 8, 0.00561, 10, 0.01319, 14, 0.01389, 15, 0.02474, 18, 0.0057, 22, 0.0174, 23, 0.02132, 26, 0.00182, 29, 0.0088, 32, 0.00606, 34, 0.00484, 35, 0.01099, 36, 0.01819, 37, 0.01077, 38, 0.00824, 39, 0.01319, 43, 0.01954, 45, 0.01507, 49, 0.00851, 51, 0.01227, 52, 0.01426, 55, 0.02029, 58, 0.01336, 61, 0.01199, 63, 0.00894, 64, 0.00377, 65, 0.01954, 66, 0.01426, 67, 0.01507, 69, 0.0066, 77, 0.00996, 79, 0.0173, 81, 0.00713, 86, 0.00851, 88, 0.0062, 92, 0.00668, 93, 0.02003, 100, 0.00471))\n",
      "('for', (2, 0.00884, 3, 0.01048, 6, 0.00262, 8, 0.001, 9, 0.00488, 11, 0.00171, 12, 0.00325, 15, 0.00147, 18, 0.00102, 19, 0.00337, 21, 0.00349, 23, 0.00095, 24, 0.00062, 25, 0.00286, 26, 0.00098, 28, 0.00187, 31, 0.00286, 32, 0.00217, 38, 0.00295, 47, 0.01048, 49, 0.00152, 50, 0.00377, 51, 0.00439, 52, 0.00127, 54, 0.00099, 57, 0.00087, 58, 0.00119, 63, 0.0032, 64, 0.00202, 67, 0.00269, 68, 0.00124, 69, 0.00236, 71, 0.00157, 73, 0.00314, 74, 0.00398, 81, 0.00127, 83, 0.00105, 84, 0.00339, 85, 0.00857, 86, 0.00456, 87, 0.00118, 88, 0.00111, 90, 0.00242, 91, 0.00262, 93, 0.00119, 94, 0.00377, 95, 0.00071, 98, 0.00534, 99, 0.0023, 100, 0.00421))\n",
      "('that', (4, 0.00449, 5, 0.00376, 6, 0.00387, 7, 0.00497, 8, 0.00444, 9, 0.0024, 10, 0.00348, 11, 0.0076, 12, 0.0012, 14, 0.00183, 16, 0.0009, 18, 0.00151, 21, 0.00516, 22, 0.00306, 23, 0.00141, 24, 0.00738, 26, 0.00288, 29, 0.00464, 32, 0.0016, 35, 0.0029, 37, 0.00284, 41, 0.0016, 43, 0.00516, 49, 0.00449, 52, 0.00188, 54, 0.00293, 55, 0.00536, 57, 0.00258, 58, 0.00176, 59, 0.00249, 61, 0.00317, 62, 0.00633, 63, 0.00236, 64, 0.00199, 65, 0.00258, 67, 0.00199, 68, 0.00183, 69, 0.00348, 74, 0.00588, 78, 0.00733, 79, 0.00228, 81, 0.00376, 83, 0.00464, 86, 0.00449, 87, 0.00348, 88, 0.00164, 91, 0.00193, 94, 0.00557, 95, 0.00314, 100, 0.00373))\n",
      "('it', (4, -0.02806, 5, -0.0047, 6, -0.00966, 8, -0.0037, 11, -0.00316, 12, -0.003, 14, -0.00916, 15, -0.00544, 16, -0.00113, 18, -0.00094, 20, -0.01087, 21, -0.00644, 22, -0.00382, 23, -0.00703, 24, -0.00346, 25, -0.00527, 26, -0.003, 28, -0.00172, 29, -0.0029, 32, -0.002, 35, -0.00725, 36, -0.006, 41, -0.004, 42, -0.00276, 43, -0.01611, 48, -0.00791, 49, -0.00281, 50, -0.00696, 51, -0.00405, 52, -0.01645, 54, -0.00549, 55, -0.00669, 57, -0.00161, 59, -0.00621, 61, -0.00791, 63, -0.00885, 65, -0.00966, 66, -0.0047, 69, -0.00435, 73, -0.0058, 74, -0.00245, 77, -0.00985, 78, -0.00916, 79, -0.01141, 81, -0.00235, 82, -0.01122, 83, -0.00387, 84, -0.00375, 87, -0.00217, 89, -0.0047, 93, -0.00661, 97, -0.01087, 98, -0.00985, 99, -0.00849, 100, -0.01398))\n",
      "('of', (1, -0.00488, 2, -0.01922, 5, -0.00831, 9, -0.0159, 11, -0.01677, 14, -0.00405, 15, -0.0048, 16, -0.002, 18, -0.00997, 21, -0.01139, 22, -0.00338, 24, -0.01425, 26, -0.01166, 28, -0.01522, 29, -0.00513, 30, -0.0106, 32, -0.00353, 35, -0.0064, 37, -0.00628, 38, -0.0048, 41, -0.01414, 42, -0.00976, 43, -0.00569, 45, -0.00878, 51, -0.00715, 52, -0.00415, 53, -0.02795, 54, -0.01295, 56, -0.0106, 58, -0.00779, 59, -0.00549, 60, -0.02795, 61, -0.01398, 62, -0.01398, 63, -0.01042, 64, -0.00659, 65, -0.00569, 66, -0.00831, 67, -0.01318, 68, -0.01618, 69, -0.00384, 74, -0.00433, 75, -0.01537, 77, -0.0058, 79, -0.00504, 81, -0.00831, 83, -0.00342, 84, -0.0177, 85, -0.01398, 87, -0.00769, 88, -0.01809, 91, -0.00427, 92, -0.01557, 93, -0.01168, 95, -0.00925, 100, -0.01098))\n",
      "('in', (1, -0.00488, 2, -0.01441, 3, -0.02278, 9, -0.0106, 11, -0.00559, 12, -0.00265, 14, -0.00405, 15, -0.0048, 16, -0.00998, 18, -0.00997, 24, -0.00407, 25, -0.00932, 26, -0.01909, 27, -0.02562, 30, -0.0106, 32, -0.00707, 33, -0.02196, 37, -0.00628, 39, -0.00769, 41, -0.01414, 42, -0.00488, 43, -0.00569, 48, -0.01398, 49, -0.00496, 51, -0.0286, 52, -0.01662, 54, -0.00324, 56, -0.0106, 57, -0.01139, 58, -0.00779, 59, -0.01098, 61, -0.00699, 63, -0.00521, 64, -0.0022, 65, -0.01139, 68, -0.00405, 70, -0.02562, 71, -0.0205, 73, -0.0205, 74, -0.00433, 75, -0.01537, 77, -0.0058, 79, -0.00504, 80, -0.02121, 81, -0.00415, 82, -0.00992, 83, -0.01025, 84, -0.01327, 86, -0.00992, 88, -0.01809, 89, -0.01662, 90, -0.01577, 91, -0.00854, 95, -0.00694, 98, -0.0058, 99, -0.015, 100, -0.01373))\n",
      "('i', (1, -0.0135, 2, -0.01329, 3, -0.01575, 4, -0.02744, 5, -0.02299, 8, -0.0181, 9, -0.00733, 10, -0.02126, 11, -0.03866, 12, -0.011, 13, -0.02501, 14, -0.02238, 16, -0.03314, 17, -0.03038, 18, -0.0046, 19, -0.03038, 22, -0.03271, 23, -0.01289, 24, -0.00282, 26, -0.0044, 29, -0.02126, 30, -0.02933, 32, -0.01955, 33, -0.03038, 36, -0.01466, 38, -0.01329, 39, -0.01063, 41, -0.00489, 43, -0.00788, 45, -0.01215, 48, -0.03866, 52, -0.01149, 54, -0.00448, 56, -0.01466, 57, -0.00788, 58, -0.02153, 59, -0.0076, 62, -0.01933, 64, -0.00608, 67, -0.01823, 69, -0.05316, 71, -0.00709, 74, -0.01198, 76, -0.05316, 79, -0.00697, 81, -0.00575, 82, -0.02744, 83, -0.00472, 85, -0.01933, 87, -0.04253, 89, -0.05747, 91, -0.02953, 92, -0.01615, 93, -0.00538, 95, -0.0064, 96, -0.02578, 97, -0.05316, 98, -0.01605, 99, -0.01037, 100, -0.02278))\n",
      "('you', (2, -0.00705, 3, -0.01671, 4, -0.01455, 9, -0.01555, 12, -0.00389, 14, -0.02374, 15, -0.0141, 16, -0.0205, 17, -0.03222, 18, -0.01463, 19, -0.01611, 22, -0.00991, 23, -0.00911, 24, -0.00896, 26, -0.01711, 28, -0.01786, 31, -0.02734, 32, -0.00518, 35, -0.03759, 36, -0.01555, 37, -0.02761, 38, -0.00705, 41, -0.00518, 42, -0.00716, 45, -0.02577, 50, -0.01804, 51, -0.01049, 52, -0.01829, 54, -0.00475, 56, -0.01555, 57, -0.02923, 59, -0.02416, 62, -0.0205, 63, -0.01529, 64, -0.01289, 66, -0.02438, 67, -0.00645, 69, -0.03383, 71, -0.03007, 72, -0.0347, 73, -0.01503, 74, -0.03176, 77, -0.01702, 79, -0.01479, 82, -0.01455, 83, -0.08019, 84, -0.00324, 87, -0.00564, 88, -0.00265, 89, -0.01219, 90, -0.01157, 91, -0.0188, 92, -0.02855, 94, -0.03609, 95, -0.00339, 96, -0.05467, 97, -0.02819, 98, -0.01702, 99, -0.011, 100, -0.01208))\n",
      "('is', (1, -0.00579, 4, -0.04705, 5, -0.00986, 8, -0.01164, 9, -0.00629, 12, -0.00314, 13, -0.02145, 15, -0.0057, 16, -0.00237, 18, -0.01577, 20, -0.02279, 21, -0.01351, 22, -0.00401, 23, -0.00368, 24, -0.00966, 25, -0.0221, 26, -0.02138, 27, -0.09116, 28, -0.01083, 29, -0.01823, 30, -0.01257, 35, -0.0076, 36, -0.01257, 37, -0.00744, 38, -0.0057, 39, -0.01823, 41, -0.01257, 42, -0.00579, 43, -0.00675, 50, -0.02917, 51, -0.00848, 52, -0.02464, 53, -0.0221, 54, -0.03838, 55, -0.01402, 56, -0.02515, 57, -0.00338, 58, -0.00462, 59, -0.00651, 60, -0.03315, 63, -0.01236, 64, -0.00781, 65, -0.02026, 66, -0.00986, 67, -0.00521, 68, -0.0096, 69, -0.00912, 73, -0.02431, 74, -0.00513, 78, -0.01919, 79, -0.00598, 81, -0.00986, 82, -0.01176, 83, -0.01215, 84, -0.01574, 87, -0.00456, 88, -0.00644, 89, -0.00986, 90, -0.0187, 91, -0.00506, 93, -0.00923, 95, -0.01097, 97, -0.02279, 100, -0.00326))\n",
      "('and', (1, -0.01124, 4, -0.02284, 5, -0.03827, 6, -0.01967, 7, -0.02528, 8, -0.03766, 10, -0.0177, 11, -0.03862, 12, -0.0061, 13, -0.04165, 14, -0.04658, 15, -0.02213, 16, -0.05517, 18, -0.01914, 19, -0.05057, 20, -0.04425, 21, -0.02623, 22, -0.02334, 23, -0.03576, 24, -0.02814, 25, -0.02145, 26, -0.03418, 27, -0.059, 28, -0.01402, 29, -0.0472, 30, -0.02441, 31, -0.02145, 32, -0.04069, 35, -0.01475, 38, -0.01106, 39, -0.0354, 41, -0.01628, 42, -0.01124, 43, -0.01311, 45, -0.04046, 49, -0.01142, 52, -0.00957, 53, -0.02145, 54, -0.02982, 59, -0.03793, 61, -0.03218, 62, -0.03218, 63, -0.012, 64, -0.05057, 65, -0.02623, 66, -0.03827, 67, -0.02023, 68, -0.07453, 69, -0.0177, 74, -0.03989, 77, -0.02672, 79, -0.0116, 81, -0.01914, 83, -0.0236, 84, -0.01528, 86, -0.01142, 87, -0.04425, 88, -0.03332, 91, -0.01967, 92, -0.05378, 93, -0.04481, 95, -0.05324, 96, -0.08582, 97, -0.13276, 99, -0.01727, 100, -0.03161))\n",
      "('a', (1, -0.03819, 2, -0.02506, 5, -0.04335, 6, -0.04456, 7, -0.02864, 8, -0.03413, 9, -0.01383, 10, -0.02005, 11, -0.01458, 12, -0.02074, 14, -0.02111, 15, -0.05013, 16, -0.03645, 17, -0.05729, 18, -0.03902, 19, -0.02864, 21, -0.0594, 22, -0.05288, 23, -0.06481, 24, -0.0478, 26, -0.03872, 28, -0.02382, 29, -0.02673, 30, -0.02765, 32, -0.01844, 34, -0.01472, 35, -0.01671, 36, -0.08297, 37, -0.01637, 38, -0.01253, 40, -0.08637, 41, -0.02765, 42, -0.01273, 43, -0.0594, 45, -0.06874, 49, -0.01294, 51, -0.0746, 52, -0.04335, 54, -0.01688, 55, -0.06169, 57, -0.02228, 58, -0.02031, 59, -0.04296, 61, -0.01823, 62, -0.03645, 63, -0.02719, 64, -0.01719, 65, -0.01485, 66, -0.04335, 67, -0.05729, 68, -0.08442, 69, -0.02005, 71, -0.0401, 74, -0.05648, 77, -0.03027, 78, -0.04221, 79, -0.05259, 81, -0.01084, 82, -0.02587, 83, -0.03564, 84, -0.05193, 88, -0.05661, 89, -0.02168, 90, -0.02056, 91, -0.01114, 92, -0.01015, 93, -0.06091, 94, -0.03208, 95, -0.02412, 97, -0.05013, 98, -0.01513, 100, -0.00716))\n",
      "('to', (1, -0.02845, 2, -0.014, 4, -0.02891, 5, -0.04843, 7, -0.032, 8, -0.02859, 9, -0.07725, 10, -0.0224, 12, -0.06953, 13, -0.05271, 14, -0.03537, 15, -0.028, 16, -0.04655, 18, -0.03391, 19, -0.032, 20, -0.11201, 21, -0.09956, 22, -0.02954, 23, -0.09051, 24, -0.04154, 25, -0.02715, 26, -0.06489, 28, -0.01774, 29, -0.02987, 30, -0.0309, 31, -0.05431, 32, -0.0618, 35, -0.01867, 36, -0.0927, 37, -0.03658, 39, -0.0224, 41, -0.0412, 42, -0.01422, 43, -0.0166, 48, -0.04073, 49, -0.02891, 50, -0.03584, 51, -0.02084, 52, -0.02422, 54, -0.07546, 55, -0.03446, 57, -0.05808, 59, -0.06401, 61, -0.0611, 63, -0.1215, 64, -0.07041, 65, -0.03319, 66, -0.02422, 67, -0.0256, 68, -0.03537, 69, -0.0224, 71, -0.0448, 72, -0.06893, 73, -0.08961, 74, -0.0631, 77, -0.06763, 78, -0.04716, 80, -0.0309, 81, -0.03633, 83, -0.01991, 84, -0.05802, 86, -0.01445, 87, -0.0336, 88, -0.02635, 89, -0.02422, 90, -0.02298, 91, -0.03734, 92, -0.01134, 93, -0.03402, 94, -0.03584, 95, -0.02695, 96, -0.08146, 98, -0.01691, 99, -0.06557, 100, -0.032))\n",
      "('the', (2, -0.12061, 5, -0.06953, 6, -0.03574, 7, -0.13783, 8, -0.19161, 9, -0.19962, 10, -0.03216, 11, -0.07018, 12, -0.03327, 14, -0.06771, 15, -0.0402, 16, -0.05012, 17, -0.09189, 18, -0.04868, 19, -0.04594, 22, -0.07069, 23, -0.05197, 24, -0.11075, 25, -0.07797, 26, -0.17744, 27, -0.42882, 29, -0.04288, 30, -0.04436, 33, -0.09189, 35, -0.0804, 36, -0.08873, 37, -0.07876, 38, -0.12061, 39, -0.22513, 41, -0.13309, 43, -0.07148, 45, -0.07351, 47, -0.14294, 48, -0.11695, 49, -0.083, 50, -0.10292, 51, -0.05983, 52, -0.08693, 53, -0.07797, 54, -0.10833, 55, -0.09896, 56, -0.04436, 57, -0.1072, 58, -0.04885, 59, -0.02298, 60, -0.11695, 61, -0.14619, 63, -0.02181, 64, -0.05514, 65, -0.04765, 66, -0.17385, 67, -0.03675, 68, -0.10157, 69, -0.04824, 71, -0.02145, 72, -0.09896, 73, -0.17153, 74, -0.07248, 75, -0.12865, 77, -0.07281, 78, -0.06771, 79, -0.08435, 80, -0.08873, 81, -0.31292, 82, -0.0415, 83, -0.02859, 84, -0.17585, 86, -0.06225, 87, -0.06432, 88, -0.13621, 89, -0.06953, 90, -0.06597, 91, -0.05361, 92, -0.04885, 93, -0.09771, 95, -0.05803, 96, -0.07797, 98, -0.02428, 99, -0.06275, 100, -0.05743))\n"
     ]
    }
   ],
   "source": [
    "words_rdd = tfidf_weight(dataset_path, sc, ngram='n', sample_size=100, verbose=True)"
   ]
  },
  {
   "source": [
    "## Bigrama"
   ],
   "cell_type": "markdown",
   "metadata": {}
  },
  {
   "cell_type": "code",
   "execution_count": 9,
   "metadata": {},
   "outputs": [
    {
     "output_type": "stream",
     "name": "stdout",
     "text": [
      "-------------------------------------------\n",
      "|                                         |\n",
      "|                Corpus                   |\n",
      "|                                         |\n",
      "-------------------------------------------\n",
      "Index: 0 \t Length: 16\n",
      "-----------------------------------------\n",
      "Original doc: \n",
      "\"4\",\"What is a Skill people don't have but could benefit from?\",\"\",\"Understanding women / reading their minds lol!!!\"\n",
      "\n",
      "Cleaned doc: \n",
      "['wh', 'is', 'sk', 'pe', 'do', 'ha', 'bu', 'co', 'be', 'fr', 'un', 'wo', 're', 'th', 'mi', 'lo']\n",
      "\n",
      "\n",
      "Index: 1 \t Length: 38\n",
      "-----------------------------------------\n",
      "Original doc: \n",
      "\"4\",\"My son told me this--\"\" Your cerebral cortex has disapated to a minute capasity.\"\"  What the heck is he saying?\",\"\",\"I think he's questioning your intelligence... Or at least how you use your brain.\\nHe does it with style!\\n\\nGoodluck!\"\n",
      "\n",
      "Cleaned doc: \n",
      "['my', 'so', 'to', 'me', 'th', 'yo', 'ce', 'co', 'ha', 'di', 'to', 'mi', 'ca', 'wh', 'th', 'he', 'is', 'he', 'sa', 'th', 'he', 'qu', 'yo', 'in', 'or', 'at', 'le', 'ho', 'yo', 'us', 'yo', 'br', 'he', 'do', 'it', 'wi', 'st', 'go']\n",
      "\n",
      "\n",
      "Index: 2 \t Length: 26\n",
      "-----------------------------------------\n",
      "Original doc: \n",
      "\"5\",\"Can you use a network cable with a RJ25  modular plug for a telephone line?\",\"\",\"YES USE THE BLUE/ BLUE- WHITE STRIPE PAIR FOR THE FIRST PHONE LINE.\\n\\nAPS\"\n",
      "\n",
      "Cleaned doc: \n",
      "['ca', 'yo', 'us', 'ne', 'ca', 'wi', 'rj', 'mo', 'pl', 'fo', 'te', 'li', 'ye', 'us', 'th', 'bl', 'bl', 'wh', 'st', 'pa', 'fo', 'th', 'fi', 'ph', 'li', 'ap']\n",
      "\n",
      "\n",
      "\n",
      "\n",
      "-------------------------------------------\n",
      "|                                         |\n",
      "|       Inverse Document Frequency        |\n",
      "|                                         |\n",
      "-------------------------------------------\n",
      "Término ------------ IDF\n",
      "\n",
      "('rj', 4.605170185988092)\n",
      "\n",
      "('13', 4.605170185988092)\n",
      "\n",
      "('il', 4.605170185988092)\n",
      "\n",
      "('mp', 4.605170185988092)\n",
      "\n",
      "('cd', 4.605170185988092)\n",
      "\n",
      "('dy', 4.605170185988092)\n",
      "\n",
      "('99', 4.605170185988092)\n",
      "\n",
      "('17', 4.605170185988092)\n",
      "\n",
      "('qa', 4.605170185988092)\n",
      "\n",
      "('ny', 4.605170185988092)\n",
      "\n",
      "('83', 4.605170185988092)\n",
      "\n",
      "('zi', 4.605170185988092)\n",
      "\n",
      "('ur', 4.605170185988092)\n",
      "\n",
      "('hg', 4.605170185988092)\n",
      "\n",
      "('db', 4.605170185988092)\n",
      "\n",
      "('2a', 4.605170185988092)\n",
      "\n",
      "('5b', 4.605170185988092)\n",
      "\n",
      "('a5', 4.605170185988092)\n",
      "\n",
      "('36', 4.605170185988092)\n",
      "\n",
      "('a1', 4.605170185988092)\n",
      "\n",
      "('62', 4.605170185988092)\n",
      "\n",
      "('jp', 4.605170185988092)\n",
      "\n",
      "('uh', 4.605170185988092)\n",
      "\n",
      "('aa', 4.605170185988092)\n",
      "\n",
      "('tn', 4.605170185988092)\n",
      "\n",
      "('mr', 4.605170185988092)\n",
      "\n",
      "('8d', 4.605170185988092)\n",
      "\n",
      "('80', 4.605170185988092)\n",
      "\n",
      "('55', 4.605170185988092)\n",
      "\n",
      "('58', 4.605170185988092)\n",
      "\n",
      "('44', 4.605170185988092)\n",
      "\n",
      "('ie', 4.605170185988092)\n",
      "\n",
      "('3r', 4.605170185988092)\n",
      "\n",
      "\n",
      "\n",
      "-------------------------------------------\n",
      "|                                         |\n",
      "|              Term Frequency             |\n",
      "|                                         |\n",
      "-------------------------------------------\n",
      "Index: 0 \tWords: 16\n",
      "--------------------------------\n",
      "Original:\n",
      "\n",
      "\"4\",\"What is a Skill people don't have but could benefit from?\",\"\",\"Understanding women / reading their minds lol!!!\"\n",
      "\n",
      "Word frequency: \n",
      "\n",
      "[('wh', 1), ('is', 1), ('sk', 1), ('pe', 1), ('do', 1), ('ha', 1), ('bu', 1), ('co', 1), ('be', 1), ('fr', 1), ('un', 1), ('wo', 1), ('re', 1), ('th', 1), ('mi', 1), ('lo', 1)]\n",
      "\n",
      "Term Frequency:\n",
      "\n",
      "[('wh', 0.0625), ('is', 0.0625), ('sk', 0.0625), ('pe', 0.0625), ('do', 0.0625), ('ha', 0.0625), ('bu', 0.0625), ('co', 0.0625), ('be', 0.0625), ('fr', 0.0625), ('un', 0.0625), ('wo', 0.0625), ('re', 0.0625), ('th', 0.0625), ('mi', 0.0625), ('lo', 0.0625)]\n",
      "\n",
      "\n",
      "\n",
      "Index: 1 \tWords: 29\n",
      "--------------------------------\n",
      "Original:\n",
      "\n",
      "\"4\",\"My son told me this--\"\" Your cerebral cortex has disapated to a minute capasity.\"\"  What the heck is he saying?\",\"\",\"I think he's questioning your intelligence... Or at least how you use your brain.\\nHe does it with style!\\n\\nGoodluck!\"\n",
      "\n",
      "Word frequency: \n",
      "\n",
      "[('my', 1), ('so', 1), ('to', 2), ('me', 1), ('th', 3), ('yo', 4), ('ce', 1), ('co', 1), ('ha', 1), ('di', 1), ('mi', 1), ('ca', 1), ('wh', 1), ('he', 4), ('is', 1), ('sa', 1), ('qu', 1), ('in', 1), ('or', 1), ('at', 1), ('le', 1), ('ho', 1), ('us', 1), ('br', 1), ('do', 1), ('it', 1), ('wi', 1), ('st', 1), ('go', 1)]\n",
      "\n",
      "Term Frequency:\n",
      "\n",
      "[('my', 0.03448), ('so', 0.03448), ('to', 0.06897), ('me', 0.03448), ('th', 0.10345), ('yo', 0.13793), ('ce', 0.03448), ('co', 0.03448), ('ha', 0.03448), ('di', 0.03448), ('mi', 0.03448), ('ca', 0.03448), ('wh', 0.03448), ('he', 0.13793), ('is', 0.03448), ('sa', 0.03448), ('qu', 0.03448), ('in', 0.03448), ('or', 0.03448), ('at', 0.03448), ('le', 0.03448), ('ho', 0.03448), ('us', 0.03448), ('br', 0.03448), ('do', 0.03448), ('it', 0.03448), ('wi', 0.03448), ('st', 0.03448), ('go', 0.03448)]\n",
      "\n",
      "\n",
      "\n",
      "Index: 2 \tWords: 20\n",
      "--------------------------------\n",
      "Original:\n",
      "\n",
      "\"5\",\"Can you use a network cable with a RJ25  modular plug for a telephone line?\",\"\",\"YES USE THE BLUE/ BLUE- WHITE STRIPE PAIR FOR THE FIRST PHONE LINE.\\n\\nAPS\"\n",
      "\n",
      "Word frequency: \n",
      "\n",
      "[('ca', 2), ('yo', 1), ('us', 2), ('ne', 1), ('wi', 1), ('rj', 1), ('mo', 1), ('pl', 1), ('fo', 2), ('te', 1), ('li', 2), ('ye', 1), ('th', 2), ('bl', 2), ('wh', 1), ('st', 1), ('pa', 1), ('fi', 1), ('ph', 1), ('ap', 1)]\n",
      "\n",
      "Term Frequency:\n",
      "\n",
      "[('ca', 0.1), ('yo', 0.05), ('us', 0.1), ('ne', 0.05), ('wi', 0.05), ('rj', 0.05), ('mo', 0.05), ('pl', 0.05), ('fo', 0.1), ('te', 0.05), ('li', 0.1), ('ye', 0.05), ('th', 0.1), ('bl', 0.1), ('wh', 0.05), ('st', 0.05), ('pa', 0.05), ('fi', 0.05), ('ph', 0.05), ('ap', 0.05)]\n",
      "\n",
      "\n",
      "\n",
      "\n",
      "\n",
      "-------------------------------------------\n",
      "|                                         |\n",
      "|                   TFIDF                 |\n",
      "|        (ngram, (doc_id, tfidf, ...))    |\n",
      "|                                         |\n",
      "-------------------------------------------\n",
      "('rj', (3, 0.23026))\n",
      "('yr', (5, 0.11677))\n",
      "('13', (5, 0.06876))\n",
      "('oh', (9, 0.41297))\n",
      "('il', (9, 0.06484))\n",
      "('wm', (10, 0.25657))\n",
      "('mp', (10, 0.11232))\n",
      "('cd', (10, 0.11232))\n",
      "('ec', (11, 0.41608))\n",
      "('dy', (15, 0.12121))\n",
      "('ox', (17, 0.25194))\n",
      "('o2', (17, 0.25194))\n",
      "('99', (17, 0.06876))\n",
      "('17', (20, 0.27088))\n",
      "('qa', (21, 0.2193))\n",
      "('ny', (22, 0.05756))\n",
      "('83', (23, 0.51168))\n",
      "('zi', (26, 0.17711))\n",
      "('ur', (27, 0.17058))\n",
      "('hg', (28, 0.13544))\n",
      "('db', (28, 0.13544))\n",
      "('2a', (34, 0.35423))\n",
      "('5b', (34, 0.35423))\n",
      "('a5', (34, 0.35423))\n",
      "('36', (35, 0.14391))\n",
      "('a1', (38, 0.07428))\n",
      "('62', (38, 0.07428))\n",
      "('cv', (39, 0.3912))\n",
      "('jp', (39, 0.23026))\n",
      "('xv', (39, 0.3912))\n",
      "('53', (40, 0.13039))\n",
      "('uh', (40, 0.07677))\n",
      "('aa', (45, 0.11232))\n",
      "('tn', (47, 0.11513))\n",
      "('mr', (47, 0.11513))\n",
      "('8d', (51, 0.20023))\n",
      "('80', (56, 0.07806))\n",
      "('55', (56, 0.07806))\n",
      "('58', (56, 0.07806))\n",
      "('44', (56, 0.07806))\n",
      "('ie', (57, 0.15879))\n",
      "('bm', (59, 0.13489))\n",
      "('3r', (59, 0.07939))\n",
      "('26', (59, 0.07939))\n",
      "('92', (61, 0.0921))\n",
      "('hm', (61, 0.0921))\n",
      "('lp', (65, 0.17058))\n",
      "('uk', (65, 0.17058))\n",
      "('dm', (65, 0.17058))\n",
      "('bd', (66, 0.37569))\n",
      "('ut', (68, 0.05904))\n",
      "('io', (73, 0.10233))\n",
      "('pm', (74, 0.18455))\n",
      "('b4', (74, 0.08077))\n",
      "('lm', (74, 0.08077))\n",
      "('om', (74, 0.08077))\n",
      "('ey', (75, 0.31296))\n",
      "('19', (77, 0.10712))\n",
      "('qi', (78, 0.17058))\n",
      "('hy', (78, 0.17058))\n",
      "('ty', (79, 0.06774))\n",
      "('uf', (80, 0.46052))\n",
      "('15', (82, 0.06139))\n",
      "('dl', (83, 0.12448))\n",
      "('50', (88, 0.10965))\n",
      "('tv', (90, 0.16941))\n",
      "('cn', (90, 0.0606))\n",
      "('ig', (92, 0.17058))\n",
      "('kr', (92, 0.28976))\n",
      "('6k', (94, 0.15349))\n",
      "('wu', (94, 0.15349))\n",
      "('ss', (95, 0.34799))\n",
      "('gl', (97, 0.11808))\n",
      "('rx', (97, 0.11808))\n",
      "('gh', (99, 0.30091))\n",
      "('ka', (99, 0.30091))\n",
      "('bh', (99, 0.17711))\n",
      "('ko', (99, 0.17711))\n",
      "('11', (8, 0.18629, 76, 0.1262))\n",
      "('ah', (10, 0.09541, 38, 0.0631))\n",
      "('vo', (20, 0.23011, 68, 0.05015))\n",
      "('25', (23, 0.43466, 38, 0.0631))\n",
      "('tu', (31, 0.07304, 54, 0.22624))\n",
      "('14', (37, 0.05359, 67, 0.08149))\n",
      "('ic', (38, 0.0631, 57, 0.13489))\n",
      "('56', (40, 0.11687, 90, 0.04615))\n",
      "('sl', (44, 0.07851, 74, 0.16941))\n",
      "('ow', (56, 0.06631, 68, 0.05015))\n",
      "('40', (59, 0.06744, 88, 0.09315))\n",
      "('aw', (5, 0.04806, 53, 0.06998, 72, 0.08701))\n",
      "('ru', (5, 0.04806, 6, 0.1022, 37, 0.0441))\n",
      "('lu', (7, 0.07462, 43, 0.15937, 66, 0.12522))\n",
      "('ei', (7, 0.07462, 38, 0.05656, 100, 0.08552))\n",
      "('sy', (7, 0.07462, 86, 0.18455, 90, 0.04615))\n",
      "('au', (10, 0.08552, 65, 0.12988, 99, 0.13486))\n",
      "('ai', (11, 0.09741, 17, 0.05235, 45, 0.08552))\n",
      "('ed', (21, 0.11467, 29, 0.41111, 47, 0.0602))\n",
      "('ok', (22, 0.15786, 66, 0.18041, 74, 0.0443))\n",
      "('ww', (24, 0.35066, 87, 0.13486, 95, 0.09478))\n",
      "('es', (40, 0.05845, 54, 0.11312, 89, 0.12522))\n",
      "('30', (41, 0.05081, 88, 0.08349, 90, 0.04615))\n",
      "('ja', (47, 0.08047, 74, 0.11295, 90, 0.04236))\n",
      "('et', (53, 0.03812, 68, 0.04495, 87, 0.13486))\n",
      "('ht', (65, 0.12988, 78, 0.12988, 87, 0.13486))\n",
      "('ph', (3, 0.14979, 11, 0.08322, 54, 0.09664, 98, 0.28531))\n",
      "('ef', (5, 0.042, 17, 0.042, 79, 0.08274, 97, 0.14427))\n",
      "('av', (11, 0.08942, 21, 0.15328, 55, 0.0685, 72, 0.08701))\n",
      "('12', (23, 0.35765, 62, 0.05646, 65, 0.11923, 66, 0.11495))\n",
      "('sq', (29, 0.19458, 44, 0.06486, 85, 0.27991, 95, 0.07188))\n",
      "('ir', (37, 0.0441, 69, 0.05366, 90, 0.04236, 91, 0.06998))\n",
      "('jo', (68, 0.04127, 69, 0.05366, 74, 0.05646, 92, 0.11923))\n",
      "('sk', (1, 0.18723, 7, 0.06375, 11, 0.08322, 31, 0.0624, 53, 0.03256))\n",
      "('sm', (5, 0.042, 9, 0.03961, 30, 0.21641, 31, 0.0586, 33, 0.09377))\n",
      "('du', (5, 0.04473, 20, 0.17621, 26, 0.11522, 33, 0.09985, 53, 0.03256))\n",
      "('tw', (53, 0.06116, 67, 0.0586, 82, 0.0375, 91, 0.06116, 96, 0.14067))\n",
      "('ci', (68, 0.03841, 72, 0.08097, 79, 0.04407, 99, 0.11522, 100, 0.07307))\n",
      "('ce', (2, 0.08303, 6, 0.03821, 7, 0.05124, 53, 0.1047, 86, 0.12673, 91, 0.05235))\n",
      "('hu', (4, 0.09355, 22, 0.03157, 40, 0.0421, 68, 0.03238, 82, 0.10103, 94, 0.08418))\n",
      "('iv', (5, 0.0397, 12, 0.11562, 16, 0.13296, 25, 0.0831, 38, 0.08579, 62, 0.04664))\n",
      "('ob', (7, 0.05659, 41, 0.03853, 56, 0.04507, 59, 0.04585, 80, 0.26593, 90, 0.06999))\n",
      "('vi', (9, 0.03744, 50, 0.07387, 65, 0.19697, 68, 0.03409, 90, 0.035, 96, 0.13296))\n",
      "('dr', (10, 0.20685, 14, 0.15145, 59, 0.03655, 77, 0.09861, 97, 0.05436, 100, 0.10343))\n",
      "('va', (11, 0.07387, 38, 0.04289, 56, 0.04507, 69, 0.04433, 73, 0.05909, 79, 0.07821))\n",
      "('cu', (11, 0.13379, 38, 0.07768, 63, 0.18522, 70, 0.21891, 81, 0.26755, 90, 0.03169))\n",
      "('em', (18, 0.10965, 37, 0.03155, 53, 0.10012, 59, 0.0397, 67, 0.04796, 73, 0.10233))\n",
      "('ol', (20, 0.16548, 27, 0.10421, 71, 0.10047, 74, 0.04935, 88, 0.06699, 90, 0.03702))\n",
      "('wr', (35, 0.0831, 40, 0.04433, 45, 0.06486, 68, 0.03409, 79, 0.07821, 93, 0.0985))\n",
      "('je', (37, 0.03854, 43, 0.12787, 48, 0.11723, 52, 0.13397, 58, 0.28134, 92, 0.10421))\n",
      "('el', (5, 0.02479, 21, 0.07908, 53, 0.21661, 68, 0.02129, 69, 0.05535, 73, 0.0369, 95, 0.04489))\n",
      "('fl', (7, 0.05375, 17, 0.03771, 55, 0.05375, 59, 0.04354, 80, 0.25257, 91, 0.05491, 98, 0.24055))\n",
      "('ni', (7, 0.05659, 8, 0.12663, 9, 0.03744, 25, 0.0831, 38, 0.04289, 53, 0.02891, 56, 0.04507))\n",
      "('ov', (9, 0.03242, 16, 0.11513, 36, 0.13956, 40, 0.03838, 68, 0.02952, 69, 0.07675, 77, 0.10709))\n",
      "('nu', (23, 0.24525, 31, 0.04598, 45, 0.26918, 50, 0.06132, 62, 0.03872, 68, 0.0283, 72, 0.05966))\n",
      "('ap', (3, 0.09831, 6, 0.0312, 27, 0.07282, 30, 0.07562, 41, 0.02849, 45, 0.33567, 53, 0.02137, 99, 0.07562))\n",
      "('af', (6, 0.04008, 9, 0.03556, 15, 0.06648, 22, 0.03157, 28, 0.07428, 45, 0.0616, 83, 0.06827, 90, 0.03324))\n",
      "('ga', (9, 0.0339, 22, 0.0301, 52, 0.22933, 59, 0.04151, 72, 0.06509, 76, 0.07768, 83, 0.06509, 84, 0.10034))\n",
      "('bl', (3, 0.18971, 7, 0.08072, 9, 0.05344, 22, 0.02371, 47, 0.09486, 53, 0.02062, 82, 0.07588, 93, 0.07027, 97, 0.04864))\n",
      "('pu', (5, 0.03046, 6, 0.03238, 15, 0.0537, 17, 0.09136, 31, 0.08502, 53, 0.04435, 73, 0.04533, 79, 0.03001, 82, 0.0272))\n",
      "('op', (5, 0.03438, 6, 0.03654, 10, 0.05616, 21, 0.10965, 33, 0.07675, 41, 0.06675, 59, 0.0397, 67, 0.04796, 81, 0.25584))\n",
      "('bi', (6, 0.03503, 15, 0.0581, 22, 0.02759, 55, 0.04697, 62, 0.03872, 74, 0.03872, 79, 0.06492, 93, 0.16349, 94, 0.07357))\n",
      "('10', (8, 0.07908, 17, 0.14872, 23, 0.18452, 31, 0.03459, 34, 0.12774, 45, 0.04051, 66, 0.0593, 70, 0.90585, 90, 0.02186))\n",
      "('id', (9, 0.11695, 33, 0.05535, 36, 0.05032, 40, 0.02768, 49, 0.15098, 65, 0.06151, 73, 0.18452, 99, 0.12774, 100, 0.04051))\n",
      "('fu', (17, 0.03295, 38, 0.0356, 40, 0.0368, 53, 0.04799, 71, 0.07882, 74, 0.03872, 77, 0.10266, 84, 0.09198, 90, 0.02905))\n",
      "('br', (2, 0.05067, 9, 0.06209, 17, 0.15355, 20, 0.08645, 31, 0.03061, 38, 0.02371, 40, 0.14697, 41, 0.0213, 43, 0.0668, 50, 0.04083))\n",
      "('ke', (5, 0.0256, 6, 0.02721, 9, 0.19322, 36, 0.05196, 46, 0.03363, 47, 0.04287, 77, 0.03989, 87, 0.06595, 92, 0.06352, 99, 0.1319))\n",
      "('sp', (6, 0.07664, 17, 0.04804, 25, 0.05029, 53, 0.10497, 56, 0.02728, 61, 0.03219, 68, 0.02063, 71, 0.11496, 90, 0.04236, 96, 0.08047))\n",
      "('ro', (6, 0.03365, 14, 0.07571, 17, 0.03166, 37, 0.02905, 46, 0.04158, 47, 0.05301, 59, 0.07311, 67, 0.08835, 70, 0.19275, 76, 0.0684))\n",
      "('ri', (7, 0.0754, 9, 0.02495, 10, 0.08644, 22, 0.02215, 26, 0.1363, 44, 0.12965, 59, 0.03055, 69, 0.0886, 75, 0.07088, 82, 0.02362))\n",
      "('cl', (10, 0.09952, 22, 0.0255, 37, 0.02795, 41, 0.05915, 53, 0.02218, 66, 0.07286, 73, 0.09067, 79, 0.03001, 83, 0.05515, 100, 0.04976))\n",
      "('pi', (21, 0.07664, 35, 0.15088, 37, 0.02205, 38, 0.02596, 39, 0.16094, 42, 0.0847, 67, 0.20118, 83, 0.08699, 97, 0.08253, 98, 0.07664))\n",
      "('mu', (9, 0.04396, 10, 0.07613, 12, 0.06786, 40, 0.02602, 41, 0.06786, 59, 0.13454, 65, 0.05781, 67, 0.03251, 82, 0.06243, 93, 0.05781, 94, 0.05202))\n",
      "('ya', (9, 0.18974, 19, 0.14967, 28, 0.07923, 33, 0.0449, 49, 0.12246, 57, 0.04645, 63, 0.10362, 73, 0.05986, 79, 0.01982, 98, 0.1283, 99, 0.05181))\n",
      "('gu', (25, 0.05727, 27, 0.06788, 40, 0.12218, 41, 0.05313, 59, 0.06319, 66, 0.06544, 68, 0.02349, 84, 0.07636, 88, 0.04363, 92, 0.06788, 100, 0.0447))\n",
      "('ag', (4, 0.0499, 5, 0.02011, 22, 0.01684, 28, 0.03962, 31, 0.02806, 36, 0.12246, 37, 0.03691, 41, 0.01952, 59, 0.04645, 68, 0.01727, 79, 0.1981, 82, 0.03593))\n",
      "('la', (5, 0.02261, 9, 0.06397, 29, 0.03693, 36, 0.04588, 37, 0.02074, 40, 0.02524, 41, 0.04389, 43, 0.06882, 64, 0.16823, 74, 0.02656, 79, 0.15586, 82, 0.04038))\n",
      "('mi', (1, 0.09463, 2, 0.05221, 9, 0.02132, 17, 0.0452, 22, 0.01893, 37, 0.06223, 44, 0.03693, 47, 0.07571, 51, 0.06583, 67, 0.03154, 68, 0.09706, 74, 0.05313, 95, 0.04093))\n",
      "('ra', (4, 0.06151, 9, 0.02338, 17, 0.02479, 22, 0.04152, 25, 0.0519, 41, 0.07221, 53, 0.01805, 56, 0.02815, 61, 0.03321, 68, 0.02129, 82, 0.04429, 90, 0.06555, 93, 0.06151))\n",
      "('ki', (4, 0.05781, 5, 0.0233, 17, 0.0233, 37, 0.06414, 41, 0.02261, 53, 0.03393, 54, 0.05035, 56, 0.02645, 69, 0.02602, 74, 0.1369, 75, 0.06243, 89, 0.05573, 90, 0.04108))\n",
      "('na', (5, 0.0256, 17, 0.0256, 21, 0.08166, 22, 0.02143, 27, 0.06352, 31, 0.03572, 48, 0.14289, 53, 0.05592, 69, 0.02859, 95, 0.04635, 96, 0.08574, 99, 0.19785, 100, 0.04182))\n",
      "('im', (6, 0.00335, 7, 0.00224, 9, 0.1113, 27, 0.0039, 32, 0.00702, 35, 0.00659, 40, 0.00176, 47, 0.00263, 66, 0.00376, 68, 0.00135, 69, 0.00351, 79, 0.00155, 89, 0.00376))\n",
      "('ve', (9, 0.04992, 31, 0.03691, 35, 0.05537, 41, 0.05137, 46, 0.03475, 53, 0.03852, 67, 0.03691, 68, 0.02272, 72, 0.09577, 79, 0.02607, 89, 0.06328, 91, 0.03852, 100, 0.04322))\n",
      "('ot', (4, 0.06352, 5, 0.0256, 22, 0.02143, 37, 0.02349, 40, 0.02859, 53, 0.0932, 62, 0.03008, 67, 0.03572, 68, 0.02198, 74, 0.03008, 79, 0.02522, 90, 0.02257, 97, 0.04397, 98, 0.08166))\n",
      "('sc', (4, 0.06788, 6, 0.02908, 14, 0.06544, 15, 0.04823, 30, 0.14096, 38, 0.02956, 46, 0.07187, 47, 0.04581, 67, 0.03817, 71, 0.06544, 74, 0.03214, 79, 0.02696, 87, 0.07048, 95, 0.04953))\n",
      "('cr', (5, 0.04387, 22, 0.01837, 29, 0.03585, 31, 0.03061, 38, 0.04741, 39, 0.07348, 44, 0.03585, 45, 0.25092, 46, 0.02882, 69, 0.0245, 72, 0.07944, 77, 0.03418, 79, 0.02162, 95, 0.03973))\n",
      "('gr', (5, 0.02479, 6, 0.05273, 9, 0.02338, 15, 0.04371, 17, 0.04957, 28, 0.04884, 36, 0.05032, 41, 0.02406, 64, 0.18452, 68, 0.08516, 78, 0.06151, 95, 0.04489, 96, 0.08304, 97, 0.04258))\n",
      "('bo', (6, 0.01965, 7, 0.02634, 15, 0.03258, 16, 0.06189, 25, 0.15473, 44, 0.09058, 45, 0.15096, 46, 0.07281, 50, 0.03439, 53, 0.05382, 65, 0.04585, 79, 0.03641, 99, 0.04761, 100, 0.03019))\n",
      "('gi', (9, 0.16597, 25, 0.04092, 27, 0.0485, 37, 0.01794, 42, 0.06891, 48, 0.05456, 59, 0.02257, 62, 0.02297, 66, 0.04676, 73, 0.05819, 76, 0.04224, 82, 0.01745, 88, 0.06235, 94, 0.17457))\n",
      "('ea', (4, 0.0499, 10, 0.03286, 22, 0.01684, 38, 0.06518, 40, 0.02246, 45, 0.16428, 46, 0.02642, 53, 0.08786, 55, 0.02867, 67, 0.02806, 74, 0.02363, 82, 0.01796, 90, 0.01773, 93, 0.0499, 97, 0.03454))\n",
      "('ac', (7, 0.03771, 13, 0.08438, 17, 0.02646, 19, 0.09845, 26, 0.06815, 46, 0.03475, 53, 0.03852, 59, 0.0611, 62, 0.03108, 73, 0.03937, 74, 0.03108, 79, 0.02607, 83, 0.0479, 90, 0.02332, 100, 0.04322))\n",
      "('up', (7, 0.02867, 9, 0.17076, 17, 0.02011, 20, 0.07923, 22, 0.01684, 29, 0.03286, 33, 0.0449, 36, 0.04082, 40, 0.08981, 44, 0.03286, 56, 0.02283, 57, 0.04645, 61, 0.02694, 82, 0.01796, 83, 0.03641))\n",
      "('ti', (5, 0.0233, 8, 0.07432, 15, 0.04108, 17, 0.0233, 37, 0.04276, 44, 0.03806, 47, 0.03902, 54, 0.05035, 55, 0.06641, 56, 0.05291, 61, 0.06243, 62, 0.02737, 68, 0.02001, 75, 0.06243, 78, 0.05781, 82, 0.04162))\n",
      "('po', (9, 0.01952, 12, 0.06028, 22, 0.01733, 24, 0.13863, 36, 0.042, 44, 0.03381, 51, 0.06028, 59, 0.0239, 66, 0.09902, 68, 0.01777, 69, 0.16174, 72, 0.03747, 84, 0.05777, 85, 0.07296, 89, 0.0495, 91, 0.09041))\n",
      "('ju', (5, 0.057, 11, 0.03536, 12, 0.05535, 20, 0.07488, 27, 0.09429, 33, 0.1273, 37, 0.01744, 38, 0.04107, 41, 0.05535, 49, 0.05786, 53, 0.01384, 60, 0.06365, 67, 0.02652, 82, 0.05092, 83, 0.03441, 88, 0.03031, 100, 0.0621))\n",
      "('by', (5, 0.0256, 7, 0.03649, 9, 0.02414, 17, 0.0256, 22, 0.02143, 29, 0.04182, 31, 0.03572, 44, 0.04182, 48, 0.07146, 53, 0.03728, 54, 0.05532, 67, 0.03572, 68, 0.02198, 69, 0.02859, 76, 0.05532, 79, 0.02522, 91, 0.03728))\n",
      "('fe', (5, 0.0426, 31, 0.02973, 35, 0.08919, 38, 0.02302, 41, 0.04137, 48, 0.05947, 53, 0.03103, 56, 0.04838, 61, 0.02854, 62, 0.02503, 68, 0.05489, 69, 0.02379, 77, 0.03319, 82, 0.01902, 83, 0.03857, 88, 0.03398, 99, 0.05489))\n",
      "('kn', (5, 0.02403, 7, 0.03425, 9, 0.02266, 16, 0.08047, 22, 0.02012, 29, 0.03925, 35, 0.05029, 40, 0.02683, 41, 0.02332, 50, 0.04471, 53, 0.01749, 61, 0.09657, 67, 0.03352, 72, 0.0435, 82, 0.04292, 86, 0.0847, 95, 0.0435))\n",
      "('ta', (7, 0.02296, 25, 0.03371, 28, 0.03173, 38, 0.0348, 39, 0.37758, 41, 0.09381, 44, 0.07894, 61, 0.02158, 68, 0.02766, 69, 0.03596, 72, 0.02916, 75, 0.04315, 77, 0.02509, 82, 0.01438, 84, 0.04495, 90, 0.0142, 97, 0.05532))\n",
      "('da', (9, 0.01952, 25, 0.12997, 26, 0.05332, 29, 0.06762, 36, 0.042, 40, 0.04621, 44, 0.03381, 46, 0.02719, 54, 0.04472, 56, 0.09399, 66, 0.0495, 74, 0.02432, 79, 0.02039, 82, 0.01848, 88, 0.06602, 94, 0.04621, 96, 0.06931))\n",
      "('qu', (2, 0.04268, 5, 0.01848, 15, 0.06515, 20, 0.07281, 22, 0.03095, 29, 0.21134, 45, 0.03019, 46, 0.02427, 52, 0.05895, 53, 0.01346, 60, 0.12379, 62, 0.02171, 63, 0.04761, 69, 0.02064, 78, 0.09169, 79, 0.03641, 91, 0.02691, 95, 0.03346))\n",
      "('ev', (5, 0.03908, 6, 0.02078, 9, 0.01844, 21, 0.06235, 22, 0.01637, 38, 0.06336, 41, 0.03796, 52, 0.06235, 53, 0.01423, 60, 0.13093, 61, 0.05237, 69, 0.02183, 72, 0.03539, 75, 0.10475, 79, 0.01926, 82, 0.01745, 90, 0.03446, 92, 0.09698))\n",
      "('pl', (3, 0.07136, 6, 0.02265, 10, 0.06961, 12, 0.06205, 22, 0.05352, 36, 0.04324, 37, 0.01955, 38, 0.02302, 48, 0.05947, 50, 0.03965, 51, 0.06205, 59, 0.04921, 61, 0.02854, 68, 0.0183, 69, 0.04757, 76, 0.04604, 82, 0.01902, 85, 0.07511, 93, 0.05286))\n",
      "('ye', (3, 0.06931, 9, 0.01952, 10, 0.03381, 17, 0.04138, 18, 0.06602, 22, 0.03466, 31, 0.02888, 35, 0.04332, 37, 0.01899, 38, 0.04472, 42, 0.07296, 52, 0.06602, 53, 0.01507, 56, 0.07049, 58, 0.13863, 75, 0.05545, 88, 0.03301, 90, 0.03649, 91, 0.03014))\n",
      "('am', (4, 0.05286, 5, 0.02131, 6, 0.02265, 15, 0.03756, 22, 0.03568, 29, 0.03481, 30, 0.05489, 38, 0.02302, 41, 0.04137, 53, 0.03103, 59, 0.0246, 69, 0.02379, 78, 0.05286, 79, 0.02099, 86, 0.07511, 88, 0.06796, 90, 0.01878, 97, 0.07318, 99, 0.05489))\n",
      "('tr', (5, 0.02811, 6, 0.1644, 11, 0.05232, 20, 0.05539, 33, 0.03138, 40, 0.04708, 45, 0.0689, 62, 0.01652, 63, 0.03621, 69, 0.03138, 72, 0.02545, 74, 0.03304, 75, 0.07533, 78, 0.03488, 82, 0.02511, 88, 0.02242, 90, 0.01239, 97, 0.02414, 100, 0.02297))\n",
      "('en', (11, 0.04471, 17, 0.04804, 22, 0.02012, 32, 0.1073, 37, 0.02205, 38, 0.02596, 39, 0.08047, 53, 0.01749, 61, 0.03219, 65, 0.05961, 71, 0.05747, 74, 0.02823, 76, 0.05192, 82, 0.02145, 83, 0.0435, 89, 0.05747, 90, 0.02118, 95, 0.0435, 97, 0.04127))\n",
      "('ad', (14, 0.0481, 17, 0.02011, 18, 0.1283, 22, 0.01684, 33, 0.0449, 41, 0.01952, 49, 0.06122, 50, 0.03742, 55, 0.02867, 59, 0.04645, 62, 0.02363, 63, 0.05181, 67, 0.08419, 68, 0.03454, 69, 0.02246, 71, 0.0481, 76, 0.04346, 89, 0.14433, 100, 0.03286))\n",
      "('un', (1, 0.07121, 6, 0.01808, 10, 0.02779, 29, 0.08337, 37, 0.01561, 39, 0.17092, 41, 0.01651, 45, 0.02779, 46, 0.06702, 47, 0.02849, 53, 0.02477, 57, 0.03929, 59, 0.01964, 62, 0.03998, 74, 0.03998, 77, 0.0265, 79, 0.05027, 80, 0.11394, 82, 0.01519, 95, 0.06159))\n",
      "('fa', (5, 0.01798, 9, 0.03392, 14, 0.04299, 15, 0.06337, 26, 0.09261, 31, 0.02508, 33, 0.04013, 34, 0.09261, 37, 0.01649, 45, 0.02936, 53, 0.06544, 55, 0.02562, 56, 0.02041, 62, 0.02112, 67, 0.05017, 68, 0.01543, 77, 0.028, 79, 0.01771, 90, 0.01584, 100, 0.08809))\n",
      "('hi', (6, 0.05993, 12, 0.03283, 14, 0.02696, 16, 0.03775, 22, 0.00944, 25, 0.02359, 27, 0.02797, 37, 0.04137, 40, 0.01259, 41, 0.08754, 45, 0.03683, 46, 0.10363, 55, 0.01607, 56, 0.0256, 60, 0.0755, 65, 0.02797, 68, 0.03872, 72, 0.04081, 90, 0.00994, 92, 0.02797))\n",
      "('ch', (6, 0.02138, 9, 0.07587, 13, 0.06413, 18, 0.03206, 22, 0.06733, 29, 0.01642, 38, 0.01086, 53, 0.05123, 55, 0.01433, 59, 0.01161, 61, 0.02693, 63, 0.0259, 65, 0.02494, 67, 0.01403, 68, 0.00863, 72, 0.0182, 82, 0.05387, 89, 0.02405, 90, 0.02658, 92, 0.02494, 97, 0.01726))\n",
      "('us', (2, 0.03823, 3, 0.11087, 8, 0.10559, 18, 0.05279, 21, 0.05279, 22, 0.01386, 29, 0.02704, 31, 0.02309, 33, 0.07391, 43, 0.05039, 49, 0.10079, 52, 0.10559, 53, 0.0241, 68, 0.01421, 69, 0.01848, 71, 0.03959, 79, 0.01631, 86, 0.05835, 87, 0.04264, 90, 0.07294, 91, 0.0482, 93, 0.04106))\n",
      "('te', (3, 0.04708, 5, 0.01406, 11, 0.02616, 46, 0.03693, 51, 0.04094, 53, 0.02047, 56, 0.03192, 59, 0.01623, 61, 0.03766, 64, 0.10462, 69, 0.0157, 72, 0.05089, 73, 0.04185, 74, 0.04956, 79, 0.04154, 82, 0.03766, 86, 0.04956, 90, 0.07434, 91, 0.02047, 93, 0.03488, 95, 0.02545, 97, 0.02414))\n",
      "('ex', (6, 0.01808, 7, 0.07273, 19, 0.06331, 22, 0.04273, 25, 0.03561, 29, 0.02779, 37, 0.01561, 39, 0.11394, 40, 0.01899, 41, 0.01651, 44, 0.02779, 45, 0.02779, 54, 0.03676, 56, 0.01931, 59, 0.03929, 62, 0.01999, 68, 0.02922, 73, 0.05064, 77, 0.0265, 79, 0.05027, 82, 0.01519, 86, 0.05997))\n",
      "('ba', (4, 0.03996, 5, 0.01611, 6, 0.01712, 7, 0.09182, 14, 0.03852, 25, 0.13485, 31, 0.02247, 36, 0.06539, 37, 0.01478, 42, 0.05678, 47, 0.02697, 52, 0.05137, 53, 0.03518, 56, 0.01829, 59, 0.0186, 64, 0.11987, 68, 0.01383, 81, 0.11987, 82, 0.01438, 83, 0.02916, 85, 0.17033, 92, 0.03996, 95, 0.02916))\n",
      "('su', (9, 0.15957, 12, 0.01368, 17, 0.01409, 29, 0.00768, 37, 0.00862, 38, 0.02031, 44, 0.00768, 47, 0.00787, 48, 0.01311, 50, 0.00874, 53, 0.00684, 55, 0.0067, 56, 0.02134, 59, 0.02171, 68, 0.00403, 69, 0.00525, 74, 0.00552, 79, 0.00926, 81, 0.03497, 82, 0.0042, 91, 0.00684, 97, 0.01614, 99, 0.0121))\n",
      "('at', (2, 0.02322, 5, 0.01005, 6, 0.03206, 11, 0.03741, 14, 0.02405, 17, 0.05025, 26, 0.0259, 28, 0.03961, 37, 0.01845, 41, 0.00976, 47, 0.01683, 53, 0.1171, 55, 0.01433, 56, 0.02283, 61, 0.01347, 62, 0.01181, 68, 0.00863, 74, 0.02363, 76, 0.02172, 77, 0.01566, 78, 0.02494, 87, 0.0259, 90, 0.01772, 94, 0.02244))\n",
      "('ou', (5, 0.01567, 7, 0.08935, 9, 0.01478, 15, 0.02763, 19, 0.05833, 34, 0.08075, 37, 0.02877, 41, 0.01521, 44, 0.05121, 46, 0.04117, 51, 0.04565, 53, 0.04565, 56, 0.01779, 61, 0.021, 62, 0.01841, 65, 0.03889, 66, 0.03749, 68, 0.01346, 73, 0.04665, 82, 0.01399, 87, 0.04038, 90, 0.01382, 94, 0.06999, 96, 0.05249))\n",
      "('si', (6, 0.02138, 12, 0.05855, 17, 0.03015, 25, 0.02104, 30, 0.0259, 33, 0.02244, 35, 0.06313, 40, 0.05611, 44, 0.01642, 52, 0.03206, 53, 0.02928, 55, 0.01433, 61, 0.01347, 69, 0.01122, 77, 0.01566, 79, 0.05942, 82, 0.01796, 83, 0.0182, 85, 0.03544, 87, 0.07769, 90, 0.01772, 91, 0.07319, 97, 0.01726, 98, 0.06413))\n",
      "('de', (5, 0.0126, 7, 0.08978, 8, 0.04019, 9, 0.01188, 11, 0.04689, 19, 0.04689, 37, 0.01156, 38, 0.01361, 41, 0.01223, 46, 0.01655, 50, 0.02345, 53, 0.02752, 59, 0.01455, 67, 0.01758, 68, 0.01082, 74, 0.0148, 77, 0.09814, 79, 0.02482, 87, 0.03246, 90, 0.02221, 95, 0.02281, 96, 0.0422, 97, 0.08656, 99, 0.03246, 100, 0.06175))\n",
      "('ab', (5, 0.01406, 12, 0.04094, 17, 0.01406, 21, 0.04484, 22, 0.02354, 31, 0.07846, 34, 0.07243, 35, 0.02943, 37, 0.0129, 40, 0.0157, 41, 0.09553, 47, 0.02354, 51, 0.04094, 53, 0.01024, 54, 0.06075, 62, 0.01652, 68, 0.02414, 71, 0.03362, 75, 0.03766, 77, 0.0219, 82, 0.01255, 84, 0.03924, 88, 0.02242, 90, 0.02478, 93, 0.06974))\n",
      "('pa', (3, 0.03993, 5, 0.02384, 11, 0.02218, 13, 0.03802, 15, 0.02102, 17, 0.02384, 20, 0.04697, 22, 0.00998, 26, 0.15356, 28, 0.02348, 31, 0.13309, 32, 0.05324, 38, 0.01288, 40, 0.01331, 41, 0.01157, 45, 0.01948, 53, 0.00868, 55, 0.01699, 57, 0.08261, 73, 0.05324, 79, 0.02348, 82, 0.01064, 89, 0.02851, 90, 0.01051, 91, 0.03472, 95, 0.02158))\n",
      "('di', (2, 0.02603, 6, 0.03595, 7, 0.01607, 9, 0.02127, 10, 0.01842, 11, 0.08389, 17, 0.01127, 22, 0.02831, 26, 0.02904, 28, 0.02221, 35, 0.02359, 36, 0.02288, 37, 0.01034, 38, 0.02436, 41, 0.03283, 46, 0.01481, 50, 0.02097, 59, 0.06509, 62, 0.02649, 69, 0.01259, 76, 0.04871, 82, 0.01006, 83, 0.02041, 87, 0.02904, 91, 0.06566, 92, 0.02797, 97, 0.01936))\n",
      "('we', (6, 0.02397, 9, 0.01063, 11, 0.02097, 17, 0.04507, 22, 0.02831, 26, 0.02904, 31, 0.01573, 36, 0.02288, 41, 0.02189, 42, 0.03974, 46, 0.04441, 50, 0.04195, 51, 0.03283, 53, 0.02462, 56, 0.0256, 62, 0.01324, 68, 0.02904, 69, 0.02516, 71, 0.02696, 76, 0.02436, 79, 0.01111, 81, 0.08389, 82, 0.0302, 84, 0.03146, 90, 0.0298, 97, 0.01936, 100, 0.01842))\n",
      "('pe', (1, 0.04458, 6, 0.05662, 8, 0.03397, 9, 0.01004, 17, 0.02129, 22, 0.02675, 31, 0.01486, 37, 0.02932, 43, 0.03242, 45, 0.0174, 51, 0.03102, 53, 0.00775, 54, 0.02301, 55, 0.01518, 56, 0.02418, 62, 0.01251, 63, 0.02744, 66, 0.02547, 67, 0.01486, 68, 0.00915, 69, 0.01189, 72, 0.01928, 82, 0.06658, 83, 0.01928, 86, 0.03754, 89, 0.02547, 91, 0.09304, 99, 0.02744))\n",
      "('le', (2, 0.03336, 13, 0.04608, 17, 0.01445, 18, 0.04608, 22, 0.01209, 28, 0.02846, 37, 0.02651, 44, 0.0708, 45, 0.0472, 46, 0.01897, 47, 0.02419, 48, 0.04032, 53, 0.02104, 55, 0.02059, 56, 0.0492, 59, 0.01668, 61, 0.01935, 67, 0.02015, 69, 0.03225, 72, 0.02615, 79, 0.04269, 84, 0.04032, 86, 0.05092, 88, 0.02304, 90, 0.01273, 91, 0.02104, 97, 0.02481, 99, 0.03721))\n",
      "('sh', (8, 0.01979, 15, 0.02187, 17, 0.0062, 22, 0.01039, 27, 0.03078, 33, 0.01385, 37, 0.01139, 40, 0.0554, 41, 0.03011, 43, 0.01889, 46, 0.00815, 47, 0.02078, 53, 0.04065, 56, 0.00704, 57, 0.01433, 60, 0.02078, 61, 0.04986, 62, 0.01458, 65, 0.01539, 67, 0.00866, 68, 0.01065, 83, 0.01123, 85, 0.04374, 87, 0.03196, 88, 0.01979, 90, 0.0164, 93, 0.03078, 94, 0.0277))\n",
      "('or', (2, 0.02677, 7, 0.03304, 8, 0.03698, 9, 0.01093, 10, 0.01894, 11, 0.06471, 15, 0.02044, 17, 0.02318, 22, 0.01941, 23, 0.17256, 25, 0.02427, 36, 0.02353, 37, 0.01064, 38, 0.02505, 40, 0.01294, 41, 0.02251, 45, 0.01894, 49, 0.03529, 66, 0.02773, 68, 0.00996, 73, 0.05177, 74, 0.01362, 79, 0.03426, 82, 0.01035, 88, 0.01849, 90, 0.02044, 91, 0.05065, 96, 0.03883, 98, 0.03698, 100, 0.03788))\n",
      "('mo', (3, 0.0231, 6, 0.00733, 9, 0.00651, 10, 0.01127, 11, 0.02567, 15, 0.02432, 16, 0.0231, 27, 0.03422, 41, 0.04018, 45, 0.01127, 46, 0.02718, 49, 0.021, 50, 0.07701, 53, 0.02511, 55, 0.01966, 56, 0.00783, 61, 0.00924, 62, 0.0081, 63, 0.03554, 67, 0.02888, 68, 0.01777, 69, 0.0077, 71, 0.0165, 72, 0.02497, 74, 0.01621, 84, 0.0385, 88, 0.022, 90, 0.0304, 94, 0.0154, 98, 0.022))\n",
      "('as', (4, 0.02148, 6, 0.02761, 12, 0.02521, 17, 0.00866, 22, 0.02899, 29, 0.02828, 35, 0.01812, 37, 0.02383, 38, 0.0187, 41, 0.0084, 45, 0.01414, 46, 0.04548, 53, 0.01261, 57, 0.01999, 60, 0.02899, 61, 0.02319, 67, 0.01208, 68, 0.0446, 69, 0.00967, 74, 0.01017, 75, 0.02319, 77, 0.02697, 78, 0.02148, 79, 0.0341, 82, 0.00773, 83, 0.01567, 87, 0.0223, 91, 0.03782, 95, 0.01567, 97, 0.02973))\n",
      "('my', (2, 0.0239, 5, 0.01035, 6, 0.011, 9, 0.04881, 13, 0.03301, 16, 0.03466, 18, 0.03301, 19, 0.07702, 21, 0.09902, 22, 0.01733, 25, 0.04332, 32, 0.04621, 36, 0.04201, 37, 0.01899, 38, 0.01118, 40, 0.01155, 41, 0.01004, 42, 0.07296, 51, 0.03014, 56, 0.03525, 57, 0.0239, 59, 0.01195, 62, 0.01216, 64, 0.23105, 66, 0.02475, 77, 0.04836, 88, 0.03301, 91, 0.01507, 94, 0.0231, 98, 0.03301, 100, 0.01691))\n",
      "('ne', (3, 0.04338, 5, 0.02589, 14, 0.06197, 20, 0.05103, 24, 0.08675, 27, 0.03213, 33, 0.02891, 35, 0.02711, 36, 0.05258, 37, 0.02377, 39, 0.04338, 40, 0.01446, 41, 0.02515, 43, 0.03943, 48, 0.03615, 50, 0.0241, 53, 0.01886, 57, 0.02991, 59, 0.04487, 61, 0.01735, 69, 0.02891, 74, 0.01522, 76, 0.02799, 82, 0.01156, 83, 0.02345, 84, 0.03615, 87, 0.03336, 90, 0.03424, 92, 0.03213, 94, 0.02891, 100, 0.02116))\n",
      "('lo', (1, 0.06047, 4, 0.07167, 5, 0.01445, 9, 0.01362, 12, 0.04207, 16, 0.04838, 17, 0.01445, 26, 0.03721, 28, 0.05691, 29, 0.0236, 30, 0.03721, 37, 0.01326, 38, 0.03121, 40, 0.01613, 42, 0.05092, 46, 0.01897, 48, 0.04032, 49, 0.04398, 53, 0.01052, 54, 0.03121, 55, 0.02059, 56, 0.0328, 58, 0.09676, 62, 0.03395, 68, 0.0124, 74, 0.01697, 76, 0.03121, 79, 0.01423, 82, 0.02581, 88, 0.02304, 91, 0.02104, 97, 0.02481))\n",
      "('fr', (1, 0.03968, 4, 0.02352, 5, 0.00948, 10, 0.03097, 15, 0.01671, 22, 0.01587, 25, 0.01984, 26, 0.04883, 28, 0.01867, 31, 0.02646, 37, 0.0087, 38, 0.01024, 41, 0.0276, 44, 0.04645, 45, 0.03097, 46, 0.03734, 50, 0.01764, 51, 0.0276, 53, 0.0138, 55, 0.01351, 56, 0.01076, 59, 0.01095, 63, 0.02442, 66, 0.02267, 67, 0.01322, 68, 0.02442, 69, 0.01058, 79, 0.00934, 84, 0.0529, 90, 0.00835, 91, 0.0138, 93, 0.02352, 98, 0.0907, 100, 0.04645))\n",
      "('sa', (2, 0.01999, 6, 0.02761, 9, 0.01633, 15, 0.01526, 16, 0.05798, 17, 0.01731, 18, 0.08283, 22, 0.05073, 27, 0.06442, 28, 0.01705, 30, 0.0446, 37, 0.00794, 44, 0.01414, 45, 0.01414, 46, 0.01137, 47, 0.0145, 53, 0.0063, 55, 0.01234, 56, 0.00983, 59, 0.01, 61, 0.02319, 62, 0.02035, 66, 0.02071, 69, 0.00967, 72, 0.01567, 73, 0.03866, 78, 0.02148, 82, 0.00773, 86, 0.03052, 88, 0.01381, 93, 0.06442, 94, 0.01933, 99, 0.0223, 100, 0.01414))\n",
      "('pr', (6, 0.03458, 7, 0.01159, 9, 0.01534, 10, 0.01329, 17, 0.03252, 22, 0.03405, 24, 0.05447, 28, 0.01602, 29, 0.01329, 30, 0.06285, 31, 0.0227, 36, 0.01651, 37, 0.00746, 40, 0.00908, 42, 0.02867, 46, 0.01068, 50, 0.01513, 51, 0.02368, 53, 0.01184, 55, 0.01159, 57, 0.03757, 62, 0.01911, 67, 0.01135, 68, 0.02793, 69, 0.00908, 70, 0.04952, 74, 0.00955, 77, 0.02534, 79, 0.02403, 82, 0.00726, 90, 0.01434, 91, 0.01184, 94, 0.01816, 97, 0.01397))\n",
      "('al', (6, 0.00864, 8, 0.02594, 9, 0.00767, 14, 0.01945, 17, 0.01626, 22, 0.04766, 29, 0.01329, 37, 0.01493, 38, 0.00879, 41, 0.00789, 42, 0.02867, 45, 0.02657, 46, 0.01068, 47, 0.02724, 53, 0.02368, 54, 0.01757, 55, 0.01159, 56, 0.00923, 59, 0.01878, 60, 0.02724, 61, 0.02179, 67, 0.01135, 68, 0.00698, 69, 0.03632, 72, 0.01472, 73, 0.0121, 74, 0.00955, 77, 0.01267, 78, 0.02018, 82, 0.00726, 88, 0.01297, 89, 0.01945, 90, 0.02867, 99, 0.0419, 100, 0.02657))\n",
      "('ge', (5, 0.01226, 6, 0.01303, 7, 0.03493, 10, 0.02002, 11, 0.02281, 15, 0.04321, 21, 0.0391, 22, 0.01026, 28, 0.02415, 35, 0.02566, 38, 0.01324, 41, 0.0119, 45, 0.02002, 46, 0.0322, 53, 0.00892, 54, 0.02648, 56, 0.04175, 59, 0.01415, 60, 0.04105, 61, 0.01642, 62, 0.0144, 66, 0.02932, 68, 0.01052, 69, 0.01369, 72, 0.02219, 73, 0.01824, 74, 0.02881, 76, 0.02648, 77, 0.0191, 79, 0.01208, 89, 0.05864, 90, 0.02161, 94, 0.02736, 95, 0.02219, 99, 0.03157, 100, 0.02002))\n",
      "('se', (9, 0.02229, 12, 0.02294, 13, 0.02513, 17, 0.00788, 19, 0.05863, 21, 0.02513, 22, 0.01319, 25, 0.01649, 28, 0.03104, 29, 0.01287, 31, 0.02199, 34, 0.04059, 37, 0.01446, 40, 0.0088, 47, 0.01319, 49, 0.02398, 53, 0.01147, 54, 0.03404, 56, 0.00894, 61, 0.06332, 62, 0.04628, 63, 0.02029, 64, 0.05863, 67, 0.01099, 69, 0.0088, 73, 0.01172, 76, 0.03404, 77, 0.02454, 84, 0.02199, 85, 0.02777, 88, 0.03769, 89, 0.01884, 90, 0.01389, 91, 0.01147, 93, 0.01954, 97, 0.01353))\n",
      "('bu', (1, 0.02789, 5, 0.01998, 6, 0.01417, 9, 0.05657, 10, 0.01088, 12, 0.03881, 13, 0.02125, 15, 0.02349, 17, 0.01332, 22, 0.01116, 26, 0.01716, 29, 0.02177, 30, 0.05149, 31, 0.0093, 33, 0.01487, 37, 0.00611, 38, 0.0072, 47, 0.01116, 52, 0.02125, 53, 0.0097, 54, 0.0144, 55, 0.0095, 59, 0.03078, 61, 0.00893, 62, 0.01566, 65, 0.01653, 69, 0.01487, 72, 0.01206, 73, 0.01983, 74, 0.01566, 76, 0.0144, 79, 0.01313, 81, 0.04959, 82, 0.00595, 85, 0.02349, 86, 0.02349, 97, 0.01144))\n",
      "('st', (2, 0.0056, 3, 0.00813, 4, 0.00602, 5, 0.0097, 6, 0.0129, 7, 0.00692, 8, 0.00774, 9, 0.03891, 15, 0.00428, 17, 0.00243, 22, 0.00406, 27, 0.00602, 28, 0.00956, 31, 0.01016, 33, 0.00542, 41, 0.00235, 42, 0.00855, 45, 0.01586, 46, 0.01593, 48, 0.00677, 53, 0.00177, 55, 0.00346, 56, 0.00275, 60, 0.00813, 62, 0.00285, 65, 0.00602, 68, 0.00625, 69, 0.00813, 72, 0.00878, 73, 0.00361, 77, 0.00378, 78, 0.00602, 79, 0.00239, 82, 0.00867, 83, 0.00439, 90, 0.00855, 95, 0.00878, 100, 0.00396))\n",
      "('fi', (3, 0.02811, 4, 0.02082, 6, 0.00892, 7, 0.01196, 8, 0.02677, 10, 0.04113, 17, 0.00839, 22, 0.00703, 24, 0.05621, 25, 0.03513, 26, 0.02162, 29, 0.01371, 30, 0.08648, 34, 0.04324, 35, 0.01757, 36, 0.01703, 37, 0.0231, 39, 0.02811, 40, 0.00937, 44, 0.04113, 47, 0.02811, 50, 0.04684, 51, 0.02444, 53, 0.01833, 55, 0.01196, 57, 0.01938, 62, 0.01972, 67, 0.01171, 73, 0.01249, 76, 0.07253, 79, 0.00827, 82, 0.00749, 83, 0.01519, 84, 0.02342, 85, 0.02958, 87, 0.02162, 93, 0.02082, 96, 0.02811))\n",
      "('ar', (5, 0.00124, 6, 0.00132, 7, 0.00177, 9, 0.00352, 14, 0.00298, 15, 0.00219, 17, 0.00249, 22, 0.01355, 27, 0.00309, 28, 0.00245, 31, 0.00347, 33, 0.00278, 37, 0.00228, 38, 0.00403, 39, 0.02085, 40, 0.00139, 41, 0.00242, 45, 0.00407, 46, 0.00164, 48, 0.01042, 50, 0.00232, 53, 0.01178, 54, 0.00269, 56, 0.00141, 57, 0.00287, 59, 0.00287, 61, 0.00334, 62, 0.00439, 67, 0.00347, 68, 0.00321, 71, 0.00298, 72, 0.00451, 74, 0.00146, 79, 0.00613, 82, 0.00445, 84, 0.00347, 92, 0.00309, 97, 0.00214))\n",
      "('wo', (1, 0.00589, 4, 0.01397, 5, 0.00141, 6, 0.0015, 7, 0.00201, 8, 0.00449, 9, 0.02125, 11, 0.00262, 13, 0.00449, 18, 0.00449, 22, 0.00943, 25, 0.00295, 28, 0.00555, 31, 0.00393, 32, 0.01257, 36, 0.00286, 37, 0.01034, 40, 0.01257, 41, 0.0041, 46, 0.00185, 50, 0.00262, 53, 0.00308, 55, 0.00401, 57, 0.00325, 61, 0.00189, 62, 0.00165, 63, 0.00725, 68, 0.00121, 69, 0.00314, 71, 0.0101, 74, 0.00165, 75, 0.00377, 79, 0.00277, 82, 0.00126, 86, 0.00496, 88, 0.00225, 90, 0.00124, 95, 0.00255, 100, 0.0023))\n",
      "('re', (1, 0.01882, 5, 0.00899, 6, 0.00478, 10, 0.00734, 15, 0.00793, 17, 0.00899, 22, 0.00753, 25, 0.00941, 29, 0.02203, 31, 0.00627, 32, 0.02007, 37, 0.00825, 38, 0.00971, 41, 0.00436, 43, 0.01369, 45, 0.02938, 46, 0.01181, 48, 0.01255, 50, 0.00836, 53, 0.01964, 59, 0.02077, 61, 0.01204, 65, 0.01115, 71, 0.02151, 74, 0.00528, 75, 0.02409, 76, 0.00971, 79, 0.01771, 80, 0.03011, 82, 0.00803, 83, 0.00814, 88, 0.02868, 89, 0.01075, 90, 0.00793, 91, 0.02618, 92, 0.01115, 94, 0.01004, 95, 0.02441, 98, 0.01434))\n",
      "('me', (2, 0.01593, 6, 0.01467, 9, 0.01302, 10, 0.02254, 13, 0.022, 15, 0.02432, 16, 0.0231, 22, 0.01155, 27, 0.01711, 33, 0.0154, 38, 0.01491, 41, 0.00669, 42, 0.02432, 46, 0.00906, 48, 0.01925, 49, 0.08401, 53, 0.00502, 54, 0.01491, 56, 0.00783, 59, 0.0239, 60, 0.0231, 61, 0.01848, 62, 0.02432, 63, 0.01777, 67, 0.00962, 74, 0.01621, 77, 0.02149, 80, 0.0462, 82, 0.01232, 87, 0.03554, 88, 0.011, 89, 0.033, 90, 0.00608, 91, 0.02009, 92, 0.01711, 94, 0.0154, 95, 0.03746, 97, 0.03554, 99, 0.01777))\n",
      "('if', (4, 0.01539, 6, 0.00659, 7, 0.00884, 8, 0.01979, 9, 0.00585, 13, 0.01979, 14, 0.01484, 15, 0.01094, 17, 0.0124, 18, 0.01979, 22, 0.02597, 29, 0.01013, 32, 0.0277, 33, 0.01385, 35, 0.01298, 37, 0.01139, 40, 0.04155, 41, 0.00602, 50, 0.01154, 53, 0.00903, 55, 0.00884, 57, 0.01433, 61, 0.00831, 62, 0.01458, 67, 0.00866, 68, 0.00533, 69, 0.01385, 71, 0.01484, 72, 0.02246, 73, 0.0277, 74, 0.03645, 75, 0.01662, 79, 0.00611, 82, 0.00554, 84, 0.01731, 88, 0.02968, 89, 0.01484, 90, 0.01094, 91, 0.01807, 94, 0.0277))\n",
      "('wa', (5, 0.0052, 7, 0.00371, 15, 0.00918, 20, 0.01026, 22, 0.00218, 24, 0.01744, 25, 0.00545, 28, 0.00513, 31, 0.01816, 32, 0.01162, 36, 0.00528, 37, 0.00478, 38, 0.00281, 40, 0.00581, 41, 0.01769, 44, 0.0085, 46, 0.01026, 47, 0.00436, 51, 0.00758, 52, 0.0083, 53, 0.00379, 55, 0.00742, 56, 0.00296, 61, 0.01395, 62, 0.00918, 63, 0.00671, 67, 0.00363, 68, 0.01341, 69, 0.00872, 73, 0.00775, 74, 0.01224, 83, 0.01414, 88, 0.0083, 90, 0.01147, 92, 0.00646, 94, 0.00581, 95, 0.00471, 96, 0.00872, 98, 0.0083, 100, 0.01276))\n",
      "('ma', (6, 0.01338, 9, 0.02671, 11, 0.01756, 14, 0.00752, 17, 0.00629, 18, 0.01003, 19, 0.01171, 22, 0.0079, 26, 0.0081, 28, 0.0062, 29, 0.00514, 31, 0.00878, 35, 0.02634, 37, 0.01443, 40, 0.00702, 41, 0.00305, 44, 0.00514, 45, 0.01028, 47, 0.01054, 50, 0.02341, 51, 0.01832, 53, 0.00229, 55, 0.00897, 59, 0.00727, 60, 0.01054, 63, 0.0081, 67, 0.00878, 68, 0.0027, 73, 0.00468, 74, 0.0037, 77, 0.0049, 79, 0.0031, 82, 0.00843, 83, 0.01139, 84, 0.00878, 88, 0.01505, 93, 0.02341, 95, 0.0057, 97, 0.0054, 99, 0.0081))\n",
      "('so', (2, 0.00769, 4, 0.00827, 5, 0.00333, 6, 0.00354, 9, 0.00943, 10, 0.01088, 11, 0.0062, 14, 0.00797, 16, 0.02231, 17, 0.00666, 22, 0.02789, 28, 0.00656, 29, 0.00544, 31, 0.00465, 35, 0.01395, 36, 0.02029, 37, 0.00917, 38, 0.0036, 40, 0.00372, 41, 0.00323, 47, 0.00558, 48, 0.02789, 53, 0.0097, 59, 0.00385, 62, 0.00391, 63, 0.00858, 65, 0.00827, 66, 0.00797, 67, 0.02789, 68, 0.00858, 69, 0.01116, 71, 0.00797, 73, 0.00496, 77, 0.01038, 79, 0.00656, 82, 0.00893, 87, 0.01716, 89, 0.00797, 90, 0.00294, 95, 0.00603, 100, 0.01088))\n",
      "('li', (3, 0.02485, 5, 0.00742, 9, 0.0105, 11, 0.0069, 12, 0.0108, 13, 0.01183, 15, 0.00654, 16, 0.01242, 17, 0.00371, 21, 0.02366, 22, 0.01242, 25, 0.00776, 27, 0.0092, 30, 0.00956, 36, 0.00753, 37, 0.01021, 38, 0.00401, 39, 0.01242, 40, 0.00414, 41, 0.0072, 42, 0.01308, 44, 0.00606, 47, 0.01242, 53, 0.0162, 55, 0.00529, 56, 0.02106, 65, 0.0092, 71, 0.02662, 72, 0.00672, 73, 0.00552, 74, 0.01744, 77, 0.01156, 78, 0.0184, 79, 0.01096, 82, 0.01656, 87, 0.01911, 88, 0.01183, 90, 0.00327, 91, 0.0054, 97, 0.00637, 100, 0.01212))\n",
      "('go', (2, -0.00297, 6, -0.00274, 9, -0.04976, 10, -0.0021, 13, -0.0041, 14, -0.00308, 15, -0.00227, 18, -0.0041, 22, -0.00431, 25, -0.00269, 28, -0.0076, 30, -0.00331, 33, -0.00287, 35, -0.00539, 37, -0.00236, 38, -0.00139, 40, -0.00144, 42, -0.00454, 44, -0.0021, 46, -0.00338, 47, -0.00646, 49, -0.00392, 51, -0.00375, 52, -0.00821, 53, -0.00187, 55, -0.00183, 57, -0.00594, 59, -0.00594, 61, -0.00172, 62, -0.00151, 66, -0.00308, 67, -0.0018, 68, -0.00331, 72, -0.00233, 73, -0.00191, 74, -0.00302, 76, -0.00278, 82, -0.00575, 83, -0.00233, 86, -0.00454, 91, -0.00375, 94, -0.00575, 96, -0.00431))\n",
      "('ho', (2, 0.01433, 5, 0.0124, 7, 0.00884, 10, 0.01013, 11, 0.01154, 17, 0.03101, 19, 0.04617, 21, 0.03957, 22, 0.00519, 24, 0.04155, 27, 0.03078, 29, 0.01013, 30, 0.01598, 31, 0.00866, 37, 0.00569, 40, 0.01385, 41, 0.00602, 44, 0.01013, 46, 0.02444, 52, 0.01979, 53, 0.00903, 54, 0.0134, 55, 0.01768, 56, 0.00704, 57, 0.04299, 59, 0.00716, 60, 0.04155, 61, 0.00831, 62, 0.00729, 68, 0.00533, 69, 0.01385, 73, 0.00923, 76, 0.02681, 77, 0.00966, 82, 0.01662, 83, 0.01123, 85, 0.02187, 88, 0.00989, 90, 0.01094, 91, 0.00903, 94, 0.01385, 95, 0.02246, 98, 0.01979, 99, 0.01598))\n",
      "('no', (5, -0.00403, 6, -0.02143, 7, -0.00575, 9, -0.10649, 10, -0.01317, 11, -0.015, 12, -0.01174, 14, -0.00964, 17, -0.01209, 18, -0.01286, 22, -0.02025, 28, -0.01588, 31, -0.01125, 37, -0.0037, 38, -0.01307, 40, -0.0135, 41, -0.00391, 43, -0.02455, 44, -0.00659, 45, -0.00659, 46, -0.0053, 49, -0.02455, 53, -0.02642, 54, -0.00871, 56, -0.00458, 57, -0.00931, 59, -0.00466, 61, -0.05941, 62, -0.01421, 66, -0.00964, 68, -0.01039, 73, -0.012, 74, -0.00948, 75, -0.0108, 76, -0.00871, 78, -0.02, 79, -0.01191, 82, -0.0144, 83, -0.02919, 88, -0.00643, 90, -0.00711, 93, -0.02, 97, -0.00692, 100, -0.03293))\n",
      "('he', (2, 0.00707, 4, 0.0019, 6, 0.00407, 9, 0.00217, 10, 0.00125, 12, 0.00223, 16, 0.00513, 19, 0.00285, 20, 0.00302, 21, 0.00244, 22, 0.00064, 24, 0.00513, 27, 0.0019, 28, 0.00302, 36, 0.00155, 37, 0.00141, 38, 0.00165, 40, 0.00342, 41, 0.00372, 42, 0.0027, 45, 0.00125, 46, 0.00603, 47, 0.00128, 48, 0.00214, 52, 0.00489, 53, 0.00056, 55, 0.00218, 56, 0.00087, 58, 0.00513, 60, 0.00769, 61, 0.00616, 62, 0.0009, 68, 0.00263, 69, 0.00171, 73, 0.00114, 74, 0.0009, 77, 0.00239, 79, 0.00075, 82, 0.00068, 83, 0.00555, 84, 0.00214, 88, 0.00366, 89, 0.00366, 90, 0.00068, 91, 0.00335, 92, 0.0038, 100, 0.00125))\n",
      "('co', (1, -0.01243, 2, -0.00686, 5, -0.00594, 6, -0.00947, 7, -0.01269, 8, -0.00947, 9, -0.0168, 10, -0.01455, 11, -0.03314, 13, -0.01894, 14, -0.0071, 17, -0.00297, 22, -0.0174, 29, -0.0097, 30, -0.02294, 31, -0.00414, 33, -0.00663, 37, -0.02179, 38, -0.00962, 39, -0.00994, 40, -0.00331, 41, -0.00576, 43, -0.01808, 44, -0.01455, 46, -0.0039, 48, -0.01657, 49, -0.00904, 50, -0.00552, 52, -0.00947, 53, -0.01081, 54, -0.00641, 55, -0.00846, 56, -0.01011, 59, -0.03086, 68, -0.0051, 69, -0.00994, 73, -0.00442, 77, -0.00463, 78, -0.01473, 79, -0.02339, 82, -0.00795, 83, -0.00537, 87, -0.00765, 90, -0.00262, 91, -0.02162, 92, -0.01473, 98, -0.00947, 100, -0.00485))\n",
      "('wi', (2, -0.00742, 3, -0.01076, 4, -0.03187, 5, -0.00642, 6, -0.00341, 9, -0.06968, 10, -0.02099, 11, -0.00598, 17, -0.00963, 22, -0.00538, 27, -0.00797, 30, -0.00827, 32, -0.01434, 35, -0.00672, 37, -0.00589, 38, -0.00347, 40, -0.01076, 41, -0.00935, 43, -0.01956, 44, -0.00525, 45, -0.00525, 46, -0.00844, 47, -0.03227, 50, -0.00598, 53, -0.00468, 55, -0.00915, 56, -0.02187, 59, -0.00742, 61, -0.01721, 62, -0.0151, 63, -0.00827, 67, -0.00896, 68, -0.00827, 69, -0.01793, 71, -0.00768, 73, -0.00478, 74, -0.00377, 76, -0.02082, 77, -0.005, 79, -0.00633, 82, -0.00287, 83, -0.00581, 85, -0.01132, 89, -0.01537, 90, -0.01415, 91, -0.00935, 92, -0.01593, 94, -0.00717, 100, -0.00525))\n",
      "('ha', (1, -0.01087, 2, -0.006, 4, -0.00644, 5, -0.01298, 6, -0.01381, 9, -0.0294, 10, -0.00424, 13, -0.00828, 17, -0.0026, 18, -0.00828, 19, -0.00966, 22, -0.01305, 25, -0.00544, 29, -0.00424, 31, -0.00725, 35, -0.01631, 36, -0.00527, 37, -0.00953, 38, -0.00561, 40, -0.0058, 41, -0.00504, 44, -0.01697, 45, -0.00424, 46, -0.00682, 47, -0.01305, 50, -0.00966, 53, -0.00567, 54, -0.00561, 55, -0.0037, 56, -0.00885, 57, -0.012, 61, -0.00696, 62, -0.00916, 63, -0.00669, 66, -0.00621, 67, -0.00362, 68, -0.01338, 69, -0.0087, 71, -0.00621, 73, -0.00387, 77, -0.01618, 78, -0.00644, 79, -0.00767, 82, -0.00928, 88, -0.00414, 89, -0.00621, 90, -0.01144, 91, -0.01135, 96, -0.0087, 98, -0.00828))\n",
      "('be', (1, -0.02492, 4, -0.01477, 5, -0.0119, 6, -0.02532, 7, -0.00849, 9, -0.08425, 11, -0.03323, 12, -0.01734, 14, -0.01424, 15, -0.0105, 16, -0.01994, 22, -0.0648, 28, -0.03519, 29, -0.00973, 31, -0.01662, 32, -0.05317, 35, -0.04985, 37, -0.06009, 38, -0.00643, 40, -0.01329, 41, -0.01156, 43, -0.01812, 44, -0.02918, 46, -0.00782, 47, -0.03988, 52, -0.01899, 53, -0.02167, 54, -0.02573, 55, -0.00849, 56, -0.01352, 58, -0.03988, 59, -0.00687, 61, -0.01595, 67, -0.00831, 68, -0.03067, 69, -0.03323, 71, -0.01424, 74, -0.03498, 75, -0.01595, 76, -0.01286, 77, -0.06492, 78, -0.04431, 79, -0.01759, 82, -0.02659, 83, -0.01078, 90, -0.02624, 91, -0.02601, 92, -0.02954, 93, -0.04431, 100, -0.00973))\n",
      "('do', (1, -0.00423, 2, -0.00233, 4, -0.00251, 5, -0.00404, 6, -0.00537, 7, -0.00288, 8, -0.00322, 10, -0.00165, 15, -0.00356, 17, -0.00202, 19, -0.00376, 21, -0.00967, 22, -0.00423, 26, -0.0052, 27, -0.00501, 28, -0.00398, 30, -0.0026, 32, -0.00451, 35, -0.00211, 36, -0.00205, 40, -0.00113, 41, -0.00098, 43, -0.00308, 44, -0.0066, 47, -0.00169, 49, -0.00308, 53, -0.00515, 54, -0.00218, 55, -0.00144, 58, -0.00677, 59, -0.00117, 61, -0.00271, 62, -0.00831, 63, -0.0026, 68, -0.00347, 69, -0.00226, 72, -0.00183, 73, -0.00301, 74, -0.00237, 75, -0.00541, 77, -0.00472, 79, -0.001, 82, -0.00541, 86, -0.00356, 88, -0.00805, 90, -0.00178, 93, -0.00501, 94, -0.00226, 95, -0.00366, 97, -0.00173, 100, -0.00165))\n",
      "('it', (2, -0.01185, 5, -0.02564, 6, -0.02181, 7, -0.03655, 8, -0.01636, 9, -0.04839, 10, -0.05028, 13, -0.01636, 15, -0.01808, 16, -0.01718, 17, -0.01026, 22, -0.02577, 24, -0.03436, 26, -0.01321, 27, -0.01273, 28, -0.03032, 29, -0.01676, 30, -0.01321, 31, -0.00716, 33, -0.02291, 37, -0.00471, 38, -0.00554, 40, -0.00573, 41, -0.01494, 43, -0.01562, 44, -0.01676, 46, -0.02021, 50, -0.02863, 51, -0.02988, 53, -0.01867, 56, -0.04076, 57, -0.03554, 60, -0.01718, 62, -0.03014, 67, -0.02863, 68, -0.01321, 69, -0.01718, 70, -0.03124, 71, -0.02454, 73, -0.02291, 74, -0.03014, 75, -0.01374, 77, -0.02397, 79, -0.00505, 82, -0.01832, 85, -0.01808, 86, -0.03617, 88, -0.00818, 90, -0.01808, 91, -0.02241, 93, -0.03818, 96, -0.01718, 97, -0.01762))\n",
      "('of', (4, -0.01325, 5, -0.01602, 6, -0.01703, 7, -0.02283, 9, -0.02015, 11, -0.03974, 14, -0.02555, 17, -0.00534, 20, -0.02104, 22, -0.03577, 23, -0.03974, 25, -0.01118, 26, -0.02751, 27, -0.01325, 28, -0.01052, 29, -0.00872, 30, -0.02751, 37, -0.0294, 38, -0.02308, 40, -0.01788, 41, -0.01037, 44, -0.02617, 45, -0.04362, 46, -0.01403, 47, -0.00894, 50, -0.02981, 52, -0.03406, 53, -0.03499, 55, -0.03044, 56, -0.01213, 59, -0.0185, 61, -0.01431, 62, -0.01255, 63, -0.01376, 65, -0.01325, 68, -0.00917, 69, -0.00596, 70, -0.03252, 71, -0.01277, 75, -0.01431, 76, -0.01154, 77, -0.01664, 78, -0.01325, 79, -0.04734, 80, -0.03577, 82, -0.03338, 85, -0.01882, 87, -0.01376, 88, -0.01703, 90, -0.03765, 91, -0.0311, 92, -0.01325, 96, -0.01788, 99, -0.02751, 100, -0.01745))\n",
      "('fo', (3, -0.00198, 5, -0.0003, 10, -0.00145, 11, -0.0011, 12, -0.00344, 14, -0.00071, 15, -0.00052, 16, -0.00198, 17, -0.00118, 18, -0.00094, 20, -0.00116, 22, -0.00025, 30, -0.00381, 31, -0.00124, 35, -0.00186, 36, -0.0006, 37, -0.00054, 38, -0.0016, 39, -0.00198, 40, -0.00033, 41, -0.00029, 42, -0.00104, 43, -0.0009, 44, -0.00097, 46, -0.00078, 48, -0.00083, 50, -0.00055, 51, -0.00086, 53, -0.00022, 54, -0.00064, 55, -0.00084, 56, -0.00067, 59, -0.00171, 60, -0.00099, 62, -0.00069, 64, -0.0022, 65, -0.00073, 67, -0.00083, 68, -0.00025, 69, -0.00132, 72, -0.00107, 73, -0.00044, 75, -0.00158, 76, -0.00064, 77, -0.00092, 82, -0.00026, 83, -0.00054, 85, -0.00104, 88, -0.00094, 89, -0.00071, 90, -0.00078, 91, -0.00043, 93, -0.00073, 95, -0.00107, 97, -0.00051, 100, -0.00097))\n",
      "('on', (5, -0.00404, 7, -0.00144, 8, -0.00322, 9, -0.01143, 10, -0.0033, 11, -0.00188, 12, -0.00294, 13, -0.00322, 14, -0.00242, 19, -0.00376, 21, -0.00322, 22, -0.00085, 24, -0.00677, 25, -0.00211, 26, -0.0052, 29, -0.00165, 30, -0.0052, 31, -0.00141, 33, -0.00226, 34, -0.0052, 36, -0.00205, 37, -0.00278, 38, -0.00109, 41, -0.00294, 42, -0.00356, 44, -0.00165, 45, -0.0033, 46, -0.00265, 48, -0.00282, 50, -0.00564, 51, -0.00294, 52, -0.00322, 53, -0.00368, 54, -0.00655, 56, -0.00115, 57, -0.00467, 59, -0.0035, 62, -0.00475, 63, -0.0026, 65, -0.00251, 66, -0.00242, 68, -0.00173, 69, -0.00113, 73, -0.0015, 74, -0.00237, 78, -0.00501, 79, -0.00199, 81, -0.00752, 82, -0.0018, 83, -0.00731, 84, -0.00282, 85, -0.00712, 87, -0.0026, 89, -0.00242, 90, -0.00267, 95, -0.00366, 96, -0.00677))\n",
      "('ca', (2, -0.00135, 3, -0.00392, 5, -0.00059, 6, -0.00062, 7, -0.00083, 9, -0.00055, 11, -0.00109, 13, -0.00187, 14, -0.0014, 17, -0.00117, 18, -0.00187, 19, -0.00218, 22, -0.00049, 25, -0.00123, 26, -0.00302, 29, -0.00383, 30, -0.00453, 31, -0.00245, 33, -0.00392, 34, -0.00302, 35, -0.0049, 37, -0.00054, 38, -0.00127, 40, -0.00131, 42, -0.00206, 43, -0.00178, 45, -0.00191, 46, -0.00154, 47, -0.00098, 48, -0.00327, 49, -0.00178, 50, -0.00109, 51, -0.00171, 53, -0.00043, 54, -0.00253, 55, -0.00083, 56, -0.00066, 57, -0.00135, 59, -0.00068, 60, -0.00392, 61, -0.00078, 62, -0.00138, 63, -0.00151, 65, -0.00145, 68, -0.0005, 69, -0.00196, 72, -0.00106, 73, -0.00174, 77, -0.00365, 78, -0.00145, 79, -0.00173, 82, -0.00052, 84, -0.00163, 89, -0.0042, 90, -0.00052, 91, -0.00597, 92, -0.00291, 95, -0.00106, 96, -0.00196, 97, -0.00101, 98, -0.00374, 99, -0.00151, 100, -0.00096))\n",
      "('is', (1, -0.0245, 2, -0.01352, 5, -0.0234, 6, -0.04978, 7, -0.02502, 11, -0.06534, 13, -0.01867, 15, -0.02063, 16, -0.0196, 17, -0.02926, 18, -0.01867, 22, -0.0294, 23, -0.04356, 27, -0.01452, 29, -0.00956, 31, -0.0245, 33, -0.01307, 35, -0.0245, 37, -0.00537, 38, -0.00632, 40, -0.01307, 41, -0.01137, 43, -0.01782, 46, -0.00769, 47, -0.0392, 48, -0.01634, 49, -0.01782, 50, -0.01089, 51, -0.01705, 52, -0.03734, 53, -0.03409, 55, -0.01668, 56, -0.01994, 57, -0.04056, 58, -0.0392, 59, -0.00676, 61, -0.02352, 62, -0.00688, 64, -0.04356, 66, -0.014, 67, -0.0245, 68, -0.00503, 70, -0.03564, 71, -0.014, 72, -0.0106, 73, -0.03485, 74, -0.00688, 75, -0.01568, 76, -0.01265, 77, -0.02735, 78, -0.02904, 79, -0.02306, 80, -0.0392, 82, -0.03659, 83, -0.02119, 85, -0.04127, 86, -0.02063, 89, -0.014, 90, -0.03611, 91, -0.0767, 92, -0.02904, 93, -0.01452, 94, -0.01307, 97, -0.01005))\n",
      "('in', (2, -0.01281, 5, -0.00555, 6, -0.01769, 7, -0.02372, 9, -0.02093, 10, -0.02719, 11, -0.01032, 12, -0.01616, 13, -0.01769, 14, -0.01327, 17, -0.01664, 19, -0.02064, 21, -0.01769, 22, -0.03251, 25, -0.01161, 26, -0.01429, 29, -0.00906, 30, -0.01429, 31, -0.00774, 32, -0.04954, 33, -0.01238, 35, -0.01161, 36, -0.01126, 37, -0.01527, 38, -0.00599, 39, -0.01858, 40, -0.00619, 41, -0.02154, 43, -0.01689, 44, -0.02719, 45, -0.04531, 48, -0.03096, 49, -0.03378, 50, -0.03096, 51, -0.01616, 52, -0.01769, 53, -0.01212, 55, -0.02372, 56, -0.03778, 57, -0.01281, 59, -0.03203, 60, -0.01858, 61, -0.00743, 62, -0.01304, 65, -0.01376, 67, -0.03871, 68, -0.02382, 71, -0.06635, 72, -0.05021, 73, -0.01651, 74, -0.01304, 76, -0.01199, 77, -0.00864, 78, -0.01376, 79, -0.03279, 82, -0.00495, 83, -0.01004, 88, -0.00885, 89, -0.01327, 90, -0.01956, 91, -0.04846, 94, -0.02477, 95, -0.03013, 98, -0.01769))\n",
      "('yo', (2, -0.11124, 3, -0.04032, 4, -0.05974, 6, -0.0128, 7, -0.06864, 9, -0.26125, 10, -0.03934, 12, -0.07013, 13, -0.0384, 14, -0.11521, 15, -0.04244, 17, -0.06019, 21, -0.0384, 22, -0.20162, 26, -0.06203, 28, -0.07116, 29, -0.11802, 30, -0.03102, 31, -0.0168, 32, -0.05377, 35, -0.0504, 36, -0.02444, 37, -0.0221, 38, -0.02602, 40, -0.14785, 41, -0.0935, 44, -0.11802, 48, -0.10081, 49, -0.07332, 50, -0.04481, 53, -0.0789, 54, -0.10406, 55, -0.15443, 57, -0.05562, 59, -0.0139, 60, -0.04032, 61, -0.06452, 62, -0.04244, 63, -0.03102, 66, -0.0288, 67, -0.0672, 68, -0.03102, 69, -0.09409, 71, -0.17282, 72, -0.08719, 73, -0.01792, 74, -0.01415, 75, -0.09678, 76, -0.02602, 77, -0.01876, 78, -0.05974, 79, -0.0593, 82, -0.02151, 84, -0.10081, 87, -0.06203, 89, -0.0288, 90, -0.04244, 91, -0.07013, 92, -0.02987, 93, -0.02987, 94, -0.02688, 95, -0.0218, 96, -0.08065, 97, -0.02068, 98, -0.11521))\n",
      "('to', (2, -0.06537, 5, -0.09903, 6, -0.09027, 7, -0.04033, 9, -0.04004, 10, -0.1387, 12, -0.04121, 14, -0.10155, 15, -0.07483, 16, -0.14217, 17, -0.04244, 18, -0.04513, 19, -0.05266, 22, -0.13032, 25, -0.02962, 26, -0.0729, 28, -0.05575, 29, -0.06935, 31, -0.03949, 32, -0.06319, 33, -0.06319, 34, -0.0729, 35, -0.02962, 36, -0.02872, 37, -0.11685, 38, -0.04586, 39, -0.14217, 40, -0.09478, 41, -0.19231, 44, -0.20805, 45, -0.04623, 46, -0.16726, 47, -0.09478, 49, -0.04308, 50, -0.02633, 53, -0.09272, 54, -0.06115, 55, -0.04033, 56, -0.09638, 57, -0.03268, 59, -0.08171, 60, -0.04739, 61, -0.09478, 62, -0.06652, 63, -0.0729, 66, -0.03385, 67, -0.03949, 68, -0.06075, 69, -0.09478, 70, -0.08616, 71, -0.16925, 72, -0.02562, 73, -0.08425, 74, -0.14965, 75, -0.11373, 76, -0.03058, 77, -0.11021, 78, -0.03511, 79, -0.05575, 82, -0.16428, 83, -0.02562, 84, -0.03949, 87, -0.0729, 88, -0.0677, 90, -0.11224, 91, -0.12362, 92, -0.03511, 93, -0.03511, 94, -0.03159, 95, -0.02562, 98, -0.18053, 100, -0.02312))\n",
      "('wh', (1, -0.05367, 2, -0.02961, 3, -0.04293, 4, -0.0636, 5, -0.03845, 6, -0.05452, 7, -0.05481, 8, -0.04089, 9, -0.82238, 14, -0.03066, 15, -0.0226, 17, -0.02563, 18, -0.08178, 19, -0.04771, 20, -0.05051, 22, -0.1932, 23, -0.09541, 25, -0.05367, 26, -0.03302, 27, -0.09541, 29, -0.02094, 30, -0.03302, 31, -0.08945, 33, -0.02862, 35, -0.02683, 36, -0.02602, 37, -0.07057, 38, -0.06925, 39, -0.04293, 40, -0.04293, 41, -0.06222, 43, -0.03903, 44, -0.02094, 46, -0.03368, 47, -0.02147, 49, -0.03903, 50, -0.02385, 53, -0.06534, 54, -0.0277, 55, -0.03654, 56, -0.04366, 57, -0.02961, 58, -0.08587, 61, -0.03435, 62, -0.07532, 63, -0.06605, 64, -0.09541, 65, -0.0318, 66, -0.03066, 67, -0.03578, 68, -0.03302, 69, -0.02862, 70, -0.07806, 71, -0.15333, 72, -0.04641, 75, -0.10304, 76, -0.0277, 77, -0.01997, 79, -0.05051, 80, -0.08587, 82, -0.05725, 83, -0.02321, 84, -0.03578, 85, -0.04519, 86, -0.04519, 87, -0.06605, 88, -0.06133, 89, -0.03066, 90, -0.0226, 91, -0.03733, 93, -0.0636, 94, -0.02862, 95, -0.09283, 96, -0.1288, 100, -0.02094))\n",
      "('an', (4, -0.06637, 5, -0.02675, 6, -0.07112, 7, -0.20972, 8, -0.04267, 9, -0.02524, 10, -0.13113, 11, -0.04979, 14, -0.032, 15, -0.04716, 16, -0.0448, 17, -0.04013, 18, -0.04267, 22, -0.15682, 25, -0.08401, 26, -0.03446, 27, -0.13276, 28, -0.02635, 29, -0.06557, 30, -0.03446, 31, -0.03734, 32, -0.05974, 33, -0.05974, 35, -0.08401, 36, -0.05431, 37, -0.08593, 38, -0.10117, 39, -0.0448, 40, -0.07467, 41, -0.07792, 42, -0.09432, 43, -0.08146, 44, -0.06557, 45, -0.02186, 46, -0.15813, 47, -0.0448, 49, -0.04073, 50, -0.07467, 52, -0.08534, 53, -0.07792, 54, -0.05782, 55, -0.0572, 56, -0.10631, 57, -0.0618, 58, -0.08961, 60, -0.13441, 61, -0.01792, 62, -0.01572, 63, -0.10339, 67, -0.07467, 68, -0.08041, 69, -0.0448, 70, -0.08146, 71, -0.032, 72, -0.09688, 73, -0.01991, 74, -0.03144, 75, -0.07169, 77, -0.08335, 78, -0.16595, 79, -0.13178, 81, -0.09956, 82, -0.09559, 83, -0.02422, 84, -0.03734, 85, -0.04716, 86, -0.09432, 87, -0.03446, 88, -0.06401, 90, -0.05895, 91, -0.05844, 92, -0.06637, 93, -0.06637, 95, -0.07265, 97, -0.06893, 98, -0.04267, 100, -0.13113))\n",
      "('th', (1, -0.12189, 2, -0.20175, 3, -0.19502, 4, -0.36116, 5, -0.37839, 6, -0.89771, 7, -0.41494, 8, -0.2786, 9, -1.18109, 10, -0.23783, 11, -0.27086, 12, -0.33916, 13, -0.2786, 14, -0.20894, 15, -0.41057, 16, -0.09751, 17, -0.46572, 18, -0.09287, 19, -0.10835, 20, -0.22944, 21, -0.09287, 22, -0.80445, 25, -0.24377, 26, -0.45004, 27, -0.14445, 28, -0.57359, 29, -0.23783, 30, -0.075, 31, -0.65006, 33, -0.32504, 34, -0.30004, 35, -0.24377, 36, -0.1182, 37, -0.40072, 38, -0.346, 39, -0.09751, 40, -0.35753, 41, -0.48049, 42, -0.20528, 43, -0.08864, 44, -0.66591, 45, -0.66591, 46, -0.42064, 47, -0.19502, 48, -0.16251, 49, -0.08864, 50, -0.48755, 51, -0.42395, 52, -0.09287, 53, -0.9115, 54, -0.18872, 55, -0.16598, 56, -0.49582, 57, -0.33623, 58, -0.19502, 59, -0.03362, 61, -0.23402, 62, -0.47899, 63, -0.15001, 65, -0.07223, 66, -0.34824, 67, -0.32504, 68, -0.55005, 69, -0.74757, 70, -0.17729, 71, -0.34824, 72, -0.26355, 73, -0.3467, 74, -0.65006, 75, -0.15601, 76, -0.37746, 78, -0.36116, 79, -0.48755, 80, -0.19502, 81, -0.43337, 82, -0.52006, 83, -0.15812, 84, -0.16251, 85, -0.10264, 86, -0.10264, 87, -0.37504, 88, -0.18574, 89, -0.1393, 90, -0.56452, 91, -0.80551, 92, -0.36116, 93, -0.43337, 94, -0.32504, 95, -0.36896, 96, -0.09751, 97, -0.10001, 98, -0.18574, 100, -0.19026))\n"
     ]
    }
   ],
   "source": [
    "bigram_rdd = tfidf_weight(dataset_path, sc, ngram='bi', sample_size=100, verbose=True)"
   ]
  },
  {
   "source": [
    "## Trigrama"
   ],
   "cell_type": "markdown",
   "metadata": {}
  },
  {
   "cell_type": "code",
   "execution_count": 10,
   "metadata": {},
   "outputs": [
    {
     "output_type": "stream",
     "name": "stdout",
     "text": [
      "-------------------------------------------\n",
      "|                                         |\n",
      "|                Corpus                   |\n",
      "|                                         |\n",
      "-------------------------------------------\n",
      "Index: 0 \t Length: 34\n",
      "-----------------------------------------\n",
      "Original doc: \n",
      "\"2\",\"how far is the earth from the sun?\",\"\",\"Earth's average distance from the sun is a little bit under 93 million miles. The closets the Earth gets to the sun is about 90 million miles and the farthest is about 96 million miles.\"\n",
      "\n",
      "Cleaned doc: \n",
      "['how', 'far', 'the', 'ear', 'fro', 'the', 'sun', 'ear', 'ave', 'dis', 'fro', 'the', 'sun', 'lit', 'bit', 'und', 'mil', 'mil', 'the', 'clo', 'the', 'ear', 'get', 'the', 'sun', 'abo', 'mil', 'mil', 'and', 'the', 'far', 'abo', 'mil', 'mil']\n",
      "\n",
      "\n",
      "Index: 1 \t Length: 114\n",
      "-----------------------------------------\n",
      "Original doc: \n",
      "\"4\",\"Live in Louisville, ky with girlfriend and 5mon baby. How should we file, girlfriend going back to school?\",\"My girlfriend is trying to go back to school. Is it better for her to claim the baby even though she hasn't worked a day this year? How will that effect how much she is to recieve for financial aid.\",\"you cant claim the baby legally unless youre married- if she hasnt worked then there is no reason for her to claim him/her- BUT when she lets you use baby as dependent, then you will be claiming that the child lived with you, and so did she and that will show up on her application and YOUR income is considered.\\nshe can let you claim , and still get her financial aid...\\nif you didnt work, you dont have a reason to file taxes\"\n",
      "\n",
      "Cleaned doc: \n",
      "['liv', 'lou', 'wit', 'gir', 'and', '5mo', 'bab', 'how', 'sho', 'fil', 'gir', 'goi', 'bac', 'sch', 'gir', 'try', 'bac', 'sch', 'bet', 'for', 'her', 'cla', 'the', 'bab', 'eve', 'tho', 'she', 'has', 'wor', 'day', 'thi', 'yea', 'how', 'wil', 'tha', 'eff', 'how', 'muc', 'she', 'rec', 'for', 'fin', 'aid', 'you', 'can', 'cla', 'the', 'bab', 'leg', 'unl', 'you', 'mar', 'she', 'has', 'wor', 'the', 'the', 'rea', 'for', 'her', 'cla', 'him', 'her', 'but', 'whe', 'she', 'let', 'you', 'use', 'bab', 'dep', 'the', 'you', 'wil', 'cla', 'tha', 'the', 'chi', 'liv', 'wit', 'you', 'and', 'did', 'she', 'and', 'tha', 'wil', 'sho', 'her', 'app', 'and', 'you', 'inc', 'con', 'she', 'can', 'let', 'you', 'cla', 'and', 'sti', 'get', 'her', 'fin', 'aid', 'you', 'did', 'wor', 'you', 'don', 'hav', 'rea', 'fil', 'tax']\n",
      "\n",
      "\n",
      "Index: 2 \t Length: 31\n",
      "-----------------------------------------\n",
      "Original doc: \n",
      "\"5\",\"Who knows a good website for my myspace background?\",\"I already went to www.freeweblayouts.net, but that didn't work, so i need some other websites for my myspace backgroung.\",\"how bout http://www.myspacepimper.com\\nor create your own at http://www.htmate2.com/mylook/\"\n",
      "\n",
      "Cleaned doc: \n",
      "['who', 'kno', 'goo', 'web', 'for', 'mys', 'bac', 'alr', 'wen', 'www', 'but', 'tha', 'did', 'wor', 'nee', 'som', 'oth', 'web', 'for', 'mys', 'bac', 'how', 'bou', 'htt', 'www', 'cre', 'you', 'own', 'htt', 'www', 'myl']\n",
      "\n",
      "\n",
      "\n",
      "\n",
      "-------------------------------------------\n",
      "|                                         |\n",
      "|       Inverse Document Frequency        |\n",
      "|                                         |\n",
      "-------------------------------------------\n",
      "Término ------------ IDF\n",
      "\n",
      "('clo', 4.605170185988092)\n",
      "\n",
      "('lou', 4.605170185988092)\n",
      "\n",
      "('5mo', 4.605170185988092)\n",
      "\n",
      "('myl', 4.605170185988092)\n",
      "\n",
      "('psy', 4.605170185988092)\n",
      "\n",
      "('amp', 4.605170185988092)\n",
      "\n",
      "('soa', 4.605170185988092)\n",
      "\n",
      "('jor', 4.605170185988092)\n",
      "\n",
      "('hll', 4.605170185988092)\n",
      "\n",
      "('nyc', 4.605170185988092)\n",
      "\n",
      "('pin', 4.605170185988092)\n",
      "\n",
      "('imh', 4.605170185988092)\n",
      "\n",
      "('noo', 4.605170185988092)\n",
      "\n",
      "('aud', 4.605170185988092)\n",
      "\n",
      "('ken', 4.605170185988092)\n",
      "\n",
      "('sty', 4.605170185988092)\n",
      "\n",
      "('cas', 4.605170185988092)\n",
      "\n",
      "('bil', 4.605170185988092)\n",
      "\n",
      "('aca', 4.605170185988092)\n",
      "\n",
      "('fan', 4.605170185988092)\n",
      "\n",
      "('gab', 4.605170185988092)\n",
      "\n",
      "('heh', 4.605170185988092)\n",
      "\n",
      "('404', 4.605170185988092)\n",
      "\n",
      "('oug', 4.605170185988092)\n",
      "\n",
      "('ceo', 4.605170185988092)\n",
      "\n",
      "('jai', 4.605170185988092)\n",
      "\n",
      "('wic', 4.605170185988092)\n",
      "\n",
      "('enf', 4.605170185988092)\n",
      "\n",
      "('443', 4.605170185988092)\n",
      "\n",
      "('amn', 4.605170185988092)\n",
      "\n",
      "('upo', 4.605170185988092)\n",
      "\n",
      "('alt', 4.605170185988092)\n",
      "\n",
      "('250', 4.605170185988092)\n",
      "\n",
      "\n",
      "\n",
      "-------------------------------------------\n",
      "|                                         |\n",
      "|              Term Frequency             |\n",
      "|                                         |\n",
      "-------------------------------------------\n",
      "Index: 0 \tWords: 16\n",
      "--------------------------------\n",
      "Original:\n",
      "\n",
      "\"2\",\"how far is the earth from the sun?\",\"\",\"Earth's average distance from the sun is a little bit under 93 million miles. The closets the Earth gets to the sun is about 90 million miles and the farthest is about 96 million miles.\"\n",
      "\n",
      "Word frequency: \n",
      "\n",
      "[('how', 1), ('far', 2), ('the', 7), ('ear', 3), ('fro', 2), ('sun', 3), ('ave', 1), ('dis', 1), ('lit', 1), ('bit', 1), ('und', 1), ('mil', 6), ('clo', 1), ('get', 1), ('abo', 2), ('and', 1)]\n",
      "\n",
      "Term Frequency:\n",
      "\n",
      "[('how', 0.0625), ('far', 0.125), ('the', 0.4375), ('ear', 0.1875), ('fro', 0.125), ('sun', 0.1875), ('ave', 0.0625), ('dis', 0.0625), ('lit', 0.0625), ('bit', 0.0625), ('und', 0.0625), ('mil', 0.375), ('clo', 0.0625), ('get', 0.0625), ('abo', 0.125), ('and', 0.0625)]\n",
      "\n",
      "\n",
      "\n",
      "Index: 1 \tWords: 56\n",
      "--------------------------------\n",
      "Original:\n",
      "\n",
      "\"4\",\"Live in Louisville, ky with girlfriend and 5mon baby. How should we file, girlfriend going back to school?\",\"My girlfriend is trying to go back to school. Is it better for her to claim the baby even though she hasn't worked a day this year? How will that effect how much she is to recieve for financial aid.\",\"you cant claim the baby legally unless youre married- if she hasnt worked then there is no reason for her to claim him/her- BUT when she lets you use baby as dependent, then you will be claiming that the child lived with you, and so did she and that will show up on her application and YOUR income is considered.\\nshe can let you claim , and still get her financial aid...\\nif you didnt work, you dont have a reason to file taxes\"\n",
      "\n",
      "Word frequency: \n",
      "\n",
      "[('liv', 2), ('lou', 1), ('wit', 2), ('gir', 3), ('and', 5), ('5mo', 1), ('bab', 4), ('how', 3), ('sho', 2), ('fil', 2), ('goi', 1), ('bac', 2), ('sch', 2), ('try', 1), ('bet', 1), ('for', 3), ('her', 5), ('cla', 5), ('the', 6), ('eve', 1), ('tho', 1), ('she', 6), ('has', 2), ('wor', 3), ('day', 1), ('thi', 1), ('yea', 1), ('wil', 3), ('tha', 3), ('eff', 1), ('muc', 1), ('rec', 1), ('fin', 2), ('aid', 2), ('you', 9), ('can', 2), ('leg', 1), ('unl', 1), ('mar', 1), ('rea', 2), ('him', 1), ('but', 1), ('whe', 1), ('let', 2), ('use', 1), ('dep', 1), ('chi', 1), ('did', 2), ('app', 1), ('inc', 1), ('con', 1), ('sti', 1), ('get', 1), ('don', 1), ('hav', 1), ('tax', 1)]\n",
      "\n",
      "Term Frequency:\n",
      "\n",
      "[('liv', 0.03571), ('lou', 0.01786), ('wit', 0.03571), ('gir', 0.05357), ('and', 0.08929), ('5mo', 0.01786), ('bab', 0.07143), ('how', 0.05357), ('sho', 0.03571), ('fil', 0.03571), ('goi', 0.01786), ('bac', 0.03571), ('sch', 0.03571), ('try', 0.01786), ('bet', 0.01786), ('for', 0.05357), ('her', 0.08929), ('cla', 0.08929), ('the', 0.10714), ('eve', 0.01786), ('tho', 0.01786), ('she', 0.10714), ('has', 0.03571), ('wor', 0.05357), ('day', 0.01786), ('thi', 0.01786), ('yea', 0.01786), ('wil', 0.05357), ('tha', 0.05357), ('eff', 0.01786), ('muc', 0.01786), ('rec', 0.01786), ('fin', 0.03571), ('aid', 0.03571), ('you', 0.16071), ('can', 0.03571), ('leg', 0.01786), ('unl', 0.01786), ('mar', 0.01786), ('rea', 0.03571), ('him', 0.01786), ('but', 0.01786), ('whe', 0.01786), ('let', 0.03571), ('use', 0.01786), ('dep', 0.01786), ('chi', 0.01786), ('did', 0.03571), ('app', 0.01786), ('inc', 0.01786), ('con', 0.01786), ('sti', 0.01786), ('get', 0.01786), ('don', 0.01786), ('hav', 0.01786), ('tax', 0.01786)]\n",
      "\n",
      "\n",
      "\n",
      "Index: 2 \tWords: 24\n",
      "--------------------------------\n",
      "Original:\n",
      "\n",
      "\"5\",\"Who knows a good website for my myspace background?\",\"I already went to www.freeweblayouts.net, but that didn't work, so i need some other websites for my myspace backgroung.\",\"how bout http://www.myspacepimper.com\\nor create your own at http://www.htmate2.com/mylook/\"\n",
      "\n",
      "Word frequency: \n",
      "\n",
      "[('who', 1), ('kno', 1), ('goo', 1), ('web', 2), ('for', 2), ('mys', 2), ('bac', 2), ('alr', 1), ('wen', 1), ('www', 3), ('but', 1), ('tha', 1), ('did', 1), ('wor', 1), ('nee', 1), ('som', 1), ('oth', 1), ('how', 1), ('bou', 1), ('htt', 2), ('cre', 1), ('you', 1), ('own', 1), ('myl', 1)]\n",
      "\n",
      "Term Frequency:\n",
      "\n",
      "[('who', 0.04167), ('kno', 0.04167), ('goo', 0.04167), ('web', 0.08333), ('for', 0.08333), ('mys', 0.08333), ('bac', 0.08333), ('alr', 0.04167), ('wen', 0.04167), ('www', 0.125), ('but', 0.04167), ('tha', 0.04167), ('did', 0.04167), ('wor', 0.04167), ('nee', 0.04167), ('som', 0.04167), ('oth', 0.04167), ('how', 0.04167), ('bou', 0.04167), ('htt', 0.08333), ('cre', 0.04167), ('you', 0.04167), ('own', 0.04167), ('myl', 0.04167)]\n",
      "\n",
      "\n",
      "\n",
      "\n",
      "\n",
      "-------------------------------------------\n",
      "|                                         |\n",
      "|                   TFIDF                 |\n",
      "|        (ngram, (doc_id, tfidf, ...))    |\n",
      "|                                         |\n",
      "-------------------------------------------\n",
      "('clo', (1, 0.28782))\n",
      "('lou', (2, 0.08225))\n",
      "('5mo', (2, 0.08225))\n",
      "('aid', (2, 0.1397))\n",
      "('web', (3, 0.32599))\n",
      "('myl', (3, 0.1919))\n",
      "('psy', (4, 0.38375))\n",
      "('amp', (5, 0.24237))\n",
      "('soa', (5, 0.24237))\n",
      "('jor', (6, 0.20023))\n",
      "('hll', (6, 0.20023))\n",
      "('nyc', (7, 0.07939))\n",
      "('pin', (7, 0.07939))\n",
      "('imh', (7, 0.07939))\n",
      "('fli', (8, 0.2445))\n",
      "('gee', (8, 0.2445))\n",
      "('noo', (8, 0.14391))\n",
      "('aud', (9, 0.13954))\n",
      "('ken', (9, 0.13954))\n",
      "('sty', (9, 0.13954))\n",
      "('cas', (10, 0.14391))\n",
      "('bil', (10, 0.14391))\n",
      "('aca', (11, 0.16445))\n",
      "('sem', (11, 0.27944))\n",
      "('bsc', (11, 0.27944))\n",
      "('nes', (12, 0.46025))\n",
      "('fan', (12, 0.27088))\n",
      "('gab', (12, 0.27088))\n",
      "('heh', (12, 0.27088))\n",
      "('rol', (13, 0.2445))\n",
      "('sp4', (13, 0.32874))\n",
      "('404', (13, 0.14391))\n",
      "('oug', (13, 0.14391))\n",
      "('ceo', (14, 0.03901))\n",
      "('jai', (14, 0.03901))\n",
      "('wic', (14, 0.03901))\n",
      "('enf', (14, 0.03901))\n",
      "('443', (14, 0.03901))\n",
      "('amn', (14, 0.03901))\n",
      "('upo', (14, 0.03901))\n",
      "('dru', (16, 0.17009))\n",
      "('125', (16, 0.17009))\n",
      "('alt', (16, 0.10012))\n",
      "('875', (16, 0.17009))\n",
      "('250', (16, 0.10012))\n",
      "('175', (16, 0.10012))\n",
      "('oop', (16, 0.10012))\n",
      "('142', (16, 0.10012))\n",
      "('exf', (17, 0.12448))\n",
      "('kil', (17, 0.12448))\n",
      "('laz', (18, 0.06259))\n",
      "('arn', (18, 0.03684))\n",
      "('eat', (18, 0.14892))\n",
      "('bod', (18, 0.03684))\n",
      "('esp', (18, 0.03684))\n",
      "('lil', (18, 0.03684))\n",
      "('sal', (18, 0.06259))\n",
      "('fuk', (18, 0.03684))\n",
      "('fav', (19, 0.18629))\n",
      "('epi', (19, 0.18629))\n",
      "('y2k', (19, 0.10965))\n",
      "('tow', (19, 0.10965))\n",
      "('bob', (19, 0.10965))\n",
      "('agu', (20, 0.12793))\n",
      "('iwa', (21, 0.12793))\n",
      "('het', (22, 0.06397))\n",
      "('ner', (22, 0.10868))\n",
      "('unb', (22, 0.06397))\n",
      "('gun', (23, 0.21735))\n",
      "('lie', (23, 0.35765))\n",
      "('o10', (23, 0.12793))\n",
      "('kel', (24, 0.08892))\n",
      "('fur', (24, 0.05231))\n",
      "('dro', (24, 0.05231))\n",
      "('ene', (24, 0.05231))\n",
      "('wiz', (25, 0.15879))\n",
      "('nyl', (26, 0.32895))\n",
      "('ww1', (27, 0.10012))\n",
      "('20t', (27, 0.10012))\n",
      "('iso', (27, 0.10012))\n",
      "('lob', (27, 0.10012))\n",
      "('abi', (27, 0.10012))\n",
      "('ger', (27, 0.10012))\n",
      "('ubo', (27, 0.10012))\n",
      "('zim', (27, 0.10012))\n",
      "('ros', (28, 0.10965))\n",
      "('gan', (28, 0.10965))\n",
      "('sph', (29, 0.31296))\n",
      "('rob', (29, 0.18421))\n",
      "('ofc', (29, 0.18421))\n",
      "('wef', (31, 0.15349))\n",
      "('hin', (31, 0.15349))\n",
      "('89y', (32, 0.05176))\n",
      "('moo', (32, 0.05176))\n",
      "('mom', (32, 0.05176))\n",
      "('nur', (33, 0.38961))\n",
      "('jok', (33, 0.17058))\n",
      "('rid', (33, 0.17058))\n",
      "('tob', (36, 0.17711))\n",
      "('dum', (37, 0.08077))\n",
      "('cak', (37, 0.08077))\n",
      "('dom', (37, 0.08077))\n",
      "('tot', (37, 0.08077))\n",
      "('una', (37, 0.08077))\n",
      "('dhs', (37, 0.08077))\n",
      "('enr', (38, 0.14391))\n",
      "('usa', (38, 0.14391))\n",
      "('1st', (38, 0.14391))\n",
      "('2nd', (38, 0.14391))\n",
      "('phd', (38, 0.14391))\n",
      "('kar', (39, 0.19482))\n",
      "('kat', (39, 0.19482))\n",
      "('lyr', (39, 0.08529))\n",
      "('jud', (39, 0.1449))\n",
      "('fit', (39, 0.08529))\n",
      "('shi', (39, 0.08529))\n",
      "('beh', (40, 0.06998))\n",
      "('mum', (40, 0.08139))\n",
      "('beo', (40, 0.02501))\n",
      "('fig', (40, 0.02501))\n",
      "('mix', (40, 0.02501))\n",
      "('doc', (40, 0.02501))\n",
      "('yah', (40, 0.02501))\n",
      "('opi', (40, 0.02501))\n",
      "('dbs', (42, 0.41866))\n",
      "('nop', (42, 0.41866))\n",
      "('afg', (43, 0.08372))\n",
      "('ako', (43, 0.08372))\n",
      "('80s', (44, 0.25586))\n",
      "('bli', (44, 0.25586))\n",
      "('sco', (44, 0.43466))\n",
      "('kic', (44, 0.25586))\n",
      "('fum', (44, 0.25586))\n",
      "('171', (44, 0.25586))\n",
      "('oft', (45, 0.14391))\n",
      "('gau', (45, 0.2445))\n",
      "('tss', (45, 0.2445))\n",
      "('cut', (45, 0.14391))\n",
      "('rar', (45, 0.14391))\n",
      "('tin', (45, 0.14391))\n",
      "('hyg', (45, 0.14391))\n",
      "('twi', (45, 0.14391))\n",
      "('wet', (45, 0.14391))\n",
      "('ble', (45, 0.14391))\n",
      "('bio', (46, 0.15879))\n",
      "('aki', (47, 0.11808))\n",
      "('adu', (47, 0.11808))\n",
      "('alg', (48, 0.28976))\n",
      "('bal', (48, 0.17058))\n",
      "('ion', (48, 0.17058))\n",
      "('fai', (48, 0.28976))\n",
      "('bru', (49, 0.17058))\n",
      "('jur', (49, 0.17058))\n",
      "('ele', (50, 0.10468))\n",
      "('bbc', (50, 0.1778))\n",
      "('azn', (52, 0.0869))\n",
      "('oba', (52, 0.0869))\n",
      "('ivy', (52, 0.0869))\n",
      "('deg', (52, 0.0869))\n",
      "('fix', (53, 0.0921))\n",
      "('hai', (53, 0.0921))\n",
      "('yet', (53, 0.0921))\n",
      "('bud', (53, 0.0921))\n",
      "('wig', (53, 0.0921))\n",
      "('usi', (54, 0.13954))\n",
      "('pag', (54, 0.13954))\n",
      "('gma', (55, 0.35564))\n",
      "('sms', (55, 0.2093))\n",
      "('ana', (57, 0.18421))\n",
      "('rev', (57, 0.18421))\n",
      "('seq', (58, 0.05061))\n",
      "('vol', (58, 0.05061))\n",
      "('148', (58, 0.05061))\n",
      "('tit', (58, 0.05061))\n",
      "('ost', (58, 0.05061))\n",
      "('220', (58, 0.05061))\n",
      "('acr', (58, 0.08599))\n",
      "('myc', (58, 0.05061))\n",
      "('veg', (58, 0.05061))\n",
      "('asp', (58, 0.05061))\n",
      "('ori', (58, 0.05061))\n",
      "('roo', (58, 0.05061))\n",
      "('cov', (58, 0.05061))\n",
      "('200', (58, 0.08599))\n",
      "('660', (58, 0.05061))\n",
      "('ree', (58, 0.08599))\n",
      "('abt', (59, 0.10712))\n",
      "('upg', (59, 0.10712))\n",
      "('ddr', (59, 0.10712))\n",
      "('ram', (59, 0.10712))\n",
      "('luc', (59, 0.10712))\n",
      "('joh', (60, 0.19083))\n",
      "('15y', (60, 0.11232))\n",
      "('300', (60, 0.11232))\n",
      "('yrs', (60, 0.11232))\n",
      "('dor', (61, 0.1919))\n",
      "('jou', (61, 0.53649))\n",
      "('lqu', (61, 0.32599))\n",
      "('tro', (61, 0.1919))\n",
      "('dun', (61, 0.1919))\n",
      "('rie', (61, 0.1919))\n",
      "('voi', (61, 0.1919))\n",
      "('2da', (62, 0.06581))\n",
      "('hos', (62, 0.11177))\n",
      "('199', (62, 0.06581))\n",
      "('stl', (62, 0.06581))\n",
      "('nau', (62, 0.06581))\n",
      "('fly', (62, 0.06581))\n",
      "('noi', (62, 0.06581))\n",
      "('swe', (62, 0.06581))\n",
      "('ahm', (63, 0.1919))\n",
      "('guj', (63, 0.1919))\n",
      "('air', (63, 0.1919))\n",
      "('ada', (65, 0.16301))\n",
      "('19v', (65, 0.09593))\n",
      "('63a', (65, 0.09593))\n",
      "('p35', (65, 0.09593))\n",
      "('120', (65, 0.09593))\n",
      "('oun', (66, 0.38961))\n",
      "('nef', (66, 0.17058))\n",
      "('ull', (66, 0.17058))\n",
      "('awn', (70, 0.09031))\n",
      "('tee', (70, 0.09031))\n",
      "('sad', (70, 0.09031))\n",
      "('pie', (72, 0.31026))\n",
      "('500', (72, 0.07677))\n",
      "('coi', (72, 0.2146))\n",
      "('rup', (72, 0.2146))\n",
      "('mau', (72, 0.07677))\n",
      "('nep', (72, 0.07677))\n",
      "('pak', (72, 0.07677))\n",
      "('sey', (72, 0.07677))\n",
      "('sri', (72, 0.07677))\n",
      "('1pi', (72, 0.13039))\n",
      "('1an', (72, 0.07677))\n",
      "('003', (72, 0.07677))\n",
      "('160', (72, 0.07677))\n",
      "('000', (72, 0.07677))\n",
      "('700', (73, 0.10712))\n",
      "('cin', (73, 0.18195))\n",
      "('rub', (73, 0.10712))\n",
      "('sue', (73, 0.10712))\n",
      "('zed', (73, 0.10712))\n",
      "('kas', (74, 0.14856))\n",
      "('hyp', (74, 0.14856))\n",
      "('giu', (74, 0.14856))\n",
      "('mez', (74, 0.14856))\n",
      "('19t', (74, 0.14856))\n",
      "('ita', (74, 0.14856))\n",
      "('vel', (75, 0.13486))\n",
      "('upw', (75, 0.05904))\n",
      "('hei', (75, 0.21641))\n",
      "('65t', (75, 0.1003))\n",
      "('40t', (75, 0.1003))\n",
      "('max', (75, 0.19203))\n",
      "('der', (75, 0.21641))\n",
      "('tan', (75, 0.05904))\n",
      "('ht0', (75, 0.05904))\n",
      "('neg', (75, 0.13486))\n",
      "('val', (75, 0.13486))\n",
      "('ht1', (75, 0.05904))\n",
      "('t40', (75, 0.05904))\n",
      "('h40', (75, 0.05904))\n",
      "('teh', (75, 0.05904))\n",
      "('eth', (76, 0.0297))\n",
      "('uto', (76, 0.0297))\n",
      "('acq', (76, 0.0297))\n",
      "('eso', (76, 0.0297))\n",
      "('ach', (76, 0.08308))\n",
      "('enl', (76, 0.0297))\n",
      "('exi', (76, 0.0297))\n",
      "('rul', (76, 0.0297))\n",
      "('net', (76, 0.0297))\n",
      "('evo', (76, 0.05047))\n",
      "('dvd', (77, 0.86933))\n",
      "('rrw', (77, 0.51168))\n",
      "('pan', (78, 0.07083))\n",
      "('nas', (78, 0.07083))\n",
      "('nic', (78, 0.07083))\n",
      "('vou', (79, 0.11513))\n",
      "('pub', (79, 0.1956))\n",
      "('smo', (80, 0.16941))\n",
      "('hey', (80, 0.0606))\n",
      "('idi', (80, 0.0606))\n",
      "('aco', (80, 0.0606))\n",
      "('ott', (81, 0.07806))\n",
      "('six', (81, 0.07806))\n",
      "('roa', (81, 0.07806))\n",
      "('tun', (81, 0.07806))\n",
      "('avi', (82, 0.20023))\n",
      "('mpg', (82, 0.20023))\n",
      "('vid', (82, 0.20023))\n",
      "('wag', (83, 0.07548))\n",
      "('red', (83, 0.07548))\n",
      "('fie', (83, 0.07548))\n",
      "('fak', (85, 0.26081))\n",
      "('aru', (85, 0.15349))\n",
      "('191', (86, 0.15879))\n",
      "('192', (86, 0.15879))\n",
      "('211', (87, 0.15648))\n",
      "('vod', (87, 0.0921))\n",
      "('mik', (87, 0.0921))\n",
      "('mer', (87, 0.15648))\n",
      "('lef', (87, 0.0921))\n",
      "('grr', (87, 0.0921))\n",
      "('thx', (88, 0.0256))\n",
      "('pap', (88, 0.0256))\n",
      "('pun', (88, 0.0256))\n",
      "('tap', (88, 0.05845))\n",
      "('due', (88, 0.0256))\n",
      "('syn', (88, 0.0256))\n",
      "('err', (88, 0.0256))\n",
      "('edi', (88, 0.0256))\n",
      "('cod', (88, 0.0256))\n",
      "('seg', (88, 0.0256))\n",
      "('hib', (88, 0.0256))\n",
      "('sei', (88, 0.0256))\n",
      "('hog', (88, 0.0256))\n",
      "('197', (88, 0.0256))\n",
      "('hew', (88, 0.0256))\n",
      "('hp3', (88, 0.0256))\n",
      "('mac', (88, 0.0256))\n",
      "('iic', (88, 0.0256))\n",
      "('iie', (88, 0.0256))\n",
      "('ami', (88, 0.0256))\n",
      "('fea', (88, 0.0256))\n",
      "('iig', (88, 0.0256))\n",
      "('abs', (88, 0.0256))\n",
      "('tai', (88, 0.04346))\n",
      "('twe', (90, 0.28782))\n",
      "('tie', (90, 0.28782))\n",
      "('18y', (91, 0.04799))\n",
      "('nie', (91, 0.04799))\n",
      "('pul', (91, 0.04799))\n",
      "('swi', (91, 0.04799))\n",
      "('fis', (91, 0.04799))\n",
      "('dos', (91, 0.04799))\n",
      "('xan', (91, 0.04799))\n",
      "('pot', (91, 0.04799))\n",
      "('fru', (91, 0.04799))\n",
      "('obj', (93, 1.15129))\n",
      "('hls', (94, 0.12793))\n",
      "('isl', (94, 0.12793))\n",
      "('por', (94, 0.12793))\n",
      "('jih', (94, 0.12793))\n",
      "('leo', (95, 0.10965))\n",
      "('coz', (95, 0.10965))\n",
      "('ont', (96, 0.27088))\n",
      "('suf', (97, 0.03912))\n",
      "('unp', (97, 0.02303))\n",
      "('lac', (97, 0.02303))\n",
      "('bul', (97, 0.02303))\n",
      "('cow', (97, 0.02303))\n",
      "('key', (97, 0.03912))\n",
      "('tip', (97, 0.02303))\n",
      "('cir', (97, 0.02303))\n",
      "('dia', (97, 0.02303))\n",
      "('gym', (97, 0.02303))\n",
      "('din', (97, 0.02303))\n",
      "('lim', (97, 0.02303))\n",
      "('sui', (97, 0.0526))\n",
      "('ris', (97, 0.02303))\n",
      "('hot', (97, 0.02303))\n",
      "('gfi', (97, 0.02303))\n",
      "('sna', (97, 0.03912))\n",
      "('ven', (98, 0.1919))\n",
      "('toy', (100, 0.18455))\n",
      "('tex', (100, 0.08077))\n",
      "('var', (100, 0.08077))\n",
      "('woo', (100, 0.08077))\n",
      "('puz', (100, 0.08077))\n",
      "('enc', (100, 0.13727))\n",
      "('dup', (100, 0.08077))\n",
      "('haz', (100, 0.08077))\n",
      "('hur', (100, 0.08077))\n",
      "('mil', (1, 0.99722, 14, 0.02252))\n",
      "('bab', (2, 0.20096, 22, 0.07816))\n",
      "('unl', (2, 0.06987, 97, 0.01956))\n",
      "('bou', (3, 0.16301, 97, 0.01956))\n",
      "('tea', (4, 0.32599, 40, 0.02124))\n",
      "('mee', (4, 0.24963, 40, 0.06513))\n",
      "('ema', (5, 0.20589, 43, 0.07112))\n",
      "('enw', (5, 0.20589, 77, 0.43466))\n",
      "('wik', (5, 0.20589, 77, 0.43466))\n",
      "('cub', (7, 0.06744, 87, 0.07824))\n",
      "('blu', (7, 0.06744, 88, 0.02175))\n",
      "('fra', (7, 0.05165, 61, 0.4993))\n",
      "('div', (7, 0.06744, 66, 0.1449))\n",
      "('lib', (7, 0.06744, 80, 0.05148))\n",
      "('oka', (8, 0.12225, 57, 0.15648))\n",
      "('gla', (8, 0.12225, 98, 0.16301))\n",
      "('ign', (8, 0.12225, 40, 0.02124))\n",
      "('hit', (9, 0.10625, 91, 0.07304))\n",
      "('tou', (10, 0.12225, 61, 0.16301))\n",
      "('dip', (11, 0.12522, 38, 0.21916))\n",
      "('rap', (13, 0.30177, 61, 0.13413))\n",
      "('sav', (13, 0.12225, 88, 0.02175))\n",
      "('agr', (14, 0.03313, 29, 0.15648))\n",
      "('emp', (14, 0.05944, 78, 0.05393))\n",
      "('cru', (14, 0.03313, 97, 0.01956))\n",
      "('mex', (14, 0.03313, 52, 0.07382))\n",
      "('bor', (14, 0.08182, 40, 0.01748))\n",
      "('pay', (14, 0.05944, 79, 0.08766))\n",
      "('inn', (14, 0.05944, 76, 0.02262))\n",
      "('pus', (14, 0.03313, 27, 0.08505))\n",
      "('iss', (15, 0.30091, 91, 0.04076))\n",
      "('ant', (16, 0.15247, 98, 0.14612))\n",
      "('cri', (17, 0.10574, 97, 0.01956))\n",
      "('fut', (17, 0.10574, 76, 0.02523))\n",
      "('abl', (17, 0.10574, 52, 0.07382))\n",
      "('fel', (18, 0.02805, 81, 0.11887))\n",
      "('ass', (18, 0.0313, 33, 0.1449))\n",
      "('opp', (18, 0.02805, 27, 0.15247))\n",
      "('foo', (18, 0.0313, 44, 0.21735))\n",
      "('met', (18, 0.09003, 95, 0.13397))\n",
      "('slo', (18, 0.0561, 75, 0.04495))\n",
      "('pet', (19, 0.16698, 78, 0.05393))\n",
      "('gia', (19, 0.09315, 58, 0.04299))\n",
      "('sid', (19, 0.09315, 27, 0.08505))\n",
      "('doo', (20, 0.10868, 91, 0.04076))\n",
      "('spr', (21, 0.10868, 96, 0.23011))\n",
      "('tod', (22, 0.05434, 91, 0.04076))\n",
      "('ups', (22, 0.05434, 40, 0.02124))\n",
      "('lev', (23, 0.09741, 87, 0.14026))\n",
      "('mas', (23, 0.19482, 38, 0.10958))\n",
      "('fiv', (23, 0.10868, 81, 0.06631))\n",
      "('tem', (24, 0.15986, 76, 0.01815))\n",
      "('dee', (24, 0.04444, 76, 0.02523))\n",
      "('600', (24, 0.04444, 60, 0.09541))\n",
      "('bey', (24, 0.04444, 76, 0.02523))\n",
      "('100', (24, 0.0797, 60, 0.08552))\n",
      "('hug', (24, 0.04444, 62, 0.0559))\n",
      "('squ', (24, 0.04444, 87, 0.07824))\n",
      "('pho', (24, 0.04444, 55, 0.1778))\n",
      "('reg', (24, 0.04444, 97, 0.01956))\n",
      "('wir', (25, 0.22201, 34, 0.18393))\n",
      "('zer', (25, 0.11099, 75, 0.1238))\n",
      "('rei', (25, 0.13489, 73, 0.09099))\n",
      "('hum', (26, 0.21399, 76, 0.07732))\n",
      "('ame', (27, 0.07623, 83, 0.11498))\n",
      "('eur', (27, 0.08505, 83, 0.06412))\n",
      "('geo', (27, 0.08505, 48, 0.1449))\n",
      "('ret', (27, 0.08505, 83, 0.06412))\n",
      "('dan', (28, 0.15328, 61, 0.26823))\n",
      "('dai', (28, 0.08349, 45, 0.21916))\n",
      "('hah', (28, 0.09315, 87, 0.07824))\n",
      "('gue', (28, 0.09315, 30, 0.07671))\n",
      "('yal', (28, 0.08349, 70, 0.13753))\n",
      "('env', (29, 0.14026, 76, 0.04523))\n",
      "('siz', (29, 0.15648, 47, 0.1003))\n",
      "('rac', (30, 0.23496, 76, 0.01932))\n",
      "('cli', (30, 0.23496, 77, 0.33286))\n",
      "('hor', (32, 0.03941, 62, 0.10018))\n",
      "('nex', (36, 0.15046, 88, 0.02175))\n",
      "('flo', (37, 0.12305, 76, 0.02262))\n",
      "('lab', (37, 0.06151, 83, 0.11498))\n",
      "('cer', (38, 0.21916, 61, 0.14612))\n",
      "('god', (39, 0.0521, 76, 0.09076))\n",
      "('hat', (39, 0.07245, 78, 0.06017))\n",
      "('pac', (39, 0.07245, 44, 0.21735))\n",
      "('goe', (40, 0.02124, 41, 0.23011))\n",
      "('ski', (40, 0.02124, 78, 0.06017))\n",
      "('sis', (40, 0.02124, 97, 0.01956))\n",
      "('dad', (40, 0.06513, 91, 0.03122))\n",
      "('ter', (40, 0.03812, 69, 0.15247))\n",
      "('vio', (40, 0.02124, 91, 0.04076))\n",
      "('abu', (40, 0.02124, 97, 0.01956))\n",
      "('sym', (40, 0.02124, 98, 0.16301))\n",
      "('joi', (40, 0.02124, 43, 0.07112))\n",
      "('ord', (40, 0.02124, 76, 0.02523))\n",
      "('opt', (42, 0.35564, 59, 0.09099))\n",
      "('arm', (43, 0.25577, 58, 0.03092))\n",
      "('ama', (43, 0.07112, 95, 0.09315))\n",
      "('dig', (43, 0.05852, 72, 0.16094))\n",
      "('nig', (44, 0.21735, 95, 0.09315))\n",
      "('198', (44, 0.21735, 88, 0.02175))\n",
      "('gol', (47, 0.1003, 76, 0.02523))\n",
      "('usu', (47, 0.1003, 88, 0.02175))\n",
      "('rip', (47, 0.1003, 87, 0.07824))\n",
      "('amo', (48, 0.25973, 97, 0.01753))\n",
      "('sky', (50, 0.15937, 95, 0.08349))\n",
      "('mir', (50, 0.15937, 81, 0.05944))\n",
      "('mal', (52, 0.07382, 58, 0.04299))\n",
      "('eye', (53, 0.14026, 100, 0.06151))\n",
      "('bat', (54, 0.36311, 88, 0.01666))\n",
      "('cel', (55, 0.15937, 76, 0.04523))\n",
      "('bre', (56, 0.2445, 83, 0.06412))\n",
      "('eco', (57, 0.15648, 83, 0.06412))\n",
      "('org', (58, 0.1546, 73, 0.06544))\n",
      "('mod', (59, 0.14971, 88, 0.03576))\n",
      "('det', (59, 0.09099, 78, 0.06017))\n",
      "('men', (62, 0.0559, 76, 0.02523))\n",
      "('wif', (62, 0.10018, 99, 0.26972))\n",
      "('sic', (62, 0.0559, 69, 0.17009))\n",
      "('clu', (62, 0.046, 80, 0.12705))\n",
      "('wes', (62, 0.0559, 63, 0.16301))\n",
      "('spi', (62, 0.0559, 76, 0.02523))\n",
      "('pou', (62, 0.046, 66, 0.35765))\n",
      "('isn', (62, 0.046, 97, 0.04828))\n",
      "('die', (62, 0.05011, 76, 0.04523))\n",
      "('poo', (62, 0.0559, 76, 0.02523))\n",
      "('sat', (65, 0.14612, 99, 0.26972))\n",
      "('plu', (65, 0.08149, 75, 0.05015))\n",
      "('pit', (68, 0.7824, 97, 0.01956))\n",
      "('sla', (69, 0.30493, 91, 0.03654))\n",
      "('irr', (72, 0.06521, 88, 0.02175))\n",
      "('cur', (72, 0.14979, 97, 0.02996))\n",
      "('ann', (72, 0.16094, 99, 0.2476))\n",
      "('saw', (73, 0.09099, 95, 0.09315))\n",
      "('tor', (73, 0.09099, 89, 0.3912))\n",
      "('ini', (75, 0.05015, 86, 0.13489))\n",
      "('dur', (76, 0.02523, 95, 0.09315))\n",
      "('non', (76, 0.04523, 80, 0.04615))\n",
      "('sci', (76, 0.02523, 81, 0.06631))\n",
      "('unt', (76, 0.02262, 88, 0.03896))\n",
      "('loa', (78, 0.04607, 88, 0.06657))\n",
      "('wro', (79, 0.0978, 88, 0.02175))\n",
      "('bro', (80, 0.04236, 91, 0.10059))\n",
      "('typ', (81, 0.06631, 88, 0.02175))\n",
      "('rad', (81, 0.06631, 87, 0.07824))\n",
      "('job', (83, 0.0491, 88, 0.06657))\n",
      "('mou', (84, 0.35564, 88, 0.02175))\n",
      "('imp', (88, 0.02175, 97, 0.01956))\n",
      "('cat', (91, 0.07304, 97, 0.01753))\n",
      "('few', (95, 0.09315, 97, 0.01956))\n",
      "('far', (1, 0.40236, 81, 0.05456, 97, 0.01609))\n",
      "('ave', (1, 0.21916, 24, 0.03983, 61, 0.14612))\n",
      "('bit', (1, 0.21916, 18, 0.02805, 99, 0.26972))\n",
      "('cla', (2, 0.23745, 23, 0.07387, 53, 0.05319))\n",
      "('eff', (2, 0.06263, 14, 0.0297, 40, 0.01904))\n",
      "('leg', (2, 0.06263, 6, 0.15247, 76, 0.02262))\n",
      "('tax', (2, 0.04749, 14, 0.11267, 83, 0.04359))\n",
      "('mys', (3, 0.26823, 40, 0.01748, 96, 0.18933))\n",
      "('son', (6, 0.11562, 39, 0.19697, 61, 0.2216))\n",
      "('awa', (7, 0.06045, 18, 0.02805, 81, 0.05944))\n",
      "('sug', (7, 0.05549, 32, 0.03618, 40, 0.03499))\n",
      "('lar', (7, 0.04585, 58, 0.14613, 97, 0.0133))\n",
      "('ban', (7, 0.05165, 50, 0.06809, 80, 0.11824))\n",
      "('bea', (7, 0.05165, 13, 0.28085, 76, 0.01932))\n",
      "('lov', (8, 0.05928, 76, 0.01224, 97, 0.12331))\n",
      "('vis', (9, 0.10625, 14, 0.0297, 76, 0.02262))\n",
      "('doi', (9, 0.1951, 17, 0.08701, 70, 0.06312))\n",
      "('spa', (10, 0.10958, 58, 0.03854, 99, 0.26972))\n",
      "('ide', (10, 0.10958, 20, 0.09741, 58, 0.03854))\n",
      "('mul', (10, 0.07893, 65, 0.05261, 88, 0.08418))\n",
      "('pur', (11, 0.09019, 56, 0.31572, 76, 0.08148))\n",
      "('edu', (11, 0.20096, 14, 0.02383, 79, 0.21101))\n",
      "('gon', (13, 0.10958, 22, 0.04871, 32, 0.03941))\n",
      "('ill', (14, 0.07152, 62, 0.0402, 97, 0.02813))\n",
      "('cos', (14, 0.02726, 76, 0.02076, 83, 0.10555))\n",
      "('imm', (14, 0.09537, 70, 0.05517, 76, 0.01815))\n",
      "('soc', (14, 0.0297, 40, 0.01904, 76, 0.02262))\n",
      "('eme', (14, 0.0297, 49, 0.12988, 97, 0.01753))\n",
      "('kin', (14, 0.0297, 22, 0.04871, 24, 0.03983))\n",
      "('ten', (14, 0.0297, 20, 0.09741, 71, 0.07013))\n",
      "('les', (14, 0.0297, 18, 0.02805, 61, 0.14612))\n",
      "('gov', (14, 0.08562, 37, 0.08863, 79, 0.12629))\n",
      "('sub', (14, 0.02537, 72, 0.09985, 88, 0.03328))\n",
      "('wri', (16, 0.18349, 36, 0.1082, 88, 0.03126))\n",
      "('top', (16, 0.06513, 40, 0.01627, 88, 0.04994))\n",
      "('bot', (16, 0.07623, 30, 0.06876, 32, 0.03941))\n",
      "('equ', (16, 0.07623, 48, 0.12988, 66, 0.12988))\n",
      "('gai', (18, 0.02805, 69, 0.15247, 76, 0.02262))\n",
      "('wei', (18, 0.0719, 37, 0.05255, 58, 0.03292))\n",
      "('add', (18, 0.02805, 43, 0.06375, 91, 0.03654))\n",
      "('exa', (18, 0.02805, 71, 0.07013, 88, 0.0195))\n",
      "('lol', (18, 0.02575, 31, 0.2146, 100, 0.05646))\n",
      "('rud', (18, 0.02397, 70, 0.17621, 78, 0.04607))\n",
      "('sor', (18, 0.02805, 47, 0.08991, 64, 0.58444))\n",
      "('pat', (20, 0.09741, 61, 0.14612, 69, 0.15247))\n",
      "('pai', (21, 0.08942, 62, 0.09196, 73, 0.07487))\n",
      "('sof', (21, 0.08322, 62, 0.04281, 85, 0.29957))\n",
      "('sex', (22, 0.04871, 51, 0.12522, 76, 0.02262))\n",
      "('hes', (22, 0.04871, 40, 0.01904, 97, 0.01753))\n",
      "('soo', (22, 0.04871, 70, 0.06876, 80, 0.04615))\n",
      "('hus', (22, 0.04161, 32, 0.06731, 78, 0.09218))\n",
      "('low', (23, 0.08942, 70, 0.06312, 83, 0.10555))\n",
      "('cap', (23, 0.09741, 88, 0.0195, 94, 0.09741))\n",
      "('dir', (24, 0.03983, 87, 0.07013, 97, 0.01753))\n",
      "('ent', (24, 0.03657, 27, 0.13996, 98, 0.13413))\n",
      "('def', (24, 0.07317, 53, 0.06438, 58, 0.03538))\n",
      "('lap', (25, 0.12091, 34, 0.10018, 65, 0.07304))\n",
      "('sys', (25, 0.1356, 80, 0.02587, 88, 0.12015))\n",
      "('beg', (27, 0.07623, 40, 0.01904, 88, 0.0195))\n",
      "('att', (27, 0.06998, 53, 0.06438, 91, 0.06705))\n",
      "('aff', (27, 0.06998, 30, 0.06312, 97, 0.03219))\n",
      "('lau', (28, 0.08349, 90, 0.21916, 97, 0.01753))\n",
      "('sai', (29, 0.10637, 40, 0.07225, 49, 0.0985))\n",
      "('bla', (30, 0.12624, 33, 0.11923, 39, 0.05961))\n",
      "('coo', (32, 0.03941, 67, 0.50095, 76, 0.02262))\n",
      "('cle', (32, 0.03941, 33, 0.12988, 52, 0.06617))\n",
      "('alo', (32, 0.03618, 81, 0.05456, 97, 0.03219))\n",
      "('mad', (33, 0.11923, 40, 0.01748, 91, 0.06705))\n",
      "('sin', (33, 0.12988, 71, 0.07013, 72, 0.05845))\n",
      "('deb', (33, 0.12988, 50, 0.0797, 88, 0.0195))\n",
      "('rou', (34, 0.10018, 65, 0.07304, 73, 0.08156))\n",
      "('ton', (35, 0.21641, 47, 0.28854, 58, 0.03092))\n",
      "('fri', (37, 0.03872, 43, 0.04013, 97, 0.09933))\n",
      "('spo', (37, 0.06151, 71, 0.07013, 95, 0.08349))\n",
      "('nor', (40, 0.06116, 83, 0.04611, 88, 0.01564))\n",
      "('sca', (40, 0.06862, 78, 0.07772, 94, 0.07016))\n",
      "('ang', (40, 0.04586, 83, 0.04611, 91, 0.0586))\n",
      "('mem', (40, 0.01627, 59, 0.13933, 88, 0.03328))\n",
      "('phy', (40, 0.01904, 48, 0.12988, 76, 0.02262))\n",
      "('las', (43, 0.06375, 72, 0.05845, 100, 0.06151))\n",
      "('asi', (52, 0.05653, 72, 0.14979, 97, 0.01498))\n",
      "('run', (52, 0.0742, 58, 0.02161, 88, 0.12015))\n",
      "('glo', (57, 0.11254, 83, 0.18448, 94, 0.07816))\n",
      "('tre', (58, 0.14553, 86, 0.22834, 97, 0.02207))\n",
      "('nea', (59, 0.08156, 63, 0.14612, 100, 0.06151))\n",
      "('age', (60, 0.14613, 63, 0.24963, 97, 0.01498))\n",
      "('vir', (62, 0.046, 76, 0.04152, 98, 0.13413))\n",
      "('tos', (65, 0.13413, 73, 0.07487, 75, 0.04127))\n",
      "('pra', (71, 0.11983, 76, 0.01932, 97, 0.02996))\n",
      "('dev', (76, 0.01553, 83, 0.19738, 88, 0.04014))\n",
      "('dre', (76, 0.02262, 81, 0.05944, 97, 0.01753))\n",
      "('dea', (80, 0.04615, 88, 0.0195, 97, 0.01753))\n",
      "('scr', (81, 0.05944, 88, 0.0195, 91, 0.03654))\n",
      "('sun', (1, 0.35571, 24, 0.19402, 41, 0.11159, 50, 0.08622))\n",
      "('lit', (1, 0.18723, 8, 0.09362, 29, 0.11983, 32, 0.06731))\n",
      "('let', (2, 0.09496, 31, 0.26593, 34, 0.07598, 91, 0.02771))\n",
      "('bra', (4, 0.26823, 8, 0.10059, 68, 0.64378, 98, 0.13413))\n",
      "('sig', (5, 0.39879, 15, 0.19428, 55, 0.22961, 86, 0.1742))\n",
      "('fol', (6, 0.1047, 25, 0.08303, 76, 0.04659, 85, 0.32105))\n",
      "('art', (6, 0.13025, 34, 0.17118, 66, 0.11096, 76, 0.01932))\n",
      "('cit', (7, 0.07035, 14, 0.13833, 52, 0.077, 63, 0.08502))\n",
      "('san', (7, 0.04585, 29, 0.42548, 87, 0.05319, 91, 0.02771))\n",
      "('pop', (7, 0.05549, 39, 0.05961, 58, 0.03538, 74, 0.10384))\n",
      "('onc', (9, 0.09077, 20, 0.16644, 81, 0.05078, 88, 0.01666))\n",
      "('rat', (9, 0.06977, 16, 0.35038, 86, 0.07939, 94, 0.06397))\n",
      "('wai', (10, 0.18723, 51, 0.10698, 78, 0.04607, 88, 0.01666))\n",
      "('gra', (11, 0.10047, 38, 0.17584, 60, 0.06862, 91, 0.0586))\n",
      "('mis', (11, 0.11495, 31, 0.10729, 76, 0.02076, 88, 0.0179))\n",
      "('eas', (14, 0.02537, 21, 0.08322, 75, 0.03841, 97, 0.02996))\n",
      "('law', (14, 0.04769, 32, 0.06322, 52, 0.05309, 60, 0.06862))\n",
      "('qui', (14, 0.02726, 18, 0.02575, 40, 0.01748, 95, 0.07664))\n",
      "('bus', (14, 0.02139, 22, 0.03508, 30, 0.24762, 83, 0.0414))\n",
      "('exc', (14, 0.02726, 63, 0.13413, 88, 0.0179, 97, 0.01609))\n",
      "('tur', (14, 0.02726, 24, 0.03657, 56, 0.20118, 97, 0.01609))\n",
      "('cam', (14, 0.02726, 21, 0.08942, 52, 0.06074, 65, 0.06705))\n",
      "('qua', (14, 0.02726, 17, 0.08701, 40, 0.01748, 76, 0.02076))\n",
      "('pea', (14, 0.02537, 61, 0.12483, 76, 0.03864, 86, 0.10329))\n",
      "('mai', (14, 0.02537, 33, 0.11096, 72, 0.04994, 88, 0.03328))\n",
      "('pri', (16, 0.23993, 23, 0.12264, 79, 0.05518, 88, 0.0368))\n",
      "('num', (16, 0.18349, 65, 0.0586, 72, 0.0469, 76, 0.01815))\n",
      "('den', (17, 0.05731, 40, 0.02305, 44, 0.35338, 78, 0.19572))\n",
      "('els', (17, 0.08701, 70, 0.06312, 78, 0.04951, 87, 0.06438))\n",
      "('los', (18, 0.04793, 24, 0.03403, 32, 0.03367, 62, 0.04281))\n",
      "('mos', (18, 0.04501, 30, 0.11034, 40, 0.01528, 74, 0.09076))\n",
      "('kne', (18, 0.02575, 40, 0.01748, 69, 0.13996, 97, 0.01609))\n",
      "('exe', (18, 0.10103, 76, 0.01629, 83, 0.0414, 88, 0.01404))\n",
      "('boo', (19, 0.07664, 25, 0.11099, 50, 0.07317, 76, 0.02076))\n",
      "('war', (19, 0.06014, 23, 0.3508, 27, 0.05491, 37, 0.0443))\n",
      "('hon', (19, 0.07664, 58, 0.03538, 78, 0.04951, 88, 0.0179))\n",
      "('aut', (21, 0.08942, 28, 0.07664, 47, 0.08253, 80, 0.04236))\n",
      "('boy', (22, 0.04471, 91, 0.03354, 97, 0.01609, 100, 0.05646))\n",
      "('fou', (23, 0.08942, 57, 0.12876, 58, 0.03538, 72, 0.05366))\n",
      "('est', (24, 0.03657, 58, 0.03538, 65, 0.06705, 70, 0.06312))\n",
      "('lig', (24, 0.03657, 35, 0.2476, 62, 0.046, 95, 0.07664))\n",
      "('dat', (25, 0.11099, 43, 0.05852, 54, 0.09753, 88, 0.0179))\n",
      "('pol', (30, 0.06312, 47, 0.08253, 50, 0.07317, 73, 0.07487))\n",
      "('pow', (30, 0.04953, 65, 0.26311, 76, 0.01629, 97, 0.01263))\n",
      "('mot', (32, 0.03618, 40, 0.01748, 80, 0.04236, 97, 0.01609))\n",
      "('eno', (32, 0.03367, 51, 0.10698, 71, 0.05991, 100, 0.10512))\n",
      "('wee', (32, 0.11351, 40, 0.01371, 62, 0.07216, 95, 0.06014))\n",
      "('tal', (32, 0.06322, 39, 0.0521, 53, 0.11254, 97, 0.01407))\n",
      "('set', (34, 0.09196, 41, 0.18933, 60, 0.07851, 97, 0.01609))\n",
      "('put', (37, 0.05255, 39, 0.05548, 70, 0.11749, 97, 0.01498))\n",
      "('rai', (37, 0.05255, 52, 0.05653, 69, 0.26051, 76, 0.01932))\n",
      "('tog', (39, 0.05961, 65, 0.06705, 80, 0.04236, 97, 0.01609))\n",
      "('nev', (40, 0.07509, 91, 0.02399, 97, 0.02303, 100, 0.04039))\n",
      "('lat', (40, 0.01748, 71, 0.06438, 74, 0.10384, 88, 0.0179))\n",
      "('hou', (40, 0.01627, 78, 0.04607, 88, 0.01666, 97, 0.02996))\n",
      "('tri', (40, 0.01748, 48, 0.11923, 49, 0.11923, 72, 0.05366))\n",
      "('vot', (49, 0.11096, 50, 0.13616, 52, 0.05653, 87, 0.05991))\n",
      "('tes', (50, 0.07317, 58, 0.03538, 75, 0.04127, 88, 0.0179))\n",
      "('loc', (54, 0.18157, 63, 0.12483, 84, 0.27234, 85, 0.09985))\n",
      "('tec', (57, 0.12876, 76, 0.02076, 83, 0.05276, 98, 0.13413))\n",
      "('gui', (59, 0.13933, 72, 0.04994, 93, 0.74893, 97, 0.01498))\n",
      "('sev', (71, 0.06438, 74, 0.10384, 88, 0.0179, 98, 0.13413))\n",
      "('gir', (2, 0.12335, 8, 0.14391, 37, 0.04039, 51, 0.2467, 97, 0.01151))\n",
      "('app', (2, 0.03942, 14, 0.0187, 30, 0.04328, 75, 0.0283, 88, 0.08584))\n",
      "('wen', (3, 0.12483, 14, 0.02537, 40, 0.01627, 78, 0.04607, 97, 0.01498))\n",
      "('eng', (4, 0.2216, 7, 0.04585, 12, 0.15642, 40, 0.01444, 71, 0.15956))\n",
      "('mic', (6, 0.13025, 37, 0.05255, 54, 0.09077, 85, 0.09985, 88, 0.01666))\n",
      "('fat', (6, 0.08549, 18, 0.15729, 62, 0.0281, 91, 0.02049, 97, 0.00983))\n",
      "('cho', (7, 0.09169, 25, 0.09169, 40, 0.01444, 79, 0.13296, 100, 0.04664))\n",
      "('ext', (7, 0.05165, 24, 0.03403, 32, 0.03367, 70, 0.05875, 76, 0.01932))\n",
      "('tol', (7, 0.0485, 9, 0.08525, 22, 0.03908, 40, 0.01528, 91, 0.0586))\n",
      "('bad', (7, 0.05165, 22, 0.04161, 45, 0.09362, 80, 0.03942, 81, 0.05078))\n",
      "('dem', (9, 0.09077, 14, 0.02537, 50, 0.06809, 60, 0.07307, 76, 0.01932))\n",
      "('lan', (10, 0.07893, 23, 0.07016, 34, 0.14432, 72, 0.0421, 74, 0.24441))\n",
      "('alw', (10, 0.09362, 32, 0.03367, 71, 0.05991, 95, 0.07133, 97, 0.01498))\n",
      "('wis', (11, 0.09496, 62, 0.038, 76, 0.0343, 78, 0.0409, 95, 0.12663))\n",
      "('ref', (11, 0.09496, 18, 0.02127, 38, 0.0831, 40, 0.04335, 83, 0.04359))\n",
      "('hap', (12, 0.17621, 22, 0.04161, 40, 0.01627, 76, 0.01932, 95, 0.07133))\n",
      "('cra', (13, 0.09362, 18, 0.02397, 41, 0.17621, 80, 0.03942, 88, 0.01666))\n",
      "('mus', (14, 0.05853, 39, 0.12793, 52, 0.0869, 90, 0.14391, 97, 0.01151))\n",
      "('ben', (14, 0.04281, 26, 0.18041, 37, 0.0443, 60, 0.0616, 83, 0.12422))\n",
      "('tra', (14, 0.02383, 20, 0.07816, 32, 0.03162, 63, 0.23444, 69, 0.12233))\n",
      "('dec', (14, 0.04507, 16, 0.05781, 17, 0.14373, 50, 0.06044, 88, 0.01479))\n",
      "('sel', (14, 0.02537, 20, 0.08322, 33, 0.11096, 70, 0.05875, 97, 0.01498))\n",
      "('lis', (15, 0.23043, 16, 0.06513, 23, 0.08322, 46, 0.10329, 71, 0.05991))\n",
      "('fac', (16, 0.06513, 18, 0.02397, 24, 0.03403, 91, 0.03122, 97, 0.01498))\n",
      "('aga', (16, 0.05781, 18, 0.04255, 32, 0.02989, 40, 0.02891, 91, 0.02771))\n",
      "('sha', (18, 0.02397, 34, 0.08559, 83, 0.0491, 84, 0.27234, 88, 0.01666))\n",
      "('ran', (18, 0.02127, 23, 0.14775, 52, 0.10036, 88, 0.01479, 93, 0.66482))\n",
      "('bur', (18, 0.04501, 22, 0.03908, 32, 0.03162, 94, 0.07816, 97, 0.01407))\n",
      "('blo', (18, 0.02397, 47, 0.07681, 89, 0.29957, 96, 0.17621, 100, 0.05255))\n",
      "('bef', (18, 0.02397, 22, 0.04161, 30, 0.05875, 40, 0.01627, 80, 0.03942))\n",
      "('cor', (18, 0.02021, 23, 0.21047, 24, 0.02869, 58, 0.02776, 83, 0.08282))\n",
      "('poi', (18, 0.02397, 40, 0.01627, 70, 0.05875, 76, 0.01932, 92, 0.12483))\n",
      "('guy', (19, 0.10965, 39, 0.04264, 51, 0.32895, 53, 0.0921, 59, 0.05356))\n",
      "('end', (19, 0.07133, 78, 0.04607, 87, 0.05991, 88, 0.01666, 97, 0.01498))\n",
      "('mov', (19, 0.05733, 39, 0.0446, 51, 0.344, 73, 0.11199, 97, 0.01204))\n",
      "('bar', (19, 0.06332, 52, 0.05018, 58, 0.02923, 80, 0.10496, 91, 0.02771))\n",
      "('enj', (22, 0.04161, 32, 0.03367, 76, 0.01932, 95, 0.07133, 97, 0.01498))\n",
      "('kid', (22, 0.04161, 79, 0.07489, 91, 0.03122, 92, 0.12483, 97, 0.01498))\n",
      "('bri', (23, 0.08322, 65, 0.0624, 81, 0.05078, 95, 0.07133, 100, 0.05255))\n",
      "('gen', (23, 0.22669, 40, 0.01108, 58, 0.08969, 76, 0.03948, 83, 0.03344))\n",
      "('gro', (27, 0.06513, 32, 0.03367, 58, 0.03292, 66, 0.11096, 97, 0.01498))\n",
      "('wer', (27, 0.04799, 72, 0.0368, 87, 0.04415, 88, 0.08584, 99, 0.16978))\n",
      "('hol', (32, 0.03367, 58, 0.03292, 83, 0.0491, 90, 0.18723, 91, 0.03122))\n",
      "('alm', (38, 0.09362, 40, 0.01627, 63, 0.12483, 65, 0.0624, 88, 0.01666))\n",
      "('alr', (3, 0.11723, 13, 0.08792, 18, 0.02251, 28, 0.06699, 78, 0.04327, 92, 0.11723))\n",
      "('htt', (3, 0.2216, 5, 0.13996, 34, 0.07598, 55, 0.12086, 66, 0.0985, 82, 0.11562))\n",
      "('cre', (3, 0.11723, 10, 0.08792, 50, 0.06395, 54, 0.08525, 55, 0.12787, 76, 0.01815))\n",
      "('bas', (6, 0.10982, 21, 0.07016, 32, 0.05675, 53, 0.05051, 88, 0.02806, 97, 0.01263))\n",
      "('rel', (7, 0.11909, 40, 0.0125, 51, 0.08223, 75, 0.02952, 76, 0.0297, 83, 0.0755))\n",
      "('avo', (7, 0.04585, 27, 0.05781, 40, 0.02891, 45, 0.0831, 81, 0.04507, 88, 0.01479))\n",
      "('maj', (7, 0.04151, 23, 0.26755, 27, 0.05235, 50, 0.05473, 80, 0.03169, 88, 0.01339))\n",
      "('hig', (8, 0.08792, 23, 0.07816, 41, 0.16548, 52, 0.05309, 84, 0.25577, 94, 0.07816))\n",
      "('pas', (14, 0.0204, 17, 0.06509, 40, 0.05235, 76, 0.01553, 79, 0.0602, 97, 0.01204))\n",
      "('cau', (14, 0.02383, 62, 0.0402, 75, 0.03607, 80, 0.03702, 88, 0.01564, 97, 0.01407))\n",
      "('sto', (14, 0.01796, 18, 0.01696, 36, 0.40775, 37, 0.03719, 68, 0.42405, 75, 0.08155))\n",
      "('dri', (14, 0.0204, 28, 0.11467, 37, 0.04224, 73, 0.05601, 81, 0.04081, 88, 0.04014))\n",
      "('our', (14, 0.07483, 22, 0.03066, 37, 0.07745, 52, 0.04165, 76, 0.02847, 81, 0.03741))\n",
      "('sea', (14, 0.02252, 43, 0.04835, 46, 0.09169, 80, 0.035, 82, 0.11562, 94, 0.14775))\n",
      "('exp', (15, 0.15693, 29, 0.08161, 32, 0.02293, 41, 0.12001, 66, 0.07557, 76, 0.1053))\n",
      "('ano', (16, 0.1047, 22, 0.03345, 24, 0.02735, 36, 0.27783, 83, 0.03947, 88, 0.01339))\n",
      "('cen', (16, 0.06116, 27, 0.06116, 72, 0.0469, 74, 0.09076, 83, 0.04611, 94, 0.07816))\n",
      "('cop', (17, 0.07605, 32, 0.03162, 40, 0.01528, 72, 0.0469, 91, 0.02932, 97, 0.01407))\n",
      "('sen', (18, 0.04041, 40, 0.01371, 43, 0.04592, 62, 0.03609, 79, 0.06314, 81, 0.08562))\n",
      "('med', (18, 0.02251, 32, 0.03162, 40, 0.01528, 49, 0.10421, 62, 0.0402, 97, 0.01407))\n",
      "('har', (18, 0.01842, 40, 0.03753, 59, 0.05356, 76, 0.0297, 88, 0.02558, 91, 0.02399))\n",
      "('onl', (18, 0.01632, 40, 0.02218, 43, 0.03709, 80, 0.0537, 88, 0.068, 97, 0.0102))\n",
      "('tru', (19, 0.05733, 58, 0.02646, 60, 0.23492, 70, 0.04722, 76, 0.01553, 88, 0.01339))\n",
      "('ple', (20, 0.16384, 34, 0.11234, 35, 0.15123, 40, 0.06411, 76, 0.01268, 97, 0.00983))\n",
      "('ope', (20, 0.04922, 21, 0.09845, 30, 0.03475, 45, 0.05537, 55, 0.08054, 88, 0.10828))\n",
      "('fre', (21, 0.14775, 62, 0.038, 69, 0.11562, 76, 0.01715, 91, 0.02771, 92, 0.11081))\n",
      "('aro', (24, 0.08209, 40, 0.02617, 43, 0.04378, 51, 0.08599, 80, 0.03169, 97, 0.01204))\n",
      "('req', (24, 0.03021, 38, 0.0831, 60, 0.06486, 63, 0.11081, 65, 0.11081, 88, 0.01479))\n",
      "('sol', (24, 0.03196, 31, 0.09377, 43, 0.05115, 48, 0.10421, 97, 0.01407, 98, 0.11723))\n",
      "('too', (25, 0.08303, 37, 0.04224, 40, 0.02617, 47, 0.06174, 91, 0.02509, 97, 0.03612))\n",
      "('wal', (26, 0.20096, 32, 0.03162, 53, 0.05627, 73, 0.06544, 91, 0.02932, 97, 0.01407))\n",
      "('pic', (28, 0.05733, 31, 0.08026, 36, 0.09261, 39, 0.08919, 72, 0.1204, 91, 0.02509))\n",
      "('eit', (30, 0.05215, 40, 0.01444, 53, 0.05319, 62, 0.038, 76, 0.01715, 97, 0.02659))\n",
      "('big', (30, 0.05517, 71, 0.05627, 80, 0.03702, 87, 0.05627, 97, 0.01407, 100, 0.04935))\n",
      "('sit', (32, 0.03162, 51, 0.10047, 57, 0.11254, 85, 0.09377, 88, 0.01564, 91, 0.02932))\n",
      "('che', (35, 0.15693, 38, 0.25503, 40, 0.01108, 48, 0.37783, 53, 0.0408, 97, 0.0102))\n",
      "('sma', (58, 0.02923, 66, 0.0985, 72, 0.08863, 80, 0.035, 97, 0.0133, 100, 0.04664))\n",
      "('ear', (1, 0.38254, 24, 0.02318, 35, 0.15693, 44, 0.11335, 54, 0.06182, 58, 0.02242, 88, 0.05668))\n",
      "('und', (1, 0.13252, 17, 0.17191, 24, 0.02409, 69, 0.18438, 76, 0.04103, 78, 0.03261, 80, 0.0279))\n",
      "('day', (2, 0.04749, 28, 0.06332, 32, 0.02989, 36, 0.10228, 71, 0.05319, 88, 0.01479, 97, 0.0133))\n",
      "('rec', (2, 0.04301, 27, 0.05235, 52, 0.04544, 75, 0.06174, 76, 0.01553, 88, 0.02675, 97, 0.01204))\n",
      "('www', (3, 0.28782, 21, 0.12793, 34, 0.06578, 55, 0.10465, 66, 0.08529, 82, 0.10012, 96, 0.13544))\n",
      "('nam', (5, 0.13293, 19, 0.06014, 43, 0.09184, 46, 0.08709, 60, 0.0616, 81, 0.04281, 87, 0.05051))\n",
      "('lin', (6, 0.11562, 14, 0.02252, 34, 0.07598, 59, 0.06185, 75, 0.03409, 88, 0.01479, 98, 0.11081))\n",
      "('new', (7, 0.03271, 19, 0.18068, 25, 0.06541, 50, 0.08622, 54, 0.11498, 78, 0.05837, 88, 0.03162))\n",
      "('wea', (8, 0.14391, 26, 0.16447, 39, 0.08529, 76, 0.01485, 80, 0.0606, 90, 0.14391, 97, 0.01151))\n",
      "('dif', (9, 0.12851, 15, 0.3262, 24, 0.02409, 40, 0.02305, 58, 0.0233, 88, 0.03534, 97, 0.0106))\n",
      "('etc', (9, 0.08058, 21, 0.07387, 40, 0.01444, 88, 0.01479, 97, 0.0133, 98, 0.11081, 100, 0.04664))\n",
      "('rem', (9, 0.08058, 14, 0.02252, 16, 0.05781, 30, 0.05215, 58, 0.02923, 95, 0.06332, 97, 0.0133))\n",
      "('bei', (9, 0.06977, 18, 0.07368, 24, 0.02616, 32, 0.02588, 40, 0.0125, 58, 0.02531, 80, 0.0303))\n",
      "('han', (14, 0.01796, 22, 0.02945, 29, 0.25443, 30, 0.04158, 79, 0.05301, 88, 0.04711, 90, 0.13252))\n",
      "('ser', (14, 0.01501, 21, 0.04922, 23, 0.39376, 39, 0.03282, 76, 0.02286, 83, 0.02904, 97, 0.02658))\n",
      "('wel', (14, 0.02252, 24, 0.03021, 71, 0.05319, 80, 0.035, 87, 0.05319, 88, 0.01479, 97, 0.0133))\n",
      "('uni', (14, 0.0195, 23, 0.06397, 25, 0.07939, 52, 0.04345, 63, 0.09595, 72, 0.03838, 76, 0.05943))\n",
      "('fam', (15, 0.16309, 19, 0.15145, 37, 0.03719, 46, 0.07311, 74, 0.0684, 76, 0.01368, 97, 0.04241))\n",
      "('rig', (16, 0.05491, 18, 0.04041, 52, 0.04766, 71, 0.05051, 73, 0.05875, 87, 0.05051, 88, 0.01404))\n",
      "('ins', (17, 0.19524, 22, 0.03345, 34, 0.0688, 38, 0.07525, 81, 0.04081, 88, 0.01339, 97, 0.01204))\n",
      "('old', (19, 0.05733, 60, 0.05873, 72, 0.04014, 88, 0.04014, 91, 0.02509, 97, 0.01204, 100, 0.04224))\n",
      "('hom', (22, 0.09595, 32, 0.02588, 40, 0.02503, 46, 0.07939, 66, 0.08529, 94, 0.06397, 97, 0.01151))\n",
      "('tak', (22, 0.02834, 40, 0.02218, 65, 0.0425, 69, 0.08871, 75, 0.02616, 80, 0.02685, 97, 0.06121))\n",
      "('adv', (22, 0.03508, 27, 0.05491, 40, 0.01371, 47, 0.06476, 76, 0.03258, 88, 0.01404, 97, 0.01263))\n",
      "('suc', (24, 0.02735, 47, 0.06174, 58, 0.02646, 70, 0.04722, 73, 0.05601, 76, 0.03106, 88, 0.02675))\n",
      "('inv', (24, 0.02616, 26, 0.32895, 27, 0.05006, 48, 0.25584, 55, 0.10465, 91, 0.02399, 97, 0.01151))\n",
      "('win', (24, 0.02616, 30, 0.04515, 32, 0.02588, 53, 0.04605, 83, 0.03774, 85, 0.07675, 88, 0.05116))\n",
      "('des', (29, 0.32644, 34, 0.05829, 39, 0.03778, 50, 0.04637, 61, 0.08502, 76, 0.02632, 88, 0.03401))\n",
      "('ive', (31, 0.08026, 46, 0.08303, 65, 0.05016, 73, 0.11199, 74, 0.07768, 91, 0.02509, 95, 0.11467))\n",
      "('eac', (31, 0.07675, 32, 0.07762, 40, 0.0125, 50, 0.05234, 52, 0.04345, 76, 0.01485, 88, 0.02558))\n",
      "('fil', (2, 0.06775, 31, 0.06323, 46, 0.06541, 54, 0.28745, 73, 0.04413, 82, 0.16497, 85, 0.06323, 88, 0.02108))\n",
      "('goi', (2, 0.04112, 7, 0.0397, 32, 0.02588, 40, 0.0125, 80, 0.0303, 88, 0.0128, 91, 0.04796, 97, 0.02303))\n",
      "('sch', (2, 0.07882, 38, 0.06898, 40, 0.01199, 41, 0.12983, 42, 0.20066, 79, 0.11036, 84, 0.20066, 97, 0.02207))\n",
      "('she', (2, 0.06405, 32, 0.00672, 37, 0.01049, 40, 0.09747, 58, 0.00657, 91, 0.06228, 97, 0.01495, 99, 0.04599))\n",
      "('muc', (2, 0.04112, 21, 0.06397, 40, 0.0125, 43, 0.04186, 65, 0.09595, 83, 0.03774, 88, 0.0128, 97, 0.02303))\n",
      "('dep', (2, 0.02787, 7, 0.02691, 14, 0.01322, 22, 0.02168, 39, 0.0289, 40, 0.01696, 95, 0.03716, 97, 0.10144))\n",
      "('chi', (2, 0.04301, 11, 0.08599, 19, 0.05733, 22, 0.03345, 79, 0.1204, 83, 0.03947, 97, 0.01204, 100, 0.04224))\n",
      "('sti', (2, 0.04112, 12, 0.13544, 28, 0.05482, 71, 0.04605, 76, 0.01485, 78, 0.07085, 88, 0.0128, 100, 0.0808))\n",
      "('own', (3, 0.09595, 14, 0.03903, 50, 0.05234, 55, 0.10465, 76, 0.01485, 78, 0.03541, 80, 0.0303, 97, 0.02303))\n",
      "('two', (4, 0.21047, 23, 0.07016, 24, 0.02869, 37, 0.0443, 62, 0.03609, 65, 0.05261, 88, 0.01404, 89, 0.25257))\n",
      "('his', (6, 0.09597, 22, 0.06132, 27, 0.04799, 43, 0.04013, 53, 0.08829, 57, 0.08829, 91, 0.023, 97, 0.02207))\n",
      "('gre', (6, 0.10012, 18, 0.01842, 44, 0.12793, 47, 0.05904, 58, 0.02531, 74, 0.07428, 83, 0.03774, 100, 0.12119))\n",
      "('pla', (6, 0.10982, 7, 0.04354, 18, 0.02021, 37, 0.0443, 40, 0.01371, 75, 0.03238, 83, 0.0414, 100, 0.0443))\n",
      "('won', (6, 0.08871, 40, 0.04435, 41, 0.24003, 46, 0.07035, 49, 0.07557, 68, 0.40804, 83, 0.03344, 97, 0.0204))\n",
      "('mig', (7, 0.03655, 18, 0.01696, 24, 0.04819, 40, 0.02305, 53, 0.04241, 81, 0.03594, 88, 0.03534, 92, 0.08835))\n",
      "('say', (7, 0.0339, 14, 0.01665, 29, 0.07864, 30, 0.07711, 40, 0.04274, 65, 0.08193, 91, 0.02049, 97, 0.01966))\n",
      "('sam', (7, 0.0397, 16, 0.05006, 40, 0.02503, 46, 0.07939, 58, 0.02531, 59, 0.05356, 88, 0.02558, 91, 0.02399))\n",
      "('res', (10, 0.06626, 18, 0.01696, 24, 0.02409, 25, 0.07311, 37, 0.03719, 79, 0.05301, 88, 0.0589, 94, 0.0589))\n",
      "('sou', (13, 0.07196, 14, 0.0195, 21, 0.06397, 60, 0.05616, 72, 0.11513, 91, 0.02399, 94, 0.06397, 100, 0.04039))\n",
      "('sim', (14, 0.01728, 18, 0.01632, 19, 0.14573, 45, 0.06376, 75, 0.02616, 76, 0.01316, 85, 0.068, 88, 0.04533))\n",
      "('nat', (14, 0.06916, 33, 0.07557, 52, 0.0385, 58, 0.02242, 61, 0.08502, 76, 0.03948, 86, 0.07035, 94, 0.05668))\n",
      "('sec', (18, 0.01573, 23, 0.05462, 24, 0.02234, 40, 0.01068, 42, 0.17874, 69, 0.08549, 75, 0.15123, 97, 0.01966))\n",
      "('wat', (18, 0.01766, 21, 0.06132, 28, 0.05256, 32, 0.02481, 37, 0.07745, 65, 0.13795, 73, 0.05134, 97, 0.01104))\n",
      "('kee', (19, 0.05733, 22, 0.03345, 37, 0.04224, 40, 0.01308, 53, 0.04816, 76, 0.01553, 86, 0.08303, 97, 0.02408))\n",
      "('had', (22, 0.02945, 40, 0.01151, 49, 0.07853, 62, 0.0303, 81, 0.03594, 88, 0.04711, 91, 0.02209, 97, 0.0212))\n",
      "('thr', (23, 0.05668, 32, 0.02293, 40, 0.01108, 58, 0.04484, 76, 0.02632, 91, 0.02126, 97, 0.0408, 100, 0.03579))\n",
      "('lon', (28, 0.05482, 32, 0.07762, 40, 0.0125, 55, 0.10465, 86, 0.07939, 89, 0.23026, 90, 0.14391, 100, 0.04039))\n",
      "('pos', (30, 0.04001, 40, 0.04435, 49, 0.07557, 50, 0.04637, 52, 0.0385, 54, 0.06182, 75, 0.07847, 97, 0.0102))\n",
      "('sup', (37, 0.04224, 58, 0.02646, 62, 0.03441, 65, 0.05016, 76, 0.01553, 78, 0.07409, 94, 0.06689, 97, 0.01204))\n",
      "('why', (5, 0.09326, 18, 0.01418, 24, 0.02013, 27, 0.03852, 40, 0.06741, 70, 0.0695, 79, 0.0443, 86, 0.12221, 92, 0.07384))\n",
      "('mea', (7, 0.03159, 30, 0.03594, 45, 0.05727, 48, 0.06788, 56, 0.11454, 72, 0.06108, 76, 0.08276, 77, 0.20362, 88, 0.01019))\n",
      "('als', (7, 0.03655, 18, 0.01696, 39, 0.03927, 40, 0.03456, 54, 0.06424, 58, 0.0233, 60, 0.05171, 74, 0.0684, 100, 0.0744))\n",
      "('stu', (10, 0.07196, 18, 0.01842, 31, 0.07675, 37, 0.04039, 38, 0.14391, 71, 0.04605, 86, 0.07939, 92, 0.09595, 97, 0.01151))\n",
      "('ind', (11, 0.06775, 50, 0.04312, 58, 0.06255, 62, 0.02711, 63, 0.07905, 72, 0.15809, 76, 0.01224, 80, 0.02497, 83, 0.03109))\n",
      "('ove', (13, 0.06898, 18, 0.01766, 32, 0.02481, 40, 0.02399, 45, 0.06898, 60, 0.05384, 76, 0.01424, 83, 0.03618, 97, 0.02207))\n",
      "('yes', (14, 0.03903, 15, 0.17711, 17, 0.06224, 18, 0.01842, 60, 0.05616, 62, 0.0329, 72, 0.03838, 80, 0.0303, 81, 0.03903))\n",
      "('col', (14, 0.01796, 23, 0.1178, 28, 0.05048, 38, 0.13252, 52, 0.04001, 58, 0.0233, 60, 0.05171, 76, 0.01368, 100, 0.0744))\n",
      "('dow', (14, 0.01796, 18, 0.01696, 20, 0.0589, 30, 0.04158, 32, 0.02383, 62, 0.0303, 70, 0.08316, 81, 0.03594, 85, 0.21203))\n",
      "('tel', (14, 0.01452, 34, 0.04899, 40, 0.07456, 59, 0.03989, 75, 0.04397, 79, 0.04287, 91, 0.03572, 93, 0.4287, 97, 0.00857))\n",
      "('ask', (16, 0.03728, 18, 0.02744, 40, 0.05592, 59, 0.07976, 76, 0.02212, 86, 0.05913, 87, 0.0343, 97, 0.01715, 98, 0.07146))\n",
      "('min', (18, 0.03532, 30, 0.04328, 43, 0.04013, 50, 0.05017, 60, 0.05384, 65, 0.04598, 73, 0.05134, 75, 0.05659, 88, 0.01227))\n",
      "('fun', (18, 0.01842, 24, 0.02616, 33, 0.08529, 58, 0.05061, 60, 0.05616, 70, 0.04515, 75, 0.02952, 79, 0.05756, 100, 0.04039))\n",
      "('got', (18, 0.01842, 40, 0.0125, 45, 0.07196, 49, 0.08529, 56, 0.14391, 59, 0.05356, 62, 0.0329, 65, 0.04796, 78, 0.07085))\n",
      "('aft', (19, 0.05256, 28, 0.05256, 32, 0.02481, 40, 0.02399, 56, 0.13795, 73, 0.10266, 75, 0.0283, 76, 0.01424, 97, 0.01104))\n",
      "('hop', (22, 0.03345, 36, 0.09261, 40, 0.01308, 42, 0.21891, 75, 0.03087, 76, 0.01553, 88, 0.01339, 95, 0.05733, 97, 0.01204))\n",
      "('dis', (1, 0.12288, 14, 0.01665, 24, 0.06702, 46, 0.06779, 47, 0.05041, 58, 0.02161, 76, 0.01268, 88, 0.03278, 97, 0.00983, 100, 0.03449))\n",
      "('try', (2, 0.03644, 14, 0.01728, 30, 0.04001, 39, 0.03778, 43, 0.03709, 46, 0.07035, 76, 0.01316, 81, 0.03458, 96, 0.12001, 97, 0.0408))\n",
      "('yea', (2, 0.03942, 14, 0.0187, 17, 0.05966, 18, 0.03532, 38, 0.06898, 40, 0.01199, 47, 0.05659, 71, 0.04415, 91, 0.023, 100, 0.03872))\n",
      "('bel', (6, 0.09219, 7, 0.03655, 16, 0.04609, 18, 0.05089, 30, 0.04158, 37, 0.03719, 57, 0.08481, 76, 0.01368, 80, 0.0279, 91, 0.02209))\n",
      "('mon', (10, 0.11857, 14, 0.03216, 22, 0.02635, 40, 0.0103, 44, 0.1054, 52, 0.0716, 61, 0.07905, 62, 0.02711, 63, 0.23714, 79, 0.04743))\n",
      "('sur', (12, 0.10779, 18, 0.02932, 24, 0.04165, 36, 0.07048, 40, 0.02987, 43, 0.03332, 49, 0.06788, 75, 0.04699, 76, 0.02364, 88, 0.01019))\n",
      "('lif', (14, 0.01407, 17, 0.04489, 18, 0.01329, 20, 0.04614, 24, 0.01887, 40, 0.02707, 56, 0.1038, 76, 0.08571, 81, 0.02815, 95, 0.03954))\n",
      "('ans', (16, 0.03852, 18, 0.01418, 28, 0.04219, 30, 0.03475, 33, 0.06563, 35, 0.1363, 40, 0.06741, 46, 0.0611, 87, 0.07088, 92, 0.07384))\n",
      "('bee', (19, 0.05256, 28, 0.05256, 32, 0.02481, 40, 0.01199, 52, 0.04165, 58, 0.02426, 80, 0.02905, 81, 0.03741, 88, 0.02452, 91, 0.023))\n",
      "('lot', (24, 0.02409, 40, 0.02305, 52, 0.08002, 62, 0.0303, 80, 0.0279, 82, 0.09219, 88, 0.01179, 95, 0.05048, 97, 0.0106, 100, 0.03719))\n",
      "('act', (24, 0.02234, 27, 0.04274, 40, 0.02137, 58, 0.02161, 61, 0.08193, 76, 0.01268, 80, 0.02587, 88, 0.03278, 91, 0.02049, 97, 0.01966))\n",
      "('str', (24, 0.02318, 27, 0.04435, 37, 0.03579, 40, 0.02218, 47, 0.10462, 50, 0.04637, 58, 0.02242, 76, 0.01316, 94, 0.05668, 97, 0.0204))\n",
      "('mat', (29, 0.0921, 32, 0.02588, 39, 0.04264, 43, 0.04186, 48, 0.08529, 72, 0.03838, 75, 0.02952, 76, 0.01485, 94, 0.06397, 96, 0.13544))\n",
      "('liv', (2, 0.0593, 7, 0.05726, 10, 0.0519, 20, 0.04614, 22, 0.02307, 32, 0.01867, 40, 0.00902, 58, 0.0365, 76, 0.06429, 91, 0.0173, 95, 0.03954))\n",
      "('him', (2, 0.03644, 17, 0.05515, 18, 0.01632, 20, 0.05668, 22, 0.05668, 32, 0.04584, 33, 0.07557, 40, 0.01108, 59, 0.04746, 97, 0.0102, 100, 0.03579))\n",
      "('did', (2, 0.06328, 3, 0.07384, 12, 0.10423, 18, 0.01418, 30, 0.03475, 40, 0.01926, 49, 0.06563, 69, 0.07704, 72, 0.05906, 88, 0.03937, 97, 0.00886))\n",
      "('bes', (7, 0.07311, 20, 0.0589, 39, 0.03927, 40, 0.01151, 43, 0.03855, 48, 0.07853, 59, 0.04932, 80, 0.0279, 92, 0.08835, 97, 0.0106, 98, 0.08835))\n",
      "('spe', (10, 0.05537, 11, 0.12657, 18, 0.01418, 23, 0.04922, 40, 0.00962, 58, 0.01947, 59, 0.08241, 62, 0.02532, 71, 0.07088, 74, 0.22864, 75, 0.02272))\n",
      "('car', (14, 0.01728, 18, 0.01632, 21, 0.05668, 22, 0.02834, 26, 0.14573, 70, 0.04001, 74, 0.06582, 80, 0.02685, 81, 0.06916, 88, 0.01134, 97, 0.0204))\n",
      "('rep', (16, 0.04435, 17, 0.05515, 21, 0.05668, 27, 0.04435, 28, 0.04858, 31, 0.068, 40, 0.03326, 47, 0.05231, 74, 0.06582, 76, 0.01316, 94, 0.05668))\n",
      "('cha', (20, 0.14766, 22, 0.02461, 31, 0.05906, 39, 0.03282, 40, 0.00962, 45, 0.16612, 66, 0.06563, 71, 0.07088, 78, 0.05452, 80, 0.02332, 86, 0.0611))\n",
      "('acc', (25, 0.12639, 50, 0.04165, 54, 0.1666, 55, 0.24989, 60, 0.0447, 72, 0.03055, 73, 0.04263, 75, 0.02349, 76, 0.01182, 81, 0.03106, 83, 0.03004))\n",
      "('ver', (37, 0.03008, 40, 0.04659, 54, 0.10393, 58, 0.01885, 59, 0.03989, 62, 0.0245, 70, 0.03363, 71, 0.0343, 72, 0.02859, 86, 0.11827, 97, 0.01715))\n",
      "('bac', (2, 0.06328, 3, 0.14766, 14, 0.01501, 18, 0.01418, 25, 0.0611, 29, 0.07088, 49, 0.06563, 62, 0.02532, 81, 0.03003, 88, 0.02954, 90, 0.11075, 91, 0.03691))\n",
      "('has', (2, 0.06124, 5, 0.09025, 17, 0.13904, 40, 0.02795, 43, 0.03118, 52, 0.03236, 58, 0.01885, 70, 0.03363, 81, 0.02907, 88, 0.00953, 91, 0.03572, 97, 0.00857))\n",
      "('mar', (2, 0.03273, 10, 0.05727, 12, 0.10779, 23, 0.15271, 28, 0.04363, 32, 0.0206, 75, 0.02349, 76, 0.01182, 83, 0.03004, 87, 0.10995, 89, 0.18326, 99, 0.14096))\n",
      "('inc', (2, 0.03511, 14, 0.01665, 45, 0.06144, 57, 0.07864, 59, 0.04573, 70, 0.03856, 74, 0.06343, 76, 0.02536, 81, 0.03333, 87, 0.07864, 90, 0.12288, 91, 0.02049))\n",
      "('nee', (3, 0.07636, 11, 0.06544, 14, 0.01552, 25, 0.06319, 50, 0.04165, 55, 0.08329, 65, 0.03817, 75, 0.04699, 82, 0.07968, 88, 0.01019, 91, 0.05727, 97, 0.01833))\n",
      "('cal', (5, 0.1929, 18, 0.02932, 24, 0.02082, 36, 0.14096, 37, 0.03214, 56, 0.11454, 59, 0.04263, 66, 0.06788, 68, 0.36652, 75, 0.02349, 91, 0.0191, 97, 0.01833))\n",
      "('peo', (7, 0.05284, 9, 0.06192, 14, 0.02597, 18, 0.05721, 20, 0.02838, 39, 0.01892, 40, 0.06107, 50, 0.04643, 70, 0.02003, 76, 0.01318, 96, 0.06009, 97, 0.01022))\n",
      "('inf', (9, 0.16109, 26, 0.12657, 28, 0.04219, 34, 0.10125, 40, 0.00962, 43, 0.06443, 45, 0.05537, 47, 0.04543, 57, 0.14176, 72, 0.02954, 76, 0.01143, 83, 0.02904))\n",
      "('pre', (12, 0.11565, 16, 0.04274, 40, 0.01068, 43, 0.03574, 45, 0.06144, 52, 0.11128, 53, 0.03932, 59, 0.04573, 67, 0.28088, 92, 0.08193, 95, 0.04681, 97, 0.00983))\n",
      "('fee', (12, 0.0918, 14, 0.03967, 15, 0.12005, 22, 0.02168, 32, 0.03507, 40, 0.03393, 47, 0.04002, 62, 0.0223, 70, 0.0306, 75, 0.02001, 81, 0.02645, 97, 0.03121))\n",
      "('tim', (14, 0.02645, 28, 0.03716, 32, 0.05261, 37, 0.02737, 40, 0.00847, 46, 0.05381, 75, 0.04002, 76, 0.01007, 78, 0.024, 88, 0.03468, 91, 0.03251, 97, 0.01561))\n",
      "('out', (14, 0.01282, 24, 0.0172, 32, 0.03402, 37, 0.02656, 40, 0.03292, 47, 0.07764, 57, 0.06057, 65, 0.06309, 73, 0.07042, 78, 0.02329, 79, 0.03785, 97, 0.03028))\n",
      "('fir', (16, 0.03852, 18, 0.01418, 22, 0.04922, 23, 0.14766, 32, 0.01992, 43, 0.03221, 44, 0.09845, 51, 0.12657, 73, 0.04122, 75, 0.02272, 88, 0.01969, 97, 0.00886))\n",
      "('now', (5, 0.09326, 18, 0.04253, 22, 0.02461, 24, 0.02013, 25, 0.0611, 30, 0.03475, 57, 0.07088, 71, 0.03544, 75, 0.06815, 78, 0.02725, 87, 0.03544, 88, 0.00985, 91, 0.01846))\n",
      "('lea', (8, 0.08419, 9, 0.24492, 21, 0.03742, 48, 0.14967, 49, 0.0499, 52, 0.02542, 71, 0.02694, 75, 0.01727, 76, 0.01738, 86, 0.04645, 92, 0.11225, 97, 0.01347, 100, 0.0709))\n",
      "('off', (11, 0.06328, 13, 0.05537, 17, 0.0479, 23, 0.24611, 24, 0.02013, 40, 0.00962, 49, 0.06563, 52, 0.03344, 58, 0.01947, 76, 0.01143, 79, 0.0443, 88, 0.00985, 97, 0.00886))\n",
      "('par', (11, 0.05407, 24, 0.05162, 27, 0.03292, 36, 0.11647, 50, 0.03442, 58, 0.04992, 66, 0.11215, 75, 0.01941, 79, 0.07571, 85, 0.05047, 86, 0.05221, 88, 0.01682, 92, 0.12617))\n",
      "('bet', (2, 0.03063, 9, 0.15589, 24, 0.01948, 34, 0.04899, 47, 0.04397, 49, 0.06352, 53, 0.0343, 65, 0.03572, 70, 0.03363, 83, 0.02811, 88, 0.00953, 91, 0.01787, 97, 0.01715, 98, 0.14289))\n",
      "('goo', (3, 0.07905, 7, 0.03271, 10, 0.05928, 14, 0.01607, 28, 0.04517, 31, 0.06323, 40, 0.0103, 48, 0.14052, 59, 0.04413, 71, 0.03794, 76, 0.01224, 79, 0.04743, 94, 0.0527, 100, 0.03328))\n",
      "('may', (6, 0.06998, 8, 0.05029, 13, 0.05029, 17, 0.08699, 19, 0.03832, 29, 0.06438, 30, 0.03156, 32, 0.05425, 40, 0.01749, 71, 0.03219, 81, 0.02728, 88, 0.00895, 94, 0.04471, 97, 0.02414))\n",
      "('see', (6, 0.04954, 7, 0.01964, 8, 0.03561, 9, 0.03452, 18, 0.00912, 32, 0.03841, 40, 0.04954, 41, 0.06702, 46, 0.03929, 70, 0.02234, 73, 0.0265, 76, 0.05881, 94, 0.03165, 95, 0.08139))\n",
      "('que', (11, 0.0495, 18, 0.01109, 24, 0.03151, 28, 0.03301, 40, 0.04521, 46, 0.09561, 48, 0.05135, 61, 0.05777, 70, 0.05437, 71, 0.05545, 76, 0.02682, 86, 0.0478, 92, 0.05777, 94, 0.03851))\n",
      "('tho', (2, 0.03165, 18, 0.01418, 19, 0.04219, 22, 0.04922, 24, 0.02013, 36, 0.06815, 46, 0.0611, 52, 0.03344, 53, 0.03544, 58, 0.01947, 62, 0.02532, 65, 0.03691, 78, 0.05452, 82, 0.07704, 97, 0.00886))\n",
      "('oth', (3, 0.05613, 14, 0.01141, 18, 0.01078, 20, 0.03742, 30, 0.02642, 32, 0.03027, 39, 0.02495, 40, 0.02196, 46, 0.04645, 59, 0.03133, 75, 0.01727, 76, 0.06083, 88, 0.02246, 97, 0.00674, 98, 0.05613))\n",
      "('mor', (7, 0.02775, 14, 0.01363, 18, 0.0515, 24, 0.03658, 29, 0.06438, 40, 0.00874, 66, 0.05961, 71, 0.03219, 74, 0.05192, 76, 0.02076, 78, 0.02475, 80, 0.02118, 88, 0.00895, 94, 0.04471, 97, 0.00805))\n",
      "('int', (9, 0.0865, 16, 0.03103, 17, 0.03857, 19, 0.03398, 21, 0.03965, 24, 0.04865, 27, 0.03103, 32, 0.01604, 34, 0.04077, 50, 0.06486, 57, 0.11417, 66, 0.10571, 75, 0.0183, 86, 0.04921, 88, 0.03171))\n",
      "('per', (10, 0.05359, 17, 0.09268, 24, 0.01948, 36, 0.06595, 43, 0.03118, 46, 0.05913, 60, 0.04182, 74, 0.05532, 76, 0.01106, 88, 0.00953, 91, 0.01787, 92, 0.07146, 94, 0.09527, 97, 0.01715, 100, 0.03008))\n",
      "('giv', (17, 0.0435, 22, 0.02236, 27, 0.03499, 38, 0.05029, 40, 0.01749, 50, 0.03658, 62, 0.023, 71, 0.03219, 72, 0.02683, 75, 0.08253, 76, 0.01038, 88, 0.00895, 96, 0.09467, 97, 0.01609, 100, 0.02823))\n",
      "('fin', (2, 0.05248, 4, 0.12247, 26, 0.10498, 34, 0.04199, 40, 0.00798, 41, 0.08645, 43, 0.05344, 72, 0.04898, 75, 0.05652, 76, 0.02844, 78, 0.0226, 82, 0.0639, 85, 0.04898, 88, 0.00817, 94, 0.04083, 97, 0.00735))\n",
      "('use', (2, 0.02625, 5, 0.07735, 13, 0.04593, 14, 0.01245, 31, 0.04898, 34, 0.08398, 39, 0.05444, 40, 0.02396, 54, 0.04453, 65, 0.03061, 69, 0.0639, 72, 0.07348, 76, 0.00948, 83, 0.02409, 85, 0.04898, 88, 0.01633))\n",
      "('hel', (8, 0.03561, 14, 0.00965, 18, 0.00912, 36, 0.04382, 40, 0.03096, 42, 0.10359, 43, 0.02071, 52, 0.0215, 59, 0.0265, 66, 0.0844, 67, 0.16278, 75, 0.01461, 78, 0.03506, 80, 0.02999, 91, 0.01187, 97, 0.05697))\n",
      "('way', (9, 0.1074, 18, 0.01418, 20, 0.04922, 21, 0.04922, 22, 0.02461, 25, 0.0611, 32, 0.01992, 40, 0.00962, 43, 0.03221, 48, 0.06563, 51, 0.06328, 59, 0.04122, 80, 0.02332, 88, 0.00985, 97, 0.00886, 100, 0.03108))\n",
      "('man', (9, 0.13765, 21, 0.04206, 33, 0.05608, 40, 0.01646, 46, 0.05221, 58, 0.03328, 65, 0.06309, 70, 0.05938, 75, 0.01941, 76, 0.00977, 78, 0.02329, 83, 0.02482, 85, 0.05047, 87, 0.03028, 88, 0.00842, 95, 0.03605))\n",
      "('doe', (29, 0.05545, 32, 0.03115, 35, 0.10663, 40, 0.06028, 51, 0.0495, 52, 0.05232, 53, 0.02773, 56, 0.08664, 62, 0.01981, 65, 0.02888, 77, 0.15403, 78, 0.02132, 79, 0.03466, 80, 0.01824, 85, 0.04621, 91, 0.01445))\n",
      "('her', (2, 0.05019, 18, 0.00899, 28, 0.01338, 32, 0.01263, 40, 0.05499, 51, 0.02007, 55, 0.02555, 62, 0.01606, 64, 0.09369, 66, 0.02082, 77, 0.06246, 78, 0.00865, 84, 0.0511, 87, 0.01124, 90, 0.03513, 91, 0.04684, 97, 0.02811))\n",
      "('bec', (8, 0.0519, 17, 0.04489, 18, 0.01329, 24, 0.01887, 40, 0.00902, 41, 0.09768, 47, 0.04258, 49, 0.06151, 53, 0.03321, 70, 0.03257, 71, 0.03321, 76, 0.02142, 80, 0.02186, 87, 0.03321, 88, 0.00923, 91, 0.03459, 97, 0.0083))\n",
      "('loo', (8, 0.09185, 10, 0.09185, 20, 0.04083, 24, 0.0167, 30, 0.05764, 31, 0.04898, 40, 0.01598, 53, 0.05879, 65, 0.03061, 81, 0.04982, 83, 0.02409, 86, 0.05067, 88, 0.00817, 91, 0.01531, 95, 0.03499, 97, 0.00735, 98, 0.06124))\n",
      "('was', (14, 0.00755, 16, 0.01938, 18, 0.00713, 22, 0.04954, 27, 0.03877, 37, 0.01564, 40, 0.01938, 44, 0.04954, 58, 0.0098, 62, 0.03821, 69, 0.03877, 74, 0.05753, 78, 0.02743, 81, 0.03023, 86, 0.09224, 88, 0.03962, 91, 0.02786, 97, 0.00446))\n",
      "('wou', (7, 0.01668, 14, 0.0082, 18, 0.02322, 22, 0.01344, 30, 0.05691, 39, 0.03584, 40, 0.01577, 43, 0.01759, 45, 0.09071, 47, 0.02481, 52, 0.05477, 54, 0.14661, 73, 0.02251, 75, 0.02481, 81, 0.0164, 87, 0.0387, 88, 0.00538, 92, 0.04032, 97, 0.01451))\n",
      "('mak', (10, 0.10394, 13, 0.06929, 18, 0.00887, 21, 0.09238, 24, 0.0252, 37, 0.01945, 40, 0.01205, 46, 0.03823, 47, 0.02843, 50, 0.0252, 51, 0.15838, 53, 0.02217, 54, 0.03359, 58, 0.01218, 73, 0.05156, 88, 0.00616, 95, 0.0264, 97, 0.02217, 100, 0.01945))\n",
      "('sta', (6, 0.05382, 14, 0.02098, 18, 0.0099, 20, 0.03439, 23, 0.06878, 25, 0.04268, 36, 0.09522, 39, 0.02293, 40, 0.00672, 52, 0.02336, 53, 0.04951, 54, 0.15004, 58, 0.0136, 62, 0.03537, 71, 0.02476, 76, 0.00798, 80, 0.01629, 87, 0.02476, 94, 0.03439, 95, 0.05895))\n",
      "('hea', (9, 0.04082, 13, 0.0421, 14, 0.01141, 18, 0.01078, 24, 0.04592, 32, 0.01514, 35, 0.20725, 37, 0.0709, 39, 0.02495, 50, 0.03062, 53, 0.02694, 62, 0.01925, 67, 0.19244, 70, 0.02642, 72, 0.02246, 74, 0.04346, 76, 0.00869, 81, 0.02283, 91, 0.02806, 97, 0.00674))\n",
      "('one', (16, 0.01641, 19, 0.01798, 23, 0.02097, 31, 0.02516, 36, 0.02904, 37, 0.02649, 40, 0.00821, 43, 0.01373, 52, 0.01425, 58, 0.0166, 60, 0.01842, 64, 0.12584, 72, 0.02516, 76, 0.02436, 78, 0.02323, 80, 0.01987, 82, 0.03283, 83, 0.01237, 88, 0.02936, 97, 0.0453))\n",
      "('abo', (1, 0.13485, 9, 0.03269, 14, 0.00914, 15, 0.08298, 16, 0.02345, 18, 0.03452, 19, 0.02569, 22, 0.01498, 24, 0.01226, 30, 0.02116, 34, 0.06164, 39, 0.01998, 40, 0.04104, 53, 0.02158, 62, 0.01542, 70, 0.02116, 75, 0.01383, 76, 0.00696, 80, 0.0142, 88, 0.006, 97, 0.01618))\n",
      "('eve', (2, 0.0215, 14, 0.0102, 20, 0.03345, 22, 0.01672, 24, 0.01368, 37, 0.02112, 40, 0.01962, 43, 0.02189, 53, 0.02408, 63, 0.05017, 70, 0.02361, 71, 0.04816, 73, 0.028, 76, 0.01553, 78, 0.05556, 81, 0.02041, 83, 0.01973, 89, 0.1204, 95, 0.02867, 97, 0.02408, 99, 0.09261))\n",
      "('whi', (4, 0.10608, 5, 0.067, 10, 0.03978, 18, 0.01018, 24, 0.01446, 28, 0.06062, 30, 0.04993, 37, 0.02233, 39, 0.04715, 46, 0.04389, 48, 0.04715, 52, 0.02402, 53, 0.02546, 62, 0.01819, 63, 0.05304, 69, 0.05535, 72, 0.02122, 73, 0.02961, 74, 0.04107, 87, 0.02546, 88, 0.02829, 91, 0.01326))\n",
      "('wan', (7, 0.02134, 12, 0.07281, 13, 0.03868, 14, 0.02098, 18, 0.01981, 21, 0.06878, 22, 0.01719, 29, 0.04951, 32, 0.01391, 33, 0.04585, 34, 0.03537, 39, 0.02293, 40, 0.01346, 45, 0.03868, 55, 0.05626, 59, 0.02879, 66, 0.04585, 71, 0.02476, 79, 0.06189, 80, 0.01629, 92, 0.05158, 97, 0.01857))\n",
      "('sho', (2, 0.03648, 20, 0.02838, 27, 0.02221, 28, 0.02433, 32, 0.01148, 40, 0.01111, 45, 0.06385, 48, 0.03784, 51, 0.07298, 53, 0.04087, 54, 0.03096, 58, 0.01123, 65, 0.02128, 73, 0.04752, 74, 0.03296, 79, 0.05108, 80, 0.02689, 91, 0.01065, 92, 0.04257, 94, 0.02838, 95, 0.0973, 97, 0.01532, 100, 0.01792))\n",
      "('wor', (2, 0.05183, 3, 0.04032, 19, 0.02304, 31, 0.06451, 32, 0.02174, 37, 0.01697, 39, 0.01792, 40, 0.01052, 53, 0.01935, 55, 0.04398, 57, 0.0387, 58, 0.01063, 62, 0.02764, 71, 0.01935, 72, 0.04838, 73, 0.045, 74, 0.03121, 75, 0.0124, 76, 0.03121, 79, 0.02419, 83, 0.01586, 96, 0.05691, 97, 0.01451))\n",
      "('wil', (2, 0.05779, 4, 0.0899, 6, 0.04691, 8, 0.03371, 17, 0.02916, 18, 0.02589, 20, 0.05994, 22, 0.02997, 24, 0.01226, 26, 0.07706, 30, 0.02116, 38, 0.03371, 40, 0.01758, 51, 0.03852, 53, 0.02158, 59, 0.05018, 67, 0.15412, 75, 0.04149, 78, 0.01659, 80, 0.0142, 82, 0.04691, 83, 0.01768, 91, 0.01124))\n",
      "('rea', (2, 0.03455, 13, 0.03024, 18, 0.01548, 19, 0.02304, 22, 0.01344, 24, 0.01099, 28, 0.02304, 31, 0.03225, 32, 0.01088, 40, 0.02104, 48, 0.03584, 69, 0.04207, 75, 0.0124, 76, 0.01248, 78, 0.02977, 81, 0.0328, 82, 0.04207, 83, 0.03173, 86, 0.03336, 88, 0.00538, 92, 0.08063, 97, 0.01935, 100, 0.05092))\n",
      "('its', (5, 0.05835, 7, 0.01911, 14, 0.00939, 18, 0.00887, 28, 0.05279, 29, 0.04435, 31, 0.03695, 40, 0.00602, 42, 0.10079, 43, 0.02016, 46, 0.03823, 59, 0.02579, 65, 0.02309, 71, 0.02217, 73, 0.05156, 75, 0.05685, 79, 0.02772, 80, 0.02918, 88, 0.01848, 91, 0.02309, 96, 0.06521, 97, 0.01109, 98, 0.0462))\n",
      "('cou', (11, 0.04182, 14, 0.00992, 18, 0.00937, 24, 0.0133, 30, 0.02297, 34, 0.03346, 38, 0.0732, 42, 0.10647, 43, 0.02129, 47, 0.03003, 49, 0.04338, 57, 0.04685, 58, 0.01287, 61, 0.0488, 62, 0.01674, 71, 0.02342, 78, 0.01801, 80, 0.01541, 83, 0.0576, 88, 0.03904, 95, 0.02789, 97, 0.00586, 99, 0.09009))\n",
      "('pro', (14, 0.00491, 16, 0.01261, 19, 0.01381, 21, 0.06442, 25, 0.01999, 33, 0.02148, 38, 0.01812, 40, 0.01891, 48, 0.02148, 54, 0.03514, 59, 0.01349, 74, 0.0187, 75, 0.01487, 76, 0.01497, 78, 0.00892, 79, 0.04349, 80, 0.00763, 82, 0.02521, 83, 0.02852, 85, 0.03866, 87, 0.0116, 88, 0.04832, 97, 0.0058))\n",
      "('don', (2, 0.01507, 8, 0.02637, 18, 0.04726, 21, 0.02345, 24, 0.00959, 25, 0.0291, 29, 0.03376, 32, 0.02845, 39, 0.04689, 40, 0.01376, 45, 0.02637, 50, 0.01918, 54, 0.02557, 57, 0.03376, 59, 0.01963, 64, 0.14066, 70, 0.01655, 71, 0.01688, 78, 0.01298, 79, 0.0211, 80, 0.02221, 85, 0.02813, 88, 0.00938, 97, 0.02532))\n",
      "('who', (3, 0.04495, 14, 0.01829, 16, 0.07036, 18, 0.00863, 20, 0.02997, 28, 0.02569, 29, 0.04315, 30, 0.06346, 33, 0.03996, 40, 0.01173, 43, 0.01961, 49, 0.03996, 50, 0.02452, 51, 0.03852, 52, 0.04071, 60, 0.02631, 70, 0.02116, 74, 0.0348, 76, 0.00696, 80, 0.02839, 83, 0.01768, 84, 0.09807, 92, 0.04495, 97, 0.01618))\n",
      "('lik', (8, 0.06743, 14, 0.00914, 18, 0.00863, 20, 0.05994, 22, 0.02997, 28, 0.02569, 30, 0.02116, 32, 0.01213, 40, 0.02345, 48, 0.03996, 51, 0.03852, 53, 0.02158, 54, 0.03269, 58, 0.01186, 67, 0.15412, 70, 0.02116, 78, 0.04979, 80, 0.0142, 82, 0.04691, 87, 0.02158, 88, 0.01199, 91, 0.02247, 96, 0.06346, 97, 0.00539))\n",
      "('con', (2, 0.01387, 8, 0.02427, 11, 0.05547, 14, 0.01316, 17, 0.06296, 18, 0.00621, 25, 0.02677, 27, 0.01688, 30, 0.01523, 34, 0.02219, 36, 0.05973, 37, 0.02725, 40, 0.00422, 43, 0.02823, 50, 0.01765, 51, 0.05547, 52, 0.01465, 54, 0.02353, 58, 0.03414, 62, 0.0111, 76, 0.03507, 81, 0.01316, 82, 0.13505, 88, 0.00863, 98, 0.03236))\n",
      "('kno', (3, 0.02973, 12, 0.04196, 18, 0.01712, 21, 0.03963, 22, 0.03963, 32, 0.01603, 34, 0.04076, 35, 0.10975, 38, 0.04458, 39, 0.01321, 40, 0.01163, 43, 0.02594, 51, 0.02547, 53, 0.0428, 54, 0.02161, 59, 0.01659, 60, 0.0174, 62, 0.01019, 71, 0.01427, 76, 0.0092, 78, 0.01097, 80, 0.02816, 85, 0.04756, 91, 0.03715, 97, 0.00713))\n",
      "('fro', (1, 0.09438, 7, 0.01302, 13, 0.04719, 14, 0.0128, 16, 0.01641, 23, 0.02097, 24, 0.03432, 30, 0.01481, 37, 0.02649, 40, 0.02051, 43, 0.01373, 46, 0.02603, 50, 0.01716, 55, 0.03432, 60, 0.01842, 62, 0.01079, 75, 0.00968, 76, 0.01461, 80, 0.00994, 81, 0.0256, 83, 0.01237, 84, 0.06864, 85, 0.02516, 87, 0.0151, 88, 0.00839, 90, 0.09438, 97, 0.01888))\n",
      "('all', (7, 0.01537, 8, 0.02786, 12, 0.05244, 14, 0.00755, 18, 0.00713, 22, 0.02477, 24, 0.01013, 31, 0.02972, 32, 0.03006, 37, 0.03129, 38, 0.02786, 39, 0.01651, 40, 0.02422, 43, 0.03242, 50, 0.02027, 52, 0.01682, 57, 0.03566, 58, 0.0196, 62, 0.01274, 70, 0.01748, 71, 0.01783, 75, 0.01143, 76, 0.00575, 78, 0.02743, 87, 0.01783, 88, 0.01981, 97, 0.00446))\n",
      "('not', (7, 0.01455, 13, 0.02637, 14, 0.02145, 16, 0.01835, 18, 0.00675, 24, 0.00959, 30, 0.04964, 32, 0.01896, 36, 0.03246, 39, 0.01563, 40, 0.01835, 49, 0.03126, 53, 0.01688, 54, 0.05115, 58, 0.00928, 62, 0.02411, 71, 0.01688, 72, 0.01407, 76, 0.01089, 78, 0.02597, 80, 0.01111, 81, 0.01431, 84, 0.07673, 86, 0.0291, 88, 0.01875, 91, 0.01758, 100, 0.0148))\n",
      "('jus', (8, 0.03193, 9, 0.03096, 13, 0.03193, 18, 0.01635, 20, 0.02838, 21, 0.02838, 22, 0.01419, 25, 0.03523, 32, 0.01148, 39, 0.01892, 40, 0.01665, 41, 0.06009, 43, 0.01857, 47, 0.0262, 53, 0.02043, 65, 0.02128, 69, 0.04442, 70, 0.02003, 73, 0.04752, 76, 0.00659, 79, 0.02554, 80, 0.01344, 81, 0.01732, 87, 0.02043, 88, 0.00568, 91, 0.02128, 97, 0.02043, 100, 0.01792))\n",
      "('com', (9, 0.01651, 10, 0.01702, 11, 0.03891, 13, 0.05107, 14, 0.00461, 16, 0.01184, 18, 0.01307, 19, 0.02594, 22, 0.00757, 24, 0.01857, 32, 0.01224, 38, 0.01702, 54, 0.03302, 57, 0.02179, 58, 0.00599, 59, 0.02534, 61, 0.0227, 65, 0.03405, 70, 0.01068, 76, 0.00703, 78, 0.00838, 83, 0.01786, 88, 0.04539, 89, 0.05447, 94, 0.01513, 96, 0.03204, 97, 0.00272, 98, 0.04539))\n",
      "('wit', (2, 0.01884, 8, 0.03298, 10, 0.01649, 11, 0.01884, 14, 0.00894, 19, 0.02513, 22, 0.01466, 24, 0.00599, 32, 0.02964, 33, 0.01954, 34, 0.01507, 36, 0.02029, 39, 0.01954, 40, 0.01434, 42, 0.04797, 43, 0.00959, 47, 0.01353, 58, 0.0058, 62, 0.00754, 65, 0.01099, 66, 0.01954, 73, 0.01227, 75, 0.01353, 76, 0.02723, 78, 0.02435, 79, 0.01319, 87, 0.01055, 88, 0.0088, 91, 0.0055, 97, 0.01055))\n",
      "('whe', (2, 0.01466, 7, 0.02831, 10, 0.02566, 13, 0.02566, 18, 0.00657, 19, 0.0391, 22, 0.02281, 32, 0.00923, 34, 0.02346, 36, 0.06315, 38, 0.02566, 40, 0.02231, 41, 0.04829, 43, 0.01493, 47, 0.02105, 49, 0.03041, 50, 0.01866, 54, 0.02488, 56, 0.05131, 58, 0.00902, 60, 0.02002, 75, 0.03157, 78, 0.01263, 81, 0.01392, 84, 0.07464, 85, 0.02736, 86, 0.05662, 88, 0.01369, 91, 0.00855, 97, 0.00821))\n",
      "('som', (3, 0.03236, 9, 0.02353, 10, 0.02427, 15, 0.05973, 17, 0.06296, 18, 0.00621, 28, 0.01849, 31, 0.02588, 34, 0.02219, 36, 0.02987, 37, 0.01362, 39, 0.02876, 40, 0.01266, 43, 0.02823, 53, 0.01553, 55, 0.03529, 56, 0.04853, 58, 0.00853, 60, 0.01894, 70, 0.04568, 71, 0.01553, 76, 0.02004, 78, 0.01194, 80, 0.01022, 81, 0.01316, 82, 0.03376, 87, 0.01553, 88, 0.00432, 91, 0.00809, 97, 0.01941, 100, 0.01362))\n",
      "('but', (2, 0.01101, 3, 0.02568, 6, 0.02679, 7, 0.03187, 13, 0.05777, 16, 0.0134, 18, 0.00986, 19, 0.01467, 20, 0.01712, 21, 0.01712, 22, 0.00856, 24, 0.01401, 31, 0.02054, 32, 0.00693, 36, 0.0237, 37, 0.01081, 39, 0.01141, 40, 0.02009, 43, 0.0112, 49, 0.02282, 53, 0.01232, 62, 0.00881, 70, 0.01208, 71, 0.03697, 72, 0.01027, 78, 0.01896, 79, 0.0154, 80, 0.01622, 84, 0.05602, 87, 0.01232, 88, 0.01369, 97, 0.0154))\n",
      "('any', (7, 0.01771, 14, 0.01742, 18, 0.00274, 25, 0.01181, 28, 0.00815, 30, 0.00672, 31, 0.01142, 32, 0.00385, 33, 0.01269, 34, 0.01957, 35, 0.02634, 40, 0.03909, 43, 0.00623, 47, 0.02634, 50, 0.00778, 51, 0.01223, 52, 0.01293, 60, 0.01671, 62, 0.00978, 69, 0.01489, 70, 0.00672, 75, 0.00878, 76, 0.00442, 78, 0.00527, 79, 0.00856, 80, 0.00901, 81, 0.01161, 85, 0.01142, 87, 0.00685, 88, 0.00571, 91, 0.00357, 97, 0.00171))\n",
      "('are', (7, 0.01433, 9, 0.02518, 10, 0.01298, 11, 0.01484, 14, 0.00704, 18, 0.02659, 20, 0.02309, 22, 0.00577, 23, 0.01154, 24, 0.00944, 26, 0.02968, 28, 0.00989, 32, 0.00467, 36, 0.01598, 37, 0.00729, 40, 0.00452, 45, 0.01298, 50, 0.02833, 56, 0.02597, 58, 0.00457, 63, 0.03462, 66, 0.01539, 70, 0.04889, 71, 0.01662, 78, 0.02557, 80, 0.01094, 81, 0.00704, 86, 0.01433, 87, 0.00831, 88, 0.00231, 94, 0.01154, 95, 0.00989, 97, 0.01039, 100, 0.02187))\n",
      "('get', (1, 0.03405, 2, 0.00973, 6, 0.02368, 7, 0.00939, 8, 0.01702, 13, 0.06809, 14, 0.00461, 17, 0.01472, 18, 0.00872, 20, 0.01513, 21, 0.01513, 22, 0.00757, 25, 0.03757, 27, 0.01184, 31, 0.03632, 32, 0.00612, 35, 0.0419, 39, 0.01009, 40, 0.02368, 43, 0.0099, 45, 0.03405, 47, 0.01397, 49, 0.02018, 60, 0.02657, 63, 0.0227, 66, 0.04035, 69, 0.02368, 70, 0.01068, 80, 0.00717, 85, 0.01816, 87, 0.03268, 91, 0.00568, 92, 0.0227, 96, 0.03204, 97, 0.01634))\n",
      "('how', (1, 0.03513, 2, 0.03011, 3, 0.02342, 8, 0.03513, 10, 0.01757, 13, 0.03513, 15, 0.04324, 18, 0.01349, 20, 0.01562, 21, 0.04684, 22, 0.00781, 24, 0.01278, 27, 0.01222, 30, 0.02205, 31, 0.01874, 32, 0.01263, 34, 0.01606, 40, 0.00916, 45, 0.01757, 50, 0.02555, 52, 0.01061, 53, 0.01124, 54, 0.01703, 58, 0.00618, 59, 0.01307, 60, 0.01371, 63, 0.02342, 65, 0.04684, 67, 0.0803, 75, 0.00721, 78, 0.00865, 82, 0.02444, 85, 0.03748, 87, 0.01124, 88, 0.00313, 90, 0.03513, 95, 0.01338, 96, 0.03306, 97, 0.00281))\n",
      "('hav', (2, 0.00663, 8, 0.0116, 10, 0.0116, 11, 0.01325, 17, 0.01003, 18, 0.00297, 19, 0.01767, 22, 0.00515, 24, 0.01265, 30, 0.00728, 32, 0.00417, 34, 0.0106, 37, 0.00651, 38, 0.0116, 40, 0.0121, 43, 0.01349, 46, 0.01279, 47, 0.01903, 49, 0.01374, 51, 0.01325, 52, 0.014, 53, 0.00742, 54, 0.01124, 55, 0.01686, 58, 0.00816, 60, 0.0181, 64, 0.06185, 65, 0.00773, 70, 0.00728, 71, 0.00742, 75, 0.00476, 76, 0.00239, 78, 0.01142, 79, 0.01855, 80, 0.01465, 81, 0.02516, 88, 0.01443, 94, 0.02062, 95, 0.00884, 100, 0.01953))\n",
      "('can', (2, 0.00933, 7, 0.01352, 8, 0.01634, 9, 0.00792, 10, 0.00817, 13, 0.01634, 14, 0.00443, 16, 0.00568, 17, 0.00706, 18, 0.00418, 20, 0.00726, 21, 0.00726, 22, 0.01089, 25, 0.00901, 29, 0.01045, 30, 0.00513, 32, 0.00587, 33, 0.00968, 34, 0.00747, 38, 0.00817, 40, 0.00994, 47, 0.0067, 49, 0.00968, 50, 0.01188, 53, 0.00523, 54, 0.00792, 55, 0.02376, 57, 0.01045, 59, 0.01216, 60, 0.00637, 63, 0.01089, 72, 0.00436, 73, 0.00608, 79, 0.0196, 83, 0.00857, 85, 0.00871, 87, 0.00523, 88, 0.0029, 91, 0.00544, 96, 0.03075, 97, 0.01568))\n",
      "('thi', (2, -0.00035, 4, -0.00165, 7, -0.00068, 11, -0.00071, 13, -0.00062, 14, -0.00017, 16, -0.00086, 17, -0.00107, 18, -0.00111, 22, -0.00028, 24, -0.00068, 28, -0.00094, 30, -0.00116, 32, -0.00044, 33, -0.00073, 37, -0.00035, 39, -0.00073, 40, -0.0014, 46, -0.00068, 47, -0.00051, 51, -0.00071, 52, -0.00075, 53, -0.00119, 54, -0.0006, 58, -0.00022, 63, -0.00083, 70, -0.00116, 71, -0.00079, 72, -0.00033, 73, -0.00046, 75, -0.00127, 76, -0.00026, 78, -0.0003, 80, -0.0013, 86, -0.00068, 88, -0.00055, 91, -0.00062, 92, -0.00165, 95, -0.00047, 97, -0.00109, 99, -0.00152, 100, -0.00035))\n",
      "('wha', (5, 0.02349, 11, 0.01594, 14, 0.00378, 18, 0.01071, 19, 0.01063, 22, 0.0124, 23, 0.0124, 24, 0.01014, 26, 0.03188, 27, 0.0097, 28, 0.03188, 30, 0.00875, 32, 0.01003, 33, 0.01653, 36, 0.01716, 37, 0.01566, 39, 0.01653, 40, 0.00727, 44, 0.0248, 47, 0.01144, 52, 0.00842, 53, 0.00893, 56, 0.02789, 57, 0.01785, 58, 0.0049, 71, 0.00893, 72, 0.00744, 75, 0.00572, 76, 0.00864, 77, 0.04959, 79, 0.01116, 80, 0.01175, 81, 0.02269, 83, 0.00731, 85, 0.01487, 88, 0.00496, 89, 0.04463, 90, 0.02789, 91, 0.0186, 95, 0.01063, 97, 0.00669, 100, 0.00783))\n",
      "('tha', (2, -0.0128, 3, -0.00996, 6, -0.01039, 7, -0.00824, 9, -0.00724, 13, -0.01494, 14, -0.01823, 17, -0.00646, 18, -0.0153, 20, -0.00664, 22, -0.01328, 24, -0.01358, 27, -0.0052, 29, -0.01912, 30, -0.01875, 32, -0.00806, 37, -0.00419, 38, -0.00747, 39, -0.00885, 40, -0.01559, 41, -0.01406, 43, -0.00869, 50, -0.00543, 51, -0.01707, 53, -0.00956, 56, -0.02988, 58, -0.00263, 59, -0.00556, 60, -0.00583, 64, -0.03984, 65, -0.01992, 66, -0.00885, 69, -0.01039, 71, -0.00956, 73, -0.01112, 75, -0.00919, 76, -0.00308, 78, -0.00735, 80, -0.01258, 81, -0.0081, 83, -0.00392, 87, -0.00956, 88, -0.0093, 91, -0.00996, 94, -0.00664, 96, -0.01406, 97, -0.00956, 98, -0.00996, 100, -0.00419))\n",
      "('for', (2, -0.00749, 3, -0.01165, 7, -0.00241, 10, -0.0131, 11, -0.00499, 12, -0.01644, 14, -0.00592, 16, -0.00304, 17, -0.00378, 20, -0.00388, 21, -0.00777, 22, -0.00194, 24, -0.00476, 27, -0.00304, 28, -0.00333, 31, -0.00466, 32, -0.00785, 34, -0.00399, 38, -0.00874, 39, -0.00777, 40, -0.00228, 43, -0.00508, 46, -0.00482, 51, -0.00998, 52, -0.01055, 53, -0.0028, 58, -0.00461, 59, -0.00975, 60, -0.00682, 62, -0.00599, 65, -0.00291, 66, -0.00518, 69, -0.00608, 70, -0.00274, 71, -0.00559, 72, -0.00932, 73, -0.013, 75, -0.00179, 76, -0.0018, 78, -0.00215, 79, -0.00699, 80, -0.00736, 81, -0.00474, 82, -0.00608, 83, -0.00458, 85, -0.00466, 88, -0.00699, 91, -0.00291, 95, -0.00333, 97, -0.00419, 98, -0.01165, 100, -0.00245))\n",
      "('you', (2, -0.15044, 3, -0.03901, 5, -0.04927, 7, -0.06456, 8, -0.05851, 9, -0.11346, 10, -0.02925, 13, -0.02925, 14, -0.08726, 18, -0.14977, 19, -0.02229, 20, -0.26003, 21, -0.026, 22, -0.03901, 24, -0.06382, 26, -0.06687, 28, -0.02229, 30, -0.03671, 31, -0.0312, 32, -0.06311, 33, -0.03467, 34, -0.05349, 35, -0.072, 37, -0.0657, 39, -0.03467, 40, -0.0407, 41, -0.05506, 42, -0.0851, 43, -0.05106, 45, -0.02925, 47, -0.024, 48, -0.03467, 51, -0.03343, 52, -0.01766, 53, -0.14977, 54, -0.11346, 55, -0.1702, 56, -0.17552, 57, -0.03744, 59, -0.19592, 60, -0.04566, 62, -0.04012, 65, -0.05851, 70, -0.01836, 71, -0.03744, 72, -0.0156, 73, -0.02177, 75, -0.06, 76, -0.00604, 78, -0.12961, 80, -0.02464, 81, -0.07933, 82, -0.0814, 85, -0.06241, 86, -0.06456, 87, -0.14977, 88, -0.026, 89, -0.09361, 90, -0.11701, 91, -0.02925, 92, -0.03901, 94, -0.05201, 95, -0.06687, 97, -0.21062, 100, -0.01642))\n",
      "('and', (1, -0.05498, 2, -0.07854, 4, -0.0733, 5, -0.04629, 7, -0.03033, 8, -0.05498, 9, -0.02665, 11, -0.06283, 14, -0.03727, 15, -0.13533, 16, -0.01912, 17, -0.02378, 18, -0.04926, 19, -0.04189, 21, -0.04887, 22, -0.0733, 24, -0.02999, 25, -0.06067, 27, -0.01912, 28, -0.04189, 30, -0.0345, 31, -0.02932, 32, -0.06918, 33, -0.03258, 34, -0.05026, 36, -0.06766, 37, -0.04629, 38, -0.02749, 39, -0.03258, 40, -0.08605, 41, -0.10349, 43, -0.06398, 45, -0.05498, 46, -0.03033, 47, -0.02255, 48, -0.06515, 50, -0.07997, 51, -0.03141, 52, -0.0166, 53, -0.05278, 57, -0.07037, 58, -0.029, 59, -0.10228, 60, -0.06436, 62, -0.0377, 63, -0.03665, 65, -0.0733, 66, -0.03258, 70, -0.05174, 71, -0.01759, 72, -0.01466, 73, -0.04091, 74, -0.02838, 75, -0.03383, 76, -0.10215, 78, -0.12179, 79, -0.02199, 80, -0.03472, 81, -0.02982, 82, -0.07649, 83, -0.12978, 85, -0.08796, 86, -0.03033, 87, -0.01759, 88, -0.06353, 90, -0.05498, 91, -0.14661, 92, -0.03665, 94, -0.02444, 97, -0.04838, 98, -0.0733, 99, -0.06766, 100, -0.06173))\n",
      "('the', (1, -0.76906, 2, -0.18834, 4, -0.14648, 5, -0.27755, 6, -0.15286, 7, -0.24246, 8, -0.10987, 9, -0.15981, 10, -0.10987, 11, -0.06277, 12, -0.20681, 13, -0.3296, 14, -0.19366, 15, -0.13521, 16, -0.45857, 17, -0.4751, 18, -0.28126, 19, -0.33484, 20, -0.19532, 21, -0.09767, 22, -0.07325, 23, -0.09767, 24, -0.55932, 25, -0.24246, 26, -0.37669, 27, -0.34392, 28, -0.16742, 29, -0.21094, 30, -0.03447, 31, -0.35157, 32, -0.13826, 33, -0.1302, 35, -0.13521, 36, -0.33805, 37, -0.33923, 38, -0.05493, 39, -0.26043, 40, -0.16241, 41, -0.31021, 43, -0.31961, 44, -0.19532, 45, -0.1648, 46, -0.18185, 47, -0.27045, 48, -0.06511, 49, -0.19532, 50, -0.59927, 51, -0.3139, 52, -0.13267, 53, -0.21094, 54, -0.31961, 56, -0.10987, 57, -0.28126, 58, -0.3477, 59, -0.24527, 60, -0.30012, 62, -0.07534, 63, -0.07325, 65, -0.18312, 69, -0.38214, 70, -0.24127, 71, -0.14063, 72, -0.26368, 73, -0.24527, 74, -0.17011, 75, -0.31552, 76, -0.27219, 78, -0.21636, 79, -0.30763, 80, -0.25443, 81, -0.05959, 82, -0.15286, 83, -0.14409, 85, -0.17579, 86, -0.30307, 87, -0.14063, 88, -0.60548, 89, -0.35157, 91, -0.20142, 92, -0.14648, 94, -0.29298, 95, -0.20927, 97, -0.20215, 98, -0.21973, 99, -0.13521, 100, -0.18503))\n"
     ]
    }
   ],
   "source": [
    "trigram_rdd = tfidf_weight(dataset_path, sc, ngram='tri', sample_size=100, verbose=True)"
   ]
  },
  {
   "source": [
    "## Análisis\n",
    "\n",
    "Tanto para palabras, bigramas y trigramas, el patrón es el mismo. Los primeros elementos tienen un peso _tfidf_ que varía entre $0.1$ y $0.45$. Lo que nos indica esto, es que estos gramas, dentro de los documentos, son aquellos que aportan mayor valor dentro de los documentos. Recordemos que el _term frequency inverse document frequency_ es una medida estadística que relaciona la frecuencia de cada palabra en cada documento y en todo el corpus, por lo que, para un determinado corpus, nos indica la relevancia de cada palabra. \n",
    "\n",
    "Dicho lo anterior, podemos esperar que los gramas más comunes dentro del inglés, como artículos, sean aquellos que tengan un valor muy bajo de _tfidf_. Y podemos verificar que, en efecto, esto se cumple. Para el artículo 'the', el grama más común en el inglés, aparece en la mayoría de los documentos y tiene valores de _tfidf_ que varían entre $-0.12$ y $-0.03$. Valores muy pequeños en comparación con los gramas más comunes. \n",
    "\n",
    "Interesante destacar que para los trigramas, 'the' sigue siendo el más común pero los valores cambian radicalmente. Ahora se encuentra en un rango entre $-0.76$ y $-0.18$ lo que nos indica que su valor y relevancia dentro del corpus de trigramas es mucho menor. De igual manera, para los bigramas, 'th' es el más común con valores en un rango entre $-0.8$ y $-0.3$"
   ],
   "cell_type": "markdown",
   "metadata": {}
  },
  {
   "source": [
    "## 6. Calcular el histograma del número de ocurrencias por documento de cada una de las 10 palabras con mayor ocurrencia total"
   ],
   "cell_type": "markdown",
   "metadata": {}
  },
  {
   "source": [
    "### Auxiliary Functions"
   ],
   "cell_type": "markdown",
   "metadata": {}
  },
  {
   "cell_type": "code",
   "execution_count": 11,
   "metadata": {},
   "outputs": [],
   "source": [
    "def verbose_common(rdd, mcw):\n",
    "    print(\"\\n\\n-------------------------------------------\")\n",
    "    print(\"|                                         |\")\n",
    "    print(f\"|         Top {mcw} most common words        |\")\n",
    "    print(\"|                                         |\")\n",
    "    print(\"-------------------------------------------\")\n",
    "    for el in rdd: print(el)\n",
    "\n",
    "def verbose_doc_id(rdd, sample_size):\n",
    "    print(\"-------------------------------------------\")\n",
    "    print(\"|                                         |\")\n",
    "    print(\"|              Addind doc_id              |\")\n",
    "    print(\"|                                         |\")\n",
    "    print(\"-------------------------------------------\")\n",
    "    for el in rdd.take(sample_size): print(el)\n",
    "\n",
    "def verbose_broadcast(rdd, sample_size):\n",
    "    print(\"\\n\\n-------------------------------------------\")\n",
    "    print(\"|                                         |\")\n",
    "    print(\"|           Broadcasting doc_id           |\")\n",
    "    print(\"|                                         |\")\n",
    "    print(\"-------------------------------------------\")\n",
    "    for el in rdd.take(sample_size): print(el)\n",
    "\n",
    "def verbose_filter(rdd, sample_size):\n",
    "    print(\"\\n\\n-------------------------------------------\")\n",
    "    print(\"|                                         |\")\n",
    "    print(\"|         Filtering by mcw words          |\")\n",
    "    print(\"|             (doc_id, word)              |\")\n",
    "    print(\"|                                         |\")\n",
    "    print(\"-------------------------------------------\")\n",
    "    for el in rdd.take(sample_size): print(el)\n",
    "\n",
    "\n",
    "def verbose_grouping(rdd, sample_size):\n",
    "    print(\"\\n\\n-------------------------------------------\")\n",
    "    print(\"|                                         |\")\n",
    "    print(\"|          Grouping by mcw words          |\")\n",
    "    print(\"|        (word, list of documents)        |\")\n",
    "    print(\"|                                         |\")\n",
    "    print(\"-------------------------------------------\")\n",
    "    for el in rdd.take(sample_size):\n",
    "        word = el[0]\n",
    "        documents = el[1]\n",
    "        print(f\"Key word: \\'{word}\\'\\nDocuments where \\'{word}\\' appears:\")\n",
    "        print(f\"{documents}\\n\\n\")\n",
    "\n",
    "def verbose_counting(rdd, sample_size):\n",
    "    print(\"\\n\\n-------------------------------------------\")\n",
    "    print(\"|                                         |\")\n",
    "    print(\"|      Counting document appearances      |\")\n",
    "    print(\"|    (word, [(doc_id, frequency), ...])   |\")\n",
    "    print(\"|                                         |\")\n",
    "    print(\"-------------------------------------------\")\n",
    "    for el in rdd.take(sample_size):\n",
    "        word = el[0]\n",
    "        documents = el[1]\n",
    "        print(f\"Key word: \\'{word}\\'\\nDocuments where \\'{word}\\' appears with its frequency:\")\n",
    "        print(f\"{documents}\\n\\n\")"
   ]
  },
  {
   "source": [
    "### Most common words MCW"
   ],
   "cell_type": "markdown",
   "metadata": {}
  },
  {
   "cell_type": "code",
   "execution_count": 12,
   "metadata": {},
   "outputs": [],
   "source": [
    "def get_most_common_words(mcw, path, sc, sample_size, verbose=False):\n",
    "    \"\"\"\n",
    "    Given a Spark's Resilient Distributed Dataset, this function finds the top 10 most common words. \n",
    "\n",
    "    Parameters:\n",
    "    -----------\n",
    "    mcw: int\n",
    "        Represents the number of most common words wanted\n",
    "\n",
    "    path: Spark's Resilient Distributed Dataset (RDD) path\n",
    "\n",
    "    sc: Spark's SparkContext object\n",
    "\n",
    "    Returns:\n",
    "    --------\n",
    "    top10_common_words: list\n",
    "    \"\"\"\n",
    "    #0: Build Corpus\n",
    "    (original_rdd_list, rdd) = build_corpus(path, sc, 'n', sample_size)\n",
    "    if verbose: verbose_corpus(rdd, original_rdd_list, sample_size=3)\n",
    "    #1: Top 10 words\n",
    "    mcw_words = rdd.map(lambda x: [(word, 1) for word in x]) \\\n",
    "        .flatMap(lambda x: x) \\\n",
    "            .reduceByKey(lambda a, b: a + b) \\\n",
    "                .sortBy(lambda x: x[1], ascending=False) \\\n",
    "                    .take(mcw)\n",
    "    if verbose: verbose_common(mcw_words, mcw)\n",
    "    return (mcw_words, rdd)"
   ]
  },
  {
   "cell_type": "code",
   "execution_count": 13,
   "metadata": {},
   "outputs": [
    {
     "output_type": "stream",
     "name": "stdout",
     "text": [
      "-------------------------------------------\n|                                         |\n|                Corpus                   |\n|                                         |\n-------------------------------------------\nIndex: 0 \t Length: 228\n-----------------------------------------\nOriginal doc: \n\"1\",\"Holy Prepuce?  Where is it?   Or, does Jesus have it back?\",\"Holy Prepuce\\nFrom Wikipedia, the free encyclopedia\\n\\n11th-century Icon of Christ Pantocrator.The Holy Prepuce, or Holy Foreskin (Latin præputium) is one of several relics purported to be associated with Jesus. At various points in history, a number of churches in Europe have claimed to possess it, sometimes at the same time. Various miraculous powers have been ascribed to it.\\n\\nWhen Jesus was retored on Sunday and His body completely Resurrrected, was his foreskin restored along with the dead brain cells and the open wounds?\\n\\nIf you went to Heaven and met Jesus tomorrow, would he have his foreskin?\\n\\n\\nWhat should I teach my class in public school about the foreskin of Jesus?  Just the Feast of Circumcision on January 1?\\n\\n\\n(I know that I am not 'supposed' to teach the Bible in public schoool, but Jesus spoke to me and He said that I should spread all of His Holy Word to the children)\",\"From your own source:\\n\\nThe authenticity of the Holy Foreskin claimed by St. John Lateran in Rome is said to have been proven in 1527 when the troops of Holy Roman Emperor Charles V sacked Rome. The relic fell into their hands for a time, and was allegedly put to the test by bringing a virgin girl before it, whereupon the foreskin expanded!\"\n\nCleaned doc: \n['holy', 'prepuce', 'where', 'is', 'it', 'or', 'does', 'jesus', 'have', 'it', 'back', 'holy', 'prepuce', 'from', 'wikipedia', 'the', 'free', 'encyclopedia', '11thcentury', 'icon', 'of', 'christ', 'pantocratorthe', 'holy', 'prepuce', 'or', 'holy', 'foreskin', 'latin', 'prputium', 'is', 'one', 'of', 'several', 'relics', 'purported', 'to', 'be', 'associated', 'with', 'jesus', 'at', 'various', 'points', 'in', 'history', 'a', 'number', 'of', 'churches', 'in', 'europe', 'have', 'claimed', 'to', 'possess', 'it', 'sometimes', 'at', 'the', 'same', 'time', 'various', 'miraculous', 'powers', 'have', 'been', 'ascribed', 'to', 'it', 'when', 'jesus', 'was', 'retored', 'on', 'sunday', 'and', 'his', 'body', 'completely', 'resurrrected', 'was', 'his', 'foreskin', 'restored', 'along', 'with', 'the', 'dead', 'brain', 'cells', 'and', 'the', 'open', 'wounds', 'if', 'you', 'went', 'to', 'heaven', 'and', 'met', 'jesus', 'tomorrow', 'would', 'he', 'have', 'his', 'foreskin', 'what', 'should', 'i', 'teach', 'my', 'class', 'in', 'public', 'school', 'about', 'the', 'foreskin', 'of', 'jesus', 'just', 'the', 'feast', 'of', 'circumcision', 'on', 'january', '1', 'i', 'know', 'that', 'i', 'am', 'not', 'supposed', 'to', 'teach', 'the', 'bible', 'in', 'public', 'schoool', 'but', 'jesus', 'spoke', 'to', 'me', 'and', 'he', 'said', 'that', 'i', 'should', 'spread', 'all', 'of', 'his', 'holy', 'word', 'to', 'the', 'children', 'from', 'your', 'own', 'source', 'the', 'authenticity', 'of', 'the', 'holy', 'foreskin', 'claimed', 'by', 'st', 'john', 'lateran', 'in', 'rome', 'is', 'said', 'to', 'have', 'been', 'proven', 'in', '1527', 'when', 'the', 'troops', 'of', 'holy', 'roman', 'emperor', 'charles', 'v', 'sacked', 'rome', 'the', 'relic', 'fell', 'into', 'their', 'hands', 'for', 'a', 'time', 'and', 'was', 'allegedly', 'put', 'to', 'the', 'test', 'by', 'bringing', 'a', 'virgin', 'girl', 'before', 'it', 'whereupon', 'the', 'foreskin', 'expanded']\n\n\nIndex: 1 \t Length: 54\n-----------------------------------------\nOriginal doc: \n\"1\",\"What are your favorite spiritual websites?\",\"I am more interested in non-denominational websites not tied to any one religon - just focused more on what all the different religons have in common. Grace, Kindness, Guidance, Inner Peace.\",\"I go to Beliefnet a lot. It is not tied to one religion. Here's the link.\\n\\nhttp://www.beliefnet.com\"\n\nCleaned doc: \n['what', 'are', 'your', 'favorite', 'spiritual', 'websites', 'i', 'am', 'more', 'interested', 'in', 'nondenominational', 'websites', 'not', 'tied', 'to', 'any', 'one', 'religon', 'just', 'focused', 'more', 'on', 'what', 'all', 'the', 'different', 'religons', 'have', 'in', 'common', 'grace', 'kindness', 'guidance', 'inner', 'peace', 'i', 'go', 'to', 'beliefnet', 'a', 'lot', 'it', 'is', 'not', 'tied', 'to', 'one', 'religion', 'heres', 'the', 'link', 'http', 'wwwbeliefnetcom']\n\n\nIndex: 2 \t Length: 287\n-----------------------------------------\nOriginal doc: \n\"2\",\"Alien abduction a true telling : question > What do you think ans have you a tale of your own ... ?\",\"it was not abduction but close to it...\\nnow for those that dont know the boundries between PSI powers and magic are not clear to us...\\na magic spell can cross the boundry to have a PSI effect and\\nPSIKIC users can become a magician if happening to encounter a deamon or elemental or enything ... not an alien\\n\\non one occasion i was working on a magical ring pution power into it..\\nthis is almost PSI but isent however this was the sacond time i had worked this ring and it was to much power ...\\nin short it broke ... a broken spell relieces a braud rainge of powers and one force is PSI\\nthis was noticed by ... the Gray aliens i think...\\n\\nthere space ship came over the house over my window ( covered )\\nthe things you will notice as a mage about anti grave is this:\\n\\none anti grave covers all objects with a field\\n\\nTwo this field was PSI based with 3 linked member around a ball or some object ( i probed them )\\n\\nThree it feels like a light pressure on all thing even for instance\",\"I have news for you.\\n\\nWe, the dominant creatures here are known as Earth-men because, this is the planet known by we inhabitants as Earth. \\n\\nI suggest - and quite warmly to you - that you took a wrong turning and arrived her by mistake (grin - nervous - grin).\\n\\nMight I suggest you get in touch with Joderal Bank or Mount Polomar, and try to 'phone home'! Maybe a friend or relative can come over and collect you! Take you home - with them!!\\n\\n\\nRegards.\\nAnonymous\"\n\nCleaned doc: \n['alien', 'abduction', 'a', 'true', 'telling', 'question', 'what', 'do', 'you', 'think', 'ans', 'have', 'you', 'a', 'tale', 'of', 'your', 'own', 'it', 'was', 'not', 'abduction', 'but', 'close', 'to', 'it', 'now', 'for', 'those', 'that', 'dont', 'know', 'the', 'boundries', 'between', 'psi', 'powers', 'and', 'magic', 'are', 'not', 'clear', 'to', 'us', 'a', 'magic', 'spell', 'can', 'cross', 'the', 'boundry', 'to', 'have', 'a', 'psi', 'effect', 'and', 'psikic', 'users', 'can', 'become', 'a', 'magician', 'if', 'happening', 'to', 'encounter', 'a', 'deamon', 'or', 'elemental', 'or', 'enything', 'not', 'an', 'alien', 'on', 'one', 'occasion', 'i', 'was', 'working', 'on', 'a', 'magical', 'ring', 'pution', 'power', 'into', 'it', 'this', 'is', 'almost', 'psi', 'but', 'isent', 'however', 'this', 'was', 'the', 'sacond', 'time', 'i', 'had', 'worked', 'this', 'ring', 'and', 'it', 'was', 'to', 'much', 'power', 'in', 'short', 'it', 'broke', 'a', 'broken', 'spell', 'relieces', 'a', 'braud', 'rainge', 'of', 'powers', 'and', 'one', 'force', 'is', 'psi', 'this', 'was', 'noticed', 'by', 'the', 'gray', 'aliens', 'i', 'think', 'there', 'space', 'ship', 'came', 'over', 'the', 'house', 'over', 'my', 'window', 'covered', 'the', 'things', 'you', 'will', 'notice', 'as', 'a', 'mage', 'about', 'anti', 'grave', 'is', 'this', 'one', 'anti', 'grave', 'covers', 'all', 'objects', 'with', 'a', 'field', 'two', 'this', 'field', 'was', 'psi', 'based', 'with', '3', 'linked', 'member', 'around', 'a', 'ball', 'or', 'some', 'object', 'i', 'probed', 'them', 'three', 'it', 'feels', 'like', 'a', 'light', 'pressure', 'on', 'all', 'thing', 'even', 'for', 'instance', 'i', 'have', 'news', 'for', 'you', 'we', 'the', 'dominant', 'creatures', 'here', 'are', 'known', 'as', 'earthmen', 'because', 'this', 'is', 'the', 'planet', 'known', 'by', 'we', 'inhabitants', 'as', 'earth', 'i', 'suggest', 'and', 'quite', 'warmly', 'to', 'you', 'that', 'you', 'took', 'a', 'wrong', 'turning', 'and', 'arrived', 'her', 'by', 'mistake', 'grin', 'nervous', 'grin', 'might', 'i', 'suggest', 'you', 'get', 'in', 'touch', 'with', 'joderal', 'bank', 'or', 'mount', 'polomar', 'and', 'try', 'to', 'phone', 'home', 'maybe', 'a', 'friend', 'or', 'relative', 'can', 'come', 'over', 'and', 'collect', 'you', 'take', 'you', 'home', 'with', 'them', 'regards', 'anonymous']\n\n\n\n\n-------------------------------------------\n|                                         |\n|         Top 10 most common words        |\n|                                         |\n-------------------------------------------\n('the', 475)\n('to', 330)\n('a', 252)\n('and', 230)\n('i', 223)\n('of', 218)\n('is', 179)\n('you', 171)\n('in', 159)\n('it', 151)\n"
     ]
    }
   ],
   "source": [
    "(mcw_words, rdd) = get_most_common_words(mcw=10, path=dataset_path, sc=sc, sample_size=100, verbose=True)"
   ]
  },
  {
   "source": [
    "### Word Frequency per Document"
   ],
   "cell_type": "markdown",
   "metadata": {}
  },
  {
   "cell_type": "code",
   "execution_count": 28,
   "metadata": {},
   "outputs": [],
   "source": [
    "def word_frequency_in_document(rdd, words, verbose=False):\n",
    "    \"\"\"\n",
    "    For each word in words list, this function will return a list of documents\n",
    "    containing that word and the word frequency for each document. \n",
    "\n",
    "    Parameters:\n",
    "    -----------\n",
    "    rdd: Spark's Resilient Distributed Dataset RDD\n",
    "\n",
    "    words: list of str\n",
    "\n",
    "    Return: \n",
    "    -------\n",
    "    rdd: Spark's Resilient Distributed Dataset RDD\n",
    "        Format:\n",
    "            key <- word\n",
    "            value <- list of tuples. Each tuple contains the document id and the\n",
    "                word frequency\n",
    "    \"\"\"\n",
    "    #0: Add document id\n",
    "    rdd = rdd.map(add_document_id)\n",
    "    if verbose: verbose_doc_id(rdd, sample_size=2)\n",
    "    #1: Broadcasting document id to words in document\n",
    "    rdd = rdd.map(lambda x: [(x[0], word) for word in x[1]])\n",
    "    if verbose: verbose_broadcast(rdd, sample_size=1)\n",
    "    #2: Filtering per most common words list\n",
    "    rdd = rdd.flatMap(lambda x: x) \\\n",
    "                .filter(lambda x: x[1] in words)\n",
    "    if verbose: verbose_filter(rdd, sample_size=20)\n",
    "    #3: Grouping by key\n",
    "    rdd = rdd.map(lambda x: (x[1], x[0])) \\\n",
    "                        .groupByKey() \\\n",
    "                            .mapValues(list)\n",
    "    if verbose: verbose_grouping(rdd, sample_size=len(words))\n",
    "    #4: Counting repeated documents per word\n",
    "    rdd = rdd.map(lambda x: [((x[0], doc_id), 1) for doc_id in x[1]]) \\\n",
    "        .flatMap(lambda x: x) \\\n",
    "            .reduceByKey(lambda a, b: a + b) \\\n",
    "                .map(lambda x: (x[0][0], (x[0][1], x[1]))) \\\n",
    "                    .groupByKey() \\\n",
    "                        .mapValues(list) \\\n",
    "                            .sortBy(lambda x: x[0])\n",
    "    if verbose: verbose_counting(rdd, sample_size=len(words))\n",
    "    return rdd\n",
    "\n",
    "doc_id = 0\n",
    "def add_document_id(document):\n",
    "    global doc_id\n",
    "    doc_id += 1\n",
    "    return (doc_id, document)"
   ]
  },
  {
   "cell_type": "code",
   "execution_count": 31,
   "metadata": {},
   "outputs": [
    {
     "output_type": "stream",
     "name": "stdout",
     "text": [
      "-------------------------------------------\n",
      "|                                         |\n",
      "|              Addind doc_id              |\n",
      "|                                         |\n",
      "-------------------------------------------\n",
      "(1, ['holy', 'prepuce', 'where', 'is', 'it', 'or', 'does', 'jesus', 'have', 'it', 'back', 'holy', 'prepuce', 'from', 'wikipedia', 'the', 'free', 'encyclopedia', '11thcentury', 'icon', 'of', 'christ', 'pantocratorthe', 'holy', 'prepuce', 'or', 'holy', 'foreskin', 'latin', 'prputium', 'is', 'one', 'of', 'several', 'relics', 'purported', 'to', 'be', 'associated', 'with', 'jesus', 'at', 'various', 'points', 'in', 'history', 'a', 'number', 'of', 'churches', 'in', 'europe', 'have', 'claimed', 'to', 'possess', 'it', 'sometimes', 'at', 'the', 'same', 'time', 'various', 'miraculous', 'powers', 'have', 'been', 'ascribed', 'to', 'it', 'when', 'jesus', 'was', 'retored', 'on', 'sunday', 'and', 'his', 'body', 'completely', 'resurrrected', 'was', 'his', 'foreskin', 'restored', 'along', 'with', 'the', 'dead', 'brain', 'cells', 'and', 'the', 'open', 'wounds', 'if', 'you', 'went', 'to', 'heaven', 'and', 'met', 'jesus', 'tomorrow', 'would', 'he', 'have', 'his', 'foreskin', 'what', 'should', 'i', 'teach', 'my', 'class', 'in', 'public', 'school', 'about', 'the', 'foreskin', 'of', 'jesus', 'just', 'the', 'feast', 'of', 'circumcision', 'on', 'january', '1', 'i', 'know', 'that', 'i', 'am', 'not', 'supposed', 'to', 'teach', 'the', 'bible', 'in', 'public', 'schoool', 'but', 'jesus', 'spoke', 'to', 'me', 'and', 'he', 'said', 'that', 'i', 'should', 'spread', 'all', 'of', 'his', 'holy', 'word', 'to', 'the', 'children', 'from', 'your', 'own', 'source', 'the', 'authenticity', 'of', 'the', 'holy', 'foreskin', 'claimed', 'by', 'st', 'john', 'lateran', 'in', 'rome', 'is', 'said', 'to', 'have', 'been', 'proven', 'in', '1527', 'when', 'the', 'troops', 'of', 'holy', 'roman', 'emperor', 'charles', 'v', 'sacked', 'rome', 'the', 'relic', 'fell', 'into', 'their', 'hands', 'for', 'a', 'time', 'and', 'was', 'allegedly', 'put', 'to', 'the', 'test', 'by', 'bringing', 'a', 'virgin', 'girl', 'before', 'it', 'whereupon', 'the', 'foreskin', 'expanded'])\n",
      "(2, ['what', 'are', 'your', 'favorite', 'spiritual', 'websites', 'i', 'am', 'more', 'interested', 'in', 'nondenominational', 'websites', 'not', 'tied', 'to', 'any', 'one', 'religon', 'just', 'focused', 'more', 'on', 'what', 'all', 'the', 'different', 'religons', 'have', 'in', 'common', 'grace', 'kindness', 'guidance', 'inner', 'peace', 'i', 'go', 'to', 'beliefnet', 'a', 'lot', 'it', 'is', 'not', 'tied', 'to', 'one', 'religion', 'heres', 'the', 'link', 'http', 'wwwbeliefnetcom'])\n",
      "\n",
      "\n",
      "-------------------------------------------\n",
      "|                                         |\n",
      "|           Broadcasting doc_id           |\n",
      "|                                         |\n",
      "-------------------------------------------\n",
      "[(1, 'holy'), (1, 'prepuce'), (1, 'where'), (1, 'is'), (1, 'it'), (1, 'or'), (1, 'does'), (1, 'jesus'), (1, 'have'), (1, 'it'), (1, 'back'), (1, 'holy'), (1, 'prepuce'), (1, 'from'), (1, 'wikipedia'), (1, 'the'), (1, 'free'), (1, 'encyclopedia'), (1, '11thcentury'), (1, 'icon'), (1, 'of'), (1, 'christ'), (1, 'pantocratorthe'), (1, 'holy'), (1, 'prepuce'), (1, 'or'), (1, 'holy'), (1, 'foreskin'), (1, 'latin'), (1, 'prputium'), (1, 'is'), (1, 'one'), (1, 'of'), (1, 'several'), (1, 'relics'), (1, 'purported'), (1, 'to'), (1, 'be'), (1, 'associated'), (1, 'with'), (1, 'jesus'), (1, 'at'), (1, 'various'), (1, 'points'), (1, 'in'), (1, 'history'), (1, 'a'), (1, 'number'), (1, 'of'), (1, 'churches'), (1, 'in'), (1, 'europe'), (1, 'have'), (1, 'claimed'), (1, 'to'), (1, 'possess'), (1, 'it'), (1, 'sometimes'), (1, 'at'), (1, 'the'), (1, 'same'), (1, 'time'), (1, 'various'), (1, 'miraculous'), (1, 'powers'), (1, 'have'), (1, 'been'), (1, 'ascribed'), (1, 'to'), (1, 'it'), (1, 'when'), (1, 'jesus'), (1, 'was'), (1, 'retored'), (1, 'on'), (1, 'sunday'), (1, 'and'), (1, 'his'), (1, 'body'), (1, 'completely'), (1, 'resurrrected'), (1, 'was'), (1, 'his'), (1, 'foreskin'), (1, 'restored'), (1, 'along'), (1, 'with'), (1, 'the'), (1, 'dead'), (1, 'brain'), (1, 'cells'), (1, 'and'), (1, 'the'), (1, 'open'), (1, 'wounds'), (1, 'if'), (1, 'you'), (1, 'went'), (1, 'to'), (1, 'heaven'), (1, 'and'), (1, 'met'), (1, 'jesus'), (1, 'tomorrow'), (1, 'would'), (1, 'he'), (1, 'have'), (1, 'his'), (1, 'foreskin'), (1, 'what'), (1, 'should'), (1, 'i'), (1, 'teach'), (1, 'my'), (1, 'class'), (1, 'in'), (1, 'public'), (1, 'school'), (1, 'about'), (1, 'the'), (1, 'foreskin'), (1, 'of'), (1, 'jesus'), (1, 'just'), (1, 'the'), (1, 'feast'), (1, 'of'), (1, 'circumcision'), (1, 'on'), (1, 'january'), (1, '1'), (1, 'i'), (1, 'know'), (1, 'that'), (1, 'i'), (1, 'am'), (1, 'not'), (1, 'supposed'), (1, 'to'), (1, 'teach'), (1, 'the'), (1, 'bible'), (1, 'in'), (1, 'public'), (1, 'schoool'), (1, 'but'), (1, 'jesus'), (1, 'spoke'), (1, 'to'), (1, 'me'), (1, 'and'), (1, 'he'), (1, 'said'), (1, 'that'), (1, 'i'), (1, 'should'), (1, 'spread'), (1, 'all'), (1, 'of'), (1, 'his'), (1, 'holy'), (1, 'word'), (1, 'to'), (1, 'the'), (1, 'children'), (1, 'from'), (1, 'your'), (1, 'own'), (1, 'source'), (1, 'the'), (1, 'authenticity'), (1, 'of'), (1, 'the'), (1, 'holy'), (1, 'foreskin'), (1, 'claimed'), (1, 'by'), (1, 'st'), (1, 'john'), (1, 'lateran'), (1, 'in'), (1, 'rome'), (1, 'is'), (1, 'said'), (1, 'to'), (1, 'have'), (1, 'been'), (1, 'proven'), (1, 'in'), (1, '1527'), (1, 'when'), (1, 'the'), (1, 'troops'), (1, 'of'), (1, 'holy'), (1, 'roman'), (1, 'emperor'), (1, 'charles'), (1, 'v'), (1, 'sacked'), (1, 'rome'), (1, 'the'), (1, 'relic'), (1, 'fell'), (1, 'into'), (1, 'their'), (1, 'hands'), (1, 'for'), (1, 'a'), (1, 'time'), (1, 'and'), (1, 'was'), (1, 'allegedly'), (1, 'put'), (1, 'to'), (1, 'the'), (1, 'test'), (1, 'by'), (1, 'bringing'), (1, 'a'), (1, 'virgin'), (1, 'girl'), (1, 'before'), (1, 'it'), (1, 'whereupon'), (1, 'the'), (1, 'foreskin'), (1, 'expanded')]\n",
      "\n",
      "\n",
      "-------------------------------------------\n",
      "|                                         |\n",
      "|         Filtering by mcw words          |\n",
      "|             (doc_id, word)              |\n",
      "|                                         |\n",
      "-------------------------------------------\n",
      "(1, 'is')\n",
      "(1, 'it')\n",
      "(1, 'it')\n",
      "(1, 'the')\n",
      "(1, 'of')\n",
      "(1, 'is')\n",
      "(1, 'of')\n",
      "(1, 'to')\n",
      "(1, 'in')\n",
      "(1, 'a')\n",
      "(1, 'of')\n",
      "(1, 'in')\n",
      "(1, 'to')\n",
      "(1, 'it')\n",
      "(1, 'the')\n",
      "(1, 'to')\n",
      "(1, 'it')\n",
      "(1, 'and')\n",
      "(1, 'the')\n",
      "(1, 'and')\n",
      "\n",
      "\n",
      "-------------------------------------------\n",
      "|                                         |\n",
      "|          Grouping by mcw words          |\n",
      "|        (word, list of documents)        |\n",
      "|                                         |\n",
      "-------------------------------------------\n",
      "Key word: 'is'\n",
      "Documents where 'is' appears:\n",
      "[1, 1, 1, 2, 3, 3, 3, 3, 4, 4, 5, 7, 7, 7, 7, 7, 8, 9, 9, 11, 11, 12, 14, 18, 18, 18, 18, 18, 18, 18, 18, 18, 18, 18, 18, 18, 18, 19, 19, 19, 19, 19, 20, 20, 22, 25, 27, 27, 27, 27, 28, 29, 29, 30, 31, 31, 34, 35, 35, 35, 36, 36, 36, 36, 36, 36, 36, 36, 37, 37, 38, 39, 41, 43, 44, 47, 48, 48, 48, 49, 49, 52, 53, 54, 54, 54, 54, 54, 54, 54, 54, 54, 55, 55, 55, 56, 57, 57, 57, 57, 57, 57, 57, 57, 57, 57, 57, 57, 57, 57, 57, 57, 58, 60, 60, 60, 62, 62, 62, 63, 63, 63, 63, 64, 65, 65, 65, 65, 65, 67, 68, 68, 68, 69, 70, 70, 70, 71, 72, 73, 73, 74, 74, 75, 76, 76, 76, 76, 76, 76, 76, 76, 79, 80, 82, 83, 84, 84, 84, 84, 84, 84, 84, 84, 85, 87, 88, 88, 89, 90, 94, 94, 95, 95, 95, 96, 96, 98, 98]\n",
      "\n",
      "\n",
      "Key word: 'it'\n",
      "Documents where 'it' appears:\n",
      "[1, 1, 1, 1, 1, 2, 3, 3, 3, 3, 3, 3, 4, 4, 7, 7, 8, 8, 8, 9, 9, 9, 9, 9, 12, 12, 13, 13, 14, 14, 16, 17, 18, 18, 21, 22, 24, 25, 25, 25, 25, 25, 25, 25, 25, 26, 27, 27, 28, 29, 29, 29, 29, 29, 29, 29, 29, 30, 31, 36, 36, 36, 36, 36, 37, 39, 39, 40, 42, 48, 49, 49, 49, 49, 50, 50, 52, 55, 57, 57, 57, 57, 57, 57, 57, 57, 57, 58, 58, 58, 58, 58, 58, 60, 61, 63, 63, 65, 65, 65, 65, 65, 66, 68, 68, 69, 69, 69, 70, 72, 73, 76, 76, 76, 76, 76, 77, 77, 81, 82, 82, 82, 83, 83, 83, 83, 84, 84, 84, 84, 84, 84, 85, 85, 85, 87, 87, 87, 88, 89, 89, 89, 92, 93, 94, 94, 95, 95, 97, 98, 100]\n",
      "\n",
      "\n",
      "Key word: 'the'\n",
      "Documents where 'the' appears:\n",
      "[1, 1, 1, 1, 1, 1, 1, 1, 1, 1, 1, 1, 1, 1, 2, 2, 3, 3, 3, 3, 3, 3, 3, 3, 4, 5, 5, 5, 6, 7, 7, 7, 7, 7, 8, 8, 9, 9, 9, 9, 9, 9, 9, 9, 9, 9, 9, 10, 11, 12, 12, 14, 14, 14, 15, 16, 16, 16, 16, 16, 16, 16, 16, 16, 16, 17, 17, 17, 18, 18, 18, 18, 18, 18, 18, 18, 18, 18, 18, 18, 18, 18, 18, 18, 18, 18, 18, 18, 18, 18, 18, 18, 18, 18, 18, 18, 18, 18, 18, 18, 18, 18, 18, 18, 18, 18, 18, 18, 18, 18, 18, 19, 19, 19, 19, 19, 19, 23, 23, 23, 23, 23, 25, 25, 25, 25, 25, 25, 25, 25, 25, 25, 25, 25, 25, 25, 25, 25, 25, 25, 25, 25, 26, 27, 27, 27, 27, 28, 29, 29, 29, 29, 29, 29, 29, 29, 29, 29, 29, 29, 29, 30, 30, 30, 30, 31, 33, 34, 35, 35, 35, 35, 35, 36, 36, 36, 36, 36, 36, 36, 36, 36, 36, 36, 36, 36, 36, 36, 36, 36, 36, 36, 36, 36, 37, 37, 37, 37, 37, 37, 38, 39, 39, 39, 40, 40, 41, 42, 42, 42, 43, 44, 44, 44, 45, 48, 48, 48, 48, 48, 48, 49, 49, 49, 49, 49, 49, 49, 49, 49, 49, 50, 51, 52, 53, 53, 54, 54, 55, 55, 55, 56, 57, 57, 57, 57, 57, 57, 57, 57, 57, 58, 58, 58, 58, 58, 59, 59, 59, 59, 59, 59, 59, 60, 60, 60, 60, 60, 60, 60, 61, 61, 61, 61, 61, 61, 62, 62, 63, 63, 64, 64, 65, 65, 65, 65, 65, 66, 66, 67, 67, 67, 68, 68, 68, 68, 68, 68, 68, 68, 68, 68, 68, 68, 68, 69, 69, 69, 69, 69, 69, 69, 70, 70, 71, 71, 72, 72, 72, 74, 74, 74, 74, 74, 74, 74, 74, 75, 75, 75, 76, 76, 76, 76, 76, 76, 76, 76, 76, 76, 76, 76, 76, 76, 76, 76, 76, 76, 76, 76, 76, 76, 77, 77, 79, 79, 79, 79, 79, 79, 79, 80, 81, 81, 81, 81, 81, 81, 81, 81, 81, 81, 81, 81, 81, 81, 81, 81, 81, 81, 81, 82, 82, 82, 82, 82, 82, 82, 82, 82, 82, 82, 82, 82, 82, 82, 82, 82, 83, 83, 83, 83, 83, 84, 84, 84, 84, 84, 84, 84, 84, 84, 84, 84, 84, 84, 84, 84, 85, 86, 86, 87, 87, 87, 88, 89, 89, 89, 89, 91, 91, 91, 91, 91, 91, 91, 91, 91, 91, 91, 91, 92, 92, 92, 92, 92, 92, 92, 92, 92, 92, 92, 94, 94, 94, 94, 94, 96, 97, 97, 97, 97, 97, 97, 98, 98, 98, 98, 98, 98, 98, 99, 99, 99, 99]\n",
      "\n",
      "\n",
      "Key word: 'of'\n",
      "Documents where 'of' appears:\n",
      "[1, 1, 1, 1, 1, 1, 1, 1, 3, 3, 6, 7, 7, 7, 7, 7, 8, 8, 9, 9, 9, 9, 11, 11, 11, 12, 12, 12, 12, 14, 14, 14, 15, 16, 16, 16, 16, 16, 17, 18, 18, 18, 18, 18, 18, 18, 18, 18, 18, 18, 18, 18, 18, 18, 18, 18, 18, 18, 18, 18, 18, 18, 18, 18, 18, 18, 18, 18, 19, 19, 19, 19, 23, 23, 23, 25, 25, 25, 25, 25, 25, 25, 25, 25, 25, 25, 25, 26, 27, 29, 30, 30, 30, 33, 35, 35, 36, 36, 36, 36, 36, 36, 37, 37, 37, 37, 37, 39, 40, 40, 40, 41, 42, 48, 48, 49, 49, 49, 49, 49, 50, 52, 53, 53, 54, 54, 55, 55, 55, 57, 57, 57, 57, 57, 57, 57, 57, 57, 57, 57, 58, 59, 59, 59, 59, 59, 59, 59, 61, 62, 64, 65, 65, 66, 67, 68, 68, 68, 68, 68, 68, 69, 70, 72, 72, 74, 74, 76, 76, 76, 76, 76, 76, 76, 76, 76, 76, 76, 79, 79, 79, 79, 79, 79, 79, 79, 79, 79, 79, 79, 80, 80, 80, 80, 81, 81, 81, 81, 82, 82, 83, 84, 84, 84, 84, 84, 84, 89, 89, 89, 92, 92, 92, 92, 92, 95, 97, 99]\n",
      "\n",
      "\n",
      "Key word: 'to'\n",
      "Documents where 'to' appears:\n",
      "[1, 1, 1, 1, 1, 1, 1, 1, 1, 2, 2, 2, 3, 3, 3, 3, 3, 3, 3, 4, 4, 4, 5, 5, 5, 5, 7, 7, 7, 8, 8, 8, 9, 9, 9, 9, 9, 9, 9, 12, 12, 12, 13, 16, 16, 16, 16, 17, 17, 18, 18, 18, 18, 18, 18, 18, 18, 18, 18, 18, 18, 18, 18, 18, 18, 18, 18, 18, 18, 18, 21, 21, 21, 22, 23, 24, 25, 25, 25, 25, 25, 26, 26, 27, 27, 28, 28, 28, 29, 29, 29, 29, 29, 29, 29, 29, 29, 29, 29, 30, 31, 35, 35, 36, 36, 36, 36, 36, 36, 36, 36, 36, 37, 37, 37, 37, 37, 37, 38, 39, 39, 39, 40, 40, 40, 41, 42, 42, 42, 42, 42, 44, 44, 44, 45, 45, 47, 47, 49, 49, 49, 49, 49, 49, 49, 49, 49, 49, 49, 49, 49, 49, 50, 50, 50, 53, 54, 54, 54, 54, 54, 54, 54, 54, 54, 54, 54, 54, 54, 55, 57, 57, 57, 57, 57, 57, 57, 57, 57, 57, 57, 57, 57, 57, 57, 57, 57, 57, 57, 57, 57, 57, 58, 58, 58, 58, 59, 60, 60, 60, 60, 60, 60, 61, 61, 62, 62, 62, 62, 62, 63, 63, 63, 63, 63, 63, 63, 63, 64, 65, 65, 65, 65, 65, 65, 65, 66, 66, 66, 68, 68, 68, 68, 68, 68, 68, 68, 68, 68, 68, 69, 69, 69, 69, 69, 69, 69, 69, 69, 69, 69, 70, 72, 72, 72, 72, 72, 75, 76, 76, 76, 76, 76, 77, 79, 80, 80, 80, 80, 80, 80, 81, 81, 81, 81, 81, 82, 82, 83, 83, 83, 83, 83, 84, 84, 84, 84, 84, 84, 84, 84, 84, 84, 84, 84, 85, 85, 85, 87, 87, 87, 87, 87, 87, 87, 87, 89, 89, 89, 91, 91, 91, 92, 92, 93, 94, 94, 95, 96, 96, 97, 97, 97, 97, 98, 98, 98, 98, 98, 100]\n",
      "\n",
      "\n",
      "Key word: 'in'\n",
      "Documents where 'in' appears:\n",
      "[1, 1, 1, 1, 1, 1, 2, 2, 3, 3, 4, 5, 10, 14, 14, 16, 16, 16, 16, 16, 18, 18, 18, 18, 18, 18, 18, 18, 19, 19, 21, 21, 23, 23, 25, 25, 25, 25, 25, 29, 29, 29, 29, 30, 30, 35, 35, 36, 36, 36, 36, 36, 36, 36, 36, 36, 36, 36, 37, 37, 37, 39, 41, 43, 43, 50, 50, 52, 52, 53, 54, 54, 56, 57, 57, 57, 57, 57, 57, 57, 57, 57, 57, 57, 57, 57, 57, 58, 58, 60, 61, 61, 65, 65, 65, 66, 66, 68, 69, 69, 69, 69, 69, 69, 69, 72, 74, 74, 74, 75, 75, 76, 76, 76, 76, 76, 76, 78, 79, 79, 80, 80, 80, 80, 80, 81, 81, 81, 81, 81, 82, 82, 82, 82, 83, 84, 84, 84, 84, 84, 84, 89, 89, 89, 89, 89, 89, 91, 91, 91, 91, 92, 92, 95, 97, 97, 97, 98, 99]\n",
      "\n",
      "\n",
      "Key word: 'a'\n",
      "Documents where 'a' appears:\n",
      "[1, 1, 1, 2, 3, 3, 3, 3, 3, 3, 3, 3, 3, 3, 3, 3, 3, 3, 3, 4, 5, 5, 5, 5, 5, 5, 7, 7, 8, 8, 8, 9, 9, 9, 10, 10, 11, 12, 12, 13, 13, 15, 16, 16, 16, 16, 16, 16, 16, 16, 16, 18, 18, 18, 18, 18, 18, 18, 18, 18, 18, 18, 18, 18, 19, 19, 19, 21, 22, 24, 25, 25, 25, 25, 25, 25, 25, 25, 26, 29, 29, 29, 29, 29, 30, 30, 30, 30, 30, 31, 31, 33, 35, 36, 36, 36, 36, 36, 36, 36, 36, 36, 36, 36, 36, 36, 36, 36, 36, 36, 37, 37, 37, 39, 39, 39, 39, 39, 39, 40, 40, 40, 40, 42, 42, 42, 42, 42, 43, 47, 49, 49, 49, 50, 50, 52, 53, 53, 54, 54, 55, 57, 57, 57, 57, 57, 57, 57, 57, 57, 57, 57, 58, 58, 58, 58, 59, 59, 59, 60, 60, 60, 61, 61, 65, 65, 65, 66, 66, 66, 67, 67, 68, 68, 68, 68, 69, 69, 69, 69, 69, 70, 72, 72, 72, 72, 72, 72, 72, 74, 74, 75, 75, 76, 76, 76, 76, 76, 76, 76, 76, 76, 76, 78, 79, 80, 80, 80, 80, 81, 82, 83, 83, 83, 83, 83, 83, 83, 84, 84, 84, 84, 84, 84, 84, 85, 85, 85, 85, 87, 87, 89, 91, 91, 92, 92, 92, 93, 93, 94, 96, 96, 96, 98, 98, 98, 98, 98, 98, 98, 98, 98]\n",
      "\n",
      "\n",
      "Key word: 'and'\n",
      "Documents where 'and' appears:\n",
      "[1, 1, 1, 1, 1, 3, 3, 3, 3, 3, 3, 3, 3, 4, 4, 4, 5, 5, 5, 6, 7, 7, 8, 8, 9, 9, 9, 9, 9, 11, 11, 11, 13, 14, 16, 16, 18, 18, 18, 18, 18, 18, 18, 18, 18, 18, 19, 19, 19, 19, 19, 20, 21, 22, 24, 25, 25, 25, 26, 28, 29, 29, 29, 29, 29, 29, 29, 29, 30, 30, 32, 32, 35, 35, 36, 36, 36, 36, 37, 37, 37, 37, 37, 39, 39, 40, 40, 40, 40, 40, 40, 49, 49, 49, 49, 50, 51, 52, 54, 54, 54, 54, 54, 57, 57, 57, 57, 57, 57, 57, 57, 57, 57, 57, 57, 57, 57, 57, 57, 57, 57, 57, 57, 57, 57, 57, 57, 57, 57, 58, 58, 58, 58, 58, 58, 58, 58, 58, 58, 58, 59, 59, 59, 60, 60, 60, 60, 60, 60, 60, 60, 60, 61, 61, 62, 62, 62, 62, 63, 63, 63, 63, 63, 64, 65, 66, 66, 67, 67, 68, 68, 68, 68, 68, 69, 69, 69, 70, 72, 72, 72, 72, 72, 72, 72, 76, 76, 76, 76, 76, 76, 76, 76, 76, 78, 78, 79, 80, 80, 80, 80, 81, 82, 82, 82, 82, 83, 83, 83, 83, 83, 83, 84, 84, 84, 84, 84, 87, 89, 89, 89, 92, 93, 95, 96, 97, 99, 99, 99, 99]\n",
      "\n",
      "\n",
      "Key word: 'you'\n",
      "Documents where 'you' appears:\n",
      "[1, 3, 3, 3, 3, 3, 3, 3, 3, 3, 4, 4, 4, 5, 5, 5, 8, 8, 8, 8, 8, 8, 8, 8, 9, 11, 11, 12, 14, 16, 17, 17, 23, 24, 24, 28, 29, 29, 29, 29, 29, 29, 29, 29, 29, 30, 34, 36, 36, 36, 36, 36, 37, 37, 37, 37, 37, 37, 39, 39, 40, 40, 40, 40, 40, 41, 41, 41, 43, 43, 47, 49, 49, 49, 49, 49, 49, 49, 49, 49, 49, 49, 50, 50, 50, 54, 57, 57, 57, 57, 57, 57, 57, 57, 57, 57, 57, 57, 57, 57, 57, 57, 57, 57, 58, 60, 60, 60, 60, 60, 61, 61, 61, 62, 63, 63, 63, 63, 63, 63, 64, 65, 65, 68, 68, 68, 69, 69, 70, 70, 71, 72, 72, 72, 72, 73, 76, 76, 76, 76, 78, 78, 79, 82, 82, 82, 83, 83, 84, 84, 84, 84, 84, 85, 87, 88, 89, 89, 89, 91, 91, 91, 94, 94, 94, 94, 94, 94, 97, 97, 100]\n",
      "\n",
      "\n",
      "Key word: 'i'\n",
      "Documents where 'i' appears:\n",
      "[1, 1, 1, 1, 2, 2, 3, 3, 3, 3, 3, 3, 3, 4, 4, 4, 5, 5, 5, 5, 5, 8, 9, 9, 11, 11, 11, 13, 13, 13, 16, 16, 16, 17, 21, 21, 21, 25, 27, 27, 28, 28, 29, 29, 29, 29, 29, 29, 29, 29, 30, 30, 30, 30, 30, 30, 33, 33, 35, 35, 36, 36, 36, 36, 36, 37, 37, 37, 37, 37, 37, 37, 37, 37, 39, 40, 40, 41, 41, 42, 43, 43, 44, 44, 46, 48, 49, 49, 49, 49, 50, 54, 55, 57, 57, 57, 57, 57, 57, 57, 57, 57, 57, 57, 57, 57, 58, 58, 58, 58, 58, 58, 58, 58, 59, 60, 60, 61, 62, 63, 63, 63, 63, 65, 65, 65, 65, 65, 65, 65, 65, 65, 65, 65, 66, 66, 66, 67, 67, 67, 68, 68, 68, 68, 68, 68, 68, 68, 68, 68, 68, 68, 69, 69, 69, 69, 69, 69, 69, 69, 69, 69, 69, 72, 76, 76, 76, 77, 77, 77, 77, 77, 78, 80, 80, 80, 80, 80, 81, 82, 82, 83, 83, 83, 83, 83, 84, 84, 84, 84, 84, 84, 84, 84, 84, 84, 84, 84, 84, 84, 84, 84, 84, 85, 85, 87, 87, 87, 87, 87, 88, 88, 89, 89, 90, 91, 91, 95, 95, 95, 95, 97, 97]\n",
      "\n",
      "\n",
      "\n",
      "\n",
      "-------------------------------------------\n",
      "|                                         |\n",
      "|      Counting document appearances      |\n",
      "|    (word, [(doc_id, frequency), ...])   |\n",
      "|                                         |\n",
      "-------------------------------------------\n",
      "Key word: 'a'\n",
      "Documents where 'a' appears with its frequency:\n",
      "[(1, 3), (2, 1), (3, 15), (4, 1), (5, 6), (7, 2), (8, 3), (9, 3), (10, 2), (11, 1), (12, 2), (13, 2), (15, 1), (16, 9), (18, 13), (19, 3), (21, 1), (22, 1), (24, 1), (25, 8), (26, 1), (29, 5), (30, 5), (31, 2), (33, 1), (35, 1), (36, 17), (37, 3), (39, 6), (40, 4), (42, 5), (43, 1), (47, 1), (49, 3), (50, 2), (52, 1), (53, 2), (54, 2), (55, 1), (57, 11), (58, 4), (59, 3), (60, 3), (61, 2), (65, 3), (66, 3), (67, 2), (68, 4), (69, 5), (70, 1), (72, 7), (74, 2), (75, 2), (76, 10), (78, 1), (79, 1), (80, 4), (81, 1), (82, 1), (83, 7), (84, 7), (85, 4), (87, 2), (89, 1), (91, 2), (92, 3), (93, 2), (94, 1), (96, 3), (98, 9)]\n",
      "\n",
      "\n",
      "Key word: 'and'\n",
      "Documents where 'and' appears with its frequency:\n",
      "[(1, 5), (3, 8), (4, 3), (5, 3), (6, 1), (7, 2), (8, 2), (9, 5), (11, 3), (13, 1), (14, 1), (16, 2), (18, 10), (19, 5), (20, 1), (21, 1), (22, 1), (24, 1), (25, 3), (26, 1), (28, 1), (29, 8), (30, 2), (32, 2), (35, 2), (36, 4), (37, 5), (39, 2), (40, 6), (49, 4), (50, 1), (51, 1), (52, 1), (54, 5), (57, 26), (58, 11), (59, 3), (60, 9), (61, 2), (62, 4), (63, 5), (64, 1), (65, 1), (66, 2), (67, 2), (68, 5), (69, 3), (70, 1), (72, 7), (76, 9), (78, 2), (79, 1), (80, 4), (81, 1), (82, 4), (83, 6), (84, 5), (87, 1), (89, 3), (92, 1), (93, 1), (95, 1), (96, 1), (97, 1), (99, 4)]\n",
      "\n",
      "\n",
      "Key word: 'i'\n",
      "Documents where 'i' appears with its frequency:\n",
      "[(1, 4), (2, 2), (3, 7), (4, 3), (5, 5), (8, 1), (9, 2), (11, 3), (13, 3), (16, 3), (17, 1), (21, 3), (25, 1), (27, 2), (28, 2), (29, 8), (30, 6), (33, 2), (35, 2), (36, 5), (37, 9), (39, 1), (40, 2), (41, 2), (42, 1), (43, 2), (44, 2), (46, 1), (48, 1), (49, 4), (50, 1), (54, 1), (55, 1), (57, 13), (58, 8), (59, 1), (60, 2), (61, 1), (62, 1), (63, 4), (65, 11), (66, 3), (67, 3), (68, 12), (69, 11), (72, 1), (76, 3), (77, 5), (78, 1), (80, 5), (81, 1), (82, 2), (83, 5), (84, 17), (85, 2), (87, 5), (88, 2), (89, 2), (90, 1), (91, 2), (95, 4), (97, 2)]\n",
      "\n",
      "\n",
      "Key word: 'in'\n",
      "Documents where 'in' appears with its frequency:\n",
      "[(1, 6), (2, 2), (3, 2), (4, 1), (5, 1), (10, 1), (14, 2), (16, 5), (18, 8), (19, 2), (21, 2), (23, 2), (25, 5), (29, 4), (30, 2), (35, 2), (36, 11), (37, 3), (39, 1), (41, 1), (43, 2), (50, 2), (52, 2), (53, 1), (54, 2), (56, 1), (57, 14), (58, 2), (60, 1), (61, 2), (65, 3), (66, 2), (68, 1), (69, 7), (72, 1), (74, 3), (75, 2), (76, 6), (78, 1), (79, 2), (80, 5), (81, 5), (82, 4), (83, 1), (84, 6), (89, 6), (91, 4), (92, 2), (95, 1), (97, 3), (98, 1), (99, 1)]\n",
      "\n",
      "\n",
      "Key word: 'is'\n",
      "Documents where 'is' appears with its frequency:\n",
      "[(1, 3), (2, 1), (3, 4), (4, 2), (5, 1), (7, 5), (8, 1), (9, 2), (11, 2), (12, 1), (14, 1), (18, 14), (19, 5), (20, 2), (22, 1), (25, 1), (27, 4), (28, 1), (29, 2), (30, 1), (31, 2), (34, 1), (35, 3), (36, 8), (37, 2), (38, 1), (39, 1), (41, 1), (43, 1), (44, 1), (47, 1), (48, 3), (49, 2), (52, 1), (53, 1), (54, 9), (55, 3), (56, 1), (57, 16), (58, 1), (60, 3), (62, 3), (63, 4), (64, 1), (65, 5), (67, 1), (68, 3), (69, 1), (70, 3), (71, 1), (72, 1), (73, 2), (74, 2), (75, 1), (76, 8), (79, 1), (80, 1), (82, 1), (83, 1), (84, 8), (85, 1), (87, 1), (88, 2), (89, 1), (90, 1), (94, 2), (95, 3), (96, 2), (98, 2)]\n",
      "\n",
      "\n",
      "Key word: 'it'\n",
      "Documents where 'it' appears with its frequency:\n",
      "[(1, 5), (2, 1), (3, 6), (4, 2), (7, 2), (8, 3), (9, 5), (12, 2), (13, 2), (14, 2), (16, 1), (17, 1), (18, 2), (21, 1), (22, 1), (24, 1), (25, 8), (26, 1), (27, 2), (28, 1), (29, 8), (30, 1), (31, 1), (36, 5), (37, 1), (39, 2), (40, 1), (42, 1), (48, 1), (49, 4), (50, 2), (52, 1), (55, 1), (57, 9), (58, 6), (60, 1), (61, 1), (63, 2), (65, 5), (66, 1), (68, 2), (69, 3), (70, 1), (72, 1), (73, 1), (76, 5), (77, 2), (81, 1), (82, 3), (83, 4), (84, 6), (85, 3), (87, 3), (88, 1), (89, 3), (92, 1), (93, 1), (94, 2), (95, 2), (97, 1), (98, 1), (100, 1)]\n",
      "\n",
      "\n",
      "Key word: 'of'\n",
      "Documents where 'of' appears with its frequency:\n",
      "[(1, 8), (3, 2), (6, 1), (7, 5), (8, 2), (9, 4), (11, 3), (12, 4), (14, 3), (15, 1), (16, 5), (17, 1), (18, 29), (19, 4), (23, 3), (25, 12), (26, 1), (27, 1), (29, 1), (30, 3), (33, 1), (35, 2), (36, 6), (37, 5), (39, 1), (40, 3), (41, 1), (42, 1), (48, 2), (49, 5), (50, 1), (52, 1), (53, 2), (54, 2), (55, 3), (57, 11), (58, 1), (59, 7), (61, 1), (62, 1), (64, 1), (65, 2), (66, 1), (67, 1), (68, 6), (69, 1), (70, 1), (72, 2), (74, 2), (76, 11), (79, 12), (80, 4), (81, 4), (82, 2), (83, 1), (84, 6), (89, 3), (92, 5), (95, 1), (97, 1), (99, 1)]\n",
      "\n",
      "\n",
      "Key word: 'the'\n",
      "Documents where 'the' appears with its frequency:\n",
      "[(1, 14), (2, 2), (3, 8), (4, 1), (5, 3), (6, 1), (7, 5), (8, 2), (9, 11), (10, 1), (11, 1), (12, 2), (14, 3), (15, 1), (16, 10), (17, 3), (18, 43), (19, 6), (23, 5), (25, 20), (26, 1), (27, 4), (28, 1), (29, 13), (30, 4), (31, 1), (33, 1), (34, 1), (35, 5), (36, 21), (37, 6), (38, 1), (39, 3), (40, 2), (41, 1), (42, 3), (43, 1), (44, 3), (45, 1), (48, 6), (49, 10), (50, 1), (51, 1), (52, 1), (53, 2), (54, 2), (55, 3), (56, 1), (57, 9), (58, 5), (59, 7), (60, 7), (61, 6), (62, 2), (63, 2), (64, 2), (65, 5), (66, 2), (67, 3), (68, 13), (69, 7), (70, 2), (71, 2), (72, 3), (74, 8), (75, 3), (76, 22), (77, 2), (79, 7), (80, 1), (81, 19), (82, 17), (83, 5), (84, 15), (85, 1), (86, 2), (87, 3), (88, 1), (89, 4), (91, 12), (92, 11), (94, 5), (96, 1), (97, 6), (98, 7), (99, 4)]\n",
      "\n",
      "\n",
      "Key word: 'to'\n",
      "Documents where 'to' appears with its frequency:\n",
      "[(1, 9), (2, 3), (3, 7), (4, 3), (5, 4), (7, 3), (8, 3), (9, 7), (12, 3), (13, 1), (16, 4), (17, 2), (18, 21), (21, 3), (22, 1), (23, 1), (24, 1), (25, 5), (26, 2), (27, 2), (28, 3), (29, 11), (30, 1), (31, 1), (35, 2), (36, 9), (37, 6), (38, 1), (39, 3), (40, 3), (41, 1), (42, 5), (44, 3), (45, 2), (47, 2), (49, 14), (50, 3), (53, 1), (54, 13), (55, 1), (57, 22), (58, 4), (59, 1), (60, 6), (61, 2), (62, 5), (63, 8), (64, 1), (65, 7), (66, 3), (68, 11), (69, 11), (70, 1), (72, 5), (75, 1), (76, 5), (77, 1), (79, 1), (80, 6), (81, 5), (82, 2), (83, 5), (84, 12), (85, 3), (87, 8), (89, 3), (91, 3), (92, 2), (93, 1), (94, 2), (95, 1), (96, 2), (97, 4), (98, 5), (100, 1)]\n",
      "\n",
      "\n",
      "Key word: 'you'\n",
      "Documents where 'you' appears with its frequency:\n",
      "[(1, 1), (3, 9), (4, 3), (5, 3), (8, 8), (9, 1), (11, 2), (12, 1), (14, 1), (16, 1), (17, 2), (23, 1), (24, 2), (28, 1), (29, 9), (30, 1), (34, 1), (36, 5), (37, 6), (39, 2), (40, 5), (41, 3), (43, 2), (47, 1), (49, 11), (50, 3), (54, 1), (57, 18), (58, 1), (60, 5), (61, 3), (62, 1), (63, 6), (64, 1), (65, 2), (68, 3), (69, 2), (70, 2), (71, 1), (72, 4), (73, 1), (76, 4), (78, 2), (79, 1), (82, 3), (83, 2), (84, 5), (85, 1), (87, 1), (88, 1), (89, 3), (91, 3), (94, 6), (97, 2), (100, 1)]\n",
      "\n",
      "\n"
     ]
    }
   ],
   "source": [
    "words = [word for word, _ in mcw_words]\n",
    "wf_rdd = word_frequency_in_document(rdd, words, verbose=True)"
   ]
  },
  {
   "source": [
    "### Histograms"
   ],
   "cell_type": "markdown",
   "metadata": {}
  },
  {
   "cell_type": "code",
   "execution_count": 32,
   "metadata": {},
   "outputs": [],
   "source": [
    "import plotly.graph_objects as go\n",
    "import plotly.express as px\n",
    "import pandas as pd"
   ]
  },
  {
   "cell_type": "code",
   "execution_count": 37,
   "metadata": {},
   "outputs": [],
   "source": [
    "def plot_histograms(rdd, words):\n",
    "    \"\"\"\n",
    "    Plots histograms per key word inside the rdd\n",
    "\n",
    "    Parameters: \n",
    "    -------\n",
    "    rdd: Spark's Resilient Distributed Dataset RDD\n",
    "        Format:\n",
    "            key <- word\n",
    "            value <- list of tuples. Each tuple contains the document id and the\n",
    "                word frequency\n",
    "    \n",
    "    words: list of str\n",
    "    \"\"\"\n",
    "    word_dict = dict()\n",
    "    for word, freq in words:\n",
    "        word_dict[word] = freq\n",
    "    for el in rdd.collect():\n",
    "        key_word = el[0]\n",
    "        doc_ids = []\n",
    "        freqs_per_doc = []\n",
    "        for i in range(len(el[1])):\n",
    "            t = el[1][i]\n",
    "            doc_ids.append(t[0])\n",
    "            freqs_per_doc.append(t[1])\n",
    "        df = pd.DataFrame()\n",
    "        df['document'] = doc_ids\n",
    "        df['count'] = freqs_per_doc\n",
    "        fig = px.bar(df, x='document', y='count', title=f'Word: \\'{key_word}\\' - {word_dict[key_word]} appearances')\n",
    "        fig.show()\n"
   ]
  },
  {
   "cell_type": "code",
   "execution_count": 38,
   "metadata": {},
   "outputs": [
    {
     "output_type": "display_data",
     "data": {
      "application/vnd.plotly.v1+json": {
       "config": {
        "plotlyServerURL": "https://plot.ly"
       },
       "data": [
        {
         "alignmentgroup": "True",
         "hovertemplate": "document=%{x}<br>count=%{y}<extra></extra>",
         "legendgroup": "",
         "marker": {
          "color": "#636efa"
         },
         "name": "",
         "offsetgroup": "",
         "orientation": "v",
         "showlegend": false,
         "textposition": "auto",
         "type": "bar",
         "x": [
          1,
          2,
          3,
          4,
          5,
          7,
          8,
          9,
          10,
          11,
          12,
          13,
          15,
          16,
          18,
          19,
          21,
          22,
          24,
          25,
          26,
          29,
          30,
          31,
          33,
          35,
          36,
          37,
          39,
          40,
          42,
          43,
          47,
          49,
          50,
          52,
          53,
          54,
          55,
          57,
          58,
          59,
          60,
          61,
          65,
          66,
          67,
          68,
          69,
          70,
          72,
          74,
          75,
          76,
          78,
          79,
          80,
          81,
          82,
          83,
          84,
          85,
          87,
          89,
          91,
          92,
          93,
          94,
          96,
          98
         ],
         "xaxis": "x",
         "y": [
          3,
          1,
          15,
          1,
          6,
          2,
          3,
          3,
          2,
          1,
          2,
          2,
          1,
          9,
          13,
          3,
          1,
          1,
          1,
          8,
          1,
          5,
          5,
          2,
          1,
          1,
          17,
          3,
          6,
          4,
          5,
          1,
          1,
          3,
          2,
          1,
          2,
          2,
          1,
          11,
          4,
          3,
          3,
          2,
          3,
          3,
          2,
          4,
          5,
          1,
          7,
          2,
          2,
          10,
          1,
          1,
          4,
          1,
          1,
          7,
          7,
          4,
          2,
          1,
          2,
          3,
          2,
          1,
          3,
          9
         ],
         "yaxis": "y"
        }
       ],
       "layout": {
        "barmode": "relative",
        "legend": {
         "tracegroupgap": 0
        },
        "template": {
         "data": {
          "bar": [
           {
            "error_x": {
             "color": "#2a3f5f"
            },
            "error_y": {
             "color": "#2a3f5f"
            },
            "marker": {
             "line": {
              "color": "#E5ECF6",
              "width": 0.5
             }
            },
            "type": "bar"
           }
          ],
          "barpolar": [
           {
            "marker": {
             "line": {
              "color": "#E5ECF6",
              "width": 0.5
             }
            },
            "type": "barpolar"
           }
          ],
          "carpet": [
           {
            "aaxis": {
             "endlinecolor": "#2a3f5f",
             "gridcolor": "white",
             "linecolor": "white",
             "minorgridcolor": "white",
             "startlinecolor": "#2a3f5f"
            },
            "baxis": {
             "endlinecolor": "#2a3f5f",
             "gridcolor": "white",
             "linecolor": "white",
             "minorgridcolor": "white",
             "startlinecolor": "#2a3f5f"
            },
            "type": "carpet"
           }
          ],
          "choropleth": [
           {
            "colorbar": {
             "outlinewidth": 0,
             "ticks": ""
            },
            "type": "choropleth"
           }
          ],
          "contour": [
           {
            "colorbar": {
             "outlinewidth": 0,
             "ticks": ""
            },
            "colorscale": [
             [
              0,
              "#0d0887"
             ],
             [
              0.1111111111111111,
              "#46039f"
             ],
             [
              0.2222222222222222,
              "#7201a8"
             ],
             [
              0.3333333333333333,
              "#9c179e"
             ],
             [
              0.4444444444444444,
              "#bd3786"
             ],
             [
              0.5555555555555556,
              "#d8576b"
             ],
             [
              0.6666666666666666,
              "#ed7953"
             ],
             [
              0.7777777777777778,
              "#fb9f3a"
             ],
             [
              0.8888888888888888,
              "#fdca26"
             ],
             [
              1,
              "#f0f921"
             ]
            ],
            "type": "contour"
           }
          ],
          "contourcarpet": [
           {
            "colorbar": {
             "outlinewidth": 0,
             "ticks": ""
            },
            "type": "contourcarpet"
           }
          ],
          "heatmap": [
           {
            "colorbar": {
             "outlinewidth": 0,
             "ticks": ""
            },
            "colorscale": [
             [
              0,
              "#0d0887"
             ],
             [
              0.1111111111111111,
              "#46039f"
             ],
             [
              0.2222222222222222,
              "#7201a8"
             ],
             [
              0.3333333333333333,
              "#9c179e"
             ],
             [
              0.4444444444444444,
              "#bd3786"
             ],
             [
              0.5555555555555556,
              "#d8576b"
             ],
             [
              0.6666666666666666,
              "#ed7953"
             ],
             [
              0.7777777777777778,
              "#fb9f3a"
             ],
             [
              0.8888888888888888,
              "#fdca26"
             ],
             [
              1,
              "#f0f921"
             ]
            ],
            "type": "heatmap"
           }
          ],
          "heatmapgl": [
           {
            "colorbar": {
             "outlinewidth": 0,
             "ticks": ""
            },
            "colorscale": [
             [
              0,
              "#0d0887"
             ],
             [
              0.1111111111111111,
              "#46039f"
             ],
             [
              0.2222222222222222,
              "#7201a8"
             ],
             [
              0.3333333333333333,
              "#9c179e"
             ],
             [
              0.4444444444444444,
              "#bd3786"
             ],
             [
              0.5555555555555556,
              "#d8576b"
             ],
             [
              0.6666666666666666,
              "#ed7953"
             ],
             [
              0.7777777777777778,
              "#fb9f3a"
             ],
             [
              0.8888888888888888,
              "#fdca26"
             ],
             [
              1,
              "#f0f921"
             ]
            ],
            "type": "heatmapgl"
           }
          ],
          "histogram": [
           {
            "marker": {
             "colorbar": {
              "outlinewidth": 0,
              "ticks": ""
             }
            },
            "type": "histogram"
           }
          ],
          "histogram2d": [
           {
            "colorbar": {
             "outlinewidth": 0,
             "ticks": ""
            },
            "colorscale": [
             [
              0,
              "#0d0887"
             ],
             [
              0.1111111111111111,
              "#46039f"
             ],
             [
              0.2222222222222222,
              "#7201a8"
             ],
             [
              0.3333333333333333,
              "#9c179e"
             ],
             [
              0.4444444444444444,
              "#bd3786"
             ],
             [
              0.5555555555555556,
              "#d8576b"
             ],
             [
              0.6666666666666666,
              "#ed7953"
             ],
             [
              0.7777777777777778,
              "#fb9f3a"
             ],
             [
              0.8888888888888888,
              "#fdca26"
             ],
             [
              1,
              "#f0f921"
             ]
            ],
            "type": "histogram2d"
           }
          ],
          "histogram2dcontour": [
           {
            "colorbar": {
             "outlinewidth": 0,
             "ticks": ""
            },
            "colorscale": [
             [
              0,
              "#0d0887"
             ],
             [
              0.1111111111111111,
              "#46039f"
             ],
             [
              0.2222222222222222,
              "#7201a8"
             ],
             [
              0.3333333333333333,
              "#9c179e"
             ],
             [
              0.4444444444444444,
              "#bd3786"
             ],
             [
              0.5555555555555556,
              "#d8576b"
             ],
             [
              0.6666666666666666,
              "#ed7953"
             ],
             [
              0.7777777777777778,
              "#fb9f3a"
             ],
             [
              0.8888888888888888,
              "#fdca26"
             ],
             [
              1,
              "#f0f921"
             ]
            ],
            "type": "histogram2dcontour"
           }
          ],
          "mesh3d": [
           {
            "colorbar": {
             "outlinewidth": 0,
             "ticks": ""
            },
            "type": "mesh3d"
           }
          ],
          "parcoords": [
           {
            "line": {
             "colorbar": {
              "outlinewidth": 0,
              "ticks": ""
             }
            },
            "type": "parcoords"
           }
          ],
          "pie": [
           {
            "automargin": true,
            "type": "pie"
           }
          ],
          "scatter": [
           {
            "marker": {
             "colorbar": {
              "outlinewidth": 0,
              "ticks": ""
             }
            },
            "type": "scatter"
           }
          ],
          "scatter3d": [
           {
            "line": {
             "colorbar": {
              "outlinewidth": 0,
              "ticks": ""
             }
            },
            "marker": {
             "colorbar": {
              "outlinewidth": 0,
              "ticks": ""
             }
            },
            "type": "scatter3d"
           }
          ],
          "scattercarpet": [
           {
            "marker": {
             "colorbar": {
              "outlinewidth": 0,
              "ticks": ""
             }
            },
            "type": "scattercarpet"
           }
          ],
          "scattergeo": [
           {
            "marker": {
             "colorbar": {
              "outlinewidth": 0,
              "ticks": ""
             }
            },
            "type": "scattergeo"
           }
          ],
          "scattergl": [
           {
            "marker": {
             "colorbar": {
              "outlinewidth": 0,
              "ticks": ""
             }
            },
            "type": "scattergl"
           }
          ],
          "scattermapbox": [
           {
            "marker": {
             "colorbar": {
              "outlinewidth": 0,
              "ticks": ""
             }
            },
            "type": "scattermapbox"
           }
          ],
          "scatterpolar": [
           {
            "marker": {
             "colorbar": {
              "outlinewidth": 0,
              "ticks": ""
             }
            },
            "type": "scatterpolar"
           }
          ],
          "scatterpolargl": [
           {
            "marker": {
             "colorbar": {
              "outlinewidth": 0,
              "ticks": ""
             }
            },
            "type": "scatterpolargl"
           }
          ],
          "scatterternary": [
           {
            "marker": {
             "colorbar": {
              "outlinewidth": 0,
              "ticks": ""
             }
            },
            "type": "scatterternary"
           }
          ],
          "surface": [
           {
            "colorbar": {
             "outlinewidth": 0,
             "ticks": ""
            },
            "colorscale": [
             [
              0,
              "#0d0887"
             ],
             [
              0.1111111111111111,
              "#46039f"
             ],
             [
              0.2222222222222222,
              "#7201a8"
             ],
             [
              0.3333333333333333,
              "#9c179e"
             ],
             [
              0.4444444444444444,
              "#bd3786"
             ],
             [
              0.5555555555555556,
              "#d8576b"
             ],
             [
              0.6666666666666666,
              "#ed7953"
             ],
             [
              0.7777777777777778,
              "#fb9f3a"
             ],
             [
              0.8888888888888888,
              "#fdca26"
             ],
             [
              1,
              "#f0f921"
             ]
            ],
            "type": "surface"
           }
          ],
          "table": [
           {
            "cells": {
             "fill": {
              "color": "#EBF0F8"
             },
             "line": {
              "color": "white"
             }
            },
            "header": {
             "fill": {
              "color": "#C8D4E3"
             },
             "line": {
              "color": "white"
             }
            },
            "type": "table"
           }
          ]
         },
         "layout": {
          "annotationdefaults": {
           "arrowcolor": "#2a3f5f",
           "arrowhead": 0,
           "arrowwidth": 1
          },
          "autotypenumbers": "strict",
          "coloraxis": {
           "colorbar": {
            "outlinewidth": 0,
            "ticks": ""
           }
          },
          "colorscale": {
           "diverging": [
            [
             0,
             "#8e0152"
            ],
            [
             0.1,
             "#c51b7d"
            ],
            [
             0.2,
             "#de77ae"
            ],
            [
             0.3,
             "#f1b6da"
            ],
            [
             0.4,
             "#fde0ef"
            ],
            [
             0.5,
             "#f7f7f7"
            ],
            [
             0.6,
             "#e6f5d0"
            ],
            [
             0.7,
             "#b8e186"
            ],
            [
             0.8,
             "#7fbc41"
            ],
            [
             0.9,
             "#4d9221"
            ],
            [
             1,
             "#276419"
            ]
           ],
           "sequential": [
            [
             0,
             "#0d0887"
            ],
            [
             0.1111111111111111,
             "#46039f"
            ],
            [
             0.2222222222222222,
             "#7201a8"
            ],
            [
             0.3333333333333333,
             "#9c179e"
            ],
            [
             0.4444444444444444,
             "#bd3786"
            ],
            [
             0.5555555555555556,
             "#d8576b"
            ],
            [
             0.6666666666666666,
             "#ed7953"
            ],
            [
             0.7777777777777778,
             "#fb9f3a"
            ],
            [
             0.8888888888888888,
             "#fdca26"
            ],
            [
             1,
             "#f0f921"
            ]
           ],
           "sequentialminus": [
            [
             0,
             "#0d0887"
            ],
            [
             0.1111111111111111,
             "#46039f"
            ],
            [
             0.2222222222222222,
             "#7201a8"
            ],
            [
             0.3333333333333333,
             "#9c179e"
            ],
            [
             0.4444444444444444,
             "#bd3786"
            ],
            [
             0.5555555555555556,
             "#d8576b"
            ],
            [
             0.6666666666666666,
             "#ed7953"
            ],
            [
             0.7777777777777778,
             "#fb9f3a"
            ],
            [
             0.8888888888888888,
             "#fdca26"
            ],
            [
             1,
             "#f0f921"
            ]
           ]
          },
          "colorway": [
           "#636efa",
           "#EF553B",
           "#00cc96",
           "#ab63fa",
           "#FFA15A",
           "#19d3f3",
           "#FF6692",
           "#B6E880",
           "#FF97FF",
           "#FECB52"
          ],
          "font": {
           "color": "#2a3f5f"
          },
          "geo": {
           "bgcolor": "white",
           "lakecolor": "white",
           "landcolor": "#E5ECF6",
           "showlakes": true,
           "showland": true,
           "subunitcolor": "white"
          },
          "hoverlabel": {
           "align": "left"
          },
          "hovermode": "closest",
          "mapbox": {
           "style": "light"
          },
          "paper_bgcolor": "white",
          "plot_bgcolor": "#E5ECF6",
          "polar": {
           "angularaxis": {
            "gridcolor": "white",
            "linecolor": "white",
            "ticks": ""
           },
           "bgcolor": "#E5ECF6",
           "radialaxis": {
            "gridcolor": "white",
            "linecolor": "white",
            "ticks": ""
           }
          },
          "scene": {
           "xaxis": {
            "backgroundcolor": "#E5ECF6",
            "gridcolor": "white",
            "gridwidth": 2,
            "linecolor": "white",
            "showbackground": true,
            "ticks": "",
            "zerolinecolor": "white"
           },
           "yaxis": {
            "backgroundcolor": "#E5ECF6",
            "gridcolor": "white",
            "gridwidth": 2,
            "linecolor": "white",
            "showbackground": true,
            "ticks": "",
            "zerolinecolor": "white"
           },
           "zaxis": {
            "backgroundcolor": "#E5ECF6",
            "gridcolor": "white",
            "gridwidth": 2,
            "linecolor": "white",
            "showbackground": true,
            "ticks": "",
            "zerolinecolor": "white"
           }
          },
          "shapedefaults": {
           "line": {
            "color": "#2a3f5f"
           }
          },
          "ternary": {
           "aaxis": {
            "gridcolor": "white",
            "linecolor": "white",
            "ticks": ""
           },
           "baxis": {
            "gridcolor": "white",
            "linecolor": "white",
            "ticks": ""
           },
           "bgcolor": "#E5ECF6",
           "caxis": {
            "gridcolor": "white",
            "linecolor": "white",
            "ticks": ""
           }
          },
          "title": {
           "x": 0.05
          },
          "xaxis": {
           "automargin": true,
           "gridcolor": "white",
           "linecolor": "white",
           "ticks": "",
           "title": {
            "standoff": 15
           },
           "zerolinecolor": "white",
           "zerolinewidth": 2
          },
          "yaxis": {
           "automargin": true,
           "gridcolor": "white",
           "linecolor": "white",
           "ticks": "",
           "title": {
            "standoff": 15
           },
           "zerolinecolor": "white",
           "zerolinewidth": 2
          }
         }
        },
        "title": {
         "text": "Word: 'a' - 252 appearances"
        },
        "xaxis": {
         "anchor": "y",
         "domain": [
          0,
          1
         ],
         "title": {
          "text": "document"
         }
        },
        "yaxis": {
         "anchor": "x",
         "domain": [
          0,
          1
         ],
         "title": {
          "text": "count"
         }
        }
       }
      }
     },
     "metadata": {}
    },
    {
     "output_type": "display_data",
     "data": {
      "application/vnd.plotly.v1+json": {
       "config": {
        "plotlyServerURL": "https://plot.ly"
       },
       "data": [
        {
         "alignmentgroup": "True",
         "hovertemplate": "document=%{x}<br>count=%{y}<extra></extra>",
         "legendgroup": "",
         "marker": {
          "color": "#636efa"
         },
         "name": "",
         "offsetgroup": "",
         "orientation": "v",
         "showlegend": false,
         "textposition": "auto",
         "type": "bar",
         "x": [
          1,
          3,
          4,
          5,
          6,
          7,
          8,
          9,
          11,
          13,
          14,
          16,
          18,
          19,
          20,
          21,
          22,
          24,
          25,
          26,
          28,
          29,
          30,
          32,
          35,
          36,
          37,
          39,
          40,
          49,
          50,
          51,
          52,
          54,
          57,
          58,
          59,
          60,
          61,
          62,
          63,
          64,
          65,
          66,
          67,
          68,
          69,
          70,
          72,
          76,
          78,
          79,
          80,
          81,
          82,
          83,
          84,
          87,
          89,
          92,
          93,
          95,
          96,
          97,
          99
         ],
         "xaxis": "x",
         "y": [
          5,
          8,
          3,
          3,
          1,
          2,
          2,
          5,
          3,
          1,
          1,
          2,
          10,
          5,
          1,
          1,
          1,
          1,
          3,
          1,
          1,
          8,
          2,
          2,
          2,
          4,
          5,
          2,
          6,
          4,
          1,
          1,
          1,
          5,
          26,
          11,
          3,
          9,
          2,
          4,
          5,
          1,
          1,
          2,
          2,
          5,
          3,
          1,
          7,
          9,
          2,
          1,
          4,
          1,
          4,
          6,
          5,
          1,
          3,
          1,
          1,
          1,
          1,
          1,
          4
         ],
         "yaxis": "y"
        }
       ],
       "layout": {
        "barmode": "relative",
        "legend": {
         "tracegroupgap": 0
        },
        "template": {
         "data": {
          "bar": [
           {
            "error_x": {
             "color": "#2a3f5f"
            },
            "error_y": {
             "color": "#2a3f5f"
            },
            "marker": {
             "line": {
              "color": "#E5ECF6",
              "width": 0.5
             }
            },
            "type": "bar"
           }
          ],
          "barpolar": [
           {
            "marker": {
             "line": {
              "color": "#E5ECF6",
              "width": 0.5
             }
            },
            "type": "barpolar"
           }
          ],
          "carpet": [
           {
            "aaxis": {
             "endlinecolor": "#2a3f5f",
             "gridcolor": "white",
             "linecolor": "white",
             "minorgridcolor": "white",
             "startlinecolor": "#2a3f5f"
            },
            "baxis": {
             "endlinecolor": "#2a3f5f",
             "gridcolor": "white",
             "linecolor": "white",
             "minorgridcolor": "white",
             "startlinecolor": "#2a3f5f"
            },
            "type": "carpet"
           }
          ],
          "choropleth": [
           {
            "colorbar": {
             "outlinewidth": 0,
             "ticks": ""
            },
            "type": "choropleth"
           }
          ],
          "contour": [
           {
            "colorbar": {
             "outlinewidth": 0,
             "ticks": ""
            },
            "colorscale": [
             [
              0,
              "#0d0887"
             ],
             [
              0.1111111111111111,
              "#46039f"
             ],
             [
              0.2222222222222222,
              "#7201a8"
             ],
             [
              0.3333333333333333,
              "#9c179e"
             ],
             [
              0.4444444444444444,
              "#bd3786"
             ],
             [
              0.5555555555555556,
              "#d8576b"
             ],
             [
              0.6666666666666666,
              "#ed7953"
             ],
             [
              0.7777777777777778,
              "#fb9f3a"
             ],
             [
              0.8888888888888888,
              "#fdca26"
             ],
             [
              1,
              "#f0f921"
             ]
            ],
            "type": "contour"
           }
          ],
          "contourcarpet": [
           {
            "colorbar": {
             "outlinewidth": 0,
             "ticks": ""
            },
            "type": "contourcarpet"
           }
          ],
          "heatmap": [
           {
            "colorbar": {
             "outlinewidth": 0,
             "ticks": ""
            },
            "colorscale": [
             [
              0,
              "#0d0887"
             ],
             [
              0.1111111111111111,
              "#46039f"
             ],
             [
              0.2222222222222222,
              "#7201a8"
             ],
             [
              0.3333333333333333,
              "#9c179e"
             ],
             [
              0.4444444444444444,
              "#bd3786"
             ],
             [
              0.5555555555555556,
              "#d8576b"
             ],
             [
              0.6666666666666666,
              "#ed7953"
             ],
             [
              0.7777777777777778,
              "#fb9f3a"
             ],
             [
              0.8888888888888888,
              "#fdca26"
             ],
             [
              1,
              "#f0f921"
             ]
            ],
            "type": "heatmap"
           }
          ],
          "heatmapgl": [
           {
            "colorbar": {
             "outlinewidth": 0,
             "ticks": ""
            },
            "colorscale": [
             [
              0,
              "#0d0887"
             ],
             [
              0.1111111111111111,
              "#46039f"
             ],
             [
              0.2222222222222222,
              "#7201a8"
             ],
             [
              0.3333333333333333,
              "#9c179e"
             ],
             [
              0.4444444444444444,
              "#bd3786"
             ],
             [
              0.5555555555555556,
              "#d8576b"
             ],
             [
              0.6666666666666666,
              "#ed7953"
             ],
             [
              0.7777777777777778,
              "#fb9f3a"
             ],
             [
              0.8888888888888888,
              "#fdca26"
             ],
             [
              1,
              "#f0f921"
             ]
            ],
            "type": "heatmapgl"
           }
          ],
          "histogram": [
           {
            "marker": {
             "colorbar": {
              "outlinewidth": 0,
              "ticks": ""
             }
            },
            "type": "histogram"
           }
          ],
          "histogram2d": [
           {
            "colorbar": {
             "outlinewidth": 0,
             "ticks": ""
            },
            "colorscale": [
             [
              0,
              "#0d0887"
             ],
             [
              0.1111111111111111,
              "#46039f"
             ],
             [
              0.2222222222222222,
              "#7201a8"
             ],
             [
              0.3333333333333333,
              "#9c179e"
             ],
             [
              0.4444444444444444,
              "#bd3786"
             ],
             [
              0.5555555555555556,
              "#d8576b"
             ],
             [
              0.6666666666666666,
              "#ed7953"
             ],
             [
              0.7777777777777778,
              "#fb9f3a"
             ],
             [
              0.8888888888888888,
              "#fdca26"
             ],
             [
              1,
              "#f0f921"
             ]
            ],
            "type": "histogram2d"
           }
          ],
          "histogram2dcontour": [
           {
            "colorbar": {
             "outlinewidth": 0,
             "ticks": ""
            },
            "colorscale": [
             [
              0,
              "#0d0887"
             ],
             [
              0.1111111111111111,
              "#46039f"
             ],
             [
              0.2222222222222222,
              "#7201a8"
             ],
             [
              0.3333333333333333,
              "#9c179e"
             ],
             [
              0.4444444444444444,
              "#bd3786"
             ],
             [
              0.5555555555555556,
              "#d8576b"
             ],
             [
              0.6666666666666666,
              "#ed7953"
             ],
             [
              0.7777777777777778,
              "#fb9f3a"
             ],
             [
              0.8888888888888888,
              "#fdca26"
             ],
             [
              1,
              "#f0f921"
             ]
            ],
            "type": "histogram2dcontour"
           }
          ],
          "mesh3d": [
           {
            "colorbar": {
             "outlinewidth": 0,
             "ticks": ""
            },
            "type": "mesh3d"
           }
          ],
          "parcoords": [
           {
            "line": {
             "colorbar": {
              "outlinewidth": 0,
              "ticks": ""
             }
            },
            "type": "parcoords"
           }
          ],
          "pie": [
           {
            "automargin": true,
            "type": "pie"
           }
          ],
          "scatter": [
           {
            "marker": {
             "colorbar": {
              "outlinewidth": 0,
              "ticks": ""
             }
            },
            "type": "scatter"
           }
          ],
          "scatter3d": [
           {
            "line": {
             "colorbar": {
              "outlinewidth": 0,
              "ticks": ""
             }
            },
            "marker": {
             "colorbar": {
              "outlinewidth": 0,
              "ticks": ""
             }
            },
            "type": "scatter3d"
           }
          ],
          "scattercarpet": [
           {
            "marker": {
             "colorbar": {
              "outlinewidth": 0,
              "ticks": ""
             }
            },
            "type": "scattercarpet"
           }
          ],
          "scattergeo": [
           {
            "marker": {
             "colorbar": {
              "outlinewidth": 0,
              "ticks": ""
             }
            },
            "type": "scattergeo"
           }
          ],
          "scattergl": [
           {
            "marker": {
             "colorbar": {
              "outlinewidth": 0,
              "ticks": ""
             }
            },
            "type": "scattergl"
           }
          ],
          "scattermapbox": [
           {
            "marker": {
             "colorbar": {
              "outlinewidth": 0,
              "ticks": ""
             }
            },
            "type": "scattermapbox"
           }
          ],
          "scatterpolar": [
           {
            "marker": {
             "colorbar": {
              "outlinewidth": 0,
              "ticks": ""
             }
            },
            "type": "scatterpolar"
           }
          ],
          "scatterpolargl": [
           {
            "marker": {
             "colorbar": {
              "outlinewidth": 0,
              "ticks": ""
             }
            },
            "type": "scatterpolargl"
           }
          ],
          "scatterternary": [
           {
            "marker": {
             "colorbar": {
              "outlinewidth": 0,
              "ticks": ""
             }
            },
            "type": "scatterternary"
           }
          ],
          "surface": [
           {
            "colorbar": {
             "outlinewidth": 0,
             "ticks": ""
            },
            "colorscale": [
             [
              0,
              "#0d0887"
             ],
             [
              0.1111111111111111,
              "#46039f"
             ],
             [
              0.2222222222222222,
              "#7201a8"
             ],
             [
              0.3333333333333333,
              "#9c179e"
             ],
             [
              0.4444444444444444,
              "#bd3786"
             ],
             [
              0.5555555555555556,
              "#d8576b"
             ],
             [
              0.6666666666666666,
              "#ed7953"
             ],
             [
              0.7777777777777778,
              "#fb9f3a"
             ],
             [
              0.8888888888888888,
              "#fdca26"
             ],
             [
              1,
              "#f0f921"
             ]
            ],
            "type": "surface"
           }
          ],
          "table": [
           {
            "cells": {
             "fill": {
              "color": "#EBF0F8"
             },
             "line": {
              "color": "white"
             }
            },
            "header": {
             "fill": {
              "color": "#C8D4E3"
             },
             "line": {
              "color": "white"
             }
            },
            "type": "table"
           }
          ]
         },
         "layout": {
          "annotationdefaults": {
           "arrowcolor": "#2a3f5f",
           "arrowhead": 0,
           "arrowwidth": 1
          },
          "autotypenumbers": "strict",
          "coloraxis": {
           "colorbar": {
            "outlinewidth": 0,
            "ticks": ""
           }
          },
          "colorscale": {
           "diverging": [
            [
             0,
             "#8e0152"
            ],
            [
             0.1,
             "#c51b7d"
            ],
            [
             0.2,
             "#de77ae"
            ],
            [
             0.3,
             "#f1b6da"
            ],
            [
             0.4,
             "#fde0ef"
            ],
            [
             0.5,
             "#f7f7f7"
            ],
            [
             0.6,
             "#e6f5d0"
            ],
            [
             0.7,
             "#b8e186"
            ],
            [
             0.8,
             "#7fbc41"
            ],
            [
             0.9,
             "#4d9221"
            ],
            [
             1,
             "#276419"
            ]
           ],
           "sequential": [
            [
             0,
             "#0d0887"
            ],
            [
             0.1111111111111111,
             "#46039f"
            ],
            [
             0.2222222222222222,
             "#7201a8"
            ],
            [
             0.3333333333333333,
             "#9c179e"
            ],
            [
             0.4444444444444444,
             "#bd3786"
            ],
            [
             0.5555555555555556,
             "#d8576b"
            ],
            [
             0.6666666666666666,
             "#ed7953"
            ],
            [
             0.7777777777777778,
             "#fb9f3a"
            ],
            [
             0.8888888888888888,
             "#fdca26"
            ],
            [
             1,
             "#f0f921"
            ]
           ],
           "sequentialminus": [
            [
             0,
             "#0d0887"
            ],
            [
             0.1111111111111111,
             "#46039f"
            ],
            [
             0.2222222222222222,
             "#7201a8"
            ],
            [
             0.3333333333333333,
             "#9c179e"
            ],
            [
             0.4444444444444444,
             "#bd3786"
            ],
            [
             0.5555555555555556,
             "#d8576b"
            ],
            [
             0.6666666666666666,
             "#ed7953"
            ],
            [
             0.7777777777777778,
             "#fb9f3a"
            ],
            [
             0.8888888888888888,
             "#fdca26"
            ],
            [
             1,
             "#f0f921"
            ]
           ]
          },
          "colorway": [
           "#636efa",
           "#EF553B",
           "#00cc96",
           "#ab63fa",
           "#FFA15A",
           "#19d3f3",
           "#FF6692",
           "#B6E880",
           "#FF97FF",
           "#FECB52"
          ],
          "font": {
           "color": "#2a3f5f"
          },
          "geo": {
           "bgcolor": "white",
           "lakecolor": "white",
           "landcolor": "#E5ECF6",
           "showlakes": true,
           "showland": true,
           "subunitcolor": "white"
          },
          "hoverlabel": {
           "align": "left"
          },
          "hovermode": "closest",
          "mapbox": {
           "style": "light"
          },
          "paper_bgcolor": "white",
          "plot_bgcolor": "#E5ECF6",
          "polar": {
           "angularaxis": {
            "gridcolor": "white",
            "linecolor": "white",
            "ticks": ""
           },
           "bgcolor": "#E5ECF6",
           "radialaxis": {
            "gridcolor": "white",
            "linecolor": "white",
            "ticks": ""
           }
          },
          "scene": {
           "xaxis": {
            "backgroundcolor": "#E5ECF6",
            "gridcolor": "white",
            "gridwidth": 2,
            "linecolor": "white",
            "showbackground": true,
            "ticks": "",
            "zerolinecolor": "white"
           },
           "yaxis": {
            "backgroundcolor": "#E5ECF6",
            "gridcolor": "white",
            "gridwidth": 2,
            "linecolor": "white",
            "showbackground": true,
            "ticks": "",
            "zerolinecolor": "white"
           },
           "zaxis": {
            "backgroundcolor": "#E5ECF6",
            "gridcolor": "white",
            "gridwidth": 2,
            "linecolor": "white",
            "showbackground": true,
            "ticks": "",
            "zerolinecolor": "white"
           }
          },
          "shapedefaults": {
           "line": {
            "color": "#2a3f5f"
           }
          },
          "ternary": {
           "aaxis": {
            "gridcolor": "white",
            "linecolor": "white",
            "ticks": ""
           },
           "baxis": {
            "gridcolor": "white",
            "linecolor": "white",
            "ticks": ""
           },
           "bgcolor": "#E5ECF6",
           "caxis": {
            "gridcolor": "white",
            "linecolor": "white",
            "ticks": ""
           }
          },
          "title": {
           "x": 0.05
          },
          "xaxis": {
           "automargin": true,
           "gridcolor": "white",
           "linecolor": "white",
           "ticks": "",
           "title": {
            "standoff": 15
           },
           "zerolinecolor": "white",
           "zerolinewidth": 2
          },
          "yaxis": {
           "automargin": true,
           "gridcolor": "white",
           "linecolor": "white",
           "ticks": "",
           "title": {
            "standoff": 15
           },
           "zerolinecolor": "white",
           "zerolinewidth": 2
          }
         }
        },
        "title": {
         "text": "Word: 'and' - 230 appearances"
        },
        "xaxis": {
         "anchor": "y",
         "domain": [
          0,
          1
         ],
         "title": {
          "text": "document"
         }
        },
        "yaxis": {
         "anchor": "x",
         "domain": [
          0,
          1
         ],
         "title": {
          "text": "count"
         }
        }
       }
      }
     },
     "metadata": {}
    },
    {
     "output_type": "display_data",
     "data": {
      "application/vnd.plotly.v1+json": {
       "config": {
        "plotlyServerURL": "https://plot.ly"
       },
       "data": [
        {
         "alignmentgroup": "True",
         "hovertemplate": "document=%{x}<br>count=%{y}<extra></extra>",
         "legendgroup": "",
         "marker": {
          "color": "#636efa"
         },
         "name": "",
         "offsetgroup": "",
         "orientation": "v",
         "showlegend": false,
         "textposition": "auto",
         "type": "bar",
         "x": [
          1,
          2,
          3,
          4,
          5,
          8,
          9,
          11,
          13,
          16,
          17,
          21,
          25,
          27,
          28,
          29,
          30,
          33,
          35,
          36,
          37,
          39,
          40,
          41,
          42,
          43,
          44,
          46,
          48,
          49,
          50,
          54,
          55,
          57,
          58,
          59,
          60,
          61,
          62,
          63,
          65,
          66,
          67,
          68,
          69,
          72,
          76,
          77,
          78,
          80,
          81,
          82,
          83,
          84,
          85,
          87,
          88,
          89,
          90,
          91,
          95,
          97
         ],
         "xaxis": "x",
         "y": [
          4,
          2,
          7,
          3,
          5,
          1,
          2,
          3,
          3,
          3,
          1,
          3,
          1,
          2,
          2,
          8,
          6,
          2,
          2,
          5,
          9,
          1,
          2,
          2,
          1,
          2,
          2,
          1,
          1,
          4,
          1,
          1,
          1,
          13,
          8,
          1,
          2,
          1,
          1,
          4,
          11,
          3,
          3,
          12,
          11,
          1,
          3,
          5,
          1,
          5,
          1,
          2,
          5,
          17,
          2,
          5,
          2,
          2,
          1,
          2,
          4,
          2
         ],
         "yaxis": "y"
        }
       ],
       "layout": {
        "barmode": "relative",
        "legend": {
         "tracegroupgap": 0
        },
        "template": {
         "data": {
          "bar": [
           {
            "error_x": {
             "color": "#2a3f5f"
            },
            "error_y": {
             "color": "#2a3f5f"
            },
            "marker": {
             "line": {
              "color": "#E5ECF6",
              "width": 0.5
             }
            },
            "type": "bar"
           }
          ],
          "barpolar": [
           {
            "marker": {
             "line": {
              "color": "#E5ECF6",
              "width": 0.5
             }
            },
            "type": "barpolar"
           }
          ],
          "carpet": [
           {
            "aaxis": {
             "endlinecolor": "#2a3f5f",
             "gridcolor": "white",
             "linecolor": "white",
             "minorgridcolor": "white",
             "startlinecolor": "#2a3f5f"
            },
            "baxis": {
             "endlinecolor": "#2a3f5f",
             "gridcolor": "white",
             "linecolor": "white",
             "minorgridcolor": "white",
             "startlinecolor": "#2a3f5f"
            },
            "type": "carpet"
           }
          ],
          "choropleth": [
           {
            "colorbar": {
             "outlinewidth": 0,
             "ticks": ""
            },
            "type": "choropleth"
           }
          ],
          "contour": [
           {
            "colorbar": {
             "outlinewidth": 0,
             "ticks": ""
            },
            "colorscale": [
             [
              0,
              "#0d0887"
             ],
             [
              0.1111111111111111,
              "#46039f"
             ],
             [
              0.2222222222222222,
              "#7201a8"
             ],
             [
              0.3333333333333333,
              "#9c179e"
             ],
             [
              0.4444444444444444,
              "#bd3786"
             ],
             [
              0.5555555555555556,
              "#d8576b"
             ],
             [
              0.6666666666666666,
              "#ed7953"
             ],
             [
              0.7777777777777778,
              "#fb9f3a"
             ],
             [
              0.8888888888888888,
              "#fdca26"
             ],
             [
              1,
              "#f0f921"
             ]
            ],
            "type": "contour"
           }
          ],
          "contourcarpet": [
           {
            "colorbar": {
             "outlinewidth": 0,
             "ticks": ""
            },
            "type": "contourcarpet"
           }
          ],
          "heatmap": [
           {
            "colorbar": {
             "outlinewidth": 0,
             "ticks": ""
            },
            "colorscale": [
             [
              0,
              "#0d0887"
             ],
             [
              0.1111111111111111,
              "#46039f"
             ],
             [
              0.2222222222222222,
              "#7201a8"
             ],
             [
              0.3333333333333333,
              "#9c179e"
             ],
             [
              0.4444444444444444,
              "#bd3786"
             ],
             [
              0.5555555555555556,
              "#d8576b"
             ],
             [
              0.6666666666666666,
              "#ed7953"
             ],
             [
              0.7777777777777778,
              "#fb9f3a"
             ],
             [
              0.8888888888888888,
              "#fdca26"
             ],
             [
              1,
              "#f0f921"
             ]
            ],
            "type": "heatmap"
           }
          ],
          "heatmapgl": [
           {
            "colorbar": {
             "outlinewidth": 0,
             "ticks": ""
            },
            "colorscale": [
             [
              0,
              "#0d0887"
             ],
             [
              0.1111111111111111,
              "#46039f"
             ],
             [
              0.2222222222222222,
              "#7201a8"
             ],
             [
              0.3333333333333333,
              "#9c179e"
             ],
             [
              0.4444444444444444,
              "#bd3786"
             ],
             [
              0.5555555555555556,
              "#d8576b"
             ],
             [
              0.6666666666666666,
              "#ed7953"
             ],
             [
              0.7777777777777778,
              "#fb9f3a"
             ],
             [
              0.8888888888888888,
              "#fdca26"
             ],
             [
              1,
              "#f0f921"
             ]
            ],
            "type": "heatmapgl"
           }
          ],
          "histogram": [
           {
            "marker": {
             "colorbar": {
              "outlinewidth": 0,
              "ticks": ""
             }
            },
            "type": "histogram"
           }
          ],
          "histogram2d": [
           {
            "colorbar": {
             "outlinewidth": 0,
             "ticks": ""
            },
            "colorscale": [
             [
              0,
              "#0d0887"
             ],
             [
              0.1111111111111111,
              "#46039f"
             ],
             [
              0.2222222222222222,
              "#7201a8"
             ],
             [
              0.3333333333333333,
              "#9c179e"
             ],
             [
              0.4444444444444444,
              "#bd3786"
             ],
             [
              0.5555555555555556,
              "#d8576b"
             ],
             [
              0.6666666666666666,
              "#ed7953"
             ],
             [
              0.7777777777777778,
              "#fb9f3a"
             ],
             [
              0.8888888888888888,
              "#fdca26"
             ],
             [
              1,
              "#f0f921"
             ]
            ],
            "type": "histogram2d"
           }
          ],
          "histogram2dcontour": [
           {
            "colorbar": {
             "outlinewidth": 0,
             "ticks": ""
            },
            "colorscale": [
             [
              0,
              "#0d0887"
             ],
             [
              0.1111111111111111,
              "#46039f"
             ],
             [
              0.2222222222222222,
              "#7201a8"
             ],
             [
              0.3333333333333333,
              "#9c179e"
             ],
             [
              0.4444444444444444,
              "#bd3786"
             ],
             [
              0.5555555555555556,
              "#d8576b"
             ],
             [
              0.6666666666666666,
              "#ed7953"
             ],
             [
              0.7777777777777778,
              "#fb9f3a"
             ],
             [
              0.8888888888888888,
              "#fdca26"
             ],
             [
              1,
              "#f0f921"
             ]
            ],
            "type": "histogram2dcontour"
           }
          ],
          "mesh3d": [
           {
            "colorbar": {
             "outlinewidth": 0,
             "ticks": ""
            },
            "type": "mesh3d"
           }
          ],
          "parcoords": [
           {
            "line": {
             "colorbar": {
              "outlinewidth": 0,
              "ticks": ""
             }
            },
            "type": "parcoords"
           }
          ],
          "pie": [
           {
            "automargin": true,
            "type": "pie"
           }
          ],
          "scatter": [
           {
            "marker": {
             "colorbar": {
              "outlinewidth": 0,
              "ticks": ""
             }
            },
            "type": "scatter"
           }
          ],
          "scatter3d": [
           {
            "line": {
             "colorbar": {
              "outlinewidth": 0,
              "ticks": ""
             }
            },
            "marker": {
             "colorbar": {
              "outlinewidth": 0,
              "ticks": ""
             }
            },
            "type": "scatter3d"
           }
          ],
          "scattercarpet": [
           {
            "marker": {
             "colorbar": {
              "outlinewidth": 0,
              "ticks": ""
             }
            },
            "type": "scattercarpet"
           }
          ],
          "scattergeo": [
           {
            "marker": {
             "colorbar": {
              "outlinewidth": 0,
              "ticks": ""
             }
            },
            "type": "scattergeo"
           }
          ],
          "scattergl": [
           {
            "marker": {
             "colorbar": {
              "outlinewidth": 0,
              "ticks": ""
             }
            },
            "type": "scattergl"
           }
          ],
          "scattermapbox": [
           {
            "marker": {
             "colorbar": {
              "outlinewidth": 0,
              "ticks": ""
             }
            },
            "type": "scattermapbox"
           }
          ],
          "scatterpolar": [
           {
            "marker": {
             "colorbar": {
              "outlinewidth": 0,
              "ticks": ""
             }
            },
            "type": "scatterpolar"
           }
          ],
          "scatterpolargl": [
           {
            "marker": {
             "colorbar": {
              "outlinewidth": 0,
              "ticks": ""
             }
            },
            "type": "scatterpolargl"
           }
          ],
          "scatterternary": [
           {
            "marker": {
             "colorbar": {
              "outlinewidth": 0,
              "ticks": ""
             }
            },
            "type": "scatterternary"
           }
          ],
          "surface": [
           {
            "colorbar": {
             "outlinewidth": 0,
             "ticks": ""
            },
            "colorscale": [
             [
              0,
              "#0d0887"
             ],
             [
              0.1111111111111111,
              "#46039f"
             ],
             [
              0.2222222222222222,
              "#7201a8"
             ],
             [
              0.3333333333333333,
              "#9c179e"
             ],
             [
              0.4444444444444444,
              "#bd3786"
             ],
             [
              0.5555555555555556,
              "#d8576b"
             ],
             [
              0.6666666666666666,
              "#ed7953"
             ],
             [
              0.7777777777777778,
              "#fb9f3a"
             ],
             [
              0.8888888888888888,
              "#fdca26"
             ],
             [
              1,
              "#f0f921"
             ]
            ],
            "type": "surface"
           }
          ],
          "table": [
           {
            "cells": {
             "fill": {
              "color": "#EBF0F8"
             },
             "line": {
              "color": "white"
             }
            },
            "header": {
             "fill": {
              "color": "#C8D4E3"
             },
             "line": {
              "color": "white"
             }
            },
            "type": "table"
           }
          ]
         },
         "layout": {
          "annotationdefaults": {
           "arrowcolor": "#2a3f5f",
           "arrowhead": 0,
           "arrowwidth": 1
          },
          "autotypenumbers": "strict",
          "coloraxis": {
           "colorbar": {
            "outlinewidth": 0,
            "ticks": ""
           }
          },
          "colorscale": {
           "diverging": [
            [
             0,
             "#8e0152"
            ],
            [
             0.1,
             "#c51b7d"
            ],
            [
             0.2,
             "#de77ae"
            ],
            [
             0.3,
             "#f1b6da"
            ],
            [
             0.4,
             "#fde0ef"
            ],
            [
             0.5,
             "#f7f7f7"
            ],
            [
             0.6,
             "#e6f5d0"
            ],
            [
             0.7,
             "#b8e186"
            ],
            [
             0.8,
             "#7fbc41"
            ],
            [
             0.9,
             "#4d9221"
            ],
            [
             1,
             "#276419"
            ]
           ],
           "sequential": [
            [
             0,
             "#0d0887"
            ],
            [
             0.1111111111111111,
             "#46039f"
            ],
            [
             0.2222222222222222,
             "#7201a8"
            ],
            [
             0.3333333333333333,
             "#9c179e"
            ],
            [
             0.4444444444444444,
             "#bd3786"
            ],
            [
             0.5555555555555556,
             "#d8576b"
            ],
            [
             0.6666666666666666,
             "#ed7953"
            ],
            [
             0.7777777777777778,
             "#fb9f3a"
            ],
            [
             0.8888888888888888,
             "#fdca26"
            ],
            [
             1,
             "#f0f921"
            ]
           ],
           "sequentialminus": [
            [
             0,
             "#0d0887"
            ],
            [
             0.1111111111111111,
             "#46039f"
            ],
            [
             0.2222222222222222,
             "#7201a8"
            ],
            [
             0.3333333333333333,
             "#9c179e"
            ],
            [
             0.4444444444444444,
             "#bd3786"
            ],
            [
             0.5555555555555556,
             "#d8576b"
            ],
            [
             0.6666666666666666,
             "#ed7953"
            ],
            [
             0.7777777777777778,
             "#fb9f3a"
            ],
            [
             0.8888888888888888,
             "#fdca26"
            ],
            [
             1,
             "#f0f921"
            ]
           ]
          },
          "colorway": [
           "#636efa",
           "#EF553B",
           "#00cc96",
           "#ab63fa",
           "#FFA15A",
           "#19d3f3",
           "#FF6692",
           "#B6E880",
           "#FF97FF",
           "#FECB52"
          ],
          "font": {
           "color": "#2a3f5f"
          },
          "geo": {
           "bgcolor": "white",
           "lakecolor": "white",
           "landcolor": "#E5ECF6",
           "showlakes": true,
           "showland": true,
           "subunitcolor": "white"
          },
          "hoverlabel": {
           "align": "left"
          },
          "hovermode": "closest",
          "mapbox": {
           "style": "light"
          },
          "paper_bgcolor": "white",
          "plot_bgcolor": "#E5ECF6",
          "polar": {
           "angularaxis": {
            "gridcolor": "white",
            "linecolor": "white",
            "ticks": ""
           },
           "bgcolor": "#E5ECF6",
           "radialaxis": {
            "gridcolor": "white",
            "linecolor": "white",
            "ticks": ""
           }
          },
          "scene": {
           "xaxis": {
            "backgroundcolor": "#E5ECF6",
            "gridcolor": "white",
            "gridwidth": 2,
            "linecolor": "white",
            "showbackground": true,
            "ticks": "",
            "zerolinecolor": "white"
           },
           "yaxis": {
            "backgroundcolor": "#E5ECF6",
            "gridcolor": "white",
            "gridwidth": 2,
            "linecolor": "white",
            "showbackground": true,
            "ticks": "",
            "zerolinecolor": "white"
           },
           "zaxis": {
            "backgroundcolor": "#E5ECF6",
            "gridcolor": "white",
            "gridwidth": 2,
            "linecolor": "white",
            "showbackground": true,
            "ticks": "",
            "zerolinecolor": "white"
           }
          },
          "shapedefaults": {
           "line": {
            "color": "#2a3f5f"
           }
          },
          "ternary": {
           "aaxis": {
            "gridcolor": "white",
            "linecolor": "white",
            "ticks": ""
           },
           "baxis": {
            "gridcolor": "white",
            "linecolor": "white",
            "ticks": ""
           },
           "bgcolor": "#E5ECF6",
           "caxis": {
            "gridcolor": "white",
            "linecolor": "white",
            "ticks": ""
           }
          },
          "title": {
           "x": 0.05
          },
          "xaxis": {
           "automargin": true,
           "gridcolor": "white",
           "linecolor": "white",
           "ticks": "",
           "title": {
            "standoff": 15
           },
           "zerolinecolor": "white",
           "zerolinewidth": 2
          },
          "yaxis": {
           "automargin": true,
           "gridcolor": "white",
           "linecolor": "white",
           "ticks": "",
           "title": {
            "standoff": 15
           },
           "zerolinecolor": "white",
           "zerolinewidth": 2
          }
         }
        },
        "title": {
         "text": "Word: 'i' - 223 appearances"
        },
        "xaxis": {
         "anchor": "y",
         "domain": [
          0,
          1
         ],
         "title": {
          "text": "document"
         }
        },
        "yaxis": {
         "anchor": "x",
         "domain": [
          0,
          1
         ],
         "title": {
          "text": "count"
         }
        }
       }
      }
     },
     "metadata": {}
    },
    {
     "output_type": "display_data",
     "data": {
      "application/vnd.plotly.v1+json": {
       "config": {
        "plotlyServerURL": "https://plot.ly"
       },
       "data": [
        {
         "alignmentgroup": "True",
         "hovertemplate": "document=%{x}<br>count=%{y}<extra></extra>",
         "legendgroup": "",
         "marker": {
          "color": "#636efa"
         },
         "name": "",
         "offsetgroup": "",
         "orientation": "v",
         "showlegend": false,
         "textposition": "auto",
         "type": "bar",
         "x": [
          1,
          2,
          3,
          4,
          5,
          10,
          14,
          16,
          18,
          19,
          21,
          23,
          25,
          29,
          30,
          35,
          36,
          37,
          39,
          41,
          43,
          50,
          52,
          53,
          54,
          56,
          57,
          58,
          60,
          61,
          65,
          66,
          68,
          69,
          72,
          74,
          75,
          76,
          78,
          79,
          80,
          81,
          82,
          83,
          84,
          89,
          91,
          92,
          95,
          97,
          98,
          99
         ],
         "xaxis": "x",
         "y": [
          6,
          2,
          2,
          1,
          1,
          1,
          2,
          5,
          8,
          2,
          2,
          2,
          5,
          4,
          2,
          2,
          11,
          3,
          1,
          1,
          2,
          2,
          2,
          1,
          2,
          1,
          14,
          2,
          1,
          2,
          3,
          2,
          1,
          7,
          1,
          3,
          2,
          6,
          1,
          2,
          5,
          5,
          4,
          1,
          6,
          6,
          4,
          2,
          1,
          3,
          1,
          1
         ],
         "yaxis": "y"
        }
       ],
       "layout": {
        "barmode": "relative",
        "legend": {
         "tracegroupgap": 0
        },
        "template": {
         "data": {
          "bar": [
           {
            "error_x": {
             "color": "#2a3f5f"
            },
            "error_y": {
             "color": "#2a3f5f"
            },
            "marker": {
             "line": {
              "color": "#E5ECF6",
              "width": 0.5
             }
            },
            "type": "bar"
           }
          ],
          "barpolar": [
           {
            "marker": {
             "line": {
              "color": "#E5ECF6",
              "width": 0.5
             }
            },
            "type": "barpolar"
           }
          ],
          "carpet": [
           {
            "aaxis": {
             "endlinecolor": "#2a3f5f",
             "gridcolor": "white",
             "linecolor": "white",
             "minorgridcolor": "white",
             "startlinecolor": "#2a3f5f"
            },
            "baxis": {
             "endlinecolor": "#2a3f5f",
             "gridcolor": "white",
             "linecolor": "white",
             "minorgridcolor": "white",
             "startlinecolor": "#2a3f5f"
            },
            "type": "carpet"
           }
          ],
          "choropleth": [
           {
            "colorbar": {
             "outlinewidth": 0,
             "ticks": ""
            },
            "type": "choropleth"
           }
          ],
          "contour": [
           {
            "colorbar": {
             "outlinewidth": 0,
             "ticks": ""
            },
            "colorscale": [
             [
              0,
              "#0d0887"
             ],
             [
              0.1111111111111111,
              "#46039f"
             ],
             [
              0.2222222222222222,
              "#7201a8"
             ],
             [
              0.3333333333333333,
              "#9c179e"
             ],
             [
              0.4444444444444444,
              "#bd3786"
             ],
             [
              0.5555555555555556,
              "#d8576b"
             ],
             [
              0.6666666666666666,
              "#ed7953"
             ],
             [
              0.7777777777777778,
              "#fb9f3a"
             ],
             [
              0.8888888888888888,
              "#fdca26"
             ],
             [
              1,
              "#f0f921"
             ]
            ],
            "type": "contour"
           }
          ],
          "contourcarpet": [
           {
            "colorbar": {
             "outlinewidth": 0,
             "ticks": ""
            },
            "type": "contourcarpet"
           }
          ],
          "heatmap": [
           {
            "colorbar": {
             "outlinewidth": 0,
             "ticks": ""
            },
            "colorscale": [
             [
              0,
              "#0d0887"
             ],
             [
              0.1111111111111111,
              "#46039f"
             ],
             [
              0.2222222222222222,
              "#7201a8"
             ],
             [
              0.3333333333333333,
              "#9c179e"
             ],
             [
              0.4444444444444444,
              "#bd3786"
             ],
             [
              0.5555555555555556,
              "#d8576b"
             ],
             [
              0.6666666666666666,
              "#ed7953"
             ],
             [
              0.7777777777777778,
              "#fb9f3a"
             ],
             [
              0.8888888888888888,
              "#fdca26"
             ],
             [
              1,
              "#f0f921"
             ]
            ],
            "type": "heatmap"
           }
          ],
          "heatmapgl": [
           {
            "colorbar": {
             "outlinewidth": 0,
             "ticks": ""
            },
            "colorscale": [
             [
              0,
              "#0d0887"
             ],
             [
              0.1111111111111111,
              "#46039f"
             ],
             [
              0.2222222222222222,
              "#7201a8"
             ],
             [
              0.3333333333333333,
              "#9c179e"
             ],
             [
              0.4444444444444444,
              "#bd3786"
             ],
             [
              0.5555555555555556,
              "#d8576b"
             ],
             [
              0.6666666666666666,
              "#ed7953"
             ],
             [
              0.7777777777777778,
              "#fb9f3a"
             ],
             [
              0.8888888888888888,
              "#fdca26"
             ],
             [
              1,
              "#f0f921"
             ]
            ],
            "type": "heatmapgl"
           }
          ],
          "histogram": [
           {
            "marker": {
             "colorbar": {
              "outlinewidth": 0,
              "ticks": ""
             }
            },
            "type": "histogram"
           }
          ],
          "histogram2d": [
           {
            "colorbar": {
             "outlinewidth": 0,
             "ticks": ""
            },
            "colorscale": [
             [
              0,
              "#0d0887"
             ],
             [
              0.1111111111111111,
              "#46039f"
             ],
             [
              0.2222222222222222,
              "#7201a8"
             ],
             [
              0.3333333333333333,
              "#9c179e"
             ],
             [
              0.4444444444444444,
              "#bd3786"
             ],
             [
              0.5555555555555556,
              "#d8576b"
             ],
             [
              0.6666666666666666,
              "#ed7953"
             ],
             [
              0.7777777777777778,
              "#fb9f3a"
             ],
             [
              0.8888888888888888,
              "#fdca26"
             ],
             [
              1,
              "#f0f921"
             ]
            ],
            "type": "histogram2d"
           }
          ],
          "histogram2dcontour": [
           {
            "colorbar": {
             "outlinewidth": 0,
             "ticks": ""
            },
            "colorscale": [
             [
              0,
              "#0d0887"
             ],
             [
              0.1111111111111111,
              "#46039f"
             ],
             [
              0.2222222222222222,
              "#7201a8"
             ],
             [
              0.3333333333333333,
              "#9c179e"
             ],
             [
              0.4444444444444444,
              "#bd3786"
             ],
             [
              0.5555555555555556,
              "#d8576b"
             ],
             [
              0.6666666666666666,
              "#ed7953"
             ],
             [
              0.7777777777777778,
              "#fb9f3a"
             ],
             [
              0.8888888888888888,
              "#fdca26"
             ],
             [
              1,
              "#f0f921"
             ]
            ],
            "type": "histogram2dcontour"
           }
          ],
          "mesh3d": [
           {
            "colorbar": {
             "outlinewidth": 0,
             "ticks": ""
            },
            "type": "mesh3d"
           }
          ],
          "parcoords": [
           {
            "line": {
             "colorbar": {
              "outlinewidth": 0,
              "ticks": ""
             }
            },
            "type": "parcoords"
           }
          ],
          "pie": [
           {
            "automargin": true,
            "type": "pie"
           }
          ],
          "scatter": [
           {
            "marker": {
             "colorbar": {
              "outlinewidth": 0,
              "ticks": ""
             }
            },
            "type": "scatter"
           }
          ],
          "scatter3d": [
           {
            "line": {
             "colorbar": {
              "outlinewidth": 0,
              "ticks": ""
             }
            },
            "marker": {
             "colorbar": {
              "outlinewidth": 0,
              "ticks": ""
             }
            },
            "type": "scatter3d"
           }
          ],
          "scattercarpet": [
           {
            "marker": {
             "colorbar": {
              "outlinewidth": 0,
              "ticks": ""
             }
            },
            "type": "scattercarpet"
           }
          ],
          "scattergeo": [
           {
            "marker": {
             "colorbar": {
              "outlinewidth": 0,
              "ticks": ""
             }
            },
            "type": "scattergeo"
           }
          ],
          "scattergl": [
           {
            "marker": {
             "colorbar": {
              "outlinewidth": 0,
              "ticks": ""
             }
            },
            "type": "scattergl"
           }
          ],
          "scattermapbox": [
           {
            "marker": {
             "colorbar": {
              "outlinewidth": 0,
              "ticks": ""
             }
            },
            "type": "scattermapbox"
           }
          ],
          "scatterpolar": [
           {
            "marker": {
             "colorbar": {
              "outlinewidth": 0,
              "ticks": ""
             }
            },
            "type": "scatterpolar"
           }
          ],
          "scatterpolargl": [
           {
            "marker": {
             "colorbar": {
              "outlinewidth": 0,
              "ticks": ""
             }
            },
            "type": "scatterpolargl"
           }
          ],
          "scatterternary": [
           {
            "marker": {
             "colorbar": {
              "outlinewidth": 0,
              "ticks": ""
             }
            },
            "type": "scatterternary"
           }
          ],
          "surface": [
           {
            "colorbar": {
             "outlinewidth": 0,
             "ticks": ""
            },
            "colorscale": [
             [
              0,
              "#0d0887"
             ],
             [
              0.1111111111111111,
              "#46039f"
             ],
             [
              0.2222222222222222,
              "#7201a8"
             ],
             [
              0.3333333333333333,
              "#9c179e"
             ],
             [
              0.4444444444444444,
              "#bd3786"
             ],
             [
              0.5555555555555556,
              "#d8576b"
             ],
             [
              0.6666666666666666,
              "#ed7953"
             ],
             [
              0.7777777777777778,
              "#fb9f3a"
             ],
             [
              0.8888888888888888,
              "#fdca26"
             ],
             [
              1,
              "#f0f921"
             ]
            ],
            "type": "surface"
           }
          ],
          "table": [
           {
            "cells": {
             "fill": {
              "color": "#EBF0F8"
             },
             "line": {
              "color": "white"
             }
            },
            "header": {
             "fill": {
              "color": "#C8D4E3"
             },
             "line": {
              "color": "white"
             }
            },
            "type": "table"
           }
          ]
         },
         "layout": {
          "annotationdefaults": {
           "arrowcolor": "#2a3f5f",
           "arrowhead": 0,
           "arrowwidth": 1
          },
          "autotypenumbers": "strict",
          "coloraxis": {
           "colorbar": {
            "outlinewidth": 0,
            "ticks": ""
           }
          },
          "colorscale": {
           "diverging": [
            [
             0,
             "#8e0152"
            ],
            [
             0.1,
             "#c51b7d"
            ],
            [
             0.2,
             "#de77ae"
            ],
            [
             0.3,
             "#f1b6da"
            ],
            [
             0.4,
             "#fde0ef"
            ],
            [
             0.5,
             "#f7f7f7"
            ],
            [
             0.6,
             "#e6f5d0"
            ],
            [
             0.7,
             "#b8e186"
            ],
            [
             0.8,
             "#7fbc41"
            ],
            [
             0.9,
             "#4d9221"
            ],
            [
             1,
             "#276419"
            ]
           ],
           "sequential": [
            [
             0,
             "#0d0887"
            ],
            [
             0.1111111111111111,
             "#46039f"
            ],
            [
             0.2222222222222222,
             "#7201a8"
            ],
            [
             0.3333333333333333,
             "#9c179e"
            ],
            [
             0.4444444444444444,
             "#bd3786"
            ],
            [
             0.5555555555555556,
             "#d8576b"
            ],
            [
             0.6666666666666666,
             "#ed7953"
            ],
            [
             0.7777777777777778,
             "#fb9f3a"
            ],
            [
             0.8888888888888888,
             "#fdca26"
            ],
            [
             1,
             "#f0f921"
            ]
           ],
           "sequentialminus": [
            [
             0,
             "#0d0887"
            ],
            [
             0.1111111111111111,
             "#46039f"
            ],
            [
             0.2222222222222222,
             "#7201a8"
            ],
            [
             0.3333333333333333,
             "#9c179e"
            ],
            [
             0.4444444444444444,
             "#bd3786"
            ],
            [
             0.5555555555555556,
             "#d8576b"
            ],
            [
             0.6666666666666666,
             "#ed7953"
            ],
            [
             0.7777777777777778,
             "#fb9f3a"
            ],
            [
             0.8888888888888888,
             "#fdca26"
            ],
            [
             1,
             "#f0f921"
            ]
           ]
          },
          "colorway": [
           "#636efa",
           "#EF553B",
           "#00cc96",
           "#ab63fa",
           "#FFA15A",
           "#19d3f3",
           "#FF6692",
           "#B6E880",
           "#FF97FF",
           "#FECB52"
          ],
          "font": {
           "color": "#2a3f5f"
          },
          "geo": {
           "bgcolor": "white",
           "lakecolor": "white",
           "landcolor": "#E5ECF6",
           "showlakes": true,
           "showland": true,
           "subunitcolor": "white"
          },
          "hoverlabel": {
           "align": "left"
          },
          "hovermode": "closest",
          "mapbox": {
           "style": "light"
          },
          "paper_bgcolor": "white",
          "plot_bgcolor": "#E5ECF6",
          "polar": {
           "angularaxis": {
            "gridcolor": "white",
            "linecolor": "white",
            "ticks": ""
           },
           "bgcolor": "#E5ECF6",
           "radialaxis": {
            "gridcolor": "white",
            "linecolor": "white",
            "ticks": ""
           }
          },
          "scene": {
           "xaxis": {
            "backgroundcolor": "#E5ECF6",
            "gridcolor": "white",
            "gridwidth": 2,
            "linecolor": "white",
            "showbackground": true,
            "ticks": "",
            "zerolinecolor": "white"
           },
           "yaxis": {
            "backgroundcolor": "#E5ECF6",
            "gridcolor": "white",
            "gridwidth": 2,
            "linecolor": "white",
            "showbackground": true,
            "ticks": "",
            "zerolinecolor": "white"
           },
           "zaxis": {
            "backgroundcolor": "#E5ECF6",
            "gridcolor": "white",
            "gridwidth": 2,
            "linecolor": "white",
            "showbackground": true,
            "ticks": "",
            "zerolinecolor": "white"
           }
          },
          "shapedefaults": {
           "line": {
            "color": "#2a3f5f"
           }
          },
          "ternary": {
           "aaxis": {
            "gridcolor": "white",
            "linecolor": "white",
            "ticks": ""
           },
           "baxis": {
            "gridcolor": "white",
            "linecolor": "white",
            "ticks": ""
           },
           "bgcolor": "#E5ECF6",
           "caxis": {
            "gridcolor": "white",
            "linecolor": "white",
            "ticks": ""
           }
          },
          "title": {
           "x": 0.05
          },
          "xaxis": {
           "automargin": true,
           "gridcolor": "white",
           "linecolor": "white",
           "ticks": "",
           "title": {
            "standoff": 15
           },
           "zerolinecolor": "white",
           "zerolinewidth": 2
          },
          "yaxis": {
           "automargin": true,
           "gridcolor": "white",
           "linecolor": "white",
           "ticks": "",
           "title": {
            "standoff": 15
           },
           "zerolinecolor": "white",
           "zerolinewidth": 2
          }
         }
        },
        "title": {
         "text": "Word: 'in' - 159 appearances"
        },
        "xaxis": {
         "anchor": "y",
         "domain": [
          0,
          1
         ],
         "title": {
          "text": "document"
         }
        },
        "yaxis": {
         "anchor": "x",
         "domain": [
          0,
          1
         ],
         "title": {
          "text": "count"
         }
        }
       }
      }
     },
     "metadata": {}
    },
    {
     "output_type": "display_data",
     "data": {
      "application/vnd.plotly.v1+json": {
       "config": {
        "plotlyServerURL": "https://plot.ly"
       },
       "data": [
        {
         "alignmentgroup": "True",
         "hovertemplate": "document=%{x}<br>count=%{y}<extra></extra>",
         "legendgroup": "",
         "marker": {
          "color": "#636efa"
         },
         "name": "",
         "offsetgroup": "",
         "orientation": "v",
         "showlegend": false,
         "textposition": "auto",
         "type": "bar",
         "x": [
          1,
          2,
          3,
          4,
          5,
          7,
          8,
          9,
          11,
          12,
          14,
          18,
          19,
          20,
          22,
          25,
          27,
          28,
          29,
          30,
          31,
          34,
          35,
          36,
          37,
          38,
          39,
          41,
          43,
          44,
          47,
          48,
          49,
          52,
          53,
          54,
          55,
          56,
          57,
          58,
          60,
          62,
          63,
          64,
          65,
          67,
          68,
          69,
          70,
          71,
          72,
          73,
          74,
          75,
          76,
          79,
          80,
          82,
          83,
          84,
          85,
          87,
          88,
          89,
          90,
          94,
          95,
          96,
          98
         ],
         "xaxis": "x",
         "y": [
          3,
          1,
          4,
          2,
          1,
          5,
          1,
          2,
          2,
          1,
          1,
          14,
          5,
          2,
          1,
          1,
          4,
          1,
          2,
          1,
          2,
          1,
          3,
          8,
          2,
          1,
          1,
          1,
          1,
          1,
          1,
          3,
          2,
          1,
          1,
          9,
          3,
          1,
          16,
          1,
          3,
          3,
          4,
          1,
          5,
          1,
          3,
          1,
          3,
          1,
          1,
          2,
          2,
          1,
          8,
          1,
          1,
          1,
          1,
          8,
          1,
          1,
          2,
          1,
          1,
          2,
          3,
          2,
          2
         ],
         "yaxis": "y"
        }
       ],
       "layout": {
        "barmode": "relative",
        "legend": {
         "tracegroupgap": 0
        },
        "template": {
         "data": {
          "bar": [
           {
            "error_x": {
             "color": "#2a3f5f"
            },
            "error_y": {
             "color": "#2a3f5f"
            },
            "marker": {
             "line": {
              "color": "#E5ECF6",
              "width": 0.5
             }
            },
            "type": "bar"
           }
          ],
          "barpolar": [
           {
            "marker": {
             "line": {
              "color": "#E5ECF6",
              "width": 0.5
             }
            },
            "type": "barpolar"
           }
          ],
          "carpet": [
           {
            "aaxis": {
             "endlinecolor": "#2a3f5f",
             "gridcolor": "white",
             "linecolor": "white",
             "minorgridcolor": "white",
             "startlinecolor": "#2a3f5f"
            },
            "baxis": {
             "endlinecolor": "#2a3f5f",
             "gridcolor": "white",
             "linecolor": "white",
             "minorgridcolor": "white",
             "startlinecolor": "#2a3f5f"
            },
            "type": "carpet"
           }
          ],
          "choropleth": [
           {
            "colorbar": {
             "outlinewidth": 0,
             "ticks": ""
            },
            "type": "choropleth"
           }
          ],
          "contour": [
           {
            "colorbar": {
             "outlinewidth": 0,
             "ticks": ""
            },
            "colorscale": [
             [
              0,
              "#0d0887"
             ],
             [
              0.1111111111111111,
              "#46039f"
             ],
             [
              0.2222222222222222,
              "#7201a8"
             ],
             [
              0.3333333333333333,
              "#9c179e"
             ],
             [
              0.4444444444444444,
              "#bd3786"
             ],
             [
              0.5555555555555556,
              "#d8576b"
             ],
             [
              0.6666666666666666,
              "#ed7953"
             ],
             [
              0.7777777777777778,
              "#fb9f3a"
             ],
             [
              0.8888888888888888,
              "#fdca26"
             ],
             [
              1,
              "#f0f921"
             ]
            ],
            "type": "contour"
           }
          ],
          "contourcarpet": [
           {
            "colorbar": {
             "outlinewidth": 0,
             "ticks": ""
            },
            "type": "contourcarpet"
           }
          ],
          "heatmap": [
           {
            "colorbar": {
             "outlinewidth": 0,
             "ticks": ""
            },
            "colorscale": [
             [
              0,
              "#0d0887"
             ],
             [
              0.1111111111111111,
              "#46039f"
             ],
             [
              0.2222222222222222,
              "#7201a8"
             ],
             [
              0.3333333333333333,
              "#9c179e"
             ],
             [
              0.4444444444444444,
              "#bd3786"
             ],
             [
              0.5555555555555556,
              "#d8576b"
             ],
             [
              0.6666666666666666,
              "#ed7953"
             ],
             [
              0.7777777777777778,
              "#fb9f3a"
             ],
             [
              0.8888888888888888,
              "#fdca26"
             ],
             [
              1,
              "#f0f921"
             ]
            ],
            "type": "heatmap"
           }
          ],
          "heatmapgl": [
           {
            "colorbar": {
             "outlinewidth": 0,
             "ticks": ""
            },
            "colorscale": [
             [
              0,
              "#0d0887"
             ],
             [
              0.1111111111111111,
              "#46039f"
             ],
             [
              0.2222222222222222,
              "#7201a8"
             ],
             [
              0.3333333333333333,
              "#9c179e"
             ],
             [
              0.4444444444444444,
              "#bd3786"
             ],
             [
              0.5555555555555556,
              "#d8576b"
             ],
             [
              0.6666666666666666,
              "#ed7953"
             ],
             [
              0.7777777777777778,
              "#fb9f3a"
             ],
             [
              0.8888888888888888,
              "#fdca26"
             ],
             [
              1,
              "#f0f921"
             ]
            ],
            "type": "heatmapgl"
           }
          ],
          "histogram": [
           {
            "marker": {
             "colorbar": {
              "outlinewidth": 0,
              "ticks": ""
             }
            },
            "type": "histogram"
           }
          ],
          "histogram2d": [
           {
            "colorbar": {
             "outlinewidth": 0,
             "ticks": ""
            },
            "colorscale": [
             [
              0,
              "#0d0887"
             ],
             [
              0.1111111111111111,
              "#46039f"
             ],
             [
              0.2222222222222222,
              "#7201a8"
             ],
             [
              0.3333333333333333,
              "#9c179e"
             ],
             [
              0.4444444444444444,
              "#bd3786"
             ],
             [
              0.5555555555555556,
              "#d8576b"
             ],
             [
              0.6666666666666666,
              "#ed7953"
             ],
             [
              0.7777777777777778,
              "#fb9f3a"
             ],
             [
              0.8888888888888888,
              "#fdca26"
             ],
             [
              1,
              "#f0f921"
             ]
            ],
            "type": "histogram2d"
           }
          ],
          "histogram2dcontour": [
           {
            "colorbar": {
             "outlinewidth": 0,
             "ticks": ""
            },
            "colorscale": [
             [
              0,
              "#0d0887"
             ],
             [
              0.1111111111111111,
              "#46039f"
             ],
             [
              0.2222222222222222,
              "#7201a8"
             ],
             [
              0.3333333333333333,
              "#9c179e"
             ],
             [
              0.4444444444444444,
              "#bd3786"
             ],
             [
              0.5555555555555556,
              "#d8576b"
             ],
             [
              0.6666666666666666,
              "#ed7953"
             ],
             [
              0.7777777777777778,
              "#fb9f3a"
             ],
             [
              0.8888888888888888,
              "#fdca26"
             ],
             [
              1,
              "#f0f921"
             ]
            ],
            "type": "histogram2dcontour"
           }
          ],
          "mesh3d": [
           {
            "colorbar": {
             "outlinewidth": 0,
             "ticks": ""
            },
            "type": "mesh3d"
           }
          ],
          "parcoords": [
           {
            "line": {
             "colorbar": {
              "outlinewidth": 0,
              "ticks": ""
             }
            },
            "type": "parcoords"
           }
          ],
          "pie": [
           {
            "automargin": true,
            "type": "pie"
           }
          ],
          "scatter": [
           {
            "marker": {
             "colorbar": {
              "outlinewidth": 0,
              "ticks": ""
             }
            },
            "type": "scatter"
           }
          ],
          "scatter3d": [
           {
            "line": {
             "colorbar": {
              "outlinewidth": 0,
              "ticks": ""
             }
            },
            "marker": {
             "colorbar": {
              "outlinewidth": 0,
              "ticks": ""
             }
            },
            "type": "scatter3d"
           }
          ],
          "scattercarpet": [
           {
            "marker": {
             "colorbar": {
              "outlinewidth": 0,
              "ticks": ""
             }
            },
            "type": "scattercarpet"
           }
          ],
          "scattergeo": [
           {
            "marker": {
             "colorbar": {
              "outlinewidth": 0,
              "ticks": ""
             }
            },
            "type": "scattergeo"
           }
          ],
          "scattergl": [
           {
            "marker": {
             "colorbar": {
              "outlinewidth": 0,
              "ticks": ""
             }
            },
            "type": "scattergl"
           }
          ],
          "scattermapbox": [
           {
            "marker": {
             "colorbar": {
              "outlinewidth": 0,
              "ticks": ""
             }
            },
            "type": "scattermapbox"
           }
          ],
          "scatterpolar": [
           {
            "marker": {
             "colorbar": {
              "outlinewidth": 0,
              "ticks": ""
             }
            },
            "type": "scatterpolar"
           }
          ],
          "scatterpolargl": [
           {
            "marker": {
             "colorbar": {
              "outlinewidth": 0,
              "ticks": ""
             }
            },
            "type": "scatterpolargl"
           }
          ],
          "scatterternary": [
           {
            "marker": {
             "colorbar": {
              "outlinewidth": 0,
              "ticks": ""
             }
            },
            "type": "scatterternary"
           }
          ],
          "surface": [
           {
            "colorbar": {
             "outlinewidth": 0,
             "ticks": ""
            },
            "colorscale": [
             [
              0,
              "#0d0887"
             ],
             [
              0.1111111111111111,
              "#46039f"
             ],
             [
              0.2222222222222222,
              "#7201a8"
             ],
             [
              0.3333333333333333,
              "#9c179e"
             ],
             [
              0.4444444444444444,
              "#bd3786"
             ],
             [
              0.5555555555555556,
              "#d8576b"
             ],
             [
              0.6666666666666666,
              "#ed7953"
             ],
             [
              0.7777777777777778,
              "#fb9f3a"
             ],
             [
              0.8888888888888888,
              "#fdca26"
             ],
             [
              1,
              "#f0f921"
             ]
            ],
            "type": "surface"
           }
          ],
          "table": [
           {
            "cells": {
             "fill": {
              "color": "#EBF0F8"
             },
             "line": {
              "color": "white"
             }
            },
            "header": {
             "fill": {
              "color": "#C8D4E3"
             },
             "line": {
              "color": "white"
             }
            },
            "type": "table"
           }
          ]
         },
         "layout": {
          "annotationdefaults": {
           "arrowcolor": "#2a3f5f",
           "arrowhead": 0,
           "arrowwidth": 1
          },
          "autotypenumbers": "strict",
          "coloraxis": {
           "colorbar": {
            "outlinewidth": 0,
            "ticks": ""
           }
          },
          "colorscale": {
           "diverging": [
            [
             0,
             "#8e0152"
            ],
            [
             0.1,
             "#c51b7d"
            ],
            [
             0.2,
             "#de77ae"
            ],
            [
             0.3,
             "#f1b6da"
            ],
            [
             0.4,
             "#fde0ef"
            ],
            [
             0.5,
             "#f7f7f7"
            ],
            [
             0.6,
             "#e6f5d0"
            ],
            [
             0.7,
             "#b8e186"
            ],
            [
             0.8,
             "#7fbc41"
            ],
            [
             0.9,
             "#4d9221"
            ],
            [
             1,
             "#276419"
            ]
           ],
           "sequential": [
            [
             0,
             "#0d0887"
            ],
            [
             0.1111111111111111,
             "#46039f"
            ],
            [
             0.2222222222222222,
             "#7201a8"
            ],
            [
             0.3333333333333333,
             "#9c179e"
            ],
            [
             0.4444444444444444,
             "#bd3786"
            ],
            [
             0.5555555555555556,
             "#d8576b"
            ],
            [
             0.6666666666666666,
             "#ed7953"
            ],
            [
             0.7777777777777778,
             "#fb9f3a"
            ],
            [
             0.8888888888888888,
             "#fdca26"
            ],
            [
             1,
             "#f0f921"
            ]
           ],
           "sequentialminus": [
            [
             0,
             "#0d0887"
            ],
            [
             0.1111111111111111,
             "#46039f"
            ],
            [
             0.2222222222222222,
             "#7201a8"
            ],
            [
             0.3333333333333333,
             "#9c179e"
            ],
            [
             0.4444444444444444,
             "#bd3786"
            ],
            [
             0.5555555555555556,
             "#d8576b"
            ],
            [
             0.6666666666666666,
             "#ed7953"
            ],
            [
             0.7777777777777778,
             "#fb9f3a"
            ],
            [
             0.8888888888888888,
             "#fdca26"
            ],
            [
             1,
             "#f0f921"
            ]
           ]
          },
          "colorway": [
           "#636efa",
           "#EF553B",
           "#00cc96",
           "#ab63fa",
           "#FFA15A",
           "#19d3f3",
           "#FF6692",
           "#B6E880",
           "#FF97FF",
           "#FECB52"
          ],
          "font": {
           "color": "#2a3f5f"
          },
          "geo": {
           "bgcolor": "white",
           "lakecolor": "white",
           "landcolor": "#E5ECF6",
           "showlakes": true,
           "showland": true,
           "subunitcolor": "white"
          },
          "hoverlabel": {
           "align": "left"
          },
          "hovermode": "closest",
          "mapbox": {
           "style": "light"
          },
          "paper_bgcolor": "white",
          "plot_bgcolor": "#E5ECF6",
          "polar": {
           "angularaxis": {
            "gridcolor": "white",
            "linecolor": "white",
            "ticks": ""
           },
           "bgcolor": "#E5ECF6",
           "radialaxis": {
            "gridcolor": "white",
            "linecolor": "white",
            "ticks": ""
           }
          },
          "scene": {
           "xaxis": {
            "backgroundcolor": "#E5ECF6",
            "gridcolor": "white",
            "gridwidth": 2,
            "linecolor": "white",
            "showbackground": true,
            "ticks": "",
            "zerolinecolor": "white"
           },
           "yaxis": {
            "backgroundcolor": "#E5ECF6",
            "gridcolor": "white",
            "gridwidth": 2,
            "linecolor": "white",
            "showbackground": true,
            "ticks": "",
            "zerolinecolor": "white"
           },
           "zaxis": {
            "backgroundcolor": "#E5ECF6",
            "gridcolor": "white",
            "gridwidth": 2,
            "linecolor": "white",
            "showbackground": true,
            "ticks": "",
            "zerolinecolor": "white"
           }
          },
          "shapedefaults": {
           "line": {
            "color": "#2a3f5f"
           }
          },
          "ternary": {
           "aaxis": {
            "gridcolor": "white",
            "linecolor": "white",
            "ticks": ""
           },
           "baxis": {
            "gridcolor": "white",
            "linecolor": "white",
            "ticks": ""
           },
           "bgcolor": "#E5ECF6",
           "caxis": {
            "gridcolor": "white",
            "linecolor": "white",
            "ticks": ""
           }
          },
          "title": {
           "x": 0.05
          },
          "xaxis": {
           "automargin": true,
           "gridcolor": "white",
           "linecolor": "white",
           "ticks": "",
           "title": {
            "standoff": 15
           },
           "zerolinecolor": "white",
           "zerolinewidth": 2
          },
          "yaxis": {
           "automargin": true,
           "gridcolor": "white",
           "linecolor": "white",
           "ticks": "",
           "title": {
            "standoff": 15
           },
           "zerolinecolor": "white",
           "zerolinewidth": 2
          }
         }
        },
        "title": {
         "text": "Word: 'is' - 179 appearances"
        },
        "xaxis": {
         "anchor": "y",
         "domain": [
          0,
          1
         ],
         "title": {
          "text": "document"
         }
        },
        "yaxis": {
         "anchor": "x",
         "domain": [
          0,
          1
         ],
         "title": {
          "text": "count"
         }
        }
       }
      }
     },
     "metadata": {}
    },
    {
     "output_type": "display_data",
     "data": {
      "application/vnd.plotly.v1+json": {
       "config": {
        "plotlyServerURL": "https://plot.ly"
       },
       "data": [
        {
         "alignmentgroup": "True",
         "hovertemplate": "document=%{x}<br>count=%{y}<extra></extra>",
         "legendgroup": "",
         "marker": {
          "color": "#636efa"
         },
         "name": "",
         "offsetgroup": "",
         "orientation": "v",
         "showlegend": false,
         "textposition": "auto",
         "type": "bar",
         "x": [
          1,
          2,
          3,
          4,
          7,
          8,
          9,
          12,
          13,
          14,
          16,
          17,
          18,
          21,
          22,
          24,
          25,
          26,
          27,
          28,
          29,
          30,
          31,
          36,
          37,
          39,
          40,
          42,
          48,
          49,
          50,
          52,
          55,
          57,
          58,
          60,
          61,
          63,
          65,
          66,
          68,
          69,
          70,
          72,
          73,
          76,
          77,
          81,
          82,
          83,
          84,
          85,
          87,
          88,
          89,
          92,
          93,
          94,
          95,
          97,
          98,
          100
         ],
         "xaxis": "x",
         "y": [
          5,
          1,
          6,
          2,
          2,
          3,
          5,
          2,
          2,
          2,
          1,
          1,
          2,
          1,
          1,
          1,
          8,
          1,
          2,
          1,
          8,
          1,
          1,
          5,
          1,
          2,
          1,
          1,
          1,
          4,
          2,
          1,
          1,
          9,
          6,
          1,
          1,
          2,
          5,
          1,
          2,
          3,
          1,
          1,
          1,
          5,
          2,
          1,
          3,
          4,
          6,
          3,
          3,
          1,
          3,
          1,
          1,
          2,
          2,
          1,
          1,
          1
         ],
         "yaxis": "y"
        }
       ],
       "layout": {
        "barmode": "relative",
        "legend": {
         "tracegroupgap": 0
        },
        "template": {
         "data": {
          "bar": [
           {
            "error_x": {
             "color": "#2a3f5f"
            },
            "error_y": {
             "color": "#2a3f5f"
            },
            "marker": {
             "line": {
              "color": "#E5ECF6",
              "width": 0.5
             }
            },
            "type": "bar"
           }
          ],
          "barpolar": [
           {
            "marker": {
             "line": {
              "color": "#E5ECF6",
              "width": 0.5
             }
            },
            "type": "barpolar"
           }
          ],
          "carpet": [
           {
            "aaxis": {
             "endlinecolor": "#2a3f5f",
             "gridcolor": "white",
             "linecolor": "white",
             "minorgridcolor": "white",
             "startlinecolor": "#2a3f5f"
            },
            "baxis": {
             "endlinecolor": "#2a3f5f",
             "gridcolor": "white",
             "linecolor": "white",
             "minorgridcolor": "white",
             "startlinecolor": "#2a3f5f"
            },
            "type": "carpet"
           }
          ],
          "choropleth": [
           {
            "colorbar": {
             "outlinewidth": 0,
             "ticks": ""
            },
            "type": "choropleth"
           }
          ],
          "contour": [
           {
            "colorbar": {
             "outlinewidth": 0,
             "ticks": ""
            },
            "colorscale": [
             [
              0,
              "#0d0887"
             ],
             [
              0.1111111111111111,
              "#46039f"
             ],
             [
              0.2222222222222222,
              "#7201a8"
             ],
             [
              0.3333333333333333,
              "#9c179e"
             ],
             [
              0.4444444444444444,
              "#bd3786"
             ],
             [
              0.5555555555555556,
              "#d8576b"
             ],
             [
              0.6666666666666666,
              "#ed7953"
             ],
             [
              0.7777777777777778,
              "#fb9f3a"
             ],
             [
              0.8888888888888888,
              "#fdca26"
             ],
             [
              1,
              "#f0f921"
             ]
            ],
            "type": "contour"
           }
          ],
          "contourcarpet": [
           {
            "colorbar": {
             "outlinewidth": 0,
             "ticks": ""
            },
            "type": "contourcarpet"
           }
          ],
          "heatmap": [
           {
            "colorbar": {
             "outlinewidth": 0,
             "ticks": ""
            },
            "colorscale": [
             [
              0,
              "#0d0887"
             ],
             [
              0.1111111111111111,
              "#46039f"
             ],
             [
              0.2222222222222222,
              "#7201a8"
             ],
             [
              0.3333333333333333,
              "#9c179e"
             ],
             [
              0.4444444444444444,
              "#bd3786"
             ],
             [
              0.5555555555555556,
              "#d8576b"
             ],
             [
              0.6666666666666666,
              "#ed7953"
             ],
             [
              0.7777777777777778,
              "#fb9f3a"
             ],
             [
              0.8888888888888888,
              "#fdca26"
             ],
             [
              1,
              "#f0f921"
             ]
            ],
            "type": "heatmap"
           }
          ],
          "heatmapgl": [
           {
            "colorbar": {
             "outlinewidth": 0,
             "ticks": ""
            },
            "colorscale": [
             [
              0,
              "#0d0887"
             ],
             [
              0.1111111111111111,
              "#46039f"
             ],
             [
              0.2222222222222222,
              "#7201a8"
             ],
             [
              0.3333333333333333,
              "#9c179e"
             ],
             [
              0.4444444444444444,
              "#bd3786"
             ],
             [
              0.5555555555555556,
              "#d8576b"
             ],
             [
              0.6666666666666666,
              "#ed7953"
             ],
             [
              0.7777777777777778,
              "#fb9f3a"
             ],
             [
              0.8888888888888888,
              "#fdca26"
             ],
             [
              1,
              "#f0f921"
             ]
            ],
            "type": "heatmapgl"
           }
          ],
          "histogram": [
           {
            "marker": {
             "colorbar": {
              "outlinewidth": 0,
              "ticks": ""
             }
            },
            "type": "histogram"
           }
          ],
          "histogram2d": [
           {
            "colorbar": {
             "outlinewidth": 0,
             "ticks": ""
            },
            "colorscale": [
             [
              0,
              "#0d0887"
             ],
             [
              0.1111111111111111,
              "#46039f"
             ],
             [
              0.2222222222222222,
              "#7201a8"
             ],
             [
              0.3333333333333333,
              "#9c179e"
             ],
             [
              0.4444444444444444,
              "#bd3786"
             ],
             [
              0.5555555555555556,
              "#d8576b"
             ],
             [
              0.6666666666666666,
              "#ed7953"
             ],
             [
              0.7777777777777778,
              "#fb9f3a"
             ],
             [
              0.8888888888888888,
              "#fdca26"
             ],
             [
              1,
              "#f0f921"
             ]
            ],
            "type": "histogram2d"
           }
          ],
          "histogram2dcontour": [
           {
            "colorbar": {
             "outlinewidth": 0,
             "ticks": ""
            },
            "colorscale": [
             [
              0,
              "#0d0887"
             ],
             [
              0.1111111111111111,
              "#46039f"
             ],
             [
              0.2222222222222222,
              "#7201a8"
             ],
             [
              0.3333333333333333,
              "#9c179e"
             ],
             [
              0.4444444444444444,
              "#bd3786"
             ],
             [
              0.5555555555555556,
              "#d8576b"
             ],
             [
              0.6666666666666666,
              "#ed7953"
             ],
             [
              0.7777777777777778,
              "#fb9f3a"
             ],
             [
              0.8888888888888888,
              "#fdca26"
             ],
             [
              1,
              "#f0f921"
             ]
            ],
            "type": "histogram2dcontour"
           }
          ],
          "mesh3d": [
           {
            "colorbar": {
             "outlinewidth": 0,
             "ticks": ""
            },
            "type": "mesh3d"
           }
          ],
          "parcoords": [
           {
            "line": {
             "colorbar": {
              "outlinewidth": 0,
              "ticks": ""
             }
            },
            "type": "parcoords"
           }
          ],
          "pie": [
           {
            "automargin": true,
            "type": "pie"
           }
          ],
          "scatter": [
           {
            "marker": {
             "colorbar": {
              "outlinewidth": 0,
              "ticks": ""
             }
            },
            "type": "scatter"
           }
          ],
          "scatter3d": [
           {
            "line": {
             "colorbar": {
              "outlinewidth": 0,
              "ticks": ""
             }
            },
            "marker": {
             "colorbar": {
              "outlinewidth": 0,
              "ticks": ""
             }
            },
            "type": "scatter3d"
           }
          ],
          "scattercarpet": [
           {
            "marker": {
             "colorbar": {
              "outlinewidth": 0,
              "ticks": ""
             }
            },
            "type": "scattercarpet"
           }
          ],
          "scattergeo": [
           {
            "marker": {
             "colorbar": {
              "outlinewidth": 0,
              "ticks": ""
             }
            },
            "type": "scattergeo"
           }
          ],
          "scattergl": [
           {
            "marker": {
             "colorbar": {
              "outlinewidth": 0,
              "ticks": ""
             }
            },
            "type": "scattergl"
           }
          ],
          "scattermapbox": [
           {
            "marker": {
             "colorbar": {
              "outlinewidth": 0,
              "ticks": ""
             }
            },
            "type": "scattermapbox"
           }
          ],
          "scatterpolar": [
           {
            "marker": {
             "colorbar": {
              "outlinewidth": 0,
              "ticks": ""
             }
            },
            "type": "scatterpolar"
           }
          ],
          "scatterpolargl": [
           {
            "marker": {
             "colorbar": {
              "outlinewidth": 0,
              "ticks": ""
             }
            },
            "type": "scatterpolargl"
           }
          ],
          "scatterternary": [
           {
            "marker": {
             "colorbar": {
              "outlinewidth": 0,
              "ticks": ""
             }
            },
            "type": "scatterternary"
           }
          ],
          "surface": [
           {
            "colorbar": {
             "outlinewidth": 0,
             "ticks": ""
            },
            "colorscale": [
             [
              0,
              "#0d0887"
             ],
             [
              0.1111111111111111,
              "#46039f"
             ],
             [
              0.2222222222222222,
              "#7201a8"
             ],
             [
              0.3333333333333333,
              "#9c179e"
             ],
             [
              0.4444444444444444,
              "#bd3786"
             ],
             [
              0.5555555555555556,
              "#d8576b"
             ],
             [
              0.6666666666666666,
              "#ed7953"
             ],
             [
              0.7777777777777778,
              "#fb9f3a"
             ],
             [
              0.8888888888888888,
              "#fdca26"
             ],
             [
              1,
              "#f0f921"
             ]
            ],
            "type": "surface"
           }
          ],
          "table": [
           {
            "cells": {
             "fill": {
              "color": "#EBF0F8"
             },
             "line": {
              "color": "white"
             }
            },
            "header": {
             "fill": {
              "color": "#C8D4E3"
             },
             "line": {
              "color": "white"
             }
            },
            "type": "table"
           }
          ]
         },
         "layout": {
          "annotationdefaults": {
           "arrowcolor": "#2a3f5f",
           "arrowhead": 0,
           "arrowwidth": 1
          },
          "autotypenumbers": "strict",
          "coloraxis": {
           "colorbar": {
            "outlinewidth": 0,
            "ticks": ""
           }
          },
          "colorscale": {
           "diverging": [
            [
             0,
             "#8e0152"
            ],
            [
             0.1,
             "#c51b7d"
            ],
            [
             0.2,
             "#de77ae"
            ],
            [
             0.3,
             "#f1b6da"
            ],
            [
             0.4,
             "#fde0ef"
            ],
            [
             0.5,
             "#f7f7f7"
            ],
            [
             0.6,
             "#e6f5d0"
            ],
            [
             0.7,
             "#b8e186"
            ],
            [
             0.8,
             "#7fbc41"
            ],
            [
             0.9,
             "#4d9221"
            ],
            [
             1,
             "#276419"
            ]
           ],
           "sequential": [
            [
             0,
             "#0d0887"
            ],
            [
             0.1111111111111111,
             "#46039f"
            ],
            [
             0.2222222222222222,
             "#7201a8"
            ],
            [
             0.3333333333333333,
             "#9c179e"
            ],
            [
             0.4444444444444444,
             "#bd3786"
            ],
            [
             0.5555555555555556,
             "#d8576b"
            ],
            [
             0.6666666666666666,
             "#ed7953"
            ],
            [
             0.7777777777777778,
             "#fb9f3a"
            ],
            [
             0.8888888888888888,
             "#fdca26"
            ],
            [
             1,
             "#f0f921"
            ]
           ],
           "sequentialminus": [
            [
             0,
             "#0d0887"
            ],
            [
             0.1111111111111111,
             "#46039f"
            ],
            [
             0.2222222222222222,
             "#7201a8"
            ],
            [
             0.3333333333333333,
             "#9c179e"
            ],
            [
             0.4444444444444444,
             "#bd3786"
            ],
            [
             0.5555555555555556,
             "#d8576b"
            ],
            [
             0.6666666666666666,
             "#ed7953"
            ],
            [
             0.7777777777777778,
             "#fb9f3a"
            ],
            [
             0.8888888888888888,
             "#fdca26"
            ],
            [
             1,
             "#f0f921"
            ]
           ]
          },
          "colorway": [
           "#636efa",
           "#EF553B",
           "#00cc96",
           "#ab63fa",
           "#FFA15A",
           "#19d3f3",
           "#FF6692",
           "#B6E880",
           "#FF97FF",
           "#FECB52"
          ],
          "font": {
           "color": "#2a3f5f"
          },
          "geo": {
           "bgcolor": "white",
           "lakecolor": "white",
           "landcolor": "#E5ECF6",
           "showlakes": true,
           "showland": true,
           "subunitcolor": "white"
          },
          "hoverlabel": {
           "align": "left"
          },
          "hovermode": "closest",
          "mapbox": {
           "style": "light"
          },
          "paper_bgcolor": "white",
          "plot_bgcolor": "#E5ECF6",
          "polar": {
           "angularaxis": {
            "gridcolor": "white",
            "linecolor": "white",
            "ticks": ""
           },
           "bgcolor": "#E5ECF6",
           "radialaxis": {
            "gridcolor": "white",
            "linecolor": "white",
            "ticks": ""
           }
          },
          "scene": {
           "xaxis": {
            "backgroundcolor": "#E5ECF6",
            "gridcolor": "white",
            "gridwidth": 2,
            "linecolor": "white",
            "showbackground": true,
            "ticks": "",
            "zerolinecolor": "white"
           },
           "yaxis": {
            "backgroundcolor": "#E5ECF6",
            "gridcolor": "white",
            "gridwidth": 2,
            "linecolor": "white",
            "showbackground": true,
            "ticks": "",
            "zerolinecolor": "white"
           },
           "zaxis": {
            "backgroundcolor": "#E5ECF6",
            "gridcolor": "white",
            "gridwidth": 2,
            "linecolor": "white",
            "showbackground": true,
            "ticks": "",
            "zerolinecolor": "white"
           }
          },
          "shapedefaults": {
           "line": {
            "color": "#2a3f5f"
           }
          },
          "ternary": {
           "aaxis": {
            "gridcolor": "white",
            "linecolor": "white",
            "ticks": ""
           },
           "baxis": {
            "gridcolor": "white",
            "linecolor": "white",
            "ticks": ""
           },
           "bgcolor": "#E5ECF6",
           "caxis": {
            "gridcolor": "white",
            "linecolor": "white",
            "ticks": ""
           }
          },
          "title": {
           "x": 0.05
          },
          "xaxis": {
           "automargin": true,
           "gridcolor": "white",
           "linecolor": "white",
           "ticks": "",
           "title": {
            "standoff": 15
           },
           "zerolinecolor": "white",
           "zerolinewidth": 2
          },
          "yaxis": {
           "automargin": true,
           "gridcolor": "white",
           "linecolor": "white",
           "ticks": "",
           "title": {
            "standoff": 15
           },
           "zerolinecolor": "white",
           "zerolinewidth": 2
          }
         }
        },
        "title": {
         "text": "Word: 'it' - 151 appearances"
        },
        "xaxis": {
         "anchor": "y",
         "domain": [
          0,
          1
         ],
         "title": {
          "text": "document"
         }
        },
        "yaxis": {
         "anchor": "x",
         "domain": [
          0,
          1
         ],
         "title": {
          "text": "count"
         }
        }
       }
      }
     },
     "metadata": {}
    },
    {
     "output_type": "display_data",
     "data": {
      "application/vnd.plotly.v1+json": {
       "config": {
        "plotlyServerURL": "https://plot.ly"
       },
       "data": [
        {
         "alignmentgroup": "True",
         "hovertemplate": "document=%{x}<br>count=%{y}<extra></extra>",
         "legendgroup": "",
         "marker": {
          "color": "#636efa"
         },
         "name": "",
         "offsetgroup": "",
         "orientation": "v",
         "showlegend": false,
         "textposition": "auto",
         "type": "bar",
         "x": [
          1,
          3,
          6,
          7,
          8,
          9,
          11,
          12,
          14,
          15,
          16,
          17,
          18,
          19,
          23,
          25,
          26,
          27,
          29,
          30,
          33,
          35,
          36,
          37,
          39,
          40,
          41,
          42,
          48,
          49,
          50,
          52,
          53,
          54,
          55,
          57,
          58,
          59,
          61,
          62,
          64,
          65,
          66,
          67,
          68,
          69,
          70,
          72,
          74,
          76,
          79,
          80,
          81,
          82,
          83,
          84,
          89,
          92,
          95,
          97,
          99
         ],
         "xaxis": "x",
         "y": [
          8,
          2,
          1,
          5,
          2,
          4,
          3,
          4,
          3,
          1,
          5,
          1,
          29,
          4,
          3,
          12,
          1,
          1,
          1,
          3,
          1,
          2,
          6,
          5,
          1,
          3,
          1,
          1,
          2,
          5,
          1,
          1,
          2,
          2,
          3,
          11,
          1,
          7,
          1,
          1,
          1,
          2,
          1,
          1,
          6,
          1,
          1,
          2,
          2,
          11,
          12,
          4,
          4,
          2,
          1,
          6,
          3,
          5,
          1,
          1,
          1
         ],
         "yaxis": "y"
        }
       ],
       "layout": {
        "barmode": "relative",
        "legend": {
         "tracegroupgap": 0
        },
        "template": {
         "data": {
          "bar": [
           {
            "error_x": {
             "color": "#2a3f5f"
            },
            "error_y": {
             "color": "#2a3f5f"
            },
            "marker": {
             "line": {
              "color": "#E5ECF6",
              "width": 0.5
             }
            },
            "type": "bar"
           }
          ],
          "barpolar": [
           {
            "marker": {
             "line": {
              "color": "#E5ECF6",
              "width": 0.5
             }
            },
            "type": "barpolar"
           }
          ],
          "carpet": [
           {
            "aaxis": {
             "endlinecolor": "#2a3f5f",
             "gridcolor": "white",
             "linecolor": "white",
             "minorgridcolor": "white",
             "startlinecolor": "#2a3f5f"
            },
            "baxis": {
             "endlinecolor": "#2a3f5f",
             "gridcolor": "white",
             "linecolor": "white",
             "minorgridcolor": "white",
             "startlinecolor": "#2a3f5f"
            },
            "type": "carpet"
           }
          ],
          "choropleth": [
           {
            "colorbar": {
             "outlinewidth": 0,
             "ticks": ""
            },
            "type": "choropleth"
           }
          ],
          "contour": [
           {
            "colorbar": {
             "outlinewidth": 0,
             "ticks": ""
            },
            "colorscale": [
             [
              0,
              "#0d0887"
             ],
             [
              0.1111111111111111,
              "#46039f"
             ],
             [
              0.2222222222222222,
              "#7201a8"
             ],
             [
              0.3333333333333333,
              "#9c179e"
             ],
             [
              0.4444444444444444,
              "#bd3786"
             ],
             [
              0.5555555555555556,
              "#d8576b"
             ],
             [
              0.6666666666666666,
              "#ed7953"
             ],
             [
              0.7777777777777778,
              "#fb9f3a"
             ],
             [
              0.8888888888888888,
              "#fdca26"
             ],
             [
              1,
              "#f0f921"
             ]
            ],
            "type": "contour"
           }
          ],
          "contourcarpet": [
           {
            "colorbar": {
             "outlinewidth": 0,
             "ticks": ""
            },
            "type": "contourcarpet"
           }
          ],
          "heatmap": [
           {
            "colorbar": {
             "outlinewidth": 0,
             "ticks": ""
            },
            "colorscale": [
             [
              0,
              "#0d0887"
             ],
             [
              0.1111111111111111,
              "#46039f"
             ],
             [
              0.2222222222222222,
              "#7201a8"
             ],
             [
              0.3333333333333333,
              "#9c179e"
             ],
             [
              0.4444444444444444,
              "#bd3786"
             ],
             [
              0.5555555555555556,
              "#d8576b"
             ],
             [
              0.6666666666666666,
              "#ed7953"
             ],
             [
              0.7777777777777778,
              "#fb9f3a"
             ],
             [
              0.8888888888888888,
              "#fdca26"
             ],
             [
              1,
              "#f0f921"
             ]
            ],
            "type": "heatmap"
           }
          ],
          "heatmapgl": [
           {
            "colorbar": {
             "outlinewidth": 0,
             "ticks": ""
            },
            "colorscale": [
             [
              0,
              "#0d0887"
             ],
             [
              0.1111111111111111,
              "#46039f"
             ],
             [
              0.2222222222222222,
              "#7201a8"
             ],
             [
              0.3333333333333333,
              "#9c179e"
             ],
             [
              0.4444444444444444,
              "#bd3786"
             ],
             [
              0.5555555555555556,
              "#d8576b"
             ],
             [
              0.6666666666666666,
              "#ed7953"
             ],
             [
              0.7777777777777778,
              "#fb9f3a"
             ],
             [
              0.8888888888888888,
              "#fdca26"
             ],
             [
              1,
              "#f0f921"
             ]
            ],
            "type": "heatmapgl"
           }
          ],
          "histogram": [
           {
            "marker": {
             "colorbar": {
              "outlinewidth": 0,
              "ticks": ""
             }
            },
            "type": "histogram"
           }
          ],
          "histogram2d": [
           {
            "colorbar": {
             "outlinewidth": 0,
             "ticks": ""
            },
            "colorscale": [
             [
              0,
              "#0d0887"
             ],
             [
              0.1111111111111111,
              "#46039f"
             ],
             [
              0.2222222222222222,
              "#7201a8"
             ],
             [
              0.3333333333333333,
              "#9c179e"
             ],
             [
              0.4444444444444444,
              "#bd3786"
             ],
             [
              0.5555555555555556,
              "#d8576b"
             ],
             [
              0.6666666666666666,
              "#ed7953"
             ],
             [
              0.7777777777777778,
              "#fb9f3a"
             ],
             [
              0.8888888888888888,
              "#fdca26"
             ],
             [
              1,
              "#f0f921"
             ]
            ],
            "type": "histogram2d"
           }
          ],
          "histogram2dcontour": [
           {
            "colorbar": {
             "outlinewidth": 0,
             "ticks": ""
            },
            "colorscale": [
             [
              0,
              "#0d0887"
             ],
             [
              0.1111111111111111,
              "#46039f"
             ],
             [
              0.2222222222222222,
              "#7201a8"
             ],
             [
              0.3333333333333333,
              "#9c179e"
             ],
             [
              0.4444444444444444,
              "#bd3786"
             ],
             [
              0.5555555555555556,
              "#d8576b"
             ],
             [
              0.6666666666666666,
              "#ed7953"
             ],
             [
              0.7777777777777778,
              "#fb9f3a"
             ],
             [
              0.8888888888888888,
              "#fdca26"
             ],
             [
              1,
              "#f0f921"
             ]
            ],
            "type": "histogram2dcontour"
           }
          ],
          "mesh3d": [
           {
            "colorbar": {
             "outlinewidth": 0,
             "ticks": ""
            },
            "type": "mesh3d"
           }
          ],
          "parcoords": [
           {
            "line": {
             "colorbar": {
              "outlinewidth": 0,
              "ticks": ""
             }
            },
            "type": "parcoords"
           }
          ],
          "pie": [
           {
            "automargin": true,
            "type": "pie"
           }
          ],
          "scatter": [
           {
            "marker": {
             "colorbar": {
              "outlinewidth": 0,
              "ticks": ""
             }
            },
            "type": "scatter"
           }
          ],
          "scatter3d": [
           {
            "line": {
             "colorbar": {
              "outlinewidth": 0,
              "ticks": ""
             }
            },
            "marker": {
             "colorbar": {
              "outlinewidth": 0,
              "ticks": ""
             }
            },
            "type": "scatter3d"
           }
          ],
          "scattercarpet": [
           {
            "marker": {
             "colorbar": {
              "outlinewidth": 0,
              "ticks": ""
             }
            },
            "type": "scattercarpet"
           }
          ],
          "scattergeo": [
           {
            "marker": {
             "colorbar": {
              "outlinewidth": 0,
              "ticks": ""
             }
            },
            "type": "scattergeo"
           }
          ],
          "scattergl": [
           {
            "marker": {
             "colorbar": {
              "outlinewidth": 0,
              "ticks": ""
             }
            },
            "type": "scattergl"
           }
          ],
          "scattermapbox": [
           {
            "marker": {
             "colorbar": {
              "outlinewidth": 0,
              "ticks": ""
             }
            },
            "type": "scattermapbox"
           }
          ],
          "scatterpolar": [
           {
            "marker": {
             "colorbar": {
              "outlinewidth": 0,
              "ticks": ""
             }
            },
            "type": "scatterpolar"
           }
          ],
          "scatterpolargl": [
           {
            "marker": {
             "colorbar": {
              "outlinewidth": 0,
              "ticks": ""
             }
            },
            "type": "scatterpolargl"
           }
          ],
          "scatterternary": [
           {
            "marker": {
             "colorbar": {
              "outlinewidth": 0,
              "ticks": ""
             }
            },
            "type": "scatterternary"
           }
          ],
          "surface": [
           {
            "colorbar": {
             "outlinewidth": 0,
             "ticks": ""
            },
            "colorscale": [
             [
              0,
              "#0d0887"
             ],
             [
              0.1111111111111111,
              "#46039f"
             ],
             [
              0.2222222222222222,
              "#7201a8"
             ],
             [
              0.3333333333333333,
              "#9c179e"
             ],
             [
              0.4444444444444444,
              "#bd3786"
             ],
             [
              0.5555555555555556,
              "#d8576b"
             ],
             [
              0.6666666666666666,
              "#ed7953"
             ],
             [
              0.7777777777777778,
              "#fb9f3a"
             ],
             [
              0.8888888888888888,
              "#fdca26"
             ],
             [
              1,
              "#f0f921"
             ]
            ],
            "type": "surface"
           }
          ],
          "table": [
           {
            "cells": {
             "fill": {
              "color": "#EBF0F8"
             },
             "line": {
              "color": "white"
             }
            },
            "header": {
             "fill": {
              "color": "#C8D4E3"
             },
             "line": {
              "color": "white"
             }
            },
            "type": "table"
           }
          ]
         },
         "layout": {
          "annotationdefaults": {
           "arrowcolor": "#2a3f5f",
           "arrowhead": 0,
           "arrowwidth": 1
          },
          "autotypenumbers": "strict",
          "coloraxis": {
           "colorbar": {
            "outlinewidth": 0,
            "ticks": ""
           }
          },
          "colorscale": {
           "diverging": [
            [
             0,
             "#8e0152"
            ],
            [
             0.1,
             "#c51b7d"
            ],
            [
             0.2,
             "#de77ae"
            ],
            [
             0.3,
             "#f1b6da"
            ],
            [
             0.4,
             "#fde0ef"
            ],
            [
             0.5,
             "#f7f7f7"
            ],
            [
             0.6,
             "#e6f5d0"
            ],
            [
             0.7,
             "#b8e186"
            ],
            [
             0.8,
             "#7fbc41"
            ],
            [
             0.9,
             "#4d9221"
            ],
            [
             1,
             "#276419"
            ]
           ],
           "sequential": [
            [
             0,
             "#0d0887"
            ],
            [
             0.1111111111111111,
             "#46039f"
            ],
            [
             0.2222222222222222,
             "#7201a8"
            ],
            [
             0.3333333333333333,
             "#9c179e"
            ],
            [
             0.4444444444444444,
             "#bd3786"
            ],
            [
             0.5555555555555556,
             "#d8576b"
            ],
            [
             0.6666666666666666,
             "#ed7953"
            ],
            [
             0.7777777777777778,
             "#fb9f3a"
            ],
            [
             0.8888888888888888,
             "#fdca26"
            ],
            [
             1,
             "#f0f921"
            ]
           ],
           "sequentialminus": [
            [
             0,
             "#0d0887"
            ],
            [
             0.1111111111111111,
             "#46039f"
            ],
            [
             0.2222222222222222,
             "#7201a8"
            ],
            [
             0.3333333333333333,
             "#9c179e"
            ],
            [
             0.4444444444444444,
             "#bd3786"
            ],
            [
             0.5555555555555556,
             "#d8576b"
            ],
            [
             0.6666666666666666,
             "#ed7953"
            ],
            [
             0.7777777777777778,
             "#fb9f3a"
            ],
            [
             0.8888888888888888,
             "#fdca26"
            ],
            [
             1,
             "#f0f921"
            ]
           ]
          },
          "colorway": [
           "#636efa",
           "#EF553B",
           "#00cc96",
           "#ab63fa",
           "#FFA15A",
           "#19d3f3",
           "#FF6692",
           "#B6E880",
           "#FF97FF",
           "#FECB52"
          ],
          "font": {
           "color": "#2a3f5f"
          },
          "geo": {
           "bgcolor": "white",
           "lakecolor": "white",
           "landcolor": "#E5ECF6",
           "showlakes": true,
           "showland": true,
           "subunitcolor": "white"
          },
          "hoverlabel": {
           "align": "left"
          },
          "hovermode": "closest",
          "mapbox": {
           "style": "light"
          },
          "paper_bgcolor": "white",
          "plot_bgcolor": "#E5ECF6",
          "polar": {
           "angularaxis": {
            "gridcolor": "white",
            "linecolor": "white",
            "ticks": ""
           },
           "bgcolor": "#E5ECF6",
           "radialaxis": {
            "gridcolor": "white",
            "linecolor": "white",
            "ticks": ""
           }
          },
          "scene": {
           "xaxis": {
            "backgroundcolor": "#E5ECF6",
            "gridcolor": "white",
            "gridwidth": 2,
            "linecolor": "white",
            "showbackground": true,
            "ticks": "",
            "zerolinecolor": "white"
           },
           "yaxis": {
            "backgroundcolor": "#E5ECF6",
            "gridcolor": "white",
            "gridwidth": 2,
            "linecolor": "white",
            "showbackground": true,
            "ticks": "",
            "zerolinecolor": "white"
           },
           "zaxis": {
            "backgroundcolor": "#E5ECF6",
            "gridcolor": "white",
            "gridwidth": 2,
            "linecolor": "white",
            "showbackground": true,
            "ticks": "",
            "zerolinecolor": "white"
           }
          },
          "shapedefaults": {
           "line": {
            "color": "#2a3f5f"
           }
          },
          "ternary": {
           "aaxis": {
            "gridcolor": "white",
            "linecolor": "white",
            "ticks": ""
           },
           "baxis": {
            "gridcolor": "white",
            "linecolor": "white",
            "ticks": ""
           },
           "bgcolor": "#E5ECF6",
           "caxis": {
            "gridcolor": "white",
            "linecolor": "white",
            "ticks": ""
           }
          },
          "title": {
           "x": 0.05
          },
          "xaxis": {
           "automargin": true,
           "gridcolor": "white",
           "linecolor": "white",
           "ticks": "",
           "title": {
            "standoff": 15
           },
           "zerolinecolor": "white",
           "zerolinewidth": 2
          },
          "yaxis": {
           "automargin": true,
           "gridcolor": "white",
           "linecolor": "white",
           "ticks": "",
           "title": {
            "standoff": 15
           },
           "zerolinecolor": "white",
           "zerolinewidth": 2
          }
         }
        },
        "title": {
         "text": "Word: 'of' - 218 appearances"
        },
        "xaxis": {
         "anchor": "y",
         "domain": [
          0,
          1
         ],
         "title": {
          "text": "document"
         }
        },
        "yaxis": {
         "anchor": "x",
         "domain": [
          0,
          1
         ],
         "title": {
          "text": "count"
         }
        }
       }
      }
     },
     "metadata": {}
    },
    {
     "output_type": "display_data",
     "data": {
      "application/vnd.plotly.v1+json": {
       "config": {
        "plotlyServerURL": "https://plot.ly"
       },
       "data": [
        {
         "alignmentgroup": "True",
         "hovertemplate": "document=%{x}<br>count=%{y}<extra></extra>",
         "legendgroup": "",
         "marker": {
          "color": "#636efa"
         },
         "name": "",
         "offsetgroup": "",
         "orientation": "v",
         "showlegend": false,
         "textposition": "auto",
         "type": "bar",
         "x": [
          1,
          2,
          3,
          4,
          5,
          6,
          7,
          8,
          9,
          10,
          11,
          12,
          14,
          15,
          16,
          17,
          18,
          19,
          23,
          25,
          26,
          27,
          28,
          29,
          30,
          31,
          33,
          34,
          35,
          36,
          37,
          38,
          39,
          40,
          41,
          42,
          43,
          44,
          45,
          48,
          49,
          50,
          51,
          52,
          53,
          54,
          55,
          56,
          57,
          58,
          59,
          60,
          61,
          62,
          63,
          64,
          65,
          66,
          67,
          68,
          69,
          70,
          71,
          72,
          74,
          75,
          76,
          77,
          79,
          80,
          81,
          82,
          83,
          84,
          85,
          86,
          87,
          88,
          89,
          91,
          92,
          94,
          96,
          97,
          98,
          99
         ],
         "xaxis": "x",
         "y": [
          14,
          2,
          8,
          1,
          3,
          1,
          5,
          2,
          11,
          1,
          1,
          2,
          3,
          1,
          10,
          3,
          43,
          6,
          5,
          20,
          1,
          4,
          1,
          13,
          4,
          1,
          1,
          1,
          5,
          21,
          6,
          1,
          3,
          2,
          1,
          3,
          1,
          3,
          1,
          6,
          10,
          1,
          1,
          1,
          2,
          2,
          3,
          1,
          9,
          5,
          7,
          7,
          6,
          2,
          2,
          2,
          5,
          2,
          3,
          13,
          7,
          2,
          2,
          3,
          8,
          3,
          22,
          2,
          7,
          1,
          19,
          17,
          5,
          15,
          1,
          2,
          3,
          1,
          4,
          12,
          11,
          5,
          1,
          6,
          7,
          4
         ],
         "yaxis": "y"
        }
       ],
       "layout": {
        "barmode": "relative",
        "legend": {
         "tracegroupgap": 0
        },
        "template": {
         "data": {
          "bar": [
           {
            "error_x": {
             "color": "#2a3f5f"
            },
            "error_y": {
             "color": "#2a3f5f"
            },
            "marker": {
             "line": {
              "color": "#E5ECF6",
              "width": 0.5
             }
            },
            "type": "bar"
           }
          ],
          "barpolar": [
           {
            "marker": {
             "line": {
              "color": "#E5ECF6",
              "width": 0.5
             }
            },
            "type": "barpolar"
           }
          ],
          "carpet": [
           {
            "aaxis": {
             "endlinecolor": "#2a3f5f",
             "gridcolor": "white",
             "linecolor": "white",
             "minorgridcolor": "white",
             "startlinecolor": "#2a3f5f"
            },
            "baxis": {
             "endlinecolor": "#2a3f5f",
             "gridcolor": "white",
             "linecolor": "white",
             "minorgridcolor": "white",
             "startlinecolor": "#2a3f5f"
            },
            "type": "carpet"
           }
          ],
          "choropleth": [
           {
            "colorbar": {
             "outlinewidth": 0,
             "ticks": ""
            },
            "type": "choropleth"
           }
          ],
          "contour": [
           {
            "colorbar": {
             "outlinewidth": 0,
             "ticks": ""
            },
            "colorscale": [
             [
              0,
              "#0d0887"
             ],
             [
              0.1111111111111111,
              "#46039f"
             ],
             [
              0.2222222222222222,
              "#7201a8"
             ],
             [
              0.3333333333333333,
              "#9c179e"
             ],
             [
              0.4444444444444444,
              "#bd3786"
             ],
             [
              0.5555555555555556,
              "#d8576b"
             ],
             [
              0.6666666666666666,
              "#ed7953"
             ],
             [
              0.7777777777777778,
              "#fb9f3a"
             ],
             [
              0.8888888888888888,
              "#fdca26"
             ],
             [
              1,
              "#f0f921"
             ]
            ],
            "type": "contour"
           }
          ],
          "contourcarpet": [
           {
            "colorbar": {
             "outlinewidth": 0,
             "ticks": ""
            },
            "type": "contourcarpet"
           }
          ],
          "heatmap": [
           {
            "colorbar": {
             "outlinewidth": 0,
             "ticks": ""
            },
            "colorscale": [
             [
              0,
              "#0d0887"
             ],
             [
              0.1111111111111111,
              "#46039f"
             ],
             [
              0.2222222222222222,
              "#7201a8"
             ],
             [
              0.3333333333333333,
              "#9c179e"
             ],
             [
              0.4444444444444444,
              "#bd3786"
             ],
             [
              0.5555555555555556,
              "#d8576b"
             ],
             [
              0.6666666666666666,
              "#ed7953"
             ],
             [
              0.7777777777777778,
              "#fb9f3a"
             ],
             [
              0.8888888888888888,
              "#fdca26"
             ],
             [
              1,
              "#f0f921"
             ]
            ],
            "type": "heatmap"
           }
          ],
          "heatmapgl": [
           {
            "colorbar": {
             "outlinewidth": 0,
             "ticks": ""
            },
            "colorscale": [
             [
              0,
              "#0d0887"
             ],
             [
              0.1111111111111111,
              "#46039f"
             ],
             [
              0.2222222222222222,
              "#7201a8"
             ],
             [
              0.3333333333333333,
              "#9c179e"
             ],
             [
              0.4444444444444444,
              "#bd3786"
             ],
             [
              0.5555555555555556,
              "#d8576b"
             ],
             [
              0.6666666666666666,
              "#ed7953"
             ],
             [
              0.7777777777777778,
              "#fb9f3a"
             ],
             [
              0.8888888888888888,
              "#fdca26"
             ],
             [
              1,
              "#f0f921"
             ]
            ],
            "type": "heatmapgl"
           }
          ],
          "histogram": [
           {
            "marker": {
             "colorbar": {
              "outlinewidth": 0,
              "ticks": ""
             }
            },
            "type": "histogram"
           }
          ],
          "histogram2d": [
           {
            "colorbar": {
             "outlinewidth": 0,
             "ticks": ""
            },
            "colorscale": [
             [
              0,
              "#0d0887"
             ],
             [
              0.1111111111111111,
              "#46039f"
             ],
             [
              0.2222222222222222,
              "#7201a8"
             ],
             [
              0.3333333333333333,
              "#9c179e"
             ],
             [
              0.4444444444444444,
              "#bd3786"
             ],
             [
              0.5555555555555556,
              "#d8576b"
             ],
             [
              0.6666666666666666,
              "#ed7953"
             ],
             [
              0.7777777777777778,
              "#fb9f3a"
             ],
             [
              0.8888888888888888,
              "#fdca26"
             ],
             [
              1,
              "#f0f921"
             ]
            ],
            "type": "histogram2d"
           }
          ],
          "histogram2dcontour": [
           {
            "colorbar": {
             "outlinewidth": 0,
             "ticks": ""
            },
            "colorscale": [
             [
              0,
              "#0d0887"
             ],
             [
              0.1111111111111111,
              "#46039f"
             ],
             [
              0.2222222222222222,
              "#7201a8"
             ],
             [
              0.3333333333333333,
              "#9c179e"
             ],
             [
              0.4444444444444444,
              "#bd3786"
             ],
             [
              0.5555555555555556,
              "#d8576b"
             ],
             [
              0.6666666666666666,
              "#ed7953"
             ],
             [
              0.7777777777777778,
              "#fb9f3a"
             ],
             [
              0.8888888888888888,
              "#fdca26"
             ],
             [
              1,
              "#f0f921"
             ]
            ],
            "type": "histogram2dcontour"
           }
          ],
          "mesh3d": [
           {
            "colorbar": {
             "outlinewidth": 0,
             "ticks": ""
            },
            "type": "mesh3d"
           }
          ],
          "parcoords": [
           {
            "line": {
             "colorbar": {
              "outlinewidth": 0,
              "ticks": ""
             }
            },
            "type": "parcoords"
           }
          ],
          "pie": [
           {
            "automargin": true,
            "type": "pie"
           }
          ],
          "scatter": [
           {
            "marker": {
             "colorbar": {
              "outlinewidth": 0,
              "ticks": ""
             }
            },
            "type": "scatter"
           }
          ],
          "scatter3d": [
           {
            "line": {
             "colorbar": {
              "outlinewidth": 0,
              "ticks": ""
             }
            },
            "marker": {
             "colorbar": {
              "outlinewidth": 0,
              "ticks": ""
             }
            },
            "type": "scatter3d"
           }
          ],
          "scattercarpet": [
           {
            "marker": {
             "colorbar": {
              "outlinewidth": 0,
              "ticks": ""
             }
            },
            "type": "scattercarpet"
           }
          ],
          "scattergeo": [
           {
            "marker": {
             "colorbar": {
              "outlinewidth": 0,
              "ticks": ""
             }
            },
            "type": "scattergeo"
           }
          ],
          "scattergl": [
           {
            "marker": {
             "colorbar": {
              "outlinewidth": 0,
              "ticks": ""
             }
            },
            "type": "scattergl"
           }
          ],
          "scattermapbox": [
           {
            "marker": {
             "colorbar": {
              "outlinewidth": 0,
              "ticks": ""
             }
            },
            "type": "scattermapbox"
           }
          ],
          "scatterpolar": [
           {
            "marker": {
             "colorbar": {
              "outlinewidth": 0,
              "ticks": ""
             }
            },
            "type": "scatterpolar"
           }
          ],
          "scatterpolargl": [
           {
            "marker": {
             "colorbar": {
              "outlinewidth": 0,
              "ticks": ""
             }
            },
            "type": "scatterpolargl"
           }
          ],
          "scatterternary": [
           {
            "marker": {
             "colorbar": {
              "outlinewidth": 0,
              "ticks": ""
             }
            },
            "type": "scatterternary"
           }
          ],
          "surface": [
           {
            "colorbar": {
             "outlinewidth": 0,
             "ticks": ""
            },
            "colorscale": [
             [
              0,
              "#0d0887"
             ],
             [
              0.1111111111111111,
              "#46039f"
             ],
             [
              0.2222222222222222,
              "#7201a8"
             ],
             [
              0.3333333333333333,
              "#9c179e"
             ],
             [
              0.4444444444444444,
              "#bd3786"
             ],
             [
              0.5555555555555556,
              "#d8576b"
             ],
             [
              0.6666666666666666,
              "#ed7953"
             ],
             [
              0.7777777777777778,
              "#fb9f3a"
             ],
             [
              0.8888888888888888,
              "#fdca26"
             ],
             [
              1,
              "#f0f921"
             ]
            ],
            "type": "surface"
           }
          ],
          "table": [
           {
            "cells": {
             "fill": {
              "color": "#EBF0F8"
             },
             "line": {
              "color": "white"
             }
            },
            "header": {
             "fill": {
              "color": "#C8D4E3"
             },
             "line": {
              "color": "white"
             }
            },
            "type": "table"
           }
          ]
         },
         "layout": {
          "annotationdefaults": {
           "arrowcolor": "#2a3f5f",
           "arrowhead": 0,
           "arrowwidth": 1
          },
          "autotypenumbers": "strict",
          "coloraxis": {
           "colorbar": {
            "outlinewidth": 0,
            "ticks": ""
           }
          },
          "colorscale": {
           "diverging": [
            [
             0,
             "#8e0152"
            ],
            [
             0.1,
             "#c51b7d"
            ],
            [
             0.2,
             "#de77ae"
            ],
            [
             0.3,
             "#f1b6da"
            ],
            [
             0.4,
             "#fde0ef"
            ],
            [
             0.5,
             "#f7f7f7"
            ],
            [
             0.6,
             "#e6f5d0"
            ],
            [
             0.7,
             "#b8e186"
            ],
            [
             0.8,
             "#7fbc41"
            ],
            [
             0.9,
             "#4d9221"
            ],
            [
             1,
             "#276419"
            ]
           ],
           "sequential": [
            [
             0,
             "#0d0887"
            ],
            [
             0.1111111111111111,
             "#46039f"
            ],
            [
             0.2222222222222222,
             "#7201a8"
            ],
            [
             0.3333333333333333,
             "#9c179e"
            ],
            [
             0.4444444444444444,
             "#bd3786"
            ],
            [
             0.5555555555555556,
             "#d8576b"
            ],
            [
             0.6666666666666666,
             "#ed7953"
            ],
            [
             0.7777777777777778,
             "#fb9f3a"
            ],
            [
             0.8888888888888888,
             "#fdca26"
            ],
            [
             1,
             "#f0f921"
            ]
           ],
           "sequentialminus": [
            [
             0,
             "#0d0887"
            ],
            [
             0.1111111111111111,
             "#46039f"
            ],
            [
             0.2222222222222222,
             "#7201a8"
            ],
            [
             0.3333333333333333,
             "#9c179e"
            ],
            [
             0.4444444444444444,
             "#bd3786"
            ],
            [
             0.5555555555555556,
             "#d8576b"
            ],
            [
             0.6666666666666666,
             "#ed7953"
            ],
            [
             0.7777777777777778,
             "#fb9f3a"
            ],
            [
             0.8888888888888888,
             "#fdca26"
            ],
            [
             1,
             "#f0f921"
            ]
           ]
          },
          "colorway": [
           "#636efa",
           "#EF553B",
           "#00cc96",
           "#ab63fa",
           "#FFA15A",
           "#19d3f3",
           "#FF6692",
           "#B6E880",
           "#FF97FF",
           "#FECB52"
          ],
          "font": {
           "color": "#2a3f5f"
          },
          "geo": {
           "bgcolor": "white",
           "lakecolor": "white",
           "landcolor": "#E5ECF6",
           "showlakes": true,
           "showland": true,
           "subunitcolor": "white"
          },
          "hoverlabel": {
           "align": "left"
          },
          "hovermode": "closest",
          "mapbox": {
           "style": "light"
          },
          "paper_bgcolor": "white",
          "plot_bgcolor": "#E5ECF6",
          "polar": {
           "angularaxis": {
            "gridcolor": "white",
            "linecolor": "white",
            "ticks": ""
           },
           "bgcolor": "#E5ECF6",
           "radialaxis": {
            "gridcolor": "white",
            "linecolor": "white",
            "ticks": ""
           }
          },
          "scene": {
           "xaxis": {
            "backgroundcolor": "#E5ECF6",
            "gridcolor": "white",
            "gridwidth": 2,
            "linecolor": "white",
            "showbackground": true,
            "ticks": "",
            "zerolinecolor": "white"
           },
           "yaxis": {
            "backgroundcolor": "#E5ECF6",
            "gridcolor": "white",
            "gridwidth": 2,
            "linecolor": "white",
            "showbackground": true,
            "ticks": "",
            "zerolinecolor": "white"
           },
           "zaxis": {
            "backgroundcolor": "#E5ECF6",
            "gridcolor": "white",
            "gridwidth": 2,
            "linecolor": "white",
            "showbackground": true,
            "ticks": "",
            "zerolinecolor": "white"
           }
          },
          "shapedefaults": {
           "line": {
            "color": "#2a3f5f"
           }
          },
          "ternary": {
           "aaxis": {
            "gridcolor": "white",
            "linecolor": "white",
            "ticks": ""
           },
           "baxis": {
            "gridcolor": "white",
            "linecolor": "white",
            "ticks": ""
           },
           "bgcolor": "#E5ECF6",
           "caxis": {
            "gridcolor": "white",
            "linecolor": "white",
            "ticks": ""
           }
          },
          "title": {
           "x": 0.05
          },
          "xaxis": {
           "automargin": true,
           "gridcolor": "white",
           "linecolor": "white",
           "ticks": "",
           "title": {
            "standoff": 15
           },
           "zerolinecolor": "white",
           "zerolinewidth": 2
          },
          "yaxis": {
           "automargin": true,
           "gridcolor": "white",
           "linecolor": "white",
           "ticks": "",
           "title": {
            "standoff": 15
           },
           "zerolinecolor": "white",
           "zerolinewidth": 2
          }
         }
        },
        "title": {
         "text": "Word: 'the' - 475 appearances"
        },
        "xaxis": {
         "anchor": "y",
         "domain": [
          0,
          1
         ],
         "title": {
          "text": "document"
         }
        },
        "yaxis": {
         "anchor": "x",
         "domain": [
          0,
          1
         ],
         "title": {
          "text": "count"
         }
        }
       }
      }
     },
     "metadata": {}
    },
    {
     "output_type": "display_data",
     "data": {
      "application/vnd.plotly.v1+json": {
       "config": {
        "plotlyServerURL": "https://plot.ly"
       },
       "data": [
        {
         "alignmentgroup": "True",
         "hovertemplate": "document=%{x}<br>count=%{y}<extra></extra>",
         "legendgroup": "",
         "marker": {
          "color": "#636efa"
         },
         "name": "",
         "offsetgroup": "",
         "orientation": "v",
         "showlegend": false,
         "textposition": "auto",
         "type": "bar",
         "x": [
          1,
          2,
          3,
          4,
          5,
          7,
          8,
          9,
          12,
          13,
          16,
          17,
          18,
          21,
          22,
          23,
          24,
          25,
          26,
          27,
          28,
          29,
          30,
          31,
          35,
          36,
          37,
          38,
          39,
          40,
          41,
          42,
          44,
          45,
          47,
          49,
          50,
          53,
          54,
          55,
          57,
          58,
          59,
          60,
          61,
          62,
          63,
          64,
          65,
          66,
          68,
          69,
          70,
          72,
          75,
          76,
          77,
          79,
          80,
          81,
          82,
          83,
          84,
          85,
          87,
          89,
          91,
          92,
          93,
          94,
          95,
          96,
          97,
          98,
          100
         ],
         "xaxis": "x",
         "y": [
          9,
          3,
          7,
          3,
          4,
          3,
          3,
          7,
          3,
          1,
          4,
          2,
          21,
          3,
          1,
          1,
          1,
          5,
          2,
          2,
          3,
          11,
          1,
          1,
          2,
          9,
          6,
          1,
          3,
          3,
          1,
          5,
          3,
          2,
          2,
          14,
          3,
          1,
          13,
          1,
          22,
          4,
          1,
          6,
          2,
          5,
          8,
          1,
          7,
          3,
          11,
          11,
          1,
          5,
          1,
          5,
          1,
          1,
          6,
          5,
          2,
          5,
          12,
          3,
          8,
          3,
          3,
          2,
          1,
          2,
          1,
          2,
          4,
          5,
          1
         ],
         "yaxis": "y"
        }
       ],
       "layout": {
        "barmode": "relative",
        "legend": {
         "tracegroupgap": 0
        },
        "template": {
         "data": {
          "bar": [
           {
            "error_x": {
             "color": "#2a3f5f"
            },
            "error_y": {
             "color": "#2a3f5f"
            },
            "marker": {
             "line": {
              "color": "#E5ECF6",
              "width": 0.5
             }
            },
            "type": "bar"
           }
          ],
          "barpolar": [
           {
            "marker": {
             "line": {
              "color": "#E5ECF6",
              "width": 0.5
             }
            },
            "type": "barpolar"
           }
          ],
          "carpet": [
           {
            "aaxis": {
             "endlinecolor": "#2a3f5f",
             "gridcolor": "white",
             "linecolor": "white",
             "minorgridcolor": "white",
             "startlinecolor": "#2a3f5f"
            },
            "baxis": {
             "endlinecolor": "#2a3f5f",
             "gridcolor": "white",
             "linecolor": "white",
             "minorgridcolor": "white",
             "startlinecolor": "#2a3f5f"
            },
            "type": "carpet"
           }
          ],
          "choropleth": [
           {
            "colorbar": {
             "outlinewidth": 0,
             "ticks": ""
            },
            "type": "choropleth"
           }
          ],
          "contour": [
           {
            "colorbar": {
             "outlinewidth": 0,
             "ticks": ""
            },
            "colorscale": [
             [
              0,
              "#0d0887"
             ],
             [
              0.1111111111111111,
              "#46039f"
             ],
             [
              0.2222222222222222,
              "#7201a8"
             ],
             [
              0.3333333333333333,
              "#9c179e"
             ],
             [
              0.4444444444444444,
              "#bd3786"
             ],
             [
              0.5555555555555556,
              "#d8576b"
             ],
             [
              0.6666666666666666,
              "#ed7953"
             ],
             [
              0.7777777777777778,
              "#fb9f3a"
             ],
             [
              0.8888888888888888,
              "#fdca26"
             ],
             [
              1,
              "#f0f921"
             ]
            ],
            "type": "contour"
           }
          ],
          "contourcarpet": [
           {
            "colorbar": {
             "outlinewidth": 0,
             "ticks": ""
            },
            "type": "contourcarpet"
           }
          ],
          "heatmap": [
           {
            "colorbar": {
             "outlinewidth": 0,
             "ticks": ""
            },
            "colorscale": [
             [
              0,
              "#0d0887"
             ],
             [
              0.1111111111111111,
              "#46039f"
             ],
             [
              0.2222222222222222,
              "#7201a8"
             ],
             [
              0.3333333333333333,
              "#9c179e"
             ],
             [
              0.4444444444444444,
              "#bd3786"
             ],
             [
              0.5555555555555556,
              "#d8576b"
             ],
             [
              0.6666666666666666,
              "#ed7953"
             ],
             [
              0.7777777777777778,
              "#fb9f3a"
             ],
             [
              0.8888888888888888,
              "#fdca26"
             ],
             [
              1,
              "#f0f921"
             ]
            ],
            "type": "heatmap"
           }
          ],
          "heatmapgl": [
           {
            "colorbar": {
             "outlinewidth": 0,
             "ticks": ""
            },
            "colorscale": [
             [
              0,
              "#0d0887"
             ],
             [
              0.1111111111111111,
              "#46039f"
             ],
             [
              0.2222222222222222,
              "#7201a8"
             ],
             [
              0.3333333333333333,
              "#9c179e"
             ],
             [
              0.4444444444444444,
              "#bd3786"
             ],
             [
              0.5555555555555556,
              "#d8576b"
             ],
             [
              0.6666666666666666,
              "#ed7953"
             ],
             [
              0.7777777777777778,
              "#fb9f3a"
             ],
             [
              0.8888888888888888,
              "#fdca26"
             ],
             [
              1,
              "#f0f921"
             ]
            ],
            "type": "heatmapgl"
           }
          ],
          "histogram": [
           {
            "marker": {
             "colorbar": {
              "outlinewidth": 0,
              "ticks": ""
             }
            },
            "type": "histogram"
           }
          ],
          "histogram2d": [
           {
            "colorbar": {
             "outlinewidth": 0,
             "ticks": ""
            },
            "colorscale": [
             [
              0,
              "#0d0887"
             ],
             [
              0.1111111111111111,
              "#46039f"
             ],
             [
              0.2222222222222222,
              "#7201a8"
             ],
             [
              0.3333333333333333,
              "#9c179e"
             ],
             [
              0.4444444444444444,
              "#bd3786"
             ],
             [
              0.5555555555555556,
              "#d8576b"
             ],
             [
              0.6666666666666666,
              "#ed7953"
             ],
             [
              0.7777777777777778,
              "#fb9f3a"
             ],
             [
              0.8888888888888888,
              "#fdca26"
             ],
             [
              1,
              "#f0f921"
             ]
            ],
            "type": "histogram2d"
           }
          ],
          "histogram2dcontour": [
           {
            "colorbar": {
             "outlinewidth": 0,
             "ticks": ""
            },
            "colorscale": [
             [
              0,
              "#0d0887"
             ],
             [
              0.1111111111111111,
              "#46039f"
             ],
             [
              0.2222222222222222,
              "#7201a8"
             ],
             [
              0.3333333333333333,
              "#9c179e"
             ],
             [
              0.4444444444444444,
              "#bd3786"
             ],
             [
              0.5555555555555556,
              "#d8576b"
             ],
             [
              0.6666666666666666,
              "#ed7953"
             ],
             [
              0.7777777777777778,
              "#fb9f3a"
             ],
             [
              0.8888888888888888,
              "#fdca26"
             ],
             [
              1,
              "#f0f921"
             ]
            ],
            "type": "histogram2dcontour"
           }
          ],
          "mesh3d": [
           {
            "colorbar": {
             "outlinewidth": 0,
             "ticks": ""
            },
            "type": "mesh3d"
           }
          ],
          "parcoords": [
           {
            "line": {
             "colorbar": {
              "outlinewidth": 0,
              "ticks": ""
             }
            },
            "type": "parcoords"
           }
          ],
          "pie": [
           {
            "automargin": true,
            "type": "pie"
           }
          ],
          "scatter": [
           {
            "marker": {
             "colorbar": {
              "outlinewidth": 0,
              "ticks": ""
             }
            },
            "type": "scatter"
           }
          ],
          "scatter3d": [
           {
            "line": {
             "colorbar": {
              "outlinewidth": 0,
              "ticks": ""
             }
            },
            "marker": {
             "colorbar": {
              "outlinewidth": 0,
              "ticks": ""
             }
            },
            "type": "scatter3d"
           }
          ],
          "scattercarpet": [
           {
            "marker": {
             "colorbar": {
              "outlinewidth": 0,
              "ticks": ""
             }
            },
            "type": "scattercarpet"
           }
          ],
          "scattergeo": [
           {
            "marker": {
             "colorbar": {
              "outlinewidth": 0,
              "ticks": ""
             }
            },
            "type": "scattergeo"
           }
          ],
          "scattergl": [
           {
            "marker": {
             "colorbar": {
              "outlinewidth": 0,
              "ticks": ""
             }
            },
            "type": "scattergl"
           }
          ],
          "scattermapbox": [
           {
            "marker": {
             "colorbar": {
              "outlinewidth": 0,
              "ticks": ""
             }
            },
            "type": "scattermapbox"
           }
          ],
          "scatterpolar": [
           {
            "marker": {
             "colorbar": {
              "outlinewidth": 0,
              "ticks": ""
             }
            },
            "type": "scatterpolar"
           }
          ],
          "scatterpolargl": [
           {
            "marker": {
             "colorbar": {
              "outlinewidth": 0,
              "ticks": ""
             }
            },
            "type": "scatterpolargl"
           }
          ],
          "scatterternary": [
           {
            "marker": {
             "colorbar": {
              "outlinewidth": 0,
              "ticks": ""
             }
            },
            "type": "scatterternary"
           }
          ],
          "surface": [
           {
            "colorbar": {
             "outlinewidth": 0,
             "ticks": ""
            },
            "colorscale": [
             [
              0,
              "#0d0887"
             ],
             [
              0.1111111111111111,
              "#46039f"
             ],
             [
              0.2222222222222222,
              "#7201a8"
             ],
             [
              0.3333333333333333,
              "#9c179e"
             ],
             [
              0.4444444444444444,
              "#bd3786"
             ],
             [
              0.5555555555555556,
              "#d8576b"
             ],
             [
              0.6666666666666666,
              "#ed7953"
             ],
             [
              0.7777777777777778,
              "#fb9f3a"
             ],
             [
              0.8888888888888888,
              "#fdca26"
             ],
             [
              1,
              "#f0f921"
             ]
            ],
            "type": "surface"
           }
          ],
          "table": [
           {
            "cells": {
             "fill": {
              "color": "#EBF0F8"
             },
             "line": {
              "color": "white"
             }
            },
            "header": {
             "fill": {
              "color": "#C8D4E3"
             },
             "line": {
              "color": "white"
             }
            },
            "type": "table"
           }
          ]
         },
         "layout": {
          "annotationdefaults": {
           "arrowcolor": "#2a3f5f",
           "arrowhead": 0,
           "arrowwidth": 1
          },
          "autotypenumbers": "strict",
          "coloraxis": {
           "colorbar": {
            "outlinewidth": 0,
            "ticks": ""
           }
          },
          "colorscale": {
           "diverging": [
            [
             0,
             "#8e0152"
            ],
            [
             0.1,
             "#c51b7d"
            ],
            [
             0.2,
             "#de77ae"
            ],
            [
             0.3,
             "#f1b6da"
            ],
            [
             0.4,
             "#fde0ef"
            ],
            [
             0.5,
             "#f7f7f7"
            ],
            [
             0.6,
             "#e6f5d0"
            ],
            [
             0.7,
             "#b8e186"
            ],
            [
             0.8,
             "#7fbc41"
            ],
            [
             0.9,
             "#4d9221"
            ],
            [
             1,
             "#276419"
            ]
           ],
           "sequential": [
            [
             0,
             "#0d0887"
            ],
            [
             0.1111111111111111,
             "#46039f"
            ],
            [
             0.2222222222222222,
             "#7201a8"
            ],
            [
             0.3333333333333333,
             "#9c179e"
            ],
            [
             0.4444444444444444,
             "#bd3786"
            ],
            [
             0.5555555555555556,
             "#d8576b"
            ],
            [
             0.6666666666666666,
             "#ed7953"
            ],
            [
             0.7777777777777778,
             "#fb9f3a"
            ],
            [
             0.8888888888888888,
             "#fdca26"
            ],
            [
             1,
             "#f0f921"
            ]
           ],
           "sequentialminus": [
            [
             0,
             "#0d0887"
            ],
            [
             0.1111111111111111,
             "#46039f"
            ],
            [
             0.2222222222222222,
             "#7201a8"
            ],
            [
             0.3333333333333333,
             "#9c179e"
            ],
            [
             0.4444444444444444,
             "#bd3786"
            ],
            [
             0.5555555555555556,
             "#d8576b"
            ],
            [
             0.6666666666666666,
             "#ed7953"
            ],
            [
             0.7777777777777778,
             "#fb9f3a"
            ],
            [
             0.8888888888888888,
             "#fdca26"
            ],
            [
             1,
             "#f0f921"
            ]
           ]
          },
          "colorway": [
           "#636efa",
           "#EF553B",
           "#00cc96",
           "#ab63fa",
           "#FFA15A",
           "#19d3f3",
           "#FF6692",
           "#B6E880",
           "#FF97FF",
           "#FECB52"
          ],
          "font": {
           "color": "#2a3f5f"
          },
          "geo": {
           "bgcolor": "white",
           "lakecolor": "white",
           "landcolor": "#E5ECF6",
           "showlakes": true,
           "showland": true,
           "subunitcolor": "white"
          },
          "hoverlabel": {
           "align": "left"
          },
          "hovermode": "closest",
          "mapbox": {
           "style": "light"
          },
          "paper_bgcolor": "white",
          "plot_bgcolor": "#E5ECF6",
          "polar": {
           "angularaxis": {
            "gridcolor": "white",
            "linecolor": "white",
            "ticks": ""
           },
           "bgcolor": "#E5ECF6",
           "radialaxis": {
            "gridcolor": "white",
            "linecolor": "white",
            "ticks": ""
           }
          },
          "scene": {
           "xaxis": {
            "backgroundcolor": "#E5ECF6",
            "gridcolor": "white",
            "gridwidth": 2,
            "linecolor": "white",
            "showbackground": true,
            "ticks": "",
            "zerolinecolor": "white"
           },
           "yaxis": {
            "backgroundcolor": "#E5ECF6",
            "gridcolor": "white",
            "gridwidth": 2,
            "linecolor": "white",
            "showbackground": true,
            "ticks": "",
            "zerolinecolor": "white"
           },
           "zaxis": {
            "backgroundcolor": "#E5ECF6",
            "gridcolor": "white",
            "gridwidth": 2,
            "linecolor": "white",
            "showbackground": true,
            "ticks": "",
            "zerolinecolor": "white"
           }
          },
          "shapedefaults": {
           "line": {
            "color": "#2a3f5f"
           }
          },
          "ternary": {
           "aaxis": {
            "gridcolor": "white",
            "linecolor": "white",
            "ticks": ""
           },
           "baxis": {
            "gridcolor": "white",
            "linecolor": "white",
            "ticks": ""
           },
           "bgcolor": "#E5ECF6",
           "caxis": {
            "gridcolor": "white",
            "linecolor": "white",
            "ticks": ""
           }
          },
          "title": {
           "x": 0.05
          },
          "xaxis": {
           "automargin": true,
           "gridcolor": "white",
           "linecolor": "white",
           "ticks": "",
           "title": {
            "standoff": 15
           },
           "zerolinecolor": "white",
           "zerolinewidth": 2
          },
          "yaxis": {
           "automargin": true,
           "gridcolor": "white",
           "linecolor": "white",
           "ticks": "",
           "title": {
            "standoff": 15
           },
           "zerolinecolor": "white",
           "zerolinewidth": 2
          }
         }
        },
        "title": {
         "text": "Word: 'to' - 330 appearances"
        },
        "xaxis": {
         "anchor": "y",
         "domain": [
          0,
          1
         ],
         "title": {
          "text": "document"
         }
        },
        "yaxis": {
         "anchor": "x",
         "domain": [
          0,
          1
         ],
         "title": {
          "text": "count"
         }
        }
       }
      }
     },
     "metadata": {}
    },
    {
     "output_type": "display_data",
     "data": {
      "application/vnd.plotly.v1+json": {
       "config": {
        "plotlyServerURL": "https://plot.ly"
       },
       "data": [
        {
         "alignmentgroup": "True",
         "hovertemplate": "document=%{x}<br>count=%{y}<extra></extra>",
         "legendgroup": "",
         "marker": {
          "color": "#636efa"
         },
         "name": "",
         "offsetgroup": "",
         "orientation": "v",
         "showlegend": false,
         "textposition": "auto",
         "type": "bar",
         "x": [
          1,
          3,
          4,
          5,
          8,
          9,
          11,
          12,
          14,
          16,
          17,
          23,
          24,
          28,
          29,
          30,
          34,
          36,
          37,
          39,
          40,
          41,
          43,
          47,
          49,
          50,
          54,
          57,
          58,
          60,
          61,
          62,
          63,
          64,
          65,
          68,
          69,
          70,
          71,
          72,
          73,
          76,
          78,
          79,
          82,
          83,
          84,
          85,
          87,
          88,
          89,
          91,
          94,
          97,
          100
         ],
         "xaxis": "x",
         "y": [
          1,
          9,
          3,
          3,
          8,
          1,
          2,
          1,
          1,
          1,
          2,
          1,
          2,
          1,
          9,
          1,
          1,
          5,
          6,
          2,
          5,
          3,
          2,
          1,
          11,
          3,
          1,
          18,
          1,
          5,
          3,
          1,
          6,
          1,
          2,
          3,
          2,
          2,
          1,
          4,
          1,
          4,
          2,
          1,
          3,
          2,
          5,
          1,
          1,
          1,
          3,
          3,
          6,
          2,
          1
         ],
         "yaxis": "y"
        }
       ],
       "layout": {
        "barmode": "relative",
        "legend": {
         "tracegroupgap": 0
        },
        "template": {
         "data": {
          "bar": [
           {
            "error_x": {
             "color": "#2a3f5f"
            },
            "error_y": {
             "color": "#2a3f5f"
            },
            "marker": {
             "line": {
              "color": "#E5ECF6",
              "width": 0.5
             }
            },
            "type": "bar"
           }
          ],
          "barpolar": [
           {
            "marker": {
             "line": {
              "color": "#E5ECF6",
              "width": 0.5
             }
            },
            "type": "barpolar"
           }
          ],
          "carpet": [
           {
            "aaxis": {
             "endlinecolor": "#2a3f5f",
             "gridcolor": "white",
             "linecolor": "white",
             "minorgridcolor": "white",
             "startlinecolor": "#2a3f5f"
            },
            "baxis": {
             "endlinecolor": "#2a3f5f",
             "gridcolor": "white",
             "linecolor": "white",
             "minorgridcolor": "white",
             "startlinecolor": "#2a3f5f"
            },
            "type": "carpet"
           }
          ],
          "choropleth": [
           {
            "colorbar": {
             "outlinewidth": 0,
             "ticks": ""
            },
            "type": "choropleth"
           }
          ],
          "contour": [
           {
            "colorbar": {
             "outlinewidth": 0,
             "ticks": ""
            },
            "colorscale": [
             [
              0,
              "#0d0887"
             ],
             [
              0.1111111111111111,
              "#46039f"
             ],
             [
              0.2222222222222222,
              "#7201a8"
             ],
             [
              0.3333333333333333,
              "#9c179e"
             ],
             [
              0.4444444444444444,
              "#bd3786"
             ],
             [
              0.5555555555555556,
              "#d8576b"
             ],
             [
              0.6666666666666666,
              "#ed7953"
             ],
             [
              0.7777777777777778,
              "#fb9f3a"
             ],
             [
              0.8888888888888888,
              "#fdca26"
             ],
             [
              1,
              "#f0f921"
             ]
            ],
            "type": "contour"
           }
          ],
          "contourcarpet": [
           {
            "colorbar": {
             "outlinewidth": 0,
             "ticks": ""
            },
            "type": "contourcarpet"
           }
          ],
          "heatmap": [
           {
            "colorbar": {
             "outlinewidth": 0,
             "ticks": ""
            },
            "colorscale": [
             [
              0,
              "#0d0887"
             ],
             [
              0.1111111111111111,
              "#46039f"
             ],
             [
              0.2222222222222222,
              "#7201a8"
             ],
             [
              0.3333333333333333,
              "#9c179e"
             ],
             [
              0.4444444444444444,
              "#bd3786"
             ],
             [
              0.5555555555555556,
              "#d8576b"
             ],
             [
              0.6666666666666666,
              "#ed7953"
             ],
             [
              0.7777777777777778,
              "#fb9f3a"
             ],
             [
              0.8888888888888888,
              "#fdca26"
             ],
             [
              1,
              "#f0f921"
             ]
            ],
            "type": "heatmap"
           }
          ],
          "heatmapgl": [
           {
            "colorbar": {
             "outlinewidth": 0,
             "ticks": ""
            },
            "colorscale": [
             [
              0,
              "#0d0887"
             ],
             [
              0.1111111111111111,
              "#46039f"
             ],
             [
              0.2222222222222222,
              "#7201a8"
             ],
             [
              0.3333333333333333,
              "#9c179e"
             ],
             [
              0.4444444444444444,
              "#bd3786"
             ],
             [
              0.5555555555555556,
              "#d8576b"
             ],
             [
              0.6666666666666666,
              "#ed7953"
             ],
             [
              0.7777777777777778,
              "#fb9f3a"
             ],
             [
              0.8888888888888888,
              "#fdca26"
             ],
             [
              1,
              "#f0f921"
             ]
            ],
            "type": "heatmapgl"
           }
          ],
          "histogram": [
           {
            "marker": {
             "colorbar": {
              "outlinewidth": 0,
              "ticks": ""
             }
            },
            "type": "histogram"
           }
          ],
          "histogram2d": [
           {
            "colorbar": {
             "outlinewidth": 0,
             "ticks": ""
            },
            "colorscale": [
             [
              0,
              "#0d0887"
             ],
             [
              0.1111111111111111,
              "#46039f"
             ],
             [
              0.2222222222222222,
              "#7201a8"
             ],
             [
              0.3333333333333333,
              "#9c179e"
             ],
             [
              0.4444444444444444,
              "#bd3786"
             ],
             [
              0.5555555555555556,
              "#d8576b"
             ],
             [
              0.6666666666666666,
              "#ed7953"
             ],
             [
              0.7777777777777778,
              "#fb9f3a"
             ],
             [
              0.8888888888888888,
              "#fdca26"
             ],
             [
              1,
              "#f0f921"
             ]
            ],
            "type": "histogram2d"
           }
          ],
          "histogram2dcontour": [
           {
            "colorbar": {
             "outlinewidth": 0,
             "ticks": ""
            },
            "colorscale": [
             [
              0,
              "#0d0887"
             ],
             [
              0.1111111111111111,
              "#46039f"
             ],
             [
              0.2222222222222222,
              "#7201a8"
             ],
             [
              0.3333333333333333,
              "#9c179e"
             ],
             [
              0.4444444444444444,
              "#bd3786"
             ],
             [
              0.5555555555555556,
              "#d8576b"
             ],
             [
              0.6666666666666666,
              "#ed7953"
             ],
             [
              0.7777777777777778,
              "#fb9f3a"
             ],
             [
              0.8888888888888888,
              "#fdca26"
             ],
             [
              1,
              "#f0f921"
             ]
            ],
            "type": "histogram2dcontour"
           }
          ],
          "mesh3d": [
           {
            "colorbar": {
             "outlinewidth": 0,
             "ticks": ""
            },
            "type": "mesh3d"
           }
          ],
          "parcoords": [
           {
            "line": {
             "colorbar": {
              "outlinewidth": 0,
              "ticks": ""
             }
            },
            "type": "parcoords"
           }
          ],
          "pie": [
           {
            "automargin": true,
            "type": "pie"
           }
          ],
          "scatter": [
           {
            "marker": {
             "colorbar": {
              "outlinewidth": 0,
              "ticks": ""
             }
            },
            "type": "scatter"
           }
          ],
          "scatter3d": [
           {
            "line": {
             "colorbar": {
              "outlinewidth": 0,
              "ticks": ""
             }
            },
            "marker": {
             "colorbar": {
              "outlinewidth": 0,
              "ticks": ""
             }
            },
            "type": "scatter3d"
           }
          ],
          "scattercarpet": [
           {
            "marker": {
             "colorbar": {
              "outlinewidth": 0,
              "ticks": ""
             }
            },
            "type": "scattercarpet"
           }
          ],
          "scattergeo": [
           {
            "marker": {
             "colorbar": {
              "outlinewidth": 0,
              "ticks": ""
             }
            },
            "type": "scattergeo"
           }
          ],
          "scattergl": [
           {
            "marker": {
             "colorbar": {
              "outlinewidth": 0,
              "ticks": ""
             }
            },
            "type": "scattergl"
           }
          ],
          "scattermapbox": [
           {
            "marker": {
             "colorbar": {
              "outlinewidth": 0,
              "ticks": ""
             }
            },
            "type": "scattermapbox"
           }
          ],
          "scatterpolar": [
           {
            "marker": {
             "colorbar": {
              "outlinewidth": 0,
              "ticks": ""
             }
            },
            "type": "scatterpolar"
           }
          ],
          "scatterpolargl": [
           {
            "marker": {
             "colorbar": {
              "outlinewidth": 0,
              "ticks": ""
             }
            },
            "type": "scatterpolargl"
           }
          ],
          "scatterternary": [
           {
            "marker": {
             "colorbar": {
              "outlinewidth": 0,
              "ticks": ""
             }
            },
            "type": "scatterternary"
           }
          ],
          "surface": [
           {
            "colorbar": {
             "outlinewidth": 0,
             "ticks": ""
            },
            "colorscale": [
             [
              0,
              "#0d0887"
             ],
             [
              0.1111111111111111,
              "#46039f"
             ],
             [
              0.2222222222222222,
              "#7201a8"
             ],
             [
              0.3333333333333333,
              "#9c179e"
             ],
             [
              0.4444444444444444,
              "#bd3786"
             ],
             [
              0.5555555555555556,
              "#d8576b"
             ],
             [
              0.6666666666666666,
              "#ed7953"
             ],
             [
              0.7777777777777778,
              "#fb9f3a"
             ],
             [
              0.8888888888888888,
              "#fdca26"
             ],
             [
              1,
              "#f0f921"
             ]
            ],
            "type": "surface"
           }
          ],
          "table": [
           {
            "cells": {
             "fill": {
              "color": "#EBF0F8"
             },
             "line": {
              "color": "white"
             }
            },
            "header": {
             "fill": {
              "color": "#C8D4E3"
             },
             "line": {
              "color": "white"
             }
            },
            "type": "table"
           }
          ]
         },
         "layout": {
          "annotationdefaults": {
           "arrowcolor": "#2a3f5f",
           "arrowhead": 0,
           "arrowwidth": 1
          },
          "autotypenumbers": "strict",
          "coloraxis": {
           "colorbar": {
            "outlinewidth": 0,
            "ticks": ""
           }
          },
          "colorscale": {
           "diverging": [
            [
             0,
             "#8e0152"
            ],
            [
             0.1,
             "#c51b7d"
            ],
            [
             0.2,
             "#de77ae"
            ],
            [
             0.3,
             "#f1b6da"
            ],
            [
             0.4,
             "#fde0ef"
            ],
            [
             0.5,
             "#f7f7f7"
            ],
            [
             0.6,
             "#e6f5d0"
            ],
            [
             0.7,
             "#b8e186"
            ],
            [
             0.8,
             "#7fbc41"
            ],
            [
             0.9,
             "#4d9221"
            ],
            [
             1,
             "#276419"
            ]
           ],
           "sequential": [
            [
             0,
             "#0d0887"
            ],
            [
             0.1111111111111111,
             "#46039f"
            ],
            [
             0.2222222222222222,
             "#7201a8"
            ],
            [
             0.3333333333333333,
             "#9c179e"
            ],
            [
             0.4444444444444444,
             "#bd3786"
            ],
            [
             0.5555555555555556,
             "#d8576b"
            ],
            [
             0.6666666666666666,
             "#ed7953"
            ],
            [
             0.7777777777777778,
             "#fb9f3a"
            ],
            [
             0.8888888888888888,
             "#fdca26"
            ],
            [
             1,
             "#f0f921"
            ]
           ],
           "sequentialminus": [
            [
             0,
             "#0d0887"
            ],
            [
             0.1111111111111111,
             "#46039f"
            ],
            [
             0.2222222222222222,
             "#7201a8"
            ],
            [
             0.3333333333333333,
             "#9c179e"
            ],
            [
             0.4444444444444444,
             "#bd3786"
            ],
            [
             0.5555555555555556,
             "#d8576b"
            ],
            [
             0.6666666666666666,
             "#ed7953"
            ],
            [
             0.7777777777777778,
             "#fb9f3a"
            ],
            [
             0.8888888888888888,
             "#fdca26"
            ],
            [
             1,
             "#f0f921"
            ]
           ]
          },
          "colorway": [
           "#636efa",
           "#EF553B",
           "#00cc96",
           "#ab63fa",
           "#FFA15A",
           "#19d3f3",
           "#FF6692",
           "#B6E880",
           "#FF97FF",
           "#FECB52"
          ],
          "font": {
           "color": "#2a3f5f"
          },
          "geo": {
           "bgcolor": "white",
           "lakecolor": "white",
           "landcolor": "#E5ECF6",
           "showlakes": true,
           "showland": true,
           "subunitcolor": "white"
          },
          "hoverlabel": {
           "align": "left"
          },
          "hovermode": "closest",
          "mapbox": {
           "style": "light"
          },
          "paper_bgcolor": "white",
          "plot_bgcolor": "#E5ECF6",
          "polar": {
           "angularaxis": {
            "gridcolor": "white",
            "linecolor": "white",
            "ticks": ""
           },
           "bgcolor": "#E5ECF6",
           "radialaxis": {
            "gridcolor": "white",
            "linecolor": "white",
            "ticks": ""
           }
          },
          "scene": {
           "xaxis": {
            "backgroundcolor": "#E5ECF6",
            "gridcolor": "white",
            "gridwidth": 2,
            "linecolor": "white",
            "showbackground": true,
            "ticks": "",
            "zerolinecolor": "white"
           },
           "yaxis": {
            "backgroundcolor": "#E5ECF6",
            "gridcolor": "white",
            "gridwidth": 2,
            "linecolor": "white",
            "showbackground": true,
            "ticks": "",
            "zerolinecolor": "white"
           },
           "zaxis": {
            "backgroundcolor": "#E5ECF6",
            "gridcolor": "white",
            "gridwidth": 2,
            "linecolor": "white",
            "showbackground": true,
            "ticks": "",
            "zerolinecolor": "white"
           }
          },
          "shapedefaults": {
           "line": {
            "color": "#2a3f5f"
           }
          },
          "ternary": {
           "aaxis": {
            "gridcolor": "white",
            "linecolor": "white",
            "ticks": ""
           },
           "baxis": {
            "gridcolor": "white",
            "linecolor": "white",
            "ticks": ""
           },
           "bgcolor": "#E5ECF6",
           "caxis": {
            "gridcolor": "white",
            "linecolor": "white",
            "ticks": ""
           }
          },
          "title": {
           "x": 0.05
          },
          "xaxis": {
           "automargin": true,
           "gridcolor": "white",
           "linecolor": "white",
           "ticks": "",
           "title": {
            "standoff": 15
           },
           "zerolinecolor": "white",
           "zerolinewidth": 2
          },
          "yaxis": {
           "automargin": true,
           "gridcolor": "white",
           "linecolor": "white",
           "ticks": "",
           "title": {
            "standoff": 15
           },
           "zerolinecolor": "white",
           "zerolinewidth": 2
          }
         }
        },
        "title": {
         "text": "Word: 'you' - 171 appearances"
        },
        "xaxis": {
         "anchor": "y",
         "domain": [
          0,
          1
         ],
         "title": {
          "text": "document"
         }
        },
        "yaxis": {
         "anchor": "x",
         "domain": [
          0,
          1
         ],
         "title": {
          "text": "count"
         }
        }
       }
      }
     },
     "metadata": {}
    }
   ],
   "source": [
    "plot_histograms(wf_rdd, mcw_words)"
   ]
  },
  {
   "cell_type": "code",
   "execution_count": null,
   "metadata": {},
   "outputs": [],
   "source": []
  }
 ]
}