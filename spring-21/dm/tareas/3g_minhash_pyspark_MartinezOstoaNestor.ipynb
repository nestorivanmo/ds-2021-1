{
  "nbformat": 4,
  "nbformat_minor": 0,
  "metadata": {
    "colab": {
      "name": "minhashLHS.ipynb",
      "provenance": [],
      "collapsed_sections": [],
      "toc_visible": true,
      "mount_file_id": "1kc-smZeq6Rz9IBfi_enzyn9194CIeWNv",
      "authorship_tag": "ABX9TyPWALKDdAYY1lW3LdYj+bgB",
      "include_colab_link": true
    },
    "kernelspec": {
      "name": "python3",
      "display_name": "Python 3",
      "language": "python"
    }
  },
  "cells": [
    {
      "cell_type": "markdown",
      "metadata": {
        "id": "5I4qrFG9-Rvf"
      },
      "source": [
        "# 4. *Minhash* con *PySpark*\n",
        "                                                    \n",
        "En este notebook haremos una revisión de como aplicar la técnica de *Minhash* con *PrSpark*.\n",
        "\n",
        "Antes de pasar a los ejemplos debemos instalar nuestro entorno de desarrollo con `PySpark`"
      ]
    },
    {
      "source": [
        "## Martínez Ostoa Néstor Iván"
      ],
      "cell_type": "markdown",
      "metadata": {}
    },
    {
      "cell_type": "markdown",
      "metadata": {
        "id": "yIF2lMe4Iciv"
      },
      "source": [
        "Para empezar a hacer uso de PySpark es necesario crear una `SparkSession` e importar las bibliotecas necesarias para trabajar"
      ]
    },
    {
      "cell_type": "code",
      "metadata": {
        "id": "lMl3Yv0SLl73",
        "colab": {
          "base_uri": "https://localhost:8080/"
        },
        "outputId": "3e93ec7f-d558-4985-e048-478200801f22"
      },
      "source": [
        "import pyspark\n",
        "# Carga ufnciones extra\n",
        "from pyspark.sql import SparkSession\n",
        "spark = SparkSession.builder.appName('minhash').getOrCreate()\n",
        "\n",
        "# Minhash y texto\n",
        "from pyspark.ml.feature import MinHashLSH\n",
        "from pyspark.ml.linalg import Vectors\n",
        "from pyspark.ml.feature import CountVectorizer\n",
        "from pyspark.sql.functions import col, size\n",
        "import string\n",
        "import nltk\n",
        "nltk.download('stopwords')\n",
        "\n",
        "# Graficar\n",
        "import seaborn as sns"
      ],
      "execution_count": 172,
      "outputs": [
        {
          "output_type": "stream",
          "name": "stderr",
          "text": [
            "[nltk_data] Downloading package stopwords to /home/nestor/nltk_data...\n[nltk_data]   Package stopwords is already up-to-date!\n"
          ]
        }
      ]
    },
    {
      "cell_type": "code",
      "execution_count": 173,
      "metadata": {},
      "outputs": [],
      "source": [
        "import matplotlib.pyplot as plt\n",
        "import plotly.express as px"
      ]
    },
    {
      "cell_type": "markdown",
      "metadata": {
        "id": "7mGut9JdtxpK"
      },
      "source": [
        "## 4.1 Pero... ¿Qué tenemos que saber antes implementar *Minhash* en *PySpark*?"
      ]
    },
    {
      "cell_type": "markdown",
      "metadata": {
        "id": "XyPsAj8tHXxY"
      },
      "source": [
        "Antes de pasar al ejemplo real, revisemos algunos conceptos en *PySpark*.\n",
        "\n",
        "### 4.1.1 Vectores dispersos\n",
        "\n",
        "Los vectores dispersos pueden ayudarnos a representar matrices dispersas. Una matriz dispersa es una es una matriz donde la mayoria de sus entradas son $0$, es por esto que, para ahorrar espacio, es mas eficiente especificar, por renglon, que columnas el valor no es cero y que valor tiene. \n",
        "\n",
        "Por ejemplo, un renglon de una matriz dispersa puede ser el siguiente\n",
        "\n",
        "$$\n",
        "(1,0,0,0,0,3,0,0,2,0)\n",
        "$$\n",
        "\n",
        "Notemos que este vector puede ser definido especicando los siguientes parametros:\n",
        "\n",
        "1.   El tamano del vector: $10$\n",
        "2.   Las entradas del vector que son distintas de cero: $[0,5,8]$ (Indices desde cero porque `#python` `#computerscience`)\n",
        "3.   Los valores correspondientes a dichas entradas: $[1,3,2]$\n",
        "\n",
        "Nosotros podemos definir vectores dispersos en *PySpark* usando estos parametros de la siguiente manera"
      ]
    },
    {
      "cell_type": "code",
      "metadata": {
        "id": "jkBc5ctLS3s-",
        "colab": {
          "base_uri": "https://localhost:8080/"
        },
        "outputId": "3b9ee5da-ca92-4969-b0c9-b5980502ee77"
      },
      "source": [
        "vector = Vectors.sparse(10, [0, 5, 8], [1, 3, 2])\n",
        "vector.toArray()"
      ],
      "execution_count": 227,
      "outputs": [
        {
          "output_type": "execute_result",
          "data": {
            "text/plain": [
              "array([1., 0., 0., 0., 0., 3., 0., 0., 2., 0.])"
            ]
          },
          "metadata": {},
          "execution_count": 227
        }
      ]
    },
    {
      "cell_type": "markdown",
      "metadata": {
        "id": "7IWD1RU7H6Ya"
      },
      "source": [
        "Podemos crear un DataFrame con vectores dispersos de la siguiente manera"
      ]
    },
    {
      "cell_type": "code",
      "metadata": {
        "colab": {
          "base_uri": "https://localhost:8080/"
        },
        "id": "vbReglilTRvg",
        "outputId": "641b84cd-00bc-456c-cd18-c061e47a67bb"
      },
      "source": [
        "matriz_dispersa = [(Vectors.sparse(6, [0, 1, 2], [1.0, 1.0, 1.0]),),\n",
        "                   (Vectors.sparse(6, [2, 3, 4], [1.0, 1.0, 1.0]),),\n",
        "                   (Vectors.sparse(6, [0, 2, 4], [1.0, 1.0, 1.0]),)]\n",
        "\n",
        "matriz_dispersa = spark.createDataFrame(matriz_dispersa)\n",
        "\n",
        "matriz_dispersa.show()"
      ],
      "execution_count": 228,
      "outputs": [
        {
          "output_type": "stream",
          "name": "stdout",
          "text": [
            "+--------------------+\n|                  _1|\n+--------------------+\n|(6,[0,1,2],[1.0,1...|\n|(6,[2,3,4],[1.0,1...|\n|(6,[0,2,4],[1.0,1...|\n+--------------------+\n\n"
          ]
        }
      ]
    },
    {
      "cell_type": "markdown",
      "metadata": {
        "id": "MGi8-BjYIh2l"
      },
      "source": [
        "### 4.1.2 *CountVectorizer*\n",
        "\n",
        "*CountVectorizer* es una clase que nos ayuda a extraer el vocabulario de un conjunto de documentos y tambien nos ayuda a generar representaciones dispersas sobre el vocabulario.\n",
        "\n",
        "Por ejemplo, si tenemos los siguientes documentos\n",
        "\n",
        "$$\n",
        "\\begin{split}\n",
        "doc_0 & = abbc \\\\\n",
        "doc_1 & = bcd \\\\\n",
        "doc_2 & = ac \n",
        "\\end{split}\n",
        "$$\n",
        "\n",
        "La matriz de representacion de estos documentos es\n",
        "\n",
        "| Elemento del vocabulario | $doc_0$ | $doc_1$ |$doc_2$ |\n",
        "| --- | --- | --- | --- | \n",
        "| a | 1 | 0 | 1 | \n",
        "| b | 2 | 1 | 0 | \n",
        "| c | 1 | 1 | 0 | \n",
        "| d | 0 | 1 | 1 |\n",
        "\n",
        "La clase *CountVectorizer* nos ayuda a encontrar la matriz de representacion convertida en vectores dispersos dados los documentos\n"
      ]
    },
    {
      "cell_type": "code",
      "metadata": {
        "colab": {
          "base_uri": "https://localhost:8080/"
        },
        "id": "Hk9lV_ObLRiF",
        "outputId": "777fc73a-8002-413a-abb5-ee30af8a75a8"
      },
      "source": [
        "documentos = spark.createDataFrame([(0, 'a,b,b,c'.split(',')),\n",
        "                                    (1, 'b,c,d'.split(',')),\n",
        "                                    (2, 'a,c'.split(','))],\n",
        "                                   ['id', 'palabras'])\n",
        "\n",
        "documentos.show()"
      ],
      "execution_count": 229,
      "outputs": [
        {
          "output_type": "stream",
          "name": "stdout",
          "text": [
            "+---+------------+\n| id|    palabras|\n+---+------------+\n|  0|[a, b, b, c]|\n|  1|   [b, c, d]|\n|  2|      [a, c]|\n+---+------------+\n\n"
          ]
        }
      ]
    },
    {
      "cell_type": "code",
      "metadata": {
        "colab": {
          "base_uri": "https://localhost:8080/"
        },
        "id": "l6gksLPgMl-7",
        "outputId": "83777387-cc63-421f-b243-79b927fcba6d"
      },
      "source": [
        "cv = CountVectorizer(inputCol  = 'palabras', \n",
        "                     outputCol = 'features', \n",
        "                     vocabSize = 6, \n",
        "                     minDF     = 1)\n",
        "\n",
        "modelo = cv.fit(documentos)\n",
        "mat_rep = modelo.transform(documentos)\n",
        "\n",
        "mat_rep.show(truncate = False)"
      ],
      "execution_count": 230,
      "outputs": [
        {
          "output_type": "stream",
          "name": "stdout",
          "text": [
            "+---+------------+-------------------------+\n|id |palabras    |features                 |\n+---+------------+-------------------------+\n|0  |[a, b, b, c]|(4,[0,1,2],[1.0,2.0,1.0])|\n|1  |[b, c, d]   |(4,[0,1,3],[1.0,1.0,1.0])|\n|2  |[a, c]      |(4,[0,2],[1.0,1.0])      |\n+---+------------+-------------------------+\n\n"
          ]
        }
      ]
    },
    {
      "cell_type": "markdown",
      "metadata": {
        "id": "bldXTbPruwn3"
      },
      "source": [
        "## 4.2 Datos\n",
        "\n",
        "Los datos que usaremos son de la serie Rick y Morty. Corresponde a transcripciones de los dialogos de los personajes. La base de datos cuenta con los siguientes campos:\n",
        "\n",
        "*   Indice (Identificadore unico del renglon en la base de datos)\n",
        "*   Temporada\n",
        "*   Numero de episodio\n",
        "*   Nombre del episodio\n",
        "*   Linea de dialogo\n",
        "\n",
        "Carguemos los datos en un DataFrame de *PySpark*\n",
        "\n",
        "\n",
        "\n",
        "\n"
      ]
    },
    {
      "cell_type": "code",
      "metadata": {
        "id": "GoHdGpZcr3nX"
      },
      "source": [
        "df_rym = spark.read.csv('RickAndMortyScripts.csv', header = True, inferSchema = True)"
      ],
      "execution_count": 231,
      "outputs": []
    },
    {
      "cell_type": "markdown",
      "metadata": {
        "id": "Tn09O58_xOEh"
      },
      "source": [
        "Verifiquemos que los datos se cargaron correctamente\n",
        "\n",
        "\n"
      ]
    },
    {
      "cell_type": "code",
      "metadata": {
        "colab": {
          "base_uri": "https://localhost:8080/"
        },
        "id": "_hBQ3W07r1DW",
        "outputId": "92c53486-3d90-413e-8db8-0d95ac477966"
      },
      "source": [
        "df_rym.printSchema()"
      ],
      "execution_count": 232,
      "outputs": [
        {
          "output_type": "stream",
          "name": "stdout",
          "text": [
            "root\n |-- index: integer (nullable = true)\n |-- season no.: integer (nullable = true)\n |-- episode no.: integer (nullable = true)\n |-- episode name: string (nullable = true)\n |-- name: string (nullable = true)\n |-- line: string (nullable = true)\n\n"
          ]
        }
      ]
    },
    {
      "cell_type": "markdown",
      "metadata": {
        "id": "u1ZKCp6pyu3N"
      },
      "source": [
        "Imprimamos una muestra de los datos"
      ]
    },
    {
      "cell_type": "code",
      "metadata": {
        "colab": {
          "base_uri": "https://localhost:8080/"
        },
        "id": "y3S7OvjBsEI4",
        "outputId": "71efbcab-f1ee-4d53-f663-59d901f92abe"
      },
      "source": [
        "df_rym.show(5)"
      ],
      "execution_count": 233,
      "outputs": [
        {
          "output_type": "stream",
          "name": "stdout",
          "text": [
            "+-----+----------+-----------+------------+-----+--------------------+\n|index|season no.|episode no.|episode name| name|                line|\n+-----+----------+-----------+------------+-----+--------------------+\n|    0|         1|          1|       Pilot| Rick|Morty! You gotta ...|\n|    1|         1|          1|       Pilot|Morty|What, Rick? What’...|\n|    2|         1|          1|       Pilot| Rick|I got a surprise ...|\n|    3|         1|          1|       Pilot|Morty|It's the middle o...|\n|    4|         1|          1|       Pilot| Rick|Come on, I got a ...|\n+-----+----------+-----------+------------+-----+--------------------+\nonly showing top 5 rows\n\n"
          ]
        }
      ]
    },
    {
      "cell_type": "code",
      "metadata": {
        "colab": {
          "base_uri": "https://localhost:8080/"
        },
        "id": "kcyml1wLsHZv",
        "outputId": "906d30fb-4a13-4e54-84f8-70cb10bc644d"
      },
      "source": [
        "df_rym.printSchema()"
      ],
      "execution_count": 234,
      "outputs": [
        {
          "output_type": "stream",
          "name": "stdout",
          "text": [
            "root\n |-- index: integer (nullable = true)\n |-- season no.: integer (nullable = true)\n |-- episode no.: integer (nullable = true)\n |-- episode name: string (nullable = true)\n |-- name: string (nullable = true)\n |-- line: string (nullable = true)\n\n"
          ]
        }
      ]
    },
    {
      "cell_type": "markdown",
      "metadata": {
        "id": "1i7c7oAr36vU"
      },
      "source": [
        "Para fines del analisis que llevaremos a cabo en este notebook solo haremos uso del as columnas del nombre y el dialogo del personaje"
      ]
    },
    {
      "cell_type": "code",
      "metadata": {
        "colab": {
          "base_uri": "https://localhost:8080/"
        },
        "id": "McjnvcJs4csv",
        "outputId": "16d37b52-580d-4982-8726-584c2599c236"
      },
      "source": [
        "df_rym = df_rym.select('index', 'name', 'line')\n",
        "df_rym.show(5)"
      ],
      "execution_count": 235,
      "outputs": [
        {
          "output_type": "stream",
          "name": "stdout",
          "text": [
            "+-----+-----+--------------------+\n|index| name|                line|\n+-----+-----+--------------------+\n|    0| Rick|Morty! You gotta ...|\n|    1|Morty|What, Rick? What’...|\n|    2| Rick|I got a surprise ...|\n|    3|Morty|It's the middle o...|\n|    4| Rick|Come on, I got a ...|\n+-----+-----+--------------------+\nonly showing top 5 rows\n\n"
          ]
        }
      ]
    },
    {
      "cell_type": "markdown",
      "metadata": {
        "id": "CgZArOLo7dnk"
      },
      "source": [
        "Para hacer aun mas simple el analisis quedemonos solo con los dialogos de los personajes principales"
      ]
    },
    {
      "cell_type": "code",
      "metadata": {
        "id": "4ZmxvAuL8FoI"
      },
      "source": [
        "personajes_principales = ['Rick', 'Morty', 'Beth', 'Jerry', 'Summer']\n",
        "df_rym = df_rym.where(df_rym.name.isin(personajes_principales))"
      ],
      "execution_count": 236,
      "outputs": []
    },
    {
      "cell_type": "markdown",
      "metadata": {
        "id": "DVg1SOpq5IJh"
      },
      "source": [
        "Revisemos la distribucion de dialogos de los personajes que tienen mas dialogos"
      ]
    },
    {
      "cell_type": "code",
      "metadata": {
        "colab": {
          "base_uri": "https://localhost:8080/",
          "height": 296
        },
        "id": "KUjO8xVM4qwK",
        "outputId": "27192e5d-a6f0-410c-8df5-cc1ef511a5f2"
      },
      "source": [
        "df_dist_dialog = df_rym.groupBy('name') \\\n",
        "                       .count() \\\n",
        "                       .toPandas()\n",
        "\n",
        "sns.barplot( x    = 'name', \n",
        "             y    = 'count', \n",
        "             data = df_dist_dialog)"
      ],
      "execution_count": 237,
      "outputs": [
        {
          "output_type": "execute_result",
          "data": {
            "text/plain": [
              "<AxesSubplot:xlabel='name', ylabel='count'>"
            ]
          },
          "metadata": {},
          "execution_count": 237
        },
        {
          "output_type": "display_data",
          "data": {
            "text/plain": "<Figure size 432x288 with 1 Axes>",
            "image/svg+xml": "<?xml version=\"1.0\" encoding=\"utf-8\" standalone=\"no\"?>\n<!DOCTYPE svg PUBLIC \"-//W3C//DTD SVG 1.1//EN\"\n  \"http://www.w3.org/Graphics/SVG/1.1/DTD/svg11.dtd\">\n<!-- Created with matplotlib (https://matplotlib.org/) -->\n<svg height=\"262.19625pt\" version=\"1.1\" viewBox=\"0 0 388.965625 262.19625\" width=\"388.965625pt\" xmlns=\"http://www.w3.org/2000/svg\" xmlns:xlink=\"http://www.w3.org/1999/xlink\">\n <metadata>\n  <rdf:RDF xmlns:cc=\"http://creativecommons.org/ns#\" xmlns:dc=\"http://purl.org/dc/elements/1.1/\" xmlns:rdf=\"http://www.w3.org/1999/02/22-rdf-syntax-ns#\">\n   <cc:Work>\n    <dc:type rdf:resource=\"http://purl.org/dc/dcmitype/StillImage\"/>\n    <dc:date>2021-05-13T21:24:55.939670</dc:date>\n    <dc:format>image/svg+xml</dc:format>\n    <dc:creator>\n     <cc:Agent>\n      <dc:title>Matplotlib v3.3.2, https://matplotlib.org/</dc:title>\n     </cc:Agent>\n    </dc:creator>\n   </cc:Work>\n  </rdf:RDF>\n </metadata>\n <defs>\n  <style type=\"text/css\">*{stroke-linecap:butt;stroke-linejoin:round;}</style>\n </defs>\n <g id=\"figure_1\">\n  <g id=\"patch_1\">\n   <path d=\"M -0 262.19625 \nL 388.965625 262.19625 \nL 388.965625 0 \nL -0 0 \nz\n\" style=\"fill:none;\"/>\n  </g>\n  <g id=\"axes_1\">\n   <g id=\"patch_2\">\n    <path d=\"M 46.965625 224.64 \nL 381.765625 224.64 \nL 381.765625 7.2 \nL 46.965625 7.2 \nz\n\" style=\"fill:#ffffff;\"/>\n   </g>\n   <g id=\"patch_3\">\n    <path clip-path=\"url(#pe002fb9d75)\" d=\"M 53.661625 224.64 \nL 107.229625 224.64 \nL 107.229625 53.547755 \nL 53.661625 53.547755 \nz\n\" style=\"fill:#3274a1;\"/>\n   </g>\n   <g id=\"patch_4\">\n    <path clip-path=\"url(#pe002fb9d75)\" d=\"M 120.621625 224.64 \nL 174.189625 224.64 \nL 174.189625 159.555918 \nL 120.621625 159.555918 \nz\n\" style=\"fill:#e1812c;\"/>\n   </g>\n   <g id=\"patch_5\">\n    <path clip-path=\"url(#pe002fb9d75)\" d=\"M 187.581625 224.64 \nL 241.149625 224.64 \nL 241.149625 176.813061 \nL 187.581625 176.813061 \nz\n\" style=\"fill:#3a923a;\"/>\n   </g>\n   <g id=\"patch_6\">\n    <path clip-path=\"url(#pe002fb9d75)\" d=\"M 254.541625 224.64 \nL 308.109625 224.64 \nL 308.109625 17.554286 \nL 254.541625 17.554286 \nz\n\" style=\"fill:#c03d3e;\"/>\n   </g>\n   <g id=\"patch_7\">\n    <path clip-path=\"url(#pe002fb9d75)\" d=\"M 321.501625 224.64 \nL 375.069625 224.64 \nL 375.069625 151.666939 \nL 321.501625 151.666939 \nz\n\" style=\"fill:#9372b2;\"/>\n   </g>\n   <g id=\"matplotlib.axis_1\">\n    <g id=\"xtick_1\">\n     <g id=\"line2d_1\">\n      <defs>\n       <path d=\"M 0 0 \nL 0 3.5 \n\" id=\"m8f9744db35\" style=\"stroke:#000000;stroke-width:0.8;\"/>\n      </defs>\n      <g>\n       <use style=\"stroke:#000000;stroke-width:0.8;\" x=\"80.445625\" xlink:href=\"#m8f9744db35\" y=\"224.64\"/>\n      </g>\n     </g>\n     <g id=\"text_1\">\n      <!-- Morty -->\n      <g transform=\"translate(66.097188 239.238438)scale(0.1 -0.1)\">\n       <defs>\n        <path d=\"M 9.8125 72.90625 \nL 24.515625 72.90625 \nL 43.109375 23.296875 \nL 61.8125 72.90625 \nL 76.515625 72.90625 \nL 76.515625 0 \nL 66.890625 0 \nL 66.890625 64.015625 \nL 48.09375 14.015625 \nL 38.1875 14.015625 \nL 19.390625 64.015625 \nL 19.390625 0 \nL 9.8125 0 \nz\n\" id=\"DejaVuSans-77\"/>\n        <path d=\"M 30.609375 48.390625 \nQ 23.390625 48.390625 19.1875 42.75 \nQ 14.984375 37.109375 14.984375 27.296875 \nQ 14.984375 17.484375 19.15625 11.84375 \nQ 23.34375 6.203125 30.609375 6.203125 \nQ 37.796875 6.203125 41.984375 11.859375 \nQ 46.1875 17.53125 46.1875 27.296875 \nQ 46.1875 37.015625 41.984375 42.703125 \nQ 37.796875 48.390625 30.609375 48.390625 \nz\nM 30.609375 56 \nQ 42.328125 56 49.015625 48.375 \nQ 55.71875 40.765625 55.71875 27.296875 \nQ 55.71875 13.875 49.015625 6.21875 \nQ 42.328125 -1.421875 30.609375 -1.421875 \nQ 18.84375 -1.421875 12.171875 6.21875 \nQ 5.515625 13.875 5.515625 27.296875 \nQ 5.515625 40.765625 12.171875 48.375 \nQ 18.84375 56 30.609375 56 \nz\n\" id=\"DejaVuSans-111\"/>\n        <path d=\"M 41.109375 46.296875 \nQ 39.59375 47.171875 37.8125 47.578125 \nQ 36.03125 48 33.890625 48 \nQ 26.265625 48 22.1875 43.046875 \nQ 18.109375 38.09375 18.109375 28.8125 \nL 18.109375 0 \nL 9.078125 0 \nL 9.078125 54.6875 \nL 18.109375 54.6875 \nL 18.109375 46.1875 \nQ 20.953125 51.171875 25.484375 53.578125 \nQ 30.03125 56 36.53125 56 \nQ 37.453125 56 38.578125 55.875 \nQ 39.703125 55.765625 41.0625 55.515625 \nz\n\" id=\"DejaVuSans-114\"/>\n        <path d=\"M 18.3125 70.21875 \nL 18.3125 54.6875 \nL 36.8125 54.6875 \nL 36.8125 47.703125 \nL 18.3125 47.703125 \nL 18.3125 18.015625 \nQ 18.3125 11.328125 20.140625 9.421875 \nQ 21.96875 7.515625 27.59375 7.515625 \nL 36.8125 7.515625 \nL 36.8125 0 \nL 27.59375 0 \nQ 17.1875 0 13.234375 3.875 \nQ 9.28125 7.765625 9.28125 18.015625 \nL 9.28125 47.703125 \nL 2.6875 47.703125 \nL 2.6875 54.6875 \nL 9.28125 54.6875 \nL 9.28125 70.21875 \nz\n\" id=\"DejaVuSans-116\"/>\n        <path d=\"M 32.171875 -5.078125 \nQ 28.375 -14.84375 24.75 -17.8125 \nQ 21.140625 -20.796875 15.09375 -20.796875 \nL 7.90625 -20.796875 \nL 7.90625 -13.28125 \nL 13.1875 -13.28125 \nQ 16.890625 -13.28125 18.9375 -11.515625 \nQ 21 -9.765625 23.484375 -3.21875 \nL 25.09375 0.875 \nL 2.984375 54.6875 \nL 12.5 54.6875 \nL 29.59375 11.921875 \nL 46.6875 54.6875 \nL 56.203125 54.6875 \nz\n\" id=\"DejaVuSans-121\"/>\n       </defs>\n       <use xlink:href=\"#DejaVuSans-77\"/>\n       <use x=\"86.279297\" xlink:href=\"#DejaVuSans-111\"/>\n       <use x=\"147.460938\" xlink:href=\"#DejaVuSans-114\"/>\n       <use x=\"188.574219\" xlink:href=\"#DejaVuSans-116\"/>\n       <use x=\"227.783203\" xlink:href=\"#DejaVuSans-121\"/>\n      </g>\n     </g>\n    </g>\n    <g id=\"xtick_2\">\n     <g id=\"line2d_2\">\n      <g>\n       <use style=\"stroke:#000000;stroke-width:0.8;\" x=\"147.405625\" xlink:href=\"#m8f9744db35\" y=\"224.64\"/>\n      </g>\n     </g>\n     <g id=\"text_2\">\n      <!-- Jerry -->\n      <g transform=\"translate(135.87125 239.238438)scale(0.1 -0.1)\">\n       <defs>\n        <path d=\"M 9.8125 72.90625 \nL 19.671875 72.90625 \nL 19.671875 5.078125 \nQ 19.671875 -8.109375 14.671875 -14.0625 \nQ 9.671875 -20.015625 -1.421875 -20.015625 \nL -5.171875 -20.015625 \nL -5.171875 -11.71875 \nL -2.09375 -11.71875 \nQ 4.4375 -11.71875 7.125 -8.046875 \nQ 9.8125 -4.390625 9.8125 5.078125 \nz\n\" id=\"DejaVuSans-74\"/>\n        <path d=\"M 56.203125 29.59375 \nL 56.203125 25.203125 \nL 14.890625 25.203125 \nQ 15.484375 15.921875 20.484375 11.0625 \nQ 25.484375 6.203125 34.421875 6.203125 \nQ 39.59375 6.203125 44.453125 7.46875 \nQ 49.3125 8.734375 54.109375 11.28125 \nL 54.109375 2.78125 \nQ 49.265625 0.734375 44.1875 -0.34375 \nQ 39.109375 -1.421875 33.890625 -1.421875 \nQ 20.796875 -1.421875 13.15625 6.1875 \nQ 5.515625 13.8125 5.515625 26.8125 \nQ 5.515625 40.234375 12.765625 48.109375 \nQ 20.015625 56 32.328125 56 \nQ 43.359375 56 49.78125 48.890625 \nQ 56.203125 41.796875 56.203125 29.59375 \nz\nM 47.21875 32.234375 \nQ 47.125 39.59375 43.09375 43.984375 \nQ 39.0625 48.390625 32.421875 48.390625 \nQ 24.90625 48.390625 20.390625 44.140625 \nQ 15.875 39.890625 15.1875 32.171875 \nz\n\" id=\"DejaVuSans-101\"/>\n       </defs>\n       <use xlink:href=\"#DejaVuSans-74\"/>\n       <use x=\"29.492188\" xlink:href=\"#DejaVuSans-101\"/>\n       <use x=\"91.015625\" xlink:href=\"#DejaVuSans-114\"/>\n       <use x=\"130.378906\" xlink:href=\"#DejaVuSans-114\"/>\n       <use x=\"171.492188\" xlink:href=\"#DejaVuSans-121\"/>\n      </g>\n     </g>\n    </g>\n    <g id=\"xtick_3\">\n     <g id=\"line2d_3\">\n      <g>\n       <use style=\"stroke:#000000;stroke-width:0.8;\" x=\"214.365625\" xlink:href=\"#m8f9744db35\" y=\"224.64\"/>\n      </g>\n     </g>\n     <g id=\"text_3\">\n      <!-- Summer -->\n      <g transform=\"translate(193.15 239.238438)scale(0.1 -0.1)\">\n       <defs>\n        <path d=\"M 53.515625 70.515625 \nL 53.515625 60.890625 \nQ 47.90625 63.578125 42.921875 64.890625 \nQ 37.9375 66.21875 33.296875 66.21875 \nQ 25.25 66.21875 20.875 63.09375 \nQ 16.5 59.96875 16.5 54.203125 \nQ 16.5 49.359375 19.40625 46.890625 \nQ 22.3125 44.4375 30.421875 42.921875 \nL 36.375 41.703125 \nQ 47.40625 39.59375 52.65625 34.296875 \nQ 57.90625 29 57.90625 20.125 \nQ 57.90625 9.515625 50.796875 4.046875 \nQ 43.703125 -1.421875 29.984375 -1.421875 \nQ 24.8125 -1.421875 18.96875 -0.25 \nQ 13.140625 0.921875 6.890625 3.21875 \nL 6.890625 13.375 \nQ 12.890625 10.015625 18.65625 8.296875 \nQ 24.421875 6.59375 29.984375 6.59375 \nQ 38.421875 6.59375 43.015625 9.90625 \nQ 47.609375 13.234375 47.609375 19.390625 \nQ 47.609375 24.75 44.3125 27.78125 \nQ 41.015625 30.8125 33.5 32.328125 \nL 27.484375 33.5 \nQ 16.453125 35.6875 11.515625 40.375 \nQ 6.59375 45.0625 6.59375 53.421875 \nQ 6.59375 63.09375 13.40625 68.65625 \nQ 20.21875 74.21875 32.171875 74.21875 \nQ 37.3125 74.21875 42.625 73.28125 \nQ 47.953125 72.359375 53.515625 70.515625 \nz\n\" id=\"DejaVuSans-83\"/>\n        <path d=\"M 8.5 21.578125 \nL 8.5 54.6875 \nL 17.484375 54.6875 \nL 17.484375 21.921875 \nQ 17.484375 14.15625 20.5 10.265625 \nQ 23.53125 6.390625 29.59375 6.390625 \nQ 36.859375 6.390625 41.078125 11.03125 \nQ 45.3125 15.671875 45.3125 23.6875 \nL 45.3125 54.6875 \nL 54.296875 54.6875 \nL 54.296875 0 \nL 45.3125 0 \nL 45.3125 8.40625 \nQ 42.046875 3.421875 37.71875 1 \nQ 33.40625 -1.421875 27.6875 -1.421875 \nQ 18.265625 -1.421875 13.375 4.4375 \nQ 8.5 10.296875 8.5 21.578125 \nz\nM 31.109375 56 \nz\n\" id=\"DejaVuSans-117\"/>\n        <path d=\"M 52 44.1875 \nQ 55.375 50.25 60.0625 53.125 \nQ 64.75 56 71.09375 56 \nQ 79.640625 56 84.28125 50.015625 \nQ 88.921875 44.046875 88.921875 33.015625 \nL 88.921875 0 \nL 79.890625 0 \nL 79.890625 32.71875 \nQ 79.890625 40.578125 77.09375 44.375 \nQ 74.3125 48.1875 68.609375 48.1875 \nQ 61.625 48.1875 57.5625 43.546875 \nQ 53.515625 38.921875 53.515625 30.90625 \nL 53.515625 0 \nL 44.484375 0 \nL 44.484375 32.71875 \nQ 44.484375 40.625 41.703125 44.40625 \nQ 38.921875 48.1875 33.109375 48.1875 \nQ 26.21875 48.1875 22.15625 43.53125 \nQ 18.109375 38.875 18.109375 30.90625 \nL 18.109375 0 \nL 9.078125 0 \nL 9.078125 54.6875 \nL 18.109375 54.6875 \nL 18.109375 46.1875 \nQ 21.1875 51.21875 25.484375 53.609375 \nQ 29.78125 56 35.6875 56 \nQ 41.65625 56 45.828125 52.96875 \nQ 50 49.953125 52 44.1875 \nz\n\" id=\"DejaVuSans-109\"/>\n       </defs>\n       <use xlink:href=\"#DejaVuSans-83\"/>\n       <use x=\"63.476562\" xlink:href=\"#DejaVuSans-117\"/>\n       <use x=\"126.855469\" xlink:href=\"#DejaVuSans-109\"/>\n       <use x=\"224.267578\" xlink:href=\"#DejaVuSans-109\"/>\n       <use x=\"321.679688\" xlink:href=\"#DejaVuSans-101\"/>\n       <use x=\"383.203125\" xlink:href=\"#DejaVuSans-114\"/>\n      </g>\n     </g>\n    </g>\n    <g id=\"xtick_4\">\n     <g id=\"line2d_4\">\n      <g>\n       <use style=\"stroke:#000000;stroke-width:0.8;\" x=\"281.325625\" xlink:href=\"#m8f9744db35\" y=\"224.64\"/>\n      </g>\n     </g>\n     <g id=\"text_4\">\n      <!-- Rick -->\n      <g transform=\"translate(270.817813 239.238438)scale(0.1 -0.1)\">\n       <defs>\n        <path d=\"M 44.390625 34.1875 \nQ 47.5625 33.109375 50.5625 29.59375 \nQ 53.5625 26.078125 56.59375 19.921875 \nL 66.609375 0 \nL 56 0 \nL 46.6875 18.703125 \nQ 43.0625 26.03125 39.671875 28.421875 \nQ 36.28125 30.8125 30.421875 30.8125 \nL 19.671875 30.8125 \nL 19.671875 0 \nL 9.8125 0 \nL 9.8125 72.90625 \nL 32.078125 72.90625 \nQ 44.578125 72.90625 50.734375 67.671875 \nQ 56.890625 62.453125 56.890625 51.90625 \nQ 56.890625 45.015625 53.6875 40.46875 \nQ 50.484375 35.9375 44.390625 34.1875 \nz\nM 19.671875 64.796875 \nL 19.671875 38.921875 \nL 32.078125 38.921875 \nQ 39.203125 38.921875 42.84375 42.21875 \nQ 46.484375 45.515625 46.484375 51.90625 \nQ 46.484375 58.296875 42.84375 61.546875 \nQ 39.203125 64.796875 32.078125 64.796875 \nz\n\" id=\"DejaVuSans-82\"/>\n        <path d=\"M 9.421875 54.6875 \nL 18.40625 54.6875 \nL 18.40625 0 \nL 9.421875 0 \nz\nM 9.421875 75.984375 \nL 18.40625 75.984375 \nL 18.40625 64.59375 \nL 9.421875 64.59375 \nz\n\" id=\"DejaVuSans-105\"/>\n        <path d=\"M 48.78125 52.59375 \nL 48.78125 44.1875 \nQ 44.96875 46.296875 41.140625 47.34375 \nQ 37.3125 48.390625 33.40625 48.390625 \nQ 24.65625 48.390625 19.8125 42.84375 \nQ 14.984375 37.3125 14.984375 27.296875 \nQ 14.984375 17.28125 19.8125 11.734375 \nQ 24.65625 6.203125 33.40625 6.203125 \nQ 37.3125 6.203125 41.140625 7.25 \nQ 44.96875 8.296875 48.78125 10.40625 \nL 48.78125 2.09375 \nQ 45.015625 0.34375 40.984375 -0.53125 \nQ 36.96875 -1.421875 32.421875 -1.421875 \nQ 20.0625 -1.421875 12.78125 6.34375 \nQ 5.515625 14.109375 5.515625 27.296875 \nQ 5.515625 40.671875 12.859375 48.328125 \nQ 20.21875 56 33.015625 56 \nQ 37.15625 56 41.109375 55.140625 \nQ 45.0625 54.296875 48.78125 52.59375 \nz\n\" id=\"DejaVuSans-99\"/>\n        <path d=\"M 9.078125 75.984375 \nL 18.109375 75.984375 \nL 18.109375 31.109375 \nL 44.921875 54.6875 \nL 56.390625 54.6875 \nL 27.390625 29.109375 \nL 57.625 0 \nL 45.90625 0 \nL 18.109375 26.703125 \nL 18.109375 0 \nL 9.078125 0 \nz\n\" id=\"DejaVuSans-107\"/>\n       </defs>\n       <use xlink:href=\"#DejaVuSans-82\"/>\n       <use x=\"69.482422\" xlink:href=\"#DejaVuSans-105\"/>\n       <use x=\"97.265625\" xlink:href=\"#DejaVuSans-99\"/>\n       <use x=\"152.246094\" xlink:href=\"#DejaVuSans-107\"/>\n      </g>\n     </g>\n    </g>\n    <g id=\"xtick_5\">\n     <g id=\"line2d_5\">\n      <g>\n       <use style=\"stroke:#000000;stroke-width:0.8;\" x=\"348.285625\" xlink:href=\"#m8f9744db35\" y=\"224.64\"/>\n      </g>\n     </g>\n     <g id=\"text_5\">\n      <!-- Beth -->\n      <g transform=\"translate(336.649688 239.238438)scale(0.1 -0.1)\">\n       <defs>\n        <path d=\"M 19.671875 34.8125 \nL 19.671875 8.109375 \nL 35.5 8.109375 \nQ 43.453125 8.109375 47.28125 11.40625 \nQ 51.125 14.703125 51.125 21.484375 \nQ 51.125 28.328125 47.28125 31.5625 \nQ 43.453125 34.8125 35.5 34.8125 \nz\nM 19.671875 64.796875 \nL 19.671875 42.828125 \nL 34.28125 42.828125 \nQ 41.5 42.828125 45.03125 45.53125 \nQ 48.578125 48.25 48.578125 53.8125 \nQ 48.578125 59.328125 45.03125 62.0625 \nQ 41.5 64.796875 34.28125 64.796875 \nz\nM 9.8125 72.90625 \nL 35.015625 72.90625 \nQ 46.296875 72.90625 52.390625 68.21875 \nQ 58.5 63.53125 58.5 54.890625 \nQ 58.5 48.1875 55.375 44.234375 \nQ 52.25 40.28125 46.1875 39.3125 \nQ 53.46875 37.75 57.5 32.78125 \nQ 61.53125 27.828125 61.53125 20.40625 \nQ 61.53125 10.640625 54.890625 5.3125 \nQ 48.25 0 35.984375 0 \nL 9.8125 0 \nz\n\" id=\"DejaVuSans-66\"/>\n        <path d=\"M 54.890625 33.015625 \nL 54.890625 0 \nL 45.90625 0 \nL 45.90625 32.71875 \nQ 45.90625 40.484375 42.875 44.328125 \nQ 39.84375 48.1875 33.796875 48.1875 \nQ 26.515625 48.1875 22.3125 43.546875 \nQ 18.109375 38.921875 18.109375 30.90625 \nL 18.109375 0 \nL 9.078125 0 \nL 9.078125 75.984375 \nL 18.109375 75.984375 \nL 18.109375 46.1875 \nQ 21.34375 51.125 25.703125 53.5625 \nQ 30.078125 56 35.796875 56 \nQ 45.21875 56 50.046875 50.171875 \nQ 54.890625 44.34375 54.890625 33.015625 \nz\n\" id=\"DejaVuSans-104\"/>\n       </defs>\n       <use xlink:href=\"#DejaVuSans-66\"/>\n       <use x=\"68.603516\" xlink:href=\"#DejaVuSans-101\"/>\n       <use x=\"130.126953\" xlink:href=\"#DejaVuSans-116\"/>\n       <use x=\"169.335938\" xlink:href=\"#DejaVuSans-104\"/>\n      </g>\n     </g>\n    </g>\n    <g id=\"text_6\">\n     <!-- name -->\n     <g transform=\"translate(200.185938 252.916563)scale(0.1 -0.1)\">\n      <defs>\n       <path d=\"M 54.890625 33.015625 \nL 54.890625 0 \nL 45.90625 0 \nL 45.90625 32.71875 \nQ 45.90625 40.484375 42.875 44.328125 \nQ 39.84375 48.1875 33.796875 48.1875 \nQ 26.515625 48.1875 22.3125 43.546875 \nQ 18.109375 38.921875 18.109375 30.90625 \nL 18.109375 0 \nL 9.078125 0 \nL 9.078125 54.6875 \nL 18.109375 54.6875 \nL 18.109375 46.1875 \nQ 21.34375 51.125 25.703125 53.5625 \nQ 30.078125 56 35.796875 56 \nQ 45.21875 56 50.046875 50.171875 \nQ 54.890625 44.34375 54.890625 33.015625 \nz\n\" id=\"DejaVuSans-110\"/>\n       <path d=\"M 34.28125 27.484375 \nQ 23.390625 27.484375 19.1875 25 \nQ 14.984375 22.515625 14.984375 16.5 \nQ 14.984375 11.71875 18.140625 8.90625 \nQ 21.296875 6.109375 26.703125 6.109375 \nQ 34.1875 6.109375 38.703125 11.40625 \nQ 43.21875 16.703125 43.21875 25.484375 \nL 43.21875 27.484375 \nz\nM 52.203125 31.203125 \nL 52.203125 0 \nL 43.21875 0 \nL 43.21875 8.296875 \nQ 40.140625 3.328125 35.546875 0.953125 \nQ 30.953125 -1.421875 24.3125 -1.421875 \nQ 15.921875 -1.421875 10.953125 3.296875 \nQ 6 8.015625 6 15.921875 \nQ 6 25.140625 12.171875 29.828125 \nQ 18.359375 34.515625 30.609375 34.515625 \nL 43.21875 34.515625 \nL 43.21875 35.40625 \nQ 43.21875 41.609375 39.140625 45 \nQ 35.0625 48.390625 27.6875 48.390625 \nQ 23 48.390625 18.546875 47.265625 \nQ 14.109375 46.140625 10.015625 43.890625 \nL 10.015625 52.203125 \nQ 14.9375 54.109375 19.578125 55.046875 \nQ 24.21875 56 28.609375 56 \nQ 40.484375 56 46.34375 49.84375 \nQ 52.203125 43.703125 52.203125 31.203125 \nz\n\" id=\"DejaVuSans-97\"/>\n      </defs>\n      <use xlink:href=\"#DejaVuSans-110\"/>\n      <use x=\"63.378906\" xlink:href=\"#DejaVuSans-97\"/>\n      <use x=\"124.658203\" xlink:href=\"#DejaVuSans-109\"/>\n      <use x=\"222.070312\" xlink:href=\"#DejaVuSans-101\"/>\n     </g>\n    </g>\n   </g>\n   <g id=\"matplotlib.axis_2\">\n    <g id=\"ytick_1\">\n     <g id=\"line2d_6\">\n      <defs>\n       <path d=\"M 0 0 \nL -3.5 0 \n\" id=\"m96df22d0e8\" style=\"stroke:#000000;stroke-width:0.8;\"/>\n      </defs>\n      <g>\n       <use style=\"stroke:#000000;stroke-width:0.8;\" x=\"46.965625\" xlink:href=\"#m96df22d0e8\" y=\"224.64\"/>\n      </g>\n     </g>\n     <g id=\"text_7\">\n      <!-- 0 -->\n      <g transform=\"translate(33.603125 228.439219)scale(0.1 -0.1)\">\n       <defs>\n        <path d=\"M 31.78125 66.40625 \nQ 24.171875 66.40625 20.328125 58.90625 \nQ 16.5 51.421875 16.5 36.375 \nQ 16.5 21.390625 20.328125 13.890625 \nQ 24.171875 6.390625 31.78125 6.390625 \nQ 39.453125 6.390625 43.28125 13.890625 \nQ 47.125 21.390625 47.125 36.375 \nQ 47.125 51.421875 43.28125 58.90625 \nQ 39.453125 66.40625 31.78125 66.40625 \nz\nM 31.78125 74.21875 \nQ 44.046875 74.21875 50.515625 64.515625 \nQ 56.984375 54.828125 56.984375 36.375 \nQ 56.984375 17.96875 50.515625 8.265625 \nQ 44.046875 -1.421875 31.78125 -1.421875 \nQ 19.53125 -1.421875 13.0625 8.265625 \nQ 6.59375 17.96875 6.59375 36.375 \nQ 6.59375 54.828125 13.0625 64.515625 \nQ 19.53125 74.21875 31.78125 74.21875 \nz\n\" id=\"DejaVuSans-48\"/>\n       </defs>\n       <use xlink:href=\"#DejaVuSans-48\"/>\n      </g>\n     </g>\n    </g>\n    <g id=\"ytick_2\">\n     <g id=\"line2d_7\">\n      <g>\n       <use style=\"stroke:#000000;stroke-width:0.8;\" x=\"46.965625\" xlink:href=\"#m96df22d0e8\" y=\"199.986939\"/>\n      </g>\n     </g>\n     <g id=\"text_8\">\n      <!-- 50 -->\n      <g transform=\"translate(27.240625 203.786158)scale(0.1 -0.1)\">\n       <defs>\n        <path d=\"M 10.796875 72.90625 \nL 49.515625 72.90625 \nL 49.515625 64.59375 \nL 19.828125 64.59375 \nL 19.828125 46.734375 \nQ 21.96875 47.46875 24.109375 47.828125 \nQ 26.265625 48.1875 28.421875 48.1875 \nQ 40.625 48.1875 47.75 41.5 \nQ 54.890625 34.8125 54.890625 23.390625 \nQ 54.890625 11.625 47.5625 5.09375 \nQ 40.234375 -1.421875 26.90625 -1.421875 \nQ 22.3125 -1.421875 17.546875 -0.640625 \nQ 12.796875 0.140625 7.71875 1.703125 \nL 7.71875 11.625 \nQ 12.109375 9.234375 16.796875 8.0625 \nQ 21.484375 6.890625 26.703125 6.890625 \nQ 35.15625 6.890625 40.078125 11.328125 \nQ 45.015625 15.765625 45.015625 23.390625 \nQ 45.015625 31 40.078125 35.4375 \nQ 35.15625 39.890625 26.703125 39.890625 \nQ 22.75 39.890625 18.8125 39.015625 \nQ 14.890625 38.140625 10.796875 36.28125 \nz\n\" id=\"DejaVuSans-53\"/>\n       </defs>\n       <use xlink:href=\"#DejaVuSans-53\"/>\n       <use x=\"63.623047\" xlink:href=\"#DejaVuSans-48\"/>\n      </g>\n     </g>\n    </g>\n    <g id=\"ytick_3\">\n     <g id=\"line2d_8\">\n      <g>\n       <use style=\"stroke:#000000;stroke-width:0.8;\" x=\"46.965625\" xlink:href=\"#m96df22d0e8\" y=\"175.333878\"/>\n      </g>\n     </g>\n     <g id=\"text_9\">\n      <!-- 100 -->\n      <g transform=\"translate(20.878125 179.133096)scale(0.1 -0.1)\">\n       <defs>\n        <path d=\"M 12.40625 8.296875 \nL 28.515625 8.296875 \nL 28.515625 63.921875 \nL 10.984375 60.40625 \nL 10.984375 69.390625 \nL 28.421875 72.90625 \nL 38.28125 72.90625 \nL 38.28125 8.296875 \nL 54.390625 8.296875 \nL 54.390625 0 \nL 12.40625 0 \nz\n\" id=\"DejaVuSans-49\"/>\n       </defs>\n       <use xlink:href=\"#DejaVuSans-49\"/>\n       <use x=\"63.623047\" xlink:href=\"#DejaVuSans-48\"/>\n       <use x=\"127.246094\" xlink:href=\"#DejaVuSans-48\"/>\n      </g>\n     </g>\n    </g>\n    <g id=\"ytick_4\">\n     <g id=\"line2d_9\">\n      <g>\n       <use style=\"stroke:#000000;stroke-width:0.8;\" x=\"46.965625\" xlink:href=\"#m96df22d0e8\" y=\"150.680816\"/>\n      </g>\n     </g>\n     <g id=\"text_10\">\n      <!-- 150 -->\n      <g transform=\"translate(20.878125 154.480035)scale(0.1 -0.1)\">\n       <use xlink:href=\"#DejaVuSans-49\"/>\n       <use x=\"63.623047\" xlink:href=\"#DejaVuSans-53\"/>\n       <use x=\"127.246094\" xlink:href=\"#DejaVuSans-48\"/>\n      </g>\n     </g>\n    </g>\n    <g id=\"ytick_5\">\n     <g id=\"line2d_10\">\n      <g>\n       <use style=\"stroke:#000000;stroke-width:0.8;\" x=\"46.965625\" xlink:href=\"#m96df22d0e8\" y=\"126.027755\"/>\n      </g>\n     </g>\n     <g id=\"text_11\">\n      <!-- 200 -->\n      <g transform=\"translate(20.878125 129.826974)scale(0.1 -0.1)\">\n       <defs>\n        <path d=\"M 19.1875 8.296875 \nL 53.609375 8.296875 \nL 53.609375 0 \nL 7.328125 0 \nL 7.328125 8.296875 \nQ 12.9375 14.109375 22.625 23.890625 \nQ 32.328125 33.6875 34.8125 36.53125 \nQ 39.546875 41.84375 41.421875 45.53125 \nQ 43.3125 49.21875 43.3125 52.78125 \nQ 43.3125 58.59375 39.234375 62.25 \nQ 35.15625 65.921875 28.609375 65.921875 \nQ 23.96875 65.921875 18.8125 64.3125 \nQ 13.671875 62.703125 7.8125 59.421875 \nL 7.8125 69.390625 \nQ 13.765625 71.78125 18.9375 73 \nQ 24.125 74.21875 28.421875 74.21875 \nQ 39.75 74.21875 46.484375 68.546875 \nQ 53.21875 62.890625 53.21875 53.421875 \nQ 53.21875 48.921875 51.53125 44.890625 \nQ 49.859375 40.875 45.40625 35.40625 \nQ 44.1875 33.984375 37.640625 27.21875 \nQ 31.109375 20.453125 19.1875 8.296875 \nz\n\" id=\"DejaVuSans-50\"/>\n       </defs>\n       <use xlink:href=\"#DejaVuSans-50\"/>\n       <use x=\"63.623047\" xlink:href=\"#DejaVuSans-48\"/>\n       <use x=\"127.246094\" xlink:href=\"#DejaVuSans-48\"/>\n      </g>\n     </g>\n    </g>\n    <g id=\"ytick_6\">\n     <g id=\"line2d_11\">\n      <g>\n       <use style=\"stroke:#000000;stroke-width:0.8;\" x=\"46.965625\" xlink:href=\"#m96df22d0e8\" y=\"101.374694\"/>\n      </g>\n     </g>\n     <g id=\"text_12\">\n      <!-- 250 -->\n      <g transform=\"translate(20.878125 105.173913)scale(0.1 -0.1)\">\n       <use xlink:href=\"#DejaVuSans-50\"/>\n       <use x=\"63.623047\" xlink:href=\"#DejaVuSans-53\"/>\n       <use x=\"127.246094\" xlink:href=\"#DejaVuSans-48\"/>\n      </g>\n     </g>\n    </g>\n    <g id=\"ytick_7\">\n     <g id=\"line2d_12\">\n      <g>\n       <use style=\"stroke:#000000;stroke-width:0.8;\" x=\"46.965625\" xlink:href=\"#m96df22d0e8\" y=\"76.721633\"/>\n      </g>\n     </g>\n     <g id=\"text_13\">\n      <!-- 300 -->\n      <g transform=\"translate(20.878125 80.520851)scale(0.1 -0.1)\">\n       <defs>\n        <path d=\"M 40.578125 39.3125 \nQ 47.65625 37.796875 51.625 33 \nQ 55.609375 28.21875 55.609375 21.1875 \nQ 55.609375 10.40625 48.1875 4.484375 \nQ 40.765625 -1.421875 27.09375 -1.421875 \nQ 22.515625 -1.421875 17.65625 -0.515625 \nQ 12.796875 0.390625 7.625 2.203125 \nL 7.625 11.71875 \nQ 11.71875 9.328125 16.59375 8.109375 \nQ 21.484375 6.890625 26.8125 6.890625 \nQ 36.078125 6.890625 40.9375 10.546875 \nQ 45.796875 14.203125 45.796875 21.1875 \nQ 45.796875 27.640625 41.28125 31.265625 \nQ 36.765625 34.90625 28.71875 34.90625 \nL 20.21875 34.90625 \nL 20.21875 43.015625 \nL 29.109375 43.015625 \nQ 36.375 43.015625 40.234375 45.921875 \nQ 44.09375 48.828125 44.09375 54.296875 \nQ 44.09375 59.90625 40.109375 62.90625 \nQ 36.140625 65.921875 28.71875 65.921875 \nQ 24.65625 65.921875 20.015625 65.03125 \nQ 15.375 64.15625 9.8125 62.3125 \nL 9.8125 71.09375 \nQ 15.4375 72.65625 20.34375 73.4375 \nQ 25.25 74.21875 29.59375 74.21875 \nQ 40.828125 74.21875 47.359375 69.109375 \nQ 53.90625 64.015625 53.90625 55.328125 \nQ 53.90625 49.265625 50.4375 45.09375 \nQ 46.96875 40.921875 40.578125 39.3125 \nz\n\" id=\"DejaVuSans-51\"/>\n       </defs>\n       <use xlink:href=\"#DejaVuSans-51\"/>\n       <use x=\"63.623047\" xlink:href=\"#DejaVuSans-48\"/>\n       <use x=\"127.246094\" xlink:href=\"#DejaVuSans-48\"/>\n      </g>\n     </g>\n    </g>\n    <g id=\"ytick_8\">\n     <g id=\"line2d_13\">\n      <g>\n       <use style=\"stroke:#000000;stroke-width:0.8;\" x=\"46.965625\" xlink:href=\"#m96df22d0e8\" y=\"52.068571\"/>\n      </g>\n     </g>\n     <g id=\"text_14\">\n      <!-- 350 -->\n      <g transform=\"translate(20.878125 55.86779)scale(0.1 -0.1)\">\n       <use xlink:href=\"#DejaVuSans-51\"/>\n       <use x=\"63.623047\" xlink:href=\"#DejaVuSans-53\"/>\n       <use x=\"127.246094\" xlink:href=\"#DejaVuSans-48\"/>\n      </g>\n     </g>\n    </g>\n    <g id=\"ytick_9\">\n     <g id=\"line2d_14\">\n      <g>\n       <use style=\"stroke:#000000;stroke-width:0.8;\" x=\"46.965625\" xlink:href=\"#m96df22d0e8\" y=\"27.41551\"/>\n      </g>\n     </g>\n     <g id=\"text_15\">\n      <!-- 400 -->\n      <g transform=\"translate(20.878125 31.214729)scale(0.1 -0.1)\">\n       <defs>\n        <path d=\"M 37.796875 64.3125 \nL 12.890625 25.390625 \nL 37.796875 25.390625 \nz\nM 35.203125 72.90625 \nL 47.609375 72.90625 \nL 47.609375 25.390625 \nL 58.015625 25.390625 \nL 58.015625 17.1875 \nL 47.609375 17.1875 \nL 47.609375 0 \nL 37.796875 0 \nL 37.796875 17.1875 \nL 4.890625 17.1875 \nL 4.890625 26.703125 \nz\n\" id=\"DejaVuSans-52\"/>\n       </defs>\n       <use xlink:href=\"#DejaVuSans-52\"/>\n       <use x=\"63.623047\" xlink:href=\"#DejaVuSans-48\"/>\n       <use x=\"127.246094\" xlink:href=\"#DejaVuSans-48\"/>\n      </g>\n     </g>\n    </g>\n    <g id=\"text_16\">\n     <!-- count -->\n     <g transform=\"translate(14.798438 130.02625)rotate(-90)scale(0.1 -0.1)\">\n      <use xlink:href=\"#DejaVuSans-99\"/>\n      <use x=\"54.980469\" xlink:href=\"#DejaVuSans-111\"/>\n      <use x=\"116.162109\" xlink:href=\"#DejaVuSans-117\"/>\n      <use x=\"179.541016\" xlink:href=\"#DejaVuSans-110\"/>\n      <use x=\"242.919922\" xlink:href=\"#DejaVuSans-116\"/>\n     </g>\n    </g>\n   </g>\n   <g id=\"line2d_15\">\n    <path clip-path=\"url(#pe002fb9d75)\" d=\"M 0 0 \n\" style=\"fill:none;stroke:#424242;stroke-linecap:square;stroke-width:2.7;\"/>\n   </g>\n   <g id=\"line2d_16\">\n    <path clip-path=\"url(#pe002fb9d75)\" d=\"M 0 0 \n\" style=\"fill:none;stroke:#424242;stroke-linecap:square;stroke-width:2.7;\"/>\n   </g>\n   <g id=\"line2d_17\">\n    <path clip-path=\"url(#pe002fb9d75)\" d=\"M 0 0 \n\" style=\"fill:none;stroke:#424242;stroke-linecap:square;stroke-width:2.7;\"/>\n   </g>\n   <g id=\"line2d_18\">\n    <path clip-path=\"url(#pe002fb9d75)\" d=\"M 0 0 \n\" style=\"fill:none;stroke:#424242;stroke-linecap:square;stroke-width:2.7;\"/>\n   </g>\n   <g id=\"line2d_19\">\n    <path clip-path=\"url(#pe002fb9d75)\" d=\"M 0 0 \n\" style=\"fill:none;stroke:#424242;stroke-linecap:square;stroke-width:2.7;\"/>\n   </g>\n   <g id=\"patch_8\">\n    <path d=\"M 46.965625 224.64 \nL 46.965625 7.2 \n\" style=\"fill:none;stroke:#000000;stroke-linecap:square;stroke-linejoin:miter;stroke-width:0.8;\"/>\n   </g>\n   <g id=\"patch_9\">\n    <path d=\"M 381.765625 224.64 \nL 381.765625 7.2 \n\" style=\"fill:none;stroke:#000000;stroke-linecap:square;stroke-linejoin:miter;stroke-width:0.8;\"/>\n   </g>\n   <g id=\"patch_10\">\n    <path d=\"M 46.965625 224.64 \nL 381.765625 224.64 \n\" style=\"fill:none;stroke:#000000;stroke-linecap:square;stroke-linejoin:miter;stroke-width:0.8;\"/>\n   </g>\n   <g id=\"patch_11\">\n    <path d=\"M 46.965625 7.2 \nL 381.765625 7.2 \n\" style=\"fill:none;stroke:#000000;stroke-linecap:square;stroke-linejoin:miter;stroke-width:0.8;\"/>\n   </g>\n  </g>\n </g>\n <defs>\n  <clipPath id=\"pe002fb9d75\">\n   <rect height=\"217.44\" width=\"334.8\" x=\"46.965625\" y=\"7.2\"/>\n  </clipPath>\n </defs>\n</svg>\n",
            "image/png": "[encoded data removed]"
          },
          "metadata": {
            "needs_background": "light"
          }
        }
      ]
    },
    {
      "cell_type": "markdown",
      "metadata": {
        "id": "z15xESOx-_ED"
      },
      "source": [
        "## 4.3 Preprocesamiento de los datos\n",
        "\n",
        "Ahora preprocesemos los datos para poder aplicar los modelos que queremos.\n",
        "\n",
        "### 4.3.1 Limpieza del texto\n",
        "\n",
        "Aqui realizaremos el proceso que ya hemos hecho anteriormente, el cual consiste en:\n",
        "\n",
        "* Transformar todo el texto a minusculas\n",
        "* Eliminar signos de puntuacion\n",
        "* Eliminar las palabras vacias, que son palabras que aportan poco contexto al problema\n",
        "\n",
        "Veamos como se encuentra el texto originalmente"
      ]
    },
    {
      "cell_type": "code",
      "metadata": {
        "colab": {
          "base_uri": "https://localhost:8080/"
        },
        "id": "YRexm8Pa62g4",
        "outputId": "f4cc48fb-d26b-4423-e06d-254cca969a86"
      },
      "source": [
        "df_rym.limit(3) \\\n",
        "      .toPandas() \\\n",
        "      .loc[0:3, 'line']"
      ],
      "execution_count": 238,
      "outputs": [
        {
          "output_type": "execute_result",
          "data": {
            "text/plain": [
              "0    Morty! You gotta come on. Jus'... you gotta co...\n",
              "1                         What, Rick? What’s going on?\n",
              "2                     I got a surprise for you, Morty.\n",
              "Name: line, dtype: object"
            ]
          },
          "metadata": {},
          "execution_count": 238
        }
      ]
    },
    {
      "cell_type": "markdown",
      "metadata": {
        "id": "5sEIlpFRHxBf"
      },
      "source": [
        "#### 4.3.1.1 Pasar todo a minusculas\n",
        "\n"
      ]
    },
    {
      "cell_type": "code",
      "metadata": {
        "colab": {
          "base_uri": "https://localhost:8080/"
        },
        "id": "7fRMP8-OHdlZ",
        "outputId": "5369df03-247d-4636-ff89-f6a525023851"
      },
      "source": [
        "# Hacemos minusculas\n",
        "df_rym = df_rym.rdd \\\n",
        "               .map(lambda x: (x[0], x[1], x[2].lower())) \\\n",
        "               .toDF(['id', 'nombre', 'dialog']) \n",
        "\n",
        "# Vemos como va el proceso\n",
        "df_rym.limit(3) \\\n",
        "      .toPandas() \\\n",
        "      .loc[0:3,'dialog']"
      ],
      "execution_count": 239,
      "outputs": [
        {
          "output_type": "execute_result",
          "data": {
            "text/plain": [
              "0    morty! you gotta come on. jus'... you gotta co...\n",
              "1                         what, rick? what’s going on?\n",
              "2                     i got a surprise for you, morty.\n",
              "Name: dialog, dtype: object"
            ]
          },
          "metadata": {},
          "execution_count": 239
        }
      ]
    },
    {
      "cell_type": "markdown",
      "metadata": {
        "id": "A-VVx9CwKh1v"
      },
      "source": [
        "#### 4.3.1.2 Eliminar signos de puntuacion"
      ]
    },
    {
      "cell_type": "code",
      "metadata": {
        "colab": {
          "base_uri": "https://localhost:8080/"
        },
        "id": "6UrkqqT_KbTB",
        "outputId": "3910adee-491e-4bf0-9a36-89b2335f4bb8"
      },
      "source": [
        "# Elimina signos de puntacion\n",
        "df_rym = df_rym.rdd \\\n",
        "           .map(lambda x: (x[0], x[1], x[2].translate(str.maketrans('', '', string.punctuation)))) \\\n",
        "           .toDF(['id', 'nombre', 'dialog']) \n",
        "\n",
        "# Vemos como va el proceso\n",
        "df_rym.limit(3) \\\n",
        "      .toPandas() \\\n",
        "      .loc[0:3,'dialog']"
      ],
      "execution_count": 240,
      "outputs": [
        {
          "output_type": "execute_result",
          "data": {
            "text/plain": [
              "0    morty you gotta come on jus you gotta come wit...\n",
              "1                            what rick what’s going on\n",
              "2                       i got a surprise for you morty\n",
              "Name: dialog, dtype: object"
            ]
          },
          "metadata": {},
          "execution_count": 240
        }
      ]
    },
    {
      "cell_type": "markdown",
      "metadata": {
        "id": "Wx-kCgBaWEm8"
      },
      "source": [
        "#### 4.3.1.3 Quitar palabras vacias\n",
        "\n"
      ]
    },
    {
      "cell_type": "code",
      "metadata": {
        "id": "vCXpUOZhXpS9",
        "colab": {
          "base_uri": "https://localhost:8080/"
        },
        "outputId": "29a00bd8-6a5a-4684-e5be-8683eccad856"
      },
      "source": [
        "# Definimos funcion para quitar palabras vacias\n",
        "palabras_vacias = nltk.corpus.stopwords.words('english')\n",
        "\n",
        "def quita_palabras_vacias(texto):\n",
        "  texto_limpio = [ palabra for palabra in texto if palabra not in palabras_vacias ]\n",
        "  return texto_limpio\n",
        "\n",
        "# Quitamos palabras vacias\n",
        "df_rym = df_rym.rdd \\\n",
        "           .map(lambda x: (x[0], x[1], x[2].split(' '))) \\\n",
        "           .map(lambda x: (x[0], x[1], quita_palabras_vacias(x[2]))) \\\n",
        "           .toDF(['id', 'nombre', 'dialog']) \\\n",
        "           .filter(size('dialog') > 0) # Elimina texto vacio\n",
        "\n",
        "# Vemos como va el proceso\n",
        "df_rym.limit(7) \\\n",
        "      .toPandas() \\\n",
        "      .loc[0:7,'dialog']"
      ],
      "execution_count": 241,
      "outputs": [
        {
          "output_type": "execute_result",
          "data": {
            "text/plain": [
              "0               [morty, gotta, come, jus, gotta, come]\n",
              "1                                [rick, what’s, going]\n",
              "2                               [got, surprise, morty]\n",
              "3                             [middle, night, talking]\n",
              "4                 [come, got, surprise, , come, hurry]\n",
              "5                       [ow, ow, youre, tugging, hard]\n",
              "6    [gotta, go, gotta, get, outta, come, got, surp...\n",
              "Name: dialog, dtype: object"
            ]
          },
          "metadata": {},
          "execution_count": 241
        }
      ]
    },
    {
      "cell_type": "markdown",
      "metadata": {
        "id": "9jZNlc1ub3Z7"
      },
      "source": [
        "### 4.3.2 Matriz de representacion\n",
        "\n",
        "Ahora necesitamos representar los datos como una matriz de representacion, la cual nos dice que elementos del vocabulario aparecen en cada elemento del conjunto de datos.\n",
        "\n",
        "| Elemento del vocabulario | $S_1$ | $S_2$ |$S_3$ | $S_4$ |\n",
        "| --- | --- | --- | --- | --- |\n",
        "| palabra 1 | 1 | 1 | 1 | 0 |\n",
        "| palabra 2 | 0 | 1 | 1 | 0 |\n",
        "| palabra 3 | 0 | 1 | 0 | 1 |\n",
        "| palabra 4 | 1 | 1 | 0 | 0 |\n",
        "| palabra 5 | 1 | 1 | 0 | 0 |\n",
        "| palabra 6 | 0 | 0 | 1 | 1 |\n",
        "\n",
        "Esto lo logramos usando la clase `CountVectorizerModel`\n",
        "\n"
      ]
    },
    {
      "cell_type": "code",
      "metadata": {
        "id": "qb7cxQndamdZ"
      },
      "source": [
        "cv = CountVectorizer(inputCol  = 'dialog', \n",
        "                     outputCol = 'features',\n",
        "                     binary    = True, # Solo llena con 0 o 1\n",
        "                     vocabSize = 3000,  # Tamano maximo del vocabulario \n",
        "                     minDF     = 1)    # En cuantos docs diferentes debe\n",
        "                                       # aparecer una palabra para ser \n",
        "                                       # considerada para el vocabulario"
      ],
      "execution_count": 242,
      "outputs": []
    },
    {
      "cell_type": "markdown",
      "metadata": {
        "id": "WeePPuLEl3Ki"
      },
      "source": [
        "La forma de calcula la matriz de representacion es la siguiente"
      ]
    },
    {
      "cell_type": "code",
      "metadata": {
        "colab": {
          "base_uri": "https://localhost:8080/"
        },
        "id": "-6BfnYO4ejpi",
        "outputId": "b81672ea-feb9-43ca-8660-de54575a0e3b"
      },
      "source": [
        "# Calculamos el vocabulario dados los datos\n",
        "matriz_representacion = cv.fit(df_rym)\n",
        "# Traducimos los datos la matriz de representacion\n",
        "df_rym_mr = matriz_representacion.transform(df_rym)\n",
        "# Mustramos\n",
        "df_rym_mr.show(10)"
      ],
      "execution_count": 243,
      "outputs": [
        {
          "output_type": "stream",
          "name": "stdout",
          "text": [
            "+---+------+--------------------+--------------------+\n| id|nombre|              dialog|            features|\n+---+------+--------------------+--------------------+\n|  0|  Rick|[morty, gotta, co...|(2442,[0,24,101,1...|\n|  1| Morty|[rick, what’s, go...|(2442,[3,40,353],...|\n|  2|  Rick|[got, surprise, m...|(2442,[0,17,325],...|\n|  3| Morty|[middle, night, t...|(2442,[65,113,116...|\n|  4|  Rick|[come, got, surpr...|(2442,[1,17,24,32...|\n|  5| Morty|[ow, ow, youre, t...|(2442,[7,171,570,...|\n|  6|  Rick|[gotta, go, gotta...|(2442,[0,5,12,17,...|\n|  7|  Rick|[think, flying, v...|(2442,[0,20,110,3...|\n|  8| Morty|[yeah, rick, iits...|(2442,[3,14,129,3...|\n|  9|  Rick|[morty, had—, to—...|(2442,[0,44,198,6...|\n+---+------+--------------------+--------------------+\nonly showing top 10 rows\n\n"
          ]
        }
      ]
    },
    {
      "cell_type": "markdown",
      "metadata": {
        "id": "AAYBW6xvmOdr"
      },
      "source": [
        "## 4.4 *Minhash* y distancia de Jaccard\n",
        "\n",
        "Para crear un modelo basado en *Minhashing* hacemos lo siguiente\n"
      ]
    },
    {
      "cell_type": "code",
      "metadata": {
        "id": "cN0Bz_t0hSyq"
      },
      "source": [
        "minhash = MinHashLSH(inputCol      = 'features', \n",
        "                     outputCol     = 'hashes', \n",
        "                     numHashTables = 100)\n",
        "\n",
        "modelo_mh = minhash.fit(df_rym_mr)"
      ],
      "execution_count": 244,
      "outputs": []
    },
    {
      "cell_type": "markdown",
      "metadata": {
        "id": "fEX94jp2p--H"
      },
      "source": [
        "Podemos mostrar como se ve la *signature matrix* creada a partir de la matriz de representacion"
      ]
    },
    {
      "cell_type": "code",
      "metadata": {
        "colab": {
          "base_uri": "https://localhost:8080/"
        },
        "id": "DBFh0G6zp9RD",
        "outputId": "68308158-ef98-45ec-fff0-bfb3f0b293c2"
      },
      "source": [
        "df_rym_mh = modelo_mh.transform(df_rym_mr) \n",
        "\n",
        "\n",
        "df_rym_mh.limit(10) \\\n",
        "         .show()"
      ],
      "execution_count": 245,
      "outputs": [
        {
          "output_type": "stream",
          "name": "stdout",
          "text": [
            "+---+------+--------------------+--------------------+--------------------+\n| id|nombre|              dialog|            features|              hashes|\n+---+------+--------------------+--------------------+--------------------+\n|  0|  Rick|[morty, gotta, co...|(2442,[0,24,101,1...|[[3.90264908E8], ...|\n|  1| Morty|[rick, what’s, go...|(2442,[3,40,353],...|[[2.74204393E8], ...|\n|  2|  Rick|[got, surprise, m...|(2442,[0,17,325],...|[[1.16457542E8], ...|\n|  3| Morty|[middle, night, t...|(2442,[65,113,116...|[[9.26034965E8], ...|\n|  4|  Rick|[come, got, surpr...|(2442,[1,17,24,32...|[[1.16457542E8], ...|\n|  5| Morty|[ow, ow, youre, t...|(2442,[7,171,570,...|[[2.73677963E8], ...|\n|  6|  Rick|[gotta, go, gotta...|(2442,[0,5,12,17,...|[[1.16457542E8], ...|\n|  7|  Rick|[think, flying, v...|(2442,[0,20,110,3...|[[7.00231095E8], ...|\n|  8| Morty|[yeah, rick, iits...|(2442,[3,14,129,3...|[[9.5351159E7], [...|\n|  9|  Rick|[morty, had—, to—...|(2442,[0,44,198,6...|[[1.83724916E8], ...|\n+---+------+--------------------+--------------------+--------------------+\n\n"
          ]
        }
      ]
    },
    {
      "cell_type": "markdown",
      "metadata": {
        "id": "51fVzzOZ9D9i"
      },
      "source": [
        "### 4.4.1 Similaridad entre lineas\n",
        "\n",
        "Podemos calcular las distancias entre los elementos de dos dataframes"
      ]
    },
    {
      "cell_type": "code",
      "metadata": {
        "colab": {
          "base_uri": "https://localhost:8080/"
        },
        "id": "saMr5CfJ0tRn",
        "outputId": "d2d133d5-06a5-4020-c708-340c64eaf91b"
      },
      "source": [
        "similaridad_entre_lineas = modelo_mh.approxSimilarityJoin(datasetA  = df_rym_mh,  \n",
        "                                                      datasetB  = df_rym_mh, \n",
        "                                                      threshold = 0.5, \n",
        "                                                      distCol   = 'dist_jaccard') \\\n",
        "                                    .select(col('datasetA.nombre').alias('nombre_1'), \n",
        "                                        col('datasetB.nombre').alias('nombre_2'), \n",
        "                                        col('dist_jaccard')) \\\n",
        "                                    .where(col('dist_jaccard') > 0) # Quitamos las que son iguales\n",
        "\n",
        "similaridad_entre_lineas.show(4)      "
      ],
      "execution_count": 248,
      "outputs": [
        {
          "output_type": "stream",
          "name": "stdout",
          "text": [
            "+--------+--------+-------------------+\n|nombre_1|nombre_2|       dist_jaccard|\n+--------+--------+-------------------+\n|   Jerry|   Morty|0.33333333333333337|\n|    Rick|    Rick| 0.4545454545454546|\n|   Morty|   Morty|0.33333333333333337|\n|   Jerry|   Morty|0.33333333333333337|\n+--------+--------+-------------------+\nonly showing top 4 rows\n\n"
          ]
        }
      ]
    },
    {
      "cell_type": "markdown",
      "metadata": {
        "id": "BAIQjZJt7Ism"
      },
      "source": [
        "Veamos cuantas si pudimos identificar los dialogos por personaje"
      ]
    },
    {
      "cell_type": "code",
      "metadata": {
        "colab": {
          "base_uri": "https://localhost:8080/",
          "height": 296
        },
        "id": "xtMZPdqd7jQ-",
        "outputId": "7ac78df7-8f9f-4f08-fceb-6f4989fa36dd"
      },
      "source": [
        "coincidencias = similaridad_entre_lineas.withColumn('coinciden', \n",
        "                                                    col('nombre_1') == col('nombre_2')) \\\n",
        "                                        .groupBy('coinciden') \\\n",
        "                                        .count() \\\n",
        "                                        .toPandas()\n",
        "\n",
        "sns.barplot( x    = 'coinciden', \n",
        "             y    = 'count', \n",
        "             data = coincidencias)"
      ],
      "execution_count": 194,
      "outputs": [
        {
          "output_type": "execute_result",
          "data": {
            "text/plain": [
              "<AxesSubplot:xlabel='coinciden', ylabel='count'>"
            ]
          },
          "metadata": {},
          "execution_count": 194
        },
        {
          "output_type": "display_data",
          "data": {
            "text/plain": "<Figure size 432x288 with 1 Axes>",
            "image/svg+xml": "<?xml version=\"1.0\" encoding=\"utf-8\" standalone=\"no\"?>\n<!DOCTYPE svg PUBLIC \"-//W3C//DTD SVG 1.1//EN\"\n  \"http://www.w3.org/Graphics/SVG/1.1/DTD/svg11.dtd\">\n<!-- Created with matplotlib (https://matplotlib.org/) -->\n<svg height=\"262.19625pt\" version=\"1.1\" viewBox=\"0 0 382.603125 262.19625\" width=\"382.603125pt\" xmlns=\"http://www.w3.org/2000/svg\" xmlns:xlink=\"http://www.w3.org/1999/xlink\">\n <metadata>\n  <rdf:RDF xmlns:cc=\"http://creativecommons.org/ns#\" xmlns:dc=\"http://purl.org/dc/elements/1.1/\" xmlns:rdf=\"http://www.w3.org/1999/02/22-rdf-syntax-ns#\">\n   <cc:Work>\n    <dc:type rdf:resource=\"http://purl.org/dc/dcmitype/StillImage\"/>\n    <dc:date>2021-05-13T19:09:40.198030</dc:date>\n    <dc:format>image/svg+xml</dc:format>\n    <dc:creator>\n     <cc:Agent>\n      <dc:title>Matplotlib v3.3.2, https://matplotlib.org/</dc:title>\n     </cc:Agent>\n    </dc:creator>\n   </cc:Work>\n  </rdf:RDF>\n </metadata>\n <defs>\n  <style type=\"text/css\">*{stroke-linecap:butt;stroke-linejoin:round;}</style>\n </defs>\n <g id=\"figure_1\">\n  <g id=\"patch_1\">\n   <path d=\"M 0 262.19625 \nL 382.603125 262.19625 \nL 382.603125 0 \nL 0 0 \nz\n\" style=\"fill:none;\"/>\n  </g>\n  <g id=\"axes_1\">\n   <g id=\"patch_2\">\n    <path d=\"M 40.603125 224.64 \nL 375.403125 224.64 \nL 375.403125 7.2 \nL 40.603125 7.2 \nz\n\" style=\"fill:#ffffff;\"/>\n   </g>\n   <g id=\"patch_3\">\n    <path clip-path=\"url(#p1e888b244c)\" d=\"M 57.343125 224.64 \nL 191.263125 224.64 \nL 191.263125 82.268571 \nL 57.343125 82.268571 \nz\n\" style=\"fill:#3274a1;\"/>\n   </g>\n   <g id=\"patch_4\">\n    <path clip-path=\"url(#p1e888b244c)\" d=\"M 224.743125 224.64 \nL 358.663125 224.64 \nL 358.663125 17.554286 \nL 224.743125 17.554286 \nz\n\" style=\"fill:#e1812c;\"/>\n   </g>\n   <g id=\"matplotlib.axis_1\">\n    <g id=\"xtick_1\">\n     <g id=\"line2d_1\">\n      <defs>\n       <path d=\"M 0 0 \nL 0 3.5 \n\" id=\"m7c4acada96\" style=\"stroke:#000000;stroke-width:0.8;\"/>\n      </defs>\n      <g>\n       <use style=\"stroke:#000000;stroke-width:0.8;\" x=\"124.303125\" xlink:href=\"#m7c4acada96\" y=\"224.64\"/>\n      </g>\n     </g>\n     <g id=\"text_1\">\n      <!-- False -->\n      <g transform=\"translate(111.749219 239.238437)scale(0.1 -0.1)\">\n       <defs>\n        <path d=\"M 9.8125 72.90625 \nL 51.703125 72.90625 \nL 51.703125 64.59375 \nL 19.671875 64.59375 \nL 19.671875 43.109375 \nL 48.578125 43.109375 \nL 48.578125 34.8125 \nL 19.671875 34.8125 \nL 19.671875 0 \nL 9.8125 0 \nz\n\" id=\"DejaVuSans-70\"/>\n        <path d=\"M 34.28125 27.484375 \nQ 23.390625 27.484375 19.1875 25 \nQ 14.984375 22.515625 14.984375 16.5 \nQ 14.984375 11.71875 18.140625 8.90625 \nQ 21.296875 6.109375 26.703125 6.109375 \nQ 34.1875 6.109375 38.703125 11.40625 \nQ 43.21875 16.703125 43.21875 25.484375 \nL 43.21875 27.484375 \nz\nM 52.203125 31.203125 \nL 52.203125 0 \nL 43.21875 0 \nL 43.21875 8.296875 \nQ 40.140625 3.328125 35.546875 0.953125 \nQ 30.953125 -1.421875 24.3125 -1.421875 \nQ 15.921875 -1.421875 10.953125 3.296875 \nQ 6 8.015625 6 15.921875 \nQ 6 25.140625 12.171875 29.828125 \nQ 18.359375 34.515625 30.609375 34.515625 \nL 43.21875 34.515625 \nL 43.21875 35.40625 \nQ 43.21875 41.609375 39.140625 45 \nQ 35.0625 48.390625 27.6875 48.390625 \nQ 23 48.390625 18.546875 47.265625 \nQ 14.109375 46.140625 10.015625 43.890625 \nL 10.015625 52.203125 \nQ 14.9375 54.109375 19.578125 55.046875 \nQ 24.21875 56 28.609375 56 \nQ 40.484375 56 46.34375 49.84375 \nQ 52.203125 43.703125 52.203125 31.203125 \nz\n\" id=\"DejaVuSans-97\"/>\n        <path d=\"M 9.421875 75.984375 \nL 18.40625 75.984375 \nL 18.40625 0 \nL 9.421875 0 \nz\n\" id=\"DejaVuSans-108\"/>\n        <path d=\"M 44.28125 53.078125 \nL 44.28125 44.578125 \nQ 40.484375 46.53125 36.375 47.5 \nQ 32.28125 48.484375 27.875 48.484375 \nQ 21.1875 48.484375 17.84375 46.4375 \nQ 14.5 44.390625 14.5 40.28125 \nQ 14.5 37.15625 16.890625 35.375 \nQ 19.28125 33.59375 26.515625 31.984375 \nL 29.59375 31.296875 \nQ 39.15625 29.25 43.1875 25.515625 \nQ 47.21875 21.78125 47.21875 15.09375 \nQ 47.21875 7.46875 41.1875 3.015625 \nQ 35.15625 -1.421875 24.609375 -1.421875 \nQ 20.21875 -1.421875 15.453125 -0.5625 \nQ 10.6875 0.296875 5.421875 2 \nL 5.421875 11.28125 \nQ 10.40625 8.6875 15.234375 7.390625 \nQ 20.0625 6.109375 24.8125 6.109375 \nQ 31.15625 6.109375 34.5625 8.28125 \nQ 37.984375 10.453125 37.984375 14.40625 \nQ 37.984375 18.0625 35.515625 20.015625 \nQ 33.0625 21.96875 24.703125 23.78125 \nL 21.578125 24.515625 \nQ 13.234375 26.265625 9.515625 29.90625 \nQ 5.8125 33.546875 5.8125 39.890625 \nQ 5.8125 47.609375 11.28125 51.796875 \nQ 16.75 56 26.8125 56 \nQ 31.78125 56 36.171875 55.265625 \nQ 40.578125 54.546875 44.28125 53.078125 \nz\n\" id=\"DejaVuSans-115\"/>\n        <path d=\"M 56.203125 29.59375 \nL 56.203125 25.203125 \nL 14.890625 25.203125 \nQ 15.484375 15.921875 20.484375 11.0625 \nQ 25.484375 6.203125 34.421875 6.203125 \nQ 39.59375 6.203125 44.453125 7.46875 \nQ 49.3125 8.734375 54.109375 11.28125 \nL 54.109375 2.78125 \nQ 49.265625 0.734375 44.1875 -0.34375 \nQ 39.109375 -1.421875 33.890625 -1.421875 \nQ 20.796875 -1.421875 13.15625 6.1875 \nQ 5.515625 13.8125 5.515625 26.8125 \nQ 5.515625 40.234375 12.765625 48.109375 \nQ 20.015625 56 32.328125 56 \nQ 43.359375 56 49.78125 48.890625 \nQ 56.203125 41.796875 56.203125 29.59375 \nz\nM 47.21875 32.234375 \nQ 47.125 39.59375 43.09375 43.984375 \nQ 39.0625 48.390625 32.421875 48.390625 \nQ 24.90625 48.390625 20.390625 44.140625 \nQ 15.875 39.890625 15.1875 32.171875 \nz\n\" id=\"DejaVuSans-101\"/>\n       </defs>\n       <use xlink:href=\"#DejaVuSans-70\"/>\n       <use x=\"48.394531\" xlink:href=\"#DejaVuSans-97\"/>\n       <use x=\"109.673828\" xlink:href=\"#DejaVuSans-108\"/>\n       <use x=\"137.457031\" xlink:href=\"#DejaVuSans-115\"/>\n       <use x=\"189.556641\" xlink:href=\"#DejaVuSans-101\"/>\n      </g>\n     </g>\n    </g>\n    <g id=\"xtick_2\">\n     <g id=\"line2d_2\">\n      <g>\n       <use style=\"stroke:#000000;stroke-width:0.8;\" x=\"291.703125\" xlink:href=\"#m7c4acada96\" y=\"224.64\"/>\n      </g>\n     </g>\n     <g id=\"text_2\">\n      <!-- True -->\n      <g transform=\"translate(281.085938 239.238437)scale(0.1 -0.1)\">\n       <defs>\n        <path d=\"M -0.296875 72.90625 \nL 61.375 72.90625 \nL 61.375 64.59375 \nL 35.5 64.59375 \nL 35.5 0 \nL 25.59375 0 \nL 25.59375 64.59375 \nL -0.296875 64.59375 \nz\n\" id=\"DejaVuSans-84\"/>\n        <path d=\"M 41.109375 46.296875 \nQ 39.59375 47.171875 37.8125 47.578125 \nQ 36.03125 48 33.890625 48 \nQ 26.265625 48 22.1875 43.046875 \nQ 18.109375 38.09375 18.109375 28.8125 \nL 18.109375 0 \nL 9.078125 0 \nL 9.078125 54.6875 \nL 18.109375 54.6875 \nL 18.109375 46.1875 \nQ 20.953125 51.171875 25.484375 53.578125 \nQ 30.03125 56 36.53125 56 \nQ 37.453125 56 38.578125 55.875 \nQ 39.703125 55.765625 41.0625 55.515625 \nz\n\" id=\"DejaVuSans-114\"/>\n        <path d=\"M 8.5 21.578125 \nL 8.5 54.6875 \nL 17.484375 54.6875 \nL 17.484375 21.921875 \nQ 17.484375 14.15625 20.5 10.265625 \nQ 23.53125 6.390625 29.59375 6.390625 \nQ 36.859375 6.390625 41.078125 11.03125 \nQ 45.3125 15.671875 45.3125 23.6875 \nL 45.3125 54.6875 \nL 54.296875 54.6875 \nL 54.296875 0 \nL 45.3125 0 \nL 45.3125 8.40625 \nQ 42.046875 3.421875 37.71875 1 \nQ 33.40625 -1.421875 27.6875 -1.421875 \nQ 18.265625 -1.421875 13.375 4.4375 \nQ 8.5 10.296875 8.5 21.578125 \nz\nM 31.109375 56 \nz\n\" id=\"DejaVuSans-117\"/>\n       </defs>\n       <use xlink:href=\"#DejaVuSans-84\"/>\n       <use x=\"46.333984\" xlink:href=\"#DejaVuSans-114\"/>\n       <use x=\"87.447266\" xlink:href=\"#DejaVuSans-117\"/>\n       <use x=\"150.826172\" xlink:href=\"#DejaVuSans-101\"/>\n      </g>\n     </g>\n    </g>\n    <g id=\"text_3\">\n     <!-- coinciden -->\n     <g transform=\"translate(184.078906 252.916562)scale(0.1 -0.1)\">\n      <defs>\n       <path d=\"M 48.78125 52.59375 \nL 48.78125 44.1875 \nQ 44.96875 46.296875 41.140625 47.34375 \nQ 37.3125 48.390625 33.40625 48.390625 \nQ 24.65625 48.390625 19.8125 42.84375 \nQ 14.984375 37.3125 14.984375 27.296875 \nQ 14.984375 17.28125 19.8125 11.734375 \nQ 24.65625 6.203125 33.40625 6.203125 \nQ 37.3125 6.203125 41.140625 7.25 \nQ 44.96875 8.296875 48.78125 10.40625 \nL 48.78125 2.09375 \nQ 45.015625 0.34375 40.984375 -0.53125 \nQ 36.96875 -1.421875 32.421875 -1.421875 \nQ 20.0625 -1.421875 12.78125 6.34375 \nQ 5.515625 14.109375 5.515625 27.296875 \nQ 5.515625 40.671875 12.859375 48.328125 \nQ 20.21875 56 33.015625 56 \nQ 37.15625 56 41.109375 55.140625 \nQ 45.0625 54.296875 48.78125 52.59375 \nz\n\" id=\"DejaVuSans-99\"/>\n       <path d=\"M 30.609375 48.390625 \nQ 23.390625 48.390625 19.1875 42.75 \nQ 14.984375 37.109375 14.984375 27.296875 \nQ 14.984375 17.484375 19.15625 11.84375 \nQ 23.34375 6.203125 30.609375 6.203125 \nQ 37.796875 6.203125 41.984375 11.859375 \nQ 46.1875 17.53125 46.1875 27.296875 \nQ 46.1875 37.015625 41.984375 42.703125 \nQ 37.796875 48.390625 30.609375 48.390625 \nz\nM 30.609375 56 \nQ 42.328125 56 49.015625 48.375 \nQ 55.71875 40.765625 55.71875 27.296875 \nQ 55.71875 13.875 49.015625 6.21875 \nQ 42.328125 -1.421875 30.609375 -1.421875 \nQ 18.84375 -1.421875 12.171875 6.21875 \nQ 5.515625 13.875 5.515625 27.296875 \nQ 5.515625 40.765625 12.171875 48.375 \nQ 18.84375 56 30.609375 56 \nz\n\" id=\"DejaVuSans-111\"/>\n       <path d=\"M 9.421875 54.6875 \nL 18.40625 54.6875 \nL 18.40625 0 \nL 9.421875 0 \nz\nM 9.421875 75.984375 \nL 18.40625 75.984375 \nL 18.40625 64.59375 \nL 9.421875 64.59375 \nz\n\" id=\"DejaVuSans-105\"/>\n       <path d=\"M 54.890625 33.015625 \nL 54.890625 0 \nL 45.90625 0 \nL 45.90625 32.71875 \nQ 45.90625 40.484375 42.875 44.328125 \nQ 39.84375 48.1875 33.796875 48.1875 \nQ 26.515625 48.1875 22.3125 43.546875 \nQ 18.109375 38.921875 18.109375 30.90625 \nL 18.109375 0 \nL 9.078125 0 \nL 9.078125 54.6875 \nL 18.109375 54.6875 \nL 18.109375 46.1875 \nQ 21.34375 51.125 25.703125 53.5625 \nQ 30.078125 56 35.796875 56 \nQ 45.21875 56 50.046875 50.171875 \nQ 54.890625 44.34375 54.890625 33.015625 \nz\n\" id=\"DejaVuSans-110\"/>\n       <path d=\"M 45.40625 46.390625 \nL 45.40625 75.984375 \nL 54.390625 75.984375 \nL 54.390625 0 \nL 45.40625 0 \nL 45.40625 8.203125 \nQ 42.578125 3.328125 38.25 0.953125 \nQ 33.9375 -1.421875 27.875 -1.421875 \nQ 17.96875 -1.421875 11.734375 6.484375 \nQ 5.515625 14.40625 5.515625 27.296875 \nQ 5.515625 40.1875 11.734375 48.09375 \nQ 17.96875 56 27.875 56 \nQ 33.9375 56 38.25 53.625 \nQ 42.578125 51.265625 45.40625 46.390625 \nz\nM 14.796875 27.296875 \nQ 14.796875 17.390625 18.875 11.75 \nQ 22.953125 6.109375 30.078125 6.109375 \nQ 37.203125 6.109375 41.296875 11.75 \nQ 45.40625 17.390625 45.40625 27.296875 \nQ 45.40625 37.203125 41.296875 42.84375 \nQ 37.203125 48.484375 30.078125 48.484375 \nQ 22.953125 48.484375 18.875 42.84375 \nQ 14.796875 37.203125 14.796875 27.296875 \nz\n\" id=\"DejaVuSans-100\"/>\n      </defs>\n      <use xlink:href=\"#DejaVuSans-99\"/>\n      <use x=\"54.980469\" xlink:href=\"#DejaVuSans-111\"/>\n      <use x=\"116.162109\" xlink:href=\"#DejaVuSans-105\"/>\n      <use x=\"143.945312\" xlink:href=\"#DejaVuSans-110\"/>\n      <use x=\"207.324219\" xlink:href=\"#DejaVuSans-99\"/>\n      <use x=\"262.304688\" xlink:href=\"#DejaVuSans-105\"/>\n      <use x=\"290.087891\" xlink:href=\"#DejaVuSans-100\"/>\n      <use x=\"353.564453\" xlink:href=\"#DejaVuSans-101\"/>\n      <use x=\"415.087891\" xlink:href=\"#DejaVuSans-110\"/>\n     </g>\n    </g>\n   </g>\n   <g id=\"matplotlib.axis_2\">\n    <g id=\"ytick_1\">\n     <g id=\"line2d_3\">\n      <defs>\n       <path d=\"M 0 0 \nL -3.5 0 \n\" id=\"m7f9d09c235\" style=\"stroke:#000000;stroke-width:0.8;\"/>\n      </defs>\n      <g>\n       <use style=\"stroke:#000000;stroke-width:0.8;\" x=\"40.603125\" xlink:href=\"#m7f9d09c235\" y=\"224.64\"/>\n      </g>\n     </g>\n     <g id=\"text_4\">\n      <!-- 0 -->\n      <g transform=\"translate(27.240625 228.439219)scale(0.1 -0.1)\">\n       <defs>\n        <path d=\"M 31.78125 66.40625 \nQ 24.171875 66.40625 20.328125 58.90625 \nQ 16.5 51.421875 16.5 36.375 \nQ 16.5 21.390625 20.328125 13.890625 \nQ 24.171875 6.390625 31.78125 6.390625 \nQ 39.453125 6.390625 43.28125 13.890625 \nQ 47.125 21.390625 47.125 36.375 \nQ 47.125 51.421875 43.28125 58.90625 \nQ 39.453125 66.40625 31.78125 66.40625 \nz\nM 31.78125 74.21875 \nQ 44.046875 74.21875 50.515625 64.515625 \nQ 56.984375 54.828125 56.984375 36.375 \nQ 56.984375 17.96875 50.515625 8.265625 \nQ 44.046875 -1.421875 31.78125 -1.421875 \nQ 19.53125 -1.421875 13.0625 8.265625 \nQ 6.59375 17.96875 6.59375 36.375 \nQ 6.59375 54.828125 13.0625 64.515625 \nQ 19.53125 74.21875 31.78125 74.21875 \nz\n\" id=\"DejaVuSans-48\"/>\n       </defs>\n       <use xlink:href=\"#DejaVuSans-48\"/>\n      </g>\n     </g>\n    </g>\n    <g id=\"ytick_2\">\n     <g id=\"line2d_4\">\n      <g>\n       <use style=\"stroke:#000000;stroke-width:0.8;\" x=\"40.603125\" xlink:href=\"#m7f9d09c235\" y=\"192.282857\"/>\n      </g>\n     </g>\n     <g id=\"text_5\">\n      <!-- 5 -->\n      <g transform=\"translate(27.240625 196.082076)scale(0.1 -0.1)\">\n       <defs>\n        <path d=\"M 10.796875 72.90625 \nL 49.515625 72.90625 \nL 49.515625 64.59375 \nL 19.828125 64.59375 \nL 19.828125 46.734375 \nQ 21.96875 47.46875 24.109375 47.828125 \nQ 26.265625 48.1875 28.421875 48.1875 \nQ 40.625 48.1875 47.75 41.5 \nQ 54.890625 34.8125 54.890625 23.390625 \nQ 54.890625 11.625 47.5625 5.09375 \nQ 40.234375 -1.421875 26.90625 -1.421875 \nQ 22.3125 -1.421875 17.546875 -0.640625 \nQ 12.796875 0.140625 7.71875 1.703125 \nL 7.71875 11.625 \nQ 12.109375 9.234375 16.796875 8.0625 \nQ 21.484375 6.890625 26.703125 6.890625 \nQ 35.15625 6.890625 40.078125 11.328125 \nQ 45.015625 15.765625 45.015625 23.390625 \nQ 45.015625 31 40.078125 35.4375 \nQ 35.15625 39.890625 26.703125 39.890625 \nQ 22.75 39.890625 18.8125 39.015625 \nQ 14.890625 38.140625 10.796875 36.28125 \nz\n\" id=\"DejaVuSans-53\"/>\n       </defs>\n       <use xlink:href=\"#DejaVuSans-53\"/>\n      </g>\n     </g>\n    </g>\n    <g id=\"ytick_3\">\n     <g id=\"line2d_5\">\n      <g>\n       <use style=\"stroke:#000000;stroke-width:0.8;\" x=\"40.603125\" xlink:href=\"#m7f9d09c235\" y=\"159.925714\"/>\n      </g>\n     </g>\n     <g id=\"text_6\">\n      <!-- 10 -->\n      <g transform=\"translate(20.878125 163.724933)scale(0.1 -0.1)\">\n       <defs>\n        <path d=\"M 12.40625 8.296875 \nL 28.515625 8.296875 \nL 28.515625 63.921875 \nL 10.984375 60.40625 \nL 10.984375 69.390625 \nL 28.421875 72.90625 \nL 38.28125 72.90625 \nL 38.28125 8.296875 \nL 54.390625 8.296875 \nL 54.390625 0 \nL 12.40625 0 \nz\n\" id=\"DejaVuSans-49\"/>\n       </defs>\n       <use xlink:href=\"#DejaVuSans-49\"/>\n       <use x=\"63.623047\" xlink:href=\"#DejaVuSans-48\"/>\n      </g>\n     </g>\n    </g>\n    <g id=\"ytick_4\">\n     <g id=\"line2d_6\">\n      <g>\n       <use style=\"stroke:#000000;stroke-width:0.8;\" x=\"40.603125\" xlink:href=\"#m7f9d09c235\" y=\"127.568571\"/>\n      </g>\n     </g>\n     <g id=\"text_7\">\n      <!-- 15 -->\n      <g transform=\"translate(20.878125 131.36779)scale(0.1 -0.1)\">\n       <use xlink:href=\"#DejaVuSans-49\"/>\n       <use x=\"63.623047\" xlink:href=\"#DejaVuSans-53\"/>\n      </g>\n     </g>\n    </g>\n    <g id=\"ytick_5\">\n     <g id=\"line2d_7\">\n      <g>\n       <use style=\"stroke:#000000;stroke-width:0.8;\" x=\"40.603125\" xlink:href=\"#m7f9d09c235\" y=\"95.211429\"/>\n      </g>\n     </g>\n     <g id=\"text_8\">\n      <!-- 20 -->\n      <g transform=\"translate(20.878125 99.010647)scale(0.1 -0.1)\">\n       <defs>\n        <path d=\"M 19.1875 8.296875 \nL 53.609375 8.296875 \nL 53.609375 0 \nL 7.328125 0 \nL 7.328125 8.296875 \nQ 12.9375 14.109375 22.625 23.890625 \nQ 32.328125 33.6875 34.8125 36.53125 \nQ 39.546875 41.84375 41.421875 45.53125 \nQ 43.3125 49.21875 43.3125 52.78125 \nQ 43.3125 58.59375 39.234375 62.25 \nQ 35.15625 65.921875 28.609375 65.921875 \nQ 23.96875 65.921875 18.8125 64.3125 \nQ 13.671875 62.703125 7.8125 59.421875 \nL 7.8125 69.390625 \nQ 13.765625 71.78125 18.9375 73 \nQ 24.125 74.21875 28.421875 74.21875 \nQ 39.75 74.21875 46.484375 68.546875 \nQ 53.21875 62.890625 53.21875 53.421875 \nQ 53.21875 48.921875 51.53125 44.890625 \nQ 49.859375 40.875 45.40625 35.40625 \nQ 44.1875 33.984375 37.640625 27.21875 \nQ 31.109375 20.453125 19.1875 8.296875 \nz\n\" id=\"DejaVuSans-50\"/>\n       </defs>\n       <use xlink:href=\"#DejaVuSans-50\"/>\n       <use x=\"63.623047\" xlink:href=\"#DejaVuSans-48\"/>\n      </g>\n     </g>\n    </g>\n    <g id=\"ytick_6\">\n     <g id=\"line2d_8\">\n      <g>\n       <use style=\"stroke:#000000;stroke-width:0.8;\" x=\"40.603125\" xlink:href=\"#m7f9d09c235\" y=\"62.854286\"/>\n      </g>\n     </g>\n     <g id=\"text_9\">\n      <!-- 25 -->\n      <g transform=\"translate(20.878125 66.653504)scale(0.1 -0.1)\">\n       <use xlink:href=\"#DejaVuSans-50\"/>\n       <use x=\"63.623047\" xlink:href=\"#DejaVuSans-53\"/>\n      </g>\n     </g>\n    </g>\n    <g id=\"ytick_7\">\n     <g id=\"line2d_9\">\n      <g>\n       <use style=\"stroke:#000000;stroke-width:0.8;\" x=\"40.603125\" xlink:href=\"#m7f9d09c235\" y=\"30.497143\"/>\n      </g>\n     </g>\n     <g id=\"text_10\">\n      <!-- 30 -->\n      <g transform=\"translate(20.878125 34.296362)scale(0.1 -0.1)\">\n       <defs>\n        <path d=\"M 40.578125 39.3125 \nQ 47.65625 37.796875 51.625 33 \nQ 55.609375 28.21875 55.609375 21.1875 \nQ 55.609375 10.40625 48.1875 4.484375 \nQ 40.765625 -1.421875 27.09375 -1.421875 \nQ 22.515625 -1.421875 17.65625 -0.515625 \nQ 12.796875 0.390625 7.625 2.203125 \nL 7.625 11.71875 \nQ 11.71875 9.328125 16.59375 8.109375 \nQ 21.484375 6.890625 26.8125 6.890625 \nQ 36.078125 6.890625 40.9375 10.546875 \nQ 45.796875 14.203125 45.796875 21.1875 \nQ 45.796875 27.640625 41.28125 31.265625 \nQ 36.765625 34.90625 28.71875 34.90625 \nL 20.21875 34.90625 \nL 20.21875 43.015625 \nL 29.109375 43.015625 \nQ 36.375 43.015625 40.234375 45.921875 \nQ 44.09375 48.828125 44.09375 54.296875 \nQ 44.09375 59.90625 40.109375 62.90625 \nQ 36.140625 65.921875 28.71875 65.921875 \nQ 24.65625 65.921875 20.015625 65.03125 \nQ 15.375 64.15625 9.8125 62.3125 \nL 9.8125 71.09375 \nQ 15.4375 72.65625 20.34375 73.4375 \nQ 25.25 74.21875 29.59375 74.21875 \nQ 40.828125 74.21875 47.359375 69.109375 \nQ 53.90625 64.015625 53.90625 55.328125 \nQ 53.90625 49.265625 50.4375 45.09375 \nQ 46.96875 40.921875 40.578125 39.3125 \nz\n\" id=\"DejaVuSans-51\"/>\n       </defs>\n       <use xlink:href=\"#DejaVuSans-51\"/>\n       <use x=\"63.623047\" xlink:href=\"#DejaVuSans-48\"/>\n      </g>\n     </g>\n    </g>\n    <g id=\"text_11\">\n     <!-- count -->\n     <g transform=\"translate(14.798438 130.02625)rotate(-90)scale(0.1 -0.1)\">\n      <defs>\n       <path d=\"M 18.3125 70.21875 \nL 18.3125 54.6875 \nL 36.8125 54.6875 \nL 36.8125 47.703125 \nL 18.3125 47.703125 \nL 18.3125 18.015625 \nQ 18.3125 11.328125 20.140625 9.421875 \nQ 21.96875 7.515625 27.59375 7.515625 \nL 36.8125 7.515625 \nL 36.8125 0 \nL 27.59375 0 \nQ 17.1875 0 13.234375 3.875 \nQ 9.28125 7.765625 9.28125 18.015625 \nL 9.28125 47.703125 \nL 2.6875 47.703125 \nL 2.6875 54.6875 \nL 9.28125 54.6875 \nL 9.28125 70.21875 \nz\n\" id=\"DejaVuSans-116\"/>\n      </defs>\n      <use xlink:href=\"#DejaVuSans-99\"/>\n      <use x=\"54.980469\" xlink:href=\"#DejaVuSans-111\"/>\n      <use x=\"116.162109\" xlink:href=\"#DejaVuSans-117\"/>\n      <use x=\"179.541016\" xlink:href=\"#DejaVuSans-110\"/>\n      <use x=\"242.919922\" xlink:href=\"#DejaVuSans-116\"/>\n     </g>\n    </g>\n   </g>\n   <g id=\"line2d_10\">\n    <path clip-path=\"url(#p1e888b244c)\" d=\"M 0 0 \n\" style=\"fill:none;stroke:#424242;stroke-linecap:square;stroke-width:2.7;\"/>\n   </g>\n   <g id=\"line2d_11\">\n    <path clip-path=\"url(#p1e888b244c)\" d=\"M 0 0 \n\" style=\"fill:none;stroke:#424242;stroke-linecap:square;stroke-width:2.7;\"/>\n   </g>\n   <g id=\"patch_5\">\n    <path d=\"M 40.603125 224.64 \nL 40.603125 7.2 \n\" style=\"fill:none;stroke:#000000;stroke-linecap:square;stroke-linejoin:miter;stroke-width:0.8;\"/>\n   </g>\n   <g id=\"patch_6\">\n    <path d=\"M 375.403125 224.64 \nL 375.403125 7.2 \n\" style=\"fill:none;stroke:#000000;stroke-linecap:square;stroke-linejoin:miter;stroke-width:0.8;\"/>\n   </g>\n   <g id=\"patch_7\">\n    <path d=\"M 40.603125 224.64 \nL 375.403125 224.64 \n\" style=\"fill:none;stroke:#000000;stroke-linecap:square;stroke-linejoin:miter;stroke-width:0.8;\"/>\n   </g>\n   <g id=\"patch_8\">\n    <path d=\"M 40.603125 7.2 \nL 375.403125 7.2 \n\" style=\"fill:none;stroke:#000000;stroke-linecap:square;stroke-linejoin:miter;stroke-width:0.8;\"/>\n   </g>\n  </g>\n </g>\n <defs>\n  <clipPath id=\"p1e888b244c\">\n   <rect height=\"217.44\" width=\"334.8\" x=\"40.603125\" y=\"7.2\"/>\n  </clipPath>\n </defs>\n</svg>\n",
            "image/png": "[encoded data removed]"
          },
          "metadata": {
            "needs_background": "light"
          }
        }
      ]
    },
    {
      "cell_type": "markdown",
      "metadata": {
        "id": "6JJ4T4jB92bF"
      },
      "source": [
        "### 4.4.2 Vecinos mas cercanos\n",
        "\n",
        "Calculamos los elementos mas cercanos a un elemento dado. \n",
        "\n",
        "Extraemos una linea correspondinete a Morty"
      ]
    },
    {
      "cell_type": "code",
      "metadata": {
        "colab": {
          "base_uri": "https://localhost:8080/"
        },
        "id": "io11ocUI7jId",
        "outputId": "8f4834f6-91f2-4696-a067-6fa213c06db6"
      },
      "source": [
        "[renglon] = df_rym_mr.where(df_rym_mr.id == 170).collect()\n",
        "print(renglon)\n",
        "linea = renglon[3]\n",
        "print(linea)"
      ],
      "execution_count": 195,
      "outputs": [
        {
          "output_type": "stream",
          "name": "stdout",
          "text": [
            "Row(id=170, nombre='Morty', dialog=['oh', 'geez', 'rick', 'really', 'dont', 'want'], features=SparseVector(2442, {2: 1.0, 3: 1.0, 9: 1.0, 18: 1.0, 33: 1.0, 64: 1.0}))\n(2442,[2,3,9,18,33,64],[1.0,1.0,1.0,1.0,1.0,1.0])\n"
          ]
        }
      ]
    },
    {
      "cell_type": "markdown",
      "metadata": {
        "id": "-p1eREAM-TRz"
      },
      "source": [
        "Buscamos los $k$ elementos mas cercanos"
      ]
    },
    {
      "cell_type": "code",
      "metadata": {
        "id": "NT8VvVKc7i_b"
      },
      "source": [
        "vecinos_cercanos = modelo_mh.approxNearestNeighbors(dataset             = df_rym_mh, \n",
        "                                                    key                 = linea, \n",
        "                                                    numNearestNeighbors = 50, \n",
        "                                                    distCol             = 'dist_jaccard') \\\n",
        "                            .where(col('dist_jaccard') > 0) # Quitamos la linea repetida"
      ],
      "execution_count": 196,
      "outputs": []
    },
    {
      "cell_type": "markdown",
      "metadata": {
        "id": "zBXx3Po5_2-y"
      },
      "source": [
        "Veamos cuantas lineas corresponden a cada personaje"
      ]
    },
    {
      "cell_type": "code",
      "metadata": {
        "id": "X_md6l0R_1tw"
      },
      "source": [
        "vecinos_cercanos_hist = vecinos_cercanos.groupby('nombre') \\\n",
        "                                        .count() \\\n",
        "                                        .toPandas()"
      ],
      "execution_count": 197,
      "outputs": []
    },
    {
      "cell_type": "markdown",
      "metadata": {
        "id": "Tz6WiKB1_g3o"
      },
      "source": [
        "Visualicemos los resultados"
      ]
    },
    {
      "cell_type": "code",
      "metadata": {
        "colab": {
          "base_uri": "https://localhost:8080/",
          "height": 296
        },
        "id": "IseGwuhLq-oc",
        "outputId": "f5320a70-bea0-4927-8ec0-9d0f0e76fcd9"
      },
      "source": [
        "sns.barplot( x    = 'nombre', \n",
        "             y    = 'count', \n",
        "             data = vecinos_cercanos_hist)"
      ],
      "execution_count": 198,
      "outputs": [
        {
          "output_type": "execute_result",
          "data": {
            "text/plain": [
              "<AxesSubplot:xlabel='nombre', ylabel='count'>"
            ]
          },
          "metadata": {},
          "execution_count": 198
        },
        {
          "output_type": "display_data",
          "data": {
            "text/plain": "<Figure size 432x288 with 1 Axes>",
            "image/svg+xml": "<?xml version=\"1.0\" encoding=\"utf-8\" standalone=\"no\"?>\n<!DOCTYPE svg PUBLIC \"-//W3C//DTD SVG 1.1//EN\"\n  \"http://www.w3.org/Graphics/SVG/1.1/DTD/svg11.dtd\">\n<!-- Created with matplotlib (https://matplotlib.org/) -->\n<svg height=\"262.19625pt\" version=\"1.1\" viewBox=\"0 0 382.603125 262.19625\" width=\"382.603125pt\" xmlns=\"http://www.w3.org/2000/svg\" xmlns:xlink=\"http://www.w3.org/1999/xlink\">\n <metadata>\n  <rdf:RDF xmlns:cc=\"http://creativecommons.org/ns#\" xmlns:dc=\"http://purl.org/dc/elements/1.1/\" xmlns:rdf=\"http://www.w3.org/1999/02/22-rdf-syntax-ns#\">\n   <cc:Work>\n    <dc:type rdf:resource=\"http://purl.org/dc/dcmitype/StillImage\"/>\n    <dc:date>2021-05-13T19:09:41.134680</dc:date>\n    <dc:format>image/svg+xml</dc:format>\n    <dc:creator>\n     <cc:Agent>\n      <dc:title>Matplotlib v3.3.2, https://matplotlib.org/</dc:title>\n     </cc:Agent>\n    </dc:creator>\n   </cc:Work>\n  </rdf:RDF>\n </metadata>\n <defs>\n  <style type=\"text/css\">*{stroke-linecap:butt;stroke-linejoin:round;}</style>\n </defs>\n <g id=\"figure_1\">\n  <g id=\"patch_1\">\n   <path d=\"M 0 262.19625 \nL 382.603125 262.19625 \nL 382.603125 0 \nL 0 0 \nz\n\" style=\"fill:none;\"/>\n  </g>\n  <g id=\"axes_1\">\n   <g id=\"patch_2\">\n    <path d=\"M 40.603125 224.64 \nL 375.403125 224.64 \nL 375.403125 7.2 \nL 40.603125 7.2 \nz\n\" style=\"fill:#ffffff;\"/>\n   </g>\n   <g id=\"patch_3\">\n    <path clip-path=\"url(#p2077d8a804)\" d=\"M 47.299125 224.64 \nL 100.867125 224.64 \nL 100.867125 17.554286 \nL 47.299125 17.554286 \nz\n\" style=\"fill:#3274a1;\"/>\n   </g>\n   <g id=\"patch_4\">\n    <path clip-path=\"url(#p2077d8a804)\" d=\"M 114.259125 224.64 \nL 167.827125 224.64 \nL 167.827125 182.004706 \nL 114.259125 182.004706 \nz\n\" style=\"fill:#e1812c;\"/>\n   </g>\n   <g id=\"patch_5\">\n    <path clip-path=\"url(#p2077d8a804)\" d=\"M 181.219125 224.64 \nL 234.787125 224.64 \nL 234.787125 218.549244 \nL 181.219125 218.549244 \nz\n\" style=\"fill:#3a923a;\"/>\n   </g>\n   <g id=\"patch_6\">\n    <path clip-path=\"url(#p2077d8a804)\" d=\"M 248.179125 224.64 \nL 301.747125 224.64 \nL 301.747125 194.186218 \nL 248.179125 194.186218 \nz\n\" style=\"fill:#c03d3e;\"/>\n   </g>\n   <g id=\"patch_7\">\n    <path clip-path=\"url(#p2077d8a804)\" d=\"M 315.139125 224.64 \nL 368.707125 224.64 \nL 368.707125 212.458487 \nL 315.139125 212.458487 \nz\n\" style=\"fill:#9372b2;\"/>\n   </g>\n   <g id=\"matplotlib.axis_1\">\n    <g id=\"xtick_1\">\n     <g id=\"line2d_1\">\n      <defs>\n       <path d=\"M 0 0 \nL 0 3.5 \n\" id=\"m0d1af5a224\" style=\"stroke:#000000;stroke-width:0.8;\"/>\n      </defs>\n      <g>\n       <use style=\"stroke:#000000;stroke-width:0.8;\" x=\"74.083125\" xlink:href=\"#m0d1af5a224\" y=\"224.64\"/>\n      </g>\n     </g>\n     <g id=\"text_1\">\n      <!-- Morty -->\n      <g transform=\"translate(59.734687 239.238437)scale(0.1 -0.1)\">\n       <defs>\n        <path d=\"M 9.8125 72.90625 \nL 24.515625 72.90625 \nL 43.109375 23.296875 \nL 61.8125 72.90625 \nL 76.515625 72.90625 \nL 76.515625 0 \nL 66.890625 0 \nL 66.890625 64.015625 \nL 48.09375 14.015625 \nL 38.1875 14.015625 \nL 19.390625 64.015625 \nL 19.390625 0 \nL 9.8125 0 \nz\n\" id=\"DejaVuSans-77\"/>\n        <path d=\"M 30.609375 48.390625 \nQ 23.390625 48.390625 19.1875 42.75 \nQ 14.984375 37.109375 14.984375 27.296875 \nQ 14.984375 17.484375 19.15625 11.84375 \nQ 23.34375 6.203125 30.609375 6.203125 \nQ 37.796875 6.203125 41.984375 11.859375 \nQ 46.1875 17.53125 46.1875 27.296875 \nQ 46.1875 37.015625 41.984375 42.703125 \nQ 37.796875 48.390625 30.609375 48.390625 \nz\nM 30.609375 56 \nQ 42.328125 56 49.015625 48.375 \nQ 55.71875 40.765625 55.71875 27.296875 \nQ 55.71875 13.875 49.015625 6.21875 \nQ 42.328125 -1.421875 30.609375 -1.421875 \nQ 18.84375 -1.421875 12.171875 6.21875 \nQ 5.515625 13.875 5.515625 27.296875 \nQ 5.515625 40.765625 12.171875 48.375 \nQ 18.84375 56 30.609375 56 \nz\n\" id=\"DejaVuSans-111\"/>\n        <path d=\"M 41.109375 46.296875 \nQ 39.59375 47.171875 37.8125 47.578125 \nQ 36.03125 48 33.890625 48 \nQ 26.265625 48 22.1875 43.046875 \nQ 18.109375 38.09375 18.109375 28.8125 \nL 18.109375 0 \nL 9.078125 0 \nL 9.078125 54.6875 \nL 18.109375 54.6875 \nL 18.109375 46.1875 \nQ 20.953125 51.171875 25.484375 53.578125 \nQ 30.03125 56 36.53125 56 \nQ 37.453125 56 38.578125 55.875 \nQ 39.703125 55.765625 41.0625 55.515625 \nz\n\" id=\"DejaVuSans-114\"/>\n        <path d=\"M 18.3125 70.21875 \nL 18.3125 54.6875 \nL 36.8125 54.6875 \nL 36.8125 47.703125 \nL 18.3125 47.703125 \nL 18.3125 18.015625 \nQ 18.3125 11.328125 20.140625 9.421875 \nQ 21.96875 7.515625 27.59375 7.515625 \nL 36.8125 7.515625 \nL 36.8125 0 \nL 27.59375 0 \nQ 17.1875 0 13.234375 3.875 \nQ 9.28125 7.765625 9.28125 18.015625 \nL 9.28125 47.703125 \nL 2.6875 47.703125 \nL 2.6875 54.6875 \nL 9.28125 54.6875 \nL 9.28125 70.21875 \nz\n\" id=\"DejaVuSans-116\"/>\n        <path d=\"M 32.171875 -5.078125 \nQ 28.375 -14.84375 24.75 -17.8125 \nQ 21.140625 -20.796875 15.09375 -20.796875 \nL 7.90625 -20.796875 \nL 7.90625 -13.28125 \nL 13.1875 -13.28125 \nQ 16.890625 -13.28125 18.9375 -11.515625 \nQ 21 -9.765625 23.484375 -3.21875 \nL 25.09375 0.875 \nL 2.984375 54.6875 \nL 12.5 54.6875 \nL 29.59375 11.921875 \nL 46.6875 54.6875 \nL 56.203125 54.6875 \nz\n\" id=\"DejaVuSans-121\"/>\n       </defs>\n       <use xlink:href=\"#DejaVuSans-77\"/>\n       <use x=\"86.279297\" xlink:href=\"#DejaVuSans-111\"/>\n       <use x=\"147.460938\" xlink:href=\"#DejaVuSans-114\"/>\n       <use x=\"188.574219\" xlink:href=\"#DejaVuSans-116\"/>\n       <use x=\"227.783203\" xlink:href=\"#DejaVuSans-121\"/>\n      </g>\n     </g>\n    </g>\n    <g id=\"xtick_2\">\n     <g id=\"line2d_2\">\n      <g>\n       <use style=\"stroke:#000000;stroke-width:0.8;\" x=\"141.043125\" xlink:href=\"#m0d1af5a224\" y=\"224.64\"/>\n      </g>\n     </g>\n     <g id=\"text_2\">\n      <!-- Rick -->\n      <g transform=\"translate(130.535312 239.238437)scale(0.1 -0.1)\">\n       <defs>\n        <path d=\"M 44.390625 34.1875 \nQ 47.5625 33.109375 50.5625 29.59375 \nQ 53.5625 26.078125 56.59375 19.921875 \nL 66.609375 0 \nL 56 0 \nL 46.6875 18.703125 \nQ 43.0625 26.03125 39.671875 28.421875 \nQ 36.28125 30.8125 30.421875 30.8125 \nL 19.671875 30.8125 \nL 19.671875 0 \nL 9.8125 0 \nL 9.8125 72.90625 \nL 32.078125 72.90625 \nQ 44.578125 72.90625 50.734375 67.671875 \nQ 56.890625 62.453125 56.890625 51.90625 \nQ 56.890625 45.015625 53.6875 40.46875 \nQ 50.484375 35.9375 44.390625 34.1875 \nz\nM 19.671875 64.796875 \nL 19.671875 38.921875 \nL 32.078125 38.921875 \nQ 39.203125 38.921875 42.84375 42.21875 \nQ 46.484375 45.515625 46.484375 51.90625 \nQ 46.484375 58.296875 42.84375 61.546875 \nQ 39.203125 64.796875 32.078125 64.796875 \nz\n\" id=\"DejaVuSans-82\"/>\n        <path d=\"M 9.421875 54.6875 \nL 18.40625 54.6875 \nL 18.40625 0 \nL 9.421875 0 \nz\nM 9.421875 75.984375 \nL 18.40625 75.984375 \nL 18.40625 64.59375 \nL 9.421875 64.59375 \nz\n\" id=\"DejaVuSans-105\"/>\n        <path d=\"M 48.78125 52.59375 \nL 48.78125 44.1875 \nQ 44.96875 46.296875 41.140625 47.34375 \nQ 37.3125 48.390625 33.40625 48.390625 \nQ 24.65625 48.390625 19.8125 42.84375 \nQ 14.984375 37.3125 14.984375 27.296875 \nQ 14.984375 17.28125 19.8125 11.734375 \nQ 24.65625 6.203125 33.40625 6.203125 \nQ 37.3125 6.203125 41.140625 7.25 \nQ 44.96875 8.296875 48.78125 10.40625 \nL 48.78125 2.09375 \nQ 45.015625 0.34375 40.984375 -0.53125 \nQ 36.96875 -1.421875 32.421875 -1.421875 \nQ 20.0625 -1.421875 12.78125 6.34375 \nQ 5.515625 14.109375 5.515625 27.296875 \nQ 5.515625 40.671875 12.859375 48.328125 \nQ 20.21875 56 33.015625 56 \nQ 37.15625 56 41.109375 55.140625 \nQ 45.0625 54.296875 48.78125 52.59375 \nz\n\" id=\"DejaVuSans-99\"/>\n        <path d=\"M 9.078125 75.984375 \nL 18.109375 75.984375 \nL 18.109375 31.109375 \nL 44.921875 54.6875 \nL 56.390625 54.6875 \nL 27.390625 29.109375 \nL 57.625 0 \nL 45.90625 0 \nL 18.109375 26.703125 \nL 18.109375 0 \nL 9.078125 0 \nz\n\" id=\"DejaVuSans-107\"/>\n       </defs>\n       <use xlink:href=\"#DejaVuSans-82\"/>\n       <use x=\"69.482422\" xlink:href=\"#DejaVuSans-105\"/>\n       <use x=\"97.265625\" xlink:href=\"#DejaVuSans-99\"/>\n       <use x=\"152.246094\" xlink:href=\"#DejaVuSans-107\"/>\n      </g>\n     </g>\n    </g>\n    <g id=\"xtick_3\">\n     <g id=\"line2d_3\">\n      <g>\n       <use style=\"stroke:#000000;stroke-width:0.8;\" x=\"208.003125\" xlink:href=\"#m0d1af5a224\" y=\"224.64\"/>\n      </g>\n     </g>\n     <g id=\"text_3\">\n      <!-- Summer -->\n      <g transform=\"translate(186.7875 239.238437)scale(0.1 -0.1)\">\n       <defs>\n        <path d=\"M 53.515625 70.515625 \nL 53.515625 60.890625 \nQ 47.90625 63.578125 42.921875 64.890625 \nQ 37.9375 66.21875 33.296875 66.21875 \nQ 25.25 66.21875 20.875 63.09375 \nQ 16.5 59.96875 16.5 54.203125 \nQ 16.5 49.359375 19.40625 46.890625 \nQ 22.3125 44.4375 30.421875 42.921875 \nL 36.375 41.703125 \nQ 47.40625 39.59375 52.65625 34.296875 \nQ 57.90625 29 57.90625 20.125 \nQ 57.90625 9.515625 50.796875 4.046875 \nQ 43.703125 -1.421875 29.984375 -1.421875 \nQ 24.8125 -1.421875 18.96875 -0.25 \nQ 13.140625 0.921875 6.890625 3.21875 \nL 6.890625 13.375 \nQ 12.890625 10.015625 18.65625 8.296875 \nQ 24.421875 6.59375 29.984375 6.59375 \nQ 38.421875 6.59375 43.015625 9.90625 \nQ 47.609375 13.234375 47.609375 19.390625 \nQ 47.609375 24.75 44.3125 27.78125 \nQ 41.015625 30.8125 33.5 32.328125 \nL 27.484375 33.5 \nQ 16.453125 35.6875 11.515625 40.375 \nQ 6.59375 45.0625 6.59375 53.421875 \nQ 6.59375 63.09375 13.40625 68.65625 \nQ 20.21875 74.21875 32.171875 74.21875 \nQ 37.3125 74.21875 42.625 73.28125 \nQ 47.953125 72.359375 53.515625 70.515625 \nz\n\" id=\"DejaVuSans-83\"/>\n        <path d=\"M 8.5 21.578125 \nL 8.5 54.6875 \nL 17.484375 54.6875 \nL 17.484375 21.921875 \nQ 17.484375 14.15625 20.5 10.265625 \nQ 23.53125 6.390625 29.59375 6.390625 \nQ 36.859375 6.390625 41.078125 11.03125 \nQ 45.3125 15.671875 45.3125 23.6875 \nL 45.3125 54.6875 \nL 54.296875 54.6875 \nL 54.296875 0 \nL 45.3125 0 \nL 45.3125 8.40625 \nQ 42.046875 3.421875 37.71875 1 \nQ 33.40625 -1.421875 27.6875 -1.421875 \nQ 18.265625 -1.421875 13.375 4.4375 \nQ 8.5 10.296875 8.5 21.578125 \nz\nM 31.109375 56 \nz\n\" id=\"DejaVuSans-117\"/>\n        <path d=\"M 52 44.1875 \nQ 55.375 50.25 60.0625 53.125 \nQ 64.75 56 71.09375 56 \nQ 79.640625 56 84.28125 50.015625 \nQ 88.921875 44.046875 88.921875 33.015625 \nL 88.921875 0 \nL 79.890625 0 \nL 79.890625 32.71875 \nQ 79.890625 40.578125 77.09375 44.375 \nQ 74.3125 48.1875 68.609375 48.1875 \nQ 61.625 48.1875 57.5625 43.546875 \nQ 53.515625 38.921875 53.515625 30.90625 \nL 53.515625 0 \nL 44.484375 0 \nL 44.484375 32.71875 \nQ 44.484375 40.625 41.703125 44.40625 \nQ 38.921875 48.1875 33.109375 48.1875 \nQ 26.21875 48.1875 22.15625 43.53125 \nQ 18.109375 38.875 18.109375 30.90625 \nL 18.109375 0 \nL 9.078125 0 \nL 9.078125 54.6875 \nL 18.109375 54.6875 \nL 18.109375 46.1875 \nQ 21.1875 51.21875 25.484375 53.609375 \nQ 29.78125 56 35.6875 56 \nQ 41.65625 56 45.828125 52.96875 \nQ 50 49.953125 52 44.1875 \nz\n\" id=\"DejaVuSans-109\"/>\n        <path d=\"M 56.203125 29.59375 \nL 56.203125 25.203125 \nL 14.890625 25.203125 \nQ 15.484375 15.921875 20.484375 11.0625 \nQ 25.484375 6.203125 34.421875 6.203125 \nQ 39.59375 6.203125 44.453125 7.46875 \nQ 49.3125 8.734375 54.109375 11.28125 \nL 54.109375 2.78125 \nQ 49.265625 0.734375 44.1875 -0.34375 \nQ 39.109375 -1.421875 33.890625 -1.421875 \nQ 20.796875 -1.421875 13.15625 6.1875 \nQ 5.515625 13.8125 5.515625 26.8125 \nQ 5.515625 40.234375 12.765625 48.109375 \nQ 20.015625 56 32.328125 56 \nQ 43.359375 56 49.78125 48.890625 \nQ 56.203125 41.796875 56.203125 29.59375 \nz\nM 47.21875 32.234375 \nQ 47.125 39.59375 43.09375 43.984375 \nQ 39.0625 48.390625 32.421875 48.390625 \nQ 24.90625 48.390625 20.390625 44.140625 \nQ 15.875 39.890625 15.1875 32.171875 \nz\n\" id=\"DejaVuSans-101\"/>\n       </defs>\n       <use xlink:href=\"#DejaVuSans-83\"/>\n       <use x=\"63.476562\" xlink:href=\"#DejaVuSans-117\"/>\n       <use x=\"126.855469\" xlink:href=\"#DejaVuSans-109\"/>\n       <use x=\"224.267578\" xlink:href=\"#DejaVuSans-109\"/>\n       <use x=\"321.679688\" xlink:href=\"#DejaVuSans-101\"/>\n       <use x=\"383.203125\" xlink:href=\"#DejaVuSans-114\"/>\n      </g>\n     </g>\n    </g>\n    <g id=\"xtick_4\">\n     <g id=\"line2d_4\">\n      <g>\n       <use style=\"stroke:#000000;stroke-width:0.8;\" x=\"274.963125\" xlink:href=\"#m0d1af5a224\" y=\"224.64\"/>\n      </g>\n     </g>\n     <g id=\"text_4\">\n      <!-- Beth -->\n      <g transform=\"translate(263.327187 239.238437)scale(0.1 -0.1)\">\n       <defs>\n        <path d=\"M 19.671875 34.8125 \nL 19.671875 8.109375 \nL 35.5 8.109375 \nQ 43.453125 8.109375 47.28125 11.40625 \nQ 51.125 14.703125 51.125 21.484375 \nQ 51.125 28.328125 47.28125 31.5625 \nQ 43.453125 34.8125 35.5 34.8125 \nz\nM 19.671875 64.796875 \nL 19.671875 42.828125 \nL 34.28125 42.828125 \nQ 41.5 42.828125 45.03125 45.53125 \nQ 48.578125 48.25 48.578125 53.8125 \nQ 48.578125 59.328125 45.03125 62.0625 \nQ 41.5 64.796875 34.28125 64.796875 \nz\nM 9.8125 72.90625 \nL 35.015625 72.90625 \nQ 46.296875 72.90625 52.390625 68.21875 \nQ 58.5 63.53125 58.5 54.890625 \nQ 58.5 48.1875 55.375 44.234375 \nQ 52.25 40.28125 46.1875 39.3125 \nQ 53.46875 37.75 57.5 32.78125 \nQ 61.53125 27.828125 61.53125 20.40625 \nQ 61.53125 10.640625 54.890625 5.3125 \nQ 48.25 0 35.984375 0 \nL 9.8125 0 \nz\n\" id=\"DejaVuSans-66\"/>\n        <path d=\"M 54.890625 33.015625 \nL 54.890625 0 \nL 45.90625 0 \nL 45.90625 32.71875 \nQ 45.90625 40.484375 42.875 44.328125 \nQ 39.84375 48.1875 33.796875 48.1875 \nQ 26.515625 48.1875 22.3125 43.546875 \nQ 18.109375 38.921875 18.109375 30.90625 \nL 18.109375 0 \nL 9.078125 0 \nL 9.078125 75.984375 \nL 18.109375 75.984375 \nL 18.109375 46.1875 \nQ 21.34375 51.125 25.703125 53.5625 \nQ 30.078125 56 35.796875 56 \nQ 45.21875 56 50.046875 50.171875 \nQ 54.890625 44.34375 54.890625 33.015625 \nz\n\" id=\"DejaVuSans-104\"/>\n       </defs>\n       <use xlink:href=\"#DejaVuSans-66\"/>\n       <use x=\"68.603516\" xlink:href=\"#DejaVuSans-101\"/>\n       <use x=\"130.126953\" xlink:href=\"#DejaVuSans-116\"/>\n       <use x=\"169.335938\" xlink:href=\"#DejaVuSans-104\"/>\n      </g>\n     </g>\n    </g>\n    <g id=\"xtick_5\">\n     <g id=\"line2d_5\">\n      <g>\n       <use style=\"stroke:#000000;stroke-width:0.8;\" x=\"341.923125\" xlink:href=\"#m0d1af5a224\" y=\"224.64\"/>\n      </g>\n     </g>\n     <g id=\"text_5\">\n      <!-- Jerry -->\n      <g transform=\"translate(330.38875 239.238437)scale(0.1 -0.1)\">\n       <defs>\n        <path d=\"M 9.8125 72.90625 \nL 19.671875 72.90625 \nL 19.671875 5.078125 \nQ 19.671875 -8.109375 14.671875 -14.0625 \nQ 9.671875 -20.015625 -1.421875 -20.015625 \nL -5.171875 -20.015625 \nL -5.171875 -11.71875 \nL -2.09375 -11.71875 \nQ 4.4375 -11.71875 7.125 -8.046875 \nQ 9.8125 -4.390625 9.8125 5.078125 \nz\n\" id=\"DejaVuSans-74\"/>\n       </defs>\n       <use xlink:href=\"#DejaVuSans-74\"/>\n       <use x=\"29.492188\" xlink:href=\"#DejaVuSans-101\"/>\n       <use x=\"91.015625\" xlink:href=\"#DejaVuSans-114\"/>\n       <use x=\"130.378906\" xlink:href=\"#DejaVuSans-114\"/>\n       <use x=\"171.492188\" xlink:href=\"#DejaVuSans-121\"/>\n      </g>\n     </g>\n    </g>\n    <g id=\"text_6\">\n     <!-- nombre -->\n     <g transform=\"translate(188.710937 252.916562)scale(0.1 -0.1)\">\n      <defs>\n       <path d=\"M 54.890625 33.015625 \nL 54.890625 0 \nL 45.90625 0 \nL 45.90625 32.71875 \nQ 45.90625 40.484375 42.875 44.328125 \nQ 39.84375 48.1875 33.796875 48.1875 \nQ 26.515625 48.1875 22.3125 43.546875 \nQ 18.109375 38.921875 18.109375 30.90625 \nL 18.109375 0 \nL 9.078125 0 \nL 9.078125 54.6875 \nL 18.109375 54.6875 \nL 18.109375 46.1875 \nQ 21.34375 51.125 25.703125 53.5625 \nQ 30.078125 56 35.796875 56 \nQ 45.21875 56 50.046875 50.171875 \nQ 54.890625 44.34375 54.890625 33.015625 \nz\n\" id=\"DejaVuSans-110\"/>\n       <path d=\"M 48.6875 27.296875 \nQ 48.6875 37.203125 44.609375 42.84375 \nQ 40.53125 48.484375 33.40625 48.484375 \nQ 26.265625 48.484375 22.1875 42.84375 \nQ 18.109375 37.203125 18.109375 27.296875 \nQ 18.109375 17.390625 22.1875 11.75 \nQ 26.265625 6.109375 33.40625 6.109375 \nQ 40.53125 6.109375 44.609375 11.75 \nQ 48.6875 17.390625 48.6875 27.296875 \nz\nM 18.109375 46.390625 \nQ 20.953125 51.265625 25.265625 53.625 \nQ 29.59375 56 35.59375 56 \nQ 45.5625 56 51.78125 48.09375 \nQ 58.015625 40.1875 58.015625 27.296875 \nQ 58.015625 14.40625 51.78125 6.484375 \nQ 45.5625 -1.421875 35.59375 -1.421875 \nQ 29.59375 -1.421875 25.265625 0.953125 \nQ 20.953125 3.328125 18.109375 8.203125 \nL 18.109375 0 \nL 9.078125 0 \nL 9.078125 75.984375 \nL 18.109375 75.984375 \nz\n\" id=\"DejaVuSans-98\"/>\n      </defs>\n      <use xlink:href=\"#DejaVuSans-110\"/>\n      <use x=\"63.378906\" xlink:href=\"#DejaVuSans-111\"/>\n      <use x=\"124.560547\" xlink:href=\"#DejaVuSans-109\"/>\n      <use x=\"221.972656\" xlink:href=\"#DejaVuSans-98\"/>\n      <use x=\"285.449219\" xlink:href=\"#DejaVuSans-114\"/>\n      <use x=\"324.3125\" xlink:href=\"#DejaVuSans-101\"/>\n     </g>\n    </g>\n   </g>\n   <g id=\"matplotlib.axis_2\">\n    <g id=\"ytick_1\">\n     <g id=\"line2d_6\">\n      <defs>\n       <path d=\"M 0 0 \nL -3.5 0 \n\" id=\"m3f94558cac\" style=\"stroke:#000000;stroke-width:0.8;\"/>\n      </defs>\n      <g>\n       <use style=\"stroke:#000000;stroke-width:0.8;\" x=\"40.603125\" xlink:href=\"#m3f94558cac\" y=\"224.64\"/>\n      </g>\n     </g>\n     <g id=\"text_7\">\n      <!-- 0 -->\n      <g transform=\"translate(27.240625 228.439219)scale(0.1 -0.1)\">\n       <defs>\n        <path d=\"M 31.78125 66.40625 \nQ 24.171875 66.40625 20.328125 58.90625 \nQ 16.5 51.421875 16.5 36.375 \nQ 16.5 21.390625 20.328125 13.890625 \nQ 24.171875 6.390625 31.78125 6.390625 \nQ 39.453125 6.390625 43.28125 13.890625 \nQ 47.125 21.390625 47.125 36.375 \nQ 47.125 51.421875 43.28125 58.90625 \nQ 39.453125 66.40625 31.78125 66.40625 \nz\nM 31.78125 74.21875 \nQ 44.046875 74.21875 50.515625 64.515625 \nQ 56.984375 54.828125 56.984375 36.375 \nQ 56.984375 17.96875 50.515625 8.265625 \nQ 44.046875 -1.421875 31.78125 -1.421875 \nQ 19.53125 -1.421875 13.0625 8.265625 \nQ 6.59375 17.96875 6.59375 36.375 \nQ 6.59375 54.828125 13.0625 64.515625 \nQ 19.53125 74.21875 31.78125 74.21875 \nz\n\" id=\"DejaVuSans-48\"/>\n       </defs>\n       <use xlink:href=\"#DejaVuSans-48\"/>\n      </g>\n     </g>\n    </g>\n    <g id=\"ytick_2\">\n     <g id=\"line2d_7\">\n      <g>\n       <use style=\"stroke:#000000;stroke-width:0.8;\" x=\"40.603125\" xlink:href=\"#m3f94558cac\" y=\"194.186218\"/>\n      </g>\n     </g>\n     <g id=\"text_8\">\n      <!-- 5 -->\n      <g transform=\"translate(27.240625 197.985437)scale(0.1 -0.1)\">\n       <defs>\n        <path d=\"M 10.796875 72.90625 \nL 49.515625 72.90625 \nL 49.515625 64.59375 \nL 19.828125 64.59375 \nL 19.828125 46.734375 \nQ 21.96875 47.46875 24.109375 47.828125 \nQ 26.265625 48.1875 28.421875 48.1875 \nQ 40.625 48.1875 47.75 41.5 \nQ 54.890625 34.8125 54.890625 23.390625 \nQ 54.890625 11.625 47.5625 5.09375 \nQ 40.234375 -1.421875 26.90625 -1.421875 \nQ 22.3125 -1.421875 17.546875 -0.640625 \nQ 12.796875 0.140625 7.71875 1.703125 \nL 7.71875 11.625 \nQ 12.109375 9.234375 16.796875 8.0625 \nQ 21.484375 6.890625 26.703125 6.890625 \nQ 35.15625 6.890625 40.078125 11.328125 \nQ 45.015625 15.765625 45.015625 23.390625 \nQ 45.015625 31 40.078125 35.4375 \nQ 35.15625 39.890625 26.703125 39.890625 \nQ 22.75 39.890625 18.8125 39.015625 \nQ 14.890625 38.140625 10.796875 36.28125 \nz\n\" id=\"DejaVuSans-53\"/>\n       </defs>\n       <use xlink:href=\"#DejaVuSans-53\"/>\n      </g>\n     </g>\n    </g>\n    <g id=\"ytick_3\">\n     <g id=\"line2d_8\">\n      <g>\n       <use style=\"stroke:#000000;stroke-width:0.8;\" x=\"40.603125\" xlink:href=\"#m3f94558cac\" y=\"163.732437\"/>\n      </g>\n     </g>\n     <g id=\"text_9\">\n      <!-- 10 -->\n      <g transform=\"translate(20.878125 167.531656)scale(0.1 -0.1)\">\n       <defs>\n        <path d=\"M 12.40625 8.296875 \nL 28.515625 8.296875 \nL 28.515625 63.921875 \nL 10.984375 60.40625 \nL 10.984375 69.390625 \nL 28.421875 72.90625 \nL 38.28125 72.90625 \nL 38.28125 8.296875 \nL 54.390625 8.296875 \nL 54.390625 0 \nL 12.40625 0 \nz\n\" id=\"DejaVuSans-49\"/>\n       </defs>\n       <use xlink:href=\"#DejaVuSans-49\"/>\n       <use x=\"63.623047\" xlink:href=\"#DejaVuSans-48\"/>\n      </g>\n     </g>\n    </g>\n    <g id=\"ytick_4\">\n     <g id=\"line2d_9\">\n      <g>\n       <use style=\"stroke:#000000;stroke-width:0.8;\" x=\"40.603125\" xlink:href=\"#m3f94558cac\" y=\"133.278655\"/>\n      </g>\n     </g>\n     <g id=\"text_10\">\n      <!-- 15 -->\n      <g transform=\"translate(20.878125 137.077874)scale(0.1 -0.1)\">\n       <use xlink:href=\"#DejaVuSans-49\"/>\n       <use x=\"63.623047\" xlink:href=\"#DejaVuSans-53\"/>\n      </g>\n     </g>\n    </g>\n    <g id=\"ytick_5\">\n     <g id=\"line2d_10\">\n      <g>\n       <use style=\"stroke:#000000;stroke-width:0.8;\" x=\"40.603125\" xlink:href=\"#m3f94558cac\" y=\"102.824874\"/>\n      </g>\n     </g>\n     <g id=\"text_11\">\n      <!-- 20 -->\n      <g transform=\"translate(20.878125 106.624093)scale(0.1 -0.1)\">\n       <defs>\n        <path d=\"M 19.1875 8.296875 \nL 53.609375 8.296875 \nL 53.609375 0 \nL 7.328125 0 \nL 7.328125 8.296875 \nQ 12.9375 14.109375 22.625 23.890625 \nQ 32.328125 33.6875 34.8125 36.53125 \nQ 39.546875 41.84375 41.421875 45.53125 \nQ 43.3125 49.21875 43.3125 52.78125 \nQ 43.3125 58.59375 39.234375 62.25 \nQ 35.15625 65.921875 28.609375 65.921875 \nQ 23.96875 65.921875 18.8125 64.3125 \nQ 13.671875 62.703125 7.8125 59.421875 \nL 7.8125 69.390625 \nQ 13.765625 71.78125 18.9375 73 \nQ 24.125 74.21875 28.421875 74.21875 \nQ 39.75 74.21875 46.484375 68.546875 \nQ 53.21875 62.890625 53.21875 53.421875 \nQ 53.21875 48.921875 51.53125 44.890625 \nQ 49.859375 40.875 45.40625 35.40625 \nQ 44.1875 33.984375 37.640625 27.21875 \nQ 31.109375 20.453125 19.1875 8.296875 \nz\n\" id=\"DejaVuSans-50\"/>\n       </defs>\n       <use xlink:href=\"#DejaVuSans-50\"/>\n       <use x=\"63.623047\" xlink:href=\"#DejaVuSans-48\"/>\n      </g>\n     </g>\n    </g>\n    <g id=\"ytick_6\">\n     <g id=\"line2d_11\">\n      <g>\n       <use style=\"stroke:#000000;stroke-width:0.8;\" x=\"40.603125\" xlink:href=\"#m3f94558cac\" y=\"72.371092\"/>\n      </g>\n     </g>\n     <g id=\"text_12\">\n      <!-- 25 -->\n      <g transform=\"translate(20.878125 76.170311)scale(0.1 -0.1)\">\n       <use xlink:href=\"#DejaVuSans-50\"/>\n       <use x=\"63.623047\" xlink:href=\"#DejaVuSans-53\"/>\n      </g>\n     </g>\n    </g>\n    <g id=\"ytick_7\">\n     <g id=\"line2d_12\">\n      <g>\n       <use style=\"stroke:#000000;stroke-width:0.8;\" x=\"40.603125\" xlink:href=\"#m3f94558cac\" y=\"41.917311\"/>\n      </g>\n     </g>\n     <g id=\"text_13\">\n      <!-- 30 -->\n      <g transform=\"translate(20.878125 45.71653)scale(0.1 -0.1)\">\n       <defs>\n        <path d=\"M 40.578125 39.3125 \nQ 47.65625 37.796875 51.625 33 \nQ 55.609375 28.21875 55.609375 21.1875 \nQ 55.609375 10.40625 48.1875 4.484375 \nQ 40.765625 -1.421875 27.09375 -1.421875 \nQ 22.515625 -1.421875 17.65625 -0.515625 \nQ 12.796875 0.390625 7.625 2.203125 \nL 7.625 11.71875 \nQ 11.71875 9.328125 16.59375 8.109375 \nQ 21.484375 6.890625 26.8125 6.890625 \nQ 36.078125 6.890625 40.9375 10.546875 \nQ 45.796875 14.203125 45.796875 21.1875 \nQ 45.796875 27.640625 41.28125 31.265625 \nQ 36.765625 34.90625 28.71875 34.90625 \nL 20.21875 34.90625 \nL 20.21875 43.015625 \nL 29.109375 43.015625 \nQ 36.375 43.015625 40.234375 45.921875 \nQ 44.09375 48.828125 44.09375 54.296875 \nQ 44.09375 59.90625 40.109375 62.90625 \nQ 36.140625 65.921875 28.71875 65.921875 \nQ 24.65625 65.921875 20.015625 65.03125 \nQ 15.375 64.15625 9.8125 62.3125 \nL 9.8125 71.09375 \nQ 15.4375 72.65625 20.34375 73.4375 \nQ 25.25 74.21875 29.59375 74.21875 \nQ 40.828125 74.21875 47.359375 69.109375 \nQ 53.90625 64.015625 53.90625 55.328125 \nQ 53.90625 49.265625 50.4375 45.09375 \nQ 46.96875 40.921875 40.578125 39.3125 \nz\n\" id=\"DejaVuSans-51\"/>\n       </defs>\n       <use xlink:href=\"#DejaVuSans-51\"/>\n       <use x=\"63.623047\" xlink:href=\"#DejaVuSans-48\"/>\n      </g>\n     </g>\n    </g>\n    <g id=\"ytick_8\">\n     <g id=\"line2d_13\">\n      <g>\n       <use style=\"stroke:#000000;stroke-width:0.8;\" x=\"40.603125\" xlink:href=\"#m3f94558cac\" y=\"11.463529\"/>\n      </g>\n     </g>\n     <g id=\"text_14\">\n      <!-- 35 -->\n      <g transform=\"translate(20.878125 15.262748)scale(0.1 -0.1)\">\n       <use xlink:href=\"#DejaVuSans-51\"/>\n       <use x=\"63.623047\" xlink:href=\"#DejaVuSans-53\"/>\n      </g>\n     </g>\n    </g>\n    <g id=\"text_15\">\n     <!-- count -->\n     <g transform=\"translate(14.798438 130.02625)rotate(-90)scale(0.1 -0.1)\">\n      <use xlink:href=\"#DejaVuSans-99\"/>\n      <use x=\"54.980469\" xlink:href=\"#DejaVuSans-111\"/>\n      <use x=\"116.162109\" xlink:href=\"#DejaVuSans-117\"/>\n      <use x=\"179.541016\" xlink:href=\"#DejaVuSans-110\"/>\n      <use x=\"242.919922\" xlink:href=\"#DejaVuSans-116\"/>\n     </g>\n    </g>\n   </g>\n   <g id=\"line2d_14\">\n    <path clip-path=\"url(#p2077d8a804)\" d=\"M 0 0 \n\" style=\"fill:none;stroke:#424242;stroke-linecap:square;stroke-width:2.7;\"/>\n   </g>\n   <g id=\"line2d_15\">\n    <path clip-path=\"url(#p2077d8a804)\" d=\"M 0 0 \n\" style=\"fill:none;stroke:#424242;stroke-linecap:square;stroke-width:2.7;\"/>\n   </g>\n   <g id=\"line2d_16\">\n    <path clip-path=\"url(#p2077d8a804)\" d=\"M 0 0 \n\" style=\"fill:none;stroke:#424242;stroke-linecap:square;stroke-width:2.7;\"/>\n   </g>\n   <g id=\"line2d_17\">\n    <path clip-path=\"url(#p2077d8a804)\" d=\"M 0 0 \n\" style=\"fill:none;stroke:#424242;stroke-linecap:square;stroke-width:2.7;\"/>\n   </g>\n   <g id=\"line2d_18\">\n    <path clip-path=\"url(#p2077d8a804)\" d=\"M 0 0 \n\" style=\"fill:none;stroke:#424242;stroke-linecap:square;stroke-width:2.7;\"/>\n   </g>\n   <g id=\"patch_8\">\n    <path d=\"M 40.603125 224.64 \nL 40.603125 7.2 \n\" style=\"fill:none;stroke:#000000;stroke-linecap:square;stroke-linejoin:miter;stroke-width:0.8;\"/>\n   </g>\n   <g id=\"patch_9\">\n    <path d=\"M 375.403125 224.64 \nL 375.403125 7.2 \n\" style=\"fill:none;stroke:#000000;stroke-linecap:square;stroke-linejoin:miter;stroke-width:0.8;\"/>\n   </g>\n   <g id=\"patch_10\">\n    <path d=\"M 40.603125 224.64 \nL 375.403125 224.64 \n\" style=\"fill:none;stroke:#000000;stroke-linecap:square;stroke-linejoin:miter;stroke-width:0.8;\"/>\n   </g>\n   <g id=\"patch_11\">\n    <path d=\"M 40.603125 7.2 \nL 375.403125 7.2 \n\" style=\"fill:none;stroke:#000000;stroke-linecap:square;stroke-linejoin:miter;stroke-width:0.8;\"/>\n   </g>\n  </g>\n </g>\n <defs>\n  <clipPath id=\"p2077d8a804\">\n   <rect height=\"217.44\" width=\"334.8\" x=\"40.603125\" y=\"7.2\"/>\n  </clipPath>\n </defs>\n</svg>\n",
            "image/png": "[encoded data removed]"
          },
          "metadata": {
            "needs_background": "light"
          }
        }
      ]
    },
    {
      "cell_type": "markdown",
      "metadata": {
        "id": "ShnA0s6qCC4H"
      },
      "source": [
        "# Ejercicio\n",
        "\n",
        "Haga alguna variacion del problema aqui presentado y explique sus resultados. Algunas de las cosas que podria hacer son:\n",
        "\n",
        "* Cambiar el conjunto de personajes considerados.\n",
        "* Cambiar al en el la limpieza de datos, no quitar *stopwords*, etc.\n",
        "* Cambrias los hiperparametros de los objetos *CountVectorizer*, *MinHashLSH*, etc.\n",
        "* Usar otra linea para los vecinos mas cercanos, etc."
      ]
    },
    {
      "source": [
        "## Pasos realizados para este ejercicio: \n",
        "\n",
        "1. Selección de nuevos caracteres:\n",
        "\n",
        "    ```['Pickle Rick', 'President', 'Ice-T', 'Lizard Morty', 'Birdperson']```\n",
        "\n",
        "2. No quité stop words\n",
        "\n",
        "3. Para ```MinHashLSH``` por ser caracteres muy diferentes entre sí tuve que elevar el *threshold* the $0.5$ a $0.9$ y utilizar la distancia Euclideana\n",
        "\n",
        "## Explicación de resultados\n",
        "\n",
        "Como se verá en el punto **5** los resultados que obtenemos no son muy satisfactorios pues la distancia entre los diálogos en promedio está por arriba de $0.7$ y recordemos que dos diálogos serán muy cercanos siempre y cuando la distancia sea lo más cercano a $0$. Como los personajes son distintos entre sí, la distancia Euclideana aumenta, sin embargo, sí se pueden ver algunos diálogos que comparten algunas palabras y podrían pasar como diálogos similares. \n",
        "\n",
        "Con respecto a la utilización de distancia Euclideana conta la distancia de Jaccard no pude observar una diferencia sustancial. Ambas distancias arrojan resultados similares."
      ],
      "cell_type": "markdown",
      "metadata": {}
    },
    {
      "source": [
        "## 1. Selección de otro conjunto de personajes"
      ],
      "cell_type": "markdown",
      "metadata": {}
    },
    {
      "cell_type": "code",
      "execution_count": 513,
      "metadata": {},
      "outputs": [
        {
          "output_type": "stream",
          "name": "stdout",
          "text": [
            "root\n |-- index: integer (nullable = true)\n |-- season no.: integer (nullable = true)\n |-- episode no.: integer (nullable = true)\n |-- episode name: string (nullable = true)\n |-- name: string (nullable = true)\n |-- line: string (nullable = true)\n\n"
          ]
        }
      ],
      "source": [
        "df_rym = spark.read.csv('RickAndMortyScripts.csv', header = True, inferSchema = True)\n",
        "df_rym.printSchema()"
      ]
    },
    {
      "cell_type": "code",
      "execution_count": 514,
      "metadata": {},
      "outputs": [
        {
          "output_type": "execute_result",
          "data": {
            "text/plain": [
              "array(['President', 'Agency Director', 'Vet', 'Young Rick',\n",
              "       'Testicle Monster A', 'Teacher Rick', 'Morty', 'Nathan',\n",
              "       'Mr. Goldenfold', 'Scary Terry', 'Narrator', 'Lizard Morty',\n",
              "       'Cop Rick', 'Cromulon', 'Dr. Wong', 'Slick', 'Glasses Morty',\n",
              "       'Riq IV', 'Jerry', 'Summer', 'Vance', 'Million Ants', 'Supernova',\n",
              "       'Announcer', 'Alan', 'All Mortys', 'Cop Morty', 'Morty 1',\n",
              "       'Summer 1', 'Morty 2', 'Ice-T', 'Drunk Rick', 'Rick J-22', 'Rick',\n",
              "       'Jessica', 'Pickle Rick', 'All Summers', 'Birdperson', 'Snuffles',\n",
              "       'Mrs. Pancakes', 'Brad', 'Principal Vagina', 'Alien Doctor',\n",
              "       'All Ricks', 'Cornvelious Daniel', 'Beth', 'Candidate Morty',\n",
              "       'Campaign Manager Morty'], dtype=object)"
            ]
          },
          "metadata": {},
          "execution_count": 514
        }
      ],
      "source": [
        "characters = df_rym.groupBy('name').count().toPandas()['name'].unique()\n",
        "characters"
      ]
    },
    {
      "cell_type": "code",
      "execution_count": 515,
      "metadata": {},
      "outputs": [
        {
          "output_type": "execute_result",
          "data": {
            "text/plain": [
              "array(['President', 'Ice-T', 'Birdperson', 'Pickle Rick', 'Lizard Morty'],\n",
              "      dtype=object)"
            ]
          },
          "metadata": {},
          "execution_count": 515
        }
      ],
      "source": [
        "ricks = ['Pickle Rick', 'President', 'Ice-T', 'Lizard Morty', 'Birdperson']\n",
        "df_rym = df_rym.where(df_rym.name.isin(ricks))\n",
        "df_rym.toPandas()['name'].unique()"
      ]
    },
    {
      "cell_type": "code",
      "execution_count": 516,
      "metadata": {},
      "outputs": [
        {
          "output_type": "execute_result",
          "data": {
            "text/plain": [
              "           name  count\n",
              "0    Birdperson      9\n",
              "1  Lizard Morty     11\n",
              "2         Ice-T     13\n",
              "3     President     27\n",
              "4   Pickle Rick     77"
            ],
            "text/html": "<div>\n<style scoped>\n    .dataframe tbody tr th:only-of-type {\n        vertical-align: middle;\n    }\n\n    .dataframe tbody tr th {\n        vertical-align: top;\n    }\n\n    .dataframe thead th {\n        text-align: right;\n    }\n</style>\n<table border=\"1\" class=\"dataframe\">\n  <thead>\n    <tr style=\"text-align: right;\">\n      <th></th>\n      <th>name</th>\n      <th>count</th>\n    </tr>\n  </thead>\n  <tbody>\n    <tr>\n      <th>0</th>\n      <td>Birdperson</td>\n      <td>9</td>\n    </tr>\n    <tr>\n      <th>1</th>\n      <td>Lizard Morty</td>\n      <td>11</td>\n    </tr>\n    <tr>\n      <th>2</th>\n      <td>Ice-T</td>\n      <td>13</td>\n    </tr>\n    <tr>\n      <th>3</th>\n      <td>President</td>\n      <td>27</td>\n    </tr>\n    <tr>\n      <th>4</th>\n      <td>Pickle Rick</td>\n      <td>77</td>\n    </tr>\n  </tbody>\n</table>\n</div>"
          },
          "metadata": {},
          "execution_count": 516
        }
      ],
      "source": [
        "df_ricks_grouped = df_rym.groupBy('name').count().toPandas()\n",
        "df_ricks_grouped = df_ricks_grouped.groupby(['name']).sum()\n",
        "df_ricks_grouped = df_ricks_grouped.sort_values(by='count')\n",
        "df_ricks_grouped = df_ricks_grouped.reset_index()\n",
        "df_ricks_grouped.head()"
      ]
    },
    {
      "cell_type": "code",
      "execution_count": 517,
      "metadata": {},
      "outputs": [
        {
          "output_type": "display_data",
          "data": {
            "application/vnd.plotly.v1+json": {
              "config": {
                "plotlyServerURL": "https://plot.ly"
              },
              "data": [
                {
                  "alignmentgroup": "True",
                  "hovertemplate": "name=%{x}<br>count=%{y}<extra></extra>",
                  "legendgroup": "",
                  "marker": {
                    "color": "#48cae4"
                  },
                  "name": "",
                  "offsetgroup": "",
                  "orientation": "v",
                  "showlegend": false,
                  "textposition": "auto",
                  "type": "bar",
                  "x": [
                    "Pickle Rick",
                    "President",
                    "Ice-T",
                    "Lizard Morty",
                    "Birdperson"
                  ],
                  "xaxis": "x",
                  "y": [
                    77,
                    27,
                    13,
                    11,
                    9
                  ],
                  "yaxis": "y"
                }
              ],
              "layout": {
                "barmode": "relative",
                "legend": {
                  "tracegroupgap": 0
                },
                "margin": {
                  "t": 60
                },
                "template": {
                  "data": {
                    "bar": [
                      {
                        "error_x": {
                          "color": "#f2f5fa"
                        },
                        "error_y": {
                          "color": "#f2f5fa"
                        },
                        "marker": {
                          "line": {
                            "color": "rgb(17,17,17)",
                            "width": 0.5
                          }
                        },
                        "type": "bar"
                      }
                    ],
                    "barpolar": [
                      {
                        "marker": {
                          "line": {
                            "color": "rgb(17,17,17)",
                            "width": 0.5
                          }
                        },
                        "type": "barpolar"
                      }
                    ],
                    "carpet": [
                      {
                        "aaxis": {
                          "endlinecolor": "#A2B1C6",
                          "gridcolor": "#506784",
                          "linecolor": "#506784",
                          "minorgridcolor": "#506784",
                          "startlinecolor": "#A2B1C6"
                        },
                        "baxis": {
                          "endlinecolor": "#A2B1C6",
                          "gridcolor": "#506784",
                          "linecolor": "#506784",
                          "minorgridcolor": "#506784",
                          "startlinecolor": "#A2B1C6"
                        },
                        "type": "carpet"
                      }
                    ],
                    "choropleth": [
                      {
                        "colorbar": {
                          "outlinewidth": 0,
                          "ticks": ""
                        },
                        "type": "choropleth"
                      }
                    ],
                    "contour": [
                      {
                        "colorbar": {
                          "outlinewidth": 0,
                          "ticks": ""
                        },
                        "colorscale": [
                          [
                            0,
                            "#0d0887"
                          ],
                          [
                            0.1111111111111111,
                            "#46039f"
                          ],
                          [
                            0.2222222222222222,
                            "#7201a8"
                          ],
                          [
                            0.3333333333333333,
                            "#9c179e"
                          ],
                          [
                            0.4444444444444444,
                            "#bd3786"
                          ],
                          [
                            0.5555555555555556,
                            "#d8576b"
                          ],
                          [
                            0.6666666666666666,
                            "#ed7953"
                          ],
                          [
                            0.7777777777777778,
                            "#fb9f3a"
                          ],
                          [
                            0.8888888888888888,
                            "#fdca26"
                          ],
                          [
                            1,
                            "#f0f921"
                          ]
                        ],
                        "type": "contour"
                      }
                    ],
                    "contourcarpet": [
                      {
                        "colorbar": {
                          "outlinewidth": 0,
                          "ticks": ""
                        },
                        "type": "contourcarpet"
                      }
                    ],
                    "heatmap": [
                      {
                        "colorbar": {
                          "outlinewidth": 0,
                          "ticks": ""
                        },
                        "colorscale": [
                          [
                            0,
                            "#0d0887"
                          ],
                          [
                            0.1111111111111111,
                            "#46039f"
                          ],
                          [
                            0.2222222222222222,
                            "#7201a8"
                          ],
                          [
                            0.3333333333333333,
                            "#9c179e"
                          ],
                          [
                            0.4444444444444444,
                            "#bd3786"
                          ],
                          [
                            0.5555555555555556,
                            "#d8576b"
                          ],
                          [
                            0.6666666666666666,
                            "#ed7953"
                          ],
                          [
                            0.7777777777777778,
                            "#fb9f3a"
                          ],
                          [
                            0.8888888888888888,
                            "#fdca26"
                          ],
                          [
                            1,
                            "#f0f921"
                          ]
                        ],
                        "type": "heatmap"
                      }
                    ],
                    "heatmapgl": [
                      {
                        "colorbar": {
                          "outlinewidth": 0,
                          "ticks": ""
                        },
                        "colorscale": [
                          [
                            0,
                            "#0d0887"
                          ],
                          [
                            0.1111111111111111,
                            "#46039f"
                          ],
                          [
                            0.2222222222222222,
                            "#7201a8"
                          ],
                          [
                            0.3333333333333333,
                            "#9c179e"
                          ],
                          [
                            0.4444444444444444,
                            "#bd3786"
                          ],
                          [
                            0.5555555555555556,
                            "#d8576b"
                          ],
                          [
                            0.6666666666666666,
                            "#ed7953"
                          ],
                          [
                            0.7777777777777778,
                            "#fb9f3a"
                          ],
                          [
                            0.8888888888888888,
                            "#fdca26"
                          ],
                          [
                            1,
                            "#f0f921"
                          ]
                        ],
                        "type": "heatmapgl"
                      }
                    ],
                    "histogram": [
                      {
                        "marker": {
                          "colorbar": {
                            "outlinewidth": 0,
                            "ticks": ""
                          }
                        },
                        "type": "histogram"
                      }
                    ],
                    "histogram2d": [
                      {
                        "colorbar": {
                          "outlinewidth": 0,
                          "ticks": ""
                        },
                        "colorscale": [
                          [
                            0,
                            "#0d0887"
                          ],
                          [
                            0.1111111111111111,
                            "#46039f"
                          ],
                          [
                            0.2222222222222222,
                            "#7201a8"
                          ],
                          [
                            0.3333333333333333,
                            "#9c179e"
                          ],
                          [
                            0.4444444444444444,
                            "#bd3786"
                          ],
                          [
                            0.5555555555555556,
                            "#d8576b"
                          ],
                          [
                            0.6666666666666666,
                            "#ed7953"
                          ],
                          [
                            0.7777777777777778,
                            "#fb9f3a"
                          ],
                          [
                            0.8888888888888888,
                            "#fdca26"
                          ],
                          [
                            1,
                            "#f0f921"
                          ]
                        ],
                        "type": "histogram2d"
                      }
                    ],
                    "histogram2dcontour": [
                      {
                        "colorbar": {
                          "outlinewidth": 0,
                          "ticks": ""
                        },
                        "colorscale": [
                          [
                            0,
                            "#0d0887"
                          ],
                          [
                            0.1111111111111111,
                            "#46039f"
                          ],
                          [
                            0.2222222222222222,
                            "#7201a8"
                          ],
                          [
                            0.3333333333333333,
                            "#9c179e"
                          ],
                          [
                            0.4444444444444444,
                            "#bd3786"
                          ],
                          [
                            0.5555555555555556,
                            "#d8576b"
                          ],
                          [
                            0.6666666666666666,
                            "#ed7953"
                          ],
                          [
                            0.7777777777777778,
                            "#fb9f3a"
                          ],
                          [
                            0.8888888888888888,
                            "#fdca26"
                          ],
                          [
                            1,
                            "#f0f921"
                          ]
                        ],
                        "type": "histogram2dcontour"
                      }
                    ],
                    "mesh3d": [
                      {
                        "colorbar": {
                          "outlinewidth": 0,
                          "ticks": ""
                        },
                        "type": "mesh3d"
                      }
                    ],
                    "parcoords": [
                      {
                        "line": {
                          "colorbar": {
                            "outlinewidth": 0,
                            "ticks": ""
                          }
                        },
                        "type": "parcoords"
                      }
                    ],
                    "pie": [
                      {
                        "automargin": true,
                        "type": "pie"
                      }
                    ],
                    "scatter": [
                      {
                        "marker": {
                          "line": {
                            "color": "#283442"
                          }
                        },
                        "type": "scatter"
                      }
                    ],
                    "scatter3d": [
                      {
                        "line": {
                          "colorbar": {
                            "outlinewidth": 0,
                            "ticks": ""
                          }
                        },
                        "marker": {
                          "colorbar": {
                            "outlinewidth": 0,
                            "ticks": ""
                          }
                        },
                        "type": "scatter3d"
                      }
                    ],
                    "scattercarpet": [
                      {
                        "marker": {
                          "colorbar": {
                            "outlinewidth": 0,
                            "ticks": ""
                          }
                        },
                        "type": "scattercarpet"
                      }
                    ],
                    "scattergeo": [
                      {
                        "marker": {
                          "colorbar": {
                            "outlinewidth": 0,
                            "ticks": ""
                          }
                        },
                        "type": "scattergeo"
                      }
                    ],
                    "scattergl": [
                      {
                        "marker": {
                          "line": {
                            "color": "#283442"
                          }
                        },
                        "type": "scattergl"
                      }
                    ],
                    "scattermapbox": [
                      {
                        "marker": {
                          "colorbar": {
                            "outlinewidth": 0,
                            "ticks": ""
                          }
                        },
                        "type": "scattermapbox"
                      }
                    ],
                    "scatterpolar": [
                      {
                        "marker": {
                          "colorbar": {
                            "outlinewidth": 0,
                            "ticks": ""
                          }
                        },
                        "type": "scatterpolar"
                      }
                    ],
                    "scatterpolargl": [
                      {
                        "marker": {
                          "colorbar": {
                            "outlinewidth": 0,
                            "ticks": ""
                          }
                        },
                        "type": "scatterpolargl"
                      }
                    ],
                    "scatterternary": [
                      {
                        "marker": {
                          "colorbar": {
                            "outlinewidth": 0,
                            "ticks": ""
                          }
                        },
                        "type": "scatterternary"
                      }
                    ],
                    "surface": [
                      {
                        "colorbar": {
                          "outlinewidth": 0,
                          "ticks": ""
                        },
                        "colorscale": [
                          [
                            0,
                            "#0d0887"
                          ],
                          [
                            0.1111111111111111,
                            "#46039f"
                          ],
                          [
                            0.2222222222222222,
                            "#7201a8"
                          ],
                          [
                            0.3333333333333333,
                            "#9c179e"
                          ],
                          [
                            0.4444444444444444,
                            "#bd3786"
                          ],
                          [
                            0.5555555555555556,
                            "#d8576b"
                          ],
                          [
                            0.6666666666666666,
                            "#ed7953"
                          ],
                          [
                            0.7777777777777778,
                            "#fb9f3a"
                          ],
                          [
                            0.8888888888888888,
                            "#fdca26"
                          ],
                          [
                            1,
                            "#f0f921"
                          ]
                        ],
                        "type": "surface"
                      }
                    ],
                    "table": [
                      {
                        "cells": {
                          "fill": {
                            "color": "#506784"
                          },
                          "line": {
                            "color": "rgb(17,17,17)"
                          }
                        },
                        "header": {
                          "fill": {
                            "color": "#2a3f5f"
                          },
                          "line": {
                            "color": "rgb(17,17,17)"
                          }
                        },
                        "type": "table"
                      }
                    ]
                  },
                  "layout": {
                    "annotationdefaults": {
                      "arrowcolor": "#f2f5fa",
                      "arrowhead": 0,
                      "arrowwidth": 1
                    },
                    "autotypenumbers": "strict",
                    "coloraxis": {
                      "colorbar": {
                        "outlinewidth": 0,
                        "ticks": ""
                      }
                    },
                    "colorscale": {
                      "diverging": [
                        [
                          0,
                          "#8e0152"
                        ],
                        [
                          0.1,
                          "#c51b7d"
                        ],
                        [
                          0.2,
                          "#de77ae"
                        ],
                        [
                          0.3,
                          "#f1b6da"
                        ],
                        [
                          0.4,
                          "#fde0ef"
                        ],
                        [
                          0.5,
                          "#f7f7f7"
                        ],
                        [
                          0.6,
                          "#e6f5d0"
                        ],
                        [
                          0.7,
                          "#b8e186"
                        ],
                        [
                          0.8,
                          "#7fbc41"
                        ],
                        [
                          0.9,
                          "#4d9221"
                        ],
                        [
                          1,
                          "#276419"
                        ]
                      ],
                      "sequential": [
                        [
                          0,
                          "#0d0887"
                        ],
                        [
                          0.1111111111111111,
                          "#46039f"
                        ],
                        [
                          0.2222222222222222,
                          "#7201a8"
                        ],
                        [
                          0.3333333333333333,
                          "#9c179e"
                        ],
                        [
                          0.4444444444444444,
                          "#bd3786"
                        ],
                        [
                          0.5555555555555556,
                          "#d8576b"
                        ],
                        [
                          0.6666666666666666,
                          "#ed7953"
                        ],
                        [
                          0.7777777777777778,
                          "#fb9f3a"
                        ],
                        [
                          0.8888888888888888,
                          "#fdca26"
                        ],
                        [
                          1,
                          "#f0f921"
                        ]
                      ],
                      "sequentialminus": [
                        [
                          0,
                          "#0d0887"
                        ],
                        [
                          0.1111111111111111,
                          "#46039f"
                        ],
                        [
                          0.2222222222222222,
                          "#7201a8"
                        ],
                        [
                          0.3333333333333333,
                          "#9c179e"
                        ],
                        [
                          0.4444444444444444,
                          "#bd3786"
                        ],
                        [
                          0.5555555555555556,
                          "#d8576b"
                        ],
                        [
                          0.6666666666666666,
                          "#ed7953"
                        ],
                        [
                          0.7777777777777778,
                          "#fb9f3a"
                        ],
                        [
                          0.8888888888888888,
                          "#fdca26"
                        ],
                        [
                          1,
                          "#f0f921"
                        ]
                      ]
                    },
                    "colorway": [
                      "#636efa",
                      "#EF553B",
                      "#00cc96",
                      "#ab63fa",
                      "#FFA15A",
                      "#19d3f3",
                      "#FF6692",
                      "#B6E880",
                      "#FF97FF",
                      "#FECB52"
                    ],
                    "font": {
                      "color": "#f2f5fa"
                    },
                    "geo": {
                      "bgcolor": "rgb(17,17,17)",
                      "lakecolor": "rgb(17,17,17)",
                      "landcolor": "rgb(17,17,17)",
                      "showlakes": true,
                      "showland": true,
                      "subunitcolor": "#506784"
                    },
                    "hoverlabel": {
                      "align": "left"
                    },
                    "hovermode": "closest",
                    "mapbox": {
                      "style": "dark"
                    },
                    "paper_bgcolor": "rgb(17,17,17)",
                    "plot_bgcolor": "rgb(17,17,17)",
                    "polar": {
                      "angularaxis": {
                        "gridcolor": "#506784",
                        "linecolor": "#506784",
                        "ticks": ""
                      },
                      "bgcolor": "rgb(17,17,17)",
                      "radialaxis": {
                        "gridcolor": "#506784",
                        "linecolor": "#506784",
                        "ticks": ""
                      }
                    },
                    "scene": {
                      "xaxis": {
                        "backgroundcolor": "rgb(17,17,17)",
                        "gridcolor": "#506784",
                        "gridwidth": 2,
                        "linecolor": "#506784",
                        "showbackground": true,
                        "ticks": "",
                        "zerolinecolor": "#C8D4E3"
                      },
                      "yaxis": {
                        "backgroundcolor": "rgb(17,17,17)",
                        "gridcolor": "#506784",
                        "gridwidth": 2,
                        "linecolor": "#506784",
                        "showbackground": true,
                        "ticks": "",
                        "zerolinecolor": "#C8D4E3"
                      },
                      "zaxis": {
                        "backgroundcolor": "rgb(17,17,17)",
                        "gridcolor": "#506784",
                        "gridwidth": 2,
                        "linecolor": "#506784",
                        "showbackground": true,
                        "ticks": "",
                        "zerolinecolor": "#C8D4E3"
                      }
                    },
                    "shapedefaults": {
                      "line": {
                        "color": "#f2f5fa"
                      }
                    },
                    "sliderdefaults": {
                      "bgcolor": "#C8D4E3",
                      "bordercolor": "rgb(17,17,17)",
                      "borderwidth": 1,
                      "tickwidth": 0
                    },
                    "ternary": {
                      "aaxis": {
                        "gridcolor": "#506784",
                        "linecolor": "#506784",
                        "ticks": ""
                      },
                      "baxis": {
                        "gridcolor": "#506784",
                        "linecolor": "#506784",
                        "ticks": ""
                      },
                      "bgcolor": "rgb(17,17,17)",
                      "caxis": {
                        "gridcolor": "#506784",
                        "linecolor": "#506784",
                        "ticks": ""
                      }
                    },
                    "title": {
                      "x": 0.05
                    },
                    "updatemenudefaults": {
                      "bgcolor": "#506784",
                      "borderwidth": 0
                    },
                    "xaxis": {
                      "automargin": true,
                      "gridcolor": "#283442",
                      "linecolor": "#506784",
                      "ticks": "",
                      "title": {
                        "standoff": 15
                      },
                      "zerolinecolor": "#283442",
                      "zerolinewidth": 2
                    },
                    "yaxis": {
                      "automargin": true,
                      "gridcolor": "#283442",
                      "linecolor": "#506784",
                      "ticks": "",
                      "title": {
                        "standoff": 15
                      },
                      "zerolinecolor": "#283442",
                      "zerolinewidth": 2
                    }
                  }
                },
                "title": {
                  "text": "Distribución de número de diálogos por personajes alternativos"
                },
                "xaxis": {
                  "anchor": "y",
                  "domain": [
                    0,
                    1
                  ],
                  "title": {
                    "text": "Personajes"
                  }
                },
                "yaxis": {
                  "anchor": "x",
                  "domain": [
                    0,
                    1
                  ],
                  "title": {
                    "text": "Número de diálogos"
                  }
                }
              }
            }
          },
          "metadata": {}
        }
      ],
      "source": [
        "fig = px.bar(\n",
        "    df_ricks_grouped[::-1], x='name', y='count',\n",
        "    template='plotly_dark'\n",
        ")\n",
        "fig = fig.update_layout(\n",
        "    title = dict(\n",
        "        text = \"Distribución de número de diálogos por personajes alternativos\"\n",
        "    ),\n",
        "    xaxis = dict(\n",
        "        title = 'Personajes'\n",
        "    ),\n",
        "    yaxis = dict(\n",
        "        title = 'Número de diálogos'\n",
        "    )\n",
        ")\n",
        "fig = fig.update_traces(\n",
        "    marker_color='#48cae4'\n",
        ")\n",
        "fig.show()"
      ]
    },
    {
      "source": [
        "## 2. Limpieza de datos"
      ],
      "cell_type": "markdown",
      "metadata": {}
    },
    {
      "cell_type": "code",
      "execution_count": 518,
      "metadata": {},
      "outputs": [],
      "source": [
        "def quita_palabras_vacias(texto):\n",
        "  texto_limpio = [ palabra for palabra in texto if palabra not in palabras_vacias ]\n",
        "  return texto_limpio\n",
        "  \n",
        "palabras_vacias = nltk.corpus.stopwords.words('english')"
      ]
    },
    {
      "cell_type": "code",
      "execution_count": 519,
      "metadata": {},
      "outputs": [],
      "source": [
        "# Selección de atributos relevantes\n",
        "df_rym = df_rym.select('index', 'name', 'line')\n",
        "\n",
        "# Transformación a minúsculas\n",
        "df_rym = df_rym.rdd.map(lambda x: (x[0], x[1], x[2].lower()))\\\n",
        "    .toDF(['id', 'nombre', 'dialog'])\n",
        "\n",
        "# Eliminación de signos de puntuación\n",
        "df_rym = df_rym.rdd \\\n",
        "           .map(lambda x: (x[0], x[1], x[2].translate(str.maketrans('', '', string.punctuation)))) \\\n",
        "           .toDF(['id', 'nombre', 'dialog']) \n",
        "\n",
        "# Transformación al formato adecuado\n",
        "df_rym = df_rym.rdd \\\n",
        "           .map(lambda x: (x[0], x[1], x[2].split(' '))) \\\n",
        "           .toDF(['id', 'nombre', 'dialog']) \\\n",
        "           .filter(size('dialog') > 0) "
      ]
    },
    {
      "cell_type": "code",
      "execution_count": 520,
      "metadata": {},
      "outputs": [
        {
          "output_type": "stream",
          "name": "stdout",
          "text": [
            "+----+---------+--------------------+\n|  id|   nombre|              dialog|\n+----+---------+--------------------+\n| 977|President|[gentlemen, gentl...|\n| 982|President|[stand, down, eve...|\n| 990|President|[all, right, all,...|\n| 993|President|[for, god’s, sake...|\n| 995|President|[what, how, is, t...|\n| 997|President|         [dear, god]|\n|1001|President|[sanchez, are, yo...|\n|1003|President|[get, this, man, ...|\n|1024|President|[it’s, our, world...|\n|1027|President|[don’t, analyze, ...|\n+----+---------+--------------------+\nonly showing top 10 rows\n\n"
          ]
        }
      ],
      "source": [
        "df_rym.show(10)"
      ]
    },
    {
      "source": [
        "## 3. CountVectorizer"
      ],
      "cell_type": "markdown",
      "metadata": {}
    },
    {
      "cell_type": "code",
      "execution_count": 521,
      "metadata": {},
      "outputs": [],
      "source": [
        "cv = CountVectorizer(\n",
        "    inputCol = \"dialog\",\n",
        "    outputCol= \"features\"\n",
        ")\n",
        "model = cv.fit(df_rym)\n",
        "model.setInputCol(\"dialog\")\n",
        "df_rym_cv = model.transform(df_rym)"
      ]
    },
    {
      "cell_type": "code",
      "execution_count": 522,
      "metadata": {},
      "outputs": [
        {
          "output_type": "stream",
          "name": "stdout",
          "text": [
            "+----+---------+--------------------+--------------------+\n|  id|   nombre|              dialog|            features|\n+----+---------+--------------------+--------------------+\n| 977|President|[gentlemen, gentl...|(700,[4,58,66,87,...|\n| 982|President|[stand, down, eve...|(700,[2,5,6,27,33...|\n| 990|President|[all, right, all,...|(700,[3,5,6,18,19...|\n| 993|President|[for, god’s, sake...|(700,[2,27,32,39,...|\n| 995|President|[what, how, is, t...|(700,[0,7,12,20,2...|\n| 997|President|         [dear, god]|(700,[44,674],[1....|\n|1001|President|[sanchez, are, yo...|(700,[3,4,30,157,...|\n|1003|President|[get, this, man, ...|(700,[1,4,5,9,15,...|\n|1024|President|[it’s, our, world...|(700,[20,100,132,...|\n|1027|President|[don’t, analyze, ...|(700,[8,77,112,13...|\n+----+---------+--------------------+--------------------+\nonly showing top 10 rows\n\n"
          ]
        }
      ],
      "source": [
        "df_rym_cv.show(10)"
      ]
    },
    {
      "source": [
        "## 4. MinHashLSH"
      ],
      "cell_type": "markdown",
      "metadata": {}
    },
    {
      "cell_type": "code",
      "execution_count": 523,
      "metadata": {},
      "outputs": [],
      "source": [
        "mh = MinHashLSH(\n",
        "    inputCol=\"features\",\n",
        "    outputCol=\"hashes\"\n",
        ")\n",
        "model = mh.fit(df_rym_cv)\n",
        "model.setInputCol(\"features\")\n",
        "df_rym_mh = model.transform(df_rym_cv)"
      ]
    },
    {
      "cell_type": "code",
      "execution_count": 524,
      "metadata": {},
      "outputs": [
        {
          "output_type": "stream",
          "name": "stdout",
          "text": [
            "+----+---------+--------------------+--------------------+----------------+\n|  id|   nombre|              dialog|            features|          hashes|\n+----+---------+--------------------+--------------------+----------------+\n| 977|President|[gentlemen, gentl...|(700,[4,58,66,87,...|[[7.43759936E8]]|\n| 982|President|[stand, down, eve...|(700,[2,5,6,27,33...|[[3.85790253E8]]|\n| 990|President|[all, right, all,...|(700,[3,5,6,18,19...| [[1.4045929E8]]|\n| 993|President|[for, god’s, sake...|(700,[2,27,32,39,...|  [[2.729414E7]]|\n| 995|President|[what, how, is, t...|(700,[0,7,12,20,2...|[[2.28569832E8]]|\n| 997|President|         [dear, god]|(700,[44,674],[1....|[[1.83724916E8]]|\n|1001|President|[sanchez, are, yo...|(700,[3,4,30,157,...| [[4.7626973E8]]|\n|1003|President|[get, this, man, ...|(700,[1,4,5,9,15,...|[[1.83988131E8]]|\n|1024|President|[it’s, our, world...|(700,[20,100,132,...| [[3.6363101E8]]|\n|1027|President|[don’t, analyze, ...|(700,[8,77,112,13...| [[7.2402271E7]]|\n+----+---------+--------------------+--------------------+----------------+\nonly showing top 10 rows\n\n"
          ]
        }
      ],
      "source": [
        "df_rym_mh.show(10)"
      ]
    },
    {
      "source": [
        "## 5. Similaridad de diálogos"
      ],
      "cell_type": "markdown",
      "metadata": {}
    },
    {
      "cell_type": "code",
      "execution_count": 525,
      "metadata": {},
      "outputs": [],
      "source": [
        "dialog_similarity = modelo_mh.approxSimilarityJoin(\n",
        "    datasetA  = df_rym_mh,\n",
        "    datasetB  = df_rym_mh, \n",
        "    threshold = 0.9, \n",
        "    distCol   = 'dist_euclidean'\n",
        ").select(\n",
        "    col('datasetA.nombre').alias('nombreA'), \n",
        "    col('datasetA.dialog').alias('dialogA'),\n",
        "    col('datasetB.nombre').alias('nombreB'),\n",
        "    col('datasetB.dialog').alias('dialogB'),\n",
        "    col('dist_euclidean')\n",
        ").where(col('dist_euclidean') > 0)"
      ]
    },
    {
      "cell_type": "code",
      "execution_count": 526,
      "metadata": {},
      "outputs": [
        {
          "output_type": "stream",
          "name": "stdout",
          "text": [
            "--------------------------   Dialog #1   --------------------------\n-------------------------   Dist: 0.889   -------------------------\n[Pickle Rick]:\n\"oh crap that sun is bright \"\n\n[Ice-T]:\n\"yo this is why \"\n\n\n\n--------------------------   Dialog #2   --------------------------\n-------------------------   Dist: 0.852   -------------------------\n[Pickle Rick]:\n\"oh god the moisture dial it back god dial it back a little bit here \"\n\n[Pickle Rick]:\n\"oh my god beth oh it totally slipped my mind geez oh man im a pickle i mean i dont know if i can ooh geez \"\n\n\n\n--------------------------   Dialog #3   --------------------------\n-------------------------   Dist: 0.875   -------------------------\n[Lizard Morty]:\n\"almost got it \"\n\n[Pickle Rick]:\n\"god damn it i love myself \"\n\n\n\n--------------------------   Dialog #4   --------------------------\n-------------------------   Dist: 0.87   -------------------------\n[Lizard Morty]:\n\"then you should use your left hand to eat more vegetables \"\n\n[Pickle Rick]:\n\"yeah thank you uh sweetie you dont still happen to have that syringe in your purse \"\n\n\n\n--------------------------   Dialog #5   --------------------------\n-------------------------   Dist: 0.8   -------------------------\n[Ice-T]:\n\"yo this is why \"\n\n[Pickle Rick]:\n\"whoa who in the fucks toilet is this \"\n\n\n\n--------------------------   Dialog #6   --------------------------\n-------------------------   Dist: 0.833   -------------------------\n[President]:\n\"what how is that possible do people just die when i name them \"\n\n[Pickle Rick]:\n\"so hot this is how im gonna die \"\n\n\n\n--------------------------   Dialog #7   --------------------------\n-------------------------   Dist: 0.882   -------------------------\n[Ice-T]:\n\"my story begins at the dawn of time in the far away realm of alphabetrium there every being is a letter of the alphabet but i was frozen and exiled to the cosmos by my elders as punishment for not caring enough about anything earth is just one of the many stops on my lifelong journey with no destination so you better believe i don’t care if it blows up cause i’ll just be ice floatin’ through space like a comet \"\n\n[Pickle Rick]:\n\"oh well uh she knows i mean we dont really buy into that kind of crap to the extent that love is an expression of familiarity over time my access to infinite timelines precludes the necessity of attachment in fact i even abandoned one of my infinite daughters in an alternate version of earth that was taken over by mutants \"\n\n\n\n--------------------------   Dialog #8   --------------------------\n-------------------------   Dist: 0.875   -------------------------\n[Pickle Rick]:\n\"aah come on come on motherfucker come on \"\n\n[Pickle Rick]:\n\"morty the garage morty come to the garage \"\n\n\n\n--------------------------   Dialog #9   --------------------------\n-------------------------   Dist: 0.889   -------------------------\n[Pickle Rick]:\n\"oh come on \"\n\n[Pickle Rick]:\n\"so i wouldnt have to come here \"\n\n\n\n--------------------------   Dialog #10   --------------------------\n-------------------------   Dist: 0.897   -------------------------\n[Pickle Rick]:\n\"oh no i mean i know it was morty peeing his pants and summer snorting glue or whatever \"\n\n[Pickle Rick]:\n\"well there was so much more at stake i mean that shrink what a monologuist \"\n\n\n\n--------------------------   Dialog #11   --------------------------\n-------------------------   Dist: 0.8   -------------------------\n[Pickle Rick]:\n\"so i wouldnt have to come here \"\n\n[Pickle Rick]:\n\"morty the garage morty come to the garage \"\n\n\n\n--------------------------   Dialog #12   --------------------------\n-------------------------   Dist: 0.5   -------------------------\n[Pickle Rick]:\n\"wow ugh \"\n\n[Pickle Rick]:\n\"ugh \"\n\n\n\n--------------------------   Dialog #13   --------------------------\n-------------------------   Dist: 0.87   -------------------------\n[Pickle Rick]:\n\"yeah thank you uh sweetie you dont still happen to have that syringe in your purse \"\n\n[Lizard Morty]:\n\"then you should use your left hand to eat more vegetables \"\n\n\n\n--------------------------   Dialog #14   --------------------------\n-------------------------   Dist: 0.875   -------------------------\n[Pickle Rick]:\n\"come get this delicious brine \"\n\n[Pickle Rick]:\n\"aah come on come on motherfucker come on \"\n\n\n\n--------------------------   Dialog #15   --------------------------\n-------------------------   Dist: 0.857   -------------------------\n[Pickle Rick]:\n\"i wouldnt be much of a pickle if i could \"\n\n[Pickle Rick]:\n\"sweetie could i get get that syringe now \"\n\n\n\n--------------------------   Dialog #16   --------------------------\n-------------------------   Dist: 0.889   -------------------------\n[Pickle Rick]:\n\"jaguar couldnt make it \"\n\n[Pickle Rick]:\n\"god damn it i love myself \"\n\n\n\n--------------------------   Dialog #17   --------------------------\n-------------------------   Dist: 0.5   -------------------------\n[Pickle Rick]:\n\"oh oh \"\n\n[Pickle Rick]:\n\"oh shiiit oh oh oh \"\n\n\n\n--------------------------   Dialog #18   --------------------------\n-------------------------   Dist: 0.87   -------------------------\n[Pickle Rick]:\n\"god damn it i love myself \"\n\n[Pickle Rick]:\n\"oh my god beth oh it totally slipped my mind geez oh man im a pickle i mean i dont know if i can ooh geez \"\n\n\n\n--------------------------   Dialog #19   --------------------------\n-------------------------   Dist: 0.5   -------------------------\n[Pickle Rick]:\n\"oh shiiit oh oh oh \"\n\n[Pickle Rick]:\n\"oh oh \"\n\n\n\n--------------------------   Dialog #20   --------------------------\n-------------------------   Dist: 0.857   -------------------------\n[Pickle Rick]:\n\"oh come on \"\n\n[Pickle Rick]:\n\"morty the garage morty come to the garage \"\n\n\n\n--------------------------   Dialog #21   --------------------------\n-------------------------   Dist: 0.889   -------------------------\n[Ice-T]:\n\"yo this is why \"\n\n[Pickle Rick]:\n\"oh crap that sun is bright \"\n\n\n\n--------------------------   Dialog #22   --------------------------\n-------------------------   Dist: 0.857   -------------------------\n[Pickle Rick]:\n\"okay come on this cant really be the way i go out this is the megagenius equivalent of dying on the toilet \"\n\n[President]:\n\"i’m really bad at this morty there are way too many buttons on this thing \"\n\n\n\n--------------------------   Dialog #23   --------------------------\n-------------------------   Dist: 0.857   -------------------------\n[Pickle Rick]:\n\"morty the garage morty come to the garage \"\n\n[Pickle Rick]:\n\"oh come on \"\n\n\n\n--------------------------   Dialog #24   --------------------------\n-------------------------   Dist: 0.874   -------------------------\n[Ice-T]:\n\"my story begins at the dawn of time in the far away realm of alphabetrium there every being is a letter of the alphabet but i was frozen and exiled to the cosmos by my elders as punishment for not caring enough about anything earth is just one of the many stops on my lifelong journey with no destination so you better believe i don’t care if it blows up cause i’ll just be ice floatin’ through space like a comet \"\n\n[President]:\n\"our planet’s held captive on a live game show and your solution is to shoot the audience you can put your faith in nukes if we get through this general until then i’ll put mine in rick and morty “get schwifty” was a jam \"\n\n\n\n--------------------------   Dialog #25   --------------------------\n-------------------------   Dist: 0.875   -------------------------\n[Pickle Rick]:\n\"that will be your downfall jaguar not being open to new experiences \"\n\n[Pickle Rick]:\n\"yeah thank you uh sweetie you dont still happen to have that syringe in your purse \"\n\n\n\n--------------------------   Dialog #26   --------------------------\n-------------------------   Dist: 0.857   -------------------------\n[Pickle Rick]:\n\"sweetie could i get get that syringe now \"\n\n[Pickle Rick]:\n\"i wouldnt be much of a pickle if i could \"\n\n\n\n--------------------------   Dialog #27   --------------------------\n-------------------------   Dist: 0.852   -------------------------\n[Pickle Rick]:\n\"oh my god beth oh it totally slipped my mind geez oh man im a pickle i mean i dont know if i can ooh geez \"\n\n[Pickle Rick]:\n\"oh god the moisture dial it back god dial it back a little bit here \"\n\n\n\n--------------------------   Dialog #28   --------------------------\n-------------------------   Dist: 0.833   -------------------------\n[Pickle Rick]:\n\"jaguar couldnt make it \"\n\n[Lizard Morty]:\n\"almost got it \"\n\n\n\n--------------------------   Dialog #29   --------------------------\n-------------------------   Dist: 0.874   -------------------------\n[President]:\n\"our planet’s held captive on a live game show and your solution is to shoot the audience you can put your faith in nukes if we get through this general until then i’ll put mine in rick and morty “get schwifty” was a jam \"\n\n[Ice-T]:\n\"my story begins at the dawn of time in the far away realm of alphabetrium there every being is a letter of the alphabet but i was frozen and exiled to the cosmos by my elders as punishment for not caring enough about anything earth is just one of the many stops on my lifelong journey with no destination so you better believe i don’t care if it blows up cause i’ll just be ice floatin’ through space like a comet \"\n\n\n\n--------------------------   Dialog #30   --------------------------\n-------------------------   Dist: 0.87   -------------------------\n[Pickle Rick]:\n\"oh my god beth oh it totally slipped my mind geez oh man im a pickle i mean i dont know if i can ooh geez \"\n\n[Pickle Rick]:\n\"god damn it i love myself \"\n\n\n\n--------------------------   Dialog #31   --------------------------\n-------------------------   Dist: 0.833   -------------------------\n[Lizard Morty]:\n\"almost got it \"\n\n[Pickle Rick]:\n\"jaguar couldnt make it \"\n\n\n\n--------------------------   Dialog #32   --------------------------\n-------------------------   Dist: 0.75   -------------------------\n[President]:\n\"dear god \"\n\n[Pickle Rick]:\n\"oh god moisture \"\n\n\n\n--------------------------   Dialog #33   --------------------------\n-------------------------   Dist: 0.875   -------------------------\n[Pickle Rick]:\n\"morty the garage morty come to the garage \"\n\n[Pickle Rick]:\n\"aah come on come on motherfucker come on \"\n\n\n\n--------------------------   Dialog #34   --------------------------\n-------------------------   Dist: 0.8   -------------------------\n[Pickle Rick]:\n\"morty the garage morty come to the garage \"\n\n[Pickle Rick]:\n\"so i wouldnt have to come here \"\n\n\n\n--------------------------   Dialog #35   --------------------------\n-------------------------   Dist: 0.895   -------------------------\n[Lizard Morty]:\n\"guess we won’t be seein’ each other after this huh \"\n\n[Lizard Morty]:\n\"i guess i wish i had something cooler than this dumbass surfer necklace \"\n\n\n\n--------------------------   Dialog #36   --------------------------\n-------------------------   Dist: 0.889   -------------------------\n[Pickle Rick]:\n\"come get this delicious brine \"\n\n[Pickle Rick]:\n\"morty the garage morty come to the garage \"\n\n\n\n--------------------------   Dialog #37   --------------------------\n-------------------------   Dist: 0.839   -------------------------\n[Pickle Rick]:\n\"come on flip the pickle morty youre not gonna regret it the payoff is huge \"\n\n[Pickle Rick]:\n\"well morty if you know must know the syringe is completely unrelated to this discussion and therefore it does not warrant further explanation \"\n\n\n\n--------------------------   Dialog #38   --------------------------\n-------------------------   Dist: 0.839   -------------------------\n[Pickle Rick]:\n\"well morty if you know must know the syringe is completely unrelated to this discussion and therefore it does not warrant further explanation \"\n\n[Pickle Rick]:\n\"come on flip the pickle morty youre not gonna regret it the payoff is huge \"\n\n\n\n--------------------------   Dialog #39   --------------------------\n-------------------------   Dist: 0.882   -------------------------\n[Pickle Rick]:\n\"oh well uh she knows i mean we dont really buy into that kind of crap to the extent that love is an expression of familiarity over time my access to infinite timelines precludes the necessity of attachment in fact i even abandoned one of my infinite daughters in an alternate version of earth that was taken over by mutants \"\n\n[Ice-T]:\n\"my story begins at the dawn of time in the far away realm of alphabetrium there every being is a letter of the alphabet but i was frozen and exiled to the cosmos by my elders as punishment for not caring enough about anything earth is just one of the many stops on my lifelong journey with no destination so you better believe i don’t care if it blows up cause i’ll just be ice floatin’ through space like a comet \"\n\n\n\n--------------------------   Dialog #40   --------------------------\n-------------------------   Dist: 0.875   -------------------------\n[Pickle Rick]:\n\"aah come on come on motherfucker come on \"\n\n[Pickle Rick]:\n\"come get this delicious brine \"\n\n\n\n--------------------------   Dialog #41   --------------------------\n-------------------------   Dist: 0.857   -------------------------\n[Ice-T]:\n\"i have changed i am ready to rejoin my brethren on alphabetrium \"\n\n[Pickle Rick]:\n\"on my work bench morty \"\n\n\n\n--------------------------   Dialog #42   --------------------------\n-------------------------   Dist: 0.882   -------------------------\n[Lizard Morty]:\n\"i bet it leads to a place where a bunch of fri flies everywhere \"\n\n[Pickle Rick]:\n\"god damn it i love myself \"\n\n\n\n--------------------------   Dialog #43   --------------------------\n-------------------------   Dist: 0.85   -------------------------\n[Pickle Rick]:\n\"the reason anyone would do this is if they could which they cant would be because they could which they cant \"\n\n[Pickle Rick]:\n\"i wouldnt be much of a pickle if i could \"\n\n\n\n--------------------------   Dialog #44   --------------------------\n-------------------------   Dist: 0.8   -------------------------\n[Pickle Rick]:\n\"come on thats it \"\n\n[Pickle Rick]:\n\"come on flip the pickle morty youre not gonna regret it the payoff is huge \"\n\n\n\n--------------------------   Dialog #45   --------------------------\n-------------------------   Dist: 0.833   -------------------------\n[Pickle Rick]:\n\"so hot this is how im gonna die \"\n\n[President]:\n\"what how is that possible do people just die when i name them \"\n\n\n\n--------------------------   Dialog #46   --------------------------\n-------------------------   Dist: 0.895   -------------------------\n[Lizard Morty]:\n\"i guess i wish i had something cooler than this dumbass surfer necklace \"\n\n[Lizard Morty]:\n\"guess we won’t be seein’ each other after this huh \"\n\n\n\n--------------------------   Dialog #47   --------------------------\n-------------------------   Dist: 0.889   -------------------------\n[Pickle Rick]:\n\"theres nothing i wont do to see her again \"\n\n[President]:\n\"i hope i can call on you again if we need you morty \"\n\n\n\n--------------------------   Dialog #48   --------------------------\n-------------------------   Dist: 0.6   -------------------------\n[Pickle Rick]:\n\"oh come on \"\n\n[Pickle Rick]:\n\"aah come on come on motherfucker come on \"\n\n\n\n--------------------------   Dialog #49   --------------------------\n-------------------------   Dist: 0.889   -------------------------\n[Pickle Rick]:\n\"morty the garage morty come to the garage \"\n\n[Pickle Rick]:\n\"come get this delicious brine \"\n\n\n\n--------------------------   Dialog #50   --------------------------\n-------------------------   Dist: 0.8   -------------------------\n[Pickle Rick]:\n\"whoa who in the fucks toilet is this \"\n\n[Ice-T]:\n\"yo this is why \"\n\n\n\n--------------------------   Dialog #51   --------------------------\n-------------------------   Dist: 0.8   -------------------------\n[Pickle Rick]:\n\"come on flip the pickle morty youre not gonna regret it the payoff is huge \"\n\n[Pickle Rick]:\n\"come on thats it \"\n\n\n\n--------------------------   Dialog #52   --------------------------\n-------------------------   Dist: 0.889   -------------------------\n[President]:\n\"i hope i can call on you again if we need you morty \"\n\n[Pickle Rick]:\n\"theres nothing i wont do to see her again \"\n\n\n\n--------------------------   Dialog #53   --------------------------\n-------------------------   Dist: 0.6   -------------------------\n[Pickle Rick]:\n\"aah come on come on motherfucker come on \"\n\n[Pickle Rick]:\n\"oh come on \"\n\n\n\n--------------------------   Dialog #54   --------------------------\n-------------------------   Dist: 0.85   -------------------------\n[Pickle Rick]:\n\"i wouldnt be much of a pickle if i could \"\n\n[Pickle Rick]:\n\"the reason anyone would do this is if they could which they cant would be because they could which they cant \"\n\n\n\n--------------------------   Dialog #55   --------------------------\n-------------------------   Dist: 0.857   -------------------------\n[President]:\n\"i’m really bad at this morty there are way too many buttons on this thing \"\n\n[Pickle Rick]:\n\"okay come on this cant really be the way i go out this is the megagenius equivalent of dying on the toilet \"\n\n\n\n--------------------------   Dialog #56   --------------------------\n-------------------------   Dist: 0.833   -------------------------\n[Lizard Morty]:\n\"almost got it \"\n\n[Pickle Rick]:\n\"come on thats it \"\n\n\n\n--------------------------   Dialog #57   --------------------------\n-------------------------   Dist: 0.857   -------------------------\n[Pickle Rick]:\n\"jaguar couldnt make it \"\n\n[Pickle Rick]:\n\"come on thats it \"\n\n\n\n--------------------------   Dialog #58   --------------------------\n-------------------------   Dist: 0.882   -------------------------\n[Pickle Rick]:\n\"god damn it i love myself \"\n\n[Lizard Morty]:\n\"i bet it leads to a place where a bunch of fri flies everywhere \"\n\n\n\n--------------------------   Dialog #59   --------------------------\n-------------------------   Dist: 0.867   -------------------------\n[Pickle Rick]:\n\"god damn it i love myself \"\n\n[Pickle Rick]:\n\"oh god the moisture dial it back god dial it back a little bit here \"\n\n\n\n--------------------------   Dialog #60   --------------------------\n-------------------------   Dist: 0.833   -------------------------\n[Pickle Rick]:\n\"come on thats it \"\n\n[Lizard Morty]:\n\"almost got it \"\n\n\n\n--------------------------   Dialog #61   --------------------------\n-------------------------   Dist: 0.879   -------------------------\n[Pickle Rick]:\n\"okay come on this cant really be the way i go out this is the megagenius equivalent of dying on the toilet \"\n\n[Pickle Rick]:\n\"great question summer the unfortunate answer is i did this to challenge myself and it could take hours or even days before im able to figure out how to return to human form but i mean you know your mom could put me in a purse or a pocket you know if she really needs me to go \"\n\n\n\n--------------------------   Dialog #62   --------------------------\n-------------------------   Dist: 0.857   -------------------------\n[Pickle Rick]:\n\"come get this delicious brine \"\n\n[Pickle Rick]:\n\"oh come on \"\n\n\n\n--------------------------   Dialog #63   --------------------------\n-------------------------   Dist: 0.879   -------------------------\n[Pickle Rick]:\n\"great question summer the unfortunate answer is i did this to challenge myself and it could take hours or even days before im able to figure out how to return to human form but i mean you know your mom could put me in a purse or a pocket you know if she really needs me to go \"\n\n[Pickle Rick]:\n\"okay come on this cant really be the way i go out this is the megagenius equivalent of dying on the toilet \"\n\n\n\n--------------------------   Dialog #64   --------------------------\n-------------------------   Dist: 0.5   -------------------------\n[Pickle Rick]:\n\"ugh \"\n\n[Pickle Rick]:\n\"wow ugh \"\n\n\n\n--------------------------   Dialog #65   --------------------------\n-------------------------   Dist: 0.889   -------------------------\n[Pickle Rick]:\n\"god damn it i love myself \"\n\n[Pickle Rick]:\n\"jaguar couldnt make it \"\n\n\n\n--------------------------   Dialog #66   --------------------------\n-------------------------   Dist: 0.889   -------------------------\n[Pickle Rick]:\n\"so i wouldnt have to come here \"\n\n[Pickle Rick]:\n\"oh come on \"\n\n\n\n--------------------------   Dialog #67   --------------------------\n-------------------------   Dist: 0.875   -------------------------\n[Pickle Rick]:\n\"yeah thank you uh sweetie you dont still happen to have that syringe in your purse \"\n\n[Pickle Rick]:\n\"that will be your downfall jaguar not being open to new experiences \"\n\n\n\n--------------------------   Dialog #68   --------------------------\n-------------------------   Dist: 0.848   -------------------------\n[President]:\n\"actually if you try to tell anyone what happened here we’ll deny it and probably worse \"\n\n[Pickle Rick]:\n\"well morty if you know must know the syringe is completely unrelated to this discussion and therefore it does not warrant further explanation \"\n\n\n\n--------------------------   Dialog #69   --------------------------\n-------------------------   Dist: 0.857   -------------------------\n[Pickle Rick]:\n\"oh come on \"\n\n[Pickle Rick]:\n\"come get this delicious brine \"\n\n\n\n--------------------------   Dialog #70   --------------------------\n-------------------------   Dist: 0.875   -------------------------\n[Pickle Rick]:\n\"god damn it i love myself \"\n\n[Lizard Morty]:\n\"almost got it \"\n\n\n\n--------------------------   Dialog #71   --------------------------\n-------------------------   Dist: 0.75   -------------------------\n[Pickle Rick]:\n\"oh god moisture \"\n\n[President]:\n\"dear god \"\n\n\n\n--------------------------   Dialog #72   --------------------------\n-------------------------   Dist: 0.857   -------------------------\n[Pickle Rick]:\n\"come on thats it \"\n\n[Pickle Rick]:\n\"jaguar couldnt make it \"\n\n\n\n--------------------------   Dialog #73   --------------------------\n-------------------------   Dist: 0.848   -------------------------\n[Pickle Rick]:\n\"well morty if you know must know the syringe is completely unrelated to this discussion and therefore it does not warrant further explanation \"\n\n[President]:\n\"actually if you try to tell anyone what happened here we’ll deny it and probably worse \"\n\n\n\n--------------------------   Dialog #74   --------------------------\n-------------------------   Dist: 0.889   -------------------------\n[Pickle Rick]:\n\"come on thats it \"\n\n[Pickle Rick]:\n\"god damn it i love myself \"\n\n\n\n--------------------------   Dialog #75   --------------------------\n-------------------------   Dist: 0.867   -------------------------\n[Pickle Rick]:\n\"oh god the moisture dial it back god dial it back a little bit here \"\n\n[Pickle Rick]:\n\"god damn it i love myself \"\n\n\n\n--------------------------   Dialog #76   --------------------------\n-------------------------   Dist: 0.889   -------------------------\n[Pickle Rick]:\n\"god damn it i love myself \"\n\n[Pickle Rick]:\n\"come on thats it \"\n\n\n\n--------------------------   Dialog #77   --------------------------\n-------------------------   Dist: 0.857   -------------------------\n[Pickle Rick]:\n\"on my work bench morty \"\n\n[Ice-T]:\n\"i have changed i am ready to rejoin my brethren on alphabetrium \"\n\n\n\n--------------------------   Dialog #78   --------------------------\n-------------------------   Dist: 0.897   -------------------------\n[Pickle Rick]:\n\"well there was so much more at stake i mean that shrink what a monologuist \"\n\n[Pickle Rick]:\n\"oh no i mean i know it was morty peeing his pants and summer snorting glue or whatever \"\n\n\n\n"
          ]
        }
      ],
      "source": [
        "i = 1\n",
        "for row in dialog_similarity.take(100):\n",
        "    print(f'--------------------------   Dialog #{i}   --------------------------')\n",
        "    print(f'-------------------------   Dist: {round(row.dist_euclidean,3)}   -------------------------')\n",
        "    dialogA = ''.join([a + ' ' for a in row.dialogA])\n",
        "    dialogB = ''.join([a + ' ' for a in row.dialogB])\n",
        "    print(f'[{row.nombreA}]:\\n\\\"{dialogA}\\\"\\n')\n",
        "    print(f'[{row.nombreB}]:\\n\\\"{dialogB}\\\"\\n\\n\\n')\n",
        "    i += 1"
      ]
    },
    {
      "cell_type": "code",
      "execution_count": null,
      "metadata": {},
      "outputs": [],
      "source": []
    }
  ]
}