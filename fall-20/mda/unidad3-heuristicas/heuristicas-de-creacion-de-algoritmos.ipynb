{
 "metadata": {
  "language_info": {
   "codemirror_mode": {
    "name": "ipython",
    "version": 3
   },
   "file_extension": ".py",
   "mimetype": "text/x-python",
   "name": "python",
   "nbconvert_exporter": "python",
   "pygments_lexer": "ipython3",
   "version": "3.8.5-final"
  },
  "orig_nbformat": 2,
  "kernelspec": {
   "name": "python3",
   "display_name": "Python 3"
  }
 },
 "nbformat": 4,
 "nbformat_minor": 2,
 "cells": [
  {
   "source": [
    "# Heurísticas de creación de algoritmos\n",
    "\n",
    "En general, tenemos dos tipos de problemas algorítmicos.: \n",
    "\n",
    "- **Optimización.** Queremos encontrar un mínimo o un máximo para un problema en cierto **espacio de estados**\n",
    "- **Decisión.** Queremos responder de sí/no también para un problema en cierto espacio de estados\n",
    "\n",
    "No todos los problemas de algoritmos son así, pero una cantidad muy grande de los que son intersantes sí. Por ejemplo, insertar un elemento en una lista no está intentando optimizar ni decidir nada. Pero hay algunos problemas que ya hemos vito de este estilo. El problema de buscar un elemento en un diccionario es un problema de decisión: dado un diccionario $D$ y un elemento $x$, lo que queremos responder es si $x$ está en $D$. \n",
    "\n",
    "Veamos algunos ejemplos más: \n",
    "\n",
    "- **Resolver un Sudoku.** Dadas entradas en un tablero de Sudoku, decidir si hay una solución que lo complete o no. También, decidir si esta solución es única o no. \n",
    "- **Brazo robótico que une circuitos.** Dados puntos en el plano, queremos encontrar un ciclo hamiltoniano de longitud mínima que los recorre. \n",
    "- **Decidir el número cromático de una gráfica.** Dada una gráfica $G$ queremos encontrar la mínima cantidad posible de colores necesarios para poder dar una buena coloración.\n",
    "- **Determinar el número de clique de una gráfica.** Dada una gráfica $G$ queremos encontrar la máxima cantidad posible de vértices que forman una gráfica completa. \n",
    "- **Determinar si una gráfica es bipartita o no.** Dada una gráfica $G$, ver si existe una partición de sus vértices en conjuntos $A$ y $B$ de mode que las únicas aristas vayan de $A$ a $B$. \n",
    "\n",
    "El primero y último son algoritmos de decisión, mientras que los demás son algoritmos de optimización. \n",
    "\n",
    "## Espacio de estados\n",
    "En un problema de decisión o de optimización, es muy importante que quede claro el **espacio de estados**, es decir, todas las posibles configuraciones/entradas que debemos considerar para poder resonder la pregunta. Para ello, en problemas de aplicación es muy importante decidir cómo estamos modelando el problema. \n",
    "\n",
    "Espacios de estados típicos en varios de estos problemas son: \n",
    "\n",
    "- Todas las permutaciones de $n$ elementos\n",
    "- Todos los conjuntos de $n$ elementos\n",
    "- Todas las configuraciones de $n$ puntos en el plano\n",
    "- Todas los números del $1$ al $n$\n",
    "- Para cierta $k$, todos subconjuntos de tamaño $k$ de $n$ elementos\n",
    "- Todos los vectores de $m$ elementos tomados de un conjunto de $n$ elementos\n",
    "\n",
    "**Ejemplo.** Dada una lista de $n$ números, queremos:\n",
    "\n",
    "- Decidir si hay dos de ellos cuya suma es $1000$\n",
    "- Decidir cuáles dos de ellos tienen la suma más pequeña\n",
    "\n",
    "El primer problema es un problema de decisión. El segundo es un problema  de optimización. Notemos que ambos problemas tienen como espacio de estados a los subconjuntos de $2$ elementos de un cocnjunto de $n$ elementos. \n",
    "\n",
    "Hay otros problemas que tienen espaciones de estados más complicados, o m´sa particulares al problema. Por ejemplo, consideremos los siguientes dos problemas: \n",
    "\n",
    "**Ejemplo.** \n",
    "\n",
    "- ¿Será posible colocar 15 caballos de ajedrez en un problema sin que se ataquen entre sí?\n",
    "- ¿Cuál es el máximo número de caballos de ajedrez que se pueden poner en un tablero de ajedrez sin que se ataquen entre sí?\n",
    "- ¿Será posible colocar $3$ torres, $5$ caballos y  $4$ alfiles sin que se ataquen entre sí? \n"
   ],
   "cell_type": "markdown",
   "metadata": {}
  },
  {
   "source": [
    "# Heurísticas algorítmicas\n",
    "\n",
    "Ya que tenemos un problema algortítmico de decisión o de optimización y entendemos bien cuál es el espacio de estados que debemos estudiar, lo siguiente es saber dónde en ese espacio de estados se encuentra la solución óptima o bien, la instancia que cumple lo que queremos. \n",
    "\n",
    "Hay muchas formas de resolver este tipo de problemas algorítmicos, pero en transcurso de la historia del análisis de algoritmos, estas formas se han agrupado en **heurísticas** generales que ayudan en muchas situaciones.\n",
    "\n",
    "A continuación ponemos algunas:\n",
    "\n",
    "- Explorar todo el esapcio de estados (fuerza bruta): consiste en estudiar todos los elementos del espacio de estados uno por uno para ver si son el óptimo/cumplen la propiedad que queremos.\n",
    "- Explorar el espacio de estados de manera inteligente: consiste en estudiar parcialmente el espacio de estados, descartando con suficiente anticipación las exploraciones que ya no serán exitosas. \n",
    "- Explorar el espacio de estados de manera voraz (greedy)\n",
    "- Reducir el espacio de estados con argumentos de simetría\n",
    "- Dividir el problema que queremos en problemas más pequeños que sean más sencillos de resolver. \n",
    "- Explotar una estructura recursiva de los objetos del problema para poner soluciones a instancias grandes en términos de soluciones de instancias más pequeñas\n",
    "- Programación dinámica: hacer lo anterior con mucho más cuidado para no repetir múltiples veces el cómputo para casos pequeños"
   ],
   "cell_type": "markdown",
   "metadata": {}
  },
  {
   "source": [
    "## Exploración exhaustiva\n",
    "Consiste en explorar todo el espacio de estados para buscar el valor óptimo o el testigo. Es una técnica básica, pero que a veces es la única con la que cocntamos. Usualmente es la única opción en problemas con muy poca estructura, o en probelams en donde queremos asegurarnso de pasar por todas las posibilidades. \n",
    "\n",
    "También se le conoce como \"fuerza bruta\", o como \"explorar por completo el espacio de estados\". "
   ],
   "cell_type": "markdown",
   "metadata": {}
  },
  {
   "source": [
    "### Problema 1\n",
    "¿De cuántas formas se pueden poner a $10000$ como suma de cuadrados de dos números enteros positivos? ¿En cuál de las expresiones $x^2 + y^2 = 10000$ se minimiza $3x + 5y -1$. \n",
    "\n",
    "Para el Problema 1, el espacio de estados que queremos explorar son las parejas $(x,y)$ con $x$ y $y$ en el intervalo $[1,99]$. Una exploración exhaustiva verifica todos los casos posbiles. Haremos esto en Python haciendo dos ciclos."
   ],
   "cell_type": "markdown",
   "metadata": {}
  },
  {
   "cell_type": "code",
   "execution_count": 5,
   "metadata": {},
   "outputs": [
    {
     "output_type": "stream",
     "name": "stdout",
     "text": [
      "4\n[(28, 96), (60, 80), (80, 60), (96, 28)]\n427\n(96, 28)\n"
     ]
    }
   ],
   "source": [
    "# Primero, la exporación exhaustiva para ver quienes son todas las parejas\n",
    "cuantos = 0\n",
    "cuales = []\n",
    "for x in range(1,100):\n",
    "    for y in range(1,100):\n",
    "        if x**2 + y**2 == 10000:\n",
    "            cuantos += 1\n",
    "            cuales += [(x,y)]\n",
    "print(cuantos)\n",
    "print(cuales)\n",
    "\n",
    "# Ahora, hagamos otra exploración para ver en qué pareja se minimiza 3x+5y-1\n",
    "minimo = 100000000\n",
    "for pair in cuales:\n",
    "    x = pair[0]\n",
    "    y = pair[1]\n",
    "    if 3*x + (5*y) -1:\n",
    "        minimo = 3*x + (5*y) - 1\n",
    "        optimo = (x, y)\n",
    "\n",
    "print(minimo)\n",
    "print(optimo)"
   ]
  },
  {
   "source": [
    "Pensemos que el Problema 1 se generaliza para dos números $x$ y $y$ que queremos que su cuadrado sume $n$. En este caso, el espacio de estados sería, de acuerdo a nuestra estrategia anterior, que $x$ y $y$ estén en ${1,2, \\ldots, \\lceil \\sqrt{n} \\rceil}$\n",
    "\n",
    "En el primer ciclo estamos ccorriend por $O(\\sqrt{n})$ elementos y el que está anidado también corre por $O(\\sqrt{n})$ así que estos ciclos anidados corren en tiempo $O(n)$. Con este tiempo se puede tanto determinar cuáles parejas son, como determinar cuál es el mínimo de la expresión $3x+5y-1$ sujeta a las condiciones $x^2 + y^2 =n$ y $x,y$  enteros."
   ],
   "cell_type": "markdown",
   "metadata": {}
  },
  {
   "source": [
    "### Problema 2\n",
    "\n",
    "Se tomas tres enteros $a$, $b$ y $c$ en el intervalo $[1, 100 ]$. ¿Para cuáles de ellos al valor de $a^2 + 2b^2 + 3c^2 - 2ab -5bc -7ca$ es mínimo?"
   ],
   "cell_type": "markdown",
   "metadata": {}
  },
  {
   "cell_type": "code",
   "execution_count": 9,
   "metadata": {},
   "outputs": [
    {
     "output_type": "stream",
     "name": "stdout",
     "text": [
      "-80000\n(100, 100, 100)\n"
     ]
    }
   ],
   "source": [
    "def funcion(a, b, c):\n",
    "    return (a**2 + 2*b**2 + 3*c**2-2*a*b-5*b*c-7*c*a)\n",
    "\n",
    "minimo = 10000000\n",
    "for a in range(1,101):\n",
    "    for b in range(1, 101):\n",
    "        for c in range(1, 101):\n",
    "            F = funcion(a,b,c)\n",
    "            if F < minimo:\n",
    "                minimo = F\n",
    "                optimo = (a,b,c)\n",
    "\n",
    "print(minimo)\n",
    "print(optimo)"
   ]
  },
  {
   "source": [
    "Este problema se presta mucho a una exploración exhaustiva total, pues no hay tanta simetría en las variables $x,y,z$. Si el problema fuera para números en el intervalo $[1,\\ldots,n]$ entonces el algoritmo de acá arriba ccorre en tiempo $O(n^3)$."
   ],
   "cell_type": "markdown",
   "metadata": {}
  },
  {
   "source": [
    "### Problema 3.\n",
    "¿Cuál es la palabra más larga en español que tenga únicamente cuatro vocales? \n",
    "\n",
    "Tomaremos como espacio de estados la lista en <a href=\"http://www.gwicks.net/dictionaries.html\"> este sitio </a>\n",
    "\n",
    "Vamos a hacer una exploración exhaustiva palabra por palabra para determinar cuáles tienen exactamente cuatro palabras y ver cuáles de ellas es la más grande. \n"
   ],
   "cell_type": "markdown",
   "metadata": {}
  },
  {
   "cell_type": "code",
   "execution_count": 2,
   "metadata": {},
   "outputs": [
    {
     "output_type": "stream",
     "name": "stdout",
     "text": [
      "4\n12\n9\n"
     ]
    }
   ],
   "source": [
    "vocales = 'aeiouáéíóúAEIOUÁÉÍÓÚüÜ'\n",
    "def contarvocales(palabra):\n",
    "    cuenta = 0\n",
    "    for j in palabra:\n",
    "        if j in vocales:\n",
    "            cuenta += 1\n",
    "    return cuenta\n",
    "\n",
    "print(contarvocales('Hola mundo!'))\n",
    "print(contarvocales('Esta oración tiene acentos'))\n",
    "print(contarvocales('PIngüinos y MurCIELAgos'))"
   ]
  },
  {
   "cell_type": "code",
   "execution_count": 16,
   "metadata": {
    "tags": []
   },
   "outputs": [
    {
     "output_type": "stream",
     "name": "stdout",
     "text": [
      "13\nyuxtapondrán\n\n"
     ]
    }
   ],
   "source": [
    "vocales = 'aeiouáéíóúAEIOUÁÉÍÓÚüÜ'\n",
    "lista = open('espanol.txt', 'r', encoding='ISO-8859-1')\n",
    "linea = lista.readline()\n",
    "maximo = 0\n",
    "while linea:\n",
    "    limpio = linea.split(' ')[0]\n",
    "    if contarvocales(limpio) == 4:\n",
    "        if len(linea) > maximo:\n",
    "            maximo = len(limpio)\n",
    "            mejor = limpio\n",
    "    linea = lista.readline()\n",
    "\n",
    "print(maximo)\n",
    "print(mejor)"
   ]
  },
  {
   "source": [
    "**Problema 4.** ¿Existe alguna palabra en español que use exactamente diez vocales y diez consonantes? Si sí, ¿cuántas hay?"
   ],
   "cell_type": "markdown",
   "metadata": {}
  },
  {
   "cell_type": "code",
   "execution_count": 7,
   "metadata": {},
   "outputs": [
    {
     "output_type": "stream",
     "name": "stdout",
     "text": [
      "Hay 2 palabras con 10 vocales y 20 consonantes.\ndesnacionalizaciones\nimpermeabilizaríamos\n"
     ]
    }
   ],
   "source": [
    "lista = open('espanol.txt', encoding='ISO-8859-1')\n",
    "linea = lista.readline()\n",
    "testigos = []\n",
    "vocs = 10\n",
    "consonantes = 20\n",
    "while linea:\n",
    "    limpio = linea[:-1].split(' ')[0]\n",
    "    if contarvocales(limpio) == vocs and len(limpio) == consonantes:\n",
    "        testigos.append(limpio)\n",
    "    linea = lista.readline()\n",
    "\n",
    "print(f'Hay {len(testigos)} palabras con {vocs} vocales y {consonantes} consonantes.')\n",
    "for t in testigos:\n",
    "    print(t)\n",
    "lista.close()"
   ]
  },
  {
   "source": [
    "Consideremos el siguiente problema que se parece al anterior, pero en vez de ser de decisión es de optimización:\n",
    "\n",
    "**Problema.** Encontrar el mayor entero $k$ tal que en español hay una palabra que use exactamente $k$ vocales y $k$ consonantes. \n",
    "\n",
    "Observemos que podemos resolver este problema de optimización resolviendo varias instancias del siguiente problema de decisión:\n",
    "\n",
    "**Problema.** Dado un entero $k$, determinar si en español hay una palabra que use exactamente $k$ vocales y $k$ consonantes.\n",
    " \n",
    " Aunque a veces este estrategia es lo mejor para algunos problemas, hay otros problemas en los que hay mejores formas de resolver la versión de optimización. \n"
   ],
   "cell_type": "markdown",
   "metadata": {}
  },
  {
   "source": [
    "**Problema 5.** Las letras $a,b,c,d,e,f,g, h, i, j$ representan dígitos distintos, ¿para cuántas elecciones tenemos que $\\frac{abcde}{fghij}$ es un número entero? Aquí $abcde$ y $fghij$ son los números de cinco dígitos obtenidos de concatenar los dígitos correspondientes. \n",
    "\n",
    "Aquí hay que decidir cuidadosamente el espacio de estados. Si elegimos como espacio de estados que cada letra tome cada una de las 10 posibilidades que tiene, y luego verificamos duplicados y luego procesamos, se tendrán que verificar $\\approx 10^{10}$ casos. Esto es demasiado, pues son 10 mil millones de casos. \n",
    "\n",
    "¿Queremos que sean todas las permutaciones posibles? Son $10!=3628800$. Está bien, no son tantísimas. Pero este sería un tiempo imposible para permutaciones de más números. "
   ],
   "cell_type": "markdown",
   "metadata": {}
  },
  {
   "cell_type": "code",
   "execution_count": 2,
   "metadata": {},
   "outputs": [],
   "source": [
    "def perms(lista):\n",
    "    L = len(lista)\n",
    "    if L == 1: \n",
    "        return [lista]\n",
    "    else:\n",
    "        old = perms(lista[:-1])\n",
    "        last = lista[-1]\n",
    "        new = []\n",
    "        for k in range(L):\n",
    "            for perm in old:\n",
    "                to_add = perm[:k] + [last] + perm[k:]\n",
    "                new.append(to_add)\n",
    "        return new\n",
    "\n",
    "#numeros = list(range(1, 11))\n",
    "#permutaciones = perms(numeros)\n",
    "#print(len(permutaciones))"
   ]
  },
  {
   "cell_type": "code",
   "execution_count": 13,
   "metadata": {},
   "outputs": [
    {
     "output_type": "stream",
     "name": "stdout",
     "text": [
      "Hay 21 soluciones\n"
     ]
    }
   ],
   "source": [
    "soluciones = []\n",
    "for pi in permutaciones:\n",
    "    first = [str(j) for j in pi[:5]]\n",
    "    last = [str(j) for j in pi[5:]]\n",
    "    a = int(''.join(first))\n",
    "    b = int(''.join(last))\n",
    "    if a % b == 0:\n",
    "        soluciones.append((a,b))\n",
    "    \n",
    "print(f'Hay {len(soluciones)} soluciones')"
   ]
  },
  {
   "source": [
    "## Exploración exhaustiva recortada\n",
    "\n",
    "Consiste en dejar de explorar posibilidades que ya no se pueden extender a posibilidades exitosas. Esto no es lo miso que reducir el espacio de estados. Tampoco quiere decir que no exploremos todas las posibilidades. Consiste en dar argumetnos para que nuestro algoritmo revise menos casos y siga dando la respuesta correcta. \n",
    "\n",
    "Retomemos uno de los problemas de la sección anterior:\n",
    "\n",
    "### Problema 1\n",
    "¿De cuántas formas se pueden poner a $10000$ como suma de cuadrados de dos números enteros positivos? ¿En cuál de las expresiones $x^2 + y^2 = 10000$ se minimiza $3x + 5y -1$. \n",
    "\n",
    "Recortemos el espacio de estados a partir de las siguientes dos observaciones:\n",
    "- Ambos $x$ y $y$ tiene que se pares\n",
    "- Si $x$ ya está dada, no tiene chiste mover $y$ por todos sus valores posibles de $1$ a $100$ pues por tamaño ya solo puede tenre pocas posibilidades.\n",
    "\n",
    "$y$ ya solo puede ser a lo mucho $\\approx{\\sqrt{10000 - x^2}}$. Esto ahorra algunos pasos- \n",
    "\n",
    "Los otros problemas "
   ],
   "cell_type": "markdown",
   "metadata": {}
  },
  {
   "cell_type": "code",
   "execution_count": 14,
   "metadata": {},
   "outputs": [
    {
     "output_type": "stream",
     "name": "stdout",
     "text": [
      "[(28, 96), (60, 80), (80, 60), (96, 28)]\n"
     ]
    }
   ],
   "source": [
    "soluciones = []\n",
    "for x in range(1, 101):\n",
    "    for y in range(1, int((10000-x**2)**(0.5)+1)):\n",
    "        if x**2 + y**2 == 10000:\n",
    "            soluciones.append((x,y))\n",
    "print(soluciones)"
   ]
  },
  {
   "source": [
    "## Problemas de exploración exhaustiva recortada\n",
    "\n",
    "Pongamos otros cuantos problemas que se pueden estudiar usando un recorte de espacio de estados. \n",
    "\n",
    "**Problema 6.** Tenemos que encontrar todas la parejas de palabras $x$ y $y$ en español que sean diferentes y que $x y$ tenga en total 9 caracteres. \n",
    "\n",
    "**Problema 7.** Queremos encontrar para cuantas parejas $x$ y $y$ de palabras en español sucede que cada una de ellas tiene por lo menos cinco letras y las últimas cinco letras de la primera son iguales a las primeras cinco letras de la última. \n",
    "\n",
    "**Problema 8.** Tenemos el sigiuente arreglo de números $$[4,1,7,4,2,6,5,7,1,8,4,9,1,4,1,5,7,2,8,3,6]$$\n",
    " Queremos determinar de cuántas formas se pueden elegir algunos de estos números de forma consecutiva de modeo que sumen $18$.\n",
    "\n",
    " **Problema 9.** Un "
   ],
   "cell_type": "markdown",
   "metadata": {}
  },
  {
   "source": [
    "**Problema 6.** Tenemos que encontrar todas la parejas de palabras $x$ y $y$ en español que sean diferentes y que $x \\quad y$ tenga en total 9 caracteres. \n",
    "\n",
    "Podemos pensar el espacio de estados como todas las parejas de palabras en español y procesar cada una de ellas. Si lo exploramos de manera directa esto toma tiempo cuadrático en la cantidad de palabras en español. Al procesar cada posibilidad seguro que cubrimos todas, pero parece que hay cierta pérdida de tiempo pues las palabras grandes las estamos considerando en muchas parejas que van a fallar, es decir, las estamos considerando de manera innecesaria (palabras grandes tienen más de 7 letras). \n",
    "\n",
    "Mejor, podemos usar tiempo lineal en descartar las palabras grandes y luego usar itempo cuadrático en una lista mucho más corta. \n"
   ],
   "cell_type": "markdown",
   "metadata": {}
  },
  {
   "cell_type": "code",
   "execution_count": 16,
   "metadata": {},
   "outputs": [
    {
     "output_type": "stream",
     "name": "stdout",
     "text": [
      "32974\n"
     ]
    }
   ],
   "source": [
    "lista = open('espanol.txt', 'r', encoding='ISO-8859-1')\n",
    "linea = lista.readline()\n",
    "cortas = []\n",
    "while linea:\n",
    "    limpio = linea[:-1].split(' ')[0]\n",
    "    if len(limpio) <= 7:\n",
    "        cortas.append(limpio)\n",
    "    linea = lista.readline()\n",
    "print(len(cortas))"
   ]
  },
  {
   "source": [
    "Ya tenemos la lista de palabras cortas. Con esta lista ahora sí podríamos hacer una exploración exhaustiva. Como hay 1024 millones de casos a verificar, esto tardaría $\\approx 1024$ en terminar. ¿Cómo podemos seguir reduciendo el espacio de estados? Agreguemos una idea de ordenar la lista de palabras por su longitud"
   ],
   "cell_type": "markdown",
   "metadata": {}
  },
  {
   "cell_type": "code",
   "execution_count": 19,
   "metadata": {},
   "outputs": [
    {
     "output_type": "stream",
     "name": "stdout",
     "text": [
      "['', '', '', 'a', 'b', 'c', 'd', 'e', 'f', 'g', 'h', 'i', 'j', 'k', 'l', 'm', 'n', 'o', 'p', 'q', 'r', 's', 't', 'u', 'v', 'w', 'x', 'y', 'z', 'ñ', 'al', 'as', 'ay', 'be', 'ce', 'ch', 'cu', 'da', 'de', 'dé', 'di', 'el', 'en', 'es', 'ex', 'fb', 'fe', 'fu', 'ha', 'he', 'ii', 'in', 'ir', 'iv', 'ja', 'je', 'la', 'le', 'lo', 'me', 'mg', 'mi', 'mí', 'ml', 'ni', 'no', 'oh', 'oí', 'os', 'pe']\n",
      "7099844\n"
     ]
    }
   ],
   "source": [
    "cortas = sorted(cortas, key=lambda x: len(x))\n",
    "print(cortas[:70])\n",
    "\n",
    "# A continuación se muestra una búsqueda recortada\n",
    "soluciones = 0\n",
    "for j in cortas:\n",
    "    for k in cortas:\n",
    "        if len(j) + len(k) == 8: #no es 9 porque necesitamos contar el espacio vacío entre las dos palabras\n",
    "            soluciones += 1\n",
    "        if len(j) + len(k) > 8:\n",
    "            break\n",
    "print(soluciones)"
   ]
  },
  {
   "source": [
    "Acá arriba recortamos la búsqueda en cuanto estuvimos seguros de que ya no habría soluciones. Esto nos dejó todavía con un algoritmo potencialmente cuadrático en $O(n^2)$ pero con un mejor factor constante que permitió correrlo en pocos segundos."
   ],
   "cell_type": "markdown",
   "metadata": {}
  },
  {
   "source": [
    "**Problema 9.** Una **matriz mágica sencilla** consiste de una matriz de $3 \\times 3$, la suma de las entradas en cada fila es un cierto número $x$ y la suma de las entradas en cada columna es es ese mismo número $x$. Las entradas deben ser los números del $1$ al $9$ sin repetir. ¿Cuántas matrices mágicas existen?\n",
    "\n",
    "Lo primero que tenemos que hacer es decidir quién será nuestro espacio de estados. Como los números no se repiten, podemos pensar en permutaciones. Esto en total nos da un espacio de estados de 9! elementos a verificar. Para hacer esto, tomamos la función auxiliar de permutaciones que hicimos arriba\n",
    "\n",
    "La permutacion $[a_1, \\ldots, a_9]$ la pensaremos como la matriz\n",
    "$$\\begin{pmatrix} a_1 & a_2 & a_3 \\\\ a_4 & a_5 & a_6 \\\\ a_7 & a_8 & a_9 \\end{pmatrix}$$"
   ],
   "cell_type": "markdown",
   "metadata": {}
  },
  {
   "cell_type": "code",
   "execution_count": 21,
   "metadata": {},
   "outputs": [
    {
     "output_type": "stream",
     "name": "stdout",
     "text": [
      "3628800\n"
     ]
    }
   ],
   "source": [
    "numeros = list(range(1,11))\n",
    "permutaciones = perms(numeros)\n",
    "print(len(permutaciones))"
   ]
  },
  {
   "source": [
    "Observación: la suma de todos los números del 1 al 9 es $45$. De este modo, la suma e ncada fila y en cada colmna debe ser igual a $15$. Esto nos permite comparar la suma de cada fila y columna no entre sí, sino entre ellas y un número constante. Esto nos permite poner la conddición de que la matriz sea mágina a ciertas sumas igualadas a 15."
   ],
   "cell_type": "markdown",
   "metadata": {}
  },
  {
   "cell_type": "code",
   "execution_count": 26,
   "metadata": {},
   "outputs": [
    {
     "output_type": "stream",
     "name": "stdout",
     "text": [
      "3628800\n"
     ]
    }
   ],
   "source": [
    "soluciones = 0\n",
    "for j in permutaciones:\n",
    "    #si pasan las sumas que queremos\n",
    "    soluciones += 1\n",
    "print(soluciones)"
   ]
  },
  {
   "source": [
    "## Recortes del espacio de estados con simetrías\n",
    "\n",
    "Es usar simetrías en el espacio de estados y el problema planteado para reducir la exploración. Por ejemplo, si estamos buscando cuántos parejas $(x,y)$ de una lista de números suman cierto número $M$, entonces una posibilidad es que recorramos todo el espacio de estados para $x$ y $y$, pero otroa forma de hacerlo es suponer que $x \\leq y$ y luego tras encontrar todas las soluciones bajo esta suposición, simplemente a partir de cada pareja $(x,y)$ construir la pareja $(y,x)$. \n",
    "\n",
    "Apliquemos esta idea al siguiente problema\n",
    "\n",
    "**Problema 10.** Se cayeron los $12$ números de un reloj. Se quieren volver a poner, uno en cada posición. No importa tanto saber la hora, pero es muy importante que la suma de tres de esos números consecutivos (en orden cíclico) no sea $13$, porque da mala suerte. ¿De cuántas formas es posible hacer esto? \n",
    "\n",
    "Si hiciéramos una solución que explore todos los posibles estados, entonces necesitaríamos pasar por $12!$ de ellos, que son como $480$ millones. Sin embargo, podemos ahorrarnos un factor de $12$ si observamos que tenemos una simetría rotacional de orden $12$: una acomodo funciona si y solo si funcionan todas sus rotaciones. Por esta razón, basta con considerar aquellas permutaciones que comiencen con $1$ y verificar lo que queremos.  "
   ],
   "cell_type": "markdown",
   "metadata": {}
  },
  {
   "cell_type": "code",
   "execution_count": 5,
   "metadata": {},
   "outputs": [
    {
     "output_type": "stream",
     "name": "stdout",
     "text": [
      "3628800\n"
     ]
    }
   ],
   "source": [
    "numeros = [2,3,4,5,6,7,8,9,10]\n",
    "candidatas = [[1] + j for j in perms(numeros)]\n",
    "print(len(permutaciones))"
   ]
  },
  {
   "cell_type": "code",
   "execution_count": 7,
   "metadata": {},
   "outputs": [
    {
     "output_type": "execute_result",
     "data": {
      "text/plain": [
       "[[1, 10, 9, 8, 7, 6, 5, 4, 3, 2],\n",
       " [1, 10, 9, 8, 7, 6, 5, 4, 2, 3],\n",
       " [1, 10, 9, 8, 7, 6, 5, 3, 4, 2],\n",
       " [1, 10, 9, 8, 7, 6, 5, 2, 4, 3],\n",
       " [1, 10, 9, 8, 7, 6, 5, 3, 2, 4]]"
      ]
     },
     "metadata": {},
     "execution_count": 7
    }
   ],
   "source": [
    "candidatas[:5]"
   ]
  },
  {
   "cell_type": "code",
   "execution_count": 9,
   "metadata": {},
   "outputs": [
    {
     "output_type": "stream",
     "name": "stdout",
     "text": [
      "165520\n"
     ]
    }
   ],
   "source": [
    "def buena_suerte(lista):\n",
    "    buena = True\n",
    "    for j in range(10):\n",
    "        buena = buena and (lista[(j%10)] + lista[(j+1)%10] + lista[(j+2)%10] != 13)\n",
    "    return buena\n",
    "\n",
    "soluciones = 0\n",
    "for lista in candidatas:\n",
    "    if buena_suerte(lista):\n",
    "        soluciones += 1\n",
    "print(soluciones)"
   ]
  },
  {
   "source": [
    "Tenemos $165520$ soluciones que comienzan con $1$, si queremos regresar al problema con $10$ números, todavía cada una de estas soluciones crea $10$ soluciones, una por cada una de las $10$ rotaciones posibles. Así, la cantidad total de soluciones es $1655200$. "
   ],
   "cell_type": "markdown",
   "metadata": {}
  },
  {
   "source": [
    "## Algoritmos voraces (greedy, glotones, ambiciosos)\n",
    "Consisten en intentar realizar "
   ],
   "cell_type": "markdown",
   "metadata": {}
  },
  {
   "source": [
    "Comenzamos con el siguiente problema \n",
    "\n",
    "**Problema 11.** Se tienen números enteros positivos distintos $a_1, a_2, \\ldots, a_n$. Se quiere encontrar una permutación de ellos $b_1, b_2, \\ldots, b_n$ que haga la siguieten suma $$b_1+2b_2+3b_3+\\ldots+nb_n$$ máxima. Resolver el problema en general y luego ejecutarlo para: \n",
    "```\n",
    "50,76,72,52,70,74,84,16,43,29,31,77,22,92,46,38,91,42,98,87,83,6,44,7,36,80,11,10,82,67,90,18,27,37,86,33,64,26,9,48\n",
    "``` \n",
    "\n",
    "En este problema el espacio de estados son todas las posibles permutaciones de $a_1, \\ldots, a_n$, que son $n!$. Por lo tanto, si queremos resolver el problema por exploración exhaustiva, tendríamos que verificar $\\Theta(n!)$ casos. Incluso cuando $n$ no es tan grande, esto es demasiado tiempo. \n",
    "\n",
    "\n",
    "Para resolver el problema, vamos a realizar un algoritmo voraz eligiendo los $a_i$ más grandes para los coeficientes más grandes. Es decir, el máximo de los $a_i$ va a acompañar al coeficiente $n$, el siguiente al coeficiente $n-1$ y así sucesivamente. \n",
    "\n",
    "Con esta idea se puede proponer el siguiente algoritmo: \n",
    "\n",
    "- Poner los $a_i$ en una lista de Python - Tiempo $O(n)$\n",
    "- Tomar el $a_i$ más grande y declararlo como $b_n$ - Tiempo $O(n)$\n",
    "- Eliminar ese $a_i$ de la lista - Tiempo $O(n)$\n",
    "- Repetir para ir definiendo $b_{n-1},\\ldots,b_1$ - En total tiempo $O(n^2)$\n",
    "\n",
    "Este algoritmo toma $O(n^2)$ tiempo en total. Se puede mejorar a tiempo $O(n\\log n)$ si primero ordenamos la lista y vamos tomando los más grandes. \n"
   ],
   "cell_type": "markdown",
   "metadata": {}
  },
  {
   "cell_type": "code",
   "execution_count": 9,
   "metadata": {},
   "outputs": [
    {
     "output_type": "stream",
     "name": "stdout",
     "text": [
      "[6, 7, 9, 10, 11, 16, 18, 22, 26, 27, 29, 31, 33, 36, 37, 38, 42, 43, 44, 46, 48, 50, 52, 64, 67, 70, 72, 74, 76, 77, 80, 82, 83, 84, 86, 87, 90, 91, 92, 98]\n53023\n"
     ]
    }
   ],
   "source": [
    "A = [50,76,72,52,70,74,84,16,43,29,31,77,22,92,46,38,91,42,98,87,83,6,44,7,36,80,11,10,82,67,90,18,27,37,86,33,64,26,9,48]\n",
    "A.sort()\n",
    "print(A)\n",
    "print(sum(i*a for i,a in enumerate(A)))"
   ]
  },
  {
   "source": [
    "Vamos a mostrar que la permutación de $a_1, \\ldots, a_n$ que maximiza $a_i+2a_2+\\ldots+na_n$ es precisamente en la cual tenemos los $a_i$'s ordenados. \n",
    "\n",
    "Pensemos que tenemos una permutación $b_1, b_2, \\ldots, b_n$ en la cual los $b_i$ no están ordenados en orden creciente. Como los $b_i$ no están en orden creciente, debe existir una pareja de índices $i$ y $j$ tales que $i<j$ y $b_i>b_j$. Entonces la suma se ve así: \n",
    "\n",
    "$S=\\ldots + ib_i + \\ldots + jb_j + \\ldots$\n",
    "\n",
    "Al pasar $b_i$ a la posición $j$ y $b_j$ a la posición $b_i$, la nueva suma es:\n",
    "\n",
    "$$S-ib_i -jb_j + jb_i + ib_j = S + (j-i)(b_i-b_j) > S$$\n",
    "\n",
    "por lo cual dicha permutación que habíamos tomado no puede ser la mayor."
   ],
   "cell_type": "markdown",
   "metadata": {}
  },
  {
   "source": [
    "**Problema 12.** Se tienen $2n$ números, se quieren encontrar $n$ números tal que su suma sea meanor. \n",
    "\n",
    "```\n",
    "34,-51,-67,-42,-72,27,-12,55,-69,47,89,-54,92,8,77,82,-52,-48,-61,-90,95,-49,32,18,40,96,65,44,81,24,38,-4,-14,-97,-20,63,86,-98,-19,-8\n",
    "```\n",
    "\n",
    "Una forma de resolverlo es con exploración exhaustiva sobre el espacio de estados de subconjuntos de $n$ elementos de un conjunto con $2n$ elementos.  Para cada uno de estos subconjuntos hacemos su suma y buscamos entre ellas la menor. Con este algoritmo tendríamos que verificar $\\binom{2n}{n} casos. esto son $\\Omega(2^{2n})$ casos, que como es exponencial tampoco nos conviene mucho.\n",
    "\n",
    "Una mucho mejor forma es tomar de entre l alista los $n$ más pequeños. Estos definitivamente tienen la suma más pequeña. Tarda $O(n\\log n)$ pues vamos a ordenarlos primero y despues tomar los primeros $n$ y sumarlos."
   ],
   "cell_type": "markdown",
   "metadata": {}
  },
  {
   "cell_type": "code",
   "execution_count": 10,
   "metadata": {},
   "outputs": [
    {
     "output_type": "stream",
     "name": "stdout",
     "text": [
      "-919\n"
     ]
    }
   ],
   "source": [
    "A = [34,-51,-67,-42,-72,27,-12,55,-69,47,89,-54,92,8,77,82,-52,-48,-61,-90,95,-49,32,18,40,96,65,44,81,24,38,-4,-14,-97,-20,63,86,-98,-19,-8]\n",
    "A.sort()\n",
    "n = len(A) // 2\n",
    "print(sum(j for j in A[:n]))"
   ]
  },
  {
   "source": [
    "**Problema 13.** Se tienen $n$ bloques de longitudes enteras positivas $a_1, a_2, \\ldots, a_n$. Se quiere acomodarlos en forma de pirámide, de modo que se obtenga la mayor altura de pirámide posible. ¿Cuál es la altura que se obtiene? Una pirámide es acomodar los bloques en niveles de modo que para cada nivel se tengan más bloques que el nivel de arriba y una suma total mayor que el nivel de arriba. Resolver en general y luego ejecutarlo para: \n",
    "\n",
    "```\n",
    "355,572,788,82,433,225,183,499,374,734,157,121,53,486,954,792,97,684,933,51,868,485,907,292,349,804,83,214,704,200,236,404,276,778,958,105,500,334,448,836,890,537,167,31,398,313,175,930,342\n",
    "```\n",
    "\n",
    "Una exploración exhaustiva permutando los bloques acomodándolos seguro que resuelve el problema pero el tiempo de ejecución será muy elevado. Para resolverlo es mejor hacer lo siguiente:\n",
    "\n",
    "- Ordenamos los bloques de menor a mayor\n",
    "- Ponemos el menor hasta arriba, los siguientes dos en el nivel inferior, los siguientes tres en el nivel inferior y así sucesivamente\n",
    "- La altura máxima que podamos completar totalmente es la que se obtiene con este procedimiento"
   ],
   "cell_type": "markdown",
   "metadata": {}
  },
  {
   "cell_type": "code",
   "execution_count": 4,
   "metadata": {},
   "outputs": [
    {
     "output_type": "stream",
     "name": "stdout",
     "text": [
      "[31] 31\n[51, 53] 104\n[82, 83, 97] 262\n[105, 121, 157, 167] 550\n[175, 183, 200, 214, 225] 997\n[236, 276, 292, 313, 334, 342] 1793\n[349, 355, 374, 398, 404, 433, 448] 2761\n[485, 486, 499, 500, 537, 572, 684, 704] 4467\n[734, 778, 788, 792, 804, 836, 868, 890, 907] 7397\n"
     ]
    }
   ],
   "source": [
    "A = [355,572,788,82,433,225,183,499,374,734,157,121,53,486,954,792,97,684,933,51,868,485,907,292,349,804,83,214,704,200,236,404,276,778,958,105,500,334,448,836,890,537,167,31,398,313,175,930,342]\n",
    "A.sort()\n",
    "\n",
    "j = 1\n",
    "suma = 0\n",
    "piramide = []\n",
    "suma = 1\n",
    "while suma < len(A):\n",
    "    fila = A[suma-j:suma]\n",
    "    piramide.append(fila)\n",
    "    j += 1\n",
    "    suma += j\n",
    "\n",
    "for f in piramide:\n",
    "    print(f, sum(f))\n",
    "        "
   ]
  },
  {
   "source": [
    "**Problema 14.** Se tiene la siguiente pirámide de números. Se comienza desde arriba y en cada paso se puede ir al número inferior, o bien al número inferior a la derecha, hasta que se llega a la fila de hasta abajo. "
   ],
   "cell_type": "markdown",
   "metadata": {}
  },
  {
   "source": [
    "## Divide y Conquista\n",
    "\n",
    "Es partir un problema en problemas más pequeños, que no necesariamente sean instancias del mismo problema. Algunas formas en las que sucede esto es: \n",
    "\n",
    "- Partiendo correctamente el problema en funciones auxiliares que sean conceptualmente más fáciles de crear y fáciles de utilizar\n",
    "- Resolviendo un problema para una familia de instancias y luego usar estas instancias para resolver las demás\n",
    "- Resolver el problema por casos\n",
    "- Resolver el problema de manera recursiva.\n"
   ],
   "cell_type": "markdown",
   "metadata": {}
  },
  {
   "source": [
    "## Algoritmos recursivos\n",
    "\n",
    "Es una situación especial de la heurística de divide y conquista, en la cual ponemos a la instancia grande de un problema en términos de instnaicas pequeñas del mismo problema. \n",
    "\n",
    "Muchos lenguajes de programación permiten hacer cosas del siguiente estilo:\n",
    "```\n",
    "def resolver(instancia grande):\n",
    "    decir qué hacer si estamos en el caso base\n",
    "    hacer cosas para obtener instancias pequeñas\n",
    "    resolver(instancia pequeña)\n",
    "    hacer cosas\n",
    "    regresar resultado\n",
    "```\n",
    "\n",
    "Aquí la función ```resolver``` se cita a sí misma, de manera muy parecida a como las sucesiones recursiva, como la de Fibonacci, están en términos de ellas mismas. Para que el algoritmo esté bien definido, la función debe decir que hacer con uno (o más) casos base. Veamos un par de ejempolos muy sencillos en Python: \n",
    "\n",
    "- Uno en donde definimos la función de \"multiplicación por $3$\" en términos de la función suma para los números naturales. \n",
    "- Otro en donde definimos la función factorial"
   ],
   "cell_type": "markdown",
   "metadata": {}
  },
  {
   "cell_type": "code",
   "execution_count": 8,
   "metadata": {},
   "outputs": [
    {
     "output_type": "stream",
     "name": "stdout",
     "text": [
      "30\n6\n"
     ]
    }
   ],
   "source": [
    "def multi_3(n):\n",
    "    if n == 0:\n",
    "        return 0\n",
    "    else:\n",
    "        anterior = multi_3(n-1)\n",
    "        return 3 + anterior\n",
    "print(multi_3(10))\n",
    "\n",
    "def factorial(n):\n",
    "    if n == 1:\n",
    "        return 1\n",
    "    else:\n",
    "        return n*factorial(n-1)\n",
    "\n",
    "print(factorial(3))"
   ]
  },
  {
   "source": [
    "**Problema 15.** Escribe un algoritmo recursivo que cree una lista de todas las permutaciones de $n$ elementos. \n",
    "\n",
    "Hagamos una lista de todas las permutaciones para pocos elementos:\n",
    "\n",
    "$n=1$ -> $1$\n",
    "\n",
    "$n=2$ -> $12,21$\n",
    "\n",
    "$n=3$ -> $123,132,213,231,312,321$\n",
    "\n",
    "Esbozo:\n",
    "- Cuando tenemos un elemento, regresamos el elemento. \n",
    "- Cuando tenemos $n$ elementos, primero hacemos las permutaciones de $n-1$ elementos y luego en cada una de ellas ponemos el $n-ésimo$ elemento en cada posición."
   ],
   "cell_type": "markdown",
   "metadata": {}
  },
  {
   "cell_type": "code",
   "execution_count": 21,
   "metadata": {},
   "outputs": [
    {
     "output_type": "stream",
     "name": "stdout",
     "text": [
      "24\n['uva', 'pera', 'naranja', 'manzana']\n['pera', 'uva', 'naranja', 'manzana']\n['pera', 'naranja', 'uva', 'manzana']\n['pera', 'naranja', 'manzana', 'uva']\n['uva', 'naranja', 'pera', 'manzana']\n['naranja', 'uva', 'pera', 'manzana']\n['naranja', 'pera', 'uva', 'manzana']\n['naranja', 'pera', 'manzana', 'uva']\n['uva', 'naranja', 'manzana', 'pera']\n['naranja', 'uva', 'manzana', 'pera']\n['naranja', 'manzana', 'uva', 'pera']\n['naranja', 'manzana', 'pera', 'uva']\n['uva', 'pera', 'manzana', 'naranja']\n['pera', 'uva', 'manzana', 'naranja']\n['pera', 'manzana', 'uva', 'naranja']\n['pera', 'manzana', 'naranja', 'uva']\n['uva', 'manzana', 'pera', 'naranja']\n['manzana', 'uva', 'pera', 'naranja']\n['manzana', 'pera', 'uva', 'naranja']\n['manzana', 'pera', 'naranja', 'uva']\n['uva', 'manzana', 'naranja', 'pera']\n['manzana', 'uva', 'naranja', 'pera']\n['manzana', 'naranja', 'uva', 'pera']\n['manzana', 'naranja', 'pera', 'uva']\n"
     ]
    }
   ],
   "source": [
    "def permutaciones(lista):\n",
    "    if len(lista) == 1:\n",
    "        return ([lista])\n",
    "    else:\n",
    "        anteriores = permutaciones(lista[:-1])\n",
    "        ultimo = lista[-1]\n",
    "        nuevas = []\n",
    "        for anterior in anteriores:\n",
    "            for j in range(len(anterior) + 1):\n",
    "                nueva = anterior[:j] + [ultimo] + anterior[j:]\n",
    "                nuevas.append(nueva)\n",
    "        return nuevas\n",
    "\n",
    "perms = permutaciones(['manzana', 'naranja', 'pera', 'uva'])\n",
    "print(len(perms))\n",
    "for p in perms:\n",
    "    print(p)"
   ]
  },
  {
   "source": [
    "**Problema 16.** Escribe un algoritmo recursivo que decida si una palabra es palíndroma o no, es decir, que diga si una palabra se lee igual al derecho que al revés. \n",
    "\n",
    "Para resolverlo en términos recursivos debemos pensar en los casos base que tenemos. Pensaremos en que el caso base consiste en las palabras de o bien $1$ caracter o bien ningún caracter. En ambos casos, estas palabras son palíndromas. \n",
    "\n",
    "Si tenemos una palabra más larga, es decir, con tres o más caracteres, una cosa que podemos hacer es comparar el primero con el último y ver si son iguales o no. Si no son iguales, entonces la palabra ya no fue palíndroma. Si sí son iguales, entonces el problema se reduce a que la palabra quitando el primero y el último sea palíndroma. "
   ],
   "cell_type": "markdown",
   "metadata": {}
  },
  {
   "cell_type": "code",
   "execution_count": 26,
   "metadata": {},
   "outputs": [
    {
     "output_type": "stream",
     "name": "stdout",
     "text": [
      "True\nFalse\nTrue\nTrue\nTrue\nFalse\n"
     ]
    }
   ],
   "source": [
    "def palindroma(palabra):\n",
    "    if len(palabra) <= 1:\n",
    "        return True\n",
    "    if palabra[0] != palabra[-1]:\n",
    "        return False\n",
    "    else:\n",
    "        return palindroma(palabra[1:-1])\n",
    "\n",
    "print(palindroma('reconocer'))\n",
    "print(palindroma('alegría'))\n",
    "print(palindroma('a'))\n",
    "print(palindroma(''))\n",
    "print(palindroma('tassat'))\n",
    "print(palindroma('tatsat'))"
   ]
  },
  {
   "source": [
    "## Teorema maestro"
   ],
   "cell_type": "markdown",
   "metadata": {}
  },
  {
   "source": [
    "## Backtrack y búsquedas combinatorias\n",
    "\n",
    "Lo que hace una búsqueda combinatoria es recorrer todo el espacio de estados de un problema algorítmico de una forma ordenada. Una forma muy común de hacer esto es mediante un procedimienot recursivo llamado **backtrack**, que progresivamente va construyendo un vector $A=(v_1, v_2, \\ldots, v_k)$ mediante la adición o eliminación en la parte final de elementos de una lista de $C$ candidatos.\n",
    "\n",
    "Cada que el algoritmo llega a un vector que podría ser una solución, lo procesa. \n",
    "\n",
    "Para ir recorriendo los vectores, se hace lo siguiente: \n",
    "```\n",
    "backtrack(a, k, datos):\n",
    "    si a es vacío\n",
    "        proceso_inicial(a, k, datos)\n",
    "    si a es válido\n",
    "        procesar(a, k, datos)\n",
    "    C = generar_candidatos(a,k,datos)\n",
    "    para j en C:\n",
    "        agregar j al final de a\n",
    "        backtrack(a,k,datos)\n",
    "        eliminar j del final de a\n",
    "    proceso_final(a,k,datos)\n",
    "```\n",
    "\n",
    "Como hay diferentes valores de $C$ en distintos valores de la recursión, estos no interfieren entre sí. "
   ],
   "cell_type": "markdown",
   "metadata": {}
  },
  {
   "source": [
    "### Generar permutacoines con backtrack"
   ],
   "cell_type": "markdown",
   "metadata": {}
  },
  {
   "cell_type": "code",
   "execution_count": 28,
   "metadata": {},
   "outputs": [
    {
     "output_type": "stream",
     "name": "stdout",
     "text": [
      "[0, 1, 2, 3]\n[0, 1, 3, 2]\n[0, 2, 1, 3]\n[0, 2, 3, 1]\n[0, 3, 1, 2]\n[0, 3, 2, 1]\n[1, 0, 2, 3]\n[1, 0, 3, 2]\n[1, 2, 0, 3]\n[1, 2, 3, 0]\n[1, 3, 0, 2]\n[1, 3, 2, 0]\n[2, 0, 1, 3]\n[2, 0, 3, 1]\n[2, 1, 0, 3]\n[2, 1, 3, 0]\n[2, 3, 0, 1]\n[2, 3, 1, 0]\n[3, 0, 1, 2]\n[3, 0, 2, 1]\n[3, 1, 0, 2]\n[3, 1, 2, 0]\n[3, 2, 0, 1]\n[3, 2, 1, 0]\n24\n"
     ]
    }
   ],
   "source": [
    "def perms(n, a=[], candidates = [], sols = 0):\n",
    "    if len(a) == 0:\n",
    "        candidates = list(range(n))\n",
    "    if len(a) == n:\n",
    "        sols += 1\n",
    "        print(a)\n",
    "        return sols \n",
    "    for j in candidates:\n",
    "        a.append(j)\n",
    "        new_candidates = candidates.copy()\n",
    "        new_candidates.remove(j)\n",
    "        sols = perms(n, a, new_candidates, sols)\n",
    "        a.remove(j)\n",
    "    return sols\n",
    "\n",
    "sols = perms(4)\n",
    "print(sols)"
   ]
  },
  {
   "source": [
    "Reto. Utilizar esta idea de backtrack para resolver el problema del reloj que tenemos pendiente. "
   ],
   "cell_type": "markdown",
   "metadata": {}
  },
  {
   "cell_type": "code",
   "execution_count": 3,
   "metadata": {},
   "outputs": [
    {
     "output_type": "stream",
     "name": "stdout",
     "text": [
      "2\n",
      "3\n",
      "4\n",
      "5\n",
      "6\n",
      "7\n",
      "8\n",
      "9\n",
      "10\n",
      "11\n",
      "12\n",
      "24424416\n"
     ]
    }
   ],
   "source": [
    "def reloj(n=12, a=[], candidates=[], sols=0):\n",
    "    if len(a) == 0:\n",
    "        candidates = [1]\n",
    "    if len(a) == 1:\n",
    "        candidates = list(range(2,n+1))\n",
    "    if len(a) == 2:\n",
    "        print(a[-1])\n",
    "    if len(a) >= 3:\n",
    "        if a[-3] + a[-2] + a[-1] == 13:\n",
    "            return sols \n",
    "        if len(a) == n:\n",
    "            if a[-2] + a[-1] + a[0] == 13 or a[-1] + a[0] + a[1] == 13:\n",
    "                return sols \n",
    "            else:\n",
    "                return sols + 1\n",
    "    for j in candidates:\n",
    "        a.append(j)\n",
    "        new_candidates = candidates.copy()\n",
    "        new_candidates.remove(j)\n",
    "        sols=reloj(n,a,new_candidates,sols)\n",
    "        a.remove(j)\n",
    "    return sols\n",
    "\n",
    "if __name__ == '__main__':\n",
    "    print(reloj())"
   ]
  },
  {
   "cell_type": "code",
   "execution_count": 4,
   "metadata": {},
   "outputs": [
    {
     "output_type": "stream",
     "name": "stdout",
     "text": [
      "2\n",
      "3\n",
      "4\n",
      "5\n",
      "6\n",
      "7\n",
      "8\n",
      "9\n",
      "10\n",
      "165520\n"
     ]
    }
   ],
   "source": [
    "print(reloj(10))"
   ]
  },
  {
   "cell_type": "code",
   "execution_count": 7,
   "metadata": {},
   "outputs": [
    {
     "output_type": "stream",
     "name": "stdout",
     "text": [
      "2\n3\n4\n5\n6\n(56, [[1, 2, 3, 4, 5, 6], [1, 2, 3, 5, 4, 6], [1, 2, 3, 5, 6, 4], [1, 2, 3, 6, 5, 4], [1, 2, 4, 3, 5, 6], [1, 2, 4, 5, 3, 6], [1, 2, 4, 5, 6, 3], [1, 2, 4, 6, 5, 3], [1, 2, 6, 3, 5, 4], [1, 2, 6, 4, 5, 3], [1, 3, 2, 4, 5, 6], [1, 3, 2, 4, 6, 5], [1, 3, 2, 5, 4, 6], [1, 3, 2, 6, 4, 5], [1, 3, 5, 2, 4, 6], [1, 3, 5, 4, 2, 6], [1, 3, 5, 4, 6, 2], [1, 3, 5, 6, 4, 2], [1, 3, 6, 2, 4, 5], [1, 3, 6, 5, 4, 2], [1, 4, 2, 3, 5, 6], [1, 4, 2, 3, 6, 5], [1, 4, 2, 5, 3, 6], [1, 4, 2, 6, 3, 5], [1, 4, 5, 2, 3, 6], [1, 4, 5, 3, 2, 6], [1, 4, 5, 3, 6, 2], [1, 4, 5, 6, 3, 2], [1, 4, 6, 2, 3, 5], [1, 4, 6, 5, 3, 2], [1, 5, 3, 2, 4, 6], [1, 5, 3, 2, 6, 4], [1, 5, 3, 4, 2, 6], [1, 5, 3, 6, 2, 4], [1, 5, 4, 2, 3, 6], [1, 5, 4, 2, 6, 3], [1, 5, 4, 3, 2, 6], [1, 5, 4, 6, 2, 3], [1, 5, 6, 3, 2, 4], [1, 5, 6, 4, 2, 3], [1, 6, 2, 3, 4, 5], [1, 6, 2, 3, 5, 4], [1, 6, 2, 4, 3, 5], [1, 6, 2, 4, 5, 3], [1, 6, 3, 2, 4, 5], [1, 6, 3, 2, 5, 4], [1, 6, 3, 5, 2, 4], [1, 6, 3, 5, 4, 2], [1, 6, 4, 2, 3, 5], [1, 6, 4, 2, 5, 3], [1, 6, 4, 5, 2, 3], [1, 6, 4, 5, 3, 2], [1, 6, 5, 3, 2, 4], [1, 6, 5, 3, 4, 2], [1, 6, 5, 4, 2, 3], [1, 6, 5, 4, 3, 2]])\n"
     ]
    }
   ],
   "source": [
    "def reloj_buenos(n=6, a=[], candidates=[], sols=0, buenos=list([])):\n",
    "    if len(a) == 0:\n",
    "        candidates = [1]\n",
    "    if len(a) == 1:\n",
    "        candidates = list(range(2,n+1))\n",
    "    if len(a) == 2:\n",
    "        print(a[-1])\n",
    "    if len(a) >= 3:\n",
    "        if a[-3] + a[-2] + a[-1] == 13:\n",
    "            return sols, buenos\n",
    "        if len(a) == n:\n",
    "            if a[-2] + a[-1] + a[0] == 13 or a[-1] + a[0] + a[1] == 13:\n",
    "                return sols, buenos\n",
    "            else:\n",
    "                buenos.append(a.copy())\n",
    "                return (sols + 1,buenos)\n",
    "    for j in candidates:\n",
    "        a.append(j)\n",
    "        new_candidates = candidates.copy()\n",
    "        new_candidates.remove(j)\n",
    "        sols, buenos = reloj_buenos(n,a,new_candidates,sols,buenos)\n",
    "        a.remove(j)\n",
    "    return (sols,buenos)\n",
    "\n",
    "if __name__ == '__main__':\n",
    "    print(reloj_buenos())"
   ]
  },
  {
   "source": [
    "## Caminos en gráficas"
   ],
   "cell_type": "markdown",
   "metadata": {}
  },
  {
   "cell_type": "code",
   "execution_count": 1,
   "metadata": {},
   "outputs": [],
   "source": [
    "import networkx as nx\n",
    "G = nx.petersen_graph()"
   ]
  },
  {
   "cell_type": "code",
   "execution_count": null,
   "metadata": {},
   "outputs": [],
   "source": []
  },
  {
   "cell_type": "code",
   "execution_count": null,
   "metadata": {},
   "outputs": [],
   "source": []
  },
  {
   "cell_type": "code",
   "execution_count": null,
   "metadata": {},
   "outputs": [],
   "source": []
  },
  {
   "cell_type": "code",
   "execution_count": null,
   "metadata": {},
   "outputs": [],
   "source": []
  },
  {
   "cell_type": "code",
   "execution_count": null,
   "metadata": {},
   "outputs": [],
   "source": []
  },
  {
   "cell_type": "code",
   "execution_count": null,
   "metadata": {},
   "outputs": [],
   "source": []
  }
 ]
}