{
 "metadata": {
  "language_info": {
   "codemirror_mode": {
    "name": "ipython",
    "version": 3
   },
   "file_extension": ".py",
   "mimetype": "text/x-python",
   "name": "python",
   "nbconvert_exporter": "python",
   "pygments_lexer": "ipython3",
   "version": "3.8.5-final"
  },
  "orig_nbformat": 2,
  "kernelspec": {
   "name": "Python 3.8.5 64-bit",
   "display_name": "Python 3.8.5 64-bit",
   "metadata": {
    "interpreter": {
     "hash": "1ee38ef4a5a9feb55287fd749643f13d043cb0a7addaab2a9c224cbe137c0062"
    }
   }
  }
 },
 "nbformat": 4,
 "nbformat_minor": 2,
 "cells": [
  {
   "cell_type": "code",
   "execution_count": 11,
   "metadata": {},
   "outputs": [],
   "source": [
    "def Y(n):\n",
    "    def D(n):\n",
    "        if n == 1:\n",
    "            return 1\n",
    "        return 2 * E(n-1)\n",
    "    def E(n):\n",
    "        if n == 1:\n",
    "            return 1\n",
    "        return D(n-1) + (2 * E(n-1))\n",
    "    return D(n) + (2*E(n))"
   ]
  },
  {
   "cell_type": "code",
   "execution_count": 12,
   "metadata": {},
   "outputs": [
    {
     "output_type": "stream",
     "name": "stdout",
     "text": [
      "n = 1 ->  3\nn = 2 ->  8\nn = 3 ->  22\n...\nn = 20 ->  578272256\n"
     ]
    }
   ],
   "source": [
    "print(\"n = 1 -> \", Y(1))\n",
    "print(\"n = 2 -> \", Y(2))\n",
    "print(\"n = 3 -> \", Y(3))\n",
    "print(\"...\")\n",
    "print(\"n = 20 -> \", Y(20))"
   ]
  },
  {
   "cell_type": "code",
   "execution_count": null,
   "metadata": {},
   "outputs": [],
   "source": []
  }
 ]
}