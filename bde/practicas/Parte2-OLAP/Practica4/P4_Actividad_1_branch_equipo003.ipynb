{
 "metadata": {
  "language_info": {
   "codemirror_mode": {
    "name": "ipython",
    "version": 3
   },
   "file_extension": ".py",
   "mimetype": "text/x-python",
   "name": "python",
   "nbconvert_exporter": "python",
   "pygments_lexer": "ipython3",
   "version": "3.8.5-final"
  },
  "orig_nbformat": 2,
  "kernelspec": {
   "name": "python3",
   "display_name": "Python 3"
  }
 },
 "nbformat": 4,
 "nbformat_minor": 2,
 "cells": [
  {
   "source": [
    "Equipo 003"
   ],
   "cell_type": "markdown",
   "metadata": {}
  },
  {
   "cell_type": "code",
   "execution_count": 1,
   "metadata": {},
   "outputs": [],
   "source": [
    "import pandas as pd\n",
    "import numpy as np"
   ]
  },
  {
   "cell_type": "code",
   "execution_count": 12,
   "metadata": {},
   "outputs": [
    {
     "output_type": "execute_result",
     "data": {
      "text/plain": [
       "  Institution Name  Main Office                    Branch Name  \\\n",
       "0        Citi Bank            0                  boston branch   \n",
       "1        Citi Bank            0   milford (ford street) branch   \n",
       "2        Citi Bank            0  milford banking center branch   \n",
       "3        Citi Bank            0               monroe ct branch   \n",
       "4        Citi Bank            0                 newtown branch   \n",
       "\n",
       "  Established Date (MMDDYYY) Acquired Date(MMDDYYY)           Street Address  \\\n",
       "0         4 de enero de 2003             08/16/2008  50 ROWES WHARF, FLOOR 4   \n",
       "1                 09/16/1967             07/14/1996     370 BOSTON POST ROAD   \n",
       "2         7 de enero de 2010                    NaN    1651 BOSTON POST ROAD   \n",
       "3        8 de agosto de 1979             07/14/1996      456 MONROE TURNPIKE   \n",
       "4                 12/28/1974             07/14/1996      30 CHURCH HILL ROAD   \n",
       "\n",
       "      County State  Zipcode  Latitude  Longitude  2010 Deposits  \\\n",
       "0    Suffolk    MA   2110.0  42.35597  -71.04981            0.0   \n",
       "1  New Haven    CT   6460.0  41.22554  -73.07122        82623.0   \n",
       "2        NaN    CT   6460.0  41.24752  -73.02523            NaN   \n",
       "3  Fairfield    CT   6468.0  41.31428  -73.21837        63203.0   \n",
       "4  Fairfield    CT   6470.0  41.41458  -73.30159        51729.0   \n",
       "\n",
       "   2011 Deposits  2012 Deposits  2013 Deposits  2014 Deposits  2015 Deposits  \\\n",
       "0            0.0            0.0            0.0            0.0            0.0   \n",
       "1        83772.0        86838.0        86705.0        87268.0        89086.0   \n",
       "2         5102.0        11847.0        18696.0        24017.0        28134.0   \n",
       "3        66795.0        68238.0        76666.0        79725.0        82839.0   \n",
       "4        58509.0        65722.0        76224.0        84761.0        87607.0   \n",
       "\n",
       "   2016 Deposits  \n",
       "0              0  \n",
       "1          99210  \n",
       "2          33414  \n",
       "3          84911  \n",
       "4         100543  "
      ],
      "text/html": "<div>\n<style scoped>\n    .dataframe tbody tr th:only-of-type {\n        vertical-align: middle;\n    }\n\n    .dataframe tbody tr th {\n        vertical-align: top;\n    }\n\n    .dataframe thead th {\n        text-align: right;\n    }\n</style>\n<table border=\"1\" class=\"dataframe\">\n  <thead>\n    <tr style=\"text-align: right;\">\n      <th></th>\n      <th>Institution Name</th>\n      <th>Main Office</th>\n      <th>Branch Name</th>\n      <th>Established Date (MMDDYYY)</th>\n      <th>Acquired Date(MMDDYYY)</th>\n      <th>Street Address</th>\n      <th>County</th>\n      <th>State</th>\n      <th>Zipcode</th>\n      <th>Latitude</th>\n      <th>Longitude</th>\n      <th>2010 Deposits</th>\n      <th>2011 Deposits</th>\n      <th>2012 Deposits</th>\n      <th>2013 Deposits</th>\n      <th>2014 Deposits</th>\n      <th>2015 Deposits</th>\n      <th>2016 Deposits</th>\n    </tr>\n  </thead>\n  <tbody>\n    <tr>\n      <th>0</th>\n      <td>Citi Bank</td>\n      <td>0</td>\n      <td>boston branch</td>\n      <td>4 de enero de 2003</td>\n      <td>08/16/2008</td>\n      <td>50 ROWES WHARF, FLOOR 4</td>\n      <td>Suffolk</td>\n      <td>MA</td>\n      <td>2110.0</td>\n      <td>42.35597</td>\n      <td>-71.04981</td>\n      <td>0.0</td>\n      <td>0.0</td>\n      <td>0.0</td>\n      <td>0.0</td>\n      <td>0.0</td>\n      <td>0.0</td>\n      <td>0</td>\n    </tr>\n    <tr>\n      <th>1</th>\n      <td>Citi Bank</td>\n      <td>0</td>\n      <td>milford (ford street) branch</td>\n      <td>09/16/1967</td>\n      <td>07/14/1996</td>\n      <td>370 BOSTON POST ROAD</td>\n      <td>New Haven</td>\n      <td>CT</td>\n      <td>6460.0</td>\n      <td>41.22554</td>\n      <td>-73.07122</td>\n      <td>82623.0</td>\n      <td>83772.0</td>\n      <td>86838.0</td>\n      <td>86705.0</td>\n      <td>87268.0</td>\n      <td>89086.0</td>\n      <td>99210</td>\n    </tr>\n    <tr>\n      <th>2</th>\n      <td>Citi Bank</td>\n      <td>0</td>\n      <td>milford banking center branch</td>\n      <td>7 de enero de 2010</td>\n      <td>NaN</td>\n      <td>1651 BOSTON POST ROAD</td>\n      <td>NaN</td>\n      <td>CT</td>\n      <td>6460.0</td>\n      <td>41.24752</td>\n      <td>-73.02523</td>\n      <td>NaN</td>\n      <td>5102.0</td>\n      <td>11847.0</td>\n      <td>18696.0</td>\n      <td>24017.0</td>\n      <td>28134.0</td>\n      <td>33414</td>\n    </tr>\n    <tr>\n      <th>3</th>\n      <td>Citi Bank</td>\n      <td>0</td>\n      <td>monroe ct branch</td>\n      <td>8 de agosto de 1979</td>\n      <td>07/14/1996</td>\n      <td>456 MONROE TURNPIKE</td>\n      <td>Fairfield</td>\n      <td>CT</td>\n      <td>6468.0</td>\n      <td>41.31428</td>\n      <td>-73.21837</td>\n      <td>63203.0</td>\n      <td>66795.0</td>\n      <td>68238.0</td>\n      <td>76666.0</td>\n      <td>79725.0</td>\n      <td>82839.0</td>\n      <td>84911</td>\n    </tr>\n    <tr>\n      <th>4</th>\n      <td>Citi Bank</td>\n      <td>0</td>\n      <td>newtown branch</td>\n      <td>12/28/1974</td>\n      <td>07/14/1996</td>\n      <td>30 CHURCH HILL ROAD</td>\n      <td>Fairfield</td>\n      <td>CT</td>\n      <td>6470.0</td>\n      <td>41.41458</td>\n      <td>-73.30159</td>\n      <td>51729.0</td>\n      <td>58509.0</td>\n      <td>65722.0</td>\n      <td>76224.0</td>\n      <td>84761.0</td>\n      <td>87607.0</td>\n      <td>100543</td>\n    </tr>\n  </tbody>\n</table>\n</div>"
     },
     "metadata": {},
     "execution_count": 12
    }
   ],
   "source": [
    "df = pd.read_csv('./database-sucia-citi.csv')\n",
    "df.head()"
   ]
  },
  {
   "cell_type": "code",
   "execution_count": 13,
   "metadata": {},
   "outputs": [
    {
     "output_type": "execute_result",
     "data": {
      "text/plain": [
       "Index(['Institution Name', 'Main Office', 'Branch Name',\n",
       "       'Established Date (MMDDYYY)', 'Acquired Date(MMDDYYY)',\n",
       "       'Street Address', 'County', 'State', 'Zipcode', 'Latitude', 'Longitude',\n",
       "       '2010 Deposits', '2011 Deposits', '2012 Deposits', '2013 Deposits',\n",
       "       '2014 Deposits', '2015 Deposits', '2016 Deposits'],\n",
       "      dtype='object')"
      ]
     },
     "metadata": {},
     "execution_count": 13
    }
   ],
   "source": [
    "df.columns"
   ]
  },
  {
   "cell_type": "code",
   "execution_count": 21,
   "metadata": {},
   "outputs": [],
   "source": [
    "data = {'branch_key': list(range(1,df.shape[0]+1)),\n",
    "        'branch_name': df['Branch Name'],\n",
    "        'branch_address': df['Street Address'],\n",
    "        'branch_city': df['County'],\n",
    "        'branch_state': df['State'],\n",
    "        'branch_zip': df['Zipcode']\n",
    "        }\n",
    "branch_df = pd.DataFrame(data)"
   ]
  },
  {
   "cell_type": "code",
   "execution_count": 22,
   "metadata": {},
   "outputs": [
    {
     "output_type": "execute_result",
     "data": {
      "text/plain": [
       "   branch_key                    branch_name           branch_address  \\\n",
       "0           1                  boston branch  50 ROWES WHARF, FLOOR 4   \n",
       "1           2   milford (ford street) branch     370 BOSTON POST ROAD   \n",
       "2           3  milford banking center branch    1651 BOSTON POST ROAD   \n",
       "3           4               monroe ct branch      456 MONROE TURNPIKE   \n",
       "4           5                 newtown branch      30 CHURCH HILL ROAD   \n",
       "\n",
       "  branch_city branch_state  branch_zip  \n",
       "0     Suffolk           MA      2110.0  \n",
       "1   New Haven           CT      6460.0  \n",
       "2         NaN           CT      6460.0  \n",
       "3   Fairfield           CT      6468.0  \n",
       "4   Fairfield           CT      6470.0  "
      ],
      "text/html": "<div>\n<style scoped>\n    .dataframe tbody tr th:only-of-type {\n        vertical-align: middle;\n    }\n\n    .dataframe tbody tr th {\n        vertical-align: top;\n    }\n\n    .dataframe thead th {\n        text-align: right;\n    }\n</style>\n<table border=\"1\" class=\"dataframe\">\n  <thead>\n    <tr style=\"text-align: right;\">\n      <th></th>\n      <th>branch_key</th>\n      <th>branch_name</th>\n      <th>branch_address</th>\n      <th>branch_city</th>\n      <th>branch_state</th>\n      <th>branch_zip</th>\n    </tr>\n  </thead>\n  <tbody>\n    <tr>\n      <th>0</th>\n      <td>1</td>\n      <td>boston branch</td>\n      <td>50 ROWES WHARF, FLOOR 4</td>\n      <td>Suffolk</td>\n      <td>MA</td>\n      <td>2110.0</td>\n    </tr>\n    <tr>\n      <th>1</th>\n      <td>2</td>\n      <td>milford (ford street) branch</td>\n      <td>370 BOSTON POST ROAD</td>\n      <td>New Haven</td>\n      <td>CT</td>\n      <td>6460.0</td>\n    </tr>\n    <tr>\n      <th>2</th>\n      <td>3</td>\n      <td>milford banking center branch</td>\n      <td>1651 BOSTON POST ROAD</td>\n      <td>NaN</td>\n      <td>CT</td>\n      <td>6460.0</td>\n    </tr>\n    <tr>\n      <th>3</th>\n      <td>4</td>\n      <td>monroe ct branch</td>\n      <td>456 MONROE TURNPIKE</td>\n      <td>Fairfield</td>\n      <td>CT</td>\n      <td>6468.0</td>\n    </tr>\n    <tr>\n      <th>4</th>\n      <td>5</td>\n      <td>newtown branch</td>\n      <td>30 CHURCH HILL ROAD</td>\n      <td>Fairfield</td>\n      <td>CT</td>\n      <td>6470.0</td>\n    </tr>\n  </tbody>\n</table>\n</div>"
     },
     "metadata": {},
     "execution_count": 22
    }
   ],
   "source": [
    "branch_df.head()"
   ]
  },
  {
   "cell_type": "code",
   "execution_count": 24,
   "metadata": {},
   "outputs": [],
   "source": [
    "branch_df.to_csv('branch.csv', index=False)"
   ]
  }
 ]
}