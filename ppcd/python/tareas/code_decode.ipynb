{
 "metadata": {
  "language_info": {
   "codemirror_mode": {
    "name": "ipython",
    "version": 3
   },
   "file_extension": ".py",
   "mimetype": "text/x-python",
   "name": "python",
   "nbconvert_exporter": "python",
   "pygments_lexer": "ipython3",
   "version": "3.8.5-final"
  },
  "orig_nbformat": 2,
  "kernelspec": {
   "name": "Python 3.8.5 64-bit",
   "display_name": "Python 3.8.5 64-bit",
   "metadata": {
    "interpreter": {
     "hash": "1ee38ef4a5a9feb55287fd749643f13d043cb0a7addaab2a9c224cbe137c0062"
    }
   }
  }
 },
 "nbformat": 4,
 "nbformat_minor": 2,
 "cells": [
  {
   "source": [
    "# Codificador / Decodificador\n",
    "*Martínez Ostoa Néstor Iván*"
   ],
   "cell_type": "markdown",
   "metadata": {}
  },
  {
   "cell_type": "code",
   "execution_count": 34,
   "metadata": {},
   "outputs": [],
   "source": [
    "\"\"\"\n",
    "code_table: diccionario que representa la tabla de codificación\n",
    "\"\"\"\n",
    "code_table = {'A': 'AA', 'B': 'AB', 'C': 'AC', 'D': 'AD', 'E': 'AE',\n",
    "          'F': 'BA', 'G': 'BB', 'H': 'BC', 'I': 'BF', 'J': 'BG', 'K': 'BE',\n",
    "          'L': 'CA', 'M': 'CB', 'N': 'CC', 'O': 'CD', 'P': 'CE',\n",
    "          'Q': 'DA', 'R': 'DB', 'S': 'DC', 'T': 'DD', 'U': 'DE',\n",
    "          'V': 'EA', 'W': 'EB', 'X': 'EC', 'Y': 'ED', 'Z': 'EE'\n",
    "          }\n",
    "\n",
    "\"\"\"\n",
    "norm(str_to_op) \n",
    "    función para normalizar un string dado\n",
    "--------------------------------------------\n",
    "str_to_op: string a normalizar\n",
    "\"\"\"\n",
    "def norm(str_to_op):\n",
    "  return  \"\".join(str_to_op.split()).upper()\n",
    "\n",
    "\"\"\"\n",
    "codifica(norm_str) \n",
    "    función que codifica un string normalizado usando la tabla de codificación\n",
    "--------------------------------------------\n",
    "str_to_op: string ingresado por el usuario\n",
    "\"\"\"\n",
    "def codifica(str_to_op):\n",
    "  norm_str = norm(str_to_op)\n",
    "  coded_str = \"\"\n",
    "  for c in norm_str:\n",
    "    coded_str += code_table[c]\n",
    "  return coded_str\n",
    "\n",
    "\"\"\"\n",
    "decodifica(norm_str) \n",
    "    función que decodifica un string normalizado usando la tabla de codificación\n",
    "--------------------------------------------\n",
    "str_to_op: string ingresado por el usuario\n",
    "\"\"\"\n",
    "def decodifica(str_to_op):\n",
    "  norm_str = norm(str_to_op)\n",
    "  keys = list(code_table.keys())\n",
    "  vals = list(code_table.values())\n",
    "  decoded_str = \"\"\n",
    "  for i in range(1, len(norm_str), 2):\n",
    "    pair = norm_str[i-1] + norm_str[i]\n",
    "    decoded_str += keys[vals.index(pair)]\n",
    "  return decoded_str"
   ]
  },
  {
   "cell_type": "code",
   "execution_count": 35,
   "metadata": {},
   "outputs": [
    {
     "output_type": "stream",
     "name": "stdout",
     "text": [
      "BCCDCAAACBDECCADCD\nHOLAMUNDO\n"
     ]
    }
   ],
   "source": [
    "coded_str = codifica('hola mundo')\n",
    "print(coded_str)\n",
    "decoded_str = decodifica(coded_str)\n",
    "print(decoded_str)"
   ]
  },
  {
   "cell_type": "code",
   "execution_count": null,
   "metadata": {},
   "outputs": [],
   "source": []
  }
 ]
}