{
 "metadata": {
  "language_info": {
   "codemirror_mode": {
    "name": "ipython",
    "version": 3
   },
   "file_extension": ".py",
   "mimetype": "text/x-python",
   "name": "python",
   "nbconvert_exporter": "python",
   "pygments_lexer": "ipython3",
   "version": "3.8.5-final"
  },
  "orig_nbformat": 2,
  "kernelspec": {
   "name": "python3",
   "display_name": "Python 3.8.5 64-bit",
   "metadata": {
    "interpreter": {
     "hash": "1ee38ef4a5a9feb55287fd749643f13d043cb0a7addaab2a9c224cbe137c0062"
    }
   }
  }
 },
 "nbformat": 4,
 "nbformat_minor": 2,
 "cells": [
  {
   "source": [
    "# Perceptron"
   ],
   "cell_type": "markdown",
   "metadata": {}
  },
  {
   "cell_type": "code",
   "execution_count": 7,
   "metadata": {},
   "outputs": [],
   "source": [
    "import numpy as np\n",
    "\n",
    "class Perceptron(object):\n",
    "  def __init__(self, eta=0.01, n_iter=50, random_state=1):\n",
    "    self.eta = eta\n",
    "    self.n_iter = n_iter\n",
    "    self.random_state = random_state\n",
    "  \n",
    "  def fit(self, X, y):\n",
    "    rgen = np.random.RandomState(self.random_state)\n",
    "    if self.random_state is None:\n",
    "      self.w_ = np.zeros(1 + len(X[1]))\n",
    "    else:\n",
    "      self.w_ = rgen.normal(loc=0.0, scale = 0.1, size = 1 + X.shape[1])\n",
    "    self.errors_ = []\n",
    "    for _ in range(self.n_iter):\n",
    "      errors = 0\n",
    "      for xi, yi, in zip(X, y):\n",
    "        update = self.eta * (yi - self.predict(xi))\n",
    "        self.w_[1:] += update * xi\n",
    "        self.w_[0] += update\n",
    "        errors += int(update != 0.0)\n",
    "      self.errors_.append(errors)\n",
    "    return self\n",
    "\n",
    "  def predict(self, X):\n",
    "    return np.where(self.net_input(X) >= 0.0, 1, -1)\n",
    "\n",
    "  def net_input(self, X):\n",
    "    return np.dot(X, self.w_[1:]) + self.w_[0]"
   ]
  },
  {
   "cell_type": "code",
   "execution_count": 8,
   "metadata": {},
   "outputs": [
    {
     "output_type": "stream",
     "name": "stdout",
     "text": [
      "Pesos:  [ 0.56243454 -0.46117564 -0.25281718]\n"
     ]
    }
   ],
   "source": [
    "X = np.array([[0, 0], [0, 1], [1, 0], [1, 1]])\n",
    "y = np.array([1 ,1, 1, -1])\n",
    "\n",
    "ppn = Perceptron(n_iter=6, eta=0.1)\n",
    "ppn.fit(X, y)\n",
    "print('Pesos: ', ppn.w_)"
   ]
  },
  {
   "cell_type": "code",
   "execution_count": 4,
   "metadata": {},
   "outputs": [
    {
     "output_type": "stream",
     "name": "stdout",
     "text": [
      "Pesos:  [ 0.4 -0.4 -0.2]\n"
     ]
    }
   ],
   "source": [
    "X = np.array([[0, 0], [0, 1], [1, 0], [1, 1]])\n",
    "y = np.array([1 ,1, 1, -1])\n",
    "\n",
    "ppn = Perceptron(n_iter=6, eta=0.1, random_state=None)\n",
    "ppn.fit(X, y)\n",
    "print('Pesos: ', ppn.w_)"
   ]
  },
  {
   "cell_type": "code",
   "execution_count": 5,
   "metadata": {},
   "outputs": [
    {
     "output_type": "stream",
     "name": "stdout",
     "text": [
      "Pesos:  [ 0.4 -0.4 -0.2  0. ]\n"
     ]
    }
   ],
   "source": [
    "X = np.array([[0, 0, 0], [0, 0, 1], [0, 1, 0], [1, 0, 0], [1, 0, 1], [1, 1, 0], [1, 1, 1]])\n",
    "y = np.array([1 ,1, 1, 1, 1, -1, -1])\n",
    "\n",
    "ppn = Perceptron(n_iter=6, eta=0.1, random_state=None)\n",
    "ppn.fit(X, y)\n",
    "print('Pesos: ', ppn.w_)"
   ]
  },
  {
   "cell_type": "code",
   "execution_count": 6,
   "metadata": {},
   "outputs": [
    {
     "output_type": "stream",
     "name": "stdout",
     "text": [
      "-1\n"
     ]
    }
   ],
   "source": [
    "x = np.array([1, 1, 0])\n",
    "print(ppn.predict(x))"
   ]
  },
  {
   "cell_type": "code",
   "execution_count": null,
   "metadata": {},
   "outputs": [],
   "source": []
  }
 ]
}