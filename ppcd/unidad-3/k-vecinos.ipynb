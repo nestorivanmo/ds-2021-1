{
 "metadata": {
  "language_info": {
   "codemirror_mode": {
    "name": "ipython",
    "version": 3
   },
   "file_extension": ".py",
   "mimetype": "text/x-python",
   "name": "python",
   "nbconvert_exporter": "python",
   "pygments_lexer": "ipython3",
   "version": "3.8.5-final"
  },
  "orig_nbformat": 2,
  "kernelspec": {
   "name": "python3",
   "display_name": "Python 3"
  }
 },
 "nbformat": 4,
 "nbformat_minor": 2,
 "cells": [
  {
   "source": [
    "## $k-$ vecinos\n",
    "25/nov/20202"
   ],
   "cell_type": "markdown",
   "metadata": {}
  },
  {
   "cell_type": "code",
   "execution_count": 52,
   "metadata": {},
   "outputs": [],
   "source": [
    "import numpy as np\n",
    "import pandas as pd\n",
    "import matplotlib.pyplot as plt \n",
    "\"csv -> comma separated value\""
   ]
  },
  {
   "cell_type": "code",
   "execution_count": 53,
   "metadata": {},
   "outputs": [],
   "source": [
    "anime = pd.read_csv(\"https://bit.ly/2kiJkrW\")"
   ]
  },
  {
   "cell_type": "code",
   "execution_count": 54,
   "metadata": {},
   "outputs": [
    {
     "output_type": "execute_result",
     "data": {
      "text/plain": [
       "   anime_id                              name  \\\n",
       "0     32281                    Kimi no Na wa.   \n",
       "1      5114  Fullmetal Alchemist: Brotherhood   \n",
       "2     28977                          Gintama°   \n",
       "3      9253                       Steins;Gate   \n",
       "4      9969                     Gintama&#039;   \n",
       "\n",
       "                                               genre   type episodes  rating  \\\n",
       "0               Drama, Romance, School, Supernatural  Movie        1    9.37   \n",
       "1  Action, Adventure, Drama, Fantasy, Magic, Mili...     TV       64    9.26   \n",
       "2  Action, Comedy, Historical, Parody, Samurai, S...     TV       51    9.25   \n",
       "3                                   Sci-Fi, Thriller     TV       24    9.17   \n",
       "4  Action, Comedy, Historical, Parody, Samurai, S...     TV       51    9.16   \n",
       "\n",
       "   members  \n",
       "0   200630  \n",
       "1   793665  \n",
       "2   114262  \n",
       "3   673572  \n",
       "4   151266  "
      ],
      "text/html": "<div>\n<style scoped>\n    .dataframe tbody tr th:only-of-type {\n        vertical-align: middle;\n    }\n\n    .dataframe tbody tr th {\n        vertical-align: top;\n    }\n\n    .dataframe thead th {\n        text-align: right;\n    }\n</style>\n<table border=\"1\" class=\"dataframe\">\n  <thead>\n    <tr style=\"text-align: right;\">\n      <th></th>\n      <th>anime_id</th>\n      <th>name</th>\n      <th>genre</th>\n      <th>type</th>\n      <th>episodes</th>\n      <th>rating</th>\n      <th>members</th>\n    </tr>\n  </thead>\n  <tbody>\n    <tr>\n      <th>0</th>\n      <td>32281</td>\n      <td>Kimi no Na wa.</td>\n      <td>Drama, Romance, School, Supernatural</td>\n      <td>Movie</td>\n      <td>1</td>\n      <td>9.37</td>\n      <td>200630</td>\n    </tr>\n    <tr>\n      <th>1</th>\n      <td>5114</td>\n      <td>Fullmetal Alchemist: Brotherhood</td>\n      <td>Action, Adventure, Drama, Fantasy, Magic, Mili...</td>\n      <td>TV</td>\n      <td>64</td>\n      <td>9.26</td>\n      <td>793665</td>\n    </tr>\n    <tr>\n      <th>2</th>\n      <td>28977</td>\n      <td>Gintama°</td>\n      <td>Action, Comedy, Historical, Parody, Samurai, S...</td>\n      <td>TV</td>\n      <td>51</td>\n      <td>9.25</td>\n      <td>114262</td>\n    </tr>\n    <tr>\n      <th>3</th>\n      <td>9253</td>\n      <td>Steins;Gate</td>\n      <td>Sci-Fi, Thriller</td>\n      <td>TV</td>\n      <td>24</td>\n      <td>9.17</td>\n      <td>673572</td>\n    </tr>\n    <tr>\n      <th>4</th>\n      <td>9969</td>\n      <td>Gintama&amp;#039;</td>\n      <td>Action, Comedy, Historical, Parody, Samurai, S...</td>\n      <td>TV</td>\n      <td>51</td>\n      <td>9.16</td>\n      <td>151266</td>\n    </tr>\n  </tbody>\n</table>\n</div>"
     },
     "metadata": {},
     "execution_count": 54
    }
   ],
   "source": [
    "anime.head()"
   ]
  },
  {
   "cell_type": "code",
   "execution_count": 55,
   "metadata": {},
   "outputs": [
    {
     "output_type": "execute_result",
     "data": {
      "text/plain": [
       "anime_id      0\n",
       "name          0\n",
       "genre        62\n",
       "type         25\n",
       "episodes      0\n",
       "rating      230\n",
       "members       0\n",
       "dtype: int64"
      ]
     },
     "metadata": {},
     "execution_count": 55
    }
   ],
   "source": [
    "anime.isnull().sum()"
   ]
  },
  {
   "source": [
    "La existencia de varios valores **null** nos indica que tendremos que hacer un *preprocesamiento* previo. Por otro lado, podemos ver que hay valores dispares en la cantidad de episodios por lo que hay que hacer un *escalamiento*. "
   ],
   "cell_type": "markdown",
   "metadata": {}
  },
  {
   "source": [
    "## Preprocesamiento"
   ],
   "cell_type": "markdown",
   "metadata": {}
  },
  {
   "cell_type": "code",
   "execution_count": 56,
   "metadata": {},
   "outputs": [],
   "source": [
    "known_animes = {\"Naruto Shippuden\":500, \"One Piece\":784, \"Detective Conan\":854, \"Dragon Ball Super\":86, \"Crayon Shin Shan\":942, \"Yu Gi Oh Arc V\":148, \"Shingeki no Kyojin Season 2\":25, \"Boku no Hero Academia 2nd Season\":25, \"Little Witch Academia TV\":25}\n",
    "\n",
    "for k,v in known_animes.items():\n",
    "    anime.loc[anime['name'] == k, 'episodes'] = v"
   ]
  },
  {
   "cell_type": "code",
   "execution_count": 57,
   "metadata": {},
   "outputs": [],
   "source": [
    "anime.loc[(anime['genre'] == 'OVA') & (anime['episodes'] == 'Unknown'), 'episodes'] = '1'\n",
    "anime.loc[(anime['genre'] == 'Hentai') & (anime['episodes'] == 'Unknown'), 'episodes'] = '1'\n",
    "anime.loc[(anime['genre'] == 'Movie') & (anime['episodes'] == 'Unknown'), 'episodes'] = '1'"
   ]
  },
  {
   "cell_type": "code",
   "execution_count": 58,
   "metadata": {},
   "outputs": [],
   "source": [
    "anime.episodes = anime.episodes.map(lambda x:np.nan if x == 'Unknown' else x)\n",
    "anime.episodes.fillna(anime.episodes.median(), inplace=True) #inplace hace las operaciones sobre el mismo dataset"
   ]
  },
  {
   "cell_type": "code",
   "execution_count": 59,
   "metadata": {},
   "outputs": [
    {
     "output_type": "execute_result",
     "data": {
      "text/plain": [
       "   type_Movie  type_Music  type_ONA  type_OVA  type_Special  type_TV\n",
       "0           1           0         0         0             0        0\n",
       "1           0           0         0         0             0        1\n",
       "2           0           0         0         0             0        1\n",
       "3           0           0         0         0             0        1\n",
       "4           0           0         0         0             0        1"
      ],
      "text/html": "<div>\n<style scoped>\n    .dataframe tbody tr th:only-of-type {\n        vertical-align: middle;\n    }\n\n    .dataframe tbody tr th {\n        vertical-align: top;\n    }\n\n    .dataframe thead th {\n        text-align: right;\n    }\n</style>\n<table border=\"1\" class=\"dataframe\">\n  <thead>\n    <tr style=\"text-align: right;\">\n      <th></th>\n      <th>type_Movie</th>\n      <th>type_Music</th>\n      <th>type_ONA</th>\n      <th>type_OVA</th>\n      <th>type_Special</th>\n      <th>type_TV</th>\n    </tr>\n  </thead>\n  <tbody>\n    <tr>\n      <th>0</th>\n      <td>1</td>\n      <td>0</td>\n      <td>0</td>\n      <td>0</td>\n      <td>0</td>\n      <td>0</td>\n    </tr>\n    <tr>\n      <th>1</th>\n      <td>0</td>\n      <td>0</td>\n      <td>0</td>\n      <td>0</td>\n      <td>0</td>\n      <td>1</td>\n    </tr>\n    <tr>\n      <th>2</th>\n      <td>0</td>\n      <td>0</td>\n      <td>0</td>\n      <td>0</td>\n      <td>0</td>\n      <td>1</td>\n    </tr>\n    <tr>\n      <th>3</th>\n      <td>0</td>\n      <td>0</td>\n      <td>0</td>\n      <td>0</td>\n      <td>0</td>\n      <td>1</td>\n    </tr>\n    <tr>\n      <th>4</th>\n      <td>0</td>\n      <td>0</td>\n      <td>0</td>\n      <td>0</td>\n      <td>0</td>\n      <td>1</td>\n    </tr>\n  </tbody>\n</table>\n</div>"
     },
     "metadata": {},
     "execution_count": 59
    }
   ],
   "source": [
    "pd.get_dummies(anime[['type']]).head() #indican el tipo en un formato de OneHot"
   ]
  },
  {
   "cell_type": "code",
   "execution_count": 60,
   "metadata": {},
   "outputs": [],
   "source": [
    "anime.members = anime.members.astype(float)\n",
    "anime.rating = anime.rating.astype(float)\n",
    "anime.rating.fillna(anime.rating.median(), inplace=True)"
   ]
  },
  {
   "source": [
    "**anime_features** es nuestro vector de características"
   ],
   "cell_type": "markdown",
   "metadata": {}
  },
  {
   "cell_type": "code",
   "execution_count": 61,
   "metadata": {},
   "outputs": [
    {
     "output_type": "execute_result",
     "data": {
      "text/plain": [
       "    Adventure   Cars   Comedy   Dementia   Demons   Drama   Ecchi   Fantasy  \\\n",
       "0           0      0        0          0        0       0       0         0   \n",
       "1           1      0        0          0        0       1       0         1   \n",
       "2           0      0        1          0        0       0       0         0   \n",
       "3           0      0        0          0        0       0       0         0   \n",
       "4           0      0        1          0        0       0       0         0   \n",
       "\n",
       "    Game   Harem  ...  Yaoi  Movie  Music  ONA  OVA  Special  TV  rating  \\\n",
       "0      0       0  ...     0      1      0    0    0        0   0    9.37   \n",
       "1      0       0  ...     0      0      0    0    0        0   1    9.26   \n",
       "2      0       0  ...     0      0      0    0    0        0   1    9.25   \n",
       "3      0       0  ...     0      0      0    0    0        0   1    9.17   \n",
       "4      0       0  ...     0      0      0    0    0        0   1    9.16   \n",
       "\n",
       "    members  episodes  \n",
       "0  200630.0         1  \n",
       "1  793665.0        64  \n",
       "2  114262.0        51  \n",
       "3  673572.0        24  \n",
       "4  151266.0        51  \n",
       "\n",
       "[5 rows x 91 columns]"
      ],
      "text/html": "<div>\n<style scoped>\n    .dataframe tbody tr th:only-of-type {\n        vertical-align: middle;\n    }\n\n    .dataframe tbody tr th {\n        vertical-align: top;\n    }\n\n    .dataframe thead th {\n        text-align: right;\n    }\n</style>\n<table border=\"1\" class=\"dataframe\">\n  <thead>\n    <tr style=\"text-align: right;\">\n      <th></th>\n      <th>Adventure</th>\n      <th>Cars</th>\n      <th>Comedy</th>\n      <th>Dementia</th>\n      <th>Demons</th>\n      <th>Drama</th>\n      <th>Ecchi</th>\n      <th>Fantasy</th>\n      <th>Game</th>\n      <th>Harem</th>\n      <th>...</th>\n      <th>Yaoi</th>\n      <th>Movie</th>\n      <th>Music</th>\n      <th>ONA</th>\n      <th>OVA</th>\n      <th>Special</th>\n      <th>TV</th>\n      <th>rating</th>\n      <th>members</th>\n      <th>episodes</th>\n    </tr>\n  </thead>\n  <tbody>\n    <tr>\n      <th>0</th>\n      <td>0</td>\n      <td>0</td>\n      <td>0</td>\n      <td>0</td>\n      <td>0</td>\n      <td>0</td>\n      <td>0</td>\n      <td>0</td>\n      <td>0</td>\n      <td>0</td>\n      <td>...</td>\n      <td>0</td>\n      <td>1</td>\n      <td>0</td>\n      <td>0</td>\n      <td>0</td>\n      <td>0</td>\n      <td>0</td>\n      <td>9.37</td>\n      <td>200630.0</td>\n      <td>1</td>\n    </tr>\n    <tr>\n      <th>1</th>\n      <td>1</td>\n      <td>0</td>\n      <td>0</td>\n      <td>0</td>\n      <td>0</td>\n      <td>1</td>\n      <td>0</td>\n      <td>1</td>\n      <td>0</td>\n      <td>0</td>\n      <td>...</td>\n      <td>0</td>\n      <td>0</td>\n      <td>0</td>\n      <td>0</td>\n      <td>0</td>\n      <td>0</td>\n      <td>1</td>\n      <td>9.26</td>\n      <td>793665.0</td>\n      <td>64</td>\n    </tr>\n    <tr>\n      <th>2</th>\n      <td>0</td>\n      <td>0</td>\n      <td>1</td>\n      <td>0</td>\n      <td>0</td>\n      <td>0</td>\n      <td>0</td>\n      <td>0</td>\n      <td>0</td>\n      <td>0</td>\n      <td>...</td>\n      <td>0</td>\n      <td>0</td>\n      <td>0</td>\n      <td>0</td>\n      <td>0</td>\n      <td>0</td>\n      <td>1</td>\n      <td>9.25</td>\n      <td>114262.0</td>\n      <td>51</td>\n    </tr>\n    <tr>\n      <th>3</th>\n      <td>0</td>\n      <td>0</td>\n      <td>0</td>\n      <td>0</td>\n      <td>0</td>\n      <td>0</td>\n      <td>0</td>\n      <td>0</td>\n      <td>0</td>\n      <td>0</td>\n      <td>...</td>\n      <td>0</td>\n      <td>0</td>\n      <td>0</td>\n      <td>0</td>\n      <td>0</td>\n      <td>0</td>\n      <td>1</td>\n      <td>9.17</td>\n      <td>673572.0</td>\n      <td>24</td>\n    </tr>\n    <tr>\n      <th>4</th>\n      <td>0</td>\n      <td>0</td>\n      <td>1</td>\n      <td>0</td>\n      <td>0</td>\n      <td>0</td>\n      <td>0</td>\n      <td>0</td>\n      <td>0</td>\n      <td>0</td>\n      <td>...</td>\n      <td>0</td>\n      <td>0</td>\n      <td>0</td>\n      <td>0</td>\n      <td>0</td>\n      <td>0</td>\n      <td>1</td>\n      <td>9.16</td>\n      <td>151266.0</td>\n      <td>51</td>\n    </tr>\n  </tbody>\n</table>\n<p>5 rows × 91 columns</p>\n</div>"
     },
     "metadata": {},
     "execution_count": 61
    }
   ],
   "source": [
    "anime_features = pd.concat([anime.genre.str.get_dummies(sep=','),\n",
    "                           pd.get_dummies(anime.type),\n",
    "                           anime[['rating']], anime[['members']],\n",
    "                           anime['episodes']], axis=1)\n",
    "import re\n",
    "anime.name = anime.name.map(lambda name:re.sub('[^A-Za-z0-9]+', ' ', name))\n",
    "anime_features.head()"
   ]
  },
  {
   "source": [
    "## Escalamiento\n",
    "Escalamiento de members"
   ],
   "cell_type": "markdown",
   "metadata": {}
  },
  {
   "cell_type": "code",
   "execution_count": 64,
   "metadata": {},
   "outputs": [
    {
     "output_type": "execute_result",
     "data": {
      "text/plain": [
       "array([[0.  , 0.  , 0.  , ..., 0.92, 0.2 , 0.  ],\n",
       "       [1.  , 0.  , 0.  , ..., 0.91, 0.78, 0.03],\n",
       "       [0.  , 0.  , 1.  , ..., 0.91, 0.11, 0.03],\n",
       "       ...,\n",
       "       [0.  , 0.  , 0.  , ..., 0.39, 0.  , 0.  ],\n",
       "       [0.  , 0.  , 0.  , ..., 0.4 , 0.  , 0.  ],\n",
       "       [0.  , 0.  , 0.  , ..., 0.45, 0.  , 0.  ]])"
      ]
     },
     "metadata": {},
     "execution_count": 64
    }
   ],
   "source": [
    "from sklearn.preprocessing import MinMaxScaler\n",
    "minmax = MinMaxScaler()\n",
    "anime_features = minmax.fit_transform(anime_features)\n",
    "np.round(anime_features, 2)"
   ]
  },
  {
   "source": [
    "## KNN"
   ],
   "cell_type": "markdown",
   "metadata": {}
  },
  {
   "cell_type": "code",
   "execution_count": 95,
   "metadata": {},
   "outputs": [
    {
     "output_type": "execute_result",
     "data": {
      "text/plain": [
       "NearestNeighbors(algorithm='ball_tree', n_neighbors=6)"
      ]
     },
     "metadata": {},
     "execution_count": 95
    }
   ],
   "source": [
    "from sklearn.neighbors import NearestNeighbors\n",
    "nbrs = NearestNeighbors(n_neighbors=6, algorithm='ball_tree')\n",
    "nbrs.fit(anime_features)"
   ]
  },
  {
   "cell_type": "code",
   "execution_count": 96,
   "metadata": {},
   "outputs": [],
   "source": [
    "distances, indices = nbrs.kneighbors(anime_features)"
   ]
  },
  {
   "source": [
    "**Version trivial** de búsqueda de resultados similares"
   ],
   "cell_type": "markdown",
   "metadata": {}
  },
  {
   "cell_type": "code",
   "execution_count": 73,
   "metadata": {},
   "outputs": [],
   "source": [
    "all_anime_names = list(anime.name.values)\n",
    "\n",
    "def get_index_from_name(name):\n",
    "    return anime[anime.name == name].index.to_list()[0]\n",
    "\n",
    "def get_id_from_partial_name(partial_name):\n",
    "    for name in all_anime_names:\n",
    "        if partial_name in name:\n",
    "            print(name, all_anime_names.index(name))"
   ]
  },
  {
   "cell_type": "code",
   "execution_count": 74,
   "metadata": {},
   "outputs": [
    {
     "output_type": "stream",
     "name": "stdout",
     "text": [
      "Boruto Naruto the Movie 486\nNaruto Shippuuden 615\nThe Last Naruto the Movie 719\nNaruto Shippuuden Movie 6 Road to Ninja 784\nNaruto 841\nBoruto Naruto the Movie Naruto ga Hokage ni Natta Hi 1103\nNaruto Shippuuden Movie 5 Blood Prison 1237\nNaruto x UT 1343\nNaruto Shippuuden Movie 4 The Lost Tower 1472\nNaruto Shippuuden Movie 3 Hi no Ishi wo Tsugu Mono 1573\nNaruto Shippuuden Movie 1 1827\nNaruto Shippuuden Movie 2 Kizuna 1828\nNaruto Shippuuden Shippuu quot Konoha Gakuen quot Den 2374\nNaruto Honoo no Chuunin Shiken Naruto vs Konohamaru  2416\nNaruto SD Rock Lee no Seishun Full Power Ninden 2457\nNaruto Shippuuden Sunny Side Battle 2458\nNaruto Movie 1 Dai Katsugeki Yuki Hime Shinobu Houjou Dattebayo  2756\nNaruto Soyokazeden Movie Naruto to Mashin to Mitsu no Onegai Dattebayo  2997\nNaruto Movie 2 Dai Gekitotsu Maboroshi no Chiteiiseki Dattebayo  3449\nNaruto Dai Katsugeki Yuki Hime Shinobu Houjou Dattebayo Special Konoha Annual Sports Festival 3529\nNaruto Movie 3 Dai Koufun Mikazuki Jima no Animaru Panikku Dattebayo  3560\nNaruto The Cross Roads 3561\nNaruto Narutimate Hero 3 Tsuini Gekitotsu Jounin vs Genin Musabetsu Dairansen taikai Kaisai  3838\nNaruto Takigakure no Shitou Ore ga Eiyuu Dattebayo  3984\nNaruto Akaki Yotsuba no Clover wo Sagase 5111\n"
     ]
    }
   ],
   "source": [
    "get_id_from_partial_name('Naruto')"
   ]
  },
  {
   "source": [
    "**Version usando KNN** de búsqueda de resultados similares"
   ],
   "cell_type": "markdown",
   "metadata": {}
  },
  {
   "cell_type": "code",
   "execution_count": 83,
   "metadata": {},
   "outputs": [],
   "source": [
    "def print_similar_animes(query=None, id=None):\n",
    "    if id:\n",
    "        for id in indices[id][1:]:\n",
    "            print(anime.iloc[id]['name'])\n",
    "    if query:\n",
    "        found_id = get_index_from_name(query)\n",
    "        for id in indices[found_id][1:]:\n",
    "            print(anime.iloc[id]['name'])"
   ]
  },
  {
   "cell_type": "code",
   "execution_count": 97,
   "metadata": {},
   "outputs": [
    {
     "output_type": "stream",
     "name": "stdout",
     "text": [
      "Naruto Shippuuden\nKatekyo Hitman Reborn \nBleach\nDragon Ball Z\nBoku no Hero Academia\n"
     ]
    }
   ],
   "source": [
    "print_similar_animes('Naruto')"
   ]
  },
  {
   "cell_type": "code",
   "execution_count": 98,
   "metadata": {},
   "outputs": [
    {
     "output_type": "stream",
     "name": "stdout",
     "text": [
      "Maria sama ga Miteru Haru\nHana yori Dango\nGlass no Kamen 2005 \nStrawberry Panic\nNetsuzou TRap\n"
     ]
    }
   ],
   "source": [
    "print_similar_animes(id=715)"
   ]
  }
 ]
}