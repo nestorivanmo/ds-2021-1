{
 "metadata": {
  "language_info": {
   "codemirror_mode": {
    "name": "ipython",
    "version": 3
   },
   "file_extension": ".py",
   "mimetype": "text/x-python",
   "name": "python",
   "nbconvert_exporter": "python",
   "pygments_lexer": "ipython3",
   "version": "3.8.5-final"
  },
  "orig_nbformat": 2,
  "kernelspec": {
   "name": "python3",
   "display_name": "Python 3",
   "language": "python"
  }
 },
 "nbformat": 4,
 "nbformat_minor": 2,
 "cells": [
  {
   "source": [
    "# 7. Tribonacci"
   ],
   "cell_type": "markdown",
   "metadata": {}
  },
  {
   "cell_type": "code",
   "execution_count": 1,
   "metadata": {},
   "outputs": [],
   "source": [
    "dp = [0,0,1]\n",
    "def tribonacci(n):\n",
    "    if n < 4: \n",
    "        return dp[n-1]\n",
    "    for i in range(4, n+1):\n",
    "        dp.append(dp[-1] + dp[-2] + dp[-3])\n",
    "    return dp[n-1]"
   ]
  },
  {
   "cell_type": "code",
   "execution_count": 2,
   "metadata": {},
   "outputs": [],
   "source": [
    "def count_digits(n):\n",
    "    return len(str(n))\n",
    "\n",
    "def count_numbers(n):\n",
    "    numbers = dict()\n",
    "    for d in str(n):\n",
    "        if d not in numbers:\n",
    "            numbers[d] = 0\n",
    "        numbers[d] += 1\n",
    "    for k in numbers.keys():\n",
    "        if numbers[k] == 10:\n",
    "            return int(k)\n",
    "    return -1"
   ]
  },
  {
   "cell_type": "code",
   "execution_count": 3,
   "metadata": {},
   "outputs": [
    {
     "output_type": "stream",
     "name": "stdout",
     "text": [
      "El primer número de Tribonacci con 100 dígitos es el 378\n"
     ]
    }
   ],
   "source": [
    "n = 0\n",
    "l = count_digits(tribonacci(n))\n",
    "while l != 100:\n",
    "    n += 1\n",
    "    l = count_digits(tribonacci(n))\n",
    "print(f'El primer número de Tribonacci con 100 dígitos es el {n}')"
   ]
  },
  {
   "cell_type": "code",
   "execution_count": 4,
   "metadata": {},
   "outputs": [
    {
     "output_type": "stream",
     "name": "stdout",
     "text": [
      "El primer número de Tribonacci en el que aparece un número repetido 10 veces es el 144 y el número repetido es 2\n"
     ]
    }
   ],
   "source": [
    "n = 1\n",
    "l = count_numbers(tribonacci(n))\n",
    "while l == -1:\n",
    "    n += 1\n",
    "    l = count_numbers(tribonacci(n))\n",
    "\n",
    "print(f'El primer número de Tribonacci en el que aparece un número repetido 10 veces es el {n} y el número repetido es {l}')"
   ]
  },
  {
   "source": [
    "# 8. Subpalabras"
   ],
   "cell_type": "markdown",
   "metadata": {}
  },
  {
   "cell_type": "code",
   "execution_count": 5,
   "metadata": {},
   "outputs": [],
   "source": [
    "import copy\n",
    "def backtrack(A, word, sols):\n",
    "    if len(A) > 0:\n",
    "        sols.append(A.copy())\n",
    "    C = build_C(A, word)\n",
    "    for c in C:\n",
    "        A.append(c)\n",
    "        sols = backtrack(A, word, sols)\n",
    "        del A[-1]\n",
    "    return sols\n",
    "\n",
    "def build_C(A, word):\n",
    "    if len(A) == 0:\n",
    "        T = []\n",
    "        for w in word:\n",
    "            if w not in T:\n",
    "                T.append(w)\n",
    "        return T\n",
    "    temp = word\n",
    "    for c in A:\n",
    "        idx = temp.index(c)\n",
    "        temp = temp[idx+1:]\n",
    "    w = \"\"\n",
    "    for t in temp:\n",
    "        if t not in w:\n",
    "            w += t\n",
    "    return list(w)"
   ]
  },
  {
   "cell_type": "code",
   "execution_count": 6,
   "metadata": {},
   "outputs": [
    {
     "output_type": "stream",
     "name": "stdout",
     "text": [
      "['c']\n['c', 'a']\n['c', 'a', 's']\n['c', 'a', 's', 'a']\n['c', 'a', 'a']\n['c', 's']\n['c', 's', 'a']\n['a']\n['a', 's']\n['a', 's', 'a']\n['a', 'a']\n['s']\n['s', 'a']\nLa palabra \"casa\" tiene 13 subpalabras\n"
     ]
    }
   ],
   "source": [
    "word = \"casa\"\n",
    "sols = backtrack([], word, [])\n",
    "for sol in sols:\n",
    "    print(sol)\n",
    "print(f'La palabra \\\"{word}\\\" tiene {len(sols)} subpalabras')"
   ]
  },
  {
   "cell_type": "code",
   "execution_count": 7,
   "metadata": {},
   "outputs": [],
   "source": [
    "def is_palindrome(word):\n",
    "    rev_word = word[::-1]\n",
    "    return word == rev_word"
   ]
  },
  {
   "cell_type": "code",
   "execution_count": 8,
   "metadata": {},
   "outputs": [
    {
     "output_type": "stream",
     "name": "stdout",
     "text": [
      "Para la palabra \"casa\", el palíndromo más grande es \"asa\" con longitud 3\n"
     ]
    }
   ],
   "source": [
    "max_palindrome_word = \"\"\n",
    "len_mpw = -1\n",
    "for s in sols:\n",
    "    ws = \"\".join(s)\n",
    "    if is_palindrome(ws):\n",
    "        if len(s) > len_mpw:\n",
    "            max_palindrome_word = ws\n",
    "            len_mpw = len(s)\n",
    "\n",
    "print(f'Para la palabra \\\"{word}\\\", el palíndromo más grande es \\\"{max_palindrome_word}\\\" con longitud {len_mpw}')"
   ]
  },
  {
   "source": [
    "# 2.Vectores"
   ],
   "cell_type": "markdown",
   "metadata": {}
  },
  {
   "source": [
    "## a)"
   ],
   "cell_type": "markdown",
   "metadata": {}
  },
  {
   "cell_type": "code",
   "execution_count": 9,
   "metadata": {},
   "outputs": [],
   "source": [
    "def construye_C(A, n):\n",
    "    if len(A) == 0:\n",
    "        return list(range(1, n+1))\n",
    "    num_dict = dict(zip(list(range(1,n+1)), [0]*n))\n",
    "    for a in A:\n",
    "        num_dict[a] += 1\n",
    "    temp = []\n",
    "    for k in num_dict.keys():\n",
    "        if num_dict[k] != 2:\n",
    "            temp.append(k)\n",
    "    return temp\n",
    "\n",
    "def es_solucion(A, n):\n",
    "    if len(A) == 0:\n",
    "        return False\n",
    "    num_dict = dict(zip(list(range(1,n+1)), [0]*n))\n",
    "    for a in A:\n",
    "        num_dict[a] += 1\n",
    "    temp = []\n",
    "    for k in num_dict.keys():\n",
    "        if num_dict[k] != 2:\n",
    "            return False\n",
    "    return True\n",
    "\n",
    "def backtrack(A, n):\n",
    "    if es_solucion(A, n):\n",
    "        print(A)\n",
    "        return\n",
    "    C = construye_C(A, n)\n",
    "    for c in C:\n",
    "        A.append(c)\n",
    "        backtrack(A, n)\n",
    "        del A[-1]\n",
    "    return"
   ]
  },
  {
   "cell_type": "code",
   "execution_count": 10,
   "metadata": {},
   "outputs": [
    {
     "output_type": "stream",
     "name": "stdout",
     "text": [
      "[1, 1, 2, 2]\n[1, 2, 1, 2]\n[1, 2, 2, 1]\n[2, 1, 1, 2]\n[2, 1, 2, 1]\n[2, 2, 1, 1]\n"
     ]
    }
   ],
   "source": [
    "backtrack([], 2)"
   ]
  },
  {
   "source": [
    "## b)"
   ],
   "cell_type": "markdown",
   "metadata": {}
  },
  {
   "cell_type": "code",
   "execution_count": 11,
   "metadata": {},
   "outputs": [],
   "source": [
    "def construye_C(A, n):\n",
    "    if len(A) == 0:\n",
    "        return list(range(1, n+1))\n",
    "    num_dict = dict(zip(list(range(1,n+1)), [0]*n))\n",
    "    for a in A:\n",
    "        num_dict[a] += 1\n",
    "    temp = []\n",
    "    for k in num_dict.keys():\n",
    "        if num_dict[k] != k:\n",
    "            temp.append(k)\n",
    "    return temp\n",
    "\n",
    "def es_solucion(A, n):\n",
    "    if len(A) == 0:\n",
    "        return False\n",
    "    num_dict = dict(zip(list(range(1,n+1)), [0]*n))\n",
    "    for a in A:\n",
    "        num_dict[a] += 1\n",
    "    temp = []\n",
    "    for k in num_dict.keys():\n",
    "        if num_dict[k] != k:\n",
    "            return False\n",
    "    return True\n",
    "\n",
    "def backtrack(A, n):\n",
    "    if es_solucion(A, n):\n",
    "        print(A)\n",
    "        return\n",
    "    C = construye_C(A, n)\n",
    "    for c in C:\n",
    "        A.append(c)\n",
    "        backtrack(A, n)\n",
    "        del A[-1]\n",
    "    return"
   ]
  },
  {
   "cell_type": "code",
   "execution_count": 12,
   "metadata": {},
   "outputs": [
    {
     "output_type": "stream",
     "name": "stdout",
     "text": [
      "[1, 2, 2]\n[2, 1, 2]\n[2, 2, 1]\n"
     ]
    }
   ],
   "source": [
    "backtrack([], 2)"
   ]
  },
  {
   "cell_type": "code",
   "execution_count": 13,
   "metadata": {},
   "outputs": [
    {
     "output_type": "stream",
     "name": "stdout",
     "text": [
      "[1, 2, 2, 3, 3, 3]\n[1, 2, 3, 2, 3, 3]\n[1, 2, 3, 3, 2, 3]\n[1, 2, 3, 3, 3, 2]\n[1, 3, 2, 2, 3, 3]\n[1, 3, 2, 3, 2, 3]\n[1, 3, 2, 3, 3, 2]\n[1, 3, 3, 2, 2, 3]\n[1, 3, 3, 2, 3, 2]\n[1, 3, 3, 3, 2, 2]\n[2, 1, 2, 3, 3, 3]\n[2, 1, 3, 2, 3, 3]\n[2, 1, 3, 3, 2, 3]\n[2, 1, 3, 3, 3, 2]\n[2, 2, 1, 3, 3, 3]\n[2, 2, 3, 1, 3, 3]\n[2, 2, 3, 3, 1, 3]\n[2, 2, 3, 3, 3, 1]\n[2, 3, 1, 2, 3, 3]\n[2, 3, 1, 3, 2, 3]\n[2, 3, 1, 3, 3, 2]\n[2, 3, 2, 1, 3, 3]\n[2, 3, 2, 3, 1, 3]\n[2, 3, 2, 3, 3, 1]\n[2, 3, 3, 1, 2, 3]\n[2, 3, 3, 1, 3, 2]\n[2, 3, 3, 2, 1, 3]\n[2, 3, 3, 2, 3, 1]\n[2, 3, 3, 3, 1, 2]\n[2, 3, 3, 3, 2, 1]\n[3, 1, 2, 2, 3, 3]\n[3, 1, 2, 3, 2, 3]\n[3, 1, 2, 3, 3, 2]\n[3, 1, 3, 2, 2, 3]\n[3, 1, 3, 2, 3, 2]\n[3, 1, 3, 3, 2, 2]\n[3, 2, 1, 2, 3, 3]\n[3, 2, 1, 3, 2, 3]\n[3, 2, 1, 3, 3, 2]\n[3, 2, 2, 1, 3, 3]\n[3, 2, 2, 3, 1, 3]\n[3, 2, 2, 3, 3, 1]\n[3, 2, 3, 1, 2, 3]\n[3, 2, 3, 1, 3, 2]\n[3, 2, 3, 2, 1, 3]\n[3, 2, 3, 2, 3, 1]\n[3, 2, 3, 3, 1, 2]\n[3, 2, 3, 3, 2, 1]\n[3, 3, 1, 2, 2, 3]\n[3, 3, 1, 2, 3, 2]\n[3, 3, 1, 3, 2, 2]\n[3, 3, 2, 1, 2, 3]\n[3, 3, 2, 1, 3, 2]\n[3, 3, 2, 2, 1, 3]\n[3, 3, 2, 2, 3, 1]\n[3, 3, 2, 3, 1, 2]\n[3, 3, 2, 3, 2, 1]\n[3, 3, 3, 1, 2, 2]\n[3, 3, 3, 2, 1, 2]\n[3, 3, 3, 2, 2, 1]\n"
     ]
    }
   ],
   "source": [
    "backtrack([], 3)"
   ]
  },
  {
   "source": [
    "## c)"
   ],
   "cell_type": "markdown",
   "metadata": {}
  },
  {
   "cell_type": "code",
   "execution_count": 14,
   "metadata": {},
   "outputs": [],
   "source": [
    "def construye_C(A, n):\n",
    "    if len(A) == 0:\n",
    "        return list(range(1, n+1))\n",
    "    num_dict = dict(zip(list(range(1,n+1)), [0]*n))\n",
    "    for a in A:\n",
    "        num_dict[a] += 1\n",
    "    temp = []\n",
    "    for k in num_dict.keys():\n",
    "        if num_dict[k] < 2:\n",
    "            temp.append(k)\n",
    "    return temp\n",
    "\n",
    "def es_solucion(A, n):\n",
    "    if len(A) == 0:\n",
    "        return True\n",
    "    num_dict = dict(zip(list(range(1,n+1)), [0]*n))\n",
    "    for a in A:\n",
    "        num_dict[a] += 1\n",
    "    temp = []\n",
    "    for k in num_dict.keys():\n",
    "        if num_dict[k] >= 3:\n",
    "            return False\n",
    "    return True\n",
    "\n",
    "def backtrack(A, n):\n",
    "    if es_solucion(A, n):\n",
    "        print(A)\n",
    "    C = construye_C(A, n)\n",
    "    for c in C:\n",
    "        A.append(c)\n",
    "        backtrack(A, n)\n",
    "        del A[-1]\n",
    "    return"
   ]
  },
  {
   "cell_type": "code",
   "execution_count": 15,
   "metadata": {},
   "outputs": [
    {
     "output_type": "stream",
     "name": "stdout",
     "text": [
      "[]\n[1]\n[1, 1]\n[1, 1, 2]\n[1, 1, 2, 2]\n[1, 2]\n[1, 2, 1]\n[1, 2, 1, 2]\n[1, 2, 2]\n[1, 2, 2, 1]\n[2]\n[2, 1]\n[2, 1, 1]\n[2, 1, 1, 2]\n[2, 1, 2]\n[2, 1, 2, 1]\n[2, 2]\n[2, 2, 1]\n[2, 2, 1, 1]\n"
     ]
    }
   ],
   "source": [
    "backtrack([], 2)"
   ]
  },
  {
   "source": [
    "# 9. Suma mayor en círculo"
   ],
   "cell_type": "markdown",
   "metadata": {}
  },
  {
   "cell_type": "code",
   "execution_count": 70,
   "metadata": {},
   "outputs": [],
   "source": [
    "def kadane(A):\n",
    "    if max(A) < 0:\n",
    "        return max(A)\n",
    "    max_so_far = 0\n",
    "    max_ending_here = 0\n",
    "    for i in A:\n",
    "        max_ending_here = max(max_ending_here + i, 0)\n",
    "        max_so_far = max(max_so_far, max_ending_here)\n",
    "    return max_so_far"
   ]
  },
  {
   "cell_type": "code",
   "execution_count": 71,
   "metadata": {},
   "outputs": [],
   "source": [
    "def max_circular_sum(A):\n",
    "    start = 0\n",
    "    end = len(A)\n",
    "    new_A = A + A\n",
    "    max_sums = []\n",
    "    while len(max_sums) != len(A):\n",
    "        temp = new_A[start:end]\n",
    "        max_sums.append(kadane(temp))\n",
    "        start += 1\n",
    "        end += 1\n",
    "    return max(max_sums)"
   ]
  },
  {
   "cell_type": "code",
   "execution_count": 79,
   "metadata": {},
   "outputs": [
    {
     "output_type": "stream",
     "name": "stdout",
     "text": [
      "Para el círculo [1, -2, 3, -2], el arco de números consecutivos cuya suma sea mayor es: 3\nPara el círculo [5, -3, 5], el arco de números consecutivos cuya suma sea mayor es: 10\nPara el círculo [3, -1, 2, -1], el arco de números consecutivos cuya suma sea mayor es: 4\nPara el círculo [3, -2, 2, -3], el arco de números consecutivos cuya suma sea mayor es: 3\nPara el círculo [-2, -3, -1], el arco de números consecutivos cuya suma sea mayor es: -1\n"
     ]
    }
   ],
   "source": [
    "listas = [\n",
    "    [-2,-3,-1],\n",
    "    [3,-2,2,-3],\n",
    "    [3,-1,2,-1],\n",
    "    [5,-3,5],\n",
    "    [1,-2,3,-2]\n",
    "]\n",
    "for lista in listas[::-1]: #solo invierto 'listas' para que correspondan con el orden de los ejemplos en LeetCode\n",
    "    print(f'Para el círculo {lista}, el arco de números consecutivos cuya suma sea mayor es: {max_circular_sum(lista)}')"
   ]
  },
  {
   "source": [
    "Las listas anteriores las tomé de: https://leetcode.com/problems/maximum-sum-circular-subarray/ para verificar que el resultado fuera el correcto."
   ],
   "cell_type": "markdown",
   "metadata": {}
  },
  {
   "cell_type": "code",
   "execution_count": null,
   "metadata": {},
   "outputs": [],
   "source": []
  }
 ]
}