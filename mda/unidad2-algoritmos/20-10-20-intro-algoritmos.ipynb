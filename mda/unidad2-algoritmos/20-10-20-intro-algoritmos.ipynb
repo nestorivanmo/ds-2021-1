{
 "metadata": {
  "language_info": {
   "codemirror_mode": {
    "name": "ipython",
    "version": 3
   },
   "file_extension": ".py",
   "mimetype": "text/x-python",
   "name": "python",
   "nbconvert_exporter": "python",
   "pygments_lexer": "ipython3",
   "version": "3.8.5-final"
  },
  "orig_nbformat": 2,
  "kernelspec": {
   "name": "Python 3.8.5 64-bit",
   "display_name": "Python 3.8.5 64-bit",
   "metadata": {
    "interpreter": {
     "hash": "1ee38ef4a5a9feb55287fd749643f13d043cb0a7addaab2a9c224cbe137c0062"
    }
   }
  }
 },
 "nbformat": 4,
 "nbformat_minor": 2,
 "cells": [
  {
   "source": [
    "# Algoritmos\n",
    "\n",
    "Un algoritmos es una serie de pasos que lleva una cierta **entrada** a una **salida** para resolver un problema. Un algoritmo debe resolver un **problema** de manera general. \n",
    "\n",
    "**Ejemplo.** El siguiente no es un problema genera: \n",
    "\n",
    "\"Ordena los números $\\{5, 7, 10, 12, 1\\}$\"\n",
    "\n",
    "Para verdaderamente plantear un problema general, lo que necesitamos es definir una **entrada** en términos de dónde puede venir y qué características debe tener, una **salida**, en estos mismos términos y un **problema** que hay que resolver.\n",
    "\n",
    "**Ejemplo.**\n",
    "- Problema. Ordenar una lista finita de números enteros.\n",
    "- Entrada. Una lista finita de números enteros: $a_1, a_2, \\ldots, a_n$\n",
    "- Salida. La misma lista, pero con los números ordenados, es decir, una lista $b_1, b_2, \\ldots, b_n$ tal que $b_i \\leq b_j$ si $i \\leq j$ y tal que ambas listas tengan los mismos elementos.\n",
    "\n",
    "Un **algoritmo** es una serie de pasos que resuelve uno de estos problemas. Es decir, mediante un cierto proceso debemos tomar la entrada, cumplir el objetivo y dar una salida como se indica.\n",
    "\n",
    "Un **algoritmo** puede ser descrito de varias formas: \n",
    "- Con palabras\n",
    "- Con pseudocódigo\n",
    "- Con código de algún lenguaje de programación\n",
    "- Con código ensamblador\n",
    "- Con señales eléctricas\n",
    "\n",
    "Hacía arriba es más entendible para humanos y más flexible, pero más difícil de que lo ejecute una computadora. Hacía abajo es menos entendible y requiere más formalidad. Hacía abajo tiene la ventaja de que una computadora lo puede ejecutar.\n",
    "\n",
    "Decimos que hacía arriba la descripción de *nivel más alto* y hacía abjo es una descripción de *nivel más bajo*. \n",
    "\n",
    "Un caso particular de un algoritmo le llamamos **instancia**. \n",
    "\n",
    "Lo que más nos interesa de los algoritmos son las siguientes tres cosas:\n",
    "- Que sean **correctos**, es decir, que resuelvan *todas* las instancias del problema correctamente.\n",
    "- Que sean **eficientes**, es decir, que no tomen ni mucho espacio ni mucho tiempo para ser ejecutados en términos del tamaño de la entrada.\n",
    "- Que sean **fáciles de implementar**, es decir, que se puedan escribir en código de manera sencilla."
   ],
   "cell_type": "markdown",
   "metadata": {}
  },
  {
   "source": [
    "# Correctitud de algoritmos\n",
    "\n",
    "Es muy importante que los algoritmos que desarrollemos en verdad resuelvan el problema que estamos planteando. Esto es parecido a cuando en argumentos matemáticos queremos demostraciones que verdaderamente y de manera formal demuestren lo que se pide demostrar.\n",
    "\n",
    "No es suficiente simplemente dar una idea general que parezca que resuelve el problema.\n",
    "\n",
    "Una vez que tenemso una propuesta de algoritmo para el problema, hay dos posibilidades, que sea correcta o que no.\n",
    "- Para verificar que sea correcta, se debe dar una demostración de que el algoritmo resuelve ccorrectamente *todas* las instancias. \n",
    "- Para verificar que la propuesta es incorrecta,  basta con ver que hay *una* instancia que resuelve mal."
   ],
   "cell_type": "markdown",
   "metadata": {}
  },
  {
   "source": [
    "# Cuando los algoritmos fallan\n",
    "\n",
    "**Ojo.** Un algoritmo podría resolver correctamente muchisísimas instancias de un problema, y sin embargo, ser una algoritmo incorrecto.\n",
    "\n",
    "**Ejemplo**. Consideramos el siguiente problema: \n",
    "\n",
    "- Problema. Decidir si cierta expresión siempre genera números primos.\n",
    "- Entrada. Un número $n$ entero positivo. \n",
    "- Salida. Decidir si la expresión $n^2-n+41$ es primo. Si sí es, responder \"sí\". Si no es, responder \"no\". \n",
    "\n",
    "Propuesta de algoritmo: Responder siempre \"sí\".\n",
    "\n",
    "Observemos que este algoritmo es correcto para las instancias $n=1,2,3,\\ldots,10$. Pero esto no es suficiente. La instancia $n=41$ falla, pues $n^2-n+41=41^2$ que no es primo.\n",
    "\n",
    "$\\square$\n",
    "\n",
    "Pensemos en otro problema y en algoritmos que también fallan. El siguiente problema está motivado por la construcción de circuitos eléctricos de manera eficiente. \n",
    "\n",
    "**Ejemplo.**\n",
    "- Problema: Construir circuitos eléctricos. \n",
    "- Entrada: Algunos puntos en el plano. \n",
    "- Salida: Un camino que recorra a todos los puntos y que en total tome la menor distancia posible.\n",
    "\n",
    "Propuesta 1 de algoritmo:\n",
    "\n",
    "Algo que podría ser más o menos sensato es seguir una heurística de comenzar en un punto e ir recorriendo al siguiente punto de menor distancia entre los que no se han recorrido. Aunque parece una buena elección, esta heurística de *punto más cercano* puede crear problemas que nos den un camino demasiado largo. Para ver que el algoritmo falla, basta con encontrar una instancia en la que falla. Ver apuntes en Goodnotes y camino del robot. "
   ],
   "cell_type": "markdown",
   "metadata": {}
  },
  {
   "cell_type": "code",
   "execution_count": 2,
   "metadata": {},
   "outputs": [
    {
     "output_type": "stream",
     "name": "stdout",
     "text": [
      "41\n43\n47\n53\n61\n71\n83\n97\n113\n131\n151\n173\n197\n223\n251\n281\n313\n347\n383\n421\n461\n503\n547\n593\n641\n691\n743\n797\n853\n911\n971\n1033\n1097\n1163\n1231\n1301\n1373\n1447\n1523\n1601\n"
     ]
    }
   ],
   "source": [
    "for n in range(1, 40):\n",
    "    print(n**2-n+41)"
   ]
  },
  {
   "cell_type": "code",
   "execution_count": null,
   "metadata": {},
   "outputs": [],
   "source": []
  }
 ]
}