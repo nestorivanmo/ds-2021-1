{
 "metadata": {
  "language_info": {
   "codemirror_mode": {
    "name": "ipython",
    "version": 3
   },
   "file_extension": ".py",
   "mimetype": "text/x-python",
   "name": "python",
   "nbconvert_exporter": "python",
   "pygments_lexer": "ipython3",
   "version": "3.8.5-final"
  },
  "orig_nbformat": 2,
  "kernelspec": {
   "name": "Python 3.8.5 64-bit",
   "display_name": "Python 3.8.5 64-bit",
   "metadata": {
    "interpreter": {
     "hash": "1ee38ef4a5a9feb55287fd749643f13d043cb0a7addaab2a9c224cbe137c0062"
    }
   }
  }
 },
 "nbformat": 4,
 "nbformat_minor": 2,
 "cells": [
  {
   "source": [
    "# Algoritmos\n",
    "\n",
    "Un algoritmos es una serie de pasos que lleva una cierta **entrada** a una **salida** para resolver un problema. Un algoritmo debe resolver un **problema** de manera general. \n",
    "\n",
    "**Ejemplo.** El siguiente no es un problema genera: \n",
    "\n",
    "\"Ordena los números $\\{5, 7, 10, 12, 1\\}$\"\n",
    "\n",
    "Para verdaderamente plantear un problema general, lo que necesitamos es definir una **entrada** en términos de dónde puede venir y qué características debe tener, una **salida**, en estos mismos términos y un **problema** que hay que resolver.\n",
    "\n",
    "**Ejemplo.**\n",
    "- Problema. Ordenar una lista finita de números enteros.\n",
    "- Entrada. Una lista finita de números enteros: $a_1, a_2, \\ldots, a_n$\n",
    "- Salida. La misma lista, pero con los números ordenados, es decir, una lista $b_1, b_2, \\ldots, b_n$ tal que $b_i \\leq b_j$ si $i \\leq j$ y tal que ambas listas tengan los mismos elementos.\n",
    "\n",
    "Un **algoritmo** es una serie de pasos que resuelve uno de estos problemas. Es decir, mediante un cierto proceso debemos tomar la entrada, cumplir el objetivo y dar una salida como se indica.\n",
    "\n",
    "Un **algoritmo** puede ser descrito de varias formas: \n",
    "- Con palabras\n",
    "- Con pseudocódigo\n",
    "- Con código de algún lenguaje de programación\n",
    "- Con código ensamblador\n",
    "- Con señales eléctricas\n",
    "\n",
    "Hacía arriba es más entendible para humanos y más flexible, pero más difícil de que lo ejecute una computadora. Hacía abajo es menos entendible y requiere más formalidad. Hacía abajo tiene la ventaja de que una computadora lo puede ejecutar.\n",
    "\n",
    "Decimos que hacía arriba la descripción de *nivel más alto* y hacía abjo es una descripción de *nivel más bajo*. \n",
    "\n",
    "Un caso particular de un algoritmo le llamamos **instancia**. \n",
    "\n",
    "Lo que más nos interesa de los algoritmos son las siguientes tres cosas:\n",
    "- Que sean **correctos**, es decir, que resuelvan *todas* las instancias del problema correctamente.\n",
    "- Que sean **eficientes**, es decir, que no tomen ni mucho espacio ni mucho tiempo para ser ejecutados en términos del tamaño de la entrada.\n",
    "- Que sean **fáciles de implementar**, es decir, que se puedan escribir en código de manera sencilla."
   ],
   "cell_type": "markdown",
   "metadata": {}
  },
  {
   "source": [
    "# Correctitud de algoritmos\n",
    "\n",
    "Es muy importante que los algoritmos que desarrollemos en verdad resuelvan el problema que estamos planteando. Esto es parecido a cuando en argumentos matemáticos queremos demostraciones que verdaderamente y de manera formal demuestren lo que se pide demostrar.\n",
    "\n",
    "No es suficiente simplemente dar una idea general que parezca que resuelve el problema.\n",
    "\n",
    "Una vez que tenemso una propuesta de algoritmo para el problema, hay dos posibilidades, que sea correcta o que no.\n",
    "- Para verificar que sea correcta, se debe dar una demostración de que el algoritmo resuelve ccorrectamente *todas* las instancias. \n",
    "- Para verificar que la propuesta es incorrecta,  basta con ver que hay *una* instancia que resuelve mal."
   ],
   "cell_type": "markdown",
   "metadata": {}
  },
  {
   "source": [
    "# Cuando los algoritmos fallan\n",
    "\n",
    "**Ojo.** Un algoritmo podría resolver correctamente muchisísimas instancias de un problema, y sin embargo, ser una algoritmo incorrecto.\n",
    "\n",
    "**Ejemplo**. Consideramos el siguiente problema: \n",
    "\n",
    "- Problema. Decidir si cierta expresión siempre genera números primos.\n",
    "- Entrada. Un número $n$ entero positivo. \n",
    "- Salida. Decidir si la expresión $n^2-n+41$ es primo. Si sí es, responder \"sí\". Si no es, responder \"no\". \n",
    "\n",
    "Propuesta de algoritmo: Responder siempre \"sí\".\n",
    "\n",
    "Observemos que este algoritmo es correcto para las instancias $n=1,2,3,\\ldots,10$. Pero esto no es suficiente. La instancia $n=41$ falla, pues $n^2-n+41=41^2$ que no es primo.\n",
    "\n",
    "$\\square$"
   ],
   "cell_type": "markdown",
   "metadata": {}
  },
  {
   "cell_type": "code",
   "execution_count": 2,
   "metadata": {},
   "outputs": [
    {
     "output_type": "stream",
     "name": "stdout",
     "text": [
      "41\n43\n47\n53\n61\n71\n83\n97\n113\n131\n151\n173\n197\n223\n251\n281\n313\n347\n383\n421\n461\n503\n547\n593\n641\n691\n743\n797\n853\n911\n971\n1033\n1097\n1163\n1231\n1301\n1373\n1447\n1523\n1601\n"
     ]
    }
   ],
   "source": [
    "for n in range(1, 40):\n",
    "    print(n**2-n+41)"
   ]
  },
  {
   "source": [
    "Pensemos en otro problema y en algoritmos que también fallan. El siguiente problema está motivado por la construcción de circuitos eléctricos de manera eficiente. \n",
    "\n",
    "**Ejemplo.**\n",
    "- Problema: Construir circuitos eléctricos. \n",
    "- Entrada: Algunos puntos en el plano. \n",
    "- Salida: Un camino que recorra a todos los puntos y que en total tome la menor distancia posible.\n",
    "\n",
    "Propuesta 1 de algoritmo:\n",
    "\n",
    "Algo que podría ser más o menos sensato es seguir una heurística de comenzar en un punto e ir recorriendo al siguiente punto de menor distancia entre los que no se han recorrido. Aunque parece una buena elección, esta heurística de *punto más cercano* puede crear problemas que nos den un camino demasiado largo. Para ver que el algoritmo falla, basta con encontrar una instancia en la que falla. Ver apuntes en Goodnotes y camino del robot. "
   ],
   "cell_type": "markdown",
   "metadata": {}
  },
  {
   "source": [
    "# EL problema de las películas\n",
    "- Problema. Elegir máximo número de películas para ver.\n",
    "- Entrada. Una lista de películas que empiezan y terminan a cierta hora.\n",
    "- Salida. La mayor cantidad de películas que podemos ver completas.\n",
    "\n",
    "Una posible estrategia puede ser escoger la primera que podamos ver, y luego la siguiente y luego la siguiente y así sucesivamente. Sin embargo, esto puede causar que veamos una película demasiado larga y que ya no podamos ver nada más, o que perdamos muchas películas intermedias. Un contraejemplo sería una película muy larga, con películas más pequeñas intermedias. \n",
    "\n",
    "El párrafo anterior sugiere que a lo mejor es una buena idea escoger la película de menor duración y luego la siguiente y luego la siguiente, etc. Esto hace que pase mucho tiempo y que no veamos películas cuando la de menor duración va hasta el final. \n",
    "\n",
    "¿Qué tal elegir la de menor duración, de ahí la siguiente que no se empalme, y así sucesivamente, pero ya que las elegimos, verlas en el orden que debe ser?. Este tampoco funciona pues una de duración corta puede anular dos de duración más larga (pues puede que empiece antes de que termine una y termine mientras está la segunda).\n",
    "\n",
    "Veamos un ejemplo de un algoritmo que sí funciona. \n",
    "\n",
    "Tomemos la película que termine primero. Luego, de las que queden, la primera que termine. Luego de las que queden, la primera que termine y así sucesivamente.\n",
    "\n",
    "Este algoritmo es bueno pues en cada momento si $P$ es la película que termina primero, entonces es la mejor que podemos ver. Esto se debe a que cualquier otra película: \n",
    "- O bien comienza antes de que termine $P$, pero nos deja con menos tiempo para ver otras películas\n",
    "- O bien comienza después de que termine $P$ y todavía podríamos considerar verla. \n",
    "\n",
    "Si quisiéramos dar una demostracción todavía más formal, podríamos plantear el  problema así: \n",
    "- Problema. Elegir máximo conjunto independiente de intervalos.\n",
    "- Entrada. Intervalos $[a_1, b_1], \\ldots , [a_n, b_n]$ de $\\real$\n",
    "- Salida. La mayor cantidad de intervalos ajenos"
   ],
   "cell_type": "markdown",
   "metadata": {}
  },
  {
   "source": [
    "# ¿Cómo ver que los algoritmos sí funcionan?\n",
    "Tenemos dos herramientas básicas para demostras que los algoritmos sí funcionan: inducción/recursión y estructuras matemáticas recursivas. \n",
    "\n",
    "## Demostraciones por inducción\n",
    "\n",
    "Lo que nos permite inducción y recursión es poner un problema o una demostración en términos de instancias más pequeñas. Si a partir de suponer que estas instancias se pueden resolver (o son correctas), logramos mostrar un nuevo caso, entonces podemos cubrir todos los casos. \n",
    "\n",
    "Consideremos el siguiente problema:\n",
    "\n",
    "- Problema. Aumentar en 1\n",
    "- Entrada. Un entero no negativo $n$\n",
    "- Salida. El entero $n+1$\n",
    "\n",
    "Propuesta de algoritmo:\n",
    "Incrementar(y):\n",
    "\n",
    "    si y=0, respondemos 1, si no:\n",
    "\n",
    "    si y es impar, entonces\n",
    "\n",
    "        respondemos 2*Incrementar(Parte-entera(y/2))\n",
    "        \n",
    "    si no, respondemos (y+1)\n",
    "\n",
    "Vamos a probar de manera inductiva que este algoritmo es correcto, es decir, que para cualquier instancia da la respuesta correcta. \n",
    "\n",
    "*Demostración.* Hacemos inducción en $y$. Si $y=0$, el algoritmo tiene un caso específico, que es responder $1$, lo cual es correcto. Esto prueba el caso base. \n",
    "\n",
    "Supongamos que el algoritmo funciona para cualquier entero hasta $y$, y veamos qué sucede con $y+1$. Esto nos lleva a dos casos: \n",
    "\n",
    "Caso 1: ($y+1$ es impar). En este caso, tenemos que $y+1$ es impar, digamos que $y+1=2k+1$. Cuando haccemos esto, el algoritmo cae en el caso de entrada impar, de modo que repsonde $2 \\text{Incrementar}(\\lfloor(y+1)/2\\rfloor) = 2 \\text{Incrementar}(\\lfloor (2k+1)/2 \\rfloor) = 2 \\text{Incrementar}(k) = 2(k+1) = 2k +2 = y + 2$\n",
    "\n",
    "Caso 2: ($y+1$ es par). En este caso el algoritmo cae en el caso de que su entrada es par, y respondería $(y+1)+1=y+2$, que es correcto.  \n",
    "\n",
    "$\\square$"
   ],
   "cell_type": "markdown",
   "metadata": {}
  },
  {
   "source": [
    "## Estructuras matemáticas recursivas\n",
    "\n",
    "Cuando tenemos un problema de \"la vida real\", usualmente no está planteado en términos de objetos matemáticos. lo que necesitamos hacer es un \"modelo\" utilizando objetos matemáticos que refleje propiedades importantes de lo que queremos. \n",
    "\n",
    "En muchas ocasiones, los problmeas que estamos estudiando se pueden plantear en términos de estructuras matemáticas discretas y recursivas. Con lo de \"recursivas\" nos refermis aque si tenemos un cierto objeto, todos o algunos de sus \"subojetos\" son del mismo tipo.\n",
    "\n",
    "Algunos ejemplos de estas estructuras son: \n",
    "- Conjuntos: se refiere a condiciones de objetos en donde nos importa el orden, por ejemplo, $\\{4,1,3^2,8,10\\}$\n",
    "- Permutaciones: se refiere a las formas de ordenar $n$ objetos, digamos, $\\{1,2,3,\\ldots,n\\}$. Una forma de pensarlo es escribir los números en el orden que la permutación dicce, por ejemplo, $15432$ es una permutación de $\\{1,2,3,4,5\\}$. Otras permutaciones son $41253$, $13425$\n",
    "- Listas de objetos en donde impora su posición: son colecciones donde se pueden repetir objetos y nos importa su posición, como $1,5,6,4,3,3,1$\n",
    "- Conjuntos de puntos en un espacio geométrico\n",
    "- Cadenas de letras: parecido a listas. Se usan para representar un lenguaje hablado. En la computadora usualmente son otro tipo de estructuras. \n",
    "- Gráficas: reflejan relaciones de parejas entre objetos. \n",
    "- Árboles: reflejan posiciones que se conectan, pero también relaciones de jerarquía.\n",
    "- Gráficas planas: reflejan redes o mapas.\n",
    "- Etc. \n"
   ],
   "cell_type": "markdown",
   "metadata": {}
  },
  {
   "source": [
    "# Análisis de algoritmos\n",
    "El análisis de algoritmos consiste en decir, de manera teórica, cuánto tiempo se tardará un algoritmo en ejecutarse para resolver un problema. Cuando decimos que es un estudio teórico, lo que nos guataría es que depende de la computadora que usemos, ni del lenguaje de programación en cual está escrito el algoritmo. A grandes rasgos, solo nos intetesa \"cuánto tiempo tarda´ra cuando la entrada se hace grande\" \n",
    "\n",
    "## El modelo RAM\n",
    "El modelo con el cual trabajaremos será una computadora teórica para la cual se cumple lo siguiente: \n",
    "- Cada operación simple (suma, resta, multiplicación, división, igualdad, etc) toma exactamente una unidad de tiempo. \n",
    "- Los bucles *no* son operaciones simples. El tiempo que toman depende de cuántas veces hacen operaciones simples. \n",
    "- Cada acceso a la memoria (ya sea cache o disco duro) toma una unidad de tiempo también. \n",
    "\n",
    "Este modelo no es ultra realista pues las computadoras se comportan diferente pero sí es muy bueno para estimar qué tan bueno son los algoritmos cuando las instancias comienzan a volverse grandes. "
   ],
   "cell_type": "markdown",
   "metadata": {}
  },
  {
   "source": [
    "## Distintos tipos de complejidades\n",
    "\n",
    "Recordemos que si tenemos un problema algorítmico, un algoritmo es un procedimiento que resuelve *todas* las instncias del problema determinadas por la entrada del problema. De esta forma tenemos tres posibilidades para medir cuánto tiempo toma un algoritmo. La *complejidad* nos dice dada una entrada $n$, cuánto tiempo tomará nuestro algoritmo y la pensamos como una función que depende del tamaño de la entrada. \n",
    "\n",
    "- La mejor complejidad: Es, para cada $n$, cuánto tarda el algoritmo en la **mejor** instancia cuya entrada tiene tamaño $n$\n",
    "- La peor complejidad: Es, para cada $n$, cuánto tarda el algoritmo en la **peor** instancia cuya entrada tiene tamaño $n$\n",
    "- La complejidad promedio: Es, para cada $n$, cuánto tarda el algoritmo en **promedio** en todas las instancias de tamaño $n$\n",
    "\n",
    "Observemos que cada una de estas descripciones es una función de $n$, el tamaño de la entrada. \n",
    "\n",
    "Por ejemplo, tomemos el siguiente problema: \n",
    "- Problema: Construir circuitos eléctricos.\n",
    "- Entrada: Algunos puntos en el plano.\n",
    "- Salida: Un ccamino que recorra a todos los puntos y que en total tome la menor distancia posible\n",
    "\n",
    "Para poder hablar de complejidad asintótica, debemos de ser mas específicos coon resspecto al tamaño de la entrada. Para estos fines, es mejor escribir el probema así: \n",
    "\n",
    "- Problema: Camino hamiltoniano de mínima longitud en el plano\n",
    "- Entrada: Un entero positivo $n$ y puntso $x_1, \\ldots, x_n$ en el plano. \n",
    "- Salida: Un camino que recorra a todos los puntos y cuya longitud sea mínima\n",
    "\n",
    "Cuando el probema está esccrito así, ahora sí podemos estudiar los algoritmos que lo resuelven en términos del modelo RAM y de complejidad asintótica. \n",
    "\n",
    "Por ejemplo, tenemos la siguiente propuesta de algoritmo para resolverlo:\n",
    "- Consideramos todas las posibles permutaciones de $n$ elementos. \n",
    "- Para cada permutacción $\\pi$, construimos el camino $x_{\\pi(1)},\\ldots,x_{\\pi(n)}$. \n",
    "- Para cada uno de esos caminos, vemo cuáles son las longitudes de los segmentos que define. \n",
    "- Sumamos todo eso. \n",
    "- De entre todas las permutaciones, elegimos la de longitud mínima.\n",
    "\n",
    "Este algoritmo es correcto pues pasa por todas las posibilidades y en particular pasará por la más pequeña. Sin embargo, ¿qué pasa cuando ccontamos la cantidad de pasos que toma?\n",
    "\n",
    "En general, para una entrada de $n$ elementos tenemos que considerar $n!$ permutaciones. Una vez que tenemos una permutación ,debemos calcular $n$ distancias, ya que tenemos esas distancias hay que sumarlas toda. Finalmente, hay que ir haciendo varias comparaciones para ver si tenemos la mejor permutación. Aproximadamente, hace $Cn!$ operaciones donde $C$ es una constante que nos dice cuánto toma estudiar cada permutación. **Esto es demasiado**. La función $n!$ crece muchísimo y muy rápido. En términos de complejidad computacional, esto nos die que el algoritmo es muy mal y tomará muchísimo itempo incluso para instancias medianas. \n",
    "\n",
    "**Ejemplo.** Puede que un algoritmo sea muy bueno (rápido) en resolver las intancias de cierto probema, pero muy malo (lento) resolviendo las instancisa de cierto problema. La utilidad de estudiar la peor complejidad es que nos garantiza un tiempo de ejecución para *cualquier* instncia. \n",
    "\n",
    "Por ejemplo, en el problema de ordenar números, puede que tengamos la siguiente instancia: \n",
    "$1,2,3,4,5,6,7,8,9$\n",
    "\n",
    "y la siguiente instancia:\n",
    "$9,8,7,6,5,4,3,2,1$\n",
    "$8,7,6,5,4,3,2,1,9$ (llegar aquí toma como 60 pasos)\n",
    "...\n",
    "$1,2,3,4,5,6,7,8,9$ (llegar aquí toma como otros 6 pasos)\n",
    "\n",
    "En total tenemos entonces como $30*9 = 270$ pasos\n",
    "\n",
    "Una posibilidad para ordenar es ir de izquierda a derecha intercambiando elementos adyacentes que estén mal y repetir hasta que quede bien ordenada la lista. Este algoritmo toma muy poquitos pasos en la primer instancia. \n",
    "\n",
    "Para la primer instancia toma como $40$ pasos. Para la segunda instancia toma como $270$. La segunda es mucho más tardada. \n",
    "\n",
    "La mejor instancia sería $1,2,3,4,5,6,7,8,9$, esto daría complejidad asintótica para entrada $9$. Parece ser que la peor instancia es $9,8,7,6,5,4,3,2,1$"
   ],
   "cell_type": "markdown",
   "metadata": {}
  },
  {
   "source": [
    "## Notación O grande\n",
    "En general, no nos va a importar decir de manera totalmente exacta cuál es la complejidad de un algoritmo. Esto es por varias razones: \n",
    "- Un aproximado será suficiente para a mayoría de las aplicaciones en la vida real.\n",
    "- Es extremadamente difícil dar la función exacta en la mayoría de los casos. En ocaciones, más difícil que el tiempo con el que contamos para resolver el problema en una aplicación dada. \n",
    "- Es mucho más fácil y casi igual de útil simplemente saber el **comportamiento asintótico** de la complejidad. \n",
    "\n",
    "**Definición.** Sean $f$ y $g$ funciones. Diremos que $f(n)=O(g(n))$ si existe una constante $c>0$ un número natural $n_0$ tal que $f(n) \\leq cg(n)$ cuando $n \\geq n_0$.\n",
    "\n",
    "**Definición.** Sean $f$ y $g$ funciones. Diremos que $f(n)=\\Omega(g(n))$ si existe una constante $c>0$ un número natural $n_0$ tal que $f(n) \\leq cg(n)$ cuando $n \\geq n_0$.\n",
    "\n",
    "**Definición.** Sean $f$ y $g$ funciones. Diremos que $f(n)=\\Theta(g(n))$ si existen constantes $c_1$ y $c_2$ ambas mayores que $0$ una constante $c>0$ un número natural $n_0$ tal que $$c_2g(n) \\leq f(n) \\leq c_1g(n)$$ cuando $n \\geq n_0$.\n",
    "\n",
    "**Ejemplo.** Veamos que $f(n) = 4n^2 + 5n + 8$ es una función $O(n^2)$. Para esto, debemos encontrar una $n_0$ y una constante $c$ que funcionen de acuerdo a la definición. Tomemos $n_0=7$ y tomemos $c=5$. Afirmamos que estas constantes funcionan. Es decir, debemos mostrar que $$4n^2 + 5n + 8 \\leq 5n^2 $$ para $n \\geq 7$. \n",
    "\n",
    "Para mostrar esto, notemos que la desigualdad es equivalente a $$n^2-5n-8 \\geq 0$$. \n",
    "\n",
    "Esta desigualdad se cumpla para $n=7$ pues $7^2-5\\cdot7-8\\geq 0$.\n",
    "\n",
    "Notemos que $n^2 -5n -8 = n(n-5)-8$\n",
    "\n",
    "**Ejemplo.** Veamos que no es cierto que $n^3-3n+3$ es una función $O(n^2)$. Veamos que para cualquier elección de constantes $c$ y $n_0$ hay un contraejemplo para $n^3-3n+3 \\leq cn^2$ con $n\\geq n_0$.\n",
    "\n",
    "Para construir este contraejemplo, lo que hacemos es tomar $n=\\max \\{n_0, 8c, 1\\}$. Haciendo las cuenta ocon $8c$, del lado izquierdo tenemos $8^3c^3-24c+3$ y del lado derecho tendríamos $8^2c^3$. \n",
    "\n",
    "Otra forma de ver que existirá un contraejemplo es tomando el cociente $$\\frac{n^3-3n+3}{n^2}$$\n",
    "\n",
    "**Ejemplo.** ¿Será la función $f(n) = 2^{n+1}$ una función $O(2^n)$? Sí, pues tomando $n_0=1$ y $c=2$ la desigualdad funciona pues $$2^{n+1} \\leq 2 \\cdot 2^n$$ para $n\\geq1$.\n",
    "\n",
    "**Ejemplo.** Veamos la función $f(n) = 2n^2+3n+1$ es una funicón $O(n^2+5n-3$. Veamos que esto es ccierto. Proponemos $c=2$ y $n_0=2$. Tenemos que ver que $$2n^2+3n+1 \\leq 2(n^2+5n-3) = 2n^2+10n-6$$ siempre que $n\\geq 2$. Si bien esta es una afirmación válida, no es tan limpia como las anteriores que hemos trabajado.\n",
    "\n",
    "Afirmamos que de hecho sucede algo mucho más simple de expresar, que es $f(n)$ es una función $O(n^2)$.\n",
    "\n",
    "Proponemos $c=3$, proponemos $n_0=4$. En efecto, tenemos que $$2n^2+3n+1 \\leq 3n^2$$ pues al pasar todo a un solo lado debemos mostrar que $n^2-3n+1\\geq 0$ y que para $n\\geq 4$, tenemos que $n^2-3n=n(n-3) \\geq 0$. \n",
    "\n",
    "En general lo que buscamos es poner nuestras afirmaciones asintóticas de la maenra más simple posible. \n",
    "\n",
    "**Ejemplo.** Veamos que también $f(n) = 2n^2 +3n + 1$ es una función $\\Omega(n^2)$. Debemos encontrar $c$ y $n_0$ tales que $f(n) \\geq cn^2 $ para $n \\geq n_0$. \n",
    "\n",
    "Proponemos $c=1$ y $n_0=0$. Estas constantes funcionan pues $2n^2 +3n +1 \\geq n^2$ para $n \\geq 0$. \n",
    "\n",
    "También funcionaría $c=2$ y $n_0=0$. Estas constantes funcionan pues $2n^2 +3n +1 \\geq 2n^2$ para $n \\geq 0$. \n",
    "\n",
    "**Ejemplo.** A partir de los ejemplos anteriores, tenemos que $f(n) = \\Theta(n^2)$.\n"
   ],
   "cell_type": "markdown",
   "metadata": {}
  },
  {
   "source": [
    "## ¿Por qué estimar los algoritmos de manera asintótica?\n",
    "\n",
    "Regresemos al ejemplo que teníamos que contar las palabras en el libro. Habíamos dicho que eran aproximadamente unas $400,000$. Supongamos que ya sabemos que una persona puede leer aproximadamente $100$ palabras por minuto. ¿Cuánto tiempo le tomaría a esa persona leer ese libro? ¿Cuánto tiempo le tomaría leer $400,000,000$ de palabras?\n",
    "\n",
    "Si son $100$ palabras por minuto, tardaría aproximadamente $40,000$ minutos, en una hora hay $60$ minutos que son menos que $100$ minutos, así que seguro tardará más de $40,000/60 \\geq 40,000 / 100 = 400$ horas. Y en un día hay menos de $25$ horas así que seguro se tardaría más de $400/24 \\geq 400/25 = 16$ días. \n",
    "\n",
    "Cuando son $400,000,000$ esto crece bastante, pues se va a $16,000$ días. Eso ya es demasiado, son como $43$ años.\n",
    "\n",
    "En este problema el tiempo transcurrido crece de manera lineal (es decir, en $O(n)$) con respecto a la entrada (el número de palabras). Si conocemos el crecimiento asintótico de la complejidad, podemos hacer estimaciones como la de arriba para otros órdenes de crecimiento."
   ],
   "cell_type": "markdown",
   "metadata": {}
  },
  {
   "cell_type": "code",
   "execution_count": null,
   "metadata": {},
   "outputs": [],
   "source": []
  },
  {
   "cell_type": "code",
   "execution_count": null,
   "metadata": {},
   "outputs": [],
   "source": []
  },
  {
   "cell_type": "code",
   "execution_count": null,
   "metadata": {},
   "outputs": [],
   "source": []
  },
  {
   "cell_type": "code",
   "execution_count": null,
   "metadata": {},
   "outputs": [],
   "source": []
  },
  {
   "cell_type": "code",
   "execution_count": null,
   "metadata": {},
   "outputs": [],
   "source": []
  },
  {
   "cell_type": "code",
   "execution_count": null,
   "metadata": {},
   "outputs": [],
   "source": []
  },
  {
   "source": [],
   "cell_type": "markdown",
   "metadata": {}
  }
 ]
}