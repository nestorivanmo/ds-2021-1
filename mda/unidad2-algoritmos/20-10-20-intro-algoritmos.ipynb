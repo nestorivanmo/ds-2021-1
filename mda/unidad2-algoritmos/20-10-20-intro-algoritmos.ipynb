{
 "metadata": {
  "language_info": {
   "codemirror_mode": {
    "name": "ipython",
    "version": 3
   },
   "file_extension": ".py",
   "mimetype": "text/x-python",
   "name": "python",
   "nbconvert_exporter": "python",
   "pygments_lexer": "ipython3",
   "version": "3.8.5-final"
  },
  "orig_nbformat": 2,
  "kernelspec": {
   "name": "Python 3.8.5 64-bit",
   "display_name": "Python 3.8.5 64-bit",
   "metadata": {
    "interpreter": {
     "hash": "1ee38ef4a5a9feb55287fd749643f13d043cb0a7addaab2a9c224cbe137c0062"
    }
   }
  }
 },
 "nbformat": 4,
 "nbformat_minor": 2,
 "cells": [
  {
   "source": [
    "# Algoritmos\n",
    "\n",
    "Un algoritmos es una serie de pasos que lleva una cierta **entrada** a una **salida** para resolver un problema. Un algoritmo debe resolver un **problema** de manera general. \n",
    "\n",
    "**Ejemplo.** El siguiente no es un problema genera: \n",
    "\n",
    "\"Ordena los números $\\{5, 7, 10, 12, 1\\}$\"\n",
    "\n",
    "Para verdaderamente plantear un problema general, lo que necesitamos es definir una **entrada** en términos de dónde puede venir y qué características debe tener, una **salida**, en estos mismos términos y un **problema** que hay que resolver.\n",
    "\n",
    "**Ejemplo.**\n",
    "- Problema. Ordenar una lista finita de números enteros.\n",
    "- Entrada. Una lista finita de números enteros: $a_1, a_2, \\ldots, a_n$\n",
    "- Salida. La misma lista, pero con los números ordenados, es decir, una lista $b_1, b_2, \\ldots, b_n$ tal que $b_i \\leq b_j$ si $i \\leq j$ y tal que ambas listas tengan los mismos elementos.\n",
    "\n",
    "Un **algoritmo** es una serie de pasos que resuelve uno de estos problemas. Es decir, mediante un cierto proceso debemos tomar la entrada, cumplir el objetivo y dar una salida como se indica.\n",
    "\n",
    "Un **algoritmo** puede ser descrito de varias formas: \n",
    "- Con palabras\n",
    "- Con pseudocódigo\n",
    "- Con código de algún lenguaje de programación\n",
    "- Con código ensamblador\n",
    "- Con señales eléctricas\n",
    "\n",
    "Hacía arriba es más entendible para humanos y más flexible, pero más difícil de que lo ejecute una computadora. Hacía abajo es menos entendible y requiere más formalidad. Hacía abajo tiene la ventaja de que una computadora lo puede ejecutar.\n",
    "\n",
    "Decimos que hacía arriba la descripción de *nivel más alto* y hacía abjo es una descripción de *nivel más bajo*. \n",
    "\n",
    "Un caso particular de un algoritmo le llamamos **instancia**. \n",
    "\n",
    "Lo que más nos interesa de los algoritmos son las siguientes tres cosas:\n",
    "- Que sean **correctos**, es decir, que resuelvan *todas* las instancias del problema correctamente.\n",
    "- Que sean **eficientes**, es decir, que no tomen ni mucho espacio ni mucho tiempo para ser ejecutados en términos del tamaño de la entrada.\n",
    "- Que sean **fáciles de implementar**, es decir, que se puedan escribir en código de manera sencilla."
   ],
   "cell_type": "markdown",
   "metadata": {}
  },
  {
   "source": [
    "# Correctitud de algoritmos\n",
    "\n",
    "Es muy importante que los algoritmos que desarrollemos en verdad resuelvan el problema que estamos planteando. Esto es parecido a cuando en argumentos matemáticos queremos demostraciones que verdaderamente y de manera formal demuestren lo que se pide demostrar.\n",
    "\n",
    "No es suficiente simplemente dar una idea general que parezca que resuelve el problema.\n",
    "\n",
    "Una vez que tenemso una propuesta de algoritmo para el problema, hay dos posibilidades, que sea correcta o que no.\n",
    "- Para verificar que sea correcta, se debe dar una demostración de que el algoritmo resuelve ccorrectamente *todas* las instancias. \n",
    "- Para verificar que la propuesta es incorrecta,  basta con ver que hay *una* instancia que resuelve mal."
   ],
   "cell_type": "markdown",
   "metadata": {}
  },
  {
   "source": [
    "# Cuando los algoritmos fallan\n",
    "\n",
    "**Ojo.** Un algoritmo podría resolver correctamente muchisísimas instancias de un problema, y sin embargo, ser una algoritmo incorrecto.\n",
    "\n",
    "**Ejemplo**. Consideramos el siguiente problema: \n",
    "\n",
    "- Problema. Decidir si cierta expresión siempre genera números primos.\n",
    "- Entrada. Un número $n$ entero positivo. \n",
    "- Salida. Decidir si la expresión $n^2-n+41$ es primo. Si sí es, responder \"sí\". Si no es, responder \"no\". \n",
    "\n",
    "Propuesta de algoritmo: Responder siempre \"sí\".\n",
    "\n",
    "Observemos que este algoritmo es correcto para las instancias $n=1,2,3,\\ldots,10$. Pero esto no es suficiente. La instancia $n=41$ falla, pues $n^2-n+41=41^2$ que no es primo.\n",
    "\n",
    "$\\square$"
   ],
   "cell_type": "markdown",
   "metadata": {}
  },
  {
   "cell_type": "code",
   "execution_count": 2,
   "metadata": {},
   "outputs": [
    {
     "output_type": "stream",
     "name": "stdout",
     "text": [
      "41\n43\n47\n53\n61\n71\n83\n97\n113\n131\n151\n173\n197\n223\n251\n281\n313\n347\n383\n421\n461\n503\n547\n593\n641\n691\n743\n797\n853\n911\n971\n1033\n1097\n1163\n1231\n1301\n1373\n1447\n1523\n1601\n"
     ]
    }
   ],
   "source": [
    "for n in range(1, 40):\n",
    "    print(n**2-n+41)"
   ]
  },
  {
   "source": [
    "Pensemos en otro problema y en algoritmos que también fallan. El siguiente problema está motivado por la construcción de circuitos eléctricos de manera eficiente. \n",
    "\n",
    "**Ejemplo.**\n",
    "- Problema: Construir circuitos eléctricos. \n",
    "- Entrada: Algunos puntos en el plano. \n",
    "- Salida: Un camino que recorra a todos los puntos y que en total tome la menor distancia posible.\n",
    "\n",
    "Propuesta 1 de algoritmo:\n",
    "\n",
    "Algo que podría ser más o menos sensato es seguir una heurística de comenzar en un punto e ir recorriendo al siguiente punto de menor distancia entre los que no se han recorrido. Aunque parece una buena elección, esta heurística de *punto más cercano* puede crear problemas que nos den un camino demasiado largo. Para ver que el algoritmo falla, basta con encontrar una instancia en la que falla. Ver apuntes en Goodnotes y camino del robot. "
   ],
   "cell_type": "markdown",
   "metadata": {}
  },
  {
   "source": [
    "# EL problema de las películas\n",
    "- Problema. Elegir máximo número de películas para ver.\n",
    "- Entrada. Una lista de películas que empiezan y terminan a cierta hora.\n",
    "- Salida. La mayor cantidad de películas que podemos ver completas.\n",
    "\n",
    "Una posible estrategia puede ser escoger la primera que podamos ver, y luego la siguiente y luego la siguiente y así sucesivamente. Sin embargo, esto puede causar que veamos una película demasiado larga y que ya no podamos ver nada más, o que perdamos muchas películas intermedias. Un contraejemplo sería una película muy larga, con películas más pequeñas intermedias. \n",
    "\n",
    "El párrafo anterior sugiere que a lo mejor es una buena idea escoger la película de menor duración y luego la siguiente y luego la siguiente, etc. Esto hace que pase mucho tiempo y que no veamos películas cuando la de menor duración va hasta el final. \n",
    "\n",
    "¿Qué tal elegir la de menor duración, de ahí la siguiente que no se empalme, y así sucesivamente, pero ya que las elegimos, verlas en el orden que debe ser?. Este tampoco funciona pues una de duración corta puede anular dos de duración más larga (pues puede que empiece antes de que termine una y termine mientras está la segunda).\n",
    "\n",
    "Veamos un ejemplo de un algoritmo que sí funciona. \n",
    "\n",
    "Tomemos la película que termine primero. Luego, de las que queden, la primera que termine. Luego de las que queden, la primera que termine y así sucesivamente.\n",
    "\n",
    "Este algoritmo es bueno pues en cada momento si $P$ es la película que termina primero, entonces es la mejor que podemos ver. Esto se debe a que cualquier otra película: \n",
    "- O bien comienza antes de que termine $P$, pero nos deja con menos tiempo para ver otras películas\n",
    "- O bien comienza después de que termine $P$ y todavía podríamos considerar verla. \n",
    "\n",
    "Si quisiéramos dar una demostracción todavía más formal, podríamos plantear el  problema así: \n",
    "- Problema. Elegir máximo conjunto independiente de intervalos.\n",
    "- Entrada. Intervalos $[a_1, b_1], \\ldots , [a_n, b_n]$ de $\\real$\n",
    "- Salida. La mayor cantidad de intervalos ajenos"
   ],
   "cell_type": "markdown",
   "metadata": {}
  },
  {
   "source": [
    "# ¿Cómo ver que los algoritmos sí funcionan?\n",
    "Tenemos dos herramientas básicas para demostras que los algoritmos sí funcionan: inducción/recursión y estructuras matemáticas recursivas. \n",
    "\n",
    "## Demostraciones por inducción\n",
    "\n",
    "Lo que nos permite inducción y recursión es poner un problema o una demostración en términos de instancias más pequeñas. Si a partir de suponer que estas instancias se pueden resolver (o son correctas), logramos mostrar un nuevo caso, entonces podemos cubrir todos los casos. \n",
    "\n",
    "Consideremos el siguiente problema:\n",
    "\n",
    "- Problema. Aumentar en 1\n",
    "- Entrada. Un entero no negativo $n$\n",
    "- Salida. El entero $n+1$\n",
    "\n",
    "Propuesta de algoritmo:\n",
    "Incrementar(y):\n",
    "\n",
    "    si y=0, respondemos 1, si no:\n",
    "\n",
    "    si y es impar, entonces\n",
    "\n",
    "        respondemos 2*Incrementar(Parte-entera(y/2))\n",
    "        \n",
    "    si no, respondemos (y+1)\n",
    "\n",
    "Vamos a probar de manera inductiva que este algoritmo es correcto, es decir, que para cualquier instancia da la respuesta correcta. \n",
    "\n",
    "*Demostración.* Hacemos inducción en $y$. Si $y=0$, el algoritmo tiene un caso específico, que es responder $1$, lo cual es correcto. Esto prueba el caso base. \n",
    "\n",
    "Supongamos que el algoritmo funciona para cualquier entero hasta $y$, y veamos qué sucede con $y+1$. Esto nos lleva a dos casos: \n",
    "\n",
    "Caso 1: ($y+1$ es impar). En este caso, tenemos que $y+1$ es impar, digamos que $y+1=2k+1$. Cuando haccemos esto, el algoritmo cae en el caso de entrada impar, de modo que repsonde $2 \\text{Incrementar}(\\lfloor(y+1)/2\\rfloor) = 2 \\text{Incrementar}(\\lfloor (2k+1)/2 \\rfloor) = 2 \\text{Incrementar}(k) = 2(k+1) = 2k +2 = y + 2$\n",
    "\n",
    "Caso 2: ($y+1$ es par). En este caso el algoritmo cae en el caso de que su entrada es par, y respondería $(y+1)+1=y+2$, que es correcto.  \n",
    "\n",
    "$\\square$"
   ],
   "cell_type": "markdown",
   "metadata": {}
  },
  {
   "source": [
    "## Estructuras matemáticas recursivas\n",
    "\n",
    "Cuando tenemos un problema de \"la vida real\", usualmente no está planteado en términos de objetos matemáticos. lo que necesitamos hacer es un \"modelo\" utilizando objetos matemáticos que refleje propiedades importantes de lo que queremos. \n",
    "\n",
    "En muchas ocasiones, los problmeas que estamos estudiando se pueden plantear en términos de estructuras matemáticas discretas y recursivas. Con lo de \"recursivas\" nos refermis aque si tenemos un cierto objeto, todos o algunos de sus \"subojetos\" son del mismo tipo.\n",
    "\n",
    "Algunos ejemplos de estas estructuras son: \n",
    "- Conjuntos: se refiere a condiciones de objetos en donde nos importa el orden, por ejemplo, $\\{4,1,3^2,8,10\\}$\n",
    "- Permutaciones: se refiere a las formas de ordenar $n$ objetos, digamos, $\\{1,2,3,\\ldots,n\\}$. Una forma de pensarlo es escribir los números en el orden que la permutación dicce, por ejemplo, $15432$ es una permutación de $\\{1,2,3,4,5\\}$. Otras permutaciones son $41253$, $13425$\n",
    "- Listas de objetos en donde impora su posición: son colecciones donde se pueden repetir objetos y nos importa su posición, como $1,5,6,4,3,3,1$\n",
    "- Conjuntos de puntos en un espacio geométrico\n",
    "- Cadenas de letras: parecido a listas. Se usan para representar un lenguaje hablado. En la computadora usualmente son otro tipo de estructuras. \n",
    "- Gráficas: reflejan relaciones de parejas entre objetos. \n",
    "- Árboles: reflejan posiciones que se conectan, pero también relaciones de jerarquía.\n",
    "- Gráficas planas: reflejan redes o mapas.\n",
    "- Etc. \n"
   ],
   "cell_type": "markdown",
   "metadata": {}
  },
  {
   "source": [
    "# Análisis de algoritmos\n",
    "El análisis de algoritmos consiste en decir, de manera teórica, cuánto tiempo se tardará un algoritmo en ejecutarse para resolver un problema. Cuando decimos que es un estudio teórico, lo que nos guataría es que depende de la computadora que usemos, ni del lenguaje de programación en cual está escrito el algoritmo. A grandes rasgos, solo nos intetesa \"cuánto tiempo tarda´ra cuando la entrada se hace grande\" \n",
    "\n",
    "## El modelo RAM\n",
    "El modelo con el cual trabajaremos será una computadora teórica para la cual se cumple lo siguiente: \n",
    "- Cada operación simple (suma, resta, multiplicación, división, igualdad, etc) toma exactamente una unidad de tiempo. \n",
    "- Los bucles *no* son operaciones simples. El tiempo que toman depende de cuántas veces hacen operaciones simples. \n",
    "- Cada acceso a la memoria (ya sea cache o disco duro) toma una unidad de tiempo también. \n",
    "\n",
    "Este modelo no es ultra realista pues las computadoras se comportan diferente pero sí es muy bueno para estimar qué tan bueno son los algoritmos cuando las instancias comienzan a volverse grandes. "
   ],
   "cell_type": "markdown",
   "metadata": {}
  },
  {
   "source": [
    "## Distintos tipos de complejidades\n",
    "\n",
    "Recordemos que si tenemos un problema algorítmico, un algoritmo es un procedimiento que resuelve *todas* las instncias del problema determinadas por la entrada del problema. De esta forma tenemos tres posibilidades para medir cuánto tiempo toma un algoritmo. La *complejidad* nos dice dada una entrada $n$, cuánto tiempo tomará nuestro algoritmo y la pensamos como una función que depende del tamaño de la entrada. \n",
    "\n",
    "- La mejor complejidad: Es, para cada $n$, cuánto tarda el algoritmo en la **mejor** instancia cuya entrada tiene tamaño $n$\n",
    "- La peor complejidad: Es, para cada $n$, cuánto tarda el algoritmo en la **peor** instancia cuya entrada tiene tamaño $n$\n",
    "- La complejidad promedio: Es, para cada $n$, cuánto tarda el algoritmo en **promedio** en todas las instancias de tamaño $n$\n",
    "\n",
    "Observemos que cada una de estas descripciones es una función de $n$, el tamaño de la entrada. \n",
    "\n",
    "Por ejemplo, tomemos el siguiente problema: \n",
    "- Problema: Construir circuitos eléctricos.\n",
    "- Entrada: Algunos puntos en el plano.\n",
    "- Salida: Un ccamino que recorra a todos los puntos y que en total tome la menor distancia posible\n",
    "\n",
    "Para poder hablar de complejidad asintótica, debemos de ser mas específicos coon resspecto al tamaño de la entrada. Para estos fines, es mejor escribir el probema así: \n",
    "\n",
    "- Problema: Camino hamiltoniano de mínima longitud en el plano\n",
    "- Entrada: Un entero positivo $n$ y puntso $x_1, \\ldots, x_n$ en el plano. \n",
    "- Salida: Un camino que recorra a todos los puntos y cuya longitud sea mínima\n",
    "\n",
    "Cuando el probema está esccrito así, ahora sí podemos estudiar los algoritmos que lo resuelven en términos del modelo RAM y de complejidad asintótica. \n",
    "\n",
    "Por ejemplo, tenemos la siguiente propuesta de algoritmo para resolverlo:\n",
    "- Consideramos todas las posibles permutaciones de $n$ elementos. \n",
    "- Para cada permutacción $\\pi$, construimos el camino $x_{\\pi(1)},\\ldots,x_{\\pi(n)}$. \n",
    "- Para cada uno de esos caminos, vemo cuáles son las longitudes de los segmentos que define. \n",
    "- Sumamos todo eso. \n",
    "- De entre todas las permutaciones, elegimos la de longitud mínima.\n",
    "\n",
    "Este algoritmo es correcto pues pasa por todas las posibilidades y en particular pasará por la más pequeña. Sin embargo, ¿qué pasa cuando ccontamos la cantidad de pasos que toma?\n",
    "\n",
    "En general, para una entrada de $n$ elementos tenemos que considerar $n!$ permutaciones. Una vez que tenemos una permutación ,debemos calcular $n$ distancias, ya que tenemos esas distancias hay que sumarlas toda. Finalmente, hay que ir haciendo varias comparaciones para ver si tenemos la mejor permutación. Aproximadamente, hace $Cn!$ operaciones donde $C$ es una constante que nos dice cuánto toma estudiar cada permutación. **Esto es demasiado**. La función $n!$ crece muchísimo y muy rápido. En términos de complejidad computacional, esto nos die que el algoritmo es muy mal y tomará muchísimo itempo incluso para instancias medianas. \n",
    "\n",
    "**Ejemplo.** Puede que un algoritmo sea muy bueno (rápido) en resolver las intancias de cierto probema, pero muy malo (lento) resolviendo las instancisa de cierto problema. La utilidad de estudiar la peor complejidad es que nos garantiza un tiempo de ejecución para *cualquier* instncia. \n",
    "\n",
    "Por ejemplo, en el problema de ordenar números, puede que tengamos la siguiente instancia: \n",
    "$1,2,3,4,5,6,7,8,9$\n",
    "\n",
    "y la siguiente instancia:\n",
    "$9,8,7,6,5,4,3,2,1$\n",
    "$8,7,6,5,4,3,2,1,9$ (llegar aquí toma como 60 pasos)\n",
    "...\n",
    "$1,2,3,4,5,6,7,8,9$ (llegar aquí toma como otros 6 pasos)\n",
    "\n",
    "En total tenemos entonces como $30*9 = 270$ pasos\n",
    "\n",
    "Una posibilidad para ordenar es ir de izquierda a derecha intercambiando elementos adyacentes que estén mal y repetir hasta que quede bien ordenada la lista. Este algoritmo toma muy poquitos pasos en la primer instancia. \n",
    "\n",
    "Para la primer instancia toma como $40$ pasos. Para la segunda instancia toma como $270$. La segunda es mucho más tardada. \n",
    "\n",
    "La mejor instancia sería $1,2,3,4,5,6,7,8,9$, esto daría complejidad asintótica para entrada $9$. Parece ser que la peor instancia es $9,8,7,6,5,4,3,2,1$"
   ],
   "cell_type": "markdown",
   "metadata": {}
  },
  {
   "source": [
    "## Notación O grande\n",
    "En general, no nos va a importar decir de manera totalmente exacta cuál es la complejidad de un algoritmo. Esto es por varias razones: \n",
    "- Un aproximado será suficiente para a mayoría de las aplicaciones en la vida real.\n",
    "- Es extremadamente difícil dar la función exacta en la mayoría de los casos. En ocaciones, más difícil que el tiempo con el que contamos para resolver el problema en una aplicación dada. \n",
    "- Es mucho más fácil y casi igual de útil simplemente saber el **comportamiento asintótico** de la complejidad. \n",
    "\n",
    "**Definición.** Sean $f$ y $g$ funciones. Diremos que $f(n)=O(g(n))$ si existe una constante $c>0$ un número natural $n_0$ tal que $f(n) \\leq cg(n)$ cuando $n \\geq n_0$.\n",
    "\n",
    "**Definición.** Sean $f$ y $g$ funciones. Diremos que $f(n)=\\Omega(g(n))$ si existe una constante $c>0$ un número natural $n_0$ tal que $f(n) \\leq cg(n)$ cuando $n \\geq n_0$.\n",
    "\n",
    "**Definición.** Sean $f$ y $g$ funciones. Diremos que $f(n)=\\Theta(g(n))$ si existen constantes $c_1$ y $c_2$ ambas mayores que $0$ una constante $c>0$ un número natural $n_0$ tal que $$c_2g(n) \\leq f(n) \\leq c_1g(n)$$ cuando $n \\geq n_0$.\n",
    "\n",
    "**Ejemplo.** Veamos que $f(n) = 4n^2 + 5n + 8$ es una función $O(n^2)$. Para esto, debemos encontrar una $n_0$ y una constante $c$ que funcionen de acuerdo a la definición. Tomemos $n_0=7$ y tomemos $c=5$. Afirmamos que estas constantes funcionan. Es decir, debemos mostrar que $$4n^2 + 5n + 8 \\leq 5n^2 $$ para $n \\geq 7$. \n",
    "\n",
    "Para mostrar esto, notemos que la desigualdad es equivalente a $$n^2-5n-8 \\geq 0$$. \n",
    "\n",
    "Esta desigualdad se cumpla para $n=7$ pues $7^2-5\\cdot7-8\\geq 0$.\n",
    "\n",
    "Notemos que $n^2 -5n -8 = n(n-5)-8$\n",
    "\n",
    "**Ejemplo.** Veamos que no es cierto que $n^3-3n+3$ es una función $O(n^2)$. Veamos que para cualquier elección de constantes $c$ y $n_0$ hay un contraejemplo para $n^3-3n+3 \\leq cn^2$ con $n\\geq n_0$.\n",
    "\n",
    "Para construir este contraejemplo, lo que hacemos es tomar $n=\\max \\{n_0, 8c, 1\\}$. Haciendo las cuenta ocon $8c$, del lado izquierdo tenemos $8^3c^3-24c+3$ y del lado derecho tendríamos $8^2c^3$. \n",
    "\n",
    "Otra forma de ver que existirá un contraejemplo es tomando el cociente $$\\frac{n^3-3n+3}{n^2}$$\n",
    "\n",
    "**Ejemplo.** ¿Será la función $f(n) = 2^{n+1}$ una función $O(2^n)$? Sí, pues tomando $n_0=1$ y $c=2$ la desigualdad funciona pues $$2^{n+1} \\leq 2 \\cdot 2^n$$ para $n\\geq1$.\n",
    "\n",
    "**Ejemplo.** Veamos la función $f(n) = 2n^2+3n+1$ es una funicón $O(n^2+5n-3$. Veamos que esto es ccierto. Proponemos $c=2$ y $n_0=2$. Tenemos que ver que $$2n^2+3n+1 \\leq 2(n^2+5n-3) = 2n^2+10n-6$$ siempre que $n\\geq 2$. Si bien esta es una afirmación válida, no es tan limpia como las anteriores que hemos trabajado.\n",
    "\n",
    "Afirmamos que de hecho sucede algo mucho más simple de expresar, que es $f(n)$ es una función $O(n^2)$.\n",
    "\n",
    "Proponemos $c=3$, proponemos $n_0=4$. En efecto, tenemos que $$2n^2+3n+1 \\leq 3n^2$$ pues al pasar todo a un solo lado debemos mostrar que $n^2-3n+1\\geq 0$ y que para $n\\geq 4$, tenemos que $n^2-3n=n(n-3) \\geq 0$. \n",
    "\n",
    "En general lo que buscamos es poner nuestras afirmaciones asintóticas de la maenra más simple posible. \n",
    "\n",
    "**Ejemplo.** Veamos que también $f(n) = 2n^2 +3n + 1$ es una función $\\Omega(n^2)$. Debemos encontrar $c$ y $n_0$ tales que $f(n) \\geq cn^2 $ para $n \\geq n_0$. \n",
    "\n",
    "Proponemos $c=1$ y $n_0=0$. Estas constantes funcionan pues $2n^2 +3n +1 \\geq n^2$ para $n \\geq 0$. \n",
    "\n",
    "También funcionaría $c=2$ y $n_0=0$. Estas constantes funcionan pues $2n^2 +3n +1 \\geq 2n^2$ para $n \\geq 0$. \n",
    "\n",
    "**Ejemplo.** A partir de los ejemplos anteriores, tenemos que $f(n) = \\Theta(n^2)$.\n"
   ],
   "cell_type": "markdown",
   "metadata": {}
  },
  {
   "source": [
    "## ¿Por qué estimar los algoritmos de manera asintótica?\n",
    "\n",
    "Regresemos al ejemplo que teníamos que contar las palabras en el libro. Habíamos dicho que eran aproximadamente unas $400,000$. Supongamos que ya sabemos que una persona puede leer aproximadamente $100$ palabras por minuto. ¿Cuánto tiempo le tomaría a esa persona leer ese libro? ¿Cuánto tiempo le tomaría leer $400,000,000$ de palabras?\n",
    "\n",
    "Si son $100$ palabras por minuto, tardaría aproximadamente $40,000$ minutos, en una hora hay $60$ minutos que son menos que $100$ minutos, así que seguro tardará más de $40,000/60 \\geq 40,000 / 100 = 400$ horas. Y en un día hay menos de $25$ horas así que seguro se tardaría más de $400/24 \\geq 400/25 = 16$ días. \n",
    "\n",
    "Cuando son $400,000,000$ esto crece bastante, pues se va a $16,000$ días. Eso ya es demasiado, son como $43$ años.\n",
    "\n",
    "En este problema el tiempo transcurrido crece de manera lineal (es decir, en $O(n)$) con respecto a la entrada (el número de palabras). Si conocemos el crecimiento asintótico de la complejidad, podemos hacer estimaciones como la de arriba para otros órdenes de crecimiento."
   ],
   "cell_type": "markdown",
   "metadata": {}
  },
  {
   "source": [
    " ## Dominancia de funciones\n",
    "\n",
    "**Observación.**\n",
    "- Notemos que si $f(n)$ es $O(g(n))$, entonces $g(n)=\\Omega(f(n))$\n",
    "- Notemos que si $f(n)$ es $O(g(n))$ y $f(n)$ es $\\Omega(g(n))$, entonces $f(n)$ es $\\Theta(g(n))$\n",
    "- Es decir, si $f(n)$ es $O(g(n))$ y $g(n)$ es $O(f(n))$, entonces $f(n)=\\Theta(g(n))$.\n",
    "- Notemos que si $f(n)$ es $O(g(n))$ y $g(n)$ es $O(h(n))$, entonces $f(n)$ es $O(h(n))$. \n",
    "\n",
    "Esto nos lleva a la siguiente definición:\n",
    "\n",
    "**Definición.** Diremos que $f(n)$ es **dominada** por $g(n)$ si $f(n)$ es $O(g(n))$ pero $g(n)$ no es $O(f(n))$, y en este caso lo denotaremos por $f(n) << g(n)$. \n",
    "\n",
    "La relación $<<$ es una relación transitiva (i.e., si $g(n) << h(n)$ entonces $f(n) << h(n)$). Esto queda como tarea moral. \n",
    "\n",
    "**Definición.** Diremos que $f(n)$ **tiene el mismo orden** que $g(n)$ si $f(n)$ es $\\Theta(g(n))$. \n",
    "\n",
    "La relación \"tener el mismo orden\" es una relación de equivalencia (simétrica, transitiva, reflexiva). Esto también queda como tarea moral.\n",
    "\n",
    "El objetivo del análisis asintótico es poner cuandot tarda un algoritmo pero en términos de una función con el mismo orden y que sea fácil de expresar. Para ello, es importante saber que:\n",
    "\n",
    "$$n! >> \\ldots >> 3^n >> 2^n >> \\ldots >> n^3 >> n^2 >> n\\log n >> n >> \\log n >> \\log \\log n >> 1$$\n",
    "\n",
    "Truco. Para verificar que $f(n)$ está dominada por $g(n)$ basta con ver que el $$\\lim_{n\\to \\infty} \\frac{f(n)}{g(n)} = \\infty$$\n",
    "\n",
    "**Ejemplo.** Por ejemplo, para ver que $n \\log n << n^2$ hacemos: $$ \\lim_{n \\to \\infty} \\frac{n^2}{n \\log n} = \\lim_{n \\to \\infty} \\frac{n}{\\log n} = \\infty$$\n"
   ],
   "cell_type": "markdown",
   "metadata": {}
  },
  {
   "source": [
    "## Propiedades de las notaciones asintóticas\n",
    "Una gran ventaja de las notaciones asintóticas de las que hemos hablado es que es muy sencillo \"sumar\" y \"multiplicar\" funciones en esta notación. \n",
    "\n",
    "**Proposición**. Supongamos que $f(n)$ está dominada por $g(n)$. Se satisface que: \n",
    "\n",
    "- $f(n) + g(n)$ es de orden $g(n)$\n",
    "\n",
    "**Ejemplo.** Como $x+2$ está dominada por $x^2$, entonces $x^2 + x + 2$. En símbolos, $x^2+x+2 = \\Theta(x^2)$.\n",
    "\n",
    "**Ejemplo.** Consideremos la función $f(n) = 10000n^{5/3} + 8n^2 \\log n -5n + 3\\log n$. Notemos que el término que domina a los demás es $8n^2 \\log n$ ,pero este tiene el mismo orden que $n^2\\log n$ y por lo tanto $f(n) = \\Theta (n^2\\log n)$.\n",
    "\n",
    "¿Será esto el orden más simple posible?, ¿Será $f(n)$ de orden $n^2$? La respuesta es que no, pues es sencillo verifica que $$n^2 << n^2 \\log n $$\n",
    "\n",
    "**Proposición.** Supongamos que $h(n)$ es una función $f(n)$ y $k(n)$ es una función $g(n)$. Entonces\n",
    "\n",
    "- $h(n)k(n)$ es $O(f(n)g(n))$\n",
    "- $ch(n)$ es una función $O(f(n))$\n",
    "\n",
    "**Ejemplo.** Busquemos el orden de $$f(n)= (n^3 -3n + n\\log n)(\\log n + \\log \\log n)(2n^2 -517n^{2/3} \\log n)$$\n",
    "\n",
    "Poco a poco: \n",
    "- Tenemos que $n^3 -3n + n\\log n = \\Theta(n^3)$\n",
    "- Tenemos que $\\log n + \\log \\log n = \\Theta(\\log n)$\n",
    "- Tenemos que $2n^2 -517n^{2/3} \\log n = \\Theta(n^2)$\n",
    "\n",
    "Así, por la proposición anterior, $f(n) = \\Theta(n^5 \\log n)$"
   ],
   "cell_type": "markdown",
   "metadata": {}
  },
  {
   "cell_type": "code",
   "execution_count": 25,
   "metadata": {},
   "outputs": [],
   "source": [
    "from datetime import datetime\n",
    "import matplotlib.pyplot as plt \n",
    "import numpy as np \n",
    "N = 200\n",
    "tiempos = []\n",
    "for n in range(N):\n",
    "    a = datetime.now()\n",
    "    for i in range(n):\n",
    "        for j in range(n):\n",
    "            for k in range(n):\n",
    "                i + j + k\n",
    "    b = datetime.now()\n",
    "    tiempos.append((b-a).total_seconds())"
   ]
  },
  {
   "cell_type": "code",
   "execution_count": 27,
   "metadata": {},
   "outputs": [
    {
     "output_type": "display_data",
     "data": {
      "text/plain": "<Figure size 432x288 with 1 Axes>",
      "image/svg+xml": "<?xml version=\"1.0\" encoding=\"utf-8\" standalone=\"no\"?>\n<!DOCTYPE svg PUBLIC \"-//W3C//DTD SVG 1.1//EN\"\n  \"http://www.w3.org/Graphics/SVG/1.1/DTD/svg11.dtd\">\n<!-- Created with matplotlib (https://matplotlib.org/) -->\n<svg height=\"248.518125pt\" version=\"1.1\" viewBox=\"0 0 372.103125 248.518125\" width=\"372.103125pt\" xmlns=\"http://www.w3.org/2000/svg\" xmlns:xlink=\"http://www.w3.org/1999/xlink\">\n <metadata>\n  <rdf:RDF xmlns:cc=\"http://creativecommons.org/ns#\" xmlns:dc=\"http://purl.org/dc/elements/1.1/\" xmlns:rdf=\"http://www.w3.org/1999/02/22-rdf-syntax-ns#\">\n   <cc:Work>\n    <dc:type rdf:resource=\"http://purl.org/dc/dcmitype/StillImage\"/>\n    <dc:date>2020-10-30T12:32:30.854842</dc:date>\n    <dc:format>image/svg+xml</dc:format>\n    <dc:creator>\n     <cc:Agent>\n      <dc:title>Matplotlib v3.3.2, https://matplotlib.org/</dc:title>\n     </cc:Agent>\n    </dc:creator>\n   </cc:Work>\n  </rdf:RDF>\n </metadata>\n <defs>\n  <style type=\"text/css\">*{stroke-linecap:butt;stroke-linejoin:round;}</style>\n </defs>\n <g id=\"figure_1\">\n  <g id=\"patch_1\">\n   <path d=\"M 0 248.518125 \nL 372.103125 248.518125 \nL 372.103125 0 \nL 0 0 \nz\n\" style=\"fill:none;\"/>\n  </g>\n  <g id=\"axes_1\">\n   <g id=\"patch_2\">\n    <path d=\"M 30.103125 224.64 \nL 364.903125 224.64 \nL 364.903125 7.2 \nL 30.103125 7.2 \nz\n\" style=\"fill:#ffffff;\"/>\n   </g>\n   <g id=\"matplotlib.axis_1\">\n    <g id=\"xtick_1\">\n     <g id=\"line2d_1\">\n      <defs>\n       <path d=\"M 0 0 \nL 0 3.5 \n\" id=\"m9b6cfbcac2\" style=\"stroke:#000000;stroke-width:0.8;\"/>\n      </defs>\n      <g>\n       <use style=\"stroke:#000000;stroke-width:0.8;\" x=\"45.321307\" xlink:href=\"#m9b6cfbcac2\" y=\"224.64\"/>\n      </g>\n     </g>\n     <g id=\"text_1\">\n      <!-- 0 -->\n      <g transform=\"translate(42.140057 239.238437)scale(0.1 -0.1)\">\n       <defs>\n        <path d=\"M 31.78125 66.40625 \nQ 24.171875 66.40625 20.328125 58.90625 \nQ 16.5 51.421875 16.5 36.375 \nQ 16.5 21.390625 20.328125 13.890625 \nQ 24.171875 6.390625 31.78125 6.390625 \nQ 39.453125 6.390625 43.28125 13.890625 \nQ 47.125 21.390625 47.125 36.375 \nQ 47.125 51.421875 43.28125 58.90625 \nQ 39.453125 66.40625 31.78125 66.40625 \nz\nM 31.78125 74.21875 \nQ 44.046875 74.21875 50.515625 64.515625 \nQ 56.984375 54.828125 56.984375 36.375 \nQ 56.984375 17.96875 50.515625 8.265625 \nQ 44.046875 -1.421875 31.78125 -1.421875 \nQ 19.53125 -1.421875 13.0625 8.265625 \nQ 6.59375 17.96875 6.59375 36.375 \nQ 6.59375 54.828125 13.0625 64.515625 \nQ 19.53125 74.21875 31.78125 74.21875 \nz\n\" id=\"DejaVuSans-48\"/>\n       </defs>\n       <use xlink:href=\"#DejaVuSans-48\"/>\n      </g>\n     </g>\n    </g>\n    <g id=\"xtick_2\">\n     <g id=\"line2d_2\">\n      <g>\n       <use style=\"stroke:#000000;stroke-width:0.8;\" x=\"83.557945\" xlink:href=\"#m9b6cfbcac2\" y=\"224.64\"/>\n      </g>\n     </g>\n     <g id=\"text_2\">\n      <!-- 25 -->\n      <g transform=\"translate(77.195445 239.238437)scale(0.1 -0.1)\">\n       <defs>\n        <path d=\"M 19.1875 8.296875 \nL 53.609375 8.296875 \nL 53.609375 0 \nL 7.328125 0 \nL 7.328125 8.296875 \nQ 12.9375 14.109375 22.625 23.890625 \nQ 32.328125 33.6875 34.8125 36.53125 \nQ 39.546875 41.84375 41.421875 45.53125 \nQ 43.3125 49.21875 43.3125 52.78125 \nQ 43.3125 58.59375 39.234375 62.25 \nQ 35.15625 65.921875 28.609375 65.921875 \nQ 23.96875 65.921875 18.8125 64.3125 \nQ 13.671875 62.703125 7.8125 59.421875 \nL 7.8125 69.390625 \nQ 13.765625 71.78125 18.9375 73 \nQ 24.125 74.21875 28.421875 74.21875 \nQ 39.75 74.21875 46.484375 68.546875 \nQ 53.21875 62.890625 53.21875 53.421875 \nQ 53.21875 48.921875 51.53125 44.890625 \nQ 49.859375 40.875 45.40625 35.40625 \nQ 44.1875 33.984375 37.640625 27.21875 \nQ 31.109375 20.453125 19.1875 8.296875 \nz\n\" id=\"DejaVuSans-50\"/>\n        <path d=\"M 10.796875 72.90625 \nL 49.515625 72.90625 \nL 49.515625 64.59375 \nL 19.828125 64.59375 \nL 19.828125 46.734375 \nQ 21.96875 47.46875 24.109375 47.828125 \nQ 26.265625 48.1875 28.421875 48.1875 \nQ 40.625 48.1875 47.75 41.5 \nQ 54.890625 34.8125 54.890625 23.390625 \nQ 54.890625 11.625 47.5625 5.09375 \nQ 40.234375 -1.421875 26.90625 -1.421875 \nQ 22.3125 -1.421875 17.546875 -0.640625 \nQ 12.796875 0.140625 7.71875 1.703125 \nL 7.71875 11.625 \nQ 12.109375 9.234375 16.796875 8.0625 \nQ 21.484375 6.890625 26.703125 6.890625 \nQ 35.15625 6.890625 40.078125 11.328125 \nQ 45.015625 15.765625 45.015625 23.390625 \nQ 45.015625 31 40.078125 35.4375 \nQ 35.15625 39.890625 26.703125 39.890625 \nQ 22.75 39.890625 18.8125 39.015625 \nQ 14.890625 38.140625 10.796875 36.28125 \nz\n\" id=\"DejaVuSans-53\"/>\n       </defs>\n       <use xlink:href=\"#DejaVuSans-50\"/>\n       <use x=\"63.623047\" xlink:href=\"#DejaVuSans-53\"/>\n      </g>\n     </g>\n    </g>\n    <g id=\"xtick_3\">\n     <g id=\"line2d_3\">\n      <g>\n       <use style=\"stroke:#000000;stroke-width:0.8;\" x=\"121.794582\" xlink:href=\"#m9b6cfbcac2\" y=\"224.64\"/>\n      </g>\n     </g>\n     <g id=\"text_3\">\n      <!-- 50 -->\n      <g transform=\"translate(115.432082 239.238437)scale(0.1 -0.1)\">\n       <use xlink:href=\"#DejaVuSans-53\"/>\n       <use x=\"63.623047\" xlink:href=\"#DejaVuSans-48\"/>\n      </g>\n     </g>\n    </g>\n    <g id=\"xtick_4\">\n     <g id=\"line2d_4\">\n      <g>\n       <use style=\"stroke:#000000;stroke-width:0.8;\" x=\"160.03122\" xlink:href=\"#m9b6cfbcac2\" y=\"224.64\"/>\n      </g>\n     </g>\n     <g id=\"text_4\">\n      <!-- 75 -->\n      <g transform=\"translate(153.66872 239.238437)scale(0.1 -0.1)\">\n       <defs>\n        <path d=\"M 8.203125 72.90625 \nL 55.078125 72.90625 \nL 55.078125 68.703125 \nL 28.609375 0 \nL 18.3125 0 \nL 43.21875 64.59375 \nL 8.203125 64.59375 \nz\n\" id=\"DejaVuSans-55\"/>\n       </defs>\n       <use xlink:href=\"#DejaVuSans-55\"/>\n       <use x=\"63.623047\" xlink:href=\"#DejaVuSans-53\"/>\n      </g>\n     </g>\n    </g>\n    <g id=\"xtick_5\">\n     <g id=\"line2d_5\">\n      <g>\n       <use style=\"stroke:#000000;stroke-width:0.8;\" x=\"198.267858\" xlink:href=\"#m9b6cfbcac2\" y=\"224.64\"/>\n      </g>\n     </g>\n     <g id=\"text_5\">\n      <!-- 100 -->\n      <g transform=\"translate(188.724108 239.238437)scale(0.1 -0.1)\">\n       <defs>\n        <path d=\"M 12.40625 8.296875 \nL 28.515625 8.296875 \nL 28.515625 63.921875 \nL 10.984375 60.40625 \nL 10.984375 69.390625 \nL 28.421875 72.90625 \nL 38.28125 72.90625 \nL 38.28125 8.296875 \nL 54.390625 8.296875 \nL 54.390625 0 \nL 12.40625 0 \nz\n\" id=\"DejaVuSans-49\"/>\n       </defs>\n       <use xlink:href=\"#DejaVuSans-49\"/>\n       <use x=\"63.623047\" xlink:href=\"#DejaVuSans-48\"/>\n       <use x=\"127.246094\" xlink:href=\"#DejaVuSans-48\"/>\n      </g>\n     </g>\n    </g>\n    <g id=\"xtick_6\">\n     <g id=\"line2d_6\">\n      <g>\n       <use style=\"stroke:#000000;stroke-width:0.8;\" x=\"236.504495\" xlink:href=\"#m9b6cfbcac2\" y=\"224.64\"/>\n      </g>\n     </g>\n     <g id=\"text_6\">\n      <!-- 125 -->\n      <g transform=\"translate(226.960745 239.238437)scale(0.1 -0.1)\">\n       <use xlink:href=\"#DejaVuSans-49\"/>\n       <use x=\"63.623047\" xlink:href=\"#DejaVuSans-50\"/>\n       <use x=\"127.246094\" xlink:href=\"#DejaVuSans-53\"/>\n      </g>\n     </g>\n    </g>\n    <g id=\"xtick_7\">\n     <g id=\"line2d_7\">\n      <g>\n       <use style=\"stroke:#000000;stroke-width:0.8;\" x=\"274.741133\" xlink:href=\"#m9b6cfbcac2\" y=\"224.64\"/>\n      </g>\n     </g>\n     <g id=\"text_7\">\n      <!-- 150 -->\n      <g transform=\"translate(265.197383 239.238437)scale(0.1 -0.1)\">\n       <use xlink:href=\"#DejaVuSans-49\"/>\n       <use x=\"63.623047\" xlink:href=\"#DejaVuSans-53\"/>\n       <use x=\"127.246094\" xlink:href=\"#DejaVuSans-48\"/>\n      </g>\n     </g>\n    </g>\n    <g id=\"xtick_8\">\n     <g id=\"line2d_8\">\n      <g>\n       <use style=\"stroke:#000000;stroke-width:0.8;\" x=\"312.977771\" xlink:href=\"#m9b6cfbcac2\" y=\"224.64\"/>\n      </g>\n     </g>\n     <g id=\"text_8\">\n      <!-- 175 -->\n      <g transform=\"translate(303.434021 239.238437)scale(0.1 -0.1)\">\n       <use xlink:href=\"#DejaVuSans-49\"/>\n       <use x=\"63.623047\" xlink:href=\"#DejaVuSans-55\"/>\n       <use x=\"127.246094\" xlink:href=\"#DejaVuSans-53\"/>\n      </g>\n     </g>\n    </g>\n    <g id=\"xtick_9\">\n     <g id=\"line2d_9\">\n      <g>\n       <use style=\"stroke:#000000;stroke-width:0.8;\" x=\"351.214409\" xlink:href=\"#m9b6cfbcac2\" y=\"224.64\"/>\n      </g>\n     </g>\n     <g id=\"text_9\">\n      <!-- 200 -->\n      <g transform=\"translate(341.670659 239.238437)scale(0.1 -0.1)\">\n       <use xlink:href=\"#DejaVuSans-50\"/>\n       <use x=\"63.623047\" xlink:href=\"#DejaVuSans-48\"/>\n       <use x=\"127.246094\" xlink:href=\"#DejaVuSans-48\"/>\n      </g>\n     </g>\n    </g>\n   </g>\n   <g id=\"matplotlib.axis_2\">\n    <g id=\"ytick_1\">\n     <g id=\"line2d_10\">\n      <defs>\n       <path d=\"M 0 0 \nL -3.5 0 \n\" id=\"m125130ac2e\" style=\"stroke:#000000;stroke-width:0.8;\"/>\n      </defs>\n      <g>\n       <use style=\"stroke:#000000;stroke-width:0.8;\" x=\"30.103125\" xlink:href=\"#m125130ac2e\" y=\"214.756364\"/>\n      </g>\n     </g>\n     <g id=\"text_10\">\n      <!-- 0.0 -->\n      <g transform=\"translate(7.2 218.555582)scale(0.1 -0.1)\">\n       <defs>\n        <path d=\"M 10.6875 12.40625 \nL 21 12.40625 \nL 21 0 \nL 10.6875 0 \nz\n\" id=\"DejaVuSans-46\"/>\n       </defs>\n       <use xlink:href=\"#DejaVuSans-48\"/>\n       <use x=\"63.623047\" xlink:href=\"#DejaVuSans-46\"/>\n       <use x=\"95.410156\" xlink:href=\"#DejaVuSans-48\"/>\n      </g>\n     </g>\n    </g>\n    <g id=\"ytick_2\">\n     <g id=\"line2d_11\">\n      <g>\n       <use style=\"stroke:#000000;stroke-width:0.8;\" x=\"30.103125\" xlink:href=\"#m125130ac2e\" y=\"189.672899\"/>\n      </g>\n     </g>\n     <g id=\"text_11\">\n      <!-- 0.2 -->\n      <g transform=\"translate(7.2 193.472118)scale(0.1 -0.1)\">\n       <use xlink:href=\"#DejaVuSans-48\"/>\n       <use x=\"63.623047\" xlink:href=\"#DejaVuSans-46\"/>\n       <use x=\"95.410156\" xlink:href=\"#DejaVuSans-50\"/>\n      </g>\n     </g>\n    </g>\n    <g id=\"ytick_3\">\n     <g id=\"line2d_12\">\n      <g>\n       <use style=\"stroke:#000000;stroke-width:0.8;\" x=\"30.103125\" xlink:href=\"#m125130ac2e\" y=\"164.589434\"/>\n      </g>\n     </g>\n     <g id=\"text_12\">\n      <!-- 0.4 -->\n      <g transform=\"translate(7.2 168.388653)scale(0.1 -0.1)\">\n       <defs>\n        <path d=\"M 37.796875 64.3125 \nL 12.890625 25.390625 \nL 37.796875 25.390625 \nz\nM 35.203125 72.90625 \nL 47.609375 72.90625 \nL 47.609375 25.390625 \nL 58.015625 25.390625 \nL 58.015625 17.1875 \nL 47.609375 17.1875 \nL 47.609375 0 \nL 37.796875 0 \nL 37.796875 17.1875 \nL 4.890625 17.1875 \nL 4.890625 26.703125 \nz\n\" id=\"DejaVuSans-52\"/>\n       </defs>\n       <use xlink:href=\"#DejaVuSans-48\"/>\n       <use x=\"63.623047\" xlink:href=\"#DejaVuSans-46\"/>\n       <use x=\"95.410156\" xlink:href=\"#DejaVuSans-52\"/>\n      </g>\n     </g>\n    </g>\n    <g id=\"ytick_4\">\n     <g id=\"line2d_13\">\n      <g>\n       <use style=\"stroke:#000000;stroke-width:0.8;\" x=\"30.103125\" xlink:href=\"#m125130ac2e\" y=\"139.505969\"/>\n      </g>\n     </g>\n     <g id=\"text_13\">\n      <!-- 0.6 -->\n      <g transform=\"translate(7.2 143.305188)scale(0.1 -0.1)\">\n       <defs>\n        <path d=\"M 33.015625 40.375 \nQ 26.375 40.375 22.484375 35.828125 \nQ 18.609375 31.296875 18.609375 23.390625 \nQ 18.609375 15.53125 22.484375 10.953125 \nQ 26.375 6.390625 33.015625 6.390625 \nQ 39.65625 6.390625 43.53125 10.953125 \nQ 47.40625 15.53125 47.40625 23.390625 \nQ 47.40625 31.296875 43.53125 35.828125 \nQ 39.65625 40.375 33.015625 40.375 \nz\nM 52.59375 71.296875 \nL 52.59375 62.3125 \nQ 48.875 64.0625 45.09375 64.984375 \nQ 41.3125 65.921875 37.59375 65.921875 \nQ 27.828125 65.921875 22.671875 59.328125 \nQ 17.53125 52.734375 16.796875 39.40625 \nQ 19.671875 43.65625 24.015625 45.921875 \nQ 28.375 48.1875 33.59375 48.1875 \nQ 44.578125 48.1875 50.953125 41.515625 \nQ 57.328125 34.859375 57.328125 23.390625 \nQ 57.328125 12.15625 50.6875 5.359375 \nQ 44.046875 -1.421875 33.015625 -1.421875 \nQ 20.359375 -1.421875 13.671875 8.265625 \nQ 6.984375 17.96875 6.984375 36.375 \nQ 6.984375 53.65625 15.1875 63.9375 \nQ 23.390625 74.21875 37.203125 74.21875 \nQ 40.921875 74.21875 44.703125 73.484375 \nQ 48.484375 72.75 52.59375 71.296875 \nz\n\" id=\"DejaVuSans-54\"/>\n       </defs>\n       <use xlink:href=\"#DejaVuSans-48\"/>\n       <use x=\"63.623047\" xlink:href=\"#DejaVuSans-46\"/>\n       <use x=\"95.410156\" xlink:href=\"#DejaVuSans-54\"/>\n      </g>\n     </g>\n    </g>\n    <g id=\"ytick_5\">\n     <g id=\"line2d_14\">\n      <g>\n       <use style=\"stroke:#000000;stroke-width:0.8;\" x=\"30.103125\" xlink:href=\"#m125130ac2e\" y=\"114.422505\"/>\n      </g>\n     </g>\n     <g id=\"text_14\">\n      <!-- 0.8 -->\n      <g transform=\"translate(7.2 118.221723)scale(0.1 -0.1)\">\n       <defs>\n        <path d=\"M 31.78125 34.625 \nQ 24.75 34.625 20.71875 30.859375 \nQ 16.703125 27.09375 16.703125 20.515625 \nQ 16.703125 13.921875 20.71875 10.15625 \nQ 24.75 6.390625 31.78125 6.390625 \nQ 38.8125 6.390625 42.859375 10.171875 \nQ 46.921875 13.96875 46.921875 20.515625 \nQ 46.921875 27.09375 42.890625 30.859375 \nQ 38.875 34.625 31.78125 34.625 \nz\nM 21.921875 38.8125 \nQ 15.578125 40.375 12.03125 44.71875 \nQ 8.5 49.078125 8.5 55.328125 \nQ 8.5 64.0625 14.71875 69.140625 \nQ 20.953125 74.21875 31.78125 74.21875 \nQ 42.671875 74.21875 48.875 69.140625 \nQ 55.078125 64.0625 55.078125 55.328125 \nQ 55.078125 49.078125 51.53125 44.71875 \nQ 48 40.375 41.703125 38.8125 \nQ 48.828125 37.15625 52.796875 32.3125 \nQ 56.78125 27.484375 56.78125 20.515625 \nQ 56.78125 9.90625 50.3125 4.234375 \nQ 43.84375 -1.421875 31.78125 -1.421875 \nQ 19.734375 -1.421875 13.25 4.234375 \nQ 6.78125 9.90625 6.78125 20.515625 \nQ 6.78125 27.484375 10.78125 32.3125 \nQ 14.796875 37.15625 21.921875 38.8125 \nz\nM 18.3125 54.390625 \nQ 18.3125 48.734375 21.84375 45.5625 \nQ 25.390625 42.390625 31.78125 42.390625 \nQ 38.140625 42.390625 41.71875 45.5625 \nQ 45.3125 48.734375 45.3125 54.390625 \nQ 45.3125 60.0625 41.71875 63.234375 \nQ 38.140625 66.40625 31.78125 66.40625 \nQ 25.390625 66.40625 21.84375 63.234375 \nQ 18.3125 60.0625 18.3125 54.390625 \nz\n\" id=\"DejaVuSans-56\"/>\n       </defs>\n       <use xlink:href=\"#DejaVuSans-48\"/>\n       <use x=\"63.623047\" xlink:href=\"#DejaVuSans-46\"/>\n       <use x=\"95.410156\" xlink:href=\"#DejaVuSans-56\"/>\n      </g>\n     </g>\n    </g>\n    <g id=\"ytick_6\">\n     <g id=\"line2d_15\">\n      <g>\n       <use style=\"stroke:#000000;stroke-width:0.8;\" x=\"30.103125\" xlink:href=\"#m125130ac2e\" y=\"89.33904\"/>\n      </g>\n     </g>\n     <g id=\"text_15\">\n      <!-- 1.0 -->\n      <g transform=\"translate(7.2 93.138259)scale(0.1 -0.1)\">\n       <use xlink:href=\"#DejaVuSans-49\"/>\n       <use x=\"63.623047\" xlink:href=\"#DejaVuSans-46\"/>\n       <use x=\"95.410156\" xlink:href=\"#DejaVuSans-48\"/>\n      </g>\n     </g>\n    </g>\n    <g id=\"ytick_7\">\n     <g id=\"line2d_16\">\n      <g>\n       <use style=\"stroke:#000000;stroke-width:0.8;\" x=\"30.103125\" xlink:href=\"#m125130ac2e\" y=\"64.255575\"/>\n      </g>\n     </g>\n     <g id=\"text_16\">\n      <!-- 1.2 -->\n      <g transform=\"translate(7.2 68.054794)scale(0.1 -0.1)\">\n       <use xlink:href=\"#DejaVuSans-49\"/>\n       <use x=\"63.623047\" xlink:href=\"#DejaVuSans-46\"/>\n       <use x=\"95.410156\" xlink:href=\"#DejaVuSans-50\"/>\n      </g>\n     </g>\n    </g>\n    <g id=\"ytick_8\">\n     <g id=\"line2d_17\">\n      <g>\n       <use style=\"stroke:#000000;stroke-width:0.8;\" x=\"30.103125\" xlink:href=\"#m125130ac2e\" y=\"39.17211\"/>\n      </g>\n     </g>\n     <g id=\"text_17\">\n      <!-- 1.4 -->\n      <g transform=\"translate(7.2 42.971329)scale(0.1 -0.1)\">\n       <use xlink:href=\"#DejaVuSans-49\"/>\n       <use x=\"63.623047\" xlink:href=\"#DejaVuSans-46\"/>\n       <use x=\"95.410156\" xlink:href=\"#DejaVuSans-52\"/>\n      </g>\n     </g>\n    </g>\n    <g id=\"ytick_9\">\n     <g id=\"line2d_18\">\n      <g>\n       <use style=\"stroke:#000000;stroke-width:0.8;\" x=\"30.103125\" xlink:href=\"#m125130ac2e\" y=\"14.088646\"/>\n      </g>\n     </g>\n     <g id=\"text_18\">\n      <!-- 1.6 -->\n      <g transform=\"translate(7.2 17.887864)scale(0.1 -0.1)\">\n       <use xlink:href=\"#DejaVuSans-49\"/>\n       <use x=\"63.623047\" xlink:href=\"#DejaVuSans-46\"/>\n       <use x=\"95.410156\" xlink:href=\"#DejaVuSans-54\"/>\n      </g>\n     </g>\n    </g>\n   </g>\n   <g id=\"line2d_19\">\n    <path clip-path=\"url(#p99e806ad1e)\" d=\"M 45.321307 214.755486 \nL 68.263289 214.68174 \nL 69.792755 214.602351 \nL 71.32222 214.667067 \nL 74.381151 214.615144 \nL 80.499014 214.572502 \nL 85.08741 214.22773 \nL 88.146341 214.322796 \nL 89.675807 214.402436 \nL 112.617789 213.80846 \nL 114.147255 213.920457 \nL 129.44191 213.382542 \nL 130.971375 213.200185 \nL 135.559772 213.032377 \nL 137.089237 212.804995 \nL 140.148168 212.816534 \nL 143.207099 212.240994 \nL 146.26603 212.191705 \nL 147.795496 212.13765 \nL 149.324961 211.869884 \nL 150.854427 212.001196 \nL 155.442823 210.766462 \nL 158.501755 210.613077 \nL 161.560686 210.089209 \nL 163.090151 209.942596 \nL 164.619617 209.508527 \nL 166.149082 208.059455 \nL 167.678548 207.243991 \nL 169.208013 208.123543 \nL 170.737479 208.40498 \nL 172.266944 208.240181 \nL 173.79641 208.566392 \nL 175.325875 208.472203 \nL 176.855341 207.219284 \nL 178.384806 208.456902 \nL 179.914272 208.661709 \nL 181.443737 207.64031 \nL 182.973203 207.730485 \nL 184.502668 207.504609 \nL 186.032134 206.913517 \nL 187.561599 206.985255 \nL 189.091065 207.602183 \nL 190.62053 207.05712 \nL 192.149996 207.451808 \nL 193.679461 207.020999 \nL 195.208927 207.369158 \nL 196.738392 207.204736 \nL 198.267858 206.258587 \nL 201.326789 205.998346 \nL 202.856254 206.13919 \nL 204.38572 204.871221 \nL 205.915185 202.984067 \nL 207.444651 203.755885 \nL 208.974116 203.474197 \nL 210.503582 203.730425 \nL 212.033047 203.491129 \nL 213.562513 202.602672 \nL 215.091978 203.293847 \nL 216.621444 203.432559 \nL 218.150909 201.937961 \nL 219.680375 201.868856 \nL 221.20984 201.564468 \nL 224.268771 200.22338 \nL 225.798237 200.534792 \nL 227.327702 200.168071 \nL 228.857168 198.730162 \nL 230.386633 199.444037 \nL 231.916099 198.996423 \nL 233.445564 198.282673 \nL 234.97503 198.472178 \nL 236.504495 196.364791 \nL 238.033961 197.086819 \nL 239.563427 190.605251 \nL 241.092892 192.69345 \nL 242.622358 193.164266 \nL 244.151823 186.00231 \nL 245.681289 185.982996 \nL 247.210754 192.018705 \nL 248.74022 192.461177 \nL 250.269685 191.6417 \nL 251.799151 191.734007 \nL 253.328616 188.979216 \nL 254.858082 189.563284 \nL 256.387547 188.222824 \nL 257.917013 178.882494 \nL 259.446478 186.197459 \nL 260.975944 185.214438 \nL 262.505409 187.12028 \nL 264.034875 187.162671 \nL 265.56434 186.039559 \nL 270.152737 184.360221 \nL 271.682202 183.899312 \nL 274.741133 182.049031 \nL 276.270599 175.163369 \nL 277.800064 176.368629 \nL 279.32953 177.827734 \nL 280.858995 177.430788 \nL 282.388461 175.247775 \nL 283.917926 176.275068 \nL 285.447392 177.046134 \nL 286.976857 176.738359 \nL 288.506323 174.249954 \nL 290.035788 177.715862 \nL 291.565254 173.931645 \nL 293.094719 173.806479 \nL 294.624185 169.9134 \nL 296.15365 170.520921 \nL 297.683116 172.578141 \nL 299.212581 159.323286 \nL 300.742047 166.385285 \nL 302.271512 155.628617 \nL 303.800978 146.049493 \nL 305.330443 143.616522 \nL 306.859909 140.147354 \nL 308.389374 138.367933 \nL 309.91884 138.459738 \nL 312.977771 126.744757 \nL 314.507236 113.314568 \nL 316.036702 108.666727 \nL 317.566167 106.673219 \nL 319.095633 110.343933 \nL 320.625099 109.393646 \nL 322.154564 114.09341 \nL 323.68403 121.483876 \nL 325.213495 116.856353 \nL 326.742961 120.639943 \nL 328.272426 116.906269 \nL 332.860823 108.692438 \nL 334.390288 112.245511 \nL 335.919754 99.483796 \nL 337.449219 100.101602 \nL 338.978685 98.209807 \nL 340.50815 106.516573 \nL 342.037616 106.703946 \nL 343.567081 104.283141 \nL 345.096547 104.304211 \nL 346.626012 100.913428 \nL 348.155478 100.585964 \nL 349.684943 94.458575 \nL 349.684943 94.458575 \n\" style=\"fill:none;stroke:#1f77b4;stroke-linecap:square;stroke-width:1.5;\"/>\n   </g>\n   <g id=\"line2d_20\">\n    <path clip-path=\"url(#p99e806ad1e)\" d=\"M 45.321307 214.756364 \nL 69.792755 214.653622 \nL 83.557945 214.364434 \nL 94.264203 213.934429 \nL 104.970462 213.268438 \nL 114.147255 212.470633 \nL 123.324048 211.429017 \nL 130.971375 210.351306 \nL 138.618703 209.062894 \nL 146.26603 207.544968 \nL 153.913358 205.778716 \nL 161.560686 203.745325 \nL 167.678548 201.91363 \nL 173.79641 199.889294 \nL 179.914272 197.662685 \nL 186.032134 195.224171 \nL 192.149996 192.564119 \nL 198.267858 189.672899 \nL 204.38572 186.540877 \nL 210.503582 183.158422 \nL 216.621444 179.515902 \nL 222.739306 175.603684 \nL 228.857168 171.412137 \nL 234.97503 166.931628 \nL 241.092892 162.152525 \nL 247.210754 157.065197 \nL 253.328616 151.660012 \nL 259.446478 145.927336 \nL 265.56434 139.857539 \nL 271.682202 133.440988 \nL 277.800064 126.668051 \nL 283.917926 119.529097 \nL 290.035788 112.014492 \nL 296.15365 104.114605 \nL 302.271512 95.819804 \nL 308.389374 87.120458 \nL 314.507236 78.006932 \nL 320.625099 68.469597 \nL 326.742961 58.49882 \nL 332.860823 48.084968 \nL 338.978685 37.218409 \nL 345.096547 25.889513 \nL 349.684943 17.083636 \nL 349.684943 17.083636 \n\" style=\"fill:none;stroke:#ff7f0e;stroke-linecap:square;stroke-width:1.5;\"/>\n   </g>\n   <g id=\"line2d_21\">\n    <path clip-path=\"url(#p99e806ad1e)\" d=\"M 45.321307 214.756364 \nL 85.08741 214.646147 \nL 106.499927 214.355028 \nL 124.853513 213.87463 \nL 140.148168 213.261841 \nL 155.442823 212.415775 \nL 169.208013 211.423768 \nL 181.443737 210.335597 \nL 193.679461 209.033113 \nL 205.915185 207.497052 \nL 216.621444 205.946248 \nL 227.327702 204.188957 \nL 238.033961 202.212273 \nL 248.74022 200.003292 \nL 259.446478 197.549107 \nL 270.152737 194.836813 \nL 279.32953 192.296774 \nL 288.506323 189.549495 \nL 297.683116 186.586849 \nL 306.859909 183.40071 \nL 316.036702 179.98295 \nL 325.213495 176.325442 \nL 334.390288 172.420059 \nL 343.567081 168.258675 \nL 349.684943 165.338182 \nL 349.684943 165.338182 \n\" style=\"fill:none;stroke:#2ca02c;stroke-linecap:square;stroke-width:1.5;\"/>\n   </g>\n   <g id=\"patch_3\">\n    <path d=\"M 30.103125 224.64 \nL 30.103125 7.2 \n\" style=\"fill:none;stroke:#000000;stroke-linecap:square;stroke-linejoin:miter;stroke-width:0.8;\"/>\n   </g>\n   <g id=\"patch_4\">\n    <path d=\"M 364.903125 224.64 \nL 364.903125 7.2 \n\" style=\"fill:none;stroke:#000000;stroke-linecap:square;stroke-linejoin:miter;stroke-width:0.8;\"/>\n   </g>\n   <g id=\"patch_5\">\n    <path d=\"M 30.103125 224.64 \nL 364.903125 224.64 \n\" style=\"fill:none;stroke:#000000;stroke-linecap:square;stroke-linejoin:miter;stroke-width:0.8;\"/>\n   </g>\n   <g id=\"patch_6\">\n    <path d=\"M 30.103125 7.2 \nL 364.903125 7.2 \n\" style=\"fill:none;stroke:#000000;stroke-linecap:square;stroke-linejoin:miter;stroke-width:0.8;\"/>\n   </g>\n  </g>\n </g>\n <defs>\n  <clipPath id=\"p99e806ad1e\">\n   <rect height=\"217.44\" width=\"334.8\" x=\"30.103125\" y=\"7.2\"/>\n  </clipPath>\n </defs>\n</svg>\n",
      "image/png": "[encoded data removed]"
     },
     "metadata": {
      "needs_background": "light"
     }
    }
   ],
   "source": [
    "cubico_arriba = [0.0000002*x**3 for x in range(N)]\n",
    "cubico_abajo = [0.00000005*x**3 for x in range(N)]\n",
    "plt.plot(tiempos)\n",
    "plt.plot(cubico_arriba)\n",
    "plt.plot(cubico_abajo)\n",
    "plt.show()"
   ]
  },
  {
   "source": [
    "## ¿Cómo le hacemos para encontrar las constantes para la notación O grande de una forma más ordenada?\n",
    "Supongamos que nos piden mostrar que $f(n)$ es $O(g(n))$. La siguiente lista de pasos resulta ser muy útil. \n",
    "\n",
    "- Primero, simplificar tanto $f(n)$ como $g(n)$ a funciones sencillas con el mismo orden, usando las propiedades de suma y producto. Digamos que las versiones simplifcadas se llaman $f_1(x)$ y $g_1(x)$\n",
    "- Si $f_1(x)$ se ve mucho más chiquito que $g_1(x)$, intentar ver que el límite $g_1(x)/f_1(x)$ se va a infinito. \n",
    "- Si esto no funciona y se va a una constante, es porque son del mismo orden, y entonce shay que econtrar las constantes. Para ello, se recomienda primero fijar la $c$ de la notación O grande que quede muy holgada, y luego intentar encontrar una $n$ que funcione. "
   ],
   "cell_type": "markdown",
   "metadata": {}
  },
  {
   "cell_type": "code",
   "execution_count": null,
   "metadata": {},
   "outputs": [],
   "source": []
  },
  {
   "cell_type": "code",
   "execution_count": null,
   "metadata": {},
   "outputs": [],
   "source": []
  },
  {
   "source": [],
   "cell_type": "markdown",
   "metadata": {}
  }
 ]
}