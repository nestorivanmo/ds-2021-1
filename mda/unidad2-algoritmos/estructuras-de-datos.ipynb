{
 "metadata": {
  "language_info": {
   "codemirror_mode": {
    "name": "ipython",
    "version": 3
   },
   "file_extension": ".py",
   "mimetype": "text/x-python",
   "name": "python",
   "nbconvert_exporter": "python",
   "pygments_lexer": "ipython3",
   "version": "3.8.5-final"
  },
  "orig_nbformat": 2,
  "kernelspec": {
   "name": "python3",
   "display_name": "Python 3"
  }
 },
 "nbformat": 4,
 "nbformat_minor": 2,
 "cells": [
  {
   "source": [
    "# Estructuras de datos\n",
    "Una estructura de datos es una forma de organizar la información que tenemos de un problema utilizando los recursos de la computadora (memoria, tiempo de ejecución, etc.). Idealmente, lo que queremos es representar los aspectos de nuestro probleam de la mejor manera. \n",
    "\n",
    "Algunos ejemplos de estructuras de datos son los siguientes:\n",
    "- Arreglos\n",
    "- Listas (enlace sencillo, enlace doble)\n",
    "- Matrices\n",
    "- Hash tables\n",
    "- Arreglos dinámicos\n",
    "- Diccionarios\n",
    "- Conjuntos\n",
    "- Árboles\n",
    "- Listas de adyacencia de matrices\n",
    "- Listas de incidencia de matrices\n",
    "\n",
    "Cuando tenemos varios objetos que queremos almacenar o procesar, la elección de la estructura de datos que utilizamos es muy importante pues dependiendo de la que elijamos puede que tengamos ciertas ventajas en memoria, en ciertos tipos de algoritmos, etc. \n",
    "\n",
    "Un ejemplo sencillo es la diferencia entre arreglos y listas. Ambios permite almacenar varios objetos pero funcionan de manera diferente. "
   ],
   "cell_type": "markdown",
   "metadata": {}
  },
  {
   "source": [
    "## Arreglos\n",
    "Almacenan en la memoira de manera continua exactamente la cantidad de espacio necesario para guardar los objetos que queremos. Medio inormalmente, si le pedimos a una compu un arreglo con 10 elementos, entonces reserva exactamente 10 espacions en la mmeoria. Esto tiene la ventaja de que se puede leer de manera ráodia los elementos pero la desventaja de que es una estructura de datos muy rígida y que requiere muchas operaciones para ser modificada.\n",
    "\n",
    "## Listas\n",
    "Las listas, por otro lado, para cada elemento almacenadn el elmeento mismo dónde estará el siguiente. Esto tiene la flexibilidad de poder manipular la lista muy rápido y de manera sencilla y la ventaj de aceptar una cantidad dináica de objetos. Sin embargo, tiene la desventaja de que la lectrua de elementos no es tan sencilla y que necesitamos usar más memoria: para el objeto y la ubicación de la siguiente entrada. Así es como funcionan las listas de Python\n",
    "\n",
    "En Python los arreglos no están implementados de manera tan directa.\n",
    "\n",
    "## Tablas Hash \n",
    "Otra forma de almacenar los objetos es mediante tablas hash que de fondo aplican una función a una referencia para determinar donde almacenar la información que queremos. Tiene la ventaj de tener lectura y edición muy rápidas, pero la desventaja de almacenar más información que simplemente los objetos y perder la noción de adyacencia que tienen las listas y los objetos. En Python los diccionarios funcionan más o menso como funciones hash. \n",
    "\n",
    "Hagamos algunos experimentos. "
   ],
   "cell_type": "markdown",
   "metadata": {}
  },
  {
   "cell_type": "code",
   "execution_count": 3,
   "metadata": {},
   "outputs": [
    {
     "output_type": "execute_result",
     "data": {
      "text/plain": [
       "(5, 5)"
      ]
     },
     "metadata": {},
     "execution_count": 3
    }
   ],
   "source": [
    "#Se crea lista\n",
    "L = [2,3,8,5,-1,2,9,2,3]\n",
    "\n",
    "#Se crea un diccionario\n",
    "D = {0:2, 1:3, 2:8, 3:5, 4:-1, 5:2, 6:9, 7:2, 8:3}\n",
    "\n",
    "#Leemos en cada uno\n",
    "L[3], D[3]"
   ]
  },
  {
   "cell_type": "code",
   "execution_count": null,
   "metadata": {},
   "outputs": [],
   "source": [
    "# Creemos una lista un poco más grande\n",
    "L = list(range(0, 10000000))\n",
    "print(L[23000])\n",
    "\n",
    "D = {i:i for i in range(10000000)}\n",
    "print(D[23000])"
   ]
  },
  {
   "cell_type": "code",
   "execution_count": 14,
   "metadata": {},
   "outputs": [
    {
     "output_type": "stream",
     "name": "stdout",
     "text": [
      "0:00:00.015490\n0:00:00.016116\n"
     ]
    }
   ],
   "source": [
    "from datetime import datetime\n",
    "\n",
    "a = datetime.now()\n",
    "for j in range(100000):\n",
    "    L[j] + 1\n",
    "b = datetime.now()\n",
    "print(b-a)\n",
    "\n",
    "a = datetime.now()\n",
    "for j in range(100000):\n",
    "    D[j] + 1\n",
    "b = datetime.now()\n",
    "print(b-a)"
   ]
  },
  {
   "cell_type": "code",
   "execution_count": 3,
   "metadata": {},
   "outputs": [],
   "source": [
    "import numpy as np\n",
    "from datetime import datetime\n",
    "\n",
    "times_L = []\n",
    "times_D = []\n",
    "for size in range(1,1000,500):\n",
    "    random = np.random.randint(1,size+1,size)\n",
    "    \n",
    "    L = list(random)\n",
    "    D = {L[i]:i for i in range(size)}\n",
    "\n",
    "    a = datetime.now()\n",
    "    count = 0\n",
    "    for j in range(size):\n",
    "        if j in L:\n",
    "            count += 1\n",
    "    b = datetime.now()\n",
    "    times_L.append((b-a).total_seconds())\n",
    "\n",
    "    a = datetime.now()\n",
    "    count = 0\n",
    "    for i in range(size):\n",
    "        if j in D:\n",
    "            count += 1\n",
    "    b = datetime.now()\n",
    "    times_D.append((b-a).total_seconds())"
   ]
  },
  {
   "source": [
    "## Comparación\n",
    "**Arreglos.**\n",
    "- Ordenados\n",
    "- No ordenados\n",
    "\n",
    "**Listas.**\n",
    "- Ordenados\n",
    "- No ordenados\n",
    "- Enlace sencillo\n",
    "- Enlace doble\n",
    "\n",
    "**Tablas hash.**\n",
    "\n",
    "- Búsqueda constante\n",
    "\n",
    "**Diccionarios.**\n",
    "- Búsqueda, inserción, eliminación de elementos\n",
    "- Elemento siguiente y anterior\n",
    "- Elemento mínimo y máximo"
   ],
   "cell_type": "markdown",
   "metadata": {}
  },
  {
   "cell_type": "code",
   "execution_count": null,
   "metadata": {},
   "outputs": [],
   "source": []
  },
  {
   "cell_type": "code",
   "execution_count": null,
   "metadata": {},
   "outputs": [],
   "source": []
  },
  {
   "cell_type": "code",
   "execution_count": null,
   "metadata": {},
   "outputs": [],
   "source": []
  },
  {
   "cell_type": "code",
   "execution_count": null,
   "metadata": {},
   "outputs": [],
   "source": []
  }
 ]
}