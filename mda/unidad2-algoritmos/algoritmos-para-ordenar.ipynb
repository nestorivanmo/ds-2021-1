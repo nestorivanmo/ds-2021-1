{
 "metadata": {
  "language_info": {
   "codemirror_mode": {
    "name": "ipython",
    "version": 3
   },
   "file_extension": ".py",
   "mimetype": "text/x-python",
   "name": "python",
   "nbconvert_exporter": "python",
   "pygments_lexer": "ipython3",
   "version": "3.8.5-final"
  },
  "orig_nbformat": 2,
  "kernelspec": {
   "name": "python3",
   "display_name": "Python 3"
  }
 },
 "nbformat": 4,
 "nbformat_minor": 2,
 "cells": [
  {
   "source": [
    "# Algoritmos para ordenar\n",
    "Una tarea fundamental cuando se hacen algoritmos es aprendaer a ordenar elementos. Esto se debe a varias razones, entre ellas:\n",
    "\n",
    "- El ordenar elementos muchas veces es un paso previo a realizar otras operacoines. \n",
    "- Los algoritmos de ordenamiento son tan variados, que permiten hablar de muchas ideas importantes de estructuras de datos y heurísticas de elaboración de algoritmos. \n",
    "\n",
    "## Cosas que hay que fijar antes de ordenar\n",
    "\n",
    "- ¿Cuál va a ser el orden que estemos usando?\n",
    "- ¿Ordenaremos de manera creciente o decreciente?\n",
    "- ¿Qué recursos tenemso a nuestra disposción (tiempo/espacio)?\n",
    "- ¿En nuestra aplicación es posbile uqe haya elementos iguales? Si sí, ¿cómo queremos tratarlos?\n",
    "- Otras consideraciones, como el tipo de objetos que ordenaremos, o si la lista que ordenaremos ya está \"ordenada\". \n",
    "\n",
    "Para responder todo esto de manera formal, lo primer oque tenemos que acordar es un **orden parcial** en la familiar de objetos que nos interesan. Esto lo que quiere decir es que debemos decidir una operación de comparación $\\leq$ que para cada par de objetos nos dice cuál de ellos es menor o igual que otro. \n",
    "\n",
    "En todo lo que hablaremos a continuación, pensaremos que la comparación de cualquiera dos elementos se puede hacer con un solo paso. Esto no necesariamente es cierto en algunas aplicaciones, pues puede que comparar sea muy difícil, sin embargo, estamos haciendo esta suposición pues de momento nos interesa ordenar pensando en que comparar parejas es sencillo. "
   ],
   "cell_type": "markdown",
   "metadata": {}
  },
  {
   "source": [
    "## ¿Por qué es útil ordenar?\n",
    "\n",
    "En muchas ocasiones, ordenar sirve com un paso previo a otros algoritmos. Por ejemplo, consideremos los siguientes problemas:\n",
    "\n",
    "- Buscar un elemento en un diccionario. \n",
    "- Encontrar dentro de una colección de objetos, los dos que estén \"más cercanos\" con respeto al orden. \n",
    "- Determinar si un elemento aparece de manera única.\n",
    "- Encontrar la frecuencia de un elemento en una lista, por ejemplo, para saber cuál elemento aparece más veces. \n",
    "- Determinar el $k$-ésimo elemento más grande de una lista de elementos. "
   ],
   "cell_type": "markdown",
   "metadata": {}
  },
  {
   "source": [
    "## Ordenar con una heurística básica y buenas estructuras de datos\n",
    "Consideremos la siguiente heurística para ordenar una colección de elementos $L$. Tomamos el elemento mínimo, y lo ponemos como primer elemento de una lista auxiliar $M$. Lo eliminamos de $L$. Repetimos esto hasta que terminemos. \n",
    "\n",
    "Si hacemos esta heurística en una esctructura que guarda a la colección simplmeente como una lista, este heurística ordena colecciones de $n$ elementos en tiempo $0(n^2)$. \n",
    "\n",
    "Sin embargo, si primero pasamos los elementos de la colección de un árbil de búsqueda binaria balanceado y luego aplicamos la heurística, para crear el árbol usamos tiempo $O(n)$ y luego para encontrar el mínimo tiempo $O(\\log n)$. Com se encuentra el mínimo en promedio $O(n)$ veces, todas estas operaciones toman en total $O(n)+O(n \\log n) = O(n\\log n)$.\n",
    "\n",
    "## Ordenar usando un algoritmo recursivo\n",
    "Otro heurística en programación consiste en dividir un problema grande en problemas pequeños. A esto se le conoce como \"divide y conquista\". \n",
    "\n",
    "Una forma de aplicar esta heurística para ordenar una colección de $n$ elementos es dividirlos en dos pequeños grupos de $\\approx n/2$ ellementos, ordenar cada uno de estos pequeños grupos por separado, y luego decidir cómo juntar estas listas ordenadas.\n",
    "\n"
   ],
   "cell_type": "markdown",
   "metadata": {}
  },
  {
   "cell_type": "code",
   "execution_count": null,
   "metadata": {},
   "outputs": [],
   "source": []
  },
  {
   "cell_type": "code",
   "execution_count": null,
   "metadata": {},
   "outputs": [],
   "source": []
  },
  {
   "cell_type": "code",
   "execution_count": null,
   "metadata": {},
   "outputs": [],
   "source": []
  },
  {
   "cell_type": "code",
   "execution_count": null,
   "metadata": {},
   "outputs": [],
   "source": []
  },
  {
   "cell_type": "code",
   "execution_count": null,
   "metadata": {},
   "outputs": [],
   "source": []
  }
 ]
}