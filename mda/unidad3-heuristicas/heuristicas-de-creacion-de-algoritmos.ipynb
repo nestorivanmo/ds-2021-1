{
 "metadata": {
  "language_info": {
   "codemirror_mode": {
    "name": "ipython",
    "version": 3
   },
   "file_extension": ".py",
   "mimetype": "text/x-python",
   "name": "python",
   "nbconvert_exporter": "python",
   "pygments_lexer": "ipython3",
   "version": "3.8.5-final"
  },
  "orig_nbformat": 2,
  "kernelspec": {
   "name": "python3",
   "display_name": "Python 3.8.5 64-bit",
   "metadata": {
    "interpreter": {
     "hash": "1ee38ef4a5a9feb55287fd749643f13d043cb0a7addaab2a9c224cbe137c0062"
    }
   }
  }
 },
 "nbformat": 4,
 "nbformat_minor": 2,
 "cells": [
  {
   "source": [
    "# Heurísticas de creación de algoritmos\n",
    "\n",
    "En general, tenemos dos tipos de problemas algorítmicos.: \n",
    "\n",
    "- **Optimización.** Queremos encontrar un mínimo o un máximo para un problema en cierto **espacio de estados**\n",
    "- **Decisión.** Queremos responder de sí/no también para un problema en cierto espacio de estados\n",
    "\n",
    "No todos los problemas de algoritmos son así, pero una cantidad muy grande de los que son intersantes sí. Por ejemplo, insertar un elemento en una lista no está intentando optimizar ni decidir nada. Pero hay algunos problemas que ya hemos vito de este estilo. El problema de buscar un elemento en un diccionario es un problema de decisión: dado un diccionario $D$ y un elemento $x$, lo que queremos responder es si $x$ está en $D$. \n",
    "\n",
    "Veamos algunos ejemplos más: \n",
    "\n",
    "- **Resolver un Sudoku.** Dadas entradas en un tablero de Sudoku, decidir si hay una solución que lo complete o no. También, decidir si esta solución es única o no. \n",
    "- **Brazo robótico que une circuitos.** Dados puntos en el plano, queremos encontrar un ciclo hamiltoniano de longitud mínima que los recorre. \n",
    "- **Decidir el número cromático de una gráfica.** Dada una gráfica $G$ queremos encontrar la mínima cantidad posible de colores necesarios para poder dar una buena coloración.\n",
    "- **Determinar el número de clique de una gráfica.** Dada una gráfica $G$ queremos encontrar la máxima cantidad posible de vértices que forman una gráfica completa. \n",
    "- **Determinar si una gráfica es bipartita o no.** Dada una gráfica $G$, ver si existe una partición de sus vértices en conjuntos $A$ y $B$ de mode que las únicas aristas vayan de $A$ a $B$. \n",
    "\n",
    "El primero y último son algoritmos de decisión, mientras que los demás son algoritmos de optimización. \n",
    "\n",
    "## Espacio de estados\n",
    "En un problema de decisión o de optimización, es muy importante que quede claro el **espacio de estados**, es decir, todas las posibles configuraciones/entradas que debemos considerar para poder resonder la pregunta. Para ello, en problemas de aplicación es muy importante decidir cómo estamos modelando el problema. \n",
    "\n",
    "Espacios de estados típicos en varios de estos problemas son: \n",
    "\n",
    "- Todas las permutaciones de $n$ elementos\n",
    "- Todos los conjuntos de $n$ elementos\n",
    "- Todas las configuraciones de $n$ puntos en el plano\n",
    "- Todas los números del $1$ al $n$\n",
    "- Para cierta $k$, todos subconjuntos de tamaño $k$ de $n$ elementos\n",
    "- Todos los vectores de $m$ elementos tomados de un conjunto de $n$ elementos\n",
    "\n",
    "**Ejemplo.** Dada una lista de $n$ números, queremos:\n",
    "\n",
    "- Decidir si hay dos de ellos cuya suma es $1000$\n",
    "- Decidir cuáles dos de ellos tienen la suma más pequeña\n",
    "\n",
    "El primer problema es un problema de decisión. El segundo es un problema  de optimización. Notemos que ambos problemas tienen como espacio de estados a los subconjuntos de $2$ elementos de un cocnjunto de $n$ elementos. \n",
    "\n",
    "Hay otros problemas que tienen espaciones de estados más complicados, o m´sa particulares al problema. Por ejemplo, consideremos los siguientes dos problemas: \n",
    "\n",
    "**Ejemplo.** \n",
    "\n",
    "- ¿Será posible colocar 15 caballos de ajedrez en un problema sin que se ataquen entre sí?\n",
    "- ¿Cuál es el máximo número de caballos de ajedrez que se pueden poner en un tablero de ajedrez sin que se ataquen entre sí?\n",
    "- ¿Será posible colocar $3$ torres, $5$ caballos y  $4$ alfiles sin que se ataquen entre sí? \n"
   ],
   "cell_type": "markdown",
   "metadata": {}
  },
  {
   "source": [
    "# Heurísticas algorítmicas\n",
    "\n",
    "Ya que tenemos un problema algortítmico de decisión o de optimización y entendemos bien cuál es el espacio de estados que debemos estudiar, lo siguiente es saber dónde en ese espacio de estados se encuentra la solución óptima o bien, la instancia que cumple lo que queremos. \n",
    "\n",
    "Hay muchas formas de resolver este tipo de problemas algorítmicos, pero en transcurso de la historia del análisis de algoritmos, estas formas se han agrupado en **heurísticas** generales que ayudan en muchas situaciones.\n",
    "\n",
    "A continuación ponemos algunas:\n",
    "\n",
    "- Explorar todo el esapcio de estados (fuerza bruta): consiste en estudiar todos los elementos del espacio de estados uno por uno para ver si son el óptimo/cumplen la propiedad que queremos.\n",
    "- Explorar el espacio de estados de manera inteligente: consiste en estudiar parcialmente el espacio de estados, descartando con suficiente anticipación las exploraciones que ya no serán exitosas. \n",
    "- Explorar el espacio de estados de manera voraz (greedy)\n",
    "- Reducir el espacio de estados con argumentos de simetría\n",
    "- Dividir el problema que queremos en problemas más pequeños que sean más sencillos de resolver. \n",
    "- Explotar una estructura recursiva de los objetos del problema para poner soluciones a instancias grandes en términos de soluciones de instancias más pequeñas\n",
    "- Programación dinámica: hacer lo anterior con mucho más cuidado para no repetir múltiples veces el cómputo para casos pequeños"
   ],
   "cell_type": "markdown",
   "metadata": {}
  },
  {
   "source": [
    "## Exploración exhaustiva\n",
    "Consiste en explorar todo el espacio de estados para buscar el valor óptimo o el testigo. Es una técnica básica, pero que a veces es la única con la que cocntamos. Usualmente es la única opción en problemas con muy poca estructura, o en probelams en donde queremos asegurarnso de pasar por todas las posibilidades. \n",
    "\n",
    "También se le conoce como \"fuerza bruta\", o como \"explorar por completo el espacio de estados\". "
   ],
   "cell_type": "markdown",
   "metadata": {}
  },
  {
   "source": [
    "### Problema 1\n",
    "¿De cuántas formas se pueden poner a $10000$ como suma de cuadrados de dos números enteros positivos? ¿En cuál de las expresiones $x^2 + y^2 = 10000$ se minimiza $3x + 5y -1$. \n",
    "\n",
    "Para el Problema 1, el espacio de estados que queremos explorar son las parejas $(x,y)$ con $x$ y $y$ en el intervalo $[1,99]$. Una exploración exhaustiva verifica todos los casos posbiles. Haremos esto en Python haciendo dos ciclos."
   ],
   "cell_type": "markdown",
   "metadata": {}
  },
  {
   "cell_type": "code",
   "execution_count": 5,
   "metadata": {},
   "outputs": [
    {
     "output_type": "stream",
     "name": "stdout",
     "text": [
      "4\n[(28, 96), (60, 80), (80, 60), (96, 28)]\n427\n(96, 28)\n"
     ]
    }
   ],
   "source": [
    "# Primero, la exporación exhaustiva para ver quienes son todas las parejas\n",
    "cuantos = 0\n",
    "cuales = []\n",
    "for x in range(1,100):\n",
    "    for y in range(1,100):\n",
    "        if x**2 + y**2 == 10000:\n",
    "            cuantos += 1\n",
    "            cuales += [(x,y)]\n",
    "print(cuantos)\n",
    "print(cuales)\n",
    "\n",
    "# Ahora, hagamos otra exploración para ver en qué pareja se minimiza 3x+5y-1\n",
    "minimo = 100000000\n",
    "for pair in cuales:\n",
    "    x = pair[0]\n",
    "    y = pair[1]\n",
    "    if 3*x + (5*y) -1:\n",
    "        minimo = 3*x + (5*y) - 1\n",
    "        optimo = (x, y)\n",
    "\n",
    "print(minimo)\n",
    "print(optimo)"
   ]
  },
  {
   "source": [
    "Pensemos que el Problema 1 se generaliza para dos números $x$ y $y$ que queremos que su cuadrado sume $n$. En este caso, el espacio de estados sería, de acuerdo a nuestra estrategia anterior, que $x$ y $y$ estén en ${1,2, \\ldots, \\lceil \\sqrt{n} \\rceil}$\n",
    "\n",
    "En el primer ciclo estamos ccorriend por $O(\\sqrt{n})$ elementos y el que está anidado también corre por $O(\\sqrt{n})$ así que estos ciclos anidados corren en tiempo $O(n)$. Con este tiempo se puede tanto determinar cuáles parejas son, como determinar cuál es el mínimo de la expresión $3x+5y-1$ sujeta a las condiciones $x^2 + y^2 =n$ y $x,y$  enteros."
   ],
   "cell_type": "markdown",
   "metadata": {}
  },
  {
   "source": [
    "### Problema 2\n",
    "\n",
    "Se tomas tres enteros $a$, $b$ y $c$ en el intervalo $[1, 100 ]$. ¿Para cuáles de ellos al valor de $a^2 + 2b^2 + 3c^2 - 2ab -5bc -7ca$ es mínimo?"
   ],
   "cell_type": "markdown",
   "metadata": {}
  },
  {
   "cell_type": "code",
   "execution_count": 9,
   "metadata": {},
   "outputs": [
    {
     "output_type": "stream",
     "name": "stdout",
     "text": [
      "-80000\n(100, 100, 100)\n"
     ]
    }
   ],
   "source": [
    "def funcion(a, b, c):\n",
    "    return (a**2 + 2*b**2 + 3*c**2-2*a*b-5*b*c-7*c*a)\n",
    "\n",
    "minimo = 10000000\n",
    "for a in range(1,101):\n",
    "    for b in range(1, 101):\n",
    "        for c in range(1, 101):\n",
    "            F = funcion(a,b,c)\n",
    "            if F < minimo:\n",
    "                minimo = F\n",
    "                optimo = (a,b,c)\n",
    "\n",
    "print(minimo)\n",
    "print(optimo)"
   ]
  },
  {
   "source": [
    "Este problema se presta mucho a una exploración exhaustiva total, pues no hay tanta simetría en las variables $x,y,z$. Si el problema fuera para números en el intervalo $[1,\\ldots,n]$ entonces el algoritmo de acá arriba ccorre en tiempo $O(n^3)$."
   ],
   "cell_type": "markdown",
   "metadata": {}
  },
  {
   "source": [
    "## Problema 3.\n",
    "¿Cuál es la palabra más larga en español que tenga únicamente cuatro vocales? \n",
    "\n",
    "Tomaremos como espacio de estados la lista en <a href=\"http://www.gwicks.net/dictionaries.html\"> este sitio </a>\n",
    "\n",
    "Vamos a hacer una exploración exhaustiva palabra por palabra para determinar cuáles tienen exactamente cuatro palabras y ver cuáles de ellas es la más grande. \n"
   ],
   "cell_type": "markdown",
   "metadata": {}
  },
  {
   "cell_type": "code",
   "execution_count": 11,
   "metadata": {},
   "outputs": [
    {
     "output_type": "stream",
     "name": "stdout",
     "text": [
      "4\n12\n9\n"
     ]
    }
   ],
   "source": [
    "vocales = 'aeiouáéíóúAEIOUÁÉÍÓÚüÜ'\n",
    "def contarvocales(palabra):\n",
    "    cuenta = 0\n",
    "    for j in palabra:\n",
    "        if j in vocales:\n",
    "            cuenta += 1\n",
    "    return cuenta\n",
    "\n",
    "print(contarvocales('Hola mundo!'))\n",
    "print(contarvocales('Esta oración tiene acentos'))\n",
    "print(contarvocales('PIngüinos y MurCIELAgos'))"
   ]
  },
  {
   "cell_type": "code",
   "execution_count": 16,
   "metadata": {
    "tags": []
   },
   "outputs": [
    {
     "output_type": "stream",
     "name": "stdout",
     "text": [
      "13\nyuxtapondrán\n\n"
     ]
    }
   ],
   "source": [
    "vocales = 'aeiouáéíóúAEIOUÁÉÍÓÚüÜ'\n",
    "lista = open('espanol.txt', 'r', encoding='ISO-8859-1')\n",
    "linea = lista.readline()\n",
    "maximo = 0\n",
    "while linea:\n",
    "    limpio = linea.split(' ')[0]\n",
    "    if contarvocales(limpio) == 4:\n",
    "        if len(linea) > maximo:\n",
    "            maximo = len(limpio)\n",
    "            mejor = limpio\n",
    "    linea = lista.readline()\n",
    "\n",
    "print(maximo)\n",
    "print(mejor)"
   ]
  },
  {
   "cell_type": "code",
   "execution_count": null,
   "metadata": {},
   "outputs": [],
   "source": []
  },
  {
   "source": [
    "**Problema 4.** ¿Existe alguna palabra en español que use exactamente cicno vocales y cinco consonantes? Si sí, ¿cuántas hay?\n",
    "\n",
    "**Problema 5.** Las letras $a,b,c,d,e,f,g$"
   ],
   "cell_type": "markdown",
   "metadata": {}
  }
 ]
}