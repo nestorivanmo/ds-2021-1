{
 "metadata": {
  "language_info": {
   "codemirror_mode": {
    "name": "ipython",
    "version": 3
   },
   "file_extension": ".py",
   "mimetype": "text/x-python",
   "name": "python",
   "nbconvert_exporter": "python",
   "pygments_lexer": "ipython3",
   "version": "3.8.5-final"
  },
  "orig_nbformat": 2,
  "kernelspec": {
   "name": "python3",
   "display_name": "Python 3"
  }
 },
 "nbformat": 4,
 "nbformat_minor": 2,
 "cells": [
  {
   "source": [
    "# Heurísticas de creación de algoritmos\n",
    "\n",
    "En general, tenemos dos tipos de problemas algorítmicos.: \n",
    "\n",
    "- **Optimización.** Queremos encontrar un mínimo o un máximo para un problema en cierto **espacio de estados**\n",
    "- **Decisión.** Queremos responder de sí/no también para un problema en cierto espacio de estados\n",
    "\n",
    "No todos los problemas de algoritmos son así, pero una cantidad muy grande de los que son intersantes sí. Por ejemplo, insertar un elemento en una lista no está intentando optimizar ni decidir nada. Pero hay algunos problemas que ya hemos vito de este estilo. El problema de buscar un elemento en un diccionario es un problema de decisión: dado un diccionario $D$ y un elemento $x$, lo que queremos responder es si $x$ está en $D$. \n",
    "\n",
    "Veamos algunos ejemplos más: \n",
    "\n",
    "- **Resolver un Sudoku.** Dadas entradas en un tablero de Sudoku, decidir si hay una solución que lo complete o no. También, decidir si esta solución es única o no. \n",
    "- **Brazo robótico que une circuitos.** Dados puntos en el plano, queremos encontrar un ciclo hamiltoniano de longitud mínima que los recorre. \n",
    "- **Decidir el número cromático de una gráfica.** Dada una gráfica $G$ queremos encontrar la mínima cantidad posible de colores necesarios para poder dar una buena coloración.\n",
    "- **Determinar el número de clique de una gráfica.** Dada una gráfica $G$ queremos encontrar la máxima cantidad posible de vértices que forman una gráfica completa. \n",
    "- **Determinar si una gráfica es bipartita o no.** Dada una gráfica $G$, ver si existe una partición de sus vértices en conjuntos $A$ y $B$ de mode que las únicas aristas vayan de $A$ a $B$. \n",
    "\n",
    "El primero y último son algoritmos de decisión, mientras que los demás son algoritmos de optimización. \n",
    "\n",
    "## Espacio de estados\n",
    "En un problema de decisión o de optimización, es muy importante que quede claro el **espacio de estados**, es decir, todas las posibles configuraciones/entradas que debemos considerar para poder resonder la pregunta. Para ello, en problemas de aplicación es muy importante decidir cómo estamos modelando el problema. \n",
    "\n",
    "Espacios de estados típicos en varios de estos problemas son: \n",
    "\n",
    "- Todas las permutaciones de $n$ elementos\n",
    "- Todos los conjuntos de $n$ elementos\n",
    "- Todas las configuraciones de $n$ puntos en el plano\n",
    "- Todas los números del $1$ al $n$\n",
    "- Para cierta $k$, todos subconjuntos de tamaño $k$ de $n$ elementos\n",
    "- Todos los vectores de $m$ elementos tomados de un conjunto de $n$ elementos\n",
    "\n",
    "**Ejemplo.** Dada una lista de $n$ números, queremos:\n",
    "\n",
    "- Decidir si hay dos de ellos cuya suma es $1000$\n",
    "- Decidir cuáles dos de ellos tienen la suma más pequeña\n",
    "\n",
    "El primer problema es un problema de decisión. El segundo es un problema  de optimización. Notemos que ambos problemas tienen como espacio de estados a los subconjuntos de $2$ elementos de un cocnjunto de $n$ elementos. \n",
    "\n",
    "Hay otros problemas que tienen espaciones de estados más complicados, o m´sa particulares al problema. Por ejemplo, consideremos los siguientes dos problemas: \n",
    "\n",
    "**Ejemplo.** \n",
    "\n",
    "- ¿Será posible colocar 15 caballos de ajedrez en un problema sin que se ataquen entre sí?\n",
    "- ¿Cuál es el máximo número de caballos de ajedrez que se pueden poner en un tablero de ajedrez sin que se ataquen entre sí?\n",
    "- ¿Será posible colocar $3$ torres, $5$ caballos y  $4$ alfiles sin que se ataquen entre sí? \n"
   ],
   "cell_type": "markdown",
   "metadata": {}
  },
  {
   "source": [
    "# Heurísticas algorítmicas\n",
    "\n",
    "Ya que tenemos un problema algortítmico de decisión o de optimización y entendemos bien cuál es el espacio de estados que debemos estudiar, lo siguiente es saber dónde en ese espacio de estados se encuentra la solución óptima o bien, la instancia que cumple lo que queremos. \n",
    "\n",
    "Hay muchas formas de resolver este tipo de problemas algorítmicos, pero en transcurso de la historia del análisis de algoritmos, estas formas se han agrupado en **heurísticas** generales que ayudan en muchas situaciones.\n",
    "\n",
    "A continuación ponemos algunas:\n",
    "\n",
    "- Explorar todo el esapcio de estados (fuerza bruta): consiste en estudiar todos los elementos del espacio de estados uno por uno para ver si son el óptimo/cumplen la propiedad que queremos.\n",
    "- Explorar el espacio de estados de manera inteligente: consiste en estudiar parcialmente el espacio de estados, descartando con suficiente anticipación las exploraciones que ya no serán exitosas. \n",
    "- Explorar el espacio de estados de manera voraz (greedy)\n",
    "- Reducir el espacio de estados con argumentos de simetría\n",
    "- Dividir el problema que queremos en problemas más pequeños que sean más sencillos de resolver. \n",
    "- Explotar una estructura recursiva de los objetos del problema para poner soluciones a instancias grandes en términos de soluciones de instancias más pequeñas\n",
    "- Programación dinámica: hacer lo anterior con mucho más cuidado para no repetir múltiples veces el cómputo para casos pequeños"
   ],
   "cell_type": "markdown",
   "metadata": {}
  },
  {
   "source": [
    "## Exploración exhaustiva\n",
    "Consiste en explorar todo el espacio de estados para buscar el valor óptimo o el testigo. Es una técnica básica, pero que a veces es la única con la que cocntamos. Usualmente es la única opción en problemas con muy poca estructura, o en probelams en donde queremos asegurarnso de pasar por todas las posibilidades. \n",
    "\n",
    "También se le conoce como \"fuerza bruta\", o como \"explorar por completo el espacio de estados\". "
   ],
   "cell_type": "markdown",
   "metadata": {}
  },
  {
   "source": [
    "### Problema 1\n",
    "¿De cuántas formas se pueden poner a $10000$ como suma de cuadrados de dos números enteros positivos? ¿En cuál de las expresiones $x^2 + y^2 = 10000$ se minimiza $3x + 5y -1$. \n",
    "\n",
    "Para el Problema 1, el espacio de estados que queremos explorar son las parejas $(x,y)$ con $x$ y $y$ en el intervalo $[1,99]$. Una exploración exhaustiva verifica todos los casos posbiles. Haremos esto en Python haciendo dos ciclos."
   ],
   "cell_type": "markdown",
   "metadata": {}
  },
  {
   "cell_type": "code",
   "execution_count": 5,
   "metadata": {},
   "outputs": [
    {
     "output_type": "stream",
     "name": "stdout",
     "text": [
      "4\n[(28, 96), (60, 80), (80, 60), (96, 28)]\n427\n(96, 28)\n"
     ]
    }
   ],
   "source": [
    "# Primero, la exporación exhaustiva para ver quienes son todas las parejas\n",
    "cuantos = 0\n",
    "cuales = []\n",
    "for x in range(1,100):\n",
    "    for y in range(1,100):\n",
    "        if x**2 + y**2 == 10000:\n",
    "            cuantos += 1\n",
    "            cuales += [(x,y)]\n",
    "print(cuantos)\n",
    "print(cuales)\n",
    "\n",
    "# Ahora, hagamos otra exploración para ver en qué pareja se minimiza 3x+5y-1\n",
    "minimo = 100000000\n",
    "for pair in cuales:\n",
    "    x = pair[0]\n",
    "    y = pair[1]\n",
    "    if 3*x + (5*y) -1:\n",
    "        minimo = 3*x + (5*y) - 1\n",
    "        optimo = (x, y)\n",
    "\n",
    "print(minimo)\n",
    "print(optimo)"
   ]
  },
  {
   "source": [
    "Pensemos que el Problema 1 se generaliza para dos números $x$ y $y$ que queremos que su cuadrado sume $n$. En este caso, el espacio de estados sería, de acuerdo a nuestra estrategia anterior, que $x$ y $y$ estén en ${1,2, \\ldots, \\lceil \\sqrt{n} \\rceil}$\n",
    "\n",
    "En el primer ciclo estamos ccorriend por $O(\\sqrt{n})$ elementos y el que está anidado también corre por $O(\\sqrt{n})$ así que estos ciclos anidados corren en tiempo $O(n)$. Con este tiempo se puede tanto determinar cuáles parejas son, como determinar cuál es el mínimo de la expresión $3x+5y-1$ sujeta a las condiciones $x^2 + y^2 =n$ y $x,y$  enteros."
   ],
   "cell_type": "markdown",
   "metadata": {}
  },
  {
   "source": [
    "### Problema 2\n",
    "\n",
    "Se tomas tres enteros $a$, $b$ y $c$ en el intervalo $[1, 100 ]$. ¿Para cuáles de ellos al valor de $a^2 + 2b^2 + 3c^2 - 2ab -5bc -7ca$ es mínimo?"
   ],
   "cell_type": "markdown",
   "metadata": {}
  },
  {
   "cell_type": "code",
   "execution_count": 9,
   "metadata": {},
   "outputs": [
    {
     "output_type": "stream",
     "name": "stdout",
     "text": [
      "-80000\n(100, 100, 100)\n"
     ]
    }
   ],
   "source": [
    "def funcion(a, b, c):\n",
    "    return (a**2 + 2*b**2 + 3*c**2-2*a*b-5*b*c-7*c*a)\n",
    "\n",
    "minimo = 10000000\n",
    "for a in range(1,101):\n",
    "    for b in range(1, 101):\n",
    "        for c in range(1, 101):\n",
    "            F = funcion(a,b,c)\n",
    "            if F < minimo:\n",
    "                minimo = F\n",
    "                optimo = (a,b,c)\n",
    "\n",
    "print(minimo)\n",
    "print(optimo)"
   ]
  },
  {
   "source": [
    "Este problema se presta mucho a una exploración exhaustiva total, pues no hay tanta simetría en las variables $x,y,z$. Si el problema fuera para números en el intervalo $[1,\\ldots,n]$ entonces el algoritmo de acá arriba ccorre en tiempo $O(n^3)$."
   ],
   "cell_type": "markdown",
   "metadata": {}
  },
  {
   "source": [
    "### Problema 3.\n",
    "¿Cuál es la palabra más larga en español que tenga únicamente cuatro vocales? \n",
    "\n",
    "Tomaremos como espacio de estados la lista en <a href=\"http://www.gwicks.net/dictionaries.html\"> este sitio </a>\n",
    "\n",
    "Vamos a hacer una exploración exhaustiva palabra por palabra para determinar cuáles tienen exactamente cuatro palabras y ver cuáles de ellas es la más grande. \n"
   ],
   "cell_type": "markdown",
   "metadata": {}
  },
  {
   "cell_type": "code",
   "execution_count": 2,
   "metadata": {},
   "outputs": [
    {
     "output_type": "stream",
     "name": "stdout",
     "text": [
      "4\n12\n9\n"
     ]
    }
   ],
   "source": [
    "vocales = 'aeiouáéíóúAEIOUÁÉÍÓÚüÜ'\n",
    "def contarvocales(palabra):\n",
    "    cuenta = 0\n",
    "    for j in palabra:\n",
    "        if j in vocales:\n",
    "            cuenta += 1\n",
    "    return cuenta\n",
    "\n",
    "print(contarvocales('Hola mundo!'))\n",
    "print(contarvocales('Esta oración tiene acentos'))\n",
    "print(contarvocales('PIngüinos y MurCIELAgos'))"
   ]
  },
  {
   "cell_type": "code",
   "execution_count": 16,
   "metadata": {
    "tags": []
   },
   "outputs": [
    {
     "output_type": "stream",
     "name": "stdout",
     "text": [
      "13\nyuxtapondrán\n\n"
     ]
    }
   ],
   "source": [
    "vocales = 'aeiouáéíóúAEIOUÁÉÍÓÚüÜ'\n",
    "lista = open('espanol.txt', 'r', encoding='ISO-8859-1')\n",
    "linea = lista.readline()\n",
    "maximo = 0\n",
    "while linea:\n",
    "    limpio = linea.split(' ')[0]\n",
    "    if contarvocales(limpio) == 4:\n",
    "        if len(linea) > maximo:\n",
    "            maximo = len(limpio)\n",
    "            mejor = limpio\n",
    "    linea = lista.readline()\n",
    "\n",
    "print(maximo)\n",
    "print(mejor)"
   ]
  },
  {
   "source": [
    "**Problema 4.** ¿Existe alguna palabra en español que use exactamente diez vocales y diez consonantes? Si sí, ¿cuántas hay?"
   ],
   "cell_type": "markdown",
   "metadata": {}
  },
  {
   "cell_type": "code",
   "execution_count": 7,
   "metadata": {},
   "outputs": [
    {
     "output_type": "stream",
     "name": "stdout",
     "text": [
      "Hay 2 palabras con 10 vocales y 20 consonantes.\ndesnacionalizaciones\nimpermeabilizaríamos\n"
     ]
    }
   ],
   "source": [
    "lista = open('espanol.txt', encoding='ISO-8859-1')\n",
    "linea = lista.readline()\n",
    "testigos = []\n",
    "vocs = 10\n",
    "consonantes = 20\n",
    "while linea:\n",
    "    limpio = linea[:-1].split(' ')[0]\n",
    "    if contarvocales(limpio) == vocs and len(limpio) == consonantes:\n",
    "        testigos.append(limpio)\n",
    "    linea = lista.readline()\n",
    "\n",
    "print(f'Hay {len(testigos)} palabras con {vocs} vocales y {consonantes} consonantes.')\n",
    "for t in testigos:\n",
    "    print(t)\n",
    "lista.close()"
   ]
  },
  {
   "source": [
    "Consideremos el siguiente problema que se parece al anterior, pero en vez de ser de decisión es de optimización:\n",
    "\n",
    "**Problema.** Encontrar el mayor entero $k$ tal que en español hay una palabra que use exactamente $k$ vocales y $k$ consonantes. \n",
    "\n",
    "Observemos que podemos resolver este problema de optimización resolviendo varias instancias del siguiente problema de decisión:\n",
    "\n",
    "**Problema.** Dado un entero $k$, determinar si en español hay una palabra que use exactamente $k$ vocales y $k$ consonantes.\n",
    " \n",
    " Aunque a veces este estrategia es lo mejor para algunos problemas, hay otros problemas en los que hay mejores formas de resolver la versión de optimización. \n"
   ],
   "cell_type": "markdown",
   "metadata": {}
  },
  {
   "source": [
    "**Problema 5.** Las letras $a,b,c,d,e,f,g, h, i, j$ representan dígitos distintos, ¿para cuántas elecciones tenemos que $\\frac{abcde}{fghij}$ es un número entero? Aquí $abcde$ y $fghij$ son los números de cinco dígitos obtenidos de concatenar los dígitos correspondientes. \n",
    "\n",
    "Aquí hay que decidir cuidadosamente el espacio de estados. Si elegimos como espacio de estados que cada letra tome cada una de las 10 posibilidades que tiene, y luego verificamos duplicados y luego procesamos, se tendrán que verificar $\\approx 10^{10}$ casos. Esto es demasiado, pues son 10 mil millones de casos. \n",
    "\n",
    "¿Queremos que sean todas las permutaciones posibles? Son $10!=3628800$. Está bien, no son tantísimas. Pero este sería un tiempo imposible para permutaciones de más números. "
   ],
   "cell_type": "markdown",
   "metadata": {}
  },
  {
   "cell_type": "code",
   "execution_count": 11,
   "metadata": {},
   "outputs": [
    {
     "output_type": "stream",
     "name": "stdout",
     "text": [
      "3628800\n"
     ]
    }
   ],
   "source": [
    "def perms(lista):\n",
    "    L = len(lista)\n",
    "    if L == 1: \n",
    "        return [lista]\n",
    "    else:\n",
    "        old = perms(lista[:-1])\n",
    "        last = lista[-1]\n",
    "        new = []\n",
    "        for k in range(L):\n",
    "            for perm in old:\n",
    "                to_add = perm[:k] + [last] + perm[k:]\n",
    "                new.append(to_add)\n",
    "        return new\n",
    "\n",
    "numeros = list(range(1, 11))\n",
    "permutaciones = perms(numeros)\n",
    "print(len(permutaciones))"
   ]
  },
  {
   "cell_type": "code",
   "execution_count": 13,
   "metadata": {},
   "outputs": [
    {
     "output_type": "stream",
     "name": "stdout",
     "text": [
      "Hay 21 soluciones\n"
     ]
    }
   ],
   "source": [
    "soluciones = []\n",
    "for pi in permutaciones:\n",
    "    first = [str(j) for j in pi[:5]]\n",
    "    last = [str(j) for j in pi[5:]]\n",
    "    a = int(''.join(first))\n",
    "    b = int(''.join(last))\n",
    "    if a % b == 0:\n",
    "        soluciones.append((a,b))\n",
    "    \n",
    "print(f'Hay {len(soluciones)} soluciones')"
   ]
  },
  {
   "source": [
    "## Exploración exhaustiva recortada\n",
    "\n",
    "Consiste en dejar de explorar posibilidades que ya no se pueden extender a posibilidades exitosas. Esto no es lo miso que reducir el espacio de estados. Tampoco quiere decir que no exploremos todas las posibilidades. Consiste en dar argumetnos para que nuestro algoritmo revise menos casos y siga dando la respuesta correcta. \n",
    "\n",
    "Retomemos uno de los problemas de la sección anterior:\n",
    "\n",
    "### Problema 1\n",
    "¿De cuántas formas se pueden poner a $10000$ como suma de cuadrados de dos números enteros positivos? ¿En cuál de las expresiones $x^2 + y^2 = 10000$ se minimiza $3x + 5y -1$. \n",
    "\n",
    "Recortemos el espacio de estados a partir de las siguientes dos observaciones:\n",
    "- Ambos $x$ y $y$ tiene que se pares\n",
    "- Si $x$ ya está dada, no tiene chiste mover $y$ por todos sus valores posibles de $1$ a $100$ pues por tamaño ya solo puede tenre pocas posibilidades.\n",
    "\n",
    "$y$ ya solo puede ser a lo mucho $\\approx{\\sqrt{10000 - x^2}}$. Esto ahorra algunos pasos- \n",
    "\n",
    "Los otros problemas "
   ],
   "cell_type": "markdown",
   "metadata": {}
  },
  {
   "cell_type": "code",
   "execution_count": 14,
   "metadata": {},
   "outputs": [
    {
     "output_type": "stream",
     "name": "stdout",
     "text": [
      "[(28, 96), (60, 80), (80, 60), (96, 28)]\n"
     ]
    }
   ],
   "source": [
    "soluciones = []\n",
    "for x in range(1, 101):\n",
    "    for y in range(1, int((10000-x**2)**(0.5)+1)):\n",
    "        if x**2 + y**2 == 10000:\n",
    "            soluciones.append((x,y))\n",
    "print(soluciones)"
   ]
  },
  {
   "source": [
    "## Problemas de exploración exhaustiva recortada\n",
    "\n",
    "Pongamos otros cuantos problemas que se pueden estudiar usando un recorte de espacio de estados. \n",
    "\n",
    "**Problema 6.** Tenemos que encontrar todas la parejas de palabras $x$ y $y$ en español que sean diferentes y que $x y$ tenga en total 9 caracteres. \n",
    "\n",
    "**Problema 7.** Queremos encontrar para cuantas parejas $x$ y $y$ de palabras en español sucede que cada una de ellas tiene por lo menos cinco letras y las últimas cinco letras de la primera son iguales a las primeras cinco letras de la última. \n",
    "\n",
    "**Problema 8.** Tenemos el sigiuente arreglo de números $$[4,1,7,4,2,6,5,7,1,8,4,9,1,4,1,5,7,2,8,3,6]$$\n",
    " Queremos determinar de cuántas formas se pueden elegir algunos de estos números de forma consecutiva de modeo que sumen $18$.\n",
    "\n",
    " **Problema 9.** Un "
   ],
   "cell_type": "markdown",
   "metadata": {}
  },
  {
   "source": [
    "**Problema 6.** Tenemos que encontrar todas la parejas de palabras $x$ y $y$ en español que sean diferentes y que $x \\quad y$ tenga en total 9 caracteres. \n",
    "\n",
    "Podemos pensar el espacio de estados como todas las parejas de palabras en español y procesar cada una de ellas. Si lo exploramos de manera directa esto toma tiempo cuadrático en la cantidad de palabras en español. Al procesar cada posibilidad seguro que cubrimos todas, pero parece que hay cierta pérdida de tiempo pues las palabras grandes las estamos considerando en muchas parejas que van a fallar, es decir, las estamos considerando de manera innecesaria (palabras grandes tienen más de 7 letras). \n",
    "\n",
    "Mejor, podemos usar tiempo lineal en descartar las palabras grandes y luego usar itempo cuadrático en una lista mucho más corta. \n"
   ],
   "cell_type": "markdown",
   "metadata": {}
  },
  {
   "cell_type": "code",
   "execution_count": 16,
   "metadata": {},
   "outputs": [
    {
     "output_type": "stream",
     "name": "stdout",
     "text": [
      "32974\n"
     ]
    }
   ],
   "source": [
    "lista = open('espanol.txt', 'r', encoding='ISO-8859-1')\n",
    "linea = lista.readline()\n",
    "cortas = []\n",
    "while linea:\n",
    "    limpio = linea[:-1].split(' ')[0]\n",
    "    if len(limpio) <= 7:\n",
    "        cortas.append(limpio)\n",
    "    linea = lista.readline()\n",
    "print(len(cortas))"
   ]
  },
  {
   "source": [
    "Ya tenemos la lista de palabras cortas. Con esta lista ahora sí podríamos hacer una exploración exhaustiva. Como hay 1024 millones de casos a verificar, esto tardaría $\\approx 1024$ en terminar. ¿Cómo podemos seguir reduciendo el espacio de estados? Agreguemos una idea de ordenar la lista de palabras por su longitud"
   ],
   "cell_type": "markdown",
   "metadata": {}
  },
  {
   "cell_type": "code",
   "execution_count": 19,
   "metadata": {},
   "outputs": [
    {
     "output_type": "stream",
     "name": "stdout",
     "text": [
      "['', '', '', 'a', 'b', 'c', 'd', 'e', 'f', 'g', 'h', 'i', 'j', 'k', 'l', 'm', 'n', 'o', 'p', 'q', 'r', 's', 't', 'u', 'v', 'w', 'x', 'y', 'z', 'ñ', 'al', 'as', 'ay', 'be', 'ce', 'ch', 'cu', 'da', 'de', 'dé', 'di', 'el', 'en', 'es', 'ex', 'fb', 'fe', 'fu', 'ha', 'he', 'ii', 'in', 'ir', 'iv', 'ja', 'je', 'la', 'le', 'lo', 'me', 'mg', 'mi', 'mí', 'ml', 'ni', 'no', 'oh', 'oí', 'os', 'pe']\n",
      "7099844\n"
     ]
    }
   ],
   "source": [
    "cortas = sorted(cortas, key=lambda x: len(x))\n",
    "print(cortas[:70])\n",
    "\n",
    "# A continuación se muestra una búsqueda recortada\n",
    "soluciones = 0\n",
    "for j in cortas:\n",
    "    for k in cortas:\n",
    "        if len(j) + len(k) == 8: #no es 9 porque necesitamos contar el espacio vacío entre las dos palabras\n",
    "            soluciones += 1\n",
    "        if len(j) + len(k) > 8:\n",
    "            break\n",
    "print(soluciones)"
   ]
  },
  {
   "source": [
    "Acá arriba recortamos la búsqueda en cuanto estuvimos seguros de que ya no habría soluciones. Esto nos dejó todavía con un algoritmo potencialmente cuadrático en $O(n^2)$ pero con un mejor factor constante que permitió correrlo en pocos segundos."
   ],
   "cell_type": "markdown",
   "metadata": {}
  },
  {
   "source": [
    "**Problema 9.** Una **matriz mágica sencilla** consiste de una matriz de $3 \\times 3$, la suma de las entradas en cada fila es un cierto número $x$ y la suma de las entradas en cada columna es es ese mismo número $x$. Las entradas deben ser los números del $1$ al $9$ sin repetir. ¿Cuántas matrices mágicas existen?\n",
    "\n",
    "Lo primero que tenemos que hacer es decidir quién será nuestro espacio de estados. Como los números no se repiten, podemos pensar en permutaciones. Esto en total nos da un espacio de estados de 9! elementos a verificar. Para hacer esto, tomamos la función auxiliar de permutaciones que hicimos arriba\n",
    "\n",
    "La permutacion $[a_1, \\ldots, a_9]$ la pensaremos como la matriz\n",
    "$$\\begin{pmatrix} a_1 & a_2 & a_3 \\\\ a_4 & a_5 & a_6 \\\\ a_7 & a_8 & a_9 \\end{pmatrix}$$"
   ],
   "cell_type": "markdown",
   "metadata": {}
  },
  {
   "cell_type": "code",
   "execution_count": 21,
   "metadata": {},
   "outputs": [
    {
     "output_type": "stream",
     "name": "stdout",
     "text": [
      "3628800\n"
     ]
    }
   ],
   "source": [
    "numeros = list(range(1,11))\n",
    "permutaciones = perms(numeros)\n",
    "print(len(permutaciones))"
   ]
  },
  {
   "source": [
    "Observación: la suma de todos los números del 1 al 9 es $45$. De este modo, la suma e ncada fila y en cada colmna debe ser igual a $15$. Esto nos permite comparar la suma de cada fila y columna no entre sí, sino entre ellas y un número constante. Esto nos permite poner la conddición de que la matriz sea mágina a ciertas sumas igualadas a 15."
   ],
   "cell_type": "markdown",
   "metadata": {}
  },
  {
   "cell_type": "code",
   "execution_count": 26,
   "metadata": {},
   "outputs": [
    {
     "output_type": "stream",
     "name": "stdout",
     "text": [
      "3628800\n"
     ]
    }
   ],
   "source": [
    "soluciones = 0\n",
    "for j in permutaciones:\n",
    "    #si pasan las sumas que queremos\n",
    "    soluciones += 1\n",
    "print(soluciones)"
   ]
  },
  {
   "source": [
    "## Recortes del espacio de estados con simetrías\n",
    "\n",
    "Es usar simetrías en el espacio de estados y el problmea planteado para reducir la exploración"
   ],
   "cell_type": "markdown",
   "metadata": {}
  }
 ]
}